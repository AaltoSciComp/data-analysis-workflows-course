{
 "cells": [
  {
   "cell_type": "markdown",
   "metadata": {},
   "source": [
    "# Models and Maps\n",
    "\n",
    "## Models\n",
    "\n",
    "Let's again consider the car dataset from second notebook.\n",
    "\n",
    "In that notebook we plotted *qsec* as a function of *hp*. However we might be interested a better model. Let's load the data."
   ]
  },
  {
   "cell_type": "code",
   "execution_count": 211,
   "metadata": {},
   "outputs": [
    {
     "name": "stdout",
     "output_type": "stream",
     "text": [
      "Classes ‘tbl_df’, ‘tbl’ and 'data.frame':\t32 obs. of  12 variables:\n",
      " $ model: chr  \"Mazda RX4\" \"Mazda RX4 Wag\" \"Datsun 710\" \"Hornet 4 Drive\" ...\n",
      " $ mpg  : num  21 21 22.8 21.4 18.7 18.1 14.3 24.4 22.8 19.2 ...\n",
      " $ cyl  : num  6 6 4 6 8 6 8 4 4 6 ...\n",
      " $ disp : num  160 160 108 258 360 ...\n",
      " $ hp   : num  110 110 93 110 175 105 245 62 95 123 ...\n",
      " $ drat : num  3.9 3.9 3.85 3.08 3.15 2.76 3.21 3.69 3.92 3.92 ...\n",
      " $ wt   : num  2.62 2.88 2.32 3.21 3.44 ...\n",
      " $ qsec : num  16.5 17 18.6 19.4 17 ...\n",
      " $ vs   : num  0 0 1 1 0 1 0 1 1 1 ...\n",
      " $ am   : num  1 1 1 0 0 0 0 0 0 0 ...\n",
      " $ gear : num  4 4 4 3 3 3 3 4 4 4 ...\n",
      " $ carb : num  4 4 1 1 2 1 4 2 2 4 ...\n"
     ]
    }
   ],
   "source": [
    "library(tidyverse)\n",
    "\n",
    "data(mtcars)\n",
    "\n",
    "mtcars_tbl <- as_tibble(rownames_to_column(mtcars,var='model'))\n",
    "\n",
    "str(mtcars_tbl)"
   ]
  },
  {
   "cell_type": "markdown",
   "metadata": {},
   "source": [
    "Now let's fit three different linear models with `lm` from `stats`-package [[lm]](https://www.rdocumentation.org/packages/stats/versions/3.4.3/topics/lm).\n",
    "\n",
    "First model will be `qsec ~ wt`, while second will be `qsec ~ hp`. Let's combine both of these effects into a third model `qsec ~ hp / wt`.\n",
    "\n",
    "`summary` will show a summary of the model."
   ]
  },
  {
   "cell_type": "code",
   "execution_count": 212,
   "metadata": {},
   "outputs": [
    {
     "data": {
      "text/plain": [
       "\n",
       "Call:\n",
       "lm(formula = qsec ~ wt, data = data)\n",
       "\n",
       "Residuals:\n",
       "    Min      1Q  Median      3Q     Max \n",
       "-3.3638 -1.0766  0.2051  0.8655  5.0298 \n",
       "\n",
       "Coefficients:\n",
       "            Estimate Std. Error t value Pr(>|t|)    \n",
       "(Intercept)  18.8753     1.1025  17.120   <2e-16 ***\n",
       "wt           -0.3191     0.3283  -0.972    0.339    \n",
       "---\n",
       "Signif. codes:  0 ‘***’ 0.001 ‘**’ 0.01 ‘*’ 0.05 ‘.’ 0.1 ‘ ’ 1\n",
       "\n",
       "Residual standard error: 1.789 on 30 degrees of freedom\n",
       "Multiple R-squared:  0.03053,\tAdjusted R-squared:  -0.00179 \n",
       "F-statistic: 0.9446 on 1 and 30 DF,  p-value: 0.3389\n"
      ]
     },
     "metadata": {},
     "output_type": "display_data"
    },
    {
     "data": {
      "text/plain": [
       "\n",
       "Call:\n",
       "lm(formula = qsec ~ hp, data = data)\n",
       "\n",
       "Residuals:\n",
       "    Min      1Q  Median      3Q     Max \n",
       "-2.1766 -0.6975  0.0348  0.6520  4.0972 \n",
       "\n",
       "Coefficients:\n",
       "             Estimate Std. Error t value Pr(>|t|)    \n",
       "(Intercept) 20.556354   0.542424  37.897  < 2e-16 ***\n",
       "hp          -0.018458   0.003359  -5.495 5.77e-06 ***\n",
       "---\n",
       "Signif. codes:  0 ‘***’ 0.001 ‘**’ 0.01 ‘*’ 0.05 ‘.’ 0.1 ‘ ’ 1\n",
       "\n",
       "Residual standard error: 1.282 on 30 degrees of freedom\n",
       "Multiple R-squared:  0.5016,\tAdjusted R-squared:  0.485 \n",
       "F-statistic: 30.19 on 1 and 30 DF,  p-value: 5.766e-06\n"
      ]
     },
     "metadata": {},
     "output_type": "display_data"
    },
    {
     "data": {
      "text/plain": [
       "\n",
       "Call:\n",
       "lm(formula = qsec ~ hp/wt, data = data)\n",
       "\n",
       "Residuals:\n",
       "    Min      1Q  Median      3Q     Max \n",
       "-1.8659 -0.4913 -0.0812  0.3969  3.9757 \n",
       "\n",
       "Coefficients:\n",
       "             Estimate Std. Error t value Pr(>|t|)    \n",
       "(Intercept) 21.387927   0.546219  39.156  < 2e-16 ***\n",
       "hp          -0.041773   0.008020  -5.208 1.42e-05 ***\n",
       "hp:wt        0.005028   0.001608   3.127    0.004 ** \n",
       "---\n",
       "Signif. codes:  0 ‘***’ 0.001 ‘**’ 0.01 ‘*’ 0.05 ‘.’ 0.1 ‘ ’ 1\n",
       "\n",
       "Residual standard error: 1.128 on 29 degrees of freedom\n",
       "Multiple R-squared:  0.6272,\tAdjusted R-squared:  0.6015 \n",
       "F-statistic:  24.4 on 2 and 29 DF,  p-value: 6.103e-07\n"
      ]
     },
     "metadata": {},
     "output_type": "display_data"
    }
   ],
   "source": [
    "lm1_model <- function(data) lm(qsec ~ wt,      data=data)\n",
    "lm2_model <- function(data) lm(qsec ~ hp,      data=data)\n",
    "lm3_model <- function(data) lm(qsec ~ hp / wt, data=data)\n",
    "\n",
    "summary(lm1_model(mtcars_tbl))\n",
    "summary(lm2_model(mtcars_tbl))\n",
    "summary(lm3_model(mtcars_tbl))"
   ]
  },
  {
   "cell_type": "markdown",
   "metadata": {},
   "source": [
    "One can add arbitrary amount of terms into these models. There's plenty of other models in R libraries one might want to use.\n",
    "\n",
    "# Nesting\n",
    "\n",
    "Let's say we want to calculate the same models for each group specified by a cylinder. \n",
    "\n",
    "This means we need to do iteration over the groups and for this to work, we should split the data into chunks that will be iterated over. \n",
    "\n",
    "To do this we can use the `nest`-function ([[nest]](http://tidyr.tidyverse.org/reference/nest.html))."
   ]
  },
  {
   "cell_type": "code",
   "execution_count": 213,
   "metadata": {},
   "outputs": [
    {
     "name": "stdout",
     "output_type": "stream",
     "text": [
      "# A tibble: 3 x 2\n",
      "  cyl   data              \n",
      "  <fct> <list>            \n",
      "1 6     <tibble [7 × 11]> \n",
      "2 4     <tibble [11 × 11]>\n",
      "3 8     <tibble [14 × 11]>\n"
     ]
    }
   ],
   "source": [
    "mtcars_nested <- mtcars_tbl %>%\n",
    "    # Convert cyl into a factor\n",
    "    mutate_at(vars(cyl),as.factor) %>%\n",
    "    # Group by cyl\n",
    "    group_by(cyl) %>%\n",
    "    # Nest the data\n",
    "    nest()\n",
    "\n",
    "print(mtcars_nested)"
   ]
  },
  {
   "cell_type": "markdown",
   "metadata": {},
   "source": [
    "This produces a `tibble` where all data is stored in a column of a type `list` and name *data*.\n",
    "\n",
    "## Maps\n",
    "\n",
    "Now that we have our list to iterate over, we can use `map` to do the iteration.\n",
    "\n",
    "`map` is provided by the purrr-package. There are variants of it based on the return value of the used function. \n",
    "\n",
    "In this case we receive the results for a model (that are a list), so we want to use the `map`-function that creates a list from the outputs [[map]](http://purrr.tidyverse.org/reference/map.html).\n",
    "\n",
    "Let's only focus on model no. 3, as that is the most interesting. "
   ]
  },
  {
   "cell_type": "code",
   "execution_count": 214,
   "metadata": {},
   "outputs": [
    {
     "data": {
      "text/plain": [
       "[[1]]\n",
       "\n",
       "Call:\n",
       "lm(formula = qsec ~ hp/wt, data = data)\n",
       "\n",
       "Residuals:\n",
       "      1       2       3       4       5       6       7 \n",
       "-0.2463 -0.5001  0.8347  0.7807 -0.8807 -0.2807  0.2923 \n",
       "\n",
       "Coefficients:\n",
       "             Estimate Std. Error t value Pr(>|t|)    \n",
       "(Intercept) 20.531267   1.855883  11.063  0.00038 ***\n",
       "hp          -0.110793   0.023113  -4.793  0.00869 ** \n",
       "hp:wt        0.029015   0.008187   3.544  0.02392 *  \n",
       "---\n",
       "Signif. codes:  0 ‘***’ 0.001 ‘**’ 0.01 ‘*’ 0.05 ‘.’ 0.1 ‘ ’ 1\n",
       "\n",
       "Residual standard error: 0.7995 on 4 degrees of freedom\n",
       "Multiple R-squared:  0.8537,\tAdjusted R-squared:  0.7806 \n",
       "F-statistic: 11.67 on 2 and 4 DF,  p-value: 0.0214\n",
       "\n",
       "\n",
       "[[2]]\n",
       "\n",
       "Call:\n",
       "lm(formula = qsec ~ hp/wt, data = data)\n",
       "\n",
       "Residuals:\n",
       "     Min       1Q   Median       3Q      Max \n",
       "-1.90046 -0.63004  0.06546  0.66804  1.98746 \n",
       "\n",
       "Coefficients:\n",
       "             Estimate Std. Error t value Pr(>|t|)    \n",
       "(Intercept) 20.686326   1.626110  12.721 1.37e-06 ***\n",
       "hp          -0.076533   0.028019  -2.732   0.0258 *  \n",
       "hp:wt        0.025052   0.008266   3.031   0.0163 *  \n",
       "---\n",
       "Signif. codes:  0 ‘***’ 0.001 ‘**’ 0.01 ‘*’ 0.05 ‘.’ 0.1 ‘ ’ 1\n",
       "\n",
       "Residual standard error: 1.263 on 8 degrees of freedom\n",
       "Multiple R-squared:  0.5493,\tAdjusted R-squared:  0.4366 \n",
       "F-statistic: 4.875 on 2 and 8 DF,  p-value: 0.04126\n",
       "\n",
       "\n",
       "[[3]]\n",
       "\n",
       "Call:\n",
       "lm(formula = qsec ~ hp/wt, data = data)\n",
       "\n",
       "Residuals:\n",
       "     Min       1Q   Median       3Q      Max \n",
       "-0.62365 -0.21268  0.00389  0.12724  0.90949 \n",
       "\n",
       "Coefficients:\n",
       "             Estimate Std. Error t value Pr(>|t|)    \n",
       "(Intercept) 20.177062   0.555160  36.345 8.24e-13 ***\n",
       "hp          -0.031991   0.003845  -8.319 4.49e-06 ***\n",
       "hp:wt        0.003927   0.000788   4.984 0.000413 ***\n",
       "---\n",
       "Signif. codes:  0 ‘***’ 0.001 ‘**’ 0.01 ‘*’ 0.05 ‘.’ 0.1 ‘ ’ 1\n",
       "\n",
       "Residual standard error: 0.4719 on 11 degrees of freedom\n",
       "Multiple R-squared:  0.8682,\tAdjusted R-squared:  0.8443 \n",
       "F-statistic: 36.25 on 2 and 11 DF,  p-value: 1.441e-05\n",
       "\n"
      ]
     },
     "metadata": {},
     "output_type": "display_data"
    }
   ],
   "source": [
    "# Map each data to model, pipe resulting fits to summary-function\n",
    "map(mtcars_nested$data,lm3_model) %>%\n",
    "    map(summary)"
   ]
  },
  {
   "cell_type": "markdown",
   "metadata": {},
   "source": [
    "A more *tidyverse*-approach to using the `map` is to use it with `mutate` to store the fits into a new columns. This makes it easy to run multiple models and store their results."
   ]
  },
  {
   "cell_type": "code",
   "execution_count": 215,
   "metadata": {},
   "outputs": [
    {
     "name": "stdout",
     "output_type": "stream",
     "text": [
      "# A tibble: 3 x 3\n",
      "  cyl   data               model3  \n",
      "  <fct> <list>             <list>  \n",
      "1 6     <tibble [7 × 11]>  <S3: lm>\n",
      "2 4     <tibble [11 × 11]> <S3: lm>\n",
      "3 8     <tibble [14 × 11]> <S3: lm>\n"
     ]
    }
   ],
   "source": [
    "mtcars_nested <- mtcars_nested %>%\n",
    "    mutate(\n",
    "        model3=map(.$data, lm3_model)\n",
    "    )\n",
    "\n",
    "# Check structure\n",
    "print(mtcars_nested)"
   ]
  },
  {
   "cell_type": "markdown",
   "metadata": {},
   "source": [
    "Package `broom` comes with nice functions `tidy` and `glance` that can be used to obtain coefficients or tests of the models in nice tibbles [[broom vignette]](https://cran.r-project.org/web/packages/broom/vignettes/broom.html)."
   ]
  },
  {
   "cell_type": "code",
   "execution_count": 216,
   "metadata": {},
   "outputs": [
    {
     "data": {
      "text/html": [
       "<table>\n",
       "<thead><tr><th scope=col>term</th><th scope=col>estimate</th><th scope=col>std.error</th><th scope=col>statistic</th><th scope=col>p.value</th></tr></thead>\n",
       "<tbody>\n",
       "\t<tr><td>(Intercept) </td><td>20.53126670 </td><td>1.855882940 </td><td>11.062803   </td><td>0.0003796612</td></tr>\n",
       "\t<tr><td>hp          </td><td>-0.11079297 </td><td>0.023113340 </td><td>-4.793464   </td><td>0.0086895335</td></tr>\n",
       "\t<tr><td>hp:wt       </td><td> 0.02901531 </td><td>0.008186876 </td><td> 3.544125   </td><td>0.0239245317</td></tr>\n",
       "</tbody>\n",
       "</table>\n"
      ],
      "text/latex": [
       "\\begin{tabular}{r|lllll}\n",
       " term & estimate & std.error & statistic & p.value\\\\\n",
       "\\hline\n",
       "\t (Intercept)  & 20.53126670  & 1.855882940  & 11.062803    & 0.0003796612\\\\\n",
       "\t hp           & -0.11079297  & 0.023113340  & -4.793464    & 0.0086895335\\\\\n",
       "\t hp:wt        &  0.02901531  & 0.008186876  &  3.544125    & 0.0239245317\\\\\n",
       "\\end{tabular}\n"
      ],
      "text/markdown": [
       "\n",
       "term | estimate | std.error | statistic | p.value | \n",
       "|---|---|---|\n",
       "| (Intercept)  | 20.53126670  | 1.855882940  | 11.062803    | 0.0003796612 | \n",
       "| hp           | -0.11079297  | 0.023113340  | -4.793464    | 0.0086895335 | \n",
       "| hp:wt        |  0.02901531  | 0.008186876  |  3.544125    | 0.0239245317 | \n",
       "\n",
       "\n"
      ],
      "text/plain": [
       "  term        estimate    std.error   statistic p.value     \n",
       "1 (Intercept) 20.53126670 1.855882940 11.062803 0.0003796612\n",
       "2 hp          -0.11079297 0.023113340 -4.793464 0.0086895335\n",
       "3 hp:wt        0.02901531 0.008186876  3.544125 0.0239245317"
      ]
     },
     "metadata": {},
     "output_type": "display_data"
    },
    {
     "data": {
      "text/html": [
       "<table>\n",
       "<thead><tr><th scope=col>r.squared</th><th scope=col>adj.r.squared</th><th scope=col>sigma</th><th scope=col>statistic</th><th scope=col>p.value</th><th scope=col>df</th><th scope=col>logLik</th><th scope=col>AIC</th><th scope=col>BIC</th><th scope=col>deviance</th><th scope=col>df.residual</th></tr></thead>\n",
       "<tbody>\n",
       "\t<tr><td>0.8537276</td><td>0.7805915</td><td>0.799514 </td><td>11.67312 </td><td>0.0213956</td><td>3        </td><td>-6.407656</td><td>20.81531 </td><td>20.59895 </td><td>2.556891 </td><td>4        </td></tr>\n",
       "</tbody>\n",
       "</table>\n"
      ],
      "text/latex": [
       "\\begin{tabular}{r|lllllllllll}\n",
       " r.squared & adj.r.squared & sigma & statistic & p.value & df & logLik & AIC & BIC & deviance & df.residual\\\\\n",
       "\\hline\n",
       "\t 0.8537276 & 0.7805915 & 0.799514  & 11.67312  & 0.0213956 & 3         & -6.407656 & 20.81531  & 20.59895  & 2.556891  & 4        \\\\\n",
       "\\end{tabular}\n"
      ],
      "text/markdown": [
       "\n",
       "r.squared | adj.r.squared | sigma | statistic | p.value | df | logLik | AIC | BIC | deviance | df.residual | \n",
       "|---|\n",
       "| 0.8537276 | 0.7805915 | 0.799514  | 11.67312  | 0.0213956 | 3         | -6.407656 | 20.81531  | 20.59895  | 2.556891  | 4         | \n",
       "\n",
       "\n"
      ],
      "text/plain": [
       "  r.squared adj.r.squared sigma    statistic p.value   df logLik    AIC     \n",
       "1 0.8537276 0.7805915     0.799514 11.67312  0.0213956 3  -6.407656 20.81531\n",
       "  BIC      deviance df.residual\n",
       "1 20.59895 2.556891 4          "
      ]
     },
     "metadata": {},
     "output_type": "display_data"
    }
   ],
   "source": [
    "library(broom)\n",
    "\n",
    "tidy(mtcars_nested$model3[[1]])\n",
    "\n",
    "glance(mtcars_nested$model3[[1]])"
   ]
  },
  {
   "cell_type": "markdown",
   "metadata": {},
   "source": [
    "Let's use `tidy` to get the model parameters."
   ]
  },
  {
   "cell_type": "code",
   "execution_count": 217,
   "metadata": {},
   "outputs": [
    {
     "name": "stdout",
     "output_type": "stream",
     "text": [
      "# A tibble: 3 x 6\n",
      "  cyl   data               model3   model1_coefs   model2_coefs   model3_coefs \n",
      "  <fct> <list>             <list>   <list>         <list>         <list>       \n",
      "1 6     <tibble [7 × 11]>  <S3: lm> <data.frame [… <data.frame [… <data.frame …\n",
      "2 4     <tibble [11 × 11]> <S3: lm> <data.frame [… <data.frame [… <data.frame …\n",
      "3 8     <tibble [14 × 11]> <S3: lm> <data.frame [… <data.frame [… <data.frame …\n"
     ]
    }
   ],
   "source": [
    "mtcars_nested <- mtcars_nested %>%\n",
    "    mutate(\n",
    "        model1_coefs=map(model3,tidy),\n",
    "        model2_coefs=map(model3,tidy),\n",
    "        model3_coefs=map(model3,tidy)\n",
    "    )\n",
    "\n",
    "print(mtcars_nested)"
   ]
  },
  {
   "cell_type": "markdown",
   "metadata": {},
   "source": [
    "Let's limit ourselves to coefficients and use `unnest` to unnest the coefficients."
   ]
  },
  {
   "cell_type": "code",
   "execution_count": 218,
   "metadata": {},
   "outputs": [
    {
     "name": "stdout",
     "output_type": "stream",
     "text": [
      "# A tibble: 9 x 6\n",
      "  cyl   term         estimate std.error statistic  p.value\n",
      "  <fct> <chr>           <dbl>     <dbl>     <dbl>    <dbl>\n",
      "1 6     (Intercept)  20.5      1.86         11.1  3.80e- 4\n",
      "2 6     hp           -0.111    0.0231       -4.79 8.69e- 3\n",
      "3 6     hp:wt         0.0290   0.00819       3.54 2.39e- 2\n",
      "4 4     (Intercept)  20.7      1.63         12.7  1.37e- 6\n",
      "5 4     hp           -0.0765   0.0280       -2.73 2.58e- 2\n",
      "6 4     hp:wt         0.0251   0.00827       3.03 1.63e- 2\n",
      "7 8     (Intercept)  20.2      0.555        36.3  8.24e-13\n",
      "8 8     hp           -0.0320   0.00385      -8.32 4.49e- 6\n",
      "9 8     hp:wt         0.00393  0.000788      4.98 4.13e- 4\n"
     ]
    }
   ],
   "source": [
    "mtcars_model3 <- mtcars_nested %>%\n",
    "    select(cyl,model3_coefs) %>%\n",
    "    unnest(model3_coefs)\n",
    "\n",
    "print(mtcars_model3)"
   ]
  },
  {
   "cell_type": "code",
   "execution_count": null,
   "metadata": {},
   "outputs": [],
   "source": []
  }
 ],
 "metadata": {
  "kernelspec": {
   "display_name": "R",
   "language": "R",
   "name": "ir"
  },
  "language_info": {
   "codemirror_mode": "r",
   "file_extension": ".r",
   "mimetype": "text/x-r-source",
   "name": "R",
   "pygments_lexer": "r",
   "version": "3.2.3"
  }
 },
 "nbformat": 4,
 "nbformat_minor": 2
}

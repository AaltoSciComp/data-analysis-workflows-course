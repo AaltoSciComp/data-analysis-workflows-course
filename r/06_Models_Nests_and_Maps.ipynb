{
 "cells": [
  {
   "cell_type": "markdown",
   "metadata": {},
   "source": [
    "# Models and Maps\n",
    "\n",
    "## Models\n",
    "\n",
    "Let's again consider the car dataset from second notebook.\n",
    "\n",
    "In that notebook we plotted *qsec* as a function of *hp*. However we might be interested a better model. Let's load the data."
   ]
  },
  {
   "cell_type": "code",
   "execution_count": 55,
   "metadata": {},
   "outputs": [
    {
     "name": "stdout",
     "output_type": "stream",
     "text": [
      "Classes ‘tbl_df’, ‘tbl’ and 'data.frame':\t32 obs. of  12 variables:\n",
      " $ model: chr  \"Mazda RX4\" \"Mazda RX4 Wag\" \"Datsun 710\" \"Hornet 4 Drive\" ...\n",
      " $ mpg  : num  21 21 22.8 21.4 18.7 18.1 14.3 24.4 22.8 19.2 ...\n",
      " $ cyl  : num  6 6 4 6 8 6 8 4 4 6 ...\n",
      " $ disp : num  160 160 108 258 360 ...\n",
      " $ hp   : num  110 110 93 110 175 105 245 62 95 123 ...\n",
      " $ drat : num  3.9 3.9 3.85 3.08 3.15 2.76 3.21 3.69 3.92 3.92 ...\n",
      " $ wt   : num  2.62 2.88 2.32 3.21 3.44 ...\n",
      " $ qsec : num  16.5 17 18.6 19.4 17 ...\n",
      " $ vs   : num  0 0 1 1 0 1 0 1 1 1 ...\n",
      " $ am   : num  1 1 1 0 0 0 0 0 0 0 ...\n",
      " $ gear : num  4 4 4 3 3 3 3 4 4 4 ...\n",
      " $ carb : num  4 4 1 1 2 1 4 2 2 4 ...\n"
     ]
    }
   ],
   "source": [
    "library(tidyverse)\n",
    "\n",
    "data(mtcars)\n",
    "\n",
    "mtcars_tbl <- as_tibble(rownames_to_column(mtcars,var='model'))\n",
    "\n",
    "str(mtcars_tbl)"
   ]
  },
  {
   "cell_type": "markdown",
   "metadata": {},
   "source": [
    "Now let's fit three different linear models with `lm` from `stats`-package [[lm]](https://www.rdocumentation.org/packages/stats/versions/3.4.3/topics/lm).\n",
    "\n",
    "First model will be `qsec ~ wt`, while second will be `qsec ~ hp`. Let's combine both of these effects into a third model `qsec ~ hp / wt`.\n",
    "\n",
    "`summary` will show a summary of the model."
   ]
  },
  {
   "cell_type": "code",
   "execution_count": 56,
   "metadata": {},
   "outputs": [
    {
     "data": {
      "text/plain": [
       "\n",
       "Call:\n",
       "lm(formula = qsec ~ wt, data = data)\n",
       "\n",
       "Residuals:\n",
       "    Min      1Q  Median      3Q     Max \n",
       "-3.3638 -1.0766  0.2051  0.8655  5.0298 \n",
       "\n",
       "Coefficients:\n",
       "            Estimate Std. Error t value Pr(>|t|)    \n",
       "(Intercept)  18.8753     1.1025  17.120   <2e-16 ***\n",
       "wt           -0.3191     0.3283  -0.972    0.339    \n",
       "---\n",
       "Signif. codes:  0 ‘***’ 0.001 ‘**’ 0.01 ‘*’ 0.05 ‘.’ 0.1 ‘ ’ 1\n",
       "\n",
       "Residual standard error: 1.789 on 30 degrees of freedom\n",
       "Multiple R-squared:  0.03053,\tAdjusted R-squared:  -0.00179 \n",
       "F-statistic: 0.9446 on 1 and 30 DF,  p-value: 0.3389\n"
      ]
     },
     "metadata": {},
     "output_type": "display_data"
    },
    {
     "data": {
      "text/plain": [
       "\n",
       "Call:\n",
       "lm(formula = qsec ~ hp, data = data)\n",
       "\n",
       "Residuals:\n",
       "    Min      1Q  Median      3Q     Max \n",
       "-2.1766 -0.6975  0.0348  0.6520  4.0972 \n",
       "\n",
       "Coefficients:\n",
       "             Estimate Std. Error t value Pr(>|t|)    \n",
       "(Intercept) 20.556354   0.542424  37.897  < 2e-16 ***\n",
       "hp          -0.018458   0.003359  -5.495 5.77e-06 ***\n",
       "---\n",
       "Signif. codes:  0 ‘***’ 0.001 ‘**’ 0.01 ‘*’ 0.05 ‘.’ 0.1 ‘ ’ 1\n",
       "\n",
       "Residual standard error: 1.282 on 30 degrees of freedom\n",
       "Multiple R-squared:  0.5016,\tAdjusted R-squared:  0.485 \n",
       "F-statistic: 30.19 on 1 and 30 DF,  p-value: 5.766e-06\n"
      ]
     },
     "metadata": {},
     "output_type": "display_data"
    },
    {
     "data": {
      "text/plain": [
       "\n",
       "Call:\n",
       "lm(formula = qsec ~ hp/wt, data = data)\n",
       "\n",
       "Residuals:\n",
       "    Min      1Q  Median      3Q     Max \n",
       "-1.8659 -0.4913 -0.0812  0.3969  3.9757 \n",
       "\n",
       "Coefficients:\n",
       "             Estimate Std. Error t value Pr(>|t|)    \n",
       "(Intercept) 21.387927   0.546219  39.156  < 2e-16 ***\n",
       "hp          -0.041773   0.008020  -5.208 1.42e-05 ***\n",
       "hp:wt        0.005028   0.001608   3.127    0.004 ** \n",
       "---\n",
       "Signif. codes:  0 ‘***’ 0.001 ‘**’ 0.01 ‘*’ 0.05 ‘.’ 0.1 ‘ ’ 1\n",
       "\n",
       "Residual standard error: 1.128 on 29 degrees of freedom\n",
       "Multiple R-squared:  0.6272,\tAdjusted R-squared:  0.6015 \n",
       "F-statistic:  24.4 on 2 and 29 DF,  p-value: 6.103e-07\n"
      ]
     },
     "metadata": {},
     "output_type": "display_data"
    }
   ],
   "source": [
    "lm1_model <- function(data) lm(qsec ~ wt,      data=data)\n",
    "lm2_model <- function(data) lm(qsec ~ hp,      data=data)\n",
    "lm3_model <- function(data) lm(qsec ~ hp / wt, data=data)\n",
    "\n",
    "summary(lm1_model(mtcars_tbl))\n",
    "summary(lm2_model(mtcars_tbl))\n",
    "summary(lm3_model(mtcars_tbl))"
   ]
  },
  {
   "cell_type": "markdown",
   "metadata": {},
   "source": [
    "One can add arbitrary amount of terms into these models. There's plenty of other models in R libraries one might want to use.\n",
    "\n",
    "# Nesting\n",
    "\n",
    "Let's say we want to calculate the same models for each group specified by a cylinder. \n",
    "\n",
    "This means we need to do iteration over the groups and for this to work, we should split the data into chunks that will be iterated over. \n",
    "\n",
    "To do this we can use the `nest`-function ([[nest]](http://tidyr.tidyverse.org/reference/nest.html))."
   ]
  },
  {
   "cell_type": "code",
   "execution_count": 57,
   "metadata": {},
   "outputs": [
    {
     "name": "stdout",
     "output_type": "stream",
     "text": [
      "# A tibble: 3 x 2\n",
      "  cyl   data              \n",
      "  <fct> <list>            \n",
      "1 6     <tibble [7 × 11]> \n",
      "2 4     <tibble [11 × 11]>\n",
      "3 8     <tibble [14 × 11]>\n"
     ]
    }
   ],
   "source": [
    "mtcars_nested <- mtcars_tbl %>%\n",
    "    # Convert cyl into a factor\n",
    "    mutate_at(vars(cyl),as.factor) %>%\n",
    "    # Group by cyl\n",
    "    group_by(cyl) %>%\n",
    "    # Nest the data\n",
    "    nest()\n",
    "\n",
    "print(mtcars_nested)"
   ]
  },
  {
   "cell_type": "markdown",
   "metadata": {},
   "source": [
    "This produces a `tibble` where all data is stored in a column of a type `list` and name *data*.\n",
    "\n",
    "## Maps\n",
    "\n",
    "Now that we have our list to iterate over, we can use `map` to do the iteration.\n",
    "\n",
    "`map` is provided by the purrr-package. There are variants of it based on the return value of the used function. \n",
    "\n",
    "In this case we receive the results for a model (that are a list), so we want to use the `map`-function that creates a list from the outputs [[map]](http://purrr.tidyverse.org/reference/map.html)."
   ]
  },
  {
   "cell_type": "code",
   "execution_count": 58,
   "metadata": {},
   "outputs": [
    {
     "data": {
      "text/plain": [
       "[[1]]\n",
       "\n",
       "Call:\n",
       "lm(formula = qsec ~ hp/wt, data = data)\n",
       "\n",
       "Residuals:\n",
       "      1       2       3       4       5       6       7 \n",
       "-0.2463 -0.5001  0.8347  0.7807 -0.8807 -0.2807  0.2923 \n",
       "\n",
       "Coefficients:\n",
       "             Estimate Std. Error t value Pr(>|t|)    \n",
       "(Intercept) 20.531267   1.855883  11.063  0.00038 ***\n",
       "hp          -0.110793   0.023113  -4.793  0.00869 ** \n",
       "hp:wt        0.029015   0.008187   3.544  0.02392 *  \n",
       "---\n",
       "Signif. codes:  0 ‘***’ 0.001 ‘**’ 0.01 ‘*’ 0.05 ‘.’ 0.1 ‘ ’ 1\n",
       "\n",
       "Residual standard error: 0.7995 on 4 degrees of freedom\n",
       "Multiple R-squared:  0.8537,\tAdjusted R-squared:  0.7806 \n",
       "F-statistic: 11.67 on 2 and 4 DF,  p-value: 0.0214\n",
       "\n",
       "\n",
       "[[2]]\n",
       "\n",
       "Call:\n",
       "lm(formula = qsec ~ hp/wt, data = data)\n",
       "\n",
       "Residuals:\n",
       "     Min       1Q   Median       3Q      Max \n",
       "-1.90046 -0.63004  0.06546  0.66804  1.98746 \n",
       "\n",
       "Coefficients:\n",
       "             Estimate Std. Error t value Pr(>|t|)    \n",
       "(Intercept) 20.686326   1.626110  12.721 1.37e-06 ***\n",
       "hp          -0.076533   0.028019  -2.732   0.0258 *  \n",
       "hp:wt        0.025052   0.008266   3.031   0.0163 *  \n",
       "---\n",
       "Signif. codes:  0 ‘***’ 0.001 ‘**’ 0.01 ‘*’ 0.05 ‘.’ 0.1 ‘ ’ 1\n",
       "\n",
       "Residual standard error: 1.263 on 8 degrees of freedom\n",
       "Multiple R-squared:  0.5493,\tAdjusted R-squared:  0.4366 \n",
       "F-statistic: 4.875 on 2 and 8 DF,  p-value: 0.04126\n",
       "\n",
       "\n",
       "[[3]]\n",
       "\n",
       "Call:\n",
       "lm(formula = qsec ~ hp/wt, data = data)\n",
       "\n",
       "Residuals:\n",
       "     Min       1Q   Median       3Q      Max \n",
       "-0.62365 -0.21268  0.00389  0.12724  0.90949 \n",
       "\n",
       "Coefficients:\n",
       "             Estimate Std. Error t value Pr(>|t|)    \n",
       "(Intercept) 20.177062   0.555160  36.345 8.24e-13 ***\n",
       "hp          -0.031991   0.003845  -8.319 4.49e-06 ***\n",
       "hp:wt        0.003927   0.000788   4.984 0.000413 ***\n",
       "---\n",
       "Signif. codes:  0 ‘***’ 0.001 ‘**’ 0.01 ‘*’ 0.05 ‘.’ 0.1 ‘ ’ 1\n",
       "\n",
       "Residual standard error: 0.4719 on 11 degrees of freedom\n",
       "Multiple R-squared:  0.8682,\tAdjusted R-squared:  0.8443 \n",
       "F-statistic: 36.25 on 2 and 11 DF,  p-value: 1.441e-05\n",
       "\n"
      ]
     },
     "metadata": {},
     "output_type": "display_data"
    }
   ],
   "source": [
    "# Map each data to model, pipe resulting fits to summary-function\n",
    "map(mtcars_nested$data,lm3_model) %>%\n",
    "    map(summary)"
   ]
  },
  {
   "cell_type": "markdown",
   "metadata": {},
   "source": [
    "A more *tidyverse*-approach to using the `map` is to use it with `mutate` to store the fits into a new columns. This makes it easy to run multiple models and store their results."
   ]
  },
  {
   "cell_type": "code",
   "execution_count": 70,
   "metadata": {},
   "outputs": [
    {
     "name": "stdout",
     "output_type": "stream",
     "text": [
      "# A tibble: 3 x 3\n",
      "  cyl   data               models    \n",
      "  <fct> <list>             <list>    \n",
      "1 6     <tibble [7 × 11]>  <list [3]>\n",
      "2 4     <tibble [11 × 11]> <list [3]>\n",
      "3 8     <tibble [14 × 11]> <list [3]>\n"
     ]
    },
    {
     "data": {
      "text/plain": [
       "[[1]]\n",
       "\n",
       "Call:\n",
       "lm(formula = qsec ~ wt, data = data)\n",
       "\n",
       "Residuals:\n",
       "       1        2        3        4        5        6        7 \n",
       " 0.54495  0.04724  1.05696  0.82073 -1.01632 -0.41632 -1.03723 \n",
       "\n",
       "Coefficients:\n",
       "            Estimate Std. Error t value Pr(>|t|)  \n",
       "(Intercept)    5.048      3.358   1.503   0.1931  \n",
       "wt             4.148      1.071   3.872   0.0117 *\n",
       "---\n",
       "Signif. codes:  0 ‘***’ 0.001 ‘**’ 0.01 ‘*’ 0.05 ‘.’ 0.1 ‘ ’ 1\n",
       "\n",
       "Residual standard error: 0.9351 on 5 degrees of freedom\n",
       "Multiple R-squared:  0.7499,\tAdjusted R-squared:  0.6999 \n",
       "F-statistic: 14.99 on 1 and 5 DF,  p-value: 0.01174\n",
       "\n",
       "\n",
       "[[2]]\n",
       "\n",
       "Call:\n",
       "lm(formula = qsec ~ hp, data = data)\n",
       "\n",
       "Residuals:\n",
       "      1       2       3       4       5       6       7 \n",
       "-2.0600 -1.5000  0.9200  1.4791  0.3544  0.9544 -0.1480 \n",
       "\n",
       "Coefficients:\n",
       "            Estimate Std. Error t value Pr(>|t|)    \n",
       "(Intercept) 23.38027    3.04430   7.680 0.000597 ***\n",
       "hp          -0.04418    0.02449  -1.805 0.130992    \n",
       "---\n",
       "Signif. codes:  0 ‘***’ 0.001 ‘**’ 0.01 ‘*’ 0.05 ‘.’ 0.1 ‘ ’ 1\n",
       "\n",
       "Residual standard error: 1.455 on 5 degrees of freedom\n",
       "Multiple R-squared:  0.3944,\tAdjusted R-squared:  0.2733 \n",
       "F-statistic: 3.256 on 1 and 5 DF,  p-value: 0.131\n",
       "\n",
       "\n",
       "[[3]]\n",
       "\n",
       "Call:\n",
       "lm(formula = qsec ~ hp/wt, data = data)\n",
       "\n",
       "Residuals:\n",
       "      1       2       3       4       5       6       7 \n",
       "-0.2463 -0.5001  0.8347  0.7807 -0.8807 -0.2807  0.2923 \n",
       "\n",
       "Coefficients:\n",
       "             Estimate Std. Error t value Pr(>|t|)    \n",
       "(Intercept) 20.531267   1.855883  11.063  0.00038 ***\n",
       "hp          -0.110793   0.023113  -4.793  0.00869 ** \n",
       "hp:wt        0.029015   0.008187   3.544  0.02392 *  \n",
       "---\n",
       "Signif. codes:  0 ‘***’ 0.001 ‘**’ 0.01 ‘*’ 0.05 ‘.’ 0.1 ‘ ’ 1\n",
       "\n",
       "Residual standard error: 0.7995 on 4 degrees of freedom\n",
       "Multiple R-squared:  0.8537,\tAdjusted R-squared:  0.7806 \n",
       "F-statistic: 11.67 on 2 and 4 DF,  p-value: 0.0214\n",
       "\n"
      ]
     },
     "metadata": {},
     "output_type": "display_data"
    }
   ],
   "source": [
    "run_models <- function(data) {\n",
    "    output <- list(lm1_model(data),lm2_model(data),lm3_model(data))\n",
    "}\n",
    "\n",
    "mtcars_nested <- mtcars_nested %>%\n",
    "    mutate(\n",
    "        models=map(.$data, run_models)\n",
    "    )\n",
    "\n",
    "# Check structure\n",
    "print(mtcars_nested)\n",
    "\n",
    "# Check output\n",
    "map(mtcars_nested$models[[1]],summary)"
   ]
  },
  {
   "cell_type": "markdown",
   "metadata": {},
   "source": [
    "One can use `mutate` and `map` with e.g. `coefficients` or `residuals` to extract properties from the models [[coefficients]](https://stat.ethz.ch/R-manual/R-devel/library/stats/html/coef.html) [[residuals]](https://stat.ethz.ch/R-manual/R-devel/library/stats/html/residuals.html)."
   ]
  },
  {
   "cell_type": "code",
   "execution_count": 73,
   "metadata": {},
   "outputs": [
    {
     "name": "stdout",
     "output_type": "stream",
     "text": [
      "# A tibble: 3 x 4\n",
      "  cyl   data               models     coefficients\n",
      "  <fct> <list>             <list>     <list>      \n",
      "1 6     <tibble [7 × 11]>  <list [3]> <dbl [3]>   \n",
      "2 4     <tibble [11 × 11]> <list [3]> <dbl [3]>   \n",
      "3 8     <tibble [14 × 11]> <list [3]> <dbl [3]>   \n"
     ]
    },
    {
     "ename": "ERROR",
     "evalue": "Error: All nested columns must have the same number of elements.\n",
     "output_type": "error",
     "traceback": [
      "Error: All nested columns must have the same number of elements.\nTraceback:\n",
      "1. mtcars_nested %>% unnest()",
      "2. withVisible(eval(quote(`_fseq`(`_lhs`)), env, env))",
      "3. eval(quote(`_fseq`(`_lhs`)), env, env)",
      "4. eval(expr, envir, enclos)",
      "5. `_fseq`(`_lhs`)",
      "6. freduce(value, `_function_list`)",
      "7. withVisible(function_list[[k]](value))",
      "8. function_list[[k]](value)",
      "9. unnest(.)",
      "10. unnest.data.frame(.)",
      "11. abort(\"All nested columns must have the same number of elements.\")"
     ]
    }
   ],
   "source": [
    "get_coefficients <- function(models) {\n",
    "    output <- map_dbl(models,~coefficients(.)[[1]])\n",
    "}\n",
    "\n",
    "mtcars_nested <- mtcars_nested %>%\n",
    "    mutate(\n",
    "        coefficients=map(models,get_coefficients)\n",
    "    )\n",
    "\n",
    "print(mtcars_nested)"
   ]
  },
  {
   "cell_type": "code",
   "execution_count": 50,
   "metadata": {},
   "outputs": [
    {
     "data": {},
     "metadata": {},
     "output_type": "display_data"
    },
    {
     "name": "stdout",
     "output_type": "stream",
     "text": [
      "# A tibble: 3 x 8\n",
      "  cyl   data       lm1_fit  lm2_fit lm3_fit lm1_1st_coeffici… lm2_1st_coeffici…\n",
      "  <fct> <list>     <list>   <list>  <list>              <dbl>             <dbl>\n",
      "1 6     <tibble [… <S3: lm> <S3: l… <S3: l…              5.05              23.4\n",
      "2 4     <tibble [… <S3: lm> <S3: l… <S3: l…             14.8               20.3\n",
      "3 8     <tibble [… <S3: lm> <S3: l… <S3: l…             13.4               20.5\n",
      "# ... with 1 more variable: lm3_1st_coefficient <dbl>\n"
     ]
    },
    {
     "data": {
      "image/png": "[encoded data removed]",
      "text/plain": [
       "plot without title"
      ]
     },
     "metadata": {},
     "output_type": "display_data"
    }
   ],
   "source": [
    "mtcars_nested %>%\n",
    "    ggplot(aes(x=cyl,y=),position='dodge')\n",
    "\n",
    "print(mtcars_nested)"
   ]
  },
  {
   "cell_type": "markdown",
   "metadata": {},
   "source": [
    "A "
   ]
  },
  {
   "cell_type": "code",
   "execution_count": 50,
   "metadata": {},
   "outputs": [
    {
     "data": {},
     "metadata": {},
     "output_type": "display_data"
    },
    {
     "name": "stdout",
     "output_type": "stream",
     "text": [
      "# A tibble: 3 x 8\n",
      "  cyl   data       lm1_fit  lm2_fit lm3_fit lm1_1st_coeffici… lm2_1st_coeffici…\n",
      "  <fct> <list>     <list>   <list>  <list>              <dbl>             <dbl>\n",
      "1 6     <tibble [… <S3: lm> <S3: l… <S3: l…              5.05              23.4\n",
      "2 4     <tibble [… <S3: lm> <S3: l… <S3: l…             14.8               20.3\n",
      "3 8     <tibble [… <S3: lm> <S3: l… <S3: l…             13.4               20.5\n",
      "# ... with 1 more variable: lm3_1st_coefficient <dbl>\n"
     ]
    },
    {
     "data": {
      "image/png": "[encoded data removed]",
      "text/plain": [
       "plot without title"
      ]
     },
     "metadata": {},
     "output_type": "display_data"
    }
   ],
   "source": [
    "mtcars_nested %>%\n",
    "    ggplot(aes(x=cyl,y=),position='dodge')\n",
    "\n",
    "print(mtcars_nested)"
   ]
  },
  {
   "cell_type": "code",
   "execution_count": 50,
   "metadata": {},
   "outputs": [
    {
     "data": {},
     "metadata": {},
     "output_type": "display_data"
    },
    {
     "name": "stdout",
     "output_type": "stream",
     "text": [
      "# A tibble: 3 x 8\n",
      "  cyl   data       lm1_fit  lm2_fit lm3_fit lm1_1st_coeffici… lm2_1st_coeffici…\n",
      "  <fct> <list>     <list>   <list>  <list>              <dbl>             <dbl>\n",
      "1 6     <tibble [… <S3: lm> <S3: l… <S3: l…              5.05              23.4\n",
      "2 4     <tibble [… <S3: lm> <S3: l… <S3: l…             14.8               20.3\n",
      "3 8     <tibble [… <S3: lm> <S3: l… <S3: l…             13.4               20.5\n",
      "# ... with 1 more variable: lm3_1st_coefficient <dbl>\n"
     ]
    },
    {
     "data": {
      "image/png": "[encoded data removed]",
      "text/plain": [
       "plot without title"
      ]
     },
     "metadata": {},
     "output_type": "display_data"
    }
   ],
   "source": [
    "mtcars_nested %>%\n",
    "    ggplot(aes(x=cyl,y=),position='dodge')\n",
    "\n",
    "print(mtcars_nested)"
   ]
  }
 ],
 "metadata": {
  "kernelspec": {
   "display_name": "R",
   "language": "R",
   "name": "ir"
  },
  "language_info": {
   "codemirror_mode": "r",
   "file_extension": ".r",
   "mimetype": "text/x-r-source",
   "name": "R",
   "pygments_lexer": "r",
   "version": "3.2.3"
  }
 },
 "nbformat": 4,
 "nbformat_minor": 2
}

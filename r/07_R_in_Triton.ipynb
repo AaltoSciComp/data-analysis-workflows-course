{
 "cells": [
  {
   "cell_type": "markdown",
   "metadata": {},
   "source": [
    "# R in Triton\n",
    "\n",
    "## Running R in interactive session\n",
    "\n",
    "R is installed as a module in Triton. This means that you need to load it with\n",
    "\n",
    "```sh\n",
    "module load r\n",
    "```\n",
    "\n",
    "before running `R`. The base `r`-module does not contain e.g. `tidyverse`-packages. To load the environment used in this course use\n",
    "\n",
    "```sh\n",
    "module load r-triton\n",
    "```\n",
    "\n",
    "It contains some of the most popular packages.\n",
    "\n",
    "After loading the environment you can start the R-interpreter with\n",
    "\n",
    "```sh\n",
    "R\n",
    "```"
   ]
  },
  {
   "cell_type": "markdown",
   "metadata": {},
   "source": [
    "\n",
    "## Installing packages in Triton\n",
    "\n",
    "By default R tries to install libraries into system paths and after that fails it uses your home-folder. This is of course problematic as the quota in your home-folder is quite low. To counteract this you need to specify your own library path.\n",
    "\n",
    "You can do it by creating a folder in your work folder with\n",
    "\n",
    "```sh\n",
    "mkdir /scratch/work/tuomiss1/Rlibs\n",
    "```\n",
    "\n",
    "and adding the following lines to two configuration files in your home folder `~/`\n",
    "\n",
    "`~/.Renviron`:\n",
    "```sh\n",
    "R_LIBS_USER=/scratch/work/tuomiss1/Rlibs/%V\n",
    "```\n",
    "\n",
    "`~/.Rprofile`:\n",
    "```sh\n",
    ".libPaths(c(Sys.getenv(\"R_LIBS_USER\"), .libPaths()))\n",
    "```"
   ]
  },
  {
   "cell_type": "markdown",
   "metadata": {},
   "source": [
    "## Running R in a Slurm job\n",
    "\n",
    "Running R through Slurm is quite easy. One simply needs to write a wrapper script like `R_submit.slrm`\n",
    "\n",
    "```sh\n",
    "#!/bin/bash\n",
    "#SBATCH -p short\n",
    "#SBATCH -t 00:05:00\n",
    "#SBATCH -n 1\n",
    "#SBATCH --mem=100\n",
    "#SBATCH -o script.R\n",
    "module load r-triton\n",
    "srun Rscript --vanilla script.R\n",
    "```\n",
    "\n",
    "and submit it with `sbatch R_submit.slrm`.\n",
    "\n",
    "`Rscript` is a wrapper to `R CMD BATCH` that makes running R scripts easier as it pipes output to stdout.\n",
    "\n",
    "To minimize loading time it does not load some base packages. One can give a list of additional packages to load with `--default-packages=list`."
   ]
  },
  {
   "cell_type": "markdown",
   "metadata": {},
   "source": [
    "# Parallel runs with Triton\n",
    "\n",
    "## Big datasets that take long to analyze\n",
    "\n",
    "Check out [this listing](https://cran.r-project.org/web/views/HighPerformanceComputing.html) of various packages that can be used to run R programs with multiple cores.\n",
    "\n",
    "Some you should probably look up are probably:\n",
    "\n",
    "1. `parallel` - parallel apply-functions.\n",
    "2. `multidplyr` - Tidyverse-style mapping functions.\n",
    "3. `data.table` - It has it's own mapping-style functions with OpenMP parallelism"
   ]
  },
  {
   "cell_type": "markdown",
   "metadata": {},
   "source": [
    "## Lots of independent datasets\n",
    "\n",
    "If your problem is that you have lots of data that you need to run through some analysis program then the recommended way of going through this is to:\n",
    "\n",
    "1. Pre-prosess the data as close to the actual data (interactively/with Slurm job)\n",
    "2. Store data in good sized chunks as .Rds or .feather file\n",
    "3. Create a Slurm array job that goes through the data based on `SLURM_ARRAY_TASK_ID`\n",
    "4. Use `Sys.getenv(\"SLURM_ARRAY_TASK_ID\")` to get the task ID during program runtime\n",
    "5. Let each worker analyze part of the data and write output as .Rds or .feather\n",
    "6. Post-process the data (interactively/with Slurm job)\n",
    "\n",
    "Example `R_submit_array.slrm` would be something like\n",
    "\n",
    "```sh\n",
    "#!/bin/bash\n",
    "#SBATCH -p short\n",
    "#SBATCH -t 00:05:00\n",
    "#SBATCH -n 1\n",
    "#SBATCH --mem=100\n",
    "#SBATCH -o script.R\n",
    "#SBATCH --array=1-5\n",
    "module load r-triton\n",
    "srun Rscript --vanilla script.R\n",
    "```\n",
    "\n",
    "One can use `slice` to separate a dataset into chunks [[ntile]](http://dplyr.tidyverse.org/reference/slice.html)."
   ]
  },
  {
   "cell_type": "markdown",
   "metadata": {},
   "source": [
    "# Exercise time:\n",
    "\n",
    "Do the previous exercise described below as a Slurm array job described above. Split the data into two groups. Remember that .feather does not allow for nested objects, so unnest before saving if you're using it.\n",
    "\n",
    "Do this exercise to `storms`-dataset initialized below that is a subset of NOAA Atlantic hurricane database [[storms]](http://dplyr.tidyverse.org/reference/storms.html).\n",
    "\n",
    "1. Group the dataset based on `name`. Nest the data.\n",
    "2. Use map to calculate the minimum pressure, maximum wind speed and maximum category for each storm. Store these to the object. Unwind them into variables.\n",
    "3. Plot a scatterplot with x-axis showing minimum pressure, y-axis showing maximum wind speed and colour showing maximum category."
   ]
  },
  {
   "cell_type": "code",
   "execution_count": 18,
   "metadata": {},
   "outputs": [
    {
     "name": "stdout",
     "output_type": "stream",
     "text": [
      "Classes ‘tbl_df’, ‘tbl’ and 'data.frame':\t10010 obs. of  13 variables:\n",
      " $ name       : chr  \"Amy\" \"Amy\" \"Amy\" \"Amy\" ...\n",
      " $ year       : num  1975 1975 1975 1975 1975 ...\n",
      " $ month      : num  6 6 6 6 6 6 6 6 6 6 ...\n",
      " $ day        : int  27 27 27 27 28 28 28 28 29 29 ...\n",
      " $ hour       : num  0 6 12 18 0 6 12 18 0 6 ...\n",
      " $ lat        : num  27.5 28.5 29.5 30.5 31.5 32.4 33.3 34 34.4 34 ...\n",
      " $ long       : num  -79 -79 -79 -79 -78.8 -78.7 -78 -77 -75.8 -74.8 ...\n",
      " $ status     : chr  \"tropical depression\" \"tropical depression\" \"tropical depression\" \"tropical depression\" ...\n",
      " $ category   : Ord.factor w/ 7 levels \"-1\"<\"0\"<\"1\"<\"2\"<..: 1 1 1 1 1 1 1 1 2 2 ...\n",
      " $ wind       : int  25 25 25 25 25 25 25 30 35 40 ...\n",
      " $ pressure   : int  1013 1013 1013 1013 1012 1012 1011 1006 1004 1002 ...\n",
      " $ ts_diameter: num  NA NA NA NA NA NA NA NA NA NA ...\n",
      " $ hu_diameter: num  NA NA NA NA NA NA NA NA NA NA ...\n"
     ]
    },
    {
     "data": {
      "text/html": [
       "<table>\n",
       "<thead><tr><th scope=col>name</th><th scope=col>data</th></tr></thead>\n",
       "<tbody>\n",
       "\t<tr><td>AL011993                                                                                                                                                                                                                                                                                                                                                                                                                                                                                                                                                                                                                                                                                                                                                                                                                                                                                                                                                                                                                                                                                                                                                                                                                                                                                                                                                                                                                                                                                                                                                                                                                                                                                                                                                                                                                                                                                                                                                                                                                                                                                      </td><td>1993               , 1993               , 1993               , 1993               , 1993               , 1993               , 1993               , 1993               , 5                  , 5                  , 6                  , 6                  , 6                  , 6                  , 6                  , 6                  , 31                 , 31                 , 1                  , 1                  , 1                  , 1                  , 2                  , 2                  , 12                 , 18                 , 0                  , 6                  , 12                 , 18                 , 0                  , 6                  , 21.5               , 22.3               , 23.2               , 24.5               , 25.4               , 26.1               , 26.7               , 27.8               , -84                , -82                , -80.3              , -79                , -77.5              , -75.8              , -74                , -71.8              , tropical depression, tropical depression, tropical depression, tropical depression, tropical depression, tropical depression, tropical depression, tropical depression, 1                  , 1                  , 1                  , 1                  , 1                  , 1                  , 1                  , 1                  , 25                 , 25                 , 25                 , 25                 , 30                 , 30                 , 30                 , 30                 , 1003               , 1002               , 1000               , 1000               , 999                , 999                , 999                , 999                , NA                 , NA                 , NA                 , NA                 , NA                 , NA                 , NA                 , NA                 , NA                 , NA                 , NA                 , NA                 , NA                 , NA                 , NA                 , NA                 </td></tr>\n",
       "\t<tr><td>AL012000                                                                                                                                                                                                                                                                                                                                                                                                                                                                                                                                                                                                                                                                                                                                                                                                                                                                                                                                                                                                                                      </td><td>2000               , 2000               , 2000               , 2000               , 6                  , 6                  , 6                  , 6                  , 7                  , 8                  , 8                  , 8                  , 18                 , 0                  , 6                  , 12                 , 21                 , 20.9               , 20.7               , 20.8               , -93                , -92.8              , -93.1              , -93.5              , tropical depression, tropical depression, tropical depression, tropical depression, 1                  , 1                  , 1                  , 1                  , 25                 , 25                 , 25                 , 25                 , 1008               , 1009               , 1010               , 1010               , NA                 , NA                 , NA                 , NA                 , NA                 , NA                 , NA                 , NA                 </td></tr>\n",
       "</tbody>\n",
       "</table>\n"
      ],
      "text/latex": [
       "\\begin{tabular}{r|ll}\n",
       " name & data\\\\\n",
       "\\hline\n",
       "\t AL011993                                                                                                                                                                                                                                                                                                                                                                                                                                                                                                                                                                                                                                                                                                                                                                                                                                                                                                                                                                                                                                                                                                                                                                                                                                                                                                                                                                                                                                                                                                                                                                                                                                                                                                                                                                                                                                                                                                                                                                                                                                                                                       & 1993               , 1993               , 1993               , 1993               , 1993               , 1993               , 1993               , 1993               , 5                  , 5                  , 6                  , 6                  , 6                  , 6                  , 6                  , 6                  , 31                 , 31                 , 1                  , 1                  , 1                  , 1                  , 2                  , 2                  , 12                 , 18                 , 0                  , 6                  , 12                 , 18                 , 0                  , 6                  , 21.5               , 22.3               , 23.2               , 24.5               , 25.4               , 26.1               , 26.7               , 27.8               , -84                , -82                , -80.3              , -79                , -77.5              , -75.8              , -74                , -71.8              , tropical depression, tropical depression, tropical depression, tropical depression, tropical depression, tropical depression, tropical depression, tropical depression, 1                  , 1                  , 1                  , 1                  , 1                  , 1                  , 1                  , 1                  , 25                 , 25                 , 25                 , 25                 , 30                 , 30                 , 30                 , 30                 , 1003               , 1002               , 1000               , 1000               , 999                , 999                , 999                , 999                , NA                 , NA                 , NA                 , NA                 , NA                 , NA                 , NA                 , NA                 , NA                 , NA                 , NA                 , NA                 , NA                 , NA                 , NA                 , NA                 \\\\\n",
       "\t AL012000                                                                                                                                                                                                                                                                                                                                                                                                                                                                                                                                                                                                                                                                                                                                                                                                                                                                                                                                                                                                                                       & 2000               , 2000               , 2000               , 2000               , 6                  , 6                  , 6                  , 6                  , 7                  , 8                  , 8                  , 8                  , 18                 , 0                  , 6                  , 12                 , 21                 , 20.9               , 20.7               , 20.8               , -93                , -92.8              , -93.1              , -93.5              , tropical depression, tropical depression, tropical depression, tropical depression, 1                  , 1                  , 1                  , 1                  , 25                 , 25                 , 25                 , 25                 , 1008               , 1009               , 1010               , 1010               , NA                 , NA                 , NA                 , NA                 , NA                 , NA                 , NA                 , NA                 \\\\\n",
       "\\end{tabular}\n"
      ],
      "text/markdown": [
       "\n",
       "name | data | \n",
       "|---|---|\n",
       "| AL011993                                                                                                                                                                                                                                                                                                                                                                                                                                                                                                                                                                                                                                                                                                                                                                                                                                                                                                                                                                                                                                                                                                                                                                                                                                                                                                                                                                                                                                                                                                                                                                                                                                                                                                                                                                                                                                                                                                                                                                                                                                                                                       | 1993               , 1993               , 1993               , 1993               , 1993               , 1993               , 1993               , 1993               , 5                  , 5                  , 6                  , 6                  , 6                  , 6                  , 6                  , 6                  , 31                 , 31                 , 1                  , 1                  , 1                  , 1                  , 2                  , 2                  , 12                 , 18                 , 0                  , 6                  , 12                 , 18                 , 0                  , 6                  , 21.5               , 22.3               , 23.2               , 24.5               , 25.4               , 26.1               , 26.7               , 27.8               , -84                , -82                , -80.3              , -79                , -77.5              , -75.8              , -74                , -71.8              , tropical depression, tropical depression, tropical depression, tropical depression, tropical depression, tropical depression, tropical depression, tropical depression, 1                  , 1                  , 1                  , 1                  , 1                  , 1                  , 1                  , 1                  , 25                 , 25                 , 25                 , 25                 , 30                 , 30                 , 30                 , 30                 , 1003               , 1002               , 1000               , 1000               , 999                , 999                , 999                , 999                , NA                 , NA                 , NA                 , NA                 , NA                 , NA                 , NA                 , NA                 , NA                 , NA                 , NA                 , NA                 , NA                 , NA                 , NA                 , NA                  | \n",
       "| AL012000                                                                                                                                                                                                                                                                                                                                                                                                                                                                                                                                                                                                                                                                                                                                                                                                                                                                                                                                                                                                                                       | 2000               , 2000               , 2000               , 2000               , 6                  , 6                  , 6                  , 6                  , 7                  , 8                  , 8                  , 8                  , 18                 , 0                  , 6                  , 12                 , 21                 , 20.9               , 20.7               , 20.8               , -93                , -92.8              , -93.1              , -93.5              , tropical depression, tropical depression, tropical depression, tropical depression, 1                  , 1                  , 1                  , 1                  , 25                 , 25                 , 25                 , 25                 , 1008               , 1009               , 1010               , 1010               , NA                 , NA                 , NA                 , NA                 , NA                 , NA                 , NA                 , NA                  | \n",
       "\n",
       "\n"
      ],
      "text/plain": [
       "  name    \n",
       "1 AL011993\n",
       "2 AL012000\n",
       "  data                                                                                                                                                                                                                                                                                                                                                                                                                                                                                                                                                                                                                                                                                                                                                                                                                                                                                                                                                                                                                                                                                                                                                                                                                                                                                                                                                                                                                                                                                                                                                                                                                                                                                                                                                                                                                                                                                                                                                                                                                                                                                          \n",
       "1 1993               , 1993               , 1993               , 1993               , 1993               , 1993               , 1993               , 1993               , 5                  , 5                  , 6                  , 6                  , 6                  , 6                  , 6                  , 6                  , 31                 , 31                 , 1                  , 1                  , 1                  , 1                  , 2                  , 2                  , 12                 , 18                 , 0                  , 6                  , 12                 , 18                 , 0                  , 6                  , 21.5               , 22.3               , 23.2               , 24.5               , 25.4               , 26.1               , 26.7               , 27.8               , -84                , -82                , -80.3              , -79                , -77.5              , -75.8              , -74                , -71.8              , tropical depression, tropical depression, tropical depression, tropical depression, tropical depression, tropical depression, tropical depression, tropical depression, 1                  , 1                  , 1                  , 1                  , 1                  , 1                  , 1                  , 1                  , 25                 , 25                 , 25                 , 25                 , 30                 , 30                 , 30                 , 30                 , 1003               , 1002               , 1000               , 1000               , 999                , 999                , 999                , 999                , NA                 , NA                 , NA                 , NA                 , NA                 , NA                 , NA                 , NA                 , NA                 , NA                 , NA                 , NA                 , NA                 , NA                 , NA                 , NA                 \n",
       "2 2000               , 2000               , 2000               , 2000               , 6                  , 6                  , 6                  , 6                  , 7                  , 8                  , 8                  , 8                  , 18                 , 0                  , 6                  , 12                 , 21                 , 20.9               , 20.7               , 20.8               , -93                , -92.8              , -93.1              , -93.5              , tropical depression, tropical depression, tropical depression, tropical depression, 1                  , 1                  , 1                  , 1                  , 25                 , 25                 , 25                 , 25                 , 1008               , 1009               , 1010               , 1010               , NA                 , NA                 , NA                 , NA                 , NA                 , NA                 , NA                 , NA                                                                                                                                                                                                                                                                                                                                                                                                                                                                                                                                                                                                                                                                                                                                                                                                                                                                                                                                                                                                                                                                 "
      ]
     },
     "metadata": {},
     "output_type": "display_data"
    }
   ],
   "source": [
    "library(tidyverse)\n",
    "\n",
    "data(storms)\n",
    "\n",
    "str(storms)\n",
    "\n",
    "storms_nested <- storms %>%\n",
    "    mutate_at(vars(name),as.factor) %>%\n",
    "    arrange(name) %>%\n",
    "    group_by(name) %>%\n",
    "    nest()\n",
    "\n",
    "storms_nested %>%\n",
    "    slice(1:2)"
   ]
  },
  {
   "cell_type": "code",
   "execution_count": null,
   "metadata": {},
   "outputs": [],
   "source": []
  }
 ],
 "metadata": {
  "kernelspec": {
   "display_name": "R",
   "language": "R",
   "name": "ir"
  },
  "language_info": {
   "codemirror_mode": "r",
   "file_extension": ".r",
   "mimetype": "text/x-r-source",
   "name": "R",
   "pygments_lexer": "r",
   "version": "3.2.3"
  }
 },
 "nbformat": 4,
 "nbformat_minor": 2
}

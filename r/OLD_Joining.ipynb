{
 "cells": [
  {
   "cell_type": "markdown",
   "metadata": {},
   "source": [
    "# Joining data\n",
    "\n",
    "Quite often one encounters a situation where data is not stored in one table, but in multiple ones with some shared columns.\n",
    "\n",
    "In these situations you can use join-functions like `inner_join`, `left_join`, `right_join` etc. to join the tables based on values in some column.\n",
    "\n",
    "\n",
    "Let's say that we want check the effect of weather on crime in Vancouver. From Kaggle we get a data set of hourly weather data of cities in US and Canada and a data set of crime in Vancouver.[[1]](https://www.kaggle.com/selfishgene/historical-hourly-weather-data) [[2]](https://www.kaggle.com/wosaku/crime-in-vancouver)\n",
    "\n",
    "The weather-data is organized in individual .csv-files with data for a city stored in column named after the city. "
   ]
  },
  {
   "cell_type": "code",
   "execution_count": 2,
   "metadata": {},
   "outputs": [],
   "source": [
    "library(tidyverse)\n",
    "library(lubridate)"
   ]
  },
  {
   "cell_type": "code",
   "execution_count": 3,
   "metadata": {},
   "outputs": [],
   "source": [
    "temperature_vancouver <- read_csv('/m/jhnas/jupyter/shareddata/python-r-data-analysis/historical-hourly-weather-data/temperature.csv')"
   ]
  },
  {
   "cell_type": "code",
   "execution_count": 4,
   "metadata": {},
   "outputs": [
    {
     "data": {
      "text/html": [],
      "text/latex": [],
      "text/markdown": [],
      "text/plain": [
       "<0 x 0 matrix>"
      ]
     },
     "metadata": {},
     "output_type": "display_data"
    }
   ],
   "source": [
    "head(temperature_vancouver)"
   ]
  },
  {
   "cell_type": "code",
   "execution_count": 6,
   "metadata": {},
   "outputs": [
    {
     "name": "stderr",
     "output_type": "stream",
     "text": [
      "Warning message:\n",
      "“All formats failed to parse. No formats found.”\n"
     ]
    },
    {
     "ename": "ERROR",
     "evalue": "Error in .f(.x[[i]], ...): object 'Vancouver' not found\n",
     "output_type": "error",
     "traceback": [
      "Error in .f(.x[[i]], ...): object 'Vancouver' not found\nTraceback:\n",
      "1. read_csv(\"/m/jhnas/jupyter/shareddata/python-r-data-analysis/historical-hourly-weather-data/temperature.csv\") %>% \n .     mutate(date = ymd(\"%Y-%m-%d\")) %>% mutate(date = as.Date(date)) %>% \n .     select(date, temperature = Vancouver) %>% filter(!is.na(temperature)) %>% \n .     mutate(temperature = temperature - 272.15) %>% group_by(date) %>% \n .     summarize_all(mean)",
      "2. withVisible(eval(quote(`_fseq`(`_lhs`)), env, env))",
      "3. eval(quote(`_fseq`(`_lhs`)), env, env)",
      "4. eval(quote(`_fseq`(`_lhs`)), env, env)",
      "5. `_fseq`(`_lhs`)",
      "6. freduce(value, `_function_list`)",
      "7. function_list[[i]](value)",
      "8. select(., date, temperature = Vancouver)",
      "9. select.data.frame(., date, temperature = Vancouver)",
      "10. tidyselect::vars_select(tbl_vars(.data), !(!(!enquos(...))))",
      "11. vars_select_eval(.vars, quos)",
      "12. map_if(quos, !is_helper, eval_tidy, mask)",
      "13. map(.x[sel], .f, ...)",
      "14. .f(.x[[i]], ...)"
     ]
    }
   ],
   "source": [
    "\n",
    "\n",
    "\n",
    "temperature_vancouver <- read_csv('/m/jhnas/jupyter/shareddata/python-r-data-analysis/historical-hourly-weather-data/temperature.csv') %>%\n",
    "    # Remove hours from datetime\n",
    "    mutate(date=ymd('%Y-%m-%d')) %>%    \n",
    "    # Covert date-variables into Date-objects\n",
    "    mutate(date=as.Date(date)) %>%\n",
    "    # Take only Vancouver column and date\n",
    "    select(date,temperature=Vancouver) %>%\n",
    "    # Remove nan's from temperature\n",
    "    filter(!is.na(temperature)) %>%\n",
    "    # Convert temperature from K to C\n",
    "    mutate(temperature=temperature - 272.15) %>%\n",
    "    # Group by date\n",
    "    group_by(date) %>%\n",
    "    # Get the mean temperature of each day\n",
    "    summarize_all(mean)\n",
    "\n",
    "print(temperature_vancouver)"
   ]
  },
  {
   "cell_type": "markdown",
   "metadata": {},
   "source": [
    "The crime-statistics are stored in a .csv-file with times given as individual column. To parse a single date from the columns we use `make_date`-function from `lubridate`-package [[make_date]](https://www.rdocumentation.org/packages/lubridate/versions/1.7.3/topics/make_datetime).\n",
    "\n",
    "After this `tally` is used to calculate the number of observations per date [[tally]](https://dplyr.tidyverse.org/reference/tally.html)."
   ]
  },
  {
   "cell_type": "code",
   "execution_count": null,
   "metadata": {},
   "outputs": [],
   "source": [
    "\n",
    "\n",
    "crimes_vancouver <- read_csv('vancouver-crime/crime.csv') %>%\n",
    "    # Convert individual columns into a date\n",
    "    mutate(date=make_date(YEAR,MONTH,DAY)) %>%\n",
    "    # Arrange and group based on date\n",
    "    arrange(date) %>%\n",
    "    group_by(date) %>%\n",
    "    # Calculate number of crimes / date\n",
    "    tally()\n",
    "\n",
    "print(crimes_vancouver)"
   ]
  },
  {
   "cell_type": "markdown",
   "metadata": {},
   "source": [
    "Now we want to join the datasets based on the dates that are present in both datasets. For this let's use `inner_join` [[inner_join]](https://dplyr.tidyverse.org/reference/join.html).\n",
    "\n",
    "After joing the data we can visualize the results as a scatter plot."
   ]
  },
  {
   "cell_type": "code",
   "execution_count": null,
   "metadata": {},
   "outputs": [],
   "source": [
    "crime_temperature <- inner_join(crimes_vancouver,temperature_vancouver,by=c('date'))\n",
    "\n",
    "crime_temperature %>%\n",
    "    ggplot(aes(x=temperature,y=n)) +\n",
    "    geom_point() +\n",
    "    labs(x='Temperature in Vancouver', y='Number of crimes in Vancouver')"
   ]
  },
  {
   "cell_type": "markdown",
   "metadata": {},
   "source": [
    "Apparently crime happens in Vancouver in all temperatures."
   ]
  }
 ],
 "metadata": {
  "kernelspec": {
   "display_name": "R",
   "language": "R",
   "name": "ir"
  },
  "language_info": {
   "codemirror_mode": "r",
   "file_extension": ".r",
   "mimetype": "text/x-r-source",
   "name": "R",
   "pygments_lexer": "r",
   "version": "3.4.4"
  }
 },
 "nbformat": 4,
 "nbformat_minor": 4
}

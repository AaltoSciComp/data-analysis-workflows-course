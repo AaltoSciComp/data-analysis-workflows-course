{
 "cells": [
  {
   "cell_type": "code",
   "execution_count": null,
   "metadata": {},
   "outputs": [],
   "source": [
    "# Note: This example does not work on the notebook as it creates an extra references to the arrays\n",
    "\n",
    "# pryr-library can be use to pry at the lower levels of R\n",
    "library(pryr)\n",
    "x <- 1:5\n",
    "# Check memory location of a vector\n",
    "address(x)\n",
    "x[2] <- 3L\n",
    "# Check that vector address has not changed\n",
    "address(x)\n",
    "#Append a new value to integers\n",
    "x <- append(x,11L)\n",
    "# Check the resulting vector\n",
    "print(x)\n",
    "# Re-check the address (note that it has changed)\n",
    "address(x)"
   ]
  }
 ],
 "metadata": {
  "kernelspec": {
   "display_name": "R",
   "language": "R",
   "name": "ir"
  },
  "language_info": {
   "codemirror_mode": "r",
   "file_extension": ".r",
   "mimetype": "text/x-r-source",
   "name": "R",
   "pygments_lexer": "r",
   "version": "3.2.3"
  }
 },
 "nbformat": 4,
 "nbformat_minor": 2
}

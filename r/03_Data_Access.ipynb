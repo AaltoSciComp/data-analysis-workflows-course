{
 "cells": [
  {
   "cell_type": "markdown",
   "metadata": {},
   "source": [
    "# Data access\n",
    "\n",
    "## CSV files\n",
    "\n",
    "There's multiple functions in the `readr` for CSV file reading. Let's use them on a dataset available in Kaggle that has homemade beer recipes from Brewer's Friend [[1]](https://www.kaggle.com/jtrofe/beer-recipes).\n",
    "\n",
    "Let's check the first few lines of the data with base R's `file` and `readLines`."
   ]
  },
  {
   "cell_type": "code",
   "execution_count": 5,
   "metadata": {},
   "outputs": [
    {
     "name": "stdout",
     "output_type": "stream",
     "text": [
      "[1] \"BeerID,Name,URL,Style,StyleID,Size(L),OG,FG,ABV,IBU,Color,BoilSize,BoilTime,BoilGravity,Efficiency,MashThickness,SugarScale,BrewMethod,PitchRate,PrimaryTemp,PrimingMethod,PrimingAmount\"    \n",
      "[2] \"1,Vanilla Cream Ale,/homebrew/recipe/view/1633/vanilla-cream-ale,Cream Ale,45,21.77,1.055,1.013,5.48,17.65,4.83,28.39,75,1.038,70,N/A,Specific Gravity,All Grain,N/A,17.78,corn sugar,4.5 oz\"\n"
     ]
    }
   ],
   "source": [
    "example_file <- file(\"/m/jhnas/jupyter/shareddata/python-r-data-analysis/beers/recipeData.csv\",'r')\n",
    "first_lines <- readLines(example_file,n=2)\n",
    "close(example_file)\n",
    "\n",
    "print(first_lines)"
   ]
  },
  {
   "cell_type": "markdown",
   "metadata": {},
   "source": [
    "Before we choose which reader we want to use we need to check the format of the data. \n",
    "\n",
    "`readr` has predefined functions for the following data formats [[1]](http://readr.tidyverse.org/reference/read_delim.html):\n",
    "- `read_delim` parses generic data delimited by a character\n",
    "- `read_csv` assumes that the data is delimited by commas\n",
    "- `read_csv2` assumes that the data is delimited by semicolons\n",
    "- `read_tsv` assumes that the data is delimited by tabs\n",
    "\n",
    "In this case we want to use `read_csv`. Do note that we limit ourselves to first 100 values for faster parsing."
   ]
  },
  {
   "cell_type": "code",
   "execution_count": 38,
   "metadata": {},
   "outputs": [
    {
     "name": "stderr",
     "output_type": "stream",
     "text": [
      "Parsed with column specification:\n",
      "cols(\n",
      "  .default = col_character(),\n",
      "  BeerID = \u001b[32mcol_double()\u001b[39m,\n",
      "  StyleID = \u001b[32mcol_double()\u001b[39m,\n",
      "  `Size(L)` = \u001b[32mcol_double()\u001b[39m,\n",
      "  OG = \u001b[32mcol_double()\u001b[39m,\n",
      "  FG = \u001b[32mcol_double()\u001b[39m,\n",
      "  ABV = \u001b[32mcol_double()\u001b[39m,\n",
      "  IBU = \u001b[32mcol_double()\u001b[39m,\n",
      "  Color = \u001b[32mcol_double()\u001b[39m,\n",
      "  BoilSize = \u001b[32mcol_double()\u001b[39m,\n",
      "  BoilTime = \u001b[32mcol_double()\u001b[39m,\n",
      "  Efficiency = \u001b[32mcol_double()\u001b[39m\n",
      ")\n",
      "\n",
      "See spec(...) for full column specifications.\n",
      "\n"
     ]
    }
   ],
   "source": [
    "library(tidyverse)\n",
    "\n",
    "beer_recipes <- read_csv(\"/m/jhnas/jupyter/shareddata/python-r-data-analysis/beers/recipeData.csv\", n_max=100)"
   ]
  },
  {
   "cell_type": "markdown",
   "metadata": {},
   "source": [
    "From the output one can see that `read_csv` tries to parse the datatype of the column automatically.\n",
    "\n",
    "By running `spec` one can see the full definitons."
   ]
  },
  {
   "cell_type": "code",
   "execution_count": 39,
   "metadata": {},
   "outputs": [
    {
     "data": {
      "text/plain": [
       "cols(\n",
       "  BeerID = \u001b[32mcol_double()\u001b[39m,\n",
       "  Name = \u001b[31mcol_character()\u001b[39m,\n",
       "  URL = \u001b[31mcol_character()\u001b[39m,\n",
       "  Style = \u001b[31mcol_character()\u001b[39m,\n",
       "  StyleID = \u001b[32mcol_double()\u001b[39m,\n",
       "  `Size(L)` = \u001b[32mcol_double()\u001b[39m,\n",
       "  OG = \u001b[32mcol_double()\u001b[39m,\n",
       "  FG = \u001b[32mcol_double()\u001b[39m,\n",
       "  ABV = \u001b[32mcol_double()\u001b[39m,\n",
       "  IBU = \u001b[32mcol_double()\u001b[39m,\n",
       "  Color = \u001b[32mcol_double()\u001b[39m,\n",
       "  BoilSize = \u001b[32mcol_double()\u001b[39m,\n",
       "  BoilTime = \u001b[32mcol_double()\u001b[39m,\n",
       "  BoilGravity = \u001b[31mcol_character()\u001b[39m,\n",
       "  Efficiency = \u001b[32mcol_double()\u001b[39m,\n",
       "  MashThickness = \u001b[31mcol_character()\u001b[39m,\n",
       "  SugarScale = \u001b[31mcol_character()\u001b[39m,\n",
       "  BrewMethod = \u001b[31mcol_character()\u001b[39m,\n",
       "  PitchRate = \u001b[31mcol_character()\u001b[39m,\n",
       "  PrimaryTemp = \u001b[31mcol_character()\u001b[39m,\n",
       "  PrimingMethod = \u001b[31mcol_character()\u001b[39m,\n",
       "  PrimingAmount = \u001b[31mcol_character()\u001b[39m\n",
       ")"
      ]
     },
     "metadata": {},
     "output_type": "display_data"
    }
   ],
   "source": [
    "spec(beer_recipes)"
   ]
  },
  {
   "cell_type": "markdown",
   "metadata": {},
   "source": [
    "Many of the data columns seem to be characters instead of numbers. Let's use `col_types`-argument to specify a better definition."
   ]
  },
  {
   "cell_type": "code",
   "execution_count": 40,
   "metadata": {},
   "outputs": [
    {
     "name": "stderr",
     "output_type": "stream",
     "text": [
      "Warning message:\n",
      "“208 parsing failures.\n",
      "row           col expected actual                                                                      file\n",
      "  1 MashThickness a double    N/A '/m/jhnas/jupyter/shareddata/python-r-data-analysis/beers/recipeData.csv'\n",
      "  1 PitchRate     a double    N/A '/m/jhnas/jupyter/shareddata/python-r-data-analysis/beers/recipeData.csv'\n",
      "  2 MashThickness a double    N/A '/m/jhnas/jupyter/shareddata/python-r-data-analysis/beers/recipeData.csv'\n",
      "  2 PitchRate     a double    N/A '/m/jhnas/jupyter/shareddata/python-r-data-analysis/beers/recipeData.csv'\n",
      "  2 PrimaryTemp   a double    N/A '/m/jhnas/jupyter/shareddata/python-r-data-analysis/beers/recipeData.csv'\n",
      "... ............. ........ ...... .........................................................................\n",
      "See problems(...) for more details.\n",
      "”\n"
     ]
    }
   ],
   "source": [
    "\n",
    "beer_recipes <- read_csv(\"/m/jhnas/jupyter/shareddata/python-r-data-analysis/beers/recipeData.csv\",\n",
    "    col_types=cols(\n",
    "      BeerID = col_integer(),\n",
    "      Name = col_character(),\n",
    "      URL = col_character(),\n",
    "      Style = col_character(),\n",
    "      StyleID = col_integer(),\n",
    "      `Size(L)` = col_double(),\n",
    "      OG = col_double(),\n",
    "      FG = col_double(),\n",
    "      ABV = col_double(),\n",
    "      IBU = col_double(),\n",
    "      Color = col_double(),\n",
    "      BoilSize = col_double(),\n",
    "      BoilTime = col_double(),\n",
    "      BoilGravity = col_double(),\n",
    "      Efficiency = col_double(),\n",
    "      MashThickness = col_double(),\n",
    "      SugarScale = col_character(),\n",
    "      BrewMethod = col_character(),\n",
    "      PitchRate = col_double(),\n",
    "      PrimaryTemp = col_double(),\n",
    "      PrimingMethod = col_character(),\n",
    "      PrimingAmount = col_character()\n",
    "    ),\n",
    "    n_max=100\n",
    ")"
   ]
  },
  {
   "cell_type": "markdown",
   "metadata": {},
   "source": [
    "This produced a lot of problems. Let's check the problems with `problems`."
   ]
  },
  {
   "cell_type": "code",
   "execution_count": 41,
   "metadata": {},
   "outputs": [
    {
     "data": {
      "text/html": [
       "<table>\n",
       "<caption>A tibble: 208 × 5</caption>\n",
       "<thead>\n",
       "\t<tr><th scope=col>row</th><th scope=col>col</th><th scope=col>expected</th><th scope=col>actual</th><th scope=col>file</th></tr>\n",
       "\t<tr><th scope=col>&lt;int&gt;</th><th scope=col>&lt;chr&gt;</th><th scope=col>&lt;chr&gt;</th><th scope=col>&lt;chr&gt;</th><th scope=col>&lt;chr&gt;</th></tr>\n",
       "</thead>\n",
       "<tbody>\n",
       "\t<tr><td> 1</td><td>MashThickness</td><td>a double</td><td>N/A</td><td>'/m/jhnas/jupyter/shareddata/python-r-data-analysis/beers/recipeData.csv'</td></tr>\n",
       "\t<tr><td> 1</td><td>PitchRate    </td><td>a double</td><td>N/A</td><td>'/m/jhnas/jupyter/shareddata/python-r-data-analysis/beers/recipeData.csv'</td></tr>\n",
       "\t<tr><td> 2</td><td>MashThickness</td><td>a double</td><td>N/A</td><td>'/m/jhnas/jupyter/shareddata/python-r-data-analysis/beers/recipeData.csv'</td></tr>\n",
       "\t<tr><td> 2</td><td>PitchRate    </td><td>a double</td><td>N/A</td><td>'/m/jhnas/jupyter/shareddata/python-r-data-analysis/beers/recipeData.csv'</td></tr>\n",
       "\t<tr><td> 2</td><td>PrimaryTemp  </td><td>a double</td><td>N/A</td><td>'/m/jhnas/jupyter/shareddata/python-r-data-analysis/beers/recipeData.csv'</td></tr>\n",
       "\t<tr><td> 3</td><td>BoilGravity  </td><td>a double</td><td>N/A</td><td>'/m/jhnas/jupyter/shareddata/python-r-data-analysis/beers/recipeData.csv'</td></tr>\n",
       "\t<tr><td> 3</td><td>MashThickness</td><td>a double</td><td>N/A</td><td>'/m/jhnas/jupyter/shareddata/python-r-data-analysis/beers/recipeData.csv'</td></tr>\n",
       "\t<tr><td> 3</td><td>PitchRate    </td><td>a double</td><td>N/A</td><td>'/m/jhnas/jupyter/shareddata/python-r-data-analysis/beers/recipeData.csv'</td></tr>\n",
       "\t<tr><td> 3</td><td>PrimaryTemp  </td><td>a double</td><td>N/A</td><td>'/m/jhnas/jupyter/shareddata/python-r-data-analysis/beers/recipeData.csv'</td></tr>\n",
       "\t<tr><td> 4</td><td>BoilGravity  </td><td>a double</td><td>N/A</td><td>'/m/jhnas/jupyter/shareddata/python-r-data-analysis/beers/recipeData.csv'</td></tr>\n",
       "\t<tr><td> 4</td><td>MashThickness</td><td>a double</td><td>N/A</td><td>'/m/jhnas/jupyter/shareddata/python-r-data-analysis/beers/recipeData.csv'</td></tr>\n",
       "\t<tr><td> 4</td><td>PitchRate    </td><td>a double</td><td>N/A</td><td>'/m/jhnas/jupyter/shareddata/python-r-data-analysis/beers/recipeData.csv'</td></tr>\n",
       "\t<tr><td> 4</td><td>PrimaryTemp  </td><td>a double</td><td>N/A</td><td>'/m/jhnas/jupyter/shareddata/python-r-data-analysis/beers/recipeData.csv'</td></tr>\n",
       "\t<tr><td> 5</td><td>MashThickness</td><td>a double</td><td>N/A</td><td>'/m/jhnas/jupyter/shareddata/python-r-data-analysis/beers/recipeData.csv'</td></tr>\n",
       "\t<tr><td> 5</td><td>PitchRate    </td><td>a double</td><td>N/A</td><td>'/m/jhnas/jupyter/shareddata/python-r-data-analysis/beers/recipeData.csv'</td></tr>\n",
       "\t<tr><td> 6</td><td>MashThickness</td><td>a double</td><td>N/A</td><td>'/m/jhnas/jupyter/shareddata/python-r-data-analysis/beers/recipeData.csv'</td></tr>\n",
       "\t<tr><td> 6</td><td>PrimaryTemp  </td><td>a double</td><td>N/A</td><td>'/m/jhnas/jupyter/shareddata/python-r-data-analysis/beers/recipeData.csv'</td></tr>\n",
       "\t<tr><td> 7</td><td>BoilGravity  </td><td>a double</td><td>N/A</td><td>'/m/jhnas/jupyter/shareddata/python-r-data-analysis/beers/recipeData.csv'</td></tr>\n",
       "\t<tr><td> 7</td><td>MashThickness</td><td>a double</td><td>N/A</td><td>'/m/jhnas/jupyter/shareddata/python-r-data-analysis/beers/recipeData.csv'</td></tr>\n",
       "\t<tr><td> 7</td><td>PitchRate    </td><td>a double</td><td>N/A</td><td>'/m/jhnas/jupyter/shareddata/python-r-data-analysis/beers/recipeData.csv'</td></tr>\n",
       "\t<tr><td> 7</td><td>PrimaryTemp  </td><td>a double</td><td>N/A</td><td>'/m/jhnas/jupyter/shareddata/python-r-data-analysis/beers/recipeData.csv'</td></tr>\n",
       "\t<tr><td> 8</td><td>PitchRate    </td><td>a double</td><td>N/A</td><td>'/m/jhnas/jupyter/shareddata/python-r-data-analysis/beers/recipeData.csv'</td></tr>\n",
       "\t<tr><td> 8</td><td>PrimaryTemp  </td><td>a double</td><td>N/A</td><td>'/m/jhnas/jupyter/shareddata/python-r-data-analysis/beers/recipeData.csv'</td></tr>\n",
       "\t<tr><td> 9</td><td>MashThickness</td><td>a double</td><td>N/A</td><td>'/m/jhnas/jupyter/shareddata/python-r-data-analysis/beers/recipeData.csv'</td></tr>\n",
       "\t<tr><td> 9</td><td>PitchRate    </td><td>a double</td><td>N/A</td><td>'/m/jhnas/jupyter/shareddata/python-r-data-analysis/beers/recipeData.csv'</td></tr>\n",
       "\t<tr><td> 9</td><td>PrimaryTemp  </td><td>a double</td><td>N/A</td><td>'/m/jhnas/jupyter/shareddata/python-r-data-analysis/beers/recipeData.csv'</td></tr>\n",
       "\t<tr><td>10</td><td>MashThickness</td><td>a double</td><td>N/A</td><td>'/m/jhnas/jupyter/shareddata/python-r-data-analysis/beers/recipeData.csv'</td></tr>\n",
       "\t<tr><td>10</td><td>PitchRate    </td><td>a double</td><td>N/A</td><td>'/m/jhnas/jupyter/shareddata/python-r-data-analysis/beers/recipeData.csv'</td></tr>\n",
       "\t<tr><td>11</td><td>MashThickness</td><td>a double</td><td>N/A</td><td>'/m/jhnas/jupyter/shareddata/python-r-data-analysis/beers/recipeData.csv'</td></tr>\n",
       "\t<tr><td>12</td><td>BoilGravity  </td><td>a double</td><td>N/A</td><td>'/m/jhnas/jupyter/shareddata/python-r-data-analysis/beers/recipeData.csv'</td></tr>\n",
       "\t<tr><td>⋮</td><td>⋮</td><td>⋮</td><td>⋮</td><td>⋮</td></tr>\n",
       "\t<tr><td> 88</td><td>MashThickness</td><td>a double</td><td>N/A</td><td>'/m/jhnas/jupyter/shareddata/python-r-data-analysis/beers/recipeData.csv'</td></tr>\n",
       "\t<tr><td> 88</td><td>PitchRate    </td><td>a double</td><td>N/A</td><td>'/m/jhnas/jupyter/shareddata/python-r-data-analysis/beers/recipeData.csv'</td></tr>\n",
       "\t<tr><td> 88</td><td>PrimaryTemp  </td><td>a double</td><td>N/A</td><td>'/m/jhnas/jupyter/shareddata/python-r-data-analysis/beers/recipeData.csv'</td></tr>\n",
       "\t<tr><td> 89</td><td>MashThickness</td><td>a double</td><td>N/A</td><td>'/m/jhnas/jupyter/shareddata/python-r-data-analysis/beers/recipeData.csv'</td></tr>\n",
       "\t<tr><td> 89</td><td>PitchRate    </td><td>a double</td><td>N/A</td><td>'/m/jhnas/jupyter/shareddata/python-r-data-analysis/beers/recipeData.csv'</td></tr>\n",
       "\t<tr><td> 90</td><td>BoilGravity  </td><td>a double</td><td>N/A</td><td>'/m/jhnas/jupyter/shareddata/python-r-data-analysis/beers/recipeData.csv'</td></tr>\n",
       "\t<tr><td> 90</td><td>MashThickness</td><td>a double</td><td>N/A</td><td>'/m/jhnas/jupyter/shareddata/python-r-data-analysis/beers/recipeData.csv'</td></tr>\n",
       "\t<tr><td> 90</td><td>PitchRate    </td><td>a double</td><td>N/A</td><td>'/m/jhnas/jupyter/shareddata/python-r-data-analysis/beers/recipeData.csv'</td></tr>\n",
       "\t<tr><td> 90</td><td>PrimaryTemp  </td><td>a double</td><td>N/A</td><td>'/m/jhnas/jupyter/shareddata/python-r-data-analysis/beers/recipeData.csv'</td></tr>\n",
       "\t<tr><td> 91</td><td>BoilGravity  </td><td>a double</td><td>N/A</td><td>'/m/jhnas/jupyter/shareddata/python-r-data-analysis/beers/recipeData.csv'</td></tr>\n",
       "\t<tr><td> 91</td><td>MashThickness</td><td>a double</td><td>N/A</td><td>'/m/jhnas/jupyter/shareddata/python-r-data-analysis/beers/recipeData.csv'</td></tr>\n",
       "\t<tr><td> 92</td><td>MashThickness</td><td>a double</td><td>N/A</td><td>'/m/jhnas/jupyter/shareddata/python-r-data-analysis/beers/recipeData.csv'</td></tr>\n",
       "\t<tr><td> 92</td><td>PitchRate    </td><td>a double</td><td>N/A</td><td>'/m/jhnas/jupyter/shareddata/python-r-data-analysis/beers/recipeData.csv'</td></tr>\n",
       "\t<tr><td> 93</td><td>BoilGravity  </td><td>a double</td><td>N/A</td><td>'/m/jhnas/jupyter/shareddata/python-r-data-analysis/beers/recipeData.csv'</td></tr>\n",
       "\t<tr><td> 93</td><td>MashThickness</td><td>a double</td><td>N/A</td><td>'/m/jhnas/jupyter/shareddata/python-r-data-analysis/beers/recipeData.csv'</td></tr>\n",
       "\t<tr><td> 93</td><td>PitchRate    </td><td>a double</td><td>N/A</td><td>'/m/jhnas/jupyter/shareddata/python-r-data-analysis/beers/recipeData.csv'</td></tr>\n",
       "\t<tr><td> 93</td><td>PrimaryTemp  </td><td>a double</td><td>N/A</td><td>'/m/jhnas/jupyter/shareddata/python-r-data-analysis/beers/recipeData.csv'</td></tr>\n",
       "\t<tr><td> 96</td><td>BoilGravity  </td><td>a double</td><td>N/A</td><td>'/m/jhnas/jupyter/shareddata/python-r-data-analysis/beers/recipeData.csv'</td></tr>\n",
       "\t<tr><td> 96</td><td>MashThickness</td><td>a double</td><td>N/A</td><td>'/m/jhnas/jupyter/shareddata/python-r-data-analysis/beers/recipeData.csv'</td></tr>\n",
       "\t<tr><td> 96</td><td>PitchRate    </td><td>a double</td><td>N/A</td><td>'/m/jhnas/jupyter/shareddata/python-r-data-analysis/beers/recipeData.csv'</td></tr>\n",
       "\t<tr><td> 96</td><td>PrimaryTemp  </td><td>a double</td><td>N/A</td><td>'/m/jhnas/jupyter/shareddata/python-r-data-analysis/beers/recipeData.csv'</td></tr>\n",
       "\t<tr><td> 97</td><td>PitchRate    </td><td>a double</td><td>N/A</td><td>'/m/jhnas/jupyter/shareddata/python-r-data-analysis/beers/recipeData.csv'</td></tr>\n",
       "\t<tr><td> 97</td><td>PrimaryTemp  </td><td>a double</td><td>N/A</td><td>'/m/jhnas/jupyter/shareddata/python-r-data-analysis/beers/recipeData.csv'</td></tr>\n",
       "\t<tr><td> 98</td><td>MashThickness</td><td>a double</td><td>N/A</td><td>'/m/jhnas/jupyter/shareddata/python-r-data-analysis/beers/recipeData.csv'</td></tr>\n",
       "\t<tr><td> 98</td><td>PitchRate    </td><td>a double</td><td>N/A</td><td>'/m/jhnas/jupyter/shareddata/python-r-data-analysis/beers/recipeData.csv'</td></tr>\n",
       "\t<tr><td> 98</td><td>PrimaryTemp  </td><td>a double</td><td>N/A</td><td>'/m/jhnas/jupyter/shareddata/python-r-data-analysis/beers/recipeData.csv'</td></tr>\n",
       "\t<tr><td>100</td><td>BoilGravity  </td><td>a double</td><td>N/A</td><td>'/m/jhnas/jupyter/shareddata/python-r-data-analysis/beers/recipeData.csv'</td></tr>\n",
       "\t<tr><td>100</td><td>MashThickness</td><td>a double</td><td>N/A</td><td>'/m/jhnas/jupyter/shareddata/python-r-data-analysis/beers/recipeData.csv'</td></tr>\n",
       "\t<tr><td>100</td><td>PitchRate    </td><td>a double</td><td>N/A</td><td>'/m/jhnas/jupyter/shareddata/python-r-data-analysis/beers/recipeData.csv'</td></tr>\n",
       "\t<tr><td>100</td><td>PrimaryTemp  </td><td>a double</td><td>N/A</td><td>'/m/jhnas/jupyter/shareddata/python-r-data-analysis/beers/recipeData.csv'</td></tr>\n",
       "</tbody>\n",
       "</table>\n"
      ],
      "text/latex": [
       "A tibble: 208 × 5\n",
       "\\begin{tabular}{r|lllll}\n",
       " row & col & expected & actual & file\\\\\n",
       " <int> & <chr> & <chr> & <chr> & <chr>\\\\\n",
       "\\hline\n",
       "\t  1 & MashThickness & a double & N/A & '/m/jhnas/jupyter/shareddata/python-r-data-analysis/beers/recipeData.csv'\\\\\n",
       "\t  1 & PitchRate     & a double & N/A & '/m/jhnas/jupyter/shareddata/python-r-data-analysis/beers/recipeData.csv'\\\\\n",
       "\t  2 & MashThickness & a double & N/A & '/m/jhnas/jupyter/shareddata/python-r-data-analysis/beers/recipeData.csv'\\\\\n",
       "\t  2 & PitchRate     & a double & N/A & '/m/jhnas/jupyter/shareddata/python-r-data-analysis/beers/recipeData.csv'\\\\\n",
       "\t  2 & PrimaryTemp   & a double & N/A & '/m/jhnas/jupyter/shareddata/python-r-data-analysis/beers/recipeData.csv'\\\\\n",
       "\t  3 & BoilGravity   & a double & N/A & '/m/jhnas/jupyter/shareddata/python-r-data-analysis/beers/recipeData.csv'\\\\\n",
       "\t  3 & MashThickness & a double & N/A & '/m/jhnas/jupyter/shareddata/python-r-data-analysis/beers/recipeData.csv'\\\\\n",
       "\t  3 & PitchRate     & a double & N/A & '/m/jhnas/jupyter/shareddata/python-r-data-analysis/beers/recipeData.csv'\\\\\n",
       "\t  3 & PrimaryTemp   & a double & N/A & '/m/jhnas/jupyter/shareddata/python-r-data-analysis/beers/recipeData.csv'\\\\\n",
       "\t  4 & BoilGravity   & a double & N/A & '/m/jhnas/jupyter/shareddata/python-r-data-analysis/beers/recipeData.csv'\\\\\n",
       "\t  4 & MashThickness & a double & N/A & '/m/jhnas/jupyter/shareddata/python-r-data-analysis/beers/recipeData.csv'\\\\\n",
       "\t  4 & PitchRate     & a double & N/A & '/m/jhnas/jupyter/shareddata/python-r-data-analysis/beers/recipeData.csv'\\\\\n",
       "\t  4 & PrimaryTemp   & a double & N/A & '/m/jhnas/jupyter/shareddata/python-r-data-analysis/beers/recipeData.csv'\\\\\n",
       "\t  5 & MashThickness & a double & N/A & '/m/jhnas/jupyter/shareddata/python-r-data-analysis/beers/recipeData.csv'\\\\\n",
       "\t  5 & PitchRate     & a double & N/A & '/m/jhnas/jupyter/shareddata/python-r-data-analysis/beers/recipeData.csv'\\\\\n",
       "\t  6 & MashThickness & a double & N/A & '/m/jhnas/jupyter/shareddata/python-r-data-analysis/beers/recipeData.csv'\\\\\n",
       "\t  6 & PrimaryTemp   & a double & N/A & '/m/jhnas/jupyter/shareddata/python-r-data-analysis/beers/recipeData.csv'\\\\\n",
       "\t  7 & BoilGravity   & a double & N/A & '/m/jhnas/jupyter/shareddata/python-r-data-analysis/beers/recipeData.csv'\\\\\n",
       "\t  7 & MashThickness & a double & N/A & '/m/jhnas/jupyter/shareddata/python-r-data-analysis/beers/recipeData.csv'\\\\\n",
       "\t  7 & PitchRate     & a double & N/A & '/m/jhnas/jupyter/shareddata/python-r-data-analysis/beers/recipeData.csv'\\\\\n",
       "\t  7 & PrimaryTemp   & a double & N/A & '/m/jhnas/jupyter/shareddata/python-r-data-analysis/beers/recipeData.csv'\\\\\n",
       "\t  8 & PitchRate     & a double & N/A & '/m/jhnas/jupyter/shareddata/python-r-data-analysis/beers/recipeData.csv'\\\\\n",
       "\t  8 & PrimaryTemp   & a double & N/A & '/m/jhnas/jupyter/shareddata/python-r-data-analysis/beers/recipeData.csv'\\\\\n",
       "\t  9 & MashThickness & a double & N/A & '/m/jhnas/jupyter/shareddata/python-r-data-analysis/beers/recipeData.csv'\\\\\n",
       "\t  9 & PitchRate     & a double & N/A & '/m/jhnas/jupyter/shareddata/python-r-data-analysis/beers/recipeData.csv'\\\\\n",
       "\t  9 & PrimaryTemp   & a double & N/A & '/m/jhnas/jupyter/shareddata/python-r-data-analysis/beers/recipeData.csv'\\\\\n",
       "\t 10 & MashThickness & a double & N/A & '/m/jhnas/jupyter/shareddata/python-r-data-analysis/beers/recipeData.csv'\\\\\n",
       "\t 10 & PitchRate     & a double & N/A & '/m/jhnas/jupyter/shareddata/python-r-data-analysis/beers/recipeData.csv'\\\\\n",
       "\t 11 & MashThickness & a double & N/A & '/m/jhnas/jupyter/shareddata/python-r-data-analysis/beers/recipeData.csv'\\\\\n",
       "\t 12 & BoilGravity   & a double & N/A & '/m/jhnas/jupyter/shareddata/python-r-data-analysis/beers/recipeData.csv'\\\\\n",
       "\t ⋮ & ⋮ & ⋮ & ⋮ & ⋮\\\\\n",
       "\t  88 & MashThickness & a double & N/A & '/m/jhnas/jupyter/shareddata/python-r-data-analysis/beers/recipeData.csv'\\\\\n",
       "\t  88 & PitchRate     & a double & N/A & '/m/jhnas/jupyter/shareddata/python-r-data-analysis/beers/recipeData.csv'\\\\\n",
       "\t  88 & PrimaryTemp   & a double & N/A & '/m/jhnas/jupyter/shareddata/python-r-data-analysis/beers/recipeData.csv'\\\\\n",
       "\t  89 & MashThickness & a double & N/A & '/m/jhnas/jupyter/shareddata/python-r-data-analysis/beers/recipeData.csv'\\\\\n",
       "\t  89 & PitchRate     & a double & N/A & '/m/jhnas/jupyter/shareddata/python-r-data-analysis/beers/recipeData.csv'\\\\\n",
       "\t  90 & BoilGravity   & a double & N/A & '/m/jhnas/jupyter/shareddata/python-r-data-analysis/beers/recipeData.csv'\\\\\n",
       "\t  90 & MashThickness & a double & N/A & '/m/jhnas/jupyter/shareddata/python-r-data-analysis/beers/recipeData.csv'\\\\\n",
       "\t  90 & PitchRate     & a double & N/A & '/m/jhnas/jupyter/shareddata/python-r-data-analysis/beers/recipeData.csv'\\\\\n",
       "\t  90 & PrimaryTemp   & a double & N/A & '/m/jhnas/jupyter/shareddata/python-r-data-analysis/beers/recipeData.csv'\\\\\n",
       "\t  91 & BoilGravity   & a double & N/A & '/m/jhnas/jupyter/shareddata/python-r-data-analysis/beers/recipeData.csv'\\\\\n",
       "\t  91 & MashThickness & a double & N/A & '/m/jhnas/jupyter/shareddata/python-r-data-analysis/beers/recipeData.csv'\\\\\n",
       "\t  92 & MashThickness & a double & N/A & '/m/jhnas/jupyter/shareddata/python-r-data-analysis/beers/recipeData.csv'\\\\\n",
       "\t  92 & PitchRate     & a double & N/A & '/m/jhnas/jupyter/shareddata/python-r-data-analysis/beers/recipeData.csv'\\\\\n",
       "\t  93 & BoilGravity   & a double & N/A & '/m/jhnas/jupyter/shareddata/python-r-data-analysis/beers/recipeData.csv'\\\\\n",
       "\t  93 & MashThickness & a double & N/A & '/m/jhnas/jupyter/shareddata/python-r-data-analysis/beers/recipeData.csv'\\\\\n",
       "\t  93 & PitchRate     & a double & N/A & '/m/jhnas/jupyter/shareddata/python-r-data-analysis/beers/recipeData.csv'\\\\\n",
       "\t  93 & PrimaryTemp   & a double & N/A & '/m/jhnas/jupyter/shareddata/python-r-data-analysis/beers/recipeData.csv'\\\\\n",
       "\t  96 & BoilGravity   & a double & N/A & '/m/jhnas/jupyter/shareddata/python-r-data-analysis/beers/recipeData.csv'\\\\\n",
       "\t  96 & MashThickness & a double & N/A & '/m/jhnas/jupyter/shareddata/python-r-data-analysis/beers/recipeData.csv'\\\\\n",
       "\t  96 & PitchRate     & a double & N/A & '/m/jhnas/jupyter/shareddata/python-r-data-analysis/beers/recipeData.csv'\\\\\n",
       "\t  96 & PrimaryTemp   & a double & N/A & '/m/jhnas/jupyter/shareddata/python-r-data-analysis/beers/recipeData.csv'\\\\\n",
       "\t  97 & PitchRate     & a double & N/A & '/m/jhnas/jupyter/shareddata/python-r-data-analysis/beers/recipeData.csv'\\\\\n",
       "\t  97 & PrimaryTemp   & a double & N/A & '/m/jhnas/jupyter/shareddata/python-r-data-analysis/beers/recipeData.csv'\\\\\n",
       "\t  98 & MashThickness & a double & N/A & '/m/jhnas/jupyter/shareddata/python-r-data-analysis/beers/recipeData.csv'\\\\\n",
       "\t  98 & PitchRate     & a double & N/A & '/m/jhnas/jupyter/shareddata/python-r-data-analysis/beers/recipeData.csv'\\\\\n",
       "\t  98 & PrimaryTemp   & a double & N/A & '/m/jhnas/jupyter/shareddata/python-r-data-analysis/beers/recipeData.csv'\\\\\n",
       "\t 100 & BoilGravity   & a double & N/A & '/m/jhnas/jupyter/shareddata/python-r-data-analysis/beers/recipeData.csv'\\\\\n",
       "\t 100 & MashThickness & a double & N/A & '/m/jhnas/jupyter/shareddata/python-r-data-analysis/beers/recipeData.csv'\\\\\n",
       "\t 100 & PitchRate     & a double & N/A & '/m/jhnas/jupyter/shareddata/python-r-data-analysis/beers/recipeData.csv'\\\\\n",
       "\t 100 & PrimaryTemp   & a double & N/A & '/m/jhnas/jupyter/shareddata/python-r-data-analysis/beers/recipeData.csv'\\\\\n",
       "\\end{tabular}\n"
      ],
      "text/markdown": [
       "\n",
       "A tibble: 208 × 5\n",
       "\n",
       "| row &lt;int&gt; | col &lt;chr&gt; | expected &lt;chr&gt; | actual &lt;chr&gt; | file &lt;chr&gt; |\n",
       "|---|---|---|---|---|\n",
       "|  1 | MashThickness | a double | N/A | '/m/jhnas/jupyter/shareddata/python-r-data-analysis/beers/recipeData.csv' |\n",
       "|  1 | PitchRate     | a double | N/A | '/m/jhnas/jupyter/shareddata/python-r-data-analysis/beers/recipeData.csv' |\n",
       "|  2 | MashThickness | a double | N/A | '/m/jhnas/jupyter/shareddata/python-r-data-analysis/beers/recipeData.csv' |\n",
       "|  2 | PitchRate     | a double | N/A | '/m/jhnas/jupyter/shareddata/python-r-data-analysis/beers/recipeData.csv' |\n",
       "|  2 | PrimaryTemp   | a double | N/A | '/m/jhnas/jupyter/shareddata/python-r-data-analysis/beers/recipeData.csv' |\n",
       "|  3 | BoilGravity   | a double | N/A | '/m/jhnas/jupyter/shareddata/python-r-data-analysis/beers/recipeData.csv' |\n",
       "|  3 | MashThickness | a double | N/A | '/m/jhnas/jupyter/shareddata/python-r-data-analysis/beers/recipeData.csv' |\n",
       "|  3 | PitchRate     | a double | N/A | '/m/jhnas/jupyter/shareddata/python-r-data-analysis/beers/recipeData.csv' |\n",
       "|  3 | PrimaryTemp   | a double | N/A | '/m/jhnas/jupyter/shareddata/python-r-data-analysis/beers/recipeData.csv' |\n",
       "|  4 | BoilGravity   | a double | N/A | '/m/jhnas/jupyter/shareddata/python-r-data-analysis/beers/recipeData.csv' |\n",
       "|  4 | MashThickness | a double | N/A | '/m/jhnas/jupyter/shareddata/python-r-data-analysis/beers/recipeData.csv' |\n",
       "|  4 | PitchRate     | a double | N/A | '/m/jhnas/jupyter/shareddata/python-r-data-analysis/beers/recipeData.csv' |\n",
       "|  4 | PrimaryTemp   | a double | N/A | '/m/jhnas/jupyter/shareddata/python-r-data-analysis/beers/recipeData.csv' |\n",
       "|  5 | MashThickness | a double | N/A | '/m/jhnas/jupyter/shareddata/python-r-data-analysis/beers/recipeData.csv' |\n",
       "|  5 | PitchRate     | a double | N/A | '/m/jhnas/jupyter/shareddata/python-r-data-analysis/beers/recipeData.csv' |\n",
       "|  6 | MashThickness | a double | N/A | '/m/jhnas/jupyter/shareddata/python-r-data-analysis/beers/recipeData.csv' |\n",
       "|  6 | PrimaryTemp   | a double | N/A | '/m/jhnas/jupyter/shareddata/python-r-data-analysis/beers/recipeData.csv' |\n",
       "|  7 | BoilGravity   | a double | N/A | '/m/jhnas/jupyter/shareddata/python-r-data-analysis/beers/recipeData.csv' |\n",
       "|  7 | MashThickness | a double | N/A | '/m/jhnas/jupyter/shareddata/python-r-data-analysis/beers/recipeData.csv' |\n",
       "|  7 | PitchRate     | a double | N/A | '/m/jhnas/jupyter/shareddata/python-r-data-analysis/beers/recipeData.csv' |\n",
       "|  7 | PrimaryTemp   | a double | N/A | '/m/jhnas/jupyter/shareddata/python-r-data-analysis/beers/recipeData.csv' |\n",
       "|  8 | PitchRate     | a double | N/A | '/m/jhnas/jupyter/shareddata/python-r-data-analysis/beers/recipeData.csv' |\n",
       "|  8 | PrimaryTemp   | a double | N/A | '/m/jhnas/jupyter/shareddata/python-r-data-analysis/beers/recipeData.csv' |\n",
       "|  9 | MashThickness | a double | N/A | '/m/jhnas/jupyter/shareddata/python-r-data-analysis/beers/recipeData.csv' |\n",
       "|  9 | PitchRate     | a double | N/A | '/m/jhnas/jupyter/shareddata/python-r-data-analysis/beers/recipeData.csv' |\n",
       "|  9 | PrimaryTemp   | a double | N/A | '/m/jhnas/jupyter/shareddata/python-r-data-analysis/beers/recipeData.csv' |\n",
       "| 10 | MashThickness | a double | N/A | '/m/jhnas/jupyter/shareddata/python-r-data-analysis/beers/recipeData.csv' |\n",
       "| 10 | PitchRate     | a double | N/A | '/m/jhnas/jupyter/shareddata/python-r-data-analysis/beers/recipeData.csv' |\n",
       "| 11 | MashThickness | a double | N/A | '/m/jhnas/jupyter/shareddata/python-r-data-analysis/beers/recipeData.csv' |\n",
       "| 12 | BoilGravity   | a double | N/A | '/m/jhnas/jupyter/shareddata/python-r-data-analysis/beers/recipeData.csv' |\n",
       "| ⋮ | ⋮ | ⋮ | ⋮ | ⋮ |\n",
       "|  88 | MashThickness | a double | N/A | '/m/jhnas/jupyter/shareddata/python-r-data-analysis/beers/recipeData.csv' |\n",
       "|  88 | PitchRate     | a double | N/A | '/m/jhnas/jupyter/shareddata/python-r-data-analysis/beers/recipeData.csv' |\n",
       "|  88 | PrimaryTemp   | a double | N/A | '/m/jhnas/jupyter/shareddata/python-r-data-analysis/beers/recipeData.csv' |\n",
       "|  89 | MashThickness | a double | N/A | '/m/jhnas/jupyter/shareddata/python-r-data-analysis/beers/recipeData.csv' |\n",
       "|  89 | PitchRate     | a double | N/A | '/m/jhnas/jupyter/shareddata/python-r-data-analysis/beers/recipeData.csv' |\n",
       "|  90 | BoilGravity   | a double | N/A | '/m/jhnas/jupyter/shareddata/python-r-data-analysis/beers/recipeData.csv' |\n",
       "|  90 | MashThickness | a double | N/A | '/m/jhnas/jupyter/shareddata/python-r-data-analysis/beers/recipeData.csv' |\n",
       "|  90 | PitchRate     | a double | N/A | '/m/jhnas/jupyter/shareddata/python-r-data-analysis/beers/recipeData.csv' |\n",
       "|  90 | PrimaryTemp   | a double | N/A | '/m/jhnas/jupyter/shareddata/python-r-data-analysis/beers/recipeData.csv' |\n",
       "|  91 | BoilGravity   | a double | N/A | '/m/jhnas/jupyter/shareddata/python-r-data-analysis/beers/recipeData.csv' |\n",
       "|  91 | MashThickness | a double | N/A | '/m/jhnas/jupyter/shareddata/python-r-data-analysis/beers/recipeData.csv' |\n",
       "|  92 | MashThickness | a double | N/A | '/m/jhnas/jupyter/shareddata/python-r-data-analysis/beers/recipeData.csv' |\n",
       "|  92 | PitchRate     | a double | N/A | '/m/jhnas/jupyter/shareddata/python-r-data-analysis/beers/recipeData.csv' |\n",
       "|  93 | BoilGravity   | a double | N/A | '/m/jhnas/jupyter/shareddata/python-r-data-analysis/beers/recipeData.csv' |\n",
       "|  93 | MashThickness | a double | N/A | '/m/jhnas/jupyter/shareddata/python-r-data-analysis/beers/recipeData.csv' |\n",
       "|  93 | PitchRate     | a double | N/A | '/m/jhnas/jupyter/shareddata/python-r-data-analysis/beers/recipeData.csv' |\n",
       "|  93 | PrimaryTemp   | a double | N/A | '/m/jhnas/jupyter/shareddata/python-r-data-analysis/beers/recipeData.csv' |\n",
       "|  96 | BoilGravity   | a double | N/A | '/m/jhnas/jupyter/shareddata/python-r-data-analysis/beers/recipeData.csv' |\n",
       "|  96 | MashThickness | a double | N/A | '/m/jhnas/jupyter/shareddata/python-r-data-analysis/beers/recipeData.csv' |\n",
       "|  96 | PitchRate     | a double | N/A | '/m/jhnas/jupyter/shareddata/python-r-data-analysis/beers/recipeData.csv' |\n",
       "|  96 | PrimaryTemp   | a double | N/A | '/m/jhnas/jupyter/shareddata/python-r-data-analysis/beers/recipeData.csv' |\n",
       "|  97 | PitchRate     | a double | N/A | '/m/jhnas/jupyter/shareddata/python-r-data-analysis/beers/recipeData.csv' |\n",
       "|  97 | PrimaryTemp   | a double | N/A | '/m/jhnas/jupyter/shareddata/python-r-data-analysis/beers/recipeData.csv' |\n",
       "|  98 | MashThickness | a double | N/A | '/m/jhnas/jupyter/shareddata/python-r-data-analysis/beers/recipeData.csv' |\n",
       "|  98 | PitchRate     | a double | N/A | '/m/jhnas/jupyter/shareddata/python-r-data-analysis/beers/recipeData.csv' |\n",
       "|  98 | PrimaryTemp   | a double | N/A | '/m/jhnas/jupyter/shareddata/python-r-data-analysis/beers/recipeData.csv' |\n",
       "| 100 | BoilGravity   | a double | N/A | '/m/jhnas/jupyter/shareddata/python-r-data-analysis/beers/recipeData.csv' |\n",
       "| 100 | MashThickness | a double | N/A | '/m/jhnas/jupyter/shareddata/python-r-data-analysis/beers/recipeData.csv' |\n",
       "| 100 | PitchRate     | a double | N/A | '/m/jhnas/jupyter/shareddata/python-r-data-analysis/beers/recipeData.csv' |\n",
       "| 100 | PrimaryTemp   | a double | N/A | '/m/jhnas/jupyter/shareddata/python-r-data-analysis/beers/recipeData.csv' |\n",
       "\n"
      ],
      "text/plain": [
       "    row col           expected actual\n",
       "1    1  MashThickness a double N/A   \n",
       "2    1  PitchRate     a double N/A   \n",
       "3    2  MashThickness a double N/A   \n",
       "4    2  PitchRate     a double N/A   \n",
       "5    2  PrimaryTemp   a double N/A   \n",
       "6    3  BoilGravity   a double N/A   \n",
       "7    3  MashThickness a double N/A   \n",
       "8    3  PitchRate     a double N/A   \n",
       "9    3  PrimaryTemp   a double N/A   \n",
       "10   4  BoilGravity   a double N/A   \n",
       "11   4  MashThickness a double N/A   \n",
       "12   4  PitchRate     a double N/A   \n",
       "13   4  PrimaryTemp   a double N/A   \n",
       "14   5  MashThickness a double N/A   \n",
       "15   5  PitchRate     a double N/A   \n",
       "16   6  MashThickness a double N/A   \n",
       "17   6  PrimaryTemp   a double N/A   \n",
       "18   7  BoilGravity   a double N/A   \n",
       "19   7  MashThickness a double N/A   \n",
       "20   7  PitchRate     a double N/A   \n",
       "21   7  PrimaryTemp   a double N/A   \n",
       "22   8  PitchRate     a double N/A   \n",
       "23   8  PrimaryTemp   a double N/A   \n",
       "24   9  MashThickness a double N/A   \n",
       "25   9  PitchRate     a double N/A   \n",
       "26   9  PrimaryTemp   a double N/A   \n",
       "27  10  MashThickness a double N/A   \n",
       "28  10  PitchRate     a double N/A   \n",
       "29  11  MashThickness a double N/A   \n",
       "30  12  BoilGravity   a double N/A   \n",
       "⋮   ⋮   ⋮             ⋮        ⋮     \n",
       "179  88 MashThickness a double N/A   \n",
       "180  88 PitchRate     a double N/A   \n",
       "181  88 PrimaryTemp   a double N/A   \n",
       "182  89 MashThickness a double N/A   \n",
       "183  89 PitchRate     a double N/A   \n",
       "184  90 BoilGravity   a double N/A   \n",
       "185  90 MashThickness a double N/A   \n",
       "186  90 PitchRate     a double N/A   \n",
       "187  90 PrimaryTemp   a double N/A   \n",
       "188  91 BoilGravity   a double N/A   \n",
       "189  91 MashThickness a double N/A   \n",
       "190  92 MashThickness a double N/A   \n",
       "191  92 PitchRate     a double N/A   \n",
       "192  93 BoilGravity   a double N/A   \n",
       "193  93 MashThickness a double N/A   \n",
       "194  93 PitchRate     a double N/A   \n",
       "195  93 PrimaryTemp   a double N/A   \n",
       "196  96 BoilGravity   a double N/A   \n",
       "197  96 MashThickness a double N/A   \n",
       "198  96 PitchRate     a double N/A   \n",
       "199  96 PrimaryTemp   a double N/A   \n",
       "200  97 PitchRate     a double N/A   \n",
       "201  97 PrimaryTemp   a double N/A   \n",
       "202  98 MashThickness a double N/A   \n",
       "203  98 PitchRate     a double N/A   \n",
       "204  98 PrimaryTemp   a double N/A   \n",
       "205 100 BoilGravity   a double N/A   \n",
       "206 100 MashThickness a double N/A   \n",
       "207 100 PitchRate     a double N/A   \n",
       "208 100 PrimaryTemp   a double N/A   \n",
       "    file                                                                     \n",
       "1   '/m/jhnas/jupyter/shareddata/python-r-data-analysis/beers/recipeData.csv'\n",
       "2   '/m/jhnas/jupyter/shareddata/python-r-data-analysis/beers/recipeData.csv'\n",
       "3   '/m/jhnas/jupyter/shareddata/python-r-data-analysis/beers/recipeData.csv'\n",
       "4   '/m/jhnas/jupyter/shareddata/python-r-data-analysis/beers/recipeData.csv'\n",
       "5   '/m/jhnas/jupyter/shareddata/python-r-data-analysis/beers/recipeData.csv'\n",
       "6   '/m/jhnas/jupyter/shareddata/python-r-data-analysis/beers/recipeData.csv'\n",
       "7   '/m/jhnas/jupyter/shareddata/python-r-data-analysis/beers/recipeData.csv'\n",
       "8   '/m/jhnas/jupyter/shareddata/python-r-data-analysis/beers/recipeData.csv'\n",
       "9   '/m/jhnas/jupyter/shareddata/python-r-data-analysis/beers/recipeData.csv'\n",
       "10  '/m/jhnas/jupyter/shareddata/python-r-data-analysis/beers/recipeData.csv'\n",
       "11  '/m/jhnas/jupyter/shareddata/python-r-data-analysis/beers/recipeData.csv'\n",
       "12  '/m/jhnas/jupyter/shareddata/python-r-data-analysis/beers/recipeData.csv'\n",
       "13  '/m/jhnas/jupyter/shareddata/python-r-data-analysis/beers/recipeData.csv'\n",
       "14  '/m/jhnas/jupyter/shareddata/python-r-data-analysis/beers/recipeData.csv'\n",
       "15  '/m/jhnas/jupyter/shareddata/python-r-data-analysis/beers/recipeData.csv'\n",
       "16  '/m/jhnas/jupyter/shareddata/python-r-data-analysis/beers/recipeData.csv'\n",
       "17  '/m/jhnas/jupyter/shareddata/python-r-data-analysis/beers/recipeData.csv'\n",
       "18  '/m/jhnas/jupyter/shareddata/python-r-data-analysis/beers/recipeData.csv'\n",
       "19  '/m/jhnas/jupyter/shareddata/python-r-data-analysis/beers/recipeData.csv'\n",
       "20  '/m/jhnas/jupyter/shareddata/python-r-data-analysis/beers/recipeData.csv'\n",
       "21  '/m/jhnas/jupyter/shareddata/python-r-data-analysis/beers/recipeData.csv'\n",
       "22  '/m/jhnas/jupyter/shareddata/python-r-data-analysis/beers/recipeData.csv'\n",
       "23  '/m/jhnas/jupyter/shareddata/python-r-data-analysis/beers/recipeData.csv'\n",
       "24  '/m/jhnas/jupyter/shareddata/python-r-data-analysis/beers/recipeData.csv'\n",
       "25  '/m/jhnas/jupyter/shareddata/python-r-data-analysis/beers/recipeData.csv'\n",
       "26  '/m/jhnas/jupyter/shareddata/python-r-data-analysis/beers/recipeData.csv'\n",
       "27  '/m/jhnas/jupyter/shareddata/python-r-data-analysis/beers/recipeData.csv'\n",
       "28  '/m/jhnas/jupyter/shareddata/python-r-data-analysis/beers/recipeData.csv'\n",
       "29  '/m/jhnas/jupyter/shareddata/python-r-data-analysis/beers/recipeData.csv'\n",
       "30  '/m/jhnas/jupyter/shareddata/python-r-data-analysis/beers/recipeData.csv'\n",
       "⋮   ⋮                                                                        \n",
       "179 '/m/jhnas/jupyter/shareddata/python-r-data-analysis/beers/recipeData.csv'\n",
       "180 '/m/jhnas/jupyter/shareddata/python-r-data-analysis/beers/recipeData.csv'\n",
       "181 '/m/jhnas/jupyter/shareddata/python-r-data-analysis/beers/recipeData.csv'\n",
       "182 '/m/jhnas/jupyter/shareddata/python-r-data-analysis/beers/recipeData.csv'\n",
       "183 '/m/jhnas/jupyter/shareddata/python-r-data-analysis/beers/recipeData.csv'\n",
       "184 '/m/jhnas/jupyter/shareddata/python-r-data-analysis/beers/recipeData.csv'\n",
       "185 '/m/jhnas/jupyter/shareddata/python-r-data-analysis/beers/recipeData.csv'\n",
       "186 '/m/jhnas/jupyter/shareddata/python-r-data-analysis/beers/recipeData.csv'\n",
       "187 '/m/jhnas/jupyter/shareddata/python-r-data-analysis/beers/recipeData.csv'\n",
       "188 '/m/jhnas/jupyter/shareddata/python-r-data-analysis/beers/recipeData.csv'\n",
       "189 '/m/jhnas/jupyter/shareddata/python-r-data-analysis/beers/recipeData.csv'\n",
       "190 '/m/jhnas/jupyter/shareddata/python-r-data-analysis/beers/recipeData.csv'\n",
       "191 '/m/jhnas/jupyter/shareddata/python-r-data-analysis/beers/recipeData.csv'\n",
       "192 '/m/jhnas/jupyter/shareddata/python-r-data-analysis/beers/recipeData.csv'\n",
       "193 '/m/jhnas/jupyter/shareddata/python-r-data-analysis/beers/recipeData.csv'\n",
       "194 '/m/jhnas/jupyter/shareddata/python-r-data-analysis/beers/recipeData.csv'\n",
       "195 '/m/jhnas/jupyter/shareddata/python-r-data-analysis/beers/recipeData.csv'\n",
       "196 '/m/jhnas/jupyter/shareddata/python-r-data-analysis/beers/recipeData.csv'\n",
       "197 '/m/jhnas/jupyter/shareddata/python-r-data-analysis/beers/recipeData.csv'\n",
       "198 '/m/jhnas/jupyter/shareddata/python-r-data-analysis/beers/recipeData.csv'\n",
       "199 '/m/jhnas/jupyter/shareddata/python-r-data-analysis/beers/recipeData.csv'\n",
       "200 '/m/jhnas/jupyter/shareddata/python-r-data-analysis/beers/recipeData.csv'\n",
       "201 '/m/jhnas/jupyter/shareddata/python-r-data-analysis/beers/recipeData.csv'\n",
       "202 '/m/jhnas/jupyter/shareddata/python-r-data-analysis/beers/recipeData.csv'\n",
       "203 '/m/jhnas/jupyter/shareddata/python-r-data-analysis/beers/recipeData.csv'\n",
       "204 '/m/jhnas/jupyter/shareddata/python-r-data-analysis/beers/recipeData.csv'\n",
       "205 '/m/jhnas/jupyter/shareddata/python-r-data-analysis/beers/recipeData.csv'\n",
       "206 '/m/jhnas/jupyter/shareddata/python-r-data-analysis/beers/recipeData.csv'\n",
       "207 '/m/jhnas/jupyter/shareddata/python-r-data-analysis/beers/recipeData.csv'\n",
       "208 '/m/jhnas/jupyter/shareddata/python-r-data-analysis/beers/recipeData.csv'"
      ]
     },
     "metadata": {},
     "output_type": "display_data"
    }
   ],
   "source": [
    "problems(beer_recipes)"
   ]
  },
  {
   "cell_type": "markdown",
   "metadata": {},
   "source": [
    "Most of the problems seem to be related to _N/A_ not being a recognized name for `NA`. Let's add that to the initial read call with `na`-argument. "
   ]
  },
  {
   "cell_type": "code",
   "execution_count": 46,
   "metadata": {},
   "outputs": [
    {
     "name": "stderr",
     "output_type": "stream",
     "text": [
      "Parsed with column specification:\n",
      "cols(\n",
      "  .default = col_double(),\n",
      "  Name = \u001b[31mcol_character()\u001b[39m,\n",
      "  URL = \u001b[31mcol_character()\u001b[39m,\n",
      "  Style = \u001b[31mcol_character()\u001b[39m,\n",
      "  SugarScale = \u001b[31mcol_character()\u001b[39m,\n",
      "  BrewMethod = \u001b[31mcol_character()\u001b[39m,\n",
      "  PrimingMethod = \u001b[31mcol_character()\u001b[39m,\n",
      "  PrimingAmount = \u001b[31mcol_character()\u001b[39m\n",
      ")\n",
      "\n",
      "See spec(...) for full column specifications.\n",
      "\n"
     ]
    },
    {
     "data": {
      "text/plain": [
       "cols(\n",
       "  BeerID = \u001b[32mcol_double()\u001b[39m,\n",
       "  Name = \u001b[31mcol_character()\u001b[39m,\n",
       "  URL = \u001b[31mcol_character()\u001b[39m,\n",
       "  Style = \u001b[31mcol_character()\u001b[39m,\n",
       "  StyleID = \u001b[32mcol_double()\u001b[39m,\n",
       "  `Size(L)` = \u001b[32mcol_double()\u001b[39m,\n",
       "  OG = \u001b[32mcol_double()\u001b[39m,\n",
       "  FG = \u001b[32mcol_double()\u001b[39m,\n",
       "  ABV = \u001b[32mcol_double()\u001b[39m,\n",
       "  IBU = \u001b[32mcol_double()\u001b[39m,\n",
       "  Color = \u001b[32mcol_double()\u001b[39m,\n",
       "  BoilSize = \u001b[32mcol_double()\u001b[39m,\n",
       "  BoilTime = \u001b[32mcol_double()\u001b[39m,\n",
       "  BoilGravity = \u001b[32mcol_double()\u001b[39m,\n",
       "  Efficiency = \u001b[32mcol_double()\u001b[39m,\n",
       "  MashThickness = \u001b[32mcol_double()\u001b[39m,\n",
       "  SugarScale = \u001b[31mcol_character()\u001b[39m,\n",
       "  BrewMethod = \u001b[31mcol_character()\u001b[39m,\n",
       "  PitchRate = \u001b[32mcol_double()\u001b[39m,\n",
       "  PrimaryTemp = \u001b[32mcol_double()\u001b[39m,\n",
       "  PrimingMethod = \u001b[31mcol_character()\u001b[39m,\n",
       "  PrimingAmount = \u001b[31mcol_character()\u001b[39m\n",
       ")"
      ]
     },
     "metadata": {},
     "output_type": "display_data"
    }
   ],
   "source": [
    "beer_recipes <- read_csv(\"/m/jhnas/jupyter/shareddata/python-r-data-analysis/beers/recipeData.csv\",na=c(\"\",\"NA\",\"N/A\"), n_max=100)\n",
    "\n",
    "spec(beer_recipes)"
   ]
  },
  {
   "cell_type": "markdown",
   "metadata": {},
   "source": [
    "Now most of the columns seem correct. Last column seems to include units (_oz_). Using mutate is probably easiest way of getting rid of them.\n",
    "\n",
    "Let' use `str_remove` to remove it  [[str_remove]](https://stringr.tidyverse.org/reference/str_remove.html).\n",
    "\n",
    "After that we can convert the column to double and use `str` to check that our dataset looks fine."
   ]
  },
  {
   "cell_type": "code",
   "execution_count": 47,
   "metadata": {},
   "outputs": [
    {
     "name": "stderr",
     "output_type": "stream",
     "text": [
      "Warning message in rlang::eval_tidy(~as.double(str_remove(PrimingAmount, \" oz\")), :\n",
      "“NAs introduced by coercion”\n"
     ]
    },
    {
     "name": "stdout",
     "output_type": "stream",
     "text": [
      "Classes ‘spec_tbl_df’, ‘tbl_df’, ‘tbl’ and 'data.frame':\t100 obs. of  22 variables:\n",
      " $ BeerID       : num  1 2 3 4 5 6 7 8 9 10 ...\n",
      " $ Name         : chr  \"Vanilla Cream Ale\" \"Southern Tier Pumking clone\" \"Zombie Dust Clone - EXTRACT\" \"Zombie Dust Clone - ALL GRAIN\" ...\n",
      " $ URL          : chr  \"/homebrew/recipe/view/1633/vanilla-cream-ale\" \"/homebrew/recipe/view/16367/southern-tier-pumking-clone\" \"/homebrew/recipe/view/5920/zombie-dust-clone-extract\" \"/homebrew/recipe/view/5916/zombie-dust-clone-all-grain\" ...\n",
      " $ Style        : chr  \"Cream Ale\" \"Holiday/Winter Special Spiced Beer\" \"American IPA\" \"American IPA\" ...\n",
      " $ StyleID      : num  45 85 7 7 20 10 86 45 129 86 ...\n",
      " $ Size(L)      : num  21.8 20.8 18.9 22.7 50 ...\n",
      " $ OG           : num  1.05 1.08 1.06 1.06 1.06 ...\n",
      " $ FG           : num  1.01 1.02 1.02 1.02 1.01 ...\n",
      " $ ABV          : num  5.48 8.16 5.91 5.8 6.48 5.58 7.09 5.36 5.77 8.22 ...\n",
      " $ IBU          : num  17.6 60.6 59.2 54.5 17.8 ...\n",
      " $ Color        : num  4.83 15.64 8.98 8.5 4.57 ...\n",
      " $ BoilSize     : num  28.4 24.6 22.7 26.5 60 ...\n",
      " $ BoilTime     : num  75 60 60 60 90 70 90 75 75 60 ...\n",
      " $ BoilGravity  : num  1.04 1.07 NA NA 1.05 ...\n",
      " $ Efficiency   : num  70 70 70 70 72 79 75 70 73 70 ...\n",
      " $ MashThickness: num  NA NA NA NA NA NA NA 1.4 NA NA ...\n",
      " $ SugarScale   : chr  \"Specific Gravity\" \"Specific Gravity\" \"Specific Gravity\" \"Specific Gravity\" ...\n",
      " $ BrewMethod   : chr  \"All Grain\" \"All Grain\" \"extract\" \"All Grain\" ...\n",
      " $ PitchRate    : num  NA NA NA NA NA 1 NA NA NA NA ...\n",
      " $ PrimaryTemp  : num  17.8 NA NA NA 19 ...\n",
      " $ PrimingMethod: chr  \"corn sugar\" NA NA NA ...\n",
      " $ PrimingAmount: num  4.5 NA NA NA NA NA NA 4.2 4 NA ...\n"
     ]
    }
   ],
   "source": [
    "beer_recipes <- beer_recipes %>%\n",
    "    mutate(PrimingAmount=as.double(str_remove(PrimingAmount, ' oz')))\n",
    "\n",
    "str(beer_recipes)"
   ]
  },
  {
   "cell_type": "markdown",
   "metadata": {},
   "source": [
    "Let's say that we want to write the resulting `tibble` in a format that is easily readable in Excel.\n",
    "\n",
    "For this we'd want to use `write_excel_csv` (there are similar functions for normal csv, tsv etc.) [[write_excel_csv]](http://readr.tidyverse.org/reference/write_delim.html).  "
   ]
  },
  {
   "cell_type": "code",
   "execution_count": 51,
   "metadata": {},
   "outputs": [],
   "source": [
    "write_excel_csv(beer_recipes, 'beer-recipes-excel-format.csv')"
   ]
  },
  {
   "cell_type": "markdown",
   "metadata": {},
   "source": [
    "# Feather\n",
    "\n",
    "Let's say you have a big dataset you have pre-processed with R, but want to analyze with Python. The new feather-format that uses Apache Arrow's data specification is created by the creators of Tidy-R and Pandas and it should be interoprable with both of them [[feather's page in Github]](https://github.com/wesm/feather).\n",
    "\n",
    "What matters the most is that it is fast and compact (because it is a binary data format).\n",
    "\n",
    "Using it is simple, just load `feather`-library an write data with `write_feather` [[write_feather]](https://cran.r-project.org/web/packages/feather/feather.pdf).\n",
    "\n",
    "Loading data is done with `read_feather`.\n",
    "\n",
    "Do note that more complex structures like nested tibbles do not necessarily fit into a feather.\n",
    "\n",
    "To install `feather` one needs to run `install.packages('feather')` in R terminal or Rstudio."
   ]
  },
  {
   "cell_type": "code",
   "execution_count": 53,
   "metadata": {},
   "outputs": [],
   "source": [
    "library(feather)\n",
    "\n",
    "write_feather(beer_recipes,'beer_recipes.feather')\n",
    "\n",
    "beer_recipes2 <- read_feather('beer_recipes.feather')"
   ]
  },
  {
   "cell_type": "markdown",
   "metadata": {},
   "source": [
    "# Database access\n",
    "\n",
    "There exists a package `DBI` that defines a common interface that can be used to access various different databases [[DBI]](https://dbi.r-dbi.org/).\n",
    "\n",
    "To install `DBI`, one needs to run `install.packages('DBI')` in R terminal or Rstudio.\n",
    "\n",
    "When using `DBI`, one can also use `dbplyr` to run `tidyverse` verbs (`select`, `map`, etc.) to database queries without loading the whole database into memory.\n",
    "\n",
    "To install `dbplyr`, one needs to run `install.packages('dbplyr')` in R terminal or Rstudio."
   ]
  },
  {
   "cell_type": "markdown",
   "metadata": {},
   "source": [
    "# Exercise time:\n",
    "\n",
    "1. Modify column specifications for FIFA World Cup match data [[1]](https://www.kaggle.com/abecklas/fifa-world-cup). Use `col_datetime` in `col_types` to get a good specification for column _DateTime_ [[col_datetime]](http://readr.tidyverse.org/reference/parse_datetime.html). Use `col_factor` to make columns _Round_, _Stadium_, _City_, _HomeTeam_ and _AwayTeam_ into factors.\n",
    "2. Store the resulting tibble as a feather."
   ]
  },
  {
   "cell_type": "code",
   "execution_count": null,
   "metadata": {},
   "outputs": [],
   "source": [
    "fifa_matches <- read_csv(\"fifa/WorldCupMatches.csv\")"
   ]
  },
  {
   "cell_type": "markdown",
   "metadata": {},
   "source": [
    "# Solutions:\n",
    "\n",
    "## 1."
   ]
  },
  {
   "cell_type": "code",
   "execution_count": null,
   "metadata": {},
   "outputs": [],
   "source": [
    "fifa_matches <- read_csv(\"fifa/WorldCupMatches.csv\",\n",
    "                         col_types=cols(\n",
    "                             DateTime=col_datetime('%d%.%b%+%Y%+%R'),\n",
    "                             Round=col_factor(levels=NULL),\n",
    "                             Stadium=col_factor(levels=NULL),\n",
    "                             City=col_factor(levels=NULL),\n",
    "                             HomeTeam=col_factor(levels=NULL),\n",
    "                             AwayTeam=col_factor(levels=NULL)\n",
    "                         )\n",
    "                )\n",
    "\n",
    "str(fifa_matches)"
   ]
  },
  {
   "cell_type": "markdown",
   "metadata": {},
   "source": [
    "## 2."
   ]
  },
  {
   "cell_type": "code",
   "execution_count": null,
   "metadata": {},
   "outputs": [],
   "source": [
    "write_feather(fifa_matches,'fifa_matches.feather')"
   ]
  },
  {
   "cell_type": "code",
   "execution_count": null,
   "metadata": {},
   "outputs": [],
   "source": []
  }
 ],
 "metadata": {
  "kernelspec": {
   "display_name": "R",
   "language": "R",
   "name": "ir"
  },
  "language_info": {
   "codemirror_mode": "r",
   "file_extension": ".r",
   "mimetype": "text/x-r-source",
   "name": "R",
   "pygments_lexer": "r",
   "version": "3.4.4"
  }
 },
 "nbformat": 4,
 "nbformat_minor": 4
}

{
 "cells": [
  {
   "cell_type": "markdown",
   "metadata": {},
   "source": [
    "# Data access\n",
    "\n",
    "## CSV files\n",
    "\n",
    "There's multiple functions in the `readr` for CSV file reading. Let's use them on a dataset available in Kaggle that has homemade beer recipes from Brewer's Friend [[1]](https://www.kaggle.com/jtrofe/beer-recipes).\n",
    "\n",
    "Let's check the first few lines of the data with base R's `file` and `readLines`."
   ]
  },
  {
   "cell_type": "code",
   "execution_count": 1,
   "metadata": {},
   "outputs": [
    {
     "name": "stdout",
     "output_type": "stream",
     "text": [
      "[1] \"BeerID,Name,URL,Style,StyleID,Size(L),OG,FG,ABV,IBU,Color,BoilSize,BoilTime,BoilGravity,Efficiency,MashThickness,SugarScale,BrewMethod,PitchRate,PrimaryTemp,PrimingMethod,PrimingAmount\"    \n",
      "[2] \"1,Vanilla Cream Ale,/homebrew/recipe/view/1633/vanilla-cream-ale,Cream Ale,45,21.77,1.055,1.013,5.48,17.65,4.83,28.39,75,1.038,70,N/A,Specific Gravity,All Grain,N/A,17.78,corn sugar,4.5 oz\"\n"
     ]
    }
   ],
   "source": [
    "example_file <- file(\"/m/jhnas/jupyter/shareddata/python-r-data-analysis/beers/recipeData.csv\",'r')\n",
    "first_lines <- readLines(example_file,n=2)\n",
    "close(example_file)\n",
    "\n",
    "print(first_lines)"
   ]
  },
  {
   "cell_type": "markdown",
   "metadata": {},
   "source": [
    "Before we choose which reader we want to use we need to check the format of the data. \n",
    "\n",
    "`readr` has predefined functions for the following data formats [[1]](http://readr.tidyverse.org/reference/read_delim.html):\n",
    "- `read_delim` parses generic data delimited by a character\n",
    "- `read_csv` assumes that the data is delimited by commas\n",
    "- `read_csv2` assumes that the data is delimited by semicolons\n",
    "- `read_tsv` assumes that the data is delimited by tabs\n",
    "\n",
    "In this case we want to use `read_csv`. Do note that we limit ourselves to first 100 values for faster parsing."
   ]
  },
  {
   "cell_type": "code",
   "execution_count": 2,
   "metadata": {},
   "outputs": [
    {
     "name": "stderr",
     "output_type": "stream",
     "text": [
      "── \u001b[1mAttaching packages\u001b[22m ─────────────────────────────────────── tidyverse 1.2.1 ──\n",
      "\n",
      "\u001b[32m✔\u001b[39m \u001b[34mggplot2\u001b[39m 3.2.0     \u001b[32m✔\u001b[39m \u001b[34mpurrr  \u001b[39m 0.3.2\n",
      "\u001b[32m✔\u001b[39m \u001b[34mtibble \u001b[39m 2.1.3     \u001b[32m✔\u001b[39m \u001b[34mdplyr  \u001b[39m 0.8.3\n",
      "\u001b[32m✔\u001b[39m \u001b[34mtidyr  \u001b[39m 0.8.3     \u001b[32m✔\u001b[39m \u001b[34mstringr\u001b[39m 1.4.0\n",
      "\u001b[32m✔\u001b[39m \u001b[34mreadr  \u001b[39m 1.3.1     \u001b[32m✔\u001b[39m \u001b[34mforcats\u001b[39m 0.4.0\n",
      "\n",
      "── \u001b[1mConflicts\u001b[22m ────────────────────────────────────────── tidyverse_conflicts() ──\n",
      "\u001b[31m✖\u001b[39m \u001b[34mdplyr\u001b[39m::\u001b[32mfilter()\u001b[39m masks \u001b[34mstats\u001b[39m::filter()\n",
      "\u001b[31m✖\u001b[39m \u001b[34mdplyr\u001b[39m::\u001b[32mlag()\u001b[39m    masks \u001b[34mstats\u001b[39m::lag()\n",
      "\n",
      "Parsed with column specification:\n",
      "cols(\n",
      "  .default = col_character(),\n",
      "  BeerID = \u001b[32mcol_double()\u001b[39m,\n",
      "  StyleID = \u001b[32mcol_double()\u001b[39m,\n",
      "  `Size(L)` = \u001b[32mcol_double()\u001b[39m,\n",
      "  OG = \u001b[32mcol_double()\u001b[39m,\n",
      "  FG = \u001b[32mcol_double()\u001b[39m,\n",
      "  ABV = \u001b[32mcol_double()\u001b[39m,\n",
      "  IBU = \u001b[32mcol_double()\u001b[39m,\n",
      "  Color = \u001b[32mcol_double()\u001b[39m,\n",
      "  BoilSize = \u001b[32mcol_double()\u001b[39m,\n",
      "  BoilTime = \u001b[32mcol_double()\u001b[39m,\n",
      "  Efficiency = \u001b[32mcol_double()\u001b[39m\n",
      ")\n",
      "\n",
      "See spec(...) for full column specifications.\n",
      "\n"
     ]
    }
   ],
   "source": [
    "library(tidyverse)\n",
    "\n",
    "beer_recipes <- read_csv(\"/m/jhnas/jupyter/shareddata/python-r-data-analysis/beers/recipeData.csv\", n_max=100)"
   ]
  },
  {
   "cell_type": "markdown",
   "metadata": {},
   "source": [
    "From the output one can see that `read_csv` tries to parse the datatype of the column automatically.\n",
    "\n",
    "By running `spec` one can see the full definitons."
   ]
  },
  {
   "cell_type": "code",
   "execution_count": 3,
   "metadata": {},
   "outputs": [
    {
     "data": {
      "text/plain": [
       "cols(\n",
       "  BeerID = \u001b[32mcol_double()\u001b[39m,\n",
       "  Name = \u001b[31mcol_character()\u001b[39m,\n",
       "  URL = \u001b[31mcol_character()\u001b[39m,\n",
       "  Style = \u001b[31mcol_character()\u001b[39m,\n",
       "  StyleID = \u001b[32mcol_double()\u001b[39m,\n",
       "  `Size(L)` = \u001b[32mcol_double()\u001b[39m,\n",
       "  OG = \u001b[32mcol_double()\u001b[39m,\n",
       "  FG = \u001b[32mcol_double()\u001b[39m,\n",
       "  ABV = \u001b[32mcol_double()\u001b[39m,\n",
       "  IBU = \u001b[32mcol_double()\u001b[39m,\n",
       "  Color = \u001b[32mcol_double()\u001b[39m,\n",
       "  BoilSize = \u001b[32mcol_double()\u001b[39m,\n",
       "  BoilTime = \u001b[32mcol_double()\u001b[39m,\n",
       "  BoilGravity = \u001b[31mcol_character()\u001b[39m,\n",
       "  Efficiency = \u001b[32mcol_double()\u001b[39m,\n",
       "  MashThickness = \u001b[31mcol_character()\u001b[39m,\n",
       "  SugarScale = \u001b[31mcol_character()\u001b[39m,\n",
       "  BrewMethod = \u001b[31mcol_character()\u001b[39m,\n",
       "  PitchRate = \u001b[31mcol_character()\u001b[39m,\n",
       "  PrimaryTemp = \u001b[31mcol_character()\u001b[39m,\n",
       "  PrimingMethod = \u001b[31mcol_character()\u001b[39m,\n",
       "  PrimingAmount = \u001b[31mcol_character()\u001b[39m\n",
       ")"
      ]
     },
     "metadata": {},
     "output_type": "display_data"
    }
   ],
   "source": [
    "spec(beer_recipes)"
   ]
  },
  {
   "cell_type": "markdown",
   "metadata": {},
   "source": [
    "Many of the data columns seem to be characters instead of numbers. Let's use `col_types`-argument to specify a better definition."
   ]
  },
  {
   "cell_type": "code",
   "execution_count": 4,
   "metadata": {},
   "outputs": [
    {
     "name": "stderr",
     "output_type": "stream",
     "text": [
      "Warning message:\n",
      "“208 parsing failures.\n",
      "row           col expected actual                                                                      file\n",
      "  1 MashThickness a double    N/A '/m/jhnas/jupyter/shareddata/python-r-data-analysis/beers/recipeData.csv'\n",
      "  1 PitchRate     a double    N/A '/m/jhnas/jupyter/shareddata/python-r-data-analysis/beers/recipeData.csv'\n",
      "  2 MashThickness a double    N/A '/m/jhnas/jupyter/shareddata/python-r-data-analysis/beers/recipeData.csv'\n",
      "  2 PitchRate     a double    N/A '/m/jhnas/jupyter/shareddata/python-r-data-analysis/beers/recipeData.csv'\n",
      "  2 PrimaryTemp   a double    N/A '/m/jhnas/jupyter/shareddata/python-r-data-analysis/beers/recipeData.csv'\n",
      "... ............. ........ ...... .........................................................................\n",
      "See problems(...) for more details.\n",
      "”\n"
     ]
    }
   ],
   "source": [
    "\n",
    "beer_recipes <- read_csv(\"/m/jhnas/jupyter/shareddata/python-r-data-analysis/beers/recipeData.csv\",\n",
    "    col_types=cols(\n",
    "      BeerID = col_integer(),\n",
    "      Name = col_character(),\n",
    "      URL = col_character(),\n",
    "      Style = col_character(),\n",
    "      StyleID = col_integer(),\n",
    "      `Size(L)` = col_double(),\n",
    "      OG = col_double(),\n",
    "      FG = col_double(),\n",
    "      ABV = col_double(),\n",
    "      IBU = col_double(),\n",
    "      Color = col_double(),\n",
    "      BoilSize = col_double(),\n",
    "      BoilTime = col_double(),\n",
    "      BoilGravity = col_double(),\n",
    "      Efficiency = col_double(),\n",
    "      MashThickness = col_double(),\n",
    "      SugarScale = col_character(),\n",
    "      BrewMethod = col_character(),\n",
    "      PitchRate = col_double(),\n",
    "      PrimaryTemp = col_double(),\n",
    "      PrimingMethod = col_character(),\n",
    "      PrimingAmount = col_character()\n",
    "    ),\n",
    "    n_max=100\n",
    ")"
   ]
  },
  {
   "cell_type": "markdown",
   "metadata": {},
   "source": [
    "This produced a lot of problems. Let's check the problems with `problems`."
   ]
  },
  {
   "cell_type": "code",
   "execution_count": 5,
   "metadata": {},
   "outputs": [
    {
     "data": {
      "text/html": [
       "<table>\n",
       "<caption>A tibble: 208 × 5</caption>\n",
       "<thead>\n",
       "\t<tr><th scope=col>row</th><th scope=col>col</th><th scope=col>expected</th><th scope=col>actual</th><th scope=col>file</th></tr>\n",
       "\t<tr><th scope=col>&lt;int&gt;</th><th scope=col>&lt;chr&gt;</th><th scope=col>&lt;chr&gt;</th><th scope=col>&lt;chr&gt;</th><th scope=col>&lt;chr&gt;</th></tr>\n",
       "</thead>\n",
       "<tbody>\n",
       "\t<tr><td> 1</td><td>MashThickness</td><td>a double</td><td>N/A</td><td>'/m/jhnas/jupyter/shareddata/python-r-data-analysis/beers/recipeData.csv'</td></tr>\n",
       "\t<tr><td> 1</td><td>PitchRate    </td><td>a double</td><td>N/A</td><td>'/m/jhnas/jupyter/shareddata/python-r-data-analysis/beers/recipeData.csv'</td></tr>\n",
       "\t<tr><td> 2</td><td>MashThickness</td><td>a double</td><td>N/A</td><td>'/m/jhnas/jupyter/shareddata/python-r-data-analysis/beers/recipeData.csv'</td></tr>\n",
       "\t<tr><td> 2</td><td>PitchRate    </td><td>a double</td><td>N/A</td><td>'/m/jhnas/jupyter/shareddata/python-r-data-analysis/beers/recipeData.csv'</td></tr>\n",
       "\t<tr><td> 2</td><td>PrimaryTemp  </td><td>a double</td><td>N/A</td><td>'/m/jhnas/jupyter/shareddata/python-r-data-analysis/beers/recipeData.csv'</td></tr>\n",
       "\t<tr><td> 3</td><td>BoilGravity  </td><td>a double</td><td>N/A</td><td>'/m/jhnas/jupyter/shareddata/python-r-data-analysis/beers/recipeData.csv'</td></tr>\n",
       "\t<tr><td> 3</td><td>MashThickness</td><td>a double</td><td>N/A</td><td>'/m/jhnas/jupyter/shareddata/python-r-data-analysis/beers/recipeData.csv'</td></tr>\n",
       "\t<tr><td> 3</td><td>PitchRate    </td><td>a double</td><td>N/A</td><td>'/m/jhnas/jupyter/shareddata/python-r-data-analysis/beers/recipeData.csv'</td></tr>\n",
       "\t<tr><td> 3</td><td>PrimaryTemp  </td><td>a double</td><td>N/A</td><td>'/m/jhnas/jupyter/shareddata/python-r-data-analysis/beers/recipeData.csv'</td></tr>\n",
       "\t<tr><td> 4</td><td>BoilGravity  </td><td>a double</td><td>N/A</td><td>'/m/jhnas/jupyter/shareddata/python-r-data-analysis/beers/recipeData.csv'</td></tr>\n",
       "\t<tr><td> 4</td><td>MashThickness</td><td>a double</td><td>N/A</td><td>'/m/jhnas/jupyter/shareddata/python-r-data-analysis/beers/recipeData.csv'</td></tr>\n",
       "\t<tr><td> 4</td><td>PitchRate    </td><td>a double</td><td>N/A</td><td>'/m/jhnas/jupyter/shareddata/python-r-data-analysis/beers/recipeData.csv'</td></tr>\n",
       "\t<tr><td> 4</td><td>PrimaryTemp  </td><td>a double</td><td>N/A</td><td>'/m/jhnas/jupyter/shareddata/python-r-data-analysis/beers/recipeData.csv'</td></tr>\n",
       "\t<tr><td> 5</td><td>MashThickness</td><td>a double</td><td>N/A</td><td>'/m/jhnas/jupyter/shareddata/python-r-data-analysis/beers/recipeData.csv'</td></tr>\n",
       "\t<tr><td> 5</td><td>PitchRate    </td><td>a double</td><td>N/A</td><td>'/m/jhnas/jupyter/shareddata/python-r-data-analysis/beers/recipeData.csv'</td></tr>\n",
       "\t<tr><td> 6</td><td>MashThickness</td><td>a double</td><td>N/A</td><td>'/m/jhnas/jupyter/shareddata/python-r-data-analysis/beers/recipeData.csv'</td></tr>\n",
       "\t<tr><td> 6</td><td>PrimaryTemp  </td><td>a double</td><td>N/A</td><td>'/m/jhnas/jupyter/shareddata/python-r-data-analysis/beers/recipeData.csv'</td></tr>\n",
       "\t<tr><td> 7</td><td>BoilGravity  </td><td>a double</td><td>N/A</td><td>'/m/jhnas/jupyter/shareddata/python-r-data-analysis/beers/recipeData.csv'</td></tr>\n",
       "\t<tr><td> 7</td><td>MashThickness</td><td>a double</td><td>N/A</td><td>'/m/jhnas/jupyter/shareddata/python-r-data-analysis/beers/recipeData.csv'</td></tr>\n",
       "\t<tr><td> 7</td><td>PitchRate    </td><td>a double</td><td>N/A</td><td>'/m/jhnas/jupyter/shareddata/python-r-data-analysis/beers/recipeData.csv'</td></tr>\n",
       "\t<tr><td> 7</td><td>PrimaryTemp  </td><td>a double</td><td>N/A</td><td>'/m/jhnas/jupyter/shareddata/python-r-data-analysis/beers/recipeData.csv'</td></tr>\n",
       "\t<tr><td> 8</td><td>PitchRate    </td><td>a double</td><td>N/A</td><td>'/m/jhnas/jupyter/shareddata/python-r-data-analysis/beers/recipeData.csv'</td></tr>\n",
       "\t<tr><td> 8</td><td>PrimaryTemp  </td><td>a double</td><td>N/A</td><td>'/m/jhnas/jupyter/shareddata/python-r-data-analysis/beers/recipeData.csv'</td></tr>\n",
       "\t<tr><td> 9</td><td>MashThickness</td><td>a double</td><td>N/A</td><td>'/m/jhnas/jupyter/shareddata/python-r-data-analysis/beers/recipeData.csv'</td></tr>\n",
       "\t<tr><td> 9</td><td>PitchRate    </td><td>a double</td><td>N/A</td><td>'/m/jhnas/jupyter/shareddata/python-r-data-analysis/beers/recipeData.csv'</td></tr>\n",
       "\t<tr><td> 9</td><td>PrimaryTemp  </td><td>a double</td><td>N/A</td><td>'/m/jhnas/jupyter/shareddata/python-r-data-analysis/beers/recipeData.csv'</td></tr>\n",
       "\t<tr><td>10</td><td>MashThickness</td><td>a double</td><td>N/A</td><td>'/m/jhnas/jupyter/shareddata/python-r-data-analysis/beers/recipeData.csv'</td></tr>\n",
       "\t<tr><td>10</td><td>PitchRate    </td><td>a double</td><td>N/A</td><td>'/m/jhnas/jupyter/shareddata/python-r-data-analysis/beers/recipeData.csv'</td></tr>\n",
       "\t<tr><td>11</td><td>MashThickness</td><td>a double</td><td>N/A</td><td>'/m/jhnas/jupyter/shareddata/python-r-data-analysis/beers/recipeData.csv'</td></tr>\n",
       "\t<tr><td>12</td><td>BoilGravity  </td><td>a double</td><td>N/A</td><td>'/m/jhnas/jupyter/shareddata/python-r-data-analysis/beers/recipeData.csv'</td></tr>\n",
       "\t<tr><td>⋮</td><td>⋮</td><td>⋮</td><td>⋮</td><td>⋮</td></tr>\n",
       "\t<tr><td> 88</td><td>MashThickness</td><td>a double</td><td>N/A</td><td>'/m/jhnas/jupyter/shareddata/python-r-data-analysis/beers/recipeData.csv'</td></tr>\n",
       "\t<tr><td> 88</td><td>PitchRate    </td><td>a double</td><td>N/A</td><td>'/m/jhnas/jupyter/shareddata/python-r-data-analysis/beers/recipeData.csv'</td></tr>\n",
       "\t<tr><td> 88</td><td>PrimaryTemp  </td><td>a double</td><td>N/A</td><td>'/m/jhnas/jupyter/shareddata/python-r-data-analysis/beers/recipeData.csv'</td></tr>\n",
       "\t<tr><td> 89</td><td>MashThickness</td><td>a double</td><td>N/A</td><td>'/m/jhnas/jupyter/shareddata/python-r-data-analysis/beers/recipeData.csv'</td></tr>\n",
       "\t<tr><td> 89</td><td>PitchRate    </td><td>a double</td><td>N/A</td><td>'/m/jhnas/jupyter/shareddata/python-r-data-analysis/beers/recipeData.csv'</td></tr>\n",
       "\t<tr><td> 90</td><td>BoilGravity  </td><td>a double</td><td>N/A</td><td>'/m/jhnas/jupyter/shareddata/python-r-data-analysis/beers/recipeData.csv'</td></tr>\n",
       "\t<tr><td> 90</td><td>MashThickness</td><td>a double</td><td>N/A</td><td>'/m/jhnas/jupyter/shareddata/python-r-data-analysis/beers/recipeData.csv'</td></tr>\n",
       "\t<tr><td> 90</td><td>PitchRate    </td><td>a double</td><td>N/A</td><td>'/m/jhnas/jupyter/shareddata/python-r-data-analysis/beers/recipeData.csv'</td></tr>\n",
       "\t<tr><td> 90</td><td>PrimaryTemp  </td><td>a double</td><td>N/A</td><td>'/m/jhnas/jupyter/shareddata/python-r-data-analysis/beers/recipeData.csv'</td></tr>\n",
       "\t<tr><td> 91</td><td>BoilGravity  </td><td>a double</td><td>N/A</td><td>'/m/jhnas/jupyter/shareddata/python-r-data-analysis/beers/recipeData.csv'</td></tr>\n",
       "\t<tr><td> 91</td><td>MashThickness</td><td>a double</td><td>N/A</td><td>'/m/jhnas/jupyter/shareddata/python-r-data-analysis/beers/recipeData.csv'</td></tr>\n",
       "\t<tr><td> 92</td><td>MashThickness</td><td>a double</td><td>N/A</td><td>'/m/jhnas/jupyter/shareddata/python-r-data-analysis/beers/recipeData.csv'</td></tr>\n",
       "\t<tr><td> 92</td><td>PitchRate    </td><td>a double</td><td>N/A</td><td>'/m/jhnas/jupyter/shareddata/python-r-data-analysis/beers/recipeData.csv'</td></tr>\n",
       "\t<tr><td> 93</td><td>BoilGravity  </td><td>a double</td><td>N/A</td><td>'/m/jhnas/jupyter/shareddata/python-r-data-analysis/beers/recipeData.csv'</td></tr>\n",
       "\t<tr><td> 93</td><td>MashThickness</td><td>a double</td><td>N/A</td><td>'/m/jhnas/jupyter/shareddata/python-r-data-analysis/beers/recipeData.csv'</td></tr>\n",
       "\t<tr><td> 93</td><td>PitchRate    </td><td>a double</td><td>N/A</td><td>'/m/jhnas/jupyter/shareddata/python-r-data-analysis/beers/recipeData.csv'</td></tr>\n",
       "\t<tr><td> 93</td><td>PrimaryTemp  </td><td>a double</td><td>N/A</td><td>'/m/jhnas/jupyter/shareddata/python-r-data-analysis/beers/recipeData.csv'</td></tr>\n",
       "\t<tr><td> 96</td><td>BoilGravity  </td><td>a double</td><td>N/A</td><td>'/m/jhnas/jupyter/shareddata/python-r-data-analysis/beers/recipeData.csv'</td></tr>\n",
       "\t<tr><td> 96</td><td>MashThickness</td><td>a double</td><td>N/A</td><td>'/m/jhnas/jupyter/shareddata/python-r-data-analysis/beers/recipeData.csv'</td></tr>\n",
       "\t<tr><td> 96</td><td>PitchRate    </td><td>a double</td><td>N/A</td><td>'/m/jhnas/jupyter/shareddata/python-r-data-analysis/beers/recipeData.csv'</td></tr>\n",
       "\t<tr><td> 96</td><td>PrimaryTemp  </td><td>a double</td><td>N/A</td><td>'/m/jhnas/jupyter/shareddata/python-r-data-analysis/beers/recipeData.csv'</td></tr>\n",
       "\t<tr><td> 97</td><td>PitchRate    </td><td>a double</td><td>N/A</td><td>'/m/jhnas/jupyter/shareddata/python-r-data-analysis/beers/recipeData.csv'</td></tr>\n",
       "\t<tr><td> 97</td><td>PrimaryTemp  </td><td>a double</td><td>N/A</td><td>'/m/jhnas/jupyter/shareddata/python-r-data-analysis/beers/recipeData.csv'</td></tr>\n",
       "\t<tr><td> 98</td><td>MashThickness</td><td>a double</td><td>N/A</td><td>'/m/jhnas/jupyter/shareddata/python-r-data-analysis/beers/recipeData.csv'</td></tr>\n",
       "\t<tr><td> 98</td><td>PitchRate    </td><td>a double</td><td>N/A</td><td>'/m/jhnas/jupyter/shareddata/python-r-data-analysis/beers/recipeData.csv'</td></tr>\n",
       "\t<tr><td> 98</td><td>PrimaryTemp  </td><td>a double</td><td>N/A</td><td>'/m/jhnas/jupyter/shareddata/python-r-data-analysis/beers/recipeData.csv'</td></tr>\n",
       "\t<tr><td>100</td><td>BoilGravity  </td><td>a double</td><td>N/A</td><td>'/m/jhnas/jupyter/shareddata/python-r-data-analysis/beers/recipeData.csv'</td></tr>\n",
       "\t<tr><td>100</td><td>MashThickness</td><td>a double</td><td>N/A</td><td>'/m/jhnas/jupyter/shareddata/python-r-data-analysis/beers/recipeData.csv'</td></tr>\n",
       "\t<tr><td>100</td><td>PitchRate    </td><td>a double</td><td>N/A</td><td>'/m/jhnas/jupyter/shareddata/python-r-data-analysis/beers/recipeData.csv'</td></tr>\n",
       "\t<tr><td>100</td><td>PrimaryTemp  </td><td>a double</td><td>N/A</td><td>'/m/jhnas/jupyter/shareddata/python-r-data-analysis/beers/recipeData.csv'</td></tr>\n",
       "</tbody>\n",
       "</table>\n"
      ],
      "text/latex": [
       "A tibble: 208 × 5\n",
       "\\begin{tabular}{r|lllll}\n",
       " row & col & expected & actual & file\\\\\n",
       " <int> & <chr> & <chr> & <chr> & <chr>\\\\\n",
       "\\hline\n",
       "\t  1 & MashThickness & a double & N/A & '/m/jhnas/jupyter/shareddata/python-r-data-analysis/beers/recipeData.csv'\\\\\n",
       "\t  1 & PitchRate     & a double & N/A & '/m/jhnas/jupyter/shareddata/python-r-data-analysis/beers/recipeData.csv'\\\\\n",
       "\t  2 & MashThickness & a double & N/A & '/m/jhnas/jupyter/shareddata/python-r-data-analysis/beers/recipeData.csv'\\\\\n",
       "\t  2 & PitchRate     & a double & N/A & '/m/jhnas/jupyter/shareddata/python-r-data-analysis/beers/recipeData.csv'\\\\\n",
       "\t  2 & PrimaryTemp   & a double & N/A & '/m/jhnas/jupyter/shareddata/python-r-data-analysis/beers/recipeData.csv'\\\\\n",
       "\t  3 & BoilGravity   & a double & N/A & '/m/jhnas/jupyter/shareddata/python-r-data-analysis/beers/recipeData.csv'\\\\\n",
       "\t  3 & MashThickness & a double & N/A & '/m/jhnas/jupyter/shareddata/python-r-data-analysis/beers/recipeData.csv'\\\\\n",
       "\t  3 & PitchRate     & a double & N/A & '/m/jhnas/jupyter/shareddata/python-r-data-analysis/beers/recipeData.csv'\\\\\n",
       "\t  3 & PrimaryTemp   & a double & N/A & '/m/jhnas/jupyter/shareddata/python-r-data-analysis/beers/recipeData.csv'\\\\\n",
       "\t  4 & BoilGravity   & a double & N/A & '/m/jhnas/jupyter/shareddata/python-r-data-analysis/beers/recipeData.csv'\\\\\n",
       "\t  4 & MashThickness & a double & N/A & '/m/jhnas/jupyter/shareddata/python-r-data-analysis/beers/recipeData.csv'\\\\\n",
       "\t  4 & PitchRate     & a double & N/A & '/m/jhnas/jupyter/shareddata/python-r-data-analysis/beers/recipeData.csv'\\\\\n",
       "\t  4 & PrimaryTemp   & a double & N/A & '/m/jhnas/jupyter/shareddata/python-r-data-analysis/beers/recipeData.csv'\\\\\n",
       "\t  5 & MashThickness & a double & N/A & '/m/jhnas/jupyter/shareddata/python-r-data-analysis/beers/recipeData.csv'\\\\\n",
       "\t  5 & PitchRate     & a double & N/A & '/m/jhnas/jupyter/shareddata/python-r-data-analysis/beers/recipeData.csv'\\\\\n",
       "\t  6 & MashThickness & a double & N/A & '/m/jhnas/jupyter/shareddata/python-r-data-analysis/beers/recipeData.csv'\\\\\n",
       "\t  6 & PrimaryTemp   & a double & N/A & '/m/jhnas/jupyter/shareddata/python-r-data-analysis/beers/recipeData.csv'\\\\\n",
       "\t  7 & BoilGravity   & a double & N/A & '/m/jhnas/jupyter/shareddata/python-r-data-analysis/beers/recipeData.csv'\\\\\n",
       "\t  7 & MashThickness & a double & N/A & '/m/jhnas/jupyter/shareddata/python-r-data-analysis/beers/recipeData.csv'\\\\\n",
       "\t  7 & PitchRate     & a double & N/A & '/m/jhnas/jupyter/shareddata/python-r-data-analysis/beers/recipeData.csv'\\\\\n",
       "\t  7 & PrimaryTemp   & a double & N/A & '/m/jhnas/jupyter/shareddata/python-r-data-analysis/beers/recipeData.csv'\\\\\n",
       "\t  8 & PitchRate     & a double & N/A & '/m/jhnas/jupyter/shareddata/python-r-data-analysis/beers/recipeData.csv'\\\\\n",
       "\t  8 & PrimaryTemp   & a double & N/A & '/m/jhnas/jupyter/shareddata/python-r-data-analysis/beers/recipeData.csv'\\\\\n",
       "\t  9 & MashThickness & a double & N/A & '/m/jhnas/jupyter/shareddata/python-r-data-analysis/beers/recipeData.csv'\\\\\n",
       "\t  9 & PitchRate     & a double & N/A & '/m/jhnas/jupyter/shareddata/python-r-data-analysis/beers/recipeData.csv'\\\\\n",
       "\t  9 & PrimaryTemp   & a double & N/A & '/m/jhnas/jupyter/shareddata/python-r-data-analysis/beers/recipeData.csv'\\\\\n",
       "\t 10 & MashThickness & a double & N/A & '/m/jhnas/jupyter/shareddata/python-r-data-analysis/beers/recipeData.csv'\\\\\n",
       "\t 10 & PitchRate     & a double & N/A & '/m/jhnas/jupyter/shareddata/python-r-data-analysis/beers/recipeData.csv'\\\\\n",
       "\t 11 & MashThickness & a double & N/A & '/m/jhnas/jupyter/shareddata/python-r-data-analysis/beers/recipeData.csv'\\\\\n",
       "\t 12 & BoilGravity   & a double & N/A & '/m/jhnas/jupyter/shareddata/python-r-data-analysis/beers/recipeData.csv'\\\\\n",
       "\t ⋮ & ⋮ & ⋮ & ⋮ & ⋮\\\\\n",
       "\t  88 & MashThickness & a double & N/A & '/m/jhnas/jupyter/shareddata/python-r-data-analysis/beers/recipeData.csv'\\\\\n",
       "\t  88 & PitchRate     & a double & N/A & '/m/jhnas/jupyter/shareddata/python-r-data-analysis/beers/recipeData.csv'\\\\\n",
       "\t  88 & PrimaryTemp   & a double & N/A & '/m/jhnas/jupyter/shareddata/python-r-data-analysis/beers/recipeData.csv'\\\\\n",
       "\t  89 & MashThickness & a double & N/A & '/m/jhnas/jupyter/shareddata/python-r-data-analysis/beers/recipeData.csv'\\\\\n",
       "\t  89 & PitchRate     & a double & N/A & '/m/jhnas/jupyter/shareddata/python-r-data-analysis/beers/recipeData.csv'\\\\\n",
       "\t  90 & BoilGravity   & a double & N/A & '/m/jhnas/jupyter/shareddata/python-r-data-analysis/beers/recipeData.csv'\\\\\n",
       "\t  90 & MashThickness & a double & N/A & '/m/jhnas/jupyter/shareddata/python-r-data-analysis/beers/recipeData.csv'\\\\\n",
       "\t  90 & PitchRate     & a double & N/A & '/m/jhnas/jupyter/shareddata/python-r-data-analysis/beers/recipeData.csv'\\\\\n",
       "\t  90 & PrimaryTemp   & a double & N/A & '/m/jhnas/jupyter/shareddata/python-r-data-analysis/beers/recipeData.csv'\\\\\n",
       "\t  91 & BoilGravity   & a double & N/A & '/m/jhnas/jupyter/shareddata/python-r-data-analysis/beers/recipeData.csv'\\\\\n",
       "\t  91 & MashThickness & a double & N/A & '/m/jhnas/jupyter/shareddata/python-r-data-analysis/beers/recipeData.csv'\\\\\n",
       "\t  92 & MashThickness & a double & N/A & '/m/jhnas/jupyter/shareddata/python-r-data-analysis/beers/recipeData.csv'\\\\\n",
       "\t  92 & PitchRate     & a double & N/A & '/m/jhnas/jupyter/shareddata/python-r-data-analysis/beers/recipeData.csv'\\\\\n",
       "\t  93 & BoilGravity   & a double & N/A & '/m/jhnas/jupyter/shareddata/python-r-data-analysis/beers/recipeData.csv'\\\\\n",
       "\t  93 & MashThickness & a double & N/A & '/m/jhnas/jupyter/shareddata/python-r-data-analysis/beers/recipeData.csv'\\\\\n",
       "\t  93 & PitchRate     & a double & N/A & '/m/jhnas/jupyter/shareddata/python-r-data-analysis/beers/recipeData.csv'\\\\\n",
       "\t  93 & PrimaryTemp   & a double & N/A & '/m/jhnas/jupyter/shareddata/python-r-data-analysis/beers/recipeData.csv'\\\\\n",
       "\t  96 & BoilGravity   & a double & N/A & '/m/jhnas/jupyter/shareddata/python-r-data-analysis/beers/recipeData.csv'\\\\\n",
       "\t  96 & MashThickness & a double & N/A & '/m/jhnas/jupyter/shareddata/python-r-data-analysis/beers/recipeData.csv'\\\\\n",
       "\t  96 & PitchRate     & a double & N/A & '/m/jhnas/jupyter/shareddata/python-r-data-analysis/beers/recipeData.csv'\\\\\n",
       "\t  96 & PrimaryTemp   & a double & N/A & '/m/jhnas/jupyter/shareddata/python-r-data-analysis/beers/recipeData.csv'\\\\\n",
       "\t  97 & PitchRate     & a double & N/A & '/m/jhnas/jupyter/shareddata/python-r-data-analysis/beers/recipeData.csv'\\\\\n",
       "\t  97 & PrimaryTemp   & a double & N/A & '/m/jhnas/jupyter/shareddata/python-r-data-analysis/beers/recipeData.csv'\\\\\n",
       "\t  98 & MashThickness & a double & N/A & '/m/jhnas/jupyter/shareddata/python-r-data-analysis/beers/recipeData.csv'\\\\\n",
       "\t  98 & PitchRate     & a double & N/A & '/m/jhnas/jupyter/shareddata/python-r-data-analysis/beers/recipeData.csv'\\\\\n",
       "\t  98 & PrimaryTemp   & a double & N/A & '/m/jhnas/jupyter/shareddata/python-r-data-analysis/beers/recipeData.csv'\\\\\n",
       "\t 100 & BoilGravity   & a double & N/A & '/m/jhnas/jupyter/shareddata/python-r-data-analysis/beers/recipeData.csv'\\\\\n",
       "\t 100 & MashThickness & a double & N/A & '/m/jhnas/jupyter/shareddata/python-r-data-analysis/beers/recipeData.csv'\\\\\n",
       "\t 100 & PitchRate     & a double & N/A & '/m/jhnas/jupyter/shareddata/python-r-data-analysis/beers/recipeData.csv'\\\\\n",
       "\t 100 & PrimaryTemp   & a double & N/A & '/m/jhnas/jupyter/shareddata/python-r-data-analysis/beers/recipeData.csv'\\\\\n",
       "\\end{tabular}\n"
      ],
      "text/markdown": [
       "\n",
       "A tibble: 208 × 5\n",
       "\n",
       "| row &lt;int&gt; | col &lt;chr&gt; | expected &lt;chr&gt; | actual &lt;chr&gt; | file &lt;chr&gt; |\n",
       "|---|---|---|---|---|\n",
       "|  1 | MashThickness | a double | N/A | '/m/jhnas/jupyter/shareddata/python-r-data-analysis/beers/recipeData.csv' |\n",
       "|  1 | PitchRate     | a double | N/A | '/m/jhnas/jupyter/shareddata/python-r-data-analysis/beers/recipeData.csv' |\n",
       "|  2 | MashThickness | a double | N/A | '/m/jhnas/jupyter/shareddata/python-r-data-analysis/beers/recipeData.csv' |\n",
       "|  2 | PitchRate     | a double | N/A | '/m/jhnas/jupyter/shareddata/python-r-data-analysis/beers/recipeData.csv' |\n",
       "|  2 | PrimaryTemp   | a double | N/A | '/m/jhnas/jupyter/shareddata/python-r-data-analysis/beers/recipeData.csv' |\n",
       "|  3 | BoilGravity   | a double | N/A | '/m/jhnas/jupyter/shareddata/python-r-data-analysis/beers/recipeData.csv' |\n",
       "|  3 | MashThickness | a double | N/A | '/m/jhnas/jupyter/shareddata/python-r-data-analysis/beers/recipeData.csv' |\n",
       "|  3 | PitchRate     | a double | N/A | '/m/jhnas/jupyter/shareddata/python-r-data-analysis/beers/recipeData.csv' |\n",
       "|  3 | PrimaryTemp   | a double | N/A | '/m/jhnas/jupyter/shareddata/python-r-data-analysis/beers/recipeData.csv' |\n",
       "|  4 | BoilGravity   | a double | N/A | '/m/jhnas/jupyter/shareddata/python-r-data-analysis/beers/recipeData.csv' |\n",
       "|  4 | MashThickness | a double | N/A | '/m/jhnas/jupyter/shareddata/python-r-data-analysis/beers/recipeData.csv' |\n",
       "|  4 | PitchRate     | a double | N/A | '/m/jhnas/jupyter/shareddata/python-r-data-analysis/beers/recipeData.csv' |\n",
       "|  4 | PrimaryTemp   | a double | N/A | '/m/jhnas/jupyter/shareddata/python-r-data-analysis/beers/recipeData.csv' |\n",
       "|  5 | MashThickness | a double | N/A | '/m/jhnas/jupyter/shareddata/python-r-data-analysis/beers/recipeData.csv' |\n",
       "|  5 | PitchRate     | a double | N/A | '/m/jhnas/jupyter/shareddata/python-r-data-analysis/beers/recipeData.csv' |\n",
       "|  6 | MashThickness | a double | N/A | '/m/jhnas/jupyter/shareddata/python-r-data-analysis/beers/recipeData.csv' |\n",
       "|  6 | PrimaryTemp   | a double | N/A | '/m/jhnas/jupyter/shareddata/python-r-data-analysis/beers/recipeData.csv' |\n",
       "|  7 | BoilGravity   | a double | N/A | '/m/jhnas/jupyter/shareddata/python-r-data-analysis/beers/recipeData.csv' |\n",
       "|  7 | MashThickness | a double | N/A | '/m/jhnas/jupyter/shareddata/python-r-data-analysis/beers/recipeData.csv' |\n",
       "|  7 | PitchRate     | a double | N/A | '/m/jhnas/jupyter/shareddata/python-r-data-analysis/beers/recipeData.csv' |\n",
       "|  7 | PrimaryTemp   | a double | N/A | '/m/jhnas/jupyter/shareddata/python-r-data-analysis/beers/recipeData.csv' |\n",
       "|  8 | PitchRate     | a double | N/A | '/m/jhnas/jupyter/shareddata/python-r-data-analysis/beers/recipeData.csv' |\n",
       "|  8 | PrimaryTemp   | a double | N/A | '/m/jhnas/jupyter/shareddata/python-r-data-analysis/beers/recipeData.csv' |\n",
       "|  9 | MashThickness | a double | N/A | '/m/jhnas/jupyter/shareddata/python-r-data-analysis/beers/recipeData.csv' |\n",
       "|  9 | PitchRate     | a double | N/A | '/m/jhnas/jupyter/shareddata/python-r-data-analysis/beers/recipeData.csv' |\n",
       "|  9 | PrimaryTemp   | a double | N/A | '/m/jhnas/jupyter/shareddata/python-r-data-analysis/beers/recipeData.csv' |\n",
       "| 10 | MashThickness | a double | N/A | '/m/jhnas/jupyter/shareddata/python-r-data-analysis/beers/recipeData.csv' |\n",
       "| 10 | PitchRate     | a double | N/A | '/m/jhnas/jupyter/shareddata/python-r-data-analysis/beers/recipeData.csv' |\n",
       "| 11 | MashThickness | a double | N/A | '/m/jhnas/jupyter/shareddata/python-r-data-analysis/beers/recipeData.csv' |\n",
       "| 12 | BoilGravity   | a double | N/A | '/m/jhnas/jupyter/shareddata/python-r-data-analysis/beers/recipeData.csv' |\n",
       "| ⋮ | ⋮ | ⋮ | ⋮ | ⋮ |\n",
       "|  88 | MashThickness | a double | N/A | '/m/jhnas/jupyter/shareddata/python-r-data-analysis/beers/recipeData.csv' |\n",
       "|  88 | PitchRate     | a double | N/A | '/m/jhnas/jupyter/shareddata/python-r-data-analysis/beers/recipeData.csv' |\n",
       "|  88 | PrimaryTemp   | a double | N/A | '/m/jhnas/jupyter/shareddata/python-r-data-analysis/beers/recipeData.csv' |\n",
       "|  89 | MashThickness | a double | N/A | '/m/jhnas/jupyter/shareddata/python-r-data-analysis/beers/recipeData.csv' |\n",
       "|  89 | PitchRate     | a double | N/A | '/m/jhnas/jupyter/shareddata/python-r-data-analysis/beers/recipeData.csv' |\n",
       "|  90 | BoilGravity   | a double | N/A | '/m/jhnas/jupyter/shareddata/python-r-data-analysis/beers/recipeData.csv' |\n",
       "|  90 | MashThickness | a double | N/A | '/m/jhnas/jupyter/shareddata/python-r-data-analysis/beers/recipeData.csv' |\n",
       "|  90 | PitchRate     | a double | N/A | '/m/jhnas/jupyter/shareddata/python-r-data-analysis/beers/recipeData.csv' |\n",
       "|  90 | PrimaryTemp   | a double | N/A | '/m/jhnas/jupyter/shareddata/python-r-data-analysis/beers/recipeData.csv' |\n",
       "|  91 | BoilGravity   | a double | N/A | '/m/jhnas/jupyter/shareddata/python-r-data-analysis/beers/recipeData.csv' |\n",
       "|  91 | MashThickness | a double | N/A | '/m/jhnas/jupyter/shareddata/python-r-data-analysis/beers/recipeData.csv' |\n",
       "|  92 | MashThickness | a double | N/A | '/m/jhnas/jupyter/shareddata/python-r-data-analysis/beers/recipeData.csv' |\n",
       "|  92 | PitchRate     | a double | N/A | '/m/jhnas/jupyter/shareddata/python-r-data-analysis/beers/recipeData.csv' |\n",
       "|  93 | BoilGravity   | a double | N/A | '/m/jhnas/jupyter/shareddata/python-r-data-analysis/beers/recipeData.csv' |\n",
       "|  93 | MashThickness | a double | N/A | '/m/jhnas/jupyter/shareddata/python-r-data-analysis/beers/recipeData.csv' |\n",
       "|  93 | PitchRate     | a double | N/A | '/m/jhnas/jupyter/shareddata/python-r-data-analysis/beers/recipeData.csv' |\n",
       "|  93 | PrimaryTemp   | a double | N/A | '/m/jhnas/jupyter/shareddata/python-r-data-analysis/beers/recipeData.csv' |\n",
       "|  96 | BoilGravity   | a double | N/A | '/m/jhnas/jupyter/shareddata/python-r-data-analysis/beers/recipeData.csv' |\n",
       "|  96 | MashThickness | a double | N/A | '/m/jhnas/jupyter/shareddata/python-r-data-analysis/beers/recipeData.csv' |\n",
       "|  96 | PitchRate     | a double | N/A | '/m/jhnas/jupyter/shareddata/python-r-data-analysis/beers/recipeData.csv' |\n",
       "|  96 | PrimaryTemp   | a double | N/A | '/m/jhnas/jupyter/shareddata/python-r-data-analysis/beers/recipeData.csv' |\n",
       "|  97 | PitchRate     | a double | N/A | '/m/jhnas/jupyter/shareddata/python-r-data-analysis/beers/recipeData.csv' |\n",
       "|  97 | PrimaryTemp   | a double | N/A | '/m/jhnas/jupyter/shareddata/python-r-data-analysis/beers/recipeData.csv' |\n",
       "|  98 | MashThickness | a double | N/A | '/m/jhnas/jupyter/shareddata/python-r-data-analysis/beers/recipeData.csv' |\n",
       "|  98 | PitchRate     | a double | N/A | '/m/jhnas/jupyter/shareddata/python-r-data-analysis/beers/recipeData.csv' |\n",
       "|  98 | PrimaryTemp   | a double | N/A | '/m/jhnas/jupyter/shareddata/python-r-data-analysis/beers/recipeData.csv' |\n",
       "| 100 | BoilGravity   | a double | N/A | '/m/jhnas/jupyter/shareddata/python-r-data-analysis/beers/recipeData.csv' |\n",
       "| 100 | MashThickness | a double | N/A | '/m/jhnas/jupyter/shareddata/python-r-data-analysis/beers/recipeData.csv' |\n",
       "| 100 | PitchRate     | a double | N/A | '/m/jhnas/jupyter/shareddata/python-r-data-analysis/beers/recipeData.csv' |\n",
       "| 100 | PrimaryTemp   | a double | N/A | '/m/jhnas/jupyter/shareddata/python-r-data-analysis/beers/recipeData.csv' |\n",
       "\n"
      ],
      "text/plain": [
       "    row col           expected actual\n",
       "1    1  MashThickness a double N/A   \n",
       "2    1  PitchRate     a double N/A   \n",
       "3    2  MashThickness a double N/A   \n",
       "4    2  PitchRate     a double N/A   \n",
       "5    2  PrimaryTemp   a double N/A   \n",
       "6    3  BoilGravity   a double N/A   \n",
       "7    3  MashThickness a double N/A   \n",
       "8    3  PitchRate     a double N/A   \n",
       "9    3  PrimaryTemp   a double N/A   \n",
       "10   4  BoilGravity   a double N/A   \n",
       "11   4  MashThickness a double N/A   \n",
       "12   4  PitchRate     a double N/A   \n",
       "13   4  PrimaryTemp   a double N/A   \n",
       "14   5  MashThickness a double N/A   \n",
       "15   5  PitchRate     a double N/A   \n",
       "16   6  MashThickness a double N/A   \n",
       "17   6  PrimaryTemp   a double N/A   \n",
       "18   7  BoilGravity   a double N/A   \n",
       "19   7  MashThickness a double N/A   \n",
       "20   7  PitchRate     a double N/A   \n",
       "21   7  PrimaryTemp   a double N/A   \n",
       "22   8  PitchRate     a double N/A   \n",
       "23   8  PrimaryTemp   a double N/A   \n",
       "24   9  MashThickness a double N/A   \n",
       "25   9  PitchRate     a double N/A   \n",
       "26   9  PrimaryTemp   a double N/A   \n",
       "27  10  MashThickness a double N/A   \n",
       "28  10  PitchRate     a double N/A   \n",
       "29  11  MashThickness a double N/A   \n",
       "30  12  BoilGravity   a double N/A   \n",
       "⋮   ⋮   ⋮             ⋮        ⋮     \n",
       "179  88 MashThickness a double N/A   \n",
       "180  88 PitchRate     a double N/A   \n",
       "181  88 PrimaryTemp   a double N/A   \n",
       "182  89 MashThickness a double N/A   \n",
       "183  89 PitchRate     a double N/A   \n",
       "184  90 BoilGravity   a double N/A   \n",
       "185  90 MashThickness a double N/A   \n",
       "186  90 PitchRate     a double N/A   \n",
       "187  90 PrimaryTemp   a double N/A   \n",
       "188  91 BoilGravity   a double N/A   \n",
       "189  91 MashThickness a double N/A   \n",
       "190  92 MashThickness a double N/A   \n",
       "191  92 PitchRate     a double N/A   \n",
       "192  93 BoilGravity   a double N/A   \n",
       "193  93 MashThickness a double N/A   \n",
       "194  93 PitchRate     a double N/A   \n",
       "195  93 PrimaryTemp   a double N/A   \n",
       "196  96 BoilGravity   a double N/A   \n",
       "197  96 MashThickness a double N/A   \n",
       "198  96 PitchRate     a double N/A   \n",
       "199  96 PrimaryTemp   a double N/A   \n",
       "200  97 PitchRate     a double N/A   \n",
       "201  97 PrimaryTemp   a double N/A   \n",
       "202  98 MashThickness a double N/A   \n",
       "203  98 PitchRate     a double N/A   \n",
       "204  98 PrimaryTemp   a double N/A   \n",
       "205 100 BoilGravity   a double N/A   \n",
       "206 100 MashThickness a double N/A   \n",
       "207 100 PitchRate     a double N/A   \n",
       "208 100 PrimaryTemp   a double N/A   \n",
       "    file                                                                     \n",
       "1   '/m/jhnas/jupyter/shareddata/python-r-data-analysis/beers/recipeData.csv'\n",
       "2   '/m/jhnas/jupyter/shareddata/python-r-data-analysis/beers/recipeData.csv'\n",
       "3   '/m/jhnas/jupyter/shareddata/python-r-data-analysis/beers/recipeData.csv'\n",
       "4   '/m/jhnas/jupyter/shareddata/python-r-data-analysis/beers/recipeData.csv'\n",
       "5   '/m/jhnas/jupyter/shareddata/python-r-data-analysis/beers/recipeData.csv'\n",
       "6   '/m/jhnas/jupyter/shareddata/python-r-data-analysis/beers/recipeData.csv'\n",
       "7   '/m/jhnas/jupyter/shareddata/python-r-data-analysis/beers/recipeData.csv'\n",
       "8   '/m/jhnas/jupyter/shareddata/python-r-data-analysis/beers/recipeData.csv'\n",
       "9   '/m/jhnas/jupyter/shareddata/python-r-data-analysis/beers/recipeData.csv'\n",
       "10  '/m/jhnas/jupyter/shareddata/python-r-data-analysis/beers/recipeData.csv'\n",
       "11  '/m/jhnas/jupyter/shareddata/python-r-data-analysis/beers/recipeData.csv'\n",
       "12  '/m/jhnas/jupyter/shareddata/python-r-data-analysis/beers/recipeData.csv'\n",
       "13  '/m/jhnas/jupyter/shareddata/python-r-data-analysis/beers/recipeData.csv'\n",
       "14  '/m/jhnas/jupyter/shareddata/python-r-data-analysis/beers/recipeData.csv'\n",
       "15  '/m/jhnas/jupyter/shareddata/python-r-data-analysis/beers/recipeData.csv'\n",
       "16  '/m/jhnas/jupyter/shareddata/python-r-data-analysis/beers/recipeData.csv'\n",
       "17  '/m/jhnas/jupyter/shareddata/python-r-data-analysis/beers/recipeData.csv'\n",
       "18  '/m/jhnas/jupyter/shareddata/python-r-data-analysis/beers/recipeData.csv'\n",
       "19  '/m/jhnas/jupyter/shareddata/python-r-data-analysis/beers/recipeData.csv'\n",
       "20  '/m/jhnas/jupyter/shareddata/python-r-data-analysis/beers/recipeData.csv'\n",
       "21  '/m/jhnas/jupyter/shareddata/python-r-data-analysis/beers/recipeData.csv'\n",
       "22  '/m/jhnas/jupyter/shareddata/python-r-data-analysis/beers/recipeData.csv'\n",
       "23  '/m/jhnas/jupyter/shareddata/python-r-data-analysis/beers/recipeData.csv'\n",
       "24  '/m/jhnas/jupyter/shareddata/python-r-data-analysis/beers/recipeData.csv'\n",
       "25  '/m/jhnas/jupyter/shareddata/python-r-data-analysis/beers/recipeData.csv'\n",
       "26  '/m/jhnas/jupyter/shareddata/python-r-data-analysis/beers/recipeData.csv'\n",
       "27  '/m/jhnas/jupyter/shareddata/python-r-data-analysis/beers/recipeData.csv'\n",
       "28  '/m/jhnas/jupyter/shareddata/python-r-data-analysis/beers/recipeData.csv'\n",
       "29  '/m/jhnas/jupyter/shareddata/python-r-data-analysis/beers/recipeData.csv'\n",
       "30  '/m/jhnas/jupyter/shareddata/python-r-data-analysis/beers/recipeData.csv'\n",
       "⋮   ⋮                                                                        \n",
       "179 '/m/jhnas/jupyter/shareddata/python-r-data-analysis/beers/recipeData.csv'\n",
       "180 '/m/jhnas/jupyter/shareddata/python-r-data-analysis/beers/recipeData.csv'\n",
       "181 '/m/jhnas/jupyter/shareddata/python-r-data-analysis/beers/recipeData.csv'\n",
       "182 '/m/jhnas/jupyter/shareddata/python-r-data-analysis/beers/recipeData.csv'\n",
       "183 '/m/jhnas/jupyter/shareddata/python-r-data-analysis/beers/recipeData.csv'\n",
       "184 '/m/jhnas/jupyter/shareddata/python-r-data-analysis/beers/recipeData.csv'\n",
       "185 '/m/jhnas/jupyter/shareddata/python-r-data-analysis/beers/recipeData.csv'\n",
       "186 '/m/jhnas/jupyter/shareddata/python-r-data-analysis/beers/recipeData.csv'\n",
       "187 '/m/jhnas/jupyter/shareddata/python-r-data-analysis/beers/recipeData.csv'\n",
       "188 '/m/jhnas/jupyter/shareddata/python-r-data-analysis/beers/recipeData.csv'\n",
       "189 '/m/jhnas/jupyter/shareddata/python-r-data-analysis/beers/recipeData.csv'\n",
       "190 '/m/jhnas/jupyter/shareddata/python-r-data-analysis/beers/recipeData.csv'\n",
       "191 '/m/jhnas/jupyter/shareddata/python-r-data-analysis/beers/recipeData.csv'\n",
       "192 '/m/jhnas/jupyter/shareddata/python-r-data-analysis/beers/recipeData.csv'\n",
       "193 '/m/jhnas/jupyter/shareddata/python-r-data-analysis/beers/recipeData.csv'\n",
       "194 '/m/jhnas/jupyter/shareddata/python-r-data-analysis/beers/recipeData.csv'\n",
       "195 '/m/jhnas/jupyter/shareddata/python-r-data-analysis/beers/recipeData.csv'\n",
       "196 '/m/jhnas/jupyter/shareddata/python-r-data-analysis/beers/recipeData.csv'\n",
       "197 '/m/jhnas/jupyter/shareddata/python-r-data-analysis/beers/recipeData.csv'\n",
       "198 '/m/jhnas/jupyter/shareddata/python-r-data-analysis/beers/recipeData.csv'\n",
       "199 '/m/jhnas/jupyter/shareddata/python-r-data-analysis/beers/recipeData.csv'\n",
       "200 '/m/jhnas/jupyter/shareddata/python-r-data-analysis/beers/recipeData.csv'\n",
       "201 '/m/jhnas/jupyter/shareddata/python-r-data-analysis/beers/recipeData.csv'\n",
       "202 '/m/jhnas/jupyter/shareddata/python-r-data-analysis/beers/recipeData.csv'\n",
       "203 '/m/jhnas/jupyter/shareddata/python-r-data-analysis/beers/recipeData.csv'\n",
       "204 '/m/jhnas/jupyter/shareddata/python-r-data-analysis/beers/recipeData.csv'\n",
       "205 '/m/jhnas/jupyter/shareddata/python-r-data-analysis/beers/recipeData.csv'\n",
       "206 '/m/jhnas/jupyter/shareddata/python-r-data-analysis/beers/recipeData.csv'\n",
       "207 '/m/jhnas/jupyter/shareddata/python-r-data-analysis/beers/recipeData.csv'\n",
       "208 '/m/jhnas/jupyter/shareddata/python-r-data-analysis/beers/recipeData.csv'"
      ]
     },
     "metadata": {},
     "output_type": "display_data"
    }
   ],
   "source": [
    "problems(beer_recipes)"
   ]
  },
  {
   "cell_type": "markdown",
   "metadata": {},
   "source": [
    "Most of the problems seem to be related to _N/A_ not being a recognized name for `NA`. Let's add that to the initial read call with `na`-argument. "
   ]
  },
  {
   "cell_type": "code",
   "execution_count": 6,
   "metadata": {},
   "outputs": [
    {
     "name": "stderr",
     "output_type": "stream",
     "text": [
      "Parsed with column specification:\n",
      "cols(\n",
      "  .default = col_double(),\n",
      "  Name = \u001b[31mcol_character()\u001b[39m,\n",
      "  URL = \u001b[31mcol_character()\u001b[39m,\n",
      "  Style = \u001b[31mcol_character()\u001b[39m,\n",
      "  SugarScale = \u001b[31mcol_character()\u001b[39m,\n",
      "  BrewMethod = \u001b[31mcol_character()\u001b[39m,\n",
      "  PrimingMethod = \u001b[31mcol_character()\u001b[39m,\n",
      "  PrimingAmount = \u001b[31mcol_character()\u001b[39m\n",
      ")\n",
      "\n",
      "See spec(...) for full column specifications.\n",
      "\n"
     ]
    },
    {
     "data": {
      "text/plain": [
       "cols(\n",
       "  BeerID = \u001b[32mcol_double()\u001b[39m,\n",
       "  Name = \u001b[31mcol_character()\u001b[39m,\n",
       "  URL = \u001b[31mcol_character()\u001b[39m,\n",
       "  Style = \u001b[31mcol_character()\u001b[39m,\n",
       "  StyleID = \u001b[32mcol_double()\u001b[39m,\n",
       "  `Size(L)` = \u001b[32mcol_double()\u001b[39m,\n",
       "  OG = \u001b[32mcol_double()\u001b[39m,\n",
       "  FG = \u001b[32mcol_double()\u001b[39m,\n",
       "  ABV = \u001b[32mcol_double()\u001b[39m,\n",
       "  IBU = \u001b[32mcol_double()\u001b[39m,\n",
       "  Color = \u001b[32mcol_double()\u001b[39m,\n",
       "  BoilSize = \u001b[32mcol_double()\u001b[39m,\n",
       "  BoilTime = \u001b[32mcol_double()\u001b[39m,\n",
       "  BoilGravity = \u001b[32mcol_double()\u001b[39m,\n",
       "  Efficiency = \u001b[32mcol_double()\u001b[39m,\n",
       "  MashThickness = \u001b[32mcol_double()\u001b[39m,\n",
       "  SugarScale = \u001b[31mcol_character()\u001b[39m,\n",
       "  BrewMethod = \u001b[31mcol_character()\u001b[39m,\n",
       "  PitchRate = \u001b[32mcol_double()\u001b[39m,\n",
       "  PrimaryTemp = \u001b[32mcol_double()\u001b[39m,\n",
       "  PrimingMethod = \u001b[31mcol_character()\u001b[39m,\n",
       "  PrimingAmount = \u001b[31mcol_character()\u001b[39m\n",
       ")"
      ]
     },
     "metadata": {},
     "output_type": "display_data"
    }
   ],
   "source": [
    "beer_recipes <- read_csv(\"/m/jhnas/jupyter/shareddata/python-r-data-analysis/beers/recipeData.csv\",na=c(\"\",\"NA\",\"N/A\"), n_max=100)\n",
    "\n",
    "spec(beer_recipes)"
   ]
  },
  {
   "cell_type": "markdown",
   "metadata": {},
   "source": [
    "Now most of the columns seem correct. Last column seems to include units (_oz_). Using mutate is probably easiest way of getting rid of them.\n",
    "\n",
    "Let' use `str_remove` to remove it  [[str_remove]](https://stringr.tidyverse.org/reference/str_remove.html).\n",
    "\n",
    "After that we can convert the column to double and use `str` to check that our dataset looks fine."
   ]
  },
  {
   "cell_type": "code",
   "execution_count": 7,
   "metadata": {},
   "outputs": [
    {
     "name": "stderr",
     "output_type": "stream",
     "text": [
      "Warning message in rlang::eval_tidy(~as.double(str_remove(PrimingAmount, \" oz\")), :\n",
      "“NAs introduced by coercion”\n"
     ]
    },
    {
     "name": "stdout",
     "output_type": "stream",
     "text": [
      "Classes ‘spec_tbl_df’, ‘tbl_df’, ‘tbl’ and 'data.frame':\t100 obs. of  22 variables:\n",
      " $ BeerID       : num  1 2 3 4 5 6 7 8 9 10 ...\n",
      " $ Name         : chr  \"Vanilla Cream Ale\" \"Southern Tier Pumking clone\" \"Zombie Dust Clone - EXTRACT\" \"Zombie Dust Clone - ALL GRAIN\" ...\n",
      " $ URL          : chr  \"/homebrew/recipe/view/1633/vanilla-cream-ale\" \"/homebrew/recipe/view/16367/southern-tier-pumking-clone\" \"/homebrew/recipe/view/5920/zombie-dust-clone-extract\" \"/homebrew/recipe/view/5916/zombie-dust-clone-all-grain\" ...\n",
      " $ Style        : chr  \"Cream Ale\" \"Holiday/Winter Special Spiced Beer\" \"American IPA\" \"American IPA\" ...\n",
      " $ StyleID      : num  45 85 7 7 20 10 86 45 129 86 ...\n",
      " $ Size(L)      : num  21.8 20.8 18.9 22.7 50 ...\n",
      " $ OG           : num  1.05 1.08 1.06 1.06 1.06 ...\n",
      " $ FG           : num  1.01 1.02 1.02 1.02 1.01 ...\n",
      " $ ABV          : num  5.48 8.16 5.91 5.8 6.48 5.58 7.09 5.36 5.77 8.22 ...\n",
      " $ IBU          : num  17.6 60.6 59.2 54.5 17.8 ...\n",
      " $ Color        : num  4.83 15.64 8.98 8.5 4.57 ...\n",
      " $ BoilSize     : num  28.4 24.6 22.7 26.5 60 ...\n",
      " $ BoilTime     : num  75 60 60 60 90 70 90 75 75 60 ...\n",
      " $ BoilGravity  : num  1.04 1.07 NA NA 1.05 ...\n",
      " $ Efficiency   : num  70 70 70 70 72 79 75 70 73 70 ...\n",
      " $ MashThickness: num  NA NA NA NA NA NA NA 1.4 NA NA ...\n",
      " $ SugarScale   : chr  \"Specific Gravity\" \"Specific Gravity\" \"Specific Gravity\" \"Specific Gravity\" ...\n",
      " $ BrewMethod   : chr  \"All Grain\" \"All Grain\" \"extract\" \"All Grain\" ...\n",
      " $ PitchRate    : num  NA NA NA NA NA 1 NA NA NA NA ...\n",
      " $ PrimaryTemp  : num  17.8 NA NA NA 19 ...\n",
      " $ PrimingMethod: chr  \"corn sugar\" NA NA NA ...\n",
      " $ PrimingAmount: num  4.5 NA NA NA NA NA NA 4.2 4 NA ...\n"
     ]
    }
   ],
   "source": [
    "beer_recipes <- beer_recipes %>%\n",
    "    mutate(PrimingAmount=as.double(str_remove(PrimingAmount, ' oz')))\n",
    "\n",
    "str(beer_recipes)"
   ]
  },
  {
   "cell_type": "markdown",
   "metadata": {},
   "source": [
    "Let's say that we want to write the resulting `tibble` in a format that is easily readable in Excel.\n",
    "\n",
    "For this we'd want to use `write_excel_csv` (there are similar functions for normal csv, tsv etc.) [[write_excel_csv]](http://readr.tidyverse.org/reference/write_delim.html).  "
   ]
  },
  {
   "cell_type": "code",
   "execution_count": 8,
   "metadata": {},
   "outputs": [],
   "source": [
    "write_excel_csv(beer_recipes, 'beer-recipes-excel-format.csv')"
   ]
  },
  {
   "cell_type": "markdown",
   "metadata": {},
   "source": [
    "# Feather\n",
    "\n",
    "Let's say you have a big dataset you have pre-processed with R, but want to analyze with Python. The new feather-format that uses Apache Arrow's data specification is created by the creators of Tidy-R and Pandas and it should be interoprable with both of them [[feather's page in Github]](https://github.com/wesm/feather).\n",
    "\n",
    "What matters the most is that it is fast and compact (because it is a binary data format).\n",
    "\n",
    "Using it is simple, just load `feather`-library an write data with `write_feather` [[write_feather]](https://cran.r-project.org/web/packages/feather/feather.pdf).\n",
    "\n",
    "Loading data is done with `read_feather`.\n",
    "\n",
    "Do note that more complex structures like nested tibbles do not necessarily fit into a feather.\n",
    "\n",
    "Let's install `feather`:"
   ]
  },
  {
   "cell_type": "code",
   "execution_count": 9,
   "metadata": {},
   "outputs": [],
   "source": [
    "if (!file.exists('rlibs')) {\n",
    "    dir.create('rlibs')\n",
    "}\n",
    "if (!file.exists('rlibs/feather')) {\n",
    "    install.packages('feather', repos=\"http://cran.r-project.org\", lib='rlibs')\n",
    "}\n",
    "library(feather, lib.loc='rlibs')"
   ]
  },
  {
   "cell_type": "code",
   "execution_count": 10,
   "metadata": {},
   "outputs": [],
   "source": [
    "write_feather(beer_recipes,'beer_recipes.feather')\n",
    "\n",
    "beer_recipes2 <- read_feather('beer_recipes.feather')"
   ]
  },
  {
   "cell_type": "code",
   "execution_count": 11,
   "metadata": {},
   "outputs": [
    {
     "data": {
      "text/html": [
       "'LC_CTYPE=C;LC_NUMERIC=C;LC_TIME=C;LC_COLLATE=C;LC_MONETARY=C;LC_MESSAGES=en_US.UTF-8;LC_PAPER=en_US.UTF-8;LC_NAME=C;LC_ADDRESS=C;LC_TELEPHONE=C;LC_MEASUREMENT=en_US.UTF-8;LC_IDENTIFICATION=C'"
      ],
      "text/latex": [
       "'LC\\_CTYPE=C;LC\\_NUMERIC=C;LC\\_TIME=C;LC\\_COLLATE=C;LC\\_MONETARY=C;LC\\_MESSAGES=en\\_US.UTF-8;LC\\_PAPER=en\\_US.UTF-8;LC\\_NAME=C;LC\\_ADDRESS=C;LC\\_TELEPHONE=C;LC\\_MEASUREMENT=en\\_US.UTF-8;LC\\_IDENTIFICATION=C'"
      ],
      "text/markdown": [
       "'LC_CTYPE=C;LC_NUMERIC=C;LC_TIME=C;LC_COLLATE=C;LC_MONETARY=C;LC_MESSAGES=en_US.UTF-8;LC_PAPER=en_US.UTF-8;LC_NAME=C;LC_ADDRESS=C;LC_TELEPHONE=C;LC_MEASUREMENT=en_US.UTF-8;LC_IDENTIFICATION=C'"
      ],
      "text/plain": [
       "[1] \"LC_CTYPE=C;LC_NUMERIC=C;LC_TIME=C;LC_COLLATE=C;LC_MONETARY=C;LC_MESSAGES=en_US.UTF-8;LC_PAPER=en_US.UTF-8;LC_NAME=C;LC_ADDRESS=C;LC_TELEPHONE=C;LC_MEASUREMENT=en_US.UTF-8;LC_IDENTIFICATION=C\""
      ]
     },
     "metadata": {},
     "output_type": "display_data"
    },
    {
     "data": {
      "text/html": [
       "<table>\n",
       "<caption>A tibble: 100 × 22</caption>\n",
       "<thead>\n",
       "\t<tr><th scope=col>BeerID</th><th scope=col>Name</th><th scope=col>URL</th><th scope=col>Style</th><th scope=col>StyleID</th><th scope=col>Size(L)</th><th scope=col>OG</th><th scope=col>FG</th><th scope=col>ABV</th><th scope=col>IBU</th><th scope=col>⋯</th><th scope=col>BoilTime</th><th scope=col>BoilGravity</th><th scope=col>Efficiency</th><th scope=col>MashThickness</th><th scope=col>SugarScale</th><th scope=col>BrewMethod</th><th scope=col>PitchRate</th><th scope=col>PrimaryTemp</th><th scope=col>PrimingMethod</th><th scope=col>PrimingAmount</th></tr>\n",
       "\t<tr><th scope=col>&lt;dbl&gt;</th><th scope=col>&lt;chr&gt;</th><th scope=col>&lt;chr&gt;</th><th scope=col>&lt;chr&gt;</th><th scope=col>&lt;dbl&gt;</th><th scope=col>&lt;dbl&gt;</th><th scope=col>&lt;dbl&gt;</th><th scope=col>&lt;dbl&gt;</th><th scope=col>&lt;dbl&gt;</th><th scope=col>&lt;dbl&gt;</th><th scope=col>⋯</th><th scope=col>&lt;dbl&gt;</th><th scope=col>&lt;dbl&gt;</th><th scope=col>&lt;dbl&gt;</th><th scope=col>&lt;dbl&gt;</th><th scope=col>&lt;chr&gt;</th><th scope=col>&lt;chr&gt;</th><th scope=col>&lt;dbl&gt;</th><th scope=col>&lt;dbl&gt;</th><th scope=col>&lt;chr&gt;</th><th scope=col>&lt;dbl&gt;</th></tr>\n",
       "</thead>\n",
       "<tbody>\n",
       "\t<tr><td> 1</td><td>Vanilla Cream Ale                           </td><td>/homebrew/recipe/view/1633/vanilla-cream-ale                         </td><td>Cream Ale                         </td><td> 45</td><td>21.77</td><td>1.055</td><td>1.013</td><td>5.48</td><td> 17.65</td><td>⋯</td><td>75</td><td>1.038</td><td>70</td><td>  NA</td><td>Specific Gravity</td><td>All Grain</td><td>  NA</td><td>17.78</td><td>corn sugar       </td><td>4.5</td></tr>\n",
       "\t<tr><td> 2</td><td>Southern Tier Pumking clone                 </td><td>/homebrew/recipe/view/16367/southern-tier-pumking-clone              </td><td>Holiday/Winter Special Spiced Beer</td><td> 85</td><td>20.82</td><td>1.083</td><td>1.021</td><td>8.16</td><td> 60.65</td><td>⋯</td><td>60</td><td>1.070</td><td>70</td><td>  NA</td><td>Specific Gravity</td><td>All Grain</td><td>  NA</td><td>   NA</td><td>NA               </td><td> NA</td></tr>\n",
       "\t<tr><td> 3</td><td>Zombie Dust Clone - EXTRACT                 </td><td>/homebrew/recipe/view/5920/zombie-dust-clone-extract                 </td><td>American IPA                      </td><td>  7</td><td>18.93</td><td>1.063</td><td>1.018</td><td>5.91</td><td> 59.25</td><td>⋯</td><td>60</td><td>   NA</td><td>70</td><td>  NA</td><td>Specific Gravity</td><td>extract  </td><td>  NA</td><td>   NA</td><td>NA               </td><td> NA</td></tr>\n",
       "\t<tr><td> 4</td><td>Zombie Dust Clone - ALL GRAIN               </td><td>/homebrew/recipe/view/5916/zombie-dust-clone-all-grain               </td><td>American IPA                      </td><td>  7</td><td>22.71</td><td>1.061</td><td>1.017</td><td>5.80</td><td> 54.48</td><td>⋯</td><td>60</td><td>   NA</td><td>70</td><td>  NA</td><td>Specific Gravity</td><td>All Grain</td><td>  NA</td><td>   NA</td><td>NA               </td><td> NA</td></tr>\n",
       "\t<tr><td> 5</td><td>Bakke Brygg Belgisk Blonde 50 l             </td><td>/homebrew/recipe/view/89534/bakke-brygg-belgisk-blonde-50-l          </td><td>Belgian Blond Ale                 </td><td> 20</td><td>50.00</td><td>1.060</td><td>1.010</td><td>6.48</td><td> 17.84</td><td>⋯</td><td>90</td><td>1.050</td><td>72</td><td>  NA</td><td>Specific Gravity</td><td>All Grain</td><td>  NA</td><td>19.00</td><td>Sukkerlake       </td><td> NA</td></tr>\n",
       "\t<tr><td> 6</td><td>Sierra Nevada Pale Ale Clone                </td><td>/homebrew/recipe/view/28546/sierra-nevada-pale-ale-clone             </td><td>American Pale Ale                 </td><td> 10</td><td>24.61</td><td>1.055</td><td>1.013</td><td>5.58</td><td> 40.12</td><td>⋯</td><td>70</td><td>1.047</td><td>79</td><td>  NA</td><td>Specific Gravity</td><td>All Grain</td><td>1.00</td><td>   NA</td><td>NA               </td><td> NA</td></tr>\n",
       "\t<tr><td> 7</td><td>Russian River Pliny the Elder (original)    </td><td>/homebrew/recipe/view/37534/russian-river-pliny-the-elder-original-  </td><td>Imperial IPA                      </td><td> 86</td><td>22.71</td><td>1.072</td><td>1.018</td><td>7.09</td><td>268.71</td><td>⋯</td><td>90</td><td>   NA</td><td>75</td><td>  NA</td><td>Specific Gravity</td><td>All Grain</td><td>  NA</td><td>   NA</td><td>NA               </td><td> NA</td></tr>\n",
       "\t<tr><td> 8</td><td>Spotted Clown (New Glarus Spotted Cow clone)</td><td>/homebrew/recipe/view/672/spotted-clown-new-glarus-spotted-cow-clone-</td><td>Cream Ale                         </td><td> 45</td><td>20.82</td><td>1.054</td><td>1.014</td><td>5.36</td><td> 19.97</td><td>⋯</td><td>75</td><td>1.040</td><td>70</td><td>1.40</td><td>Specific Gravity</td><td>All Grain</td><td>  NA</td><td>   NA</td><td>corn sugar       </td><td>4.2</td></tr>\n",
       "\t<tr><td> 9</td><td>Chocolate Vanilla Porter                    </td><td>/homebrew/recipe/view/29265/chocolate-vanilla-porter                 </td><td>Robust Porter                     </td><td>129</td><td>22.71</td><td>1.060</td><td>1.016</td><td>5.77</td><td> 31.63</td><td>⋯</td><td>75</td><td>1.042</td><td>73</td><td>  NA</td><td>Specific Gravity</td><td>All Grain</td><td>  NA</td><td>   NA</td><td>corn sugar       </td><td>4.0</td></tr>\n",
       "\t<tr><td>10</td><td>Mango Habanero IPA                          </td><td>/homebrew/recipe/view/61082/mango-habanero-ipa                       </td><td>Imperial IPA                      </td><td> 86</td><td>20.82</td><td>1.080</td><td>1.017</td><td>8.22</td><td> 93.02</td><td>⋯</td><td>60</td><td>1.058</td><td>70</td><td>  NA</td><td>Specific Gravity</td><td>All Grain</td><td>  NA</td><td>21.11</td><td>Corn Sugar       </td><td> NA</td></tr>\n",
       "\t<tr><td>11</td><td>Bakke Brygg HveteIPA 25 L                   </td><td>/homebrew/recipe/view/73890/bakke-brygg-hveteipa-25-l                </td><td>American IPA                      </td><td>  7</td><td>25.00</td><td>1.064</td><td>1.014</td><td>6.63</td><td> 64.26</td><td>⋯</td><td>90</td><td>1.055</td><td>74</td><td>  NA</td><td>Specific Gravity</td><td>All Grain</td><td>1.00</td><td>18.00</td><td>Sukkerlake       </td><td> NA</td></tr>\n",
       "\t<tr><td>12</td><td>Hop Notch Clone                             </td><td>/homebrew/recipe/view/10092/hop-notch-clone                          </td><td>American IPA                      </td><td>  7</td><td>15.14</td><td>1.066</td><td>1.015</td><td>6.62</td><td>111.00</td><td>⋯</td><td>90</td><td>   NA</td><td>70</td><td>  NA</td><td>Specific Gravity</td><td>BIAB     </td><td>  NA</td><td>   NA</td><td>NA               </td><td> NA</td></tr>\n",
       "\t<tr><td>13</td><td>Racer 5 IPA Clone                           </td><td>/homebrew/recipe/view/23246/racer-5-ipa-clone                        </td><td>American IPA                      </td><td>  7</td><td>20.82</td><td>1.073</td><td>1.019</td><td>7.07</td><td> 69.72</td><td>⋯</td><td>60</td><td>   NA</td><td>70</td><td>  NA</td><td>Specific Gravity</td><td>All Grain</td><td>  NA</td><td>   NA</td><td>NA               </td><td> NA</td></tr>\n",
       "\t<tr><td>14</td><td>Sam Adams Rebel IPA Clone                   </td><td>/homebrew/recipe/view/106996/sam-adams-rebel-ipa-clone               </td><td>American IPA                      </td><td>  7</td><td>18.93</td><td>1.066</td><td>1.017</td><td>6.51</td><td> 60.96</td><td>⋯</td><td>60</td><td>1.110</td><td>30</td><td>  NA</td><td>Specific Gravity</td><td>extract  </td><td>0.35</td><td>18.33</td><td>NA               </td><td> NA</td></tr>\n",
       "\t<tr><td>15</td><td>White IPA                                   </td><td>/homebrew/recipe/view/8361/white-ipa                                 </td><td>American IPA                      </td><td>  7</td><td>37.85</td><td>1.064</td><td>1.017</td><td>6.20</td><td> 64.67</td><td>⋯</td><td>60</td><td>1.071</td><td>70</td><td>1.20</td><td>Specific Gravity</td><td>All Grain</td><td>  NA</td><td>   NA</td><td>NA               </td><td> NA</td></tr>\n",
       "\t<tr><td>16</td><td>Pilsner Urquell BYO clone                   </td><td>/homebrew/recipe/view/3000/pilsner-urquell-byo-clone                 </td><td>Bohemian Pilsener                 </td><td> 31</td><td>41.64</td><td>1.051</td><td>1.013</td><td>4.92</td><td> 36.80</td><td>⋯</td><td>60</td><td>   NA</td><td>75</td><td>  NA</td><td>Specific Gravity</td><td>All Grain</td><td>  NA</td><td>   NA</td><td>NA               </td><td> NA</td></tr>\n",
       "\t<tr><td>17</td><td>Tank 7 Clone                                </td><td>/homebrew/recipe/view/23436/tank-7-clone                             </td><td>Saison                            </td><td>134</td><td>20.82</td><td>1.073</td><td>1.015</td><td>7.63</td><td> 44.94</td><td>⋯</td><td>60</td><td>1.054</td><td>70</td><td>  NA</td><td>Specific Gravity</td><td>BIAB     </td><td>  NA</td><td>   NA</td><td>Corn Sugar       </td><td> NA</td></tr>\n",
       "\t<tr><td>18</td><td>Bells two hearted clone                     </td><td>/homebrew/recipe/view/3837/bells-two-hearted-clone                   </td><td>American IPA                      </td><td>  7</td><td>20.82</td><td>1.073</td><td>1.018</td><td>7.14</td><td> 61.83</td><td>⋯</td><td>60</td><td>1.061</td><td>75</td><td>  NA</td><td>Specific Gravity</td><td>All Grain</td><td>0.75</td><td>18.33</td><td>NA               </td><td> NA</td></tr>\n",
       "\t<tr><td>19</td><td>New Glarus Fat Squirrel Clone               </td><td>/homebrew/recipe/view/1435/new-glarus-fat-squirrel-clone             </td><td>Northern English Brown            </td><td>113</td><td>20.82</td><td>1.046</td><td>1.010</td><td>4.61</td><td> 13.64</td><td>⋯</td><td>90</td><td>1.033</td><td>70</td><td>  NA</td><td>Specific Gravity</td><td>All Grain</td><td>  NA</td><td>16.67</td><td>Priming Sugar    </td><td> NA</td></tr>\n",
       "\t<tr><td>20</td><td>Avg. Perfect Northeast IPA (NEIPA)          </td><td>/homebrew/recipe/view/363082/avg-perfect-northeast-ipa-neipa-        </td><td>American IPA                      </td><td>  7</td><td>21.77</td><td>1.062</td><td>1.013</td><td>6.50</td><td> 53.30</td><td>⋯</td><td>60</td><td>1.048</td><td>70</td><td>1.25</td><td>Specific Gravity</td><td>All Grain</td><td>  NA</td><td>   NA</td><td>Keg - Force Carb.</td><td> NA</td></tr>\n",
       "\t<tr><td>21</td><td>Goose Island IPA Clone                      </td><td>/homebrew/recipe/view/28343/goose-island-ipa-clone                   </td><td>English IPA                       </td><td> 65</td><td>20.82</td><td>1.065</td><td>1.015</td><td>6.63</td><td> 55.52</td><td>⋯</td><td>60</td><td>1.048</td><td>75</td><td>1.50</td><td>Specific Gravity</td><td>All Grain</td><td>  NA</td><td>17.78</td><td>NA               </td><td> NA</td></tr>\n",
       "\t<tr><td>22</td><td>Ballast Point Sculpin Ale Clone             </td><td>/homebrew/recipe/view/89253/ballast-point-sculpin-ale-clone          </td><td>Imperial IPA                      </td><td> 86</td><td>45.42</td><td>1.084</td><td>1.020</td><td>8.43</td><td> 79.28</td><td>⋯</td><td>60</td><td>1.075</td><td>90</td><td>1.25</td><td>Specific Gravity</td><td>All Grain</td><td>1.00</td><td>20.56</td><td>NA               </td><td> NA</td></tr>\n",
       "\t<tr><td>23</td><td>Brooklyn Sorachi Ace                        </td><td>/homebrew/recipe/view/190892/brooklyn-sorachi-ace                    </td><td>Saison                            </td><td>134</td><td>18.93</td><td>1.082</td><td>1.013</td><td>9.10</td><td>  0.00</td><td>⋯</td><td>60</td><td>   NA</td><td>72</td><td>  NA</td><td>Specific Gravity</td><td>All Grain</td><td>  NA</td><td>   NA</td><td>NA               </td><td> NA</td></tr>\n",
       "\t<tr><td>24</td><td>Lagunitas IPA Clone                         </td><td>/homebrew/recipe/view/28344/lagunitas-ipa-clone                      </td><td>English IPA                       </td><td> 65</td><td>20.82</td><td>1.061</td><td>1.014</td><td>6.17</td><td> 56.65</td><td>⋯</td><td>60</td><td>1.045</td><td>75</td><td>  NA</td><td>Specific Gravity</td><td>All Grain</td><td>  NA</td><td>   NA</td><td>NA               </td><td> NA</td></tr>\n",
       "\t<tr><td>25</td><td>NEIPA Hoppy ( juicy) -  Braumeister 20L     </td><td>/homebrew/recipe/view/295897/neipa-hoppy-juicy-braumeister-20l       </td><td>American IPA                      </td><td>  7</td><td>21.00</td><td>1.062</td><td>1.014</td><td>6.29</td><td> 53.57</td><td>⋯</td><td>70</td><td>1.052</td><td>73</td><td>  NA</td><td>Specific Gravity</td><td>BIAB     </td><td>0.75</td><td>20.00</td><td>NA               </td><td> NA</td></tr>\n",
       "\t<tr><td>26</td><td>Dale's Pale Ale Clone                       </td><td>/homebrew/recipe/view/190430/dale-s-pale-ale-clone                   </td><td>American Pale Ale                 </td><td> 10</td><td>18.93</td><td>1.067</td><td>1.017</td><td>6.60</td><td>  0.00</td><td>⋯</td><td>60</td><td>   NA</td><td>75</td><td>  NA</td><td>Specific Gravity</td><td>All Grain</td><td>  NA</td><td>   NA</td><td>NA               </td><td> NA</td></tr>\n",
       "\t<tr><td>27</td><td>IPA - Tired Hands Milkshake                 </td><td>/homebrew/recipe/view/392896/ipa-tired-hands-milkshake               </td><td>American IPA                      </td><td>  7</td><td>24.61</td><td>1.058</td><td>1.017</td><td>5.34</td><td> 57.84</td><td>⋯</td><td>60</td><td>1.050</td><td>83</td><td>  NA</td><td>Specific Gravity</td><td>BIAB     </td><td>0.50</td><td>18.33</td><td>NA               </td><td> NA</td></tr>\n",
       "\t<tr><td>28</td><td>Bakke Brygg Julelager 20 l                  </td><td>/homebrew/recipe/view/73376/bakke-brygg-julelager-20-l               </td><td>Traditional Bock                  </td><td>163</td><td>20.00</td><td>1.065</td><td>1.018</td><td>6.22</td><td> 27.12</td><td>⋯</td><td>90</td><td>1.052</td><td>70</td><td>  NA</td><td>Specific Gravity</td><td>All Grain</td><td>  NA</td><td>10.00</td><td>Sukkerlake       </td><td> NA</td></tr>\n",
       "\t<tr><td>29</td><td>Grapefruit IPA                              </td><td>/homebrew/recipe/view/35541/grapefruit-ipa                           </td><td>American IPA                      </td><td>  7</td><td>26.50</td><td>1.052</td><td>1.012</td><td>5.31</td><td> 60.58</td><td>⋯</td><td>60</td><td>1.043</td><td>70</td><td>1.30</td><td>Specific Gravity</td><td>All Grain</td><td>0.75</td><td>20.56</td><td>NA               </td><td> NA</td></tr>\n",
       "\t<tr><td>30</td><td>Bakke Brygg Robust Porter 50 l              </td><td>/homebrew/recipe/view/73679/bakke-brygg-robust-porter-50-l           </td><td>Robust Porter                     </td><td>129</td><td>50.00</td><td>1.058</td><td>1.014</td><td>5.76</td><td> 39.00</td><td>⋯</td><td>60</td><td>1.050</td><td>71</td><td>  NA</td><td>Specific Gravity</td><td>All Grain</td><td>  NA</td><td>18.00</td><td>Sukkerlake       </td><td> NA</td></tr>\n",
       "\t<tr><td>⋮</td><td>⋮</td><td>⋮</td><td>⋮</td><td>⋮</td><td>⋮</td><td>⋮</td><td>⋮</td><td>⋮</td><td>⋮</td><td>⋱</td><td>⋮</td><td>⋮</td><td>⋮</td><td>⋮</td><td>⋮</td><td>⋮</td><td>⋮</td><td>⋮</td><td>⋮</td><td>⋮</td></tr>\n",
       "\t<tr><td> 71</td><td>Classic German Hefe Weissbier                         </td><td>/homebrew/recipe/view/189065/classic-german-hefe-weissbier                     </td><td>Weizen/Weissbier                  </td><td>170</td><td>18.93</td><td>1.056</td><td>1.014</td><td> 5.50</td><td>  0.00</td><td>⋯</td><td>60</td><td>   NA</td><td> 75</td><td>  NA</td><td>Specific Gravity</td><td>All Grain   </td><td>  NA</td><td>   NA</td><td>NA        </td><td>NA</td></tr>\n",
       "\t<tr><td> 72</td><td>Hazy Juicy IPA                                        </td><td>/homebrew/recipe/view/448502/hazy-juicy-ipa                                    </td><td>American IPA                      </td><td>  7</td><td>22.71</td><td>1.062</td><td>1.012</td><td> 6.51</td><td>121.43</td><td>⋯</td><td>60</td><td>1.053</td><td> 70</td><td>1.50</td><td>Specific Gravity</td><td>All Grain   </td><td>  NA</td><td>17.22</td><td>NA        </td><td>NA</td></tr>\n",
       "\t<tr><td> 73</td><td>Nutella Stout                                         </td><td>/homebrew/recipe/view/6549/nutella-stout                                       </td><td>Sweet Stout                       </td><td>162</td><td>19.87</td><td>1.054</td><td>1.015</td><td> 5.11</td><td> 31.84</td><td>⋯</td><td>60</td><td>   NA</td><td> 70</td><td>  NA</td><td>Specific Gravity</td><td>extract     </td><td>  NA</td><td>   NA</td><td>NA        </td><td>NA</td></tr>\n",
       "\t<tr><td> 74</td><td>Syntax Error IPA II                                   </td><td>/homebrew/recipe/view/227462/syntax-error-ipa-ii                               </td><td>American IPA                      </td><td>  7</td><td>42.00</td><td>1.068</td><td>1.013</td><td> 7.20</td><td>105.67</td><td>⋯</td><td>60</td><td>1.055</td><td> 68</td><td>2.00</td><td>Specific Gravity</td><td>All Grain   </td><td>  NA</td><td>19.00</td><td>NA        </td><td>NA</td></tr>\n",
       "\t<tr><td> 75</td><td>1664 Blanc Clone                                      </td><td>/homebrew/recipe/view/254306/1664-blanc-clone                                  </td><td>Witbier                           </td><td>175</td><td>25.00</td><td>1.057</td><td>1.012</td><td> 5.87</td><td> 23.21</td><td>⋯</td><td>90</td><td>1.041</td><td> 83</td><td>4.69</td><td>Specific Gravity</td><td>All Grain   </td><td>0.75</td><td>   NA</td><td>NA        </td><td>NA</td></tr>\n",
       "\t<tr><td> 76</td><td>Founders Brewing Co. - Dirty Bastard Clone...         </td><td>/homebrew/recipe/view/119712/founders-brewing-co-dirty-bastard-clone           </td><td>Strong Scotch Ale                 </td><td>160</td><td>20.82</td><td>1.087</td><td>1.022</td><td> 8.56</td><td> 85.74</td><td>⋯</td><td>60</td><td>1.137</td><td> 75</td><td>  NA</td><td>Specific Gravity</td><td>All Grain   </td><td>0.50</td><td>20.00</td><td>Corn Sugar</td><td>NA</td></tr>\n",
       "\t<tr><td> 77</td><td>Belgian Wit                                           </td><td>/homebrew/recipe/view/906/belgian-wit                                          </td><td>Witbier                           </td><td>175</td><td>20.82</td><td>1.050</td><td>1.013</td><td> 4.85</td><td> 20.08</td><td>⋯</td><td>90</td><td>1.037</td><td> 75</td><td>  NA</td><td>Specific Gravity</td><td>All Grain   </td><td>0.75</td><td>   NA</td><td>NA        </td><td>NA</td></tr>\n",
       "\t<tr><td> 78</td><td>Pliny the Younger Clone                               </td><td>/homebrew/recipe/view/76598/pliny-the-younger-clone                            </td><td>Imperial IPA                      </td><td> 86</td><td>22.71</td><td>1.102</td><td>1.023</td><td>10.34</td><td>136.21</td><td>⋯</td><td>90</td><td>1.076</td><td> 80</td><td>2.00</td><td>Specific Gravity</td><td>All Grain   </td><td>0.75</td><td>16.67</td><td>NA        </td><td>NA</td></tr>\n",
       "\t<tr><td> 79</td><td>Belgian Strong Pale - La Chouffe                      </td><td>/homebrew/recipe/view/80009/belgian-strong-pale-la-chouffe                     </td><td>Belgian Golden Strong Ale         </td><td> 23</td><td>18.93</td><td>1.070</td><td>1.008</td><td> 8.14</td><td> 31.39</td><td>⋯</td><td>90</td><td>1.051</td><td> 70</td><td>1.33</td><td>Specific Gravity</td><td>All Grain   </td><td>  NA</td><td>20.00</td><td>force carb</td><td>NA</td></tr>\n",
       "\t<tr><td> 80</td><td>Bill's Double Chocolate Milk Stout                    </td><td>/homebrew/recipe/view/180328/bill-s-double-chocolate-milk-stout                </td><td>Sweet Stout                       </td><td>162</td><td>20.82</td><td>1.066</td><td>1.021</td><td> 5.87</td><td> 37.61</td><td>⋯</td><td>60</td><td>1.056</td><td> 65</td><td>1.25</td><td>Specific Gravity</td><td>All Grain   </td><td>0.50</td><td>   NA</td><td>NA        </td><td>NA</td></tr>\n",
       "\t<tr><td> 81</td><td>Fat Head's Headhunter IPA Clone                       </td><td>/homebrew/recipe/view/110195/fat-head-s-headhunter-ipa-clone                   </td><td>American IPA                      </td><td>  7</td><td>41.64</td><td>1.072</td><td>1.014</td><td> 7.52</td><td> 87.48</td><td>⋯</td><td>90</td><td>1.061</td><td> 65</td><td>1.30</td><td>Specific Gravity</td><td>All Grain   </td><td>0.75</td><td>20.00</td><td>Force Carb</td><td>NA</td></tr>\n",
       "\t<tr><td> 82</td><td>Orange Mohawk (Shock top clone)                       </td><td>/homebrew/recipe/view/97252/orange-mohawk-shock-top-clone-                     </td><td>Witbier                           </td><td>175</td><td>41.64</td><td>1.052</td><td>1.013</td><td> 5.22</td><td> 16.79</td><td>⋯</td><td>90</td><td>1.044</td><td> 73</td><td>1.50</td><td>Specific Gravity</td><td>All Grain   </td><td>0.50</td><td>20.00</td><td>NA        </td><td>NA</td></tr>\n",
       "\t<tr><td> 83</td><td>Jamil's Tripel                                        </td><td>/homebrew/recipe/view/23709/jamil-s-tripel                                     </td><td>Belgian Tripel                    </td><td> 26</td><td>19.87</td><td>1.092</td><td>1.017</td><td> 9.85</td><td> 36.65</td><td>⋯</td><td>90</td><td>1.072</td><td> 70</td><td>  NA</td><td>Specific Gravity</td><td>BIAB        </td><td>  NA</td><td>   NA</td><td>NA        </td><td>NA</td></tr>\n",
       "\t<tr><td> 84</td><td>Chocolate Imperial Stout                              </td><td>/homebrew/recipe/view/1647/chocolate-imperial-stout                            </td><td>American Stout                    </td><td> 12</td><td>20.82</td><td>1.096</td><td>1.026</td><td> 9.16</td><td> 33.18</td><td>⋯</td><td>60</td><td>   NA</td><td> 70</td><td>  NA</td><td>Specific Gravity</td><td>extract     </td><td>  NA</td><td>   NA</td><td>NA        </td><td>NA</td></tr>\n",
       "\t<tr><td> 85</td><td>Green Flash West Coast IPA Clone                      </td><td>/homebrew/recipe/view/189480/green-flash-west-coast-ipa-clone                  </td><td>American IPA                      </td><td>  7</td><td>22.71</td><td>1.072</td><td>1.016</td><td> 7.27</td><td>  0.00</td><td>⋯</td><td>60</td><td>   NA</td><td> 65</td><td>  NA</td><td>Specific Gravity</td><td>All Grain   </td><td>  NA</td><td>   NA</td><td>NA        </td><td>NA</td></tr>\n",
       "\t<tr><td> 86</td><td>Leffe Blonde Clone v2                                 </td><td>/homebrew/recipe/view/73402/leffe-blonde-clone-v2                              </td><td>Belgian Pale Ale                  </td><td> 24</td><td>18.93</td><td>1.070</td><td>1.020</td><td> 6.47</td><td> 23.28</td><td>⋯</td><td>60</td><td>1.174</td><td> 50</td><td>  NA</td><td>Specific Gravity</td><td>extract     </td><td>0.35</td><td>21.11</td><td>NA        </td><td>NA</td></tr>\n",
       "\t<tr><td> 87</td><td>Easy Imperial IPA (Double IPA)                        </td><td>/homebrew/recipe/view/141526/easy-imperial-ipa-double-ipa-                     </td><td>Imperial IPA                      </td><td> 86</td><td>20.82</td><td>1.079</td><td>1.014</td><td> 8.51</td><td>120.63</td><td>⋯</td><td>60</td><td>1.059</td><td> 75</td><td>1.50</td><td>Specific Gravity</td><td>All Grain   </td><td>1.25</td><td>18.89</td><td>NA        </td><td>NA</td></tr>\n",
       "\t<tr><td> 88</td><td>Zatarain's Root Beer - Non-Alcoholic  keg in...       </td><td>/homebrew/recipe/view/21783/zatarain-s-root-beer-non-alcoholic-keg-instructions</td><td>NA                                </td><td>111</td><td>18.93</td><td>1.046</td><td>1.013</td><td> 4.27</td><td>  0.00</td><td>⋯</td><td> 0</td><td>1.077</td><td>100</td><td>  NA</td><td>Specific Gravity</td><td>BIAB        </td><td>  NA</td><td>   NA</td><td>NA        </td><td>NA</td></tr>\n",
       "\t<tr><td> 89</td><td>Bakke Brygg Tsjekkisk Pilsner 25 l                    </td><td>/homebrew/recipe/view/134325/bakke-brygg-tsjekkisk-pilsner-25-l                </td><td>Bohemian Pilsener                 </td><td> 31</td><td>25.00</td><td>1.050</td><td>1.013</td><td> 4.88</td><td> 40.51</td><td>⋯</td><td>90</td><td>1.042</td><td> 72</td><td>  NA</td><td>Specific Gravity</td><td>All Grain   </td><td>  NA</td><td>10.00</td><td>Sukkerlake</td><td>NA</td></tr>\n",
       "\t<tr><td> 90</td><td>Summer Citra K&lt;U+001ACCE3&gt;h (a successful experimen...</td><td><span style=white-space:pre-wrap>/homebrew/recipe/view/9886/                                                    </span></td><td><span style=white-space:pre-wrap>K&lt;U+001ACCE3&gt;h                    </span></td><td> 94</td><td>20.82</td><td>1.049</td><td>1.012</td><td> 4.84</td><td> 25.23</td><td>⋯</td><td>90</td><td><span style=white-space:pre-wrap>   NA</span></td><td> 68</td><td><span style=white-space:pre-wrap>  NA</span></td><td>Specific Gravity</td><td><span style=white-space:pre-wrap>All Grain   </span></td><td><span style=white-space:pre-wrap>  NA</span></td><td><span style=white-space:pre-wrap>   NA</span></td><td><span style=white-space:pre-wrap>Dextrose  </span></td><td>NA</td></tr>\n",
       "\t<tr><td> 91</td><td>Shiner Bock                                           </td><td>/homebrew/recipe/view/45045/shiner-bock                                        </td><td>Dark American Lager               </td><td> 52</td><td>20.82</td><td>1.043</td><td>1.011</td><td> 4.14</td><td> 13.22</td><td>⋯</td><td>90</td><td>   NA</td><td> 85</td><td>  NA</td><td>Specific Gravity</td><td>All Grain   </td><td>1.75</td><td>12.22</td><td>NA        </td><td>NA</td></tr>\n",
       "\t<tr><td> 92</td><td>Bakke Brygg Pale Ale 5 l                              </td><td>/homebrew/recipe/view/76834/bakke-brygg-pale-ale-5-l                           </td><td>American Pale Ale                 </td><td> 10</td><td> 5.00</td><td>1.054</td><td>1.011</td><td> 5.61</td><td> 40.55</td><td>⋯</td><td>60</td><td>1.038</td><td> 72</td><td>  NA</td><td>Specific Gravity</td><td>All Grain   </td><td>  NA</td><td>18.00</td><td>Sukkerlake</td><td>NA</td></tr>\n",
       "\t<tr><td> 93</td><td>The Headless Horsemen Imperial Pumpkin Ale...         </td><td>/homebrew/recipe/view/19297/the-headless-horsemen-imperial-pumpkin-ale         </td><td>Holiday/Winter Special Spiced Beer</td><td> 85</td><td>18.93</td><td>1.083</td><td>1.020</td><td> 8.36</td><td>101.71</td><td>⋯</td><td>60</td><td>   NA</td><td> 70</td><td>  NA</td><td>Specific Gravity</td><td>extract     </td><td>  NA</td><td>   NA</td><td>NA        </td><td>NA</td></tr>\n",
       "\t<tr><td> 94</td><td>Dry Irish Stout: Guinness Clone                       </td><td>/homebrew/recipe/view/142280/dry-irish-stout-guinness-clone                    </td><td>Dry Stout                         </td><td> 58</td><td>45.42</td><td>1.044</td><td>1.010</td><td> 4.39</td><td> 38.47</td><td>⋯</td><td>60</td><td>1.038</td><td> 80</td><td>1.50</td><td>Specific Gravity</td><td>All Grain   </td><td>1.00</td><td>18.89</td><td>NA        </td><td>NA</td></tr>\n",
       "\t<tr><td> 95</td><td>Kronenbourg 1664 Blanc klone                          </td><td>/homebrew/recipe/view/244064/kronenbourg-1664-blanc-klone                      </td><td>Witbier                           </td><td>175</td><td>23.00</td><td>1.052</td><td>1.011</td><td> 5.36</td><td> 18.92</td><td>⋯</td><td>90</td><td>1.041</td><td> 75</td><td>5.00</td><td>Specific Gravity</td><td>All Grain   </td><td>1.00</td><td>18.00</td><td>Sukker    </td><td> 8</td></tr>\n",
       "\t<tr><td> 96</td><td><span style=white-space:pre-wrap>Jumpin' Jalape&lt;U+0006F813&gt;aison                       </span></td><td><span style=white-space:pre-wrap>/homebrew/recipe/view/15676/                                                   </span></td><td><span style=white-space:pre-wrap>Saison                            </span></td><td>134</td><td> 3.79</td><td>1.056</td><td>1.012</td><td> 5.73</td><td> 26.51</td><td>⋯</td><td>60</td><td><span style=white-space:pre-wrap>   NA</span></td><td> 70</td><td><span style=white-space:pre-wrap>  NA</span></td><td>Specific Gravity</td><td><span style=white-space:pre-wrap>All Grain   </span></td><td><span style=white-space:pre-wrap>  NA</span></td><td><span style=white-space:pre-wrap>   NA</span></td><td><span style=white-space:pre-wrap>NA        </span></td><td>NA</td></tr>\n",
       "\t<tr><td> 97</td><td>NEIPA                                                 </td><td>/homebrew/recipe/view/361507/neipa                                             </td><td>American IPA                      </td><td>  7</td><td>24.61</td><td>1.058</td><td>1.015</td><td> 5.73</td><td> 42.52</td><td>⋯</td><td>60</td><td>1.050</td><td> 65</td><td>1.50</td><td>Specific Gravity</td><td>All Grain   </td><td>  NA</td><td>   NA</td><td>NA        </td><td>NA</td></tr>\n",
       "\t<tr><td> 98</td><td>Belgian Saison - Farmhouse Style Ale                  </td><td>/homebrew/recipe/view/25071/belgian-saison-farmhouse-style-ale                 </td><td>Saison                            </td><td>134</td><td>18.93</td><td>1.055</td><td>1.014</td><td> 5.43</td><td> 16.73</td><td>⋯</td><td>60</td><td>1.069</td><td> 70</td><td>  NA</td><td>Specific Gravity</td><td>Partial Mash</td><td>  NA</td><td>   NA</td><td>Sugar     </td><td>NA</td></tr>\n",
       "\t<tr><td> 99</td><td>Cigar City Jai Alai Clone                             </td><td>/homebrew/recipe/view/94372/cigar-city-jai-alai-clone                          </td><td>Imperial IPA                      </td><td> 86</td><td>20.82</td><td>1.075</td><td>1.019</td><td> 7.89</td><td> 97.11</td><td>⋯</td><td>75</td><td>1.055</td><td> 70</td><td>1.33</td><td>Specific Gravity</td><td>All Grain   </td><td>0.35</td><td>18.33</td><td>NA        </td><td>NA</td></tr>\n",
       "\t<tr><td>100</td><td>Cold Smoke Clone                                      </td><td>/homebrew/recipe/view/3616/cold-smoke-clone                                    </td><td>Strong Scotch Ale                 </td><td>160</td><td>18.93</td><td>1.066</td><td>1.019</td><td> 6.18</td><td> 19.00</td><td>⋯</td><td>60</td><td>   NA</td><td> 70</td><td>  NA</td><td>Specific Gravity</td><td>extract     </td><td>  NA</td><td>   NA</td><td>NA        </td><td>NA</td></tr>\n",
       "</tbody>\n",
       "</table>\n"
      ],
      "text/latex": [
       "A tibble: 100 × 22\n",
       "\\begin{tabular}{r|llllllllllllllllllllll}\n",
       " BeerID & Name & URL & Style & StyleID & Size(L) & OG & FG & ABV & IBU & Color & BoilSize & BoilTime & BoilGravity & Efficiency & MashThickness & SugarScale & BrewMethod & PitchRate & PrimaryTemp & PrimingMethod & PrimingAmount\\\\\n",
       " <dbl> & <chr> & <chr> & <chr> & <dbl> & <dbl> & <dbl> & <dbl> & <dbl> & <dbl> & <dbl> & <dbl> & <dbl> & <dbl> & <dbl> & <dbl> & <chr> & <chr> & <dbl> & <dbl> & <chr> & <dbl>\\\\\n",
       "\\hline\n",
       "\t  1 & Vanilla Cream Ale                            & /homebrew/recipe/view/1633/vanilla-cream-ale                          & Cream Ale                          &  45 & 21.77 & 1.055 & 1.013 & 5.48 &  17.65 &  4.83 & 28.39 & 75 & 1.038 & 70 &   NA & Specific Gravity & All Grain &   NA & 17.78 & corn sugar        & 4.5\\\\\n",
       "\t  2 & Southern Tier Pumking clone                  & /homebrew/recipe/view/16367/southern-tier-pumking-clone               & Holiday/Winter Special Spiced Beer &  85 & 20.82 & 1.083 & 1.021 & 8.16 &  60.65 & 15.64 & 24.61 & 60 & 1.070 & 70 &   NA & Specific Gravity & All Grain &   NA &    NA & NA                &  NA\\\\\n",
       "\t  3 & Zombie Dust Clone - EXTRACT                  & /homebrew/recipe/view/5920/zombie-dust-clone-extract                  & American IPA                       &   7 & 18.93 & 1.063 & 1.018 & 5.91 &  59.25 &  8.98 & 22.71 & 60 &    NA & 70 &   NA & Specific Gravity & extract   &   NA &    NA & NA                &  NA\\\\\n",
       "\t  4 & Zombie Dust Clone - ALL GRAIN                & /homebrew/recipe/view/5916/zombie-dust-clone-all-grain                & American IPA                       &   7 & 22.71 & 1.061 & 1.017 & 5.80 &  54.48 &  8.50 & 26.50 & 60 &    NA & 70 &   NA & Specific Gravity & All Grain &   NA &    NA & NA                &  NA\\\\\n",
       "\t  5 & Bakke Brygg Belgisk Blonde 50 l              & /homebrew/recipe/view/89534/bakke-brygg-belgisk-blonde-50-l           & Belgian Blond Ale                  &  20 & 50.00 & 1.060 & 1.010 & 6.48 &  17.84 &  4.57 & 60.00 & 90 & 1.050 & 72 &   NA & Specific Gravity & All Grain &   NA & 19.00 & Sukkerlake        &  NA\\\\\n",
       "\t  6 & Sierra Nevada Pale Ale Clone                 & /homebrew/recipe/view/28546/sierra-nevada-pale-ale-clone              & American Pale Ale                  &  10 & 24.61 & 1.055 & 1.013 & 5.58 &  40.12 &  8.00 & 29.34 & 70 & 1.047 & 79 &   NA & Specific Gravity & All Grain & 1.00 &    NA & NA                &  NA\\\\\n",
       "\t  7 & Russian River Pliny the Elder (original)     & /homebrew/recipe/view/37534/russian-river-pliny-the-elder-original-   & Imperial IPA                       &  86 & 22.71 & 1.072 & 1.018 & 7.09 & 268.71 &  6.33 & 30.28 & 90 &    NA & 75 &   NA & Specific Gravity & All Grain &   NA &    NA & NA                &  NA\\\\\n",
       "\t  8 & Spotted Clown (New Glarus Spotted Cow clone) & /homebrew/recipe/view/672/spotted-clown-new-glarus-spotted-cow-clone- & Cream Ale                          &  45 & 20.82 & 1.054 & 1.014 & 5.36 &  19.97 &  5.94 & 28.39 & 75 & 1.040 & 70 & 1.40 & Specific Gravity & All Grain &   NA &    NA & corn sugar        & 4.2\\\\\n",
       "\t  9 & Chocolate Vanilla Porter                     & /homebrew/recipe/view/29265/chocolate-vanilla-porter                  & Robust Porter                      & 129 & 22.71 & 1.060 & 1.016 & 5.77 &  31.63 & 34.76 & 30.28 & 75 & 1.042 & 73 &   NA & Specific Gravity & All Grain &   NA &    NA & corn sugar        & 4.0\\\\\n",
       "\t 10 & Mango Habanero IPA                           & /homebrew/recipe/view/61082/mango-habanero-ipa                        & Imperial IPA                       &  86 & 20.82 & 1.080 & 1.017 & 8.22 &  93.02 &  8.29 & 28.39 & 60 & 1.058 & 70 &   NA & Specific Gravity & All Grain &   NA & 21.11 & Corn Sugar        &  NA\\\\\n",
       "\t 11 & Bakke Brygg HveteIPA 25 L                    & /homebrew/recipe/view/73890/bakke-brygg-hveteipa-25-l                 & American IPA                       &   7 & 25.00 & 1.064 & 1.014 & 6.63 &  64.26 &  7.78 & 29.00 & 90 & 1.055 & 74 &   NA & Specific Gravity & All Grain & 1.00 & 18.00 & Sukkerlake        &  NA\\\\\n",
       "\t 12 & Hop Notch Clone                              & /homebrew/recipe/view/10092/hop-notch-clone                           & American IPA                       &   7 & 15.14 & 1.066 & 1.015 & 6.62 & 111.00 & 14.26 & 11.36 & 90 &    NA & 70 &   NA & Specific Gravity & BIAB      &   NA &    NA & NA                &  NA\\\\\n",
       "\t 13 & Racer 5 IPA Clone                            & /homebrew/recipe/view/23246/racer-5-ipa-clone                         & American IPA                       &   7 & 20.82 & 1.073 & 1.019 & 7.07 &  69.72 &  6.28 & 28.39 & 60 &    NA & 70 &   NA & Specific Gravity & All Grain &   NA &    NA & NA                &  NA\\\\\n",
       "\t 14 & Sam Adams Rebel IPA Clone                    & /homebrew/recipe/view/106996/sam-adams-rebel-ipa-clone                & American IPA                       &   7 & 18.93 & 1.066 & 1.017 & 6.51 &  60.96 & 10.54 & 11.36 & 60 & 1.110 & 30 &   NA & Specific Gravity & extract   & 0.35 & 18.33 & NA                &  NA\\\\\n",
       "\t 15 & White IPA                                    & /homebrew/recipe/view/8361/white-ipa                                  & American IPA                       &   7 & 37.85 & 1.064 & 1.017 & 6.20 &  64.67 &  3.91 & 34.07 & 60 & 1.071 & 70 & 1.20 & Specific Gravity & All Grain &   NA &    NA & NA                &  NA\\\\\n",
       "\t 16 & Pilsner Urquell BYO clone                    & /homebrew/recipe/view/3000/pilsner-urquell-byo-clone                  & Bohemian Pilsener                  &  31 & 41.64 & 1.051 & 1.013 & 4.92 &  36.80 &  3.61 & 49.21 & 60 &    NA & 75 &   NA & Specific Gravity & All Grain &   NA &    NA & NA                &  NA\\\\\n",
       "\t 17 & Tank 7 Clone                                 & /homebrew/recipe/view/23436/tank-7-clone                              & Saison                             & 134 & 20.82 & 1.073 & 1.015 & 7.63 &  44.94 &  6.25 & 28.39 & 60 & 1.054 & 70 &   NA & Specific Gravity & BIAB      &   NA &    NA & Corn Sugar        &  NA\\\\\n",
       "\t 18 & Bells two hearted clone                      & /homebrew/recipe/view/3837/bells-two-hearted-clone                    & American IPA                       &   7 & 20.82 & 1.073 & 1.018 & 7.14 &  61.83 &  8.10 & 24.61 & 60 & 1.061 & 75 &   NA & Specific Gravity & All Grain & 0.75 & 18.33 & NA                &  NA\\\\\n",
       "\t 19 & New Glarus Fat Squirrel Clone                & /homebrew/recipe/view/1435/new-glarus-fat-squirrel-clone              & Northern English Brown             & 113 & 20.82 & 1.046 & 1.010 & 4.61 &  13.64 & 12.56 & 28.39 & 90 & 1.033 & 70 &   NA & Specific Gravity & All Grain &   NA & 16.67 & Priming Sugar     &  NA\\\\\n",
       "\t 20 & Avg. Perfect Northeast IPA (NEIPA)           & /homebrew/recipe/view/363082/avg-perfect-northeast-ipa-neipa-         & American IPA                       &   7 & 21.77 & 1.062 & 1.013 & 6.50 &  53.30 &  5.20 & 28.39 & 60 & 1.048 & 70 & 1.25 & Specific Gravity & All Grain &   NA &    NA & Keg - Force Carb. &  NA\\\\\n",
       "\t 21 & Goose Island IPA Clone                       & /homebrew/recipe/view/28343/goose-island-ipa-clone                    & English IPA                        &  65 & 20.82 & 1.065 & 1.015 & 6.63 &  55.52 &  9.47 & 28.39 & 60 & 1.048 & 75 & 1.50 & Specific Gravity & All Grain &   NA & 17.78 & NA                &  NA\\\\\n",
       "\t 22 & Ballast Point Sculpin Ale Clone              & /homebrew/recipe/view/89253/ballast-point-sculpin-ale-clone           & Imperial IPA                       &  86 & 45.42 & 1.084 & 1.020 & 8.43 &  79.28 &  6.26 & 51.10 & 60 & 1.075 & 90 & 1.25 & Specific Gravity & All Grain & 1.00 & 20.56 & NA                &  NA\\\\\n",
       "\t 23 & Brooklyn Sorachi Ace                         & /homebrew/recipe/view/190892/brooklyn-sorachi-ace                     & Saison                             & 134 & 18.93 & 1.082 & 1.013 & 9.10 &   0.00 &  4.10 & 21.58 & 60 &    NA & 72 &   NA & Specific Gravity & All Grain &   NA &    NA & NA                &  NA\\\\\n",
       "\t 24 & Lagunitas IPA Clone                          & /homebrew/recipe/view/28344/lagunitas-ipa-clone                       & English IPA                        &  65 & 20.82 & 1.061 & 1.014 & 6.17 &  56.65 &  5.85 & 28.39 & 60 & 1.045 & 75 &   NA & Specific Gravity & All Grain &   NA &    NA & NA                &  NA\\\\\n",
       "\t 25 & NEIPA Hoppy ( juicy) -  Braumeister 20L      & /homebrew/recipe/view/295897/neipa-hoppy-juicy-braumeister-20l        & American IPA                       &   7 & 21.00 & 1.062 & 1.014 & 6.29 &  53.57 &  5.21 & 25.00 & 70 & 1.052 & 73 &   NA & Specific Gravity & BIAB      & 0.75 & 20.00 & NA                &  NA\\\\\n",
       "\t 26 & Dale's Pale Ale Clone                        & /homebrew/recipe/view/190430/dale-s-pale-ale-clone                    & American Pale Ale                  &  10 & 18.93 & 1.067 & 1.017 & 6.60 &   0.00 & 11.69 & 18.93 & 60 &    NA & 75 &   NA & Specific Gravity & All Grain &   NA &    NA & NA                &  NA\\\\\n",
       "\t 27 & IPA - Tired Hands Milkshake                  & /homebrew/recipe/view/392896/ipa-tired-hands-milkshake                & American IPA                       &   7 & 24.61 & 1.058 & 1.017 & 5.34 &  57.84 &  3.98 & 28.39 & 60 & 1.050 & 83 &   NA & Specific Gravity & BIAB      & 0.50 & 18.33 & NA                &  NA\\\\\n",
       "\t 28 & Bakke Brygg Julelager 20 l                   & /homebrew/recipe/view/73376/bakke-brygg-julelager-20-l                & Traditional Bock                   & 163 & 20.00 & 1.065 & 1.018 & 6.22 &  27.12 & 16.66 & 25.00 & 90 & 1.052 & 70 &   NA & Specific Gravity & All Grain &   NA & 10.00 & Sukkerlake        &  NA\\\\\n",
       "\t 29 & Grapefruit IPA                               & /homebrew/recipe/view/35541/grapefruit-ipa                            & American IPA                       &   7 & 26.50 & 1.052 & 1.012 & 5.31 &  60.58 &  5.82 & 32.18 & 60 & 1.043 & 70 & 1.30 & Specific Gravity & All Grain & 0.75 & 20.56 & NA                &  NA\\\\\n",
       "\t 30 & Bakke Brygg Robust Porter 50 l               & /homebrew/recipe/view/73679/bakke-brygg-robust-porter-50-l            & Robust Porter                      & 129 & 50.00 & 1.058 & 1.014 & 5.76 &  39.00 & 38.71 & 58.00 & 60 & 1.050 & 71 &   NA & Specific Gravity & All Grain &   NA & 18.00 & Sukkerlake        &  NA\\\\\n",
       "\t ⋮ & ⋮ & ⋮ & ⋮ & ⋮ & ⋮ & ⋮ & ⋮ & ⋮ & ⋮ & ⋮ & ⋮ & ⋮ & ⋮ & ⋮ & ⋮ & ⋮ & ⋮ & ⋮ & ⋮ & ⋮ & ⋮\\\\\n",
       "\t  71 & Classic German Hefe Weissbier                          & /homebrew/recipe/view/189065/classic-german-hefe-weissbier                      & Weizen/Weissbier                   & 170 & 18.93 & 1.056 & 1.014 &  5.50 &   0.00 &  3.99 & 18.93 & 60 &    NA &  75 &   NA & Specific Gravity & All Grain    &   NA &    NA & NA         & NA\\\\\n",
       "\t  72 & Hazy Juicy IPA                                         & /homebrew/recipe/view/448502/hazy-juicy-ipa                                     & American IPA                       &   7 & 22.71 & 1.062 & 1.012 &  6.51 & 121.43 &  4.26 & 26.50 & 60 & 1.053 &  70 & 1.50 & Specific Gravity & All Grain    &   NA & 17.22 & NA         & NA\\\\\n",
       "\t  73 & Nutella Stout                                          & /homebrew/recipe/view/6549/nutella-stout                                        & Sweet Stout                        & 162 & 19.87 & 1.054 & 1.015 &  5.11 &  31.84 & 35.08 & 15.14 & 60 &    NA &  70 &   NA & Specific Gravity & extract      &   NA &    NA & NA         & NA\\\\\n",
       "\t  74 & Syntax Error IPA II                                    & /homebrew/recipe/view/227462/syntax-error-ipa-ii                                & American IPA                       &   7 & 42.00 & 1.068 & 1.013 &  7.20 & 105.67 &  7.77 & 52.00 & 60 & 1.055 &  68 & 2.00 & Specific Gravity & All Grain    &   NA & 19.00 & NA         & NA\\\\\n",
       "\t  75 & 1664 Blanc Clone                                       & /homebrew/recipe/view/254306/1664-blanc-clone                                   & Witbier                            & 175 & 25.00 & 1.057 & 1.012 &  5.87 &  23.21 &  3.11 & 35.00 & 90 & 1.041 &  83 & 4.69 & Specific Gravity & All Grain    & 0.75 &    NA & NA         & NA\\\\\n",
       "\t  76 & Founders Brewing Co. - Dirty Bastard Clone...          & /homebrew/recipe/view/119712/founders-brewing-co-dirty-bastard-clone            & Strong Scotch Ale                  & 160 & 20.82 & 1.087 & 1.022 &  8.56 &  85.74 & 24.85 & 13.25 & 60 & 1.137 &  75 &   NA & Specific Gravity & All Grain    & 0.50 & 20.00 & Corn Sugar & NA\\\\\n",
       "\t  77 & Belgian Wit                                            & /homebrew/recipe/view/906/belgian-wit                                           & Witbier                            & 175 & 20.82 & 1.050 & 1.013 &  4.85 &  20.08 &  3.33 & 28.39 & 90 & 1.037 &  75 &   NA & Specific Gravity & All Grain    & 0.75 &    NA & NA         & NA\\\\\n",
       "\t  78 & Pliny the Younger Clone                                & /homebrew/recipe/view/76598/pliny-the-younger-clone                             & Imperial IPA                       &  86 & 22.71 & 1.102 & 1.023 & 10.34 & 136.21 &  6.34 & 30.28 & 90 & 1.076 &  80 & 2.00 & Specific Gravity & All Grain    & 0.75 & 16.67 & NA         & NA\\\\\n",
       "\t  79 & Belgian Strong Pale - La Chouffe                       & /homebrew/recipe/view/80009/belgian-strong-pale-la-chouffe                      & Belgian Golden Strong Ale          &  23 & 18.93 & 1.070 & 1.008 &  8.14 &  31.39 &  4.28 & 25.97 & 90 & 1.051 &  70 & 1.33 & Specific Gravity & All Grain    &   NA & 20.00 & force carb & NA\\\\\n",
       "\t  80 & Bill's Double Chocolate Milk Stout                     & /homebrew/recipe/view/180328/bill-s-double-chocolate-milk-stout                 & Sweet Stout                        & 162 & 20.82 & 1.066 & 1.021 &  5.87 &  37.61 & 41.27 & 24.61 & 60 & 1.056 &  65 & 1.25 & Specific Gravity & All Grain    & 0.50 &    NA & NA         & NA\\\\\n",
       "\t  81 & Fat Head's Headhunter IPA Clone                        & /homebrew/recipe/view/110195/fat-head-s-headhunter-ipa-clone                    & American IPA                       &   7 & 41.64 & 1.072 & 1.014 &  7.52 &  87.48 &  7.30 & 49.21 & 90 & 1.061 &  65 & 1.30 & Specific Gravity & All Grain    & 0.75 & 20.00 & Force Carb & NA\\\\\n",
       "\t  82 & Orange Mohawk (Shock top clone)                        & /homebrew/recipe/view/97252/orange-mohawk-shock-top-clone-                      & Witbier                            & 175 & 41.64 & 1.052 & 1.013 &  5.22 &  16.79 &  4.31 & 49.21 & 90 & 1.044 &  73 & 1.50 & Specific Gravity & All Grain    & 0.50 & 20.00 & NA         & NA\\\\\n",
       "\t  83 & Jamil's Tripel                                         & /homebrew/recipe/view/23709/jamil-s-tripel                                      & Belgian Tripel                     &  26 & 19.87 & 1.092 & 1.017 &  9.85 &  36.65 &  5.14 & 25.55 & 90 & 1.072 &  70 &   NA & Specific Gravity & BIAB         &   NA &    NA & NA         & NA\\\\\n",
       "\t  84 & Chocolate Imperial Stout                               & /homebrew/recipe/view/1647/chocolate-imperial-stout                             & American Stout                     &  12 & 20.82 & 1.096 & 1.026 &  9.16 &  33.18 & 40.00 & 18.93 & 60 &    NA &  70 &   NA & Specific Gravity & extract      &   NA &    NA & NA         & NA\\\\\n",
       "\t  85 & Green Flash West Coast IPA Clone                       & /homebrew/recipe/view/189480/green-flash-west-coast-ipa-clone                   & American IPA                       &   7 & 22.71 & 1.072 & 1.016 &  7.27 &   0.00 &  9.30 & 28.39 & 60 &    NA &  65 &   NA & Specific Gravity & All Grain    &   NA &    NA & NA         & NA\\\\\n",
       "\t  86 & Leffe Blonde Clone v2                                  & /homebrew/recipe/view/73402/leffe-blonde-clone-v2                               & Belgian Pale Ale                   &  24 & 18.93 & 1.070 & 1.020 &  6.47 &  23.28 &  5.93 &  7.57 & 60 & 1.174 &  50 &   NA & Specific Gravity & extract      & 0.35 & 21.11 & NA         & NA\\\\\n",
       "\t  87 & Easy Imperial IPA (Double IPA)                         & /homebrew/recipe/view/141526/easy-imperial-ipa-double-ipa-                      & Imperial IPA                       &  86 & 20.82 & 1.079 & 1.014 &  8.51 & 120.63 &  8.08 & 27.63 & 60 & 1.059 &  75 & 1.50 & Specific Gravity & All Grain    & 1.25 & 18.89 & NA         & NA\\\\\n",
       "\t  88 & Zatarain's Root Beer - Non-Alcoholic  keg in...        & /homebrew/recipe/view/21783/zatarain-s-root-beer-non-alcoholic-keg-instructions & NA                                 & 111 & 18.93 & 1.046 & 1.013 &  4.27 &   0.00 &  3.99 & 11.36 &  0 & 1.077 & 100 &   NA & Specific Gravity & BIAB         &   NA &    NA & NA         & NA\\\\\n",
       "\t  89 & Bakke Brygg Tsjekkisk Pilsner 25 l                     & /homebrew/recipe/view/134325/bakke-brygg-tsjekkisk-pilsner-25-l                 & Bohemian Pilsener                  &  31 & 25.00 & 1.050 & 1.013 &  4.88 &  40.51 &  3.50 & 30.00 & 90 & 1.042 &  72 &   NA & Specific Gravity & All Grain    &   NA & 10.00 & Sukkerlake & NA\\\\\n",
       "\t  90 & Summer Citra K<U+001ACCE3>h (a successful experimen... & /homebrew/recipe/view/9886/                                                     & K<U+001ACCE3>h                     &  94 & 20.82 & 1.049 & 1.012 &  4.84 &  25.23 &  3.79 & 28.39 & 90 &    NA &  68 &   NA & Specific Gravity & All Grain    &   NA &    NA & Dextrose   & NA\\\\\n",
       "\t  91 & Shiner Bock                                            & /homebrew/recipe/view/45045/shiner-bock                                         & Dark American Lager                &  52 & 20.82 & 1.043 & 1.011 &  4.14 &  13.22 & 17.67 & 28.39 & 90 &    NA &  85 &   NA & Specific Gravity & All Grain    & 1.75 & 12.22 & NA         & NA\\\\\n",
       "\t  92 & Bakke Brygg Pale Ale 5 l                               & /homebrew/recipe/view/76834/bakke-brygg-pale-ale-5-l                            & American Pale Ale                  &  10 &  5.00 & 1.054 & 1.011 &  5.61 &  40.55 &  5.66 &  7.00 & 60 & 1.038 &  72 &   NA & Specific Gravity & All Grain    &   NA & 18.00 & Sukkerlake & NA\\\\\n",
       "\t  93 & The Headless Horsemen Imperial Pumpkin Ale...          & /homebrew/recipe/view/19297/the-headless-horsemen-imperial-pumpkin-ale          & Holiday/Winter Special Spiced Beer &  85 & 18.93 & 1.083 & 1.020 &  8.36 & 101.71 & 15.51 & 11.36 & 60 &    NA &  70 &   NA & Specific Gravity & extract      &   NA &    NA & NA         & NA\\\\\n",
       "\t  94 & Dry Irish Stout: Guinness Clone                        & /homebrew/recipe/view/142280/dry-irish-stout-guinness-clone                     & Dry Stout                          &  58 & 45.42 & 1.044 & 1.010 &  4.39 &  38.47 & 31.40 & 53.00 & 60 & 1.038 &  80 & 1.50 & Specific Gravity & All Grain    & 1.00 & 18.89 & NA         & NA\\\\\n",
       "\t  95 & Kronenbourg 1664 Blanc klone                           & /homebrew/recipe/view/244064/kronenbourg-1664-blanc-klone                       & Witbier                            & 175 & 23.00 & 1.052 & 1.011 &  5.36 &  18.92 &  3.26 & 29.00 & 90 & 1.041 &  75 & 5.00 & Specific Gravity & All Grain    & 1.00 & 18.00 & Sukker     &  8\\\\\n",
       "\t  96 & Jumpin' Jalape<U+0006F813>aison                        & /homebrew/recipe/view/15676/                                                    & Saison                             & 134 &  3.79 & 1.056 & 1.012 &  5.73 &  26.51 &  9.94 &  4.73 & 60 &    NA &  70 &   NA & Specific Gravity & All Grain    &   NA &    NA & NA         & NA\\\\\n",
       "\t  97 & NEIPA                                                  & /homebrew/recipe/view/361507/neipa                                              & American IPA                       &   7 & 24.61 & 1.058 & 1.015 &  5.73 &  42.52 &  5.60 & 28.39 & 60 & 1.050 &  65 & 1.50 & Specific Gravity & All Grain    &   NA &    NA & NA         & NA\\\\\n",
       "\t  98 & Belgian Saison - Farmhouse Style Ale                   & /homebrew/recipe/view/25071/belgian-saison-farmhouse-style-ale                  & Saison                             & 134 & 18.93 & 1.055 & 1.014 &  5.43 &  16.73 &  2.84 & 15.14 & 60 & 1.069 &  70 &   NA & Specific Gravity & Partial Mash &   NA &    NA & Sugar      & NA\\\\\n",
       "\t  99 & Cigar City Jai Alai Clone                              & /homebrew/recipe/view/94372/cigar-city-jai-alai-clone                           & Imperial IPA                       &  86 & 20.82 & 1.075 & 1.019 &  7.89 &  97.11 & 11.30 & 28.39 & 75 & 1.055 &  70 & 1.33 & Specific Gravity & All Grain    & 0.35 & 18.33 & NA         & NA\\\\\n",
       "\t 100 & Cold Smoke Clone                                       & /homebrew/recipe/view/3616/cold-smoke-clone                                     & Strong Scotch Ale                  & 160 & 18.93 & 1.066 & 1.019 &  6.18 &  19.00 & 19.42 & 13.25 & 60 &    NA &  70 &   NA & Specific Gravity & extract      &   NA &    NA & NA         & NA\\\\\n",
       "\\end{tabular}\n"
      ],
      "text/markdown": [
       "\n",
       "A tibble: 100 × 22\n",
       "\n",
       "| BeerID &lt;dbl&gt; | Name &lt;chr&gt; | URL &lt;chr&gt; | Style &lt;chr&gt; | StyleID &lt;dbl&gt; | Size(L) &lt;dbl&gt; | OG &lt;dbl&gt; | FG &lt;dbl&gt; | ABV &lt;dbl&gt; | IBU &lt;dbl&gt; | ⋯ ⋯ | BoilTime &lt;dbl&gt; | BoilGravity &lt;dbl&gt; | Efficiency &lt;dbl&gt; | MashThickness &lt;dbl&gt; | SugarScale &lt;chr&gt; | BrewMethod &lt;chr&gt; | PitchRate &lt;dbl&gt; | PrimaryTemp &lt;dbl&gt; | PrimingMethod &lt;chr&gt; | PrimingAmount &lt;dbl&gt; |\n",
       "|---|---|---|---|---|---|---|---|---|---|---|---|---|---|---|---|---|---|---|---|---|\n",
       "|  1 | Vanilla Cream Ale                            | /homebrew/recipe/view/1633/vanilla-cream-ale                          | Cream Ale                          |  45 | 21.77 | 1.055 | 1.013 | 5.48 |  17.65 | ⋯ | 75 | 1.038 | 70 |   NA | Specific Gravity | All Grain |   NA | 17.78 | corn sugar        | 4.5 |\n",
       "|  2 | Southern Tier Pumking clone                  | /homebrew/recipe/view/16367/southern-tier-pumking-clone               | Holiday/Winter Special Spiced Beer |  85 | 20.82 | 1.083 | 1.021 | 8.16 |  60.65 | ⋯ | 60 | 1.070 | 70 |   NA | Specific Gravity | All Grain |   NA |    NA | NA                |  NA |\n",
       "|  3 | Zombie Dust Clone - EXTRACT                  | /homebrew/recipe/view/5920/zombie-dust-clone-extract                  | American IPA                       |   7 | 18.93 | 1.063 | 1.018 | 5.91 |  59.25 | ⋯ | 60 |    NA | 70 |   NA | Specific Gravity | extract   |   NA |    NA | NA                |  NA |\n",
       "|  4 | Zombie Dust Clone - ALL GRAIN                | /homebrew/recipe/view/5916/zombie-dust-clone-all-grain                | American IPA                       |   7 | 22.71 | 1.061 | 1.017 | 5.80 |  54.48 | ⋯ | 60 |    NA | 70 |   NA | Specific Gravity | All Grain |   NA |    NA | NA                |  NA |\n",
       "|  5 | Bakke Brygg Belgisk Blonde 50 l              | /homebrew/recipe/view/89534/bakke-brygg-belgisk-blonde-50-l           | Belgian Blond Ale                  |  20 | 50.00 | 1.060 | 1.010 | 6.48 |  17.84 | ⋯ | 90 | 1.050 | 72 |   NA | Specific Gravity | All Grain |   NA | 19.00 | Sukkerlake        |  NA |\n",
       "|  6 | Sierra Nevada Pale Ale Clone                 | /homebrew/recipe/view/28546/sierra-nevada-pale-ale-clone              | American Pale Ale                  |  10 | 24.61 | 1.055 | 1.013 | 5.58 |  40.12 | ⋯ | 70 | 1.047 | 79 |   NA | Specific Gravity | All Grain | 1.00 |    NA | NA                |  NA |\n",
       "|  7 | Russian River Pliny the Elder (original)     | /homebrew/recipe/view/37534/russian-river-pliny-the-elder-original-   | Imperial IPA                       |  86 | 22.71 | 1.072 | 1.018 | 7.09 | 268.71 | ⋯ | 90 |    NA | 75 |   NA | Specific Gravity | All Grain |   NA |    NA | NA                |  NA |\n",
       "|  8 | Spotted Clown (New Glarus Spotted Cow clone) | /homebrew/recipe/view/672/spotted-clown-new-glarus-spotted-cow-clone- | Cream Ale                          |  45 | 20.82 | 1.054 | 1.014 | 5.36 |  19.97 | ⋯ | 75 | 1.040 | 70 | 1.40 | Specific Gravity | All Grain |   NA |    NA | corn sugar        | 4.2 |\n",
       "|  9 | Chocolate Vanilla Porter                     | /homebrew/recipe/view/29265/chocolate-vanilla-porter                  | Robust Porter                      | 129 | 22.71 | 1.060 | 1.016 | 5.77 |  31.63 | ⋯ | 75 | 1.042 | 73 |   NA | Specific Gravity | All Grain |   NA |    NA | corn sugar        | 4.0 |\n",
       "| 10 | Mango Habanero IPA                           | /homebrew/recipe/view/61082/mango-habanero-ipa                        | Imperial IPA                       |  86 | 20.82 | 1.080 | 1.017 | 8.22 |  93.02 | ⋯ | 60 | 1.058 | 70 |   NA | Specific Gravity | All Grain |   NA | 21.11 | Corn Sugar        |  NA |\n",
       "| 11 | Bakke Brygg HveteIPA 25 L                    | /homebrew/recipe/view/73890/bakke-brygg-hveteipa-25-l                 | American IPA                       |   7 | 25.00 | 1.064 | 1.014 | 6.63 |  64.26 | ⋯ | 90 | 1.055 | 74 |   NA | Specific Gravity | All Grain | 1.00 | 18.00 | Sukkerlake        |  NA |\n",
       "| 12 | Hop Notch Clone                              | /homebrew/recipe/view/10092/hop-notch-clone                           | American IPA                       |   7 | 15.14 | 1.066 | 1.015 | 6.62 | 111.00 | ⋯ | 90 |    NA | 70 |   NA | Specific Gravity | BIAB      |   NA |    NA | NA                |  NA |\n",
       "| 13 | Racer 5 IPA Clone                            | /homebrew/recipe/view/23246/racer-5-ipa-clone                         | American IPA                       |   7 | 20.82 | 1.073 | 1.019 | 7.07 |  69.72 | ⋯ | 60 |    NA | 70 |   NA | Specific Gravity | All Grain |   NA |    NA | NA                |  NA |\n",
       "| 14 | Sam Adams Rebel IPA Clone                    | /homebrew/recipe/view/106996/sam-adams-rebel-ipa-clone                | American IPA                       |   7 | 18.93 | 1.066 | 1.017 | 6.51 |  60.96 | ⋯ | 60 | 1.110 | 30 |   NA | Specific Gravity | extract   | 0.35 | 18.33 | NA                |  NA |\n",
       "| 15 | White IPA                                    | /homebrew/recipe/view/8361/white-ipa                                  | American IPA                       |   7 | 37.85 | 1.064 | 1.017 | 6.20 |  64.67 | ⋯ | 60 | 1.071 | 70 | 1.20 | Specific Gravity | All Grain |   NA |    NA | NA                |  NA |\n",
       "| 16 | Pilsner Urquell BYO clone                    | /homebrew/recipe/view/3000/pilsner-urquell-byo-clone                  | Bohemian Pilsener                  |  31 | 41.64 | 1.051 | 1.013 | 4.92 |  36.80 | ⋯ | 60 |    NA | 75 |   NA | Specific Gravity | All Grain |   NA |    NA | NA                |  NA |\n",
       "| 17 | Tank 7 Clone                                 | /homebrew/recipe/view/23436/tank-7-clone                              | Saison                             | 134 | 20.82 | 1.073 | 1.015 | 7.63 |  44.94 | ⋯ | 60 | 1.054 | 70 |   NA | Specific Gravity | BIAB      |   NA |    NA | Corn Sugar        |  NA |\n",
       "| 18 | Bells two hearted clone                      | /homebrew/recipe/view/3837/bells-two-hearted-clone                    | American IPA                       |   7 | 20.82 | 1.073 | 1.018 | 7.14 |  61.83 | ⋯ | 60 | 1.061 | 75 |   NA | Specific Gravity | All Grain | 0.75 | 18.33 | NA                |  NA |\n",
       "| 19 | New Glarus Fat Squirrel Clone                | /homebrew/recipe/view/1435/new-glarus-fat-squirrel-clone              | Northern English Brown             | 113 | 20.82 | 1.046 | 1.010 | 4.61 |  13.64 | ⋯ | 90 | 1.033 | 70 |   NA | Specific Gravity | All Grain |   NA | 16.67 | Priming Sugar     |  NA |\n",
       "| 20 | Avg. Perfect Northeast IPA (NEIPA)           | /homebrew/recipe/view/363082/avg-perfect-northeast-ipa-neipa-         | American IPA                       |   7 | 21.77 | 1.062 | 1.013 | 6.50 |  53.30 | ⋯ | 60 | 1.048 | 70 | 1.25 | Specific Gravity | All Grain |   NA |    NA | Keg - Force Carb. |  NA |\n",
       "| 21 | Goose Island IPA Clone                       | /homebrew/recipe/view/28343/goose-island-ipa-clone                    | English IPA                        |  65 | 20.82 | 1.065 | 1.015 | 6.63 |  55.52 | ⋯ | 60 | 1.048 | 75 | 1.50 | Specific Gravity | All Grain |   NA | 17.78 | NA                |  NA |\n",
       "| 22 | Ballast Point Sculpin Ale Clone              | /homebrew/recipe/view/89253/ballast-point-sculpin-ale-clone           | Imperial IPA                       |  86 | 45.42 | 1.084 | 1.020 | 8.43 |  79.28 | ⋯ | 60 | 1.075 | 90 | 1.25 | Specific Gravity | All Grain | 1.00 | 20.56 | NA                |  NA |\n",
       "| 23 | Brooklyn Sorachi Ace                         | /homebrew/recipe/view/190892/brooklyn-sorachi-ace                     | Saison                             | 134 | 18.93 | 1.082 | 1.013 | 9.10 |   0.00 | ⋯ | 60 |    NA | 72 |   NA | Specific Gravity | All Grain |   NA |    NA | NA                |  NA |\n",
       "| 24 | Lagunitas IPA Clone                          | /homebrew/recipe/view/28344/lagunitas-ipa-clone                       | English IPA                        |  65 | 20.82 | 1.061 | 1.014 | 6.17 |  56.65 | ⋯ | 60 | 1.045 | 75 |   NA | Specific Gravity | All Grain |   NA |    NA | NA                |  NA |\n",
       "| 25 | NEIPA Hoppy ( juicy) -  Braumeister 20L      | /homebrew/recipe/view/295897/neipa-hoppy-juicy-braumeister-20l        | American IPA                       |   7 | 21.00 | 1.062 | 1.014 | 6.29 |  53.57 | ⋯ | 70 | 1.052 | 73 |   NA | Specific Gravity | BIAB      | 0.75 | 20.00 | NA                |  NA |\n",
       "| 26 | Dale's Pale Ale Clone                        | /homebrew/recipe/view/190430/dale-s-pale-ale-clone                    | American Pale Ale                  |  10 | 18.93 | 1.067 | 1.017 | 6.60 |   0.00 | ⋯ | 60 |    NA | 75 |   NA | Specific Gravity | All Grain |   NA |    NA | NA                |  NA |\n",
       "| 27 | IPA - Tired Hands Milkshake                  | /homebrew/recipe/view/392896/ipa-tired-hands-milkshake                | American IPA                       |   7 | 24.61 | 1.058 | 1.017 | 5.34 |  57.84 | ⋯ | 60 | 1.050 | 83 |   NA | Specific Gravity | BIAB      | 0.50 | 18.33 | NA                |  NA |\n",
       "| 28 | Bakke Brygg Julelager 20 l                   | /homebrew/recipe/view/73376/bakke-brygg-julelager-20-l                | Traditional Bock                   | 163 | 20.00 | 1.065 | 1.018 | 6.22 |  27.12 | ⋯ | 90 | 1.052 | 70 |   NA | Specific Gravity | All Grain |   NA | 10.00 | Sukkerlake        |  NA |\n",
       "| 29 | Grapefruit IPA                               | /homebrew/recipe/view/35541/grapefruit-ipa                            | American IPA                       |   7 | 26.50 | 1.052 | 1.012 | 5.31 |  60.58 | ⋯ | 60 | 1.043 | 70 | 1.30 | Specific Gravity | All Grain | 0.75 | 20.56 | NA                |  NA |\n",
       "| 30 | Bakke Brygg Robust Porter 50 l               | /homebrew/recipe/view/73679/bakke-brygg-robust-porter-50-l            | Robust Porter                      | 129 | 50.00 | 1.058 | 1.014 | 5.76 |  39.00 | ⋯ | 60 | 1.050 | 71 |   NA | Specific Gravity | All Grain |   NA | 18.00 | Sukkerlake        |  NA |\n",
       "| ⋮ | ⋮ | ⋮ | ⋮ | ⋮ | ⋮ | ⋮ | ⋮ | ⋮ | ⋮ | ⋱ | ⋮ | ⋮ | ⋮ | ⋮ | ⋮ | ⋮ | ⋮ | ⋮ | ⋮ | ⋮ |\n",
       "|  71 | Classic German Hefe Weissbier                          | /homebrew/recipe/view/189065/classic-german-hefe-weissbier                      | Weizen/Weissbier                   | 170 | 18.93 | 1.056 | 1.014 |  5.50 |   0.00 | ⋯ | 60 |    NA |  75 |   NA | Specific Gravity | All Grain    |   NA |    NA | NA         | NA |\n",
       "|  72 | Hazy Juicy IPA                                         | /homebrew/recipe/view/448502/hazy-juicy-ipa                                     | American IPA                       |   7 | 22.71 | 1.062 | 1.012 |  6.51 | 121.43 | ⋯ | 60 | 1.053 |  70 | 1.50 | Specific Gravity | All Grain    |   NA | 17.22 | NA         | NA |\n",
       "|  73 | Nutella Stout                                          | /homebrew/recipe/view/6549/nutella-stout                                        | Sweet Stout                        | 162 | 19.87 | 1.054 | 1.015 |  5.11 |  31.84 | ⋯ | 60 |    NA |  70 |   NA | Specific Gravity | extract      |   NA |    NA | NA         | NA |\n",
       "|  74 | Syntax Error IPA II                                    | /homebrew/recipe/view/227462/syntax-error-ipa-ii                                | American IPA                       |   7 | 42.00 | 1.068 | 1.013 |  7.20 | 105.67 | ⋯ | 60 | 1.055 |  68 | 2.00 | Specific Gravity | All Grain    |   NA | 19.00 | NA         | NA |\n",
       "|  75 | 1664 Blanc Clone                                       | /homebrew/recipe/view/254306/1664-blanc-clone                                   | Witbier                            | 175 | 25.00 | 1.057 | 1.012 |  5.87 |  23.21 | ⋯ | 90 | 1.041 |  83 | 4.69 | Specific Gravity | All Grain    | 0.75 |    NA | NA         | NA |\n",
       "|  76 | Founders Brewing Co. - Dirty Bastard Clone...          | /homebrew/recipe/view/119712/founders-brewing-co-dirty-bastard-clone            | Strong Scotch Ale                  | 160 | 20.82 | 1.087 | 1.022 |  8.56 |  85.74 | ⋯ | 60 | 1.137 |  75 |   NA | Specific Gravity | All Grain    | 0.50 | 20.00 | Corn Sugar | NA |\n",
       "|  77 | Belgian Wit                                            | /homebrew/recipe/view/906/belgian-wit                                           | Witbier                            | 175 | 20.82 | 1.050 | 1.013 |  4.85 |  20.08 | ⋯ | 90 | 1.037 |  75 |   NA | Specific Gravity | All Grain    | 0.75 |    NA | NA         | NA |\n",
       "|  78 | Pliny the Younger Clone                                | /homebrew/recipe/view/76598/pliny-the-younger-clone                             | Imperial IPA                       |  86 | 22.71 | 1.102 | 1.023 | 10.34 | 136.21 | ⋯ | 90 | 1.076 |  80 | 2.00 | Specific Gravity | All Grain    | 0.75 | 16.67 | NA         | NA |\n",
       "|  79 | Belgian Strong Pale - La Chouffe                       | /homebrew/recipe/view/80009/belgian-strong-pale-la-chouffe                      | Belgian Golden Strong Ale          |  23 | 18.93 | 1.070 | 1.008 |  8.14 |  31.39 | ⋯ | 90 | 1.051 |  70 | 1.33 | Specific Gravity | All Grain    |   NA | 20.00 | force carb | NA |\n",
       "|  80 | Bill's Double Chocolate Milk Stout                     | /homebrew/recipe/view/180328/bill-s-double-chocolate-milk-stout                 | Sweet Stout                        | 162 | 20.82 | 1.066 | 1.021 |  5.87 |  37.61 | ⋯ | 60 | 1.056 |  65 | 1.25 | Specific Gravity | All Grain    | 0.50 |    NA | NA         | NA |\n",
       "|  81 | Fat Head's Headhunter IPA Clone                        | /homebrew/recipe/view/110195/fat-head-s-headhunter-ipa-clone                    | American IPA                       |   7 | 41.64 | 1.072 | 1.014 |  7.52 |  87.48 | ⋯ | 90 | 1.061 |  65 | 1.30 | Specific Gravity | All Grain    | 0.75 | 20.00 | Force Carb | NA |\n",
       "|  82 | Orange Mohawk (Shock top clone)                        | /homebrew/recipe/view/97252/orange-mohawk-shock-top-clone-                      | Witbier                            | 175 | 41.64 | 1.052 | 1.013 |  5.22 |  16.79 | ⋯ | 90 | 1.044 |  73 | 1.50 | Specific Gravity | All Grain    | 0.50 | 20.00 | NA         | NA |\n",
       "|  83 | Jamil's Tripel                                         | /homebrew/recipe/view/23709/jamil-s-tripel                                      | Belgian Tripel                     |  26 | 19.87 | 1.092 | 1.017 |  9.85 |  36.65 | ⋯ | 90 | 1.072 |  70 |   NA | Specific Gravity | BIAB         |   NA |    NA | NA         | NA |\n",
       "|  84 | Chocolate Imperial Stout                               | /homebrew/recipe/view/1647/chocolate-imperial-stout                             | American Stout                     |  12 | 20.82 | 1.096 | 1.026 |  9.16 |  33.18 | ⋯ | 60 |    NA |  70 |   NA | Specific Gravity | extract      |   NA |    NA | NA         | NA |\n",
       "|  85 | Green Flash West Coast IPA Clone                       | /homebrew/recipe/view/189480/green-flash-west-coast-ipa-clone                   | American IPA                       |   7 | 22.71 | 1.072 | 1.016 |  7.27 |   0.00 | ⋯ | 60 |    NA |  65 |   NA | Specific Gravity | All Grain    |   NA |    NA | NA         | NA |\n",
       "|  86 | Leffe Blonde Clone v2                                  | /homebrew/recipe/view/73402/leffe-blonde-clone-v2                               | Belgian Pale Ale                   |  24 | 18.93 | 1.070 | 1.020 |  6.47 |  23.28 | ⋯ | 60 | 1.174 |  50 |   NA | Specific Gravity | extract      | 0.35 | 21.11 | NA         | NA |\n",
       "|  87 | Easy Imperial IPA (Double IPA)                         | /homebrew/recipe/view/141526/easy-imperial-ipa-double-ipa-                      | Imperial IPA                       |  86 | 20.82 | 1.079 | 1.014 |  8.51 | 120.63 | ⋯ | 60 | 1.059 |  75 | 1.50 | Specific Gravity | All Grain    | 1.25 | 18.89 | NA         | NA |\n",
       "|  88 | Zatarain's Root Beer - Non-Alcoholic  keg in...        | /homebrew/recipe/view/21783/zatarain-s-root-beer-non-alcoholic-keg-instructions | NA                                 | 111 | 18.93 | 1.046 | 1.013 |  4.27 |   0.00 | ⋯ |  0 | 1.077 | 100 |   NA | Specific Gravity | BIAB         |   NA |    NA | NA         | NA |\n",
       "|  89 | Bakke Brygg Tsjekkisk Pilsner 25 l                     | /homebrew/recipe/view/134325/bakke-brygg-tsjekkisk-pilsner-25-l                 | Bohemian Pilsener                  |  31 | 25.00 | 1.050 | 1.013 |  4.88 |  40.51 | ⋯ | 90 | 1.042 |  72 |   NA | Specific Gravity | All Grain    |   NA | 10.00 | Sukkerlake | NA |\n",
       "|  90 | Summer Citra K&lt;U+001ACCE3&gt;h (a successful experimen... | /homebrew/recipe/view/9886/                                                     | K&lt;U+001ACCE3&gt;h                     |  94 | 20.82 | 1.049 | 1.012 |  4.84 |  25.23 | ⋯ | 90 |    NA |  68 |   NA | Specific Gravity | All Grain    |   NA |    NA | Dextrose   | NA |\n",
       "|  91 | Shiner Bock                                            | /homebrew/recipe/view/45045/shiner-bock                                         | Dark American Lager                |  52 | 20.82 | 1.043 | 1.011 |  4.14 |  13.22 | ⋯ | 90 |    NA |  85 |   NA | Specific Gravity | All Grain    | 1.75 | 12.22 | NA         | NA |\n",
       "|  92 | Bakke Brygg Pale Ale 5 l                               | /homebrew/recipe/view/76834/bakke-brygg-pale-ale-5-l                            | American Pale Ale                  |  10 |  5.00 | 1.054 | 1.011 |  5.61 |  40.55 | ⋯ | 60 | 1.038 |  72 |   NA | Specific Gravity | All Grain    |   NA | 18.00 | Sukkerlake | NA |\n",
       "|  93 | The Headless Horsemen Imperial Pumpkin Ale...          | /homebrew/recipe/view/19297/the-headless-horsemen-imperial-pumpkin-ale          | Holiday/Winter Special Spiced Beer |  85 | 18.93 | 1.083 | 1.020 |  8.36 | 101.71 | ⋯ | 60 |    NA |  70 |   NA | Specific Gravity | extract      |   NA |    NA | NA         | NA |\n",
       "|  94 | Dry Irish Stout: Guinness Clone                        | /homebrew/recipe/view/142280/dry-irish-stout-guinness-clone                     | Dry Stout                          |  58 | 45.42 | 1.044 | 1.010 |  4.39 |  38.47 | ⋯ | 60 | 1.038 |  80 | 1.50 | Specific Gravity | All Grain    | 1.00 | 18.89 | NA         | NA |\n",
       "|  95 | Kronenbourg 1664 Blanc klone                           | /homebrew/recipe/view/244064/kronenbourg-1664-blanc-klone                       | Witbier                            | 175 | 23.00 | 1.052 | 1.011 |  5.36 |  18.92 | ⋯ | 90 | 1.041 |  75 | 5.00 | Specific Gravity | All Grain    | 1.00 | 18.00 | Sukker     |  8 |\n",
       "|  96 | Jumpin' Jalape&lt;U+0006F813&gt;aison                        | /homebrew/recipe/view/15676/                                                    | Saison                             | 134 |  3.79 | 1.056 | 1.012 |  5.73 |  26.51 | ⋯ | 60 |    NA |  70 |   NA | Specific Gravity | All Grain    |   NA |    NA | NA         | NA |\n",
       "|  97 | NEIPA                                                  | /homebrew/recipe/view/361507/neipa                                              | American IPA                       |   7 | 24.61 | 1.058 | 1.015 |  5.73 |  42.52 | ⋯ | 60 | 1.050 |  65 | 1.50 | Specific Gravity | All Grain    |   NA |    NA | NA         | NA |\n",
       "|  98 | Belgian Saison - Farmhouse Style Ale                   | /homebrew/recipe/view/25071/belgian-saison-farmhouse-style-ale                  | Saison                             | 134 | 18.93 | 1.055 | 1.014 |  5.43 |  16.73 | ⋯ | 60 | 1.069 |  70 |   NA | Specific Gravity | Partial Mash |   NA |    NA | Sugar      | NA |\n",
       "|  99 | Cigar City Jai Alai Clone                              | /homebrew/recipe/view/94372/cigar-city-jai-alai-clone                           | Imperial IPA                       |  86 | 20.82 | 1.075 | 1.019 |  7.89 |  97.11 | ⋯ | 75 | 1.055 |  70 | 1.33 | Specific Gravity | All Grain    | 0.35 | 18.33 | NA         | NA |\n",
       "| 100 | Cold Smoke Clone                                       | /homebrew/recipe/view/3616/cold-smoke-clone                                     | Strong Scotch Ale                  | 160 | 18.93 | 1.066 | 1.019 |  6.18 |  19.00 | ⋯ | 60 |    NA |  70 |   NA | Specific Gravity | extract      |   NA |    NA | NA         | NA |\n",
       "\n"
      ],
      "text/plain": [
       "       BeerID Name                                                  \n",
       "1       1     Vanilla Cream Ale                                     \n",
       "2       2     Southern Tier Pumking clone                           \n",
       "3       3     Zombie Dust Clone - EXTRACT                           \n",
       "4       4     Zombie Dust Clone - ALL GRAIN                         \n",
       "5       5     Bakke Brygg Belgisk Blonde 50 l                       \n",
       "6       6     Sierra Nevada Pale Ale Clone                          \n",
       "7       7     Russian River Pliny the Elder (original)              \n",
       "8       8     Spotted Clown (New Glarus Spotted Cow clone)          \n",
       "9       9     Chocolate Vanilla Porter                              \n",
       "10     10     Mango Habanero IPA                                    \n",
       "11     11     Bakke Brygg HveteIPA 25 L                             \n",
       "12     12     Hop Notch Clone                                       \n",
       "13     13     Racer 5 IPA Clone                                     \n",
       "14     14     Sam Adams Rebel IPA Clone                             \n",
       "15     15     White IPA                                             \n",
       "16     16     Pilsner Urquell BYO clone                             \n",
       "17     17     Tank 7 Clone                                          \n",
       "18     18     Bells two hearted clone                               \n",
       "19     19     New Glarus Fat Squirrel Clone                         \n",
       "20     20     Avg. Perfect Northeast IPA (NEIPA)                    \n",
       "21     21     Goose Island IPA Clone                                \n",
       "22     22     Ballast Point Sculpin Ale Clone                       \n",
       "23     23     Brooklyn Sorachi Ace                                  \n",
       "24     24     Lagunitas IPA Clone                                   \n",
       "25     25     NEIPA Hoppy ( juicy) -  Braumeister 20L               \n",
       "26     26     Dale's Pale Ale Clone                                 \n",
       "27     27     IPA - Tired Hands Milkshake                           \n",
       "28     28     Bakke Brygg Julelager 20 l                            \n",
       "29     29     Grapefruit IPA                                        \n",
       "30     30     Bakke Brygg Robust Porter 50 l                        \n",
       "<U+22EE> <U+22EE> <U+22EE>                                              \n",
       "71      71    Classic German Hefe Weissbier                         \n",
       "72      72    Hazy Juicy IPA                                        \n",
       "73      73    Nutella Stout                                         \n",
       "74      74    Syntax Error IPA II                                   \n",
       "75      75    1664 Blanc Clone                                      \n",
       "76      76    Founders Brewing Co. - Dirty Bastard Clone...         \n",
       "77      77    Belgian Wit                                           \n",
       "78      78    Pliny the Younger Clone                               \n",
       "79      79    Belgian Strong Pale - La Chouffe                      \n",
       "80      80    Bill's Double Chocolate Milk Stout                    \n",
       "81      81    Fat Head's Headhunter IPA Clone                       \n",
       "82      82    Orange Mohawk (Shock top clone)                       \n",
       "83      83    Jamil's Tripel                                        \n",
       "84      84    Chocolate Imperial Stout                              \n",
       "85      85    Green Flash West Coast IPA Clone                      \n",
       "86      86    Leffe Blonde Clone v2                                 \n",
       "87      87    Easy Imperial IPA (Double IPA)                        \n",
       "88      88    Zatarain's Root Beer - Non-Alcoholic  keg in...       \n",
       "89      89    Bakke Brygg Tsjekkisk Pilsner 25 l                    \n",
       "90      90    Summer Citra K<U+001ACCE3>h (a successful experimen...\n",
       "91      91    Shiner Bock                                           \n",
       "92      92    Bakke Brygg Pale Ale 5 l                              \n",
       "93      93    The Headless Horsemen Imperial Pumpkin Ale...         \n",
       "94      94    Dry Irish Stout: Guinness Clone                       \n",
       "95      95    Kronenbourg 1664 Blanc klone                          \n",
       "96      96    Jumpin' Jalape<U+0006F813>aison                       \n",
       "97      97    NEIPA                                                 \n",
       "98      98    Belgian Saison - Farmhouse Style Ale                  \n",
       "99      99    Cigar City Jai Alai Clone                             \n",
       "100    100    Cold Smoke Clone                                      \n",
       "       URL                                                                            \n",
       "1      /homebrew/recipe/view/1633/vanilla-cream-ale                                   \n",
       "2      /homebrew/recipe/view/16367/southern-tier-pumking-clone                        \n",
       "3      /homebrew/recipe/view/5920/zombie-dust-clone-extract                           \n",
       "4      /homebrew/recipe/view/5916/zombie-dust-clone-all-grain                         \n",
       "5      /homebrew/recipe/view/89534/bakke-brygg-belgisk-blonde-50-l                    \n",
       "6      /homebrew/recipe/view/28546/sierra-nevada-pale-ale-clone                       \n",
       "7      /homebrew/recipe/view/37534/russian-river-pliny-the-elder-original-            \n",
       "8      /homebrew/recipe/view/672/spotted-clown-new-glarus-spotted-cow-clone-          \n",
       "9      /homebrew/recipe/view/29265/chocolate-vanilla-porter                           \n",
       "10     /homebrew/recipe/view/61082/mango-habanero-ipa                                 \n",
       "11     /homebrew/recipe/view/73890/bakke-brygg-hveteipa-25-l                          \n",
       "12     /homebrew/recipe/view/10092/hop-notch-clone                                    \n",
       "13     /homebrew/recipe/view/23246/racer-5-ipa-clone                                  \n",
       "14     /homebrew/recipe/view/106996/sam-adams-rebel-ipa-clone                         \n",
       "15     /homebrew/recipe/view/8361/white-ipa                                           \n",
       "16     /homebrew/recipe/view/3000/pilsner-urquell-byo-clone                           \n",
       "17     /homebrew/recipe/view/23436/tank-7-clone                                       \n",
       "18     /homebrew/recipe/view/3837/bells-two-hearted-clone                             \n",
       "19     /homebrew/recipe/view/1435/new-glarus-fat-squirrel-clone                       \n",
       "20     /homebrew/recipe/view/363082/avg-perfect-northeast-ipa-neipa-                  \n",
       "21     /homebrew/recipe/view/28343/goose-island-ipa-clone                             \n",
       "22     /homebrew/recipe/view/89253/ballast-point-sculpin-ale-clone                    \n",
       "23     /homebrew/recipe/view/190892/brooklyn-sorachi-ace                              \n",
       "24     /homebrew/recipe/view/28344/lagunitas-ipa-clone                                \n",
       "25     /homebrew/recipe/view/295897/neipa-hoppy-juicy-braumeister-20l                 \n",
       "26     /homebrew/recipe/view/190430/dale-s-pale-ale-clone                             \n",
       "27     /homebrew/recipe/view/392896/ipa-tired-hands-milkshake                         \n",
       "28     /homebrew/recipe/view/73376/bakke-brygg-julelager-20-l                         \n",
       "29     /homebrew/recipe/view/35541/grapefruit-ipa                                     \n",
       "30     /homebrew/recipe/view/73679/bakke-brygg-robust-porter-50-l                     \n",
       "<U+22EE> <U+22EE>                                                                       \n",
       "71     /homebrew/recipe/view/189065/classic-german-hefe-weissbier                     \n",
       "72     /homebrew/recipe/view/448502/hazy-juicy-ipa                                    \n",
       "73     /homebrew/recipe/view/6549/nutella-stout                                       \n",
       "74     /homebrew/recipe/view/227462/syntax-error-ipa-ii                               \n",
       "75     /homebrew/recipe/view/254306/1664-blanc-clone                                  \n",
       "76     /homebrew/recipe/view/119712/founders-brewing-co-dirty-bastard-clone           \n",
       "77     /homebrew/recipe/view/906/belgian-wit                                          \n",
       "78     /homebrew/recipe/view/76598/pliny-the-younger-clone                            \n",
       "79     /homebrew/recipe/view/80009/belgian-strong-pale-la-chouffe                     \n",
       "80     /homebrew/recipe/view/180328/bill-s-double-chocolate-milk-stout                \n",
       "81     /homebrew/recipe/view/110195/fat-head-s-headhunter-ipa-clone                   \n",
       "82     /homebrew/recipe/view/97252/orange-mohawk-shock-top-clone-                     \n",
       "83     /homebrew/recipe/view/23709/jamil-s-tripel                                     \n",
       "84     /homebrew/recipe/view/1647/chocolate-imperial-stout                            \n",
       "85     /homebrew/recipe/view/189480/green-flash-west-coast-ipa-clone                  \n",
       "86     /homebrew/recipe/view/73402/leffe-blonde-clone-v2                              \n",
       "87     /homebrew/recipe/view/141526/easy-imperial-ipa-double-ipa-                     \n",
       "88     /homebrew/recipe/view/21783/zatarain-s-root-beer-non-alcoholic-keg-instructions\n",
       "89     /homebrew/recipe/view/134325/bakke-brygg-tsjekkisk-pilsner-25-l                \n",
       "90     /homebrew/recipe/view/9886/                                                    \n",
       "91     /homebrew/recipe/view/45045/shiner-bock                                        \n",
       "92     /homebrew/recipe/view/76834/bakke-brygg-pale-ale-5-l                           \n",
       "93     /homebrew/recipe/view/19297/the-headless-horsemen-imperial-pumpkin-ale         \n",
       "94     /homebrew/recipe/view/142280/dry-irish-stout-guinness-clone                    \n",
       "95     /homebrew/recipe/view/244064/kronenbourg-1664-blanc-klone                      \n",
       "96     /homebrew/recipe/view/15676/                                                   \n",
       "97     /homebrew/recipe/view/361507/neipa                                             \n",
       "98     /homebrew/recipe/view/25071/belgian-saison-farmhouse-style-ale                 \n",
       "99     /homebrew/recipe/view/94372/cigar-city-jai-alai-clone                          \n",
       "100    /homebrew/recipe/view/3616/cold-smoke-clone                                    \n",
       "       Style                              StyleID Size(L) OG     FG     ABV   \n",
       "1      Cream Ale                           45     21.77   1.055  1.013  5.48  \n",
       "2      Holiday/Winter Special Spiced Beer  85     20.82   1.083  1.021  8.16  \n",
       "3      American IPA                         7     18.93   1.063  1.018  5.91  \n",
       "4      American IPA                         7     22.71   1.061  1.017  5.80  \n",
       "5      Belgian Blond Ale                   20     50.00   1.060  1.010  6.48  \n",
       "6      American Pale Ale                   10     24.61   1.055  1.013  5.58  \n",
       "7      Imperial IPA                        86     22.71   1.072  1.018  7.09  \n",
       "8      Cream Ale                           45     20.82   1.054  1.014  5.36  \n",
       "9      Robust Porter                      129     22.71   1.060  1.016  5.77  \n",
       "10     Imperial IPA                        86     20.82   1.080  1.017  8.22  \n",
       "11     American IPA                         7     25.00   1.064  1.014  6.63  \n",
       "12     American IPA                         7     15.14   1.066  1.015  6.62  \n",
       "13     American IPA                         7     20.82   1.073  1.019  7.07  \n",
       "14     American IPA                         7     18.93   1.066  1.017  6.51  \n",
       "15     American IPA                         7     37.85   1.064  1.017  6.20  \n",
       "16     Bohemian Pilsener                   31     41.64   1.051  1.013  4.92  \n",
       "17     Saison                             134     20.82   1.073  1.015  7.63  \n",
       "18     American IPA                         7     20.82   1.073  1.018  7.14  \n",
       "19     Northern English Brown             113     20.82   1.046  1.010  4.61  \n",
       "20     American IPA                         7     21.77   1.062  1.013  6.50  \n",
       "21     English IPA                         65     20.82   1.065  1.015  6.63  \n",
       "22     Imperial IPA                        86     45.42   1.084  1.020  8.43  \n",
       "23     Saison                             134     18.93   1.082  1.013  9.10  \n",
       "24     English IPA                         65     20.82   1.061  1.014  6.17  \n",
       "25     American IPA                         7     21.00   1.062  1.014  6.29  \n",
       "26     American Pale Ale                   10     18.93   1.067  1.017  6.60  \n",
       "27     American IPA                         7     24.61   1.058  1.017  5.34  \n",
       "28     Traditional Bock                   163     20.00   1.065  1.018  6.22  \n",
       "29     American IPA                         7     26.50   1.052  1.012  5.31  \n",
       "30     Robust Porter                      129     50.00   1.058  1.014  5.76  \n",
       "<U+22EE> <U+22EE>                           <U+22EE> <U+22EE> <U+22EE> <U+22EE> <U+22EE>\n",
       "71     Weizen/Weissbier                   170     18.93   1.056  1.014   5.50 \n",
       "72     American IPA                         7     22.71   1.062  1.012   6.51 \n",
       "73     Sweet Stout                        162     19.87   1.054  1.015   5.11 \n",
       "74     American IPA                         7     42.00   1.068  1.013   7.20 \n",
       "75     Witbier                            175     25.00   1.057  1.012   5.87 \n",
       "76     Strong Scotch Ale                  160     20.82   1.087  1.022   8.56 \n",
       "77     Witbier                            175     20.82   1.050  1.013   4.85 \n",
       "78     Imperial IPA                        86     22.71   1.102  1.023  10.34 \n",
       "79     Belgian Golden Strong Ale           23     18.93   1.070  1.008   8.14 \n",
       "80     Sweet Stout                        162     20.82   1.066  1.021   5.87 \n",
       "81     American IPA                         7     41.64   1.072  1.014   7.52 \n",
       "82     Witbier                            175     41.64   1.052  1.013   5.22 \n",
       "83     Belgian Tripel                      26     19.87   1.092  1.017   9.85 \n",
       "84     American Stout                      12     20.82   1.096  1.026   9.16 \n",
       "85     American IPA                         7     22.71   1.072  1.016   7.27 \n",
       "86     Belgian Pale Ale                    24     18.93   1.070  1.020   6.47 \n",
       "87     Imperial IPA                        86     20.82   1.079  1.014   8.51 \n",
       "88     NA                                 111     18.93   1.046  1.013   4.27 \n",
       "89     Bohemian Pilsener                   31     25.00   1.050  1.013   4.88 \n",
       "90     K<U+001ACCE3>h                      94     20.82   1.049  1.012   4.84 \n",
       "91     Dark American Lager                 52     20.82   1.043  1.011   4.14 \n",
       "92     American Pale Ale                   10      5.00   1.054  1.011   5.61 \n",
       "93     Holiday/Winter Special Spiced Beer  85     18.93   1.083  1.020   8.36 \n",
       "94     Dry Stout                           58     45.42   1.044  1.010   4.39 \n",
       "95     Witbier                            175     23.00   1.052  1.011   5.36 \n",
       "96     Saison                             134      3.79   1.056  1.012   5.73 \n",
       "97     American IPA                         7     24.61   1.058  1.015   5.73 \n",
       "98     Saison                             134     18.93   1.055  1.014   5.43 \n",
       "99     Imperial IPA                        86     20.82   1.075  1.019   7.89 \n",
       "100    Strong Scotch Ale                  160     18.93   1.066  1.019   6.18 \n",
       "       IBU    <U+22EF>   BoilTime BoilGravity Efficiency MashThickness\n",
       "1       17.65 <U+22EF> 75       1.038       70           NA         \n",
       "2       60.65 <U+22EF> 60       1.070       70           NA         \n",
       "3       59.25 <U+22EF> 60          NA       70           NA         \n",
       "4       54.48 <U+22EF> 60          NA       70           NA         \n",
       "5       17.84 <U+22EF> 90       1.050       72           NA         \n",
       "6       40.12 <U+22EF> 70       1.047       79           NA         \n",
       "7      268.71 <U+22EF> 90          NA       75           NA         \n",
       "8       19.97 <U+22EF> 75       1.040       70         1.40         \n",
       "9       31.63 <U+22EF> 75       1.042       73           NA         \n",
       "10      93.02 <U+22EF> 60       1.058       70           NA         \n",
       "11      64.26 <U+22EF> 90       1.055       74           NA         \n",
       "12     111.00 <U+22EF> 90          NA       70           NA         \n",
       "13      69.72 <U+22EF> 60          NA       70           NA         \n",
       "14      60.96 <U+22EF> 60       1.110       30           NA         \n",
       "15      64.67 <U+22EF> 60       1.071       70         1.20         \n",
       "16      36.80 <U+22EF> 60          NA       75           NA         \n",
       "17      44.94 <U+22EF> 60       1.054       70           NA         \n",
       "18      61.83 <U+22EF> 60       1.061       75           NA         \n",
       "19      13.64 <U+22EF> 90       1.033       70           NA         \n",
       "20      53.30 <U+22EF> 60       1.048       70         1.25         \n",
       "21      55.52 <U+22EF> 60       1.048       75         1.50         \n",
       "22      79.28 <U+22EF> 60       1.075       90         1.25         \n",
       "23       0.00 <U+22EF> 60          NA       72           NA         \n",
       "24      56.65 <U+22EF> 60       1.045       75           NA         \n",
       "25      53.57 <U+22EF> 70       1.052       73           NA         \n",
       "26       0.00 <U+22EF> 60          NA       75           NA         \n",
       "27      57.84 <U+22EF> 60       1.050       83           NA         \n",
       "28      27.12 <U+22EF> 90       1.052       70           NA         \n",
       "29      60.58 <U+22EF> 60       1.043       70         1.30         \n",
       "30      39.00 <U+22EF> 60       1.050       71           NA         \n",
       "<U+22EE> <U+22EE> <U+22F1> <U+22EE> <U+22EE>    <U+22EE>   <U+22EE>     \n",
       "71       0.00 <U+22EF> 60          NA        75          NA         \n",
       "72     121.43 <U+22EF> 60       1.053        70        1.50         \n",
       "73      31.84 <U+22EF> 60          NA        70          NA         \n",
       "74     105.67 <U+22EF> 60       1.055        68        2.00         \n",
       "75      23.21 <U+22EF> 90       1.041        83        4.69         \n",
       "76      85.74 <U+22EF> 60       1.137        75          NA         \n",
       "77      20.08 <U+22EF> 90       1.037        75          NA         \n",
       "78     136.21 <U+22EF> 90       1.076        80        2.00         \n",
       "79      31.39 <U+22EF> 90       1.051        70        1.33         \n",
       "80      37.61 <U+22EF> 60       1.056        65        1.25         \n",
       "81      87.48 <U+22EF> 90       1.061        65        1.30         \n",
       "82      16.79 <U+22EF> 90       1.044        73        1.50         \n",
       "83      36.65 <U+22EF> 90       1.072        70          NA         \n",
       "84      33.18 <U+22EF> 60          NA        70          NA         \n",
       "85       0.00 <U+22EF> 60          NA        65          NA         \n",
       "86      23.28 <U+22EF> 60       1.174        50          NA         \n",
       "87     120.63 <U+22EF> 60       1.059        75        1.50         \n",
       "88       0.00 <U+22EF>  0       1.077       100          NA         \n",
       "89      40.51 <U+22EF> 90       1.042        72          NA         \n",
       "90      25.23 <U+22EF> 90          NA        68          NA         \n",
       "91      13.22 <U+22EF> 90          NA        85          NA         \n",
       "92      40.55 <U+22EF> 60       1.038        72          NA         \n",
       "93     101.71 <U+22EF> 60          NA        70          NA         \n",
       "94      38.47 <U+22EF> 60       1.038        80        1.50         \n",
       "95      18.92 <U+22EF> 90       1.041        75        5.00         \n",
       "96      26.51 <U+22EF> 60          NA        70          NA         \n",
       "97      42.52 <U+22EF> 60       1.050        65        1.50         \n",
       "98      16.73 <U+22EF> 60       1.069        70          NA         \n",
       "99      97.11 <U+22EF> 75       1.055        70        1.33         \n",
       "100     19.00 <U+22EF> 60          NA        70          NA         \n",
       "       SugarScale       BrewMethod   PitchRate PrimaryTemp PrimingMethod    \n",
       "1      Specific Gravity All Grain      NA      17.78       corn sugar       \n",
       "2      Specific Gravity All Grain      NA         NA       NA               \n",
       "3      Specific Gravity extract        NA         NA       NA               \n",
       "4      Specific Gravity All Grain      NA         NA       NA               \n",
       "5      Specific Gravity All Grain      NA      19.00       Sukkerlake       \n",
       "6      Specific Gravity All Grain    1.00         NA       NA               \n",
       "7      Specific Gravity All Grain      NA         NA       NA               \n",
       "8      Specific Gravity All Grain      NA         NA       corn sugar       \n",
       "9      Specific Gravity All Grain      NA         NA       corn sugar       \n",
       "10     Specific Gravity All Grain      NA      21.11       Corn Sugar       \n",
       "11     Specific Gravity All Grain    1.00      18.00       Sukkerlake       \n",
       "12     Specific Gravity BIAB           NA         NA       NA               \n",
       "13     Specific Gravity All Grain      NA         NA       NA               \n",
       "14     Specific Gravity extract      0.35      18.33       NA               \n",
       "15     Specific Gravity All Grain      NA         NA       NA               \n",
       "16     Specific Gravity All Grain      NA         NA       NA               \n",
       "17     Specific Gravity BIAB           NA         NA       Corn Sugar       \n",
       "18     Specific Gravity All Grain    0.75      18.33       NA               \n",
       "19     Specific Gravity All Grain      NA      16.67       Priming Sugar    \n",
       "20     Specific Gravity All Grain      NA         NA       Keg - Force Carb.\n",
       "21     Specific Gravity All Grain      NA      17.78       NA               \n",
       "22     Specific Gravity All Grain    1.00      20.56       NA               \n",
       "23     Specific Gravity All Grain      NA         NA       NA               \n",
       "24     Specific Gravity All Grain      NA         NA       NA               \n",
       "25     Specific Gravity BIAB         0.75      20.00       NA               \n",
       "26     Specific Gravity All Grain      NA         NA       NA               \n",
       "27     Specific Gravity BIAB         0.50      18.33       NA               \n",
       "28     Specific Gravity All Grain      NA      10.00       Sukkerlake       \n",
       "29     Specific Gravity All Grain    0.75      20.56       NA               \n",
       "30     Specific Gravity All Grain      NA      18.00       Sukkerlake       \n",
       "<U+22EE> <U+22EE>         <U+22EE>     <U+22EE>  <U+22EE>    <U+22EE>         \n",
       "71     Specific Gravity All Grain      NA         NA       NA               \n",
       "72     Specific Gravity All Grain      NA      17.22       NA               \n",
       "73     Specific Gravity extract        NA         NA       NA               \n",
       "74     Specific Gravity All Grain      NA      19.00       NA               \n",
       "75     Specific Gravity All Grain    0.75         NA       NA               \n",
       "76     Specific Gravity All Grain    0.50      20.00       Corn Sugar       \n",
       "77     Specific Gravity All Grain    0.75         NA       NA               \n",
       "78     Specific Gravity All Grain    0.75      16.67       NA               \n",
       "79     Specific Gravity All Grain      NA      20.00       force carb       \n",
       "80     Specific Gravity All Grain    0.50         NA       NA               \n",
       "81     Specific Gravity All Grain    0.75      20.00       Force Carb       \n",
       "82     Specific Gravity All Grain    0.50      20.00       NA               \n",
       "83     Specific Gravity BIAB           NA         NA       NA               \n",
       "84     Specific Gravity extract        NA         NA       NA               \n",
       "85     Specific Gravity All Grain      NA         NA       NA               \n",
       "86     Specific Gravity extract      0.35      21.11       NA               \n",
       "87     Specific Gravity All Grain    1.25      18.89       NA               \n",
       "88     Specific Gravity BIAB           NA         NA       NA               \n",
       "89     Specific Gravity All Grain      NA      10.00       Sukkerlake       \n",
       "90     Specific Gravity All Grain      NA         NA       Dextrose         \n",
       "91     Specific Gravity All Grain    1.75      12.22       NA               \n",
       "92     Specific Gravity All Grain      NA      18.00       Sukkerlake       \n",
       "93     Specific Gravity extract        NA         NA       NA               \n",
       "94     Specific Gravity All Grain    1.00      18.89       NA               \n",
       "95     Specific Gravity All Grain    1.00      18.00       Sukker           \n",
       "96     Specific Gravity All Grain      NA         NA       NA               \n",
       "97     Specific Gravity All Grain      NA         NA       NA               \n",
       "98     Specific Gravity Partial Mash   NA         NA       Sugar            \n",
       "99     Specific Gravity All Grain    0.35      18.33       NA               \n",
       "100    Specific Gravity extract        NA         NA       NA               \n",
       "       PrimingAmount\n",
       "1      4.5          \n",
       "2       NA          \n",
       "3       NA          \n",
       "4       NA          \n",
       "5       NA          \n",
       "6       NA          \n",
       "7       NA          \n",
       "8      4.2          \n",
       "9      4.0          \n",
       "10      NA          \n",
       "11      NA          \n",
       "12      NA          \n",
       "13      NA          \n",
       "14      NA          \n",
       "15      NA          \n",
       "16      NA          \n",
       "17      NA          \n",
       "18      NA          \n",
       "19      NA          \n",
       "20      NA          \n",
       "21      NA          \n",
       "22      NA          \n",
       "23      NA          \n",
       "24      NA          \n",
       "25      NA          \n",
       "26      NA          \n",
       "27      NA          \n",
       "28      NA          \n",
       "29      NA          \n",
       "30      NA          \n",
       "<U+22EE> <U+22EE>     \n",
       "71     NA           \n",
       "72     NA           \n",
       "73     NA           \n",
       "74     NA           \n",
       "75     NA           \n",
       "76     NA           \n",
       "77     NA           \n",
       "78     NA           \n",
       "79     NA           \n",
       "80     NA           \n",
       "81     NA           \n",
       "82     NA           \n",
       "83     NA           \n",
       "84     NA           \n",
       "85     NA           \n",
       "86     NA           \n",
       "87     NA           \n",
       "88     NA           \n",
       "89     NA           \n",
       "90     NA           \n",
       "91     NA           \n",
       "92     NA           \n",
       "93     NA           \n",
       "94     NA           \n",
       "95      8           \n",
       "96     NA           \n",
       "97     NA           \n",
       "98     NA           \n",
       "99     NA           \n",
       "100    NA           "
      ]
     },
     "metadata": {},
     "output_type": "display_data"
    }
   ],
   "source": [
    "# This is to fix a bug in our system\n",
    "Sys.setlocale('LC_ALL','C')\n",
    "beer_recipes2"
   ]
  },
  {
   "cell_type": "markdown",
   "metadata": {},
   "source": [
    "# Database access\n",
    "\n",
    "There exists a package `DBI` that defines a common interface that can be used to access various different databases [[DBI]](https://dbi.r-dbi.org/).\n",
    "\n",
    "When using `DBI`, one can also use `dbplyr` to run `tidyverse` verbs (`select`, `map`, etc.) to database queries without loading the whole database into memory."
   ]
  },
  {
   "cell_type": "code",
   "execution_count": 12,
   "metadata": {},
   "outputs": [
    {
     "name": "stderr",
     "output_type": "stream",
     "text": [
      "\n",
      "Attaching package: 'dbplyr'\n",
      "\n",
      "\n",
      "The following objects are masked from 'package:dplyr':\n",
      "\n",
      "    ident, sql\n",
      "\n",
      "\n"
     ]
    }
   ],
   "source": [
    "if (!file.exists('rlibs')) {\n",
    "    dir.create('rlibs')\n",
    "}\n",
    "if (!file.exists('rlibs/DBI')) {\n",
    "    install.packages('DBI', repos=\"http://cran.r-project.org\", lib='rlibs')\n",
    "}\n",
    "if (!file.exists('rlibs/dbplyr')) {\n",
    "    install.packages('dbplyr', repos=\"http://cran.r-project.org\", lib='rlibs')\n",
    "}\n",
    "library(DBI, lib.loc='rlibs')\n",
    "library(dbplyr, lib.loc='rlibs')"
   ]
  },
  {
   "cell_type": "markdown",
   "metadata": {},
   "source": [
    "Let's use `tbl_memdb` from `dbplyr` to add `beer_recipes` to a temporary in-memory database [[tbl_memdb]](https://dbplyr.tidyverse.org/reference/memdb_frame.html)."
   ]
  },
  {
   "cell_type": "code",
   "execution_count": 13,
   "metadata": {},
   "outputs": [],
   "source": [
    "beers_db <- tbl_memdb(beer_recipes)"
   ]
  },
  {
   "cell_type": "markdown",
   "metadata": {},
   "source": [
    "The returned object is a SQL table that acts like a tibble."
   ]
  },
  {
   "cell_type": "code",
   "execution_count": 14,
   "metadata": {},
   "outputs": [
    {
     "name": "stdout",
     "output_type": "stream",
     "text": [
      "\u001b[90m# Source:   table<beer_recipes> [?? x 22]\u001b[39m\n",
      "\u001b[90m# Database: sqlite 3.22.0 [:memory:]\u001b[39m\n",
      "   BeerID Name  URL   Style StyleID `Size(L)`    OG    FG   ABV   IBU Color\n",
      "    \u001b[3m\u001b[90m<dbl>\u001b[39m\u001b[23m \u001b[3m\u001b[90m<chr>\u001b[39m\u001b[23m \u001b[3m\u001b[90m<chr>\u001b[39m\u001b[23m \u001b[3m\u001b[90m<chr>\u001b[39m\u001b[23m   \u001b[3m\u001b[90m<dbl>\u001b[39m\u001b[23m     \u001b[3m\u001b[90m<dbl>\u001b[39m\u001b[23m \u001b[3m\u001b[90m<dbl>\u001b[39m\u001b[23m \u001b[3m\u001b[90m<dbl>\u001b[39m\u001b[23m \u001b[3m\u001b[90m<dbl>\u001b[39m\u001b[23m \u001b[3m\u001b[90m<dbl>\u001b[39m\u001b[23m \u001b[3m\u001b[90m<dbl>\u001b[39m\u001b[23m\n",
      "\u001b[90m 1\u001b[39m      1 Vani~ /hom~ Crea~      45      21.8  1.06  1.01  5.48  17.6  4.83\n",
      "\u001b[90m 2\u001b[39m      2 Sout~ /hom~ Holi~      85      20.8  1.08  1.02  8.16  60.6 15.6 \n",
      "\u001b[90m 3\u001b[39m      3 Zomb~ /hom~ Amer~       7      18.9  1.06  1.02  5.91  59.2  8.98\n",
      "\u001b[90m 4\u001b[39m      4 Zomb~ /hom~ Amer~       7      22.7  1.06  1.02  5.8   54.5  8.5 \n",
      "\u001b[90m 5\u001b[39m      5 Bakk~ /hom~ Belg~      20      50    1.06  1.01  6.48  17.8  4.57\n",
      "\u001b[90m 6\u001b[39m      6 Sier~ /hom~ Amer~      10      24.6  1.06  1.01  5.58  40.1  8   \n",
      "\u001b[90m 7\u001b[39m      7 Russ~ /hom~ Impe~      86      22.7  1.07  1.02  7.09 269.   6.33\n",
      "\u001b[90m 8\u001b[39m      8 Spot~ /hom~ Crea~      45      20.8  1.05  1.01  5.36  20.0  5.94\n",
      "\u001b[90m 9\u001b[39m      9 Choc~ /hom~ Robu~     129      22.7  1.06  1.02  5.77  31.6 34.8 \n",
      "\u001b[90m10\u001b[39m     10 Mang~ /hom~ Impe~      86      20.8  1.08  1.02  8.22  93.0  8.29\n",
      "\u001b[90m# ... with more rows, and 11 more variables: BoilSize \u001b[3m\u001b[90m<dbl>\u001b[90m\u001b[23m, BoilTime \u001b[3m\u001b[90m<dbl>\u001b[90m\u001b[23m,\n",
      "#   BoilGravity \u001b[3m\u001b[90m<dbl>\u001b[90m\u001b[23m, Efficiency \u001b[3m\u001b[90m<dbl>\u001b[90m\u001b[23m, MashThickness \u001b[3m\u001b[90m<dbl>\u001b[90m\u001b[23m, SugarScale \u001b[3m\u001b[90m<chr>\u001b[90m\u001b[23m,\n",
      "#   BrewMethod \u001b[3m\u001b[90m<chr>\u001b[90m\u001b[23m, PitchRate \u001b[3m\u001b[90m<dbl>\u001b[90m\u001b[23m, PrimaryTemp \u001b[3m\u001b[90m<dbl>\u001b[90m\u001b[23m, PrimingMethod \u001b[3m\u001b[90m<chr>\u001b[90m\u001b[23m,\n",
      "#   PrimingAmount \u001b[3m\u001b[90m<dbl>\u001b[90m\u001b[23m\u001b[39m\n"
     ]
    },
    {
     "data": {
      "text/plain": [
       "\u001b[90m# Source:   lazy query [?? x 4]\u001b[39m\n",
       "\u001b[90m# Database: sqlite 3.22.0 [:memory:]\u001b[39m\n",
       "   Name                                           ABV    OG    FG\n",
       "   \u001b[3m\u001b[90m<chr>\u001b[39m\u001b[23m                                        \u001b[3m\u001b[90m<dbl>\u001b[39m\u001b[23m \u001b[3m\u001b[90m<dbl>\u001b[39m\u001b[23m \u001b[3m\u001b[90m<dbl>\u001b[39m\u001b[23m\n",
       "\u001b[90m 1\u001b[39m Vanilla Cream Ale                             5.48  1.06  1.01\n",
       "\u001b[90m 2\u001b[39m Southern Tier Pumking clone                   8.16  1.08  1.02\n",
       "\u001b[90m 3\u001b[39m Zombie Dust Clone - EXTRACT                   5.91  1.06  1.02\n",
       "\u001b[90m 4\u001b[39m Zombie Dust Clone - ALL GRAIN                 5.8   1.06  1.02\n",
       "\u001b[90m 5\u001b[39m Bakke Brygg Belgisk Blonde 50 l               6.48  1.06  1.01\n",
       "\u001b[90m 6\u001b[39m Sierra Nevada Pale Ale Clone                  5.58  1.06  1.01\n",
       "\u001b[90m 7\u001b[39m Russian River Pliny the Elder (original)      7.09  1.07  1.02\n",
       "\u001b[90m 8\u001b[39m Spotted Clown (New Glarus Spotted Cow clone)  5.36  1.05  1.01\n",
       "\u001b[90m 9\u001b[39m Chocolate Vanilla Porter                      5.77  1.06  1.02\n",
       "\u001b[90m10\u001b[39m Mango Habanero IPA                            8.22  1.08  1.02\n",
       "\u001b[90m# ... with more rows\u001b[39m"
      ]
     },
     "metadata": {},
     "output_type": "display_data"
    }
   ],
   "source": [
    "print(beers_db)\n",
    "beers_db %>%\n",
    "    select(Name, ABV, OG, FG)"
   ]
  },
  {
   "cell_type": "markdown",
   "metadata": {},
   "source": [
    "The difference between using normal tibbles and this database connection is that database queries are all connected and only evaluated when data is requsted. One can see the query that would be made with `show_query` [[show_query]](https://dplyr.tidyverse.org/reference/explain.html)."
   ]
  },
  {
   "cell_type": "code",
   "execution_count": 15,
   "metadata": {},
   "outputs": [
    {
     "name": "stdout",
     "output_type": "stream",
     "text": [
      "<SQL>\n"
     ]
    },
    {
     "name": "stderr",
     "output_type": "stream",
     "text": [
      "Warning message:\n",
      "\"Missing values are always removed in SQL.\n",
      "Use `mean(x, na.rm = TRUE)` to silence this warning\n",
      "This warning is displayed only once per session.\"\n"
     ]
    },
    {
     "name": "stdout",
     "output_type": "stream",
     "text": [
      "SELECT AVG(`OG`) AS `mean`\n",
      "FROM `beer_recipes`\n",
      "WHERE (`ABV` > 5.0)\n"
     ]
    }
   ],
   "source": [
    "beers_db %>%\n",
    "    filter(ABV > 5) %>%\n",
    "    summarise(mean = mean(OG)) %>%\n",
    "    show_query()\n"
   ]
  },
  {
   "cell_type": "markdown",
   "metadata": {},
   "source": [
    "One can collect the data to the current R session with `collect` [[collect]](https://dbplyr.tidyverse.org/reference/collapse.tbl_sql.html)."
   ]
  },
  {
   "cell_type": "code",
   "execution_count": 16,
   "metadata": {},
   "outputs": [
    {
     "name": "stdout",
     "output_type": "stream",
     "text": [
      "Classes 'tbl_df', 'tbl' and 'data.frame':\t85 obs. of  4 variables:\n",
      " $ Name: chr  \"Vanilla Cream Ale\" \"Southern Tier Pumking clone\" \"Zombie Dust Clone - EXTRACT\" \"Zombie Dust Clone - ALL GRAIN\" ...\n",
      " $ ABV : num  5.48 8.16 5.91 5.8 6.48 5.58 7.09 5.36 5.77 8.22 ...\n",
      " $ OG  : num  1.05 1.08 1.06 1.06 1.06 ...\n",
      " $ FG  : num  1.01 1.02 1.02 1.02 1.01 ...\n"
     ]
    }
   ],
   "source": [
    "beers_over_5abv <- beers_db %>%\n",
    "    filter(ABV > 5) %>%\n",
    "    select(Name, ABV, OG, FG) %>%\n",
    "    collect()\n",
    "str(beers_over_5abv)"
   ]
  },
  {
   "cell_type": "markdown",
   "metadata": {},
   "source": [
    "To remove tables from the temporary memory database, one needs to get the connection to it with `src_memdb` and `db_drop_table` from `dplyr`'s SQL backend [[src_memdb]](https://dbplyr.tidyverse.org/rmeference/memdb_frame.html) [[db_drop_table]](https://dplyr.tidyverse.org/reference/backend_dbplyr.html)."
   ]
  },
  {
   "cell_type": "code",
   "execution_count": 17,
   "metadata": {},
   "outputs": [
    {
     "data": {
      "text/plain": [
       "src:  sqlite 3.22.0 [:memory:]\n",
       "tbls: beer_recipes, sqlite_stat1, sqlite_stat4"
      ]
     },
     "metadata": {},
     "output_type": "display_data"
    },
    {
     "data": {
      "text/html": [
       "0"
      ],
      "text/latex": [
       "0"
      ],
      "text/markdown": [
       "0"
      ],
      "text/plain": [
       "[1] 0"
      ]
     },
     "metadata": {},
     "output_type": "display_data"
    },
    {
     "data": {
      "text/plain": [
       "src:  sqlite 3.22.0 [:memory:]\n",
       "tbls: sqlite_stat1, sqlite_stat4"
      ]
     },
     "metadata": {},
     "output_type": "display_data"
    }
   ],
   "source": [
    "memdb <- src_memdb()\n",
    "memdb\n",
    "db_drop_table('beer_recipes', con=memdb$con)\n",
    "memdb"
   ]
  },
  {
   "cell_type": "markdown",
   "metadata": {},
   "source": [
    "One can also write to a database file by opening a database connection with DBI."
   ]
  },
  {
   "cell_type": "code",
   "execution_count": 18,
   "metadata": {},
   "outputs": [],
   "source": [
    "con <- DBI::dbConnect(RSQLite::SQLite(), dbname = \"beer_recipes.sqlite\")"
   ]
  },
  {
   "cell_type": "markdown",
   "metadata": {},
   "source": [
    "Let's use `copy_to`-function to copy the `beer_recipes`-dataframe into a table in this newly established SQLite [[copy_to]](https://dplyr.tidyverse.org/reference/copy_to.html)."
   ]
  },
  {
   "cell_type": "code",
   "execution_count": 19,
   "metadata": {},
   "outputs": [],
   "source": [
    "copy_to(con, beer_recipes, overwrite=TRUE, temporary=FALSE)"
   ]
  },
  {
   "cell_type": "markdown",
   "metadata": {},
   "source": [
    "To get a reference to this new tab, we can use the `tbl`-function [[tbl]](https://dplyr.tidyverse.org/reference/tbl.html)."
   ]
  },
  {
   "cell_type": "code",
   "execution_count": 20,
   "metadata": {},
   "outputs": [
    {
     "data": {
      "text/plain": [
       "\u001b[90m# Source:   table<beer_recipes> [?? x 22]\u001b[39m\n",
       "\u001b[90m# Database: sqlite 3.22.0\n",
       "#   [/notebooks/python-r-data-analysis-course-dev/r/beer_recipes.sqlite]\u001b[39m\n",
       "   BeerID Name  URL   Style StyleID `Size(L)`    OG    FG   ABV   IBU Color\n",
       "    \u001b[3m\u001b[90m<dbl>\u001b[39m\u001b[23m \u001b[3m\u001b[90m<chr>\u001b[39m\u001b[23m \u001b[3m\u001b[90m<chr>\u001b[39m\u001b[23m \u001b[3m\u001b[90m<chr>\u001b[39m\u001b[23m   \u001b[3m\u001b[90m<dbl>\u001b[39m\u001b[23m     \u001b[3m\u001b[90m<dbl>\u001b[39m\u001b[23m \u001b[3m\u001b[90m<dbl>\u001b[39m\u001b[23m \u001b[3m\u001b[90m<dbl>\u001b[39m\u001b[23m \u001b[3m\u001b[90m<dbl>\u001b[39m\u001b[23m \u001b[3m\u001b[90m<dbl>\u001b[39m\u001b[23m \u001b[3m\u001b[90m<dbl>\u001b[39m\u001b[23m\n",
       "\u001b[90m 1\u001b[39m      1 Vani~ /hom~ Crea~      45      21.8  1.06  1.01  5.48  17.6  4.83\n",
       "\u001b[90m 2\u001b[39m      2 Sout~ /hom~ Holi~      85      20.8  1.08  1.02  8.16  60.6 15.6 \n",
       "\u001b[90m 3\u001b[39m      3 Zomb~ /hom~ Amer~       7      18.9  1.06  1.02  5.91  59.2  8.98\n",
       "\u001b[90m 4\u001b[39m      4 Zomb~ /hom~ Amer~       7      22.7  1.06  1.02  5.8   54.5  8.5 \n",
       "\u001b[90m 5\u001b[39m      5 Bakk~ /hom~ Belg~      20      50    1.06  1.01  6.48  17.8  4.57\n",
       "\u001b[90m 6\u001b[39m      6 Sier~ /hom~ Amer~      10      24.6  1.06  1.01  5.58  40.1  8   \n",
       "\u001b[90m 7\u001b[39m      7 Russ~ /hom~ Impe~      86      22.7  1.07  1.02  7.09 269.   6.33\n",
       "\u001b[90m 8\u001b[39m      8 Spot~ /hom~ Crea~      45      20.8  1.05  1.01  5.36  20.0  5.94\n",
       "\u001b[90m 9\u001b[39m      9 Choc~ /hom~ Robu~     129      22.7  1.06  1.02  5.77  31.6 34.8 \n",
       "\u001b[90m10\u001b[39m     10 Mang~ /hom~ Impe~      86      20.8  1.08  1.02  8.22  93.0  8.29\n",
       "\u001b[90m# ... with more rows, and 11 more variables: BoilSize \u001b[3m\u001b[90m<dbl>\u001b[90m\u001b[23m, BoilTime \u001b[3m\u001b[90m<dbl>\u001b[90m\u001b[23m,\n",
       "#   BoilGravity \u001b[3m\u001b[90m<dbl>\u001b[90m\u001b[23m, Efficiency \u001b[3m\u001b[90m<dbl>\u001b[90m\u001b[23m, MashThickness \u001b[3m\u001b[90m<dbl>\u001b[90m\u001b[23m, SugarScale \u001b[3m\u001b[90m<chr>\u001b[90m\u001b[23m,\n",
       "#   BrewMethod \u001b[3m\u001b[90m<chr>\u001b[90m\u001b[23m, PitchRate \u001b[3m\u001b[90m<dbl>\u001b[90m\u001b[23m, PrimaryTemp \u001b[3m\u001b[90m<dbl>\u001b[90m\u001b[23m, PrimingMethod \u001b[3m\u001b[90m<chr>\u001b[90m\u001b[23m,\n",
       "#   PrimingAmount \u001b[3m\u001b[90m<dbl>\u001b[90m\u001b[23m\u001b[39m"
      ]
     },
     "metadata": {},
     "output_type": "display_data"
    }
   ],
   "source": [
    "beers_sqlite <- tbl(con,'beer_recipes')\n",
    "beers_sqlite"
   ]
  },
  {
   "cell_type": "markdown",
   "metadata": {},
   "source": [
    "Let's close and re-open the connection to verify that the table is indeed in the database file."
   ]
  },
  {
   "cell_type": "code",
   "execution_count": 21,
   "metadata": {},
   "outputs": [
    {
     "data": {
      "text/plain": [
       "<SQLiteConnection>\n",
       "  DISCONNECTED"
      ]
     },
     "metadata": {},
     "output_type": "display_data"
    },
    {
     "data": {
      "text/plain": [
       "<SQLiteConnection>\n",
       "  Path: /notebooks/python-r-data-analysis-course-dev/r/beer_recipes.sqlite\n",
       "  Extensions: TRUE"
      ]
     },
     "metadata": {},
     "output_type": "display_data"
    },
    {
     "data": {
      "text/plain": [
       "\u001b[90m# Source:   table<beer_recipes> [?? x 22]\u001b[39m\n",
       "\u001b[90m# Database: sqlite 3.22.0\n",
       "#   [/notebooks/python-r-data-analysis-course-dev/r/beer_recipes.sqlite]\u001b[39m\n",
       "   BeerID Name  URL   Style StyleID `Size(L)`    OG    FG   ABV   IBU Color\n",
       "    \u001b[3m\u001b[90m<dbl>\u001b[39m\u001b[23m \u001b[3m\u001b[90m<chr>\u001b[39m\u001b[23m \u001b[3m\u001b[90m<chr>\u001b[39m\u001b[23m \u001b[3m\u001b[90m<chr>\u001b[39m\u001b[23m   \u001b[3m\u001b[90m<dbl>\u001b[39m\u001b[23m     \u001b[3m\u001b[90m<dbl>\u001b[39m\u001b[23m \u001b[3m\u001b[90m<dbl>\u001b[39m\u001b[23m \u001b[3m\u001b[90m<dbl>\u001b[39m\u001b[23m \u001b[3m\u001b[90m<dbl>\u001b[39m\u001b[23m \u001b[3m\u001b[90m<dbl>\u001b[39m\u001b[23m \u001b[3m\u001b[90m<dbl>\u001b[39m\u001b[23m\n",
       "\u001b[90m 1\u001b[39m      1 Vani~ /hom~ Crea~      45      21.8  1.06  1.01  5.48  17.6  4.83\n",
       "\u001b[90m 2\u001b[39m      2 Sout~ /hom~ Holi~      85      20.8  1.08  1.02  8.16  60.6 15.6 \n",
       "\u001b[90m 3\u001b[39m      3 Zomb~ /hom~ Amer~       7      18.9  1.06  1.02  5.91  59.2  8.98\n",
       "\u001b[90m 4\u001b[39m      4 Zomb~ /hom~ Amer~       7      22.7  1.06  1.02  5.8   54.5  8.5 \n",
       "\u001b[90m 5\u001b[39m      5 Bakk~ /hom~ Belg~      20      50    1.06  1.01  6.48  17.8  4.57\n",
       "\u001b[90m 6\u001b[39m      6 Sier~ /hom~ Amer~      10      24.6  1.06  1.01  5.58  40.1  8   \n",
       "\u001b[90m 7\u001b[39m      7 Russ~ /hom~ Impe~      86      22.7  1.07  1.02  7.09 269.   6.33\n",
       "\u001b[90m 8\u001b[39m      8 Spot~ /hom~ Crea~      45      20.8  1.05  1.01  5.36  20.0  5.94\n",
       "\u001b[90m 9\u001b[39m      9 Choc~ /hom~ Robu~     129      22.7  1.06  1.02  5.77  31.6 34.8 \n",
       "\u001b[90m10\u001b[39m     10 Mang~ /hom~ Impe~      86      20.8  1.08  1.02  8.22  93.0  8.29\n",
       "\u001b[90m# ... with more rows, and 11 more variables: BoilSize \u001b[3m\u001b[90m<dbl>\u001b[90m\u001b[23m, BoilTime \u001b[3m\u001b[90m<dbl>\u001b[90m\u001b[23m,\n",
       "#   BoilGravity \u001b[3m\u001b[90m<dbl>\u001b[90m\u001b[23m, Efficiency \u001b[3m\u001b[90m<dbl>\u001b[90m\u001b[23m, MashThickness \u001b[3m\u001b[90m<dbl>\u001b[90m\u001b[23m, SugarScale \u001b[3m\u001b[90m<chr>\u001b[90m\u001b[23m,\n",
       "#   BrewMethod \u001b[3m\u001b[90m<chr>\u001b[90m\u001b[23m, PitchRate \u001b[3m\u001b[90m<dbl>\u001b[90m\u001b[23m, PrimaryTemp \u001b[3m\u001b[90m<dbl>\u001b[90m\u001b[23m, PrimingMethod \u001b[3m\u001b[90m<chr>\u001b[90m\u001b[23m,\n",
       "#   PrimingAmount \u001b[3m\u001b[90m<dbl>\u001b[90m\u001b[23m\u001b[39m"
      ]
     },
     "metadata": {},
     "output_type": "display_data"
    },
    {
     "data": {
      "text/plain": [
       "<SQLiteConnection>\n",
       "  DISCONNECTED"
      ]
     },
     "metadata": {},
     "output_type": "display_data"
    }
   ],
   "source": [
    "dbDisconnect(con)\n",
    "con\n",
    "con <- DBI::dbConnect(RSQLite::SQLite(), dbname = \"beer_recipes.sqlite\")\n",
    "con\n",
    "tbl(con,'beer_recipes')\n",
    "dbDisconnect(con)\n",
    "con"
   ]
  },
  {
   "cell_type": "markdown",
   "metadata": {},
   "source": [
    "# Exercise time:\n",
    "\n",
    "1. Modify column specifications for FIFA World Cup match data [[1]](https://www.kaggle.com/abecklas/fifa-world-cup). Use `col_datetime` in `col_types` to get a good specification for column _DateTime_ [[col_datetime]](http://readr.tidyverse.org/reference/parse_datetime.html). Use `col_factor` to make columns _Round_, _Stadium_, _City_, _HomeTeam_ and _AwayTeam_ into factors.\n",
    "2. Store the resulting tibble as a feather.\n",
    "3. Store the resulting tibble into a SQLite database."
   ]
  },
  {
   "cell_type": "code",
   "execution_count": 22,
   "metadata": {},
   "outputs": [
    {
     "name": "stderr",
     "output_type": "stream",
     "text": [
      "Parsed with column specification:\n",
      "cols(\n",
      "  Year = \u001b[32mcol_double()\u001b[39m,\n",
      "  DateTime = \u001b[31mcol_character()\u001b[39m,\n",
      "  Round = \u001b[31mcol_character()\u001b[39m,\n",
      "  Stadium = \u001b[31mcol_character()\u001b[39m,\n",
      "  City = \u001b[31mcol_character()\u001b[39m,\n",
      "  HomeTeam = \u001b[31mcol_character()\u001b[39m,\n",
      "  HomeGoals = \u001b[32mcol_double()\u001b[39m,\n",
      "  AwayGoals = \u001b[32mcol_double()\u001b[39m,\n",
      "  AwayTeam = \u001b[31mcol_character()\u001b[39m,\n",
      "  Observation = \u001b[31mcol_character()\u001b[39m\n",
      ")\n",
      "\n"
     ]
    }
   ],
   "source": [
    "fifa_matches <- read_csv(\"/m/jhnas/jupyter/shareddata/python-r-data-analysis/fifa/WorldCupMatches.csv\")"
   ]
  },
  {
   "cell_type": "code",
   "execution_count": 23,
   "metadata": {},
   "outputs": [
    {
     "name": "stdout",
     "output_type": "stream",
     "text": [
      "Classes 'spec_tbl_df', 'tbl_df', 'tbl' and 'data.frame':\t4572 obs. of  10 variables:\n",
      " $ Year       : num  1930 1930 1930 1930 1930 1930 1930 1930 1930 1930 ...\n",
      " $ DateTime   : chr  \"13 Jul 1930 - 15:00\" \"13 Jul 1930 - 15:00\" \"14 Jul 1930 - 12:45\" \"14 Jul 1930 - 14:50\" ...\n",
      " $ Round      : chr  \"Group 1\" \"Group 4\" \"Group 2\" \"Group 3\" ...\n",
      " $ Stadium    : chr  \"Pocitos\" \"Parque Central\" \"Parque Central\" \"Pocitos\" ...\n",
      " $ City       : chr  \"Montevideo\" \"Montevideo\" \"Montevideo\" \"Montevideo\" ...\n",
      " $ HomeTeam   : chr  \"France\" \"USA\" \"Yugoslavia\" \"Romania\" ...\n",
      " $ HomeGoals  : num  4 3 2 3 1 3 4 3 1 1 ...\n",
      " $ AwayGoals  : num  1 0 1 1 0 0 0 0 0 0 ...\n",
      " $ AwayTeam   : chr  \"Mexico\" \"Belgium\" \"Brazil\" \"Peru\" ...\n",
      " $ Observation: chr  NA NA NA NA ...\n",
      " - attr(*, \"spec\")=\n",
      "  .. cols(\n",
      "  ..   Year = \u001b[32mcol_double()\u001b[39m,\n",
      "  ..   DateTime = \u001b[31mcol_character()\u001b[39m,\n",
      "  ..   Round = \u001b[31mcol_character()\u001b[39m,\n",
      "  ..   Stadium = \u001b[31mcol_character()\u001b[39m,\n",
      "  ..   City = \u001b[31mcol_character()\u001b[39m,\n",
      "  ..   HomeTeam = \u001b[31mcol_character()\u001b[39m,\n",
      "  ..   HomeGoals = \u001b[32mcol_double()\u001b[39m,\n",
      "  ..   AwayGoals = \u001b[32mcol_double()\u001b[39m,\n",
      "  ..   AwayTeam = \u001b[31mcol_character()\u001b[39m,\n",
      "  ..   Observation = \u001b[31mcol_character()\u001b[39m\n",
      "  .. )\n"
     ]
    }
   ],
   "source": [
    "str(fifa_matches)"
   ]
  }
 ],
 "metadata": {
  "kernelspec": {
   "display_name": "R",
   "language": "R",
   "name": "ir"
  },
  "language_info": {
   "codemirror_mode": "r",
   "file_extension": ".r",
   "mimetype": "text/x-r-source",
   "name": "R",
   "pygments_lexer": "r",
   "version": "3.4.4"
  }
 },
 "nbformat": 4,
 "nbformat_minor": 4
}

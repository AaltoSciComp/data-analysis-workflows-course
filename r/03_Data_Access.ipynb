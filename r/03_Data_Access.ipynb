{
 "cells": [
  {
   "cell_type": "markdown",
   "metadata": {},
   "source": [
    "# Data access\n",
    "\n",
    "## CSV files\n",
    "\n",
    "There's multiple functions in the `readr` for CSV file reading. Let's use them on a dataset available in Kaggle that has homemade beer recipes from Brewer's Friend [[1]](https://www.kaggle.com/jtrofe/beer-recipes).\n",
    "\n",
    "Let's check the first few lines of the data with base R's `file` and `readLines`."
   ]
  },
  {
   "cell_type": "code",
   "execution_count": 1,
   "metadata": {},
   "outputs": [
    {
     "name": "stdout",
     "output_type": "stream",
     "text": [
      "[1] \"BeerID,Name,URL,Style,StyleID,Size(L),OG,FG,ABV,IBU,Color,BoilSize,BoilTime,BoilGravity,Efficiency,MashThickness,SugarScale,BrewMethod,PitchRate,PrimaryTemp,PrimingMethod,PrimingAmount\"    \n",
      "[2] \"1,Vanilla Cream Ale,/homebrew/recipe/view/1633/vanilla-cream-ale,Cream Ale,45,21.77,1.055,1.013,5.48,17.65,4.83,28.39,75,1.038,70,N/A,Specific Gravity,All Grain,N/A,17.78,corn sugar,4.5 oz\"\n"
     ]
    }
   ],
   "source": [
    "example_file <- file(\"/m/jhnas/jupyter/shareddata/python-r-data-analysis/beers/recipeData.csv\",'r')\n",
    "first_lines <- readLines(example_file,n=2)\n",
    "close(example_file)\n",
    "\n",
    "print(first_lines)"
   ]
  },
  {
   "cell_type": "markdown",
   "metadata": {},
   "source": [
    "Before we choose which reader we want to use we need to check the format of the data. \n",
    "\n",
    "`readr` has predefined functions for the following data formats [[1]](http://readr.tidyverse.org/reference/read_delim.html):\n",
    "- `read_delim` parses generic data delimited by a character\n",
    "- `read_csv` assumes that the data is delimited by commas\n",
    "- `read_csv2` assumes that the data is delimited by semicolons\n",
    "- `read_tsv` assumes that the data is delimited by tabs\n",
    "\n",
    "In this case we want to use `read_csv`. Do note that we limit ourselves to first 100 values for faster parsing."
   ]
  },
  {
   "cell_type": "code",
   "execution_count": 2,
   "metadata": {},
   "outputs": [
    {
     "name": "stderr",
     "output_type": "stream",
     "text": [
      "── \u001b[1mAttaching packages\u001b[22m ─────────────────────────────────────── tidyverse 1.2.1 ──\n",
      "\n",
      "\u001b[32m✔\u001b[39m \u001b[34mggplot2\u001b[39m 3.2.0     \u001b[32m✔\u001b[39m \u001b[34mpurrr  \u001b[39m 0.3.2\n",
      "\u001b[32m✔\u001b[39m \u001b[34mtibble \u001b[39m 2.1.3     \u001b[32m✔\u001b[39m \u001b[34mdplyr  \u001b[39m 0.8.3\n",
      "\u001b[32m✔\u001b[39m \u001b[34mtidyr  \u001b[39m 0.8.3     \u001b[32m✔\u001b[39m \u001b[34mstringr\u001b[39m 1.4.0\n",
      "\u001b[32m✔\u001b[39m \u001b[34mreadr  \u001b[39m 1.3.1     \u001b[32m✔\u001b[39m \u001b[34mforcats\u001b[39m 0.4.0\n",
      "\n",
      "── \u001b[1mConflicts\u001b[22m ────────────────────────────────────────── tidyverse_conflicts() ──\n",
      "\u001b[31m✖\u001b[39m \u001b[34mdplyr\u001b[39m::\u001b[32mfilter()\u001b[39m masks \u001b[34mstats\u001b[39m::filter()\n",
      "\u001b[31m✖\u001b[39m \u001b[34mdplyr\u001b[39m::\u001b[32mlag()\u001b[39m    masks \u001b[34mstats\u001b[39m::lag()\n",
      "\n",
      "Parsed with column specification:\n",
      "cols(\n",
      "  .default = col_character(),\n",
      "  BeerID = \u001b[32mcol_double()\u001b[39m,\n",
      "  StyleID = \u001b[32mcol_double()\u001b[39m,\n",
      "  `Size(L)` = \u001b[32mcol_double()\u001b[39m,\n",
      "  OG = \u001b[32mcol_double()\u001b[39m,\n",
      "  FG = \u001b[32mcol_double()\u001b[39m,\n",
      "  ABV = \u001b[32mcol_double()\u001b[39m,\n",
      "  IBU = \u001b[32mcol_double()\u001b[39m,\n",
      "  Color = \u001b[32mcol_double()\u001b[39m,\n",
      "  BoilSize = \u001b[32mcol_double()\u001b[39m,\n",
      "  BoilTime = \u001b[32mcol_double()\u001b[39m,\n",
      "  Efficiency = \u001b[32mcol_double()\u001b[39m\n",
      ")\n",
      "\n",
      "See spec(...) for full column specifications.\n",
      "\n"
     ]
    }
   ],
   "source": [
    "library(tidyverse)\n",
    "\n",
    "beer_recipes <- read_csv(\"/m/jhnas/jupyter/shareddata/python-r-data-analysis/beers/recipeData.csv\", n_max=100)"
   ]
  },
  {
   "cell_type": "markdown",
   "metadata": {},
   "source": [
    "From the output one can see that `read_csv` tries to parse the datatype of the column automatically.\n",
    "\n",
    "By running `spec` one can see the full definitons."
   ]
  },
  {
   "cell_type": "code",
   "execution_count": 3,
   "metadata": {},
   "outputs": [
    {
     "data": {
      "text/plain": [
       "cols(\n",
       "  BeerID = \u001b[32mcol_double()\u001b[39m,\n",
       "  Name = \u001b[31mcol_character()\u001b[39m,\n",
       "  URL = \u001b[31mcol_character()\u001b[39m,\n",
       "  Style = \u001b[31mcol_character()\u001b[39m,\n",
       "  StyleID = \u001b[32mcol_double()\u001b[39m,\n",
       "  `Size(L)` = \u001b[32mcol_double()\u001b[39m,\n",
       "  OG = \u001b[32mcol_double()\u001b[39m,\n",
       "  FG = \u001b[32mcol_double()\u001b[39m,\n",
       "  ABV = \u001b[32mcol_double()\u001b[39m,\n",
       "  IBU = \u001b[32mcol_double()\u001b[39m,\n",
       "  Color = \u001b[32mcol_double()\u001b[39m,\n",
       "  BoilSize = \u001b[32mcol_double()\u001b[39m,\n",
       "  BoilTime = \u001b[32mcol_double()\u001b[39m,\n",
       "  BoilGravity = \u001b[31mcol_character()\u001b[39m,\n",
       "  Efficiency = \u001b[32mcol_double()\u001b[39m,\n",
       "  MashThickness = \u001b[31mcol_character()\u001b[39m,\n",
       "  SugarScale = \u001b[31mcol_character()\u001b[39m,\n",
       "  BrewMethod = \u001b[31mcol_character()\u001b[39m,\n",
       "  PitchRate = \u001b[31mcol_character()\u001b[39m,\n",
       "  PrimaryTemp = \u001b[31mcol_character()\u001b[39m,\n",
       "  PrimingMethod = \u001b[31mcol_character()\u001b[39m,\n",
       "  PrimingAmount = \u001b[31mcol_character()\u001b[39m\n",
       ")"
      ]
     },
     "metadata": {},
     "output_type": "display_data"
    }
   ],
   "source": [
    "spec(beer_recipes)"
   ]
  },
  {
   "cell_type": "markdown",
   "metadata": {},
   "source": [
    "Many of the data columns seem to be characters instead of numbers. Let's use `col_types`-argument to specify a better definition."
   ]
  },
  {
   "cell_type": "code",
   "execution_count": 4,
   "metadata": {},
   "outputs": [
    {
     "name": "stderr",
     "output_type": "stream",
     "text": [
      "Warning message:\n",
      "“208 parsing failures.\n",
      "row           col expected actual                                                                      file\n",
      "  1 MashThickness a double    N/A '/m/jhnas/jupyter/shareddata/python-r-data-analysis/beers/recipeData.csv'\n",
      "  1 PitchRate     a double    N/A '/m/jhnas/jupyter/shareddata/python-r-data-analysis/beers/recipeData.csv'\n",
      "  2 MashThickness a double    N/A '/m/jhnas/jupyter/shareddata/python-r-data-analysis/beers/recipeData.csv'\n",
      "  2 PitchRate     a double    N/A '/m/jhnas/jupyter/shareddata/python-r-data-analysis/beers/recipeData.csv'\n",
      "  2 PrimaryTemp   a double    N/A '/m/jhnas/jupyter/shareddata/python-r-data-analysis/beers/recipeData.csv'\n",
      "... ............. ........ ...... .........................................................................\n",
      "See problems(...) for more details.\n",
      "”\n"
     ]
    }
   ],
   "source": [
    "beer_recipes <- read_csv(\"/m/jhnas/jupyter/shareddata/python-r-data-analysis/beers/recipeData.csv\",\n",
    "    col_types=cols(\n",
    "      BeerID = col_integer(),\n",
    "      Name = col_character(),\n",
    "      URL = col_character(),\n",
    "      Style = col_character(),\n",
    "      StyleID = col_integer(),\n",
    "      `Size(L)` = col_double(),\n",
    "      OG = col_double(),\n",
    "      FG = col_double(),\n",
    "      ABV = col_double(),\n",
    "      IBU = col_double(),\n",
    "      Color = col_double(),\n",
    "      BoilSize = col_double(),\n",
    "      BoilTime = col_double(),\n",
    "      BoilGravity = col_double(),\n",
    "      Efficiency = col_double(),\n",
    "      MashThickness = col_double(),\n",
    "      SugarScale = col_character(),\n",
    "      BrewMethod = col_character(),\n",
    "      PitchRate = col_double(),\n",
    "      PrimaryTemp = col_double(),\n",
    "      PrimingMethod = col_character(),\n",
    "      PrimingAmount = col_character()\n",
    "    ),\n",
    "    n_max=100\n",
    ")"
   ]
  },
  {
   "cell_type": "markdown",
   "metadata": {},
   "source": [
    "This produced a lot of problems. Let's check the problems with `problems`."
   ]
  },
  {
   "cell_type": "code",
   "execution_count": 5,
   "metadata": {},
   "outputs": [
    {
     "data": {
      "text/html": [
       "<table>\n",
       "<caption>A tibble: 208 × 5</caption>\n",
       "<thead>\n",
       "\t<tr><th scope=col>row</th><th scope=col>col</th><th scope=col>expected</th><th scope=col>actual</th><th scope=col>file</th></tr>\n",
       "\t<tr><th scope=col>&lt;int&gt;</th><th scope=col>&lt;chr&gt;</th><th scope=col>&lt;chr&gt;</th><th scope=col>&lt;chr&gt;</th><th scope=col>&lt;chr&gt;</th></tr>\n",
       "</thead>\n",
       "<tbody>\n",
       "\t<tr><td> 1</td><td>MashThickness</td><td>a double</td><td>N/A</td><td>'/m/jhnas/jupyter/shareddata/python-r-data-analysis/beers/recipeData.csv'</td></tr>\n",
       "\t<tr><td> 1</td><td>PitchRate    </td><td>a double</td><td>N/A</td><td>'/m/jhnas/jupyter/shareddata/python-r-data-analysis/beers/recipeData.csv'</td></tr>\n",
       "\t<tr><td> 2</td><td>MashThickness</td><td>a double</td><td>N/A</td><td>'/m/jhnas/jupyter/shareddata/python-r-data-analysis/beers/recipeData.csv'</td></tr>\n",
       "\t<tr><td> 2</td><td>PitchRate    </td><td>a double</td><td>N/A</td><td>'/m/jhnas/jupyter/shareddata/python-r-data-analysis/beers/recipeData.csv'</td></tr>\n",
       "\t<tr><td> 2</td><td>PrimaryTemp  </td><td>a double</td><td>N/A</td><td>'/m/jhnas/jupyter/shareddata/python-r-data-analysis/beers/recipeData.csv'</td></tr>\n",
       "\t<tr><td> 3</td><td>BoilGravity  </td><td>a double</td><td>N/A</td><td>'/m/jhnas/jupyter/shareddata/python-r-data-analysis/beers/recipeData.csv'</td></tr>\n",
       "\t<tr><td> 3</td><td>MashThickness</td><td>a double</td><td>N/A</td><td>'/m/jhnas/jupyter/shareddata/python-r-data-analysis/beers/recipeData.csv'</td></tr>\n",
       "\t<tr><td> 3</td><td>PitchRate    </td><td>a double</td><td>N/A</td><td>'/m/jhnas/jupyter/shareddata/python-r-data-analysis/beers/recipeData.csv'</td></tr>\n",
       "\t<tr><td> 3</td><td>PrimaryTemp  </td><td>a double</td><td>N/A</td><td>'/m/jhnas/jupyter/shareddata/python-r-data-analysis/beers/recipeData.csv'</td></tr>\n",
       "\t<tr><td> 4</td><td>BoilGravity  </td><td>a double</td><td>N/A</td><td>'/m/jhnas/jupyter/shareddata/python-r-data-analysis/beers/recipeData.csv'</td></tr>\n",
       "\t<tr><td> 4</td><td>MashThickness</td><td>a double</td><td>N/A</td><td>'/m/jhnas/jupyter/shareddata/python-r-data-analysis/beers/recipeData.csv'</td></tr>\n",
       "\t<tr><td> 4</td><td>PitchRate    </td><td>a double</td><td>N/A</td><td>'/m/jhnas/jupyter/shareddata/python-r-data-analysis/beers/recipeData.csv'</td></tr>\n",
       "\t<tr><td> 4</td><td>PrimaryTemp  </td><td>a double</td><td>N/A</td><td>'/m/jhnas/jupyter/shareddata/python-r-data-analysis/beers/recipeData.csv'</td></tr>\n",
       "\t<tr><td> 5</td><td>MashThickness</td><td>a double</td><td>N/A</td><td>'/m/jhnas/jupyter/shareddata/python-r-data-analysis/beers/recipeData.csv'</td></tr>\n",
       "\t<tr><td> 5</td><td>PitchRate    </td><td>a double</td><td>N/A</td><td>'/m/jhnas/jupyter/shareddata/python-r-data-analysis/beers/recipeData.csv'</td></tr>\n",
       "\t<tr><td> 6</td><td>MashThickness</td><td>a double</td><td>N/A</td><td>'/m/jhnas/jupyter/shareddata/python-r-data-analysis/beers/recipeData.csv'</td></tr>\n",
       "\t<tr><td> 6</td><td>PrimaryTemp  </td><td>a double</td><td>N/A</td><td>'/m/jhnas/jupyter/shareddata/python-r-data-analysis/beers/recipeData.csv'</td></tr>\n",
       "\t<tr><td> 7</td><td>BoilGravity  </td><td>a double</td><td>N/A</td><td>'/m/jhnas/jupyter/shareddata/python-r-data-analysis/beers/recipeData.csv'</td></tr>\n",
       "\t<tr><td> 7</td><td>MashThickness</td><td>a double</td><td>N/A</td><td>'/m/jhnas/jupyter/shareddata/python-r-data-analysis/beers/recipeData.csv'</td></tr>\n",
       "\t<tr><td> 7</td><td>PitchRate    </td><td>a double</td><td>N/A</td><td>'/m/jhnas/jupyter/shareddata/python-r-data-analysis/beers/recipeData.csv'</td></tr>\n",
       "\t<tr><td> 7</td><td>PrimaryTemp  </td><td>a double</td><td>N/A</td><td>'/m/jhnas/jupyter/shareddata/python-r-data-analysis/beers/recipeData.csv'</td></tr>\n",
       "\t<tr><td> 8</td><td>PitchRate    </td><td>a double</td><td>N/A</td><td>'/m/jhnas/jupyter/shareddata/python-r-data-analysis/beers/recipeData.csv'</td></tr>\n",
       "\t<tr><td> 8</td><td>PrimaryTemp  </td><td>a double</td><td>N/A</td><td>'/m/jhnas/jupyter/shareddata/python-r-data-analysis/beers/recipeData.csv'</td></tr>\n",
       "\t<tr><td> 9</td><td>MashThickness</td><td>a double</td><td>N/A</td><td>'/m/jhnas/jupyter/shareddata/python-r-data-analysis/beers/recipeData.csv'</td></tr>\n",
       "\t<tr><td> 9</td><td>PitchRate    </td><td>a double</td><td>N/A</td><td>'/m/jhnas/jupyter/shareddata/python-r-data-analysis/beers/recipeData.csv'</td></tr>\n",
       "\t<tr><td> 9</td><td>PrimaryTemp  </td><td>a double</td><td>N/A</td><td>'/m/jhnas/jupyter/shareddata/python-r-data-analysis/beers/recipeData.csv'</td></tr>\n",
       "\t<tr><td>10</td><td>MashThickness</td><td>a double</td><td>N/A</td><td>'/m/jhnas/jupyter/shareddata/python-r-data-analysis/beers/recipeData.csv'</td></tr>\n",
       "\t<tr><td>10</td><td>PitchRate    </td><td>a double</td><td>N/A</td><td>'/m/jhnas/jupyter/shareddata/python-r-data-analysis/beers/recipeData.csv'</td></tr>\n",
       "\t<tr><td>11</td><td>MashThickness</td><td>a double</td><td>N/A</td><td>'/m/jhnas/jupyter/shareddata/python-r-data-analysis/beers/recipeData.csv'</td></tr>\n",
       "\t<tr><td>12</td><td>BoilGravity  </td><td>a double</td><td>N/A</td><td>'/m/jhnas/jupyter/shareddata/python-r-data-analysis/beers/recipeData.csv'</td></tr>\n",
       "\t<tr><td>⋮</td><td>⋮</td><td>⋮</td><td>⋮</td><td>⋮</td></tr>\n",
       "\t<tr><td> 88</td><td>MashThickness</td><td>a double</td><td>N/A</td><td>'/m/jhnas/jupyter/shareddata/python-r-data-analysis/beers/recipeData.csv'</td></tr>\n",
       "\t<tr><td> 88</td><td>PitchRate    </td><td>a double</td><td>N/A</td><td>'/m/jhnas/jupyter/shareddata/python-r-data-analysis/beers/recipeData.csv'</td></tr>\n",
       "\t<tr><td> 88</td><td>PrimaryTemp  </td><td>a double</td><td>N/A</td><td>'/m/jhnas/jupyter/shareddata/python-r-data-analysis/beers/recipeData.csv'</td></tr>\n",
       "\t<tr><td> 89</td><td>MashThickness</td><td>a double</td><td>N/A</td><td>'/m/jhnas/jupyter/shareddata/python-r-data-analysis/beers/recipeData.csv'</td></tr>\n",
       "\t<tr><td> 89</td><td>PitchRate    </td><td>a double</td><td>N/A</td><td>'/m/jhnas/jupyter/shareddata/python-r-data-analysis/beers/recipeData.csv'</td></tr>\n",
       "\t<tr><td> 90</td><td>BoilGravity  </td><td>a double</td><td>N/A</td><td>'/m/jhnas/jupyter/shareddata/python-r-data-analysis/beers/recipeData.csv'</td></tr>\n",
       "\t<tr><td> 90</td><td>MashThickness</td><td>a double</td><td>N/A</td><td>'/m/jhnas/jupyter/shareddata/python-r-data-analysis/beers/recipeData.csv'</td></tr>\n",
       "\t<tr><td> 90</td><td>PitchRate    </td><td>a double</td><td>N/A</td><td>'/m/jhnas/jupyter/shareddata/python-r-data-analysis/beers/recipeData.csv'</td></tr>\n",
       "\t<tr><td> 90</td><td>PrimaryTemp  </td><td>a double</td><td>N/A</td><td>'/m/jhnas/jupyter/shareddata/python-r-data-analysis/beers/recipeData.csv'</td></tr>\n",
       "\t<tr><td> 91</td><td>BoilGravity  </td><td>a double</td><td>N/A</td><td>'/m/jhnas/jupyter/shareddata/python-r-data-analysis/beers/recipeData.csv'</td></tr>\n",
       "\t<tr><td> 91</td><td>MashThickness</td><td>a double</td><td>N/A</td><td>'/m/jhnas/jupyter/shareddata/python-r-data-analysis/beers/recipeData.csv'</td></tr>\n",
       "\t<tr><td> 92</td><td>MashThickness</td><td>a double</td><td>N/A</td><td>'/m/jhnas/jupyter/shareddata/python-r-data-analysis/beers/recipeData.csv'</td></tr>\n",
       "\t<tr><td> 92</td><td>PitchRate    </td><td>a double</td><td>N/A</td><td>'/m/jhnas/jupyter/shareddata/python-r-data-analysis/beers/recipeData.csv'</td></tr>\n",
       "\t<tr><td> 93</td><td>BoilGravity  </td><td>a double</td><td>N/A</td><td>'/m/jhnas/jupyter/shareddata/python-r-data-analysis/beers/recipeData.csv'</td></tr>\n",
       "\t<tr><td> 93</td><td>MashThickness</td><td>a double</td><td>N/A</td><td>'/m/jhnas/jupyter/shareddata/python-r-data-analysis/beers/recipeData.csv'</td></tr>\n",
       "\t<tr><td> 93</td><td>PitchRate    </td><td>a double</td><td>N/A</td><td>'/m/jhnas/jupyter/shareddata/python-r-data-analysis/beers/recipeData.csv'</td></tr>\n",
       "\t<tr><td> 93</td><td>PrimaryTemp  </td><td>a double</td><td>N/A</td><td>'/m/jhnas/jupyter/shareddata/python-r-data-analysis/beers/recipeData.csv'</td></tr>\n",
       "\t<tr><td> 96</td><td>BoilGravity  </td><td>a double</td><td>N/A</td><td>'/m/jhnas/jupyter/shareddata/python-r-data-analysis/beers/recipeData.csv'</td></tr>\n",
       "\t<tr><td> 96</td><td>MashThickness</td><td>a double</td><td>N/A</td><td>'/m/jhnas/jupyter/shareddata/python-r-data-analysis/beers/recipeData.csv'</td></tr>\n",
       "\t<tr><td> 96</td><td>PitchRate    </td><td>a double</td><td>N/A</td><td>'/m/jhnas/jupyter/shareddata/python-r-data-analysis/beers/recipeData.csv'</td></tr>\n",
       "\t<tr><td> 96</td><td>PrimaryTemp  </td><td>a double</td><td>N/A</td><td>'/m/jhnas/jupyter/shareddata/python-r-data-analysis/beers/recipeData.csv'</td></tr>\n",
       "\t<tr><td> 97</td><td>PitchRate    </td><td>a double</td><td>N/A</td><td>'/m/jhnas/jupyter/shareddata/python-r-data-analysis/beers/recipeData.csv'</td></tr>\n",
       "\t<tr><td> 97</td><td>PrimaryTemp  </td><td>a double</td><td>N/A</td><td>'/m/jhnas/jupyter/shareddata/python-r-data-analysis/beers/recipeData.csv'</td></tr>\n",
       "\t<tr><td> 98</td><td>MashThickness</td><td>a double</td><td>N/A</td><td>'/m/jhnas/jupyter/shareddata/python-r-data-analysis/beers/recipeData.csv'</td></tr>\n",
       "\t<tr><td> 98</td><td>PitchRate    </td><td>a double</td><td>N/A</td><td>'/m/jhnas/jupyter/shareddata/python-r-data-analysis/beers/recipeData.csv'</td></tr>\n",
       "\t<tr><td> 98</td><td>PrimaryTemp  </td><td>a double</td><td>N/A</td><td>'/m/jhnas/jupyter/shareddata/python-r-data-analysis/beers/recipeData.csv'</td></tr>\n",
       "\t<tr><td>100</td><td>BoilGravity  </td><td>a double</td><td>N/A</td><td>'/m/jhnas/jupyter/shareddata/python-r-data-analysis/beers/recipeData.csv'</td></tr>\n",
       "\t<tr><td>100</td><td>MashThickness</td><td>a double</td><td>N/A</td><td>'/m/jhnas/jupyter/shareddata/python-r-data-analysis/beers/recipeData.csv'</td></tr>\n",
       "\t<tr><td>100</td><td>PitchRate    </td><td>a double</td><td>N/A</td><td>'/m/jhnas/jupyter/shareddata/python-r-data-analysis/beers/recipeData.csv'</td></tr>\n",
       "\t<tr><td>100</td><td>PrimaryTemp  </td><td>a double</td><td>N/A</td><td>'/m/jhnas/jupyter/shareddata/python-r-data-analysis/beers/recipeData.csv'</td></tr>\n",
       "</tbody>\n",
       "</table>\n"
      ],
      "text/latex": [
       "A tibble: 208 × 5\n",
       "\\begin{tabular}{r|lllll}\n",
       " row & col & expected & actual & file\\\\\n",
       " <int> & <chr> & <chr> & <chr> & <chr>\\\\\n",
       "\\hline\n",
       "\t  1 & MashThickness & a double & N/A & '/m/jhnas/jupyter/shareddata/python-r-data-analysis/beers/recipeData.csv'\\\\\n",
       "\t  1 & PitchRate     & a double & N/A & '/m/jhnas/jupyter/shareddata/python-r-data-analysis/beers/recipeData.csv'\\\\\n",
       "\t  2 & MashThickness & a double & N/A & '/m/jhnas/jupyter/shareddata/python-r-data-analysis/beers/recipeData.csv'\\\\\n",
       "\t  2 & PitchRate     & a double & N/A & '/m/jhnas/jupyter/shareddata/python-r-data-analysis/beers/recipeData.csv'\\\\\n",
       "\t  2 & PrimaryTemp   & a double & N/A & '/m/jhnas/jupyter/shareddata/python-r-data-analysis/beers/recipeData.csv'\\\\\n",
       "\t  3 & BoilGravity   & a double & N/A & '/m/jhnas/jupyter/shareddata/python-r-data-analysis/beers/recipeData.csv'\\\\\n",
       "\t  3 & MashThickness & a double & N/A & '/m/jhnas/jupyter/shareddata/python-r-data-analysis/beers/recipeData.csv'\\\\\n",
       "\t  3 & PitchRate     & a double & N/A & '/m/jhnas/jupyter/shareddata/python-r-data-analysis/beers/recipeData.csv'\\\\\n",
       "\t  3 & PrimaryTemp   & a double & N/A & '/m/jhnas/jupyter/shareddata/python-r-data-analysis/beers/recipeData.csv'\\\\\n",
       "\t  4 & BoilGravity   & a double & N/A & '/m/jhnas/jupyter/shareddata/python-r-data-analysis/beers/recipeData.csv'\\\\\n",
       "\t  4 & MashThickness & a double & N/A & '/m/jhnas/jupyter/shareddata/python-r-data-analysis/beers/recipeData.csv'\\\\\n",
       "\t  4 & PitchRate     & a double & N/A & '/m/jhnas/jupyter/shareddata/python-r-data-analysis/beers/recipeData.csv'\\\\\n",
       "\t  4 & PrimaryTemp   & a double & N/A & '/m/jhnas/jupyter/shareddata/python-r-data-analysis/beers/recipeData.csv'\\\\\n",
       "\t  5 & MashThickness & a double & N/A & '/m/jhnas/jupyter/shareddata/python-r-data-analysis/beers/recipeData.csv'\\\\\n",
       "\t  5 & PitchRate     & a double & N/A & '/m/jhnas/jupyter/shareddata/python-r-data-analysis/beers/recipeData.csv'\\\\\n",
       "\t  6 & MashThickness & a double & N/A & '/m/jhnas/jupyter/shareddata/python-r-data-analysis/beers/recipeData.csv'\\\\\n",
       "\t  6 & PrimaryTemp   & a double & N/A & '/m/jhnas/jupyter/shareddata/python-r-data-analysis/beers/recipeData.csv'\\\\\n",
       "\t  7 & BoilGravity   & a double & N/A & '/m/jhnas/jupyter/shareddata/python-r-data-analysis/beers/recipeData.csv'\\\\\n",
       "\t  7 & MashThickness & a double & N/A & '/m/jhnas/jupyter/shareddata/python-r-data-analysis/beers/recipeData.csv'\\\\\n",
       "\t  7 & PitchRate     & a double & N/A & '/m/jhnas/jupyter/shareddata/python-r-data-analysis/beers/recipeData.csv'\\\\\n",
       "\t  7 & PrimaryTemp   & a double & N/A & '/m/jhnas/jupyter/shareddata/python-r-data-analysis/beers/recipeData.csv'\\\\\n",
       "\t  8 & PitchRate     & a double & N/A & '/m/jhnas/jupyter/shareddata/python-r-data-analysis/beers/recipeData.csv'\\\\\n",
       "\t  8 & PrimaryTemp   & a double & N/A & '/m/jhnas/jupyter/shareddata/python-r-data-analysis/beers/recipeData.csv'\\\\\n",
       "\t  9 & MashThickness & a double & N/A & '/m/jhnas/jupyter/shareddata/python-r-data-analysis/beers/recipeData.csv'\\\\\n",
       "\t  9 & PitchRate     & a double & N/A & '/m/jhnas/jupyter/shareddata/python-r-data-analysis/beers/recipeData.csv'\\\\\n",
       "\t  9 & PrimaryTemp   & a double & N/A & '/m/jhnas/jupyter/shareddata/python-r-data-analysis/beers/recipeData.csv'\\\\\n",
       "\t 10 & MashThickness & a double & N/A & '/m/jhnas/jupyter/shareddata/python-r-data-analysis/beers/recipeData.csv'\\\\\n",
       "\t 10 & PitchRate     & a double & N/A & '/m/jhnas/jupyter/shareddata/python-r-data-analysis/beers/recipeData.csv'\\\\\n",
       "\t 11 & MashThickness & a double & N/A & '/m/jhnas/jupyter/shareddata/python-r-data-analysis/beers/recipeData.csv'\\\\\n",
       "\t 12 & BoilGravity   & a double & N/A & '/m/jhnas/jupyter/shareddata/python-r-data-analysis/beers/recipeData.csv'\\\\\n",
       "\t ⋮ & ⋮ & ⋮ & ⋮ & ⋮\\\\\n",
       "\t  88 & MashThickness & a double & N/A & '/m/jhnas/jupyter/shareddata/python-r-data-analysis/beers/recipeData.csv'\\\\\n",
       "\t  88 & PitchRate     & a double & N/A & '/m/jhnas/jupyter/shareddata/python-r-data-analysis/beers/recipeData.csv'\\\\\n",
       "\t  88 & PrimaryTemp   & a double & N/A & '/m/jhnas/jupyter/shareddata/python-r-data-analysis/beers/recipeData.csv'\\\\\n",
       "\t  89 & MashThickness & a double & N/A & '/m/jhnas/jupyter/shareddata/python-r-data-analysis/beers/recipeData.csv'\\\\\n",
       "\t  89 & PitchRate     & a double & N/A & '/m/jhnas/jupyter/shareddata/python-r-data-analysis/beers/recipeData.csv'\\\\\n",
       "\t  90 & BoilGravity   & a double & N/A & '/m/jhnas/jupyter/shareddata/python-r-data-analysis/beers/recipeData.csv'\\\\\n",
       "\t  90 & MashThickness & a double & N/A & '/m/jhnas/jupyter/shareddata/python-r-data-analysis/beers/recipeData.csv'\\\\\n",
       "\t  90 & PitchRate     & a double & N/A & '/m/jhnas/jupyter/shareddata/python-r-data-analysis/beers/recipeData.csv'\\\\\n",
       "\t  90 & PrimaryTemp   & a double & N/A & '/m/jhnas/jupyter/shareddata/python-r-data-analysis/beers/recipeData.csv'\\\\\n",
       "\t  91 & BoilGravity   & a double & N/A & '/m/jhnas/jupyter/shareddata/python-r-data-analysis/beers/recipeData.csv'\\\\\n",
       "\t  91 & MashThickness & a double & N/A & '/m/jhnas/jupyter/shareddata/python-r-data-analysis/beers/recipeData.csv'\\\\\n",
       "\t  92 & MashThickness & a double & N/A & '/m/jhnas/jupyter/shareddata/python-r-data-analysis/beers/recipeData.csv'\\\\\n",
       "\t  92 & PitchRate     & a double & N/A & '/m/jhnas/jupyter/shareddata/python-r-data-analysis/beers/recipeData.csv'\\\\\n",
       "\t  93 & BoilGravity   & a double & N/A & '/m/jhnas/jupyter/shareddata/python-r-data-analysis/beers/recipeData.csv'\\\\\n",
       "\t  93 & MashThickness & a double & N/A & '/m/jhnas/jupyter/shareddata/python-r-data-analysis/beers/recipeData.csv'\\\\\n",
       "\t  93 & PitchRate     & a double & N/A & '/m/jhnas/jupyter/shareddata/python-r-data-analysis/beers/recipeData.csv'\\\\\n",
       "\t  93 & PrimaryTemp   & a double & N/A & '/m/jhnas/jupyter/shareddata/python-r-data-analysis/beers/recipeData.csv'\\\\\n",
       "\t  96 & BoilGravity   & a double & N/A & '/m/jhnas/jupyter/shareddata/python-r-data-analysis/beers/recipeData.csv'\\\\\n",
       "\t  96 & MashThickness & a double & N/A & '/m/jhnas/jupyter/shareddata/python-r-data-analysis/beers/recipeData.csv'\\\\\n",
       "\t  96 & PitchRate     & a double & N/A & '/m/jhnas/jupyter/shareddata/python-r-data-analysis/beers/recipeData.csv'\\\\\n",
       "\t  96 & PrimaryTemp   & a double & N/A & '/m/jhnas/jupyter/shareddata/python-r-data-analysis/beers/recipeData.csv'\\\\\n",
       "\t  97 & PitchRate     & a double & N/A & '/m/jhnas/jupyter/shareddata/python-r-data-analysis/beers/recipeData.csv'\\\\\n",
       "\t  97 & PrimaryTemp   & a double & N/A & '/m/jhnas/jupyter/shareddata/python-r-data-analysis/beers/recipeData.csv'\\\\\n",
       "\t  98 & MashThickness & a double & N/A & '/m/jhnas/jupyter/shareddata/python-r-data-analysis/beers/recipeData.csv'\\\\\n",
       "\t  98 & PitchRate     & a double & N/A & '/m/jhnas/jupyter/shareddata/python-r-data-analysis/beers/recipeData.csv'\\\\\n",
       "\t  98 & PrimaryTemp   & a double & N/A & '/m/jhnas/jupyter/shareddata/python-r-data-analysis/beers/recipeData.csv'\\\\\n",
       "\t 100 & BoilGravity   & a double & N/A & '/m/jhnas/jupyter/shareddata/python-r-data-analysis/beers/recipeData.csv'\\\\\n",
       "\t 100 & MashThickness & a double & N/A & '/m/jhnas/jupyter/shareddata/python-r-data-analysis/beers/recipeData.csv'\\\\\n",
       "\t 100 & PitchRate     & a double & N/A & '/m/jhnas/jupyter/shareddata/python-r-data-analysis/beers/recipeData.csv'\\\\\n",
       "\t 100 & PrimaryTemp   & a double & N/A & '/m/jhnas/jupyter/shareddata/python-r-data-analysis/beers/recipeData.csv'\\\\\n",
       "\\end{tabular}\n"
      ],
      "text/markdown": [
       "\n",
       "A tibble: 208 × 5\n",
       "\n",
       "| row &lt;int&gt; | col &lt;chr&gt; | expected &lt;chr&gt; | actual &lt;chr&gt; | file &lt;chr&gt; |\n",
       "|---|---|---|---|---|\n",
       "|  1 | MashThickness | a double | N/A | '/m/jhnas/jupyter/shareddata/python-r-data-analysis/beers/recipeData.csv' |\n",
       "|  1 | PitchRate     | a double | N/A | '/m/jhnas/jupyter/shareddata/python-r-data-analysis/beers/recipeData.csv' |\n",
       "|  2 | MashThickness | a double | N/A | '/m/jhnas/jupyter/shareddata/python-r-data-analysis/beers/recipeData.csv' |\n",
       "|  2 | PitchRate     | a double | N/A | '/m/jhnas/jupyter/shareddata/python-r-data-analysis/beers/recipeData.csv' |\n",
       "|  2 | PrimaryTemp   | a double | N/A | '/m/jhnas/jupyter/shareddata/python-r-data-analysis/beers/recipeData.csv' |\n",
       "|  3 | BoilGravity   | a double | N/A | '/m/jhnas/jupyter/shareddata/python-r-data-analysis/beers/recipeData.csv' |\n",
       "|  3 | MashThickness | a double | N/A | '/m/jhnas/jupyter/shareddata/python-r-data-analysis/beers/recipeData.csv' |\n",
       "|  3 | PitchRate     | a double | N/A | '/m/jhnas/jupyter/shareddata/python-r-data-analysis/beers/recipeData.csv' |\n",
       "|  3 | PrimaryTemp   | a double | N/A | '/m/jhnas/jupyter/shareddata/python-r-data-analysis/beers/recipeData.csv' |\n",
       "|  4 | BoilGravity   | a double | N/A | '/m/jhnas/jupyter/shareddata/python-r-data-analysis/beers/recipeData.csv' |\n",
       "|  4 | MashThickness | a double | N/A | '/m/jhnas/jupyter/shareddata/python-r-data-analysis/beers/recipeData.csv' |\n",
       "|  4 | PitchRate     | a double | N/A | '/m/jhnas/jupyter/shareddata/python-r-data-analysis/beers/recipeData.csv' |\n",
       "|  4 | PrimaryTemp   | a double | N/A | '/m/jhnas/jupyter/shareddata/python-r-data-analysis/beers/recipeData.csv' |\n",
       "|  5 | MashThickness | a double | N/A | '/m/jhnas/jupyter/shareddata/python-r-data-analysis/beers/recipeData.csv' |\n",
       "|  5 | PitchRate     | a double | N/A | '/m/jhnas/jupyter/shareddata/python-r-data-analysis/beers/recipeData.csv' |\n",
       "|  6 | MashThickness | a double | N/A | '/m/jhnas/jupyter/shareddata/python-r-data-analysis/beers/recipeData.csv' |\n",
       "|  6 | PrimaryTemp   | a double | N/A | '/m/jhnas/jupyter/shareddata/python-r-data-analysis/beers/recipeData.csv' |\n",
       "|  7 | BoilGravity   | a double | N/A | '/m/jhnas/jupyter/shareddata/python-r-data-analysis/beers/recipeData.csv' |\n",
       "|  7 | MashThickness | a double | N/A | '/m/jhnas/jupyter/shareddata/python-r-data-analysis/beers/recipeData.csv' |\n",
       "|  7 | PitchRate     | a double | N/A | '/m/jhnas/jupyter/shareddata/python-r-data-analysis/beers/recipeData.csv' |\n",
       "|  7 | PrimaryTemp   | a double | N/A | '/m/jhnas/jupyter/shareddata/python-r-data-analysis/beers/recipeData.csv' |\n",
       "|  8 | PitchRate     | a double | N/A | '/m/jhnas/jupyter/shareddata/python-r-data-analysis/beers/recipeData.csv' |\n",
       "|  8 | PrimaryTemp   | a double | N/A | '/m/jhnas/jupyter/shareddata/python-r-data-analysis/beers/recipeData.csv' |\n",
       "|  9 | MashThickness | a double | N/A | '/m/jhnas/jupyter/shareddata/python-r-data-analysis/beers/recipeData.csv' |\n",
       "|  9 | PitchRate     | a double | N/A | '/m/jhnas/jupyter/shareddata/python-r-data-analysis/beers/recipeData.csv' |\n",
       "|  9 | PrimaryTemp   | a double | N/A | '/m/jhnas/jupyter/shareddata/python-r-data-analysis/beers/recipeData.csv' |\n",
       "| 10 | MashThickness | a double | N/A | '/m/jhnas/jupyter/shareddata/python-r-data-analysis/beers/recipeData.csv' |\n",
       "| 10 | PitchRate     | a double | N/A | '/m/jhnas/jupyter/shareddata/python-r-data-analysis/beers/recipeData.csv' |\n",
       "| 11 | MashThickness | a double | N/A | '/m/jhnas/jupyter/shareddata/python-r-data-analysis/beers/recipeData.csv' |\n",
       "| 12 | BoilGravity   | a double | N/A | '/m/jhnas/jupyter/shareddata/python-r-data-analysis/beers/recipeData.csv' |\n",
       "| ⋮ | ⋮ | ⋮ | ⋮ | ⋮ |\n",
       "|  88 | MashThickness | a double | N/A | '/m/jhnas/jupyter/shareddata/python-r-data-analysis/beers/recipeData.csv' |\n",
       "|  88 | PitchRate     | a double | N/A | '/m/jhnas/jupyter/shareddata/python-r-data-analysis/beers/recipeData.csv' |\n",
       "|  88 | PrimaryTemp   | a double | N/A | '/m/jhnas/jupyter/shareddata/python-r-data-analysis/beers/recipeData.csv' |\n",
       "|  89 | MashThickness | a double | N/A | '/m/jhnas/jupyter/shareddata/python-r-data-analysis/beers/recipeData.csv' |\n",
       "|  89 | PitchRate     | a double | N/A | '/m/jhnas/jupyter/shareddata/python-r-data-analysis/beers/recipeData.csv' |\n",
       "|  90 | BoilGravity   | a double | N/A | '/m/jhnas/jupyter/shareddata/python-r-data-analysis/beers/recipeData.csv' |\n",
       "|  90 | MashThickness | a double | N/A | '/m/jhnas/jupyter/shareddata/python-r-data-analysis/beers/recipeData.csv' |\n",
       "|  90 | PitchRate     | a double | N/A | '/m/jhnas/jupyter/shareddata/python-r-data-analysis/beers/recipeData.csv' |\n",
       "|  90 | PrimaryTemp   | a double | N/A | '/m/jhnas/jupyter/shareddata/python-r-data-analysis/beers/recipeData.csv' |\n",
       "|  91 | BoilGravity   | a double | N/A | '/m/jhnas/jupyter/shareddata/python-r-data-analysis/beers/recipeData.csv' |\n",
       "|  91 | MashThickness | a double | N/A | '/m/jhnas/jupyter/shareddata/python-r-data-analysis/beers/recipeData.csv' |\n",
       "|  92 | MashThickness | a double | N/A | '/m/jhnas/jupyter/shareddata/python-r-data-analysis/beers/recipeData.csv' |\n",
       "|  92 | PitchRate     | a double | N/A | '/m/jhnas/jupyter/shareddata/python-r-data-analysis/beers/recipeData.csv' |\n",
       "|  93 | BoilGravity   | a double | N/A | '/m/jhnas/jupyter/shareddata/python-r-data-analysis/beers/recipeData.csv' |\n",
       "|  93 | MashThickness | a double | N/A | '/m/jhnas/jupyter/shareddata/python-r-data-analysis/beers/recipeData.csv' |\n",
       "|  93 | PitchRate     | a double | N/A | '/m/jhnas/jupyter/shareddata/python-r-data-analysis/beers/recipeData.csv' |\n",
       "|  93 | PrimaryTemp   | a double | N/A | '/m/jhnas/jupyter/shareddata/python-r-data-analysis/beers/recipeData.csv' |\n",
       "|  96 | BoilGravity   | a double | N/A | '/m/jhnas/jupyter/shareddata/python-r-data-analysis/beers/recipeData.csv' |\n",
       "|  96 | MashThickness | a double | N/A | '/m/jhnas/jupyter/shareddata/python-r-data-analysis/beers/recipeData.csv' |\n",
       "|  96 | PitchRate     | a double | N/A | '/m/jhnas/jupyter/shareddata/python-r-data-analysis/beers/recipeData.csv' |\n",
       "|  96 | PrimaryTemp   | a double | N/A | '/m/jhnas/jupyter/shareddata/python-r-data-analysis/beers/recipeData.csv' |\n",
       "|  97 | PitchRate     | a double | N/A | '/m/jhnas/jupyter/shareddata/python-r-data-analysis/beers/recipeData.csv' |\n",
       "|  97 | PrimaryTemp   | a double | N/A | '/m/jhnas/jupyter/shareddata/python-r-data-analysis/beers/recipeData.csv' |\n",
       "|  98 | MashThickness | a double | N/A | '/m/jhnas/jupyter/shareddata/python-r-data-analysis/beers/recipeData.csv' |\n",
       "|  98 | PitchRate     | a double | N/A | '/m/jhnas/jupyter/shareddata/python-r-data-analysis/beers/recipeData.csv' |\n",
       "|  98 | PrimaryTemp   | a double | N/A | '/m/jhnas/jupyter/shareddata/python-r-data-analysis/beers/recipeData.csv' |\n",
       "| 100 | BoilGravity   | a double | N/A | '/m/jhnas/jupyter/shareddata/python-r-data-analysis/beers/recipeData.csv' |\n",
       "| 100 | MashThickness | a double | N/A | '/m/jhnas/jupyter/shareddata/python-r-data-analysis/beers/recipeData.csv' |\n",
       "| 100 | PitchRate     | a double | N/A | '/m/jhnas/jupyter/shareddata/python-r-data-analysis/beers/recipeData.csv' |\n",
       "| 100 | PrimaryTemp   | a double | N/A | '/m/jhnas/jupyter/shareddata/python-r-data-analysis/beers/recipeData.csv' |\n",
       "\n"
      ],
      "text/plain": [
       "    row col           expected actual\n",
       "1    1  MashThickness a double N/A   \n",
       "2    1  PitchRate     a double N/A   \n",
       "3    2  MashThickness a double N/A   \n",
       "4    2  PitchRate     a double N/A   \n",
       "5    2  PrimaryTemp   a double N/A   \n",
       "6    3  BoilGravity   a double N/A   \n",
       "7    3  MashThickness a double N/A   \n",
       "8    3  PitchRate     a double N/A   \n",
       "9    3  PrimaryTemp   a double N/A   \n",
       "10   4  BoilGravity   a double N/A   \n",
       "11   4  MashThickness a double N/A   \n",
       "12   4  PitchRate     a double N/A   \n",
       "13   4  PrimaryTemp   a double N/A   \n",
       "14   5  MashThickness a double N/A   \n",
       "15   5  PitchRate     a double N/A   \n",
       "16   6  MashThickness a double N/A   \n",
       "17   6  PrimaryTemp   a double N/A   \n",
       "18   7  BoilGravity   a double N/A   \n",
       "19   7  MashThickness a double N/A   \n",
       "20   7  PitchRate     a double N/A   \n",
       "21   7  PrimaryTemp   a double N/A   \n",
       "22   8  PitchRate     a double N/A   \n",
       "23   8  PrimaryTemp   a double N/A   \n",
       "24   9  MashThickness a double N/A   \n",
       "25   9  PitchRate     a double N/A   \n",
       "26   9  PrimaryTemp   a double N/A   \n",
       "27  10  MashThickness a double N/A   \n",
       "28  10  PitchRate     a double N/A   \n",
       "29  11  MashThickness a double N/A   \n",
       "30  12  BoilGravity   a double N/A   \n",
       "⋮   ⋮   ⋮             ⋮        ⋮     \n",
       "179  88 MashThickness a double N/A   \n",
       "180  88 PitchRate     a double N/A   \n",
       "181  88 PrimaryTemp   a double N/A   \n",
       "182  89 MashThickness a double N/A   \n",
       "183  89 PitchRate     a double N/A   \n",
       "184  90 BoilGravity   a double N/A   \n",
       "185  90 MashThickness a double N/A   \n",
       "186  90 PitchRate     a double N/A   \n",
       "187  90 PrimaryTemp   a double N/A   \n",
       "188  91 BoilGravity   a double N/A   \n",
       "189  91 MashThickness a double N/A   \n",
       "190  92 MashThickness a double N/A   \n",
       "191  92 PitchRate     a double N/A   \n",
       "192  93 BoilGravity   a double N/A   \n",
       "193  93 MashThickness a double N/A   \n",
       "194  93 PitchRate     a double N/A   \n",
       "195  93 PrimaryTemp   a double N/A   \n",
       "196  96 BoilGravity   a double N/A   \n",
       "197  96 MashThickness a double N/A   \n",
       "198  96 PitchRate     a double N/A   \n",
       "199  96 PrimaryTemp   a double N/A   \n",
       "200  97 PitchRate     a double N/A   \n",
       "201  97 PrimaryTemp   a double N/A   \n",
       "202  98 MashThickness a double N/A   \n",
       "203  98 PitchRate     a double N/A   \n",
       "204  98 PrimaryTemp   a double N/A   \n",
       "205 100 BoilGravity   a double N/A   \n",
       "206 100 MashThickness a double N/A   \n",
       "207 100 PitchRate     a double N/A   \n",
       "208 100 PrimaryTemp   a double N/A   \n",
       "    file                                                                     \n",
       "1   '/m/jhnas/jupyter/shareddata/python-r-data-analysis/beers/recipeData.csv'\n",
       "2   '/m/jhnas/jupyter/shareddata/python-r-data-analysis/beers/recipeData.csv'\n",
       "3   '/m/jhnas/jupyter/shareddata/python-r-data-analysis/beers/recipeData.csv'\n",
       "4   '/m/jhnas/jupyter/shareddata/python-r-data-analysis/beers/recipeData.csv'\n",
       "5   '/m/jhnas/jupyter/shareddata/python-r-data-analysis/beers/recipeData.csv'\n",
       "6   '/m/jhnas/jupyter/shareddata/python-r-data-analysis/beers/recipeData.csv'\n",
       "7   '/m/jhnas/jupyter/shareddata/python-r-data-analysis/beers/recipeData.csv'\n",
       "8   '/m/jhnas/jupyter/shareddata/python-r-data-analysis/beers/recipeData.csv'\n",
       "9   '/m/jhnas/jupyter/shareddata/python-r-data-analysis/beers/recipeData.csv'\n",
       "10  '/m/jhnas/jupyter/shareddata/python-r-data-analysis/beers/recipeData.csv'\n",
       "11  '/m/jhnas/jupyter/shareddata/python-r-data-analysis/beers/recipeData.csv'\n",
       "12  '/m/jhnas/jupyter/shareddata/python-r-data-analysis/beers/recipeData.csv'\n",
       "13  '/m/jhnas/jupyter/shareddata/python-r-data-analysis/beers/recipeData.csv'\n",
       "14  '/m/jhnas/jupyter/shareddata/python-r-data-analysis/beers/recipeData.csv'\n",
       "15  '/m/jhnas/jupyter/shareddata/python-r-data-analysis/beers/recipeData.csv'\n",
       "16  '/m/jhnas/jupyter/shareddata/python-r-data-analysis/beers/recipeData.csv'\n",
       "17  '/m/jhnas/jupyter/shareddata/python-r-data-analysis/beers/recipeData.csv'\n",
       "18  '/m/jhnas/jupyter/shareddata/python-r-data-analysis/beers/recipeData.csv'\n",
       "19  '/m/jhnas/jupyter/shareddata/python-r-data-analysis/beers/recipeData.csv'\n",
       "20  '/m/jhnas/jupyter/shareddata/python-r-data-analysis/beers/recipeData.csv'\n",
       "21  '/m/jhnas/jupyter/shareddata/python-r-data-analysis/beers/recipeData.csv'\n",
       "22  '/m/jhnas/jupyter/shareddata/python-r-data-analysis/beers/recipeData.csv'\n",
       "23  '/m/jhnas/jupyter/shareddata/python-r-data-analysis/beers/recipeData.csv'\n",
       "24  '/m/jhnas/jupyter/shareddata/python-r-data-analysis/beers/recipeData.csv'\n",
       "25  '/m/jhnas/jupyter/shareddata/python-r-data-analysis/beers/recipeData.csv'\n",
       "26  '/m/jhnas/jupyter/shareddata/python-r-data-analysis/beers/recipeData.csv'\n",
       "27  '/m/jhnas/jupyter/shareddata/python-r-data-analysis/beers/recipeData.csv'\n",
       "28  '/m/jhnas/jupyter/shareddata/python-r-data-analysis/beers/recipeData.csv'\n",
       "29  '/m/jhnas/jupyter/shareddata/python-r-data-analysis/beers/recipeData.csv'\n",
       "30  '/m/jhnas/jupyter/shareddata/python-r-data-analysis/beers/recipeData.csv'\n",
       "⋮   ⋮                                                                        \n",
       "179 '/m/jhnas/jupyter/shareddata/python-r-data-analysis/beers/recipeData.csv'\n",
       "180 '/m/jhnas/jupyter/shareddata/python-r-data-analysis/beers/recipeData.csv'\n",
       "181 '/m/jhnas/jupyter/shareddata/python-r-data-analysis/beers/recipeData.csv'\n",
       "182 '/m/jhnas/jupyter/shareddata/python-r-data-analysis/beers/recipeData.csv'\n",
       "183 '/m/jhnas/jupyter/shareddata/python-r-data-analysis/beers/recipeData.csv'\n",
       "184 '/m/jhnas/jupyter/shareddata/python-r-data-analysis/beers/recipeData.csv'\n",
       "185 '/m/jhnas/jupyter/shareddata/python-r-data-analysis/beers/recipeData.csv'\n",
       "186 '/m/jhnas/jupyter/shareddata/python-r-data-analysis/beers/recipeData.csv'\n",
       "187 '/m/jhnas/jupyter/shareddata/python-r-data-analysis/beers/recipeData.csv'\n",
       "188 '/m/jhnas/jupyter/shareddata/python-r-data-analysis/beers/recipeData.csv'\n",
       "189 '/m/jhnas/jupyter/shareddata/python-r-data-analysis/beers/recipeData.csv'\n",
       "190 '/m/jhnas/jupyter/shareddata/python-r-data-analysis/beers/recipeData.csv'\n",
       "191 '/m/jhnas/jupyter/shareddata/python-r-data-analysis/beers/recipeData.csv'\n",
       "192 '/m/jhnas/jupyter/shareddata/python-r-data-analysis/beers/recipeData.csv'\n",
       "193 '/m/jhnas/jupyter/shareddata/python-r-data-analysis/beers/recipeData.csv'\n",
       "194 '/m/jhnas/jupyter/shareddata/python-r-data-analysis/beers/recipeData.csv'\n",
       "195 '/m/jhnas/jupyter/shareddata/python-r-data-analysis/beers/recipeData.csv'\n",
       "196 '/m/jhnas/jupyter/shareddata/python-r-data-analysis/beers/recipeData.csv'\n",
       "197 '/m/jhnas/jupyter/shareddata/python-r-data-analysis/beers/recipeData.csv'\n",
       "198 '/m/jhnas/jupyter/shareddata/python-r-data-analysis/beers/recipeData.csv'\n",
       "199 '/m/jhnas/jupyter/shareddata/python-r-data-analysis/beers/recipeData.csv'\n",
       "200 '/m/jhnas/jupyter/shareddata/python-r-data-analysis/beers/recipeData.csv'\n",
       "201 '/m/jhnas/jupyter/shareddata/python-r-data-analysis/beers/recipeData.csv'\n",
       "202 '/m/jhnas/jupyter/shareddata/python-r-data-analysis/beers/recipeData.csv'\n",
       "203 '/m/jhnas/jupyter/shareddata/python-r-data-analysis/beers/recipeData.csv'\n",
       "204 '/m/jhnas/jupyter/shareddata/python-r-data-analysis/beers/recipeData.csv'\n",
       "205 '/m/jhnas/jupyter/shareddata/python-r-data-analysis/beers/recipeData.csv'\n",
       "206 '/m/jhnas/jupyter/shareddata/python-r-data-analysis/beers/recipeData.csv'\n",
       "207 '/m/jhnas/jupyter/shareddata/python-r-data-analysis/beers/recipeData.csv'\n",
       "208 '/m/jhnas/jupyter/shareddata/python-r-data-analysis/beers/recipeData.csv'"
      ]
     },
     "metadata": {},
     "output_type": "display_data"
    }
   ],
   "source": [
    "problems(beer_recipes)"
   ]
  },
  {
   "cell_type": "markdown",
   "metadata": {},
   "source": [
    "Most of the problems seem to be related to _N/A_ not being a recognized name for `NA`. Let's add that to the initial read call with `na`-argument. "
   ]
  },
  {
   "cell_type": "code",
   "execution_count": 6,
   "metadata": {},
   "outputs": [
    {
     "name": "stderr",
     "output_type": "stream",
     "text": [
      "Parsed with column specification:\n",
      "cols(\n",
      "  .default = col_double(),\n",
      "  Name = \u001b[31mcol_character()\u001b[39m,\n",
      "  URL = \u001b[31mcol_character()\u001b[39m,\n",
      "  Style = \u001b[31mcol_character()\u001b[39m,\n",
      "  SugarScale = \u001b[31mcol_character()\u001b[39m,\n",
      "  BrewMethod = \u001b[31mcol_character()\u001b[39m,\n",
      "  PrimingMethod = \u001b[31mcol_character()\u001b[39m,\n",
      "  PrimingAmount = \u001b[31mcol_character()\u001b[39m\n",
      ")\n",
      "\n",
      "See spec(...) for full column specifications.\n",
      "\n"
     ]
    },
    {
     "data": {
      "text/plain": [
       "cols(\n",
       "  BeerID = \u001b[32mcol_double()\u001b[39m,\n",
       "  Name = \u001b[31mcol_character()\u001b[39m,\n",
       "  URL = \u001b[31mcol_character()\u001b[39m,\n",
       "  Style = \u001b[31mcol_character()\u001b[39m,\n",
       "  StyleID = \u001b[32mcol_double()\u001b[39m,\n",
       "  `Size(L)` = \u001b[32mcol_double()\u001b[39m,\n",
       "  OG = \u001b[32mcol_double()\u001b[39m,\n",
       "  FG = \u001b[32mcol_double()\u001b[39m,\n",
       "  ABV = \u001b[32mcol_double()\u001b[39m,\n",
       "  IBU = \u001b[32mcol_double()\u001b[39m,\n",
       "  Color = \u001b[32mcol_double()\u001b[39m,\n",
       "  BoilSize = \u001b[32mcol_double()\u001b[39m,\n",
       "  BoilTime = \u001b[32mcol_double()\u001b[39m,\n",
       "  BoilGravity = \u001b[32mcol_double()\u001b[39m,\n",
       "  Efficiency = \u001b[32mcol_double()\u001b[39m,\n",
       "  MashThickness = \u001b[32mcol_double()\u001b[39m,\n",
       "  SugarScale = \u001b[31mcol_character()\u001b[39m,\n",
       "  BrewMethod = \u001b[31mcol_character()\u001b[39m,\n",
       "  PitchRate = \u001b[32mcol_double()\u001b[39m,\n",
       "  PrimaryTemp = \u001b[32mcol_double()\u001b[39m,\n",
       "  PrimingMethod = \u001b[31mcol_character()\u001b[39m,\n",
       "  PrimingAmount = \u001b[31mcol_character()\u001b[39m\n",
       ")"
      ]
     },
     "metadata": {},
     "output_type": "display_data"
    }
   ],
   "source": [
    "beer_recipes <- read_csv(\"/m/jhnas/jupyter/shareddata/python-r-data-analysis/beers/recipeData.csv\",na=c(\"\",\"NA\",\"N/A\"), n_max=100)\n",
    "\n",
    "spec(beer_recipes)"
   ]
  },
  {
   "cell_type": "markdown",
   "metadata": {},
   "source": [
    "Now most of the columns seem correct. Last column seems to include units (_oz_). Using mutate is probably easiest way of getting rid of them.\n",
    "\n",
    "Let' use `str_remove` to remove it  [[str_remove]](https://stringr.tidyverse.org/reference/str_remove.html).\n",
    "\n",
    "After that we can convert the column to double and use `str` to check that our dataset looks fine."
   ]
  },
  {
   "cell_type": "code",
   "execution_count": 7,
   "metadata": {},
   "outputs": [
    {
     "name": "stderr",
     "output_type": "stream",
     "text": [
      "Warning message in rlang::eval_tidy(~as.double(str_remove(PrimingAmount, \" oz\")), :\n",
      "“NAs introduced by coercion”\n"
     ]
    },
    {
     "name": "stdout",
     "output_type": "stream",
     "text": [
      "Classes ‘spec_tbl_df’, ‘tbl_df’, ‘tbl’ and 'data.frame':\t100 obs. of  22 variables:\n",
      " $ BeerID       : num  1 2 3 4 5 6 7 8 9 10 ...\n",
      " $ Name         : chr  \"Vanilla Cream Ale\" \"Southern Tier Pumking clone\" \"Zombie Dust Clone - EXTRACT\" \"Zombie Dust Clone - ALL GRAIN\" ...\n",
      " $ URL          : chr  \"/homebrew/recipe/view/1633/vanilla-cream-ale\" \"/homebrew/recipe/view/16367/southern-tier-pumking-clone\" \"/homebrew/recipe/view/5920/zombie-dust-clone-extract\" \"/homebrew/recipe/view/5916/zombie-dust-clone-all-grain\" ...\n",
      " $ Style        : chr  \"Cream Ale\" \"Holiday/Winter Special Spiced Beer\" \"American IPA\" \"American IPA\" ...\n",
      " $ StyleID      : num  45 85 7 7 20 10 86 45 129 86 ...\n",
      " $ Size(L)      : num  21.8 20.8 18.9 22.7 50 ...\n",
      " $ OG           : num  1.05 1.08 1.06 1.06 1.06 ...\n",
      " $ FG           : num  1.01 1.02 1.02 1.02 1.01 ...\n",
      " $ ABV          : num  5.48 8.16 5.91 5.8 6.48 5.58 7.09 5.36 5.77 8.22 ...\n",
      " $ IBU          : num  17.6 60.6 59.2 54.5 17.8 ...\n",
      " $ Color        : num  4.83 15.64 8.98 8.5 4.57 ...\n",
      " $ BoilSize     : num  28.4 24.6 22.7 26.5 60 ...\n",
      " $ BoilTime     : num  75 60 60 60 90 70 90 75 75 60 ...\n",
      " $ BoilGravity  : num  1.04 1.07 NA NA 1.05 ...\n",
      " $ Efficiency   : num  70 70 70 70 72 79 75 70 73 70 ...\n",
      " $ MashThickness: num  NA NA NA NA NA NA NA 1.4 NA NA ...\n",
      " $ SugarScale   : chr  \"Specific Gravity\" \"Specific Gravity\" \"Specific Gravity\" \"Specific Gravity\" ...\n",
      " $ BrewMethod   : chr  \"All Grain\" \"All Grain\" \"extract\" \"All Grain\" ...\n",
      " $ PitchRate    : num  NA NA NA NA NA 1 NA NA NA NA ...\n",
      " $ PrimaryTemp  : num  17.8 NA NA NA 19 ...\n",
      " $ PrimingMethod: chr  \"corn sugar\" NA NA NA ...\n",
      " $ PrimingAmount: num  4.5 NA NA NA NA NA NA 4.2 4 NA ...\n"
     ]
    }
   ],
   "source": [
    "beer_recipes <- beer_recipes %>%\n",
    "    mutate(PrimingAmount=as.double(str_remove(PrimingAmount, ' oz')))\n",
    "\n",
    "str(beer_recipes)"
   ]
  },
  {
   "cell_type": "markdown",
   "metadata": {},
   "source": [
    "Now that we know that the data will be read in the correct format, we can load the full dataset:"
   ]
  },
  {
   "cell_type": "code",
   "execution_count": 8,
   "metadata": {},
   "outputs": [
    {
     "name": "stderr",
     "output_type": "stream",
     "text": [
      "Parsed with column specification:\n",
      "cols(\n",
      "  .default = col_double(),\n",
      "  Name = \u001b[31mcol_character()\u001b[39m,\n",
      "  URL = \u001b[31mcol_character()\u001b[39m,\n",
      "  Style = \u001b[31mcol_character()\u001b[39m,\n",
      "  SugarScale = \u001b[31mcol_character()\u001b[39m,\n",
      "  BrewMethod = \u001b[31mcol_character()\u001b[39m,\n",
      "  PrimingMethod = \u001b[31mcol_character()\u001b[39m,\n",
      "  PrimingAmount = \u001b[31mcol_character()\u001b[39m\n",
      ")\n",
      "\n",
      "See spec(...) for full column specifications.\n",
      "\n",
      "Warning message in rlang::eval_tidy(~as.double(str_remove(PrimingAmount, \" oz\")), :\n",
      "“NAs introduced by coercion”\n"
     ]
    },
    {
     "name": "stdout",
     "output_type": "stream",
     "text": [
      "Classes ‘spec_tbl_df’, ‘tbl_df’, ‘tbl’ and 'data.frame':\t73861 obs. of  22 variables:\n",
      " $ BeerID       : num  1 2 3 4 5 6 7 8 9 10 ...\n",
      " $ Name         : chr  \"Vanilla Cream Ale\" \"Southern Tier Pumking clone\" \"Zombie Dust Clone - EXTRACT\" \"Zombie Dust Clone - ALL GRAIN\" ...\n",
      " $ URL          : chr  \"/homebrew/recipe/view/1633/vanilla-cream-ale\" \"/homebrew/recipe/view/16367/southern-tier-pumking-clone\" \"/homebrew/recipe/view/5920/zombie-dust-clone-extract\" \"/homebrew/recipe/view/5916/zombie-dust-clone-all-grain\" ...\n",
      " $ Style        : chr  \"Cream Ale\" \"Holiday/Winter Special Spiced Beer\" \"American IPA\" \"American IPA\" ...\n",
      " $ StyleID      : num  45 85 7 7 20 10 86 45 129 86 ...\n",
      " $ Size(L)      : num  21.8 20.8 18.9 22.7 50 ...\n",
      " $ OG           : num  1.05 1.08 1.06 1.06 1.06 ...\n",
      " $ FG           : num  1.01 1.02 1.02 1.02 1.01 ...\n",
      " $ ABV          : num  5.48 8.16 5.91 5.8 6.48 5.58 7.09 5.36 5.77 8.22 ...\n",
      " $ IBU          : num  17.6 60.6 59.2 54.5 17.8 ...\n",
      " $ Color        : num  4.83 15.64 8.98 8.5 4.57 ...\n",
      " $ BoilSize     : num  28.4 24.6 22.7 26.5 60 ...\n",
      " $ BoilTime     : num  75 60 60 60 90 70 90 75 75 60 ...\n",
      " $ BoilGravity  : num  1.04 1.07 NA NA 1.05 ...\n",
      " $ Efficiency   : num  70 70 70 70 72 79 75 70 73 70 ...\n",
      " $ MashThickness: num  NA NA NA NA NA NA NA 1.4 NA NA ...\n",
      " $ SugarScale   : chr  \"Specific Gravity\" \"Specific Gravity\" \"Specific Gravity\" \"Specific Gravity\" ...\n",
      " $ BrewMethod   : chr  \"All Grain\" \"All Grain\" \"extract\" \"All Grain\" ...\n",
      " $ PitchRate    : num  NA NA NA NA NA 1 NA NA NA NA ...\n",
      " $ PrimaryTemp  : num  17.8 NA NA NA 19 ...\n",
      " $ PrimingMethod: chr  \"corn sugar\" NA NA NA ...\n",
      " $ PrimingAmount: num  4.5 NA NA NA NA NA NA 4.2 4 NA ...\n"
     ]
    }
   ],
   "source": [
    "beer_recipes <- read_csv(\"/m/jhnas/jupyter/shareddata/python-r-data-analysis/beers/recipeData.csv\",na=c(\"\",\"NA\",\"N/A\")) %>%\n",
    "    mutate(PrimingAmount=as.double(str_remove(PrimingAmount, ' oz')))\n",
    "\n",
    "str(beer_recipes)"
   ]
  },
  {
   "cell_type": "markdown",
   "metadata": {},
   "source": [
    "# Storing data\n",
    "\n",
    "## CSV"
   ]
  },
  {
   "cell_type": "markdown",
   "metadata": {},
   "source": [
    "Let's say that we want to write the resulting `tibble` in a CSV so that we can share it with other researchers in a simple format.\n",
    "\n",
    "For this we'd want to use `write_csv` [[write_csv]](http://readr.tidyverse.org/reference/write_delim.html).  "
   ]
  },
  {
   "cell_type": "code",
   "execution_count": 9,
   "metadata": {},
   "outputs": [],
   "source": [
    "write_csv(beer_recipes, 'beer-recipes.csv')"
   ]
  },
  {
   "cell_type": "markdown",
   "metadata": {},
   "source": [
    "# Feather\n",
    "\n",
    "Let's say you have a big dataset you have pre-processed with R, but want to analyze with Python. The new feather-format that uses Apache Arrow's data specification is created by the creators of Tidy-R and Pandas and it should be interoprable with both of them [[feather's page in Github]](https://github.com/wesm/feather).\n",
    "\n",
    "What matters the most is that it is fast and compact (because it is a binary data format).\n",
    "\n",
    "Using it is simple, just load `feather`-library an write data with `write_feather` [[write_feather]](https://cran.r-project.org/web/packages/feather/feather.pdf).\n",
    "\n",
    "Loading data is done with `read_feather`.\n",
    "\n",
    "Do note that more complex structures like nested tibbles do not necessarily fit into a feather.\n",
    "\n",
    "Let's install `feather`:"
   ]
  },
  {
   "cell_type": "code",
   "execution_count": 10,
   "metadata": {},
   "outputs": [],
   "source": [
    "if (!file.exists('rlibs')) {\n",
    "    dir.create('rlibs')\n",
    "}\n",
    "if (!file.exists('rlibs/feather')) {\n",
    "    install.packages('feather', repos=\"http://cran.r-project.org\", lib='rlibs')\n",
    "}\n",
    "library(feather, lib.loc='rlibs')"
   ]
  },
  {
   "cell_type": "code",
   "execution_count": 11,
   "metadata": {},
   "outputs": [],
   "source": [
    "write_feather(beer_recipes,'beer_recipes.feather')\n",
    "\n",
    "beer_recipes2 <- read_feather('beer_recipes.feather')"
   ]
  },
  {
   "cell_type": "code",
   "execution_count": 12,
   "metadata": {},
   "outputs": [
    {
     "data": {
      "text/html": [
       "'LC_CTYPE=C;LC_NUMERIC=C;LC_TIME=C;LC_COLLATE=C;LC_MONETARY=C;LC_MESSAGES=en_US.UTF-8;LC_PAPER=en_US.UTF-8;LC_NAME=C;LC_ADDRESS=C;LC_TELEPHONE=C;LC_MEASUREMENT=en_US.UTF-8;LC_IDENTIFICATION=C'"
      ],
      "text/latex": [
       "'LC\\_CTYPE=C;LC\\_NUMERIC=C;LC\\_TIME=C;LC\\_COLLATE=C;LC\\_MONETARY=C;LC\\_MESSAGES=en\\_US.UTF-8;LC\\_PAPER=en\\_US.UTF-8;LC\\_NAME=C;LC\\_ADDRESS=C;LC\\_TELEPHONE=C;LC\\_MEASUREMENT=en\\_US.UTF-8;LC\\_IDENTIFICATION=C'"
      ],
      "text/markdown": [
       "'LC_CTYPE=C;LC_NUMERIC=C;LC_TIME=C;LC_COLLATE=C;LC_MONETARY=C;LC_MESSAGES=en_US.UTF-8;LC_PAPER=en_US.UTF-8;LC_NAME=C;LC_ADDRESS=C;LC_TELEPHONE=C;LC_MEASUREMENT=en_US.UTF-8;LC_IDENTIFICATION=C'"
      ],
      "text/plain": [
       "[1] \"LC_CTYPE=C;LC_NUMERIC=C;LC_TIME=C;LC_COLLATE=C;LC_MONETARY=C;LC_MESSAGES=en_US.UTF-8;LC_PAPER=en_US.UTF-8;LC_NAME=C;LC_ADDRESS=C;LC_TELEPHONE=C;LC_MEASUREMENT=en_US.UTF-8;LC_IDENTIFICATION=C\""
      ]
     },
     "metadata": {},
     "output_type": "display_data"
    },
    {
     "data": {
      "text/html": [
       "<table>\n",
       "<caption>A tibble: 73861 × 22</caption>\n",
       "<thead>\n",
       "\t<tr><th scope=col>BeerID</th><th scope=col>Name</th><th scope=col>URL</th><th scope=col>Style</th><th scope=col>StyleID</th><th scope=col>Size(L)</th><th scope=col>OG</th><th scope=col>FG</th><th scope=col>ABV</th><th scope=col>IBU</th><th scope=col>⋯</th><th scope=col>BoilTime</th><th scope=col>BoilGravity</th><th scope=col>Efficiency</th><th scope=col>MashThickness</th><th scope=col>SugarScale</th><th scope=col>BrewMethod</th><th scope=col>PitchRate</th><th scope=col>PrimaryTemp</th><th scope=col>PrimingMethod</th><th scope=col>PrimingAmount</th></tr>\n",
       "\t<tr><th scope=col>&lt;dbl&gt;</th><th scope=col>&lt;chr&gt;</th><th scope=col>&lt;chr&gt;</th><th scope=col>&lt;chr&gt;</th><th scope=col>&lt;dbl&gt;</th><th scope=col>&lt;dbl&gt;</th><th scope=col>&lt;dbl&gt;</th><th scope=col>&lt;dbl&gt;</th><th scope=col>&lt;dbl&gt;</th><th scope=col>&lt;dbl&gt;</th><th scope=col>⋯</th><th scope=col>&lt;dbl&gt;</th><th scope=col>&lt;dbl&gt;</th><th scope=col>&lt;dbl&gt;</th><th scope=col>&lt;dbl&gt;</th><th scope=col>&lt;chr&gt;</th><th scope=col>&lt;chr&gt;</th><th scope=col>&lt;dbl&gt;</th><th scope=col>&lt;dbl&gt;</th><th scope=col>&lt;chr&gt;</th><th scope=col>&lt;dbl&gt;</th></tr>\n",
       "</thead>\n",
       "<tbody>\n",
       "\t<tr><td> 1</td><td>Vanilla Cream Ale                           </td><td>/homebrew/recipe/view/1633/vanilla-cream-ale                         </td><td>Cream Ale                         </td><td> 45</td><td>21.77</td><td>1.055</td><td>1.013</td><td>5.48</td><td> 17.65</td><td>⋯</td><td>75</td><td>1.038</td><td>70</td><td>  NA</td><td>Specific Gravity</td><td>All Grain</td><td>  NA</td><td>17.78</td><td>corn sugar       </td><td>4.5</td></tr>\n",
       "\t<tr><td> 2</td><td>Southern Tier Pumking clone                 </td><td>/homebrew/recipe/view/16367/southern-tier-pumking-clone              </td><td>Holiday/Winter Special Spiced Beer</td><td> 85</td><td>20.82</td><td>1.083</td><td>1.021</td><td>8.16</td><td> 60.65</td><td>⋯</td><td>60</td><td>1.070</td><td>70</td><td>  NA</td><td>Specific Gravity</td><td>All Grain</td><td>  NA</td><td>   NA</td><td>NA               </td><td> NA</td></tr>\n",
       "\t<tr><td> 3</td><td>Zombie Dust Clone - EXTRACT                 </td><td>/homebrew/recipe/view/5920/zombie-dust-clone-extract                 </td><td>American IPA                      </td><td>  7</td><td>18.93</td><td>1.063</td><td>1.018</td><td>5.91</td><td> 59.25</td><td>⋯</td><td>60</td><td>   NA</td><td>70</td><td>  NA</td><td>Specific Gravity</td><td>extract  </td><td>  NA</td><td>   NA</td><td>NA               </td><td> NA</td></tr>\n",
       "\t<tr><td> 4</td><td>Zombie Dust Clone - ALL GRAIN               </td><td>/homebrew/recipe/view/5916/zombie-dust-clone-all-grain               </td><td>American IPA                      </td><td>  7</td><td>22.71</td><td>1.061</td><td>1.017</td><td>5.80</td><td> 54.48</td><td>⋯</td><td>60</td><td>   NA</td><td>70</td><td>  NA</td><td>Specific Gravity</td><td>All Grain</td><td>  NA</td><td>   NA</td><td>NA               </td><td> NA</td></tr>\n",
       "\t<tr><td> 5</td><td>Bakke Brygg Belgisk Blonde 50 l             </td><td>/homebrew/recipe/view/89534/bakke-brygg-belgisk-blonde-50-l          </td><td>Belgian Blond Ale                 </td><td> 20</td><td>50.00</td><td>1.060</td><td>1.010</td><td>6.48</td><td> 17.84</td><td>⋯</td><td>90</td><td>1.050</td><td>72</td><td>  NA</td><td>Specific Gravity</td><td>All Grain</td><td>  NA</td><td>19.00</td><td>Sukkerlake       </td><td> NA</td></tr>\n",
       "\t<tr><td> 6</td><td>Sierra Nevada Pale Ale Clone                </td><td>/homebrew/recipe/view/28546/sierra-nevada-pale-ale-clone             </td><td>American Pale Ale                 </td><td> 10</td><td>24.61</td><td>1.055</td><td>1.013</td><td>5.58</td><td> 40.12</td><td>⋯</td><td>70</td><td>1.047</td><td>79</td><td>  NA</td><td>Specific Gravity</td><td>All Grain</td><td>1.00</td><td>   NA</td><td>NA               </td><td> NA</td></tr>\n",
       "\t<tr><td> 7</td><td>Russian River Pliny the Elder (original)    </td><td>/homebrew/recipe/view/37534/russian-river-pliny-the-elder-original-  </td><td>Imperial IPA                      </td><td> 86</td><td>22.71</td><td>1.072</td><td>1.018</td><td>7.09</td><td>268.71</td><td>⋯</td><td>90</td><td>   NA</td><td>75</td><td>  NA</td><td>Specific Gravity</td><td>All Grain</td><td>  NA</td><td>   NA</td><td>NA               </td><td> NA</td></tr>\n",
       "\t<tr><td> 8</td><td>Spotted Clown (New Glarus Spotted Cow clone)</td><td>/homebrew/recipe/view/672/spotted-clown-new-glarus-spotted-cow-clone-</td><td>Cream Ale                         </td><td> 45</td><td>20.82</td><td>1.054</td><td>1.014</td><td>5.36</td><td> 19.97</td><td>⋯</td><td>75</td><td>1.040</td><td>70</td><td>1.40</td><td>Specific Gravity</td><td>All Grain</td><td>  NA</td><td>   NA</td><td>corn sugar       </td><td>4.2</td></tr>\n",
       "\t<tr><td> 9</td><td>Chocolate Vanilla Porter                    </td><td>/homebrew/recipe/view/29265/chocolate-vanilla-porter                 </td><td>Robust Porter                     </td><td>129</td><td>22.71</td><td>1.060</td><td>1.016</td><td>5.77</td><td> 31.63</td><td>⋯</td><td>75</td><td>1.042</td><td>73</td><td>  NA</td><td>Specific Gravity</td><td>All Grain</td><td>  NA</td><td>   NA</td><td>corn sugar       </td><td>4.0</td></tr>\n",
       "\t<tr><td>10</td><td>Mango Habanero IPA                          </td><td>/homebrew/recipe/view/61082/mango-habanero-ipa                       </td><td>Imperial IPA                      </td><td> 86</td><td>20.82</td><td>1.080</td><td>1.017</td><td>8.22</td><td> 93.02</td><td>⋯</td><td>60</td><td>1.058</td><td>70</td><td>  NA</td><td>Specific Gravity</td><td>All Grain</td><td>  NA</td><td>21.11</td><td>Corn Sugar       </td><td> NA</td></tr>\n",
       "\t<tr><td>11</td><td>Bakke Brygg HveteIPA 25 L                   </td><td>/homebrew/recipe/view/73890/bakke-brygg-hveteipa-25-l                </td><td>American IPA                      </td><td>  7</td><td>25.00</td><td>1.064</td><td>1.014</td><td>6.63</td><td> 64.26</td><td>⋯</td><td>90</td><td>1.055</td><td>74</td><td>  NA</td><td>Specific Gravity</td><td>All Grain</td><td>1.00</td><td>18.00</td><td>Sukkerlake       </td><td> NA</td></tr>\n",
       "\t<tr><td>12</td><td>Hop Notch Clone                             </td><td>/homebrew/recipe/view/10092/hop-notch-clone                          </td><td>American IPA                      </td><td>  7</td><td>15.14</td><td>1.066</td><td>1.015</td><td>6.62</td><td>111.00</td><td>⋯</td><td>90</td><td>   NA</td><td>70</td><td>  NA</td><td>Specific Gravity</td><td>BIAB     </td><td>  NA</td><td>   NA</td><td>NA               </td><td> NA</td></tr>\n",
       "\t<tr><td>13</td><td>Racer 5 IPA Clone                           </td><td>/homebrew/recipe/view/23246/racer-5-ipa-clone                        </td><td>American IPA                      </td><td>  7</td><td>20.82</td><td>1.073</td><td>1.019</td><td>7.07</td><td> 69.72</td><td>⋯</td><td>60</td><td>   NA</td><td>70</td><td>  NA</td><td>Specific Gravity</td><td>All Grain</td><td>  NA</td><td>   NA</td><td>NA               </td><td> NA</td></tr>\n",
       "\t<tr><td>14</td><td>Sam Adams Rebel IPA Clone                   </td><td>/homebrew/recipe/view/106996/sam-adams-rebel-ipa-clone               </td><td>American IPA                      </td><td>  7</td><td>18.93</td><td>1.066</td><td>1.017</td><td>6.51</td><td> 60.96</td><td>⋯</td><td>60</td><td>1.110</td><td>30</td><td>  NA</td><td>Specific Gravity</td><td>extract  </td><td>0.35</td><td>18.33</td><td>NA               </td><td> NA</td></tr>\n",
       "\t<tr><td>15</td><td>White IPA                                   </td><td>/homebrew/recipe/view/8361/white-ipa                                 </td><td>American IPA                      </td><td>  7</td><td>37.85</td><td>1.064</td><td>1.017</td><td>6.20</td><td> 64.67</td><td>⋯</td><td>60</td><td>1.071</td><td>70</td><td>1.20</td><td>Specific Gravity</td><td>All Grain</td><td>  NA</td><td>   NA</td><td>NA               </td><td> NA</td></tr>\n",
       "\t<tr><td>16</td><td>Pilsner Urquell BYO clone                   </td><td>/homebrew/recipe/view/3000/pilsner-urquell-byo-clone                 </td><td>Bohemian Pilsener                 </td><td> 31</td><td>41.64</td><td>1.051</td><td>1.013</td><td>4.92</td><td> 36.80</td><td>⋯</td><td>60</td><td>   NA</td><td>75</td><td>  NA</td><td>Specific Gravity</td><td>All Grain</td><td>  NA</td><td>   NA</td><td>NA               </td><td> NA</td></tr>\n",
       "\t<tr><td>17</td><td>Tank 7 Clone                                </td><td>/homebrew/recipe/view/23436/tank-7-clone                             </td><td>Saison                            </td><td>134</td><td>20.82</td><td>1.073</td><td>1.015</td><td>7.63</td><td> 44.94</td><td>⋯</td><td>60</td><td>1.054</td><td>70</td><td>  NA</td><td>Specific Gravity</td><td>BIAB     </td><td>  NA</td><td>   NA</td><td>Corn Sugar       </td><td> NA</td></tr>\n",
       "\t<tr><td>18</td><td>Bells two hearted clone                     </td><td>/homebrew/recipe/view/3837/bells-two-hearted-clone                   </td><td>American IPA                      </td><td>  7</td><td>20.82</td><td>1.073</td><td>1.018</td><td>7.14</td><td> 61.83</td><td>⋯</td><td>60</td><td>1.061</td><td>75</td><td>  NA</td><td>Specific Gravity</td><td>All Grain</td><td>0.75</td><td>18.33</td><td>NA               </td><td> NA</td></tr>\n",
       "\t<tr><td>19</td><td>New Glarus Fat Squirrel Clone               </td><td>/homebrew/recipe/view/1435/new-glarus-fat-squirrel-clone             </td><td>Northern English Brown            </td><td>113</td><td>20.82</td><td>1.046</td><td>1.010</td><td>4.61</td><td> 13.64</td><td>⋯</td><td>90</td><td>1.033</td><td>70</td><td>  NA</td><td>Specific Gravity</td><td>All Grain</td><td>  NA</td><td>16.67</td><td>Priming Sugar    </td><td> NA</td></tr>\n",
       "\t<tr><td>20</td><td>Avg. Perfect Northeast IPA (NEIPA)          </td><td>/homebrew/recipe/view/363082/avg-perfect-northeast-ipa-neipa-        </td><td>American IPA                      </td><td>  7</td><td>21.77</td><td>1.062</td><td>1.013</td><td>6.50</td><td> 53.30</td><td>⋯</td><td>60</td><td>1.048</td><td>70</td><td>1.25</td><td>Specific Gravity</td><td>All Grain</td><td>  NA</td><td>   NA</td><td>Keg - Force Carb.</td><td> NA</td></tr>\n",
       "\t<tr><td>21</td><td>Goose Island IPA Clone                      </td><td>/homebrew/recipe/view/28343/goose-island-ipa-clone                   </td><td>English IPA                       </td><td> 65</td><td>20.82</td><td>1.065</td><td>1.015</td><td>6.63</td><td> 55.52</td><td>⋯</td><td>60</td><td>1.048</td><td>75</td><td>1.50</td><td>Specific Gravity</td><td>All Grain</td><td>  NA</td><td>17.78</td><td>NA               </td><td> NA</td></tr>\n",
       "\t<tr><td>22</td><td>Ballast Point Sculpin Ale Clone             </td><td>/homebrew/recipe/view/89253/ballast-point-sculpin-ale-clone          </td><td>Imperial IPA                      </td><td> 86</td><td>45.42</td><td>1.084</td><td>1.020</td><td>8.43</td><td> 79.28</td><td>⋯</td><td>60</td><td>1.075</td><td>90</td><td>1.25</td><td>Specific Gravity</td><td>All Grain</td><td>1.00</td><td>20.56</td><td>NA               </td><td> NA</td></tr>\n",
       "\t<tr><td>23</td><td>Brooklyn Sorachi Ace                        </td><td>/homebrew/recipe/view/190892/brooklyn-sorachi-ace                    </td><td>Saison                            </td><td>134</td><td>18.93</td><td>1.082</td><td>1.013</td><td>9.10</td><td>  0.00</td><td>⋯</td><td>60</td><td>   NA</td><td>72</td><td>  NA</td><td>Specific Gravity</td><td>All Grain</td><td>  NA</td><td>   NA</td><td>NA               </td><td> NA</td></tr>\n",
       "\t<tr><td>24</td><td>Lagunitas IPA Clone                         </td><td>/homebrew/recipe/view/28344/lagunitas-ipa-clone                      </td><td>English IPA                       </td><td> 65</td><td>20.82</td><td>1.061</td><td>1.014</td><td>6.17</td><td> 56.65</td><td>⋯</td><td>60</td><td>1.045</td><td>75</td><td>  NA</td><td>Specific Gravity</td><td>All Grain</td><td>  NA</td><td>   NA</td><td>NA               </td><td> NA</td></tr>\n",
       "\t<tr><td>25</td><td>NEIPA Hoppy ( juicy) -  Braumeister 20L     </td><td>/homebrew/recipe/view/295897/neipa-hoppy-juicy-braumeister-20l       </td><td>American IPA                      </td><td>  7</td><td>21.00</td><td>1.062</td><td>1.014</td><td>6.29</td><td> 53.57</td><td>⋯</td><td>70</td><td>1.052</td><td>73</td><td>  NA</td><td>Specific Gravity</td><td>BIAB     </td><td>0.75</td><td>20.00</td><td>NA               </td><td> NA</td></tr>\n",
       "\t<tr><td>26</td><td>Dale's Pale Ale Clone                       </td><td>/homebrew/recipe/view/190430/dale-s-pale-ale-clone                   </td><td>American Pale Ale                 </td><td> 10</td><td>18.93</td><td>1.067</td><td>1.017</td><td>6.60</td><td>  0.00</td><td>⋯</td><td>60</td><td>   NA</td><td>75</td><td>  NA</td><td>Specific Gravity</td><td>All Grain</td><td>  NA</td><td>   NA</td><td>NA               </td><td> NA</td></tr>\n",
       "\t<tr><td>27</td><td>IPA - Tired Hands Milkshake                 </td><td>/homebrew/recipe/view/392896/ipa-tired-hands-milkshake               </td><td>American IPA                      </td><td>  7</td><td>24.61</td><td>1.058</td><td>1.017</td><td>5.34</td><td> 57.84</td><td>⋯</td><td>60</td><td>1.050</td><td>83</td><td>  NA</td><td>Specific Gravity</td><td>BIAB     </td><td>0.50</td><td>18.33</td><td>NA               </td><td> NA</td></tr>\n",
       "\t<tr><td>28</td><td>Bakke Brygg Julelager 20 l                  </td><td>/homebrew/recipe/view/73376/bakke-brygg-julelager-20-l               </td><td>Traditional Bock                  </td><td>163</td><td>20.00</td><td>1.065</td><td>1.018</td><td>6.22</td><td> 27.12</td><td>⋯</td><td>90</td><td>1.052</td><td>70</td><td>  NA</td><td>Specific Gravity</td><td>All Grain</td><td>  NA</td><td>10.00</td><td>Sukkerlake       </td><td> NA</td></tr>\n",
       "\t<tr><td>29</td><td>Grapefruit IPA                              </td><td>/homebrew/recipe/view/35541/grapefruit-ipa                           </td><td>American IPA                      </td><td>  7</td><td>26.50</td><td>1.052</td><td>1.012</td><td>5.31</td><td> 60.58</td><td>⋯</td><td>60</td><td>1.043</td><td>70</td><td>1.30</td><td>Specific Gravity</td><td>All Grain</td><td>0.75</td><td>20.56</td><td>NA               </td><td> NA</td></tr>\n",
       "\t<tr><td>30</td><td>Bakke Brygg Robust Porter 50 l              </td><td>/homebrew/recipe/view/73679/bakke-brygg-robust-porter-50-l           </td><td>Robust Porter                     </td><td>129</td><td>50.00</td><td>1.058</td><td>1.014</td><td>5.76</td><td> 39.00</td><td>⋯</td><td>60</td><td>1.050</td><td>71</td><td>  NA</td><td>Specific Gravity</td><td>All Grain</td><td>  NA</td><td>18.00</td><td>Sukkerlake       </td><td> NA</td></tr>\n",
       "\t<tr><td>⋮</td><td>⋮</td><td>⋮</td><td>⋮</td><td>⋮</td><td>⋮</td><td>⋮</td><td>⋮</td><td>⋮</td><td>⋮</td><td>⋱</td><td>⋮</td><td>⋮</td><td>⋮</td><td>⋮</td><td>⋮</td><td>⋮</td><td>⋮</td><td>⋮</td><td>⋮</td><td>⋮</td></tr>\n",
       "\t<tr><td>73832</td><td>SMASH do Caboclo               </td><td>/homebrew/recipe/view/620568/smash-do-caboclo               </td><td>American IPA             </td><td>  7</td><td> 21.00</td><td>1.047</td><td>1.005</td><td>5.58</td><td> 27.50</td><td>⋯</td><td>60</td><td>1.035</td><td>60</td><td>2.60</td><td>Specific Gravity</td><td>All Grain   </td><td>0.35</td><td>20.00</td><td>NA        </td><td>NA</td></tr>\n",
       "\t<tr><td>73833</td><td>Experimental Nordic Pine Saison</td><td>/homebrew/recipe/view/620846/experimental-nordic-pine-saison</td><td>Saison                   </td><td>134</td><td> 20.82</td><td>1.065</td><td>1.021</td><td>5.75</td><td> 91.60</td><td>⋯</td><td>60</td><td>1.048</td><td>70</td><td>1.50</td><td>Specific Gravity</td><td>All Grain   </td><td>  NA</td><td>   NA</td><td>NA        </td><td>NA</td></tr>\n",
       "\t<tr><td>73834</td><td>Cascade Cream Ale              </td><td>/homebrew/recipe/view/620852/cascade-cream-ale              </td><td>Cream Ale                </td><td> 45</td><td> 11.00</td><td>1.043</td><td>1.007</td><td>4.73</td><td> 18.72</td><td>⋯</td><td>60</td><td>1.034</td><td>65</td><td>  NA</td><td>Specific Gravity</td><td>BIAB        </td><td>0.75</td><td>20.00</td><td>Cane sugar</td><td>NA</td></tr>\n",
       "\t<tr><td>73835</td><td>Lobrau                         </td><td>/homebrew/recipe/view/620876/lobrau                         </td><td>British Golden Ale       </td><td> 35</td><td> 40.00</td><td>1.051</td><td>1.014</td><td>4.78</td><td> 42.34</td><td>⋯</td><td>60</td><td>1.044</td><td>65</td><td>3.00</td><td>Specific Gravity</td><td>All Grain   </td><td>1.25</td><td>20.00</td><td>NA        </td><td>NA</td></tr>\n",
       "\t<tr><td>73836</td><td>IPA                            </td><td>/homebrew/recipe/view/620878/ipa                            </td><td>American IPA             </td><td>  7</td><td> 25.00</td><td>1.060</td><td>1.011</td><td>6.34</td><td>  0.00</td><td>⋯</td><td>60</td><td>1.052</td><td>70</td><td>3.00</td><td>Specific Gravity</td><td>All Grain   </td><td>1.00</td><td>18.00</td><td>NA        </td><td>NA</td></tr>\n",
       "\t<tr><td>73837</td><td>CBR day                        </td><td>/homebrew/recipe/view/620886/cbr-day                        </td><td>Belgian Golden Strong Ale</td><td> 23</td><td> 21.00</td><td>1.063</td><td>1.016</td><td>6.23</td><td>  0.00</td><td>⋯</td><td>60</td><td>1.047</td><td>60</td><td>  NA</td><td>Specific Gravity</td><td>BIAB        </td><td>  NA</td><td>   NA</td><td>NA        </td><td>NA</td></tr>\n",
       "\t<tr><td>73838</td><td>Liberty Bay IPA                </td><td>/homebrew/recipe/view/620890/liberty-bay-ipa                </td><td>American IPA             </td><td>  7</td><td> 26.50</td><td>1.076</td><td>1.017</td><td>7.76</td><td> 92.36</td><td>⋯</td><td>60</td><td>1.071</td><td>70</td><td>1.25</td><td>Specific Gravity</td><td>All Grain   </td><td>  NA</td><td>   NA</td><td>NA        </td><td>NA</td></tr>\n",
       "\t<tr><td>73839</td><td><span style=white-space:pre-wrap>K&lt;U+001ACCE3&gt;h                 </span></td><td><span style=white-space:pre-wrap>/homebrew/recipe/view/620642/K&lt;U+001ACCE3&gt;h                 </span></td><td><span style=white-space:pre-wrap>K&lt;U+001ACCE3&gt;h           </span></td><td> 94</td><td> 30.28</td><td>1.050</td><td>1.012</td><td>4.89</td><td><span style=white-space:pre-wrap>  0.00</span></td><td>⋯</td><td>60</td><td>1.044</td><td>70</td><td>1.00</td><td>Specific Gravity</td><td><span style=white-space:pre-wrap>All Grain   </span></td><td>1.50</td><td><span style=white-space:pre-wrap>   NA</span></td><td>Corn Sugar</td><td>NA</td></tr>\n",
       "\t<tr><td>73840</td><td>NZ IPA                         </td><td>/homebrew/recipe/view/612208/nz-ipa                         </td><td>American IPA             </td><td>  7</td><td> 20.82</td><td>1.065</td><td>1.014</td><td>6.73</td><td> 43.04</td><td>⋯</td><td>60</td><td>1.055</td><td>73</td><td>1.50</td><td>Specific Gravity</td><td>All Grain   </td><td>  NA</td><td>20.00</td><td>NA        </td><td>NA</td></tr>\n",
       "\t<tr><td>73841</td><td>Red Cara Ale                   </td><td>/homebrew/recipe/view/620662/red-cara-ale                   </td><td>Irish Red Ale            </td><td> 92</td><td> 38.00</td><td>1.051</td><td>1.011</td><td>5.23</td><td> 10.27</td><td>⋯</td><td>60</td><td>1.055</td><td>70</td><td>3.10</td><td>Specific Gravity</td><td>All Grain   </td><td>0.50</td><td>20.00</td><td>NA        </td><td>NA</td></tr>\n",
       "\t<tr><td>73842</td><td>Braumeister IPA 200L           </td><td>/homebrew/recipe/view/620695/braumeister-ipa-200l           </td><td>American IPA             </td><td>  7</td><td>200.00</td><td>1.046</td><td>1.008</td><td>4.94</td><td>238.63</td><td>⋯</td><td>80</td><td>1.045</td><td>75</td><td>1.50</td><td>Specific Gravity</td><td>All Grain   </td><td>0.35</td><td>20.00</td><td>NA        </td><td>NA</td></tr>\n",
       "\t<tr><td>73843</td><td>1SES                           </td><td>/homebrew/recipe/view/620714/1ses                           </td><td>American Light Lager     </td><td>  9</td><td> 20.82</td><td>1.043</td><td>1.012</td><td>4.06</td><td> 32.39</td><td>⋯</td><td>60</td><td>1.033</td><td>72</td><td>  NA</td><td>Specific Gravity</td><td>BIAB        </td><td>  NA</td><td>   NA</td><td>NA        </td><td>NA</td></tr>\n",
       "\t<tr><td>73844</td><td><span style=white-space:pre-wrap>MARZEN                         </span></td><td><span style=white-space:pre-wrap>/homebrew/recipe/view/620734/marzen                         </span></td><td><span style=white-space:pre-wrap>M&lt;e4&gt;rzen                </span></td><td>102</td><td> 18.93</td><td>1.058</td><td>1.013</td><td>5.86</td><td> 23.56</td><td>⋯</td><td>60</td><td>1.041</td><td>65</td><td><span style=white-space:pre-wrap>  NA</span></td><td>Specific Gravity</td><td><span style=white-space:pre-wrap>BIAB        </span></td><td>1.75</td><td>10.00</td><td><span style=white-space:pre-wrap>NA        </span></td><td>NA</td></tr>\n",
       "\t<tr><td>73845</td><td>Easy pale ale                  </td><td>/homebrew/recipe/view/620737/easy-pale-ale                  </td><td>American Light Lager     </td><td>  9</td><td> 20.82</td><td>1.046</td><td>1.011</td><td>4.52</td><td>  0.00</td><td>⋯</td><td>60</td><td>1.034</td><td>70</td><td>1.50</td><td>Specific Gravity</td><td>All Grain   </td><td>  NA</td><td>   NA</td><td>NA        </td><td>NA</td></tr>\n",
       "\t<tr><td>73846</td><td>Sober as a Judge               </td><td>/homebrew/recipe/view/620757/sober-as-a-judge               </td><td>American IPA             </td><td>  7</td><td> 20.82</td><td>1.041</td><td>1.010</td><td>4.12</td><td> 46.83</td><td>⋯</td><td>60</td><td>1.035</td><td>68</td><td>1.50</td><td>Specific Gravity</td><td>All Grain   </td><td>0.50</td><td>21.11</td><td>NA        </td><td>NA</td></tr>\n",
       "\t<tr><td>73847</td><td>Awesome Recipe                 </td><td>/homebrew/recipe/view/620764/awesome-recipe                 </td><td>American Light Lager     </td><td>  9</td><td> 18.93</td><td>1.040</td><td>1.010</td><td>3.98</td><td>  0.00</td><td>⋯</td><td>60</td><td>1.101</td><td>35</td><td>  NA</td><td>Specific Gravity</td><td>extract     </td><td>0.35</td><td>20.00</td><td>NA        </td><td>NA</td></tr>\n",
       "\t<tr><td>73848</td><td>Party-Gyle Grisette            </td><td>/homebrew/recipe/view/620772/party-gyle-grisette            </td><td>Saison                   </td><td>134</td><td> 17.55</td><td>1.040</td><td>1.003</td><td>4.80</td><td> 31.58</td><td>⋯</td><td>60</td><td>1.030</td><td>72</td><td>  NA</td><td>Specific Gravity</td><td>BIAB        </td><td>0.75</td><td>25.00</td><td>NA        </td><td>NA</td></tr>\n",
       "\t<tr><td>73849</td><td>Perfect Brewing Red            </td><td>/homebrew/recipe/view/620773/perfect-brewing-red            </td><td>American Light Lager     </td><td>  9</td><td> 18.93</td><td>1.057</td><td>1.014</td><td>5.65</td><td>  0.00</td><td>⋯</td><td>60</td><td>1.044</td><td>70</td><td>1.25</td><td>Specific Gravity</td><td>All Grain   </td><td>  NA</td><td>   NA</td><td>NA        </td><td>NA</td></tr>\n",
       "\t<tr><td>73850</td><td>Golden Slumbers IPA            </td><td>/homebrew/recipe/view/620786/golden-slumbers-ipa            </td><td>American IPA             </td><td>  7</td><td> 18.93</td><td>1.049</td><td>1.010</td><td>5.20</td><td> 97.08</td><td>⋯</td><td>60</td><td>1.038</td><td>65</td><td>1.25</td><td>Specific Gravity</td><td>All Grain   </td><td>  NA</td><td>21.11</td><td>NA        </td><td>NA</td></tr>\n",
       "\t<tr><td>73851</td><td>Mo Honey Wheat                 </td><td>/homebrew/recipe/view/611460/-mo-honey-wheat                </td><td>American Pale Ale        </td><td> 10</td><td> 20.82</td><td>1.055</td><td>1.010</td><td>5.92</td><td> 35.15</td><td>⋯</td><td>60</td><td>1.038</td><td>70</td><td>  NA</td><td>Specific Gravity</td><td>BIAB        </td><td>0.50</td><td>18.33</td><td>NA        </td><td>NA</td></tr>\n",
       "\t<tr><td>73852</td><td>Blonde Stout                   </td><td>/homebrew/recipe/view/615556/blonde-stout                   </td><td>Experimental Beer        </td><td> 67</td><td> 20.82</td><td>1.076</td><td>1.021</td><td>7.24</td><td> 52.94</td><td>⋯</td><td>60</td><td>1.105</td><td>75</td><td>  NA</td><td>Specific Gravity</td><td>Partial Mash</td><td>0.75</td><td>21.11</td><td>Corn Sugar</td><td>NA</td></tr>\n",
       "\t<tr><td>73853</td><td>Session Simcoe                 </td><td>/homebrew/recipe/view/618629/session-simcoe                 </td><td>American Pale Ale        </td><td> 10</td><td> 21.00</td><td>1.038</td><td>1.008</td><td>4.05</td><td> 36.60</td><td>⋯</td><td>60</td><td>1.028</td><td>70</td><td>3.00</td><td>Specific Gravity</td><td>All Grain   </td><td>  NA</td><td>20.00</td><td>NA        </td><td>NA</td></tr>\n",
       "\t<tr><td>73854</td><td>Chris ford wheat ipa           </td><td>/homebrew/recipe/view/602248/chris-ford-wheat-ipa           </td><td>American IPA             </td><td>  7</td><td> 18.93</td><td>1.073</td><td>1.018</td><td>7.15</td><td>  0.00</td><td>⋯</td><td>60</td><td>1.060</td><td>70</td><td>  NA</td><td>Specific Gravity</td><td>BIAB        </td><td>  NA</td><td>   NA</td><td>NA        </td><td>NA</td></tr>\n",
       "\t<tr><td>73855</td><td>X Files American Ale           </td><td>/homebrew/recipe/view/603016/x-files-american-ale           </td><td>American Pale Ale        </td><td> 10</td><td> 18.93</td><td>1.064</td><td>1.016</td><td>6.26</td><td>  0.00</td><td>⋯</td><td>60</td><td>1.042</td><td>75</td><td>  NA</td><td>Specific Gravity</td><td>BIAB        </td><td>  NA</td><td>   NA</td><td>NA        </td><td>NA</td></tr>\n",
       "\t<tr><td>73856</td><td>Unicorn Pee                    </td><td>/homebrew/recipe/view/607368/unicorn-pee                    </td><td>American IPA             </td><td>  7</td><td> 22.71</td><td>1.065</td><td>1.014</td><td>6.71</td><td> 49.35</td><td>⋯</td><td>30</td><td>1.098</td><td>55</td><td>  NA</td><td>Specific Gravity</td><td>Partial Mash</td><td>0.50</td><td>   NA</td><td>NA        </td><td>NA</td></tr>\n",
       "\t<tr><td>73857</td><td>Amber Alfie 2                  </td><td>/homebrew/recipe/view/609673/amber-alfie-2                  </td><td>British Strong Ale       </td><td> 36</td><td> 21.00</td><td>1.052</td><td>1.012</td><td>5.22</td><td> 39.73</td><td>⋯</td><td>60</td><td>1.060</td><td>63</td><td>3.00</td><td>Specific Gravity</td><td>All Grain   </td><td>1.25</td><td>20.00</td><td>NA        </td><td>NA</td></tr>\n",
       "\t<tr><td>73858</td><td>Rye IPA                        </td><td>/homebrew/recipe/view/610955/rye-ipa                        </td><td>Specialty IPA: Rye IPA   </td><td>151</td><td> 10.00</td><td>1.059</td><td>1.010</td><td>6.37</td><td> 59.21</td><td>⋯</td><td>60</td><td>1.034</td><td>60</td><td>  NA</td><td>Specific Gravity</td><td>BIAB        </td><td>0.50</td><td>22.00</td><td>NA        </td><td>NA</td></tr>\n",
       "\t<tr><td>73859</td><td><span style=white-space:pre-wrap>SK-K&lt;U+001ACCE3&gt;h              </span></td><td><span style=white-space:pre-wrap>/homebrew/recipe/view/586891/                               </span></td><td><span style=white-space:pre-wrap>NA                       </span></td><td>111</td><td> 16.00</td><td>1.046</td><td>1.008</td><td>5.01</td><td> 25.42</td><td>⋯</td><td>90</td><td>1.041</td><td>65</td><td><span style=white-space:pre-wrap>  NA</span></td><td>Specific Gravity</td><td><span style=white-space:pre-wrap>BIAB        </span></td><td>0.35</td><td>17.00</td><td><span style=white-space:pre-wrap>sucrose   </span></td><td>NA</td></tr>\n",
       "\t<tr><td>73860</td><td><span style=white-space:pre-wrap>Flata R&lt;U+0802FB38&gt;ver         </span></td><td><span style=white-space:pre-wrap>/homebrew/recipe/view/603788/                               </span></td><td><span style=white-space:pre-wrap>Irish Red Ale            </span></td><td> 92</td><td> 24.00</td><td>1.051</td><td>1.014</td><td>4.82</td><td> 25.65</td><td>⋯</td><td>60</td><td>1.043</td><td>72</td><td><span style=white-space:pre-wrap>  NA</span></td><td>Specific Gravity</td><td><span style=white-space:pre-wrap>All Grain   </span></td><td><span style=white-space:pre-wrap>  NA</span></td><td>18.00</td><td>Sukkerlake</td><td>NA</td></tr>\n",
       "\t<tr><td>73861</td><td>Elvis Juice IPA Clone          </td><td>/homebrew/recipe/view/613776/elvis-juice-ipa-clone          </td><td>American IPA             </td><td>  7</td><td> 20.00</td><td>1.060</td><td>1.010</td><td>6.55</td><td> 57.09</td><td>⋯</td><td>60</td><td>1.056</td><td>70</td><td>  NA</td><td>Specific Gravity</td><td>Partial Mash</td><td>  NA</td><td>18.00</td><td>NA        </td><td>NA</td></tr>\n",
       "</tbody>\n",
       "</table>\n"
      ],
      "text/latex": [
       "A tibble: 73861 × 22\n",
       "\\begin{tabular}{r|llllllllllllllllllllll}\n",
       " BeerID & Name & URL & Style & StyleID & Size(L) & OG & FG & ABV & IBU & Color & BoilSize & BoilTime & BoilGravity & Efficiency & MashThickness & SugarScale & BrewMethod & PitchRate & PrimaryTemp & PrimingMethod & PrimingAmount\\\\\n",
       " <dbl> & <chr> & <chr> & <chr> & <dbl> & <dbl> & <dbl> & <dbl> & <dbl> & <dbl> & <dbl> & <dbl> & <dbl> & <dbl> & <dbl> & <dbl> & <chr> & <chr> & <dbl> & <dbl> & <chr> & <dbl>\\\\\n",
       "\\hline\n",
       "\t  1 & Vanilla Cream Ale                            & /homebrew/recipe/view/1633/vanilla-cream-ale                          & Cream Ale                          &  45 & 21.77 & 1.055 & 1.013 & 5.48 &  17.65 &  4.83 & 28.39 & 75 & 1.038 & 70 &   NA & Specific Gravity & All Grain &   NA & 17.78 & corn sugar        & 4.5\\\\\n",
       "\t  2 & Southern Tier Pumking clone                  & /homebrew/recipe/view/16367/southern-tier-pumking-clone               & Holiday/Winter Special Spiced Beer &  85 & 20.82 & 1.083 & 1.021 & 8.16 &  60.65 & 15.64 & 24.61 & 60 & 1.070 & 70 &   NA & Specific Gravity & All Grain &   NA &    NA & NA                &  NA\\\\\n",
       "\t  3 & Zombie Dust Clone - EXTRACT                  & /homebrew/recipe/view/5920/zombie-dust-clone-extract                  & American IPA                       &   7 & 18.93 & 1.063 & 1.018 & 5.91 &  59.25 &  8.98 & 22.71 & 60 &    NA & 70 &   NA & Specific Gravity & extract   &   NA &    NA & NA                &  NA\\\\\n",
       "\t  4 & Zombie Dust Clone - ALL GRAIN                & /homebrew/recipe/view/5916/zombie-dust-clone-all-grain                & American IPA                       &   7 & 22.71 & 1.061 & 1.017 & 5.80 &  54.48 &  8.50 & 26.50 & 60 &    NA & 70 &   NA & Specific Gravity & All Grain &   NA &    NA & NA                &  NA\\\\\n",
       "\t  5 & Bakke Brygg Belgisk Blonde 50 l              & /homebrew/recipe/view/89534/bakke-brygg-belgisk-blonde-50-l           & Belgian Blond Ale                  &  20 & 50.00 & 1.060 & 1.010 & 6.48 &  17.84 &  4.57 & 60.00 & 90 & 1.050 & 72 &   NA & Specific Gravity & All Grain &   NA & 19.00 & Sukkerlake        &  NA\\\\\n",
       "\t  6 & Sierra Nevada Pale Ale Clone                 & /homebrew/recipe/view/28546/sierra-nevada-pale-ale-clone              & American Pale Ale                  &  10 & 24.61 & 1.055 & 1.013 & 5.58 &  40.12 &  8.00 & 29.34 & 70 & 1.047 & 79 &   NA & Specific Gravity & All Grain & 1.00 &    NA & NA                &  NA\\\\\n",
       "\t  7 & Russian River Pliny the Elder (original)     & /homebrew/recipe/view/37534/russian-river-pliny-the-elder-original-   & Imperial IPA                       &  86 & 22.71 & 1.072 & 1.018 & 7.09 & 268.71 &  6.33 & 30.28 & 90 &    NA & 75 &   NA & Specific Gravity & All Grain &   NA &    NA & NA                &  NA\\\\\n",
       "\t  8 & Spotted Clown (New Glarus Spotted Cow clone) & /homebrew/recipe/view/672/spotted-clown-new-glarus-spotted-cow-clone- & Cream Ale                          &  45 & 20.82 & 1.054 & 1.014 & 5.36 &  19.97 &  5.94 & 28.39 & 75 & 1.040 & 70 & 1.40 & Specific Gravity & All Grain &   NA &    NA & corn sugar        & 4.2\\\\\n",
       "\t  9 & Chocolate Vanilla Porter                     & /homebrew/recipe/view/29265/chocolate-vanilla-porter                  & Robust Porter                      & 129 & 22.71 & 1.060 & 1.016 & 5.77 &  31.63 & 34.76 & 30.28 & 75 & 1.042 & 73 &   NA & Specific Gravity & All Grain &   NA &    NA & corn sugar        & 4.0\\\\\n",
       "\t 10 & Mango Habanero IPA                           & /homebrew/recipe/view/61082/mango-habanero-ipa                        & Imperial IPA                       &  86 & 20.82 & 1.080 & 1.017 & 8.22 &  93.02 &  8.29 & 28.39 & 60 & 1.058 & 70 &   NA & Specific Gravity & All Grain &   NA & 21.11 & Corn Sugar        &  NA\\\\\n",
       "\t 11 & Bakke Brygg HveteIPA 25 L                    & /homebrew/recipe/view/73890/bakke-brygg-hveteipa-25-l                 & American IPA                       &   7 & 25.00 & 1.064 & 1.014 & 6.63 &  64.26 &  7.78 & 29.00 & 90 & 1.055 & 74 &   NA & Specific Gravity & All Grain & 1.00 & 18.00 & Sukkerlake        &  NA\\\\\n",
       "\t 12 & Hop Notch Clone                              & /homebrew/recipe/view/10092/hop-notch-clone                           & American IPA                       &   7 & 15.14 & 1.066 & 1.015 & 6.62 & 111.00 & 14.26 & 11.36 & 90 &    NA & 70 &   NA & Specific Gravity & BIAB      &   NA &    NA & NA                &  NA\\\\\n",
       "\t 13 & Racer 5 IPA Clone                            & /homebrew/recipe/view/23246/racer-5-ipa-clone                         & American IPA                       &   7 & 20.82 & 1.073 & 1.019 & 7.07 &  69.72 &  6.28 & 28.39 & 60 &    NA & 70 &   NA & Specific Gravity & All Grain &   NA &    NA & NA                &  NA\\\\\n",
       "\t 14 & Sam Adams Rebel IPA Clone                    & /homebrew/recipe/view/106996/sam-adams-rebel-ipa-clone                & American IPA                       &   7 & 18.93 & 1.066 & 1.017 & 6.51 &  60.96 & 10.54 & 11.36 & 60 & 1.110 & 30 &   NA & Specific Gravity & extract   & 0.35 & 18.33 & NA                &  NA\\\\\n",
       "\t 15 & White IPA                                    & /homebrew/recipe/view/8361/white-ipa                                  & American IPA                       &   7 & 37.85 & 1.064 & 1.017 & 6.20 &  64.67 &  3.91 & 34.07 & 60 & 1.071 & 70 & 1.20 & Specific Gravity & All Grain &   NA &    NA & NA                &  NA\\\\\n",
       "\t 16 & Pilsner Urquell BYO clone                    & /homebrew/recipe/view/3000/pilsner-urquell-byo-clone                  & Bohemian Pilsener                  &  31 & 41.64 & 1.051 & 1.013 & 4.92 &  36.80 &  3.61 & 49.21 & 60 &    NA & 75 &   NA & Specific Gravity & All Grain &   NA &    NA & NA                &  NA\\\\\n",
       "\t 17 & Tank 7 Clone                                 & /homebrew/recipe/view/23436/tank-7-clone                              & Saison                             & 134 & 20.82 & 1.073 & 1.015 & 7.63 &  44.94 &  6.25 & 28.39 & 60 & 1.054 & 70 &   NA & Specific Gravity & BIAB      &   NA &    NA & Corn Sugar        &  NA\\\\\n",
       "\t 18 & Bells two hearted clone                      & /homebrew/recipe/view/3837/bells-two-hearted-clone                    & American IPA                       &   7 & 20.82 & 1.073 & 1.018 & 7.14 &  61.83 &  8.10 & 24.61 & 60 & 1.061 & 75 &   NA & Specific Gravity & All Grain & 0.75 & 18.33 & NA                &  NA\\\\\n",
       "\t 19 & New Glarus Fat Squirrel Clone                & /homebrew/recipe/view/1435/new-glarus-fat-squirrel-clone              & Northern English Brown             & 113 & 20.82 & 1.046 & 1.010 & 4.61 &  13.64 & 12.56 & 28.39 & 90 & 1.033 & 70 &   NA & Specific Gravity & All Grain &   NA & 16.67 & Priming Sugar     &  NA\\\\\n",
       "\t 20 & Avg. Perfect Northeast IPA (NEIPA)           & /homebrew/recipe/view/363082/avg-perfect-northeast-ipa-neipa-         & American IPA                       &   7 & 21.77 & 1.062 & 1.013 & 6.50 &  53.30 &  5.20 & 28.39 & 60 & 1.048 & 70 & 1.25 & Specific Gravity & All Grain &   NA &    NA & Keg - Force Carb. &  NA\\\\\n",
       "\t 21 & Goose Island IPA Clone                       & /homebrew/recipe/view/28343/goose-island-ipa-clone                    & English IPA                        &  65 & 20.82 & 1.065 & 1.015 & 6.63 &  55.52 &  9.47 & 28.39 & 60 & 1.048 & 75 & 1.50 & Specific Gravity & All Grain &   NA & 17.78 & NA                &  NA\\\\\n",
       "\t 22 & Ballast Point Sculpin Ale Clone              & /homebrew/recipe/view/89253/ballast-point-sculpin-ale-clone           & Imperial IPA                       &  86 & 45.42 & 1.084 & 1.020 & 8.43 &  79.28 &  6.26 & 51.10 & 60 & 1.075 & 90 & 1.25 & Specific Gravity & All Grain & 1.00 & 20.56 & NA                &  NA\\\\\n",
       "\t 23 & Brooklyn Sorachi Ace                         & /homebrew/recipe/view/190892/brooklyn-sorachi-ace                     & Saison                             & 134 & 18.93 & 1.082 & 1.013 & 9.10 &   0.00 &  4.10 & 21.58 & 60 &    NA & 72 &   NA & Specific Gravity & All Grain &   NA &    NA & NA                &  NA\\\\\n",
       "\t 24 & Lagunitas IPA Clone                          & /homebrew/recipe/view/28344/lagunitas-ipa-clone                       & English IPA                        &  65 & 20.82 & 1.061 & 1.014 & 6.17 &  56.65 &  5.85 & 28.39 & 60 & 1.045 & 75 &   NA & Specific Gravity & All Grain &   NA &    NA & NA                &  NA\\\\\n",
       "\t 25 & NEIPA Hoppy ( juicy) -  Braumeister 20L      & /homebrew/recipe/view/295897/neipa-hoppy-juicy-braumeister-20l        & American IPA                       &   7 & 21.00 & 1.062 & 1.014 & 6.29 &  53.57 &  5.21 & 25.00 & 70 & 1.052 & 73 &   NA & Specific Gravity & BIAB      & 0.75 & 20.00 & NA                &  NA\\\\\n",
       "\t 26 & Dale's Pale Ale Clone                        & /homebrew/recipe/view/190430/dale-s-pale-ale-clone                    & American Pale Ale                  &  10 & 18.93 & 1.067 & 1.017 & 6.60 &   0.00 & 11.69 & 18.93 & 60 &    NA & 75 &   NA & Specific Gravity & All Grain &   NA &    NA & NA                &  NA\\\\\n",
       "\t 27 & IPA - Tired Hands Milkshake                  & /homebrew/recipe/view/392896/ipa-tired-hands-milkshake                & American IPA                       &   7 & 24.61 & 1.058 & 1.017 & 5.34 &  57.84 &  3.98 & 28.39 & 60 & 1.050 & 83 &   NA & Specific Gravity & BIAB      & 0.50 & 18.33 & NA                &  NA\\\\\n",
       "\t 28 & Bakke Brygg Julelager 20 l                   & /homebrew/recipe/view/73376/bakke-brygg-julelager-20-l                & Traditional Bock                   & 163 & 20.00 & 1.065 & 1.018 & 6.22 &  27.12 & 16.66 & 25.00 & 90 & 1.052 & 70 &   NA & Specific Gravity & All Grain &   NA & 10.00 & Sukkerlake        &  NA\\\\\n",
       "\t 29 & Grapefruit IPA                               & /homebrew/recipe/view/35541/grapefruit-ipa                            & American IPA                       &   7 & 26.50 & 1.052 & 1.012 & 5.31 &  60.58 &  5.82 & 32.18 & 60 & 1.043 & 70 & 1.30 & Specific Gravity & All Grain & 0.75 & 20.56 & NA                &  NA\\\\\n",
       "\t 30 & Bakke Brygg Robust Porter 50 l               & /homebrew/recipe/view/73679/bakke-brygg-robust-porter-50-l            & Robust Porter                      & 129 & 50.00 & 1.058 & 1.014 & 5.76 &  39.00 & 38.71 & 58.00 & 60 & 1.050 & 71 &   NA & Specific Gravity & All Grain &   NA & 18.00 & Sukkerlake        &  NA\\\\\n",
       "\t ⋮ & ⋮ & ⋮ & ⋮ & ⋮ & ⋮ & ⋮ & ⋮ & ⋮ & ⋮ & ⋮ & ⋮ & ⋮ & ⋮ & ⋮ & ⋮ & ⋮ & ⋮ & ⋮ & ⋮ & ⋮ & ⋮\\\\\n",
       "\t 73832 & SMASH do Caboclo                & /homebrew/recipe/view/620568/smash-do-caboclo                & American IPA              &   7 &  21.00 & 1.047 & 1.005 & 5.58 &  27.50 &  3.82 &  28.50 & 60 & 1.035 & 60 & 2.60 & Specific Gravity & All Grain    & 0.35 & 20.00 & NA         & NA\\\\\n",
       "\t 73833 & Experimental Nordic Pine Saison & /homebrew/recipe/view/620846/experimental-nordic-pine-saison & Saison                    & 134 &  20.82 & 1.065 & 1.021 & 5.75 &  91.60 &  3.97 &  28.39 & 60 & 1.048 & 70 & 1.50 & Specific Gravity & All Grain    &   NA &    NA & NA         & NA\\\\\n",
       "\t 73834 & Cascade Cream Ale               & /homebrew/recipe/view/620852/cascade-cream-ale               & Cream Ale                 &  45 &  11.00 & 1.043 & 1.007 & 4.73 &  18.72 &  2.72 &  14.00 & 60 & 1.034 & 65 &   NA & Specific Gravity & BIAB         & 0.75 & 20.00 & Cane sugar & NA\\\\\n",
       "\t 73835 & Lobrau                          & /homebrew/recipe/view/620876/lobrau                          & British Golden Ale        &  35 &  40.00 & 1.051 & 1.014 & 4.78 &  42.34 &  5.77 &  46.00 & 60 & 1.044 & 65 & 3.00 & Specific Gravity & All Grain    & 1.25 & 20.00 & NA         & NA\\\\\n",
       "\t 73836 & IPA                             & /homebrew/recipe/view/620878/ipa                             & American IPA              &   7 &  25.00 & 1.060 & 1.011 & 6.34 &   0.00 &  5.93 &  28.50 & 60 & 1.052 & 70 & 3.00 & Specific Gravity & All Grain    & 1.00 & 18.00 & NA         & NA\\\\\n",
       "\t 73837 & CBR day                         & /homebrew/recipe/view/620886/cbr-day                         & Belgian Golden Strong Ale &  23 &  21.00 & 1.063 & 1.016 & 6.23 &   0.00 & 24.96 &  28.50 & 60 & 1.047 & 60 &   NA & Specific Gravity & BIAB         &   NA &    NA & NA         & NA\\\\\n",
       "\t 73838 & Liberty Bay IPA                 & /homebrew/recipe/view/620890/liberty-bay-ipa                 & American IPA              &   7 &  26.50 & 1.076 & 1.017 & 7.76 &  92.36 & 10.80 &  28.39 & 60 & 1.071 & 70 & 1.25 & Specific Gravity & All Grain    &   NA &    NA & NA         & NA\\\\\n",
       "\t 73839 & K<U+001ACCE3>h                  & /homebrew/recipe/view/620642/K<U+001ACCE3>h                  & K<U+001ACCE3>h            &  94 &  30.28 & 1.050 & 1.012 & 4.89 &   0.00 &  3.42 &  34.07 & 60 & 1.044 & 70 & 1.00 & Specific Gravity & All Grain    & 1.50 &    NA & Corn Sugar & NA\\\\\n",
       "\t 73840 & NZ IPA                          & /homebrew/recipe/view/612208/nz-ipa                          & American IPA              &   7 &  20.82 & 1.065 & 1.014 & 6.73 &  43.04 &  6.93 &  24.61 & 60 & 1.055 & 73 & 1.50 & Specific Gravity & All Grain    &   NA & 20.00 & NA         & NA\\\\\n",
       "\t 73841 & Red Cara Ale                    & /homebrew/recipe/view/620662/red-cara-ale                    & Irish Red Ale             &  92 &  38.00 & 1.051 & 1.011 & 5.23 &  10.27 & 13.95 &  35.00 & 60 & 1.055 & 70 & 3.10 & Specific Gravity & All Grain    & 0.50 & 20.00 & NA         & NA\\\\\n",
       "\t 73842 & Braumeister IPA 200L            & /homebrew/recipe/view/620695/braumeister-ipa-200l            & American IPA              &   7 & 200.00 & 1.046 & 1.008 & 4.94 & 238.63 &  3.17 & 205.00 & 80 & 1.045 & 75 & 1.50 & Specific Gravity & All Grain    & 0.35 & 20.00 & NA         & NA\\\\\n",
       "\t 73843 & 1SES                            & /homebrew/recipe/view/620714/1ses                            & American Light Lager      &   9 &  20.82 & 1.043 & 1.012 & 4.06 &  32.39 &  6.18 &  26.50 & 60 & 1.033 & 72 &   NA & Specific Gravity & BIAB         &   NA &    NA & NA         & NA\\\\\n",
       "\t 73844 & MARZEN                          & /homebrew/recipe/view/620734/marzen                          & M<e4>rzen                 & 102 &  18.93 & 1.058 & 1.013 & 5.86 &  23.56 & 10.92 &  26.50 & 60 & 1.041 & 65 &   NA & Specific Gravity & BIAB         & 1.75 & 10.00 & NA         & NA\\\\\n",
       "\t 73845 & Easy pale ale                   & /homebrew/recipe/view/620737/easy-pale-ale                   & American Light Lager      &   9 &  20.82 & 1.046 & 1.011 & 4.52 &   0.00 & 12.41 &  28.39 & 60 & 1.034 & 70 & 1.50 & Specific Gravity & All Grain    &   NA &    NA & NA         & NA\\\\\n",
       "\t 73846 & Sober as a Judge                & /homebrew/recipe/view/620757/sober-as-a-judge                & American IPA              &   7 &  20.82 & 1.041 & 1.010 & 4.12 &  46.83 &  4.27 &  24.61 & 60 & 1.035 & 68 & 1.50 & Specific Gravity & All Grain    & 0.50 & 21.11 & NA         & NA\\\\\n",
       "\t 73847 & Awesome Recipe                  & /homebrew/recipe/view/620764/awesome-recipe                  & American Light Lager      &   9 &  18.93 & 1.040 & 1.010 & 3.98 &   0.00 &  3.79 &   7.57 & 60 & 1.101 & 35 &   NA & Specific Gravity & extract      & 0.35 & 20.00 & NA         & NA\\\\\n",
       "\t 73848 & Party-Gyle Grisette             & /homebrew/recipe/view/620772/party-gyle-grisette             & Saison                    & 134 &  17.55 & 1.040 & 1.003 & 4.80 &  31.58 &  3.04 &  23.44 & 60 & 1.030 & 72 &   NA & Specific Gravity & BIAB         & 0.75 & 25.00 & NA         & NA\\\\\n",
       "\t 73849 & Perfect Brewing Red             & /homebrew/recipe/view/620773/perfect-brewing-red             & American Light Lager      &   9 &  18.93 & 1.057 & 1.014 & 5.65 &   0.00 & 19.96 &  24.61 & 60 & 1.044 & 70 & 1.25 & Specific Gravity & All Grain    &   NA &    NA & NA         & NA\\\\\n",
       "\t 73850 & Golden Slumbers IPA             & /homebrew/recipe/view/620786/golden-slumbers-ipa             & American IPA              &   7 &  18.93 & 1.049 & 1.010 & 5.20 &  97.08 &  5.15 &  24.61 & 60 & 1.038 & 65 & 1.25 & Specific Gravity & All Grain    &   NA & 21.11 & NA         & NA\\\\\n",
       "\t 73851 & Mo Honey Wheat                  & /homebrew/recipe/view/611460/-mo-honey-wheat                 & American Pale Ale         &  10 &  20.82 & 1.055 & 1.010 & 5.92 &  35.15 &  7.28 &  30.28 & 60 & 1.038 & 70 &   NA & Specific Gravity & BIAB         & 0.50 & 18.33 & NA         & NA\\\\\n",
       "\t 73852 & Blonde Stout                    & /homebrew/recipe/view/615556/blonde-stout                    & Experimental Beer         &  67 &  20.82 & 1.076 & 1.021 & 7.24 &  52.94 &  7.25 &  15.14 & 60 & 1.105 & 75 &   NA & Specific Gravity & Partial Mash & 0.75 & 21.11 & Corn Sugar & NA\\\\\n",
       "\t 73853 & Session Simcoe                  & /homebrew/recipe/view/618629/session-simcoe                  & American Pale Ale         &  10 &  21.00 & 1.038 & 1.008 & 4.05 &  36.60 & 10.04 &  28.50 & 60 & 1.028 & 70 & 3.00 & Specific Gravity & All Grain    &   NA & 20.00 & NA         & NA\\\\\n",
       "\t 73854 & Chris ford wheat ipa            & /homebrew/recipe/view/602248/chris-ford-wheat-ipa            & American IPA              &   7 &  18.93 & 1.073 & 1.018 & 7.15 &   0.00 &  6.01 &  22.71 & 60 & 1.060 & 70 &   NA & Specific Gravity & BIAB         &   NA &    NA & NA         & NA\\\\\n",
       "\t 73855 & X Files American Ale            & /homebrew/recipe/view/603016/x-files-american-ale            & American Pale Ale         &  10 &  18.93 & 1.064 & 1.016 & 6.26 &   0.00 &  9.60 &  28.39 & 60 & 1.042 & 75 &   NA & Specific Gravity & BIAB         &   NA &    NA & NA         & NA\\\\\n",
       "\t 73856 & Unicorn Pee                     & /homebrew/recipe/view/607368/unicorn-pee                     & American IPA              &   7 &  22.71 & 1.065 & 1.014 & 6.71 &  49.35 &  4.73 &  15.14 & 30 & 1.098 & 55 &   NA & Specific Gravity & Partial Mash & 0.50 &    NA & NA         & NA\\\\\n",
       "\t 73857 & Amber Alfie 2                   & /homebrew/recipe/view/609673/amber-alfie-2                   & British Strong Ale        &  36 &  21.00 & 1.052 & 1.012 & 5.22 &  39.73 &  6.96 &  18.00 & 60 & 1.060 & 63 & 3.00 & Specific Gravity & All Grain    & 1.25 & 20.00 & NA         & NA\\\\\n",
       "\t 73858 & Rye IPA                         & /homebrew/recipe/view/610955/rye-ipa                         & Specialty IPA: Rye IPA    & 151 &  10.00 & 1.059 & 1.010 & 6.37 &  59.21 &  7.90 &  17.00 & 60 & 1.034 & 60 &   NA & Specific Gravity & BIAB         & 0.50 & 22.00 & NA         & NA\\\\\n",
       "\t 73859 & SK-K<U+001ACCE3>h               & /homebrew/recipe/view/586891/                                & NA                        & 111 &  16.00 & 1.046 & 1.008 & 5.01 &  25.42 &  3.63 &  18.00 & 90 & 1.041 & 65 &   NA & Specific Gravity & BIAB         & 0.35 & 17.00 & sucrose    & NA\\\\\n",
       "\t 73860 & Flata R<U+0802FB38>ver          & /homebrew/recipe/view/603788/                                & Irish Red Ale             &  92 &  24.00 & 1.051 & 1.014 & 4.82 &  25.65 & 14.12 &  28.00 & 60 & 1.043 & 72 &   NA & Specific Gravity & All Grain    &   NA & 18.00 & Sukkerlake & NA\\\\\n",
       "\t 73861 & Elvis Juice IPA Clone           & /homebrew/recipe/view/613776/elvis-juice-ipa-clone           & American IPA              &   7 &  20.00 & 1.060 & 1.010 & 6.55 &  57.09 &  8.65 &  12.00 & 60 & 1.056 & 70 &   NA & Specific Gravity & Partial Mash &   NA & 18.00 & NA         & NA\\\\\n",
       "\\end{tabular}\n"
      ],
      "text/markdown": [
       "\n",
       "A tibble: 73861 × 22\n",
       "\n",
       "| BeerID &lt;dbl&gt; | Name &lt;chr&gt; | URL &lt;chr&gt; | Style &lt;chr&gt; | StyleID &lt;dbl&gt; | Size(L) &lt;dbl&gt; | OG &lt;dbl&gt; | FG &lt;dbl&gt; | ABV &lt;dbl&gt; | IBU &lt;dbl&gt; | ⋯ ⋯ | BoilTime &lt;dbl&gt; | BoilGravity &lt;dbl&gt; | Efficiency &lt;dbl&gt; | MashThickness &lt;dbl&gt; | SugarScale &lt;chr&gt; | BrewMethod &lt;chr&gt; | PitchRate &lt;dbl&gt; | PrimaryTemp &lt;dbl&gt; | PrimingMethod &lt;chr&gt; | PrimingAmount &lt;dbl&gt; |\n",
       "|---|---|---|---|---|---|---|---|---|---|---|---|---|---|---|---|---|---|---|---|---|\n",
       "|  1 | Vanilla Cream Ale                            | /homebrew/recipe/view/1633/vanilla-cream-ale                          | Cream Ale                          |  45 | 21.77 | 1.055 | 1.013 | 5.48 |  17.65 | ⋯ | 75 | 1.038 | 70 |   NA | Specific Gravity | All Grain |   NA | 17.78 | corn sugar        | 4.5 |\n",
       "|  2 | Southern Tier Pumking clone                  | /homebrew/recipe/view/16367/southern-tier-pumking-clone               | Holiday/Winter Special Spiced Beer |  85 | 20.82 | 1.083 | 1.021 | 8.16 |  60.65 | ⋯ | 60 | 1.070 | 70 |   NA | Specific Gravity | All Grain |   NA |    NA | NA                |  NA |\n",
       "|  3 | Zombie Dust Clone - EXTRACT                  | /homebrew/recipe/view/5920/zombie-dust-clone-extract                  | American IPA                       |   7 | 18.93 | 1.063 | 1.018 | 5.91 |  59.25 | ⋯ | 60 |    NA | 70 |   NA | Specific Gravity | extract   |   NA |    NA | NA                |  NA |\n",
       "|  4 | Zombie Dust Clone - ALL GRAIN                | /homebrew/recipe/view/5916/zombie-dust-clone-all-grain                | American IPA                       |   7 | 22.71 | 1.061 | 1.017 | 5.80 |  54.48 | ⋯ | 60 |    NA | 70 |   NA | Specific Gravity | All Grain |   NA |    NA | NA                |  NA |\n",
       "|  5 | Bakke Brygg Belgisk Blonde 50 l              | /homebrew/recipe/view/89534/bakke-brygg-belgisk-blonde-50-l           | Belgian Blond Ale                  |  20 | 50.00 | 1.060 | 1.010 | 6.48 |  17.84 | ⋯ | 90 | 1.050 | 72 |   NA | Specific Gravity | All Grain |   NA | 19.00 | Sukkerlake        |  NA |\n",
       "|  6 | Sierra Nevada Pale Ale Clone                 | /homebrew/recipe/view/28546/sierra-nevada-pale-ale-clone              | American Pale Ale                  |  10 | 24.61 | 1.055 | 1.013 | 5.58 |  40.12 | ⋯ | 70 | 1.047 | 79 |   NA | Specific Gravity | All Grain | 1.00 |    NA | NA                |  NA |\n",
       "|  7 | Russian River Pliny the Elder (original)     | /homebrew/recipe/view/37534/russian-river-pliny-the-elder-original-   | Imperial IPA                       |  86 | 22.71 | 1.072 | 1.018 | 7.09 | 268.71 | ⋯ | 90 |    NA | 75 |   NA | Specific Gravity | All Grain |   NA |    NA | NA                |  NA |\n",
       "|  8 | Spotted Clown (New Glarus Spotted Cow clone) | /homebrew/recipe/view/672/spotted-clown-new-glarus-spotted-cow-clone- | Cream Ale                          |  45 | 20.82 | 1.054 | 1.014 | 5.36 |  19.97 | ⋯ | 75 | 1.040 | 70 | 1.40 | Specific Gravity | All Grain |   NA |    NA | corn sugar        | 4.2 |\n",
       "|  9 | Chocolate Vanilla Porter                     | /homebrew/recipe/view/29265/chocolate-vanilla-porter                  | Robust Porter                      | 129 | 22.71 | 1.060 | 1.016 | 5.77 |  31.63 | ⋯ | 75 | 1.042 | 73 |   NA | Specific Gravity | All Grain |   NA |    NA | corn sugar        | 4.0 |\n",
       "| 10 | Mango Habanero IPA                           | /homebrew/recipe/view/61082/mango-habanero-ipa                        | Imperial IPA                       |  86 | 20.82 | 1.080 | 1.017 | 8.22 |  93.02 | ⋯ | 60 | 1.058 | 70 |   NA | Specific Gravity | All Grain |   NA | 21.11 | Corn Sugar        |  NA |\n",
       "| 11 | Bakke Brygg HveteIPA 25 L                    | /homebrew/recipe/view/73890/bakke-brygg-hveteipa-25-l                 | American IPA                       |   7 | 25.00 | 1.064 | 1.014 | 6.63 |  64.26 | ⋯ | 90 | 1.055 | 74 |   NA | Specific Gravity | All Grain | 1.00 | 18.00 | Sukkerlake        |  NA |\n",
       "| 12 | Hop Notch Clone                              | /homebrew/recipe/view/10092/hop-notch-clone                           | American IPA                       |   7 | 15.14 | 1.066 | 1.015 | 6.62 | 111.00 | ⋯ | 90 |    NA | 70 |   NA | Specific Gravity | BIAB      |   NA |    NA | NA                |  NA |\n",
       "| 13 | Racer 5 IPA Clone                            | /homebrew/recipe/view/23246/racer-5-ipa-clone                         | American IPA                       |   7 | 20.82 | 1.073 | 1.019 | 7.07 |  69.72 | ⋯ | 60 |    NA | 70 |   NA | Specific Gravity | All Grain |   NA |    NA | NA                |  NA |\n",
       "| 14 | Sam Adams Rebel IPA Clone                    | /homebrew/recipe/view/106996/sam-adams-rebel-ipa-clone                | American IPA                       |   7 | 18.93 | 1.066 | 1.017 | 6.51 |  60.96 | ⋯ | 60 | 1.110 | 30 |   NA | Specific Gravity | extract   | 0.35 | 18.33 | NA                |  NA |\n",
       "| 15 | White IPA                                    | /homebrew/recipe/view/8361/white-ipa                                  | American IPA                       |   7 | 37.85 | 1.064 | 1.017 | 6.20 |  64.67 | ⋯ | 60 | 1.071 | 70 | 1.20 | Specific Gravity | All Grain |   NA |    NA | NA                |  NA |\n",
       "| 16 | Pilsner Urquell BYO clone                    | /homebrew/recipe/view/3000/pilsner-urquell-byo-clone                  | Bohemian Pilsener                  |  31 | 41.64 | 1.051 | 1.013 | 4.92 |  36.80 | ⋯ | 60 |    NA | 75 |   NA | Specific Gravity | All Grain |   NA |    NA | NA                |  NA |\n",
       "| 17 | Tank 7 Clone                                 | /homebrew/recipe/view/23436/tank-7-clone                              | Saison                             | 134 | 20.82 | 1.073 | 1.015 | 7.63 |  44.94 | ⋯ | 60 | 1.054 | 70 |   NA | Specific Gravity | BIAB      |   NA |    NA | Corn Sugar        |  NA |\n",
       "| 18 | Bells two hearted clone                      | /homebrew/recipe/view/3837/bells-two-hearted-clone                    | American IPA                       |   7 | 20.82 | 1.073 | 1.018 | 7.14 |  61.83 | ⋯ | 60 | 1.061 | 75 |   NA | Specific Gravity | All Grain | 0.75 | 18.33 | NA                |  NA |\n",
       "| 19 | New Glarus Fat Squirrel Clone                | /homebrew/recipe/view/1435/new-glarus-fat-squirrel-clone              | Northern English Brown             | 113 | 20.82 | 1.046 | 1.010 | 4.61 |  13.64 | ⋯ | 90 | 1.033 | 70 |   NA | Specific Gravity | All Grain |   NA | 16.67 | Priming Sugar     |  NA |\n",
       "| 20 | Avg. Perfect Northeast IPA (NEIPA)           | /homebrew/recipe/view/363082/avg-perfect-northeast-ipa-neipa-         | American IPA                       |   7 | 21.77 | 1.062 | 1.013 | 6.50 |  53.30 | ⋯ | 60 | 1.048 | 70 | 1.25 | Specific Gravity | All Grain |   NA |    NA | Keg - Force Carb. |  NA |\n",
       "| 21 | Goose Island IPA Clone                       | /homebrew/recipe/view/28343/goose-island-ipa-clone                    | English IPA                        |  65 | 20.82 | 1.065 | 1.015 | 6.63 |  55.52 | ⋯ | 60 | 1.048 | 75 | 1.50 | Specific Gravity | All Grain |   NA | 17.78 | NA                |  NA |\n",
       "| 22 | Ballast Point Sculpin Ale Clone              | /homebrew/recipe/view/89253/ballast-point-sculpin-ale-clone           | Imperial IPA                       |  86 | 45.42 | 1.084 | 1.020 | 8.43 |  79.28 | ⋯ | 60 | 1.075 | 90 | 1.25 | Specific Gravity | All Grain | 1.00 | 20.56 | NA                |  NA |\n",
       "| 23 | Brooklyn Sorachi Ace                         | /homebrew/recipe/view/190892/brooklyn-sorachi-ace                     | Saison                             | 134 | 18.93 | 1.082 | 1.013 | 9.10 |   0.00 | ⋯ | 60 |    NA | 72 |   NA | Specific Gravity | All Grain |   NA |    NA | NA                |  NA |\n",
       "| 24 | Lagunitas IPA Clone                          | /homebrew/recipe/view/28344/lagunitas-ipa-clone                       | English IPA                        |  65 | 20.82 | 1.061 | 1.014 | 6.17 |  56.65 | ⋯ | 60 | 1.045 | 75 |   NA | Specific Gravity | All Grain |   NA |    NA | NA                |  NA |\n",
       "| 25 | NEIPA Hoppy ( juicy) -  Braumeister 20L      | /homebrew/recipe/view/295897/neipa-hoppy-juicy-braumeister-20l        | American IPA                       |   7 | 21.00 | 1.062 | 1.014 | 6.29 |  53.57 | ⋯ | 70 | 1.052 | 73 |   NA | Specific Gravity | BIAB      | 0.75 | 20.00 | NA                |  NA |\n",
       "| 26 | Dale's Pale Ale Clone                        | /homebrew/recipe/view/190430/dale-s-pale-ale-clone                    | American Pale Ale                  |  10 | 18.93 | 1.067 | 1.017 | 6.60 |   0.00 | ⋯ | 60 |    NA | 75 |   NA | Specific Gravity | All Grain |   NA |    NA | NA                |  NA |\n",
       "| 27 | IPA - Tired Hands Milkshake                  | /homebrew/recipe/view/392896/ipa-tired-hands-milkshake                | American IPA                       |   7 | 24.61 | 1.058 | 1.017 | 5.34 |  57.84 | ⋯ | 60 | 1.050 | 83 |   NA | Specific Gravity | BIAB      | 0.50 | 18.33 | NA                |  NA |\n",
       "| 28 | Bakke Brygg Julelager 20 l                   | /homebrew/recipe/view/73376/bakke-brygg-julelager-20-l                | Traditional Bock                   | 163 | 20.00 | 1.065 | 1.018 | 6.22 |  27.12 | ⋯ | 90 | 1.052 | 70 |   NA | Specific Gravity | All Grain |   NA | 10.00 | Sukkerlake        |  NA |\n",
       "| 29 | Grapefruit IPA                               | /homebrew/recipe/view/35541/grapefruit-ipa                            | American IPA                       |   7 | 26.50 | 1.052 | 1.012 | 5.31 |  60.58 | ⋯ | 60 | 1.043 | 70 | 1.30 | Specific Gravity | All Grain | 0.75 | 20.56 | NA                |  NA |\n",
       "| 30 | Bakke Brygg Robust Porter 50 l               | /homebrew/recipe/view/73679/bakke-brygg-robust-porter-50-l            | Robust Porter                      | 129 | 50.00 | 1.058 | 1.014 | 5.76 |  39.00 | ⋯ | 60 | 1.050 | 71 |   NA | Specific Gravity | All Grain |   NA | 18.00 | Sukkerlake        |  NA |\n",
       "| ⋮ | ⋮ | ⋮ | ⋮ | ⋮ | ⋮ | ⋮ | ⋮ | ⋮ | ⋮ | ⋱ | ⋮ | ⋮ | ⋮ | ⋮ | ⋮ | ⋮ | ⋮ | ⋮ | ⋮ | ⋮ |\n",
       "| 73832 | SMASH do Caboclo                | /homebrew/recipe/view/620568/smash-do-caboclo                | American IPA              |   7 |  21.00 | 1.047 | 1.005 | 5.58 |  27.50 | ⋯ | 60 | 1.035 | 60 | 2.60 | Specific Gravity | All Grain    | 0.35 | 20.00 | NA         | NA |\n",
       "| 73833 | Experimental Nordic Pine Saison | /homebrew/recipe/view/620846/experimental-nordic-pine-saison | Saison                    | 134 |  20.82 | 1.065 | 1.021 | 5.75 |  91.60 | ⋯ | 60 | 1.048 | 70 | 1.50 | Specific Gravity | All Grain    |   NA |    NA | NA         | NA |\n",
       "| 73834 | Cascade Cream Ale               | /homebrew/recipe/view/620852/cascade-cream-ale               | Cream Ale                 |  45 |  11.00 | 1.043 | 1.007 | 4.73 |  18.72 | ⋯ | 60 | 1.034 | 65 |   NA | Specific Gravity | BIAB         | 0.75 | 20.00 | Cane sugar | NA |\n",
       "| 73835 | Lobrau                          | /homebrew/recipe/view/620876/lobrau                          | British Golden Ale        |  35 |  40.00 | 1.051 | 1.014 | 4.78 |  42.34 | ⋯ | 60 | 1.044 | 65 | 3.00 | Specific Gravity | All Grain    | 1.25 | 20.00 | NA         | NA |\n",
       "| 73836 | IPA                             | /homebrew/recipe/view/620878/ipa                             | American IPA              |   7 |  25.00 | 1.060 | 1.011 | 6.34 |   0.00 | ⋯ | 60 | 1.052 | 70 | 3.00 | Specific Gravity | All Grain    | 1.00 | 18.00 | NA         | NA |\n",
       "| 73837 | CBR day                         | /homebrew/recipe/view/620886/cbr-day                         | Belgian Golden Strong Ale |  23 |  21.00 | 1.063 | 1.016 | 6.23 |   0.00 | ⋯ | 60 | 1.047 | 60 |   NA | Specific Gravity | BIAB         |   NA |    NA | NA         | NA |\n",
       "| 73838 | Liberty Bay IPA                 | /homebrew/recipe/view/620890/liberty-bay-ipa                 | American IPA              |   7 |  26.50 | 1.076 | 1.017 | 7.76 |  92.36 | ⋯ | 60 | 1.071 | 70 | 1.25 | Specific Gravity | All Grain    |   NA |    NA | NA         | NA |\n",
       "| 73839 | K&lt;U+001ACCE3&gt;h                  | /homebrew/recipe/view/620642/K&lt;U+001ACCE3&gt;h                  | K&lt;U+001ACCE3&gt;h            |  94 |  30.28 | 1.050 | 1.012 | 4.89 |   0.00 | ⋯ | 60 | 1.044 | 70 | 1.00 | Specific Gravity | All Grain    | 1.50 |    NA | Corn Sugar | NA |\n",
       "| 73840 | NZ IPA                          | /homebrew/recipe/view/612208/nz-ipa                          | American IPA              |   7 |  20.82 | 1.065 | 1.014 | 6.73 |  43.04 | ⋯ | 60 | 1.055 | 73 | 1.50 | Specific Gravity | All Grain    |   NA | 20.00 | NA         | NA |\n",
       "| 73841 | Red Cara Ale                    | /homebrew/recipe/view/620662/red-cara-ale                    | Irish Red Ale             |  92 |  38.00 | 1.051 | 1.011 | 5.23 |  10.27 | ⋯ | 60 | 1.055 | 70 | 3.10 | Specific Gravity | All Grain    | 0.50 | 20.00 | NA         | NA |\n",
       "| 73842 | Braumeister IPA 200L            | /homebrew/recipe/view/620695/braumeister-ipa-200l            | American IPA              |   7 | 200.00 | 1.046 | 1.008 | 4.94 | 238.63 | ⋯ | 80 | 1.045 | 75 | 1.50 | Specific Gravity | All Grain    | 0.35 | 20.00 | NA         | NA |\n",
       "| 73843 | 1SES                            | /homebrew/recipe/view/620714/1ses                            | American Light Lager      |   9 |  20.82 | 1.043 | 1.012 | 4.06 |  32.39 | ⋯ | 60 | 1.033 | 72 |   NA | Specific Gravity | BIAB         |   NA |    NA | NA         | NA |\n",
       "| 73844 | MARZEN                          | /homebrew/recipe/view/620734/marzen                          | M&lt;e4&gt;rzen                 | 102 |  18.93 | 1.058 | 1.013 | 5.86 |  23.56 | ⋯ | 60 | 1.041 | 65 |   NA | Specific Gravity | BIAB         | 1.75 | 10.00 | NA         | NA |\n",
       "| 73845 | Easy pale ale                   | /homebrew/recipe/view/620737/easy-pale-ale                   | American Light Lager      |   9 |  20.82 | 1.046 | 1.011 | 4.52 |   0.00 | ⋯ | 60 | 1.034 | 70 | 1.50 | Specific Gravity | All Grain    |   NA |    NA | NA         | NA |\n",
       "| 73846 | Sober as a Judge                | /homebrew/recipe/view/620757/sober-as-a-judge                | American IPA              |   7 |  20.82 | 1.041 | 1.010 | 4.12 |  46.83 | ⋯ | 60 | 1.035 | 68 | 1.50 | Specific Gravity | All Grain    | 0.50 | 21.11 | NA         | NA |\n",
       "| 73847 | Awesome Recipe                  | /homebrew/recipe/view/620764/awesome-recipe                  | American Light Lager      |   9 |  18.93 | 1.040 | 1.010 | 3.98 |   0.00 | ⋯ | 60 | 1.101 | 35 |   NA | Specific Gravity | extract      | 0.35 | 20.00 | NA         | NA |\n",
       "| 73848 | Party-Gyle Grisette             | /homebrew/recipe/view/620772/party-gyle-grisette             | Saison                    | 134 |  17.55 | 1.040 | 1.003 | 4.80 |  31.58 | ⋯ | 60 | 1.030 | 72 |   NA | Specific Gravity | BIAB         | 0.75 | 25.00 | NA         | NA |\n",
       "| 73849 | Perfect Brewing Red             | /homebrew/recipe/view/620773/perfect-brewing-red             | American Light Lager      |   9 |  18.93 | 1.057 | 1.014 | 5.65 |   0.00 | ⋯ | 60 | 1.044 | 70 | 1.25 | Specific Gravity | All Grain    |   NA |    NA | NA         | NA |\n",
       "| 73850 | Golden Slumbers IPA             | /homebrew/recipe/view/620786/golden-slumbers-ipa             | American IPA              |   7 |  18.93 | 1.049 | 1.010 | 5.20 |  97.08 | ⋯ | 60 | 1.038 | 65 | 1.25 | Specific Gravity | All Grain    |   NA | 21.11 | NA         | NA |\n",
       "| 73851 | Mo Honey Wheat                  | /homebrew/recipe/view/611460/-mo-honey-wheat                 | American Pale Ale         |  10 |  20.82 | 1.055 | 1.010 | 5.92 |  35.15 | ⋯ | 60 | 1.038 | 70 |   NA | Specific Gravity | BIAB         | 0.50 | 18.33 | NA         | NA |\n",
       "| 73852 | Blonde Stout                    | /homebrew/recipe/view/615556/blonde-stout                    | Experimental Beer         |  67 |  20.82 | 1.076 | 1.021 | 7.24 |  52.94 | ⋯ | 60 | 1.105 | 75 |   NA | Specific Gravity | Partial Mash | 0.75 | 21.11 | Corn Sugar | NA |\n",
       "| 73853 | Session Simcoe                  | /homebrew/recipe/view/618629/session-simcoe                  | American Pale Ale         |  10 |  21.00 | 1.038 | 1.008 | 4.05 |  36.60 | ⋯ | 60 | 1.028 | 70 | 3.00 | Specific Gravity | All Grain    |   NA | 20.00 | NA         | NA |\n",
       "| 73854 | Chris ford wheat ipa            | /homebrew/recipe/view/602248/chris-ford-wheat-ipa            | American IPA              |   7 |  18.93 | 1.073 | 1.018 | 7.15 |   0.00 | ⋯ | 60 | 1.060 | 70 |   NA | Specific Gravity | BIAB         |   NA |    NA | NA         | NA |\n",
       "| 73855 | X Files American Ale            | /homebrew/recipe/view/603016/x-files-american-ale            | American Pale Ale         |  10 |  18.93 | 1.064 | 1.016 | 6.26 |   0.00 | ⋯ | 60 | 1.042 | 75 |   NA | Specific Gravity | BIAB         |   NA |    NA | NA         | NA |\n",
       "| 73856 | Unicorn Pee                     | /homebrew/recipe/view/607368/unicorn-pee                     | American IPA              |   7 |  22.71 | 1.065 | 1.014 | 6.71 |  49.35 | ⋯ | 30 | 1.098 | 55 |   NA | Specific Gravity | Partial Mash | 0.50 |    NA | NA         | NA |\n",
       "| 73857 | Amber Alfie 2                   | /homebrew/recipe/view/609673/amber-alfie-2                   | British Strong Ale        |  36 |  21.00 | 1.052 | 1.012 | 5.22 |  39.73 | ⋯ | 60 | 1.060 | 63 | 3.00 | Specific Gravity | All Grain    | 1.25 | 20.00 | NA         | NA |\n",
       "| 73858 | Rye IPA                         | /homebrew/recipe/view/610955/rye-ipa                         | Specialty IPA: Rye IPA    | 151 |  10.00 | 1.059 | 1.010 | 6.37 |  59.21 | ⋯ | 60 | 1.034 | 60 |   NA | Specific Gravity | BIAB         | 0.50 | 22.00 | NA         | NA |\n",
       "| 73859 | SK-K&lt;U+001ACCE3&gt;h               | /homebrew/recipe/view/586891/                                | NA                        | 111 |  16.00 | 1.046 | 1.008 | 5.01 |  25.42 | ⋯ | 90 | 1.041 | 65 |   NA | Specific Gravity | BIAB         | 0.35 | 17.00 | sucrose    | NA |\n",
       "| 73860 | Flata R&lt;U+0802FB38&gt;ver          | /homebrew/recipe/view/603788/                                | Irish Red Ale             |  92 |  24.00 | 1.051 | 1.014 | 4.82 |  25.65 | ⋯ | 60 | 1.043 | 72 |   NA | Specific Gravity | All Grain    |   NA | 18.00 | Sukkerlake | NA |\n",
       "| 73861 | Elvis Juice IPA Clone           | /homebrew/recipe/view/613776/elvis-juice-ipa-clone           | American IPA              |   7 |  20.00 | 1.060 | 1.010 | 6.55 |  57.09 | ⋯ | 60 | 1.056 | 70 |   NA | Specific Gravity | Partial Mash |   NA | 18.00 | NA         | NA |\n",
       "\n"
      ],
      "text/plain": [
       "       BeerID Name                                        \n",
       "1       1     Vanilla Cream Ale                           \n",
       "2       2     Southern Tier Pumking clone                 \n",
       "3       3     Zombie Dust Clone - EXTRACT                 \n",
       "4       4     Zombie Dust Clone - ALL GRAIN               \n",
       "5       5     Bakke Brygg Belgisk Blonde 50 l             \n",
       "6       6     Sierra Nevada Pale Ale Clone                \n",
       "7       7     Russian River Pliny the Elder (original)    \n",
       "8       8     Spotted Clown (New Glarus Spotted Cow clone)\n",
       "9       9     Chocolate Vanilla Porter                    \n",
       "10     10     Mango Habanero IPA                          \n",
       "11     11     Bakke Brygg HveteIPA 25 L                   \n",
       "12     12     Hop Notch Clone                             \n",
       "13     13     Racer 5 IPA Clone                           \n",
       "14     14     Sam Adams Rebel IPA Clone                   \n",
       "15     15     White IPA                                   \n",
       "16     16     Pilsner Urquell BYO clone                   \n",
       "17     17     Tank 7 Clone                                \n",
       "18     18     Bells two hearted clone                     \n",
       "19     19     New Glarus Fat Squirrel Clone               \n",
       "20     20     Avg. Perfect Northeast IPA (NEIPA)          \n",
       "21     21     Goose Island IPA Clone                      \n",
       "22     22     Ballast Point Sculpin Ale Clone             \n",
       "23     23     Brooklyn Sorachi Ace                        \n",
       "24     24     Lagunitas IPA Clone                         \n",
       "25     25     NEIPA Hoppy ( juicy) -  Braumeister 20L     \n",
       "26     26     Dale's Pale Ale Clone                       \n",
       "27     27     IPA - Tired Hands Milkshake                 \n",
       "28     28     Bakke Brygg Julelager 20 l                  \n",
       "29     29     Grapefruit IPA                              \n",
       "30     30     Bakke Brygg Robust Porter 50 l              \n",
       "<U+22EE> <U+22EE> <U+22EE>                                    \n",
       "73832  73832  SMASH do Caboclo                            \n",
       "73833  73833  Experimental Nordic Pine Saison             \n",
       "73834  73834  Cascade Cream Ale                           \n",
       "73835  73835  Lobrau                                      \n",
       "73836  73836  IPA                                         \n",
       "73837  73837  CBR day                                     \n",
       "73838  73838  Liberty Bay IPA                             \n",
       "73839  73839  K<U+001ACCE3>h                              \n",
       "73840  73840  NZ IPA                                      \n",
       "73841  73841  Red Cara Ale                                \n",
       "73842  73842  Braumeister IPA 200L                        \n",
       "73843  73843  1SES                                        \n",
       "73844  73844  MARZEN                                      \n",
       "73845  73845  Easy pale ale                               \n",
       "73846  73846  Sober as a Judge                            \n",
       "73847  73847  Awesome Recipe                              \n",
       "73848  73848  Party-Gyle Grisette                         \n",
       "73849  73849  Perfect Brewing Red                         \n",
       "73850  73850  Golden Slumbers IPA                         \n",
       "73851  73851  Mo Honey Wheat                              \n",
       "73852  73852  Blonde Stout                                \n",
       "73853  73853  Session Simcoe                              \n",
       "73854  73854  Chris ford wheat ipa                        \n",
       "73855  73855  X Files American Ale                        \n",
       "73856  73856  Unicorn Pee                                 \n",
       "73857  73857  Amber Alfie 2                               \n",
       "73858  73858  Rye IPA                                     \n",
       "73859  73859  SK-K<U+001ACCE3>h                           \n",
       "73860  73860  Flata R<U+0802FB38>ver                      \n",
       "73861  73861  Elvis Juice IPA Clone                       \n",
       "       URL                                                                  \n",
       "1      /homebrew/recipe/view/1633/vanilla-cream-ale                         \n",
       "2      /homebrew/recipe/view/16367/southern-tier-pumking-clone              \n",
       "3      /homebrew/recipe/view/5920/zombie-dust-clone-extract                 \n",
       "4      /homebrew/recipe/view/5916/zombie-dust-clone-all-grain               \n",
       "5      /homebrew/recipe/view/89534/bakke-brygg-belgisk-blonde-50-l          \n",
       "6      /homebrew/recipe/view/28546/sierra-nevada-pale-ale-clone             \n",
       "7      /homebrew/recipe/view/37534/russian-river-pliny-the-elder-original-  \n",
       "8      /homebrew/recipe/view/672/spotted-clown-new-glarus-spotted-cow-clone-\n",
       "9      /homebrew/recipe/view/29265/chocolate-vanilla-porter                 \n",
       "10     /homebrew/recipe/view/61082/mango-habanero-ipa                       \n",
       "11     /homebrew/recipe/view/73890/bakke-brygg-hveteipa-25-l                \n",
       "12     /homebrew/recipe/view/10092/hop-notch-clone                          \n",
       "13     /homebrew/recipe/view/23246/racer-5-ipa-clone                        \n",
       "14     /homebrew/recipe/view/106996/sam-adams-rebel-ipa-clone               \n",
       "15     /homebrew/recipe/view/8361/white-ipa                                 \n",
       "16     /homebrew/recipe/view/3000/pilsner-urquell-byo-clone                 \n",
       "17     /homebrew/recipe/view/23436/tank-7-clone                             \n",
       "18     /homebrew/recipe/view/3837/bells-two-hearted-clone                   \n",
       "19     /homebrew/recipe/view/1435/new-glarus-fat-squirrel-clone             \n",
       "20     /homebrew/recipe/view/363082/avg-perfect-northeast-ipa-neipa-        \n",
       "21     /homebrew/recipe/view/28343/goose-island-ipa-clone                   \n",
       "22     /homebrew/recipe/view/89253/ballast-point-sculpin-ale-clone          \n",
       "23     /homebrew/recipe/view/190892/brooklyn-sorachi-ace                    \n",
       "24     /homebrew/recipe/view/28344/lagunitas-ipa-clone                      \n",
       "25     /homebrew/recipe/view/295897/neipa-hoppy-juicy-braumeister-20l       \n",
       "26     /homebrew/recipe/view/190430/dale-s-pale-ale-clone                   \n",
       "27     /homebrew/recipe/view/392896/ipa-tired-hands-milkshake               \n",
       "28     /homebrew/recipe/view/73376/bakke-brygg-julelager-20-l               \n",
       "29     /homebrew/recipe/view/35541/grapefruit-ipa                           \n",
       "30     /homebrew/recipe/view/73679/bakke-brygg-robust-porter-50-l           \n",
       "<U+22EE> <U+22EE>                                                             \n",
       "73832  /homebrew/recipe/view/620568/smash-do-caboclo                        \n",
       "73833  /homebrew/recipe/view/620846/experimental-nordic-pine-saison         \n",
       "73834  /homebrew/recipe/view/620852/cascade-cream-ale                       \n",
       "73835  /homebrew/recipe/view/620876/lobrau                                  \n",
       "73836  /homebrew/recipe/view/620878/ipa                                     \n",
       "73837  /homebrew/recipe/view/620886/cbr-day                                 \n",
       "73838  /homebrew/recipe/view/620890/liberty-bay-ipa                         \n",
       "73839  /homebrew/recipe/view/620642/K<U+001ACCE3>h                          \n",
       "73840  /homebrew/recipe/view/612208/nz-ipa                                  \n",
       "73841  /homebrew/recipe/view/620662/red-cara-ale                            \n",
       "73842  /homebrew/recipe/view/620695/braumeister-ipa-200l                    \n",
       "73843  /homebrew/recipe/view/620714/1ses                                    \n",
       "73844  /homebrew/recipe/view/620734/marzen                                  \n",
       "73845  /homebrew/recipe/view/620737/easy-pale-ale                           \n",
       "73846  /homebrew/recipe/view/620757/sober-as-a-judge                        \n",
       "73847  /homebrew/recipe/view/620764/awesome-recipe                          \n",
       "73848  /homebrew/recipe/view/620772/party-gyle-grisette                     \n",
       "73849  /homebrew/recipe/view/620773/perfect-brewing-red                     \n",
       "73850  /homebrew/recipe/view/620786/golden-slumbers-ipa                     \n",
       "73851  /homebrew/recipe/view/611460/-mo-honey-wheat                         \n",
       "73852  /homebrew/recipe/view/615556/blonde-stout                            \n",
       "73853  /homebrew/recipe/view/618629/session-simcoe                          \n",
       "73854  /homebrew/recipe/view/602248/chris-ford-wheat-ipa                    \n",
       "73855  /homebrew/recipe/view/603016/x-files-american-ale                    \n",
       "73856  /homebrew/recipe/view/607368/unicorn-pee                             \n",
       "73857  /homebrew/recipe/view/609673/amber-alfie-2                           \n",
       "73858  /homebrew/recipe/view/610955/rye-ipa                                 \n",
       "73859  /homebrew/recipe/view/586891/                                        \n",
       "73860  /homebrew/recipe/view/603788/                                        \n",
       "73861  /homebrew/recipe/view/613776/elvis-juice-ipa-clone                   \n",
       "       Style                              StyleID Size(L) OG     FG     ABV   \n",
       "1      Cream Ale                           45     21.77   1.055  1.013  5.48  \n",
       "2      Holiday/Winter Special Spiced Beer  85     20.82   1.083  1.021  8.16  \n",
       "3      American IPA                         7     18.93   1.063  1.018  5.91  \n",
       "4      American IPA                         7     22.71   1.061  1.017  5.80  \n",
       "5      Belgian Blond Ale                   20     50.00   1.060  1.010  6.48  \n",
       "6      American Pale Ale                   10     24.61   1.055  1.013  5.58  \n",
       "7      Imperial IPA                        86     22.71   1.072  1.018  7.09  \n",
       "8      Cream Ale                           45     20.82   1.054  1.014  5.36  \n",
       "9      Robust Porter                      129     22.71   1.060  1.016  5.77  \n",
       "10     Imperial IPA                        86     20.82   1.080  1.017  8.22  \n",
       "11     American IPA                         7     25.00   1.064  1.014  6.63  \n",
       "12     American IPA                         7     15.14   1.066  1.015  6.62  \n",
       "13     American IPA                         7     20.82   1.073  1.019  7.07  \n",
       "14     American IPA                         7     18.93   1.066  1.017  6.51  \n",
       "15     American IPA                         7     37.85   1.064  1.017  6.20  \n",
       "16     Bohemian Pilsener                   31     41.64   1.051  1.013  4.92  \n",
       "17     Saison                             134     20.82   1.073  1.015  7.63  \n",
       "18     American IPA                         7     20.82   1.073  1.018  7.14  \n",
       "19     Northern English Brown             113     20.82   1.046  1.010  4.61  \n",
       "20     American IPA                         7     21.77   1.062  1.013  6.50  \n",
       "21     English IPA                         65     20.82   1.065  1.015  6.63  \n",
       "22     Imperial IPA                        86     45.42   1.084  1.020  8.43  \n",
       "23     Saison                             134     18.93   1.082  1.013  9.10  \n",
       "24     English IPA                         65     20.82   1.061  1.014  6.17  \n",
       "25     American IPA                         7     21.00   1.062  1.014  6.29  \n",
       "26     American Pale Ale                   10     18.93   1.067  1.017  6.60  \n",
       "27     American IPA                         7     24.61   1.058  1.017  5.34  \n",
       "28     Traditional Bock                   163     20.00   1.065  1.018  6.22  \n",
       "29     American IPA                         7     26.50   1.052  1.012  5.31  \n",
       "30     Robust Porter                      129     50.00   1.058  1.014  5.76  \n",
       "<U+22EE> <U+22EE>                           <U+22EE> <U+22EE> <U+22EE> <U+22EE> <U+22EE>\n",
       "73832  American IPA                         7      21.00  1.047  1.005  5.58  \n",
       "73833  Saison                             134      20.82  1.065  1.021  5.75  \n",
       "73834  Cream Ale                           45      11.00  1.043  1.007  4.73  \n",
       "73835  British Golden Ale                  35      40.00  1.051  1.014  4.78  \n",
       "73836  American IPA                         7      25.00  1.060  1.011  6.34  \n",
       "73837  Belgian Golden Strong Ale           23      21.00  1.063  1.016  6.23  \n",
       "73838  American IPA                         7      26.50  1.076  1.017  7.76  \n",
       "73839  K<U+001ACCE3>h                      94      30.28  1.050  1.012  4.89  \n",
       "73840  American IPA                         7      20.82  1.065  1.014  6.73  \n",
       "73841  Irish Red Ale                       92      38.00  1.051  1.011  5.23  \n",
       "73842  American IPA                         7     200.00  1.046  1.008  4.94  \n",
       "73843  American Light Lager                 9      20.82  1.043  1.012  4.06  \n",
       "73844  M<e4>rzen                          102      18.93  1.058  1.013  5.86  \n",
       "73845  American Light Lager                 9      20.82  1.046  1.011  4.52  \n",
       "73846  American IPA                         7      20.82  1.041  1.010  4.12  \n",
       "73847  American Light Lager                 9      18.93  1.040  1.010  3.98  \n",
       "73848  Saison                             134      17.55  1.040  1.003  4.80  \n",
       "73849  American Light Lager                 9      18.93  1.057  1.014  5.65  \n",
       "73850  American IPA                         7      18.93  1.049  1.010  5.20  \n",
       "73851  American Pale Ale                   10      20.82  1.055  1.010  5.92  \n",
       "73852  Experimental Beer                   67      20.82  1.076  1.021  7.24  \n",
       "73853  American Pale Ale                   10      21.00  1.038  1.008  4.05  \n",
       "73854  American IPA                         7      18.93  1.073  1.018  7.15  \n",
       "73855  American Pale Ale                   10      18.93  1.064  1.016  6.26  \n",
       "73856  American IPA                         7      22.71  1.065  1.014  6.71  \n",
       "73857  British Strong Ale                  36      21.00  1.052  1.012  5.22  \n",
       "73858  Specialty IPA: Rye IPA             151      10.00  1.059  1.010  6.37  \n",
       "73859  NA                                 111      16.00  1.046  1.008  5.01  \n",
       "73860  Irish Red Ale                       92      24.00  1.051  1.014  4.82  \n",
       "73861  American IPA                         7      20.00  1.060  1.010  6.55  \n",
       "       IBU    <U+22EF>   BoilTime BoilGravity Efficiency MashThickness\n",
       "1       17.65 <U+22EF> 75       1.038       70           NA         \n",
       "2       60.65 <U+22EF> 60       1.070       70           NA         \n",
       "3       59.25 <U+22EF> 60          NA       70           NA         \n",
       "4       54.48 <U+22EF> 60          NA       70           NA         \n",
       "5       17.84 <U+22EF> 90       1.050       72           NA         \n",
       "6       40.12 <U+22EF> 70       1.047       79           NA         \n",
       "7      268.71 <U+22EF> 90          NA       75           NA         \n",
       "8       19.97 <U+22EF> 75       1.040       70         1.40         \n",
       "9       31.63 <U+22EF> 75       1.042       73           NA         \n",
       "10      93.02 <U+22EF> 60       1.058       70           NA         \n",
       "11      64.26 <U+22EF> 90       1.055       74           NA         \n",
       "12     111.00 <U+22EF> 90          NA       70           NA         \n",
       "13      69.72 <U+22EF> 60          NA       70           NA         \n",
       "14      60.96 <U+22EF> 60       1.110       30           NA         \n",
       "15      64.67 <U+22EF> 60       1.071       70         1.20         \n",
       "16      36.80 <U+22EF> 60          NA       75           NA         \n",
       "17      44.94 <U+22EF> 60       1.054       70           NA         \n",
       "18      61.83 <U+22EF> 60       1.061       75           NA         \n",
       "19      13.64 <U+22EF> 90       1.033       70           NA         \n",
       "20      53.30 <U+22EF> 60       1.048       70         1.25         \n",
       "21      55.52 <U+22EF> 60       1.048       75         1.50         \n",
       "22      79.28 <U+22EF> 60       1.075       90         1.25         \n",
       "23       0.00 <U+22EF> 60          NA       72           NA         \n",
       "24      56.65 <U+22EF> 60       1.045       75           NA         \n",
       "25      53.57 <U+22EF> 70       1.052       73           NA         \n",
       "26       0.00 <U+22EF> 60          NA       75           NA         \n",
       "27      57.84 <U+22EF> 60       1.050       83           NA         \n",
       "28      27.12 <U+22EF> 90       1.052       70           NA         \n",
       "29      60.58 <U+22EF> 60       1.043       70         1.30         \n",
       "30      39.00 <U+22EF> 60       1.050       71           NA         \n",
       "<U+22EE> <U+22EE> <U+22F1> <U+22EE> <U+22EE>    <U+22EE>   <U+22EE>     \n",
       "73832   27.50 <U+22EF> 60       1.035       60         2.60         \n",
       "73833   91.60 <U+22EF> 60       1.048       70         1.50         \n",
       "73834   18.72 <U+22EF> 60       1.034       65           NA         \n",
       "73835   42.34 <U+22EF> 60       1.044       65         3.00         \n",
       "73836    0.00 <U+22EF> 60       1.052       70         3.00         \n",
       "73837    0.00 <U+22EF> 60       1.047       60           NA         \n",
       "73838   92.36 <U+22EF> 60       1.071       70         1.25         \n",
       "73839    0.00 <U+22EF> 60       1.044       70         1.00         \n",
       "73840   43.04 <U+22EF> 60       1.055       73         1.50         \n",
       "73841   10.27 <U+22EF> 60       1.055       70         3.10         \n",
       "73842  238.63 <U+22EF> 80       1.045       75         1.50         \n",
       "73843   32.39 <U+22EF> 60       1.033       72           NA         \n",
       "73844   23.56 <U+22EF> 60       1.041       65           NA         \n",
       "73845    0.00 <U+22EF> 60       1.034       70         1.50         \n",
       "73846   46.83 <U+22EF> 60       1.035       68         1.50         \n",
       "73847    0.00 <U+22EF> 60       1.101       35           NA         \n",
       "73848   31.58 <U+22EF> 60       1.030       72           NA         \n",
       "73849    0.00 <U+22EF> 60       1.044       70         1.25         \n",
       "73850   97.08 <U+22EF> 60       1.038       65         1.25         \n",
       "73851   35.15 <U+22EF> 60       1.038       70           NA         \n",
       "73852   52.94 <U+22EF> 60       1.105       75           NA         \n",
       "73853   36.60 <U+22EF> 60       1.028       70         3.00         \n",
       "73854    0.00 <U+22EF> 60       1.060       70           NA         \n",
       "73855    0.00 <U+22EF> 60       1.042       75           NA         \n",
       "73856   49.35 <U+22EF> 30       1.098       55           NA         \n",
       "73857   39.73 <U+22EF> 60       1.060       63         3.00         \n",
       "73858   59.21 <U+22EF> 60       1.034       60           NA         \n",
       "73859   25.42 <U+22EF> 90       1.041       65           NA         \n",
       "73860   25.65 <U+22EF> 60       1.043       72           NA         \n",
       "73861   57.09 <U+22EF> 60       1.056       70           NA         \n",
       "       SugarScale       BrewMethod   PitchRate PrimaryTemp PrimingMethod    \n",
       "1      Specific Gravity All Grain      NA      17.78       corn sugar       \n",
       "2      Specific Gravity All Grain      NA         NA       NA               \n",
       "3      Specific Gravity extract        NA         NA       NA               \n",
       "4      Specific Gravity All Grain      NA         NA       NA               \n",
       "5      Specific Gravity All Grain      NA      19.00       Sukkerlake       \n",
       "6      Specific Gravity All Grain    1.00         NA       NA               \n",
       "7      Specific Gravity All Grain      NA         NA       NA               \n",
       "8      Specific Gravity All Grain      NA         NA       corn sugar       \n",
       "9      Specific Gravity All Grain      NA         NA       corn sugar       \n",
       "10     Specific Gravity All Grain      NA      21.11       Corn Sugar       \n",
       "11     Specific Gravity All Grain    1.00      18.00       Sukkerlake       \n",
       "12     Specific Gravity BIAB           NA         NA       NA               \n",
       "13     Specific Gravity All Grain      NA         NA       NA               \n",
       "14     Specific Gravity extract      0.35      18.33       NA               \n",
       "15     Specific Gravity All Grain      NA         NA       NA               \n",
       "16     Specific Gravity All Grain      NA         NA       NA               \n",
       "17     Specific Gravity BIAB           NA         NA       Corn Sugar       \n",
       "18     Specific Gravity All Grain    0.75      18.33       NA               \n",
       "19     Specific Gravity All Grain      NA      16.67       Priming Sugar    \n",
       "20     Specific Gravity All Grain      NA         NA       Keg - Force Carb.\n",
       "21     Specific Gravity All Grain      NA      17.78       NA               \n",
       "22     Specific Gravity All Grain    1.00      20.56       NA               \n",
       "23     Specific Gravity All Grain      NA         NA       NA               \n",
       "24     Specific Gravity All Grain      NA         NA       NA               \n",
       "25     Specific Gravity BIAB         0.75      20.00       NA               \n",
       "26     Specific Gravity All Grain      NA         NA       NA               \n",
       "27     Specific Gravity BIAB         0.50      18.33       NA               \n",
       "28     Specific Gravity All Grain      NA      10.00       Sukkerlake       \n",
       "29     Specific Gravity All Grain    0.75      20.56       NA               \n",
       "30     Specific Gravity All Grain      NA      18.00       Sukkerlake       \n",
       "<U+22EE> <U+22EE>         <U+22EE>     <U+22EE>  <U+22EE>    <U+22EE>         \n",
       "73832  Specific Gravity All Grain    0.35      20.00       NA               \n",
       "73833  Specific Gravity All Grain      NA         NA       NA               \n",
       "73834  Specific Gravity BIAB         0.75      20.00       Cane sugar       \n",
       "73835  Specific Gravity All Grain    1.25      20.00       NA               \n",
       "73836  Specific Gravity All Grain    1.00      18.00       NA               \n",
       "73837  Specific Gravity BIAB           NA         NA       NA               \n",
       "73838  Specific Gravity All Grain      NA         NA       NA               \n",
       "73839  Specific Gravity All Grain    1.50         NA       Corn Sugar       \n",
       "73840  Specific Gravity All Grain      NA      20.00       NA               \n",
       "73841  Specific Gravity All Grain    0.50      20.00       NA               \n",
       "73842  Specific Gravity All Grain    0.35      20.00       NA               \n",
       "73843  Specific Gravity BIAB           NA         NA       NA               \n",
       "73844  Specific Gravity BIAB         1.75      10.00       NA               \n",
       "73845  Specific Gravity All Grain      NA         NA       NA               \n",
       "73846  Specific Gravity All Grain    0.50      21.11       NA               \n",
       "73847  Specific Gravity extract      0.35      20.00       NA               \n",
       "73848  Specific Gravity BIAB         0.75      25.00       NA               \n",
       "73849  Specific Gravity All Grain      NA         NA       NA               \n",
       "73850  Specific Gravity All Grain      NA      21.11       NA               \n",
       "73851  Specific Gravity BIAB         0.50      18.33       NA               \n",
       "73852  Specific Gravity Partial Mash 0.75      21.11       Corn Sugar       \n",
       "73853  Specific Gravity All Grain      NA      20.00       NA               \n",
       "73854  Specific Gravity BIAB           NA         NA       NA               \n",
       "73855  Specific Gravity BIAB           NA         NA       NA               \n",
       "73856  Specific Gravity Partial Mash 0.50         NA       NA               \n",
       "73857  Specific Gravity All Grain    1.25      20.00       NA               \n",
       "73858  Specific Gravity BIAB         0.50      22.00       NA               \n",
       "73859  Specific Gravity BIAB         0.35      17.00       sucrose          \n",
       "73860  Specific Gravity All Grain      NA      18.00       Sukkerlake       \n",
       "73861  Specific Gravity Partial Mash   NA      18.00       NA               \n",
       "       PrimingAmount\n",
       "1      4.5          \n",
       "2       NA          \n",
       "3       NA          \n",
       "4       NA          \n",
       "5       NA          \n",
       "6       NA          \n",
       "7       NA          \n",
       "8      4.2          \n",
       "9      4.0          \n",
       "10      NA          \n",
       "11      NA          \n",
       "12      NA          \n",
       "13      NA          \n",
       "14      NA          \n",
       "15      NA          \n",
       "16      NA          \n",
       "17      NA          \n",
       "18      NA          \n",
       "19      NA          \n",
       "20      NA          \n",
       "21      NA          \n",
       "22      NA          \n",
       "23      NA          \n",
       "24      NA          \n",
       "25      NA          \n",
       "26      NA          \n",
       "27      NA          \n",
       "28      NA          \n",
       "29      NA          \n",
       "30      NA          \n",
       "<U+22EE> <U+22EE>     \n",
       "73832  NA           \n",
       "73833  NA           \n",
       "73834  NA           \n",
       "73835  NA           \n",
       "73836  NA           \n",
       "73837  NA           \n",
       "73838  NA           \n",
       "73839  NA           \n",
       "73840  NA           \n",
       "73841  NA           \n",
       "73842  NA           \n",
       "73843  NA           \n",
       "73844  NA           \n",
       "73845  NA           \n",
       "73846  NA           \n",
       "73847  NA           \n",
       "73848  NA           \n",
       "73849  NA           \n",
       "73850  NA           \n",
       "73851  NA           \n",
       "73852  NA           \n",
       "73853  NA           \n",
       "73854  NA           \n",
       "73855  NA           \n",
       "73856  NA           \n",
       "73857  NA           \n",
       "73858  NA           \n",
       "73859  NA           \n",
       "73860  NA           \n",
       "73861  NA           "
      ]
     },
     "metadata": {},
     "output_type": "display_data"
    }
   ],
   "source": [
    "# This is to fix a bug in our system\n",
    "Sys.setlocale('LC_ALL','C')\n",
    "beer_recipes2"
   ]
  },
  {
   "cell_type": "markdown",
   "metadata": {},
   "source": [
    "# Database access\n",
    "\n",
    "There exists a package `DBI` that defines a common interface that can be used to access various different databases [[DBI]](https://dbi.r-dbi.org/).\n",
    "\n",
    "When using `DBI`, one can also use `dbplyr` to run `tidyverse` verbs (`select`, `map`, etc.) to database queries without loading the whole database into memory."
   ]
  },
  {
   "cell_type": "code",
   "execution_count": 13,
   "metadata": {},
   "outputs": [
    {
     "name": "stderr",
     "output_type": "stream",
     "text": [
      "\n",
      "Attaching package: 'dbplyr'\n",
      "\n",
      "\n",
      "The following objects are masked from 'package:dplyr':\n",
      "\n",
      "    ident, sql\n",
      "\n",
      "\n"
     ]
    }
   ],
   "source": [
    "if (!file.exists('rlibs')) {\n",
    "    dir.create('rlibs')\n",
    "}\n",
    "if (!file.exists('rlibs/DBI')) {\n",
    "    install.packages('DBI', repos=\"http://cran.r-project.org\", lib='rlibs')\n",
    "}\n",
    "if (!file.exists('rlibs/dbplyr')) {\n",
    "    install.packages('dbplyr', repos=\"http://cran.r-project.org\", lib='rlibs')\n",
    "}\n",
    "library(DBI, lib.loc='rlibs')\n",
    "library(dbplyr, lib.loc='rlibs')"
   ]
  },
  {
   "cell_type": "markdown",
   "metadata": {},
   "source": [
    "Let's use `tbl_memdb` from `dbplyr` to add `beer_recipes` to a temporary in-memory database [[tbl_memdb]](https://dbplyr.tidyverse.org/reference/memdb_frame.html)."
   ]
  },
  {
   "cell_type": "code",
   "execution_count": 14,
   "metadata": {},
   "outputs": [],
   "source": [
    "beers_db <- tbl_memdb(beer_recipes)"
   ]
  },
  {
   "cell_type": "markdown",
   "metadata": {},
   "source": [
    "The returned object is a SQL table that acts like a tibble."
   ]
  },
  {
   "cell_type": "code",
   "execution_count": 15,
   "metadata": {},
   "outputs": [
    {
     "name": "stdout",
     "output_type": "stream",
     "text": [
      "\u001b[90m# Source:   table<beer_recipes> [?? x 22]\u001b[39m\n",
      "\u001b[90m# Database: sqlite 3.22.0 [:memory:]\u001b[39m\n",
      "   BeerID Name  URL   Style StyleID `Size(L)`    OG    FG   ABV   IBU Color\n",
      "    \u001b[3m\u001b[90m<dbl>\u001b[39m\u001b[23m \u001b[3m\u001b[90m<chr>\u001b[39m\u001b[23m \u001b[3m\u001b[90m<chr>\u001b[39m\u001b[23m \u001b[3m\u001b[90m<chr>\u001b[39m\u001b[23m   \u001b[3m\u001b[90m<dbl>\u001b[39m\u001b[23m     \u001b[3m\u001b[90m<dbl>\u001b[39m\u001b[23m \u001b[3m\u001b[90m<dbl>\u001b[39m\u001b[23m \u001b[3m\u001b[90m<dbl>\u001b[39m\u001b[23m \u001b[3m\u001b[90m<dbl>\u001b[39m\u001b[23m \u001b[3m\u001b[90m<dbl>\u001b[39m\u001b[23m \u001b[3m\u001b[90m<dbl>\u001b[39m\u001b[23m\n",
      "\u001b[90m 1\u001b[39m      1 Vani~ /hom~ Crea~      45      21.8  1.06  1.01  5.48  17.6  4.83\n",
      "\u001b[90m 2\u001b[39m      2 Sout~ /hom~ Holi~      85      20.8  1.08  1.02  8.16  60.6 15.6 \n",
      "\u001b[90m 3\u001b[39m      3 Zomb~ /hom~ Amer~       7      18.9  1.06  1.02  5.91  59.2  8.98\n",
      "\u001b[90m 4\u001b[39m      4 Zomb~ /hom~ Amer~       7      22.7  1.06  1.02  5.8   54.5  8.5 \n",
      "\u001b[90m 5\u001b[39m      5 Bakk~ /hom~ Belg~      20      50    1.06  1.01  6.48  17.8  4.57\n",
      "\u001b[90m 6\u001b[39m      6 Sier~ /hom~ Amer~      10      24.6  1.06  1.01  5.58  40.1  8   \n",
      "\u001b[90m 7\u001b[39m      7 Russ~ /hom~ Impe~      86      22.7  1.07  1.02  7.09 269.   6.33\n",
      "\u001b[90m 8\u001b[39m      8 Spot~ /hom~ Crea~      45      20.8  1.05  1.01  5.36  20.0  5.94\n",
      "\u001b[90m 9\u001b[39m      9 Choc~ /hom~ Robu~     129      22.7  1.06  1.02  5.77  31.6 34.8 \n",
      "\u001b[90m10\u001b[39m     10 Mang~ /hom~ Impe~      86      20.8  1.08  1.02  8.22  93.0  8.29\n",
      "\u001b[90m# ... with more rows, and 11 more variables: BoilSize \u001b[3m\u001b[90m<dbl>\u001b[90m\u001b[23m, BoilTime \u001b[3m\u001b[90m<dbl>\u001b[90m\u001b[23m,\n",
      "#   BoilGravity \u001b[3m\u001b[90m<dbl>\u001b[90m\u001b[23m, Efficiency \u001b[3m\u001b[90m<dbl>\u001b[90m\u001b[23m, MashThickness \u001b[3m\u001b[90m<dbl>\u001b[90m\u001b[23m, SugarScale \u001b[3m\u001b[90m<chr>\u001b[90m\u001b[23m,\n",
      "#   BrewMethod \u001b[3m\u001b[90m<chr>\u001b[90m\u001b[23m, PitchRate \u001b[3m\u001b[90m<dbl>\u001b[90m\u001b[23m, PrimaryTemp \u001b[3m\u001b[90m<dbl>\u001b[90m\u001b[23m, PrimingMethod \u001b[3m\u001b[90m<chr>\u001b[90m\u001b[23m,\n",
      "#   PrimingAmount \u001b[3m\u001b[90m<dbl>\u001b[90m\u001b[23m\u001b[39m\n"
     ]
    },
    {
     "data": {
      "text/plain": [
       "\u001b[90m# Source:   lazy query [?? x 4]\u001b[39m\n",
       "\u001b[90m# Database: sqlite 3.22.0 [:memory:]\u001b[39m\n",
       "   Name                                           ABV    OG    FG\n",
       "   \u001b[3m\u001b[90m<chr>\u001b[39m\u001b[23m                                        \u001b[3m\u001b[90m<dbl>\u001b[39m\u001b[23m \u001b[3m\u001b[90m<dbl>\u001b[39m\u001b[23m \u001b[3m\u001b[90m<dbl>\u001b[39m\u001b[23m\n",
       "\u001b[90m 1\u001b[39m Vanilla Cream Ale                             5.48  1.06  1.01\n",
       "\u001b[90m 2\u001b[39m Southern Tier Pumking clone                   8.16  1.08  1.02\n",
       "\u001b[90m 3\u001b[39m Zombie Dust Clone - EXTRACT                   5.91  1.06  1.02\n",
       "\u001b[90m 4\u001b[39m Zombie Dust Clone - ALL GRAIN                 5.8   1.06  1.02\n",
       "\u001b[90m 5\u001b[39m Bakke Brygg Belgisk Blonde 50 l               6.48  1.06  1.01\n",
       "\u001b[90m 6\u001b[39m Sierra Nevada Pale Ale Clone                  5.58  1.06  1.01\n",
       "\u001b[90m 7\u001b[39m Russian River Pliny the Elder (original)      7.09  1.07  1.02\n",
       "\u001b[90m 8\u001b[39m Spotted Clown (New Glarus Spotted Cow clone)  5.36  1.05  1.01\n",
       "\u001b[90m 9\u001b[39m Chocolate Vanilla Porter                      5.77  1.06  1.02\n",
       "\u001b[90m10\u001b[39m Mango Habanero IPA                            8.22  1.08  1.02\n",
       "\u001b[90m# ... with more rows\u001b[39m"
      ]
     },
     "metadata": {},
     "output_type": "display_data"
    }
   ],
   "source": [
    "print(beers_db)\n",
    "beers_db %>%\n",
    "    select(Name, ABV, OG, FG)"
   ]
  },
  {
   "cell_type": "markdown",
   "metadata": {},
   "source": [
    "The difference between using normal tibbles and this database connection is that database queries are all connected and only evaluated when data is requsted. One can see the query that would be made with `show_query` [[show_query]](https://dplyr.tidyverse.org/reference/explain.html)."
   ]
  },
  {
   "cell_type": "code",
   "execution_count": 16,
   "metadata": {},
   "outputs": [
    {
     "name": "stdout",
     "output_type": "stream",
     "text": [
      "<SQL>\n"
     ]
    },
    {
     "name": "stderr",
     "output_type": "stream",
     "text": [
      "Warning message:\n",
      "\"Missing values are always removed in SQL.\n",
      "Use `mean(x, na.rm = TRUE)` to silence this warning\n",
      "This warning is displayed only once per session.\"\n"
     ]
    },
    {
     "name": "stdout",
     "output_type": "stream",
     "text": [
      "SELECT AVG(`OG`) AS `mean`\n",
      "FROM `beer_recipes`\n",
      "WHERE (`ABV` > 5.0)\n"
     ]
    }
   ],
   "source": [
    "beers_db %>%\n",
    "    filter(ABV > 5) %>%\n",
    "    summarise(mean = mean(OG)) %>%\n",
    "    show_query()\n"
   ]
  },
  {
   "cell_type": "markdown",
   "metadata": {},
   "source": [
    "One can collect the data to the current R session with `collect` [[collect]](https://dbplyr.tidyverse.org/reference/collapse.tbl_sql.html)."
   ]
  },
  {
   "cell_type": "code",
   "execution_count": 17,
   "metadata": {},
   "outputs": [
    {
     "name": "stdout",
     "output_type": "stream",
     "text": [
      "Classes 'tbl_df', 'tbl' and 'data.frame':\t57351 obs. of  4 variables:\n",
      " $ Name: chr  \"Vanilla Cream Ale\" \"Southern Tier Pumking clone\" \"Zombie Dust Clone - EXTRACT\" \"Zombie Dust Clone - ALL GRAIN\" ...\n",
      " $ ABV : num  5.48 8.16 5.91 5.8 6.48 5.58 7.09 5.36 5.77 8.22 ...\n",
      " $ OG  : num  1.05 1.08 1.06 1.06 1.06 ...\n",
      " $ FG  : num  1.01 1.02 1.02 1.02 1.01 ...\n"
     ]
    }
   ],
   "source": [
    "beers_over_5abv <- beers_db %>%\n",
    "    filter(ABV > 5) %>%\n",
    "    select(Name, ABV, OG, FG) %>%\n",
    "    collect()\n",
    "str(beers_over_5abv)"
   ]
  },
  {
   "cell_type": "markdown",
   "metadata": {},
   "source": [
    "To remove tables from the temporary memory database, one needs to get the connection to it with `src_memdb` and `db_drop_table` from `dplyr`'s SQL backend [[src_memdb]](https://dbplyr.tidyverse.org/rmeference/memdb_frame.html) [[db_drop_table]](https://dplyr.tidyverse.org/reference/backend_dbplyr.html)."
   ]
  },
  {
   "cell_type": "code",
   "execution_count": 18,
   "metadata": {},
   "outputs": [
    {
     "data": {
      "text/plain": [
       "src:  sqlite 3.22.0 [:memory:]\n",
       "tbls: beer_recipes, sqlite_stat1, sqlite_stat4"
      ]
     },
     "metadata": {},
     "output_type": "display_data"
    },
    {
     "data": {
      "text/html": [
       "0"
      ],
      "text/latex": [
       "0"
      ],
      "text/markdown": [
       "0"
      ],
      "text/plain": [
       "[1] 0"
      ]
     },
     "metadata": {},
     "output_type": "display_data"
    },
    {
     "data": {
      "text/plain": [
       "src:  sqlite 3.22.0 [:memory:]\n",
       "tbls: sqlite_stat1, sqlite_stat4"
      ]
     },
     "metadata": {},
     "output_type": "display_data"
    }
   ],
   "source": [
    "memdb <- src_memdb()\n",
    "memdb\n",
    "db_drop_table('beer_recipes', con=memdb$con)\n",
    "memdb"
   ]
  },
  {
   "cell_type": "markdown",
   "metadata": {},
   "source": [
    "One can also write to a database file by opening a database connection with DBI."
   ]
  },
  {
   "cell_type": "code",
   "execution_count": 19,
   "metadata": {},
   "outputs": [],
   "source": [
    "con <- DBI::dbConnect(RSQLite::SQLite(), dbname = \"beer_recipes.sqlite\")"
   ]
  },
  {
   "cell_type": "markdown",
   "metadata": {},
   "source": [
    "Let's use `copy_to`-function to copy the `beer_recipes`-dataframe into a table in this newly established SQLite [[copy_to]](https://dplyr.tidyverse.org/reference/copy_to.html)."
   ]
  },
  {
   "cell_type": "code",
   "execution_count": 20,
   "metadata": {},
   "outputs": [],
   "source": [
    "copy_to(con, beer_recipes, overwrite=TRUE, temporary=FALSE)"
   ]
  },
  {
   "cell_type": "markdown",
   "metadata": {},
   "source": [
    "To get a reference to this new tab, we can use the `tbl`-function [[tbl]](https://dplyr.tidyverse.org/reference/tbl.html)."
   ]
  },
  {
   "cell_type": "code",
   "execution_count": 21,
   "metadata": {},
   "outputs": [
    {
     "data": {
      "text/plain": [
       "\u001b[90m# Source:   table<beer_recipes> [?? x 22]\u001b[39m\n",
       "\u001b[90m# Database: sqlite 3.22.0\n",
       "#   [/notebooks/python-r-data-analysis-course-dev/r/beer_recipes.sqlite]\u001b[39m\n",
       "   BeerID Name  URL   Style StyleID `Size(L)`    OG    FG   ABV   IBU Color\n",
       "    \u001b[3m\u001b[90m<dbl>\u001b[39m\u001b[23m \u001b[3m\u001b[90m<chr>\u001b[39m\u001b[23m \u001b[3m\u001b[90m<chr>\u001b[39m\u001b[23m \u001b[3m\u001b[90m<chr>\u001b[39m\u001b[23m   \u001b[3m\u001b[90m<dbl>\u001b[39m\u001b[23m     \u001b[3m\u001b[90m<dbl>\u001b[39m\u001b[23m \u001b[3m\u001b[90m<dbl>\u001b[39m\u001b[23m \u001b[3m\u001b[90m<dbl>\u001b[39m\u001b[23m \u001b[3m\u001b[90m<dbl>\u001b[39m\u001b[23m \u001b[3m\u001b[90m<dbl>\u001b[39m\u001b[23m \u001b[3m\u001b[90m<dbl>\u001b[39m\u001b[23m\n",
       "\u001b[90m 1\u001b[39m      1 Vani~ /hom~ Crea~      45      21.8  1.06  1.01  5.48  17.6  4.83\n",
       "\u001b[90m 2\u001b[39m      2 Sout~ /hom~ Holi~      85      20.8  1.08  1.02  8.16  60.6 15.6 \n",
       "\u001b[90m 3\u001b[39m      3 Zomb~ /hom~ Amer~       7      18.9  1.06  1.02  5.91  59.2  8.98\n",
       "\u001b[90m 4\u001b[39m      4 Zomb~ /hom~ Amer~       7      22.7  1.06  1.02  5.8   54.5  8.5 \n",
       "\u001b[90m 5\u001b[39m      5 Bakk~ /hom~ Belg~      20      50    1.06  1.01  6.48  17.8  4.57\n",
       "\u001b[90m 6\u001b[39m      6 Sier~ /hom~ Amer~      10      24.6  1.06  1.01  5.58  40.1  8   \n",
       "\u001b[90m 7\u001b[39m      7 Russ~ /hom~ Impe~      86      22.7  1.07  1.02  7.09 269.   6.33\n",
       "\u001b[90m 8\u001b[39m      8 Spot~ /hom~ Crea~      45      20.8  1.05  1.01  5.36  20.0  5.94\n",
       "\u001b[90m 9\u001b[39m      9 Choc~ /hom~ Robu~     129      22.7  1.06  1.02  5.77  31.6 34.8 \n",
       "\u001b[90m10\u001b[39m     10 Mang~ /hom~ Impe~      86      20.8  1.08  1.02  8.22  93.0  8.29\n",
       "\u001b[90m# ... with more rows, and 11 more variables: BoilSize \u001b[3m\u001b[90m<dbl>\u001b[90m\u001b[23m, BoilTime \u001b[3m\u001b[90m<dbl>\u001b[90m\u001b[23m,\n",
       "#   BoilGravity \u001b[3m\u001b[90m<dbl>\u001b[90m\u001b[23m, Efficiency \u001b[3m\u001b[90m<dbl>\u001b[90m\u001b[23m, MashThickness \u001b[3m\u001b[90m<dbl>\u001b[90m\u001b[23m, SugarScale \u001b[3m\u001b[90m<chr>\u001b[90m\u001b[23m,\n",
       "#   BrewMethod \u001b[3m\u001b[90m<chr>\u001b[90m\u001b[23m, PitchRate \u001b[3m\u001b[90m<dbl>\u001b[90m\u001b[23m, PrimaryTemp \u001b[3m\u001b[90m<dbl>\u001b[90m\u001b[23m, PrimingMethod \u001b[3m\u001b[90m<chr>\u001b[90m\u001b[23m,\n",
       "#   PrimingAmount \u001b[3m\u001b[90m<dbl>\u001b[90m\u001b[23m\u001b[39m"
      ]
     },
     "metadata": {},
     "output_type": "display_data"
    }
   ],
   "source": [
    "beers_sqlite <- tbl(con,'beer_recipes')\n",
    "beers_sqlite"
   ]
  },
  {
   "cell_type": "markdown",
   "metadata": {},
   "source": [
    "Let's close and re-open the connection to verify that the table is indeed in the database file."
   ]
  },
  {
   "cell_type": "code",
   "execution_count": 22,
   "metadata": {},
   "outputs": [
    {
     "data": {
      "text/plain": [
       "<SQLiteConnection>\n",
       "  DISCONNECTED"
      ]
     },
     "metadata": {},
     "output_type": "display_data"
    },
    {
     "data": {
      "text/plain": [
       "<SQLiteConnection>\n",
       "  Path: /notebooks/python-r-data-analysis-course-dev/r/beer_recipes.sqlite\n",
       "  Extensions: TRUE"
      ]
     },
     "metadata": {},
     "output_type": "display_data"
    },
    {
     "data": {
      "text/plain": [
       "\u001b[90m# Source:   table<beer_recipes> [?? x 22]\u001b[39m\n",
       "\u001b[90m# Database: sqlite 3.22.0\n",
       "#   [/notebooks/python-r-data-analysis-course-dev/r/beer_recipes.sqlite]\u001b[39m\n",
       "   BeerID Name  URL   Style StyleID `Size(L)`    OG    FG   ABV   IBU Color\n",
       "    \u001b[3m\u001b[90m<dbl>\u001b[39m\u001b[23m \u001b[3m\u001b[90m<chr>\u001b[39m\u001b[23m \u001b[3m\u001b[90m<chr>\u001b[39m\u001b[23m \u001b[3m\u001b[90m<chr>\u001b[39m\u001b[23m   \u001b[3m\u001b[90m<dbl>\u001b[39m\u001b[23m     \u001b[3m\u001b[90m<dbl>\u001b[39m\u001b[23m \u001b[3m\u001b[90m<dbl>\u001b[39m\u001b[23m \u001b[3m\u001b[90m<dbl>\u001b[39m\u001b[23m \u001b[3m\u001b[90m<dbl>\u001b[39m\u001b[23m \u001b[3m\u001b[90m<dbl>\u001b[39m\u001b[23m \u001b[3m\u001b[90m<dbl>\u001b[39m\u001b[23m\n",
       "\u001b[90m 1\u001b[39m      1 Vani~ /hom~ Crea~      45      21.8  1.06  1.01  5.48  17.6  4.83\n",
       "\u001b[90m 2\u001b[39m      2 Sout~ /hom~ Holi~      85      20.8  1.08  1.02  8.16  60.6 15.6 \n",
       "\u001b[90m 3\u001b[39m      3 Zomb~ /hom~ Amer~       7      18.9  1.06  1.02  5.91  59.2  8.98\n",
       "\u001b[90m 4\u001b[39m      4 Zomb~ /hom~ Amer~       7      22.7  1.06  1.02  5.8   54.5  8.5 \n",
       "\u001b[90m 5\u001b[39m      5 Bakk~ /hom~ Belg~      20      50    1.06  1.01  6.48  17.8  4.57\n",
       "\u001b[90m 6\u001b[39m      6 Sier~ /hom~ Amer~      10      24.6  1.06  1.01  5.58  40.1  8   \n",
       "\u001b[90m 7\u001b[39m      7 Russ~ /hom~ Impe~      86      22.7  1.07  1.02  7.09 269.   6.33\n",
       "\u001b[90m 8\u001b[39m      8 Spot~ /hom~ Crea~      45      20.8  1.05  1.01  5.36  20.0  5.94\n",
       "\u001b[90m 9\u001b[39m      9 Choc~ /hom~ Robu~     129      22.7  1.06  1.02  5.77  31.6 34.8 \n",
       "\u001b[90m10\u001b[39m     10 Mang~ /hom~ Impe~      86      20.8  1.08  1.02  8.22  93.0  8.29\n",
       "\u001b[90m# ... with more rows, and 11 more variables: BoilSize \u001b[3m\u001b[90m<dbl>\u001b[90m\u001b[23m, BoilTime \u001b[3m\u001b[90m<dbl>\u001b[90m\u001b[23m,\n",
       "#   BoilGravity \u001b[3m\u001b[90m<dbl>\u001b[90m\u001b[23m, Efficiency \u001b[3m\u001b[90m<dbl>\u001b[90m\u001b[23m, MashThickness \u001b[3m\u001b[90m<dbl>\u001b[90m\u001b[23m, SugarScale \u001b[3m\u001b[90m<chr>\u001b[90m\u001b[23m,\n",
       "#   BrewMethod \u001b[3m\u001b[90m<chr>\u001b[90m\u001b[23m, PitchRate \u001b[3m\u001b[90m<dbl>\u001b[90m\u001b[23m, PrimaryTemp \u001b[3m\u001b[90m<dbl>\u001b[90m\u001b[23m, PrimingMethod \u001b[3m\u001b[90m<chr>\u001b[90m\u001b[23m,\n",
       "#   PrimingAmount \u001b[3m\u001b[90m<dbl>\u001b[90m\u001b[23m\u001b[39m"
      ]
     },
     "metadata": {},
     "output_type": "display_data"
    },
    {
     "data": {
      "text/plain": [
       "<SQLiteConnection>\n",
       "  DISCONNECTED"
      ]
     },
     "metadata": {},
     "output_type": "display_data"
    }
   ],
   "source": [
    "dbDisconnect(con)\n",
    "con\n",
    "con <- DBI::dbConnect(RSQLite::SQLite(), dbname = \"beer_recipes.sqlite\")\n",
    "con\n",
    "tbl(con,'beer_recipes')\n",
    "dbDisconnect(con)\n",
    "con"
   ]
  },
  {
   "cell_type": "markdown",
   "metadata": {},
   "source": [
    "# Exercise time:\n",
    "\n",
    "1. Modify column specifications for FIFA World Cup match data [[1]](https://www.kaggle.com/abecklas/fifa-world-cup). Use `col_datetime` in `col_types` to get a good specification for column _DateTime_ [[col_datetime]](http://readr.tidyverse.org/reference/parse_datetime.html). Use `col_factor` to make columns _Round_, _Stadium_, _City_, _HomeTeam_ and _AwayTeam_ into factors.\n",
    "2. Store the resulting tibble as a feather.\n",
    "3. Store the resulting tibble into a SQLite database."
   ]
  },
  {
   "cell_type": "code",
   "execution_count": 23,
   "metadata": {},
   "outputs": [
    {
     "name": "stderr",
     "output_type": "stream",
     "text": [
      "Parsed with column specification:\n",
      "cols(\n",
      "  Year = \u001b[32mcol_double()\u001b[39m,\n",
      "  DateTime = \u001b[31mcol_character()\u001b[39m,\n",
      "  Round = \u001b[31mcol_character()\u001b[39m,\n",
      "  Stadium = \u001b[31mcol_character()\u001b[39m,\n",
      "  City = \u001b[31mcol_character()\u001b[39m,\n",
      "  HomeTeam = \u001b[31mcol_character()\u001b[39m,\n",
      "  HomeGoals = \u001b[32mcol_double()\u001b[39m,\n",
      "  AwayGoals = \u001b[32mcol_double()\u001b[39m,\n",
      "  AwayTeam = \u001b[31mcol_character()\u001b[39m,\n",
      "  Observation = \u001b[31mcol_character()\u001b[39m\n",
      ")\n",
      "\n"
     ]
    }
   ],
   "source": [
    "fifa_matches <- read_csv(\"/m/jhnas/jupyter/shareddata/python-r-data-analysis/fifa/WorldCupMatches.csv\")"
   ]
  },
  {
   "cell_type": "code",
   "execution_count": 24,
   "metadata": {},
   "outputs": [
    {
     "name": "stdout",
     "output_type": "stream",
     "text": [
      "Classes 'spec_tbl_df', 'tbl_df', 'tbl' and 'data.frame':\t4572 obs. of  10 variables:\n",
      " $ Year       : num  1930 1930 1930 1930 1930 1930 1930 1930 1930 1930 ...\n",
      " $ DateTime   : chr  \"13 Jul 1930 - 15:00\" \"13 Jul 1930 - 15:00\" \"14 Jul 1930 - 12:45\" \"14 Jul 1930 - 14:50\" ...\n",
      " $ Round      : chr  \"Group 1\" \"Group 4\" \"Group 2\" \"Group 3\" ...\n",
      " $ Stadium    : chr  \"Pocitos\" \"Parque Central\" \"Parque Central\" \"Pocitos\" ...\n",
      " $ City       : chr  \"Montevideo\" \"Montevideo\" \"Montevideo\" \"Montevideo\" ...\n",
      " $ HomeTeam   : chr  \"France\" \"USA\" \"Yugoslavia\" \"Romania\" ...\n",
      " $ HomeGoals  : num  4 3 2 3 1 3 4 3 1 1 ...\n",
      " $ AwayGoals  : num  1 0 1 1 0 0 0 0 0 0 ...\n",
      " $ AwayTeam   : chr  \"Mexico\" \"Belgium\" \"Brazil\" \"Peru\" ...\n",
      " $ Observation: chr  NA NA NA NA ...\n",
      " - attr(*, \"spec\")=\n",
      "  .. cols(\n",
      "  ..   Year = \u001b[32mcol_double()\u001b[39m,\n",
      "  ..   DateTime = \u001b[31mcol_character()\u001b[39m,\n",
      "  ..   Round = \u001b[31mcol_character()\u001b[39m,\n",
      "  ..   Stadium = \u001b[31mcol_character()\u001b[39m,\n",
      "  ..   City = \u001b[31mcol_character()\u001b[39m,\n",
      "  ..   HomeTeam = \u001b[31mcol_character()\u001b[39m,\n",
      "  ..   HomeGoals = \u001b[32mcol_double()\u001b[39m,\n",
      "  ..   AwayGoals = \u001b[32mcol_double()\u001b[39m,\n",
      "  ..   AwayTeam = \u001b[31mcol_character()\u001b[39m,\n",
      "  ..   Observation = \u001b[31mcol_character()\u001b[39m\n",
      "  .. )\n"
     ]
    }
   ],
   "source": [
    "str(fifa_matches)"
   ]
  },
  {
   "cell_type": "code",
   "execution_count": null,
   "metadata": {},
   "outputs": [],
   "source": []
  }
 ],
 "metadata": {
  "kernelspec": {
   "display_name": "R",
   "language": "R",
   "name": "ir"
  },
  "language_info": {
   "codemirror_mode": "r",
   "file_extension": ".r",
   "mimetype": "text/x-r-source",
   "name": "R",
   "pygments_lexer": "r",
   "version": "3.4.4"
  }
 },
 "nbformat": 4,
 "nbformat_minor": 4
}

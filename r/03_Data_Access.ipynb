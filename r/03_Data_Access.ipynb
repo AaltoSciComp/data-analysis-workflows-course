{
 "cells": [
  {
   "cell_type": "markdown",
   "metadata": {},
   "source": [
    "# Data access\n",
    "\n",
    "## CSV files\n",
    "\n",
    "There's multiple functions in the `readr` for CSV file reading. Let's use them on a dataset available in Kaggle that has homemade beer recipes from Brewer's Friend [[1]](https://www.kaggle.com/jtrofe/beer-recipes).\n",
    "\n",
    "Let's check the first few lines of the data with base R's `file` and `readLines`."
   ]
  },
  {
   "cell_type": "code",
   "execution_count": 1,
   "metadata": {},
   "outputs": [
    {
     "name": "stdout",
     "output_type": "stream",
     "text": [
      "[1] \"BeerID,Name,URL,Style,StyleID,Size(L),OG,FG,ABV,IBU,Color,BoilSize,BoilTime,BoilGravity,Efficiency,MashThickness,SugarScale,BrewMethod,PitchRate,PrimaryTemp,PrimingMethod,PrimingAmount\"    \n",
      "[2] \"1,Vanilla Cream Ale,/homebrew/recipe/view/1633/vanilla-cream-ale,Cream Ale,45,21.77,1.055,1.013,5.48,17.65,4.83,28.39,75,1.038,70,N/A,Specific Gravity,All Grain,N/A,17.78,corn sugar,4.5 oz\"\n"
     ]
    }
   ],
   "source": [
    "example_file <- file(\"/m/jhnas/jupyter/shareddata/python-r-data-analysis/beers/recipeData.csv\",'r')\n",
    "first_lines <- readLines(example_file,n=2)\n",
    "close(example_file)\n",
    "\n",
    "print(first_lines)"
   ]
  },
  {
   "cell_type": "markdown",
   "metadata": {},
   "source": [
    "Before we choose which reader we want to use we need to check the format of the data. \n",
    "\n",
    "`readr` has predefined functions for the following data formats [[1]](http://readr.tidyverse.org/reference/read_delim.html):\n",
    "- `read_delim` parses generic data delimited by a character\n",
    "- `read_csv` assumes that the data is delimited by commas\n",
    "- `read_csv2` assumes that the data is delimited by semicolons\n",
    "- `read_tsv` assumes that the data is delimited by tabs\n",
    "\n",
    "In this case we want to use `read_csv`. Do note that we limit ourselves to first 100 values for faster parsing."
   ]
  },
  {
   "cell_type": "code",
   "execution_count": 2,
   "metadata": {},
   "outputs": [
    {
     "name": "stderr",
     "output_type": "stream",
     "text": [
      "── \u001b[1mAttaching packages\u001b[22m ─────────────────────────────────────── tidyverse 1.2.1 ──\n",
      "\n",
      "\u001b[32m✔\u001b[39m \u001b[34mggplot2\u001b[39m 3.2.0     \u001b[32m✔\u001b[39m \u001b[34mpurrr  \u001b[39m 0.3.2\n",
      "\u001b[32m✔\u001b[39m \u001b[34mtibble \u001b[39m 2.1.3     \u001b[32m✔\u001b[39m \u001b[34mdplyr  \u001b[39m 0.8.3\n",
      "\u001b[32m✔\u001b[39m \u001b[34mtidyr  \u001b[39m 0.8.3     \u001b[32m✔\u001b[39m \u001b[34mstringr\u001b[39m 1.4.0\n",
      "\u001b[32m✔\u001b[39m \u001b[34mreadr  \u001b[39m 1.3.1     \u001b[32m✔\u001b[39m \u001b[34mforcats\u001b[39m 0.4.0\n",
      "\n",
      "── \u001b[1mConflicts\u001b[22m ────────────────────────────────────────── tidyverse_conflicts() ──\n",
      "\u001b[31m✖\u001b[39m \u001b[34mdplyr\u001b[39m::\u001b[32mfilter()\u001b[39m masks \u001b[34mstats\u001b[39m::filter()\n",
      "\u001b[31m✖\u001b[39m \u001b[34mdplyr\u001b[39m::\u001b[32mlag()\u001b[39m    masks \u001b[34mstats\u001b[39m::lag()\n",
      "\n",
      "Parsed with column specification:\n",
      "cols(\n",
      "  .default = col_character(),\n",
      "  BeerID = \u001b[32mcol_double()\u001b[39m,\n",
      "  StyleID = \u001b[32mcol_double()\u001b[39m,\n",
      "  `Size(L)` = \u001b[32mcol_double()\u001b[39m,\n",
      "  OG = \u001b[32mcol_double()\u001b[39m,\n",
      "  FG = \u001b[32mcol_double()\u001b[39m,\n",
      "  ABV = \u001b[32mcol_double()\u001b[39m,\n",
      "  IBU = \u001b[32mcol_double()\u001b[39m,\n",
      "  Color = \u001b[32mcol_double()\u001b[39m,\n",
      "  BoilSize = \u001b[32mcol_double()\u001b[39m,\n",
      "  BoilTime = \u001b[32mcol_double()\u001b[39m,\n",
      "  Efficiency = \u001b[32mcol_double()\u001b[39m\n",
      ")\n",
      "\n",
      "See spec(...) for full column specifications.\n",
      "\n"
     ]
    }
   ],
   "source": [
    "library(tidyverse)\n",
    "\n",
    "beer_recipes <- read_csv(\"/m/jhnas/jupyter/shareddata/python-r-data-analysis/beers/recipeData.csv\", n_max=100)"
   ]
  },
  {
   "cell_type": "markdown",
   "metadata": {},
   "source": [
    "From the output one can see that `read_csv` tries to parse the datatype of the column automatically.\n",
    "\n",
    "By running `spec` one can see the full definitons."
   ]
  },
  {
   "cell_type": "code",
   "execution_count": 3,
   "metadata": {},
   "outputs": [
    {
     "data": {
      "text/plain": [
       "cols(\n",
       "  BeerID = \u001b[32mcol_double()\u001b[39m,\n",
       "  Name = \u001b[31mcol_character()\u001b[39m,\n",
       "  URL = \u001b[31mcol_character()\u001b[39m,\n",
       "  Style = \u001b[31mcol_character()\u001b[39m,\n",
       "  StyleID = \u001b[32mcol_double()\u001b[39m,\n",
       "  `Size(L)` = \u001b[32mcol_double()\u001b[39m,\n",
       "  OG = \u001b[32mcol_double()\u001b[39m,\n",
       "  FG = \u001b[32mcol_double()\u001b[39m,\n",
       "  ABV = \u001b[32mcol_double()\u001b[39m,\n",
       "  IBU = \u001b[32mcol_double()\u001b[39m,\n",
       "  Color = \u001b[32mcol_double()\u001b[39m,\n",
       "  BoilSize = \u001b[32mcol_double()\u001b[39m,\n",
       "  BoilTime = \u001b[32mcol_double()\u001b[39m,\n",
       "  BoilGravity = \u001b[31mcol_character()\u001b[39m,\n",
       "  Efficiency = \u001b[32mcol_double()\u001b[39m,\n",
       "  MashThickness = \u001b[31mcol_character()\u001b[39m,\n",
       "  SugarScale = \u001b[31mcol_character()\u001b[39m,\n",
       "  BrewMethod = \u001b[31mcol_character()\u001b[39m,\n",
       "  PitchRate = \u001b[31mcol_character()\u001b[39m,\n",
       "  PrimaryTemp = \u001b[31mcol_character()\u001b[39m,\n",
       "  PrimingMethod = \u001b[31mcol_character()\u001b[39m,\n",
       "  PrimingAmount = \u001b[31mcol_character()\u001b[39m\n",
       ")"
      ]
     },
     "metadata": {},
     "output_type": "display_data"
    }
   ],
   "source": [
    "spec(beer_recipes)"
   ]
  },
  {
   "cell_type": "markdown",
   "metadata": {},
   "source": [
    "Many of the data columns seem to be characters instead of numbers. Let's use `col_types`-argument to specify a better definition."
   ]
  },
  {
   "cell_type": "code",
   "execution_count": 4,
   "metadata": {},
   "outputs": [
    {
     "name": "stderr",
     "output_type": "stream",
     "text": [
      "Warning message:\n",
      "“208 parsing failures.\n",
      "row           col expected actual                                                                      file\n",
      "  1 MashThickness a double    N/A '/m/jhnas/jupyter/shareddata/python-r-data-analysis/beers/recipeData.csv'\n",
      "  1 PitchRate     a double    N/A '/m/jhnas/jupyter/shareddata/python-r-data-analysis/beers/recipeData.csv'\n",
      "  2 MashThickness a double    N/A '/m/jhnas/jupyter/shareddata/python-r-data-analysis/beers/recipeData.csv'\n",
      "  2 PitchRate     a double    N/A '/m/jhnas/jupyter/shareddata/python-r-data-analysis/beers/recipeData.csv'\n",
      "  2 PrimaryTemp   a double    N/A '/m/jhnas/jupyter/shareddata/python-r-data-analysis/beers/recipeData.csv'\n",
      "... ............. ........ ...... .........................................................................\n",
      "See problems(...) for more details.\n",
      "”\n"
     ]
    }
   ],
   "source": [
    "\n",
    "beer_recipes <- read_csv(\"/m/jhnas/jupyter/shareddata/python-r-data-analysis/beers/recipeData.csv\",\n",
    "    col_types=cols(\n",
    "      BeerID = col_integer(),\n",
    "      Name = col_character(),\n",
    "      URL = col_character(),\n",
    "      Style = col_character(),\n",
    "      StyleID = col_integer(),\n",
    "      `Size(L)` = col_double(),\n",
    "      OG = col_double(),\n",
    "      FG = col_double(),\n",
    "      ABV = col_double(),\n",
    "      IBU = col_double(),\n",
    "      Color = col_double(),\n",
    "      BoilSize = col_double(),\n",
    "      BoilTime = col_double(),\n",
    "      BoilGravity = col_double(),\n",
    "      Efficiency = col_double(),\n",
    "      MashThickness = col_double(),\n",
    "      SugarScale = col_character(),\n",
    "      BrewMethod = col_character(),\n",
    "      PitchRate = col_double(),\n",
    "      PrimaryTemp = col_double(),\n",
    "      PrimingMethod = col_character(),\n",
    "      PrimingAmount = col_character()\n",
    "    ),\n",
    "    n_max=100\n",
    ")"
   ]
  },
  {
   "cell_type": "markdown",
   "metadata": {},
   "source": [
    "This produced a lot of problems. Let's check the problems with `problems`."
   ]
  },
  {
   "cell_type": "code",
   "execution_count": 5,
   "metadata": {},
   "outputs": [
    {
     "data": {
      "text/html": [
       "<table>\n",
       "<caption>A tibble: 208 × 5</caption>\n",
       "<thead>\n",
       "\t<tr><th scope=col>row</th><th scope=col>col</th><th scope=col>expected</th><th scope=col>actual</th><th scope=col>file</th></tr>\n",
       "\t<tr><th scope=col>&lt;int&gt;</th><th scope=col>&lt;chr&gt;</th><th scope=col>&lt;chr&gt;</th><th scope=col>&lt;chr&gt;</th><th scope=col>&lt;chr&gt;</th></tr>\n",
       "</thead>\n",
       "<tbody>\n",
       "\t<tr><td> 1</td><td>MashThickness</td><td>a double</td><td>N/A</td><td>'/m/jhnas/jupyter/shareddata/python-r-data-analysis/beers/recipeData.csv'</td></tr>\n",
       "\t<tr><td> 1</td><td>PitchRate    </td><td>a double</td><td>N/A</td><td>'/m/jhnas/jupyter/shareddata/python-r-data-analysis/beers/recipeData.csv'</td></tr>\n",
       "\t<tr><td> 2</td><td>MashThickness</td><td>a double</td><td>N/A</td><td>'/m/jhnas/jupyter/shareddata/python-r-data-analysis/beers/recipeData.csv'</td></tr>\n",
       "\t<tr><td> 2</td><td>PitchRate    </td><td>a double</td><td>N/A</td><td>'/m/jhnas/jupyter/shareddata/python-r-data-analysis/beers/recipeData.csv'</td></tr>\n",
       "\t<tr><td> 2</td><td>PrimaryTemp  </td><td>a double</td><td>N/A</td><td>'/m/jhnas/jupyter/shareddata/python-r-data-analysis/beers/recipeData.csv'</td></tr>\n",
       "\t<tr><td> 3</td><td>BoilGravity  </td><td>a double</td><td>N/A</td><td>'/m/jhnas/jupyter/shareddata/python-r-data-analysis/beers/recipeData.csv'</td></tr>\n",
       "\t<tr><td> 3</td><td>MashThickness</td><td>a double</td><td>N/A</td><td>'/m/jhnas/jupyter/shareddata/python-r-data-analysis/beers/recipeData.csv'</td></tr>\n",
       "\t<tr><td> 3</td><td>PitchRate    </td><td>a double</td><td>N/A</td><td>'/m/jhnas/jupyter/shareddata/python-r-data-analysis/beers/recipeData.csv'</td></tr>\n",
       "\t<tr><td> 3</td><td>PrimaryTemp  </td><td>a double</td><td>N/A</td><td>'/m/jhnas/jupyter/shareddata/python-r-data-analysis/beers/recipeData.csv'</td></tr>\n",
       "\t<tr><td> 4</td><td>BoilGravity  </td><td>a double</td><td>N/A</td><td>'/m/jhnas/jupyter/shareddata/python-r-data-analysis/beers/recipeData.csv'</td></tr>\n",
       "\t<tr><td> 4</td><td>MashThickness</td><td>a double</td><td>N/A</td><td>'/m/jhnas/jupyter/shareddata/python-r-data-analysis/beers/recipeData.csv'</td></tr>\n",
       "\t<tr><td> 4</td><td>PitchRate    </td><td>a double</td><td>N/A</td><td>'/m/jhnas/jupyter/shareddata/python-r-data-analysis/beers/recipeData.csv'</td></tr>\n",
       "\t<tr><td> 4</td><td>PrimaryTemp  </td><td>a double</td><td>N/A</td><td>'/m/jhnas/jupyter/shareddata/python-r-data-analysis/beers/recipeData.csv'</td></tr>\n",
       "\t<tr><td> 5</td><td>MashThickness</td><td>a double</td><td>N/A</td><td>'/m/jhnas/jupyter/shareddata/python-r-data-analysis/beers/recipeData.csv'</td></tr>\n",
       "\t<tr><td> 5</td><td>PitchRate    </td><td>a double</td><td>N/A</td><td>'/m/jhnas/jupyter/shareddata/python-r-data-analysis/beers/recipeData.csv'</td></tr>\n",
       "\t<tr><td> 6</td><td>MashThickness</td><td>a double</td><td>N/A</td><td>'/m/jhnas/jupyter/shareddata/python-r-data-analysis/beers/recipeData.csv'</td></tr>\n",
       "\t<tr><td> 6</td><td>PrimaryTemp  </td><td>a double</td><td>N/A</td><td>'/m/jhnas/jupyter/shareddata/python-r-data-analysis/beers/recipeData.csv'</td></tr>\n",
       "\t<tr><td> 7</td><td>BoilGravity  </td><td>a double</td><td>N/A</td><td>'/m/jhnas/jupyter/shareddata/python-r-data-analysis/beers/recipeData.csv'</td></tr>\n",
       "\t<tr><td> 7</td><td>MashThickness</td><td>a double</td><td>N/A</td><td>'/m/jhnas/jupyter/shareddata/python-r-data-analysis/beers/recipeData.csv'</td></tr>\n",
       "\t<tr><td> 7</td><td>PitchRate    </td><td>a double</td><td>N/A</td><td>'/m/jhnas/jupyter/shareddata/python-r-data-analysis/beers/recipeData.csv'</td></tr>\n",
       "\t<tr><td> 7</td><td>PrimaryTemp  </td><td>a double</td><td>N/A</td><td>'/m/jhnas/jupyter/shareddata/python-r-data-analysis/beers/recipeData.csv'</td></tr>\n",
       "\t<tr><td> 8</td><td>PitchRate    </td><td>a double</td><td>N/A</td><td>'/m/jhnas/jupyter/shareddata/python-r-data-analysis/beers/recipeData.csv'</td></tr>\n",
       "\t<tr><td> 8</td><td>PrimaryTemp  </td><td>a double</td><td>N/A</td><td>'/m/jhnas/jupyter/shareddata/python-r-data-analysis/beers/recipeData.csv'</td></tr>\n",
       "\t<tr><td> 9</td><td>MashThickness</td><td>a double</td><td>N/A</td><td>'/m/jhnas/jupyter/shareddata/python-r-data-analysis/beers/recipeData.csv'</td></tr>\n",
       "\t<tr><td> 9</td><td>PitchRate    </td><td>a double</td><td>N/A</td><td>'/m/jhnas/jupyter/shareddata/python-r-data-analysis/beers/recipeData.csv'</td></tr>\n",
       "\t<tr><td> 9</td><td>PrimaryTemp  </td><td>a double</td><td>N/A</td><td>'/m/jhnas/jupyter/shareddata/python-r-data-analysis/beers/recipeData.csv'</td></tr>\n",
       "\t<tr><td>10</td><td>MashThickness</td><td>a double</td><td>N/A</td><td>'/m/jhnas/jupyter/shareddata/python-r-data-analysis/beers/recipeData.csv'</td></tr>\n",
       "\t<tr><td>10</td><td>PitchRate    </td><td>a double</td><td>N/A</td><td>'/m/jhnas/jupyter/shareddata/python-r-data-analysis/beers/recipeData.csv'</td></tr>\n",
       "\t<tr><td>11</td><td>MashThickness</td><td>a double</td><td>N/A</td><td>'/m/jhnas/jupyter/shareddata/python-r-data-analysis/beers/recipeData.csv'</td></tr>\n",
       "\t<tr><td>12</td><td>BoilGravity  </td><td>a double</td><td>N/A</td><td>'/m/jhnas/jupyter/shareddata/python-r-data-analysis/beers/recipeData.csv'</td></tr>\n",
       "\t<tr><td>⋮</td><td>⋮</td><td>⋮</td><td>⋮</td><td>⋮</td></tr>\n",
       "\t<tr><td> 88</td><td>MashThickness</td><td>a double</td><td>N/A</td><td>'/m/jhnas/jupyter/shareddata/python-r-data-analysis/beers/recipeData.csv'</td></tr>\n",
       "\t<tr><td> 88</td><td>PitchRate    </td><td>a double</td><td>N/A</td><td>'/m/jhnas/jupyter/shareddata/python-r-data-analysis/beers/recipeData.csv'</td></tr>\n",
       "\t<tr><td> 88</td><td>PrimaryTemp  </td><td>a double</td><td>N/A</td><td>'/m/jhnas/jupyter/shareddata/python-r-data-analysis/beers/recipeData.csv'</td></tr>\n",
       "\t<tr><td> 89</td><td>MashThickness</td><td>a double</td><td>N/A</td><td>'/m/jhnas/jupyter/shareddata/python-r-data-analysis/beers/recipeData.csv'</td></tr>\n",
       "\t<tr><td> 89</td><td>PitchRate    </td><td>a double</td><td>N/A</td><td>'/m/jhnas/jupyter/shareddata/python-r-data-analysis/beers/recipeData.csv'</td></tr>\n",
       "\t<tr><td> 90</td><td>BoilGravity  </td><td>a double</td><td>N/A</td><td>'/m/jhnas/jupyter/shareddata/python-r-data-analysis/beers/recipeData.csv'</td></tr>\n",
       "\t<tr><td> 90</td><td>MashThickness</td><td>a double</td><td>N/A</td><td>'/m/jhnas/jupyter/shareddata/python-r-data-analysis/beers/recipeData.csv'</td></tr>\n",
       "\t<tr><td> 90</td><td>PitchRate    </td><td>a double</td><td>N/A</td><td>'/m/jhnas/jupyter/shareddata/python-r-data-analysis/beers/recipeData.csv'</td></tr>\n",
       "\t<tr><td> 90</td><td>PrimaryTemp  </td><td>a double</td><td>N/A</td><td>'/m/jhnas/jupyter/shareddata/python-r-data-analysis/beers/recipeData.csv'</td></tr>\n",
       "\t<tr><td> 91</td><td>BoilGravity  </td><td>a double</td><td>N/A</td><td>'/m/jhnas/jupyter/shareddata/python-r-data-analysis/beers/recipeData.csv'</td></tr>\n",
       "\t<tr><td> 91</td><td>MashThickness</td><td>a double</td><td>N/A</td><td>'/m/jhnas/jupyter/shareddata/python-r-data-analysis/beers/recipeData.csv'</td></tr>\n",
       "\t<tr><td> 92</td><td>MashThickness</td><td>a double</td><td>N/A</td><td>'/m/jhnas/jupyter/shareddata/python-r-data-analysis/beers/recipeData.csv'</td></tr>\n",
       "\t<tr><td> 92</td><td>PitchRate    </td><td>a double</td><td>N/A</td><td>'/m/jhnas/jupyter/shareddata/python-r-data-analysis/beers/recipeData.csv'</td></tr>\n",
       "\t<tr><td> 93</td><td>BoilGravity  </td><td>a double</td><td>N/A</td><td>'/m/jhnas/jupyter/shareddata/python-r-data-analysis/beers/recipeData.csv'</td></tr>\n",
       "\t<tr><td> 93</td><td>MashThickness</td><td>a double</td><td>N/A</td><td>'/m/jhnas/jupyter/shareddata/python-r-data-analysis/beers/recipeData.csv'</td></tr>\n",
       "\t<tr><td> 93</td><td>PitchRate    </td><td>a double</td><td>N/A</td><td>'/m/jhnas/jupyter/shareddata/python-r-data-analysis/beers/recipeData.csv'</td></tr>\n",
       "\t<tr><td> 93</td><td>PrimaryTemp  </td><td>a double</td><td>N/A</td><td>'/m/jhnas/jupyter/shareddata/python-r-data-analysis/beers/recipeData.csv'</td></tr>\n",
       "\t<tr><td> 96</td><td>BoilGravity  </td><td>a double</td><td>N/A</td><td>'/m/jhnas/jupyter/shareddata/python-r-data-analysis/beers/recipeData.csv'</td></tr>\n",
       "\t<tr><td> 96</td><td>MashThickness</td><td>a double</td><td>N/A</td><td>'/m/jhnas/jupyter/shareddata/python-r-data-analysis/beers/recipeData.csv'</td></tr>\n",
       "\t<tr><td> 96</td><td>PitchRate    </td><td>a double</td><td>N/A</td><td>'/m/jhnas/jupyter/shareddata/python-r-data-analysis/beers/recipeData.csv'</td></tr>\n",
       "\t<tr><td> 96</td><td>PrimaryTemp  </td><td>a double</td><td>N/A</td><td>'/m/jhnas/jupyter/shareddata/python-r-data-analysis/beers/recipeData.csv'</td></tr>\n",
       "\t<tr><td> 97</td><td>PitchRate    </td><td>a double</td><td>N/A</td><td>'/m/jhnas/jupyter/shareddata/python-r-data-analysis/beers/recipeData.csv'</td></tr>\n",
       "\t<tr><td> 97</td><td>PrimaryTemp  </td><td>a double</td><td>N/A</td><td>'/m/jhnas/jupyter/shareddata/python-r-data-analysis/beers/recipeData.csv'</td></tr>\n",
       "\t<tr><td> 98</td><td>MashThickness</td><td>a double</td><td>N/A</td><td>'/m/jhnas/jupyter/shareddata/python-r-data-analysis/beers/recipeData.csv'</td></tr>\n",
       "\t<tr><td> 98</td><td>PitchRate    </td><td>a double</td><td>N/A</td><td>'/m/jhnas/jupyter/shareddata/python-r-data-analysis/beers/recipeData.csv'</td></tr>\n",
       "\t<tr><td> 98</td><td>PrimaryTemp  </td><td>a double</td><td>N/A</td><td>'/m/jhnas/jupyter/shareddata/python-r-data-analysis/beers/recipeData.csv'</td></tr>\n",
       "\t<tr><td>100</td><td>BoilGravity  </td><td>a double</td><td>N/A</td><td>'/m/jhnas/jupyter/shareddata/python-r-data-analysis/beers/recipeData.csv'</td></tr>\n",
       "\t<tr><td>100</td><td>MashThickness</td><td>a double</td><td>N/A</td><td>'/m/jhnas/jupyter/shareddata/python-r-data-analysis/beers/recipeData.csv'</td></tr>\n",
       "\t<tr><td>100</td><td>PitchRate    </td><td>a double</td><td>N/A</td><td>'/m/jhnas/jupyter/shareddata/python-r-data-analysis/beers/recipeData.csv'</td></tr>\n",
       "\t<tr><td>100</td><td>PrimaryTemp  </td><td>a double</td><td>N/A</td><td>'/m/jhnas/jupyter/shareddata/python-r-data-analysis/beers/recipeData.csv'</td></tr>\n",
       "</tbody>\n",
       "</table>\n"
      ],
      "text/latex": [
       "A tibble: 208 × 5\n",
       "\\begin{tabular}{r|lllll}\n",
       " row & col & expected & actual & file\\\\\n",
       " <int> & <chr> & <chr> & <chr> & <chr>\\\\\n",
       "\\hline\n",
       "\t  1 & MashThickness & a double & N/A & '/m/jhnas/jupyter/shareddata/python-r-data-analysis/beers/recipeData.csv'\\\\\n",
       "\t  1 & PitchRate     & a double & N/A & '/m/jhnas/jupyter/shareddata/python-r-data-analysis/beers/recipeData.csv'\\\\\n",
       "\t  2 & MashThickness & a double & N/A & '/m/jhnas/jupyter/shareddata/python-r-data-analysis/beers/recipeData.csv'\\\\\n",
       "\t  2 & PitchRate     & a double & N/A & '/m/jhnas/jupyter/shareddata/python-r-data-analysis/beers/recipeData.csv'\\\\\n",
       "\t  2 & PrimaryTemp   & a double & N/A & '/m/jhnas/jupyter/shareddata/python-r-data-analysis/beers/recipeData.csv'\\\\\n",
       "\t  3 & BoilGravity   & a double & N/A & '/m/jhnas/jupyter/shareddata/python-r-data-analysis/beers/recipeData.csv'\\\\\n",
       "\t  3 & MashThickness & a double & N/A & '/m/jhnas/jupyter/shareddata/python-r-data-analysis/beers/recipeData.csv'\\\\\n",
       "\t  3 & PitchRate     & a double & N/A & '/m/jhnas/jupyter/shareddata/python-r-data-analysis/beers/recipeData.csv'\\\\\n",
       "\t  3 & PrimaryTemp   & a double & N/A & '/m/jhnas/jupyter/shareddata/python-r-data-analysis/beers/recipeData.csv'\\\\\n",
       "\t  4 & BoilGravity   & a double & N/A & '/m/jhnas/jupyter/shareddata/python-r-data-analysis/beers/recipeData.csv'\\\\\n",
       "\t  4 & MashThickness & a double & N/A & '/m/jhnas/jupyter/shareddata/python-r-data-analysis/beers/recipeData.csv'\\\\\n",
       "\t  4 & PitchRate     & a double & N/A & '/m/jhnas/jupyter/shareddata/python-r-data-analysis/beers/recipeData.csv'\\\\\n",
       "\t  4 & PrimaryTemp   & a double & N/A & '/m/jhnas/jupyter/shareddata/python-r-data-analysis/beers/recipeData.csv'\\\\\n",
       "\t  5 & MashThickness & a double & N/A & '/m/jhnas/jupyter/shareddata/python-r-data-analysis/beers/recipeData.csv'\\\\\n",
       "\t  5 & PitchRate     & a double & N/A & '/m/jhnas/jupyter/shareddata/python-r-data-analysis/beers/recipeData.csv'\\\\\n",
       "\t  6 & MashThickness & a double & N/A & '/m/jhnas/jupyter/shareddata/python-r-data-analysis/beers/recipeData.csv'\\\\\n",
       "\t  6 & PrimaryTemp   & a double & N/A & '/m/jhnas/jupyter/shareddata/python-r-data-analysis/beers/recipeData.csv'\\\\\n",
       "\t  7 & BoilGravity   & a double & N/A & '/m/jhnas/jupyter/shareddata/python-r-data-analysis/beers/recipeData.csv'\\\\\n",
       "\t  7 & MashThickness & a double & N/A & '/m/jhnas/jupyter/shareddata/python-r-data-analysis/beers/recipeData.csv'\\\\\n",
       "\t  7 & PitchRate     & a double & N/A & '/m/jhnas/jupyter/shareddata/python-r-data-analysis/beers/recipeData.csv'\\\\\n",
       "\t  7 & PrimaryTemp   & a double & N/A & '/m/jhnas/jupyter/shareddata/python-r-data-analysis/beers/recipeData.csv'\\\\\n",
       "\t  8 & PitchRate     & a double & N/A & '/m/jhnas/jupyter/shareddata/python-r-data-analysis/beers/recipeData.csv'\\\\\n",
       "\t  8 & PrimaryTemp   & a double & N/A & '/m/jhnas/jupyter/shareddata/python-r-data-analysis/beers/recipeData.csv'\\\\\n",
       "\t  9 & MashThickness & a double & N/A & '/m/jhnas/jupyter/shareddata/python-r-data-analysis/beers/recipeData.csv'\\\\\n",
       "\t  9 & PitchRate     & a double & N/A & '/m/jhnas/jupyter/shareddata/python-r-data-analysis/beers/recipeData.csv'\\\\\n",
       "\t  9 & PrimaryTemp   & a double & N/A & '/m/jhnas/jupyter/shareddata/python-r-data-analysis/beers/recipeData.csv'\\\\\n",
       "\t 10 & MashThickness & a double & N/A & '/m/jhnas/jupyter/shareddata/python-r-data-analysis/beers/recipeData.csv'\\\\\n",
       "\t 10 & PitchRate     & a double & N/A & '/m/jhnas/jupyter/shareddata/python-r-data-analysis/beers/recipeData.csv'\\\\\n",
       "\t 11 & MashThickness & a double & N/A & '/m/jhnas/jupyter/shareddata/python-r-data-analysis/beers/recipeData.csv'\\\\\n",
       "\t 12 & BoilGravity   & a double & N/A & '/m/jhnas/jupyter/shareddata/python-r-data-analysis/beers/recipeData.csv'\\\\\n",
       "\t ⋮ & ⋮ & ⋮ & ⋮ & ⋮\\\\\n",
       "\t  88 & MashThickness & a double & N/A & '/m/jhnas/jupyter/shareddata/python-r-data-analysis/beers/recipeData.csv'\\\\\n",
       "\t  88 & PitchRate     & a double & N/A & '/m/jhnas/jupyter/shareddata/python-r-data-analysis/beers/recipeData.csv'\\\\\n",
       "\t  88 & PrimaryTemp   & a double & N/A & '/m/jhnas/jupyter/shareddata/python-r-data-analysis/beers/recipeData.csv'\\\\\n",
       "\t  89 & MashThickness & a double & N/A & '/m/jhnas/jupyter/shareddata/python-r-data-analysis/beers/recipeData.csv'\\\\\n",
       "\t  89 & PitchRate     & a double & N/A & '/m/jhnas/jupyter/shareddata/python-r-data-analysis/beers/recipeData.csv'\\\\\n",
       "\t  90 & BoilGravity   & a double & N/A & '/m/jhnas/jupyter/shareddata/python-r-data-analysis/beers/recipeData.csv'\\\\\n",
       "\t  90 & MashThickness & a double & N/A & '/m/jhnas/jupyter/shareddata/python-r-data-analysis/beers/recipeData.csv'\\\\\n",
       "\t  90 & PitchRate     & a double & N/A & '/m/jhnas/jupyter/shareddata/python-r-data-analysis/beers/recipeData.csv'\\\\\n",
       "\t  90 & PrimaryTemp   & a double & N/A & '/m/jhnas/jupyter/shareddata/python-r-data-analysis/beers/recipeData.csv'\\\\\n",
       "\t  91 & BoilGravity   & a double & N/A & '/m/jhnas/jupyter/shareddata/python-r-data-analysis/beers/recipeData.csv'\\\\\n",
       "\t  91 & MashThickness & a double & N/A & '/m/jhnas/jupyter/shareddata/python-r-data-analysis/beers/recipeData.csv'\\\\\n",
       "\t  92 & MashThickness & a double & N/A & '/m/jhnas/jupyter/shareddata/python-r-data-analysis/beers/recipeData.csv'\\\\\n",
       "\t  92 & PitchRate     & a double & N/A & '/m/jhnas/jupyter/shareddata/python-r-data-analysis/beers/recipeData.csv'\\\\\n",
       "\t  93 & BoilGravity   & a double & N/A & '/m/jhnas/jupyter/shareddata/python-r-data-analysis/beers/recipeData.csv'\\\\\n",
       "\t  93 & MashThickness & a double & N/A & '/m/jhnas/jupyter/shareddata/python-r-data-analysis/beers/recipeData.csv'\\\\\n",
       "\t  93 & PitchRate     & a double & N/A & '/m/jhnas/jupyter/shareddata/python-r-data-analysis/beers/recipeData.csv'\\\\\n",
       "\t  93 & PrimaryTemp   & a double & N/A & '/m/jhnas/jupyter/shareddata/python-r-data-analysis/beers/recipeData.csv'\\\\\n",
       "\t  96 & BoilGravity   & a double & N/A & '/m/jhnas/jupyter/shareddata/python-r-data-analysis/beers/recipeData.csv'\\\\\n",
       "\t  96 & MashThickness & a double & N/A & '/m/jhnas/jupyter/shareddata/python-r-data-analysis/beers/recipeData.csv'\\\\\n",
       "\t  96 & PitchRate     & a double & N/A & '/m/jhnas/jupyter/shareddata/python-r-data-analysis/beers/recipeData.csv'\\\\\n",
       "\t  96 & PrimaryTemp   & a double & N/A & '/m/jhnas/jupyter/shareddata/python-r-data-analysis/beers/recipeData.csv'\\\\\n",
       "\t  97 & PitchRate     & a double & N/A & '/m/jhnas/jupyter/shareddata/python-r-data-analysis/beers/recipeData.csv'\\\\\n",
       "\t  97 & PrimaryTemp   & a double & N/A & '/m/jhnas/jupyter/shareddata/python-r-data-analysis/beers/recipeData.csv'\\\\\n",
       "\t  98 & MashThickness & a double & N/A & '/m/jhnas/jupyter/shareddata/python-r-data-analysis/beers/recipeData.csv'\\\\\n",
       "\t  98 & PitchRate     & a double & N/A & '/m/jhnas/jupyter/shareddata/python-r-data-analysis/beers/recipeData.csv'\\\\\n",
       "\t  98 & PrimaryTemp   & a double & N/A & '/m/jhnas/jupyter/shareddata/python-r-data-analysis/beers/recipeData.csv'\\\\\n",
       "\t 100 & BoilGravity   & a double & N/A & '/m/jhnas/jupyter/shareddata/python-r-data-analysis/beers/recipeData.csv'\\\\\n",
       "\t 100 & MashThickness & a double & N/A & '/m/jhnas/jupyter/shareddata/python-r-data-analysis/beers/recipeData.csv'\\\\\n",
       "\t 100 & PitchRate     & a double & N/A & '/m/jhnas/jupyter/shareddata/python-r-data-analysis/beers/recipeData.csv'\\\\\n",
       "\t 100 & PrimaryTemp   & a double & N/A & '/m/jhnas/jupyter/shareddata/python-r-data-analysis/beers/recipeData.csv'\\\\\n",
       "\\end{tabular}\n"
      ],
      "text/markdown": [
       "\n",
       "A tibble: 208 × 5\n",
       "\n",
       "| row &lt;int&gt; | col &lt;chr&gt; | expected &lt;chr&gt; | actual &lt;chr&gt; | file &lt;chr&gt; |\n",
       "|---|---|---|---|---|\n",
       "|  1 | MashThickness | a double | N/A | '/m/jhnas/jupyter/shareddata/python-r-data-analysis/beers/recipeData.csv' |\n",
       "|  1 | PitchRate     | a double | N/A | '/m/jhnas/jupyter/shareddata/python-r-data-analysis/beers/recipeData.csv' |\n",
       "|  2 | MashThickness | a double | N/A | '/m/jhnas/jupyter/shareddata/python-r-data-analysis/beers/recipeData.csv' |\n",
       "|  2 | PitchRate     | a double | N/A | '/m/jhnas/jupyter/shareddata/python-r-data-analysis/beers/recipeData.csv' |\n",
       "|  2 | PrimaryTemp   | a double | N/A | '/m/jhnas/jupyter/shareddata/python-r-data-analysis/beers/recipeData.csv' |\n",
       "|  3 | BoilGravity   | a double | N/A | '/m/jhnas/jupyter/shareddata/python-r-data-analysis/beers/recipeData.csv' |\n",
       "|  3 | MashThickness | a double | N/A | '/m/jhnas/jupyter/shareddata/python-r-data-analysis/beers/recipeData.csv' |\n",
       "|  3 | PitchRate     | a double | N/A | '/m/jhnas/jupyter/shareddata/python-r-data-analysis/beers/recipeData.csv' |\n",
       "|  3 | PrimaryTemp   | a double | N/A | '/m/jhnas/jupyter/shareddata/python-r-data-analysis/beers/recipeData.csv' |\n",
       "|  4 | BoilGravity   | a double | N/A | '/m/jhnas/jupyter/shareddata/python-r-data-analysis/beers/recipeData.csv' |\n",
       "|  4 | MashThickness | a double | N/A | '/m/jhnas/jupyter/shareddata/python-r-data-analysis/beers/recipeData.csv' |\n",
       "|  4 | PitchRate     | a double | N/A | '/m/jhnas/jupyter/shareddata/python-r-data-analysis/beers/recipeData.csv' |\n",
       "|  4 | PrimaryTemp   | a double | N/A | '/m/jhnas/jupyter/shareddata/python-r-data-analysis/beers/recipeData.csv' |\n",
       "|  5 | MashThickness | a double | N/A | '/m/jhnas/jupyter/shareddata/python-r-data-analysis/beers/recipeData.csv' |\n",
       "|  5 | PitchRate     | a double | N/A | '/m/jhnas/jupyter/shareddata/python-r-data-analysis/beers/recipeData.csv' |\n",
       "|  6 | MashThickness | a double | N/A | '/m/jhnas/jupyter/shareddata/python-r-data-analysis/beers/recipeData.csv' |\n",
       "|  6 | PrimaryTemp   | a double | N/A | '/m/jhnas/jupyter/shareddata/python-r-data-analysis/beers/recipeData.csv' |\n",
       "|  7 | BoilGravity   | a double | N/A | '/m/jhnas/jupyter/shareddata/python-r-data-analysis/beers/recipeData.csv' |\n",
       "|  7 | MashThickness | a double | N/A | '/m/jhnas/jupyter/shareddata/python-r-data-analysis/beers/recipeData.csv' |\n",
       "|  7 | PitchRate     | a double | N/A | '/m/jhnas/jupyter/shareddata/python-r-data-analysis/beers/recipeData.csv' |\n",
       "|  7 | PrimaryTemp   | a double | N/A | '/m/jhnas/jupyter/shareddata/python-r-data-analysis/beers/recipeData.csv' |\n",
       "|  8 | PitchRate     | a double | N/A | '/m/jhnas/jupyter/shareddata/python-r-data-analysis/beers/recipeData.csv' |\n",
       "|  8 | PrimaryTemp   | a double | N/A | '/m/jhnas/jupyter/shareddata/python-r-data-analysis/beers/recipeData.csv' |\n",
       "|  9 | MashThickness | a double | N/A | '/m/jhnas/jupyter/shareddata/python-r-data-analysis/beers/recipeData.csv' |\n",
       "|  9 | PitchRate     | a double | N/A | '/m/jhnas/jupyter/shareddata/python-r-data-analysis/beers/recipeData.csv' |\n",
       "|  9 | PrimaryTemp   | a double | N/A | '/m/jhnas/jupyter/shareddata/python-r-data-analysis/beers/recipeData.csv' |\n",
       "| 10 | MashThickness | a double | N/A | '/m/jhnas/jupyter/shareddata/python-r-data-analysis/beers/recipeData.csv' |\n",
       "| 10 | PitchRate     | a double | N/A | '/m/jhnas/jupyter/shareddata/python-r-data-analysis/beers/recipeData.csv' |\n",
       "| 11 | MashThickness | a double | N/A | '/m/jhnas/jupyter/shareddata/python-r-data-analysis/beers/recipeData.csv' |\n",
       "| 12 | BoilGravity   | a double | N/A | '/m/jhnas/jupyter/shareddata/python-r-data-analysis/beers/recipeData.csv' |\n",
       "| ⋮ | ⋮ | ⋮ | ⋮ | ⋮ |\n",
       "|  88 | MashThickness | a double | N/A | '/m/jhnas/jupyter/shareddata/python-r-data-analysis/beers/recipeData.csv' |\n",
       "|  88 | PitchRate     | a double | N/A | '/m/jhnas/jupyter/shareddata/python-r-data-analysis/beers/recipeData.csv' |\n",
       "|  88 | PrimaryTemp   | a double | N/A | '/m/jhnas/jupyter/shareddata/python-r-data-analysis/beers/recipeData.csv' |\n",
       "|  89 | MashThickness | a double | N/A | '/m/jhnas/jupyter/shareddata/python-r-data-analysis/beers/recipeData.csv' |\n",
       "|  89 | PitchRate     | a double | N/A | '/m/jhnas/jupyter/shareddata/python-r-data-analysis/beers/recipeData.csv' |\n",
       "|  90 | BoilGravity   | a double | N/A | '/m/jhnas/jupyter/shareddata/python-r-data-analysis/beers/recipeData.csv' |\n",
       "|  90 | MashThickness | a double | N/A | '/m/jhnas/jupyter/shareddata/python-r-data-analysis/beers/recipeData.csv' |\n",
       "|  90 | PitchRate     | a double | N/A | '/m/jhnas/jupyter/shareddata/python-r-data-analysis/beers/recipeData.csv' |\n",
       "|  90 | PrimaryTemp   | a double | N/A | '/m/jhnas/jupyter/shareddata/python-r-data-analysis/beers/recipeData.csv' |\n",
       "|  91 | BoilGravity   | a double | N/A | '/m/jhnas/jupyter/shareddata/python-r-data-analysis/beers/recipeData.csv' |\n",
       "|  91 | MashThickness | a double | N/A | '/m/jhnas/jupyter/shareddata/python-r-data-analysis/beers/recipeData.csv' |\n",
       "|  92 | MashThickness | a double | N/A | '/m/jhnas/jupyter/shareddata/python-r-data-analysis/beers/recipeData.csv' |\n",
       "|  92 | PitchRate     | a double | N/A | '/m/jhnas/jupyter/shareddata/python-r-data-analysis/beers/recipeData.csv' |\n",
       "|  93 | BoilGravity   | a double | N/A | '/m/jhnas/jupyter/shareddata/python-r-data-analysis/beers/recipeData.csv' |\n",
       "|  93 | MashThickness | a double | N/A | '/m/jhnas/jupyter/shareddata/python-r-data-analysis/beers/recipeData.csv' |\n",
       "|  93 | PitchRate     | a double | N/A | '/m/jhnas/jupyter/shareddata/python-r-data-analysis/beers/recipeData.csv' |\n",
       "|  93 | PrimaryTemp   | a double | N/A | '/m/jhnas/jupyter/shareddata/python-r-data-analysis/beers/recipeData.csv' |\n",
       "|  96 | BoilGravity   | a double | N/A | '/m/jhnas/jupyter/shareddata/python-r-data-analysis/beers/recipeData.csv' |\n",
       "|  96 | MashThickness | a double | N/A | '/m/jhnas/jupyter/shareddata/python-r-data-analysis/beers/recipeData.csv' |\n",
       "|  96 | PitchRate     | a double | N/A | '/m/jhnas/jupyter/shareddata/python-r-data-analysis/beers/recipeData.csv' |\n",
       "|  96 | PrimaryTemp   | a double | N/A | '/m/jhnas/jupyter/shareddata/python-r-data-analysis/beers/recipeData.csv' |\n",
       "|  97 | PitchRate     | a double | N/A | '/m/jhnas/jupyter/shareddata/python-r-data-analysis/beers/recipeData.csv' |\n",
       "|  97 | PrimaryTemp   | a double | N/A | '/m/jhnas/jupyter/shareddata/python-r-data-analysis/beers/recipeData.csv' |\n",
       "|  98 | MashThickness | a double | N/A | '/m/jhnas/jupyter/shareddata/python-r-data-analysis/beers/recipeData.csv' |\n",
       "|  98 | PitchRate     | a double | N/A | '/m/jhnas/jupyter/shareddata/python-r-data-analysis/beers/recipeData.csv' |\n",
       "|  98 | PrimaryTemp   | a double | N/A | '/m/jhnas/jupyter/shareddata/python-r-data-analysis/beers/recipeData.csv' |\n",
       "| 100 | BoilGravity   | a double | N/A | '/m/jhnas/jupyter/shareddata/python-r-data-analysis/beers/recipeData.csv' |\n",
       "| 100 | MashThickness | a double | N/A | '/m/jhnas/jupyter/shareddata/python-r-data-analysis/beers/recipeData.csv' |\n",
       "| 100 | PitchRate     | a double | N/A | '/m/jhnas/jupyter/shareddata/python-r-data-analysis/beers/recipeData.csv' |\n",
       "| 100 | PrimaryTemp   | a double | N/A | '/m/jhnas/jupyter/shareddata/python-r-data-analysis/beers/recipeData.csv' |\n",
       "\n"
      ],
      "text/plain": [
       "    row col           expected actual\n",
       "1    1  MashThickness a double N/A   \n",
       "2    1  PitchRate     a double N/A   \n",
       "3    2  MashThickness a double N/A   \n",
       "4    2  PitchRate     a double N/A   \n",
       "5    2  PrimaryTemp   a double N/A   \n",
       "6    3  BoilGravity   a double N/A   \n",
       "7    3  MashThickness a double N/A   \n",
       "8    3  PitchRate     a double N/A   \n",
       "9    3  PrimaryTemp   a double N/A   \n",
       "10   4  BoilGravity   a double N/A   \n",
       "11   4  MashThickness a double N/A   \n",
       "12   4  PitchRate     a double N/A   \n",
       "13   4  PrimaryTemp   a double N/A   \n",
       "14   5  MashThickness a double N/A   \n",
       "15   5  PitchRate     a double N/A   \n",
       "16   6  MashThickness a double N/A   \n",
       "17   6  PrimaryTemp   a double N/A   \n",
       "18   7  BoilGravity   a double N/A   \n",
       "19   7  MashThickness a double N/A   \n",
       "20   7  PitchRate     a double N/A   \n",
       "21   7  PrimaryTemp   a double N/A   \n",
       "22   8  PitchRate     a double N/A   \n",
       "23   8  PrimaryTemp   a double N/A   \n",
       "24   9  MashThickness a double N/A   \n",
       "25   9  PitchRate     a double N/A   \n",
       "26   9  PrimaryTemp   a double N/A   \n",
       "27  10  MashThickness a double N/A   \n",
       "28  10  PitchRate     a double N/A   \n",
       "29  11  MashThickness a double N/A   \n",
       "30  12  BoilGravity   a double N/A   \n",
       "⋮   ⋮   ⋮             ⋮        ⋮     \n",
       "179  88 MashThickness a double N/A   \n",
       "180  88 PitchRate     a double N/A   \n",
       "181  88 PrimaryTemp   a double N/A   \n",
       "182  89 MashThickness a double N/A   \n",
       "183  89 PitchRate     a double N/A   \n",
       "184  90 BoilGravity   a double N/A   \n",
       "185  90 MashThickness a double N/A   \n",
       "186  90 PitchRate     a double N/A   \n",
       "187  90 PrimaryTemp   a double N/A   \n",
       "188  91 BoilGravity   a double N/A   \n",
       "189  91 MashThickness a double N/A   \n",
       "190  92 MashThickness a double N/A   \n",
       "191  92 PitchRate     a double N/A   \n",
       "192  93 BoilGravity   a double N/A   \n",
       "193  93 MashThickness a double N/A   \n",
       "194  93 PitchRate     a double N/A   \n",
       "195  93 PrimaryTemp   a double N/A   \n",
       "196  96 BoilGravity   a double N/A   \n",
       "197  96 MashThickness a double N/A   \n",
       "198  96 PitchRate     a double N/A   \n",
       "199  96 PrimaryTemp   a double N/A   \n",
       "200  97 PitchRate     a double N/A   \n",
       "201  97 PrimaryTemp   a double N/A   \n",
       "202  98 MashThickness a double N/A   \n",
       "203  98 PitchRate     a double N/A   \n",
       "204  98 PrimaryTemp   a double N/A   \n",
       "205 100 BoilGravity   a double N/A   \n",
       "206 100 MashThickness a double N/A   \n",
       "207 100 PitchRate     a double N/A   \n",
       "208 100 PrimaryTemp   a double N/A   \n",
       "    file                                                                     \n",
       "1   '/m/jhnas/jupyter/shareddata/python-r-data-analysis/beers/recipeData.csv'\n",
       "2   '/m/jhnas/jupyter/shareddata/python-r-data-analysis/beers/recipeData.csv'\n",
       "3   '/m/jhnas/jupyter/shareddata/python-r-data-analysis/beers/recipeData.csv'\n",
       "4   '/m/jhnas/jupyter/shareddata/python-r-data-analysis/beers/recipeData.csv'\n",
       "5   '/m/jhnas/jupyter/shareddata/python-r-data-analysis/beers/recipeData.csv'\n",
       "6   '/m/jhnas/jupyter/shareddata/python-r-data-analysis/beers/recipeData.csv'\n",
       "7   '/m/jhnas/jupyter/shareddata/python-r-data-analysis/beers/recipeData.csv'\n",
       "8   '/m/jhnas/jupyter/shareddata/python-r-data-analysis/beers/recipeData.csv'\n",
       "9   '/m/jhnas/jupyter/shareddata/python-r-data-analysis/beers/recipeData.csv'\n",
       "10  '/m/jhnas/jupyter/shareddata/python-r-data-analysis/beers/recipeData.csv'\n",
       "11  '/m/jhnas/jupyter/shareddata/python-r-data-analysis/beers/recipeData.csv'\n",
       "12  '/m/jhnas/jupyter/shareddata/python-r-data-analysis/beers/recipeData.csv'\n",
       "13  '/m/jhnas/jupyter/shareddata/python-r-data-analysis/beers/recipeData.csv'\n",
       "14  '/m/jhnas/jupyter/shareddata/python-r-data-analysis/beers/recipeData.csv'\n",
       "15  '/m/jhnas/jupyter/shareddata/python-r-data-analysis/beers/recipeData.csv'\n",
       "16  '/m/jhnas/jupyter/shareddata/python-r-data-analysis/beers/recipeData.csv'\n",
       "17  '/m/jhnas/jupyter/shareddata/python-r-data-analysis/beers/recipeData.csv'\n",
       "18  '/m/jhnas/jupyter/shareddata/python-r-data-analysis/beers/recipeData.csv'\n",
       "19  '/m/jhnas/jupyter/shareddata/python-r-data-analysis/beers/recipeData.csv'\n",
       "20  '/m/jhnas/jupyter/shareddata/python-r-data-analysis/beers/recipeData.csv'\n",
       "21  '/m/jhnas/jupyter/shareddata/python-r-data-analysis/beers/recipeData.csv'\n",
       "22  '/m/jhnas/jupyter/shareddata/python-r-data-analysis/beers/recipeData.csv'\n",
       "23  '/m/jhnas/jupyter/shareddata/python-r-data-analysis/beers/recipeData.csv'\n",
       "24  '/m/jhnas/jupyter/shareddata/python-r-data-analysis/beers/recipeData.csv'\n",
       "25  '/m/jhnas/jupyter/shareddata/python-r-data-analysis/beers/recipeData.csv'\n",
       "26  '/m/jhnas/jupyter/shareddata/python-r-data-analysis/beers/recipeData.csv'\n",
       "27  '/m/jhnas/jupyter/shareddata/python-r-data-analysis/beers/recipeData.csv'\n",
       "28  '/m/jhnas/jupyter/shareddata/python-r-data-analysis/beers/recipeData.csv'\n",
       "29  '/m/jhnas/jupyter/shareddata/python-r-data-analysis/beers/recipeData.csv'\n",
       "30  '/m/jhnas/jupyter/shareddata/python-r-data-analysis/beers/recipeData.csv'\n",
       "⋮   ⋮                                                                        \n",
       "179 '/m/jhnas/jupyter/shareddata/python-r-data-analysis/beers/recipeData.csv'\n",
       "180 '/m/jhnas/jupyter/shareddata/python-r-data-analysis/beers/recipeData.csv'\n",
       "181 '/m/jhnas/jupyter/shareddata/python-r-data-analysis/beers/recipeData.csv'\n",
       "182 '/m/jhnas/jupyter/shareddata/python-r-data-analysis/beers/recipeData.csv'\n",
       "183 '/m/jhnas/jupyter/shareddata/python-r-data-analysis/beers/recipeData.csv'\n",
       "184 '/m/jhnas/jupyter/shareddata/python-r-data-analysis/beers/recipeData.csv'\n",
       "185 '/m/jhnas/jupyter/shareddata/python-r-data-analysis/beers/recipeData.csv'\n",
       "186 '/m/jhnas/jupyter/shareddata/python-r-data-analysis/beers/recipeData.csv'\n",
       "187 '/m/jhnas/jupyter/shareddata/python-r-data-analysis/beers/recipeData.csv'\n",
       "188 '/m/jhnas/jupyter/shareddata/python-r-data-analysis/beers/recipeData.csv'\n",
       "189 '/m/jhnas/jupyter/shareddata/python-r-data-analysis/beers/recipeData.csv'\n",
       "190 '/m/jhnas/jupyter/shareddata/python-r-data-analysis/beers/recipeData.csv'\n",
       "191 '/m/jhnas/jupyter/shareddata/python-r-data-analysis/beers/recipeData.csv'\n",
       "192 '/m/jhnas/jupyter/shareddata/python-r-data-analysis/beers/recipeData.csv'\n",
       "193 '/m/jhnas/jupyter/shareddata/python-r-data-analysis/beers/recipeData.csv'\n",
       "194 '/m/jhnas/jupyter/shareddata/python-r-data-analysis/beers/recipeData.csv'\n",
       "195 '/m/jhnas/jupyter/shareddata/python-r-data-analysis/beers/recipeData.csv'\n",
       "196 '/m/jhnas/jupyter/shareddata/python-r-data-analysis/beers/recipeData.csv'\n",
       "197 '/m/jhnas/jupyter/shareddata/python-r-data-analysis/beers/recipeData.csv'\n",
       "198 '/m/jhnas/jupyter/shareddata/python-r-data-analysis/beers/recipeData.csv'\n",
       "199 '/m/jhnas/jupyter/shareddata/python-r-data-analysis/beers/recipeData.csv'\n",
       "200 '/m/jhnas/jupyter/shareddata/python-r-data-analysis/beers/recipeData.csv'\n",
       "201 '/m/jhnas/jupyter/shareddata/python-r-data-analysis/beers/recipeData.csv'\n",
       "202 '/m/jhnas/jupyter/shareddata/python-r-data-analysis/beers/recipeData.csv'\n",
       "203 '/m/jhnas/jupyter/shareddata/python-r-data-analysis/beers/recipeData.csv'\n",
       "204 '/m/jhnas/jupyter/shareddata/python-r-data-analysis/beers/recipeData.csv'\n",
       "205 '/m/jhnas/jupyter/shareddata/python-r-data-analysis/beers/recipeData.csv'\n",
       "206 '/m/jhnas/jupyter/shareddata/python-r-data-analysis/beers/recipeData.csv'\n",
       "207 '/m/jhnas/jupyter/shareddata/python-r-data-analysis/beers/recipeData.csv'\n",
       "208 '/m/jhnas/jupyter/shareddata/python-r-data-analysis/beers/recipeData.csv'"
      ]
     },
     "metadata": {},
     "output_type": "display_data"
    }
   ],
   "source": [
    "problems(beer_recipes)"
   ]
  },
  {
   "cell_type": "markdown",
   "metadata": {},
   "source": [
    "Most of the problems seem to be related to _N/A_ not being a recognized name for `NA`. Let's add that to the initial read call with `na`-argument. "
   ]
  },
  {
   "cell_type": "code",
   "execution_count": 6,
   "metadata": {},
   "outputs": [
    {
     "name": "stderr",
     "output_type": "stream",
     "text": [
      "Parsed with column specification:\n",
      "cols(\n",
      "  .default = col_double(),\n",
      "  Name = \u001b[31mcol_character()\u001b[39m,\n",
      "  URL = \u001b[31mcol_character()\u001b[39m,\n",
      "  Style = \u001b[31mcol_character()\u001b[39m,\n",
      "  SugarScale = \u001b[31mcol_character()\u001b[39m,\n",
      "  BrewMethod = \u001b[31mcol_character()\u001b[39m,\n",
      "  PrimingMethod = \u001b[31mcol_character()\u001b[39m,\n",
      "  PrimingAmount = \u001b[31mcol_character()\u001b[39m\n",
      ")\n",
      "\n",
      "See spec(...) for full column specifications.\n",
      "\n"
     ]
    },
    {
     "data": {
      "text/plain": [
       "cols(\n",
       "  BeerID = \u001b[32mcol_double()\u001b[39m,\n",
       "  Name = \u001b[31mcol_character()\u001b[39m,\n",
       "  URL = \u001b[31mcol_character()\u001b[39m,\n",
       "  Style = \u001b[31mcol_character()\u001b[39m,\n",
       "  StyleID = \u001b[32mcol_double()\u001b[39m,\n",
       "  `Size(L)` = \u001b[32mcol_double()\u001b[39m,\n",
       "  OG = \u001b[32mcol_double()\u001b[39m,\n",
       "  FG = \u001b[32mcol_double()\u001b[39m,\n",
       "  ABV = \u001b[32mcol_double()\u001b[39m,\n",
       "  IBU = \u001b[32mcol_double()\u001b[39m,\n",
       "  Color = \u001b[32mcol_double()\u001b[39m,\n",
       "  BoilSize = \u001b[32mcol_double()\u001b[39m,\n",
       "  BoilTime = \u001b[32mcol_double()\u001b[39m,\n",
       "  BoilGravity = \u001b[32mcol_double()\u001b[39m,\n",
       "  Efficiency = \u001b[32mcol_double()\u001b[39m,\n",
       "  MashThickness = \u001b[32mcol_double()\u001b[39m,\n",
       "  SugarScale = \u001b[31mcol_character()\u001b[39m,\n",
       "  BrewMethod = \u001b[31mcol_character()\u001b[39m,\n",
       "  PitchRate = \u001b[32mcol_double()\u001b[39m,\n",
       "  PrimaryTemp = \u001b[32mcol_double()\u001b[39m,\n",
       "  PrimingMethod = \u001b[31mcol_character()\u001b[39m,\n",
       "  PrimingAmount = \u001b[31mcol_character()\u001b[39m\n",
       ")"
      ]
     },
     "metadata": {},
     "output_type": "display_data"
    }
   ],
   "source": [
    "beer_recipes <- read_csv(\"/m/jhnas/jupyter/shareddata/python-r-data-analysis/beers/recipeData.csv\",na=c(\"\",\"NA\",\"N/A\"), n_max=100)\n",
    "\n",
    "spec(beer_recipes)"
   ]
  },
  {
   "cell_type": "markdown",
   "metadata": {},
   "source": [
    "Now most of the columns seem correct. Last column seems to include units (_oz_). Using mutate is probably easiest way of getting rid of them.\n",
    "\n",
    "Let' use `str_remove` to remove it  [[str_remove]](https://stringr.tidyverse.org/reference/str_remove.html).\n",
    "\n",
    "After that we can convert the column to double and use `str` to check that our dataset looks fine."
   ]
  },
  {
   "cell_type": "code",
   "execution_count": 7,
   "metadata": {},
   "outputs": [
    {
     "name": "stderr",
     "output_type": "stream",
     "text": [
      "Warning message in rlang::eval_tidy(~as.double(str_remove(PrimingAmount, \" oz\")), :\n",
      "“NAs introduced by coercion”\n"
     ]
    },
    {
     "name": "stdout",
     "output_type": "stream",
     "text": [
      "Classes ‘spec_tbl_df’, ‘tbl_df’, ‘tbl’ and 'data.frame':\t100 obs. of  22 variables:\n",
      " $ BeerID       : num  1 2 3 4 5 6 7 8 9 10 ...\n",
      " $ Name         : chr  \"Vanilla Cream Ale\" \"Southern Tier Pumking clone\" \"Zombie Dust Clone - EXTRACT\" \"Zombie Dust Clone - ALL GRAIN\" ...\n",
      " $ URL          : chr  \"/homebrew/recipe/view/1633/vanilla-cream-ale\" \"/homebrew/recipe/view/16367/southern-tier-pumking-clone\" \"/homebrew/recipe/view/5920/zombie-dust-clone-extract\" \"/homebrew/recipe/view/5916/zombie-dust-clone-all-grain\" ...\n",
      " $ Style        : chr  \"Cream Ale\" \"Holiday/Winter Special Spiced Beer\" \"American IPA\" \"American IPA\" ...\n",
      " $ StyleID      : num  45 85 7 7 20 10 86 45 129 86 ...\n",
      " $ Size(L)      : num  21.8 20.8 18.9 22.7 50 ...\n",
      " $ OG           : num  1.05 1.08 1.06 1.06 1.06 ...\n",
      " $ FG           : num  1.01 1.02 1.02 1.02 1.01 ...\n",
      " $ ABV          : num  5.48 8.16 5.91 5.8 6.48 5.58 7.09 5.36 5.77 8.22 ...\n",
      " $ IBU          : num  17.6 60.6 59.2 54.5 17.8 ...\n",
      " $ Color        : num  4.83 15.64 8.98 8.5 4.57 ...\n",
      " $ BoilSize     : num  28.4 24.6 22.7 26.5 60 ...\n",
      " $ BoilTime     : num  75 60 60 60 90 70 90 75 75 60 ...\n",
      " $ BoilGravity  : num  1.04 1.07 NA NA 1.05 ...\n",
      " $ Efficiency   : num  70 70 70 70 72 79 75 70 73 70 ...\n",
      " $ MashThickness: num  NA NA NA NA NA NA NA 1.4 NA NA ...\n",
      " $ SugarScale   : chr  \"Specific Gravity\" \"Specific Gravity\" \"Specific Gravity\" \"Specific Gravity\" ...\n",
      " $ BrewMethod   : chr  \"All Grain\" \"All Grain\" \"extract\" \"All Grain\" ...\n",
      " $ PitchRate    : num  NA NA NA NA NA 1 NA NA NA NA ...\n",
      " $ PrimaryTemp  : num  17.8 NA NA NA 19 ...\n",
      " $ PrimingMethod: chr  \"corn sugar\" NA NA NA ...\n",
      " $ PrimingAmount: num  4.5 NA NA NA NA NA NA 4.2 4 NA ...\n"
     ]
    }
   ],
   "source": [
    "beer_recipes <- beer_recipes %>%\n",
    "    mutate(PrimingAmount=as.double(str_remove(PrimingAmount, ' oz')))\n",
    "\n",
    "str(beer_recipes)"
   ]
  },
  {
   "cell_type": "markdown",
   "metadata": {},
   "source": [
    "Let's say that we want to write the resulting `tibble` in a format that is easily readable in Excel.\n",
    "\n",
    "For this we'd want to use `write_excel_csv` (there are similar functions for normal csv, tsv etc.) [[write_excel_csv]](http://readr.tidyverse.org/reference/write_delim.html).  "
   ]
  },
  {
   "cell_type": "code",
   "execution_count": 8,
   "metadata": {},
   "outputs": [],
   "source": [
    "write_excel_csv(beer_recipes, 'beer-recipes-excel-format.csv')"
   ]
  },
  {
   "cell_type": "markdown",
   "metadata": {},
   "source": [
    "# Feather\n",
    "\n",
    "Let's say you have a big dataset you have pre-processed with R, but want to analyze with Python. The new feather-format that uses Apache Arrow's data specification is created by the creators of Tidy-R and Pandas and it should be interoprable with both of them [[feather's page in Github]](https://github.com/wesm/feather).\n",
    "\n",
    "What matters the most is that it is fast and compact (because it is a binary data format).\n",
    "\n",
    "Using it is simple, just load `feather`-library an write data with `write_feather` [[write_feather]](https://cran.r-project.org/web/packages/feather/feather.pdf).\n",
    "\n",
    "Loading data is done with `read_feather`.\n",
    "\n",
    "Do note that more complex structures like nested tibbles do not necessarily fit into a feather.\n",
    "\n",
    "Let's install `feather`:"
   ]
  },
  {
   "cell_type": "code",
   "execution_count": 9,
   "metadata": {},
   "outputs": [],
   "source": [
    "if (!file.exists('rlibs')) {\n",
    "    dir.create('rlibs')\n",
    "}\n",
    "if (!file.exists('rlibs/feather')) {\n",
    "    install.packages('feather', repos=\"http://cran.r-project.org\", lib='rlibs')\n",
    "}\n",
    "library(feather, lib.loc='rlibs')"
   ]
  },
  {
   "cell_type": "code",
   "execution_count": 10,
   "metadata": {},
   "outputs": [],
   "source": [
    "write_feather(beer_recipes,'beer_recipes.feather')\n",
    "\n",
    "beer_recipes2 <- read_feather('beer_recipes.feather')"
   ]
  },
  {
   "cell_type": "markdown",
   "metadata": {},
   "source": [
    "# Database access\n",
    "\n",
    "There exists a package `DBI` that defines a common interface that can be used to access various different databases [[DBI]](https://dbi.r-dbi.org/).\n",
    "\n",
    "When using `DBI`, one can also use `dbplyr` to run `tidyverse` verbs (`select`, `map`, etc.) to database queries without loading the whole database into memory."
   ]
  },
  {
   "cell_type": "code",
   "execution_count": 11,
   "metadata": {},
   "outputs": [
    {
     "name": "stderr",
     "output_type": "stream",
     "text": [
      "\n",
      "Attaching package: ‘dbplyr’\n",
      "\n",
      "\n",
      "The following objects are masked from ‘package:dplyr’:\n",
      "\n",
      "    ident, sql\n",
      "\n",
      "\n"
     ]
    }
   ],
   "source": [
    "if (!file.exists('rlibs')) {\n",
    "    dir.create('rlibs')\n",
    "}\n",
    "if (!file.exists('rlibs/DBI')) {\n",
    "    install.packages('DBI', repos=\"http://cran.r-project.org\", lib='rlibs')\n",
    "}\n",
    "if (!file.exists('rlibs/dbplyr')) {\n",
    "    install.packages('dbplyr', repos=\"http://cran.r-project.org\", lib='rlibs')\n",
    "}\n",
    "library(DBI, lib.loc='rlibs')\n",
    "library(dbplyr, lib.loc='rlibs')"
   ]
  },
  {
   "cell_type": "markdown",
   "metadata": {},
   "source": [
    "Let's use `tbl_memdb` from `dbplyr` to add `beer_recipes` to a temporary in-memory database [[tbl_memdb]](https://dbplyr.tidyverse.org/reference/memdb_frame.html)."
   ]
  },
  {
   "cell_type": "code",
   "execution_count": 12,
   "metadata": {},
   "outputs": [],
   "source": [
    "beers_db <- tbl_memdb(beer_recipes)"
   ]
  },
  {
   "cell_type": "markdown",
   "metadata": {},
   "source": [
    "The returned object is a SQL table that acts like a tibble."
   ]
  },
  {
   "cell_type": "code",
   "execution_count": 13,
   "metadata": {},
   "outputs": [
    {
     "name": "stdout",
     "output_type": "stream",
     "text": [
      "\u001b[90m# Source:   table<beer_recipes> [?? x 22]\u001b[39m\n",
      "\u001b[90m# Database: sqlite 3.22.0 [:memory:]\u001b[39m\n",
      "   BeerID Name  URL   Style StyleID `Size(L)`    OG    FG   ABV   IBU Color\n",
      "    \u001b[3m\u001b[90m<dbl>\u001b[39m\u001b[23m \u001b[3m\u001b[90m<chr>\u001b[39m\u001b[23m \u001b[3m\u001b[90m<chr>\u001b[39m\u001b[23m \u001b[3m\u001b[90m<chr>\u001b[39m\u001b[23m   \u001b[3m\u001b[90m<dbl>\u001b[39m\u001b[23m     \u001b[3m\u001b[90m<dbl>\u001b[39m\u001b[23m \u001b[3m\u001b[90m<dbl>\u001b[39m\u001b[23m \u001b[3m\u001b[90m<dbl>\u001b[39m\u001b[23m \u001b[3m\u001b[90m<dbl>\u001b[39m\u001b[23m \u001b[3m\u001b[90m<dbl>\u001b[39m\u001b[23m \u001b[3m\u001b[90m<dbl>\u001b[39m\u001b[23m\n",
      "\u001b[90m 1\u001b[39m      1 Vani… /hom… Crea…      45      21.8  1.06  1.01  5.48  17.6  4.83\n",
      "\u001b[90m 2\u001b[39m      2 Sout… /hom… Holi…      85      20.8  1.08  1.02  8.16  60.6 15.6 \n",
      "\u001b[90m 3\u001b[39m      3 Zomb… /hom… Amer…       7      18.9  1.06  1.02  5.91  59.2  8.98\n",
      "\u001b[90m 4\u001b[39m      4 Zomb… /hom… Amer…       7      22.7  1.06  1.02  5.8   54.5  8.5 \n",
      "\u001b[90m 5\u001b[39m      5 Bakk… /hom… Belg…      20      50    1.06  1.01  6.48  17.8  4.57\n",
      "\u001b[90m 6\u001b[39m      6 Sier… /hom… Amer…      10      24.6  1.06  1.01  5.58  40.1  8   \n",
      "\u001b[90m 7\u001b[39m      7 Russ… /hom… Impe…      86      22.7  1.07  1.02  7.09 269.   6.33\n",
      "\u001b[90m 8\u001b[39m      8 Spot… /hom… Crea…      45      20.8  1.05  1.01  5.36  20.0  5.94\n",
      "\u001b[90m 9\u001b[39m      9 Choc… /hom… Robu…     129      22.7  1.06  1.02  5.77  31.6 34.8 \n",
      "\u001b[90m10\u001b[39m     10 Mang… /hom… Impe…      86      20.8  1.08  1.02  8.22  93.0  8.29\n",
      "\u001b[90m# … with more rows, and 11 more variables: BoilSize \u001b[3m\u001b[90m<dbl>\u001b[90m\u001b[23m, BoilTime \u001b[3m\u001b[90m<dbl>\u001b[90m\u001b[23m,\n",
      "#   BoilGravity \u001b[3m\u001b[90m<dbl>\u001b[90m\u001b[23m, Efficiency \u001b[3m\u001b[90m<dbl>\u001b[90m\u001b[23m, MashThickness \u001b[3m\u001b[90m<dbl>\u001b[90m\u001b[23m, SugarScale \u001b[3m\u001b[90m<chr>\u001b[90m\u001b[23m,\n",
      "#   BrewMethod \u001b[3m\u001b[90m<chr>\u001b[90m\u001b[23m, PitchRate \u001b[3m\u001b[90m<dbl>\u001b[90m\u001b[23m, PrimaryTemp \u001b[3m\u001b[90m<dbl>\u001b[90m\u001b[23m, PrimingMethod \u001b[3m\u001b[90m<chr>\u001b[90m\u001b[23m,\n",
      "#   PrimingAmount \u001b[3m\u001b[90m<dbl>\u001b[90m\u001b[23m\u001b[39m\n"
     ]
    },
    {
     "data": {
      "text/plain": [
       "\u001b[90m# Source:   lazy query [?? x 4]\u001b[39m\n",
       "\u001b[90m# Database: sqlite 3.22.0 [:memory:]\u001b[39m\n",
       "   Name                                           ABV    OG    FG\n",
       "   \u001b[3m\u001b[90m<chr>\u001b[39m\u001b[23m                                        \u001b[3m\u001b[90m<dbl>\u001b[39m\u001b[23m \u001b[3m\u001b[90m<dbl>\u001b[39m\u001b[23m \u001b[3m\u001b[90m<dbl>\u001b[39m\u001b[23m\n",
       "\u001b[90m 1\u001b[39m Vanilla Cream Ale                             5.48  1.06  1.01\n",
       "\u001b[90m 2\u001b[39m Southern Tier Pumking clone                   8.16  1.08  1.02\n",
       "\u001b[90m 3\u001b[39m Zombie Dust Clone - EXTRACT                   5.91  1.06  1.02\n",
       "\u001b[90m 4\u001b[39m Zombie Dust Clone - ALL GRAIN                 5.8   1.06  1.02\n",
       "\u001b[90m 5\u001b[39m Bakke Brygg Belgisk Blonde 50 l               6.48  1.06  1.01\n",
       "\u001b[90m 6\u001b[39m Sierra Nevada Pale Ale Clone                  5.58  1.06  1.01\n",
       "\u001b[90m 7\u001b[39m Russian River Pliny the Elder (original)      7.09  1.07  1.02\n",
       "\u001b[90m 8\u001b[39m Spotted Clown (New Glarus Spotted Cow clone)  5.36  1.05  1.01\n",
       "\u001b[90m 9\u001b[39m Chocolate Vanilla Porter                      5.77  1.06  1.02\n",
       "\u001b[90m10\u001b[39m Mango Habanero IPA                            8.22  1.08  1.02\n",
       "\u001b[90m# … with more rows\u001b[39m"
      ]
     },
     "metadata": {},
     "output_type": "display_data"
    }
   ],
   "source": [
    "print(beers_db)\n",
    "beers_db %>%\n",
    "    select(Name, ABV, OG, FG)"
   ]
  },
  {
   "cell_type": "markdown",
   "metadata": {},
   "source": [
    "The difference between using normal tibbles and this database connection is that database queries are all connected and only evaluated when data is requsted. One can see the query that would be made with `show_query` [[show_query]](https://dplyr.tidyverse.org/reference/explain.html)."
   ]
  },
  {
   "cell_type": "code",
   "execution_count": 14,
   "metadata": {},
   "outputs": [
    {
     "name": "stdout",
     "output_type": "stream",
     "text": [
      "<SQL>\n"
     ]
    },
    {
     "name": "stderr",
     "output_type": "stream",
     "text": [
      "Warning message:\n",
      "“Missing values are always removed in SQL.\n",
      "Use `mean(x, na.rm = TRUE)` to silence this warning\n",
      "This warning is displayed only once per session.”\n"
     ]
    },
    {
     "name": "stdout",
     "output_type": "stream",
     "text": [
      "SELECT AVG(`OG`) AS `mean`\n",
      "FROM `beer_recipes`\n",
      "WHERE (`ABV` > 5.0)\n"
     ]
    }
   ],
   "source": [
    "beers_db %>%\n",
    "    filter(ABV > 5) %>%\n",
    "    summarise(mean = mean(OG)) %>%\n",
    "    show_query()\n"
   ]
  },
  {
   "cell_type": "markdown",
   "metadata": {},
   "source": [
    "One can collect the data to the current R session with `collect` [[collect]](https://dbplyr.tidyverse.org/reference/collapse.tbl_sql.html)."
   ]
  },
  {
   "cell_type": "code",
   "execution_count": 15,
   "metadata": {},
   "outputs": [
    {
     "name": "stdout",
     "output_type": "stream",
     "text": [
      "Classes ‘tbl_df’, ‘tbl’ and 'data.frame':\t85 obs. of  4 variables:\n",
      " $ Name: chr  \"Vanilla Cream Ale\" \"Southern Tier Pumking clone\" \"Zombie Dust Clone - EXTRACT\" \"Zombie Dust Clone - ALL GRAIN\" ...\n",
      " $ ABV : num  5.48 8.16 5.91 5.8 6.48 5.58 7.09 5.36 5.77 8.22 ...\n",
      " $ OG  : num  1.05 1.08 1.06 1.06 1.06 ...\n",
      " $ FG  : num  1.01 1.02 1.02 1.02 1.01 ...\n"
     ]
    }
   ],
   "source": [
    "beers_over_5abv <- beers_db %>%\n",
    "    filter(ABV > 5) %>%\n",
    "    select(Name, ABV, OG, FG) %>%\n",
    "    collect()\n",
    "str(beers_over_5abv)"
   ]
  },
  {
   "cell_type": "markdown",
   "metadata": {},
   "source": [
    "To remove tables from the temporary memory database, one needs to get the connection to it with `src_memdb` and `db_drop_table` from `dplyr`'s SQL backend [[src_memdb]](https://dbplyr.tidyverse.org/rmeference/memdb_frame.html) [[db_drop_table]](https://dplyr.tidyverse.org/reference/backend_dbplyr.html)."
   ]
  },
  {
   "cell_type": "code",
   "execution_count": 16,
   "metadata": {},
   "outputs": [
    {
     "data": {
      "text/plain": [
       "src:  sqlite 3.22.0 [:memory:]\n",
       "tbls: beer_recipes, sqlite_stat1, sqlite_stat4"
      ]
     },
     "metadata": {},
     "output_type": "display_data"
    },
    {
     "data": {
      "text/html": [
       "0"
      ],
      "text/latex": [
       "0"
      ],
      "text/markdown": [
       "0"
      ],
      "text/plain": [
       "[1] 0"
      ]
     },
     "metadata": {},
     "output_type": "display_data"
    },
    {
     "data": {
      "text/plain": [
       "src:  sqlite 3.22.0 [:memory:]\n",
       "tbls: sqlite_stat1, sqlite_stat4"
      ]
     },
     "metadata": {},
     "output_type": "display_data"
    }
   ],
   "source": [
    "memdb <- src_memdb()\n",
    "memdb\n",
    "db_drop_table('beer_recipes', con=memdb$con)\n",
    "memdb"
   ]
  },
  {
   "cell_type": "markdown",
   "metadata": {},
   "source": [
    "One can also write to a database file by opening a database connection with DBI."
   ]
  },
  {
   "cell_type": "code",
   "execution_count": 17,
   "metadata": {},
   "outputs": [],
   "source": [
    "con <- DBI::dbConnect(RSQLite::SQLite(), dbname = \"beer_recipes.sqlite\")"
   ]
  },
  {
   "cell_type": "markdown",
   "metadata": {},
   "source": [
    "Let's use `copy_to`-function to copy the `beer_recipes`-dataframe into a table in this newly established SQLite [[copy_to]](https://dplyr.tidyverse.org/reference/copy_to.html)."
   ]
  },
  {
   "cell_type": "code",
   "execution_count": 18,
   "metadata": {},
   "outputs": [],
   "source": [
    "copy_to(con, beer_recipes, overwrite=TRUE, temporary=FALSE)"
   ]
  },
  {
   "cell_type": "markdown",
   "metadata": {},
   "source": [
    "To get a reference to this new tab, we can use the `tbl`-function [[tbl]](https://dplyr.tidyverse.org/reference/tbl.html)."
   ]
  },
  {
   "cell_type": "code",
   "execution_count": 19,
   "metadata": {},
   "outputs": [
    {
     "data": {
      "text/plain": [
       "\u001b[90m# Source:   table<beer_recipes> [?? x 22]\u001b[39m\n",
       "\u001b[90m# Database: sqlite 3.22.0\n",
       "#   [/notebooks/python-r-data-analysis-course-dev/r/beer_recipes.sqlite]\u001b[39m\n",
       "   BeerID Name  URL   Style StyleID `Size(L)`    OG    FG   ABV   IBU Color\n",
       "    \u001b[3m\u001b[90m<dbl>\u001b[39m\u001b[23m \u001b[3m\u001b[90m<chr>\u001b[39m\u001b[23m \u001b[3m\u001b[90m<chr>\u001b[39m\u001b[23m \u001b[3m\u001b[90m<chr>\u001b[39m\u001b[23m   \u001b[3m\u001b[90m<dbl>\u001b[39m\u001b[23m     \u001b[3m\u001b[90m<dbl>\u001b[39m\u001b[23m \u001b[3m\u001b[90m<dbl>\u001b[39m\u001b[23m \u001b[3m\u001b[90m<dbl>\u001b[39m\u001b[23m \u001b[3m\u001b[90m<dbl>\u001b[39m\u001b[23m \u001b[3m\u001b[90m<dbl>\u001b[39m\u001b[23m \u001b[3m\u001b[90m<dbl>\u001b[39m\u001b[23m\n",
       "\u001b[90m 1\u001b[39m      1 Vani… /hom… Crea…      45      21.8  1.06  1.01  5.48  17.6  4.83\n",
       "\u001b[90m 2\u001b[39m      2 Sout… /hom… Holi…      85      20.8  1.08  1.02  8.16  60.6 15.6 \n",
       "\u001b[90m 3\u001b[39m      3 Zomb… /hom… Amer…       7      18.9  1.06  1.02  5.91  59.2  8.98\n",
       "\u001b[90m 4\u001b[39m      4 Zomb… /hom… Amer…       7      22.7  1.06  1.02  5.8   54.5  8.5 \n",
       "\u001b[90m 5\u001b[39m      5 Bakk… /hom… Belg…      20      50    1.06  1.01  6.48  17.8  4.57\n",
       "\u001b[90m 6\u001b[39m      6 Sier… /hom… Amer…      10      24.6  1.06  1.01  5.58  40.1  8   \n",
       "\u001b[90m 7\u001b[39m      7 Russ… /hom… Impe…      86      22.7  1.07  1.02  7.09 269.   6.33\n",
       "\u001b[90m 8\u001b[39m      8 Spot… /hom… Crea…      45      20.8  1.05  1.01  5.36  20.0  5.94\n",
       "\u001b[90m 9\u001b[39m      9 Choc… /hom… Robu…     129      22.7  1.06  1.02  5.77  31.6 34.8 \n",
       "\u001b[90m10\u001b[39m     10 Mang… /hom… Impe…      86      20.8  1.08  1.02  8.22  93.0  8.29\n",
       "\u001b[90m# … with more rows, and 11 more variables: BoilSize \u001b[3m\u001b[90m<dbl>\u001b[90m\u001b[23m, BoilTime \u001b[3m\u001b[90m<dbl>\u001b[90m\u001b[23m,\n",
       "#   BoilGravity \u001b[3m\u001b[90m<dbl>\u001b[90m\u001b[23m, Efficiency \u001b[3m\u001b[90m<dbl>\u001b[90m\u001b[23m, MashThickness \u001b[3m\u001b[90m<dbl>\u001b[90m\u001b[23m, SugarScale \u001b[3m\u001b[90m<chr>\u001b[90m\u001b[23m,\n",
       "#   BrewMethod \u001b[3m\u001b[90m<chr>\u001b[90m\u001b[23m, PitchRate \u001b[3m\u001b[90m<dbl>\u001b[90m\u001b[23m, PrimaryTemp \u001b[3m\u001b[90m<dbl>\u001b[90m\u001b[23m, PrimingMethod \u001b[3m\u001b[90m<chr>\u001b[90m\u001b[23m,\n",
       "#   PrimingAmount \u001b[3m\u001b[90m<dbl>\u001b[90m\u001b[23m\u001b[39m"
      ]
     },
     "metadata": {},
     "output_type": "display_data"
    }
   ],
   "source": [
    "beers_sqlite <- tbl(con,'beer_recipes')\n",
    "beers_sqlite"
   ]
  },
  {
   "cell_type": "markdown",
   "metadata": {},
   "source": [
    "Let's close and re-open the connection to verify that the table is indeed in the database file."
   ]
  },
  {
   "cell_type": "code",
   "execution_count": 20,
   "metadata": {},
   "outputs": [
    {
     "data": {
      "text/plain": [
       "<SQLiteConnection>\n",
       "  DISCONNECTED"
      ]
     },
     "metadata": {},
     "output_type": "display_data"
    },
    {
     "data": {
      "text/plain": [
       "<SQLiteConnection>\n",
       "  Path: /notebooks/python-r-data-analysis-course-dev/r/beer_recipes.sqlite\n",
       "  Extensions: TRUE"
      ]
     },
     "metadata": {},
     "output_type": "display_data"
    },
    {
     "data": {
      "text/plain": [
       "\u001b[90m# Source:   table<beer_recipes> [?? x 22]\u001b[39m\n",
       "\u001b[90m# Database: sqlite 3.22.0\n",
       "#   [/notebooks/python-r-data-analysis-course-dev/r/beer_recipes.sqlite]\u001b[39m\n",
       "   BeerID Name  URL   Style StyleID `Size(L)`    OG    FG   ABV   IBU Color\n",
       "    \u001b[3m\u001b[90m<dbl>\u001b[39m\u001b[23m \u001b[3m\u001b[90m<chr>\u001b[39m\u001b[23m \u001b[3m\u001b[90m<chr>\u001b[39m\u001b[23m \u001b[3m\u001b[90m<chr>\u001b[39m\u001b[23m   \u001b[3m\u001b[90m<dbl>\u001b[39m\u001b[23m     \u001b[3m\u001b[90m<dbl>\u001b[39m\u001b[23m \u001b[3m\u001b[90m<dbl>\u001b[39m\u001b[23m \u001b[3m\u001b[90m<dbl>\u001b[39m\u001b[23m \u001b[3m\u001b[90m<dbl>\u001b[39m\u001b[23m \u001b[3m\u001b[90m<dbl>\u001b[39m\u001b[23m \u001b[3m\u001b[90m<dbl>\u001b[39m\u001b[23m\n",
       "\u001b[90m 1\u001b[39m      1 Vani… /hom… Crea…      45      21.8  1.06  1.01  5.48  17.6  4.83\n",
       "\u001b[90m 2\u001b[39m      2 Sout… /hom… Holi…      85      20.8  1.08  1.02  8.16  60.6 15.6 \n",
       "\u001b[90m 3\u001b[39m      3 Zomb… /hom… Amer…       7      18.9  1.06  1.02  5.91  59.2  8.98\n",
       "\u001b[90m 4\u001b[39m      4 Zomb… /hom… Amer…       7      22.7  1.06  1.02  5.8   54.5  8.5 \n",
       "\u001b[90m 5\u001b[39m      5 Bakk… /hom… Belg…      20      50    1.06  1.01  6.48  17.8  4.57\n",
       "\u001b[90m 6\u001b[39m      6 Sier… /hom… Amer…      10      24.6  1.06  1.01  5.58  40.1  8   \n",
       "\u001b[90m 7\u001b[39m      7 Russ… /hom… Impe…      86      22.7  1.07  1.02  7.09 269.   6.33\n",
       "\u001b[90m 8\u001b[39m      8 Spot… /hom… Crea…      45      20.8  1.05  1.01  5.36  20.0  5.94\n",
       "\u001b[90m 9\u001b[39m      9 Choc… /hom… Robu…     129      22.7  1.06  1.02  5.77  31.6 34.8 \n",
       "\u001b[90m10\u001b[39m     10 Mang… /hom… Impe…      86      20.8  1.08  1.02  8.22  93.0  8.29\n",
       "\u001b[90m# … with more rows, and 11 more variables: BoilSize \u001b[3m\u001b[90m<dbl>\u001b[90m\u001b[23m, BoilTime \u001b[3m\u001b[90m<dbl>\u001b[90m\u001b[23m,\n",
       "#   BoilGravity \u001b[3m\u001b[90m<dbl>\u001b[90m\u001b[23m, Efficiency \u001b[3m\u001b[90m<dbl>\u001b[90m\u001b[23m, MashThickness \u001b[3m\u001b[90m<dbl>\u001b[90m\u001b[23m, SugarScale \u001b[3m\u001b[90m<chr>\u001b[90m\u001b[23m,\n",
       "#   BrewMethod \u001b[3m\u001b[90m<chr>\u001b[90m\u001b[23m, PitchRate \u001b[3m\u001b[90m<dbl>\u001b[90m\u001b[23m, PrimaryTemp \u001b[3m\u001b[90m<dbl>\u001b[90m\u001b[23m, PrimingMethod \u001b[3m\u001b[90m<chr>\u001b[90m\u001b[23m,\n",
       "#   PrimingAmount \u001b[3m\u001b[90m<dbl>\u001b[90m\u001b[23m\u001b[39m"
      ]
     },
     "metadata": {},
     "output_type": "display_data"
    },
    {
     "data": {
      "text/plain": [
       "<SQLiteConnection>\n",
       "  DISCONNECTED"
      ]
     },
     "metadata": {},
     "output_type": "display_data"
    }
   ],
   "source": [
    "dbDisconnect(con)\n",
    "con\n",
    "con <- DBI::dbConnect(RSQLite::SQLite(), dbname = \"beer_recipes.sqlite\")\n",
    "con\n",
    "tbl(con,'beer_recipes')\n",
    "dbDisconnect(con)\n",
    "con"
   ]
  },
  {
   "cell_type": "markdown",
   "metadata": {},
   "source": [
    "# Exercise time:\n",
    "\n",
    "1. Modify column specifications for FIFA World Cup match data [[1]](https://www.kaggle.com/abecklas/fifa-world-cup). Use `col_datetime` in `col_types` to get a good specification for column _DateTime_ [[col_datetime]](http://readr.tidyverse.org/reference/parse_datetime.html). Use `col_factor` to make columns _Round_, _Stadium_, _City_, _HomeTeam_ and _AwayTeam_ into factors.\n",
    "2. Store the resulting tibble as a feather.\n",
    "3. Store the resulting tibble into a SQLite database."
   ]
  },
  {
   "cell_type": "code",
   "execution_count": 21,
   "metadata": {},
   "outputs": [
    {
     "name": "stderr",
     "output_type": "stream",
     "text": [
      "Parsed with column specification:\n",
      "cols(\n",
      "  Year = \u001b[32mcol_double()\u001b[39m,\n",
      "  DateTime = \u001b[31mcol_character()\u001b[39m,\n",
      "  Round = \u001b[31mcol_character()\u001b[39m,\n",
      "  Stadium = \u001b[31mcol_character()\u001b[39m,\n",
      "  City = \u001b[31mcol_character()\u001b[39m,\n",
      "  HomeTeam = \u001b[31mcol_character()\u001b[39m,\n",
      "  HomeGoals = \u001b[32mcol_double()\u001b[39m,\n",
      "  AwayGoals = \u001b[32mcol_double()\u001b[39m,\n",
      "  AwayTeam = \u001b[31mcol_character()\u001b[39m,\n",
      "  Observation = \u001b[31mcol_character()\u001b[39m\n",
      ")\n",
      "\n"
     ]
    }
   ],
   "source": [
    "fifa_matches <- read_csv(\"/m/jhnas/jupyter/shareddata/python-r-data-analysis/fifa/WorldCupMatches.csv\")"
   ]
  },
  {
   "cell_type": "code",
   "execution_count": 22,
   "metadata": {},
   "outputs": [
    {
     "name": "stdout",
     "output_type": "stream",
     "text": [
      "Classes ‘spec_tbl_df’, ‘tbl_df’, ‘tbl’ and 'data.frame':\t4572 obs. of  10 variables:\n",
      " $ Year       : num  1930 1930 1930 1930 1930 1930 1930 1930 1930 1930 ...\n",
      " $ DateTime   : chr  \"13 Jul 1930 - 15:00\" \"13 Jul 1930 - 15:00\" \"14 Jul 1930 - 12:45\" \"14 Jul 1930 - 14:50\" ...\n",
      " $ Round      : chr  \"Group 1\" \"Group 4\" \"Group 2\" \"Group 3\" ...\n",
      " $ Stadium    : chr  \"Pocitos\" \"Parque Central\" \"Parque Central\" \"Pocitos\" ...\n",
      " $ City       : chr  \"Montevideo\" \"Montevideo\" \"Montevideo\" \"Montevideo\" ...\n",
      " $ HomeTeam   : chr  \"France\" \"USA\" \"Yugoslavia\" \"Romania\" ...\n",
      " $ HomeGoals  : num  4 3 2 3 1 3 4 3 1 1 ...\n",
      " $ AwayGoals  : num  1 0 1 1 0 0 0 0 0 0 ...\n",
      " $ AwayTeam   : chr  \"Mexico\" \"Belgium\" \"Brazil\" \"Peru\" ...\n",
      " $ Observation: chr  NA NA NA NA ...\n",
      " - attr(*, \"spec\")=\n",
      "  .. cols(\n",
      "  ..   Year = \u001b[32mcol_double()\u001b[39m,\n",
      "  ..   DateTime = \u001b[31mcol_character()\u001b[39m,\n",
      "  ..   Round = \u001b[31mcol_character()\u001b[39m,\n",
      "  ..   Stadium = \u001b[31mcol_character()\u001b[39m,\n",
      "  ..   City = \u001b[31mcol_character()\u001b[39m,\n",
      "  ..   HomeTeam = \u001b[31mcol_character()\u001b[39m,\n",
      "  ..   HomeGoals = \u001b[32mcol_double()\u001b[39m,\n",
      "  ..   AwayGoals = \u001b[32mcol_double()\u001b[39m,\n",
      "  ..   AwayTeam = \u001b[31mcol_character()\u001b[39m,\n",
      "  ..   Observation = \u001b[31mcol_character()\u001b[39m\n",
      "  .. )\n"
     ]
    }
   ],
   "source": [
    "str(fifa_matches)"
   ]
  },
  {
   "cell_type": "code",
   "execution_count": null,
   "metadata": {},
   "outputs": [],
   "source": []
  }
 ],
 "metadata": {
  "kernelspec": {
   "display_name": "R",
   "language": "R",
   "name": "ir"
  },
  "language_info": {
   "codemirror_mode": "r",
   "file_extension": ".r",
   "mimetype": "text/x-r-source",
   "name": "R",
   "pygments_lexer": "r",
   "version": "3.4.4"
  }
 },
 "nbformat": 4,
 "nbformat_minor": 4
}

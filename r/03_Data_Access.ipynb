{
 "cells": [
  {
   "cell_type": "markdown",
   "metadata": {},
   "source": [
    "# Data access\n",
    "\n",
    "## CSV files\n",
    "\n",
    "There's multiple functions in the `readr` for CSV file reading. Let's use them on a dataset available in Kaggle that has homemade beer recipes from Brewer's Friend [[1]](https://www.kaggle.com/jtrofe/beer-recipes).\n",
    "\n",
    "Let's check the first few lines of the data with base R's `file` and `readLines`."
   ]
  },
  {
   "cell_type": "code",
   "execution_count": 73,
   "metadata": {
    "scrolled": true
   },
   "outputs": [
    {
     "name": "stdout",
     "output_type": "stream",
     "text": [
      "[1] \"BeerID,Name,URL,Style,StyleID,Size(L),OG,FG,ABV,IBU,Color,BoilSize,BoilTime,BoilGravity,Efficiency,MashThickness,SugarScale,BrewMethod,PitchRate,PrimaryTemp,PrimingMethod,PrimingAmount\"    \n",
      "[2] \"1,Vanilla Cream Ale,/homebrew/recipe/view/1633/vanilla-cream-ale,Cream Ale,45,21.77,1.055,1.013,5.48,17.65,4.83,28.39,75,1.038,70,N/A,Specific Gravity,All Grain,N/A,17.78,corn sugar,4.5 oz\"\n"
     ]
    }
   ],
   "source": [
    "example_file <- file(\"beers/recipeData.csv\",'r')\n",
    "first_lines <- readLines(example_file,n=2)\n",
    "close(example_file)\n",
    "\n",
    "print(first_lines)"
   ]
  },
  {
   "cell_type": "markdown",
   "metadata": {},
   "source": [
    "Before we choose which reader we want to use we need to check the format of the data. \n",
    "\n",
    "`readr` has predefined functions for the following data formats [[1]](http://readr.tidyverse.org/reference/read_delim.html):\n",
    "- `read_delim` parses generic data delimited by a character\n",
    "- `read_csv` assumes that the data is delimited by commas\n",
    "- `read_csv2` assumes that the data is delimited by semicolons\n",
    "- `read_tsv` assumes that the data is delimited by tabs\n",
    "\n",
    "In this case we want to use `read_csv`."
   ]
  },
  {
   "cell_type": "code",
   "execution_count": 68,
   "metadata": {},
   "outputs": [
    {
     "name": "stderr",
     "output_type": "stream",
     "text": [
      "Parsed with column specification:\n",
      "cols(\n",
      "  .default = col_character(),\n",
      "  BeerID = col_integer(),\n",
      "  StyleID = col_integer(),\n",
      "  `Size(L)` = col_double(),\n",
      "  OG = col_double(),\n",
      "  FG = col_double(),\n",
      "  ABV = col_double(),\n",
      "  IBU = col_double(),\n",
      "  Color = col_double(),\n",
      "  BoilSize = col_double(),\n",
      "  BoilTime = col_integer(),\n",
      "  Efficiency = col_double()\n",
      ")\n",
      "See spec(...) for full column specifications.\n"
     ]
    }
   ],
   "source": [
    "library(tidyverse)\n",
    "\n",
    "beer_recipes <- read_csv(\"beers/recipeData.csv\")"
   ]
  },
  {
   "cell_type": "markdown",
   "metadata": {},
   "source": [
    "From the output one can see that `read_csv` tries to parse the datatype of the column automatically.\n",
    "\n",
    "By running `spec` one can see the full definitons."
   ]
  },
  {
   "cell_type": "code",
   "execution_count": 69,
   "metadata": {},
   "outputs": [
    {
     "data": {
      "text/plain": [
       "cols(\n",
       "  BeerID = col_integer(),\n",
       "  Name = col_character(),\n",
       "  URL = col_character(),\n",
       "  Style = col_character(),\n",
       "  StyleID = col_integer(),\n",
       "  `Size(L)` = col_double(),\n",
       "  OG = col_double(),\n",
       "  FG = col_double(),\n",
       "  ABV = col_double(),\n",
       "  IBU = col_double(),\n",
       "  Color = col_double(),\n",
       "  BoilSize = col_double(),\n",
       "  BoilTime = col_integer(),\n",
       "  BoilGravity = col_character(),\n",
       "  Efficiency = col_double(),\n",
       "  MashThickness = col_character(),\n",
       "  SugarScale = col_character(),\n",
       "  BrewMethod = col_character(),\n",
       "  PitchRate = col_character(),\n",
       "  PrimaryTemp = col_character(),\n",
       "  PrimingMethod = col_character(),\n",
       "  PrimingAmount = col_character()\n",
       ")"
      ]
     },
     "metadata": {},
     "output_type": "display_data"
    }
   ],
   "source": [
    "spec(beer_recipes)"
   ]
  },
  {
   "cell_type": "markdown",
   "metadata": {},
   "source": [
    "Many of the data columns seem to be characters instead of numbers. Let's use `col_types`-argument to specify a better definition."
   ]
  },
  {
   "cell_type": "code",
   "execution_count": 76,
   "metadata": {},
   "outputs": [
    {
     "name": "stderr",
     "output_type": "stream",
     "text": [
      "Warning message in rbind(names(probs), probs_f):\n",
      "“number of columns of result is not a multiple of vector length (arg 1)”Warning message:\n",
      "“94768 parsing failures.\n",
      "row # A tibble: 5 x 5 col     row col           expected actual file                   expected   <int> <chr>         <chr>    <chr>  <chr>                  actual 1     1 MashThickness a double N/A    'beers/recipeData.csv' file 2     1 PitchRate     a double N/A    'beers/recipeData.csv' row 3     2 MashThickness a double N/A    'beers/recipeData.csv' col 4     2 PitchRate     a double N/A    'beers/recipeData.csv' expected 5     2 PrimaryTemp   a double N/A    'beers/recipeData.csv'\n",
      "... ................. ... ............................................................ ........ ............................................................ ...... ............................................................ .... ............................................................ ... ............................................................ ... ............................................................ ........ ............................................................\n",
      "See problems(...) for more details.\n",
      "”"
     ]
    }
   ],
   "source": [
    "\n",
    "beer_recipes <- read_csv(\"beers/recipeData.csv\",\n",
    "                        col_types=cols(\n",
    "                          BeerID = col_integer(),\n",
    "                          Name = col_character(),\n",
    "                          URL = col_character(),\n",
    "                          Style = col_character(),\n",
    "                          StyleID = col_integer(),\n",
    "                          `Size(L)` = col_double(),\n",
    "                          OG = col_double(),\n",
    "                          FG = col_double(),\n",
    "                          ABV = col_double(),\n",
    "                          IBU = col_double(),\n",
    "                          Color = col_double(),\n",
    "                          BoilSize = col_double(),\n",
    "                          BoilTime = col_double(),\n",
    "                          BoilGravity = col_double(),\n",
    "                          Efficiency = col_double(),\n",
    "                          MashThickness = col_double(),\n",
    "                          SugarScale = col_character(),\n",
    "                          BrewMethod = col_character(),\n",
    "                          PitchRate = col_double(),\n",
    "                          PrimaryTemp = col_double(),\n",
    "                          PrimingMethod = col_character(),\n",
    "                          PrimingAmount = col_character()\n",
    "                        )\n",
    "                        )"
   ]
  },
  {
   "cell_type": "markdown",
   "metadata": {},
   "source": [
    "This produced a lot of problems. Let's check the problems with `problems`."
   ]
  },
  {
   "cell_type": "code",
   "execution_count": 77,
   "metadata": {},
   "outputs": [
    {
     "data": {
      "text/html": [
       "<table>\n",
       "<thead><tr><th scope=col>row</th><th scope=col>col</th><th scope=col>expected</th><th scope=col>actual</th><th scope=col>file</th></tr></thead>\n",
       "<tbody>\n",
       "\t<tr><td> 1                    </td><td>MashThickness         </td><td>a double              </td><td>N/A                   </td><td>'beers/recipeData.csv'</td></tr>\n",
       "\t<tr><td> 1                    </td><td>PitchRate             </td><td>a double              </td><td>N/A                   </td><td>'beers/recipeData.csv'</td></tr>\n",
       "\t<tr><td> 2                    </td><td>MashThickness         </td><td>a double              </td><td>N/A                   </td><td>'beers/recipeData.csv'</td></tr>\n",
       "\t<tr><td> 2                    </td><td>PitchRate             </td><td>a double              </td><td>N/A                   </td><td>'beers/recipeData.csv'</td></tr>\n",
       "\t<tr><td> 2                    </td><td>PrimaryTemp           </td><td>a double              </td><td>N/A                   </td><td>'beers/recipeData.csv'</td></tr>\n",
       "\t<tr><td> 3                    </td><td>BoilGravity           </td><td>a double              </td><td>N/A                   </td><td>'beers/recipeData.csv'</td></tr>\n",
       "\t<tr><td> 3                    </td><td>MashThickness         </td><td>a double              </td><td>N/A                   </td><td>'beers/recipeData.csv'</td></tr>\n",
       "\t<tr><td> 3                    </td><td>PitchRate             </td><td>a double              </td><td>N/A                   </td><td>'beers/recipeData.csv'</td></tr>\n",
       "\t<tr><td> 3                    </td><td>PrimaryTemp           </td><td>a double              </td><td>N/A                   </td><td>'beers/recipeData.csv'</td></tr>\n",
       "\t<tr><td> 4                    </td><td>BoilGravity           </td><td>a double              </td><td>N/A                   </td><td>'beers/recipeData.csv'</td></tr>\n",
       "\t<tr><td> 4                    </td><td>MashThickness         </td><td>a double              </td><td>N/A                   </td><td>'beers/recipeData.csv'</td></tr>\n",
       "\t<tr><td> 4                    </td><td>PitchRate             </td><td>a double              </td><td>N/A                   </td><td>'beers/recipeData.csv'</td></tr>\n",
       "\t<tr><td> 4                    </td><td>PrimaryTemp           </td><td>a double              </td><td>N/A                   </td><td>'beers/recipeData.csv'</td></tr>\n",
       "\t<tr><td> 5                    </td><td>MashThickness         </td><td>a double              </td><td>N/A                   </td><td>'beers/recipeData.csv'</td></tr>\n",
       "\t<tr><td> 5                    </td><td>PitchRate             </td><td>a double              </td><td>N/A                   </td><td>'beers/recipeData.csv'</td></tr>\n",
       "\t<tr><td> 6                    </td><td>MashThickness         </td><td>a double              </td><td>N/A                   </td><td>'beers/recipeData.csv'</td></tr>\n",
       "\t<tr><td> 6                    </td><td>PrimaryTemp           </td><td>a double              </td><td>N/A                   </td><td>'beers/recipeData.csv'</td></tr>\n",
       "\t<tr><td> 7                    </td><td>BoilGravity           </td><td>a double              </td><td>N/A                   </td><td>'beers/recipeData.csv'</td></tr>\n",
       "\t<tr><td> 7                    </td><td>MashThickness         </td><td>a double              </td><td>N/A                   </td><td>'beers/recipeData.csv'</td></tr>\n",
       "\t<tr><td> 7                    </td><td>PitchRate             </td><td>a double              </td><td>N/A                   </td><td>'beers/recipeData.csv'</td></tr>\n",
       "\t<tr><td> 7                    </td><td>PrimaryTemp           </td><td>a double              </td><td>N/A                   </td><td>'beers/recipeData.csv'</td></tr>\n",
       "\t<tr><td> 8                    </td><td>PitchRate             </td><td>a double              </td><td>N/A                   </td><td>'beers/recipeData.csv'</td></tr>\n",
       "\t<tr><td> 8                    </td><td>PrimaryTemp           </td><td>a double              </td><td>N/A                   </td><td>'beers/recipeData.csv'</td></tr>\n",
       "\t<tr><td> 9                    </td><td>MashThickness         </td><td>a double              </td><td>N/A                   </td><td>'beers/recipeData.csv'</td></tr>\n",
       "\t<tr><td> 9                    </td><td>PitchRate             </td><td>a double              </td><td>N/A                   </td><td>'beers/recipeData.csv'</td></tr>\n",
       "\t<tr><td> 9                    </td><td>PrimaryTemp           </td><td>a double              </td><td>N/A                   </td><td>'beers/recipeData.csv'</td></tr>\n",
       "\t<tr><td>10                    </td><td>MashThickness         </td><td>a double              </td><td>N/A                   </td><td>'beers/recipeData.csv'</td></tr>\n",
       "\t<tr><td>10                    </td><td>PitchRate             </td><td>a double              </td><td>N/A                   </td><td>'beers/recipeData.csv'</td></tr>\n",
       "\t<tr><td>11                    </td><td>MashThickness         </td><td>a double              </td><td>N/A                   </td><td>'beers/recipeData.csv'</td></tr>\n",
       "\t<tr><td>12                    </td><td>BoilGravity           </td><td>a double              </td><td>N/A                   </td><td>'beers/recipeData.csv'</td></tr>\n",
       "\t<tr><td>⋮</td><td>⋮</td><td>⋮</td><td>⋮</td><td>⋮</td></tr>\n",
       "\t<tr><td>73839                 </td><td>PrimaryTemp           </td><td>a double              </td><td>N/A                   </td><td>'beers/recipeData.csv'</td></tr>\n",
       "\t<tr><td>73840                 </td><td>PitchRate             </td><td>a double              </td><td>N/A                   </td><td>'beers/recipeData.csv'</td></tr>\n",
       "\t<tr><td>73843                 </td><td>MashThickness         </td><td>a double              </td><td>N/A                   </td><td>'beers/recipeData.csv'</td></tr>\n",
       "\t<tr><td>73843                 </td><td>PitchRate             </td><td>a double              </td><td>N/A                   </td><td>'beers/recipeData.csv'</td></tr>\n",
       "\t<tr><td>73843                 </td><td>PrimaryTemp           </td><td>a double              </td><td>N/A                   </td><td>'beers/recipeData.csv'</td></tr>\n",
       "\t<tr><td>73844                 </td><td>MashThickness         </td><td>a double              </td><td>N/A                   </td><td>'beers/recipeData.csv'</td></tr>\n",
       "\t<tr><td>73845                 </td><td>PitchRate             </td><td>a double              </td><td>N/A                   </td><td>'beers/recipeData.csv'</td></tr>\n",
       "\t<tr><td>73845                 </td><td>PrimaryTemp           </td><td>a double              </td><td>N/A                   </td><td>'beers/recipeData.csv'</td></tr>\n",
       "\t<tr><td>73847                 </td><td>MashThickness         </td><td>a double              </td><td>N/A                   </td><td>'beers/recipeData.csv'</td></tr>\n",
       "\t<tr><td>73848                 </td><td>MashThickness         </td><td>a double              </td><td>N/A                   </td><td>'beers/recipeData.csv'</td></tr>\n",
       "\t<tr><td>73849                 </td><td>PitchRate             </td><td>a double              </td><td>N/A                   </td><td>'beers/recipeData.csv'</td></tr>\n",
       "\t<tr><td>73849                 </td><td>PrimaryTemp           </td><td>a double              </td><td>N/A                   </td><td>'beers/recipeData.csv'</td></tr>\n",
       "\t<tr><td>73850                 </td><td>PitchRate             </td><td>a double              </td><td>N/A                   </td><td>'beers/recipeData.csv'</td></tr>\n",
       "\t<tr><td>73851                 </td><td>MashThickness         </td><td>a double              </td><td>N/A                   </td><td>'beers/recipeData.csv'</td></tr>\n",
       "\t<tr><td>73852                 </td><td>MashThickness         </td><td>a double              </td><td>N/A                   </td><td>'beers/recipeData.csv'</td></tr>\n",
       "\t<tr><td>73853                 </td><td>PitchRate             </td><td>a double              </td><td>N/A                   </td><td>'beers/recipeData.csv'</td></tr>\n",
       "\t<tr><td>73854                 </td><td>MashThickness         </td><td>a double              </td><td>N/A                   </td><td>'beers/recipeData.csv'</td></tr>\n",
       "\t<tr><td>73854                 </td><td>PitchRate             </td><td>a double              </td><td>N/A                   </td><td>'beers/recipeData.csv'</td></tr>\n",
       "\t<tr><td>73854                 </td><td>PrimaryTemp           </td><td>a double              </td><td>N/A                   </td><td>'beers/recipeData.csv'</td></tr>\n",
       "\t<tr><td>73855                 </td><td>MashThickness         </td><td>a double              </td><td>N/A                   </td><td>'beers/recipeData.csv'</td></tr>\n",
       "\t<tr><td>73855                 </td><td>PitchRate             </td><td>a double              </td><td>N/A                   </td><td>'beers/recipeData.csv'</td></tr>\n",
       "\t<tr><td>73855                 </td><td>PrimaryTemp           </td><td>a double              </td><td>N/A                   </td><td>'beers/recipeData.csv'</td></tr>\n",
       "\t<tr><td>73856                 </td><td>MashThickness         </td><td>a double              </td><td>N/A                   </td><td>'beers/recipeData.csv'</td></tr>\n",
       "\t<tr><td>73856                 </td><td>PrimaryTemp           </td><td>a double              </td><td>N/A                   </td><td>'beers/recipeData.csv'</td></tr>\n",
       "\t<tr><td>73858                 </td><td>MashThickness         </td><td>a double              </td><td>N/A                   </td><td>'beers/recipeData.csv'</td></tr>\n",
       "\t<tr><td>73859                 </td><td>MashThickness         </td><td>a double              </td><td>N/A                   </td><td>'beers/recipeData.csv'</td></tr>\n",
       "\t<tr><td>73860                 </td><td>MashThickness         </td><td>a double              </td><td>N/A                   </td><td>'beers/recipeData.csv'</td></tr>\n",
       "\t<tr><td>73860                 </td><td>PitchRate             </td><td>a double              </td><td>N/A                   </td><td>'beers/recipeData.csv'</td></tr>\n",
       "\t<tr><td>73861                 </td><td>MashThickness         </td><td>a double              </td><td>N/A                   </td><td>'beers/recipeData.csv'</td></tr>\n",
       "\t<tr><td>73861                 </td><td>PitchRate             </td><td>a double              </td><td>N/A                   </td><td>'beers/recipeData.csv'</td></tr>\n",
       "</tbody>\n",
       "</table>\n"
      ],
      "text/latex": [
       "\\begin{tabular}{r|lllll}\n",
       " row & col & expected & actual & file\\\\\n",
       "\\hline\n",
       "\t  1                     & MashThickness          & a double               & N/A                    & 'beers/recipeData.csv'\\\\\n",
       "\t  1                     & PitchRate              & a double               & N/A                    & 'beers/recipeData.csv'\\\\\n",
       "\t  2                     & MashThickness          & a double               & N/A                    & 'beers/recipeData.csv'\\\\\n",
       "\t  2                     & PitchRate              & a double               & N/A                    & 'beers/recipeData.csv'\\\\\n",
       "\t  2                     & PrimaryTemp            & a double               & N/A                    & 'beers/recipeData.csv'\\\\\n",
       "\t  3                     & BoilGravity            & a double               & N/A                    & 'beers/recipeData.csv'\\\\\n",
       "\t  3                     & MashThickness          & a double               & N/A                    & 'beers/recipeData.csv'\\\\\n",
       "\t  3                     & PitchRate              & a double               & N/A                    & 'beers/recipeData.csv'\\\\\n",
       "\t  3                     & PrimaryTemp            & a double               & N/A                    & 'beers/recipeData.csv'\\\\\n",
       "\t  4                     & BoilGravity            & a double               & N/A                    & 'beers/recipeData.csv'\\\\\n",
       "\t  4                     & MashThickness          & a double               & N/A                    & 'beers/recipeData.csv'\\\\\n",
       "\t  4                     & PitchRate              & a double               & N/A                    & 'beers/recipeData.csv'\\\\\n",
       "\t  4                     & PrimaryTemp            & a double               & N/A                    & 'beers/recipeData.csv'\\\\\n",
       "\t  5                     & MashThickness          & a double               & N/A                    & 'beers/recipeData.csv'\\\\\n",
       "\t  5                     & PitchRate              & a double               & N/A                    & 'beers/recipeData.csv'\\\\\n",
       "\t  6                     & MashThickness          & a double               & N/A                    & 'beers/recipeData.csv'\\\\\n",
       "\t  6                     & PrimaryTemp            & a double               & N/A                    & 'beers/recipeData.csv'\\\\\n",
       "\t  7                     & BoilGravity            & a double               & N/A                    & 'beers/recipeData.csv'\\\\\n",
       "\t  7                     & MashThickness          & a double               & N/A                    & 'beers/recipeData.csv'\\\\\n",
       "\t  7                     & PitchRate              & a double               & N/A                    & 'beers/recipeData.csv'\\\\\n",
       "\t  7                     & PrimaryTemp            & a double               & N/A                    & 'beers/recipeData.csv'\\\\\n",
       "\t  8                     & PitchRate              & a double               & N/A                    & 'beers/recipeData.csv'\\\\\n",
       "\t  8                     & PrimaryTemp            & a double               & N/A                    & 'beers/recipeData.csv'\\\\\n",
       "\t  9                     & MashThickness          & a double               & N/A                    & 'beers/recipeData.csv'\\\\\n",
       "\t  9                     & PitchRate              & a double               & N/A                    & 'beers/recipeData.csv'\\\\\n",
       "\t  9                     & PrimaryTemp            & a double               & N/A                    & 'beers/recipeData.csv'\\\\\n",
       "\t 10                     & MashThickness          & a double               & N/A                    & 'beers/recipeData.csv'\\\\\n",
       "\t 10                     & PitchRate              & a double               & N/A                    & 'beers/recipeData.csv'\\\\\n",
       "\t 11                     & MashThickness          & a double               & N/A                    & 'beers/recipeData.csv'\\\\\n",
       "\t 12                     & BoilGravity            & a double               & N/A                    & 'beers/recipeData.csv'\\\\\n",
       "\t ⋮ & ⋮ & ⋮ & ⋮ & ⋮\\\\\n",
       "\t 73839                  & PrimaryTemp            & a double               & N/A                    & 'beers/recipeData.csv'\\\\\n",
       "\t 73840                  & PitchRate              & a double               & N/A                    & 'beers/recipeData.csv'\\\\\n",
       "\t 73843                  & MashThickness          & a double               & N/A                    & 'beers/recipeData.csv'\\\\\n",
       "\t 73843                  & PitchRate              & a double               & N/A                    & 'beers/recipeData.csv'\\\\\n",
       "\t 73843                  & PrimaryTemp            & a double               & N/A                    & 'beers/recipeData.csv'\\\\\n",
       "\t 73844                  & MashThickness          & a double               & N/A                    & 'beers/recipeData.csv'\\\\\n",
       "\t 73845                  & PitchRate              & a double               & N/A                    & 'beers/recipeData.csv'\\\\\n",
       "\t 73845                  & PrimaryTemp            & a double               & N/A                    & 'beers/recipeData.csv'\\\\\n",
       "\t 73847                  & MashThickness          & a double               & N/A                    & 'beers/recipeData.csv'\\\\\n",
       "\t 73848                  & MashThickness          & a double               & N/A                    & 'beers/recipeData.csv'\\\\\n",
       "\t 73849                  & PitchRate              & a double               & N/A                    & 'beers/recipeData.csv'\\\\\n",
       "\t 73849                  & PrimaryTemp            & a double               & N/A                    & 'beers/recipeData.csv'\\\\\n",
       "\t 73850                  & PitchRate              & a double               & N/A                    & 'beers/recipeData.csv'\\\\\n",
       "\t 73851                  & MashThickness          & a double               & N/A                    & 'beers/recipeData.csv'\\\\\n",
       "\t 73852                  & MashThickness          & a double               & N/A                    & 'beers/recipeData.csv'\\\\\n",
       "\t 73853                  & PitchRate              & a double               & N/A                    & 'beers/recipeData.csv'\\\\\n",
       "\t 73854                  & MashThickness          & a double               & N/A                    & 'beers/recipeData.csv'\\\\\n",
       "\t 73854                  & PitchRate              & a double               & N/A                    & 'beers/recipeData.csv'\\\\\n",
       "\t 73854                  & PrimaryTemp            & a double               & N/A                    & 'beers/recipeData.csv'\\\\\n",
       "\t 73855                  & MashThickness          & a double               & N/A                    & 'beers/recipeData.csv'\\\\\n",
       "\t 73855                  & PitchRate              & a double               & N/A                    & 'beers/recipeData.csv'\\\\\n",
       "\t 73855                  & PrimaryTemp            & a double               & N/A                    & 'beers/recipeData.csv'\\\\\n",
       "\t 73856                  & MashThickness          & a double               & N/A                    & 'beers/recipeData.csv'\\\\\n",
       "\t 73856                  & PrimaryTemp            & a double               & N/A                    & 'beers/recipeData.csv'\\\\\n",
       "\t 73858                  & MashThickness          & a double               & N/A                    & 'beers/recipeData.csv'\\\\\n",
       "\t 73859                  & MashThickness          & a double               & N/A                    & 'beers/recipeData.csv'\\\\\n",
       "\t 73860                  & MashThickness          & a double               & N/A                    & 'beers/recipeData.csv'\\\\\n",
       "\t 73860                  & PitchRate              & a double               & N/A                    & 'beers/recipeData.csv'\\\\\n",
       "\t 73861                  & MashThickness          & a double               & N/A                    & 'beers/recipeData.csv'\\\\\n",
       "\t 73861                  & PitchRate              & a double               & N/A                    & 'beers/recipeData.csv'\\\\\n",
       "\\end{tabular}\n"
      ],
      "text/markdown": [
       "\n",
       "row | col | expected | actual | file | \n",
       "|---|---|---|---|---|---|---|---|---|---|---|---|---|---|---|---|---|---|---|---|---|---|---|---|---|---|---|---|---|---|---|---|---|---|---|---|---|---|---|---|---|---|---|---|---|---|---|---|---|---|---|---|---|---|---|---|---|---|---|---|---|\n",
       "|  1                     | MashThickness          | a double               | N/A                    | 'beers/recipeData.csv' | \n",
       "|  1                     | PitchRate              | a double               | N/A                    | 'beers/recipeData.csv' | \n",
       "|  2                     | MashThickness          | a double               | N/A                    | 'beers/recipeData.csv' | \n",
       "|  2                     | PitchRate              | a double               | N/A                    | 'beers/recipeData.csv' | \n",
       "|  2                     | PrimaryTemp            | a double               | N/A                    | 'beers/recipeData.csv' | \n",
       "|  3                     | BoilGravity            | a double               | N/A                    | 'beers/recipeData.csv' | \n",
       "|  3                     | MashThickness          | a double               | N/A                    | 'beers/recipeData.csv' | \n",
       "|  3                     | PitchRate              | a double               | N/A                    | 'beers/recipeData.csv' | \n",
       "|  3                     | PrimaryTemp            | a double               | N/A                    | 'beers/recipeData.csv' | \n",
       "|  4                     | BoilGravity            | a double               | N/A                    | 'beers/recipeData.csv' | \n",
       "|  4                     | MashThickness          | a double               | N/A                    | 'beers/recipeData.csv' | \n",
       "|  4                     | PitchRate              | a double               | N/A                    | 'beers/recipeData.csv' | \n",
       "|  4                     | PrimaryTemp            | a double               | N/A                    | 'beers/recipeData.csv' | \n",
       "|  5                     | MashThickness          | a double               | N/A                    | 'beers/recipeData.csv' | \n",
       "|  5                     | PitchRate              | a double               | N/A                    | 'beers/recipeData.csv' | \n",
       "|  6                     | MashThickness          | a double               | N/A                    | 'beers/recipeData.csv' | \n",
       "|  6                     | PrimaryTemp            | a double               | N/A                    | 'beers/recipeData.csv' | \n",
       "|  7                     | BoilGravity            | a double               | N/A                    | 'beers/recipeData.csv' | \n",
       "|  7                     | MashThickness          | a double               | N/A                    | 'beers/recipeData.csv' | \n",
       "|  7                     | PitchRate              | a double               | N/A                    | 'beers/recipeData.csv' | \n",
       "|  7                     | PrimaryTemp            | a double               | N/A                    | 'beers/recipeData.csv' | \n",
       "|  8                     | PitchRate              | a double               | N/A                    | 'beers/recipeData.csv' | \n",
       "|  8                     | PrimaryTemp            | a double               | N/A                    | 'beers/recipeData.csv' | \n",
       "|  9                     | MashThickness          | a double               | N/A                    | 'beers/recipeData.csv' | \n",
       "|  9                     | PitchRate              | a double               | N/A                    | 'beers/recipeData.csv' | \n",
       "|  9                     | PrimaryTemp            | a double               | N/A                    | 'beers/recipeData.csv' | \n",
       "| 10                     | MashThickness          | a double               | N/A                    | 'beers/recipeData.csv' | \n",
       "| 10                     | PitchRate              | a double               | N/A                    | 'beers/recipeData.csv' | \n",
       "| 11                     | MashThickness          | a double               | N/A                    | 'beers/recipeData.csv' | \n",
       "| 12                     | BoilGravity            | a double               | N/A                    | 'beers/recipeData.csv' | \n",
       "| ⋮ | ⋮ | ⋮ | ⋮ | ⋮ | \n",
       "| 73839                  | PrimaryTemp            | a double               | N/A                    | 'beers/recipeData.csv' | \n",
       "| 73840                  | PitchRate              | a double               | N/A                    | 'beers/recipeData.csv' | \n",
       "| 73843                  | MashThickness          | a double               | N/A                    | 'beers/recipeData.csv' | \n",
       "| 73843                  | PitchRate              | a double               | N/A                    | 'beers/recipeData.csv' | \n",
       "| 73843                  | PrimaryTemp            | a double               | N/A                    | 'beers/recipeData.csv' | \n",
       "| 73844                  | MashThickness          | a double               | N/A                    | 'beers/recipeData.csv' | \n",
       "| 73845                  | PitchRate              | a double               | N/A                    | 'beers/recipeData.csv' | \n",
       "| 73845                  | PrimaryTemp            | a double               | N/A                    | 'beers/recipeData.csv' | \n",
       "| 73847                  | MashThickness          | a double               | N/A                    | 'beers/recipeData.csv' | \n",
       "| 73848                  | MashThickness          | a double               | N/A                    | 'beers/recipeData.csv' | \n",
       "| 73849                  | PitchRate              | a double               | N/A                    | 'beers/recipeData.csv' | \n",
       "| 73849                  | PrimaryTemp            | a double               | N/A                    | 'beers/recipeData.csv' | \n",
       "| 73850                  | PitchRate              | a double               | N/A                    | 'beers/recipeData.csv' | \n",
       "| 73851                  | MashThickness          | a double               | N/A                    | 'beers/recipeData.csv' | \n",
       "| 73852                  | MashThickness          | a double               | N/A                    | 'beers/recipeData.csv' | \n",
       "| 73853                  | PitchRate              | a double               | N/A                    | 'beers/recipeData.csv' | \n",
       "| 73854                  | MashThickness          | a double               | N/A                    | 'beers/recipeData.csv' | \n",
       "| 73854                  | PitchRate              | a double               | N/A                    | 'beers/recipeData.csv' | \n",
       "| 73854                  | PrimaryTemp            | a double               | N/A                    | 'beers/recipeData.csv' | \n",
       "| 73855                  | MashThickness          | a double               | N/A                    | 'beers/recipeData.csv' | \n",
       "| 73855                  | PitchRate              | a double               | N/A                    | 'beers/recipeData.csv' | \n",
       "| 73855                  | PrimaryTemp            | a double               | N/A                    | 'beers/recipeData.csv' | \n",
       "| 73856                  | MashThickness          | a double               | N/A                    | 'beers/recipeData.csv' | \n",
       "| 73856                  | PrimaryTemp            | a double               | N/A                    | 'beers/recipeData.csv' | \n",
       "| 73858                  | MashThickness          | a double               | N/A                    | 'beers/recipeData.csv' | \n",
       "| 73859                  | MashThickness          | a double               | N/A                    | 'beers/recipeData.csv' | \n",
       "| 73860                  | MashThickness          | a double               | N/A                    | 'beers/recipeData.csv' | \n",
       "| 73860                  | PitchRate              | a double               | N/A                    | 'beers/recipeData.csv' | \n",
       "| 73861                  | MashThickness          | a double               | N/A                    | 'beers/recipeData.csv' | \n",
       "| 73861                  | PitchRate              | a double               | N/A                    | 'beers/recipeData.csv' | \n",
       "\n",
       "\n"
      ],
      "text/plain": [
       "      row   col           expected actual file                  \n",
       "1      1    MashThickness a double N/A    'beers/recipeData.csv'\n",
       "2      1    PitchRate     a double N/A    'beers/recipeData.csv'\n",
       "3      2    MashThickness a double N/A    'beers/recipeData.csv'\n",
       "4      2    PitchRate     a double N/A    'beers/recipeData.csv'\n",
       "5      2    PrimaryTemp   a double N/A    'beers/recipeData.csv'\n",
       "6      3    BoilGravity   a double N/A    'beers/recipeData.csv'\n",
       "7      3    MashThickness a double N/A    'beers/recipeData.csv'\n",
       "8      3    PitchRate     a double N/A    'beers/recipeData.csv'\n",
       "9      3    PrimaryTemp   a double N/A    'beers/recipeData.csv'\n",
       "10     4    BoilGravity   a double N/A    'beers/recipeData.csv'\n",
       "11     4    MashThickness a double N/A    'beers/recipeData.csv'\n",
       "12     4    PitchRate     a double N/A    'beers/recipeData.csv'\n",
       "13     4    PrimaryTemp   a double N/A    'beers/recipeData.csv'\n",
       "14     5    MashThickness a double N/A    'beers/recipeData.csv'\n",
       "15     5    PitchRate     a double N/A    'beers/recipeData.csv'\n",
       "16     6    MashThickness a double N/A    'beers/recipeData.csv'\n",
       "17     6    PrimaryTemp   a double N/A    'beers/recipeData.csv'\n",
       "18     7    BoilGravity   a double N/A    'beers/recipeData.csv'\n",
       "19     7    MashThickness a double N/A    'beers/recipeData.csv'\n",
       "20     7    PitchRate     a double N/A    'beers/recipeData.csv'\n",
       "21     7    PrimaryTemp   a double N/A    'beers/recipeData.csv'\n",
       "22     8    PitchRate     a double N/A    'beers/recipeData.csv'\n",
       "23     8    PrimaryTemp   a double N/A    'beers/recipeData.csv'\n",
       "24     9    MashThickness a double N/A    'beers/recipeData.csv'\n",
       "25     9    PitchRate     a double N/A    'beers/recipeData.csv'\n",
       "26     9    PrimaryTemp   a double N/A    'beers/recipeData.csv'\n",
       "27    10    MashThickness a double N/A    'beers/recipeData.csv'\n",
       "28    10    PitchRate     a double N/A    'beers/recipeData.csv'\n",
       "29    11    MashThickness a double N/A    'beers/recipeData.csv'\n",
       "30    12    BoilGravity   a double N/A    'beers/recipeData.csv'\n",
       "⋮     ⋮     ⋮             ⋮        ⋮      ⋮                     \n",
       "94739 73839 PrimaryTemp   a double N/A    'beers/recipeData.csv'\n",
       "94740 73840 PitchRate     a double N/A    'beers/recipeData.csv'\n",
       "94741 73843 MashThickness a double N/A    'beers/recipeData.csv'\n",
       "94742 73843 PitchRate     a double N/A    'beers/recipeData.csv'\n",
       "94743 73843 PrimaryTemp   a double N/A    'beers/recipeData.csv'\n",
       "94744 73844 MashThickness a double N/A    'beers/recipeData.csv'\n",
       "94745 73845 PitchRate     a double N/A    'beers/recipeData.csv'\n",
       "94746 73845 PrimaryTemp   a double N/A    'beers/recipeData.csv'\n",
       "94747 73847 MashThickness a double N/A    'beers/recipeData.csv'\n",
       "94748 73848 MashThickness a double N/A    'beers/recipeData.csv'\n",
       "94749 73849 PitchRate     a double N/A    'beers/recipeData.csv'\n",
       "94750 73849 PrimaryTemp   a double N/A    'beers/recipeData.csv'\n",
       "94751 73850 PitchRate     a double N/A    'beers/recipeData.csv'\n",
       "94752 73851 MashThickness a double N/A    'beers/recipeData.csv'\n",
       "94753 73852 MashThickness a double N/A    'beers/recipeData.csv'\n",
       "94754 73853 PitchRate     a double N/A    'beers/recipeData.csv'\n",
       "94755 73854 MashThickness a double N/A    'beers/recipeData.csv'\n",
       "94756 73854 PitchRate     a double N/A    'beers/recipeData.csv'\n",
       "94757 73854 PrimaryTemp   a double N/A    'beers/recipeData.csv'\n",
       "94758 73855 MashThickness a double N/A    'beers/recipeData.csv'\n",
       "94759 73855 PitchRate     a double N/A    'beers/recipeData.csv'\n",
       "94760 73855 PrimaryTemp   a double N/A    'beers/recipeData.csv'\n",
       "94761 73856 MashThickness a double N/A    'beers/recipeData.csv'\n",
       "94762 73856 PrimaryTemp   a double N/A    'beers/recipeData.csv'\n",
       "94763 73858 MashThickness a double N/A    'beers/recipeData.csv'\n",
       "94764 73859 MashThickness a double N/A    'beers/recipeData.csv'\n",
       "94765 73860 MashThickness a double N/A    'beers/recipeData.csv'\n",
       "94766 73860 PitchRate     a double N/A    'beers/recipeData.csv'\n",
       "94767 73861 MashThickness a double N/A    'beers/recipeData.csv'\n",
       "94768 73861 PitchRate     a double N/A    'beers/recipeData.csv'"
      ]
     },
     "metadata": {},
     "output_type": "display_data"
    }
   ],
   "source": [
    "problems(beer_recipes)"
   ]
  },
  {
   "cell_type": "markdown",
   "metadata": {},
   "source": [
    "Most of the problems seem to be related to _N/A_ not being a recognized name for `NA`. Let's add that to the initial read call with `na`-argument. "
   ]
  },
  {
   "cell_type": "code",
   "execution_count": 80,
   "metadata": {},
   "outputs": [
    {
     "name": "stderr",
     "output_type": "stream",
     "text": [
      "Parsed with column specification:\n",
      "cols(\n",
      "  .default = col_double(),\n",
      "  BeerID = col_integer(),\n",
      "  Name = col_character(),\n",
      "  URL = col_character(),\n",
      "  Style = col_character(),\n",
      "  StyleID = col_integer(),\n",
      "  BoilTime = col_integer(),\n",
      "  SugarScale = col_character(),\n",
      "  BrewMethod = col_character(),\n",
      "  PrimingMethod = col_character(),\n",
      "  PrimingAmount = col_character()\n",
      ")\n",
      "See spec(...) for full column specifications.\n"
     ]
    },
    {
     "data": {
      "text/plain": [
       "cols(\n",
       "  BeerID = col_integer(),\n",
       "  Name = col_character(),\n",
       "  URL = col_character(),\n",
       "  Style = col_character(),\n",
       "  StyleID = col_integer(),\n",
       "  `Size(L)` = col_double(),\n",
       "  OG = col_double(),\n",
       "  FG = col_double(),\n",
       "  ABV = col_double(),\n",
       "  IBU = col_double(),\n",
       "  Color = col_double(),\n",
       "  BoilSize = col_double(),\n",
       "  BoilTime = col_integer(),\n",
       "  BoilGravity = col_double(),\n",
       "  Efficiency = col_double(),\n",
       "  MashThickness = col_double(),\n",
       "  SugarScale = col_character(),\n",
       "  BrewMethod = col_character(),\n",
       "  PitchRate = col_double(),\n",
       "  PrimaryTemp = col_double(),\n",
       "  PrimingMethod = col_character(),\n",
       "  PrimingAmount = col_character()\n",
       ")"
      ]
     },
     "metadata": {},
     "output_type": "display_data"
    }
   ],
   "source": [
    "beer_recipes <- read_csv(\"beers/recipeData.csv\",na=c(\"\",\"NA\",\"N/A\"))\n",
    "\n",
    "spec(beer_recipes)"
   ]
  },
  {
   "cell_type": "markdown",
   "metadata": {},
   "source": [
    "Now most of the columns seem correct. Last column seems to include units (_oz_). Using mutate is probably easiest way of getting rid of them.\n",
    "\n",
    "Let' use `gsub` to remove it with regular expressions [[gsub]](http://stat.ethz.ch/R-manual/R-devel/library/base/html/grep.html).\n",
    "\n",
    "After that we can use `str` to check that our dataset looks fine."
   ]
  },
  {
   "cell_type": "code",
   "execution_count": 89,
   "metadata": {},
   "outputs": [
    {
     "name": "stdout",
     "output_type": "stream",
     "text": [
      "Classes ‘tbl_df’, ‘tbl’ and 'data.frame':\t73861 obs. of  22 variables:\n",
      " $ BeerID       : int  1 2 3 4 5 6 7 8 9 10 ...\n",
      " $ Name         : chr  \"Vanilla Cream Ale\" \"Southern Tier Pumking clone\" \"Zombie Dust Clone - EXTRACT\" \"Zombie Dust Clone - ALL GRAIN\" ...\n",
      " $ URL          : chr  \"/homebrew/recipe/view/1633/vanilla-cream-ale\" \"/homebrew/recipe/view/16367/southern-tier-pumking-clone\" \"/homebrew/recipe/view/5920/zombie-dust-clone-extract\" \"/homebrew/recipe/view/5916/zombie-dust-clone-all-grain\" ...\n",
      " $ Style        : chr  \"Cream Ale\" \"Holiday/Winter Special Spiced Beer\" \"American IPA\" \"American IPA\" ...\n",
      " $ StyleID      : int  45 85 7 7 20 10 86 45 129 86 ...\n",
      " $ Size(L)      : num  21.8 20.8 18.9 22.7 50 ...\n",
      " $ OG           : num  1.05 1.08 1.06 1.06 1.06 ...\n",
      " $ FG           : num  1.01 1.02 1.02 1.02 1.01 ...\n",
      " $ ABV          : num  5.48 8.16 5.91 5.8 6.48 5.58 7.09 5.36 5.77 8.22 ...\n",
      " $ IBU          : num  17.6 60.6 59.2 54.5 17.8 ...\n",
      " $ Color        : num  4.83 15.64 8.98 8.5 4.57 ...\n",
      " $ BoilSize     : num  28.4 24.6 22.7 26.5 60 ...\n",
      " $ BoilTime     : int  75 60 60 60 90 70 90 75 75 60 ...\n",
      " $ BoilGravity  : num  1.04 1.07 NA NA 1.05 ...\n",
      " $ Efficiency   : num  70 70 70 70 72 79 75 70 73 70 ...\n",
      " $ MashThickness: num  NA NA NA NA NA NA NA 1.4 NA NA ...\n",
      " $ SugarScale   : chr  \"Specific Gravity\" \"Specific Gravity\" \"Specific Gravity\" \"Specific Gravity\" ...\n",
      " $ BrewMethod   : chr  \"All Grain\" \"All Grain\" \"extract\" \"All Grain\" ...\n",
      " $ PitchRate    : num  NA NA NA NA NA 1 NA NA NA NA ...\n",
      " $ PrimaryTemp  : num  17.8 NA NA NA 19 ...\n",
      " $ PrimingMethod: chr  \"corn sugar\" NA NA NA ...\n",
      " $ PrimingAmount: num  4.5 NA NA NA NA NA NA 4.2 4 NA ...\n"
     ]
    }
   ],
   "source": [
    "beer_recipes <- beer_recipes %>%\n",
    "    mutate(PrimingAmount=as.double(gsub(' oz$','',PrimingAmount)))\n",
    "\n",
    "str(beer_recipes)"
   ]
  },
  {
   "cell_type": "markdown",
   "metadata": {},
   "source": [
    "Let's say that we want to write the resulting `tibble` in a format that is easily readable in Excel.\n",
    "\n",
    "For this we'd want to use `write_excel_csv` (there are similar functions for normal csv, tsv etc.) [[write_excel_csv]](http://readr.tidyverse.org/reference/write_delim.html).  "
   ]
  },
  {
   "cell_type": "code",
   "execution_count": 94,
   "metadata": {},
   "outputs": [],
   "source": [
    "write_excel_csv(beer_recipes, 'beer-recipes-excel-format.csv')"
   ]
  },
  {
   "cell_type": "markdown",
   "metadata": {},
   "source": [
    "# Feather\n",
    "\n",
    "Let's say you have a big dataset you have pre-processed with R, but want to analyze with Python. The new feather-format that uses Apache Arrow's data specification is created by the creators of Tidy-R and Pandas and it should be interoprable with both of them [[feather's page in Github]](https://github.com/wesm/feather).\n",
    "\n",
    "What matters the most is that it is fast and compact (because it is a binary data format).\n",
    "\n",
    "Using it is simple, just load `feather`-library an write data with `write_feather` [[write_feather]](https://cran.r-project.org/web/packages/feather/feather.pdf).\n",
    "\n",
    "Loading data is done with `read_feather`.\n",
    "\n",
    "Do note that more complex structures like nested tibbles do not necessarily fit into a feather."
   ]
  },
  {
   "cell_type": "code",
   "execution_count": 98,
   "metadata": {},
   "outputs": [],
   "source": [
    "library(feather)\n",
    "\n",
    "write_feather(beer_recipes,'beer_recipes.feather')\n",
    "\n",
    "beer_recipes2 <- read_feather('beer_recipes.feather')"
   ]
  },
  {
   "cell_type": "markdown",
   "metadata": {},
   "source": [
    "## Database access\n",
    "\n",
    "There exists a package `DBI` that defines a common interface that can be used to access various different databases.\n",
    "\n",
    "We won't be going through them but if you're going to be working with e.g. big data owned by a company, this package might interest you."
   ]
  },
  {
   "cell_type": "markdown",
   "metadata": {},
   "source": [
    "# Exercise time:\n",
    "\n",
    "1. Modify column specifications for FIFA World Cup match data [[1]](https://www.kaggle.com/abecklas/fifa-world-cup). Use `col_datetime` in `col_types` to get a good specification for column _DateTime_ [[col_datetime]](http://readr.tidyverse.org/reference/parse_datetime.html). Use `col_factor` to make columns _Round_, _Stadium_, _City_, _HomeTeam_ and _AwayTeam_ into factors.\n",
    "2. Store the resulting tibble as a feather."
   ]
  },
  {
   "cell_type": "code",
   "execution_count": 129,
   "metadata": {},
   "outputs": [
    {
     "name": "stderr",
     "output_type": "stream",
     "text": [
      "Parsed with column specification:\n",
      "cols(\n",
      "  Year = col_integer(),\n",
      "  DateTime = col_character(),\n",
      "  Round = col_character(),\n",
      "  Stadium = col_character(),\n",
      "  City = col_character(),\n",
      "  HomeTeam = col_character(),\n",
      "  HomeGoals = col_integer(),\n",
      "  AwayGoals = col_integer(),\n",
      "  AwayTeam = col_character(),\n",
      "  Observation = col_character()\n",
      ")\n"
     ]
    }
   ],
   "source": [
    "fifa_matches <- read_csv(\"fifa/WorldCupMatches.csv\")"
   ]
  },
  {
   "cell_type": "code",
   "execution_count": null,
   "metadata": {},
   "outputs": [],
   "source": []
  }
 ],
 "metadata": {
  "kernelspec": {
   "display_name": "R",
   "language": "R",
   "name": "ir"
  },
  "language_info": {
   "codemirror_mode": "r",
   "file_extension": ".r",
   "mimetype": "text/x-r-source",
   "name": "R",
   "pygments_lexer": "r",
   "version": "3.2.3"
  }
 },
 "nbformat": 4,
 "nbformat_minor": 2
}

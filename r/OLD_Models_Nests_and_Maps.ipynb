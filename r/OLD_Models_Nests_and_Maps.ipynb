{
 "cells": [
  {
   "cell_type": "markdown",
   "metadata": {},
   "source": [
    "# Models and Maps\n",
    "\n",
    "## Models\n",
    "\n",
    "Let's again consider the car dataset from second notebook.\n",
    "\n",
    "In that notebook we plotted *qsec* as a function of *hp*. However we might be interested a better model. Let's load the data."
   ]
  },
  {
   "cell_type": "code",
   "execution_count": 2,
   "metadata": {},
   "outputs": [
    {
     "name": "stderr",
     "output_type": "stream",
     "text": [
      "── \u001b[1mAttaching packages\u001b[22m ─────────────────────────────────────── tidyverse 1.2.1 ──\n",
      "\n",
      "\u001b[32m✔\u001b[39m \u001b[34mggplot2\u001b[39m 3.2.0     \u001b[32m✔\u001b[39m \u001b[34mpurrr  \u001b[39m 0.3.2\n",
      "\u001b[32m✔\u001b[39m \u001b[34mtibble \u001b[39m 2.1.3     \u001b[32m✔\u001b[39m \u001b[34mdplyr  \u001b[39m 0.8.3\n",
      "\u001b[32m✔\u001b[39m \u001b[34mtidyr  \u001b[39m 0.8.3     \u001b[32m✔\u001b[39m \u001b[34mstringr\u001b[39m 1.4.0\n",
      "\u001b[32m✔\u001b[39m \u001b[34mreadr  \u001b[39m 1.3.1     \u001b[32m✔\u001b[39m \u001b[34mforcats\u001b[39m 0.4.0\n",
      "\n",
      "── \u001b[1mConflicts\u001b[22m ────────────────────────────────────────── tidyverse_conflicts() ──\n",
      "\u001b[31m✖\u001b[39m \u001b[34mdplyr\u001b[39m::\u001b[32mfilter()\u001b[39m masks \u001b[34mstats\u001b[39m::filter()\n",
      "\u001b[31m✖\u001b[39m \u001b[34mdplyr\u001b[39m::\u001b[32mlag()\u001b[39m    masks \u001b[34mstats\u001b[39m::lag()\n",
      "\n"
     ]
    },
    {
     "name": "stdout",
     "output_type": "stream",
     "text": [
      "Classes ‘tbl_df’, ‘tbl’ and 'data.frame':\t32 obs. of  12 variables:\n",
      " $ model: chr  \"Mazda RX4\" \"Mazda RX4 Wag\" \"Datsun 710\" \"Hornet 4 Drive\" ...\n",
      " $ mpg  : num  21 21 22.8 21.4 18.7 18.1 14.3 24.4 22.8 19.2 ...\n",
      " $ cyl  : num  6 6 4 6 8 6 8 4 4 6 ...\n",
      " $ disp : num  160 160 108 258 360 ...\n",
      " $ hp   : num  110 110 93 110 175 105 245 62 95 123 ...\n",
      " $ drat : num  3.9 3.9 3.85 3.08 3.15 2.76 3.21 3.69 3.92 3.92 ...\n",
      " $ wt   : num  2.62 2.88 2.32 3.21 3.44 ...\n",
      " $ qsec : num  16.5 17 18.6 19.4 17 ...\n",
      " $ vs   : num  0 0 1 1 0 1 0 1 1 1 ...\n",
      " $ am   : num  1 1 1 0 0 0 0 0 0 0 ...\n",
      " $ gear : num  4 4 4 3 3 3 3 4 4 4 ...\n",
      " $ carb : num  4 4 1 1 2 1 4 2 2 4 ...\n"
     ]
    }
   ],
   "source": [
    "library(tidyverse)\n",
    "\n",
    "data(mtcars)\n",
    "\n",
    "mtcars_tbl <- as_tibble(rownames_to_column(mtcars,var='model'))\n",
    "\n",
    "str(mtcars_tbl)"
   ]
  },
  {
   "cell_type": "markdown",
   "metadata": {},
   "source": [
    "Now let's fit three different linear models with `lm` from `stats`-package [[lm]](https://www.rdocumentation.org/packages/stats/versions/3.4.3/topics/lm).\n",
    "\n",
    "First model will be `qsec ~ wt`, while second will be `qsec ~ hp`. Let's combine both of these effects into a third model `qsec ~ hp / wt`.\n",
    "\n",
    "`summary` will show a summary of the model."
   ]
  },
  {
   "cell_type": "code",
   "execution_count": 6,
   "metadata": {},
   "outputs": [
    {
     "data": {
      "text/plain": [
       "\n",
       "Call:\n",
       "lm(formula = qsec ~ wt, data = data)\n",
       "\n",
       "Residuals:\n",
       "    Min      1Q  Median      3Q     Max \n",
       "-3.3638 -1.0766  0.2051  0.8655  5.0298 \n",
       "\n",
       "Coefficients:\n",
       "            Estimate Std. Error t value Pr(>|t|)    \n",
       "(Intercept)  18.8753     1.1025  17.120   <2e-16 ***\n",
       "wt           -0.3191     0.3283  -0.972    0.339    \n",
       "---\n",
       "Signif. codes:  0 ‘***’ 0.001 ‘**’ 0.01 ‘*’ 0.05 ‘.’ 0.1 ‘ ’ 1\n",
       "\n",
       "Residual standard error: 1.789 on 30 degrees of freedom\n",
       "Multiple R-squared:  0.03053,\tAdjusted R-squared:  -0.00179 \n",
       "F-statistic: 0.9446 on 1 and 30 DF,  p-value: 0.3389\n"
      ]
     },
     "metadata": {},
     "output_type": "display_data"
    },
    {
     "data": {
      "text/plain": [
       "\n",
       "Call:\n",
       "lm(formula = qsec ~ hp, data = data)\n",
       "\n",
       "Residuals:\n",
       "    Min      1Q  Median      3Q     Max \n",
       "-2.1766 -0.6975  0.0348  0.6520  4.0972 \n",
       "\n",
       "Coefficients:\n",
       "             Estimate Std. Error t value Pr(>|t|)    \n",
       "(Intercept) 20.556354   0.542424  37.897  < 2e-16 ***\n",
       "hp          -0.018458   0.003359  -5.495 5.77e-06 ***\n",
       "---\n",
       "Signif. codes:  0 ‘***’ 0.001 ‘**’ 0.01 ‘*’ 0.05 ‘.’ 0.1 ‘ ’ 1\n",
       "\n",
       "Residual standard error: 1.282 on 30 degrees of freedom\n",
       "Multiple R-squared:  0.5016,\tAdjusted R-squared:  0.485 \n",
       "F-statistic: 30.19 on 1 and 30 DF,  p-value: 5.766e-06\n"
      ]
     },
     "metadata": {},
     "output_type": "display_data"
    },
    {
     "data": {
      "text/plain": [
       "\n",
       "Call:\n",
       "lm(formula = qsec ~ hp + wt, data = data)\n",
       "\n",
       "Residuals:\n",
       "    Min      1Q  Median      3Q     Max \n",
       "-1.8283 -0.4055 -0.1464  0.3519  3.7030 \n",
       "\n",
       "Coefficients:\n",
       "             Estimate Std. Error t value Pr(>|t|)    \n",
       "(Intercept) 18.825585   0.671867  28.020  < 2e-16 ***\n",
       "hp          -0.027310   0.003795  -7.197 6.36e-08 ***\n",
       "wt           0.941532   0.265897   3.541  0.00137 ** \n",
       "---\n",
       "Signif. codes:  0 ‘***’ 0.001 ‘**’ 0.01 ‘*’ 0.05 ‘.’ 0.1 ‘ ’ 1\n",
       "\n",
       "Residual standard error: 1.09 on 29 degrees of freedom\n",
       "Multiple R-squared:  0.652,\tAdjusted R-squared:  0.628 \n",
       "F-statistic: 27.17 on 2 and 29 DF,  p-value: 2.251e-07\n"
      ]
     },
     "metadata": {},
     "output_type": "display_data"
    }
   ],
   "source": [
    "lm1_model <- function(data) lm(qsec ~ wt,      data=data)\n",
    "lm2_model <- function(data) lm(qsec ~ hp,      data=data)\n",
    "lm3_model <- function(data) lm(qsec ~ hp + wt, data=data)\n",
    "\n",
    "summary(lm1_model(mtcars_tbl))\n",
    "summary(lm2_model(mtcars_tbl))\n",
    "summary(lm3_model(mtcars_tbl))"
   ]
  },
  {
   "cell_type": "code",
   "execution_count": null,
   "metadata": {},
   "outputs": [],
   "source": []
  },
  {
   "cell_type": "code",
   "execution_count": 5,
   "metadata": {},
   "outputs": [
    {
     "ename": "ERROR",
     "evalue": "Error in eval(lhs, parent, parent): object 'iris_tbl' not found\n",
     "output_type": "error",
     "traceback": [
      "Error in eval(lhs, parent, parent): object 'iris_tbl' not found\nTraceback:\n",
      "1. iris_tbl %>% add_predictions(iris_lm) %>% ggplot(aes(x = Petal.Length))",
      "2. eval(lhs, parent, parent)",
      "3. eval(lhs, parent, parent)"
     ]
    }
   ],
   "source": [
    "iris_tbl %>%\n",
    "    add_predictions(iris_lm) %>%\n",
    "    ggplot(aes(x=Petal.Length)) +\n",
    "    geom_point(aes(y=Petal.Width), shape=1) +\n",
    "    geom_line(aes(y=pred))"
   ]
  },
  {
   "cell_type": "code",
   "execution_count": 4,
   "metadata": {},
   "outputs": [
    {
     "ename": "ERROR",
     "evalue": "Error in is.data.frame(data): object 'iris_tbl' not found\n",
     "output_type": "error",
     "traceback": [
      "Error in is.data.frame(data): object 'iris_tbl' not found\nTraceback:\n",
      "1. lm(Petal.Width ~ Petal.Length, data = iris_tbl)",
      "2. eval(mf, parent.frame())",
      "3. eval(mf, parent.frame())",
      "4. stats::model.frame(formula = Petal.Width ~ Petal.Length, data = iris_tbl, \n .     drop.unused.levels = TRUE)",
      "5. model.frame.default(formula = Petal.Width ~ Petal.Length, data = iris_tbl, \n .     drop.unused.levels = TRUE)",
      "6. is.data.frame(data)"
     ]
    }
   ],
   "source": [
    "library(modelr)\n",
    "\n",
    "iris_lm <- lm(Petal.Width ~ Petal.Length, data=iris_tbl)\n",
    "\n",
    "iris_lm_data <- iris_tbl %>%\n",
    "    data_grid(Petal.Length) %>%\n",
    "    add_predictions(iris_lm)"
   ]
  },
  {
   "cell_type": "markdown",
   "metadata": {},
   "source": [
    "One can add arbitrary amount of terms into these models. There's plenty of other models in R libraries one might want to use.\n",
    "\n",
    "# Nesting\n",
    "\n",
    "Let's say we want to calculate the same models for each group specified by a cylinder. \n",
    "\n",
    "This means we need to do iteration over the groups and for this to work, we should split the data into chunks that will be iterated over. \n",
    "\n",
    "To do this we can use the `nest`-function ([[nest]](http://tidyr.tidyverse.org/reference/nest.html))."
   ]
  },
  {
   "cell_type": "code",
   "execution_count": 8,
   "metadata": {},
   "outputs": [
    {
     "name": "stdout",
     "output_type": "stream",
     "text": [
      "\u001b[90m# A tibble: 3 x 2\u001b[39m\n",
      "  cyl   data              \n",
      "  \u001b[3m\u001b[90m<fct>\u001b[39m\u001b[23m \u001b[3m\u001b[90m<list>\u001b[39m\u001b[23m            \n",
      "\u001b[90m1\u001b[39m 6     \u001b[90m<tibble [7 × 11]>\u001b[39m \n",
      "\u001b[90m2\u001b[39m 4     \u001b[90m<tibble [11 × 11]>\u001b[39m\n",
      "\u001b[90m3\u001b[39m 8     \u001b[90m<tibble [14 × 11]>\u001b[39m\n"
     ]
    }
   ],
   "source": [
    "mtcars_nested <- mtcars_tbl %>%\n",
    "    # Convert cyl into a factor\n",
    "    mutate_at(vars(cyl),as.factor) %>%\n",
    "    # Group by cyl\n",
    "    group_by(cyl) %>%\n",
    "    # Nest the data\n",
    "    nest()\n",
    "\n",
    "print(mtcars_nested)"
   ]
  },
  {
   "cell_type": "markdown",
   "metadata": {},
   "source": [
    "This produces a `tibble` where all data is stored in a column of a type `list` and name *data*.\n",
    "\n",
    "## Maps\n",
    "\n",
    "### Example 1: running linear models on groups\n",
    "\n",
    "Now that we have our list to iterate over, we can use `map` to do the iteration.\n",
    "\n",
    "`map` is provided by the purrr-package. There are variants of it based on the return value of the used function. \n",
    "\n",
    "In this case we receive the results for a model as strange S3-objects, so we want to use the `map`-function that creates a list from the outputs [[map]](http://purrr.tidyverse.org/reference/map.html)."
   ]
  },
  {
   "cell_type": "code",
   "execution_count": 9,
   "metadata": {},
   "outputs": [
    {
     "data": {
      "text/plain": [
       "[[1]]\n",
       "\n",
       "Call:\n",
       "lm(formula = qsec ~ hp + wt, data = data)\n",
       "\n",
       "Residuals:\n",
       "       1        2        3        4        5        6        7 \n",
       "-0.09309 -0.44104  0.76835  0.53516 -0.80659 -0.20659  0.24380 \n",
       "\n",
       "Coefficients:\n",
       "            Estimate Std. Error t value Pr(>|t|)  \n",
       "(Intercept) 10.32289    3.30597   3.123   0.0354 *\n",
       "hp          -0.02817    0.01197  -2.354   0.0782 .\n",
       "wt           3.56060    0.81460   4.371   0.0120 *\n",
       "---\n",
       "Signif. codes:  0 ‘***’ 0.001 ‘**’ 0.01 ‘*’ 0.05 ‘.’ 0.1 ‘ ’ 1\n",
       "\n",
       "Residual standard error: 0.6769 on 4 degrees of freedom\n",
       "Multiple R-squared:  0.8952,\tAdjusted R-squared:  0.8427 \n",
       "F-statistic: 17.08 on 2 and 4 DF,  p-value: 0.01099\n",
       "\n",
       "\n",
       "[[2]]\n",
       "\n",
       "Call:\n",
       "lm(formula = qsec ~ hp + wt, data = data)\n",
       "\n",
       "Residuals:\n",
       "     Min       1Q   Median       3Q      Max \n",
       "-1.94943 -0.64162  0.02955  0.48194  2.30231 \n",
       "\n",
       "Coefficients:\n",
       "            Estimate Std. Error t value Pr(>|t|)    \n",
       "(Intercept) 16.42968    2.26198   7.263 8.69e-05 ***\n",
       "hp          -0.02312    0.02060  -1.122   0.2942    \n",
       "wt           2.02054    0.75722   2.668   0.0284 *  \n",
       "---\n",
       "Signif. codes:  0 ‘***’ 0.001 ‘**’ 0.01 ‘*’ 0.05 ‘.’ 0.1 ‘ ’ 1\n",
       "\n",
       "Residual standard error: 1.346 on 8 degrees of freedom\n",
       "Multiple R-squared:  0.4877,\tAdjusted R-squared:  0.3597 \n",
       "F-statistic: 3.809 on 2 and 8 DF,  p-value: 0.06886\n",
       "\n",
       "\n",
       "[[3]]\n",
       "\n",
       "Call:\n",
       "lm(formula = qsec ~ hp + wt, data = data)\n",
       "\n",
       "Residuals:\n",
       "     Min       1Q   Median       3Q      Max \n",
       "-0.58177 -0.18829 -0.00219  0.10906  0.89328 \n",
       "\n",
       "Coefficients:\n",
       "             Estimate Std. Error t value Pr(>|t|)    \n",
       "(Intercept) 17.063754   0.859022  19.864 5.75e-10 ***\n",
       "hp          -0.017953   0.002519  -7.126 1.93e-05 ***\n",
       "wt           0.866262   0.169108   5.123 0.000332 ***\n",
       "---\n",
       "Signif. codes:  0 ‘***’ 0.001 ‘**’ 0.01 ‘*’ 0.05 ‘.’ 0.1 ‘ ’ 1\n",
       "\n",
       "Residual standard error: 0.463 on 11 degrees of freedom\n",
       "Multiple R-squared:  0.8732,\tAdjusted R-squared:  0.8502 \n",
       "F-statistic: 37.88 on 2 and 11 DF,  p-value: 1.166e-05\n",
       "\n"
      ]
     },
     "metadata": {},
     "output_type": "display_data"
    }
   ],
   "source": [
    "# Map each data to model, pipe resulting fits to summary-function\n",
    "map(mtcars_nested$data,lm3_model) %>%\n",
    "    map(summary)"
   ]
  },
  {
   "cell_type": "markdown",
   "metadata": {},
   "source": [
    "A more *tidyverse*-approach to using the `map` is to use it with `mutate` to store the fits into a new columns. This makes it easy to run multiple models and store their results."
   ]
  },
  {
   "cell_type": "code",
   "execution_count": 10,
   "metadata": {},
   "outputs": [
    {
     "name": "stdout",
     "output_type": "stream",
     "text": [
      "\u001b[90m# A tibble: 3 x 5\u001b[39m\n",
      "  cyl   data               model1 model2 model3\n",
      "  \u001b[3m\u001b[90m<fct>\u001b[39m\u001b[23m \u001b[3m\u001b[90m<list>\u001b[39m\u001b[23m             \u001b[3m\u001b[90m<list>\u001b[39m\u001b[23m \u001b[3m\u001b[90m<list>\u001b[39m\u001b[23m \u001b[3m\u001b[90m<list>\u001b[39m\u001b[23m\n",
      "\u001b[90m1\u001b[39m 6     \u001b[90m<tibble [7 × 11]>\u001b[39m  \u001b[90m<lm>\u001b[39m   \u001b[90m<lm>\u001b[39m   \u001b[90m<lm>\u001b[39m  \n",
      "\u001b[90m2\u001b[39m 4     \u001b[90m<tibble [11 × 11]>\u001b[39m \u001b[90m<lm>\u001b[39m   \u001b[90m<lm>\u001b[39m   \u001b[90m<lm>\u001b[39m  \n",
      "\u001b[90m3\u001b[39m 8     \u001b[90m<tibble [14 × 11]>\u001b[39m \u001b[90m<lm>\u001b[39m   \u001b[90m<lm>\u001b[39m   \u001b[90m<lm>\u001b[39m  \n"
     ]
    }
   ],
   "source": [
    "mtcars_nested <- mtcars_nested %>%\n",
    "    mutate(\n",
    "        model1=map(data, lm1_model),\n",
    "        model2=map(data, lm2_model),\n",
    "        model3=map(data, lm3_model)\n",
    "    )\n",
    "\n",
    "# Check structure\n",
    "print(mtcars_nested)"
   ]
  },
  {
   "cell_type": "markdown",
   "metadata": {},
   "source": [
    "Package `broom` comes with nice functions `tidy` and `glance` that can be used to obtain coefficients or tests of the models in nice tibbles [[broom vignette]](https://cran.r-project.org/web/packages/broom/vignettes/broom.html)."
   ]
  },
  {
   "cell_type": "code",
   "execution_count": 11,
   "metadata": {},
   "outputs": [
    {
     "name": "stderr",
     "output_type": "stream",
     "text": [
      "\n",
      "Attaching package: ‘broom’\n",
      "\n",
      "\n",
      "The following object is masked from ‘package:modelr’:\n",
      "\n",
      "    bootstrap\n",
      "\n",
      "\n"
     ]
    },
    {
     "data": {
      "text/html": [
       "<table>\n",
       "<caption>A tibble: 3 × 5</caption>\n",
       "<thead>\n",
       "\t<tr><th scope=col>term</th><th scope=col>estimate</th><th scope=col>std.error</th><th scope=col>statistic</th><th scope=col>p.value</th></tr>\n",
       "\t<tr><th scope=col>&lt;chr&gt;</th><th scope=col>&lt;dbl&gt;</th><th scope=col>&lt;dbl&gt;</th><th scope=col>&lt;dbl&gt;</th><th scope=col>&lt;dbl&gt;</th></tr>\n",
       "</thead>\n",
       "<tbody>\n",
       "\t<tr><td>(Intercept)</td><td>10.32288928</td><td>3.3059662</td><td> 3.122503</td><td>0.03544082</td></tr>\n",
       "\t<tr><td>hp         </td><td>-0.02816895</td><td>0.0119651</td><td>-2.354260</td><td>0.07815096</td></tr>\n",
       "\t<tr><td>wt         </td><td> 3.56060466</td><td>0.8146002</td><td> 4.370984</td><td>0.01195887</td></tr>\n",
       "</tbody>\n",
       "</table>\n"
      ],
      "text/latex": [
       "A tibble: 3 × 5\n",
       "\\begin{tabular}{r|lllll}\n",
       " term & estimate & std.error & statistic & p.value\\\\\n",
       " <chr> & <dbl> & <dbl> & <dbl> & <dbl>\\\\\n",
       "\\hline\n",
       "\t (Intercept) & 10.32288928 & 3.3059662 &  3.122503 & 0.03544082\\\\\n",
       "\t hp          & -0.02816895 & 0.0119651 & -2.354260 & 0.07815096\\\\\n",
       "\t wt          &  3.56060466 & 0.8146002 &  4.370984 & 0.01195887\\\\\n",
       "\\end{tabular}\n"
      ],
      "text/markdown": [
       "\n",
       "A tibble: 3 × 5\n",
       "\n",
       "| term &lt;chr&gt; | estimate &lt;dbl&gt; | std.error &lt;dbl&gt; | statistic &lt;dbl&gt; | p.value &lt;dbl&gt; |\n",
       "|---|---|---|---|---|\n",
       "| (Intercept) | 10.32288928 | 3.3059662 |  3.122503 | 0.03544082 |\n",
       "| hp          | -0.02816895 | 0.0119651 | -2.354260 | 0.07815096 |\n",
       "| wt          |  3.56060466 | 0.8146002 |  4.370984 | 0.01195887 |\n",
       "\n"
      ],
      "text/plain": [
       "  term        estimate    std.error statistic p.value   \n",
       "1 (Intercept) 10.32288928 3.3059662  3.122503 0.03544082\n",
       "2 hp          -0.02816895 0.0119651 -2.354260 0.07815096\n",
       "3 wt           3.56060466 0.8146002  4.370984 0.01195887"
      ]
     },
     "metadata": {},
     "output_type": "display_data"
    },
    {
     "data": {
      "text/html": [
       "<table>\n",
       "<caption>A tibble: 1 × 11</caption>\n",
       "<thead>\n",
       "\t<tr><th scope=col>r.squared</th><th scope=col>adj.r.squared</th><th scope=col>sigma</th><th scope=col>statistic</th><th scope=col>p.value</th><th scope=col>df</th><th scope=col>logLik</th><th scope=col>AIC</th><th scope=col>BIC</th><th scope=col>deviance</th><th scope=col>df.residual</th></tr>\n",
       "\t<tr><th scope=col>&lt;dbl&gt;</th><th scope=col>&lt;dbl&gt;</th><th scope=col>&lt;dbl&gt;</th><th scope=col>&lt;dbl&gt;</th><th scope=col>&lt;dbl&gt;</th><th scope=col>&lt;int&gt;</th><th scope=col>&lt;dbl&gt;</th><th scope=col>&lt;dbl&gt;</th><th scope=col>&lt;dbl&gt;</th><th scope=col>&lt;dbl&gt;</th><th scope=col>&lt;int&gt;</th></tr>\n",
       "</thead>\n",
       "<tbody>\n",
       "\t<tr><td>0.8951596</td><td>0.8427394</td><td>0.6768763</td><td>17.07662</td><td>0.01099151</td><td>3</td><td>-5.242047</td><td>18.48409</td><td>18.26773</td><td>1.832646</td><td>4</td></tr>\n",
       "</tbody>\n",
       "</table>\n"
      ],
      "text/latex": [
       "A tibble: 1 × 11\n",
       "\\begin{tabular}{r|lllllllllll}\n",
       " r.squared & adj.r.squared & sigma & statistic & p.value & df & logLik & AIC & BIC & deviance & df.residual\\\\\n",
       " <dbl> & <dbl> & <dbl> & <dbl> & <dbl> & <int> & <dbl> & <dbl> & <dbl> & <dbl> & <int>\\\\\n",
       "\\hline\n",
       "\t 0.8951596 & 0.8427394 & 0.6768763 & 17.07662 & 0.01099151 & 3 & -5.242047 & 18.48409 & 18.26773 & 1.832646 & 4\\\\\n",
       "\\end{tabular}\n"
      ],
      "text/markdown": [
       "\n",
       "A tibble: 1 × 11\n",
       "\n",
       "| r.squared &lt;dbl&gt; | adj.r.squared &lt;dbl&gt; | sigma &lt;dbl&gt; | statistic &lt;dbl&gt; | p.value &lt;dbl&gt; | df &lt;int&gt; | logLik &lt;dbl&gt; | AIC &lt;dbl&gt; | BIC &lt;dbl&gt; | deviance &lt;dbl&gt; | df.residual &lt;int&gt; |\n",
       "|---|---|---|---|---|---|---|---|---|---|---|\n",
       "| 0.8951596 | 0.8427394 | 0.6768763 | 17.07662 | 0.01099151 | 3 | -5.242047 | 18.48409 | 18.26773 | 1.832646 | 4 |\n",
       "\n"
      ],
      "text/plain": [
       "  r.squared adj.r.squared sigma     statistic p.value    df logLik    AIC     \n",
       "1 0.8951596 0.8427394     0.6768763 17.07662  0.01099151 3  -5.242047 18.48409\n",
       "  BIC      deviance df.residual\n",
       "1 18.26773 1.832646 4          "
      ]
     },
     "metadata": {},
     "output_type": "display_data"
    }
   ],
   "source": [
    "library(broom)\n",
    "\n",
    "tidy(mtcars_nested$model3[[1]])\n",
    "\n",
    "glance(mtcars_nested$model3[[1]])"
   ]
  },
  {
   "cell_type": "markdown",
   "metadata": {},
   "source": [
    "Let's use `tidy` to get the model parameters."
   ]
  },
  {
   "cell_type": "code",
   "execution_count": 12,
   "metadata": {},
   "outputs": [
    {
     "name": "stdout",
     "output_type": "stream",
     "text": [
      "\u001b[90m# A tibble: 3 x 8\u001b[39m\n",
      "  cyl   data      model1 model2 model3 model1_coefs  model2_coefs  model3_coefs \n",
      "  \u001b[3m\u001b[90m<fct>\u001b[39m\u001b[23m \u001b[3m\u001b[90m<list>\u001b[39m\u001b[23m    \u001b[3m\u001b[90m<list>\u001b[39m\u001b[23m \u001b[3m\u001b[90m<list>\u001b[39m\u001b[23m \u001b[3m\u001b[90m<list>\u001b[39m\u001b[23m \u001b[3m\u001b[90m<list>\u001b[39m\u001b[23m        \u001b[3m\u001b[90m<list>\u001b[39m\u001b[23m        \u001b[3m\u001b[90m<list>\u001b[39m\u001b[23m       \n",
      "\u001b[90m1\u001b[39m 6     \u001b[90m<tibble \u001b[0m… \u001b[90m<lm>\u001b[39m   \u001b[90m<lm>\u001b[39m   \u001b[90m<lm>\u001b[39m   \u001b[90m<tibble [3 ×\u001b[0m… \u001b[90m<tibble [3 ×\u001b[0m… \u001b[90m<tibble [3 ×\u001b[0m…\n",
      "\u001b[90m2\u001b[39m 4     \u001b[90m<tibble \u001b[0m… \u001b[90m<lm>\u001b[39m   \u001b[90m<lm>\u001b[39m   \u001b[90m<lm>\u001b[39m   \u001b[90m<tibble [3 ×\u001b[0m… \u001b[90m<tibble [3 ×\u001b[0m… \u001b[90m<tibble [3 ×\u001b[0m…\n",
      "\u001b[90m3\u001b[39m 8     \u001b[90m<tibble \u001b[0m… \u001b[90m<lm>\u001b[39m   \u001b[90m<lm>\u001b[39m   \u001b[90m<lm>\u001b[39m   \u001b[90m<tibble [3 ×\u001b[0m… \u001b[90m<tibble [3 ×\u001b[0m… \u001b[90m<tibble [3 ×\u001b[0m…\n"
     ]
    }
   ],
   "source": [
    "mtcars_nested <- mtcars_nested %>%\n",
    "    mutate(\n",
    "        model1_coefs=map(model3,tidy),\n",
    "        model2_coefs=map(model3,tidy),\n",
    "        model3_coefs=map(model3,tidy)\n",
    "    )\n",
    "\n",
    "print(mtcars_nested)"
   ]
  },
  {
   "cell_type": "markdown",
   "metadata": {},
   "source": [
    "Let's limit ourselves to model no. 3, as that is the most interesting  and use `unnest` to unnest the coefficients."
   ]
  },
  {
   "cell_type": "code",
   "execution_count": 13,
   "metadata": {},
   "outputs": [
    {
     "name": "stdout",
     "output_type": "stream",
     "text": [
      "\u001b[90m# A tibble: 9 x 6\u001b[39m\n",
      "  cyl   term        estimate std.error statistic  p.value\n",
      "  \u001b[3m\u001b[90m<fct>\u001b[39m\u001b[23m \u001b[3m\u001b[90m<chr>\u001b[39m\u001b[23m          \u001b[3m\u001b[90m<dbl>\u001b[39m\u001b[23m     \u001b[3m\u001b[90m<dbl>\u001b[39m\u001b[23m     \u001b[3m\u001b[90m<dbl>\u001b[39m\u001b[23m    \u001b[3m\u001b[90m<dbl>\u001b[39m\u001b[23m\n",
      "\u001b[90m1\u001b[39m 6     (Intercept)  10.3      3.31         3.12 3.54\u001b[90me\u001b[39m\u001b[31m- 2\u001b[39m\n",
      "\u001b[90m2\u001b[39m 6     hp           -\u001b[31m0\u001b[39m\u001b[31m.\u001b[39m\u001b[31m0\u001b[39m\u001b[31m28\u001b[4m2\u001b[24m\u001b[39m   0.012\u001b[4m0\u001b[24m      -\u001b[31m2\u001b[39m\u001b[31m.\u001b[39m\u001b[31m35\u001b[39m 7.82\u001b[90me\u001b[39m\u001b[31m- 2\u001b[39m\n",
      "\u001b[90m3\u001b[39m 6     wt            3.56     0.815        4.37 1.20\u001b[90me\u001b[39m\u001b[31m- 2\u001b[39m\n",
      "\u001b[90m4\u001b[39m 4     (Intercept)  16.4      2.26         7.26 8.69\u001b[90me\u001b[39m\u001b[31m- 5\u001b[39m\n",
      "\u001b[90m5\u001b[39m 4     hp           -\u001b[31m0\u001b[39m\u001b[31m.\u001b[39m\u001b[31m0\u001b[39m\u001b[31m23\u001b[4m1\u001b[24m\u001b[39m   0.020\u001b[4m6\u001b[24m      -\u001b[31m1\u001b[39m\u001b[31m.\u001b[39m\u001b[31m12\u001b[39m 2.94\u001b[90me\u001b[39m\u001b[31m- 1\u001b[39m\n",
      "\u001b[90m6\u001b[39m 4     wt            2.02     0.757        2.67 2.84\u001b[90me\u001b[39m\u001b[31m- 2\u001b[39m\n",
      "\u001b[90m7\u001b[39m 8     (Intercept)  17.1      0.859       19.9  5.75\u001b[90me\u001b[39m\u001b[31m-10\u001b[39m\n",
      "\u001b[90m8\u001b[39m 8     hp           -\u001b[31m0\u001b[39m\u001b[31m.\u001b[39m\u001b[31m0\u001b[39m\u001b[31m18\u001b[4m0\u001b[24m\u001b[39m   0.002\u001b[4m5\u001b[24m\u001b[4m2\u001b[24m     -\u001b[31m7\u001b[39m\u001b[31m.\u001b[39m\u001b[31m13\u001b[39m 1.93\u001b[90me\u001b[39m\u001b[31m- 5\u001b[39m\n",
      "\u001b[90m9\u001b[39m 8     wt            0.866    0.169        5.12 3.32\u001b[90me\u001b[39m\u001b[31m- 4\u001b[39m\n"
     ]
    }
   ],
   "source": [
    "mtcars_model3 <- mtcars_nested %>%\n",
    "    select(cyl,model3_coefs) %>%\n",
    "    unnest(model3_coefs)\n",
    "\n",
    "print(mtcars_model3)"
   ]
  },
  {
   "cell_type": "markdown",
   "metadata": {},
   "source": [
    "### Example 2: Getting summaries of subgroups\n",
    "\n",
    "Lets say we want to store statistics calculated from `iris`-dataset with our data. Let's nest the data."
   ]
  },
  {
   "cell_type": "code",
   "execution_count": 14,
   "metadata": {},
   "outputs": [
    {
     "name": "stdout",
     "output_type": "stream",
     "text": [
      "\u001b[90m# A tibble: 3 x 2\u001b[39m\n",
      "  Species    data             \n",
      "  \u001b[3m\u001b[90m<fct>\u001b[39m\u001b[23m      \u001b[3m\u001b[90m<list>\u001b[39m\u001b[23m           \n",
      "\u001b[90m1\u001b[39m setosa     \u001b[90m<tibble [50 × 4]>\u001b[39m\n",
      "\u001b[90m2\u001b[39m versicolor \u001b[90m<tibble [50 × 4]>\u001b[39m\n",
      "\u001b[90m3\u001b[39m virginica  \u001b[90m<tibble [50 × 4]>\u001b[39m\n"
     ]
    }
   ],
   "source": [
    "iris_nested <- as_tibble(iris) %>%\n",
    "    group_by(Species) %>%\n",
    "    nest()\n",
    "\n",
    "print(iris_nested)"
   ]
  },
  {
   "cell_type": "markdown",
   "metadata": {},
   "source": [
    "Now the data belonging to each species is stored in the data-variable. Now we cannot, however just use summarize the data as the summary would not be done against the `tibble` stored in the data. Instead we need to define a function that acts on the data itself and use a map that acts on the list on which the data-`tibble`s are stored."
   ]
  },
  {
   "cell_type": "code",
   "execution_count": 15,
   "metadata": {},
   "outputs": [
    {
     "data": {
      "text/html": [
       "<table>\n",
       "<caption>A tibble: 3 × 6</caption>\n",
       "<thead>\n",
       "\t<tr><th scope=col>Species</th><th scope=col>Petal.Length_mean</th><th scope=col>Petal.Width_mean</th><th scope=col>Petal.Length_var</th><th scope=col>Petal.Width_var</th><th scope=col>Petal_cor</th></tr>\n",
       "\t<tr><th scope=col>&lt;fct&gt;</th><th scope=col>&lt;dbl&gt;</th><th scope=col>&lt;dbl&gt;</th><th scope=col>&lt;dbl&gt;</th><th scope=col>&lt;dbl&gt;</th><th scope=col>&lt;dbl&gt;</th></tr>\n",
       "</thead>\n",
       "<tbody>\n",
       "\t<tr><td>setosa    </td><td>1.462</td><td>0.246</td><td>0.03015918</td><td>0.01110612</td><td>0.3316300</td></tr>\n",
       "\t<tr><td>versicolor</td><td>4.260</td><td>1.326</td><td>0.22081633</td><td>0.03910612</td><td>0.7866681</td></tr>\n",
       "\t<tr><td>virginica </td><td>5.552</td><td>2.026</td><td>0.30458776</td><td>0.07543265</td><td>0.3221082</td></tr>\n",
       "</tbody>\n",
       "</table>\n"
      ],
      "text/latex": [
       "A tibble: 3 × 6\n",
       "\\begin{tabular}{r|llllll}\n",
       " Species & Petal.Length\\_mean & Petal.Width\\_mean & Petal.Length\\_var & Petal.Width\\_var & Petal\\_cor\\\\\n",
       " <fct> & <dbl> & <dbl> & <dbl> & <dbl> & <dbl>\\\\\n",
       "\\hline\n",
       "\t setosa     & 1.462 & 0.246 & 0.03015918 & 0.01110612 & 0.3316300\\\\\n",
       "\t versicolor & 4.260 & 1.326 & 0.22081633 & 0.03910612 & 0.7866681\\\\\n",
       "\t virginica  & 5.552 & 2.026 & 0.30458776 & 0.07543265 & 0.3221082\\\\\n",
       "\\end{tabular}\n"
      ],
      "text/markdown": [
       "\n",
       "A tibble: 3 × 6\n",
       "\n",
       "| Species &lt;fct&gt; | Petal.Length_mean &lt;dbl&gt; | Petal.Width_mean &lt;dbl&gt; | Petal.Length_var &lt;dbl&gt; | Petal.Width_var &lt;dbl&gt; | Petal_cor &lt;dbl&gt; |\n",
       "|---|---|---|---|---|---|\n",
       "| setosa     | 1.462 | 0.246 | 0.03015918 | 0.01110612 | 0.3316300 |\n",
       "| versicolor | 4.260 | 1.326 | 0.22081633 | 0.03910612 | 0.7866681 |\n",
       "| virginica  | 5.552 | 2.026 | 0.30458776 | 0.07543265 | 0.3221082 |\n",
       "\n"
      ],
      "text/plain": [
       "  Species    Petal.Length_mean Petal.Width_mean Petal.Length_var\n",
       "1 setosa     1.462             0.246            0.03015918      \n",
       "2 versicolor 4.260             1.326            0.22081633      \n",
       "3 virginica  5.552             2.026            0.30458776      \n",
       "  Petal.Width_var Petal_cor\n",
       "1 0.01110612      0.3316300\n",
       "2 0.03910612      0.7866681\n",
       "3 0.07543265      0.3221082"
      ]
     },
     "metadata": {},
     "output_type": "display_data"
    }
   ],
   "source": [
    "iris_statistics <- function(tbl) {\n",
    "    return(as_tibble(tbl %>%\n",
    "        summarize(\n",
    "            Petal.Length_mean=mean(Petal.Length),\n",
    "            Petal.Width_mean=mean(Petal.Width),\n",
    "            Petal.Length_var=var(Petal.Length),\n",
    "            Petal.Width_var=var(Petal.Width),\n",
    "            Petal_cor=cor(Petal.Length,Petal.Width)))\n",
    "    )\n",
    "}\n",
    "\n",
    "as_tibble(iris) %>%\n",
    "    group_by(Species) %>%\n",
    "    iris_statistics()"
   ]
  },
  {
   "cell_type": "markdown",
   "metadata": {},
   "source": [
    "On nested data the function is used with:"
   ]
  },
  {
   "cell_type": "code",
   "execution_count": 16,
   "metadata": {},
   "outputs": [
    {
     "name": "stdout",
     "output_type": "stream",
     "text": [
      "\u001b[90m# A tibble: 3 x 3\u001b[39m\n",
      "  Species    data              statistics      \n",
      "  \u001b[3m\u001b[90m<fct>\u001b[39m\u001b[23m      \u001b[3m\u001b[90m<list>\u001b[39m\u001b[23m            \u001b[3m\u001b[90m<list>\u001b[39m\u001b[23m          \n",
      "\u001b[90m1\u001b[39m setosa     \u001b[90m<tibble [50 × 4]>\u001b[39m \u001b[90m<tibble [1 × 5]>\u001b[39m\n",
      "\u001b[90m2\u001b[39m versicolor \u001b[90m<tibble [50 × 4]>\u001b[39m \u001b[90m<tibble [1 × 5]>\u001b[39m\n",
      "\u001b[90m3\u001b[39m virginica  \u001b[90m<tibble [50 × 4]>\u001b[39m \u001b[90m<tibble [1 × 5]>\u001b[39m\n"
     ]
    }
   ],
   "source": [
    "iris_nested <- iris_nested %>%\n",
    "    mutate(statistics=map(data,iris_statistics))\n",
    "\n",
    "print(iris_nested)"
   ]
  },
  {
   "cell_type": "markdown",
   "metadata": {},
   "source": [
    "Now our statistics are stored in the variable `statistics`. They are not that easy to access, though. Let's use `unnest` to reverse the nesting in the `statistics`-variable."
   ]
  },
  {
   "cell_type": "code",
   "execution_count": 17,
   "metadata": {},
   "outputs": [
    {
     "name": "stdout",
     "output_type": "stream",
     "text": [
      "\u001b[90m# A tibble: 3 x 7\u001b[39m\n",
      "  Species data  Petal.Length_me… Petal.Width_mean Petal.Length_var\n",
      "  \u001b[3m\u001b[90m<fct>\u001b[39m\u001b[23m   \u001b[3m\u001b[90m<lis>\u001b[39m\u001b[23m            \u001b[3m\u001b[90m<dbl>\u001b[39m\u001b[23m            \u001b[3m\u001b[90m<dbl>\u001b[39m\u001b[23m            \u001b[3m\u001b[90m<dbl>\u001b[39m\u001b[23m\n",
      "\u001b[90m1\u001b[39m setosa  \u001b[90m<tib\u001b[0m…             1.46            0.246           0.030\u001b[4m2\u001b[24m\n",
      "\u001b[90m2\u001b[39m versic… \u001b[90m<tib\u001b[0m…             4.26            1.33            0.221 \n",
      "\u001b[90m3\u001b[39m virgin… \u001b[90m<tib\u001b[0m…             5.55            2.03            0.305 \n",
      "\u001b[90m# … with 2 more variables: Petal.Width_var \u001b[3m\u001b[90m<dbl>\u001b[90m\u001b[23m, Petal_cor \u001b[3m\u001b[90m<dbl>\u001b[90m\u001b[23m\u001b[39m\n"
     ]
    }
   ],
   "source": [
    "iris_nested <- iris_nested %>%\n",
    "    unnest(statistics)\n",
    "\n",
    "print(iris_nested)"
   ]
  },
  {
   "cell_type": "markdown",
   "metadata": {},
   "source": [
    "# Exercise time:\n",
    "\n",
    "Do this exercise to `storms`-dataset initialized below that is a subset of NOAA Atlantic hurricane database [[storms]](http://dplyr.tidyverse.org/reference/storms.html).\n",
    "\n",
    "1. Group the dataset based on `name`. Nest the data.\n",
    "2. Use map to calculate the minimum pressure, maximum wind speed and maximum category for each storm. Store these to the object. Unwind them into variables.\n",
    "3. Plot a scatterplot with x-axis showing minimum pressure, y-axis showing maximum wind speed and colour showing maximum category."
   ]
  },
  {
   "cell_type": "code",
   "execution_count": 18,
   "metadata": {},
   "outputs": [
    {
     "name": "stdout",
     "output_type": "stream",
     "text": [
      "Classes ‘tbl_df’, ‘tbl’ and 'data.frame':\t10010 obs. of  13 variables:\n",
      " $ name       : chr  \"Amy\" \"Amy\" \"Amy\" \"Amy\" ...\n",
      " $ year       : num  1975 1975 1975 1975 1975 ...\n",
      " $ month      : num  6 6 6 6 6 6 6 6 6 6 ...\n",
      " $ day        : int  27 27 27 27 28 28 28 28 29 29 ...\n",
      " $ hour       : num  0 6 12 18 0 6 12 18 0 6 ...\n",
      " $ lat        : num  27.5 28.5 29.5 30.5 31.5 32.4 33.3 34 34.4 34 ...\n",
      " $ long       : num  -79 -79 -79 -79 -78.8 -78.7 -78 -77 -75.8 -74.8 ...\n",
      " $ status     : chr  \"tropical depression\" \"tropical depression\" \"tropical depression\" \"tropical depression\" ...\n",
      " $ category   : Ord.factor w/ 7 levels \"-1\"<\"0\"<\"1\"<\"2\"<..: 1 1 1 1 1 1 1 1 2 2 ...\n",
      " $ wind       : int  25 25 25 25 25 25 25 30 35 40 ...\n",
      " $ pressure   : int  1013 1013 1013 1013 1012 1012 1011 1006 1004 1002 ...\n",
      " $ ts_diameter: num  NA NA NA NA NA NA NA NA NA NA ...\n",
      " $ hu_diameter: num  NA NA NA NA NA NA NA NA NA NA ...\n"
     ]
    }
   ],
   "source": [
    "data(storms)\n",
    "\n",
    "str(storms)"
   ]
  },
  {
   "cell_type": "markdown",
   "metadata": {},
   "source": [
    "# Solutions:\n",
    "\n",
    "## 1."
   ]
  },
  {
   "cell_type": "code",
   "execution_count": 19,
   "metadata": {},
   "outputs": [
    {
     "name": "stdout",
     "output_type": "stream",
     "text": [
      "\u001b[90m# A tibble: 198 x 2\u001b[39m\n",
      "   name     data               \n",
      "   \u001b[3m\u001b[90m<fct>\u001b[39m\u001b[23m    \u001b[3m\u001b[90m<list>\u001b[39m\u001b[23m             \n",
      "\u001b[90m 1\u001b[39m Amy      \u001b[90m<tibble [30 × 12]>\u001b[39m \n",
      "\u001b[90m 2\u001b[39m Caroline \u001b[90m<tibble [33 × 12]>\u001b[39m \n",
      "\u001b[90m 3\u001b[39m Doris    \u001b[90m<tibble [23 × 12]>\u001b[39m \n",
      "\u001b[90m 4\u001b[39m Belle    \u001b[90m<tibble [18 × 12]>\u001b[39m \n",
      "\u001b[90m 5\u001b[39m Gloria   \u001b[90m<tibble [125 × 12]>\u001b[39m\n",
      "\u001b[90m 6\u001b[39m Anita    \u001b[90m<tibble [20 × 12]>\u001b[39m \n",
      "\u001b[90m 7\u001b[39m Clara    \u001b[90m<tibble [24 × 12]>\u001b[39m \n",
      "\u001b[90m 8\u001b[39m Evelyn   \u001b[90m<tibble [9 × 12]>\u001b[39m  \n",
      "\u001b[90m 9\u001b[39m Amelia   \u001b[90m<tibble [6 × 12]>\u001b[39m  \n",
      "\u001b[90m10\u001b[39m Bess     \u001b[90m<tibble [13 × 12]>\u001b[39m \n",
      "\u001b[90m# … with 188 more rows\u001b[39m\n"
     ]
    }
   ],
   "source": [
    "storms_nested <- storms %>%\n",
    "    mutate(name=as.factor(name)) %>%\n",
    "    group_by(name) %>%\n",
    "    nest()\n",
    "\n",
    "print(storms_nested)"
   ]
  },
  {
   "cell_type": "markdown",
   "metadata": {},
   "source": [
    "## 2."
   ]
  },
  {
   "cell_type": "code",
   "execution_count": 20,
   "metadata": {},
   "outputs": [
    {
     "name": "stdout",
     "output_type": "stream",
     "text": [
      "\u001b[90m# A tibble: 198 x 5\u001b[39m\n",
      "   name     data                min_pressure max_wind max_category\n",
      "   \u001b[3m\u001b[90m<fct>\u001b[39m\u001b[23m    \u001b[3m\u001b[90m<list>\u001b[39m\u001b[23m                     \u001b[3m\u001b[90m<int>\u001b[39m\u001b[23m    \u001b[3m\u001b[90m<int>\u001b[39m\u001b[23m \u001b[3m\u001b[90m<ord>\u001b[39m\u001b[23m       \n",
      "\u001b[90m 1\u001b[39m Amy      \u001b[90m<tibble [30 × 12]>\u001b[39m           981       60 0           \n",
      "\u001b[90m 2\u001b[39m Caroline \u001b[90m<tibble [33 × 12]>\u001b[39m           963      100 3           \n",
      "\u001b[90m 3\u001b[39m Doris    \u001b[90m<tibble [23 × 12]>\u001b[39m           965       95 2           \n",
      "\u001b[90m 4\u001b[39m Belle    \u001b[90m<tibble [18 × 12]>\u001b[39m           957      105 3           \n",
      "\u001b[90m 5\u001b[39m Gloria   \u001b[90m<tibble [125 × 12]>\u001b[39m          920      125 4           \n",
      "\u001b[90m 6\u001b[39m Anita    \u001b[90m<tibble [20 × 12]>\u001b[39m           926      150 5           \n",
      "\u001b[90m 7\u001b[39m Clara    \u001b[90m<tibble [24 × 12]>\u001b[39m           993       65 1           \n",
      "\u001b[90m 8\u001b[39m Evelyn   \u001b[90m<tibble [9 × 12]>\u001b[39m            994       70 1           \n",
      "\u001b[90m 9\u001b[39m Amelia   \u001b[90m<tibble [6 × 12]>\u001b[39m           \u001b[4m1\u001b[24m005       45 0           \n",
      "\u001b[90m10\u001b[39m Bess     \u001b[90m<tibble [13 × 12]>\u001b[39m          \u001b[4m1\u001b[24m005       45 0           \n",
      "\u001b[90m# … with 188 more rows\u001b[39m\n"
     ]
    }
   ],
   "source": [
    "storm_stats <- function(storm_data) {\n",
    "    output <- storm_data %>%\n",
    "        summarize(min_pressure=min(pressure),max_wind=max(wind),max_category=max(category))\n",
    "}\n",
    "\n",
    "storms_nested <- storms_nested %>%\n",
    "    mutate(stats=map(data,storm_stats)) %>%\n",
    "    unnest(stats)\n",
    "\n",
    "print(storms_nested)"
   ]
  },
  {
   "cell_type": "markdown",
   "metadata": {},
   "source": [
    "## 3."
   ]
  },
  {
   "cell_type": "code",
   "execution_count": 21,
   "metadata": {},
   "outputs": [
    {
     "data": {
      "image/png": "[encoded data removed]",
      "text/plain": [
       "plot without title"
      ]
     },
     "metadata": {
      "image/png": {
       "height": 420,
       "width": 420
      },
      "text/plain": {
       "height": 420,
       "width": 420
      }
     },
     "output_type": "display_data"
    }
   ],
   "source": [
    "storms_nested %>%\n",
    "    ggplot(aes(x=min_pressure,y=max_wind,color=max_category)) +\n",
    "    geom_point() +\n",
    "    scale_x_reverse() +\n",
    "    labs(x='Minimum pressure [mbar]',y='Maximum windspeed [km/h]',color='Storm category')"
   ]
  },
  {
   "cell_type": "code",
   "execution_count": null,
   "metadata": {},
   "outputs": [],
   "source": []
  }
 ],
 "metadata": {
  "kernelspec": {
   "display_name": "R",
   "language": "R",
   "name": "ir"
  },
  "language_info": {
   "codemirror_mode": "r",
   "file_extension": ".r",
   "mimetype": "text/x-r-source",
   "name": "R",
   "pygments_lexer": "r",
   "version": "3.4.4"
  }
 },
 "nbformat": 4,
 "nbformat_minor": 4
}

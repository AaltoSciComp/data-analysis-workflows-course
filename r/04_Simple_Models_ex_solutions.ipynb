{
 "cells": [
  {
   "cell_type": "markdown",
   "metadata": {},
   "source": [
    "# Exercises"
   ]
  },
  {
   "cell_type": "code",
   "execution_count": 1,
   "metadata": {},
   "outputs": [
    {
     "name": "stderr",
     "output_type": "stream",
     "text": [
      "── \u001b[1mAttaching packages\u001b[22m ─────────────────────────────────────── tidyverse 1.2.1 ──\n",
      "\n",
      "\u001b[32m✔\u001b[39m \u001b[34mggplot2\u001b[39m 3.2.0     \u001b[32m✔\u001b[39m \u001b[34mpurrr  \u001b[39m 0.3.2\n",
      "\u001b[32m✔\u001b[39m \u001b[34mtibble \u001b[39m 2.1.3     \u001b[32m✔\u001b[39m \u001b[34mdplyr  \u001b[39m 0.8.3\n",
      "\u001b[32m✔\u001b[39m \u001b[34mtidyr  \u001b[39m 0.8.3     \u001b[32m✔\u001b[39m \u001b[34mstringr\u001b[39m 1.4.0\n",
      "\u001b[32m✔\u001b[39m \u001b[34mreadr  \u001b[39m 1.3.1     \u001b[32m✔\u001b[39m \u001b[34mforcats\u001b[39m 0.4.0\n",
      "\n",
      "── \u001b[1mConflicts\u001b[22m ────────────────────────────────────────── tidyverse_conflicts() ──\n",
      "\u001b[31m✖\u001b[39m \u001b[34mdplyr\u001b[39m::\u001b[32mfilter()\u001b[39m masks \u001b[34mstats\u001b[39m::filter()\n",
      "\u001b[31m✖\u001b[39m \u001b[34mdplyr\u001b[39m::\u001b[32mlag()\u001b[39m    masks \u001b[34mstats\u001b[39m::lag()\n",
      "\n",
      "\n",
      "Attaching package: ‘modelr’\n",
      "\n",
      "\n",
      "The following object is masked from ‘package:broom’:\n",
      "\n",
      "    bootstrap\n",
      "\n",
      "\n"
     ]
    }
   ],
   "source": [
    "library(tidyverse)\n",
    "if (!file.exists('rlibs')) {\n",
    "    dir.create('rlibs')\n",
    "}\n",
    "if (!file.exists('rlibs/broom')) {\n",
    "    install.packages('broom', repos=\"http://cran.r-project.org\", lib='rlibs')\n",
    "}\n",
    "library(broom, lib.loc='rlibs')\n",
    "library(modelr)"
   ]
  },
  {
   "cell_type": "markdown",
   "metadata": {},
   "source": [
    "## 1.\n",
    "\n",
    "Try to improve on the linear model that we used by adding more predictors. What is the best fit you can obtain?"
   ]
  },
  {
   "cell_type": "code",
   "execution_count": 2,
   "metadata": {},
   "outputs": [
    {
     "data": {
      "text/html": [
       "'LC_CTYPE=C;LC_NUMERIC=C;LC_TIME=C;LC_COLLATE=C;LC_MONETARY=C;LC_MESSAGES=en_US.UTF-8;LC_PAPER=en_US.UTF-8;LC_NAME=C;LC_ADDRESS=C;LC_TELEPHONE=C;LC_MEASUREMENT=en_US.UTF-8;LC_IDENTIFICATION=C'"
      ],
      "text/latex": [
       "'LC\\_CTYPE=C;LC\\_NUMERIC=C;LC\\_TIME=C;LC\\_COLLATE=C;LC\\_MONETARY=C;LC\\_MESSAGES=en\\_US.UTF-8;LC\\_PAPER=en\\_US.UTF-8;LC\\_NAME=C;LC\\_ADDRESS=C;LC\\_TELEPHONE=C;LC\\_MEASUREMENT=en\\_US.UTF-8;LC\\_IDENTIFICATION=C'"
      ],
      "text/markdown": [
       "'LC_CTYPE=C;LC_NUMERIC=C;LC_TIME=C;LC_COLLATE=C;LC_MONETARY=C;LC_MESSAGES=en_US.UTF-8;LC_PAPER=en_US.UTF-8;LC_NAME=C;LC_ADDRESS=C;LC_TELEPHONE=C;LC_MEASUREMENT=en_US.UTF-8;LC_IDENTIFICATION=C'"
      ],
      "text/plain": [
       "[1] \"LC_CTYPE=C;LC_NUMERIC=C;LC_TIME=C;LC_COLLATE=C;LC_MONETARY=C;LC_MESSAGES=en_US.UTF-8;LC_PAPER=en_US.UTF-8;LC_NAME=C;LC_ADDRESS=C;LC_TELEPHONE=C;LC_MEASUREMENT=en_US.UTF-8;LC_IDENTIFICATION=C\""
      ]
     },
     "metadata": {},
     "output_type": "display_data"
    },
    {
     "name": "stdout",
     "output_type": "stream",
     "text": [
      "Classes 'tbl_df', 'tbl' and 'data.frame':\t14217 obs. of  7 variables:\n",
      " $ Style  : Factor w/ 2 levels \"American IPA\",..: 1 1 1 1 1 1 1 1 1 1 ...\n",
      " $ StyleID: num  7 7 7 7 7 7 7 7 7 7 ...\n",
      " $ OG     : num  1.06 1.06 1.06 1.07 1.07 ...\n",
      " $ FG     : num  1.02 1.02 1.01 1.01 1.02 ...\n",
      " $ ABV    : num  5.91 5.8 6.63 6.62 7.07 6.51 6.2 7.14 6.5 6.29 ...\n",
      " $ IBU    : num  59.2 54.5 64.3 111 69.7 ...\n",
      " $ Color  : num  8.98 8.5 7.78 14.26 6.28 ...\n"
     ]
    }
   ],
   "source": [
    "library(tidyverse)\n",
    "if (!file.exists('rlibs')) {\n",
    "    dir.create('rlibs')\n",
    "}\n",
    "if (!file.exists('rlibs/feather')) {\n",
    "    install.packages('feather', repos=\"http://cran.r-project.org\", lib='rlibs')\n",
    "}\n",
    "library(feather, lib.loc='rlibs')\n",
    "\n",
    "Sys.setlocale('LC_ALL','C')\n",
    "\n",
    "beer_recipes <- read_feather('beer_recipes.feather')\n",
    "beer_recipes <- beer_recipes %>%\n",
    "    filter(Style == 'American IPA' | Style == 'American Light Lager') %>%\n",
    "    select(Style:Color, -`Size(L)`) %>%\n",
    "    mutate_if(is.character, as.factor)\n",
    "\n",
    "str(beer_recipes)"
   ]
  },
  {
   "cell_type": "code",
   "execution_count": 3,
   "metadata": {},
   "outputs": [],
   "source": [
    "beer_clusters <- beer_recipes %>%\n",
    "    select(-Style, -StyleID) %>%\n",
    "    kmeans(centers=2)"
   ]
  },
  {
   "cell_type": "code",
   "execution_count": 4,
   "metadata": {},
   "outputs": [],
   "source": [
    "beers_clustered <- beer_clusters %>%\n",
    "    augment(beer_recipes)"
   ]
  },
  {
   "cell_type": "code",
   "execution_count": 5,
   "metadata": {},
   "outputs": [],
   "source": [
    "beers_clustered <- beers_clustered %>%\n",
    "    mutate(style_code = fct_recode(as.factor(StyleID), \"1\"=\"7\", \"2\"=\"9\"))"
   ]
  },
  {
   "cell_type": "code",
   "execution_count": 6,
   "metadata": {},
   "outputs": [],
   "source": [
    "beers_clustered <- beers_clustered %>%\n",
    "    mutate(clustering_failed=.cluster != style_code)"
   ]
  },
  {
   "cell_type": "code",
   "execution_count": 7,
   "metadata": {},
   "outputs": [
    {
     "data": {
      "text/html": [
       "<table>\n",
       "<caption>A tibble: 1 × 1</caption>\n",
       "<thead>\n",
       "\t<tr><th scope=col>mean(clustering_failed)</th></tr>\n",
       "\t<tr><th scope=col>&lt;dbl&gt;</th></tr>\n",
       "</thead>\n",
       "<tbody>\n",
       "\t<tr><td>0.2564535</td></tr>\n",
       "</tbody>\n",
       "</table>\n"
      ],
      "text/latex": [
       "A tibble: 1 × 1\n",
       "\\begin{tabular}{r|l}\n",
       " mean(clustering\\_failed)\\\\\n",
       " <dbl>\\\\\n",
       "\\hline\n",
       "\t 0.2564535\\\\\n",
       "\\end{tabular}\n"
      ],
      "text/markdown": [
       "\n",
       "A tibble: 1 × 1\n",
       "\n",
       "| mean(clustering_failed) &lt;dbl&gt; |\n",
       "|---|\n",
       "| 0.2564535 |\n",
       "\n"
      ],
      "text/plain": [
       "  mean(clustering_failed)\n",
       "1 0.2564535              "
      ]
     },
     "metadata": {},
     "output_type": "display_data"
    }
   ],
   "source": [
    "beers_clustered %>%\n",
    "    summarize(mean(clustering_failed))"
   ]
  },
  {
   "cell_type": "code",
   "execution_count": null,
   "metadata": {},
   "outputs": [],
   "source": []
  },
  {
   "cell_type": "code",
   "execution_count": null,
   "metadata": {},
   "outputs": [],
   "source": []
  }
 ],
 "metadata": {
  "kernelspec": {
   "display_name": "R",
   "language": "R",
   "name": "ir"
  },
  "language_info": {
   "codemirror_mode": "r",
   "file_extension": ".r",
   "mimetype": "text/x-r-source",
   "name": "R",
   "pygments_lexer": "r",
   "version": "3.4.4"
  }
 },
 "nbformat": 4,
 "nbformat_minor": 4
}

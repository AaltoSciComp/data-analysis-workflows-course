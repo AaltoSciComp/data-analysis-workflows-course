{
 "cells": [
  {
   "cell_type": "markdown",
   "metadata": {},
   "source": [
    "# Apply structures\n",
    "\n",
    "The purpose of this lesson is to familiarize you to coding with apply structures in R.\n",
    "\n",
    "It is well known in the R programming community that for-loops are slow in R. As an example lets try get a sum each row of a random `data.frame` with four columns:"
   ]
  },
  {
   "cell_type": "code",
   "execution_count": 149,
   "metadata": {},
   "outputs": [],
   "source": [
    "nrows = 100\n",
    "data <- data.frame(\n",
    "    var1=rnorm(nrows),\n",
    "    var2=rnorm(nrows),\n",
    "    var3=rnorm(nrows),\n",
    "    var4=rnorm(nrows)\n",
    "    )"
   ]
  },
  {
   "cell_type": "markdown",
   "metadata": {},
   "source": [
    "Lets create a simple function `rowSums_forloop` that initializes a result vector `rowsum` and in a for-loop goes through the rows of the input `data.frame` and stores the sum of row `i` to the `rowsum[i]`:"
   ]
  },
  {
   "cell_type": "code",
   "execution_count": 160,
   "metadata": {},
   "outputs": [
    {
     "data": {
      "text/html": [
       "<ol class=list-inline>\n",
       "\t<li>3.55093416256424</li>\n",
       "\t<li>1.67506571977268</li>\n",
       "\t<li>1.07720668042621</li>\n",
       "\t<li>0.611154173611746</li>\n",
       "\t<li>1.96412531825846</li>\n",
       "\t<li>2.74957213426303</li>\n",
       "</ol>\n"
      ],
      "text/latex": [
       "\\begin{enumerate*}\n",
       "\\item 3.55093416256424\n",
       "\\item 1.67506571977268\n",
       "\\item 1.07720668042621\n",
       "\\item 0.611154173611746\n",
       "\\item 1.96412531825846\n",
       "\\item 2.74957213426303\n",
       "\\end{enumerate*}\n"
      ],
      "text/markdown": [
       "1. 3.55093416256424\n",
       "2. 1.67506571977268\n",
       "3. 1.07720668042621\n",
       "4. 0.611154173611746\n",
       "5. 1.96412531825846\n",
       "6. 2.74957213426303\n",
       "\n",
       "\n"
      ],
      "text/plain": [
       "[1] 3.5509342 1.6750657 1.0772067 0.6111542 1.9641253 2.7495721"
      ]
     },
     "metadata": {},
     "output_type": "display_data"
    }
   ],
   "source": [
    "rowSums_forloop <- function (dataframe) {\n",
    "    # Sums up each row with inefficient for-loop\n",
    "    # \n",
    "    # Args:\n",
    "    #   dataframe: data.frame to sum over\n",
    "    #\n",
    "    # Returns:\n",
    "    #   rowsum: Vector containing sum of each row\n",
    "    \n",
    "    # Generate the vector rowsum\n",
    "    rowsum <- c()\n",
    "    for (i in 1:nrow(dataframe)) {\n",
    "        # For each row store the sum of row i to rowsum[i]\n",
    "        rowsum[i] <- sum(dataframe[i,])\n",
    "    }\n",
    "    return(rowsum)\n",
    "}\n",
    "\n",
    "rowsum_forloop <- rowSums_forloop(data)\n",
    "head(rowsum_forloop)"
   ]
  },
  {
   "cell_type": "markdown",
   "metadata": {},
   "source": [
    "The previous way is not optimal as it does not utilize the vectorized nature of R.\n",
    "\n",
    "Vectorized in this context means that as each column of `data` is a vector, `data[i,]` and `data[i+1,]` do not differ in structure. Thus sometimes the operation that is carried out on these rows (here it was the `sum`-function) can be done in parallel across multiple rows at a same time.\n",
    "\n",
    "To utilize the vectorized nature of R objects one usually uses `apply`-style functions.\n",
    "\n",
    "The basic `apply`-function has a simple syntax (see: [[1]](https://www.rdocumentation.org/packages/base/versions/3.4.3/topics/apply)):\n",
    "\n",
    "```r\n",
    "apply(array, margin, func)\n",
    "```\n",
    "\n",
    "Here `array` is a data array (vector, matrix, data.frame); `margin` is a integer/vector that determines whether to apply the function on rows (`1`), columns(`2`) or both (`c(1,2)`); and `func` is the function to apply.\n",
    "\n",
    "Dimensions of the result depend on the dimensions of the original data, the direction of application and the output shape of `func`. In this case we want to apply the `sum` function to each row. `sum` returns a single number as a result, so the result size is a vector with `nrows`."
   ]
  },
  {
   "cell_type": "code",
   "execution_count": 161,
   "metadata": {},
   "outputs": [
    {
     "data": {
      "text/html": [
       "<ol class=list-inline>\n",
       "\t<li>3.55093416256424</li>\n",
       "\t<li>1.67506571977268</li>\n",
       "\t<li>1.07720668042621</li>\n",
       "\t<li>0.611154173611746</li>\n",
       "\t<li>1.96412531825846</li>\n",
       "\t<li>2.74957213426303</li>\n",
       "</ol>\n"
      ],
      "text/latex": [
       "\\begin{enumerate*}\n",
       "\\item 3.55093416256424\n",
       "\\item 1.67506571977268\n",
       "\\item 1.07720668042621\n",
       "\\item 0.611154173611746\n",
       "\\item 1.96412531825846\n",
       "\\item 2.74957213426303\n",
       "\\end{enumerate*}\n"
      ],
      "text/markdown": [
       "1. 3.55093416256424\n",
       "2. 1.67506571977268\n",
       "3. 1.07720668042621\n",
       "4. 0.611154173611746\n",
       "5. 1.96412531825846\n",
       "6. 2.74957213426303\n",
       "\n",
       "\n"
      ],
      "text/plain": [
       "[1] 3.5509342 1.6750657 1.0772067 0.6111542 1.9641253 2.7495721"
      ]
     },
     "metadata": {},
     "output_type": "display_data"
    },
    {
     "data": {
      "text/html": [
       "TRUE"
      ],
      "text/latex": [
       "TRUE"
      ],
      "text/markdown": [
       "TRUE"
      ],
      "text/plain": [
       "[1] TRUE"
      ]
     },
     "metadata": {},
     "output_type": "display_data"
    }
   ],
   "source": [
    "rowSums_apply <- function(dataframe) {\n",
    "    # Sums up each row with an apply-function call\n",
    "    # \n",
    "    # Args:\n",
    "    #   dataframe: data.frame to sum over\n",
    "    #\n",
    "    # Returns:\n",
    "    #   rowsum: Vector containing sum of each row\n",
    "    # \n",
    "    \n",
    "    # Apply sum-function to each row of dataframe and return the result\n",
    "    rowsum <- apply(dataframe,1,sum)\n",
    "    return(rowsum)\n",
    "}\n",
    "rowsum_apply <- rowSums_apply(data)\n",
    "\n",
    "# Check that results match\n",
    "head(rowsum_apply)\n",
    "all(rowsum_forloop == rowsum_apply)"
   ]
  },
  {
   "cell_type": "markdown",
   "metadata": {},
   "source": [
    "Of course a language like R has an internal function for calculating the sum of columns for each row. This function is `rowSums`."
   ]
  },
  {
   "cell_type": "code",
   "execution_count": 162,
   "metadata": {},
   "outputs": [
    {
     "data": {
      "text/html": [
       "<ol class=list-inline>\n",
       "\t<li>3.55093416256424</li>\n",
       "\t<li>1.67506571977268</li>\n",
       "\t<li>1.07720668042621</li>\n",
       "\t<li>0.611154173611746</li>\n",
       "\t<li>1.96412531825846</li>\n",
       "\t<li>2.74957213426303</li>\n",
       "</ol>\n"
      ],
      "text/latex": [
       "\\begin{enumerate*}\n",
       "\\item 3.55093416256424\n",
       "\\item 1.67506571977268\n",
       "\\item 1.07720668042621\n",
       "\\item 0.611154173611746\n",
       "\\item 1.96412531825846\n",
       "\\item 2.74957213426303\n",
       "\\end{enumerate*}\n"
      ],
      "text/markdown": [
       "1. 3.55093416256424\n",
       "2. 1.67506571977268\n",
       "3. 1.07720668042621\n",
       "4. 0.611154173611746\n",
       "5. 1.96412531825846\n",
       "6. 2.74957213426303\n",
       "\n",
       "\n"
      ],
      "text/plain": [
       "[1] 3.5509342 1.6750657 1.0772067 0.6111542 1.9641253 2.7495721"
      ]
     },
     "metadata": {},
     "output_type": "display_data"
    },
    {
     "data": {
      "text/html": [
       "TRUE"
      ],
      "text/latex": [
       "TRUE"
      ],
      "text/markdown": [
       "TRUE"
      ],
      "text/plain": [
       "[1] TRUE"
      ]
     },
     "metadata": {},
     "output_type": "display_data"
    }
   ],
   "source": [
    "rowsum_baser <- rowSums(data)\n",
    "\n",
    "# Check that results match\n",
    "head(rowsum_baser)\n",
    "all(rowsum_apply == rowsum_baser)\n"
   ]
  },
  {
   "cell_type": "markdown",
   "metadata": {},
   "source": [
    "Now that we have three implementations of the same function we can use `microbenchmark`-library to make them compete against each other. `microbenchmark`-function can be used to run a function call in order to generate statistics of the function runtime. By default it runs the code 100 times."
   ]
  },
  {
   "cell_type": "code",
   "execution_count": 165,
   "metadata": {},
   "outputs": [
    {
     "name": "stdout",
     "output_type": "stream",
     "text": [
      "Unit: microseconds\n",
      "                  expr       min        lq       mean     median         uq\n",
      " rowSums_forloop(data) 11957.489 12667.716 13769.8453 13247.0690 14312.6990\n",
      "   rowSums_apply(data)   257.033   280.026   331.8649   291.9725   307.8665\n",
      "         rowSums(data)    51.508    57.499    63.3132    62.2505    65.4340\n",
      "       max neval\n",
      " 43767.887   100\n",
      "  1783.261   100\n",
      "    94.473   100\n"
     ]
    }
   ],
   "source": [
    "library(microbenchmark)\n",
    "\n",
    "print(microbenchmark(\n",
    "    rowSums_forloop(data),\n",
    "    rowSums_apply(data),\n",
    "    rowSums(data)\n",
    "))"
   ]
  },
  {
   "cell_type": "markdown",
   "metadata": {},
   "source": [
    "As is apparent from the runtimes the for-loop implementation loses by a huge margin. In general it is good to avoid for-loops unless there is a sequential order to the looping e.g. for-loop an iterative algorithm."
   ]
  },
  {
   "cell_type": "code",
   "execution_count": null,
   "metadata": {},
   "outputs": [],
   "source": []
  }
 ],
 "metadata": {
  "kernelspec": {
   "display_name": "R",
   "language": "R",
   "name": "ir"
  },
  "language_info": {
   "codemirror_mode": "r",
   "file_extension": ".r",
   "mimetype": "text/x-r-source",
   "name": "R",
   "pygments_lexer": "r",
   "version": "3.2.3"
  }
 },
 "nbformat": 4,
 "nbformat_minor": 2
}

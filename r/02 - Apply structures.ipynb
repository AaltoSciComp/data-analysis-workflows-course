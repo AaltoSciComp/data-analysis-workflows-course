{
 "cells": [
  {
   "cell_type": "markdown",
   "metadata": {},
   "source": [
    "# Apply structures\n",
    "\n",
    "## apply vs. for\n",
    "\n",
    "The purpose of this lesson is to familiarize you to coding with apply structures in R.\n",
    "\n",
    "It is well known in the R programming community that for-loops can be slow in R. This slowdown is usually caused by using assignments within a for-loop that causes memory duplication.\n",
    "\n",
    "As an example lets try get a sum each row of a random `data.frame` with four columns:"
   ]
  },
  {
   "cell_type": "code",
   "execution_count": 56,
   "metadata": {},
   "outputs": [],
   "source": [
    "nrows = 100\n",
    "data <- data.frame(\n",
    "    var1=rnorm(nrows),\n",
    "    var2=rnorm(nrows),\n",
    "    var3=rnorm(nrows),\n",
    "    var4=rnorm(nrows)\n",
    "    )"
   ]
  },
  {
   "cell_type": "markdown",
   "metadata": {},
   "source": [
    "Lets create a simple function `rowSums_forloop` that initializes a result vector `rowsum` and in a for-loop goes through the rows of the input `data.frame` and stores the sum of row `i` to the `rowsum[i]`:"
   ]
  },
  {
   "cell_type": "code",
   "execution_count": 57,
   "metadata": {},
   "outputs": [
    {
     "data": {
      "text/html": [
       "<ol class=list-inline>\n",
       "\t<li>-2.03659052009259</li>\n",
       "\t<li>3.25312080454094</li>\n",
       "\t<li>-1.2860335758902</li>\n",
       "\t<li>0.407679385902789</li>\n",
       "\t<li>-1.11252305186711</li>\n",
       "\t<li>1.53134511348777</li>\n",
       "</ol>\n"
      ],
      "text/latex": [
       "\\begin{enumerate*}\n",
       "\\item -2.03659052009259\n",
       "\\item 3.25312080454094\n",
       "\\item -1.2860335758902\n",
       "\\item 0.407679385902789\n",
       "\\item -1.11252305186711\n",
       "\\item 1.53134511348777\n",
       "\\end{enumerate*}\n"
      ],
      "text/markdown": [
       "1. -2.03659052009259\n",
       "2. 3.25312080454094\n",
       "3. -1.2860335758902\n",
       "4. 0.407679385902789\n",
       "5. -1.11252305186711\n",
       "6. 1.53134511348777\n",
       "\n",
       "\n"
      ],
      "text/plain": [
       "[1] -2.0365905  3.2531208 -1.2860336  0.4076794 -1.1125231  1.5313451"
      ]
     },
     "metadata": {},
     "output_type": "display_data"
    },
    {
     "data": {
      "text/html": [
       "<ol class=list-inline>\n",
       "\t<li>-2.03659052009259</li>\n",
       "\t<li>3.25312080454094</li>\n",
       "\t<li>-1.2860335758902</li>\n",
       "\t<li>0.407679385902789</li>\n",
       "\t<li>-1.11252305186711</li>\n",
       "\t<li>1.53134511348777</li>\n",
       "</ol>\n"
      ],
      "text/latex": [
       "\\begin{enumerate*}\n",
       "\\item -2.03659052009259\n",
       "\\item 3.25312080454094\n",
       "\\item -1.2860335758902\n",
       "\\item 0.407679385902789\n",
       "\\item -1.11252305186711\n",
       "\\item 1.53134511348777\n",
       "\\end{enumerate*}\n"
      ],
      "text/markdown": [
       "1. -2.03659052009259\n",
       "2. 3.25312080454094\n",
       "3. -1.2860335758902\n",
       "4. 0.407679385902789\n",
       "5. -1.11252305186711\n",
       "6. 1.53134511348777\n",
       "\n",
       "\n"
      ],
      "text/plain": [
       "[1] -2.0365905  3.2531208 -1.2860336  0.4076794 -1.1125231  1.5313451"
      ]
     },
     "metadata": {},
     "output_type": "display_data"
    }
   ],
   "source": [
    "library(pryr)\n",
    "\n",
    "rowSums_forloop <- function (dataframe) {\n",
    "    # Sums up each row with inefficient for-loop\n",
    "    # \n",
    "    # Args:\n",
    "    #   dataframe: data.frame to sum over\n",
    "    #\n",
    "    # Returns:\n",
    "    #   rowsum: Vector containing sum of each row\n",
    "    \n",
    "    # Generate the vector rowsum and initalize its size\n",
    "    rowsum <- vector('double',nrow(dataframe))\n",
    "    \n",
    "    # Not like this:\n",
    "    # Generate the vector rowsum, but do not initialize its size\n",
    "    # rowsum <- c()\n",
    "    for (i in 1:nrow(dataframe)) {\n",
    "\n",
    "        # Check memory address of rowsum to verify that it does not change\n",
    "        # print(address(rowsum))\n",
    "        \n",
    "        # For each row store the sum of row i to rowsum[i]\n",
    "        rowsum[i] <- sum(dataframe[i,])\n",
    "    }\n",
    "    return(rowsum)\n",
    "}\n",
    "\n",
    "rowsum_forloop <- rowSums_forloop(data)\n",
    "head(rowsum_forloop)"
   ]
  },
  {
   "cell_type": "markdown",
   "metadata": {},
   "source": [
    "The previous way is not optimal as it does not utilize the vectorized nature of R.\n",
    "\n",
    "Vectorized in this context means that as each column of `data` is a vector, `data[i,]` and `data[i+1,]` do not differ in structure. Thus sometimes the operation that is carried out on these rows (here it was the `sum`-function) can be done in parallel across multiple rows at a same time. In addition the memory management is much easier.\n",
    "\n",
    "To utilize the vectorized nature of R objects one usually uses `apply`-style functions.\n",
    "\n",
    "The basic `apply`-function has a simple syntax (see: [[1]](https://www.rdocumentation.org/packages/base/versions/3.4.3/topics/apply)):\n",
    "\n",
    "```r\n",
    "apply(array, margin, func)\n",
    "```\n",
    "\n",
    "Here `array` is a data array (vector, matrix, data.frame); `margin` is a integer/vector that determines whether to apply the function on rows (`1`), columns(`2`) or both (`c(1,2)`); and `func` is the function to apply.\n",
    "\n",
    "Dimensions of the result depend on the dimensions of the original data, the direction of application and the output shape of `func`. In this case we want to apply the `sum` function to each row. `sum` returns a single number as a result, so the result size is a vector with `nrows`."
   ]
  },
  {
   "cell_type": "code",
   "execution_count": 58,
   "metadata": {},
   "outputs": [
    {
     "data": {
      "text/html": [
       "<ol class=list-inline>\n",
       "\t<li>-2.03659052009259</li>\n",
       "\t<li>3.25312080454094</li>\n",
       "\t<li>-1.2860335758902</li>\n",
       "\t<li>0.407679385902789</li>\n",
       "\t<li>-1.11252305186711</li>\n",
       "\t<li>1.53134511348777</li>\n",
       "</ol>\n"
      ],
      "text/latex": [
       "\\begin{enumerate*}\n",
       "\\item -2.03659052009259\n",
       "\\item 3.25312080454094\n",
       "\\item -1.2860335758902\n",
       "\\item 0.407679385902789\n",
       "\\item -1.11252305186711\n",
       "\\item 1.53134511348777\n",
       "\\end{enumerate*}\n"
      ],
      "text/markdown": [
       "1. -2.03659052009259\n",
       "2. 3.25312080454094\n",
       "3. -1.2860335758902\n",
       "4. 0.407679385902789\n",
       "5. -1.11252305186711\n",
       "6. 1.53134511348777\n",
       "\n",
       "\n"
      ],
      "text/plain": [
       "[1] -2.0365905  3.2531208 -1.2860336  0.4076794 -1.1125231  1.5313451"
      ]
     },
     "metadata": {},
     "output_type": "display_data"
    },
    {
     "data": {
      "text/html": [
       "TRUE"
      ],
      "text/latex": [
       "TRUE"
      ],
      "text/markdown": [
       "TRUE"
      ],
      "text/plain": [
       "[1] TRUE"
      ]
     },
     "metadata": {},
     "output_type": "display_data"
    }
   ],
   "source": [
    "rowSums_apply <- function(dataframe) {\n",
    "    # Sums up each row with an apply-function call\n",
    "    # \n",
    "    # Args:\n",
    "    #   dataframe: data.frame to sum over\n",
    "    #\n",
    "    # Returns:\n",
    "    #   rowsum: Vector containing sum of each row\n",
    "    # \n",
    "    \n",
    "    # Apply sum-function to each row of dataframe and return the result\n",
    "    rowsum <- apply(dataframe,1,sum)\n",
    "    return(rowsum)\n",
    "}\n",
    "rowsum_apply <- rowSums_apply(data)\n",
    "\n",
    "# Check that results match\n",
    "head(rowsum_apply)\n",
    "all.equal(rowsum_forloop,rowsum_apply)"
   ]
  },
  {
   "cell_type": "markdown",
   "metadata": {},
   "source": [
    "Of course a language like R has an internal function for calculating the sum of columns for each row. This function is `rowSums`."
   ]
  },
  {
   "cell_type": "code",
   "execution_count": 59,
   "metadata": {},
   "outputs": [
    {
     "data": {
      "text/html": [
       "<ol class=list-inline>\n",
       "\t<li>-2.03659052009259</li>\n",
       "\t<li>3.25312080454094</li>\n",
       "\t<li>-1.2860335758902</li>\n",
       "\t<li>0.407679385902789</li>\n",
       "\t<li>-1.11252305186711</li>\n",
       "\t<li>1.53134511348777</li>\n",
       "</ol>\n"
      ],
      "text/latex": [
       "\\begin{enumerate*}\n",
       "\\item -2.03659052009259\n",
       "\\item 3.25312080454094\n",
       "\\item -1.2860335758902\n",
       "\\item 0.407679385902789\n",
       "\\item -1.11252305186711\n",
       "\\item 1.53134511348777\n",
       "\\end{enumerate*}\n"
      ],
      "text/markdown": [
       "1. -2.03659052009259\n",
       "2. 3.25312080454094\n",
       "3. -1.2860335758902\n",
       "4. 0.407679385902789\n",
       "5. -1.11252305186711\n",
       "6. 1.53134511348777\n",
       "\n",
       "\n"
      ],
      "text/plain": [
       "[1] -2.0365905  3.2531208 -1.2860336  0.4076794 -1.1125231  1.5313451"
      ]
     },
     "metadata": {},
     "output_type": "display_data"
    },
    {
     "data": {
      "text/html": [
       "TRUE"
      ],
      "text/latex": [
       "TRUE"
      ],
      "text/markdown": [
       "TRUE"
      ],
      "text/plain": [
       "[1] TRUE"
      ]
     },
     "metadata": {},
     "output_type": "display_data"
    }
   ],
   "source": [
    "rowsum_baser <- rowSums(data)\n",
    "\n",
    "# Check that results match\n",
    "head(rowsum_baser)\n",
    "all.equal(rowsum_apply, rowsum_baser)\n"
   ]
  },
  {
   "cell_type": "markdown",
   "metadata": {},
   "source": [
    "Now that we have three implementations of the same function we can use `microbenchmark`-library to make them compete against each other. `microbenchmark`-function can be used to run a function call in order to generate statistics of the function runtime. By default it runs the code 100 times."
   ]
  },
  {
   "cell_type": "code",
   "execution_count": 60,
   "metadata": {},
   "outputs": [
    {
     "name": "stdout",
     "output_type": "stream",
     "text": [
      "Unit: microseconds\n",
      "                      expr       min         lq        mean     median\n",
      " rowSums_forloop_bad(data) 12238.480 12712.6060 13502.50409 13051.2680\n",
      "     rowSums_forloop(data) 12127.308 12666.6335 13722.15232 13220.5875\n",
      "       rowSums_apply(data)   260.644   287.7195   313.21951   298.7675\n",
      "             rowSums(data)    53.362    61.2440    90.07444    63.0640\n",
      "         uq       max neval\n",
      " 13673.7445 20095.167   100\n",
      " 14217.5325 21906.828   100\n",
      "   317.4025   599.367   100\n",
      "    65.6810  2508.140   100\n"
     ]
    }
   ],
   "source": [
    "library(microbenchmark)\n",
    "\n",
    "print(microbenchmark(\n",
    "    rowSums_forloop(data),\n",
    "    rowSums_apply(data),\n",
    "    rowSums(data)\n",
    "))"
   ]
  },
  {
   "cell_type": "markdown",
   "metadata": {},
   "source": [
    "As is apparent from the runtimes the for-loop implementation loses by a huge margin. \n",
    "\n",
    "In some cases for-loops are as effective as `apply`-functions, but in general it is good to avoid them unless there is a sequential order to the looping e.g. for-loop an iterative algorithm or you've verified that there's not improvement. "
   ]
  },
  {
   "cell_type": "markdown",
   "metadata": {},
   "source": [
    "## Other *apply-functions\n",
    "\n",
    "The following functions apply function for each column of the data:\n",
    "\n",
    "### lapply\n",
    "\n",
    "`lapply` is similar to `apply` but it always returns a list as its output. For it the function call is\n",
    "\n",
    "`lapply(X, FUN, ...)`\n",
    "\n",
    "### sapply\n",
    "\n",
    "`sapply` always simplifies to result to the most simple data type available. Call is similar with `lapply`.\n",
    "\n",
    "### vapply\n",
    "\n",
    "`vapply` verifies that each call of `FUN` has the type and size of a vector given in `FUN.VALUE`. Call for this function is\n",
    "\n",
    "`lapply(X, FUN, FUN.VALUE, ...)`\n",
    "\n",
    "### mapply\n",
    "\n",
    "`mapply` or multivariate apply can be used to take one argument from one array, second from second, etc. and call a function `FUN` with these arguments. Call for this function is\n",
    "\n",
    "`mapply(FUN, ...)`\n",
    "\n",
    "where `...` are arrays given as positional arguments."
   ]
  },
  {
   "cell_type": "code",
   "execution_count": 116,
   "metadata": {},
   "outputs": [
    {
     "name": "stdout",
     "output_type": "stream",
     "text": [
      "[1] \"apply:\"\n",
      " Named num [1:4] 0.1275 0.0797 -0.0508 -0.0492\n",
      " - attr(*, \"names\")= chr [1:4] \"var1\" \"var2\" \"var3\" \"var4\"\n",
      "[1] \"lapply:\"\n",
      "List of 4\n",
      " $ var1: num 0.128\n",
      " $ var2: num 0.0797\n",
      " $ var3: num -0.0508\n",
      " $ var4: num -0.0492\n",
      "[1] \"sapply:\"\n",
      " Named num [1:4] 0.1275 0.0797 -0.0508 -0.0492\n",
      " - attr(*, \"names\")= chr [1:4] \"var1\" \"var2\" \"var3\" \"var4\"\n",
      "[1] \"vapply:\"\n",
      " Named cplx [1:4] 0.1275+0i 0.0797+0i -0.0508+0i ...\n",
      " - attr(*, \"names\")= chr [1:4] \"var1\" \"var2\" \"var3\" \"var4\"\n",
      "[1] \"mapply:\"\n",
      " num [1:100] -2.037 3.253 -1.286 0.408 -1.113 ...\n"
     ]
    },
    {
     "data": {
      "text/html": [
       "TRUE"
      ],
      "text/latex": [
       "TRUE"
      ],
      "text/markdown": [
       "TRUE"
      ],
      "text/plain": [
       "[1] TRUE"
      ]
     },
     "metadata": {},
     "output_type": "display_data"
    }
   ],
   "source": [
    "# Calculate mean of each column\n",
    "\n",
    "apply_result <- apply(data,2,mean)\n",
    "print('apply:')\n",
    "str(apply_result)\n",
    "\n",
    "lapply_result <- lapply(data,mean)\n",
    "print('lapply:')\n",
    "str(lapply_result)\n",
    "\n",
    "sapply_result <- sapply(data,mean)\n",
    "print('sapply:')\n",
    "str(sapply_result)\n",
    "\n",
    "vapply_result <- vapply(data,mean,complex(1))\n",
    "print('vapply:')\n",
    "str(vapply_result)\n",
    "\n",
    "# Calculate sum for each row like in the previous example\n",
    "\n",
    "mapply_result <- mapply(sum,data$var1,data$var2,data$var3,data$var4)\n",
    "print('mapply:')\n",
    "str(mapply_result)\n",
    "all.equal(mapply_result,rowsum_baser)"
   ]
  },
  {
   "cell_type": "code",
   "execution_count": null,
   "metadata": {},
   "outputs": [],
   "source": []
  }
 ],
 "metadata": {
  "kernelspec": {
   "display_name": "R",
   "language": "R",
   "name": "ir"
  },
  "language_info": {
   "codemirror_mode": "r",
   "file_extension": ".r",
   "mimetype": "text/x-r-source",
   "name": "R",
   "pygments_lexer": "r",
   "version": "3.2.3"
  }
 },
 "nbformat": 4,
 "nbformat_minor": 2
}

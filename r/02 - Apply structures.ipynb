{
 "cells": [
  {
   "cell_type": "markdown",
   "metadata": {},
   "source": [
    "# Apply structures\n",
    "\n",
    "The purpose of this lesson is to familiarize you to coding with apply structures in R.\n",
    "\n",
    "It is well known in the R programming community that for-loops are slow in R. As an example lets try get a sum each row of a random `data.frame` with four columns:"
   ]
  },
  {
   "cell_type": "code",
   "execution_count": 78,
   "metadata": {},
   "outputs": [],
   "source": [
    "nrows = 100\n",
    "data <- data.frame(\n",
    "    var1=rnorm(nrows),\n",
    "    var2=rnorm(nrows),\n",
    "    var3=rnorm(nrows),\n",
    "    var4=rnorm(nrows)\n",
    "    )"
   ]
  },
  {
   "cell_type": "markdown",
   "metadata": {},
   "source": [
    "Lets create a simple function `rowSums_forloop` that initializes a result vector `rowsum` and in a for-loop goes through the rows of the input `data.frame` and stores the sum of row `i` to the `rowsum[i]`:"
   ]
  },
  {
   "cell_type": "code",
   "execution_count": 79,
   "metadata": {},
   "outputs": [
    {
     "data": {
      "text/html": [
       "<ol class=list-inline>\n",
       "\t<li>-0.866099217758535</li>\n",
       "\t<li>-0.86885622937006</li>\n",
       "\t<li>-1.10717344615113</li>\n",
       "\t<li>-1.61013646675046</li>\n",
       "\t<li>3.27168705452614</li>\n",
       "\t<li>-0.852235945157138</li>\n",
       "</ol>\n"
      ],
      "text/latex": [
       "\\begin{enumerate*}\n",
       "\\item -0.866099217758535\n",
       "\\item -0.86885622937006\n",
       "\\item -1.10717344615113\n",
       "\\item -1.61013646675046\n",
       "\\item 3.27168705452614\n",
       "\\item -0.852235945157138\n",
       "\\end{enumerate*}\n"
      ],
      "text/markdown": [
       "1. -0.866099217758535\n",
       "2. -0.86885622937006\n",
       "3. -1.10717344615113\n",
       "4. -1.61013646675046\n",
       "5. 3.27168705452614\n",
       "6. -0.852235945157138\n",
       "\n",
       "\n"
      ],
      "text/plain": [
       "[1] -0.8660992 -0.8688562 -1.1071734 -1.6101365  3.2716871 -0.8522359"
      ]
     },
     "metadata": {},
     "output_type": "display_data"
    }
   ],
   "source": [
    "rowSums_forloop <- function (dataframe) {\n",
    "    # Sums up each row with inefficient for-loop\n",
    "    # \n",
    "    # Args:\n",
    "    #   dataframe: data.frame to sum over\n",
    "    #\n",
    "    # Returns:\n",
    "    #   rowsum: Vector containing sum of each row\n",
    "    \n",
    "    # Generate the vector rowsum\n",
    "    rowsum <- c()\n",
    "    for (i in 1:nrow(dataframe)) {\n",
    "        # For each row store the sum of row i to rowsum[i]\n",
    "        rowsum[i] <- sum(dataframe[i,])\n",
    "    }\n",
    "    return(rowsum)\n",
    "}\n",
    "\n",
    "rowsum_forloop <- rowSums_forloop(data)\n",
    "head(rowsum_forloop)"
   ]
  },
  {
   "cell_type": "markdown",
   "metadata": {},
   "source": [
    "The previous way is not optimal as it does not utilize the vectorized nature of R.\n",
    "\n",
    "Vectorized in this context means that as each column of `data` is a vector, `data[i,]` and `data[i+1,]` do not differ in structure. Thus sometimes the operation that is carried out on these rows (here it was the `sum`-function) can be done in parallel across multiple rows at a same time.\n",
    "\n",
    "To utilize the vectorized nature of R objects one usually uses `apply`-style functions.\n",
    "\n",
    "The basic `apply`-function has a simple syntax (see: [[1]](https://www.rdocumentation.org/packages/base/versions/3.4.3/topics/apply)):\n",
    "\n",
    "```r\n",
    "apply(array, margin, func)\n",
    "```\n",
    "\n",
    "Here `array` is a data array (vector, matrix, data.frame); `margin` is a integer/vector that determines whether to apply the function on rows (`1`), columns(`2`) or both (`c(1,2)`); and `func` is the function to apply.\n",
    "\n",
    "Dimensions of the result depend on the dimensions of the original data, the direction of application and the output shape of `func`. In this case we want to apply the `sum` function to each row. `sum` returns a single number as a result, so the result size is a vector with `nrows`."
   ]
  },
  {
   "cell_type": "code",
   "execution_count": 80,
   "metadata": {},
   "outputs": [
    {
     "data": {
      "text/html": [
       "<ol class=list-inline>\n",
       "\t<li>-0.866099217758535</li>\n",
       "\t<li>-0.86885622937006</li>\n",
       "\t<li>-1.10717344615113</li>\n",
       "\t<li>-1.61013646675046</li>\n",
       "\t<li>3.27168705452614</li>\n",
       "\t<li>-0.852235945157138</li>\n",
       "</ol>\n"
      ],
      "text/latex": [
       "\\begin{enumerate*}\n",
       "\\item -0.866099217758535\n",
       "\\item -0.86885622937006\n",
       "\\item -1.10717344615113\n",
       "\\item -1.61013646675046\n",
       "\\item 3.27168705452614\n",
       "\\item -0.852235945157138\n",
       "\\end{enumerate*}\n"
      ],
      "text/markdown": [
       "1. -0.866099217758535\n",
       "2. -0.86885622937006\n",
       "3. -1.10717344615113\n",
       "4. -1.61013646675046\n",
       "5. 3.27168705452614\n",
       "6. -0.852235945157138\n",
       "\n",
       "\n"
      ],
      "text/plain": [
       "[1] -0.8660992 -0.8688562 -1.1071734 -1.6101365  3.2716871 -0.8522359"
      ]
     },
     "metadata": {},
     "output_type": "display_data"
    },
    {
     "data": {
      "text/html": [
       "TRUE"
      ],
      "text/latex": [
       "TRUE"
      ],
      "text/markdown": [
       "TRUE"
      ],
      "text/plain": [
       "[1] TRUE"
      ]
     },
     "metadata": {},
     "output_type": "display_data"
    }
   ],
   "source": [
    "rowSums_apply <- function(dataframe) {\n",
    "    # Sums up each row with an apply-function call\n",
    "    # \n",
    "    # Args:\n",
    "    #   dataframe: data.frame to sum over\n",
    "    #\n",
    "    # Returns:\n",
    "    #   rowsum: Vector containing sum of each row\n",
    "    # \n",
    "    \n",
    "    # Apply sum-function to each row of dataframe and return the result\n",
    "    rowsum <- apply(dataframe,1,sum)\n",
    "    return(rowsum)\n",
    "}\n",
    "rowsum_apply <- rowSums_apply(data)\n",
    "\n",
    "# Check that results match\n",
    "head(rowsum_apply)\n",
    "all.equal(rowsum_forloop,rowsum_apply)"
   ]
  },
  {
   "cell_type": "markdown",
   "metadata": {},
   "source": [
    "Of course a language like R has an internal function for calculating the sum of columns for each row. This function is `rowSums`."
   ]
  },
  {
   "cell_type": "code",
   "execution_count": 81,
   "metadata": {},
   "outputs": [
    {
     "data": {
      "text/html": [
       "<ol class=list-inline>\n",
       "\t<li>-0.866099217758535</li>\n",
       "\t<li>-0.86885622937006</li>\n",
       "\t<li>-1.10717344615113</li>\n",
       "\t<li>-1.61013646675046</li>\n",
       "\t<li>3.27168705452614</li>\n",
       "\t<li>-0.852235945157138</li>\n",
       "</ol>\n"
      ],
      "text/latex": [
       "\\begin{enumerate*}\n",
       "\\item -0.866099217758535\n",
       "\\item -0.86885622937006\n",
       "\\item -1.10717344615113\n",
       "\\item -1.61013646675046\n",
       "\\item 3.27168705452614\n",
       "\\item -0.852235945157138\n",
       "\\end{enumerate*}\n"
      ],
      "text/markdown": [
       "1. -0.866099217758535\n",
       "2. -0.86885622937006\n",
       "3. -1.10717344615113\n",
       "4. -1.61013646675046\n",
       "5. 3.27168705452614\n",
       "6. -0.852235945157138\n",
       "\n",
       "\n"
      ],
      "text/plain": [
       "[1] -0.8660992 -0.8688562 -1.1071734 -1.6101365  3.2716871 -0.8522359"
      ]
     },
     "metadata": {},
     "output_type": "display_data"
    },
    {
     "data": {
      "text/html": [
       "TRUE"
      ],
      "text/latex": [
       "TRUE"
      ],
      "text/markdown": [
       "TRUE"
      ],
      "text/plain": [
       "[1] TRUE"
      ]
     },
     "metadata": {},
     "output_type": "display_data"
    }
   ],
   "source": [
    "rowsum_baser <- rowSums(data)\n",
    "\n",
    "# Check that results match\n",
    "head(rowsum_baser)\n",
    "all.equal(rowsum_apply, rowsum_baser)\n"
   ]
  },
  {
   "cell_type": "markdown",
   "metadata": {},
   "source": [
    "Now that we have three implementations of the same function we can use `microbenchmark`-library to make them compete against each other. `microbenchmark`-function can be used to run a function call in order to generate statistics of the function runtime. By default it runs the code 100 times."
   ]
  },
  {
   "cell_type": "code",
   "execution_count": 82,
   "metadata": {},
   "outputs": [
    {
     "name": "stdout",
     "output_type": "stream",
     "text": [
      "Unit: microseconds\n",
      "                  expr      min        lq       mean    median        uq\n",
      " rowSums_forloop(data) 5690.796 6018.7460 6385.70329 6094.1665 6194.7945\n",
      "   rowSums_apply(data)  129.811  139.6985  157.35065  142.4565  146.6795\n",
      "         rowSums(data)   25.706   28.8150   31.68336   30.7610   32.8335\n",
      "      max neval\n",
      " 8755.725   100\n",
      " 1384.070   100\n",
      "   83.475   100\n"
     ]
    }
   ],
   "source": [
    "library(microbenchmark)\n",
    "\n",
    "print(microbenchmark(\n",
    "    rowSums_forloop(data),\n",
    "    rowSums_apply(data),\n",
    "    rowSums(data)\n",
    "))"
   ]
  },
  {
   "cell_type": "markdown",
   "metadata": {},
   "source": [
    "As is apparent from the runtimes the for-loop implementation loses by a huge margin. In general it is good to avoid for-loops unless there is a sequential order to the looping e.g. for-loop an iterative algorithm."
   ]
  },
  {
   "cell_type": "code",
   "execution_count": 119,
   "metadata": {},
   "outputs": [
    {
     "data": {
      "text/html": [
       "<table>\n",
       "<thead><tr><th scope=col>year</th><th scope=col>month</th><th scope=col>day</th><th scope=col>dep_time</th><th scope=col>sched_dep_time</th><th scope=col>dep_delay</th><th scope=col>arr_time</th><th scope=col>sched_arr_time</th><th scope=col>arr_delay</th><th scope=col>carrier</th><th scope=col>flight</th><th scope=col>tailnum</th><th scope=col>origin</th><th scope=col>dest</th><th scope=col>air_time</th><th scope=col>distance</th><th scope=col>hour</th><th scope=col>minute</th><th scope=col>time_hour</th></tr></thead>\n",
       "<tbody>\n",
       "\t<tr><td>2013               </td><td>1                  </td><td>1                  </td><td>517                </td><td>515                </td><td> 2                 </td><td> 830               </td><td> 819               </td><td> 11                </td><td>UA                 </td><td>1545               </td><td>N14228             </td><td>EWR                </td><td>IAH                </td><td>227                </td><td>1400               </td><td>5                  </td><td>15                 </td><td>2013-01-01 05:00:00</td></tr>\n",
       "\t<tr><td>2013               </td><td>1                  </td><td>1                  </td><td>533                </td><td>529                </td><td> 4                 </td><td> 850               </td><td> 830               </td><td> 20                </td><td>UA                 </td><td>1714               </td><td>N24211             </td><td>LGA                </td><td>IAH                </td><td>227                </td><td>1416               </td><td>5                  </td><td>29                 </td><td>2013-01-01 05:00:00</td></tr>\n",
       "\t<tr><td>2013               </td><td>1                  </td><td>1                  </td><td>542                </td><td>540                </td><td> 2                 </td><td> 923               </td><td> 850               </td><td> 33                </td><td>AA                 </td><td>1141               </td><td>N619AA             </td><td>JFK                </td><td>MIA                </td><td>160                </td><td>1089               </td><td>5                  </td><td>40                 </td><td>2013-01-01 05:00:00</td></tr>\n",
       "\t<tr><td>2013               </td><td>1                  </td><td>1                  </td><td>544                </td><td>545                </td><td>-1                 </td><td>1004               </td><td>1022               </td><td>-18                </td><td>B6                 </td><td> 725               </td><td>N804JB             </td><td>JFK                </td><td>BQN                </td><td>183                </td><td>1576               </td><td>5                  </td><td>45                 </td><td>2013-01-01 05:00:00</td></tr>\n",
       "\t<tr><td>2013               </td><td>1                  </td><td>1                  </td><td>554                </td><td>600                </td><td>-6                 </td><td> 812               </td><td> 837               </td><td>-25                </td><td>DL                 </td><td> 461               </td><td>N668DN             </td><td>LGA                </td><td>ATL                </td><td>116                </td><td> 762               </td><td>6                  </td><td> 0                 </td><td>2013-01-01 06:00:00</td></tr>\n",
       "\t<tr><td>2013               </td><td>1                  </td><td>1                  </td><td>554                </td><td>558                </td><td>-4                 </td><td> 740               </td><td> 728               </td><td> 12                </td><td>UA                 </td><td>1696               </td><td>N39463             </td><td>EWR                </td><td>ORD                </td><td>150                </td><td> 719               </td><td>5                  </td><td>58                 </td><td>2013-01-01 05:00:00</td></tr>\n",
       "</tbody>\n",
       "</table>\n"
      ],
      "text/latex": [
       "\\begin{tabular}{r|lllllllllllllllllll}\n",
       " year & month & day & dep\\_time & sched\\_dep\\_time & dep\\_delay & arr\\_time & sched\\_arr\\_time & arr\\_delay & carrier & flight & tailnum & origin & dest & air\\_time & distance & hour & minute & time\\_hour\\\\\n",
       "\\hline\n",
       "\t 2013                & 1                   & 1                   & 517                 & 515                 &  2                  &  830                &  819                &  11                 & UA                  & 1545                & N14228              & EWR                 & IAH                 & 227                 & 1400                & 5                   & 15                  & 2013-01-01 05:00:00\\\\\n",
       "\t 2013                & 1                   & 1                   & 533                 & 529                 &  4                  &  850                &  830                &  20                 & UA                  & 1714                & N24211              & LGA                 & IAH                 & 227                 & 1416                & 5                   & 29                  & 2013-01-01 05:00:00\\\\\n",
       "\t 2013                & 1                   & 1                   & 542                 & 540                 &  2                  &  923                &  850                &  33                 & AA                  & 1141                & N619AA              & JFK                 & MIA                 & 160                 & 1089                & 5                   & 40                  & 2013-01-01 05:00:00\\\\\n",
       "\t 2013                & 1                   & 1                   & 544                 & 545                 & -1                  & 1004                & 1022                & -18                 & B6                  &  725                & N804JB              & JFK                 & BQN                 & 183                 & 1576                & 5                   & 45                  & 2013-01-01 05:00:00\\\\\n",
       "\t 2013                & 1                   & 1                   & 554                 & 600                 & -6                  &  812                &  837                & -25                 & DL                  &  461                & N668DN              & LGA                 & ATL                 & 116                 &  762                & 6                   &  0                  & 2013-01-01 06:00:00\\\\\n",
       "\t 2013                & 1                   & 1                   & 554                 & 558                 & -4                  &  740                &  728                &  12                 & UA                  & 1696                & N39463              & EWR                 & ORD                 & 150                 &  719                & 5                   & 58                  & 2013-01-01 05:00:00\\\\\n",
       "\\end{tabular}\n"
      ],
      "text/markdown": [
       "\n",
       "year | month | day | dep_time | sched_dep_time | dep_delay | arr_time | sched_arr_time | arr_delay | carrier | flight | tailnum | origin | dest | air_time | distance | hour | minute | time_hour | \n",
       "|---|---|---|---|---|---|\n",
       "| 2013                | 1                   | 1                   | 517                 | 515                 |  2                  |  830                |  819                |  11                 | UA                  | 1545                | N14228              | EWR                 | IAH                 | 227                 | 1400                | 5                   | 15                  | 2013-01-01 05:00:00 | \n",
       "| 2013                | 1                   | 1                   | 533                 | 529                 |  4                  |  850                |  830                |  20                 | UA                  | 1714                | N24211              | LGA                 | IAH                 | 227                 | 1416                | 5                   | 29                  | 2013-01-01 05:00:00 | \n",
       "| 2013                | 1                   | 1                   | 542                 | 540                 |  2                  |  923                |  850                |  33                 | AA                  | 1141                | N619AA              | JFK                 | MIA                 | 160                 | 1089                | 5                   | 40                  | 2013-01-01 05:00:00 | \n",
       "| 2013                | 1                   | 1                   | 544                 | 545                 | -1                  | 1004                | 1022                | -18                 | B6                  |  725                | N804JB              | JFK                 | BQN                 | 183                 | 1576                | 5                   | 45                  | 2013-01-01 05:00:00 | \n",
       "| 2013                | 1                   | 1                   | 554                 | 600                 | -6                  |  812                |  837                | -25                 | DL                  |  461                | N668DN              | LGA                 | ATL                 | 116                 |  762                | 6                   |  0                  | 2013-01-01 06:00:00 | \n",
       "| 2013                | 1                   | 1                   | 554                 | 558                 | -4                  |  740                |  728                |  12                 | UA                  | 1696                | N39463              | EWR                 | ORD                 | 150                 |  719                | 5                   | 58                  | 2013-01-01 05:00:00 | \n",
       "\n",
       "\n"
      ],
      "text/plain": [
       "  year month day dep_time sched_dep_time dep_delay arr_time sched_arr_time\n",
       "1 2013 1     1   517      515             2         830      819          \n",
       "2 2013 1     1   533      529             4         850      830          \n",
       "3 2013 1     1   542      540             2         923      850          \n",
       "4 2013 1     1   544      545            -1        1004     1022          \n",
       "5 2013 1     1   554      600            -6         812      837          \n",
       "6 2013 1     1   554      558            -4         740      728          \n",
       "  arr_delay carrier flight tailnum origin dest air_time distance hour minute\n",
       "1  11       UA      1545   N14228  EWR    IAH  227      1400     5    15    \n",
       "2  20       UA      1714   N24211  LGA    IAH  227      1416     5    29    \n",
       "3  33       AA      1141   N619AA  JFK    MIA  160      1089     5    40    \n",
       "4 -18       B6       725   N804JB  JFK    BQN  183      1576     5    45    \n",
       "5 -25       DL       461   N668DN  LGA    ATL  116       762     6     0    \n",
       "6  12       UA      1696   N39463  EWR    ORD  150       719     5    58    \n",
       "  time_hour          \n",
       "1 2013-01-01 05:00:00\n",
       "2 2013-01-01 05:00:00\n",
       "3 2013-01-01 05:00:00\n",
       "4 2013-01-01 05:00:00\n",
       "5 2013-01-01 06:00:00\n",
       "6 2013-01-01 05:00:00"
      ]
     },
     "metadata": {},
     "output_type": "display_data"
    },
    {
     "data": {
      "text/html": [
       "336776"
      ],
      "text/latex": [
       "336776"
      ],
      "text/markdown": [
       "336776"
      ],
      "text/plain": [
       "[1] 336776"
      ]
     },
     "metadata": {},
     "output_type": "display_data"
    },
    {
     "data": {
      "image/png": "[encoded data removed]",
      "text/plain": [
       "Plot with title “Histogram of flight delay during flight time”"
      ]
     },
     "metadata": {},
     "output_type": "display_data"
    }
   ],
   "source": [
    "library(nycflights13)\n",
    "head(flights)\n",
    "nrow(flights)\n",
    "\n",
    "flighttimedelay_noapply <- function(dataframe) {\n",
    "    return(flights$arr_delay - flights$dep_delay)\n",
    "}\n",
    "\n",
    "ftd_noapply <- flighttimedelay_noapply(flights)\n",
    "                  \n",
    "hist(ftd_noapply,breaks=50,plot=T,main='Histogram of flight delay during flight time',xlab='Amount of delay accumulated during flight [minutes]')"
   ]
  },
  {
   "cell_type": "code",
   "execution_count": 120,
   "metadata": {},
   "outputs": [
    {
     "data": {
      "text/html": [
       "'numeric'"
      ],
      "text/latex": [
       "'numeric'"
      ],
      "text/markdown": [
       "'numeric'"
      ],
      "text/plain": [
       "[1] \"numeric\""
      ]
     },
     "metadata": {},
     "output_type": "display_data"
    },
    {
     "data": {
      "text/html": [
       "336776"
      ],
      "text/latex": [
       "336776"
      ],
      "text/markdown": [
       "336776"
      ],
      "text/plain": [
       "[1] 336776"
      ]
     },
     "metadata": {},
     "output_type": "display_data"
    },
    {
     "data": {
      "text/html": [
       "'matrix'"
      ],
      "text/latex": [
       "'matrix'"
      ],
      "text/markdown": [
       "'matrix'"
      ],
      "text/plain": [
       "[1] \"matrix\""
      ]
     },
     "metadata": {},
     "output_type": "display_data"
    },
    {
     "data": {
      "text/html": [
       "<ol class=list-inline>\n",
       "\t<li>336776</li>\n",
       "\t<li>1</li>\n",
       "</ol>\n"
      ],
      "text/latex": [
       "\\begin{enumerate*}\n",
       "\\item 336776\n",
       "\\item 1\n",
       "\\end{enumerate*}\n"
      ],
      "text/markdown": [
       "1. 336776\n",
       "2. 1\n",
       "\n",
       "\n"
      ],
      "text/plain": [
       "[1] 336776      1"
      ]
     },
     "metadata": {},
     "output_type": "display_data"
    },
    {
     "data": {
      "text/html": [
       "'numeric'"
      ],
      "text/latex": [
       "'numeric'"
      ],
      "text/markdown": [
       "'numeric'"
      ],
      "text/plain": [
       "[1] \"numeric\""
      ]
     },
     "metadata": {},
     "output_type": "display_data"
    },
    {
     "data": {
      "text/html": [
       "336776"
      ],
      "text/latex": [
       "336776"
      ],
      "text/markdown": [
       "336776"
      ],
      "text/plain": [
       "[1] 336776"
      ]
     },
     "metadata": {},
     "output_type": "display_data"
    },
    {
     "data": {
      "text/html": [
       "TRUE"
      ],
      "text/latex": [
       "TRUE"
      ],
      "text/markdown": [
       "TRUE"
      ],
      "text/plain": [
       "[1] TRUE"
      ]
     },
     "metadata": {},
     "output_type": "display_data"
    }
   ],
   "source": [
    "flighttimedelay_mapply <- function(dataframe) {\n",
    "    return(mapply(function(x,y) x-y,flights['arr_delay'],flights['dep_delay']))\n",
    "}\n",
    "\n",
    "ftd_mapply <- flighttimedelay_mapply(flights)\n",
    "                  \n",
    "# Do note that the result is a matrix, not a vector\n",
    "class(ftd_noapply)\n",
    "length(ftd_noapply)\n",
    "class(ftd_mapply) \n",
    "dim(ftd_mapply)\n",
    "                  \n",
    "ftd_mapply <- c(ftd_mapply)\n",
    "\n",
    "class(ftd_mapply) \n",
    "length(ftd_mapply)\n",
    "\n",
    "all.equal(ftd_noapply,ftd_mapply)"
   ]
  },
  {
   "cell_type": "code",
   "execution_count": 121,
   "metadata": {},
   "outputs": [
    {
     "data": {
      "text/html": [
       "TRUE"
      ],
      "text/latex": [
       "TRUE"
      ],
      "text/markdown": [
       "TRUE"
      ],
      "text/plain": [
       "[1] TRUE"
      ]
     },
     "metadata": {},
     "output_type": "display_data"
    }
   ],
   "source": [
    "library(parallel)\n",
    "\n",
    "flighttimedelay_mcmapply <- function(dataframe) {\n",
    "    return(mcmapply(function(x,y) x-y,flights['arr_delay'],flights['dep_delay'],mc.cores=8))\n",
    "}\n",
    "\n",
    "ftd_mcmapply <- flighttimedelay_mcmapply(flights)\n",
    "                  \n",
    "ftd_mcmapply <- c(ftd_mcmapply)\n",
    "\n",
    "all.equal(ftd_noapply,ftd_mcmapply)"
   ]
  },
  {
   "cell_type": "code",
   "execution_count": 118,
   "metadata": {},
   "outputs": [
    {
     "name": "stdout",
     "output_type": "stream",
     "text": [
      "Unit: microseconds\n",
      "                              expr      min        lq      mean    median\n",
      "  flighttimedelay_noapply(flights)  275.739  474.4805  571.8502  504.6735\n",
      "   flighttimedelay_mapply(flights) 1671.309 1870.6445 2239.1460 1982.0490\n",
      " flighttimedelay_mcmapply(flights) 1700.173 1931.5640 2424.2743 2001.5530\n",
      "       uq      max neval\n",
      "  538.682 2762.096   100\n",
      " 2079.828 4787.532   100\n",
      " 2212.890 5511.984   100\n"
     ]
    }
   ],
   "source": [
    "print(microbenchmark(\n",
    "    flighttimedelay_noapply(flights),\n",
    "    flighttimedelay_mapply(flights),\n",
    "    flighttimedelay_mcmapply(flights)\n",
    "))"
   ]
  },
  {
   "cell_type": "code",
   "execution_count": null,
   "metadata": {},
   "outputs": [],
   "source": []
  }
 ],
 "metadata": {
  "kernelspec": {
   "display_name": "R",
   "language": "R",
   "name": "ir"
  },
  "language_info": {
   "codemirror_mode": "r",
   "file_extension": ".r",
   "mimetype": "text/x-r-source",
   "name": "R",
   "pygments_lexer": "r",
   "version": "3.4.4"
  }
 },
 "nbformat": 4,
 "nbformat_minor": 2
}

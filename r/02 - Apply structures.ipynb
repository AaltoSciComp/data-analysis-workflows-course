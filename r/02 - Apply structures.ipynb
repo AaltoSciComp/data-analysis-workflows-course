{
 "cells": [
  {
   "cell_type": "markdown",
   "metadata": {},
   "source": [
    "# Apply structures\n",
    "\n",
    "The purpose of this lesson is to familiarize you to coding with apply structures in R.\n",
    "\n",
    "It is well known in the R programming community that for-loops are slow in R. As an example lets run a for-loop "
   ]
  },
  {
   "cell_type": "code",
   "execution_count": null,
   "metadata": {},
   "outputs": [],
   "source": [
    "library(microbenchmark)\n",
    "nrows = 100\n",
    "data <- data.frame(\n",
    "    'var1'=rnorm(nrows),\n",
    "    'var2'=rnorm(nrows),\n",
    "    'var3'=rnorm(nrows),\n",
    "    'var4'=rnorm(nrows)\n",
    ")\n",
    "head(data)"
   ]
  },
  {
   "cell_type": "code",
   "execution_count": null,
   "metadata": {},
   "outputs": [],
   "source": []
  },
  {
   "cell_type": "code",
   "execution_count": null,
   "metadata": {},
   "outputs": [],
   "source": []
  }
 ],
 "metadata": {
  "kernelspec": {
   "display_name": "R",
   "language": "R",
   "name": "ir"
  },
  "language_info": {
   "codemirror_mode": "r",
   "file_extension": ".r",
   "mimetype": "text/x-r-source",
   "name": "R",
   "pygments_lexer": "r",
   "version": "3.4.4"
  }
 },
 "nbformat": 4,
 "nbformat_minor": 2
}

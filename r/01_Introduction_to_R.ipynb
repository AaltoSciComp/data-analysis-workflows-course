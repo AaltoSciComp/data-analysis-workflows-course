{
 "cells": [
  {
   "cell_type": "markdown",
   "metadata": {},
   "source": [
    "# Introduction\n",
    "\n",
    "## Goals\n",
    "\n",
    "By the end of this course, you should be able to\n",
    "- Do basic data analysis using R or Python/Pandas, with a special emphasis on\n",
    "  - triton, or other similar HPC cluster environments\n",
    "  - workflows, I/O strategies etc. that work on HPC clusters.\n",
    "\n",
    "What this course is NOT:\n",
    "- A basic course in programming. We don't expect you to have prior knowledge of R or Python, but some programming experience is required.\n",
    "- A basic course in statistics / machine learning. As part of the course we'll do some simple stuff, but we expect that you either understand the statistics from before or learn it on your own.\n",
    "\n",
    "Topics that we're going to cover on the R part of the course:\n",
    "- The modern Tinyverse approach to easy data analysis.\n",
    "- The tibble data structure, and how it relates to other common data structures.\n",
    "- Verbs, maps and pipes that you can use to organize and modify your data. \n",
    "- Visualizing your results with ggplot2.\n",
    "- CSV / feather data handling\n",
    "- Some advanced Base-R tricks and functions from the apply-family."
   ]
  },
  {
   "cell_type": "markdown",
   "metadata": {},
   "source": [
    "## Note about syntax\n",
    "\n",
    "Anything written like `this` refers to R-code. Depending on context it might be a type or a function."
   ]
  },
  {
   "cell_type": "markdown",
   "metadata": {},
   "source": [
    "\n",
    "## R as a language\n",
    "\n",
    "R is nowadays one of the most popular data science languages. [1](http://r4stats.com/articles/popularity/) \n",
    "\n",
    "In Stack Overflow it is the 7th most popular language and neck to neck with C. [2](https://stackoverflow.blog/2017/10/10/impressive-growth-r/)\n",
    "\n",
    "Compared to its older competitors like SPSS or SAS it is way more usable, but it is not as generic as e.g. Python.\n",
    "\n",
    "So use R for what it has been designed for - data analysis.\n",
    "\n",
    "Nowadays there are three popular styles of doing data analysis in R:\n",
    "1. **Base R** - using objects (`vector`,`list`,`factor`,`data.frame`), functions (`apply`) and operators (`[ ]`,`[[ ]]`) of the base R packages\n",
    "2. **Tidyverse** - using objects (`tibble`), functions (`filter`,`select`,`mutate`,`map`) and operators (`%>%`) from [Tidyverse](https://www.tidyverse.org/) collection of packages.\n",
    "3. **data.table** - using objects (`data.table`), functions (`set`) and operators (`[ ] `) of [data.table](http://r-datatable.com/) in conjunction with previous packages. \n",
    "\n",
    "Base R can is (at least in my opinion) similar to Matlab/Fortran in its style. It is very permissive which enables very good solutions, but also very bad solutions.\n",
    "\n",
    "Tidyverse is centered around the idea of certain base operations and code structures that are most frequent in data analysis. By making those structures easily readable and understandable it is easy to generate efficient code. We'll be doing this quite a bit here.\n",
    "\n",
    "data.table is an extension to base R's `data.frame`, but the syntax and underlying properties are written in a way that it can handle huge (up and beyond your RAM) datasets. We'll look a bit into it, but if you at some point need to work with big data, do remember that it exists."
   ]
  },
  {
   "cell_type": "markdown",
   "metadata": {},
   "source": [
    "## Packages\n",
    "\n",
    "R has a wide variety of libraries supplied in the R-CRAN-network (Comprehensive R Archive Network). Installing these libraries is usually as simple as running:\n",
    "\n",
    "`install.package(\"packagename\")`\n",
    "\n",
    "Loading these libraries is done with:\n",
    "\n",
    "`library(packagename)`\n",
    "\n",
    "In this course we will be using packages from R [Tidyverse](https://www.tidyverse.org/)."
   ]
  },
  {
   "cell_type": "markdown",
   "metadata": {},
   "source": [
    "Let's try installing package `ggplot2movies`.\n",
    "This needs to be run from terminal or rstudio\n",
    "`install.packages('ggplot2movies', repos=\"http://cran.r-project.org\")`"
   ]
  },
  {
   "cell_type": "markdown",
   "metadata": {},
   "source": [
    "## Imporant references\n",
    "\n",
    "There's lots of good R material available free on the internet. I highly recommend [R for Data Science](http://r4ds.had.co.nz/) and [Efficient R programming](https://csgillespie.github.io/efficientR/).\n",
    "\n",
    "When it comes to stuff related to the Tidyverse, the best options are googling or going to [its webpage](https://www.tidyverse.org/) and clicking on the honeycomb structure to get information on packages that supply the extensions.\n",
    "\n",
    "Good keywords when searching information in the internet are:\n",
    "- \"tidyverse\" for tidyverse packages as a whole\n",
    "- \"dplyr\" for verbs that we'll be using\n",
    "- \"ggplot2\" for the versatile plotting library\n",
    "- \"tibble\" to get information on the `data.frame` extension\n",
    "- \"purrr\" for mapping functions that can be used to run functions on the data\n",
    "- \"tidyr\" for reshaping the data\n",
    "- \"readr\" for data reading functions\n",
    "\n",
    "Usually something like \"R *keyword i want to do this*\" gives a good answer from stackoverflow etc."
   ]
  },
  {
   "cell_type": "markdown",
   "metadata": {},
   "source": [
    "# Let's get started\n",
    "\n",
    "## Simple example\n",
    "\n",
    "Let's load up the Tidyverse and analyze dataset `movies` from package `ggplot2movies` that has [IMDB](https://www.imdb.com) data from some 60,000 movies."
   ]
  },
  {
   "cell_type": "code",
   "execution_count": 1,
   "metadata": {},
   "outputs": [
    {
     "name": "stderr",
     "output_type": "stream",
     "text": [
      "── \u001b[1mAttaching packages\u001b[22m ─────────────────────────────────────── tidyverse 1.2.1 ──\n",
      "\n",
      "\u001b[32m✔\u001b[39m \u001b[34mggplot2\u001b[39m 3.2.0     \u001b[32m✔\u001b[39m \u001b[34mpurrr  \u001b[39m 0.3.2\n",
      "\u001b[32m✔\u001b[39m \u001b[34mtibble \u001b[39m 2.1.3     \u001b[32m✔\u001b[39m \u001b[34mdplyr  \u001b[39m 0.8.3\n",
      "\u001b[32m✔\u001b[39m \u001b[34mtidyr  \u001b[39m 0.8.3     \u001b[32m✔\u001b[39m \u001b[34mstringr\u001b[39m 1.4.0\n",
      "\u001b[32m✔\u001b[39m \u001b[34mreadr  \u001b[39m 1.3.1     \u001b[32m✔\u001b[39m \u001b[34mforcats\u001b[39m 0.4.0\n",
      "\n",
      "── \u001b[1mConflicts\u001b[22m ────────────────────────────────────────── tidyverse_conflicts() ──\n",
      "\u001b[31m✖\u001b[39m \u001b[34mdplyr\u001b[39m::\u001b[32mfilter()\u001b[39m masks \u001b[34mstats\u001b[39m::filter()\n",
      "\u001b[31m✖\u001b[39m \u001b[34mdplyr\u001b[39m::\u001b[32mlag()\u001b[39m    masks \u001b[34mstats\u001b[39m::lag()\n",
      "\n"
     ]
    }
   ],
   "source": [
    "library(tidyverse)\n",
    "\n",
    "data('movies',package='ggplot2movies')"
   ]
  },
  {
   "cell_type": "code",
   "execution_count": 23,
   "metadata": {},
   "outputs": [
    {
     "data": {
      "text/html": [
       "<table>\n",
       "<caption>A tibble: 6 × 24</caption>\n",
       "<thead>\n",
       "\t<tr><th scope=col>title</th><th scope=col>year</th><th scope=col>length</th><th scope=col>budget</th><th scope=col>rating</th><th scope=col>votes</th><th scope=col>r1</th><th scope=col>r2</th><th scope=col>r3</th><th scope=col>r4</th><th scope=col>⋯</th><th scope=col>r9</th><th scope=col>r10</th><th scope=col>mpaa</th><th scope=col>Action</th><th scope=col>Animation</th><th scope=col>Comedy</th><th scope=col>Drama</th><th scope=col>Documentary</th><th scope=col>Romance</th><th scope=col>Short</th></tr>\n",
       "\t<tr><th scope=col>&lt;chr&gt;</th><th scope=col>&lt;int&gt;</th><th scope=col>&lt;int&gt;</th><th scope=col>&lt;int&gt;</th><th scope=col>&lt;dbl&gt;</th><th scope=col>&lt;int&gt;</th><th scope=col>&lt;dbl&gt;</th><th scope=col>&lt;dbl&gt;</th><th scope=col>&lt;dbl&gt;</th><th scope=col>&lt;dbl&gt;</th><th scope=col>⋯</th><th scope=col>&lt;dbl&gt;</th><th scope=col>&lt;dbl&gt;</th><th scope=col>&lt;chr&gt;</th><th scope=col>&lt;int&gt;</th><th scope=col>&lt;int&gt;</th><th scope=col>&lt;int&gt;</th><th scope=col>&lt;int&gt;</th><th scope=col>&lt;int&gt;</th><th scope=col>&lt;int&gt;</th><th scope=col>&lt;int&gt;</th></tr>\n",
       "</thead>\n",
       "<tbody>\n",
       "\t<tr><td>$                       </td><td>1971</td><td>121</td><td>NA</td><td>6.4</td><td>348</td><td> 4.5</td><td> 4.5</td><td>4.5</td><td> 4.5</td><td>⋯</td><td> 4.5</td><td> 4.5</td><td></td><td>0</td><td>0</td><td>1</td><td>1</td><td>0</td><td>0</td><td>0</td></tr>\n",
       "\t<tr><td>$1000 a Touchdown       </td><td>1939</td><td> 71</td><td>NA</td><td>6.0</td><td> 20</td><td> 0.0</td><td>14.5</td><td>4.5</td><td>24.5</td><td>⋯</td><td> 4.5</td><td>14.5</td><td></td><td>0</td><td>0</td><td>1</td><td>0</td><td>0</td><td>0</td><td>0</td></tr>\n",
       "\t<tr><td>$21 a Day Once a Month  </td><td>1941</td><td>  7</td><td>NA</td><td>8.2</td><td>  5</td><td> 0.0</td><td> 0.0</td><td>0.0</td><td> 0.0</td><td>⋯</td><td>24.5</td><td>24.5</td><td></td><td>0</td><td>1</td><td>0</td><td>0</td><td>0</td><td>0</td><td>1</td></tr>\n",
       "\t<tr><td>$40,000                 </td><td>1996</td><td> 70</td><td>NA</td><td>8.2</td><td>  6</td><td>14.5</td><td> 0.0</td><td>0.0</td><td> 0.0</td><td>⋯</td><td>34.5</td><td>45.5</td><td></td><td>0</td><td>0</td><td>1</td><td>0</td><td>0</td><td>0</td><td>0</td></tr>\n",
       "\t<tr><td>$50,000 Climax Show, The</td><td>1975</td><td> 71</td><td>NA</td><td>3.4</td><td> 17</td><td>24.5</td><td> 4.5</td><td>0.0</td><td>14.5</td><td>⋯</td><td> 0.0</td><td>24.5</td><td></td><td>0</td><td>0</td><td>0</td><td>0</td><td>0</td><td>0</td><td>0</td></tr>\n",
       "\t<tr><td>$pent                   </td><td>2000</td><td> 91</td><td>NA</td><td>4.3</td><td> 45</td><td> 4.5</td><td> 4.5</td><td>4.5</td><td>14.5</td><td>⋯</td><td>14.5</td><td>14.5</td><td></td><td>0</td><td>0</td><td>0</td><td>1</td><td>0</td><td>0</td><td>0</td></tr>\n",
       "</tbody>\n",
       "</table>\n"
      ],
      "text/latex": [
       "A tibble: 6 × 24\n",
       "\\begin{tabular}{r|llllllllllllllllllllllll}\n",
       " title & year & length & budget & rating & votes & r1 & r2 & r3 & r4 & r5 & r6 & r7 & r8 & r9 & r10 & mpaa & Action & Animation & Comedy & Drama & Documentary & Romance & Short\\\\\n",
       " <chr> & <int> & <int> & <int> & <dbl> & <int> & <dbl> & <dbl> & <dbl> & <dbl> & <dbl> & <dbl> & <dbl> & <dbl> & <dbl> & <dbl> & <chr> & <int> & <int> & <int> & <int> & <int> & <int> & <int>\\\\\n",
       "\\hline\n",
       "\t \\$                        & 1971 & 121 & NA & 6.4 & 348 &  4.5 &  4.5 & 4.5 &  4.5 & 14.5 & 24.5 & 24.5 & 14.5 &  4.5 &  4.5 &  & 0 & 0 & 1 & 1 & 0 & 0 & 0\\\\\n",
       "\t \\$1000 a Touchdown        & 1939 &  71 & NA & 6.0 &  20 &  0.0 & 14.5 & 4.5 & 24.5 & 14.5 & 14.5 & 14.5 &  4.5 &  4.5 & 14.5 &  & 0 & 0 & 1 & 0 & 0 & 0 & 0\\\\\n",
       "\t \\$21 a Day Once a Month   & 1941 &   7 & NA & 8.2 &   5 &  0.0 &  0.0 & 0.0 &  0.0 &  0.0 & 24.5 &  0.0 & 44.5 & 24.5 & 24.5 &  & 0 & 1 & 0 & 0 & 0 & 0 & 1\\\\\n",
       "\t \\$40,000                  & 1996 &  70 & NA & 8.2 &   6 & 14.5 &  0.0 & 0.0 &  0.0 &  0.0 &  0.0 &  0.0 &  0.0 & 34.5 & 45.5 &  & 0 & 0 & 1 & 0 & 0 & 0 & 0\\\\\n",
       "\t \\$50,000 Climax Show, The & 1975 &  71 & NA & 3.4 &  17 & 24.5 &  4.5 & 0.0 & 14.5 & 14.5 &  4.5 &  0.0 &  0.0 &  0.0 & 24.5 &  & 0 & 0 & 0 & 0 & 0 & 0 & 0\\\\\n",
       "\t \\$pent                    & 2000 &  91 & NA & 4.3 &  45 &  4.5 &  4.5 & 4.5 & 14.5 & 14.5 & 14.5 &  4.5 &  4.5 & 14.5 & 14.5 &  & 0 & 0 & 0 & 1 & 0 & 0 & 0\\\\\n",
       "\\end{tabular}\n"
      ],
      "text/markdown": [
       "\n",
       "A tibble: 6 × 24\n",
       "\n",
       "| title &lt;chr&gt; | year &lt;int&gt; | length &lt;int&gt; | budget &lt;int&gt; | rating &lt;dbl&gt; | votes &lt;int&gt; | r1 &lt;dbl&gt; | r2 &lt;dbl&gt; | r3 &lt;dbl&gt; | r4 &lt;dbl&gt; | ⋯ ⋯ | r9 &lt;dbl&gt; | r10 &lt;dbl&gt; | mpaa &lt;chr&gt; | Action &lt;int&gt; | Animation &lt;int&gt; | Comedy &lt;int&gt; | Drama &lt;int&gt; | Documentary &lt;int&gt; | Romance &lt;int&gt; | Short &lt;int&gt; |\n",
       "|---|---|---|---|---|---|---|---|---|---|---|---|---|---|---|---|---|---|---|---|---|\n",
       "| $                        | 1971 | 121 | NA | 6.4 | 348 |  4.5 |  4.5 | 4.5 |  4.5 | ⋯ |  4.5 |  4.5 | <!----> | 0 | 0 | 1 | 1 | 0 | 0 | 0 |\n",
       "| $1000 a Touchdown        | 1939 |  71 | NA | 6.0 |  20 |  0.0 | 14.5 | 4.5 | 24.5 | ⋯ |  4.5 | 14.5 | <!----> | 0 | 0 | 1 | 0 | 0 | 0 | 0 |\n",
       "| $21 a Day Once a Month   | 1941 |   7 | NA | 8.2 |   5 |  0.0 |  0.0 | 0.0 |  0.0 | ⋯ | 24.5 | 24.5 | <!----> | 0 | 1 | 0 | 0 | 0 | 0 | 1 |\n",
       "| $40,000                  | 1996 |  70 | NA | 8.2 |   6 | 14.5 |  0.0 | 0.0 |  0.0 | ⋯ | 34.5 | 45.5 | <!----> | 0 | 0 | 1 | 0 | 0 | 0 | 0 |\n",
       "| $50,000 Climax Show, The | 1975 |  71 | NA | 3.4 |  17 | 24.5 |  4.5 | 0.0 | 14.5 | ⋯ |  0.0 | 24.5 | <!----> | 0 | 0 | 0 | 0 | 0 | 0 | 0 |\n",
       "| $pent                    | 2000 |  91 | NA | 4.3 |  45 |  4.5 |  4.5 | 4.5 | 14.5 | ⋯ | 14.5 | 14.5 | <!----> | 0 | 0 | 0 | 1 | 0 | 0 | 0 |\n",
       "\n"
      ],
      "text/plain": [
       "  title                    year length budget rating votes r1   r2   r3  r4   ⋯\n",
       "1 $                        1971 121    NA     6.4    348    4.5  4.5 4.5  4.5 ⋯\n",
       "2 $1000 a Touchdown        1939  71    NA     6.0     20    0.0 14.5 4.5 24.5 ⋯\n",
       "3 $21 a Day Once a Month   1941   7    NA     8.2      5    0.0  0.0 0.0  0.0 ⋯\n",
       "4 $40,000                  1996  70    NA     8.2      6   14.5  0.0 0.0  0.0 ⋯\n",
       "5 $50,000 Climax Show, The 1975  71    NA     3.4     17   24.5  4.5 0.0 14.5 ⋯\n",
       "6 $pent                    2000  91    NA     4.3     45    4.5  4.5 4.5 14.5 ⋯\n",
       "  r9   r10  mpaa Action Animation Comedy Drama Documentary Romance Short\n",
       "1  4.5  4.5      0      0         1      1     0           0       0    \n",
       "2  4.5 14.5      0      0         1      0     0           0       0    \n",
       "3 24.5 24.5      0      1         0      0     0           0       1    \n",
       "4 34.5 45.5      0      0         1      0     0           0       0    \n",
       "5  0.0 24.5      0      0         0      0     0           0       0    \n",
       "6 14.5 14.5      0      0         0      1     0           0       0    "
      ]
     },
     "metadata": {},
     "output_type": "display_data"
    },
    {
     "data": {
      "text/html": [
       "24"
      ],
      "text/latex": [
       "24"
      ],
      "text/markdown": [
       "24"
      ],
      "text/plain": [
       "[1] 24"
      ]
     },
     "metadata": {},
     "output_type": "display_data"
    },
    {
     "data": {
      "text/html": [
       "58788"
      ],
      "text/latex": [
       "58788"
      ],
      "text/markdown": [
       "58788"
      ],
      "text/plain": [
       "[1] 58788"
      ]
     },
     "metadata": {},
     "output_type": "display_data"
    },
    {
     "data": {
      "text/html": [
       "<ol class=list-inline>\n",
       "\t<li>58788</li>\n",
       "\t<li>24</li>\n",
       "</ol>\n"
      ],
      "text/latex": [
       "\\begin{enumerate*}\n",
       "\\item 58788\n",
       "\\item 24\n",
       "\\end{enumerate*}\n"
      ],
      "text/markdown": [
       "1. 58788\n",
       "2. 24\n",
       "\n",
       "\n"
      ],
      "text/plain": [
       "[1] 58788    24"
      ]
     },
     "metadata": {},
     "output_type": "display_data"
    },
    {
     "name": "stdout",
     "output_type": "stream",
     "text": [
      "Classes ‘tbl_df’, ‘tbl’ and 'data.frame':\t58788 obs. of  24 variables:\n",
      " $ title      : chr  \"$\" \"$1000 a Touchdown\" \"$21 a Day Once a Month\" \"$40,000\" ...\n",
      " $ year       : int  1971 1939 1941 1996 1975 2000 2002 2002 1987 1917 ...\n",
      " $ length     : int  121 71 7 70 71 91 93 25 97 61 ...\n",
      " $ budget     : int  NA NA NA NA NA NA NA NA NA NA ...\n",
      " $ rating     : num  6.4 6 8.2 8.2 3.4 4.3 5.3 6.7 6.6 6 ...\n",
      " $ votes      : int  348 20 5 6 17 45 200 24 18 51 ...\n",
      " $ r1         : num  4.5 0 0 14.5 24.5 4.5 4.5 4.5 4.5 4.5 ...\n",
      " $ r2         : num  4.5 14.5 0 0 4.5 4.5 0 4.5 4.5 0 ...\n",
      " $ r3         : num  4.5 4.5 0 0 0 4.5 4.5 4.5 4.5 4.5 ...\n",
      " $ r4         : num  4.5 24.5 0 0 14.5 14.5 4.5 4.5 0 4.5 ...\n",
      " $ r5         : num  14.5 14.5 0 0 14.5 14.5 24.5 4.5 0 4.5 ...\n",
      " $ r6         : num  24.5 14.5 24.5 0 4.5 14.5 24.5 14.5 0 44.5 ...\n",
      " $ r7         : num  24.5 14.5 0 0 0 4.5 14.5 14.5 34.5 14.5 ...\n",
      " $ r8         : num  14.5 4.5 44.5 0 0 4.5 4.5 14.5 14.5 4.5 ...\n",
      " $ r9         : num  4.5 4.5 24.5 34.5 0 14.5 4.5 4.5 4.5 4.5 ...\n",
      " $ r10        : num  4.5 14.5 24.5 45.5 24.5 14.5 14.5 14.5 24.5 4.5 ...\n",
      " $ mpaa       : chr  \"\" \"\" \"\" \"\" ...\n",
      " $ Action     : int  0 0 0 0 0 0 1 0 0 0 ...\n",
      " $ Animation  : int  0 0 1 0 0 0 0 0 0 0 ...\n",
      " $ Comedy     : int  1 1 0 1 0 0 0 0 0 0 ...\n",
      " $ Drama      : int  1 0 0 0 0 1 1 0 1 0 ...\n",
      " $ Documentary: int  0 0 0 0 0 0 0 1 0 0 ...\n",
      " $ Romance    : int  0 0 0 0 0 0 0 0 0 0 ...\n",
      " $ Short      : int  0 0 1 0 0 0 0 1 0 0 ...\n"
     ]
    },
    {
     "data": {
      "text/html": [
       "TRUE"
      ],
      "text/latex": [
       "TRUE"
      ],
      "text/markdown": [
       "TRUE"
      ],
      "text/plain": [
       "[1] TRUE"
      ]
     },
     "metadata": {},
     "output_type": "display_data"
    }
   ],
   "source": [
    "head(movies)\n",
    "ncol(movies)\n",
    "nrow(movies)\n",
    "dim(movies)\n",
    "str(movies)\n",
    "\n",
    "is_tibble(movies)"
   ]
  },
  {
   "cell_type": "markdown",
   "metadata": {},
   "source": [
    "Let's break the previous commands down:\n",
    "\n",
    "- `data`-command can be used to load data from `package`\n",
    "- `head` shows the first rows of data\n",
    "- `ncol` and `nrow` can be used to get the number of columns and rows respectively\n",
    "- `dim` can be used to get the dimensions of the data\n",
    "- `str` (structure) shows a lot of information on how the data is structured\n",
    "- `is_X` (previously `is.X`) can be used to verify that the type of the object is `X`.\n",
    "\n",
    "From the output of `str` you can see few things:\n",
    "- The object `movies` is a `tbl` (`tibble`), which is an extension of `data.frame`.\n",
    "- Each row of the `data.frame` is an *observation* while each *column* is a variable. This choice of which axis is an observation and which is variable is not arbitrary.\n",
    "- Each column of the `data.frame` is a `vector` with defined type and length. \n",
    "\n",
    "Do note that the data is expected to fit a square form with n forws and m columns.\n",
    "\n",
    "I liked [The Matrix](http://www.imdb.com/title/tt0133093/), let's see if I was alone in my opinion."
   ]
  },
  {
   "cell_type": "code",
   "execution_count": 39,
   "metadata": {},
   "outputs": [
    {
     "data": {
      "image/png": "[encoded data removed]",
      "text/plain": [
       "plot without title"
      ]
     },
     "metadata": {
      "image/png": {
       "height": 420,
       "width": 420
      },
      "text/plain": {
       "height": 420,
       "width": 420
      }
     },
     "output_type": "display_data"
    }
   ],
   "source": [
    "movies %>%\n",
    "    filter(title == 'Matrix, The') %>%\n",
    "    select(r1:r10) %>%\n",
    "    gather(key='rating',value='percentage',factor_key=T) %>%\n",
    "    mutate(rating=factor(as.integer(rating))) %>%\n",
    "    ggplot(aes(x=rating,y=percentage)) +\n",
    "            geom_col() +\n",
    "            ggtitle('Ratings distribution for movie \"The Matrix\"') +\n",
    "            xlab('Rating') +\n",
    "            ylab('Percentage of ratings')"
   ]
  },
  {
   "cell_type": "markdown",
   "metadata": {},
   "source": [
    "Seems pretty popular.\n",
    "\n",
    "There's a lot to unpack on in the example. Lets go through it one step at a time.\n",
    "\n",
    "The Matrix had its title written as \"Matrix, The\" instead of \"The Matrix\". If you do not know the formatting used in the dataset you might want to find all movies with \"Matrix\" in the title.\n",
    "\n",
    "To do this we need to use the `filter` function, `str_detect`-function and the pipe operator `%>%`."
   ]
  },
  {
   "cell_type": "code",
   "execution_count": 4,
   "metadata": {},
   "outputs": [
    {
     "data": {
      "text/html": [
       "<table>\n",
       "<caption>A tibble: 5 × 24</caption>\n",
       "<thead>\n",
       "\t<tr><th scope=col>title</th><th scope=col>year</th><th scope=col>length</th><th scope=col>budget</th><th scope=col>rating</th><th scope=col>votes</th><th scope=col>r1</th><th scope=col>r2</th><th scope=col>r3</th><th scope=col>r4</th><th scope=col>⋯</th><th scope=col>r9</th><th scope=col>r10</th><th scope=col>mpaa</th><th scope=col>Action</th><th scope=col>Animation</th><th scope=col>Comedy</th><th scope=col>Drama</th><th scope=col>Documentary</th><th scope=col>Romance</th><th scope=col>Short</th></tr>\n",
       "\t<tr><th scope=col>&lt;chr&gt;</th><th scope=col>&lt;int&gt;</th><th scope=col>&lt;int&gt;</th><th scope=col>&lt;int&gt;</th><th scope=col>&lt;dbl&gt;</th><th scope=col>&lt;int&gt;</th><th scope=col>&lt;dbl&gt;</th><th scope=col>&lt;dbl&gt;</th><th scope=col>&lt;dbl&gt;</th><th scope=col>&lt;dbl&gt;</th><th scope=col>⋯</th><th scope=col>&lt;dbl&gt;</th><th scope=col>&lt;dbl&gt;</th><th scope=col>&lt;chr&gt;</th><th scope=col>&lt;int&gt;</th><th scope=col>&lt;int&gt;</th><th scope=col>&lt;int&gt;</th><th scope=col>&lt;int&gt;</th><th scope=col>&lt;int&gt;</th><th scope=col>&lt;int&gt;</th><th scope=col>&lt;int&gt;</th></tr>\n",
       "</thead>\n",
       "<tbody>\n",
       "\t<tr><td>Matrix Reloaded, The    </td><td>2003</td><td>138</td><td>127000000</td><td>7.1</td><td> 57225</td><td> 4.5</td><td>4.5</td><td> 4.5</td><td> 4.5</td><td>⋯</td><td>14.5</td><td>14.5</td><td>R</td><td>1</td><td>0</td><td>0</td><td>0</td><td>0</td><td>0</td><td>0</td></tr>\n",
       "\t<tr><td>Matrix Revolutions, The </td><td>2003</td><td>125</td><td>110000000</td><td>6.3</td><td> 40058</td><td> 4.5</td><td>4.5</td><td> 4.5</td><td> 4.5</td><td>⋯</td><td> 4.5</td><td>14.5</td><td>R</td><td>1</td><td>0</td><td>0</td><td>0</td><td>0</td><td>0</td><td>0</td></tr>\n",
       "\t<tr><td>Matrix, The             </td><td>1999</td><td>136</td><td> 63000000</td><td>8.5</td><td>143853</td><td> 4.5</td><td>4.5</td><td> 4.5</td><td> 4.5</td><td>⋯</td><td>24.5</td><td>34.5</td><td>R</td><td>1</td><td>0</td><td>0</td><td>0</td><td>0</td><td>0</td><td>0</td></tr>\n",
       "\t<tr><td>Sex Files: Sexual Matrix</td><td>1999</td><td> 79</td><td>       NA</td><td>3.2</td><td>    52</td><td>24.5</td><td>4.5</td><td>14.5</td><td>14.5</td><td>⋯</td><td> 4.5</td><td> 4.5</td><td>R</td><td>0</td><td>0</td><td>0</td><td>1</td><td>0</td><td>0</td><td>0</td></tr>\n",
       "\t<tr><td>That 70's Matrix        </td><td>2001</td><td> 35</td><td>     1200</td><td>3.9</td><td>    24</td><td>34.5</td><td>4.5</td><td> 0.0</td><td> 4.5</td><td>⋯</td><td> 0.0</td><td>24.5</td><td> </td><td>1</td><td>0</td><td>1</td><td>0</td><td>0</td><td>0</td><td>1</td></tr>\n",
       "</tbody>\n",
       "</table>\n"
      ],
      "text/latex": [
       "A tibble: 5 × 24\n",
       "\\begin{tabular}{r|llllllllllllllllllllllll}\n",
       " title & year & length & budget & rating & votes & r1 & r2 & r3 & r4 & r5 & r6 & r7 & r8 & r9 & r10 & mpaa & Action & Animation & Comedy & Drama & Documentary & Romance & Short\\\\\n",
       " <chr> & <int> & <int> & <int> & <dbl> & <int> & <dbl> & <dbl> & <dbl> & <dbl> & <dbl> & <dbl> & <dbl> & <dbl> & <dbl> & <dbl> & <chr> & <int> & <int> & <int> & <int> & <int> & <int> & <int>\\\\\n",
       "\\hline\n",
       "\t Matrix Reloaded, The     & 2003 & 138 & 127000000 & 7.1 &  57225 &  4.5 & 4.5 &  4.5 &  4.5 &  4.5 & 14.5 & 14.5 & 14.5 & 14.5 & 14.5 & R & 1 & 0 & 0 & 0 & 0 & 0 & 0\\\\\n",
       "\t Matrix Revolutions, The  & 2003 & 125 & 110000000 & 6.3 &  40058 &  4.5 & 4.5 &  4.5 &  4.5 &  4.5 & 14.5 & 14.5 & 14.5 &  4.5 & 14.5 & R & 1 & 0 & 0 & 0 & 0 & 0 & 0\\\\\n",
       "\t Matrix, The              & 1999 & 136 &  63000000 & 8.5 & 143853 &  4.5 & 4.5 &  4.5 &  4.5 &  4.5 &  4.5 &  4.5 & 14.5 & 24.5 & 34.5 & R & 1 & 0 & 0 & 0 & 0 & 0 & 0\\\\\n",
       "\t Sex Files: Sexual Matrix & 1999 &  79 &        NA & 3.2 &     52 & 24.5 & 4.5 & 14.5 & 14.5 & 24.5 &  4.5 &  0.0 &  4.5 &  4.5 &  4.5 & R & 0 & 0 & 0 & 1 & 0 & 0 & 0\\\\\n",
       "\t That 70's Matrix         & 2001 &  35 &      1200 & 3.9 &     24 & 34.5 & 4.5 &  0.0 &  4.5 & 24.5 &  4.5 &  4.5 &  0.0 &  0.0 & 24.5 &   & 1 & 0 & 1 & 0 & 0 & 0 & 1\\\\\n",
       "\\end{tabular}\n"
      ],
      "text/markdown": [
       "\n",
       "A tibble: 5 × 24\n",
       "\n",
       "| title &lt;chr&gt; | year &lt;int&gt; | length &lt;int&gt; | budget &lt;int&gt; | rating &lt;dbl&gt; | votes &lt;int&gt; | r1 &lt;dbl&gt; | r2 &lt;dbl&gt; | r3 &lt;dbl&gt; | r4 &lt;dbl&gt; | ⋯ ⋯ | r9 &lt;dbl&gt; | r10 &lt;dbl&gt; | mpaa &lt;chr&gt; | Action &lt;int&gt; | Animation &lt;int&gt; | Comedy &lt;int&gt; | Drama &lt;int&gt; | Documentary &lt;int&gt; | Romance &lt;int&gt; | Short &lt;int&gt; |\n",
       "|---|---|---|---|---|---|---|---|---|---|---|---|---|---|---|---|---|---|---|---|---|\n",
       "| Matrix Reloaded, The     | 2003 | 138 | 127000000 | 7.1 |  57225 |  4.5 | 4.5 |  4.5 |  4.5 | ⋯ | 14.5 | 14.5 | R | 1 | 0 | 0 | 0 | 0 | 0 | 0 |\n",
       "| Matrix Revolutions, The  | 2003 | 125 | 110000000 | 6.3 |  40058 |  4.5 | 4.5 |  4.5 |  4.5 | ⋯ |  4.5 | 14.5 | R | 1 | 0 | 0 | 0 | 0 | 0 | 0 |\n",
       "| Matrix, The              | 1999 | 136 |  63000000 | 8.5 | 143853 |  4.5 | 4.5 |  4.5 |  4.5 | ⋯ | 24.5 | 34.5 | R | 1 | 0 | 0 | 0 | 0 | 0 | 0 |\n",
       "| Sex Files: Sexual Matrix | 1999 |  79 |        NA | 3.2 |     52 | 24.5 | 4.5 | 14.5 | 14.5 | ⋯ |  4.5 |  4.5 | R | 0 | 0 | 0 | 1 | 0 | 0 | 0 |\n",
       "| That 70's Matrix         | 2001 |  35 |      1200 | 3.9 |     24 | 34.5 | 4.5 |  0.0 |  4.5 | ⋯ |  0.0 | 24.5 | <!----> | 1 | 0 | 1 | 0 | 0 | 0 | 1 |\n",
       "\n"
      ],
      "text/plain": [
       "  title                    year length budget    rating votes  r1   r2  r3  \n",
       "1 Matrix Reloaded, The     2003 138    127000000 7.1     57225  4.5 4.5  4.5\n",
       "2 Matrix Revolutions, The  2003 125    110000000 6.3     40058  4.5 4.5  4.5\n",
       "3 Matrix, The              1999 136     63000000 8.5    143853  4.5 4.5  4.5\n",
       "4 Sex Files: Sexual Matrix 1999  79           NA 3.2        52 24.5 4.5 14.5\n",
       "5 That 70's Matrix         2001  35         1200 3.9        24 34.5 4.5  0.0\n",
       "  r4   ⋯ r9   r10  mpaa Action Animation Comedy Drama Documentary Romance Short\n",
       "1  4.5 ⋯ 14.5 14.5 R    1      0         0      0     0           0       0    \n",
       "2  4.5 ⋯  4.5 14.5 R    1      0         0      0     0           0       0    \n",
       "3  4.5 ⋯ 24.5 34.5 R    1      0         0      0     0           0       0    \n",
       "4 14.5 ⋯  4.5  4.5 R    0      0         0      1     0           0       0    \n",
       "5  4.5 ⋯  0.0 24.5      1      0         1      0     0           0       1    "
      ]
     },
     "metadata": {},
     "output_type": "display_data"
    }
   ],
   "source": [
    "# Find all movies with Matrix in the title\n",
    "movies %>%\n",
    "    filter(str_detect(title,'Matrix'))"
   ]
  },
  {
   "cell_type": "markdown",
   "metadata": {},
   "source": [
    "Pipe `%>%` is used to minimize this kind of code:\n",
    "\n",
    "```r\n",
    "a <- data.frame(...)\n",
    "a_tmp1 <- func1(a)\n",
    "a_tmp2 <- func2(a_tmp1)\n",
    "b <- func3(a_tmp2)\n",
    "```\n",
    "\n",
    "With `tibble` and `%>%` the previous code block would be\n",
    "\n",
    "```r\n",
    "a <- tibble(...)\n",
    "b <- a %>% \n",
    "    func1() %>% \n",
    "    func2() %>%\n",
    "    func3()\n",
    "```\n",
    "\n",
    "Basically the pipe-operator puts output from left side to the first argument of the function call on the right side.\n",
    "\n",
    "In Tidyverse the functions `func1` etc. are called \"verbs\" and they return a `tibble` as their output. Thus the object type of input and output are the same and the pipe can be chained across multiple calls. The pipe structure works with other functions as well, but with Tidyverse verbs you can be certain that the object does not change along the way.\n",
    "\n",
    "Using the pipe produces code that has the data pipeline clearly visible.\n",
    "\n",
    "Here we used the `filter`-verb to filter data based on data's values. The argument it takes is a logical statement about some column or as it is this case, a function call that checks whether \"Matrix\" can be found in column \"title\". (See e.g. this blog post for various filter possibilites [[1]](https://data-se.netlify.com/2016/12/21/dplyr_filter/))\n",
    "\n",
    "Now that we know the exact title let's pick it."
   ]
  },
  {
   "cell_type": "code",
   "execution_count": 5,
   "metadata": {},
   "outputs": [
    {
     "data": {
      "text/html": [
       "<table>\n",
       "<caption>A tibble: 1 × 24</caption>\n",
       "<thead>\n",
       "\t<tr><th scope=col>title</th><th scope=col>year</th><th scope=col>length</th><th scope=col>budget</th><th scope=col>rating</th><th scope=col>votes</th><th scope=col>r1</th><th scope=col>r2</th><th scope=col>r3</th><th scope=col>r4</th><th scope=col>⋯</th><th scope=col>r9</th><th scope=col>r10</th><th scope=col>mpaa</th><th scope=col>Action</th><th scope=col>Animation</th><th scope=col>Comedy</th><th scope=col>Drama</th><th scope=col>Documentary</th><th scope=col>Romance</th><th scope=col>Short</th></tr>\n",
       "\t<tr><th scope=col>&lt;chr&gt;</th><th scope=col>&lt;int&gt;</th><th scope=col>&lt;int&gt;</th><th scope=col>&lt;int&gt;</th><th scope=col>&lt;dbl&gt;</th><th scope=col>&lt;int&gt;</th><th scope=col>&lt;dbl&gt;</th><th scope=col>&lt;dbl&gt;</th><th scope=col>&lt;dbl&gt;</th><th scope=col>&lt;dbl&gt;</th><th scope=col>⋯</th><th scope=col>&lt;dbl&gt;</th><th scope=col>&lt;dbl&gt;</th><th scope=col>&lt;chr&gt;</th><th scope=col>&lt;int&gt;</th><th scope=col>&lt;int&gt;</th><th scope=col>&lt;int&gt;</th><th scope=col>&lt;int&gt;</th><th scope=col>&lt;int&gt;</th><th scope=col>&lt;int&gt;</th><th scope=col>&lt;int&gt;</th></tr>\n",
       "</thead>\n",
       "<tbody>\n",
       "\t<tr><td>Matrix, The</td><td>1999</td><td>136</td><td>63000000</td><td>8.5</td><td>143853</td><td>4.5</td><td>4.5</td><td>4.5</td><td>4.5</td><td>⋯</td><td>24.5</td><td>34.5</td><td>R</td><td>1</td><td>0</td><td>0</td><td>0</td><td>0</td><td>0</td><td>0</td></tr>\n",
       "</tbody>\n",
       "</table>\n"
      ],
      "text/latex": [
       "A tibble: 1 × 24\n",
       "\\begin{tabular}{r|llllllllllllllllllllllll}\n",
       " title & year & length & budget & rating & votes & r1 & r2 & r3 & r4 & r5 & r6 & r7 & r8 & r9 & r10 & mpaa & Action & Animation & Comedy & Drama & Documentary & Romance & Short\\\\\n",
       " <chr> & <int> & <int> & <int> & <dbl> & <int> & <dbl> & <dbl> & <dbl> & <dbl> & <dbl> & <dbl> & <dbl> & <dbl> & <dbl> & <dbl> & <chr> & <int> & <int> & <int> & <int> & <int> & <int> & <int>\\\\\n",
       "\\hline\n",
       "\t Matrix, The & 1999 & 136 & 63000000 & 8.5 & 143853 & 4.5 & 4.5 & 4.5 & 4.5 & 4.5 & 4.5 & 4.5 & 14.5 & 24.5 & 34.5 & R & 1 & 0 & 0 & 0 & 0 & 0 & 0\\\\\n",
       "\\end{tabular}\n"
      ],
      "text/markdown": [
       "\n",
       "A tibble: 1 × 24\n",
       "\n",
       "| title &lt;chr&gt; | year &lt;int&gt; | length &lt;int&gt; | budget &lt;int&gt; | rating &lt;dbl&gt; | votes &lt;int&gt; | r1 &lt;dbl&gt; | r2 &lt;dbl&gt; | r3 &lt;dbl&gt; | r4 &lt;dbl&gt; | ⋯ ⋯ | r9 &lt;dbl&gt; | r10 &lt;dbl&gt; | mpaa &lt;chr&gt; | Action &lt;int&gt; | Animation &lt;int&gt; | Comedy &lt;int&gt; | Drama &lt;int&gt; | Documentary &lt;int&gt; | Romance &lt;int&gt; | Short &lt;int&gt; |\n",
       "|---|---|---|---|---|---|---|---|---|---|---|---|---|---|---|---|---|---|---|---|---|\n",
       "| Matrix, The | 1999 | 136 | 63000000 | 8.5 | 143853 | 4.5 | 4.5 | 4.5 | 4.5 | ⋯ | 24.5 | 34.5 | R | 1 | 0 | 0 | 0 | 0 | 0 | 0 |\n",
       "\n"
      ],
      "text/plain": [
       "  title       year length budget   rating votes  r1  r2  r3  r4  ⋯ r9   r10 \n",
       "1 Matrix, The 1999 136    63000000 8.5    143853 4.5 4.5 4.5 4.5 ⋯ 24.5 34.5\n",
       "  mpaa Action Animation Comedy Drama Documentary Romance Short\n",
       "1 R    1      0         0      0     0           0       0    "
      ]
     },
     "metadata": {},
     "output_type": "display_data"
    }
   ],
   "source": [
    "# Pick the 'Matrix, The'\n",
    "movies %>%\n",
    "    filter(title == 'Matrix, The')"
   ]
  },
  {
   "cell_type": "markdown",
   "metadata": {},
   "source": [
    "The rating vote percentages are stored in columns `r1` to `r10`. Let's use verb `select` to select columns based on their names."
   ]
  },
  {
   "cell_type": "code",
   "execution_count": 6,
   "metadata": {},
   "outputs": [
    {
     "data": {
      "text/html": [
       "<table>\n",
       "<caption>A tibble: 1 × 10</caption>\n",
       "<thead>\n",
       "\t<tr><th scope=col>r1</th><th scope=col>r2</th><th scope=col>r3</th><th scope=col>r4</th><th scope=col>r5</th><th scope=col>r6</th><th scope=col>r7</th><th scope=col>r8</th><th scope=col>r9</th><th scope=col>r10</th></tr>\n",
       "\t<tr><th scope=col>&lt;dbl&gt;</th><th scope=col>&lt;dbl&gt;</th><th scope=col>&lt;dbl&gt;</th><th scope=col>&lt;dbl&gt;</th><th scope=col>&lt;dbl&gt;</th><th scope=col>&lt;dbl&gt;</th><th scope=col>&lt;dbl&gt;</th><th scope=col>&lt;dbl&gt;</th><th scope=col>&lt;dbl&gt;</th><th scope=col>&lt;dbl&gt;</th></tr>\n",
       "</thead>\n",
       "<tbody>\n",
       "\t<tr><td>4.5</td><td>4.5</td><td>4.5</td><td>4.5</td><td>4.5</td><td>4.5</td><td>4.5</td><td>14.5</td><td>24.5</td><td>34.5</td></tr>\n",
       "</tbody>\n",
       "</table>\n"
      ],
      "text/latex": [
       "A tibble: 1 × 10\n",
       "\\begin{tabular}{r|llllllllll}\n",
       " r1 & r2 & r3 & r4 & r5 & r6 & r7 & r8 & r9 & r10\\\\\n",
       " <dbl> & <dbl> & <dbl> & <dbl> & <dbl> & <dbl> & <dbl> & <dbl> & <dbl> & <dbl>\\\\\n",
       "\\hline\n",
       "\t 4.5 & 4.5 & 4.5 & 4.5 & 4.5 & 4.5 & 4.5 & 14.5 & 24.5 & 34.5\\\\\n",
       "\\end{tabular}\n"
      ],
      "text/markdown": [
       "\n",
       "A tibble: 1 × 10\n",
       "\n",
       "| r1 &lt;dbl&gt; | r2 &lt;dbl&gt; | r3 &lt;dbl&gt; | r4 &lt;dbl&gt; | r5 &lt;dbl&gt; | r6 &lt;dbl&gt; | r7 &lt;dbl&gt; | r8 &lt;dbl&gt; | r9 &lt;dbl&gt; | r10 &lt;dbl&gt; |\n",
       "|---|---|---|---|---|---|---|---|---|---|\n",
       "| 4.5 | 4.5 | 4.5 | 4.5 | 4.5 | 4.5 | 4.5 | 14.5 | 24.5 | 34.5 |\n",
       "\n"
      ],
      "text/plain": [
       "  r1  r2  r3  r4  r5  r6  r7  r8   r9   r10 \n",
       "1 4.5 4.5 4.5 4.5 4.5 4.5 4.5 14.5 24.5 34.5"
      ]
     },
     "metadata": {},
     "output_type": "display_data"
    }
   ],
   "source": [
    "# Get rating distribution for 'Matrix,The'\n",
    "\n",
    "movies %>%\n",
    "    filter(title == 'Matrix, The') %>%\n",
    "    select(r1,r2,r3,r4,r5,r6,r7,r8,r9,r10)"
   ]
  },
  {
   "cell_type": "markdown",
   "metadata": {},
   "source": [
    "This is a bit too much manual labor so, as the columns are ordered, lets take a range of columns from `r1` to `r10`."
   ]
  },
  {
   "cell_type": "code",
   "execution_count": 41,
   "metadata": {},
   "outputs": [
    {
     "data": {
      "text/html": [
       "<table>\n",
       "<caption>A tibble: 1 × 10</caption>\n",
       "<thead>\n",
       "\t<tr><th scope=col>r1</th><th scope=col>r2</th><th scope=col>r3</th><th scope=col>r4</th><th scope=col>r5</th><th scope=col>r6</th><th scope=col>r7</th><th scope=col>r8</th><th scope=col>r9</th><th scope=col>r10</th></tr>\n",
       "\t<tr><th scope=col>&lt;dbl&gt;</th><th scope=col>&lt;dbl&gt;</th><th scope=col>&lt;dbl&gt;</th><th scope=col>&lt;dbl&gt;</th><th scope=col>&lt;dbl&gt;</th><th scope=col>&lt;dbl&gt;</th><th scope=col>&lt;dbl&gt;</th><th scope=col>&lt;dbl&gt;</th><th scope=col>&lt;dbl&gt;</th><th scope=col>&lt;dbl&gt;</th></tr>\n",
       "</thead>\n",
       "<tbody>\n",
       "\t<tr><td>4.5</td><td>4.5</td><td>4.5</td><td>4.5</td><td>4.5</td><td>4.5</td><td>4.5</td><td>14.5</td><td>24.5</td><td>34.5</td></tr>\n",
       "</tbody>\n",
       "</table>\n"
      ],
      "text/latex": [
       "A tibble: 1 × 10\n",
       "\\begin{tabular}{r|llllllllll}\n",
       " r1 & r2 & r3 & r4 & r5 & r6 & r7 & r8 & r9 & r10\\\\\n",
       " <dbl> & <dbl> & <dbl> & <dbl> & <dbl> & <dbl> & <dbl> & <dbl> & <dbl> & <dbl>\\\\\n",
       "\\hline\n",
       "\t 4.5 & 4.5 & 4.5 & 4.5 & 4.5 & 4.5 & 4.5 & 14.5 & 24.5 & 34.5\\\\\n",
       "\\end{tabular}\n"
      ],
      "text/markdown": [
       "\n",
       "A tibble: 1 × 10\n",
       "\n",
       "| r1 &lt;dbl&gt; | r2 &lt;dbl&gt; | r3 &lt;dbl&gt; | r4 &lt;dbl&gt; | r5 &lt;dbl&gt; | r6 &lt;dbl&gt; | r7 &lt;dbl&gt; | r8 &lt;dbl&gt; | r9 &lt;dbl&gt; | r10 &lt;dbl&gt; |\n",
       "|---|---|---|---|---|---|---|---|---|---|\n",
       "| 4.5 | 4.5 | 4.5 | 4.5 | 4.5 | 4.5 | 4.5 | 14.5 | 24.5 | 34.5 |\n",
       "\n"
      ],
      "text/plain": [
       "  r1  r2  r3  r4  r5  r6  r7  r8   r9   r10 \n",
       "1 4.5 4.5 4.5 4.5 4.5 4.5 4.5 14.5 24.5 34.5"
      ]
     },
     "metadata": {},
     "output_type": "display_data"
    }
   ],
   "source": [
    "# Get rating distribution in a more usable fashion\n",
    "movies %>%\n",
    "    filter(title == 'Matrix, The') %>%\n",
    "    select(r1:r10)"
   ]
  },
  {
   "cell_type": "markdown",
   "metadata": {},
   "source": [
    "If the columns weren't ordered, we could have used the function `num_range` from [select_helpers](http://dplyr.tidyverse.org/reference/select_helpers.html) to choose all rows starting with \"r\" and having a number from range `1:10` at the end. "
   ]
  },
  {
   "cell_type": "code",
   "execution_count": 44,
   "metadata": {},
   "outputs": [
    {
     "data": {
      "text/html": [
       "<table>\n",
       "<caption>A tibble: 1 × 10</caption>\n",
       "<thead>\n",
       "\t<tr><th scope=col>r1</th><th scope=col>r2</th><th scope=col>r3</th><th scope=col>r4</th><th scope=col>r5</th><th scope=col>r6</th><th scope=col>r7</th><th scope=col>r8</th><th scope=col>r9</th><th scope=col>r10</th></tr>\n",
       "\t<tr><th scope=col>&lt;dbl&gt;</th><th scope=col>&lt;dbl&gt;</th><th scope=col>&lt;dbl&gt;</th><th scope=col>&lt;dbl&gt;</th><th scope=col>&lt;dbl&gt;</th><th scope=col>&lt;dbl&gt;</th><th scope=col>&lt;dbl&gt;</th><th scope=col>&lt;dbl&gt;</th><th scope=col>&lt;dbl&gt;</th><th scope=col>&lt;dbl&gt;</th></tr>\n",
       "</thead>\n",
       "<tbody>\n",
       "\t<tr><td>4.5</td><td>4.5</td><td>4.5</td><td>4.5</td><td>4.5</td><td>4.5</td><td>4.5</td><td>14.5</td><td>24.5</td><td>34.5</td></tr>\n",
       "</tbody>\n",
       "</table>\n"
      ],
      "text/latex": [
       "A tibble: 1 × 10\n",
       "\\begin{tabular}{r|llllllllll}\n",
       " r1 & r2 & r3 & r4 & r5 & r6 & r7 & r8 & r9 & r10\\\\\n",
       " <dbl> & <dbl> & <dbl> & <dbl> & <dbl> & <dbl> & <dbl> & <dbl> & <dbl> & <dbl>\\\\\n",
       "\\hline\n",
       "\t 4.5 & 4.5 & 4.5 & 4.5 & 4.5 & 4.5 & 4.5 & 14.5 & 24.5 & 34.5\\\\\n",
       "\\end{tabular}\n"
      ],
      "text/markdown": [
       "\n",
       "A tibble: 1 × 10\n",
       "\n",
       "| r1 &lt;dbl&gt; | r2 &lt;dbl&gt; | r3 &lt;dbl&gt; | r4 &lt;dbl&gt; | r5 &lt;dbl&gt; | r6 &lt;dbl&gt; | r7 &lt;dbl&gt; | r8 &lt;dbl&gt; | r9 &lt;dbl&gt; | r10 &lt;dbl&gt; |\n",
       "|---|---|---|---|---|---|---|---|---|---|\n",
       "| 4.5 | 4.5 | 4.5 | 4.5 | 4.5 | 4.5 | 4.5 | 14.5 | 24.5 | 34.5 |\n",
       "\n"
      ],
      "text/plain": [
       "  r1  r2  r3  r4  r5  r6  r7  r8   r9   r10 \n",
       "1 4.5 4.5 4.5 4.5 4.5 4.5 4.5 14.5 24.5 34.5"
      ]
     },
     "metadata": {},
     "output_type": "display_data"
    }
   ],
   "source": [
    "# Another solution for choosing columns\n",
    "movies %>%\n",
    "    filter(title == 'Matrix, The') %>%\n",
    "    select(num_range('r',1:10))"
   ]
  },
  {
   "cell_type": "markdown",
   "metadata": {},
   "source": [
    "Now we got what we want to plot, but the data is in a wrong ordering. Remember that in tidy format columns were meant to be variables and rows were meant to be observations. As each user can vote for a single rating, the columns `r1` to `r10` are not independent variables. Instead we want to have columns `rating`, that describes the rating that has been given, and `percentage`, that describes the percentage of votes given to this particular rating. \n",
    "\n",
    "To achieve this we can use `gather`-function from tidyr-package. [[1]](http://tidyr.tidyverse.org/reference/gather.html)\n",
    "\n",
    "`gather` can be used to take columns into rows. Here the `key` parameter is the name of the new variable \n",
    "\n",
    "By settings `factor_key=T` the column names are stored as a `factor`. `factor` stores a mapping between strings and integers and then represents the data as a `vector` of integer. So basically `r1` is `1`, `r2`,`2`, etc. This preserves the ordering. `factor`s are useful for string data that can be ordered or categorized (identical strings have same `integer` mapped to them)."
   ]
  },
  {
   "cell_type": "code",
   "execution_count": 51,
   "metadata": {},
   "outputs": [
    {
     "data": {
      "text/html": [
       "<table>\n",
       "<caption>A tibble: 10 × 2</caption>\n",
       "<thead>\n",
       "\t<tr><th scope=col>rating</th><th scope=col>percentage</th></tr>\n",
       "\t<tr><th scope=col>&lt;fct&gt;</th><th scope=col>&lt;dbl&gt;</th></tr>\n",
       "</thead>\n",
       "<tbody>\n",
       "\t<tr><td>r1 </td><td> 4.5</td></tr>\n",
       "\t<tr><td>r2 </td><td> 4.5</td></tr>\n",
       "\t<tr><td>r3 </td><td> 4.5</td></tr>\n",
       "\t<tr><td>r4 </td><td> 4.5</td></tr>\n",
       "\t<tr><td>r5 </td><td> 4.5</td></tr>\n",
       "\t<tr><td>r6 </td><td> 4.5</td></tr>\n",
       "\t<tr><td>r7 </td><td> 4.5</td></tr>\n",
       "\t<tr><td>r8 </td><td>14.5</td></tr>\n",
       "\t<tr><td>r9 </td><td>24.5</td></tr>\n",
       "\t<tr><td>r10</td><td>34.5</td></tr>\n",
       "</tbody>\n",
       "</table>\n"
      ],
      "text/latex": [
       "A tibble: 10 × 2\n",
       "\\begin{tabular}{r|ll}\n",
       " rating & percentage\\\\\n",
       " <fct> & <dbl>\\\\\n",
       "\\hline\n",
       "\t r1  &  4.5\\\\\n",
       "\t r2  &  4.5\\\\\n",
       "\t r3  &  4.5\\\\\n",
       "\t r4  &  4.5\\\\\n",
       "\t r5  &  4.5\\\\\n",
       "\t r6  &  4.5\\\\\n",
       "\t r7  &  4.5\\\\\n",
       "\t r8  & 14.5\\\\\n",
       "\t r9  & 24.5\\\\\n",
       "\t r10 & 34.5\\\\\n",
       "\\end{tabular}\n"
      ],
      "text/markdown": [
       "\n",
       "A tibble: 10 × 2\n",
       "\n",
       "| rating &lt;fct&gt; | percentage &lt;dbl&gt; |\n",
       "|---|---|\n",
       "| r1  |  4.5 |\n",
       "| r2  |  4.5 |\n",
       "| r3  |  4.5 |\n",
       "| r4  |  4.5 |\n",
       "| r5  |  4.5 |\n",
       "| r6  |  4.5 |\n",
       "| r7  |  4.5 |\n",
       "| r8  | 14.5 |\n",
       "| r9  | 24.5 |\n",
       "| r10 | 34.5 |\n",
       "\n"
      ],
      "text/plain": [
       "   rating percentage\n",
       "1  r1      4.5      \n",
       "2  r2      4.5      \n",
       "3  r3      4.5      \n",
       "4  r4      4.5      \n",
       "5  r5      4.5      \n",
       "6  r6      4.5      \n",
       "7  r7      4.5      \n",
       "8  r8     14.5      \n",
       "9  r9     24.5      \n",
       "10 r10    34.5      "
      ]
     },
     "metadata": {},
     "output_type": "display_data"
    }
   ],
   "source": [
    "movies %>%\n",
    "    filter(title == 'Matrix, The') %>%\n",
    "    select(r1:r10) %>%\n",
    "    gather(key='rating',value='percentage',factor_key=T)"
   ]
  },
  {
   "cell_type": "markdown",
   "metadata": {},
   "source": [
    "Now we want to plot the result. To do this let's use functions from ggplot2.\n",
    "\n",
    "`ggplot2` function can be used to create a figure. It takes as its argument an `aes` or aesthetic mapping that defines which columns are mapped to which axes.\n",
    "\n",
    "After specifying the figure one can use calls to various ggplot2-functions to add plots or properties to the figure.\n",
    "`+`-operator is used to sum all of these together.\n",
    "\n",
    "In this case let's use `geom_col` to create a bar plot. It sets bars heights based on data values. [[1]](http://ggplot2.tidyverse.org/reference/geom_bar.html)\n"
   ]
  },
  {
   "cell_type": "code",
   "execution_count": 50,
   "metadata": {},
   "outputs": [
    {
     "data": {
      "image/png": "[encoded data removed]",
      "text/plain": [
       "plot without title"
      ]
     },
     "metadata": {
      "image/png": {
       "height": 420,
       "width": 420
      },
      "text/plain": {
       "height": 420,
       "width": 420
      }
     },
     "output_type": "display_data"
    }
   ],
   "source": [
    "movies %>%\n",
    "    filter(title == 'Matrix, The') %>%\n",
    "    select(r1:r10) %>%\n",
    "    gather(key='rating',value='percentage',factor_key=T) %>%\n",
    "    ggplot(aes(x=rating,y=percentage)) +\n",
    "            geom_col()"
   ]
  },
  {
   "cell_type": "markdown",
   "metadata": {},
   "source": [
    "This plot is already something, but we can make it more beautiful. Let's change the ratings from `r1` to `1` etc.. As rating-variable is a `factor` (basically a `vector` of integers), we can use `mutate`-verb with `as.integer` to make the conversion.\n",
    "\n",
    "`mutate` can be used to create new variables or to modify existing ones. It keeps rest of the variables intact. `transmute` would drop rest of the variables. [[1]](http://dplyr.tidyverse.org/reference/mutate.html)"
   ]
  },
  {
   "cell_type": "code",
   "execution_count": 49,
   "metadata": {},
   "outputs": [
    {
     "data": {
      "image/png": "[encoded data removed]",
      "text/plain": [
       "plot without title"
      ]
     },
     "metadata": {
      "image/png": {
       "height": 420,
       "width": 420
      },
      "text/plain": {
       "height": 420,
       "width": 420
      }
     },
     "output_type": "display_data"
    }
   ],
   "source": [
    "movies %>%\n",
    "    filter(title == 'Matrix, The') %>%\n",
    "    select(r1:r10) %>%\n",
    "    gather(key='rating',value='percentage',factor_key=T) %>%\n",
    "    mutate(rating=as.integer(rating)) %>%\n",
    "    ggplot(aes(x=rating,y=percentage)) +\n",
    "            geom_col()"
   ]
  },
  {
   "cell_type": "markdown",
   "metadata": {},
   "source": [
    "This worked, but now the x-axis looks bad. Lets convert the rating to `factor` so that x-axis is strings instead of integers."
   ]
  },
  {
   "cell_type": "code",
   "execution_count": 48,
   "metadata": {},
   "outputs": [
    {
     "data": {
      "image/png": "[encoded data removed]",
      "text/plain": [
       "plot without title"
      ]
     },
     "metadata": {
      "image/png": {
       "height": 420,
       "width": 420
      },
      "text/plain": {
       "height": 420,
       "width": 420
      }
     },
     "output_type": "display_data"
    }
   ],
   "source": [
    "movies %>%\n",
    "    filter(title == 'Matrix, The') %>%\n",
    "    select(r1:r10) %>%\n",
    "    gather(key='rating',value='percentage',factor_key=T) %>%\n",
    "    mutate(rating=factor(as.integer(rating))) %>%\n",
    "    ggplot(aes(x=rating,y=percentage)) +\n",
    "            geom_col()"
   ]
  },
  {
   "cell_type": "markdown",
   "metadata": {},
   "source": [
    "Great. Lets finish the job by specifying axis labels with `xlab` and  `ylab` and specifying title with `ggtitle`. [[1]](http://ggplot2.tidyverse.org/reference/labs.html)"
   ]
  },
  {
   "cell_type": "code",
   "execution_count": 47,
   "metadata": {},
   "outputs": [
    {
     "data": {
      "image/png": "[encoded data removed]",
      "text/plain": [
       "plot without title"
      ]
     },
     "metadata": {
      "image/png": {
       "height": 420,
       "width": 420
      },
      "text/plain": {
       "height": 420,
       "width": 420
      }
     },
     "output_type": "display_data"
    }
   ],
   "source": [
    "movies %>%\n",
    "    filter(title == 'Matrix, The') %>%\n",
    "    select(r1:r10) %>%\n",
    "    gather(key='rating',value='percentage',factor_key=T) %>%\n",
    "    mutate(rating=factor(as.integer(rating))) %>%\n",
    "    ggplot(aes(x=rating,y=percentage)) +\n",
    "            geom_col() +\n",
    "            ggtitle('Ratings distribution for movie \"The Matrix\"') +\n",
    "            xlab('Rating') +\n",
    "            ylab('Percentage of ratings')"
   ]
  },
  {
   "cell_type": "markdown",
   "metadata": {},
   "source": [
    "This looks nice. With small additions one can even plot the whole trilogy.\n",
    "\n",
    "Here:\n",
    "1. Movies were chosen based on whether both \"Matrix\" and \"The\" were present in title.\n",
    "2. Columns year and title were included with the select-statement.\n",
    "3. Title and year were excluded from column gathering with `-title` and `-year`.\n",
    "4. In `aes`-mapping the `fill` keyword was used to specify the fill colour names. By using `reorder` the titles were re-ordered based on publishing year.\n",
    "5. x-, y- and fill-labels were set using `labs`-function.\n"
   ]
  },
  {
   "cell_type": "code",
   "execution_count": 46,
   "metadata": {},
   "outputs": [
    {
     "data": {
      "image/png": "[encoded data removed]",
      "text/plain": [
       "plot without title"
      ]
     },
     "metadata": {
      "image/png": {
       "height": 420,
       "width": 420
      },
      "text/plain": {
       "height": 420,
       "width": 420
      }
     },
     "output_type": "display_data"
    }
   ],
   "source": [
    "movies %>%\n",
    "    filter(str_detect(title,'Matrix') & str_detect(title,'The')) %>%\n",
    "    select(r1:r10,title,year) %>%\n",
    "    gather(key='rating',value='percentage',-title,-year,factor_key=T) %>%\n",
    "    mutate(rating=factor(as.integer(rating))) %>%\n",
    "    ggplot(aes(x=rating,y=percentage,fill=reorder(title,year))) +\n",
    "            geom_col(position='dodge') +\n",
    "            ggtitle('Ratings distribution for \"The Matrix\"-trilogy') +\n",
    "            labs(x='Rating',y='Percentage of ratings',fill='Movie title')"
   ]
  },
  {
   "cell_type": "markdown",
   "metadata": {},
   "source": [
    "# Exercise time: \n",
    "\n",
    "1. Use `filter` and `geom_histogram` to plot a histogram of ratings for action-movies (Doc pages: [[filter]](http://dplyr.tidyverse.org/reference/filter.html) [[geom_histogram]](http://ggplot2.tidyverse.org/reference/geom_histogram.html)).\n",
    "2. Use `filter` and `arrange` to find the highest rated romance-movie with more than 1000 votes (Doc pages: [[filter]](http://dplyr.tidyverse.org/reference/filter.html) [[arrange]](https://www.rdocumentation.org/packages/dplyr/versions/0.7.3/topics/arrange)).\n",
    "3. Take movies with more than 1000 votes and an estimated budget (`! is.na(budget)`). Use `top_n` to limit yourself to 200 highest rated. Use `geom_point` and `scale_x_log10` to create a semi-log scatter plot of movie budget vs. movie rating ([[top_n]](http://dplyr.tidyverse.org/reference/top_n.html) [[geom_point]](http://ggplot2.tidyverse.org/reference/geom_point.html) [[scale_x_log10]](http://ggplot2.tidyverse.org/reference/scale_continuous.html))."
   ]
  }
 ],
 "metadata": {
  "kernelspec": {
   "display_name": "R",
   "language": "R",
   "name": "ir"
  },
  "language_info": {
   "codemirror_mode": "r",
   "file_extension": ".r",
   "mimetype": "text/x-r-source",
   "name": "R",
   "pygments_lexer": "r",
   "version": "3.4.4"
  }
 },
 "nbformat": 4,
 "nbformat_minor": 4
}

{
 "cells": [
  {
   "cell_type": "markdown",
   "metadata": {},
   "source": [
    "# Introduction\n",
    "\n",
    "## Goals\n",
    "\n",
    "By the end of this course, you should be able to\n",
    "- Do basic data analysis using R or Python/Pandas, with a special emphasis on\n",
    "  - triton, or other similar HPC cluster environments\n",
    "  - workflows, I/O strategies etc. that work on HPC clusters.\n",
    "\n",
    "What this course is NOT:\n",
    "- A basic course in programming. We don't expect you to have prior knowledge of R or Python, but some programming experience is required.\n",
    "- A basic course in statistics / machine learning. As part of the course we'll do some simple stuff, but we expect that you either understand the statistics from before or learn it on your own.\n",
    "\n",
    "Topics that we're going to cover on the R part of the course:\n",
    "- The modern Tinyverse approach to easy data analysis.\n",
    "- The tibble data structure, and how it relates to other common data structures.\n",
    "- Verbs, maps and pipes that you can use to organize and modify your data. \n",
    "- Visualizing your results with ggplot2.\n",
    "- CSV / feather data handling\n",
    "- Some advanced Base-R tricks and functions from the apply-family."
   ]
  },
  {
   "cell_type": "markdown",
   "metadata": {},
   "source": [
    "## Note about syntax\n",
    "\n",
    "Anything written like `this` refers to R-code. Depending on context it might be a type or a function."
   ]
  },
  {
   "cell_type": "markdown",
   "metadata": {},
   "source": [
    "\n",
    "## R as a language\n",
    "\n",
    "R is nowadays one of the most popular data science languages. [1](http://r4stats.com/articles/popularity/) \n",
    "\n",
    "In Stack Overflow it is the 7th most popular language and neck to neck with C. [2](https://stackoverflow.blog/2017/10/10/impressive-growth-r/)\n",
    "\n",
    "Compared to its older competitors like SPSS or SAS it is way more usable, but it is not as generic as e.g. Python.\n",
    "\n",
    "So use R for what it has been designed for - data analysis.\n",
    "\n",
    "Nowadays there are three popular styles of doing data analysis in R:\n",
    "1. **Base R** - using objects (`vector`,`list`,`factor`,`data.frame`), functions (`apply`) and operators (`[ ]`,`[[ ]]`) of the base R packages\n",
    "2. **Tidyverse** - using objects (`tibble`), functions (`filter`,`select`,`mutate`,`map`) and operators (`%>%`) from [Tidyverse](https://www.tidyverse.org/) collection of packages.\n",
    "3. **data.table** - using objects (`data.table`), functions (`set`) and operators (`[ ] `) of [data.table](http://r-datatable.com/) in conjunction with previous packages. \n",
    "\n",
    "Base R can is (at least in my opinion) similar to Matlab/Fortran in its style. It is very permissive which enables very good solutions, but also very bad solutions.\n",
    "\n",
    "Tidyverse is centered around the idea of certain base operations and code structures that are most frequent in data analysis. By making those structures easily readable and understandable it is easy to generate efficient code. We'll be doing this quite a bit here.\n",
    "\n",
    "data.table is an extension to base R's `data.frame`, but the syntax and underlying properties are written in a way that it can handle huge (up and beyond your RAM) datasets. We'll look a bit into it, but if you at some point need to work with big data, do remember that it exists.\n",
    "\n",
    "## Packages\n",
    "\n",
    "R has a wide variety of libraries supplied in the R-CRAN-network (Comprehensive R Archive Network). Installing these libraries is usually as simple as running:\n",
    "\n",
    "`install.package(\"packagename\")`\n",
    "\n",
    "Loading these libraries is done with:\n",
    "\n",
    "`library(packagename)`\n",
    "\n",
    "In this course we will be using packages from R [Tidyverse](https://www.tidyverse.org/).\n",
    "\n",
    "## Imporant references\n",
    "\n",
    "There's lots of good R material available free on the internet. I highly recommend [R for Data Science](http://r4ds.had.co.nz/) and [Efficient R programming](https://csgillespie.github.io/efficientR/).\n",
    "\n",
    "When it comes to stuff related to the Tidyverse, the best options are googling or going to [its webpage](https://www.tidyverse.org/) and clicking on the honeycomb structure to get information on packages that supply the extensions.\n",
    "\n",
    "Good keywords when searching information in the internet are:\n",
    "- \"tidyverse\" for tidyverse packages as a whole\n",
    "- \"dplyr\" for verbs that we'll be using\n",
    "- \"ggplot2\" for the versatile plotting library\n",
    "- \"tibble\" to get information on the `data.frame` extension\n",
    "- \"purrr\" for mapping functions that can be used to run functions on the data\n",
    "- \"tidyr\" for reshaping the data\n",
    "- \"readr\" for data reading functions\n",
    "\n",
    "Usually something like \"R *keyword i want to do this*\" gives a good answer from stackoverflow etc."
   ]
  },
  {
   "cell_type": "markdown",
   "metadata": {},
   "source": [
    "# Let's get started\n",
    "\n",
    "## Simple example\n",
    "\n",
    "Let's load up the Tidyverse and analyze dataset `movies` from package `ggplot2movies` that has [IMDB](https://www.imdb.com) data from some 60,000 movies."
   ]
  },
  {
   "cell_type": "code",
   "execution_count": 7,
   "metadata": {},
   "outputs": [
    {
     "name": "stderr",
     "output_type": "stream",
     "text": [
      "Warning message:\n",
      "“replacing previous import by ‘tidyr::%>%’ when loading ‘broom’”Warning message:\n",
      "“replacing previous import by ‘tidyr::gather’ when loading ‘broom’”Warning message:\n",
      "“replacing previous import by ‘tidyr::spread’ when loading ‘broom’”── Attaching packages ─────────────────────────────────────── tidyverse 1.2.1 ──\n",
      "✔ ggplot2 2.2.1     ✔ purrr   0.2.4\n",
      "✔ tibble  1.4.2     ✔ dplyr   0.7.4\n",
      "✔ tidyr   0.8.0     ✔ stringr 1.3.0\n",
      "✔ readr   1.1.1     ✔ forcats 0.3.0\n",
      "── Conflicts ────────────────────────────────────────── tidyverse_conflicts() ──\n",
      "✖ dplyr::filter() masks stats::filter()\n",
      "✖ dplyr::lag()    masks stats::lag()\n"
     ]
    },
    {
     "data": {
      "text/html": [
       "<table>\n",
       "<thead><tr><th scope=col>title</th><th scope=col>year</th><th scope=col>length</th><th scope=col>budget</th><th scope=col>rating</th><th scope=col>votes</th><th scope=col>r1</th><th scope=col>r2</th><th scope=col>r3</th><th scope=col>r4</th><th scope=col>⋯</th><th scope=col>r9</th><th scope=col>r10</th><th scope=col>mpaa</th><th scope=col>Action</th><th scope=col>Animation</th><th scope=col>Comedy</th><th scope=col>Drama</th><th scope=col>Documentary</th><th scope=col>Romance</th><th scope=col>Short</th></tr></thead>\n",
       "<tbody>\n",
       "\t<tr><td>$                       </td><td>1971                    </td><td>121                     </td><td>NA                      </td><td>6.4                     </td><td>348                     </td><td> 4.5                    </td><td> 4.5                    </td><td>4.5                     </td><td> 4.5                    </td><td>⋯                       </td><td> 4.5                    </td><td> 4.5                    </td><td>                        </td><td>0                       </td><td>0                       </td><td>1                       </td><td>1                       </td><td>0                       </td><td>0                       </td><td>0                       </td></tr>\n",
       "\t<tr><td>$1000 a Touchdown       </td><td>1939                    </td><td> 71                     </td><td>NA                      </td><td>6.0                     </td><td> 20                     </td><td> 0.0                    </td><td>14.5                    </td><td>4.5                     </td><td>24.5                    </td><td>⋯                       </td><td> 4.5                    </td><td>14.5                    </td><td>                        </td><td>0                       </td><td>0                       </td><td>1                       </td><td>0                       </td><td>0                       </td><td>0                       </td><td>0                       </td></tr>\n",
       "\t<tr><td>$21 a Day Once a Month  </td><td>1941                    </td><td>  7                     </td><td>NA                      </td><td>8.2                     </td><td>  5                     </td><td> 0.0                    </td><td> 0.0                    </td><td>0.0                     </td><td> 0.0                    </td><td>⋯                       </td><td>24.5                    </td><td>24.5                    </td><td>                        </td><td>0                       </td><td>1                       </td><td>0                       </td><td>0                       </td><td>0                       </td><td>0                       </td><td>1                       </td></tr>\n",
       "\t<tr><td>$40,000                 </td><td>1996                    </td><td> 70                     </td><td>NA                      </td><td>8.2                     </td><td>  6                     </td><td>14.5                    </td><td> 0.0                    </td><td>0.0                     </td><td> 0.0                    </td><td>⋯                       </td><td>34.5                    </td><td>45.5                    </td><td>                        </td><td>0                       </td><td>0                       </td><td>1                       </td><td>0                       </td><td>0                       </td><td>0                       </td><td>0                       </td></tr>\n",
       "\t<tr><td>$50,000 Climax Show, The</td><td>1975                    </td><td> 71                     </td><td>NA                      </td><td>3.4                     </td><td> 17                     </td><td>24.5                    </td><td> 4.5                    </td><td>0.0                     </td><td>14.5                    </td><td>⋯                       </td><td> 0.0                    </td><td>24.5                    </td><td>                        </td><td>0                       </td><td>0                       </td><td>0                       </td><td>0                       </td><td>0                       </td><td>0                       </td><td>0                       </td></tr>\n",
       "\t<tr><td>$pent                   </td><td>2000                    </td><td> 91                     </td><td>NA                      </td><td>4.3                     </td><td> 45                     </td><td> 4.5                    </td><td> 4.5                    </td><td>4.5                     </td><td>14.5                    </td><td>⋯                       </td><td>14.5                    </td><td>14.5                    </td><td>                        </td><td>0                       </td><td>0                       </td><td>0                       </td><td>1                       </td><td>0                       </td><td>0                       </td><td>0                       </td></tr>\n",
       "</tbody>\n",
       "</table>\n"
      ],
      "text/latex": [
       "\\begin{tabular}{r|llllllllllllllllllllllll}\n",
       " title & year & length & budget & rating & votes & r1 & r2 & r3 & r4 & ⋯ & r9 & r10 & mpaa & Action & Animation & Comedy & Drama & Documentary & Romance & Short\\\\\n",
       "\\hline\n",
       "\t \\$                        & 1971                       & 121                        & NA                         & 6.4                        & 348                        &  4.5                       &  4.5                       & 4.5                        &  4.5                       & ⋯                          &  4.5                       &  4.5                       &                            & 0                          & 0                          & 1                          & 1                          & 0                          & 0                          & 0                         \\\\\n",
       "\t \\$1000 a Touchdown        & 1939                       &  71                        & NA                         & 6.0                        &  20                        &  0.0                       & 14.5                       & 4.5                        & 24.5                       & ⋯                          &  4.5                       & 14.5                       &                            & 0                          & 0                          & 1                          & 0                          & 0                          & 0                          & 0                         \\\\\n",
       "\t \\$21 a Day Once a Month   & 1941                       &   7                        & NA                         & 8.2                        &   5                        &  0.0                       &  0.0                       & 0.0                        &  0.0                       & ⋯                          & 24.5                       & 24.5                       &                            & 0                          & 1                          & 0                          & 0                          & 0                          & 0                          & 1                         \\\\\n",
       "\t \\$40,000                  & 1996                       &  70                        & NA                         & 8.2                        &   6                        & 14.5                       &  0.0                       & 0.0                        &  0.0                       & ⋯                          & 34.5                       & 45.5                       &                            & 0                          & 0                          & 1                          & 0                          & 0                          & 0                          & 0                         \\\\\n",
       "\t \\$50,000 Climax Show, The & 1975                       &  71                        & NA                         & 3.4                        &  17                        & 24.5                       &  4.5                       & 0.0                        & 14.5                       & ⋯                          &  0.0                       & 24.5                       &                            & 0                          & 0                          & 0                          & 0                          & 0                          & 0                          & 0                         \\\\\n",
       "\t \\$pent                    & 2000                       &  91                        & NA                         & 4.3                        &  45                        &  4.5                       &  4.5                       & 4.5                        & 14.5                       & ⋯                          & 14.5                       & 14.5                       &                            & 0                          & 0                          & 0                          & 1                          & 0                          & 0                          & 0                         \\\\\n",
       "\\end{tabular}\n"
      ],
      "text/markdown": [
       "\n",
       "title | year | length | budget | rating | votes | r1 | r2 | r3 | r4 | ⋯ | r9 | r10 | mpaa | Action | Animation | Comedy | Drama | Documentary | Romance | Short | \n",
       "|---|---|---|---|---|---|\n",
       "| $                        | 1971                     | 121                      | NA                       | 6.4                      | 348                      |  4.5                     |  4.5                     | 4.5                      |  4.5                     | ⋯                        |  4.5                     |  4.5                     |                          | 0                        | 0                        | 1                        | 1                        | 0                        | 0                        | 0                        | \n",
       "| $1000 a Touchdown        | 1939                     |  71                      | NA                       | 6.0                      |  20                      |  0.0                     | 14.5                     | 4.5                      | 24.5                     | ⋯                        |  4.5                     | 14.5                     |                          | 0                        | 0                        | 1                        | 0                        | 0                        | 0                        | 0                        | \n",
       "| $21 a Day Once a Month   | 1941                     |   7                      | NA                       | 8.2                      |   5                      |  0.0                     |  0.0                     | 0.0                      |  0.0                     | ⋯                        | 24.5                     | 24.5                     |                          | 0                        | 1                        | 0                        | 0                        | 0                        | 0                        | 1                        | \n",
       "| $40,000                  | 1996                     |  70                      | NA                       | 8.2                      |   6                      | 14.5                     |  0.0                     | 0.0                      |  0.0                     | ⋯                        | 34.5                     | 45.5                     |                          | 0                        | 0                        | 1                        | 0                        | 0                        | 0                        | 0                        | \n",
       "| $50,000 Climax Show, The | 1975                     |  71                      | NA                       | 3.4                      |  17                      | 24.5                     |  4.5                     | 0.0                      | 14.5                     | ⋯                        |  0.0                     | 24.5                     |                          | 0                        | 0                        | 0                        | 0                        | 0                        | 0                        | 0                        | \n",
       "| $pent                    | 2000                     |  91                      | NA                       | 4.3                      |  45                      |  4.5                     |  4.5                     | 4.5                      | 14.5                     | ⋯                        | 14.5                     | 14.5                     |                          | 0                        | 0                        | 0                        | 1                        | 0                        | 0                        | 0                        | \n",
       "\n",
       "\n"
      ],
      "text/plain": [
       "  title                    year length budget rating votes r1   r2   r3  r4   ⋯\n",
       "1 $                        1971 121    NA     6.4    348    4.5  4.5 4.5  4.5 ⋯\n",
       "2 $1000 a Touchdown        1939  71    NA     6.0     20    0.0 14.5 4.5 24.5 ⋯\n",
       "3 $21 a Day Once a Month   1941   7    NA     8.2      5    0.0  0.0 0.0  0.0 ⋯\n",
       "4 $40,000                  1996  70    NA     8.2      6   14.5  0.0 0.0  0.0 ⋯\n",
       "5 $50,000 Climax Show, The 1975  71    NA     3.4     17   24.5  4.5 0.0 14.5 ⋯\n",
       "6 $pent                    2000  91    NA     4.3     45    4.5  4.5 4.5 14.5 ⋯\n",
       "  r9   r10  mpaa Action Animation Comedy Drama Documentary Romance Short\n",
       "1  4.5  4.5      0      0         1      1     0           0       0    \n",
       "2  4.5 14.5      0      0         1      0     0           0       0    \n",
       "3 24.5 24.5      0      1         0      0     0           0       1    \n",
       "4 34.5 45.5      0      0         1      0     0           0       0    \n",
       "5  0.0 24.5      0      0         0      0     0           0       0    \n",
       "6 14.5 14.5      0      0         0      1     0           0       0    "
      ]
     },
     "metadata": {},
     "output_type": "display_data"
    },
    {
     "data": {
      "text/html": [
       "24"
      ],
      "text/latex": [
       "24"
      ],
      "text/markdown": [
       "24"
      ],
      "text/plain": [
       "[1] 24"
      ]
     },
     "metadata": {},
     "output_type": "display_data"
    },
    {
     "data": {
      "text/html": [
       "58788"
      ],
      "text/latex": [
       "58788"
      ],
      "text/markdown": [
       "58788"
      ],
      "text/plain": [
       "[1] 58788"
      ]
     },
     "metadata": {},
     "output_type": "display_data"
    },
    {
     "name": "stdout",
     "output_type": "stream",
     "text": [
      "Classes ‘tbl_df’, ‘tbl’ and 'data.frame':\t58788 obs. of  24 variables:\n",
      " $ title      : chr  \"$\" \"$1000 a Touchdown\" \"$21 a Day Once a Month\" \"$40,000\" ...\n",
      " $ year       : int  1971 1939 1941 1996 1975 2000 2002 2002 1987 1917 ...\n",
      " $ length     : int  121 71 7 70 71 91 93 25 97 61 ...\n",
      " $ budget     : int  NA NA NA NA NA NA NA NA NA NA ...\n",
      " $ rating     : num  6.4 6 8.2 8.2 3.4 4.3 5.3 6.7 6.6 6 ...\n",
      " $ votes      : int  348 20 5 6 17 45 200 24 18 51 ...\n",
      " $ r1         : num  4.5 0 0 14.5 24.5 4.5 4.5 4.5 4.5 4.5 ...\n",
      " $ r2         : num  4.5 14.5 0 0 4.5 4.5 0 4.5 4.5 0 ...\n",
      " $ r3         : num  4.5 4.5 0 0 0 4.5 4.5 4.5 4.5 4.5 ...\n",
      " $ r4         : num  4.5 24.5 0 0 14.5 14.5 4.5 4.5 0 4.5 ...\n",
      " $ r5         : num  14.5 14.5 0 0 14.5 14.5 24.5 4.5 0 4.5 ...\n",
      " $ r6         : num  24.5 14.5 24.5 0 4.5 14.5 24.5 14.5 0 44.5 ...\n",
      " $ r7         : num  24.5 14.5 0 0 0 4.5 14.5 14.5 34.5 14.5 ...\n",
      " $ r8         : num  14.5 4.5 44.5 0 0 4.5 4.5 14.5 14.5 4.5 ...\n",
      " $ r9         : num  4.5 4.5 24.5 34.5 0 14.5 4.5 4.5 4.5 4.5 ...\n",
      " $ r10        : num  4.5 14.5 24.5 45.5 24.5 14.5 14.5 14.5 24.5 4.5 ...\n",
      " $ mpaa       : chr  \"\" \"\" \"\" \"\" ...\n",
      " $ Action     : int  0 0 0 0 0 0 1 0 0 0 ...\n",
      " $ Animation  : int  0 0 1 0 0 0 0 0 0 0 ...\n",
      " $ Comedy     : int  1 1 0 1 0 0 0 0 0 0 ...\n",
      " $ Drama      : int  1 0 0 0 0 1 1 0 1 0 ...\n",
      " $ Documentary: int  0 0 0 0 0 0 0 1 0 0 ...\n",
      " $ Romance    : int  0 0 0 0 0 0 0 0 0 0 ...\n",
      " $ Short      : int  0 0 1 0 0 0 0 1 0 0 ...\n"
     ]
    },
    {
     "data": {
      "text/html": [
       "TRUE"
      ],
      "text/latex": [
       "TRUE"
      ],
      "text/markdown": [
       "TRUE"
      ],
      "text/plain": [
       "[1] TRUE"
      ]
     },
     "metadata": {},
     "output_type": "display_data"
    }
   ],
   "source": [
    "library(tidyverse)\n",
    "\n",
    "data('movies',package='ggplot2movies')\n",
    "\n",
    "head(movies)\n",
    "ncol(movies)\n",
    "nrow(movies)\n",
    "str(movies)\n",
    "\n",
    "is.tibble(movies)"
   ]
  },
  {
   "cell_type": "markdown",
   "metadata": {},
   "source": [
    "Let's break the previous commands down:\n",
    "\n",
    "- `data`-command can be used to load data from `package`\n",
    "- `head` shows the first rows of data\n",
    "- `ncol` and `nrow` can be used to get the number of columns and rows respectively \n",
    "- `str` (structure) shows a lot of information on how the data is structured\n",
    "- `is.X` can be used to verify that the type of the object is `X`.\n",
    "\n",
    "From the output of `str` you can see few things:\n",
    "- The object `movies` is a `tbl` (`tibble`), which is an extension of `data.frame`.\n",
    "- Each row of the `data.frame` is an *observation* while each *column* is a variable. This choice of which axis is an observation and which is variable is not arbitrary.\n",
    "- Each column of the `data.frame` is a `vector` with defined type and length. \n",
    "\n",
    "I liked [The Matrix](http://www.imdb.com/title/tt0133093/), let's see if I was alone in my opinion."
   ]
  },
  {
   "cell_type": "code",
   "execution_count": 73,
   "metadata": {},
   "outputs": [
    {
     "data": {},
     "metadata": {},
     "output_type": "display_data"
    },
    {
     "data": {
      "image/png": "[encoded data removed]",
      "text/plain": [
       "plot without title"
      ]
     },
     "metadata": {},
     "output_type": "display_data"
    }
   ],
   "source": [
    "movies %>%\n",
    "    filter(title == 'Matrix, The') %>%\n",
    "    select(num_range('r',1:10)) %>%\n",
    "    gather(key='rating',value='percentage',factor_key=T) %>%\n",
    "    mutate(rating=factor(as.integer(rating))) %>%\n",
    "    ggplot(aes(x=rating,y=percentage)) +\n",
    "            geom_col() +\n",
    "            ggtitle('Ratings distribution for movie \"The Matrix\"') +\n",
    "            xlab('Rating') +\n",
    "            ylab('Percentage of ratings')"
   ]
  },
  {
   "cell_type": "markdown",
   "metadata": {},
   "source": [
    "Seems pretty popular.\n",
    "\n",
    "There's a lot to unpack on in the example. Lets go through it one step at a time.\n",
    "\n",
    "The Matrix had its title written as \"Matrix, The\" instead of \"The Matrix\". If you do not know the formatting used in the dataset you might want to find all movies with \"Matrix\" in the title.\n",
    "\n",
    "To do this we need to use the `filter` function, `str_detect`-function and the pipe operator `%>%`."
   ]
  },
  {
   "cell_type": "code",
   "execution_count": 9,
   "metadata": {},
   "outputs": [
    {
     "data": {
      "text/html": [
       "<table>\n",
       "<thead><tr><th scope=col>title</th><th scope=col>year</th><th scope=col>length</th><th scope=col>budget</th><th scope=col>rating</th><th scope=col>votes</th><th scope=col>r1</th><th scope=col>r2</th><th scope=col>r3</th><th scope=col>r4</th><th scope=col>⋯</th><th scope=col>r9</th><th scope=col>r10</th><th scope=col>mpaa</th><th scope=col>Action</th><th scope=col>Animation</th><th scope=col>Comedy</th><th scope=col>Drama</th><th scope=col>Documentary</th><th scope=col>Romance</th><th scope=col>Short</th></tr></thead>\n",
       "<tbody>\n",
       "\t<tr><td>Matrix Reloaded, The    </td><td>2003                    </td><td>138                     </td><td>127000000               </td><td>7.1                     </td><td> 57225                  </td><td> 4.5                    </td><td>4.5                     </td><td> 4.5                    </td><td> 4.5                    </td><td>⋯                       </td><td>14.5                    </td><td>14.5                    </td><td>R                       </td><td>1                       </td><td>0                       </td><td>0                       </td><td>0                       </td><td>0                       </td><td>0                       </td><td>0                       </td></tr>\n",
       "\t<tr><td>Matrix Revolutions, The </td><td>2003                    </td><td>125                     </td><td>110000000               </td><td>6.3                     </td><td> 40058                  </td><td> 4.5                    </td><td>4.5                     </td><td> 4.5                    </td><td> 4.5                    </td><td>⋯                       </td><td> 4.5                    </td><td>14.5                    </td><td>R                       </td><td>1                       </td><td>0                       </td><td>0                       </td><td>0                       </td><td>0                       </td><td>0                       </td><td>0                       </td></tr>\n",
       "\t<tr><td>Matrix, The             </td><td>1999                    </td><td>136                     </td><td> 63000000               </td><td>8.5                     </td><td>143853                  </td><td> 4.5                    </td><td>4.5                     </td><td> 4.5                    </td><td> 4.5                    </td><td>⋯                       </td><td>24.5                    </td><td>34.5                    </td><td>R                       </td><td>1                       </td><td>0                       </td><td>0                       </td><td>0                       </td><td>0                       </td><td>0                       </td><td>0                       </td></tr>\n",
       "\t<tr><td>Sex Files: Sexual Matrix</td><td>1999                    </td><td> 79                     </td><td>       NA               </td><td>3.2                     </td><td>    52                  </td><td>24.5                    </td><td>4.5                     </td><td>14.5                    </td><td>14.5                    </td><td>⋯                       </td><td> 4.5                    </td><td> 4.5                    </td><td>R                       </td><td>0                       </td><td>0                       </td><td>0                       </td><td>1                       </td><td>0                       </td><td>0                       </td><td>0                       </td></tr>\n",
       "\t<tr><td>That 70's Matrix        </td><td>2001                    </td><td> 35                     </td><td>     1200               </td><td>3.9                     </td><td>    24                  </td><td>34.5                    </td><td>4.5                     </td><td> 0.0                    </td><td> 4.5                    </td><td>⋯                       </td><td> 0.0                    </td><td>24.5                    </td><td>                        </td><td>1                       </td><td>0                       </td><td>1                       </td><td>0                       </td><td>0                       </td><td>0                       </td><td>1                       </td></tr>\n",
       "</tbody>\n",
       "</table>\n"
      ],
      "text/latex": [
       "\\begin{tabular}{r|llllllllllllllllllllllll}\n",
       " title & year & length & budget & rating & votes & r1 & r2 & r3 & r4 & ⋯ & r9 & r10 & mpaa & Action & Animation & Comedy & Drama & Documentary & Romance & Short\\\\\n",
       "\\hline\n",
       "\t Matrix Reloaded, The     & 2003                     & 138                      & 127000000                & 7.1                      &  57225                   &  4.5                     & 4.5                      &  4.5                     &  4.5                     & ⋯                        & 14.5                     & 14.5                     & R                        & 1                        & 0                        & 0                        & 0                        & 0                        & 0                        & 0                       \\\\\n",
       "\t Matrix Revolutions, The  & 2003                     & 125                      & 110000000                & 6.3                      &  40058                   &  4.5                     & 4.5                      &  4.5                     &  4.5                     & ⋯                        &  4.5                     & 14.5                     & R                        & 1                        & 0                        & 0                        & 0                        & 0                        & 0                        & 0                       \\\\\n",
       "\t Matrix, The              & 1999                     & 136                      &  63000000                & 8.5                      & 143853                   &  4.5                     & 4.5                      &  4.5                     &  4.5                     & ⋯                        & 24.5                     & 34.5                     & R                        & 1                        & 0                        & 0                        & 0                        & 0                        & 0                        & 0                       \\\\\n",
       "\t Sex Files: Sexual Matrix & 1999                     &  79                      &        NA                & 3.2                      &     52                   & 24.5                     & 4.5                      & 14.5                     & 14.5                     & ⋯                        &  4.5                     &  4.5                     & R                        & 0                        & 0                        & 0                        & 1                        & 0                        & 0                        & 0                       \\\\\n",
       "\t That 70's Matrix         & 2001                     &  35                      &      1200                & 3.9                      &     24                   & 34.5                     & 4.5                      &  0.0                     &  4.5                     & ⋯                        &  0.0                     & 24.5                     &                          & 1                        & 0                        & 1                        & 0                        & 0                        & 0                        & 1                       \\\\\n",
       "\\end{tabular}\n"
      ],
      "text/markdown": [
       "\n",
       "title | year | length | budget | rating | votes | r1 | r2 | r3 | r4 | ⋯ | r9 | r10 | mpaa | Action | Animation | Comedy | Drama | Documentary | Romance | Short | \n",
       "|---|---|---|---|---|\n",
       "| Matrix Reloaded, The     | 2003                     | 138                      | 127000000                | 7.1                      |  57225                   |  4.5                     | 4.5                      |  4.5                     |  4.5                     | ⋯                        | 14.5                     | 14.5                     | R                        | 1                        | 0                        | 0                        | 0                        | 0                        | 0                        | 0                        | \n",
       "| Matrix Revolutions, The  | 2003                     | 125                      | 110000000                | 6.3                      |  40058                   |  4.5                     | 4.5                      |  4.5                     |  4.5                     | ⋯                        |  4.5                     | 14.5                     | R                        | 1                        | 0                        | 0                        | 0                        | 0                        | 0                        | 0                        | \n",
       "| Matrix, The              | 1999                     | 136                      |  63000000                | 8.5                      | 143853                   |  4.5                     | 4.5                      |  4.5                     |  4.5                     | ⋯                        | 24.5                     | 34.5                     | R                        | 1                        | 0                        | 0                        | 0                        | 0                        | 0                        | 0                        | \n",
       "| Sex Files: Sexual Matrix | 1999                     |  79                      |        NA                | 3.2                      |     52                   | 24.5                     | 4.5                      | 14.5                     | 14.5                     | ⋯                        |  4.5                     |  4.5                     | R                        | 0                        | 0                        | 0                        | 1                        | 0                        | 0                        | 0                        | \n",
       "| That 70's Matrix         | 2001                     |  35                      |      1200                | 3.9                      |     24                   | 34.5                     | 4.5                      |  0.0                     |  4.5                     | ⋯                        |  0.0                     | 24.5                     |                          | 1                        | 0                        | 1                        | 0                        | 0                        | 0                        | 1                        | \n",
       "\n",
       "\n"
      ],
      "text/plain": [
       "  title                    year length budget    rating votes  r1   r2  r3  \n",
       "1 Matrix Reloaded, The     2003 138    127000000 7.1     57225  4.5 4.5  4.5\n",
       "2 Matrix Revolutions, The  2003 125    110000000 6.3     40058  4.5 4.5  4.5\n",
       "3 Matrix, The              1999 136     63000000 8.5    143853  4.5 4.5  4.5\n",
       "4 Sex Files: Sexual Matrix 1999  79           NA 3.2        52 24.5 4.5 14.5\n",
       "5 That 70's Matrix         2001  35         1200 3.9        24 34.5 4.5  0.0\n",
       "  r4   ⋯ r9   r10  mpaa Action Animation Comedy Drama Documentary Romance Short\n",
       "1  4.5 ⋯ 14.5 14.5 R    1      0         0      0     0           0       0    \n",
       "2  4.5 ⋯  4.5 14.5 R    1      0         0      0     0           0       0    \n",
       "3  4.5 ⋯ 24.5 34.5 R    1      0         0      0     0           0       0    \n",
       "4 14.5 ⋯  4.5  4.5 R    0      0         0      1     0           0       0    \n",
       "5  4.5 ⋯  0.0 24.5      1      0         1      0     0           0       1    "
      ]
     },
     "metadata": {},
     "output_type": "display_data"
    }
   ],
   "source": [
    "# Find all movies with Matrix in the title\n",
    "movies %>%\n",
    "    filter(str_detect(title,'Matrix'))"
   ]
  },
  {
   "cell_type": "markdown",
   "metadata": {},
   "source": [
    "Pipe `%>%` is used to minimize this kind of code:\n",
    "\n",
    "```r\n",
    "a <- data.frame(...)\n",
    "a_tmp1 <- func1(a)\n",
    "a_tmp2 <- func2(a_tmp1)\n",
    "b <- func3(a_tmp2)\n",
    "```\n",
    "\n",
    "With `tibble` and `%>%` the previous code block would be\n",
    "\n",
    "```r\n",
    "a <- tibble(...)\n",
    "b <- a %>% \n",
    "    func1() %>% \n",
    "    func2() %>%\n",
    "    func3()\n",
    "```\n",
    "\n",
    "Basically the pipe-operator puts output from left side to the first argument of the function call on the right side.\n",
    "\n",
    "In Tidyverse the functions `func1` etc. are called \"verbs\" and they return a `tibble` as their output. Thus the object type of input and output are the same and the pipe can be chained across multiple calls. The pipe structure works with other functions as well, but with Tidyverse verbs you can be certain that the object does not change along the way.\n",
    "\n",
    "Using the pipe produces code that has the data pipeline clearly visible.\n",
    "\n",
    "Here we used the `filter`-verb to filter data based on data's values. The argument it takes is a logical statement about some column or as it is this case, a function call that checks whether \"Matrix\" can be found in column \"title\". (See e.g. this blog post for various filter possibilites [[1]](https://data-se.netlify.com/2016/12/21/dplyr_filter/))\n",
    "\n",
    "Now that we know the exact title let's pick it."
   ]
  },
  {
   "cell_type": "code",
   "execution_count": 14,
   "metadata": {},
   "outputs": [
    {
     "data": {
      "text/html": [
       "<table>\n",
       "<thead><tr><th scope=col>title</th><th scope=col>year</th><th scope=col>length</th><th scope=col>budget</th><th scope=col>rating</th><th scope=col>votes</th><th scope=col>r1</th><th scope=col>r2</th><th scope=col>r3</th><th scope=col>r4</th><th scope=col>⋯</th><th scope=col>r9</th><th scope=col>r10</th><th scope=col>mpaa</th><th scope=col>Action</th><th scope=col>Animation</th><th scope=col>Comedy</th><th scope=col>Drama</th><th scope=col>Documentary</th><th scope=col>Romance</th><th scope=col>Short</th></tr></thead>\n",
       "<tbody>\n",
       "\t<tr><td>Matrix, The</td><td>1999       </td><td>136        </td><td>63000000   </td><td>8.5        </td><td>143853     </td><td>4.5        </td><td>4.5        </td><td>4.5        </td><td>4.5        </td><td>⋯          </td><td>24.5       </td><td>34.5       </td><td>R          </td><td>1          </td><td>0          </td><td>0          </td><td>0          </td><td>0          </td><td>0          </td><td>0          </td></tr>\n",
       "</tbody>\n",
       "</table>\n"
      ],
      "text/latex": [
       "\\begin{tabular}{r|llllllllllllllllllllllll}\n",
       " title & year & length & budget & rating & votes & r1 & r2 & r3 & r4 & ⋯ & r9 & r10 & mpaa & Action & Animation & Comedy & Drama & Documentary & Romance & Short\\\\\n",
       "\\hline\n",
       "\t Matrix, The & 1999        & 136         & 63000000    & 8.5         & 143853      & 4.5         & 4.5         & 4.5         & 4.5         & ⋯           & 24.5        & 34.5        & R           & 1           & 0           & 0           & 0           & 0           & 0           & 0          \\\\\n",
       "\\end{tabular}\n"
      ],
      "text/markdown": [
       "\n",
       "title | year | length | budget | rating | votes | r1 | r2 | r3 | r4 | ⋯ | r9 | r10 | mpaa | Action | Animation | Comedy | Drama | Documentary | Romance | Short | \n",
       "|---|\n",
       "| Matrix, The | 1999        | 136         | 63000000    | 8.5         | 143853      | 4.5         | 4.5         | 4.5         | 4.5         | ⋯           | 24.5        | 34.5        | R           | 1           | 0           | 0           | 0           | 0           | 0           | 0           | \n",
       "\n",
       "\n"
      ],
      "text/plain": [
       "  title       year length budget   rating votes  r1  r2  r3  r4  ⋯ r9   r10 \n",
       "1 Matrix, The 1999 136    63000000 8.5    143853 4.5 4.5 4.5 4.5 ⋯ 24.5 34.5\n",
       "  mpaa Action Animation Comedy Drama Documentary Romance Short\n",
       "1 R    1      0         0      0     0           0       0    "
      ]
     },
     "metadata": {},
     "output_type": "display_data"
    }
   ],
   "source": [
    "# Pick the 'Matrix, The'\n",
    "movies %>%\n",
    "    filter(title == 'Matrix, The')"
   ]
  },
  {
   "cell_type": "markdown",
   "metadata": {},
   "source": [
    "The rating vote percentages are stored in columns `r1` to `r10`. Let's use verb `select` to select columns based on their names."
   ]
  },
  {
   "cell_type": "code",
   "execution_count": 18,
   "metadata": {},
   "outputs": [
    {
     "data": {
      "text/html": [
       "<table>\n",
       "<thead><tr><th scope=col>r1</th><th scope=col>r2</th><th scope=col>r3</th><th scope=col>r4</th><th scope=col>r5</th><th scope=col>r6</th><th scope=col>r7</th><th scope=col>r8</th><th scope=col>r9</th><th scope=col>r10</th></tr></thead>\n",
       "<tbody>\n",
       "\t<tr><td>4.5 </td><td>4.5 </td><td>4.5 </td><td>4.5 </td><td>4.5 </td><td>4.5 </td><td>4.5 </td><td>14.5</td><td>24.5</td><td>34.5</td></tr>\n",
       "</tbody>\n",
       "</table>\n"
      ],
      "text/latex": [
       "\\begin{tabular}{r|llllllllll}\n",
       " r1 & r2 & r3 & r4 & r5 & r6 & r7 & r8 & r9 & r10\\\\\n",
       "\\hline\n",
       "\t 4.5  & 4.5  & 4.5  & 4.5  & 4.5  & 4.5  & 4.5  & 14.5 & 24.5 & 34.5\\\\\n",
       "\\end{tabular}\n"
      ],
      "text/markdown": [
       "\n",
       "r1 | r2 | r3 | r4 | r5 | r6 | r7 | r8 | r9 | r10 | \n",
       "|---|\n",
       "| 4.5  | 4.5  | 4.5  | 4.5  | 4.5  | 4.5  | 4.5  | 14.5 | 24.5 | 34.5 | \n",
       "\n",
       "\n"
      ],
      "text/plain": [
       "  r1  r2  r3  r4  r5  r6  r7  r8   r9   r10 \n",
       "1 4.5 4.5 4.5 4.5 4.5 4.5 4.5 14.5 24.5 34.5"
      ]
     },
     "metadata": {},
     "output_type": "display_data"
    }
   ],
   "source": [
    "# Get rating distribution for 'Matrix,The'\n",
    "\n",
    "movies %>%\n",
    "    filter(title == 'Matrix, The') %>%\n",
    "    select(r1,r2,r3,r4,r5,r6,r7,r8,r9,r10)"
   ]
  },
  {
   "cell_type": "markdown",
   "metadata": {},
   "source": [
    "This is a bit too much manual labor so lets use function `num_range` from [select_helpers](http://dplyr.tidyverse.org/reference/select_helpers.html) to choose all rows starting with \"r\" and having a number from range `1:10` at the end. "
   ]
  },
  {
   "cell_type": "code",
   "execution_count": 28,
   "metadata": {},
   "outputs": [
    {
     "data": {
      "text/html": [
       "<table>\n",
       "<thead><tr><th scope=col>r1</th><th scope=col>r2</th><th scope=col>r3</th><th scope=col>r4</th><th scope=col>r5</th><th scope=col>r6</th><th scope=col>r7</th><th scope=col>r8</th><th scope=col>r9</th><th scope=col>r10</th></tr></thead>\n",
       "<tbody>\n",
       "\t<tr><td>4.5 </td><td>4.5 </td><td>4.5 </td><td>4.5 </td><td>4.5 </td><td>4.5 </td><td>4.5 </td><td>14.5</td><td>24.5</td><td>34.5</td></tr>\n",
       "</tbody>\n",
       "</table>\n"
      ],
      "text/latex": [
       "\\begin{tabular}{r|llllllllll}\n",
       " r1 & r2 & r3 & r4 & r5 & r6 & r7 & r8 & r9 & r10\\\\\n",
       "\\hline\n",
       "\t 4.5  & 4.5  & 4.5  & 4.5  & 4.5  & 4.5  & 4.5  & 14.5 & 24.5 & 34.5\\\\\n",
       "\\end{tabular}\n"
      ],
      "text/markdown": [
       "\n",
       "r1 | r2 | r3 | r4 | r5 | r6 | r7 | r8 | r9 | r10 | \n",
       "|---|\n",
       "| 4.5  | 4.5  | 4.5  | 4.5  | 4.5  | 4.5  | 4.5  | 14.5 | 24.5 | 34.5 | \n",
       "\n",
       "\n"
      ],
      "text/plain": [
       "  r1  r2  r3  r4  r5  r6  r7  r8   r9   r10 \n",
       "1 4.5 4.5 4.5 4.5 4.5 4.5 4.5 14.5 24.5 34.5"
      ]
     },
     "metadata": {},
     "output_type": "display_data"
    }
   ],
   "source": [
    "# Get rating distribution in a more usable fashion\n",
    "movies %>%\n",
    "    filter(title == 'Matrix, The') %>%\n",
    "    select(num_range('r',1:10))"
   ]
  },
  {
   "cell_type": "markdown",
   "metadata": {},
   "source": [
    "Now we got what we want to plot, but the data is in a wrong ordering. Remember that columns were meant to be variables and rows were meant to be observations (in plot language: column y should have y-values for plot, column x should have x-values).\n",
    "\n",
    "To achieve this we can use `gather`-function from tidyr-package. [[1]](http://tidyr.tidyverse.org/reference/gather.html)\n",
    "\n",
    "`gather` can be used to take columns and their values and store them to key-value pairs. \n",
    "\n",
    "By settings `factor_key=T` the column names are stored as a `factor`. `factor` stores a mapping between strings and integers and then represents the data as a `vector` of integer. So basically `r1` is `1`, `r2`,`2`, etc. This preserves the ordering. `factor`s are useful for string data that can be ordered or categorized (identical strings have same `integer` mapped to them)."
   ]
  },
  {
   "cell_type": "code",
   "execution_count": 74,
   "metadata": {},
   "outputs": [
    {
     "data": {
      "text/html": [
       "<table>\n",
       "<thead><tr><th scope=col>rating</th><th scope=col>percentage</th></tr></thead>\n",
       "<tbody>\n",
       "\t<tr><td>r1  </td><td> 4.5</td></tr>\n",
       "\t<tr><td>r2  </td><td> 4.5</td></tr>\n",
       "\t<tr><td>r3  </td><td> 4.5</td></tr>\n",
       "\t<tr><td>r4  </td><td> 4.5</td></tr>\n",
       "\t<tr><td>r5  </td><td> 4.5</td></tr>\n",
       "\t<tr><td>r6  </td><td> 4.5</td></tr>\n",
       "\t<tr><td>r7  </td><td> 4.5</td></tr>\n",
       "\t<tr><td>r8  </td><td>14.5</td></tr>\n",
       "\t<tr><td>r9  </td><td>24.5</td></tr>\n",
       "\t<tr><td>r10 </td><td>34.5</td></tr>\n",
       "</tbody>\n",
       "</table>\n"
      ],
      "text/latex": [
       "\\begin{tabular}{r|ll}\n",
       " rating & percentage\\\\\n",
       "\\hline\n",
       "\t r1   &  4.5\\\\\n",
       "\t r2   &  4.5\\\\\n",
       "\t r3   &  4.5\\\\\n",
       "\t r4   &  4.5\\\\\n",
       "\t r5   &  4.5\\\\\n",
       "\t r6   &  4.5\\\\\n",
       "\t r7   &  4.5\\\\\n",
       "\t r8   & 14.5\\\\\n",
       "\t r9   & 24.5\\\\\n",
       "\t r10  & 34.5\\\\\n",
       "\\end{tabular}\n"
      ],
      "text/markdown": [
       "\n",
       "rating | percentage | \n",
       "|---|---|---|---|---|---|---|---|---|---|\n",
       "| r1   |  4.5 | \n",
       "| r2   |  4.5 | \n",
       "| r3   |  4.5 | \n",
       "| r4   |  4.5 | \n",
       "| r5   |  4.5 | \n",
       "| r6   |  4.5 | \n",
       "| r7   |  4.5 | \n",
       "| r8   | 14.5 | \n",
       "| r9   | 24.5 | \n",
       "| r10  | 34.5 | \n",
       "\n",
       "\n"
      ],
      "text/plain": [
       "   rating percentage\n",
       "1  r1      4.5      \n",
       "2  r2      4.5      \n",
       "3  r3      4.5      \n",
       "4  r4      4.5      \n",
       "5  r5      4.5      \n",
       "6  r6      4.5      \n",
       "7  r7      4.5      \n",
       "8  r8     14.5      \n",
       "9  r9     24.5      \n",
       "10 r10    34.5      "
      ]
     },
     "metadata": {},
     "output_type": "display_data"
    }
   ],
   "source": [
    "movies %>%\n",
    "    filter(title == 'Matrix, The') %>%\n",
    "    select(num_range('r',1:10)) %>%\n",
    "    gather(key='rating',value='percentage',factor_key=T)"
   ]
  },
  {
   "cell_type": "markdown",
   "metadata": {},
   "source": [
    "Now we want to plot the result. To do this let's use functions from ggplot2.\n",
    "\n",
    "`ggplot2` function can be used to create a figure. It takes as its argument an `aes` or aesthetic mapping that defines which columns are mapped to which axes.\n",
    "\n",
    "After specifying the figure one can use calls to various ggplot2-functions to add plots or properties to the figure.\n",
    "`+`-operator is used to sum all of these together.\n",
    "\n",
    "In this case let's use `geom_col` to create a bar plot. It sets bars heights based on data values. [[1]](http://ggplot2.tidyverse.org/reference/geom_bar.html)\n"
   ]
  },
  {
   "cell_type": "code",
   "execution_count": 78,
   "metadata": {},
   "outputs": [
    {
     "data": {},
     "metadata": {},
     "output_type": "display_data"
    },
    {
     "data": {
      "image/png": "[encoded data removed]",
      "text/plain": [
       "plot without title"
      ]
     },
     "metadata": {},
     "output_type": "display_data"
    }
   ],
   "source": [
    "movies %>%\n",
    "    filter(title == 'Matrix, The') %>%\n",
    "    select(num_range('r',1:10)) %>%\n",
    "    gather(key='rating',value='percentage',factor_key=T) %>%\n",
    "    ggplot(aes(x=rating,y=percentage)) +\n",
    "            geom_col()"
   ]
  },
  {
   "cell_type": "markdown",
   "metadata": {},
   "source": [
    "This plot is already something, but we can make it more beautiful. Let's change the ratings from `r1` to `1` etc.. As rating-variable is a `factor` (basically a `vector` of integers), we can use `mutate`-verb with `as.integer` to make the conversion.\n",
    "\n",
    "`mutate` can be used to create new variables or to modify existing ones. It keeps rest of the variables intact. `transmute` would drop rest of the variables. [[1]](http://dplyr.tidyverse.org/reference/mutate.html)"
   ]
  },
  {
   "cell_type": "code",
   "execution_count": 82,
   "metadata": {},
   "outputs": [
    {
     "data": {},
     "metadata": {},
     "output_type": "display_data"
    },
    {
     "data": {
      "image/png": "[encoded data removed]",
      "text/plain": [
       "plot without title"
      ]
     },
     "metadata": {},
     "output_type": "display_data"
    }
   ],
   "source": [
    "movies %>%\n",
    "    filter(title == 'Matrix, The') %>%\n",
    "    select(num_range('r',1:10)) %>%\n",
    "    gather(key='rating',value='percentage',factor_key=T) %>%\n",
    "    mutate(rating=as.integer(rating)) %>%\n",
    "    ggplot(aes(x=rating,y=percentage)) +\n",
    "            geom_col()"
   ]
  },
  {
   "cell_type": "markdown",
   "metadata": {},
   "source": [
    "This worked, but now the x-axis looks bad. Lets convert the rating to `factor` so that x-axis is strings instead of integers."
   ]
  },
  {
   "cell_type": "code",
   "execution_count": 83,
   "metadata": {},
   "outputs": [
    {
     "data": {},
     "metadata": {},
     "output_type": "display_data"
    },
    {
     "data": {
      "image/png": "[encoded data removed]",
      "text/plain": [
       "plot without title"
      ]
     },
     "metadata": {},
     "output_type": "display_data"
    }
   ],
   "source": [
    "movies %>%\n",
    "    filter(title == 'Matrix, The') %>%\n",
    "    select(num_range('r',1:10)) %>%\n",
    "    gather(key='rating',value='percentage',factor_key=T) %>%\n",
    "    mutate(rating=factor(as.integer(rating))) %>%\n",
    "    ggplot(aes(x=rating,y=percentage)) +\n",
    "            geom_col()"
   ]
  },
  {
   "cell_type": "markdown",
   "metadata": {},
   "source": [
    "Great. Lets finish the job by specifying axis labels with `xlab` and  `ylab` and specifying title with `ggtitle`. [[1]](http://ggplot2.tidyverse.org/reference/labs.html)"
   ]
  },
  {
   "cell_type": "code",
   "execution_count": 88,
   "metadata": {},
   "outputs": [
    {
     "data": {},
     "metadata": {},
     "output_type": "display_data"
    },
    {
     "data": {
      "image/png": "[encoded data removed]",
      "text/plain": [
       "plot without title"
      ]
     },
     "metadata": {},
     "output_type": "display_data"
    }
   ],
   "source": [
    "movies %>%\n",
    "    filter(title == 'Matrix, The') %>%\n",
    "    select(num_range('r',1:10)) %>%\n",
    "    gather(key='rating',value='percentage',factor_key=T) %>%\n",
    "    mutate(rating=factor(as.integer(rating))) %>%\n",
    "    ggplot(aes(x=rating,y=percentage)) +\n",
    "            geom_col() +\n",
    "            ggtitle('Ratings distribution for movie \"The Matrix\"') +\n",
    "            xlab('Rating') +\n",
    "            ylab('Percentage of ratings')"
   ]
  },
  {
   "cell_type": "markdown",
   "metadata": {},
   "source": [
    "This looks nice. With small additions one can even plot the whole trilogy.\n",
    "\n",
    "Here:\n",
    "1. Movies were chosen based on whether both \"Matrix\" and \"The\" were present in title.\n",
    "2. Columns year and title were included with the select-statement.\n",
    "3. Title and year were excluded from column gathering with `-title` and `-year`.\n",
    "4. In `aes`-mapping the `fill` keyword was used to specify the fill colour names. By using `reorder` the titles were re-ordered based on publishing year.\n",
    "5. x-, y- and fill-labels were set using `labs`-function.\n"
   ]
  },
  {
   "cell_type": "code",
   "execution_count": 126,
   "metadata": {},
   "outputs": [
    {
     "data": {},
     "metadata": {},
     "output_type": "display_data"
    },
    {
     "data": {
      "image/png": "[encoded data removed]",
      "text/plain": [
       "plot without title"
      ]
     },
     "metadata": {},
     "output_type": "display_data"
    }
   ],
   "source": [
    "movies %>%\n",
    "    filter(str_detect(title,'Matrix') & str_detect(title,'The')) %>%\n",
    "    select(num_range('r',1:10),title,year) %>%\n",
    "    gather(key='rating',value='percentage',-title,-year,factor_key=T) %>%\n",
    "    mutate(rating=factor(as.integer(rating))) %>%\n",
    "    ggplot(aes(x=rating,y=percentage,fill=reorder(title,year))) +\n",
    "            geom_col(position='dodge') +\n",
    "            ggtitle('Ratings distribution for \"The Matrix\"-trilogy') +\n",
    "            labs(x='Rating',y='Percentage of ratings',fill='Movie title')"
   ]
  },
  {
   "cell_type": "markdown",
   "metadata": {},
   "source": []
  },
  {
   "cell_type": "code",
   "execution_count": 25,
   "metadata": {},
   "outputs": [
    {
     "data": {
      "text/html": [
       "<table>\n",
       "<thead><tr><th scope=col>rating</th></tr></thead>\n",
       "<tbody>\n",
       "\t<tr><td>8.5</td></tr>\n",
       "</tbody>\n",
       "</table>\n"
      ],
      "text/latex": [
       "\\begin{tabular}{r|l}\n",
       " rating\\\\\n",
       "\\hline\n",
       "\t 8.5\\\\\n",
       "\\end{tabular}\n"
      ],
      "text/markdown": [
       "\n",
       "rating | \n",
       "|---|\n",
       "| 8.5 | \n",
       "\n",
       "\n"
      ],
      "text/plain": [
       "  rating\n",
       "1 8.5   "
      ]
     },
     "metadata": {},
     "output_type": "display_data"
    },
    {
     "name": "stdout",
     "output_type": "stream",
     "text": [
      "# A tibble: 1 x 10\n",
      "     r1    r2    r3    r4    r5    r6    r7    r8    r9   r10\n",
      "  <dbl> <dbl> <dbl> <dbl> <dbl> <dbl> <dbl> <dbl> <dbl> <dbl>\n",
      "1  4.50  4.50  4.50  4.50  4.50  4.50  4.50  14.5  24.5  34.5\n",
      "# A tibble: 10 x 2\n",
      "   Rating Percentage\n",
      "   <fct>       <dbl>\n",
      " 1 r1           4.50\n",
      " 2 r2           4.50\n",
      " 3 r3           4.50\n",
      " 4 r4           4.50\n",
      " 5 r5           4.50\n",
      " 6 r6           4.50\n",
      " 7 r7           4.50\n",
      " 8 r8          14.5 \n",
      " 9 r9          24.5 \n",
      "10 r10         34.5 \n"
     ]
    },
    {
     "data": {},
     "metadata": {},
     "output_type": "display_data"
    },
    {
     "data": {
      "image/png": "[encoded data removed]",
      "text/plain": [
       "plot without title"
      ]
     },
     "metadata": {},
     "output_type": "display_data"
    }
   ],
   "source": [
    "\n",
    "# Check the rating\n",
    "the_matrix %>%\n",
    "    select(rating)\n",
    "\n",
    "# Get rating distribution for 'Matrix,The'\n",
    "\n",
    "the_matrix_ratings <- movies %>%\n",
    "    filter(title == 'Matrix, The') %>%\n",
    "    select(num_range('r',1:10))\n",
    "\n",
    "print(the_matrix_ratings)\n",
    "\n",
    "# Now we want to make r1-r10 into observations i.e. turn columns into rows\n",
    "\n",
    "the_matrix_ratings <- the_matrix_ratings %>%\n",
    "    gather(key='Rating',value='Percentage',factor_key=T)\n",
    "\n",
    "print(the_matrix_ratings)\n",
    "\n",
    "# Now lets plot the ratings as a bar chart\n",
    "\n",
    "the_matrix_ratings %>%\n",
    "    ggplot(aes(x=Rating,y=Percentage)) +\n",
    "        geom_bar(stat='identity')"
   ]
  },
  {
   "cell_type": "code",
   "execution_count": null,
   "metadata": {},
   "outputs": [],
   "source": []
  },
  {
   "cell_type": "markdown",
   "metadata": {},
   "source": [
    "## Data types and variables\n",
    "\n",
    "In R for the most of your time your data will be of the following types:\n",
    "- `logical`is a boolean value with values `TRUE` OR `FALSE`.\n",
    "- `int`/`integer` is a integer number. It is differentiated from generic numbers with an `L`-letter in the end. E.g. `3L`.\n",
    "- `num`/`numeric`/`double` is a generic floating point number.\n",
    "- `complex` refers to complex point numbers. One can specify them in the form `4 + 17i`.\n",
    "- `chr`/`character` refers both to individual characters and character strings.\n",
    "\n",
    "Data type of an object can be found with `typeof`-function.\n",
    "\n",
    "Variables in R are set with the assignment operator `<-`. `print`-function prints variables."
   ]
  },
  {
   "cell_type": "code",
   "execution_count": null,
   "metadata": {},
   "outputs": [],
   "source": []
  },
  {
   "cell_type": "code",
   "execution_count": null,
   "metadata": {},
   "outputs": [],
   "source": [
    "boolean_var <- FALSE\n",
    "integer_var <- 73L\n",
    "numeric_var <- 3.2\n",
    "character_var <- 'Aalto'\n",
    "complex_var <- 3+2i\n",
    "\n",
    "typeof(boolean_var)\n",
    "typeof(integer_var)\n",
    "typeof(numeric_var)\n",
    "typeof(character_var)\n",
    "typeof(complex_var)\n",
    "\n",
    "print(integer_var)"
   ]
  },
  {
   "cell_type": "markdown",
   "metadata": {},
   "source": [
    "## Atomic vectors\n",
    "\n",
    "R is a vectorized language. This means that most objects are `vector`-objects or built from `vector`s.\n",
    "\n",
    "A atomic `vector` in R is a contiguous series of values where all values share a common data type. `vector`'s length is specified at its creation time.\n",
    "\n",
    "To create a `vector` one can use the `vector`-function. It takes as its arguments the type and the length.\n",
    "\n",
    "More often one uses the `c`-function (concatenate/combine) to combine data into a `vector`. When using this it is a good idea to make sure that types of the input data match or you will get a type conversion.\n",
    "\n",
    "`str` (structure) can be used to get lots of readable information on vectors."
   ]
  },
  {
   "cell_type": "code",
   "execution_count": null,
   "metadata": {},
   "outputs": [],
   "source": [
    "# Initialization using the vector-function\n",
    "integer_vector <- vector('integer',5)\n",
    "str(integer_vector)\n",
    "\n",
    "# A vector of integers (note the L-letters)\n",
    "integers <- c(1L, 2L, 5L, 7L)\n",
    "str(integers)\n",
    "\n",
    "# A vector of floating point numbers\n",
    "floats <- c(7.5, 28.1, 0.3, 3.4)\n",
    "str(floats)\n",
    "\n",
    "# A vector containting character strings\n",
    "characters <- c('fox', 'lynx', 'tiger', 'cat')\n",
    "str(characters)\n",
    "\n",
    "# A vector of generic numbers (note that type is not integer)\n",
    "not_integers <- c(1, 2, 5, 7)\n",
    "str(not_integers)\n",
    "\n",
    "# Output determined by highest type in hierarchy:\n",
    "# logical < integer < double < complex < character\n",
    "type_conversion_warning <- c(TRUE,1L,7.5,'fox',1)\n",
    "str(type_conversion_warning)"
   ]
  },
  {
   "cell_type": "markdown",
   "metadata": {},
   "source": [
    "### Vector indexing\n",
    "\n",
    "Length of a `vector` can be obtained with function `length`.\n",
    "\n",
    "`vector`s can be accessed by index using the `[start:finish]`-syntax, but typically one uses functions with `apply`-structures to access and modify them. More on that later.\n",
    "\n",
    "One can also provide an indexing `vector` with the indices given as numbers. Indices in R start from 1."
   ]
  },
  {
   "cell_type": "code",
   "execution_count": null,
   "metadata": {},
   "outputs": [],
   "source": [
    "# Value at index 2\n",
    "integers[2]\n",
    "# Values from index 2 to the end\n",
    "floats[2:length(floats)]\n",
    "# Values from index 2 to one before the end\n",
    "characters[2:(length(characters)-1)]\n",
    "# Values at indices 2 and 4 (note indexing with a vector)\n",
    "not_integers[c(2,4)]"
   ]
  },
  {
   "cell_type": "markdown",
   "metadata": {},
   "source": [
    "Indexing with indices is quite rarely the way you want to access data as that forces you to keep track of data placement. More often you're interested in a certain range of data. For this you need logical indexing, where you create an indexing `vector` with a logical expression.\n",
    "\n",
    "This indexing `vector` can then be used to slice the `vector`. Most of the time you don't need to store the indexing `vector`."
   ]
  },
  {
   "cell_type": "code",
   "execution_count": null,
   "metadata": {},
   "outputs": [],
   "source": [
    "# Create an indexing vector\n",
    "indexing_vector <- integers > 3\n",
    "# Result is a boolean vector with the same dimensions as the original vector \n",
    "print(indexing_vector)\n",
    "# This indexing vector can be used to index the original vector\n",
    "integers[indexing_vector]\n",
    "\n",
    "# Same as a one-liner\n",
    "integers[integers > 3]"
   ]
  },
  {
   "cell_type": "markdown",
   "metadata": {},
   "source": [
    "### Performance alert: Changing vector's size slows code down\n",
    "\n",
    "One can edit the `vector` and their values after they have been created, but one needs to be mindful of the operations.\n",
    "\n",
    "Some operations (like changes in values) are done *in place*. This means that the memory values are changed, but there was no need to create a new `vector`. This type of operation is fast and does not require additional memory.\n",
    "\n",
    "On the other hand some operations (like appending) change the `vector` length. This forces the creation of a new `vector`, into which values from the old object are copied. This type of operation slows the code down and requires additional memory.\n",
    "\n",
    "In R it is usually best to reserve a `vector` of the size you will use first and populate it with values afterwards."
   ]
  },
  {
   "cell_type": "markdown",
   "metadata": {},
   "source": [
    "## Factors\n",
    "\n",
    "`factor`s are a special case of `vector`s that are used to store character strings in a more efficient way. This is especially important with data that can be split into categories.\n",
    "\n",
    "In a `factor` each unique string in a `vector` is stored as an integer and the mapping between these integers and the original strings is stored as levels.\n",
    "\n",
    "By using the `ordered=TRUE`-argument one can tell that data is ordered. With ordered `factor`s one can use logical indexing."
   ]
  },
  {
   "cell_type": "code",
   "execution_count": null,
   "metadata": {},
   "outputs": [],
   "source": [
    "# R contains a constant list of month names\n",
    "month.name\n",
    "\n",
    "# Get a random sample of 10000 months from the month.name vector (e.g. birth months of participants in a study)\n",
    "months <- sample(month.name, 10000, replace=T)\n",
    "\n",
    "# Show months distribution in a table\n",
    "table(months)\n",
    "\n",
    "# Check how big the vector is in the memory\n",
    "object.size(months)\n",
    "\n",
    "# Now make the vector into a factor\n",
    "months_f <- factor(months)\n",
    "\n",
    "# Print month distribution in the table\n",
    "table(months_f)\n",
    "\n",
    "# Check how big the vector is in the memory\n",
    "object.size(months_f)\n",
    "\n",
    "# Make a new factor, but this time give the possible levels that data can take and tell that the levels are ordered\n",
    "months_f2 <- factor(months, levels=month.name, ordered=TRUE)\n",
    "\n",
    "# Print table (note that it is in order)\n",
    "table(months_f2)\n",
    "\n",
    "# Check how many of the months in the factor are on the second half of the year\n",
    "sum(months_f2 > 'June')"
   ]
  },
  {
   "cell_type": "markdown",
   "metadata": {},
   "source": [
    "## Lists\n",
    "\n",
    "Sometimes you need a `vector` with mixed data types. In this case you need a `list`."
   ]
  },
  {
   "cell_type": "code",
   "execution_count": null,
   "metadata": {},
   "outputs": [],
   "source": [
    "example_list <- list('a',3L,4.3,3+2i)\n",
    "str(example_list)"
   ]
  },
  {
   "cell_type": "markdown",
   "metadata": {},
   "source": [
    "`list` can also have named elements. During list creation they can be given as keyword arguments to the function call.\n",
    "\n",
    "New elements can also be created with `$name`.\n",
    "\n",
    "After `list` has been created there's quite a few ways to access its contents:\n",
    "- `[ ]` returns a slice of the list that keeps the names intact. Thus it always returns a list.\n",
    "- `[[ ]]` or `$` returns the value stored in key. Type of the object depends on the stored object.\n",
    "\n"
   ]
  },
  {
   "cell_type": "code",
   "execution_count": null,
   "metadata": {},
   "outputs": [],
   "source": [
    "# Initialize a list with various data types\n",
    "example_list2 <- list(3L,42.4,something='nothing',c(13.2,32.2),boolean=TRUE, l=list(32.2,1.6))\n",
    "\n",
    "# Add a new variable to the list\n",
    "example_list2$variable <- 3.4\n",
    "\n",
    "# Return a slice of the list\n",
    "print('Slice:')\n",
    "example_list2['something']\n",
    "class(example_list2['something'])\n",
    "\n",
    "# Return the value of 'something'\n",
    "print('Value:')\n",
    "example_list2[['something']]\n",
    "class(example_list2[['something']])\n",
    "example_list2$something\n",
    "class(example_list2$something)\n",
    "\n",
    "print('The whole list')\n",
    "\n",
    "# Print the list. Note that the named values have indices.\n",
    "print(example_list2)"
   ]
  },
  {
   "cell_type": "markdown",
   "metadata": {},
   "source": [
    "### Performance alert: list is still a vector\n",
    "\n",
    "The comment about `vector` size changes still matters with `list`s contents. If sizes of `vectors` contained in a `list` are modified, they need to be copied. Likewise if additional entries are added to the list, the whole list needs to be copied as well. "
   ]
  },
  {
   "cell_type": "markdown",
   "metadata": {},
   "source": [
    "## Matrices\n",
    "\n",
    "`matrix` is two-dimensional `vector`. It can be created with the `matrix`-function. Matrices have dimensions instead of lenght and these can be accessed through `dim`-function."
   ]
  },
  {
   "cell_type": "code",
   "execution_count": null,
   "metadata": {},
   "outputs": [],
   "source": [
    "# Using seq-function to create a sequence\n",
    "example_matrix <- matrix(seq(0,5),nrow=3,ncol=2)\n",
    "print(example_matrix)\n",
    "\n",
    "dim(example_matrix)"
   ]
  },
  {
   "cell_type": "markdown",
   "metadata": {},
   "source": [
    "Two-dimensional indicing is done with `[ , ]`. Rows are to the left of comma, columns to the right. "
   ]
  },
  {
   "cell_type": "code",
   "execution_count": null,
   "metadata": {},
   "outputs": [],
   "source": [
    "# Get first row (note that leaving columns empty means all columns)\n",
    "example_matrix[1,]\n",
    "# Get second column\n",
    "example_matrix[,2]\n",
    "# Get submatrix\n",
    "example_matrix[2:3,1:2]\n",
    "\n",
    "# One can also traverse the matrix in a flattened order (R uses column-major order)\n",
    "example_matrix[4]"
   ]
  },
  {
   "cell_type": "markdown",
   "metadata": {},
   "source": [
    "## Data frames\n",
    "\n",
    "The `list`-object is much more usable than `vector`, but even more usable is the `data.frame`.\n",
    "\n",
    "`data.frame` contains data in square tabular form, where each column is a observable and each row is an observation.[1](https://stat.ethz.ch/R-manual/R-devel/library/base/html/data.frame.html)\n",
    "\n",
    "Let us load a internal R sample data set that has car information."
   ]
  },
  {
   "cell_type": "code",
   "execution_count": null,
   "metadata": {},
   "outputs": [],
   "source": [
    "cars <- mtcars\n",
    "is.data.frame(cars)\n",
    "\n",
    "# Print only first rows\n",
    "head(cars)"
   ]
  },
  {
   "cell_type": "markdown",
   "metadata": {},
   "source": [
    "The names of the columns and rows can be accessed through `colnames` and `rownames`. \n",
    "\n",
    "Number of columns and rows can be obtained with `ncol` and `nrow`."
   ]
  },
  {
   "cell_type": "code",
   "execution_count": null,
   "metadata": {},
   "outputs": [],
   "source": [
    "colnames(cars)\n",
    "rownames(cars)\n",
    "ncol(cars)\n",
    "nrow(cars)"
   ]
  },
  {
   "cell_type": "markdown",
   "metadata": {},
   "source": [
    "`data.frame` access is typically done through these names."
   ]
  },
  {
   "cell_type": "code",
   "execution_count": null,
   "metadata": {},
   "outputs": [],
   "source": [
    "# Get specific row, all columns\n",
    "cars[\"Dodge Challenger\",]\n",
    "# Get mpg for Dodge Challenger\n",
    "cars[[\"Dodge Challenger\",\"mpg\"]]\n",
    "# Get all rows, specific columns\n",
    "cars[,c(\"cyl\",\"disp\")]\n",
    "# Create a boolean vector where each row is TRUE or FALSE based on whether cyl == 6 or not\n",
    "cyl6 <- cars[,\"cyl\"] == 6\n",
    "cyl6\n",
    "# Get all rows based on an indexing vector\n",
    "cars[cyl6,]"
   ]
  },
  {
   "cell_type": "markdown",
   "metadata": {},
   "source": [
    "Let's create a new column from *mpg* that shows litre per 100 kilometres *lkm*: "
   ]
  },
  {
   "cell_type": "code",
   "execution_count": null,
   "metadata": {},
   "outputs": [],
   "source": [
    "cars[\"l100km\"] <- 235.214583 / cars[\"mpg\"]\n",
    "head(cars)"
   ]
  },
  {
   "cell_type": "markdown",
   "metadata": {},
   "source": [
    "## Tibbles\n",
    "\n",
    "`tibble` is a popular extension of `data.frame` and it is part of a famous [Tidyverse](https://www.tidyverse.org/)-flavor of R. It is meant to be simpler to use than `data.frame`. [[1]](http://tibble.tidyverse.org/)"
   ]
  },
  {
   "cell_type": "code",
   "execution_count": null,
   "metadata": {},
   "outputs": [],
   "source": [
    "library(tidyverse)\n",
    "\n",
    "cars_tibble <- as_tibble(mtcars)\n",
    "\n",
    "print(cars_tibble)"
   ]
  },
  {
   "cell_type": "markdown",
   "metadata": {},
   "source": [
    "It is obvious that the `print` on a `tibble`is more informative than the one used a `data.frame`. Firsly, one does not need to use `head` to see just the beginning of data. Secondly, column data types and the overall size of the `tibble` are clearly visible.\n",
    "\n",
    "`tibble` does some things differently to `data.frame`. Firsly, it never converts data types of variables (e.g. `vector`s of type `character` into `factor`s). Secondly, it does not generate row names. These changes are made to make the code more consistent and predictable. To add row names as a new column one needs to use `rownames_to_column`:"
   ]
  },
  {
   "cell_type": "code",
   "execution_count": null,
   "metadata": {},
   "outputs": [],
   "source": [
    "cars_tibble <- as_tibble(rownames_to_column(mtcars))\n",
    "print(cars_tibble)"
   ]
  },
  {
   "cell_type": "markdown",
   "metadata": {},
   "source": [
    "Parts of a `tibble` are accessed using \"verbs\" of Tidyverse in conjuction with a pipe-structure.\n",
    "\n",
    "Pipe `%>%` is used to minimize this kind of code:\n",
    "\n",
    "```r\n",
    "a <- data.frame(...)\n",
    "a_tmp1 <- func1(a)\n",
    "a_tmp2 <- func2(a_tmp1)\n",
    "b <- func3(a_tmp2)\n",
    "```\n",
    "\n",
    "with `tibble` and `%>%` the previous structure would be\n",
    "\n",
    "```r\n",
    "a <- tibble(...)\n",
    "b <- a %>% \n",
    "    func1() %>% \n",
    "    func2() %>%\n",
    "    func3()\n",
    "```\n",
    "\n",
    "For data-access the imporant verbs are:\n",
    "- `mutate()`, which adds new variables based on existing variables [[1]](http://dplyr.tidyverse.org/reference/mutate.html)\n",
    "- `select()`, which picks variables based on their names [[2]](http://dplyr.tidyverse.org/reference/select.html)\n",
    "- `filter()`, which picks variables based on their values [[3]](http://dplyr.tidyverse.org/reference/filter.html)\n",
    "- `arrange()`, which reorders rows [[4]](http://dplyr.tidyverse.org/reference/arrange.html)\n",
    "\n",
    "One can also use functions\n",
    "`add_column` and `add_row` to add other data into a `tibble`.[[5]](https://tibble.tidyverse.org/reference/add_column.html) [[6]](https://tibble.tidyverse.org/reference/add_row.html)\n",
    "\n",
    "Previous example with `tibble` would be:"
   ]
  },
  {
   "cell_type": "code",
   "execution_count": null,
   "metadata": {},
   "outputs": [],
   "source": [
    "cars_tibble %>% \n",
    "    filter(rowname == 'Dodge Challenger')\n",
    "\n",
    "cars_tibble %>% \n",
    "    filter(rowname == 'Dodge Challenger') %>% \n",
    "    select('mpg')\n",
    "\n",
    "cars_tibble %>% \n",
    "    select('cyl','disp')\n",
    "\n",
    "cars_tibble %>% \n",
    "    filter(cyl == 6)\n",
    "\n",
    "# Calculate l100km into a variable\n",
    "\n",
    "cars_tibble <- cars_tibble %>%\n",
    "    mutate(l100km = 235.214583/mpg)\n",
    "\n",
    "# Obtain l100km from outside data\n",
    "\n",
    "cars_tibble <- cars_tibble %>%\n",
    "    add_column(l100km_2 = cars[['l100km']])\n",
    "\n",
    "print(cars_tibble)"
   ]
  },
  {
   "cell_type": "markdown",
   "metadata": {},
   "source": [
    "It is important to note that all of the operations returned a `tibble`. This makes handling data much easier as you don't need to worry about converting objects."
   ]
  },
  {
   "cell_type": "markdown",
   "metadata": {},
   "source": [
    "## Functions\n",
    "\n",
    "R is a highly procedural language. This means that most of the time you'll modify data through function calls. A function is defined into a variable with the assignment operator `<-` and the `function`-statement:"
   ]
  },
  {
   "cell_type": "code",
   "execution_count": null,
   "metadata": {},
   "outputs": [],
   "source": [
    "example_function <- function (argument, optional_argument='optional not set') {\n",
    "    print(argument)\n",
    "    print(optional_argument)\n",
    "    return(0)\n",
    "}\n",
    "\n",
    "# Do not give an optional argument\n",
    "example_function('test')\n",
    "# Give arguments with positional placement\n",
    "example_function('test2','optional set')\n",
    "# Give arguments with keywords\n",
    "example_function(optional_argument='optional_set3',argument='test3')\n",
    "# Missing an argument returns an error, catch it with try()\n",
    "print(try(example_function()))"
   ]
  },
  {
   "cell_type": "markdown",
   "metadata": {},
   "source": [
    "Arguments are specified in the function definition. Ones with default values are considered optional. Positional arguments are evaluated from left to right. During function call one can also specify arguments by giving their names.\n",
    "\n",
    "Output of the function call is returned with a call to the `return`-function. One can also use `invisible` to return the output only if it asked during function call. Returning output is especially important if you want to write a function that works with the Tidyverse pipe.\n",
    "\n",
    "It is important to know that in R all objects are immutable. This means that if you provide a function with an object, R will copy this object once it is has been accessed (lazy loading) and any changes you make to this object are not done to the original object unless you assign the result to the original object."
   ]
  },
  {
   "cell_type": "code",
   "execution_count": null,
   "metadata": {},
   "outputs": [],
   "source": [
    "x <- (1:10)\n",
    "\n",
    "does_not_multiply_a_vector <- function (multiplier,inputvector) {\n",
    "    inputvector <- multiplier * inputvector\n",
    "    print('Input in function scope:')\n",
    "    print(inputvector)\n",
    "}\n",
    "\n",
    "print('Input:')\n",
    "print(x)\n",
    "does_not_multiply_a_vector(2,x)\n",
    "print('Input after function call:')\n",
    "print(x)\n",
    "\n",
    "does_multiply_a_vector <- function (multiplier,inputvector) {\n",
    "    inputvector <- multiplier * inputvector\n",
    "    print('Input in function scope:')\n",
    "    print(inputvector)\n",
    "    return(inputvector)\n",
    "}\n",
    "\n",
    "print('Input:')\n",
    "print(x)\n",
    "x <- does_multiply_a_vector(2,x)\n",
    "print('Input after function call:')\n",
    "print(x)"
   ]
  },
  {
   "cell_type": "markdown",
   "metadata": {},
   "source": [
    "With Tinyverse verbs the previous example is of course more terse:"
   ]
  },
  {
   "cell_type": "code",
   "execution_count": null,
   "metadata": {},
   "outputs": [],
   "source": [
    "x_tibble <- tibble(x=(1:10))\n",
    "print(x_tibble)\n",
    "x_tibble <- x_tibble %>%\n",
    "    mutate(x = x*2)\n",
    "\n",
    "print(x_tibble)"
   ]
  }
 ],
 "metadata": {
  "kernelspec": {
   "display_name": "R",
   "language": "R",
   "name": "ir"
  },
  "language_info": {
   "codemirror_mode": "r",
   "file_extension": ".r",
   "mimetype": "text/x-r-source",
   "name": "R",
   "pygments_lexer": "r",
   "version": "3.2.3"
  }
 },
 "nbformat": 4,
 "nbformat_minor": 2
}

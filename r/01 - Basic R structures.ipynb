{
 "cells": [
  {
   "cell_type": "markdown",
   "metadata": {},
   "source": [
    "# Introduction\n",
    "\n",
    "## Goals\n",
    "\n",
    "By the end of this course, you should be able to\n",
    "- Do basic data analysis using R or Python/Pandas, with a special emphasis on\n",
    "  - triton, or other similar HPC cluster environments\n",
    "  - workflows, I/O strategies etc. that work on HPC clusters.\n",
    "\n",
    "What this course is NOT:\n",
    "- A basic course in programming. We don't expect you to have prior knowledge of R or Python, but some programming experience is required.\n",
    "- A basic course in statistics / machine learning. As part of the course we'll do some simple stuff, but we expect that you either understand the statistics from before or learn it on your own.\n",
    "\n",
    "Topics that we're going to cover\n",
    "- The dataframe data structure, and how it relates to other common data structures.\n",
    "- Working with dataframes. Indexing, etc.\n",
    "- Visualizing your results."
   ]
  },
  {
   "cell_type": "markdown",
   "metadata": {},
   "source": [
    "## Note about syntax\n",
    "\n",
    "Anything written like `this` refers to R-code. Depending on context it might be a type or a function."
   ]
  },
  {
   "cell_type": "markdown",
   "metadata": {},
   "source": [
    "# Basic R structures and objects"
   ]
  },
  {
   "cell_type": "markdown",
   "metadata": {},
   "source": [
    "## Libraries\n",
    "\n",
    "R has a wide variety of libraries supplied in the R-CRAN-network (Comprehensive R Archive Network). Installing these libraries is usually as simple as running:\n",
    "\n",
    "`install.package(\"packagename\")`\n",
    "\n",
    "Loading these libraries is done with:\n",
    "\n",
    "`library(packagename)`"
   ]
  },
  {
   "cell_type": "markdown",
   "metadata": {},
   "source": [
    "## Data types and variables\n",
    "\n",
    "In R for the most of your time your data will be of the following types:\n",
    "- `logical`is a boolean value with values `TRUE` OR `FALSE`.\n",
    "- `integer` is a integer number. It is differentiated from generic numbers with an `L`-letter in the end. E.g. `3L`.\n",
    "- `numeric` or `double` is a generic floating point number.\n",
    "- `complex` refers to complex point numbers. One can specify them in the form `4 + 17i`.\n",
    "- `character` refers both to individual characters and character strings.\n",
    "\n",
    "Data type of an object can be found with `typeof`-function.\n",
    "\n",
    "Variables in R are set with the assignment operator `<-`. `print`-function prints variables."
   ]
  },
  {
   "cell_type": "code",
   "execution_count": 79,
   "metadata": {},
   "outputs": [
    {
     "data": {
      "text/html": [
       "'logical'"
      ],
      "text/latex": [
       "'logical'"
      ],
      "text/markdown": [
       "'logical'"
      ],
      "text/plain": [
       "[1] \"logical\""
      ]
     },
     "metadata": {},
     "output_type": "display_data"
    },
    {
     "data": {
      "text/html": [
       "'integer'"
      ],
      "text/latex": [
       "'integer'"
      ],
      "text/markdown": [
       "'integer'"
      ],
      "text/plain": [
       "[1] \"integer\""
      ]
     },
     "metadata": {},
     "output_type": "display_data"
    },
    {
     "data": {
      "text/html": [
       "'double'"
      ],
      "text/latex": [
       "'double'"
      ],
      "text/markdown": [
       "'double'"
      ],
      "text/plain": [
       "[1] \"double\""
      ]
     },
     "metadata": {},
     "output_type": "display_data"
    },
    {
     "data": {
      "text/html": [
       "'character'"
      ],
      "text/latex": [
       "'character'"
      ],
      "text/markdown": [
       "'character'"
      ],
      "text/plain": [
       "[1] \"character\""
      ]
     },
     "metadata": {},
     "output_type": "display_data"
    },
    {
     "data": {
      "text/html": [
       "'complex'"
      ],
      "text/latex": [
       "'complex'"
      ],
      "text/markdown": [
       "'complex'"
      ],
      "text/plain": [
       "[1] \"complex\""
      ]
     },
     "metadata": {},
     "output_type": "display_data"
    },
    {
     "name": "stdout",
     "output_type": "stream",
     "text": [
      "[1] 73\n"
     ]
    }
   ],
   "source": [
    "boolean_var <- FALSE\n",
    "integer_var <- 73L\n",
    "numeric_var <- 3.2\n",
    "character_var <- 'Aalto'\n",
    "complex_var <- 3+2i\n",
    "\n",
    "typeof(boolean_var)\n",
    "typeof(integer_var)\n",
    "typeof(numeric_var)\n",
    "typeof(character_var)\n",
    "typeof(complex_var)\n",
    "\n",
    "print(integer_var)"
   ]
  },
  {
   "cell_type": "markdown",
   "metadata": {},
   "source": [
    "## Atomic vectors\n",
    "\n",
    "R is a vectorized language. This means that most objects are `vector`-objects or built from `vector`s.\n",
    "\n",
    "A atomic `vector` in R is a contiguous series of values where all values share a common data type. `vector`'s length is specified at its creation time.\n",
    "\n",
    "To create a `vector` one can use the `vector`-function. It takes as its arguments the type and the length.\n",
    "\n",
    "More often one uses the `c`-function (concatenate/combine) to combine data into a `vector`. When using this it is a good idea to make sure that types of the input data match or you will get a type conversion.\n",
    "\n",
    "`str` (structure) can be used to get lots of readable information on vectors."
   ]
  },
  {
   "cell_type": "code",
   "execution_count": 80,
   "metadata": {},
   "outputs": [
    {
     "name": "stdout",
     "output_type": "stream",
     "text": [
      " int [1:5] 0 0 0 0 0\n",
      " int [1:4] 1 2 5 7\n",
      " num [1:4] 7.5 28.1 0.3 3.4\n",
      " chr [1:4] \"fox\" \"lynx\" \"tiger\" \"cat\"\n",
      " num [1:4] 1 2 5 7\n",
      " chr [1:5] \"TRUE\" \"1\" \"7.5\" \"fox\" \"1\"\n"
     ]
    }
   ],
   "source": [
    "# Initialization using the vector-function\n",
    "integer_vector <- vector('integer',5)\n",
    "str(integer_vector)\n",
    "\n",
    "# A vector of integers (note the L-letters)\n",
    "integers <- c(1L, 2L, 5L, 7L)\n",
    "str(integers)\n",
    "\n",
    "# A vector of floating point numbers\n",
    "floats <- c(7.5, 28.1, 0.3, 3.4)\n",
    "str(floats)\n",
    "\n",
    "# A vector containting character strings\n",
    "characters <- c('fox', 'lynx', 'tiger', 'cat')\n",
    "str(characters)\n",
    "\n",
    "# A vector of generic numbers (note that type is not integer)\n",
    "not_integers <- c(1, 2, 5, 7)\n",
    "str(not_integers)\n",
    "\n",
    "# Output determined by highest type in hierarchy:\n",
    "# logical < integer < double < complex < character\n",
    "type_conversion_warning <- c(TRUE,1L,7.5,'fox',1)\n",
    "str(type_conversion_warning)"
   ]
  },
  {
   "cell_type": "markdown",
   "metadata": {},
   "source": [
    "### Vector indexing\n",
    "\n",
    "Length of a `vector` can be obtained with function `length`.\n",
    "\n",
    "`vector`s can be accessed by index using the `[start:finish]`-syntax, but typically one uses functions with `apply`-structures to access and modify them. More on that later.\n",
    "\n",
    "One can also provide an indexing `vector` with the indices given as numbers. Indices in R start from 1."
   ]
  },
  {
   "cell_type": "code",
   "execution_count": 81,
   "metadata": {},
   "outputs": [
    {
     "data": {
      "text/html": [
       "2"
      ],
      "text/latex": [
       "2"
      ],
      "text/markdown": [
       "2"
      ],
      "text/plain": [
       "[1] 2"
      ]
     },
     "metadata": {},
     "output_type": "display_data"
    },
    {
     "data": {
      "text/html": [
       "<ol class=list-inline>\n",
       "\t<li>28.1</li>\n",
       "\t<li>0.3</li>\n",
       "\t<li>3.4</li>\n",
       "</ol>\n"
      ],
      "text/latex": [
       "\\begin{enumerate*}\n",
       "\\item 28.1\n",
       "\\item 0.3\n",
       "\\item 3.4\n",
       "\\end{enumerate*}\n"
      ],
      "text/markdown": [
       "1. 28.1\n",
       "2. 0.3\n",
       "3. 3.4\n",
       "\n",
       "\n"
      ],
      "text/plain": [
       "[1] 28.1  0.3  3.4"
      ]
     },
     "metadata": {},
     "output_type": "display_data"
    },
    {
     "data": {
      "text/html": [
       "<ol class=list-inline>\n",
       "\t<li>'lynx'</li>\n",
       "\t<li>'tiger'</li>\n",
       "</ol>\n"
      ],
      "text/latex": [
       "\\begin{enumerate*}\n",
       "\\item 'lynx'\n",
       "\\item 'tiger'\n",
       "\\end{enumerate*}\n"
      ],
      "text/markdown": [
       "1. 'lynx'\n",
       "2. 'tiger'\n",
       "\n",
       "\n"
      ],
      "text/plain": [
       "[1] \"lynx\"  \"tiger\""
      ]
     },
     "metadata": {},
     "output_type": "display_data"
    },
    {
     "data": {
      "text/html": [
       "<ol class=list-inline>\n",
       "\t<li>2</li>\n",
       "\t<li>7</li>\n",
       "</ol>\n"
      ],
      "text/latex": [
       "\\begin{enumerate*}\n",
       "\\item 2\n",
       "\\item 7\n",
       "\\end{enumerate*}\n"
      ],
      "text/markdown": [
       "1. 2\n",
       "2. 7\n",
       "\n",
       "\n"
      ],
      "text/plain": [
       "[1] 2 7"
      ]
     },
     "metadata": {},
     "output_type": "display_data"
    }
   ],
   "source": [
    "# Value at index 2\n",
    "integers[2]\n",
    "# Values from index 2 to the end\n",
    "floats[2:length(floats)]\n",
    "# Values from index 2 to one before the end\n",
    "characters[2:(length(characters)-1)]\n",
    "# Values at indices 2 and 4 (note indexing with a vector)\n",
    "not_integers[c(2,4)]"
   ]
  },
  {
   "cell_type": "markdown",
   "metadata": {},
   "source": [
    "Indexing with indices is quite rarely the way you want to access data as that forces you to keep track of data placement. More often you're interested in a certain range of data. For this you need logical indexing, where you create an indexing `vector` with a logical expression.\n",
    "\n",
    "This indexing `vector` can then be used to slice the `vector`. Most of the time you don't need to store the indexing `vector`."
   ]
  },
  {
   "cell_type": "code",
   "execution_count": 82,
   "metadata": {},
   "outputs": [
    {
     "name": "stdout",
     "output_type": "stream",
     "text": [
      "[1] FALSE FALSE  TRUE  TRUE\n"
     ]
    },
    {
     "data": {
      "text/html": [
       "<ol class=list-inline>\n",
       "\t<li>5</li>\n",
       "\t<li>7</li>\n",
       "</ol>\n"
      ],
      "text/latex": [
       "\\begin{enumerate*}\n",
       "\\item 5\n",
       "\\item 7\n",
       "\\end{enumerate*}\n"
      ],
      "text/markdown": [
       "1. 5\n",
       "2. 7\n",
       "\n",
       "\n"
      ],
      "text/plain": [
       "[1] 5 7"
      ]
     },
     "metadata": {},
     "output_type": "display_data"
    },
    {
     "data": {
      "text/html": [
       "<ol class=list-inline>\n",
       "\t<li>5</li>\n",
       "\t<li>7</li>\n",
       "</ol>\n"
      ],
      "text/latex": [
       "\\begin{enumerate*}\n",
       "\\item 5\n",
       "\\item 7\n",
       "\\end{enumerate*}\n"
      ],
      "text/markdown": [
       "1. 5\n",
       "2. 7\n",
       "\n",
       "\n"
      ],
      "text/plain": [
       "[1] 5 7"
      ]
     },
     "metadata": {},
     "output_type": "display_data"
    }
   ],
   "source": [
    "# Create an indexing vector\n",
    "indexing_vector <- integers > 3\n",
    "# Result is a boolean vector with the same dimensions as the original vector \n",
    "print(indexing_vector)\n",
    "# This indexing vector can be used to index the original vector\n",
    "integers[indexing_vector]\n",
    "\n",
    "# Same as a one-liner\n",
    "integers[integers > 3]"
   ]
  },
  {
   "cell_type": "markdown",
   "metadata": {},
   "source": [
    "### Performance alert: Changing vector's size slows code down\n",
    "\n",
    "One can edit the `vector` and their values after they have been created, but one needs to be mindful of the operations.\n",
    "\n",
    "Some operations (like changes in values) are done *in place*. This means that the memory values are changed, but there was no need to create a new `vector`. This type of operation is fast and does not require additional memory.\n",
    "\n",
    "On the other hand some operations (like appending) change the `vector` length. This forces the creation of a new `vector`, into which values from the old object are copied. This type of operation slows the code down and requires additional memory.\n",
    "\n",
    "In R it is usually best to reserve a `vector` of the size you will use first and populate it with values afterwards."
   ]
  },
  {
   "cell_type": "markdown",
   "metadata": {},
   "source": [
    "## Factors\n",
    "\n",
    "`factor`s are a special case of `vector`s that are used to store character strings in a more efficient way. This is especially important with data that can be split into categories.\n",
    "\n",
    "In a `factor` each unique string in a `vector` is stored as an integer and the mapping between these integers and the original strings is stored as levels.\n",
    "\n",
    "By using the `ordered=TRUE`-argument one can tell that data is ordered. With ordered `factor`s one can use logical indexing."
   ]
  },
  {
   "cell_type": "code",
   "execution_count": 83,
   "metadata": {},
   "outputs": [
    {
     "data": {
      "text/html": [
       "<ol class=list-inline>\n",
       "\t<li>'January'</li>\n",
       "\t<li>'February'</li>\n",
       "\t<li>'March'</li>\n",
       "\t<li>'April'</li>\n",
       "\t<li>'May'</li>\n",
       "\t<li>'June'</li>\n",
       "\t<li>'July'</li>\n",
       "\t<li>'August'</li>\n",
       "\t<li>'September'</li>\n",
       "\t<li>'October'</li>\n",
       "\t<li>'November'</li>\n",
       "\t<li>'December'</li>\n",
       "</ol>\n"
      ],
      "text/latex": [
       "\\begin{enumerate*}\n",
       "\\item 'January'\n",
       "\\item 'February'\n",
       "\\item 'March'\n",
       "\\item 'April'\n",
       "\\item 'May'\n",
       "\\item 'June'\n",
       "\\item 'July'\n",
       "\\item 'August'\n",
       "\\item 'September'\n",
       "\\item 'October'\n",
       "\\item 'November'\n",
       "\\item 'December'\n",
       "\\end{enumerate*}\n"
      ],
      "text/markdown": [
       "1. 'January'\n",
       "2. 'February'\n",
       "3. 'March'\n",
       "4. 'April'\n",
       "5. 'May'\n",
       "6. 'June'\n",
       "7. 'July'\n",
       "8. 'August'\n",
       "9. 'September'\n",
       "10. 'October'\n",
       "11. 'November'\n",
       "12. 'December'\n",
       "\n",
       "\n"
      ],
      "text/plain": [
       " [1] \"January\"   \"February\"  \"March\"     \"April\"     \"May\"       \"June\"     \n",
       " [7] \"July\"      \"August\"    \"September\" \"October\"   \"November\"  \"December\" "
      ]
     },
     "metadata": {},
     "output_type": "display_data"
    },
    {
     "data": {
      "text/plain": [
       "months\n",
       "    April    August  December  February   January      July      June     March \n",
       "      799       809       803       806       849       844       875       872 \n",
       "      May  November   October September \n",
       "      827       796       850       870 "
      ]
     },
     "metadata": {},
     "output_type": "display_data"
    },
    {
     "data": {
      "text/plain": [
       "80648 bytes"
      ]
     },
     "metadata": {},
     "output_type": "display_data"
    },
    {
     "data": {
      "text/plain": [
       "months_f\n",
       "    April    August  December  February   January      July      June     March \n",
       "      799       809       803       806       849       844       875       872 \n",
       "      May  November   October September \n",
       "      827       796       850       870 "
      ]
     },
     "metadata": {},
     "output_type": "display_data"
    },
    {
     "data": {
      "text/plain": [
       "41136 bytes"
      ]
     },
     "metadata": {},
     "output_type": "display_data"
    },
    {
     "data": {
      "text/plain": [
       "months_f2\n",
       "  January  February     March     April       May      June      July    August \n",
       "      849       806       872       799       827       875       844       809 \n",
       "September   October  November  December \n",
       "      870       850       796       803 "
      ]
     },
     "metadata": {},
     "output_type": "display_data"
    },
    {
     "data": {
      "text/html": [
       "4972"
      ],
      "text/latex": [
       "4972"
      ],
      "text/markdown": [
       "4972"
      ],
      "text/plain": [
       "[1] 4972"
      ]
     },
     "metadata": {},
     "output_type": "display_data"
    }
   ],
   "source": [
    "# R contains a constant list of month names\n",
    "month.name\n",
    "\n",
    "# Get a random sample of 10000 months from the month.name vector (e.g. birth months of participants in a study)\n",
    "months <- sample(month.name, 10000, replace=T)\n",
    "\n",
    "# Show months distribution in a table\n",
    "table(months)\n",
    "\n",
    "# Check how big the vector is in the memory\n",
    "object.size(months)\n",
    "\n",
    "# Now make the vector into a factor\n",
    "months_f <- factor(months)\n",
    "\n",
    "# Print month distribution in the table\n",
    "table(months_f)\n",
    "\n",
    "# Check how big the vector is in the memory\n",
    "object.size(months_f)\n",
    "\n",
    "# Make a new factor, but this time give the possible levels that data can take and tell that the levels are ordered\n",
    "months_f2 <- factor(months, levels=month.name, ordered=TRUE)\n",
    "\n",
    "# Print table (note that it is in order)\n",
    "table(months_f2)\n",
    "\n",
    "# Check how many of the months in the factor are on the second half of the year\n",
    "sum(months_f2 > 'June')"
   ]
  },
  {
   "cell_type": "markdown",
   "metadata": {},
   "source": [
    "## Lists\n",
    "\n",
    "Sometimes you need a `vector` with mixed data types. In this case you need a `list`."
   ]
  },
  {
   "cell_type": "code",
   "execution_count": 84,
   "metadata": {},
   "outputs": [
    {
     "name": "stdout",
     "output_type": "stream",
     "text": [
      "List of 4\n",
      " $ : chr \"a\"\n",
      " $ : int 3\n",
      " $ : num 4.3\n",
      " $ : cplx 3+2i\n"
     ]
    }
   ],
   "source": [
    "example_list <- list('a',3L,4.3,3+2i)\n",
    "str(example_list)"
   ]
  },
  {
   "cell_type": "markdown",
   "metadata": {},
   "source": [
    "`list` can also have named elements. During list creation they can be given as keyword arguments to the function call.\n",
    "\n",
    "New elements can also be created with `$name`.\n",
    "\n",
    "After `list` has been created there's quite a few ways to access its contents:\n",
    "- `[ ]` returns a slice of the list that keeps the names intact. Thus it always returns a list.\n",
    "- `[[ ]]` or `$` returns the value stored in key. Type of the object depends on the stored object.\n",
    "\n"
   ]
  },
  {
   "cell_type": "code",
   "execution_count": 85,
   "metadata": {},
   "outputs": [
    {
     "name": "stdout",
     "output_type": "stream",
     "text": [
      "[1] \"Slice:\"\n"
     ]
    },
    {
     "data": {
      "text/html": [
       "<strong>$something</strong> = 'nothing'"
      ],
      "text/latex": [
       "\\textbf{\\$something} = 'nothing'"
      ],
      "text/markdown": [
       "**$something** = 'nothing'"
      ],
      "text/plain": [
       "$something\n",
       "[1] \"nothing\"\n"
      ]
     },
     "metadata": {},
     "output_type": "display_data"
    },
    {
     "data": {
      "text/html": [
       "'list'"
      ],
      "text/latex": [
       "'list'"
      ],
      "text/markdown": [
       "'list'"
      ],
      "text/plain": [
       "[1] \"list\""
      ]
     },
     "metadata": {},
     "output_type": "display_data"
    },
    {
     "name": "stdout",
     "output_type": "stream",
     "text": [
      "[1] \"Value:\"\n"
     ]
    },
    {
     "data": {
      "text/html": [
       "'nothing'"
      ],
      "text/latex": [
       "'nothing'"
      ],
      "text/markdown": [
       "'nothing'"
      ],
      "text/plain": [
       "[1] \"nothing\""
      ]
     },
     "metadata": {},
     "output_type": "display_data"
    },
    {
     "data": {
      "text/html": [
       "'character'"
      ],
      "text/latex": [
       "'character'"
      ],
      "text/markdown": [
       "'character'"
      ],
      "text/plain": [
       "[1] \"character\""
      ]
     },
     "metadata": {},
     "output_type": "display_data"
    },
    {
     "data": {
      "text/html": [
       "'nothing'"
      ],
      "text/latex": [
       "'nothing'"
      ],
      "text/markdown": [
       "'nothing'"
      ],
      "text/plain": [
       "[1] \"nothing\""
      ]
     },
     "metadata": {},
     "output_type": "display_data"
    },
    {
     "data": {
      "text/html": [
       "'character'"
      ],
      "text/latex": [
       "'character'"
      ],
      "text/markdown": [
       "'character'"
      ],
      "text/plain": [
       "[1] \"character\""
      ]
     },
     "metadata": {},
     "output_type": "display_data"
    },
    {
     "name": "stdout",
     "output_type": "stream",
     "text": [
      "[1] \"The whole list\"\n",
      "[[1]]\n",
      "[1] 3\n",
      "\n",
      "[[2]]\n",
      "[1] 42.4\n",
      "\n",
      "$something\n",
      "[1] \"nothing\"\n",
      "\n",
      "[[4]]\n",
      "[1] 13.2 32.2\n",
      "\n",
      "$boolean\n",
      "[1] TRUE\n",
      "\n",
      "$l\n",
      "$l[[1]]\n",
      "[1] 32.2\n",
      "\n",
      "$l[[2]]\n",
      "[1] 1.6\n",
      "\n",
      "\n",
      "$variable\n",
      "[1] 3.4\n",
      "\n"
     ]
    }
   ],
   "source": [
    "# Initialize a list with various data types\n",
    "example_list2 <- list(3L,42.4,something='nothing',c(13.2,32.2),boolean=TRUE, l=list(32.2,1.6))\n",
    "\n",
    "# Add a new variable to the list\n",
    "example_list2$variable <- 3.4\n",
    "\n",
    "# Return a slice of the list\n",
    "print('Slice:')\n",
    "example_list2['something']\n",
    "class(example_list2['something'])\n",
    "\n",
    "# Return the value of 'something'\n",
    "print('Value:')\n",
    "example_list2[['something']]\n",
    "class(example_list2[['something']])\n",
    "example_list2$something\n",
    "class(example_list2$something)\n",
    "\n",
    "print('The whole list')\n",
    "\n",
    "# Print the list. Note that the named values have indices.\n",
    "print(example_list2)"
   ]
  },
  {
   "cell_type": "markdown",
   "metadata": {},
   "source": [
    "### Performance alert: list is still a vector\n",
    "\n",
    "The comment about `vector` size changes still matters with `list`s contents. If sizes of `vectors` contained in a `list` are modified, they need to be copied. Likewise if additional entries are added to the list, the whole list needs to be copied as well. "
   ]
  },
  {
   "cell_type": "markdown",
   "metadata": {},
   "source": [
    "## Matrices\n",
    "\n",
    "`matrix` is two-dimensional `vector`. It can be created with the `matrix`-function. Matrices have dimensions instead of lenght and these can be accessed through `dim`-function."
   ]
  },
  {
   "cell_type": "code",
   "execution_count": 86,
   "metadata": {},
   "outputs": [
    {
     "name": "stdout",
     "output_type": "stream",
     "text": [
      "     [,1] [,2]\n",
      "[1,]    0    3\n",
      "[2,]    1    4\n",
      "[3,]    2    5\n"
     ]
    },
    {
     "data": {
      "text/html": [
       "<ol class=list-inline>\n",
       "\t<li>3</li>\n",
       "\t<li>2</li>\n",
       "</ol>\n"
      ],
      "text/latex": [
       "\\begin{enumerate*}\n",
       "\\item 3\n",
       "\\item 2\n",
       "\\end{enumerate*}\n"
      ],
      "text/markdown": [
       "1. 3\n",
       "2. 2\n",
       "\n",
       "\n"
      ],
      "text/plain": [
       "[1] 3 2"
      ]
     },
     "metadata": {},
     "output_type": "display_data"
    }
   ],
   "source": [
    "# Using seq-function to create a sequence\n",
    "example_matrix <- matrix(seq(0,5),nrow=3,ncol=2)\n",
    "print(example_matrix)\n",
    "\n",
    "dim(example_matrix)"
   ]
  },
  {
   "cell_type": "markdown",
   "metadata": {},
   "source": [
    "Two-dimensional indicing is done with `[ , ]`. Rows are to the left of comma, columns to the right. "
   ]
  },
  {
   "cell_type": "code",
   "execution_count": 87,
   "metadata": {},
   "outputs": [
    {
     "data": {
      "text/html": [
       "<ol class=list-inline>\n",
       "\t<li>0</li>\n",
       "\t<li>3</li>\n",
       "</ol>\n"
      ],
      "text/latex": [
       "\\begin{enumerate*}\n",
       "\\item 0\n",
       "\\item 3\n",
       "\\end{enumerate*}\n"
      ],
      "text/markdown": [
       "1. 0\n",
       "2. 3\n",
       "\n",
       "\n"
      ],
      "text/plain": [
       "[1] 0 3"
      ]
     },
     "metadata": {},
     "output_type": "display_data"
    },
    {
     "data": {
      "text/html": [
       "<ol class=list-inline>\n",
       "\t<li>3</li>\n",
       "\t<li>4</li>\n",
       "\t<li>5</li>\n",
       "</ol>\n"
      ],
      "text/latex": [
       "\\begin{enumerate*}\n",
       "\\item 3\n",
       "\\item 4\n",
       "\\item 5\n",
       "\\end{enumerate*}\n"
      ],
      "text/markdown": [
       "1. 3\n",
       "2. 4\n",
       "3. 5\n",
       "\n",
       "\n"
      ],
      "text/plain": [
       "[1] 3 4 5"
      ]
     },
     "metadata": {},
     "output_type": "display_data"
    },
    {
     "data": {
      "text/html": [
       "<table>\n",
       "<tbody>\n",
       "\t<tr><td>1</td><td>4</td></tr>\n",
       "\t<tr><td>2</td><td>5</td></tr>\n",
       "</tbody>\n",
       "</table>\n"
      ],
      "text/latex": [
       "\\begin{tabular}{ll}\n",
       "\t 1 & 4\\\\\n",
       "\t 2 & 5\\\\\n",
       "\\end{tabular}\n"
      ],
      "text/markdown": [
       "\n",
       "| 1 | 4 | \n",
       "| 2 | 5 | \n",
       "\n",
       "\n"
      ],
      "text/plain": [
       "     [,1] [,2]\n",
       "[1,] 1    4   \n",
       "[2,] 2    5   "
      ]
     },
     "metadata": {},
     "output_type": "display_data"
    },
    {
     "data": {
      "text/html": [
       "3"
      ],
      "text/latex": [
       "3"
      ],
      "text/markdown": [
       "3"
      ],
      "text/plain": [
       "[1] 3"
      ]
     },
     "metadata": {},
     "output_type": "display_data"
    }
   ],
   "source": [
    "# Get first row (note that leaving columns empty means all columns)\n",
    "example_matrix[1,]\n",
    "# Get second column\n",
    "example_matrix[,2]\n",
    "# Get submatrix\n",
    "example_matrix[2:3,1:2]\n",
    "\n",
    "# One can also traverse the matrix in a flattened order (R uses column-major order)\n",
    "example_matrix[4]"
   ]
  },
  {
   "cell_type": "markdown",
   "metadata": {},
   "source": [
    "## Data frames\n",
    "\n",
    "The `list`-object is much more usable than `vector`, but even more usable is the `data.frame`.\n",
    "\n",
    "`data.frame` contains data in square tabular form, where each column is a observable and each row is an observation.[1](https://stat.ethz.ch/R-manual/R-devel/library/base/html/data.frame.html)\n",
    "\n",
    "Let us load a internal R sample data set that has car information."
   ]
  },
  {
   "cell_type": "code",
   "execution_count": 88,
   "metadata": {},
   "outputs": [
    {
     "data": {
      "text/html": [
       "TRUE"
      ],
      "text/latex": [
       "TRUE"
      ],
      "text/markdown": [
       "TRUE"
      ],
      "text/plain": [
       "[1] TRUE"
      ]
     },
     "metadata": {},
     "output_type": "display_data"
    },
    {
     "data": {
      "text/html": [
       "<table>\n",
       "<thead><tr><th></th><th scope=col>mpg</th><th scope=col>cyl</th><th scope=col>disp</th><th scope=col>hp</th><th scope=col>drat</th><th scope=col>wt</th><th scope=col>qsec</th><th scope=col>vs</th><th scope=col>am</th><th scope=col>gear</th><th scope=col>carb</th></tr></thead>\n",
       "<tbody>\n",
       "\t<tr><th scope=row>Mazda RX4</th><td>21.0 </td><td>6    </td><td>160  </td><td>110  </td><td>3.90 </td><td>2.620</td><td>16.46</td><td>0    </td><td>1    </td><td>4    </td><td>4    </td></tr>\n",
       "\t<tr><th scope=row>Mazda RX4 Wag</th><td>21.0 </td><td>6    </td><td>160  </td><td>110  </td><td>3.90 </td><td>2.875</td><td>17.02</td><td>0    </td><td>1    </td><td>4    </td><td>4    </td></tr>\n",
       "\t<tr><th scope=row>Datsun 710</th><td>22.8 </td><td>4    </td><td>108  </td><td> 93  </td><td>3.85 </td><td>2.320</td><td>18.61</td><td>1    </td><td>1    </td><td>4    </td><td>1    </td></tr>\n",
       "\t<tr><th scope=row>Hornet 4 Drive</th><td>21.4 </td><td>6    </td><td>258  </td><td>110  </td><td>3.08 </td><td>3.215</td><td>19.44</td><td>1    </td><td>0    </td><td>3    </td><td>1    </td></tr>\n",
       "\t<tr><th scope=row>Hornet Sportabout</th><td>18.7 </td><td>8    </td><td>360  </td><td>175  </td><td>3.15 </td><td>3.440</td><td>17.02</td><td>0    </td><td>0    </td><td>3    </td><td>2    </td></tr>\n",
       "\t<tr><th scope=row>Valiant</th><td>18.1 </td><td>6    </td><td>225  </td><td>105  </td><td>2.76 </td><td>3.460</td><td>20.22</td><td>1    </td><td>0    </td><td>3    </td><td>1    </td></tr>\n",
       "</tbody>\n",
       "</table>\n"
      ],
      "text/latex": [
       "\\begin{tabular}{r|lllllllllll}\n",
       "  & mpg & cyl & disp & hp & drat & wt & qsec & vs & am & gear & carb\\\\\n",
       "\\hline\n",
       "\tMazda RX4 & 21.0  & 6     & 160   & 110   & 3.90  & 2.620 & 16.46 & 0     & 1     & 4     & 4    \\\\\n",
       "\tMazda RX4 Wag & 21.0  & 6     & 160   & 110   & 3.90  & 2.875 & 17.02 & 0     & 1     & 4     & 4    \\\\\n",
       "\tDatsun 710 & 22.8  & 4     & 108   &  93   & 3.85  & 2.320 & 18.61 & 1     & 1     & 4     & 1    \\\\\n",
       "\tHornet 4 Drive & 21.4  & 6     & 258   & 110   & 3.08  & 3.215 & 19.44 & 1     & 0     & 3     & 1    \\\\\n",
       "\tHornet Sportabout & 18.7  & 8     & 360   & 175   & 3.15  & 3.440 & 17.02 & 0     & 0     & 3     & 2    \\\\\n",
       "\tValiant & 18.1  & 6     & 225   & 105   & 2.76  & 3.460 & 20.22 & 1     & 0     & 3     & 1    \\\\\n",
       "\\end{tabular}\n"
      ],
      "text/markdown": [
       "\n",
       "| <!--/--> | mpg | cyl | disp | hp | drat | wt | qsec | vs | am | gear | carb | \n",
       "|---|---|---|---|---|---|\n",
       "| Mazda RX4 | 21.0  | 6     | 160   | 110   | 3.90  | 2.620 | 16.46 | 0     | 1     | 4     | 4     | \n",
       "| Mazda RX4 Wag | 21.0  | 6     | 160   | 110   | 3.90  | 2.875 | 17.02 | 0     | 1     | 4     | 4     | \n",
       "| Datsun 710 | 22.8  | 4     | 108   |  93   | 3.85  | 2.320 | 18.61 | 1     | 1     | 4     | 1     | \n",
       "| Hornet 4 Drive | 21.4  | 6     | 258   | 110   | 3.08  | 3.215 | 19.44 | 1     | 0     | 3     | 1     | \n",
       "| Hornet Sportabout | 18.7  | 8     | 360   | 175   | 3.15  | 3.440 | 17.02 | 0     | 0     | 3     | 2     | \n",
       "| Valiant | 18.1  | 6     | 225   | 105   | 2.76  | 3.460 | 20.22 | 1     | 0     | 3     | 1     | \n",
       "\n",
       "\n"
      ],
      "text/plain": [
       "                  mpg  cyl disp hp  drat wt    qsec  vs am gear carb\n",
       "Mazda RX4         21.0 6   160  110 3.90 2.620 16.46 0  1  4    4   \n",
       "Mazda RX4 Wag     21.0 6   160  110 3.90 2.875 17.02 0  1  4    4   \n",
       "Datsun 710        22.8 4   108   93 3.85 2.320 18.61 1  1  4    1   \n",
       "Hornet 4 Drive    21.4 6   258  110 3.08 3.215 19.44 1  0  3    1   \n",
       "Hornet Sportabout 18.7 8   360  175 3.15 3.440 17.02 0  0  3    2   \n",
       "Valiant           18.1 6   225  105 2.76 3.460 20.22 1  0  3    1   "
      ]
     },
     "metadata": {},
     "output_type": "display_data"
    }
   ],
   "source": [
    "cars <- mtcars\n",
    "is.data.frame(cars)\n",
    "\n",
    "# Print only first rows\n",
    "head(cars)"
   ]
  },
  {
   "cell_type": "markdown",
   "metadata": {},
   "source": [
    "The names of the columns and rows can be accessed through `colnames` and `rownames`. \n",
    "\n",
    "Number of columns and rows can be obtained with `ncol` and `nrow`."
   ]
  },
  {
   "cell_type": "code",
   "execution_count": 89,
   "metadata": {},
   "outputs": [
    {
     "data": {
      "text/html": [
       "<ol class=list-inline>\n",
       "\t<li>'mpg'</li>\n",
       "\t<li>'cyl'</li>\n",
       "\t<li>'disp'</li>\n",
       "\t<li>'hp'</li>\n",
       "\t<li>'drat'</li>\n",
       "\t<li>'wt'</li>\n",
       "\t<li>'qsec'</li>\n",
       "\t<li>'vs'</li>\n",
       "\t<li>'am'</li>\n",
       "\t<li>'gear'</li>\n",
       "\t<li>'carb'</li>\n",
       "</ol>\n"
      ],
      "text/latex": [
       "\\begin{enumerate*}\n",
       "\\item 'mpg'\n",
       "\\item 'cyl'\n",
       "\\item 'disp'\n",
       "\\item 'hp'\n",
       "\\item 'drat'\n",
       "\\item 'wt'\n",
       "\\item 'qsec'\n",
       "\\item 'vs'\n",
       "\\item 'am'\n",
       "\\item 'gear'\n",
       "\\item 'carb'\n",
       "\\end{enumerate*}\n"
      ],
      "text/markdown": [
       "1. 'mpg'\n",
       "2. 'cyl'\n",
       "3. 'disp'\n",
       "4. 'hp'\n",
       "5. 'drat'\n",
       "6. 'wt'\n",
       "7. 'qsec'\n",
       "8. 'vs'\n",
       "9. 'am'\n",
       "10. 'gear'\n",
       "11. 'carb'\n",
       "\n",
       "\n"
      ],
      "text/plain": [
       " [1] \"mpg\"  \"cyl\"  \"disp\" \"hp\"   \"drat\" \"wt\"   \"qsec\" \"vs\"   \"am\"   \"gear\"\n",
       "[11] \"carb\""
      ]
     },
     "metadata": {},
     "output_type": "display_data"
    },
    {
     "data": {
      "text/html": [
       "<ol class=list-inline>\n",
       "\t<li>'Mazda RX4'</li>\n",
       "\t<li>'Mazda RX4 Wag'</li>\n",
       "\t<li>'Datsun 710'</li>\n",
       "\t<li>'Hornet 4 Drive'</li>\n",
       "\t<li>'Hornet Sportabout'</li>\n",
       "\t<li>'Valiant'</li>\n",
       "\t<li>'Duster 360'</li>\n",
       "\t<li>'Merc 240D'</li>\n",
       "\t<li>'Merc 230'</li>\n",
       "\t<li>'Merc 280'</li>\n",
       "\t<li>'Merc 280C'</li>\n",
       "\t<li>'Merc 450SE'</li>\n",
       "\t<li>'Merc 450SL'</li>\n",
       "\t<li>'Merc 450SLC'</li>\n",
       "\t<li>'Cadillac Fleetwood'</li>\n",
       "\t<li>'Lincoln Continental'</li>\n",
       "\t<li>'Chrysler Imperial'</li>\n",
       "\t<li>'Fiat 128'</li>\n",
       "\t<li>'Honda Civic'</li>\n",
       "\t<li>'Toyota Corolla'</li>\n",
       "\t<li>'Toyota Corona'</li>\n",
       "\t<li>'Dodge Challenger'</li>\n",
       "\t<li>'AMC Javelin'</li>\n",
       "\t<li>'Camaro Z28'</li>\n",
       "\t<li>'Pontiac Firebird'</li>\n",
       "\t<li>'Fiat X1-9'</li>\n",
       "\t<li>'Porsche 914-2'</li>\n",
       "\t<li>'Lotus Europa'</li>\n",
       "\t<li>'Ford Pantera L'</li>\n",
       "\t<li>'Ferrari Dino'</li>\n",
       "\t<li>'Maserati Bora'</li>\n",
       "\t<li>'Volvo 142E'</li>\n",
       "</ol>\n"
      ],
      "text/latex": [
       "\\begin{enumerate*}\n",
       "\\item 'Mazda RX4'\n",
       "\\item 'Mazda RX4 Wag'\n",
       "\\item 'Datsun 710'\n",
       "\\item 'Hornet 4 Drive'\n",
       "\\item 'Hornet Sportabout'\n",
       "\\item 'Valiant'\n",
       "\\item 'Duster 360'\n",
       "\\item 'Merc 240D'\n",
       "\\item 'Merc 230'\n",
       "\\item 'Merc 280'\n",
       "\\item 'Merc 280C'\n",
       "\\item 'Merc 450SE'\n",
       "\\item 'Merc 450SL'\n",
       "\\item 'Merc 450SLC'\n",
       "\\item 'Cadillac Fleetwood'\n",
       "\\item 'Lincoln Continental'\n",
       "\\item 'Chrysler Imperial'\n",
       "\\item 'Fiat 128'\n",
       "\\item 'Honda Civic'\n",
       "\\item 'Toyota Corolla'\n",
       "\\item 'Toyota Corona'\n",
       "\\item 'Dodge Challenger'\n",
       "\\item 'AMC Javelin'\n",
       "\\item 'Camaro Z28'\n",
       "\\item 'Pontiac Firebird'\n",
       "\\item 'Fiat X1-9'\n",
       "\\item 'Porsche 914-2'\n",
       "\\item 'Lotus Europa'\n",
       "\\item 'Ford Pantera L'\n",
       "\\item 'Ferrari Dino'\n",
       "\\item 'Maserati Bora'\n",
       "\\item 'Volvo 142E'\n",
       "\\end{enumerate*}\n"
      ],
      "text/markdown": [
       "1. 'Mazda RX4'\n",
       "2. 'Mazda RX4 Wag'\n",
       "3. 'Datsun 710'\n",
       "4. 'Hornet 4 Drive'\n",
       "5. 'Hornet Sportabout'\n",
       "6. 'Valiant'\n",
       "7. 'Duster 360'\n",
       "8. 'Merc 240D'\n",
       "9. 'Merc 230'\n",
       "10. 'Merc 280'\n",
       "11. 'Merc 280C'\n",
       "12. 'Merc 450SE'\n",
       "13. 'Merc 450SL'\n",
       "14. 'Merc 450SLC'\n",
       "15. 'Cadillac Fleetwood'\n",
       "16. 'Lincoln Continental'\n",
       "17. 'Chrysler Imperial'\n",
       "18. 'Fiat 128'\n",
       "19. 'Honda Civic'\n",
       "20. 'Toyota Corolla'\n",
       "21. 'Toyota Corona'\n",
       "22. 'Dodge Challenger'\n",
       "23. 'AMC Javelin'\n",
       "24. 'Camaro Z28'\n",
       "25. 'Pontiac Firebird'\n",
       "26. 'Fiat X1-9'\n",
       "27. 'Porsche 914-2'\n",
       "28. 'Lotus Europa'\n",
       "29. 'Ford Pantera L'\n",
       "30. 'Ferrari Dino'\n",
       "31. 'Maserati Bora'\n",
       "32. 'Volvo 142E'\n",
       "\n",
       "\n"
      ],
      "text/plain": [
       " [1] \"Mazda RX4\"           \"Mazda RX4 Wag\"       \"Datsun 710\"         \n",
       " [4] \"Hornet 4 Drive\"      \"Hornet Sportabout\"   \"Valiant\"            \n",
       " [7] \"Duster 360\"          \"Merc 240D\"           \"Merc 230\"           \n",
       "[10] \"Merc 280\"            \"Merc 280C\"           \"Merc 450SE\"         \n",
       "[13] \"Merc 450SL\"          \"Merc 450SLC\"         \"Cadillac Fleetwood\" \n",
       "[16] \"Lincoln Continental\" \"Chrysler Imperial\"   \"Fiat 128\"           \n",
       "[19] \"Honda Civic\"         \"Toyota Corolla\"      \"Toyota Corona\"      \n",
       "[22] \"Dodge Challenger\"    \"AMC Javelin\"         \"Camaro Z28\"         \n",
       "[25] \"Pontiac Firebird\"    \"Fiat X1-9\"           \"Porsche 914-2\"      \n",
       "[28] \"Lotus Europa\"        \"Ford Pantera L\"      \"Ferrari Dino\"       \n",
       "[31] \"Maserati Bora\"       \"Volvo 142E\"         "
      ]
     },
     "metadata": {},
     "output_type": "display_data"
    },
    {
     "data": {
      "text/html": [
       "11"
      ],
      "text/latex": [
       "11"
      ],
      "text/markdown": [
       "11"
      ],
      "text/plain": [
       "[1] 11"
      ]
     },
     "metadata": {},
     "output_type": "display_data"
    },
    {
     "data": {
      "text/html": [
       "32"
      ],
      "text/latex": [
       "32"
      ],
      "text/markdown": [
       "32"
      ],
      "text/plain": [
       "[1] 32"
      ]
     },
     "metadata": {},
     "output_type": "display_data"
    }
   ],
   "source": [
    "colnames(cars)\n",
    "rownames(cars)\n",
    "ncol(cars)\n",
    "nrow(cars)"
   ]
  },
  {
   "cell_type": "markdown",
   "metadata": {},
   "source": [
    "`data.frame` access is typically done through these names."
   ]
  },
  {
   "cell_type": "code",
   "execution_count": 126,
   "metadata": {},
   "outputs": [
    {
     "data": {
      "text/html": [
       "<table>\n",
       "<thead><tr><th></th><th scope=col>mpg</th><th scope=col>cyl</th><th scope=col>disp</th><th scope=col>hp</th><th scope=col>drat</th><th scope=col>wt</th><th scope=col>qsec</th><th scope=col>vs</th><th scope=col>am</th><th scope=col>gear</th><th scope=col>carb</th><th scope=col>l100km</th></tr></thead>\n",
       "<tbody>\n",
       "\t<tr><th scope=row>Dodge Challenger</th><td>15.5    </td><td>8       </td><td>318     </td><td>150     </td><td>2.76    </td><td>3.52    </td><td>16.87   </td><td>0       </td><td>0       </td><td>3       </td><td>2       </td><td>15.17513</td></tr>\n",
       "</tbody>\n",
       "</table>\n"
      ],
      "text/latex": [
       "\\begin{tabular}{r|llllllllllll}\n",
       "  & mpg & cyl & disp & hp & drat & wt & qsec & vs & am & gear & carb & l100km\\\\\n",
       "\\hline\n",
       "\tDodge Challenger & 15.5     & 8        & 318      & 150      & 2.76     & 3.52     & 16.87    & 0        & 0        & 3        & 2        & 15.17513\\\\\n",
       "\\end{tabular}\n"
      ],
      "text/markdown": [
       "\n",
       "| <!--/--> | mpg | cyl | disp | hp | drat | wt | qsec | vs | am | gear | carb | l100km | \n",
       "|---|\n",
       "| Dodge Challenger | 15.5     | 8        | 318      | 150      | 2.76     | 3.52     | 16.87    | 0        | 0        | 3        | 2        | 15.17513 | \n",
       "\n",
       "\n"
      ],
      "text/plain": [
       "                 mpg  cyl disp hp  drat wt   qsec  vs am gear carb l100km  \n",
       "Dodge Challenger 15.5 8   318  150 2.76 3.52 16.87 0  0  3    2    15.17513"
      ]
     },
     "metadata": {},
     "output_type": "display_data"
    },
    {
     "data": {
      "text/html": [
       "15.5"
      ],
      "text/latex": [
       "15.5"
      ],
      "text/markdown": [
       "15.5"
      ],
      "text/plain": [
       "[1] 15.5"
      ]
     },
     "metadata": {},
     "output_type": "display_data"
    },
    {
     "data": {
      "text/html": [
       "<table>\n",
       "<thead><tr><th></th><th scope=col>cyl</th><th scope=col>disp</th></tr></thead>\n",
       "<tbody>\n",
       "\t<tr><th scope=row>Mazda RX4</th><td>6    </td><td>160.0</td></tr>\n",
       "\t<tr><th scope=row>Mazda RX4 Wag</th><td>6    </td><td>160.0</td></tr>\n",
       "\t<tr><th scope=row>Datsun 710</th><td>4    </td><td>108.0</td></tr>\n",
       "\t<tr><th scope=row>Hornet 4 Drive</th><td>6    </td><td>258.0</td></tr>\n",
       "\t<tr><th scope=row>Hornet Sportabout</th><td>8    </td><td>360.0</td></tr>\n",
       "\t<tr><th scope=row>Valiant</th><td>6    </td><td>225.0</td></tr>\n",
       "\t<tr><th scope=row>Duster 360</th><td>8    </td><td>360.0</td></tr>\n",
       "\t<tr><th scope=row>Merc 240D</th><td>4    </td><td>146.7</td></tr>\n",
       "\t<tr><th scope=row>Merc 230</th><td>4    </td><td>140.8</td></tr>\n",
       "\t<tr><th scope=row>Merc 280</th><td>6    </td><td>167.6</td></tr>\n",
       "\t<tr><th scope=row>Merc 280C</th><td>6    </td><td>167.6</td></tr>\n",
       "\t<tr><th scope=row>Merc 450SE</th><td>8    </td><td>275.8</td></tr>\n",
       "\t<tr><th scope=row>Merc 450SL</th><td>8    </td><td>275.8</td></tr>\n",
       "\t<tr><th scope=row>Merc 450SLC</th><td>8    </td><td>275.8</td></tr>\n",
       "\t<tr><th scope=row>Cadillac Fleetwood</th><td>8    </td><td>472.0</td></tr>\n",
       "\t<tr><th scope=row>Lincoln Continental</th><td>8    </td><td>460.0</td></tr>\n",
       "\t<tr><th scope=row>Chrysler Imperial</th><td>8    </td><td>440.0</td></tr>\n",
       "\t<tr><th scope=row>Fiat 128</th><td>4    </td><td> 78.7</td></tr>\n",
       "\t<tr><th scope=row>Honda Civic</th><td>4    </td><td> 75.7</td></tr>\n",
       "\t<tr><th scope=row>Toyota Corolla</th><td>4    </td><td> 71.1</td></tr>\n",
       "\t<tr><th scope=row>Toyota Corona</th><td>4    </td><td>120.1</td></tr>\n",
       "\t<tr><th scope=row>Dodge Challenger</th><td>8    </td><td>318.0</td></tr>\n",
       "\t<tr><th scope=row>AMC Javelin</th><td>8    </td><td>304.0</td></tr>\n",
       "\t<tr><th scope=row>Camaro Z28</th><td>8    </td><td>350.0</td></tr>\n",
       "\t<tr><th scope=row>Pontiac Firebird</th><td>8    </td><td>400.0</td></tr>\n",
       "\t<tr><th scope=row>Fiat X1-9</th><td>4    </td><td> 79.0</td></tr>\n",
       "\t<tr><th scope=row>Porsche 914-2</th><td>4    </td><td>120.3</td></tr>\n",
       "\t<tr><th scope=row>Lotus Europa</th><td>4    </td><td> 95.1</td></tr>\n",
       "\t<tr><th scope=row>Ford Pantera L</th><td>8    </td><td>351.0</td></tr>\n",
       "\t<tr><th scope=row>Ferrari Dino</th><td>6    </td><td>145.0</td></tr>\n",
       "\t<tr><th scope=row>Maserati Bora</th><td>8    </td><td>301.0</td></tr>\n",
       "\t<tr><th scope=row>Volvo 142E</th><td>4    </td><td>121.0</td></tr>\n",
       "</tbody>\n",
       "</table>\n"
      ],
      "text/latex": [
       "\\begin{tabular}{r|ll}\n",
       "  & cyl & disp\\\\\n",
       "\\hline\n",
       "\tMazda RX4 & 6     & 160.0\\\\\n",
       "\tMazda RX4 Wag & 6     & 160.0\\\\\n",
       "\tDatsun 710 & 4     & 108.0\\\\\n",
       "\tHornet 4 Drive & 6     & 258.0\\\\\n",
       "\tHornet Sportabout & 8     & 360.0\\\\\n",
       "\tValiant & 6     & 225.0\\\\\n",
       "\tDuster 360 & 8     & 360.0\\\\\n",
       "\tMerc 240D & 4     & 146.7\\\\\n",
       "\tMerc 230 & 4     & 140.8\\\\\n",
       "\tMerc 280 & 6     & 167.6\\\\\n",
       "\tMerc 280C & 6     & 167.6\\\\\n",
       "\tMerc 450SE & 8     & 275.8\\\\\n",
       "\tMerc 450SL & 8     & 275.8\\\\\n",
       "\tMerc 450SLC & 8     & 275.8\\\\\n",
       "\tCadillac Fleetwood & 8     & 472.0\\\\\n",
       "\tLincoln Continental & 8     & 460.0\\\\\n",
       "\tChrysler Imperial & 8     & 440.0\\\\\n",
       "\tFiat 128 & 4     &  78.7\\\\\n",
       "\tHonda Civic & 4     &  75.7\\\\\n",
       "\tToyota Corolla & 4     &  71.1\\\\\n",
       "\tToyota Corona & 4     & 120.1\\\\\n",
       "\tDodge Challenger & 8     & 318.0\\\\\n",
       "\tAMC Javelin & 8     & 304.0\\\\\n",
       "\tCamaro Z28 & 8     & 350.0\\\\\n",
       "\tPontiac Firebird & 8     & 400.0\\\\\n",
       "\tFiat X1-9 & 4     &  79.0\\\\\n",
       "\tPorsche 914-2 & 4     & 120.3\\\\\n",
       "\tLotus Europa & 4     &  95.1\\\\\n",
       "\tFord Pantera L & 8     & 351.0\\\\\n",
       "\tFerrari Dino & 6     & 145.0\\\\\n",
       "\tMaserati Bora & 8     & 301.0\\\\\n",
       "\tVolvo 142E & 4     & 121.0\\\\\n",
       "\\end{tabular}\n"
      ],
      "text/markdown": [
       "\n",
       "| <!--/--> | cyl | disp | \n",
       "|---|---|---|---|---|---|---|---|---|---|---|---|---|---|---|---|---|---|---|---|---|---|---|---|---|---|---|---|---|---|---|---|\n",
       "| Mazda RX4 | 6     | 160.0 | \n",
       "| Mazda RX4 Wag | 6     | 160.0 | \n",
       "| Datsun 710 | 4     | 108.0 | \n",
       "| Hornet 4 Drive | 6     | 258.0 | \n",
       "| Hornet Sportabout | 8     | 360.0 | \n",
       "| Valiant | 6     | 225.0 | \n",
       "| Duster 360 | 8     | 360.0 | \n",
       "| Merc 240D | 4     | 146.7 | \n",
       "| Merc 230 | 4     | 140.8 | \n",
       "| Merc 280 | 6     | 167.6 | \n",
       "| Merc 280C | 6     | 167.6 | \n",
       "| Merc 450SE | 8     | 275.8 | \n",
       "| Merc 450SL | 8     | 275.8 | \n",
       "| Merc 450SLC | 8     | 275.8 | \n",
       "| Cadillac Fleetwood | 8     | 472.0 | \n",
       "| Lincoln Continental | 8     | 460.0 | \n",
       "| Chrysler Imperial | 8     | 440.0 | \n",
       "| Fiat 128 | 4     |  78.7 | \n",
       "| Honda Civic | 4     |  75.7 | \n",
       "| Toyota Corolla | 4     |  71.1 | \n",
       "| Toyota Corona | 4     | 120.1 | \n",
       "| Dodge Challenger | 8     | 318.0 | \n",
       "| AMC Javelin | 8     | 304.0 | \n",
       "| Camaro Z28 | 8     | 350.0 | \n",
       "| Pontiac Firebird | 8     | 400.0 | \n",
       "| Fiat X1-9 | 4     |  79.0 | \n",
       "| Porsche 914-2 | 4     | 120.3 | \n",
       "| Lotus Europa | 4     |  95.1 | \n",
       "| Ford Pantera L | 8     | 351.0 | \n",
       "| Ferrari Dino | 6     | 145.0 | \n",
       "| Maserati Bora | 8     | 301.0 | \n",
       "| Volvo 142E | 4     | 121.0 | \n",
       "\n",
       "\n"
      ],
      "text/plain": [
       "                    cyl disp \n",
       "Mazda RX4           6   160.0\n",
       "Mazda RX4 Wag       6   160.0\n",
       "Datsun 710          4   108.0\n",
       "Hornet 4 Drive      6   258.0\n",
       "Hornet Sportabout   8   360.0\n",
       "Valiant             6   225.0\n",
       "Duster 360          8   360.0\n",
       "Merc 240D           4   146.7\n",
       "Merc 230            4   140.8\n",
       "Merc 280            6   167.6\n",
       "Merc 280C           6   167.6\n",
       "Merc 450SE          8   275.8\n",
       "Merc 450SL          8   275.8\n",
       "Merc 450SLC         8   275.8\n",
       "Cadillac Fleetwood  8   472.0\n",
       "Lincoln Continental 8   460.0\n",
       "Chrysler Imperial   8   440.0\n",
       "Fiat 128            4    78.7\n",
       "Honda Civic         4    75.7\n",
       "Toyota Corolla      4    71.1\n",
       "Toyota Corona       4   120.1\n",
       "Dodge Challenger    8   318.0\n",
       "AMC Javelin         8   304.0\n",
       "Camaro Z28          8   350.0\n",
       "Pontiac Firebird    8   400.0\n",
       "Fiat X1-9           4    79.0\n",
       "Porsche 914-2       4   120.3\n",
       "Lotus Europa        4    95.1\n",
       "Ford Pantera L      8   351.0\n",
       "Ferrari Dino        6   145.0\n",
       "Maserati Bora       8   301.0\n",
       "Volvo 142E          4   121.0"
      ]
     },
     "metadata": {},
     "output_type": "display_data"
    },
    {
     "data": {
      "text/html": [
       "<ol class=list-inline>\n",
       "\t<li>TRUE</li>\n",
       "\t<li>TRUE</li>\n",
       "\t<li>FALSE</li>\n",
       "\t<li>TRUE</li>\n",
       "\t<li>FALSE</li>\n",
       "\t<li>TRUE</li>\n",
       "\t<li>FALSE</li>\n",
       "\t<li>FALSE</li>\n",
       "\t<li>FALSE</li>\n",
       "\t<li>TRUE</li>\n",
       "\t<li>TRUE</li>\n",
       "\t<li>FALSE</li>\n",
       "\t<li>FALSE</li>\n",
       "\t<li>FALSE</li>\n",
       "\t<li>FALSE</li>\n",
       "\t<li>FALSE</li>\n",
       "\t<li>FALSE</li>\n",
       "\t<li>FALSE</li>\n",
       "\t<li>FALSE</li>\n",
       "\t<li>FALSE</li>\n",
       "\t<li>FALSE</li>\n",
       "\t<li>FALSE</li>\n",
       "\t<li>FALSE</li>\n",
       "\t<li>FALSE</li>\n",
       "\t<li>FALSE</li>\n",
       "\t<li>FALSE</li>\n",
       "\t<li>FALSE</li>\n",
       "\t<li>FALSE</li>\n",
       "\t<li>FALSE</li>\n",
       "\t<li>TRUE</li>\n",
       "\t<li>FALSE</li>\n",
       "\t<li>FALSE</li>\n",
       "</ol>\n"
      ],
      "text/latex": [
       "\\begin{enumerate*}\n",
       "\\item TRUE\n",
       "\\item TRUE\n",
       "\\item FALSE\n",
       "\\item TRUE\n",
       "\\item FALSE\n",
       "\\item TRUE\n",
       "\\item FALSE\n",
       "\\item FALSE\n",
       "\\item FALSE\n",
       "\\item TRUE\n",
       "\\item TRUE\n",
       "\\item FALSE\n",
       "\\item FALSE\n",
       "\\item FALSE\n",
       "\\item FALSE\n",
       "\\item FALSE\n",
       "\\item FALSE\n",
       "\\item FALSE\n",
       "\\item FALSE\n",
       "\\item FALSE\n",
       "\\item FALSE\n",
       "\\item FALSE\n",
       "\\item FALSE\n",
       "\\item FALSE\n",
       "\\item FALSE\n",
       "\\item FALSE\n",
       "\\item FALSE\n",
       "\\item FALSE\n",
       "\\item FALSE\n",
       "\\item TRUE\n",
       "\\item FALSE\n",
       "\\item FALSE\n",
       "\\end{enumerate*}\n"
      ],
      "text/markdown": [
       "1. TRUE\n",
       "2. TRUE\n",
       "3. FALSE\n",
       "4. TRUE\n",
       "5. FALSE\n",
       "6. TRUE\n",
       "7. FALSE\n",
       "8. FALSE\n",
       "9. FALSE\n",
       "10. TRUE\n",
       "11. TRUE\n",
       "12. FALSE\n",
       "13. FALSE\n",
       "14. FALSE\n",
       "15. FALSE\n",
       "16. FALSE\n",
       "17. FALSE\n",
       "18. FALSE\n",
       "19. FALSE\n",
       "20. FALSE\n",
       "21. FALSE\n",
       "22. FALSE\n",
       "23. FALSE\n",
       "24. FALSE\n",
       "25. FALSE\n",
       "26. FALSE\n",
       "27. FALSE\n",
       "28. FALSE\n",
       "29. FALSE\n",
       "30. TRUE\n",
       "31. FALSE\n",
       "32. FALSE\n",
       "\n",
       "\n"
      ],
      "text/plain": [
       " [1]  TRUE  TRUE FALSE  TRUE FALSE  TRUE FALSE FALSE FALSE  TRUE  TRUE FALSE\n",
       "[13] FALSE FALSE FALSE FALSE FALSE FALSE FALSE FALSE FALSE FALSE FALSE FALSE\n",
       "[25] FALSE FALSE FALSE FALSE FALSE  TRUE FALSE FALSE"
      ]
     },
     "metadata": {},
     "output_type": "display_data"
    },
    {
     "data": {
      "text/html": [
       "<table>\n",
       "<thead><tr><th></th><th scope=col>mpg</th><th scope=col>cyl</th><th scope=col>disp</th><th scope=col>hp</th><th scope=col>drat</th><th scope=col>wt</th><th scope=col>qsec</th><th scope=col>vs</th><th scope=col>am</th><th scope=col>gear</th><th scope=col>carb</th><th scope=col>l100km</th></tr></thead>\n",
       "<tbody>\n",
       "\t<tr><th scope=row>Mazda RX4</th><td>21.0    </td><td>6       </td><td>160.0   </td><td>110     </td><td>3.90    </td><td>2.620   </td><td>16.46   </td><td>0       </td><td>1       </td><td>4       </td><td>4       </td><td>11.20069</td></tr>\n",
       "\t<tr><th scope=row>Mazda RX4 Wag</th><td>21.0    </td><td>6       </td><td>160.0   </td><td>110     </td><td>3.90    </td><td>2.875   </td><td>17.02   </td><td>0       </td><td>1       </td><td>4       </td><td>4       </td><td>11.20069</td></tr>\n",
       "\t<tr><th scope=row>Hornet 4 Drive</th><td>21.4    </td><td>6       </td><td>258.0   </td><td>110     </td><td>3.08    </td><td>3.215   </td><td>19.44   </td><td>1       </td><td>0       </td><td>3       </td><td>1       </td><td>10.99134</td></tr>\n",
       "\t<tr><th scope=row>Valiant</th><td>18.1    </td><td>6       </td><td>225.0   </td><td>105     </td><td>2.76    </td><td>3.460   </td><td>20.22   </td><td>1       </td><td>0       </td><td>3       </td><td>1       </td><td>12.99528</td></tr>\n",
       "\t<tr><th scope=row>Merc 280</th><td>19.2    </td><td>6       </td><td>167.6   </td><td>123     </td><td>3.92    </td><td>3.440   </td><td>18.30   </td><td>1       </td><td>0       </td><td>4       </td><td>4       </td><td>12.25076</td></tr>\n",
       "\t<tr><th scope=row>Merc 280C</th><td>17.8    </td><td>6       </td><td>167.6   </td><td>123     </td><td>3.92    </td><td>3.440   </td><td>18.90   </td><td>1       </td><td>0       </td><td>4       </td><td>4       </td><td>13.21430</td></tr>\n",
       "\t<tr><th scope=row>Ferrari Dino</th><td>19.7    </td><td>6       </td><td>145.0   </td><td>175     </td><td>3.62    </td><td>2.770   </td><td>15.50   </td><td>0       </td><td>1       </td><td>5       </td><td>6       </td><td>11.93983</td></tr>\n",
       "</tbody>\n",
       "</table>\n"
      ],
      "text/latex": [
       "\\begin{tabular}{r|llllllllllll}\n",
       "  & mpg & cyl & disp & hp & drat & wt & qsec & vs & am & gear & carb & l100km\\\\\n",
       "\\hline\n",
       "\tMazda RX4 & 21.0     & 6        & 160.0    & 110      & 3.90     & 2.620    & 16.46    & 0        & 1        & 4        & 4        & 11.20069\\\\\n",
       "\tMazda RX4 Wag & 21.0     & 6        & 160.0    & 110      & 3.90     & 2.875    & 17.02    & 0        & 1        & 4        & 4        & 11.20069\\\\\n",
       "\tHornet 4 Drive & 21.4     & 6        & 258.0    & 110      & 3.08     & 3.215    & 19.44    & 1        & 0        & 3        & 1        & 10.99134\\\\\n",
       "\tValiant & 18.1     & 6        & 225.0    & 105      & 2.76     & 3.460    & 20.22    & 1        & 0        & 3        & 1        & 12.99528\\\\\n",
       "\tMerc 280 & 19.2     & 6        & 167.6    & 123      & 3.92     & 3.440    & 18.30    & 1        & 0        & 4        & 4        & 12.25076\\\\\n",
       "\tMerc 280C & 17.8     & 6        & 167.6    & 123      & 3.92     & 3.440    & 18.90    & 1        & 0        & 4        & 4        & 13.21430\\\\\n",
       "\tFerrari Dino & 19.7     & 6        & 145.0    & 175      & 3.62     & 2.770    & 15.50    & 0        & 1        & 5        & 6        & 11.93983\\\\\n",
       "\\end{tabular}\n"
      ],
      "text/markdown": [
       "\n",
       "| <!--/--> | mpg | cyl | disp | hp | drat | wt | qsec | vs | am | gear | carb | l100km | \n",
       "|---|---|---|---|---|---|---|\n",
       "| Mazda RX4 | 21.0     | 6        | 160.0    | 110      | 3.90     | 2.620    | 16.46    | 0        | 1        | 4        | 4        | 11.20069 | \n",
       "| Mazda RX4 Wag | 21.0     | 6        | 160.0    | 110      | 3.90     | 2.875    | 17.02    | 0        | 1        | 4        | 4        | 11.20069 | \n",
       "| Hornet 4 Drive | 21.4     | 6        | 258.0    | 110      | 3.08     | 3.215    | 19.44    | 1        | 0        | 3        | 1        | 10.99134 | \n",
       "| Valiant | 18.1     | 6        | 225.0    | 105      | 2.76     | 3.460    | 20.22    | 1        | 0        | 3        | 1        | 12.99528 | \n",
       "| Merc 280 | 19.2     | 6        | 167.6    | 123      | 3.92     | 3.440    | 18.30    | 1        | 0        | 4        | 4        | 12.25076 | \n",
       "| Merc 280C | 17.8     | 6        | 167.6    | 123      | 3.92     | 3.440    | 18.90    | 1        | 0        | 4        | 4        | 13.21430 | \n",
       "| Ferrari Dino | 19.7     | 6        | 145.0    | 175      | 3.62     | 2.770    | 15.50    | 0        | 1        | 5        | 6        | 11.93983 | \n",
       "\n",
       "\n"
      ],
      "text/plain": [
       "               mpg  cyl disp  hp  drat wt    qsec  vs am gear carb l100km  \n",
       "Mazda RX4      21.0 6   160.0 110 3.90 2.620 16.46 0  1  4    4    11.20069\n",
       "Mazda RX4 Wag  21.0 6   160.0 110 3.90 2.875 17.02 0  1  4    4    11.20069\n",
       "Hornet 4 Drive 21.4 6   258.0 110 3.08 3.215 19.44 1  0  3    1    10.99134\n",
       "Valiant        18.1 6   225.0 105 2.76 3.460 20.22 1  0  3    1    12.99528\n",
       "Merc 280       19.2 6   167.6 123 3.92 3.440 18.30 1  0  4    4    12.25076\n",
       "Merc 280C      17.8 6   167.6 123 3.92 3.440 18.90 1  0  4    4    13.21430\n",
       "Ferrari Dino   19.7 6   145.0 175 3.62 2.770 15.50 0  1  5    6    11.93983"
      ]
     },
     "metadata": {},
     "output_type": "display_data"
    }
   ],
   "source": [
    "# Get specific row, all columns\n",
    "cars[\"Dodge Challenger\",]\n",
    "# Get mpg for Dodge Challenger\n",
    "cars[[\"Dodge Challenger\",\"mpg\"]]\n",
    "# Get all rows, specific columns\n",
    "cars[,c(\"cyl\",\"disp\")]\n",
    "# Create a boolean vector where each row is TRUE or FALSE based on whether cyl == 6 or not\n",
    "cyl6 <- cars[,\"cyl\"] == 6\n",
    "cyl6\n",
    "# Get all rows based on an indexing vector\n",
    "cars[cyl6,]"
   ]
  },
  {
   "cell_type": "markdown",
   "metadata": {},
   "source": [
    "Let's create a new column from *mpg* that shows litre per 100 kilometres *lkm*: "
   ]
  },
  {
   "cell_type": "code",
   "execution_count": 91,
   "metadata": {},
   "outputs": [
    {
     "data": {
      "text/html": [
       "<table>\n",
       "<thead><tr><th></th><th scope=col>mpg</th><th scope=col>cyl</th><th scope=col>disp</th><th scope=col>hp</th><th scope=col>drat</th><th scope=col>wt</th><th scope=col>qsec</th><th scope=col>vs</th><th scope=col>am</th><th scope=col>gear</th><th scope=col>carb</th><th scope=col>l100km</th></tr></thead>\n",
       "<tbody>\n",
       "\t<tr><th scope=row>Mazda RX4</th><td>21.0    </td><td>6       </td><td>160     </td><td>110     </td><td>3.90    </td><td>2.620   </td><td>16.46   </td><td>0       </td><td>1       </td><td>4       </td><td>4       </td><td>11.20069</td></tr>\n",
       "\t<tr><th scope=row>Mazda RX4 Wag</th><td>21.0    </td><td>6       </td><td>160     </td><td>110     </td><td>3.90    </td><td>2.875   </td><td>17.02   </td><td>0       </td><td>1       </td><td>4       </td><td>4       </td><td>11.20069</td></tr>\n",
       "\t<tr><th scope=row>Datsun 710</th><td>22.8    </td><td>4       </td><td>108     </td><td> 93     </td><td>3.85    </td><td>2.320   </td><td>18.61   </td><td>1       </td><td>1       </td><td>4       </td><td>1       </td><td>10.31643</td></tr>\n",
       "\t<tr><th scope=row>Hornet 4 Drive</th><td>21.4    </td><td>6       </td><td>258     </td><td>110     </td><td>3.08    </td><td>3.215   </td><td>19.44   </td><td>1       </td><td>0       </td><td>3       </td><td>1       </td><td>10.99134</td></tr>\n",
       "\t<tr><th scope=row>Hornet Sportabout</th><td>18.7    </td><td>8       </td><td>360     </td><td>175     </td><td>3.15    </td><td>3.440   </td><td>17.02   </td><td>0       </td><td>0       </td><td>3       </td><td>2       </td><td>12.57832</td></tr>\n",
       "\t<tr><th scope=row>Valiant</th><td>18.1    </td><td>6       </td><td>225     </td><td>105     </td><td>2.76    </td><td>3.460   </td><td>20.22   </td><td>1       </td><td>0       </td><td>3       </td><td>1       </td><td>12.99528</td></tr>\n",
       "</tbody>\n",
       "</table>\n"
      ],
      "text/latex": [
       "\\begin{tabular}{r|llllllllllll}\n",
       "  & mpg & cyl & disp & hp & drat & wt & qsec & vs & am & gear & carb & l100km\\\\\n",
       "\\hline\n",
       "\tMazda RX4 & 21.0     & 6        & 160      & 110      & 3.90     & 2.620    & 16.46    & 0        & 1        & 4        & 4        & 11.20069\\\\\n",
       "\tMazda RX4 Wag & 21.0     & 6        & 160      & 110      & 3.90     & 2.875    & 17.02    & 0        & 1        & 4        & 4        & 11.20069\\\\\n",
       "\tDatsun 710 & 22.8     & 4        & 108      &  93      & 3.85     & 2.320    & 18.61    & 1        & 1        & 4        & 1        & 10.31643\\\\\n",
       "\tHornet 4 Drive & 21.4     & 6        & 258      & 110      & 3.08     & 3.215    & 19.44    & 1        & 0        & 3        & 1        & 10.99134\\\\\n",
       "\tHornet Sportabout & 18.7     & 8        & 360      & 175      & 3.15     & 3.440    & 17.02    & 0        & 0        & 3        & 2        & 12.57832\\\\\n",
       "\tValiant & 18.1     & 6        & 225      & 105      & 2.76     & 3.460    & 20.22    & 1        & 0        & 3        & 1        & 12.99528\\\\\n",
       "\\end{tabular}\n"
      ],
      "text/markdown": [
       "\n",
       "| <!--/--> | mpg | cyl | disp | hp | drat | wt | qsec | vs | am | gear | carb | l100km | \n",
       "|---|---|---|---|---|---|\n",
       "| Mazda RX4 | 21.0     | 6        | 160      | 110      | 3.90     | 2.620    | 16.46    | 0        | 1        | 4        | 4        | 11.20069 | \n",
       "| Mazda RX4 Wag | 21.0     | 6        | 160      | 110      | 3.90     | 2.875    | 17.02    | 0        | 1        | 4        | 4        | 11.20069 | \n",
       "| Datsun 710 | 22.8     | 4        | 108      |  93      | 3.85     | 2.320    | 18.61    | 1        | 1        | 4        | 1        | 10.31643 | \n",
       "| Hornet 4 Drive | 21.4     | 6        | 258      | 110      | 3.08     | 3.215    | 19.44    | 1        | 0        | 3        | 1        | 10.99134 | \n",
       "| Hornet Sportabout | 18.7     | 8        | 360      | 175      | 3.15     | 3.440    | 17.02    | 0        | 0        | 3        | 2        | 12.57832 | \n",
       "| Valiant | 18.1     | 6        | 225      | 105      | 2.76     | 3.460    | 20.22    | 1        | 0        | 3        | 1        | 12.99528 | \n",
       "\n",
       "\n"
      ],
      "text/plain": [
       "                  mpg  cyl disp hp  drat wt    qsec  vs am gear carb l100km  \n",
       "Mazda RX4         21.0 6   160  110 3.90 2.620 16.46 0  1  4    4    11.20069\n",
       "Mazda RX4 Wag     21.0 6   160  110 3.90 2.875 17.02 0  1  4    4    11.20069\n",
       "Datsun 710        22.8 4   108   93 3.85 2.320 18.61 1  1  4    1    10.31643\n",
       "Hornet 4 Drive    21.4 6   258  110 3.08 3.215 19.44 1  0  3    1    10.99134\n",
       "Hornet Sportabout 18.7 8   360  175 3.15 3.440 17.02 0  0  3    2    12.57832\n",
       "Valiant           18.1 6   225  105 2.76 3.460 20.22 1  0  3    1    12.99528"
      ]
     },
     "metadata": {},
     "output_type": "display_data"
    }
   ],
   "source": [
    "cars[\"l100km\"] <- 235.214583 / cars[\"mpg\"]\n",
    "head(cars)"
   ]
  },
  {
   "cell_type": "markdown",
   "metadata": {},
   "source": [
    "## Tibbles\n",
    "\n",
    "`tibble` is a popular extension of `data.frame` and it is part of a famous [Tidyverse](https://www.tidyverse.org/)-flavor of R. It is meant to be simpler to use than `data.frame`. [[1]](http://tibble.tidyverse.org/)"
   ]
  },
  {
   "cell_type": "code",
   "execution_count": 92,
   "metadata": {},
   "outputs": [
    {
     "name": "stdout",
     "output_type": "stream",
     "text": [
      "# A tibble: 32 x 11\n",
      "     mpg   cyl  disp    hp  drat    wt  qsec    vs    am  gear  carb\n",
      " * <dbl> <dbl> <dbl> <dbl> <dbl> <dbl> <dbl> <dbl> <dbl> <dbl> <dbl>\n",
      " 1  21.0    6.  160.  110.  3.90  2.62  16.5    0.    1.    4.    4.\n",
      " 2  21.0    6.  160.  110.  3.90  2.88  17.0    0.    1.    4.    4.\n",
      " 3  22.8    4.  108.   93.  3.85  2.32  18.6    1.    1.    4.    1.\n",
      " 4  21.4    6.  258.  110.  3.08  3.22  19.4    1.    0.    3.    1.\n",
      " 5  18.7    8.  360.  175.  3.15  3.44  17.0    0.    0.    3.    2.\n",
      " 6  18.1    6.  225.  105.  2.76  3.46  20.2    1.    0.    3.    1.\n",
      " 7  14.3    8.  360.  245.  3.21  3.57  15.8    0.    0.    3.    4.\n",
      " 8  24.4    4.  147.   62.  3.69  3.19  20.0    1.    0.    4.    2.\n",
      " 9  22.8    4.  141.   95.  3.92  3.15  22.9    1.    0.    4.    2.\n",
      "10  19.2    6.  168.  123.  3.92  3.44  18.3    1.    0.    4.    4.\n",
      "# ... with 22 more rows\n"
     ]
    }
   ],
   "source": [
    "library(tidyverse)\n",
    "\n",
    "cars_tibble <- as_tibble(mtcars)\n",
    "\n",
    "print(cars_tibble)"
   ]
  },
  {
   "cell_type": "markdown",
   "metadata": {},
   "source": [
    "It is obvious that the `print` on a `tibble`is more informative than the one used a `data.frame`. Firsly, one does not need to use `head` to see just the beginning of data. Secondly, column data types and the overall size of the `tibble` are clearly visible.\n",
    "\n",
    "`tibble` does some things differently to `data.frame`. Firsly, it never converts data types of variables (e.g. `vector`s of type `character` into `factor`s). Secondly, it does not generate row names. These changes are made to make the code more consistent and predictable. To add row names as a new column one needs to use `rownames_to_column`:"
   ]
  },
  {
   "cell_type": "code",
   "execution_count": 93,
   "metadata": {},
   "outputs": [
    {
     "name": "stdout",
     "output_type": "stream",
     "text": [
      "# A tibble: 32 x 12\n",
      "   rowname      mpg   cyl  disp    hp  drat    wt  qsec    vs    am  gear  carb\n",
      "   <chr>      <dbl> <dbl> <dbl> <dbl> <dbl> <dbl> <dbl> <dbl> <dbl> <dbl> <dbl>\n",
      " 1 Mazda RX4   21.0    6.  160.  110.  3.90  2.62  16.5    0.    1.    4.    4.\n",
      " 2 Mazda RX4…  21.0    6.  160.  110.  3.90  2.88  17.0    0.    1.    4.    4.\n",
      " 3 Datsun 710  22.8    4.  108.   93.  3.85  2.32  18.6    1.    1.    4.    1.\n",
      " 4 Hornet 4 …  21.4    6.  258.  110.  3.08  3.22  19.4    1.    0.    3.    1.\n",
      " 5 Hornet Sp…  18.7    8.  360.  175.  3.15  3.44  17.0    0.    0.    3.    2.\n",
      " 6 Valiant     18.1    6.  225.  105.  2.76  3.46  20.2    1.    0.    3.    1.\n",
      " 7 Duster 360  14.3    8.  360.  245.  3.21  3.57  15.8    0.    0.    3.    4.\n",
      " 8 Merc 240D   24.4    4.  147.   62.  3.69  3.19  20.0    1.    0.    4.    2.\n",
      " 9 Merc 230    22.8    4.  141.   95.  3.92  3.15  22.9    1.    0.    4.    2.\n",
      "10 Merc 280    19.2    6.  168.  123.  3.92  3.44  18.3    1.    0.    4.    4.\n",
      "# ... with 22 more rows\n"
     ]
    }
   ],
   "source": [
    "cars_tibble <- as_tibble(rownames_to_column(mtcars))\n",
    "print(cars_tibble)"
   ]
  },
  {
   "cell_type": "markdown",
   "metadata": {},
   "source": [
    "Parts of a `tibble` are accessed using \"verbs\" of Tidyverse in conjuction with a pipe-structure.\n",
    "\n",
    "Pipe `%>%` is used to minimize this kind of code:\n",
    "\n",
    "```r\n",
    "a <- data.frame(...)\n",
    "a_tmp1 <- func1(a)\n",
    "a_tmp2 <- func2(a_tmp1)\n",
    "b <- func3(a_tmp2)\n",
    "```\n",
    "\n",
    "with `tibble` and `%>%` the previous structure would be\n",
    "\n",
    "```r\n",
    "a <- tibble(...)\n",
    "b <- a %>% \n",
    "    func1() %>% \n",
    "    func2() %>%\n",
    "    func3()\n",
    "```\n",
    "\n",
    "For data-access the imporant verbs are:\n",
    "- `mutate()`, which adds new variables based on existing variables [[1]](http://dplyr.tidyverse.org/reference/mutate.html)\n",
    "- `select()`, which picks variables based on their names [[2]](http://dplyr.tidyverse.org/reference/select.html)\n",
    "- `filter()`, which picks variables based on their values [[3]](http://dplyr.tidyverse.org/reference/filter.html)\n",
    "- `arrange()`, which reorders rows [[4]](http://dplyr.tidyverse.org/reference/arrange.html)\n",
    "\n",
    "One can also use functions\n",
    "`add_column` and `add_row` to add other data into a `tibble`.[[5]](https://tibble.tidyverse.org/reference/add_column.html) [[6]](https://tibble.tidyverse.org/reference/add_row.html)\n",
    "\n",
    "Previous example with `tibble` would be:"
   ]
  },
  {
   "cell_type": "code",
   "execution_count": 94,
   "metadata": {},
   "outputs": [
    {
     "data": {
      "text/html": [
       "<table>\n",
       "<thead><tr><th scope=col>rowname</th><th scope=col>mpg</th><th scope=col>cyl</th><th scope=col>disp</th><th scope=col>hp</th><th scope=col>drat</th><th scope=col>wt</th><th scope=col>qsec</th><th scope=col>vs</th><th scope=col>am</th><th scope=col>gear</th><th scope=col>carb</th></tr></thead>\n",
       "<tbody>\n",
       "\t<tr><td>Dodge Challenger</td><td>15.5            </td><td>8               </td><td>318             </td><td>150             </td><td>2.76            </td><td>3.52            </td><td>16.87           </td><td>0               </td><td>0               </td><td>3               </td><td>2               </td></tr>\n",
       "</tbody>\n",
       "</table>\n"
      ],
      "text/latex": [
       "\\begin{tabular}{r|llllllllllll}\n",
       " rowname & mpg & cyl & disp & hp & drat & wt & qsec & vs & am & gear & carb\\\\\n",
       "\\hline\n",
       "\t Dodge Challenger & 15.5             & 8                & 318              & 150              & 2.76             & 3.52             & 16.87            & 0                & 0                & 3                & 2               \\\\\n",
       "\\end{tabular}\n"
      ],
      "text/markdown": [
       "\n",
       "rowname | mpg | cyl | disp | hp | drat | wt | qsec | vs | am | gear | carb | \n",
       "|---|\n",
       "| Dodge Challenger | 15.5             | 8                | 318              | 150              | 2.76             | 3.52             | 16.87            | 0                | 0                | 3                | 2                | \n",
       "\n",
       "\n"
      ],
      "text/plain": [
       "  rowname          mpg  cyl disp hp  drat wt   qsec  vs am gear carb\n",
       "1 Dodge Challenger 15.5 8   318  150 2.76 3.52 16.87 0  0  3    2   "
      ]
     },
     "metadata": {},
     "output_type": "display_data"
    },
    {
     "data": {
      "text/html": [
       "<table>\n",
       "<thead><tr><th scope=col>mpg</th></tr></thead>\n",
       "<tbody>\n",
       "\t<tr><td>15.5</td></tr>\n",
       "</tbody>\n",
       "</table>\n"
      ],
      "text/latex": [
       "\\begin{tabular}{r|l}\n",
       " mpg\\\\\n",
       "\\hline\n",
       "\t 15.5\\\\\n",
       "\\end{tabular}\n"
      ],
      "text/markdown": [
       "\n",
       "mpg | \n",
       "|---|\n",
       "| 15.5 | \n",
       "\n",
       "\n"
      ],
      "text/plain": [
       "  mpg \n",
       "1 15.5"
      ]
     },
     "metadata": {},
     "output_type": "display_data"
    },
    {
     "data": {
      "text/html": [
       "<table>\n",
       "<thead><tr><th scope=col>cyl</th><th scope=col>disp</th></tr></thead>\n",
       "<tbody>\n",
       "\t<tr><td>6    </td><td>160.0</td></tr>\n",
       "\t<tr><td>6    </td><td>160.0</td></tr>\n",
       "\t<tr><td>4    </td><td>108.0</td></tr>\n",
       "\t<tr><td>6    </td><td>258.0</td></tr>\n",
       "\t<tr><td>8    </td><td>360.0</td></tr>\n",
       "\t<tr><td>6    </td><td>225.0</td></tr>\n",
       "\t<tr><td>8    </td><td>360.0</td></tr>\n",
       "\t<tr><td>4    </td><td>146.7</td></tr>\n",
       "\t<tr><td>4    </td><td>140.8</td></tr>\n",
       "\t<tr><td>6    </td><td>167.6</td></tr>\n",
       "\t<tr><td>6    </td><td>167.6</td></tr>\n",
       "\t<tr><td>8    </td><td>275.8</td></tr>\n",
       "\t<tr><td>8    </td><td>275.8</td></tr>\n",
       "\t<tr><td>8    </td><td>275.8</td></tr>\n",
       "\t<tr><td>8    </td><td>472.0</td></tr>\n",
       "\t<tr><td>8    </td><td>460.0</td></tr>\n",
       "\t<tr><td>8    </td><td>440.0</td></tr>\n",
       "\t<tr><td>4    </td><td> 78.7</td></tr>\n",
       "\t<tr><td>4    </td><td> 75.7</td></tr>\n",
       "\t<tr><td>4    </td><td> 71.1</td></tr>\n",
       "\t<tr><td>4    </td><td>120.1</td></tr>\n",
       "\t<tr><td>8    </td><td>318.0</td></tr>\n",
       "\t<tr><td>8    </td><td>304.0</td></tr>\n",
       "\t<tr><td>8    </td><td>350.0</td></tr>\n",
       "\t<tr><td>8    </td><td>400.0</td></tr>\n",
       "\t<tr><td>4    </td><td> 79.0</td></tr>\n",
       "\t<tr><td>4    </td><td>120.3</td></tr>\n",
       "\t<tr><td>4    </td><td> 95.1</td></tr>\n",
       "\t<tr><td>8    </td><td>351.0</td></tr>\n",
       "\t<tr><td>6    </td><td>145.0</td></tr>\n",
       "\t<tr><td>8    </td><td>301.0</td></tr>\n",
       "\t<tr><td>4    </td><td>121.0</td></tr>\n",
       "</tbody>\n",
       "</table>\n"
      ],
      "text/latex": [
       "\\begin{tabular}{r|ll}\n",
       " cyl & disp\\\\\n",
       "\\hline\n",
       "\t 6     & 160.0\\\\\n",
       "\t 6     & 160.0\\\\\n",
       "\t 4     & 108.0\\\\\n",
       "\t 6     & 258.0\\\\\n",
       "\t 8     & 360.0\\\\\n",
       "\t 6     & 225.0\\\\\n",
       "\t 8     & 360.0\\\\\n",
       "\t 4     & 146.7\\\\\n",
       "\t 4     & 140.8\\\\\n",
       "\t 6     & 167.6\\\\\n",
       "\t 6     & 167.6\\\\\n",
       "\t 8     & 275.8\\\\\n",
       "\t 8     & 275.8\\\\\n",
       "\t 8     & 275.8\\\\\n",
       "\t 8     & 472.0\\\\\n",
       "\t 8     & 460.0\\\\\n",
       "\t 8     & 440.0\\\\\n",
       "\t 4     &  78.7\\\\\n",
       "\t 4     &  75.7\\\\\n",
       "\t 4     &  71.1\\\\\n",
       "\t 4     & 120.1\\\\\n",
       "\t 8     & 318.0\\\\\n",
       "\t 8     & 304.0\\\\\n",
       "\t 8     & 350.0\\\\\n",
       "\t 8     & 400.0\\\\\n",
       "\t 4     &  79.0\\\\\n",
       "\t 4     & 120.3\\\\\n",
       "\t 4     &  95.1\\\\\n",
       "\t 8     & 351.0\\\\\n",
       "\t 6     & 145.0\\\\\n",
       "\t 8     & 301.0\\\\\n",
       "\t 4     & 121.0\\\\\n",
       "\\end{tabular}\n"
      ],
      "text/markdown": [
       "\n",
       "cyl | disp | \n",
       "|---|---|---|---|---|---|---|---|---|---|---|---|---|---|---|---|---|---|---|---|---|---|---|---|---|---|---|---|---|---|---|---|\n",
       "| 6     | 160.0 | \n",
       "| 6     | 160.0 | \n",
       "| 4     | 108.0 | \n",
       "| 6     | 258.0 | \n",
       "| 8     | 360.0 | \n",
       "| 6     | 225.0 | \n",
       "| 8     | 360.0 | \n",
       "| 4     | 146.7 | \n",
       "| 4     | 140.8 | \n",
       "| 6     | 167.6 | \n",
       "| 6     | 167.6 | \n",
       "| 8     | 275.8 | \n",
       "| 8     | 275.8 | \n",
       "| 8     | 275.8 | \n",
       "| 8     | 472.0 | \n",
       "| 8     | 460.0 | \n",
       "| 8     | 440.0 | \n",
       "| 4     |  78.7 | \n",
       "| 4     |  75.7 | \n",
       "| 4     |  71.1 | \n",
       "| 4     | 120.1 | \n",
       "| 8     | 318.0 | \n",
       "| 8     | 304.0 | \n",
       "| 8     | 350.0 | \n",
       "| 8     | 400.0 | \n",
       "| 4     |  79.0 | \n",
       "| 4     | 120.3 | \n",
       "| 4     |  95.1 | \n",
       "| 8     | 351.0 | \n",
       "| 6     | 145.0 | \n",
       "| 8     | 301.0 | \n",
       "| 4     | 121.0 | \n",
       "\n",
       "\n"
      ],
      "text/plain": [
       "   cyl disp \n",
       "1  6   160.0\n",
       "2  6   160.0\n",
       "3  4   108.0\n",
       "4  6   258.0\n",
       "5  8   360.0\n",
       "6  6   225.0\n",
       "7  8   360.0\n",
       "8  4   146.7\n",
       "9  4   140.8\n",
       "10 6   167.6\n",
       "11 6   167.6\n",
       "12 8   275.8\n",
       "13 8   275.8\n",
       "14 8   275.8\n",
       "15 8   472.0\n",
       "16 8   460.0\n",
       "17 8   440.0\n",
       "18 4    78.7\n",
       "19 4    75.7\n",
       "20 4    71.1\n",
       "21 4   120.1\n",
       "22 8   318.0\n",
       "23 8   304.0\n",
       "24 8   350.0\n",
       "25 8   400.0\n",
       "26 4    79.0\n",
       "27 4   120.3\n",
       "28 4    95.1\n",
       "29 8   351.0\n",
       "30 6   145.0\n",
       "31 8   301.0\n",
       "32 4   121.0"
      ]
     },
     "metadata": {},
     "output_type": "display_data"
    },
    {
     "data": {
      "text/html": [
       "<table>\n",
       "<thead><tr><th scope=col>rowname</th><th scope=col>mpg</th><th scope=col>cyl</th><th scope=col>disp</th><th scope=col>hp</th><th scope=col>drat</th><th scope=col>wt</th><th scope=col>qsec</th><th scope=col>vs</th><th scope=col>am</th><th scope=col>gear</th><th scope=col>carb</th></tr></thead>\n",
       "<tbody>\n",
       "\t<tr><td>Mazda RX4     </td><td>21.0          </td><td>6             </td><td>160.0         </td><td>110           </td><td>3.90          </td><td>2.620         </td><td>16.46         </td><td>0             </td><td>1             </td><td>4             </td><td>4             </td></tr>\n",
       "\t<tr><td>Mazda RX4 Wag </td><td>21.0          </td><td>6             </td><td>160.0         </td><td>110           </td><td>3.90          </td><td>2.875         </td><td>17.02         </td><td>0             </td><td>1             </td><td>4             </td><td>4             </td></tr>\n",
       "\t<tr><td>Hornet 4 Drive</td><td>21.4          </td><td>6             </td><td>258.0         </td><td>110           </td><td>3.08          </td><td>3.215         </td><td>19.44         </td><td>1             </td><td>0             </td><td>3             </td><td>1             </td></tr>\n",
       "\t<tr><td>Valiant       </td><td>18.1          </td><td>6             </td><td>225.0         </td><td>105           </td><td>2.76          </td><td>3.460         </td><td>20.22         </td><td>1             </td><td>0             </td><td>3             </td><td>1             </td></tr>\n",
       "\t<tr><td>Merc 280      </td><td>19.2          </td><td>6             </td><td>167.6         </td><td>123           </td><td>3.92          </td><td>3.440         </td><td>18.30         </td><td>1             </td><td>0             </td><td>4             </td><td>4             </td></tr>\n",
       "\t<tr><td>Merc 280C     </td><td>17.8          </td><td>6             </td><td>167.6         </td><td>123           </td><td>3.92          </td><td>3.440         </td><td>18.90         </td><td>1             </td><td>0             </td><td>4             </td><td>4             </td></tr>\n",
       "\t<tr><td>Ferrari Dino  </td><td>19.7          </td><td>6             </td><td>145.0         </td><td>175           </td><td>3.62          </td><td>2.770         </td><td>15.50         </td><td>0             </td><td>1             </td><td>5             </td><td>6             </td></tr>\n",
       "</tbody>\n",
       "</table>\n"
      ],
      "text/latex": [
       "\\begin{tabular}{r|llllllllllll}\n",
       " rowname & mpg & cyl & disp & hp & drat & wt & qsec & vs & am & gear & carb\\\\\n",
       "\\hline\n",
       "\t Mazda RX4      & 21.0           & 6              & 160.0          & 110            & 3.90           & 2.620          & 16.46          & 0              & 1              & 4              & 4             \\\\\n",
       "\t Mazda RX4 Wag  & 21.0           & 6              & 160.0          & 110            & 3.90           & 2.875          & 17.02          & 0              & 1              & 4              & 4             \\\\\n",
       "\t Hornet 4 Drive & 21.4           & 6              & 258.0          & 110            & 3.08           & 3.215          & 19.44          & 1              & 0              & 3              & 1             \\\\\n",
       "\t Valiant        & 18.1           & 6              & 225.0          & 105            & 2.76           & 3.460          & 20.22          & 1              & 0              & 3              & 1             \\\\\n",
       "\t Merc 280       & 19.2           & 6              & 167.6          & 123            & 3.92           & 3.440          & 18.30          & 1              & 0              & 4              & 4             \\\\\n",
       "\t Merc 280C      & 17.8           & 6              & 167.6          & 123            & 3.92           & 3.440          & 18.90          & 1              & 0              & 4              & 4             \\\\\n",
       "\t Ferrari Dino   & 19.7           & 6              & 145.0          & 175            & 3.62           & 2.770          & 15.50          & 0              & 1              & 5              & 6             \\\\\n",
       "\\end{tabular}\n"
      ],
      "text/markdown": [
       "\n",
       "rowname | mpg | cyl | disp | hp | drat | wt | qsec | vs | am | gear | carb | \n",
       "|---|---|---|---|---|---|---|\n",
       "| Mazda RX4      | 21.0           | 6              | 160.0          | 110            | 3.90           | 2.620          | 16.46          | 0              | 1              | 4              | 4              | \n",
       "| Mazda RX4 Wag  | 21.0           | 6              | 160.0          | 110            | 3.90           | 2.875          | 17.02          | 0              | 1              | 4              | 4              | \n",
       "| Hornet 4 Drive | 21.4           | 6              | 258.0          | 110            | 3.08           | 3.215          | 19.44          | 1              | 0              | 3              | 1              | \n",
       "| Valiant        | 18.1           | 6              | 225.0          | 105            | 2.76           | 3.460          | 20.22          | 1              | 0              | 3              | 1              | \n",
       "| Merc 280       | 19.2           | 6              | 167.6          | 123            | 3.92           | 3.440          | 18.30          | 1              | 0              | 4              | 4              | \n",
       "| Merc 280C      | 17.8           | 6              | 167.6          | 123            | 3.92           | 3.440          | 18.90          | 1              | 0              | 4              | 4              | \n",
       "| Ferrari Dino   | 19.7           | 6              | 145.0          | 175            | 3.62           | 2.770          | 15.50          | 0              | 1              | 5              | 6              | \n",
       "\n",
       "\n"
      ],
      "text/plain": [
       "  rowname        mpg  cyl disp  hp  drat wt    qsec  vs am gear carb\n",
       "1 Mazda RX4      21.0 6   160.0 110 3.90 2.620 16.46 0  1  4    4   \n",
       "2 Mazda RX4 Wag  21.0 6   160.0 110 3.90 2.875 17.02 0  1  4    4   \n",
       "3 Hornet 4 Drive 21.4 6   258.0 110 3.08 3.215 19.44 1  0  3    1   \n",
       "4 Valiant        18.1 6   225.0 105 2.76 3.460 20.22 1  0  3    1   \n",
       "5 Merc 280       19.2 6   167.6 123 3.92 3.440 18.30 1  0  4    4   \n",
       "6 Merc 280C      17.8 6   167.6 123 3.92 3.440 18.90 1  0  4    4   \n",
       "7 Ferrari Dino   19.7 6   145.0 175 3.62 2.770 15.50 0  1  5    6   "
      ]
     },
     "metadata": {},
     "output_type": "display_data"
    },
    {
     "name": "stdout",
     "output_type": "stream",
     "text": [
      "# A tibble: 32 x 14\n",
      "   rowname      mpg   cyl  disp    hp  drat    wt  qsec    vs    am  gear  carb\n",
      "   <chr>      <dbl> <dbl> <dbl> <dbl> <dbl> <dbl> <dbl> <dbl> <dbl> <dbl> <dbl>\n",
      " 1 Mazda RX4   21.0    6.  160.  110.  3.90  2.62  16.5    0.    1.    4.    4.\n",
      " 2 Mazda RX4…  21.0    6.  160.  110.  3.90  2.88  17.0    0.    1.    4.    4.\n",
      " 3 Datsun 710  22.8    4.  108.   93.  3.85  2.32  18.6    1.    1.    4.    1.\n",
      " 4 Hornet 4 …  21.4    6.  258.  110.  3.08  3.22  19.4    1.    0.    3.    1.\n",
      " 5 Hornet Sp…  18.7    8.  360.  175.  3.15  3.44  17.0    0.    0.    3.    2.\n",
      " 6 Valiant     18.1    6.  225.  105.  2.76  3.46  20.2    1.    0.    3.    1.\n",
      " 7 Duster 360  14.3    8.  360.  245.  3.21  3.57  15.8    0.    0.    3.    4.\n",
      " 8 Merc 240D   24.4    4.  147.   62.  3.69  3.19  20.0    1.    0.    4.    2.\n",
      " 9 Merc 230    22.8    4.  141.   95.  3.92  3.15  22.9    1.    0.    4.    2.\n",
      "10 Merc 280    19.2    6.  168.  123.  3.92  3.44  18.3    1.    0.    4.    4.\n",
      "# ... with 22 more rows, and 2 more variables: l100km <dbl>, l100km_2 <dbl>\n"
     ]
    }
   ],
   "source": [
    "cars_tibble %>% \n",
    "    filter(rowname == 'Dodge Challenger')\n",
    "\n",
    "cars_tibble %>% \n",
    "    filter(rowname == 'Dodge Challenger') %>% \n",
    "    select('mpg')\n",
    "\n",
    "cars_tibble %>% \n",
    "    select('cyl','disp')\n",
    "\n",
    "cars_tibble %>% \n",
    "    filter(cyl == 6)\n",
    "\n",
    "# Calculate l100km into a variable\n",
    "\n",
    "cars_tibble <- cars_tibble %>%\n",
    "    mutate(l100km = 235.214583/mpg)\n",
    "\n",
    "# Obtain l100km from outside data\n",
    "\n",
    "cars_tibble <- cars_tibble %>%\n",
    "    add_column(l100km_2 = cars[['l100km']])\n",
    "\n",
    "print(cars_tibble)"
   ]
  },
  {
   "cell_type": "markdown",
   "metadata": {},
   "source": [
    "It is important to note that all of the operations returned a `tibble`. This makes handling data much easier as you don't need to worry about converting objects."
   ]
  },
  {
   "cell_type": "markdown",
   "metadata": {},
   "source": [
    "## Functions\n",
    "\n",
    "R is a highly procedural language. This means that most of the time you'll modify data through function calls. A function is defined into a variable with the assignment operator `<-` and the `function`-statement:"
   ]
  },
  {
   "cell_type": "code",
   "execution_count": 95,
   "metadata": {},
   "outputs": [
    {
     "name": "stdout",
     "output_type": "stream",
     "text": [
      "[1] \"test\"\n",
      "[1] \"optional not set\"\n"
     ]
    },
    {
     "data": {
      "text/html": [
       "0"
      ],
      "text/latex": [
       "0"
      ],
      "text/markdown": [
       "0"
      ],
      "text/plain": [
       "[1] 0"
      ]
     },
     "metadata": {},
     "output_type": "display_data"
    },
    {
     "name": "stdout",
     "output_type": "stream",
     "text": [
      "[1] \"test2\"\n",
      "[1] \"optional set\"\n"
     ]
    },
    {
     "data": {
      "text/html": [
       "0"
      ],
      "text/latex": [
       "0"
      ],
      "text/markdown": [
       "0"
      ],
      "text/plain": [
       "[1] 0"
      ]
     },
     "metadata": {},
     "output_type": "display_data"
    },
    {
     "name": "stdout",
     "output_type": "stream",
     "text": [
      "[1] \"test3\"\n",
      "[1] \"optional_set3\"\n"
     ]
    },
    {
     "data": {
      "text/html": [
       "0"
      ],
      "text/latex": [
       "0"
      ],
      "text/markdown": [
       "0"
      ],
      "text/plain": [
       "[1] 0"
      ]
     },
     "metadata": {},
     "output_type": "display_data"
    },
    {
     "name": "stdout",
     "output_type": "stream",
     "text": [
      "[1] \"Error in print(argument) : \\n  argument \\\"argument\\\" is missing, with no default\\n\"\n",
      "attr(,\"class\")\n",
      "[1] \"try-error\"\n",
      "attr(,\"condition\")\n",
      "<simpleError in print(argument): argument \"argument\" is missing, with no default>\n"
     ]
    }
   ],
   "source": [
    "example_function <- function (argument, optional_argument='optional not set') {\n",
    "    print(argument)\n",
    "    print(optional_argument)\n",
    "    return(0)\n",
    "}\n",
    "\n",
    "# Do not give an optional argument\n",
    "example_function('test')\n",
    "# Give arguments with positional placement\n",
    "example_function('test2','optional set')\n",
    "# Give arguments with keywords\n",
    "example_function(optional_argument='optional_set3',argument='test3')\n",
    "# Missing an argument returns an error, catch it with try()\n",
    "print(try(example_function()))"
   ]
  },
  {
   "cell_type": "markdown",
   "metadata": {},
   "source": [
    "Arguments are specified in the function definition. Ones with default values are considered optional. Positional arguments are evaluated from left to right. During function call one can also specify arguments by giving their names.\n",
    "\n",
    "Output of the function call is returned with a call to the `return`-function. One can also use `invisible` to return the output only if it asked during function call. Returning output is especially important if you want to write a function that works with the Tidyverse pipe.\n",
    "\n",
    "It is important to know that in R all objects are immutable. This means that if you provide a function with an object, R will copy this object once it is has been accessed (lazy loading) and any changes you make to this object are not done to the original object unless you assign the result to the original object."
   ]
  },
  {
   "cell_type": "code",
   "execution_count": 107,
   "metadata": {},
   "outputs": [
    {
     "name": "stdout",
     "output_type": "stream",
     "text": [
      "[1] \"Input:\"\n",
      " [1]  1  2  3  4  5  6  7  8  9 10\n",
      "[1] \"Input in function scope:\"\n",
      " [1]  2  4  6  8 10 12 14 16 18 20\n",
      "[1] \"Input after function call:\"\n",
      " [1]  1  2  3  4  5  6  7  8  9 10\n",
      "[1] \"Input:\"\n",
      " [1]  1  2  3  4  5  6  7  8  9 10\n",
      "[1] \"Input in function scope:\"\n",
      " [1]  2  4  6  8 10 12 14 16 18 20\n",
      "[1] \"Input after function call:\"\n",
      " [1]  2  4  6  8 10 12 14 16 18 20\n"
     ]
    }
   ],
   "source": [
    "x <- (1:10)\n",
    "\n",
    "does_not_multiply_a_vector <- function (multiplier,inputvector) {\n",
    "    inputvector <- multiplier * inputvector\n",
    "    print('Input in function scope:')\n",
    "    print(inputvector)\n",
    "}\n",
    "\n",
    "print('Input:')\n",
    "print(x)\n",
    "does_not_multiply_a_vector(2,x)\n",
    "print('Input after function call:')\n",
    "print(x)\n",
    "\n",
    "does_multiply_a_vector <- function (multiplier,inputvector) {\n",
    "    inputvector <- multiplier * inputvector\n",
    "    print('Input in function scope:')\n",
    "    print(inputvector)\n",
    "    return(inputvector)\n",
    "}\n",
    "\n",
    "print('Input:')\n",
    "print(x)\n",
    "x <- does_multiply_a_vector(2,x)\n",
    "print('Input after function call:')\n",
    "print(x)"
   ]
  },
  {
   "cell_type": "markdown",
   "metadata": {},
   "source": [
    "With Tinyverse verbs the previous example is of course more terse:"
   ]
  },
  {
   "cell_type": "code",
   "execution_count": 120,
   "metadata": {},
   "outputs": [
    {
     "name": "stdout",
     "output_type": "stream",
     "text": [
      "# A tibble: 10 x 1\n",
      "       x\n",
      "   <int>\n",
      " 1     1\n",
      " 2     2\n",
      " 3     3\n",
      " 4     4\n",
      " 5     5\n",
      " 6     6\n",
      " 7     7\n",
      " 8     8\n",
      " 9     9\n",
      "10    10\n",
      "# A tibble: 10 x 1\n",
      "       x\n",
      "   <dbl>\n",
      " 1    2.\n",
      " 2    4.\n",
      " 3    6.\n",
      " 4    8.\n",
      " 5   10.\n",
      " 6   12.\n",
      " 7   14.\n",
      " 8   16.\n",
      " 9   18.\n",
      "10   20.\n"
     ]
    }
   ],
   "source": [
    "x_tibble <- tibble(x=(1:10))\n",
    "print(x_tibble)\n",
    "x_tibble <- x_tibble %>%\n",
    "    mutate(x = x*2)\n",
    "\n",
    "print(x_tibble)"
   ]
  }
 ],
 "metadata": {
  "kernelspec": {
   "display_name": "R",
   "language": "R",
   "name": "ir"
  },
  "language_info": {
   "codemirror_mode": "r",
   "file_extension": ".r",
   "mimetype": "text/x-r-source",
   "name": "R",
   "pygments_lexer": "r",
   "version": "3.2.3"
  }
 },
 "nbformat": 4,
 "nbformat_minor": 2
}

{
 "cells": [
  {
   "cell_type": "markdown",
   "metadata": {},
   "source": [
    "# Bringing it home"
   ]
  },
  {
   "cell_type": "markdown",
   "metadata": {},
   "source": [
    "In this course we have seen, that a typical data science workflow goes as follows:\n",
    "\n",
    "    1. We obtain a dataset\n",
    "    2. We read in the dataset\n",
    "    3. We modify the dataset into a tidy format\n",
    "    4. Go through steps 1-3 and join data to your dataset until you have obtained all datasets you require\n",
    "    5. We create a model based on the variables that we have with some variables acting as responses and others as predictors\n",
    "    6. We run the model on our data\n",
    "    7. We try to see how well the model fits\n",
    "    8. Go through steps 5-7 until you have a working model\n",
    "    9. We visualize the results"
   ]
  },
  {
   "cell_type": "markdown",
   "metadata": {},
   "source": [
    "Let's try this in action."
   ]
  },
  {
   "cell_type": "markdown",
   "metadata": {},
   "source": [
    "# Exercise\n",
    "\n",
    "It is often said that increase in life expectancy will reduce the amount of children people have as the probability of the child living into adulthood will be higher.\n",
    "\n",
    "There's two files in `/m/jhnas/jupyter/shareddata/python-r-data-analysis/world-bank-data-1960-to-2016`:\n",
    "    \n",
    "    - `fertility_rate.csv` contains fertility rate data.\n",
    "    - `life_expectancy.csv` constains life expectancy data.\n",
    "\n",
    "There's one file in `/m/jhnas/jupyter/shareddata/python-r-data-analysis/world-capitals-gps`:\n",
    "\n",
    "    - `concap.csv` contains GPS locations of world's capitals (and their country codes and continent codes).\n",
    "\n",
    "Do the following:\n",
    "\n",
    "1. Read these datasets in and make them into tidy format.\n",
    "\n",
    "2. Use join-functions from `tidyverse` to join the important variables of these datasets together [[join]](https://dplyr.tidyverse.org/reference/join.html).\n",
    "\n",
    "3. Calculate mean values and variations of fertility and life expectancy on a global and continental scale.\n",
    "\n",
    "4. Fit linear model to each country. See which countries match best and worst."
   ]
  },
  {
   "cell_type": "code",
   "execution_count": null,
   "metadata": {},
   "outputs": [],
   "source": []
  }
 ],
 "metadata": {
  "kernelspec": {
   "display_name": "R",
   "language": "R",
   "name": "ir"
  },
  "language_info": {
   "codemirror_mode": "r",
   "file_extension": ".r",
   "mimetype": "text/x-r-source",
   "name": "R",
   "pygments_lexer": "r",
   "version": "3.4.4"
  }
 },
 "nbformat": 4,
 "nbformat_minor": 4
}

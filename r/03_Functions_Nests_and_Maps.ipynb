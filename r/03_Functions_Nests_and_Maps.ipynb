{
 "cells": [
  {
   "cell_type": "markdown",
   "metadata": {},
   "source": [
    "# Functions and Maps\n",
    "\n",
    "R is a highly procedural language. This means that most of the time you'll modify data through function calls.\n",
    "\n",
    "This applies to loops and iteration as well. When encountered with a *do this for all data presented here*-situation, R programmers rarely turn to `for` or `while` loops. Instead, they use `map`- or `apply`-functions.\n",
    "\n",
    "## Functions\n",
    "\n",
    "A function is defined into a variable with the assignment operator `<-` and the `function`-statement:"
   ]
  },
  {
   "cell_type": "code",
   "execution_count": 230,
   "metadata": {},
   "outputs": [
    {
     "name": "stdout",
     "output_type": "stream",
     "text": [
      "[1] \"test\"\n",
      "[1] \"optional not set\"\n"
     ]
    },
    {
     "data": {
      "text/html": [
       "0"
      ],
      "text/latex": [
       "0"
      ],
      "text/markdown": [
       "0"
      ],
      "text/plain": [
       "[1] 0"
      ]
     },
     "metadata": {},
     "output_type": "display_data"
    },
    {
     "name": "stdout",
     "output_type": "stream",
     "text": [
      "[1] \"test2\"\n",
      "[1] \"optional set\"\n"
     ]
    },
    {
     "data": {
      "text/html": [
       "0"
      ],
      "text/latex": [
       "0"
      ],
      "text/markdown": [
       "0"
      ],
      "text/plain": [
       "[1] 0"
      ]
     },
     "metadata": {},
     "output_type": "display_data"
    },
    {
     "name": "stdout",
     "output_type": "stream",
     "text": [
      "[1] \"test3\"\n",
      "[1] \"optional_set3\"\n"
     ]
    },
    {
     "data": {
      "text/html": [
       "0"
      ],
      "text/latex": [
       "0"
      ],
      "text/markdown": [
       "0"
      ],
      "text/plain": [
       "[1] 0"
      ]
     },
     "metadata": {},
     "output_type": "display_data"
    },
    {
     "name": "stdout",
     "output_type": "stream",
     "text": [
      "[1] \"Error in print(argument) : \\n  argument \\\"argument\\\" is missing, with no default\\n\"\n",
      "attr(,\"class\")\n",
      "[1] \"try-error\"\n",
      "attr(,\"condition\")\n",
      "<simpleError in print(argument): argument \"argument\" is missing, with no default>\n"
     ]
    }
   ],
   "source": [
    "example_function <- function (argument, optional_argument='optional not set') {\n",
    "    print(argument)\n",
    "    print(optional_argument)\n",
    "    return(0)\n",
    "}\n",
    "\n",
    "# Do not give an optional argument\n",
    "example_function('test')\n",
    "# Give arguments with positional placement\n",
    "example_function('test2','optional set')\n",
    "# Give arguments with keywords\n",
    "example_function(optional_argument='optional_set3',argument='test3')\n",
    "# Missing an argument returns an error, catch it with try()\n",
    "print(try(example_function()))"
   ]
  },
  {
   "cell_type": "markdown",
   "metadata": {},
   "source": [
    "Arguments are specified in the function definition. Ones with default values are considered optional. Positional arguments are evaluated from left to right. During function call one can also specify arguments by giving their names.\n",
    "\n",
    "Output of the function call is returned with a call to the `return`-function. One can also use `invisible` to return the output only if it asked during function call. Returning output is especially important if you want to write a function that works with the Tidyverse pipe. If you haven't specified a `return` or `invisible` statement, the last output of the function is returned as `invisible`.\n",
    "\n",
    "It is important to know that in R all objects are immutable. This means that if you provide a function with an object, R will copy this object once it knows it will be accessed (lazy evaluation) and any changes you make to this object are not done to the original object unless you assign the result to the original object."
   ]
  },
  {
   "cell_type": "code",
   "execution_count": 231,
   "metadata": {},
   "outputs": [
    {
     "name": "stdout",
     "output_type": "stream",
     "text": [
      "[1] \"Return always returns output while invisible / no return do not produce output unless asked:\"\n"
     ]
    },
    {
     "data": {
      "text/html": [
       "<ol class=list-inline>\n",
       "\t<li>2</li>\n",
       "\t<li>4</li>\n",
       "\t<li>6</li>\n",
       "\t<li>8</li>\n",
       "\t<li>10</li>\n",
       "\t<li>12</li>\n",
       "\t<li>14</li>\n",
       "\t<li>16</li>\n",
       "\t<li>18</li>\n",
       "\t<li>20</li>\n",
       "</ol>\n"
      ],
      "text/latex": [
       "\\begin{enumerate*}\n",
       "\\item 2\n",
       "\\item 4\n",
       "\\item 6\n",
       "\\item 8\n",
       "\\item 10\n",
       "\\item 12\n",
       "\\item 14\n",
       "\\item 16\n",
       "\\item 18\n",
       "\\item 20\n",
       "\\end{enumerate*}\n"
      ],
      "text/markdown": [
       "1. 2\n",
       "2. 4\n",
       "3. 6\n",
       "4. 8\n",
       "5. 10\n",
       "6. 12\n",
       "7. 14\n",
       "8. 16\n",
       "9. 18\n",
       "10. 20\n",
       "\n",
       "\n"
      ],
      "text/plain": [
       " [1]  2  4  6  8 10 12 14 16 18 20"
      ]
     },
     "metadata": {},
     "output_type": "display_data"
    },
    {
     "name": "stdout",
     "output_type": "stream",
     "text": [
      "[1] \"x has of course not changed:\"\n",
      " [1]  1  2  3  4  5  6  7  8  9 10\n",
      "[1] \"All functions return the same output when they are saved to variables:\"\n",
      " [1]  2  4  6  8 10 12 14 16 18 20\n",
      " [1]  2  4  6  8 10 12 14 16 18 20\n",
      " [1]  2  4  6  8 10 12 14 16 18 20\n"
     ]
    }
   ],
   "source": [
    "x <- (1:10)\n",
    "\n",
    "multiply_noreturn <- function (multiplier,inputvector) {\n",
    "    inputvector <- multiplier * inputvector\n",
    "}\n",
    "\n",
    "multiply_return <- function (multiplier,inputvector) {\n",
    "    inputvector <- multiplier * inputvector\n",
    "    return(inputvector)\n",
    "}\n",
    "\n",
    "multiply_invisible <- function (multiplier,inputvector) {\n",
    "    inputvector <- multiplier * inputvector\n",
    "    invisible(inputvector)\n",
    "}\n",
    "\n",
    "print('Return always returns output while invisible / no return do not produce output unless asked:')\n",
    "multiply_noreturn(2,x)\n",
    "multiply_return(2,x)\n",
    "multiply_invisible(2,x)\n",
    "\n",
    "print('x has of course not changed:')\n",
    "print(x)\n",
    "\n",
    "print('All functions return the same output when they are saved to variables:')\n",
    "\n",
    "x2_noreturn<-multiply_noreturn(2,x)\n",
    "x2_return<-multiply_return(2,x)\n",
    "x2_invisible<-multiply_invisible(2,x)\n",
    "\n",
    "print(x2_noreturn)\n",
    "print(x2_return)\n",
    "print(x2_invisible)"
   ]
  },
  {
   "cell_type": "markdown",
   "metadata": {},
   "source": [
    "All R-functions do their work in an environment. If some variable has not been set in that specific environment, it will look to the environment that made the function call. Any change to these variables is made to the environment of the function."
   ]
  },
  {
   "cell_type": "code",
   "execution_count": 232,
   "metadata": {},
   "outputs": [
    {
     "name": "stdout",
     "output_type": "stream",
     "text": [
      "[1] \"I know that your secret key is:\"\n",
      "[1] \"this is a very secret key indeed\"\n"
     ]
    },
    {
     "data": {
      "text/html": [
       "'this is a very secret key indeed'"
      ],
      "text/latex": [
       "'this is a very secret key indeed'"
      ],
      "text/markdown": [
       "'this is a very secret key indeed'"
      ],
      "text/plain": [
       "[1] \"this is a very secret key indeed\""
      ]
     },
     "metadata": {},
     "output_type": "display_data"
    }
   ],
   "source": [
    "very_secret_key <- 'this is a very secret key indeed' \n",
    "\n",
    "peek_at_the_secret_key <- function() {\n",
    "    print('I know that your secret key is:')\n",
    "    print(very_secret_key)\n",
    "}\n",
    "\n",
    "modify_the_secret_key <- function() {\n",
    "    very_secret_key <- 'I changed your key!'\n",
    "}\n",
    "\n",
    "# This works, function can access global environment\n",
    "peek_at_the_secret_key()\n",
    "\n",
    "# This does not work, function will write to its own environment\n",
    "modify_the_secret_key()\n",
    "\n",
    "very_secret_key"
   ]
  },
  {
   "cell_type": "markdown",
   "metadata": {},
   "source": [
    "This might give you an idea to use global variables instead of arguments. That is not a good idea. \n",
    "\n",
    "This environment lookup is mostly used to allow function `f` to call function `g` or constant `c` from the package where it has been defined."
   ]
  },
  {
   "cell_type": "markdown",
   "metadata": {},
   "source": [
    "## Nesting\n",
    "\n",
    "Lets say we want to store statistics we calculated from `iris`-dataset with our data. Currently this is not possible, as the statistics do not share the same form factor as our original data. To fix this issue lets use `nest` to store the data belonging different species in different `tibble`s ([[nest]](http://tidyr.tidyverse.org/reference/nest.html))."
   ]
  },
  {
   "cell_type": "code",
   "execution_count": 233,
   "metadata": {},
   "outputs": [
    {
     "name": "stdout",
     "output_type": "stream",
     "text": [
      "# A tibble: 3 x 2\n",
      "  Species    data             \n",
      "  <fct>      <list>           \n",
      "1 setosa     <tibble [50 × 4]>\n",
      "2 versicolor <tibble [50 × 4]>\n",
      "3 virginica  <tibble [50 × 4]>\n"
     ]
    }
   ],
   "source": [
    "library(tidyverse)\n",
    "\n",
    "iris_nested <- as_tibble(iris) %>%\n",
    "    group_by(Species) %>%\n",
    "    nest()\n",
    "\n",
    "print(iris_nested)"
   ]
  },
  {
   "cell_type": "markdown",
   "metadata": {},
   "source": [
    "Now the data belonging to each species is stored in the data-variable. Now we cannot, however just use summarize the data as the summary would not be done against the `tibble` stored in the data. Instead we need to define a function that acts on the data itself and use a map that acts on the list on which the data-`tibble`s are stored.\n",
    "\n",
    "Before we do that let's go through maps."
   ]
  },
  {
   "cell_type": "markdown",
   "metadata": {},
   "source": [
    "## Maps\n",
    "\n",
    "In many cases we want to go through a list one element at a time. In the previous example we have a list of `tibble`s.\n",
    "\n",
    "On each element we want to run function `iris_statistics` that calculates statistics."
   ]
  },
  {
   "cell_type": "code",
   "execution_count": 234,
   "metadata": {},
   "outputs": [
    {
     "data": {
      "text/html": [
       "<table>\n",
       "<thead><tr><th scope=col>Species</th><th scope=col>Petal.Length_mean</th><th scope=col>Petal.Width_mean</th><th scope=col>Petal.Length_var</th><th scope=col>Petal.Width_var</th><th scope=col>Petal_cor</th></tr></thead>\n",
       "<tbody>\n",
       "\t<tr><td>setosa    </td><td>1.462     </td><td>0.246     </td><td>0.03015918</td><td>0.01110612</td><td>0.3316300 </td></tr>\n",
       "\t<tr><td>versicolor</td><td>4.260     </td><td>1.326     </td><td>0.22081633</td><td>0.03910612</td><td>0.7866681 </td></tr>\n",
       "\t<tr><td>virginica </td><td>5.552     </td><td>2.026     </td><td>0.30458776</td><td>0.07543265</td><td>0.3221082 </td></tr>\n",
       "</tbody>\n",
       "</table>\n"
      ],
      "text/latex": [
       "\\begin{tabular}{r|llllll}\n",
       " Species & Petal.Length\\_mean & Petal.Width\\_mean & Petal.Length\\_var & Petal.Width\\_var & Petal\\_cor\\\\\n",
       "\\hline\n",
       "\t setosa     & 1.462      & 0.246      & 0.03015918 & 0.01110612 & 0.3316300 \\\\\n",
       "\t versicolor & 4.260      & 1.326      & 0.22081633 & 0.03910612 & 0.7866681 \\\\\n",
       "\t virginica  & 5.552      & 2.026      & 0.30458776 & 0.07543265 & 0.3221082 \\\\\n",
       "\\end{tabular}\n"
      ],
      "text/markdown": [
       "\n",
       "Species | Petal.Length_mean | Petal.Width_mean | Petal.Length_var | Petal.Width_var | Petal_cor | \n",
       "|---|---|---|\n",
       "| setosa     | 1.462      | 0.246      | 0.03015918 | 0.01110612 | 0.3316300  | \n",
       "| versicolor | 4.260      | 1.326      | 0.22081633 | 0.03910612 | 0.7866681  | \n",
       "| virginica  | 5.552      | 2.026      | 0.30458776 | 0.07543265 | 0.3221082  | \n",
       "\n",
       "\n"
      ],
      "text/plain": [
       "  Species    Petal.Length_mean Petal.Width_mean Petal.Length_var\n",
       "1 setosa     1.462             0.246            0.03015918      \n",
       "2 versicolor 4.260             1.326            0.22081633      \n",
       "3 virginica  5.552             2.026            0.30458776      \n",
       "  Petal.Width_var Petal_cor\n",
       "1 0.01110612      0.3316300\n",
       "2 0.03910612      0.7866681\n",
       "3 0.07543265      0.3221082"
      ]
     },
     "metadata": {},
     "output_type": "display_data"
    }
   ],
   "source": [
    "iris_statistics <- function(tbl) {\n",
    "    return(as_tibble(tbl %>%\n",
    "        summarize(\n",
    "            Petal.Length_mean=mean(Petal.Length),\n",
    "            Petal.Width_mean=mean(Petal.Width),\n",
    "            Petal.Length_var=var(Petal.Length),\n",
    "            Petal.Width_var=var(Petal.Width),\n",
    "            Petal_cor=cor(Petal.Length,Petal.Width)))\n",
    "    )\n",
    "}\n",
    "\n",
    "as_tibble(iris) %>%\n",
    "    group_by(Species) %>%\n",
    "    iris_statistics()"
   ]
  },
  {
   "cell_type": "markdown",
   "metadata": {},
   "source": [
    "We can see that it produces the same results that we got in the previous chapter.\n",
    "\n",
    "Let's now create a new variable `statistics` with `mutate` and `map` [[map]](http://purrr.tidyverse.org/reference/map.html).\n",
    "\n",
    "`map` is provided by the purrr-package. There are variants of it based on the return value of the used function. As our function `iris_statistics` returns a `tibble` for each element, we want to use `map` that creates a list from the outputs."
   ]
  },
  {
   "cell_type": "code",
   "execution_count": 235,
   "metadata": {},
   "outputs": [
    {
     "name": "stdout",
     "output_type": "stream",
     "text": [
      "# A tibble: 3 x 3\n",
      "  Species    data              statistics      \n",
      "  <fct>      <list>            <list>          \n",
      "1 setosa     <tibble [50 × 4]> <tibble [1 × 5]>\n",
      "2 versicolor <tibble [50 × 4]> <tibble [1 × 5]>\n",
      "3 virginica  <tibble [50 × 4]> <tibble [1 × 5]>\n"
     ]
    }
   ],
   "source": [
    "iris_nested <- iris_nested %>%\n",
    "    mutate(statistics=map(data,iris_statistics))\n",
    "\n",
    "print(iris_nested)"
   ]
  },
  {
   "cell_type": "markdown",
   "metadata": {},
   "source": [
    "Now our statistics are stored in the variable `statistics`. They are not that easy to access, though. Let's use `unnest` to reverse the nesting in the `statistics`-variable."
   ]
  },
  {
   "cell_type": "code",
   "execution_count": 236,
   "metadata": {},
   "outputs": [
    {
     "name": "stdout",
     "output_type": "stream",
     "text": [
      "# A tibble: 3 x 7\n",
      "  Species    data            Petal.Length_me… Petal.Width_mean Petal.Length_var\n",
      "  <fct>      <list>                     <dbl>            <dbl>            <dbl>\n",
      "1 setosa     <tibble [50 × …             1.46            0.246           0.0302\n",
      "2 versicolor <tibble [50 × …             4.26            1.33            0.221 \n",
      "3 virginica  <tibble [50 × …             5.55            2.03            0.305 \n",
      "# ... with 2 more variables: Petal.Width_var <dbl>, Petal_cor <dbl>\n"
     ]
    }
   ],
   "source": [
    "iris_nested <- iris_nested %>%\n",
    "    unnest(statistics)\n",
    "\n",
    "print(iris_nested)"
   ]
  },
  {
   "cell_type": "markdown",
   "metadata": {},
   "source": [
    "Now we can e.g. plot the means and variances with bar plot [[errorbar]](https://ggplot2.tidyverse.org/reference/geom_linerange.html)."
   ]
  },
  {
   "cell_type": "code",
   "execution_count": 237,
   "metadata": {
    "scrolled": false
   },
   "outputs": [
    {
     "data": {},
     "metadata": {},
     "output_type": "display_data"
    },
    {
     "data": {
      "image/png": "[encoded data removed]",
      "text/plain": [
       "plot without title"
      ]
     },
     "metadata": {},
     "output_type": "display_data"
    }
   ],
   "source": [
    "iris_nested %>%\n",
    "    ggplot(aes(x=Species,y=Petal.Length_mean,fill=Species)) +\n",
    "    geom_col(width=.5)+\n",
    "    geom_errorbar(\n",
    "        aes(ymin=Petal.Length_mean-Petal.Length_var,ymax=Petal.Length_mean+Petal.Length_var),\n",
    "        width=0.2) +\n",
    "    ylab('Petal Length')"
   ]
  },
  {
   "cell_type": "markdown",
   "metadata": {},
   "source": [
    "# Exercise time:\n",
    "\n",
    "Do this exercise to `storms`-dataset initialized below that is a subset of NOAA Atlantic hurricane database [[storms]]](http://dplyr.tidyverse.org/reference/storms.html).\n",
    "\n",
    "1. Group the dataset based on `name`. Nest the data.\n",
    "2. Use map to calculate the minimum pressure, maximum wind speed and maximum category for each storm. Store these to the object. Unwind them into variables.\n",
    "3. Plot a scatterplot with x-axis showing minimum pressure, y-axis showing maximum wind speed and colour showing maximum category."
   ]
  },
  {
   "cell_type": "code",
   "execution_count": 238,
   "metadata": {
    "scrolled": false
   },
   "outputs": [
    {
     "name": "stdout",
     "output_type": "stream",
     "text": [
      "Classes ‘tbl_df’, ‘tbl’ and 'data.frame':\t10010 obs. of  13 variables:\n",
      " $ name       : chr  \"Amy\" \"Amy\" \"Amy\" \"Amy\" ...\n",
      " $ year       : num  1975 1975 1975 1975 1975 ...\n",
      " $ month      : num  6 6 6 6 6 6 6 6 6 6 ...\n",
      " $ day        : int  27 27 27 27 28 28 28 28 29 29 ...\n",
      " $ hour       : num  0 6 12 18 0 6 12 18 0 6 ...\n",
      " $ lat        : num  27.5 28.5 29.5 30.5 31.5 32.4 33.3 34 34.4 34 ...\n",
      " $ long       : num  -79 -79 -79 -79 -78.8 -78.7 -78 -77 -75.8 -74.8 ...\n",
      " $ status     : chr  \"tropical depression\" \"tropical depression\" \"tropical depression\" \"tropical depression\" ...\n",
      " $ category   : Ord.factor w/ 7 levels \"-1\"<\"0\"<\"1\"<\"2\"<..: 1 1 1 1 1 1 1 1 2 2 ...\n",
      " $ wind       : int  25 25 25 25 25 25 25 30 35 40 ...\n",
      " $ pressure   : int  1013 1013 1013 1013 1012 1012 1011 1006 1004 1002 ...\n",
      " $ ts_diameter: num  NA NA NA NA NA NA NA NA NA NA ...\n",
      " $ hu_diameter: num  NA NA NA NA NA NA NA NA NA NA ...\n"
     ]
    }
   ],
   "source": [
    "str(storms)"
   ]
  },
  {
   "cell_type": "code",
   "execution_count": null,
   "metadata": {},
   "outputs": [],
   "source": [
    "\n",
    "\n",
    "\n",
    "\n"
   ]
  }
 ],
 "metadata": {
  "kernelspec": {
   "display_name": "R",
   "language": "R",
   "name": "ir"
  },
  "language_info": {
   "codemirror_mode": "r",
   "file_extension": ".r",
   "mimetype": "text/x-r-source",
   "name": "R",
   "pygments_lexer": "r",
   "version": "3.2.3"
  }
 },
 "nbformat": 4,
 "nbformat_minor": 2
}

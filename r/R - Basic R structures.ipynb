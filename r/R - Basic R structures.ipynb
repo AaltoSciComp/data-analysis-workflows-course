{
 "cells": [
  {
   "cell_type": "markdown",
   "metadata": {},
   "source": [
    "# Basic R structures\n",
    "\n",
    "This notebooks will deal with most common data and code structures in R."
   ]
  },
  {
   "cell_type": "markdown",
   "metadata": {},
   "source": [
    "## Data frames\n",
    "\n",
    "The single most common object when dealing with data in R is the `data.frame`-structure.\n",
    "\n",
    "`data.frame` contains data in tabular form.[1](https://stat.ethz.ch/R-manual/R-devel/library/base/html/data.frame.html)\n",
    "\n",
    "Let us load a internal R sample data set that has car information."
   ]
  },
  {
   "cell_type": "code",
   "execution_count": 65,
   "metadata": {},
   "outputs": [
    {
     "data": {
      "text/html": [
       "TRUE"
      ],
      "text/latex": [
       "TRUE"
      ],
      "text/markdown": [
       "TRUE"
      ],
      "text/plain": [
       "[1] TRUE"
      ]
     },
     "metadata": {},
     "output_type": "display_data"
    },
    {
     "data": {
      "text/html": [
       "<table>\n",
       "<thead><tr><th></th><th scope=col>mpg</th><th scope=col>cyl</th><th scope=col>disp</th><th scope=col>hp</th><th scope=col>drat</th><th scope=col>wt</th><th scope=col>qsec</th><th scope=col>vs</th><th scope=col>am</th><th scope=col>gear</th><th scope=col>carb</th></tr></thead>\n",
       "<tbody>\n",
       "\t<tr><th scope=row>Mazda RX4</th><td>21.0 </td><td>6    </td><td>160  </td><td>110  </td><td>3.90 </td><td>2.620</td><td>16.46</td><td>0    </td><td>1    </td><td>4    </td><td>4    </td></tr>\n",
       "\t<tr><th scope=row>Mazda RX4 Wag</th><td>21.0 </td><td>6    </td><td>160  </td><td>110  </td><td>3.90 </td><td>2.875</td><td>17.02</td><td>0    </td><td>1    </td><td>4    </td><td>4    </td></tr>\n",
       "\t<tr><th scope=row>Datsun 710</th><td>22.8 </td><td>4    </td><td>108  </td><td> 93  </td><td>3.85 </td><td>2.320</td><td>18.61</td><td>1    </td><td>1    </td><td>4    </td><td>1    </td></tr>\n",
       "\t<tr><th scope=row>Hornet 4 Drive</th><td>21.4 </td><td>6    </td><td>258  </td><td>110  </td><td>3.08 </td><td>3.215</td><td>19.44</td><td>1    </td><td>0    </td><td>3    </td><td>1    </td></tr>\n",
       "\t<tr><th scope=row>Hornet Sportabout</th><td>18.7 </td><td>8    </td><td>360  </td><td>175  </td><td>3.15 </td><td>3.440</td><td>17.02</td><td>0    </td><td>0    </td><td>3    </td><td>2    </td></tr>\n",
       "\t<tr><th scope=row>Valiant</th><td>18.1 </td><td>6    </td><td>225  </td><td>105  </td><td>2.76 </td><td>3.460</td><td>20.22</td><td>1    </td><td>0    </td><td>3    </td><td>1    </td></tr>\n",
       "</tbody>\n",
       "</table>\n"
      ],
      "text/latex": [
       "\\begin{tabular}{r|lllllllllll}\n",
       "  & mpg & cyl & disp & hp & drat & wt & qsec & vs & am & gear & carb\\\\\n",
       "\\hline\n",
       "\tMazda RX4 & 21.0  & 6     & 160   & 110   & 3.90  & 2.620 & 16.46 & 0     & 1     & 4     & 4    \\\\\n",
       "\tMazda RX4 Wag & 21.0  & 6     & 160   & 110   & 3.90  & 2.875 & 17.02 & 0     & 1     & 4     & 4    \\\\\n",
       "\tDatsun 710 & 22.8  & 4     & 108   &  93   & 3.85  & 2.320 & 18.61 & 1     & 1     & 4     & 1    \\\\\n",
       "\tHornet 4 Drive & 21.4  & 6     & 258   & 110   & 3.08  & 3.215 & 19.44 & 1     & 0     & 3     & 1    \\\\\n",
       "\tHornet Sportabout & 18.7  & 8     & 360   & 175   & 3.15  & 3.440 & 17.02 & 0     & 0     & 3     & 2    \\\\\n",
       "\tValiant & 18.1  & 6     & 225   & 105   & 2.76  & 3.460 & 20.22 & 1     & 0     & 3     & 1    \\\\\n",
       "\\end{tabular}\n"
      ],
      "text/markdown": [
       "\n",
       "| <!--/--> | mpg | cyl | disp | hp | drat | wt | qsec | vs | am | gear | carb | \n",
       "|---|---|---|---|---|---|\n",
       "| Mazda RX4 | 21.0  | 6     | 160   | 110   | 3.90  | 2.620 | 16.46 | 0     | 1     | 4     | 4     | \n",
       "| Mazda RX4 Wag | 21.0  | 6     | 160   | 110   | 3.90  | 2.875 | 17.02 | 0     | 1     | 4     | 4     | \n",
       "| Datsun 710 | 22.8  | 4     | 108   |  93   | 3.85  | 2.320 | 18.61 | 1     | 1     | 4     | 1     | \n",
       "| Hornet 4 Drive | 21.4  | 6     | 258   | 110   | 3.08  | 3.215 | 19.44 | 1     | 0     | 3     | 1     | \n",
       "| Hornet Sportabout | 18.7  | 8     | 360   | 175   | 3.15  | 3.440 | 17.02 | 0     | 0     | 3     | 2     | \n",
       "| Valiant | 18.1  | 6     | 225   | 105   | 2.76  | 3.460 | 20.22 | 1     | 0     | 3     | 1     | \n",
       "\n",
       "\n"
      ],
      "text/plain": [
       "                  mpg  cyl disp hp  drat wt    qsec  vs am gear carb\n",
       "Mazda RX4         21.0 6   160  110 3.90 2.620 16.46 0  1  4    4   \n",
       "Mazda RX4 Wag     21.0 6   160  110 3.90 2.875 17.02 0  1  4    4   \n",
       "Datsun 710        22.8 4   108   93 3.85 2.320 18.61 1  1  4    1   \n",
       "Hornet 4 Drive    21.4 6   258  110 3.08 3.215 19.44 1  0  3    1   \n",
       "Hornet Sportabout 18.7 8   360  175 3.15 3.440 17.02 0  0  3    2   \n",
       "Valiant           18.1 6   225  105 2.76 3.460 20.22 1  0  3    1   "
      ]
     },
     "metadata": {},
     "output_type": "display_data"
    }
   ],
   "source": [
    "df <- mtcars\n",
    "is.data.frame(df)\n",
    "\n",
    "# Print only first rows\n",
    "head(df)"
   ]
  },
  {
   "cell_type": "markdown",
   "metadata": {},
   "source": [
    "The names of the columns and rows can be accessed through `colnames` and `rownames`. \n",
    "\n",
    "Number of columns and rows can be obtained with `ncol` and `nrow`."
   ]
  },
  {
   "cell_type": "code",
   "execution_count": 26,
   "metadata": {},
   "outputs": [
    {
     "data": {
      "text/html": [
       "<ol class=list-inline>\n",
       "\t<li>'mpg'</li>\n",
       "\t<li>'cyl'</li>\n",
       "\t<li>'disp'</li>\n",
       "\t<li>'hp'</li>\n",
       "\t<li>'drat'</li>\n",
       "\t<li>'wt'</li>\n",
       "\t<li>'qsec'</li>\n",
       "\t<li>'vs'</li>\n",
       "\t<li>'am'</li>\n",
       "\t<li>'gear'</li>\n",
       "\t<li>'carb'</li>\n",
       "</ol>\n"
      ],
      "text/latex": [
       "\\begin{enumerate*}\n",
       "\\item 'mpg'\n",
       "\\item 'cyl'\n",
       "\\item 'disp'\n",
       "\\item 'hp'\n",
       "\\item 'drat'\n",
       "\\item 'wt'\n",
       "\\item 'qsec'\n",
       "\\item 'vs'\n",
       "\\item 'am'\n",
       "\\item 'gear'\n",
       "\\item 'carb'\n",
       "\\end{enumerate*}\n"
      ],
      "text/markdown": [
       "1. 'mpg'\n",
       "2. 'cyl'\n",
       "3. 'disp'\n",
       "4. 'hp'\n",
       "5. 'drat'\n",
       "6. 'wt'\n",
       "7. 'qsec'\n",
       "8. 'vs'\n",
       "9. 'am'\n",
       "10. 'gear'\n",
       "11. 'carb'\n",
       "\n",
       "\n"
      ],
      "text/plain": [
       " [1] \"mpg\"  \"cyl\"  \"disp\" \"hp\"   \"drat\" \"wt\"   \"qsec\" \"vs\"   \"am\"   \"gear\"\n",
       "[11] \"carb\""
      ]
     },
     "metadata": {},
     "output_type": "display_data"
    },
    {
     "data": {
      "text/html": [
       "<ol class=list-inline>\n",
       "\t<li>'Mazda RX4'</li>\n",
       "\t<li>'Mazda RX4 Wag'</li>\n",
       "\t<li>'Datsun 710'</li>\n",
       "\t<li>'Hornet 4 Drive'</li>\n",
       "\t<li>'Hornet Sportabout'</li>\n",
       "\t<li>'Valiant'</li>\n",
       "\t<li>'Duster 360'</li>\n",
       "\t<li>'Merc 240D'</li>\n",
       "\t<li>'Merc 230'</li>\n",
       "\t<li>'Merc 280'</li>\n",
       "\t<li>'Merc 280C'</li>\n",
       "\t<li>'Merc 450SE'</li>\n",
       "\t<li>'Merc 450SL'</li>\n",
       "\t<li>'Merc 450SLC'</li>\n",
       "\t<li>'Cadillac Fleetwood'</li>\n",
       "\t<li>'Lincoln Continental'</li>\n",
       "\t<li>'Chrysler Imperial'</li>\n",
       "\t<li>'Fiat 128'</li>\n",
       "\t<li>'Honda Civic'</li>\n",
       "\t<li>'Toyota Corolla'</li>\n",
       "\t<li>'Toyota Corona'</li>\n",
       "\t<li>'Dodge Challenger'</li>\n",
       "\t<li>'AMC Javelin'</li>\n",
       "\t<li>'Camaro Z28'</li>\n",
       "\t<li>'Pontiac Firebird'</li>\n",
       "\t<li>'Fiat X1-9'</li>\n",
       "\t<li>'Porsche 914-2'</li>\n",
       "\t<li>'Lotus Europa'</li>\n",
       "\t<li>'Ford Pantera L'</li>\n",
       "\t<li>'Ferrari Dino'</li>\n",
       "\t<li>'Maserati Bora'</li>\n",
       "\t<li>'Volvo 142E'</li>\n",
       "</ol>\n"
      ],
      "text/latex": [
       "\\begin{enumerate*}\n",
       "\\item 'Mazda RX4'\n",
       "\\item 'Mazda RX4 Wag'\n",
       "\\item 'Datsun 710'\n",
       "\\item 'Hornet 4 Drive'\n",
       "\\item 'Hornet Sportabout'\n",
       "\\item 'Valiant'\n",
       "\\item 'Duster 360'\n",
       "\\item 'Merc 240D'\n",
       "\\item 'Merc 230'\n",
       "\\item 'Merc 280'\n",
       "\\item 'Merc 280C'\n",
       "\\item 'Merc 450SE'\n",
       "\\item 'Merc 450SL'\n",
       "\\item 'Merc 450SLC'\n",
       "\\item 'Cadillac Fleetwood'\n",
       "\\item 'Lincoln Continental'\n",
       "\\item 'Chrysler Imperial'\n",
       "\\item 'Fiat 128'\n",
       "\\item 'Honda Civic'\n",
       "\\item 'Toyota Corolla'\n",
       "\\item 'Toyota Corona'\n",
       "\\item 'Dodge Challenger'\n",
       "\\item 'AMC Javelin'\n",
       "\\item 'Camaro Z28'\n",
       "\\item 'Pontiac Firebird'\n",
       "\\item 'Fiat X1-9'\n",
       "\\item 'Porsche 914-2'\n",
       "\\item 'Lotus Europa'\n",
       "\\item 'Ford Pantera L'\n",
       "\\item 'Ferrari Dino'\n",
       "\\item 'Maserati Bora'\n",
       "\\item 'Volvo 142E'\n",
       "\\end{enumerate*}\n"
      ],
      "text/markdown": [
       "1. 'Mazda RX4'\n",
       "2. 'Mazda RX4 Wag'\n",
       "3. 'Datsun 710'\n",
       "4. 'Hornet 4 Drive'\n",
       "5. 'Hornet Sportabout'\n",
       "6. 'Valiant'\n",
       "7. 'Duster 360'\n",
       "8. 'Merc 240D'\n",
       "9. 'Merc 230'\n",
       "10. 'Merc 280'\n",
       "11. 'Merc 280C'\n",
       "12. 'Merc 450SE'\n",
       "13. 'Merc 450SL'\n",
       "14. 'Merc 450SLC'\n",
       "15. 'Cadillac Fleetwood'\n",
       "16. 'Lincoln Continental'\n",
       "17. 'Chrysler Imperial'\n",
       "18. 'Fiat 128'\n",
       "19. 'Honda Civic'\n",
       "20. 'Toyota Corolla'\n",
       "21. 'Toyota Corona'\n",
       "22. 'Dodge Challenger'\n",
       "23. 'AMC Javelin'\n",
       "24. 'Camaro Z28'\n",
       "25. 'Pontiac Firebird'\n",
       "26. 'Fiat X1-9'\n",
       "27. 'Porsche 914-2'\n",
       "28. 'Lotus Europa'\n",
       "29. 'Ford Pantera L'\n",
       "30. 'Ferrari Dino'\n",
       "31. 'Maserati Bora'\n",
       "32. 'Volvo 142E'\n",
       "\n",
       "\n"
      ],
      "text/plain": [
       " [1] \"Mazda RX4\"           \"Mazda RX4 Wag\"       \"Datsun 710\"         \n",
       " [4] \"Hornet 4 Drive\"      \"Hornet Sportabout\"   \"Valiant\"            \n",
       " [7] \"Duster 360\"          \"Merc 240D\"           \"Merc 230\"           \n",
       "[10] \"Merc 280\"            \"Merc 280C\"           \"Merc 450SE\"         \n",
       "[13] \"Merc 450SL\"          \"Merc 450SLC\"         \"Cadillac Fleetwood\" \n",
       "[16] \"Lincoln Continental\" \"Chrysler Imperial\"   \"Fiat 128\"           \n",
       "[19] \"Honda Civic\"         \"Toyota Corolla\"      \"Toyota Corona\"      \n",
       "[22] \"Dodge Challenger\"    \"AMC Javelin\"         \"Camaro Z28\"         \n",
       "[25] \"Pontiac Firebird\"    \"Fiat X1-9\"           \"Porsche 914-2\"      \n",
       "[28] \"Lotus Europa\"        \"Ford Pantera L\"      \"Ferrari Dino\"       \n",
       "[31] \"Maserati Bora\"       \"Volvo 142E\"         "
      ]
     },
     "metadata": {},
     "output_type": "display_data"
    },
    {
     "data": {
      "text/html": [
       "11"
      ],
      "text/latex": [
       "11"
      ],
      "text/markdown": [
       "11"
      ],
      "text/plain": [
       "[1] 11"
      ]
     },
     "metadata": {},
     "output_type": "display_data"
    },
    {
     "data": {
      "text/html": [
       "32"
      ],
      "text/latex": [
       "32"
      ],
      "text/markdown": [
       "32"
      ],
      "text/plain": [
       "[1] 32"
      ]
     },
     "metadata": {},
     "output_type": "display_data"
    }
   ],
   "source": [
    "colnames(df)\n",
    "rownames(df)\n",
    "ncol(df)\n",
    "nrow(df)"
   ]
  },
  {
   "cell_type": "markdown",
   "metadata": {},
   "source": [
    "`data.frame` access is typically done through these names."
   ]
  },
  {
   "cell_type": "code",
   "execution_count": 58,
   "metadata": {},
   "outputs": [
    {
     "data": {
      "text/html": [
       "<table>\n",
       "<thead><tr><th></th><th scope=col>mpg</th><th scope=col>cyl</th><th scope=col>disp</th><th scope=col>hp</th><th scope=col>drat</th><th scope=col>wt</th><th scope=col>qsec</th><th scope=col>vs</th><th scope=col>am</th><th scope=col>gear</th><th scope=col>carb</th></tr></thead>\n",
       "<tbody>\n",
       "\t<tr><th scope=row>Dodge Challenger</th><td>15.5 </td><td>8    </td><td>318  </td><td>150  </td><td>2.76 </td><td>3.52 </td><td>16.87</td><td>0    </td><td>0    </td><td>3    </td><td>2    </td></tr>\n",
       "</tbody>\n",
       "</table>\n"
      ],
      "text/latex": [
       "\\begin{tabular}{r|lllllllllll}\n",
       "  & mpg & cyl & disp & hp & drat & wt & qsec & vs & am & gear & carb\\\\\n",
       "\\hline\n",
       "\tDodge Challenger & 15.5  & 8     & 318   & 150   & 2.76  & 3.52  & 16.87 & 0     & 0     & 3     & 2    \\\\\n",
       "\\end{tabular}\n"
      ],
      "text/markdown": [
       "\n",
       "| <!--/--> | mpg | cyl | disp | hp | drat | wt | qsec | vs | am | gear | carb | \n",
       "|---|\n",
       "| Dodge Challenger | 15.5  | 8     | 318   | 150   | 2.76  | 3.52  | 16.87 | 0     | 0     | 3     | 2     | \n",
       "\n",
       "\n"
      ],
      "text/plain": [
       "                 mpg  cyl disp hp  drat wt   qsec  vs am gear carb\n",
       "Dodge Challenger 15.5 8   318  150 2.76 3.52 16.87 0  0  3    2   "
      ]
     },
     "metadata": {},
     "output_type": "display_data"
    },
    {
     "data": {
      "text/html": [
       "<table>\n",
       "<thead><tr><th></th><th scope=col>cyl</th><th scope=col>disp</th></tr></thead>\n",
       "<tbody>\n",
       "\t<tr><th scope=row>Mazda RX4</th><td>6    </td><td>160.0</td></tr>\n",
       "\t<tr><th scope=row>Mazda RX4 Wag</th><td>6    </td><td>160.0</td></tr>\n",
       "\t<tr><th scope=row>Datsun 710</th><td>4    </td><td>108.0</td></tr>\n",
       "\t<tr><th scope=row>Hornet 4 Drive</th><td>6    </td><td>258.0</td></tr>\n",
       "\t<tr><th scope=row>Hornet Sportabout</th><td>8    </td><td>360.0</td></tr>\n",
       "\t<tr><th scope=row>Valiant</th><td>6    </td><td>225.0</td></tr>\n",
       "\t<tr><th scope=row>Duster 360</th><td>8    </td><td>360.0</td></tr>\n",
       "\t<tr><th scope=row>Merc 240D</th><td>4    </td><td>146.7</td></tr>\n",
       "\t<tr><th scope=row>Merc 230</th><td>4    </td><td>140.8</td></tr>\n",
       "\t<tr><th scope=row>Merc 280</th><td>6    </td><td>167.6</td></tr>\n",
       "\t<tr><th scope=row>Merc 280C</th><td>6    </td><td>167.6</td></tr>\n",
       "\t<tr><th scope=row>Merc 450SE</th><td>8    </td><td>275.8</td></tr>\n",
       "\t<tr><th scope=row>Merc 450SL</th><td>8    </td><td>275.8</td></tr>\n",
       "\t<tr><th scope=row>Merc 450SLC</th><td>8    </td><td>275.8</td></tr>\n",
       "\t<tr><th scope=row>Cadillac Fleetwood</th><td>8    </td><td>472.0</td></tr>\n",
       "\t<tr><th scope=row>Lincoln Continental</th><td>8    </td><td>460.0</td></tr>\n",
       "\t<tr><th scope=row>Chrysler Imperial</th><td>8    </td><td>440.0</td></tr>\n",
       "\t<tr><th scope=row>Fiat 128</th><td>4    </td><td> 78.7</td></tr>\n",
       "\t<tr><th scope=row>Honda Civic</th><td>4    </td><td> 75.7</td></tr>\n",
       "\t<tr><th scope=row>Toyota Corolla</th><td>4    </td><td> 71.1</td></tr>\n",
       "\t<tr><th scope=row>Toyota Corona</th><td>4    </td><td>120.1</td></tr>\n",
       "\t<tr><th scope=row>Dodge Challenger</th><td>8    </td><td>318.0</td></tr>\n",
       "\t<tr><th scope=row>AMC Javelin</th><td>8    </td><td>304.0</td></tr>\n",
       "\t<tr><th scope=row>Camaro Z28</th><td>8    </td><td>350.0</td></tr>\n",
       "\t<tr><th scope=row>Pontiac Firebird</th><td>8    </td><td>400.0</td></tr>\n",
       "\t<tr><th scope=row>Fiat X1-9</th><td>4    </td><td> 79.0</td></tr>\n",
       "\t<tr><th scope=row>Porsche 914-2</th><td>4    </td><td>120.3</td></tr>\n",
       "\t<tr><th scope=row>Lotus Europa</th><td>4    </td><td> 95.1</td></tr>\n",
       "\t<tr><th scope=row>Ford Pantera L</th><td>8    </td><td>351.0</td></tr>\n",
       "\t<tr><th scope=row>Ferrari Dino</th><td>6    </td><td>145.0</td></tr>\n",
       "\t<tr><th scope=row>Maserati Bora</th><td>8    </td><td>301.0</td></tr>\n",
       "\t<tr><th scope=row>Volvo 142E</th><td>4    </td><td>121.0</td></tr>\n",
       "</tbody>\n",
       "</table>\n"
      ],
      "text/latex": [
       "\\begin{tabular}{r|ll}\n",
       "  & cyl & disp\\\\\n",
       "\\hline\n",
       "\tMazda RX4 & 6     & 160.0\\\\\n",
       "\tMazda RX4 Wag & 6     & 160.0\\\\\n",
       "\tDatsun 710 & 4     & 108.0\\\\\n",
       "\tHornet 4 Drive & 6     & 258.0\\\\\n",
       "\tHornet Sportabout & 8     & 360.0\\\\\n",
       "\tValiant & 6     & 225.0\\\\\n",
       "\tDuster 360 & 8     & 360.0\\\\\n",
       "\tMerc 240D & 4     & 146.7\\\\\n",
       "\tMerc 230 & 4     & 140.8\\\\\n",
       "\tMerc 280 & 6     & 167.6\\\\\n",
       "\tMerc 280C & 6     & 167.6\\\\\n",
       "\tMerc 450SE & 8     & 275.8\\\\\n",
       "\tMerc 450SL & 8     & 275.8\\\\\n",
       "\tMerc 450SLC & 8     & 275.8\\\\\n",
       "\tCadillac Fleetwood & 8     & 472.0\\\\\n",
       "\tLincoln Continental & 8     & 460.0\\\\\n",
       "\tChrysler Imperial & 8     & 440.0\\\\\n",
       "\tFiat 128 & 4     &  78.7\\\\\n",
       "\tHonda Civic & 4     &  75.7\\\\\n",
       "\tToyota Corolla & 4     &  71.1\\\\\n",
       "\tToyota Corona & 4     & 120.1\\\\\n",
       "\tDodge Challenger & 8     & 318.0\\\\\n",
       "\tAMC Javelin & 8     & 304.0\\\\\n",
       "\tCamaro Z28 & 8     & 350.0\\\\\n",
       "\tPontiac Firebird & 8     & 400.0\\\\\n",
       "\tFiat X1-9 & 4     &  79.0\\\\\n",
       "\tPorsche 914-2 & 4     & 120.3\\\\\n",
       "\tLotus Europa & 4     &  95.1\\\\\n",
       "\tFord Pantera L & 8     & 351.0\\\\\n",
       "\tFerrari Dino & 6     & 145.0\\\\\n",
       "\tMaserati Bora & 8     & 301.0\\\\\n",
       "\tVolvo 142E & 4     & 121.0\\\\\n",
       "\\end{tabular}\n"
      ],
      "text/markdown": [
       "\n",
       "| <!--/--> | cyl | disp | \n",
       "|---|---|---|---|---|---|---|---|---|---|---|---|---|---|---|---|---|---|---|---|---|---|---|---|---|---|---|---|---|---|---|---|\n",
       "| Mazda RX4 | 6     | 160.0 | \n",
       "| Mazda RX4 Wag | 6     | 160.0 | \n",
       "| Datsun 710 | 4     | 108.0 | \n",
       "| Hornet 4 Drive | 6     | 258.0 | \n",
       "| Hornet Sportabout | 8     | 360.0 | \n",
       "| Valiant | 6     | 225.0 | \n",
       "| Duster 360 | 8     | 360.0 | \n",
       "| Merc 240D | 4     | 146.7 | \n",
       "| Merc 230 | 4     | 140.8 | \n",
       "| Merc 280 | 6     | 167.6 | \n",
       "| Merc 280C | 6     | 167.6 | \n",
       "| Merc 450SE | 8     | 275.8 | \n",
       "| Merc 450SL | 8     | 275.8 | \n",
       "| Merc 450SLC | 8     | 275.8 | \n",
       "| Cadillac Fleetwood | 8     | 472.0 | \n",
       "| Lincoln Continental | 8     | 460.0 | \n",
       "| Chrysler Imperial | 8     | 440.0 | \n",
       "| Fiat 128 | 4     |  78.7 | \n",
       "| Honda Civic | 4     |  75.7 | \n",
       "| Toyota Corolla | 4     |  71.1 | \n",
       "| Toyota Corona | 4     | 120.1 | \n",
       "| Dodge Challenger | 8     | 318.0 | \n",
       "| AMC Javelin | 8     | 304.0 | \n",
       "| Camaro Z28 | 8     | 350.0 | \n",
       "| Pontiac Firebird | 8     | 400.0 | \n",
       "| Fiat X1-9 | 4     |  79.0 | \n",
       "| Porsche 914-2 | 4     | 120.3 | \n",
       "| Lotus Europa | 4     |  95.1 | \n",
       "| Ford Pantera L | 8     | 351.0 | \n",
       "| Ferrari Dino | 6     | 145.0 | \n",
       "| Maserati Bora | 8     | 301.0 | \n",
       "| Volvo 142E | 4     | 121.0 | \n",
       "\n",
       "\n"
      ],
      "text/plain": [
       "                    cyl disp \n",
       "Mazda RX4           6   160.0\n",
       "Mazda RX4 Wag       6   160.0\n",
       "Datsun 710          4   108.0\n",
       "Hornet 4 Drive      6   258.0\n",
       "Hornet Sportabout   8   360.0\n",
       "Valiant             6   225.0\n",
       "Duster 360          8   360.0\n",
       "Merc 240D           4   146.7\n",
       "Merc 230            4   140.8\n",
       "Merc 280            6   167.6\n",
       "Merc 280C           6   167.6\n",
       "Merc 450SE          8   275.8\n",
       "Merc 450SL          8   275.8\n",
       "Merc 450SLC         8   275.8\n",
       "Cadillac Fleetwood  8   472.0\n",
       "Lincoln Continental 8   460.0\n",
       "Chrysler Imperial   8   440.0\n",
       "Fiat 128            4    78.7\n",
       "Honda Civic         4    75.7\n",
       "Toyota Corolla      4    71.1\n",
       "Toyota Corona       4   120.1\n",
       "Dodge Challenger    8   318.0\n",
       "AMC Javelin         8   304.0\n",
       "Camaro Z28          8   350.0\n",
       "Pontiac Firebird    8   400.0\n",
       "Fiat X1-9           4    79.0\n",
       "Porsche 914-2       4   120.3\n",
       "Lotus Europa        4    95.1\n",
       "Ford Pantera L      8   351.0\n",
       "Ferrari Dino        6   145.0\n",
       "Maserati Bora       8   301.0\n",
       "Volvo 142E          4   121.0"
      ]
     },
     "metadata": {},
     "output_type": "display_data"
    },
    {
     "data": {
      "text/html": [
       "<ol class=list-inline>\n",
       "\t<li>TRUE</li>\n",
       "\t<li>TRUE</li>\n",
       "\t<li>FALSE</li>\n",
       "\t<li>TRUE</li>\n",
       "\t<li>FALSE</li>\n",
       "\t<li>TRUE</li>\n",
       "\t<li>FALSE</li>\n",
       "\t<li>FALSE</li>\n",
       "\t<li>FALSE</li>\n",
       "\t<li>TRUE</li>\n",
       "\t<li>TRUE</li>\n",
       "\t<li>FALSE</li>\n",
       "\t<li>FALSE</li>\n",
       "\t<li>FALSE</li>\n",
       "\t<li>FALSE</li>\n",
       "\t<li>FALSE</li>\n",
       "\t<li>FALSE</li>\n",
       "\t<li>FALSE</li>\n",
       "\t<li>FALSE</li>\n",
       "\t<li>FALSE</li>\n",
       "\t<li>FALSE</li>\n",
       "\t<li>FALSE</li>\n",
       "\t<li>FALSE</li>\n",
       "\t<li>FALSE</li>\n",
       "\t<li>FALSE</li>\n",
       "\t<li>FALSE</li>\n",
       "\t<li>FALSE</li>\n",
       "\t<li>FALSE</li>\n",
       "\t<li>FALSE</li>\n",
       "\t<li>TRUE</li>\n",
       "\t<li>FALSE</li>\n",
       "\t<li>FALSE</li>\n",
       "</ol>\n"
      ],
      "text/latex": [
       "\\begin{enumerate*}\n",
       "\\item TRUE\n",
       "\\item TRUE\n",
       "\\item FALSE\n",
       "\\item TRUE\n",
       "\\item FALSE\n",
       "\\item TRUE\n",
       "\\item FALSE\n",
       "\\item FALSE\n",
       "\\item FALSE\n",
       "\\item TRUE\n",
       "\\item TRUE\n",
       "\\item FALSE\n",
       "\\item FALSE\n",
       "\\item FALSE\n",
       "\\item FALSE\n",
       "\\item FALSE\n",
       "\\item FALSE\n",
       "\\item FALSE\n",
       "\\item FALSE\n",
       "\\item FALSE\n",
       "\\item FALSE\n",
       "\\item FALSE\n",
       "\\item FALSE\n",
       "\\item FALSE\n",
       "\\item FALSE\n",
       "\\item FALSE\n",
       "\\item FALSE\n",
       "\\item FALSE\n",
       "\\item FALSE\n",
       "\\item TRUE\n",
       "\\item FALSE\n",
       "\\item FALSE\n",
       "\\end{enumerate*}\n"
      ],
      "text/markdown": [
       "1. TRUE\n",
       "2. TRUE\n",
       "3. FALSE\n",
       "4. TRUE\n",
       "5. FALSE\n",
       "6. TRUE\n",
       "7. FALSE\n",
       "8. FALSE\n",
       "9. FALSE\n",
       "10. TRUE\n",
       "11. TRUE\n",
       "12. FALSE\n",
       "13. FALSE\n",
       "14. FALSE\n",
       "15. FALSE\n",
       "16. FALSE\n",
       "17. FALSE\n",
       "18. FALSE\n",
       "19. FALSE\n",
       "20. FALSE\n",
       "21. FALSE\n",
       "22. FALSE\n",
       "23. FALSE\n",
       "24. FALSE\n",
       "25. FALSE\n",
       "26. FALSE\n",
       "27. FALSE\n",
       "28. FALSE\n",
       "29. FALSE\n",
       "30. TRUE\n",
       "31. FALSE\n",
       "32. FALSE\n",
       "\n",
       "\n"
      ],
      "text/plain": [
       " [1]  TRUE  TRUE FALSE  TRUE FALSE  TRUE FALSE FALSE FALSE  TRUE  TRUE FALSE\n",
       "[13] FALSE FALSE FALSE FALSE FALSE FALSE FALSE FALSE FALSE FALSE FALSE FALSE\n",
       "[25] FALSE FALSE FALSE FALSE FALSE  TRUE FALSE FALSE"
      ]
     },
     "metadata": {},
     "output_type": "display_data"
    },
    {
     "data": {
      "text/html": [
       "<table>\n",
       "<thead><tr><th></th><th scope=col>mpg</th><th scope=col>cyl</th><th scope=col>disp</th><th scope=col>hp</th><th scope=col>drat</th><th scope=col>wt</th><th scope=col>qsec</th><th scope=col>vs</th><th scope=col>am</th><th scope=col>gear</th><th scope=col>carb</th></tr></thead>\n",
       "<tbody>\n",
       "\t<tr><th scope=row>Mazda RX4</th><td>21.0 </td><td>6    </td><td>160.0</td><td>110  </td><td>3.90 </td><td>2.620</td><td>16.46</td><td>0    </td><td>1    </td><td>4    </td><td>4    </td></tr>\n",
       "\t<tr><th scope=row>Mazda RX4 Wag</th><td>21.0 </td><td>6    </td><td>160.0</td><td>110  </td><td>3.90 </td><td>2.875</td><td>17.02</td><td>0    </td><td>1    </td><td>4    </td><td>4    </td></tr>\n",
       "\t<tr><th scope=row>Hornet 4 Drive</th><td>21.4 </td><td>6    </td><td>258.0</td><td>110  </td><td>3.08 </td><td>3.215</td><td>19.44</td><td>1    </td><td>0    </td><td>3    </td><td>1    </td></tr>\n",
       "\t<tr><th scope=row>Valiant</th><td>18.1 </td><td>6    </td><td>225.0</td><td>105  </td><td>2.76 </td><td>3.460</td><td>20.22</td><td>1    </td><td>0    </td><td>3    </td><td>1    </td></tr>\n",
       "\t<tr><th scope=row>Merc 280</th><td>19.2 </td><td>6    </td><td>167.6</td><td>123  </td><td>3.92 </td><td>3.440</td><td>18.30</td><td>1    </td><td>0    </td><td>4    </td><td>4    </td></tr>\n",
       "\t<tr><th scope=row>Merc 280C</th><td>17.8 </td><td>6    </td><td>167.6</td><td>123  </td><td>3.92 </td><td>3.440</td><td>18.90</td><td>1    </td><td>0    </td><td>4    </td><td>4    </td></tr>\n",
       "\t<tr><th scope=row>Ferrari Dino</th><td>19.7 </td><td>6    </td><td>145.0</td><td>175  </td><td>3.62 </td><td>2.770</td><td>15.50</td><td>0    </td><td>1    </td><td>5    </td><td>6    </td></tr>\n",
       "</tbody>\n",
       "</table>\n"
      ],
      "text/latex": [
       "\\begin{tabular}{r|lllllllllll}\n",
       "  & mpg & cyl & disp & hp & drat & wt & qsec & vs & am & gear & carb\\\\\n",
       "\\hline\n",
       "\tMazda RX4 & 21.0  & 6     & 160.0 & 110   & 3.90  & 2.620 & 16.46 & 0     & 1     & 4     & 4    \\\\\n",
       "\tMazda RX4 Wag & 21.0  & 6     & 160.0 & 110   & 3.90  & 2.875 & 17.02 & 0     & 1     & 4     & 4    \\\\\n",
       "\tHornet 4 Drive & 21.4  & 6     & 258.0 & 110   & 3.08  & 3.215 & 19.44 & 1     & 0     & 3     & 1    \\\\\n",
       "\tValiant & 18.1  & 6     & 225.0 & 105   & 2.76  & 3.460 & 20.22 & 1     & 0     & 3     & 1    \\\\\n",
       "\tMerc 280 & 19.2  & 6     & 167.6 & 123   & 3.92  & 3.440 & 18.30 & 1     & 0     & 4     & 4    \\\\\n",
       "\tMerc 280C & 17.8  & 6     & 167.6 & 123   & 3.92  & 3.440 & 18.90 & 1     & 0     & 4     & 4    \\\\\n",
       "\tFerrari Dino & 19.7  & 6     & 145.0 & 175   & 3.62  & 2.770 & 15.50 & 0     & 1     & 5     & 6    \\\\\n",
       "\\end{tabular}\n"
      ],
      "text/markdown": [
       "\n",
       "| <!--/--> | mpg | cyl | disp | hp | drat | wt | qsec | vs | am | gear | carb | \n",
       "|---|---|---|---|---|---|---|\n",
       "| Mazda RX4 | 21.0  | 6     | 160.0 | 110   | 3.90  | 2.620 | 16.46 | 0     | 1     | 4     | 4     | \n",
       "| Mazda RX4 Wag | 21.0  | 6     | 160.0 | 110   | 3.90  | 2.875 | 17.02 | 0     | 1     | 4     | 4     | \n",
       "| Hornet 4 Drive | 21.4  | 6     | 258.0 | 110   | 3.08  | 3.215 | 19.44 | 1     | 0     | 3     | 1     | \n",
       "| Valiant | 18.1  | 6     | 225.0 | 105   | 2.76  | 3.460 | 20.22 | 1     | 0     | 3     | 1     | \n",
       "| Merc 280 | 19.2  | 6     | 167.6 | 123   | 3.92  | 3.440 | 18.30 | 1     | 0     | 4     | 4     | \n",
       "| Merc 280C | 17.8  | 6     | 167.6 | 123   | 3.92  | 3.440 | 18.90 | 1     | 0     | 4     | 4     | \n",
       "| Ferrari Dino | 19.7  | 6     | 145.0 | 175   | 3.62  | 2.770 | 15.50 | 0     | 1     | 5     | 6     | \n",
       "\n",
       "\n"
      ],
      "text/plain": [
       "               mpg  cyl disp  hp  drat wt    qsec  vs am gear carb\n",
       "Mazda RX4      21.0 6   160.0 110 3.90 2.620 16.46 0  1  4    4   \n",
       "Mazda RX4 Wag  21.0 6   160.0 110 3.90 2.875 17.02 0  1  4    4   \n",
       "Hornet 4 Drive 21.4 6   258.0 110 3.08 3.215 19.44 1  0  3    1   \n",
       "Valiant        18.1 6   225.0 105 2.76 3.460 20.22 1  0  3    1   \n",
       "Merc 280       19.2 6   167.6 123 3.92 3.440 18.30 1  0  4    4   \n",
       "Merc 280C      17.8 6   167.6 123 3.92 3.440 18.90 1  0  4    4   \n",
       "Ferrari Dino   19.7 6   145.0 175 3.62 2.770 15.50 0  1  5    6   "
      ]
     },
     "metadata": {},
     "output_type": "display_data"
    }
   ],
   "source": [
    "# Get specific row, all columns\n",
    "df[\"Dodge Challenger\",]\n",
    "# Get all rows, specific columns\n",
    "df[,c(\"cyl\",\"disp\")]\n",
    "# Create a boolean vector where each row is TRUE or FALSE based on whether cyl == 6 or not\n",
    "cyl6 <- df[,\"cyl\"] == 6\n",
    "cyl6\n",
    "# Get all rows based on an indexing vector\n",
    "df[cyl6,]"
   ]
  },
  {
   "cell_type": "markdown",
   "metadata": {},
   "source": [
    "Let's create a new column from *mpg* that shows litre per 100 kilometres *lkm*: "
   ]
  },
  {
   "cell_type": "code",
   "execution_count": 66,
   "metadata": {},
   "outputs": [
    {
     "data": {
      "text/html": [
       "<table>\n",
       "<thead><tr><th></th><th scope=col>mpg</th><th scope=col>cyl</th><th scope=col>disp</th><th scope=col>hp</th><th scope=col>drat</th><th scope=col>wt</th><th scope=col>qsec</th><th scope=col>vs</th><th scope=col>am</th><th scope=col>gear</th><th scope=col>carb</th><th scope=col>lkm</th></tr></thead>\n",
       "<tbody>\n",
       "\t<tr><th scope=row>Mazda RX4</th><td>21.0    </td><td>6       </td><td>160     </td><td>110     </td><td>3.90    </td><td>2.620   </td><td>16.46   </td><td>0       </td><td>1       </td><td>4       </td><td>4       </td><td>11.20069</td></tr>\n",
       "\t<tr><th scope=row>Mazda RX4 Wag</th><td>21.0    </td><td>6       </td><td>160     </td><td>110     </td><td>3.90    </td><td>2.875   </td><td>17.02   </td><td>0       </td><td>1       </td><td>4       </td><td>4       </td><td>11.20069</td></tr>\n",
       "\t<tr><th scope=row>Datsun 710</th><td>22.8    </td><td>4       </td><td>108     </td><td> 93     </td><td>3.85    </td><td>2.320   </td><td>18.61   </td><td>1       </td><td>1       </td><td>4       </td><td>1       </td><td>10.31643</td></tr>\n",
       "\t<tr><th scope=row>Hornet 4 Drive</th><td>21.4    </td><td>6       </td><td>258     </td><td>110     </td><td>3.08    </td><td>3.215   </td><td>19.44   </td><td>1       </td><td>0       </td><td>3       </td><td>1       </td><td>10.99134</td></tr>\n",
       "\t<tr><th scope=row>Hornet Sportabout</th><td>18.7    </td><td>8       </td><td>360     </td><td>175     </td><td>3.15    </td><td>3.440   </td><td>17.02   </td><td>0       </td><td>0       </td><td>3       </td><td>2       </td><td>12.57832</td></tr>\n",
       "\t<tr><th scope=row>Valiant</th><td>18.1    </td><td>6       </td><td>225     </td><td>105     </td><td>2.76    </td><td>3.460   </td><td>20.22   </td><td>1       </td><td>0       </td><td>3       </td><td>1       </td><td>12.99528</td></tr>\n",
       "</tbody>\n",
       "</table>\n"
      ],
      "text/latex": [
       "\\begin{tabular}{r|llllllllllll}\n",
       "  & mpg & cyl & disp & hp & drat & wt & qsec & vs & am & gear & carb & lkm\\\\\n",
       "\\hline\n",
       "\tMazda RX4 & 21.0     & 6        & 160      & 110      & 3.90     & 2.620    & 16.46    & 0        & 1        & 4        & 4        & 11.20069\\\\\n",
       "\tMazda RX4 Wag & 21.0     & 6        & 160      & 110      & 3.90     & 2.875    & 17.02    & 0        & 1        & 4        & 4        & 11.20069\\\\\n",
       "\tDatsun 710 & 22.8     & 4        & 108      &  93      & 3.85     & 2.320    & 18.61    & 1        & 1        & 4        & 1        & 10.31643\\\\\n",
       "\tHornet 4 Drive & 21.4     & 6        & 258      & 110      & 3.08     & 3.215    & 19.44    & 1        & 0        & 3        & 1        & 10.99134\\\\\n",
       "\tHornet Sportabout & 18.7     & 8        & 360      & 175      & 3.15     & 3.440    & 17.02    & 0        & 0        & 3        & 2        & 12.57832\\\\\n",
       "\tValiant & 18.1     & 6        & 225      & 105      & 2.76     & 3.460    & 20.22    & 1        & 0        & 3        & 1        & 12.99528\\\\\n",
       "\\end{tabular}\n"
      ],
      "text/markdown": [
       "\n",
       "| <!--/--> | mpg | cyl | disp | hp | drat | wt | qsec | vs | am | gear | carb | lkm | \n",
       "|---|---|---|---|---|---|\n",
       "| Mazda RX4 | 21.0     | 6        | 160      | 110      | 3.90     | 2.620    | 16.46    | 0        | 1        | 4        | 4        | 11.20069 | \n",
       "| Mazda RX4 Wag | 21.0     | 6        | 160      | 110      | 3.90     | 2.875    | 17.02    | 0        | 1        | 4        | 4        | 11.20069 | \n",
       "| Datsun 710 | 22.8     | 4        | 108      |  93      | 3.85     | 2.320    | 18.61    | 1        | 1        | 4        | 1        | 10.31643 | \n",
       "| Hornet 4 Drive | 21.4     | 6        | 258      | 110      | 3.08     | 3.215    | 19.44    | 1        | 0        | 3        | 1        | 10.99134 | \n",
       "| Hornet Sportabout | 18.7     | 8        | 360      | 175      | 3.15     | 3.440    | 17.02    | 0        | 0        | 3        | 2        | 12.57832 | \n",
       "| Valiant | 18.1     | 6        | 225      | 105      | 2.76     | 3.460    | 20.22    | 1        | 0        | 3        | 1        | 12.99528 | \n",
       "\n",
       "\n"
      ],
      "text/plain": [
       "                  mpg  cyl disp hp  drat wt    qsec  vs am gear carb lkm     \n",
       "Mazda RX4         21.0 6   160  110 3.90 2.620 16.46 0  1  4    4    11.20069\n",
       "Mazda RX4 Wag     21.0 6   160  110 3.90 2.875 17.02 0  1  4    4    11.20069\n",
       "Datsun 710        22.8 4   108   93 3.85 2.320 18.61 1  1  4    1    10.31643\n",
       "Hornet 4 Drive    21.4 6   258  110 3.08 3.215 19.44 1  0  3    1    10.99134\n",
       "Hornet Sportabout 18.7 8   360  175 3.15 3.440 17.02 0  0  3    2    12.57832\n",
       "Valiant           18.1 6   225  105 2.76 3.460 20.22 1  0  3    1    12.99528"
      ]
     },
     "metadata": {},
     "output_type": "display_data"
    }
   ],
   "source": [
    "df[\"lkm\"] = 235.214583 / df[\"mpg\"]\n",
    "head(df)"
   ]
  },
  {
   "cell_type": "code",
   "execution_count": null,
   "metadata": {},
   "outputs": [],
   "source": []
  }
 ],
 "metadata": {
  "kernelspec": {
   "display_name": "R",
   "language": "R",
   "name": "ir"
  },
  "language_info": {
   "codemirror_mode": "r",
   "file_extension": ".r",
   "mimetype": "text/x-r-source",
   "name": "R",
   "pygments_lexer": "r",
   "version": "3.2.3"
  }
 },
 "nbformat": 4,
 "nbformat_minor": 2
}

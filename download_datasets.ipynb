{
 "cells": [
  {
   "cell_type": "code",
   "execution_count": 12,
   "metadata": {},
   "outputs": [
    {
     "name": "stdout",
     "output_type": "stream",
     "text": [
      "Downloading dataset: Breast Cancer Wisconsin (Diagnostic) Data Set\n",
      "Saving dataset to: data/wdbc.data\n",
      "Downloading dataset: Iris Data Set\n",
      "Saving dataset to: data/iris.data\n",
      "Downloading dataset: Economic Freedom of the World Data\n",
      "Saving dataset to: data/efw.xlsx\n"
     ]
    }
   ],
   "source": [
    "import os.path\n",
    "import requests\n",
    "\n",
    "# Define datasets\n",
    "datasets = {\n",
    "    'Breast Cancer Wisconsin (Diagnostic) Data Set':('wdbc.data','http://archive.ics.uci.edu/ml/machine-learning-databases/breast-cancer-wisconsin/wdbc.data'),\n",
    "    'Iris Data Set': ('iris.data', 'https://archive.ics.uci.edu/ml/machine-learning-databases/iris/iris.data'),\n",
    "    'Economic Freedom of the World Data': ('efw.xlsx','https://www.fraserinstitute.org/sites/default/files/efw-2020-master-index-data-for-researchers.xlsx')\n",
    "}\n",
    "\n",
    "for dataset_name in datasets:\n",
    "    print('Downloading dataset: %s' % dataset_name)\n",
    "    filename, url = datasets[dataset_name]\n",
    "    filepath = os.path.join('data', filename)\n",
    "    print('Saving dataset to: %s' % filepath)\n",
    "    data_request = requests.get(url)\n",
    "    if data_request.status_code != 200:\n",
    "        raise Exception('Failure at downloading!')\n",
    "    with open(filepath, 'wb') as datafile:\n",
    "        datafile.write(data_request.content)"
   ]
  },
  {
   "cell_type": "code",
   "execution_count": null,
   "metadata": {},
   "outputs": [],
   "source": []
  }
 ],
 "metadata": {
  "kernelspec": {
   "display_name": "Python 3",
   "language": "python",
   "name": "python3"
  },
  "language_info": {
   "codemirror_mode": {
    "name": "ipython",
    "version": 3
   },
   "file_extension": ".py",
   "mimetype": "text/x-python",
   "name": "python",
   "nbconvert_exporter": "python",
   "pygments_lexer": "ipython3",
   "version": "3.8.5"
  }
 },
 "nbformat": 4,
 "nbformat_minor": 4
}

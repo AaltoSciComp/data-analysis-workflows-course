{
 "cells": [
  {
   "cell_type": "code",
   "execution_count": null,
   "metadata": {},
   "outputs": [],
   "source": [
    "import os.path\n",
    "import requests\n",
    "\n",
    "# Define datasets\n",
    "datasets = {\n",
    "    'Breast Cancer Wisconsin (Diagnostic) Data Set':('wdbc.data','http://archive.ics.uci.edu/ml/machine-learning-databases/breast-cancer-wisconsin/wdbc.data'),\n",
    "    'Iris Data Set': ('iris.data', 'https://archive.ics.uci.edu/ml/machine-learning-databases/iris/iris.data'),\n",
    "    'Economic Freedom of the World Data': ('efw.xlsx','https://www.fraserinstitute.org/sites/default/files/efw-2020-master-index-data-for-researchers.xlsx'),\n",
    "    'ATP Players': ('atp_players.csv','https://github.com/JeffSackmann/tennis_atp/raw/master/atp_players.csv'),\n",
    "    'ATP Rankings 2000s': ('atp_rankings_00s.csv','https://github.com/JeffSackmann/tennis_atp/raw/master/atp_rankings_00s.csv'),\n",
    "    'ATP Rankings 2010s': ('atp_rankings_10s.csv','https://github.com/JeffSackmann/tennis_atp/raw/master/atp_rankings_10s.csv'),\n",
    "    'Triton Filesizes': ('filesizes_timestamps.txt', 'https://raw.githubusercontent.com/AaltoSciComp/triton-fs-stats/master/filesizes_timestamps/filesizes_timestamps.txt')\n",
    "}\n",
    "\n",
    "for dataset_name in datasets:\n",
    "    filename, url = datasets[dataset_name]\n",
    "    filepath = os.path.join('data', filename)\n",
    "    if not os.path.isfile(filepath):\n",
    "        print('Downloading dataset: %s' % dataset_name)\n",
    "        data_request = requests.get(url)\n",
    "        if data_request.status_code != 200:\n",
    "            raise Exception('Failure at downloading!')\n",
    "        print('Saving dataset to: %s' % filepath)\n",
    "        with open(filepath, 'wb') as datafile:\n",
    "            datafile.write(data_request.content)"
   ]
  },
  {
   "cell_type": "code",
   "execution_count": null,
   "metadata": {},
   "outputs": [],
   "source": []
  }
 ],
 "metadata": {
  "kernelspec": {
   "display_name": "Python 3",
   "language": "python",
   "name": "python3"
  },
  "language_info": {
   "codemirror_mode": {
    "name": "ipython",
    "version": 3
   },
   "file_extension": ".py",
   "mimetype": "text/x-python",
   "name": "python",
   "nbconvert_exporter": "python",
   "pygments_lexer": "ipython3",
   "version": "3.7.9"
  }
 },
 "nbformat": 4,
 "nbformat_minor": 4
}

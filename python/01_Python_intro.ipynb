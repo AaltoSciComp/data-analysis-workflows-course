{
 "cells": [
  {
   "cell_type": "markdown",
   "metadata": {},
   "source": [
    "# QUIZ\n",
    "\n",
    "Go to http://presemo.aalto.fi/pythondataanalysis/ and fill ou\n",
    "\n",
    "# Why Python?  Why this course?\n",
    "\n",
    "Python is a high-level language.  It is really designed as a solid programming language first, but is also very often used as a \"glue\" language.\n",
    "\n",
    "Python is designed to make sense, which is surprisingly important long-term.  Luckily this sensibility also applies to most of the big libraries.\n",
    "\n",
    "Python provides the flexibility to get things done quickly, but also the easy access to lower level languages.  For example, if you are calling the some library which calls CUDA libraries to do machine learning stuff, it doesn't matter how efficient you little bit of Python is - and it will probably be even more efficient since you won't cut corners at things like data processing and input/output.\n",
    "\n",
    "Python has this easter egg as to what make things \"Pythonic\".  It is a pretty good thing to use in all of your own life, too:"
   ]
  },
  {
   "cell_type": "code",
   "execution_count": 1,
   "metadata": {},
   "outputs": [
    {
     "name": "stdout",
     "output_type": "stream",
     "text": [
      "The Zen of Python, by Tim Peters\n",
      "\n",
      "Beautiful is better than ugly.\n",
      "Explicit is better than implicit.\n",
      "Simple is better than complex.\n",
      "Complex is better than complicated.\n",
      "Flat is better than nested.\n",
      "Sparse is better than dense.\n",
      "Readability counts.\n",
      "Special cases aren't special enough to break the rules.\n",
      "Although practicality beats purity.\n",
      "Errors should never pass silently.\n",
      "Unless explicitly silenced.\n",
      "In the face of ambiguity, refuse the temptation to guess.\n",
      "There should be one-- and preferably only one --obvious way to do it.\n",
      "Although that way may not be obvious at first unless you're Dutch.\n",
      "Now is better than never.\n",
      "Although never is often better than *right* now.\n",
      "If the implementation is hard to explain, it's a bad idea.\n",
      "If the implementation is easy to explain, it may be a good idea.\n",
      "Namespaces are one honking great idea -- let's do more of those!\n"
     ]
    }
   ],
   "source": [
    "import this"
   ]
  },
  {
   "cell_type": "markdown",
   "metadata": {},
   "source": [
    "# Python on Triton\n",
    "* Different interpreters and modules\n",
    "* CPython - the \"normal\" Python implementation, written in C\n",
    "* `anaconda3/latest`\n",
    "* Different automatically built Python modules\n",
    "* PyPy - Just in time interpreter written in Python\n",
    "* Different advanced interpreters/compilers: `cython`, `numba`\n",
    "* Completely other implementations: Jython, IronPython, Pyjs, ...\n",
    "* Python 2 vs Python 3"
   ]
  }
 ],
 "metadata": {
  "kernelspec": {
   "display_name": "Python 3",
   "language": "python",
   "name": "python3"
  },
  "language_info": {
   "codemirror_mode": {
    "name": "ipython",
    "version": 3
   },
   "file_extension": ".py",
   "mimetype": "text/x-python",
   "name": "python",
   "nbconvert_exporter": "python",
   "pygments_lexer": "ipython3",
   "version": "3.6.5"
  },
  "toc": {
   "nav_menu": {},
   "number_sections": true,
   "sideBar": true,
   "skip_h1_title": false,
   "title_cell": "Table of Contents",
   "title_sidebar": "Contents",
   "toc_cell": false,
   "toc_position": {},
   "toc_section_display": true,
   "toc_window_display": false
  },
  "varInspector": {
   "cols": {
    "lenName": 16,
    "lenType": 16,
    "lenVar": 40
   },
   "kernels_config": {
    "python": {
     "delete_cmd_postfix": "",
     "delete_cmd_prefix": "del ",
     "library": "var_list.py",
     "varRefreshCmd": "print(var_dic_list())"
    },
    "r": {
     "delete_cmd_postfix": ") ",
     "delete_cmd_prefix": "rm(",
     "library": "var_list.r",
     "varRefreshCmd": "cat(var_dic_list()) "
    }
   },
   "types_to_exclude": [
    "module",
    "function",
    "builtin_function_or_method",
    "instance",
    "_Feature"
   ],
   "window_display": false
  }
 },
 "nbformat": 4,
 "nbformat_minor": 2
}

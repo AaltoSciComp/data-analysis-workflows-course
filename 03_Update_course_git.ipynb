{
 "cells": [
  {
   "cell_type": "markdown",
   "metadata": {},
   "source": [
    "# Git pull on the course notebook \n",
    "- In this notebook, we update the course git repository.  At the beginning, you did a `cp -r` command, but it was actually a git repository so we will use that to update\n",
    "- This is a `bash` notebook, so it has external effects.  If you go re-running things, it may not work!  It is a shell, not a programming language.\n",
    "  - In general, it would make more sense to do this in a shell, not a notebook.  This notebook is more a tutorial. \n",
    "- If all else fails, ask us ... or copy out your modified notebooks, remove the repository, and copy again."
   ]
  },
  {
   "cell_type": "code",
   "execution_count": 6,
   "metadata": {
    "ExecuteTime": {
     "end_time": "2018-04-11T06:53:42.738501Z",
     "start_time": "2018-04-11T06:53:42.481124Z"
    }
   },
   "outputs": [
    {
     "name": "stdout",
     "output_type": "stream",
     "text": [
      "/scratch/work/darstr1/git/python-r-data-analysis-course\n"
     ]
    }
   ],
   "source": [
    "# Make sure we are in the right directory (if you start terminal from Jupyter, you probably are)\n",
    "# Otherwise, `cd` to the right place:\n",
    "pwd\n",
    "# cd /scratch/work/darstr1/git/python-r-data-analysis-course"
   ]
  },
  {
   "cell_type": "code",
   "execution_count": null,
   "metadata": {},
   "outputs": [],
   "source": [
    "# Commit all of your changes\n",
    "git commit -a -m \"Work on Monday 9.4\""
   ]
  },
  {
   "cell_type": "code",
   "execution_count": 9,
   "metadata": {
    "ExecuteTime": {
     "end_time": "2018-04-11T06:59:11.963266Z",
     "start_time": "2018-04-11T06:59:10.480482Z"
    }
   },
   "outputs": [],
   "source": [
    "# We have to enable the diff-merge tools for notebooks\n",
    "# Do this from inside the repo!\n",
    "# We have to do this, or else our notebooks might get corrupted!\n",
    "/share/apps/jupyterhub/live/miniconda/bin/nbdime config-git --enable\n",
    "sed --in-place -r 's@(= )[ a-z/-]*(git-nb)@\\1/share/apps/jupyterhub/live/miniconda/bin/\\2@' .git/config"
   ]
  },
  {
   "cell_type": "code",
   "execution_count": 10,
   "metadata": {
    "ExecuteTime": {
     "end_time": "2018-04-11T06:59:17.230960Z",
     "start_time": "2018-04-11T06:59:17.120085Z"
    }
   },
   "outputs": [
    {
     "name": "stdout",
     "output_type": "stream",
     "text": [
      "\n",
      "*.ipynb\tdiff=jupyternotebook\n",
      "\n",
      "*.ipynb\tmerge=jupyternotebook\n"
     ]
    }
   ],
   "source": [
    "# Check .gitattributes to make sure the drivers are there.\n",
    "# This is what tells it to be smarter about notebook files!\n",
    "cat .gitattributes"
   ]
  },
  {
   "cell_type": "code",
   "execution_count": 7,
   "metadata": {
    "ExecuteTime": {
     "end_time": "2018-04-11T06:53:47.538502Z",
     "start_time": "2018-04-11T06:53:47.372277Z"
    }
   },
   "outputs": [
    {
     "name": "stdout",
     "output_type": "stream",
     "text": [
      "origin\thttps://github.com/AaltoScienceIT/python-r-data-analysis-course.git (fetch)\n",
      "origin\thttps://github.com/AaltoScienceIT/python-r-data-analysis-course.git (push)\n"
     ]
    }
   ],
   "source": [
    "# Check our git remotes - should be same for you.\n",
    "# No effect\n",
    "git remote -v"
   ]
  },
  {
   "cell_type": "code",
   "execution_count": 8,
   "metadata": {
    "ExecuteTime": {
     "end_time": "2018-04-11T06:53:51.480572Z",
     "start_time": "2018-04-11T06:53:49.728373Z"
    }
   },
   "outputs": [
    {
     "name": "stdout",
     "output_type": "stream",
     "text": [
      "remote: Counting objects: 9, done.        \n",
      "remote: Compressing objects: 100% (6/6), done.        \n",
      "remote: Total 9 (delta 4), reused 8 (delta 3), pack-reused 0        \n",
      "Unpacking objects: 100% (9/9), done.\n",
      "From https://github.com/AaltoScienceIT/python-r-data-analysis-course\n",
      "   a46c1c4..4f20087  master     -> origin/master\n"
     ]
    }
   ],
   "source": [
    "git fetch"
   ]
  },
  {
   "cell_type": "code",
   "execution_count": 16,
   "metadata": {
    "ExecuteTime": {
     "end_time": "2018-04-11T07:01:57.579519Z",
     "start_time": "2018-04-11T07:01:57.354192Z"
    }
   },
   "outputs": [
    {
     "name": "stdout",
     "output_type": "stream",
     "text": [
      "Updating a46c1c4..4f20087\n",
      "Fast-forward\n",
      " .../01_Python_data_types_and_structures.ipynb      |   0\n",
      " r/02_Summaries_and_Groups.ipynb                    |  82 ++-\n",
      " r/03_Data_Access.ipynb                             | 733 +++++++++++++++++++++\n",
      " ...aps.ipynb => 04_Functions_Nests_and_Maps.ipynb} |  18 +-\n",
      " r/{04_Time_Series.ipynb => 08_Time_Series.ipynb}   |   0\n",
      " 5 files changed, 820 insertions(+), 13 deletions(-)\n",
      " rename 03_Python_data_types_and_structures.ipynb => python/01_Python_data_types_and_structures.ipynb (100%)\n",
      " create mode 100644 r/03_Data_Access.ipynb\n",
      " rename r/{03_Functions_Nests_and_Maps.ipynb => 04_Functions_Nests_and_Maps.ipynb} (99%)\n",
      " rename r/{04_Time_Series.ipynb => 08_Time_Series.ipynb} (100%)\n"
     ]
    }
   ],
   "source": [
    "git merge origin/master"
   ]
  },
  {
   "cell_type": "markdown",
   "metadata": {},
   "source": [
    "# Did you see merge conflicts?\n",
    "- If no, great. you are done\n",
    "- If yes, we will ignore them.  Notebooks aren't automatically run, so you will fix them next time you are there.\n",
    "- `git commit -a --no-edit` to commit *everything* with the default message\n",
    "- If this was real code, we might have merge conflicts so that it won't run.  But with notebooks, since we always see what we run, we can fix when it becomes a problem."
   ]
  },
  {
   "cell_type": "code",
   "execution_count": null,
   "metadata": {},
   "outputs": [],
   "source": [
    "git status"
   ]
  },
  {
   "cell_type": "code",
   "execution_count": null,
   "metadata": {},
   "outputs": [],
   "source": [
    "git commit -a --no-edit"
   ]
  }
 ],
 "metadata": {
  "kernelspec": {
   "display_name": "Bash",
   "language": "bash",
   "name": "bash"
  },
  "language_info": {
   "codemirror_mode": "shell",
   "file_extension": ".sh",
   "mimetype": "text/x-sh",
   "name": "bash"
  },
  "toc": {
   "nav_menu": {},
   "number_sections": true,
   "sideBar": true,
   "skip_h1_title": false,
   "title_cell": "Table of Contents",
   "title_sidebar": "Contents",
   "toc_cell": false,
   "toc_position": {},
   "toc_section_display": true,
   "toc_window_display": false
  },
  "varInspector": {
   "cols": {
    "lenName": 16,
    "lenType": 16,
    "lenVar": 40
   },
   "kernels_config": {
    "python": {
     "delete_cmd_postfix": "",
     "delete_cmd_prefix": "del ",
     "library": "var_list.py",
     "varRefreshCmd": "print(var_dic_list())"
    },
    "r": {
     "delete_cmd_postfix": ") ",
     "delete_cmd_prefix": "rm(",
     "library": "var_list.r",
     "varRefreshCmd": "cat(var_dic_list()) "
    }
   },
   "types_to_exclude": [
    "module",
    "function",
    "builtin_function_or_method",
    "instance",
    "_Feature"
   ],
   "window_display": false
  }
 },
 "nbformat": 4,
 "nbformat_minor": 2
}

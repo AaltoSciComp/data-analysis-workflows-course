{
 "cells": [
  {
   "cell_type": "code",
   "execution_count": null,
   "metadata": {},
   "outputs": [],
   "source": [
    "import os\n",
    "import requests\n",
    "import json\n",
    "\n",
    "def download_file(url, filepath):\n",
    "    file_request = requests.get(url)\n",
    "    if file_request.status_code != 200:\n",
    "        raise Exception('Failure at downloading!')\n",
    "    print('Saving a lesson file to: %s' % filepath)\n",
    "    with open(filepath, 'wb') as lesson_file:\n",
    "        lesson_file.write(file_request.content)\n",
    "\n",
    "def download_lessons(lesson, path_to_course_folder=None, download_manifest=True):\n",
    "    course_folder = os.getcwd()\n",
    "    if path_to_course_folder:\n",
    "        course_folder = os.path.realpath(os.path.join(course_folder, path_to_course_folder))\n",
    "    if os.path.basename(course_folder) != 'data-analysis-workflows-course':\n",
    "        print('Please run this notebook from the \"data-analysis-workflows-course\"-directory or use path_to_course_folder=\"/path/to/course/folder\"!')\n",
    "        print('Current assumed course directory: ', course_folder)\n",
    "        return\n",
    "\n",
    "    base_url = 'https://raw.githubusercontent.com/AaltoSciComp/data-analysis-workflows-course/master/'\n",
    "    lesson_manifest_file = os.path.join(course_folder, 'lesson_manifest.json')\n",
    "    if download_manifest:\n",
    "        manifest_url = os.path.join(base_url, 'lesson_manifest.json')\n",
    "        print('Downloading lesson manifest file to: %s' % lesson_manifest_file)\n",
    "        download_file(manifest_url, lesson_manifest_file)\n",
    "\n",
    "    with open(lesson_manifest_file, 'r') as lmf:\n",
    "        lesson_manifest = json.loads(lmf.read())\n",
    "\n",
    "    lesson_data = lesson_manifest[lesson] + lesson_manifest['all']\n",
    "    for lesson_file in lesson_data:\n",
    "        filename = lesson_file['filename']\n",
    "        directory = lesson_file['directory']\n",
    "        filepath = os.path.join(directory, filename)\n",
    "        url = os.path.join(base_url, filepath)\n",
    "        print('Downloading lesson file: %s' % filename)\n",
    "        download_file(url, os.path.join(course_folder,filepath))"
   ]
  },
  {
   "cell_type": "code",
   "execution_count": null,
   "metadata": {},
   "outputs": [],
   "source": [
    "download_lessons('lesson 4')"
   ]
  },
  {
   "cell_type": "code",
   "execution_count": null,
   "metadata": {},
   "outputs": [],
   "source": []
  }
 ],
 "metadata": {
  "kernelspec": {
   "display_name": "Python 3",
   "language": "python",
   "name": "python3"
  },
  "language_info": {
   "codemirror_mode": {
    "name": "ipython",
    "version": 3
   },
   "file_extension": ".py",
   "mimetype": "text/x-python",
   "name": "python",
   "nbconvert_exporter": "python",
   "pygments_lexer": "ipython3",
   "version": "3.7.9"
  }
 },
 "nbformat": 4,
 "nbformat_minor": 4
}

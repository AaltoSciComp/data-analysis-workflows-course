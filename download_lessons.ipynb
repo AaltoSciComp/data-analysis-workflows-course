{
 "cells": [
  {
   "cell_type": "code",
   "execution_count": 27,
   "metadata": {},
   "outputs": [
    {
     "name": "stdout",
     "output_type": "stream",
     "text": [
      "ch1-r-ex2.ipynb r_exercises r_exercises/ch1-r-ex2.ipynb https://raw.githubusercontent.com/AaltoSciComp/data-analysis-workflows-course/master/r_exercises/ch1-r-ex2.ipynb\n"
     ]
    }
   ],
   "source": [
    "import os.path\n",
    "import requests\n",
    "import json\n",
    "\n",
    "def download_file(url, filepath):\n",
    "    file_request = requests.get(url)\n",
    "    if file_request.status_code != 200:\n",
    "        raise Exception('Failure at downloading!')\n",
    "    print('Saving a lesson file to: %s' % filepath)\n",
    "    with open(filepath, 'wb') as lesson_file:\n",
    "        lesson_file.write(file_request.content)\n",
    "\n",
    "def download_lessons(lesson):\n",
    "    base_url = 'https://raw.githubusercontent.com/AaltoSciComp/data-analysis-workflows-course/master/'\n",
    "    with open('lesson_manifest.json', 'r') as lesson_manifest_file:\n",
    "        lesson_manifest = json.loads(lesson_manifest_file.read())\n",
    "    lesson_data = lesson_manifest[lesson]\n",
    "    for lesson_file in lesson_data:\n",
    "        filename = lesson_file['filename']\n",
    "        directory = lesson_file['directory']\n",
    "        filepath = os.path.join(directory, filename)\n",
    "        url = os.path.join(base_url, filepath)\n",
    "        print('Downloading lesson file: %s' % dataset_name)\n",
    "        download_file(url, filepath)"
   ]
  },
  {
   "cell_type": "code",
   "execution_count": null,
   "metadata": {},
   "outputs": [],
   "source": [
    "download_lessons('lesson 1')"
   ]
  }
 ],
 "metadata": {
  "kernelspec": {
   "display_name": "Python 3",
   "language": "python",
   "name": "python3"
  },
  "language_info": {
   "codemirror_mode": {
    "name": "ipython",
    "version": 3
   },
   "file_extension": ".py",
   "mimetype": "text/x-python",
   "name": "python",
   "nbconvert_exporter": "python",
   "pygments_lexer": "ipython3",
   "version": "3.7.9"
  }
 },
 "nbformat": 4,
 "nbformat_minor": 4
}

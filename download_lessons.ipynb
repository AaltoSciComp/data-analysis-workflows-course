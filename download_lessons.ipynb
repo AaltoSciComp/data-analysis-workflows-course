{
 "cells": [
  {
   "cell_type": "code",
   "execution_count": 55,
   "metadata": {},
   "outputs": [],
   "source": [
    "import os\n",
    "import requests\n",
    "import json\n",
    "\n",
    "def download_file(url, filepath):\n",
    "    file_request = requests.get(url)\n",
    "    if file_request.status_code != 200:\n",
    "        raise Exception('Failure at downloading!')\n",
    "    print('Saving a lesson file to: %s' % filepath)\n",
    "    with open(filepath, 'wb') as lesson_file:\n",
    "        lesson_file.write(file_request.content)\n",
    "\n",
    "def download_lessons(lesson, download_manifest=True):\n",
    "    current_directory = os.path.basename(os.getcwd())\n",
    "    if current_directory != 'data-analysis-workflows-course':\n",
    "        print('Please run this notebook from the \"data-analysis-workflows-course\"-directory!')\n",
    "        return 1\n",
    "\n",
    "    base_url = 'https://raw.githubusercontent.com/AaltoSciComp/data-analysis-workflows-course/master/'\n",
    "    if download_manifest:\n",
    "        manifest_url = os.path.join(base_url, 'lesson_manifest.json')\n",
    "        download_file(manifest_url, 'lesson_manifest.json')\n",
    "\n",
    "    with open('lesson_manifest.json', 'r') as lesson_manifest_file:\n",
    "        lesson_manifest = json.loads(lesson_manifest_file.read())\n",
    "\n",
    "    lesson_data = lesson_manifest[lesson] + lesson_manifest['all']\n",
    "    for lesson_file in lesson_data:\n",
    "        filename = lesson_file['filename']\n",
    "        directory = lesson_file['directory']\n",
    "        filepath = os.path.join(directory, filename)\n",
    "        url = os.path.join(base_url, filepath)\n",
    "        print('Downloading lesson file: %s' % filename)\n",
    "        download_file(url, filepath)"
   ]
  },
  {
   "cell_type": "code",
   "execution_count": 56,
   "metadata": {},
   "outputs": [
    {
     "name": "stdout",
     "output_type": "stream",
     "text": [
      "Downloading lesson file: ch2-python-ex1.ipynb\n",
      "Saving a lesson file to: python_exercises/ch2-python-ex1.ipynb\n",
      "Downloading lesson file: ch2-python-ex1-solution.ipynb\n",
      "Saving a lesson file to: python_exercises/ch2-python-ex1-solution.ipynb\n",
      "Downloading lesson file: ch2-r-ex1.ipynb\n",
      "Saving a lesson file to: r_exercises/ch2-r-ex1.ipynb\n",
      "Downloading lesson file: ch2-r-ex1-solution.ipynb\n",
      "Saving a lesson file to: r_exercises/ch2-r-ex1-solution.ipynb\n",
      "Downloading lesson file: download_datasets.ipynb\n",
      "Saving a lesson file to: ./download_datasets.ipynb\n"
     ]
    }
   ],
   "source": [
    "download_lessons('lesson 2', download_manifest=False)"
   ]
  },
  {
   "cell_type": "code",
   "execution_count": null,
   "metadata": {},
   "outputs": [],
   "source": []
  },
  {
   "cell_type": "code",
   "execution_count": null,
   "metadata": {},
   "outputs": [],
   "source": []
  }
 ],
 "metadata": {
  "kernelspec": {
   "display_name": "Python 3",
   "language": "python",
   "name": "python3"
  },
  "language_info": {
   "codemirror_mode": {
    "name": "ipython",
    "version": 3
   },
   "file_extension": ".py",
   "mimetype": "text/x-python",
   "name": "python",
   "nbconvert_exporter": "python",
   "pygments_lexer": "ipython3",
   "version": "3.7.9"
  }
 },
 "nbformat": 4,
 "nbformat_minor": 4
}

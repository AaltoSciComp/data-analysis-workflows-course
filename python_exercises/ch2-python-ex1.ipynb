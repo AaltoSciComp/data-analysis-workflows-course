{
 "cells": [
  {
   "cell_type": "markdown",
   "metadata": {},
   "source": [
    "# Chapter 2\n",
    "\n",
    "## Exercise 1\n",
    "\n",
    "In this exercise we'll create input parsing functions that parse datasets of [Premier League results](https://github.com/footballcsv/england)."
   ]
  },
  {
   "cell_type": "code",
   "execution_count": null,
   "metadata": {},
   "outputs": [],
   "source": [
    "import os\n",
    "import numpy as np\n",
    "import pandas as pd"
   ]
  },
  {
   "cell_type": "markdown",
   "metadata": {},
   "source": [
    "## Problem 1\n",
    "\n",
    "- Look at the one of the `./data/england-master/XXXXs/XXXX-XX/eng.1.csv`-datasets.\n",
    "- Determine whether the data is in a tidy format.\n",
    "- If not, how would you modify the data format?\n",
    "\n",
    "You can use the markdown cell below to keep notes."
   ]
  },
  {
   "cell_type": "markdown",
   "metadata": {},
   "source": [
    "Notes:\n",
    "\n",
    "- Note 1"
   ]
  },
  {
   "cell_type": "markdown",
   "metadata": {},
   "source": [
    "## Problem 2\n",
    "\n",
    "Create a function `load_matches` that does the following:\n",
    "\n",
    "- It takes a single csv file from the `../data/england-master/XXXXs/XXXX-XX/eng.1.csv`-datasets.\n",
    "- It reads the csv.\n",
    "- It converts Date into a proper Datetime object.\n",
    "- It determines the season of the dataset and stores it into column `Season`. E.g. data files in 2019-20 have season 2019.\n",
    "- It returns the dataset.\n",
    "\n",
    "Hint: [min](https://pandas.pydata.org/pandas-docs/stable/reference/api/pandas.DataFrame.min.html) and [to_period](https://pandas.pydata.org/pandas-docs/stable/user_guide/timeseries.html#time-span-representation) might be of interest."
   ]
  },
  {
   "cell_type": "code",
   "execution_count": null,
   "metadata": {},
   "outputs": [],
   "source": [
    "def load_matches(datafile):\n",
    "    # TODO\n",
    "    return matches"
   ]
  },
  {
   "cell_type": "code",
   "execution_count": null,
   "metadata": {},
   "outputs": [],
   "source": [
    "matches_19 = load_matches('../data/england-master/2010s/2019-20/eng.1.csv')\n",
    "matches_19.head()"
   ]
  },
  {
   "cell_type": "markdown",
   "metadata": {},
   "source": [
    "## Preamble for problem 3\n",
    "\n",
    "We want to convert our data into a tidy format with the following columns:\n",
    "\n",
    "- `Round` - same as initial data\n",
    "- `Date` - same as initial data\n",
    "- `Team` - new column that tells which team is in question\n",
    "- `Opponent` - new column that tells who was the opponent for the `Team`\n",
    "- `Season` - same as initial data\n",
    "- `ScoredGoals` - new column that tells how many goals the `Team` scored\n",
    "- `AllowedGoals` - new column that tells how many goals the `Team` allowed\n",
    "- `Side` - new column that tells whether the `Team` played on the `Home`-side or on the `Away`-side.\n",
    "- `Result` - new column that tells the result from values `Win`, `Loss` or `Draw`\n",
    "- `Points` - new column that lists the amount of league points the team received from the game (3 for `Win`, 1 for `Draw`, 0 for `Loss`)\n",
    "\n",
    "The output of this formatting function should look something like this:\n",
    "\n",
    "||Round|Date|Team|Opponent|Season|ScoredGoals|AllowedGoals|Side|Result|Points|\n",
    "|-|-|-|-|-|-|-|-|-|-|-|\n",
    "|0|1|2019-08-09|Liverpool FC|Norwich City FC|2019|4|1|Home|Win|3|\n",
    "|1|1|2019-08-10|West Ham United FC|Manchester City FC|2019|0|5|Home|Loss|0|\n",
    "\n",
    "Do note that in this tidy format we have doubled the amount of rows: the original format had two results, one win and one loss, encoded into the column `FT`.\n",
    "\n",
    "In our new format we have two differents states: one from both perspectives. This allows us to calculate e.g. `Points`, which are allocated in an asymmetric fashion (if the match wasn't a draw).\n",
    "\n",
    "## Problem 3\n",
    "\n",
    "Let's create a function `format_matches`, which takes a single DataFrame created by `load_matches` and converts the data into our desired data format:\n",
    "\n",
    "- Use [pandas.Series.str.extract](https://pandas.pydata.org/pandas-docs/stable/reference/api/pandas.Series.str.extract.html) to extract `HomeGoals` and `AwayGoals` from the `FT`-column. Convert these columns into integers.\n",
    "- Drop unneeded `FT`-column.\n",
    "- Create two copies of the initial dataset: one from the away perspective and one from the home team perspective.\n",
    "- For home side:\n",
    "    - Set `Side` to `Home`.\n",
    "    - Rename `Team 1` to `Team`, `Team 2` to `Opponent`, `Homegoals` to `ScoredGoals` and `AwayGoals` to `AllowedGoals`.\n",
    "    - Set `Result` to `Win` if home team one, `Draw`, if match was a draw and `Loss` if away team won.\n",
    "- For away side:\n",
    "    - Set `Side` to `Away`.\n",
    "    - Rename `Team 1` to `Opponent`, `Team 2` to `Team`, `Homegoals` to `AllowedGoals` and `AwayGoals` to `ScoredGoals`.\n",
    "    - Set `Result` to `Loss` if home team one, `Draw`, if match was a draw and `Win` if away team won.\n",
    "- Concatenate both home- and away-datasets together to get all matches.\n",
    "- Create column `Points` and fill it based on the `Result`-column. 3 points for a `Win`, 1 point for a `Draw` and 0 points for a `Loss`.\n",
    "\n",
    "Hint: You can use [boolean indexing](https://pandas.pydata.org/pandas-docs/stable/user_guide/indexing.html#boolean-indexing) to test which team won based on `HomeGoals` and `AwayGoals`."
   ]
  },
  {
   "cell_type": "code",
   "execution_count": null,
   "metadata": {},
   "outputs": [],
   "source": [
    "def format_matches(matches):\n",
    "    # TODO\n",
    "    return all_matches"
   ]
  },
  {
   "cell_type": "code",
   "execution_count": null,
   "metadata": {},
   "outputs": [],
   "source": [
    "matches_19 = format_matches(matches_19)\n",
    "matches_19.head()"
   ]
  },
  {
   "cell_type": "markdown",
   "metadata": {},
   "source": [
    "## Problem 4\n",
    "\n",
    "- Create a function `clean_matches`, which converts `Team`-, `Opponent`- and `Result`-categories from a dataset produced by our `format_matches` into categorical datatype.\n",
    "- Think why this step needs to be a separate function. Why couldn't these steps be part of the `format_matches`-function?"
   ]
  },
  {
   "cell_type": "code",
   "execution_count": null,
   "metadata": {},
   "outputs": [],
   "source": [
    "def clean_matches(matches):\n",
    "    # TODO\n",
    "    return matches"
   ]
  },
  {
   "cell_type": "code",
   "execution_count": null,
   "metadata": {},
   "outputs": [],
   "source": [
    "matches_19 = clean_matches(matches_19)\n",
    "matches_19.dtypes"
   ]
  },
  {
   "cell_type": "markdown",
   "metadata": {},
   "source": [
    "## Problem 5\n",
    "\n",
    "Create a function `read_matches` which, given the directory `../data/england-master/` and a list of seasons, does the following:\n",
    "\n",
    "- Iterates over the given seasons\n",
    "- Determines the correct data file based on season\n",
    "- Loads the data using `load_matches` and formats the data using `format_matches`\n",
    "- Concatenates different datasets together\n",
    "- Runs `clean_matches` on the combined dataset\n",
    "- Returns cleaned dataset with multiple seasons\n",
    "\n",
    "Hint: Python [string formatting](https://docs.python.org/3/library/string.html#format-specification-mini-language) might be of interest."
   ]
  },
  {
   "cell_type": "code",
   "execution_count": null,
   "metadata": {},
   "outputs": [],
   "source": [
    "def read_matches(matchfolder, seasons):\n",
    "    # TODO\n",
    "    return match_data"
   ]
  },
  {
   "cell_type": "code",
   "execution_count": null,
   "metadata": {},
   "outputs": [],
   "source": [
    "matches_all = read_matches('../data/england-master/', range(1992,2020))"
   ]
  },
  {
   "cell_type": "markdown",
   "metadata": {},
   "source": [
    "## Demonstration of our new data format\n",
    "\n",
    "### Checking home side advantage\n",
    "\n",
    "**Requirement**: Problems 1 and 2 need to be completed for the dataset\n",
    "\n",
    "Let's use our new datasets to check whether the home side has an advantage compared to the away side. This phenomenon [has been recognized](https://www.researchgate.net/publication/14465849_Factors_associated_with_home_advantage_in_English_and_Scottish_Soccer_matches) for years. Let's see if our data shows the same phenomena.\n",
    "\n",
    "For this let's use a [binomial test](https://docs.scipy.org/doc/scipy/reference/generated/scipy.stats.binom_test.html) to check whether our wins and draws come from a fair binomial distribution (wins and losses as likely)."
   ]
  },
  {
   "cell_type": "code",
   "execution_count": null,
   "metadata": {},
   "outputs": [],
   "source": [
    "from scipy.stats import binom_test\n",
    "def home_advantage(matches):\n",
    "    home_team_stats = matches.loc[(matches.loc[:,'Side'] == 'Home'),'Result'].value_counts()\n",
    "    print(home_team_stats)\n",
    "    print('Home side wins %.1f %% of matches that do not end in a draw' % float(100.0*home_team_stats.loc['Win']/(home_team_stats.loc['Win']+home_team_stats.loc['Loss'])))\n",
    "    return binom_test(home_team_stats.loc[['Win','Loss']])"
   ]
  },
  {
   "cell_type": "code",
   "execution_count": null,
   "metadata": {},
   "outputs": [],
   "source": [
    "home_advantage(matches_19)"
   ]
  },
  {
   "cell_type": "markdown",
   "metadata": {},
   "source": [
    "### Checking Premier League winners\n",
    "\n",
    "**Requirement**: Problems 1 and 2 need to be completed for the dataset\n",
    "\n",
    "Let's use our new datasets to check which teams won seasons by checking which team got the most points on each season.\n",
    "\n",
    "We can then compare teams with the most points to this [list of Premier League champions](https://en.wikipedia.org/wiki/List_of_English_football_champions#Premier_League_(1992%E2%80%93present)) and see that the lists match."
   ]
  },
  {
   "cell_type": "code",
   "execution_count": null,
   "metadata": {},
   "outputs": [],
   "source": [
    "def season_winners(matches):\n",
    "    team_standings = matches.loc[:,['Season','Team','Points']].groupby(['Season','Team']).sum()\n",
    "    team_standings.reset_index(inplace=True)\n",
    "    team_standings.dropna(inplace=True)\n",
    "    top_teams = team_standings.groupby('Season').apply(lambda x: x.nlargest(1, 'Points'))\n",
    "    return top_teams"
   ]
  },
  {
   "cell_type": "code",
   "execution_count": null,
   "metadata": {},
   "outputs": [],
   "source": [
    "season_winners(matches_19)"
   ]
  },
  {
   "cell_type": "code",
   "execution_count": null,
   "metadata": {},
   "outputs": [],
   "source": []
  }
 ],
 "metadata": {
  "kernelspec": {
   "display_name": "Python 3",
   "language": "python",
   "name": "python3"
  },
  "language_info": {
   "codemirror_mode": {
    "name": "ipython",
    "version": 3
   },
   "file_extension": ".py",
   "mimetype": "text/x-python",
   "name": "python",
   "nbconvert_exporter": "python",
   "pygments_lexer": "ipython3",
   "version": "3.7.9"
  }
 },
 "nbformat": 4,
 "nbformat_minor": 4
}

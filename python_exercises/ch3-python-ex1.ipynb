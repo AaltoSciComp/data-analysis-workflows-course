{
 "cells": [
  {
   "cell_type": "markdown",
   "metadata": {},
   "source": [
    "# Chapter 3\n",
    "\n",
    "This notebook contains the exercises for lecture 3."
   ]
  },
  {
   "cell_type": "code",
   "execution_count": null,
   "metadata": {},
   "outputs": [],
   "source": [
    "import pandas as pd\n",
    "import numpy as np\n",
    "import matplotlib.pyplot as plt\n",
    "import seaborn as sb"
   ]
  },
  {
   "cell_type": "markdown",
   "metadata": {},
   "source": [
    "## Problem 1\n",
    "\n",
    "Let's consider our iris-dataset from the first day. Do the following:\n",
    "\n",
    "1. Group the data based on species.\n",
    "2. Calculate mean and variance for all other columns (`Sepal.Length`, `Sepal.Width`, `Petal.Lenght`, `Petal.Width`) based on this grouping.\n",
    "3. Store these values into `iris_stats`-dataframe.\n",
    "4. Try to get the data back into the following tidy format (`Species` (e.g. `setosa`), `Statistic` (e.g. `mean`), `Feature` (e.g. `Sepal.Length`), `Value` (e.g. value for the mean). Using [unstack](https://pandas.pydata.org/pandas-docs/stable/reference/api/pandas.DataFrame.unstack.html)-function might make it easier.\n",
    "\n",
    "|Feature|Statistic|Species|Value|\n",
    "|-|-|-|-|\n",
    "|0|Sepal.Length|mean|setosa|5.006000|\n",
    "|1|Sepal.Length|mean|versicolor|.936000|\n",
    "|2|Sepal.Length|mean|virginica|6.588000|\n",
    "|3|Sepal.Length|var|setosa|0.124249|\n",
    "|4|Sepal.Length|var|versicolor|0.266433|\n",
    "\n",
    "Bonus:\n",
    "\n",
    "- Create a function that does these operations for **all** similar datasets (all columns are used for calculations). You can try it on the `wdbc` dataset given below (group by 'Diagnosis').\n",
    "\n",
    "Relevant API pages:\n",
    "\n",
    "- [pandas.DataFrame.groupby](https://pandas.pydata.org/pandas-docs/stable/reference/api/pandas.DataFrame.groupby.html)\n",
    "- [pandas.DataFrame.agg](https://pandas.pydata.org/pandas-docs/stable/reference/api/pandas.DataFrame.agg.html)\n",
    "- [pandas.DataFrame.unstack](https://pandas.pydata.org/pandas-docs/stable/reference/api/pandas.DataFrame.unstack.html)\n",
    "- [pandas.DataFrame.rename](https://pandas.pydata.org/pandas-docs/stable/reference/api/pandas.DataFrame.rename.html)"
   ]
  },
  {
   "cell_type": "code",
   "execution_count": null,
   "metadata": {},
   "outputs": [],
   "source": [
    "# Define function for iris data loading\n",
    "def load_iris(iris_data_file):\n",
    "    iris_data = pd.read_csv(\n",
    "        iris_data_file,\n",
    "        names=['Sepal.Length', 'Sepal.Width', 'Petal.Length', 'Petal.Width', 'Species'],\n",
    "    )\n",
    "    iris_data['Species'] = iris_data['Species'].map(lambda x: x.replace('Iris-','')).astype('category')\n",
    "    return iris_data\n",
    "\n",
    "iris_data = load_iris('../data/iris.data')\n",
    "\n",
    "# Define function for wdbc data loading\n",
    "def load_wdbc(wdbc_data_file):\n",
    "    wdbc_data = pd.read_csv(\n",
    "        wdbc_data_file,\n",
    "        header=None,\n",
    "        prefix='X'\n",
    "    )\n",
    "    #wdbc_data.drop('X0', inplace=True)\n",
    "    wdbc_data['X1'] = wdbc_data['X1'].astype('category')\n",
    "    wdbc_data = wdbc_data.rename(columns={'X1':'Diagnosis'})\n",
    "    wdbc_data = wdbc_data.drop('X0', axis=1)\n",
    "    return wdbc_data\n",
    "\n",
    "wdbc = load_wdbc('../data/wdbc.data')"
   ]
  },
  {
   "cell_type": "code",
   "execution_count": null,
   "metadata": {},
   "outputs": [],
   "source": []
  },
  {
   "cell_type": "markdown",
   "metadata": {},
   "source": [
    "## Problem 2\n",
    "\n",
    "1. Calculate correlation [pandas.DataFrame.corr](https://pandas.pydata.org/pandas-docs/stable/reference/api/pandas.DataFrame.corr.html) for:\n",
    "\n",
    " - `Sepal.Length` and `Sepal.Width`\n",
    " - `Petal.Length` and `Petal.Width`\n",
    "\n",
    "   Do you think that there is a linear relation between these variables?\n",
    "\n",
    "2. Do a linear plot between:\n",
    "\n",
    " - `Sepal.Length` and `Sepal.Width`\n",
    " - `Petal.Length` and `Petal.Width`\n",
    "\n",
    "   Print coefficients,\n",
    "\n",
    "3. Plot both datasets as separate scatterplots and plot linear fits on top of them. "
   ]
  },
  {
   "cell_type": "code",
   "execution_count": null,
   "metadata": {},
   "outputs": [],
   "source": []
  },
  {
   "cell_type": "markdown",
   "metadata": {},
   "source": [
    "## Problem 3\n",
    "\n",
    "Use whatever means to calculate separate linear plots between\n",
    "\n",
    " - `Sepal.Length` and `Sepal.Width`\n",
    " - `Petal.Length` and `Petal.Width`\n",
    " \n",
    "for all groups. Plot them in the same graph with different colors."
   ]
  },
  {
   "cell_type": "code",
   "execution_count": null,
   "metadata": {},
   "outputs": [],
   "source": []
  }
 ],
 "metadata": {
  "kernelspec": {
   "display_name": "Python 3",
   "language": "python",
   "name": "python3"
  },
  "language_info": {
   "codemirror_mode": {
    "name": "ipython",
    "version": 3
   },
   "file_extension": ".py",
   "mimetype": "text/x-python",
   "name": "python",
   "nbconvert_exporter": "python",
   "pygments_lexer": "ipython3",
   "version": "3.7.9"
  }
 },
 "nbformat": 4,
 "nbformat_minor": 4
}

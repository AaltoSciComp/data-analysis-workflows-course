{
 "cells": [
  {
   "cell_type": "markdown",
   "metadata": {},
   "source": [
    "# Chapter 3\n",
    "\n",
    "This notebook contains the commands that are shown in the lecture 3."
   ]
  },
  {
   "cell_type": "code",
   "execution_count": 1,
   "metadata": {},
   "outputs": [],
   "source": [
    "import pandas as pd\n",
    "import numpy as np\n",
    "import matplotlib.pyplot as plt\n",
    "import seaborn as sb"
   ]
  },
  {
   "cell_type": "markdown",
   "metadata": {},
   "source": [
    "## Grouping data by a common variable\n",
    "\n",
    "### Description of data - Triton cluster file statistics\n",
    "\n",
    "\n",
    "[read_table](https://pandas.pydata.org/pandas-docs/stable/reference/api/pandas.read_table.html)\n",
    "\n",
    "[Timedelta](https://pandas.pydata.org/pandas-docs/stable/user_guide/timedeltas.html)"
   ]
  },
  {
   "cell_type": "code",
   "execution_count": 2,
   "metadata": {},
   "outputs": [
    {
     "data": {
      "text/html": [
       "<div>\n",
       "<style scoped>\n",
       "    .dataframe tbody tr th:only-of-type {\n",
       "        vertical-align: middle;\n",
       "    }\n",
       "\n",
       "    .dataframe tbody tr th {\n",
       "        vertical-align: top;\n",
       "    }\n",
       "\n",
       "    .dataframe thead th {\n",
       "        text-align: right;\n",
       "    }\n",
       "</style>\n",
       "<table border=\"1\" class=\"dataframe\">\n",
       "  <thead>\n",
       "    <tr style=\"text-align: right;\">\n",
       "      <th></th>\n",
       "      <th>Bytes</th>\n",
       "      <th>Files</th>\n",
       "      <th>BytesLog2</th>\n",
       "      <th>SpaceUsage</th>\n",
       "      <th>Year</th>\n",
       "      <th>Month</th>\n",
       "      <th>Date</th>\n",
       "    </tr>\n",
       "  </thead>\n",
       "  <tbody>\n",
       "    <tr>\n",
       "      <th>287</th>\n",
       "      <td>1</td>\n",
       "      <td>5</td>\n",
       "      <td>0</td>\n",
       "      <td>5</td>\n",
       "      <td>2010.0</td>\n",
       "      <td>January</td>\n",
       "      <td>2010-01-01</td>\n",
       "    </tr>\n",
       "    <tr>\n",
       "      <th>451</th>\n",
       "      <td>2</td>\n",
       "      <td>3</td>\n",
       "      <td>1</td>\n",
       "      <td>6</td>\n",
       "      <td>2010.0</td>\n",
       "      <td>January</td>\n",
       "      <td>2010-01-01</td>\n",
       "    </tr>\n",
       "    <tr>\n",
       "      <th>627</th>\n",
       "      <td>4</td>\n",
       "      <td>27</td>\n",
       "      <td>2</td>\n",
       "      <td>108</td>\n",
       "      <td>2010.0</td>\n",
       "      <td>January</td>\n",
       "      <td>2010-01-01</td>\n",
       "    </tr>\n",
       "    <tr>\n",
       "      <th>822</th>\n",
       "      <td>8</td>\n",
       "      <td>136</td>\n",
       "      <td>3</td>\n",
       "      <td>1088</td>\n",
       "      <td>2010.0</td>\n",
       "      <td>January</td>\n",
       "      <td>2010-01-01</td>\n",
       "    </tr>\n",
       "    <tr>\n",
       "      <th>1057</th>\n",
       "      <td>16</td>\n",
       "      <td>208</td>\n",
       "      <td>4</td>\n",
       "      <td>3328</td>\n",
       "      <td>2010.0</td>\n",
       "      <td>January</td>\n",
       "      <td>2010-01-01</td>\n",
       "    </tr>\n",
       "  </tbody>\n",
       "</table>\n",
       "</div>"
      ],
      "text/plain": [
       "      Bytes  Files  BytesLog2  SpaceUsage    Year    Month       Date\n",
       "287       1      5          0           5  2010.0  January 2010-01-01\n",
       "451       2      3          1           6  2010.0  January 2010-01-01\n",
       "627       4     27          2         108  2010.0  January 2010-01-01\n",
       "822       8    136          3        1088  2010.0  January 2010-01-01\n",
       "1057     16    208          4        3328  2010.0  January 2010-01-01"
      ]
     },
     "execution_count": 2,
     "metadata": {},
     "output_type": "execute_result"
    }
   ],
   "source": [
    "def load_filesizes(filesizes_file):\n",
    "    filesizes = pd.read_table(filesizes_file, sep='\\s+', names=['Bytes','MonthsTo2021', 'Files'])\n",
    "    \n",
    "    # Remove empty files\n",
    "    filesizes = filesizes[filesizes.loc[:,'Bytes'] != 0]\n",
    "    # Create a column for log2 of bytes\n",
    "    filesizes['BytesLog2'] = np.log2(filesizes.loc[:, 'Bytes'])\n",
    "    filesizes.loc[:,'BytesLog2'] = filesizes.loc[:,'BytesLog2'].astype(np.int64)\n",
    "    # Determine total space S used by N files of size X during date D: S=N*X \n",
    "    filesizes['SpaceUsage'] = filesizes.loc[:,'Bytes']*filesizes.loc[:,'Files']\n",
    "    # Determine file year and month from the MonthsTo2021-column\n",
    "    filesizes['TotalMonths'] = 2021*12 - filesizes['MonthsTo2021'] - 1\n",
    "    filesizes['Year'] = filesizes['TotalMonths'] // 12\n",
    "    filesizes['Month'] = filesizes['TotalMonths'] % 12 + 1\n",
    "    filesizes['Day'] = 1\n",
    "    \n",
    "    # Set year for really old files and files with incorrect timestamps\n",
    "    invalid_years = (filesizes['Year'] < 2010) | (filesizes['Year'] > 2020)\n",
    "    filesizes.loc[invalid_years, ['Year','Month']] = np.NaN\n",
    "    \n",
    "    # Get month names for the correct ordering of Month categories\n",
    "    month_names = pd.date_range(start='2000-01', freq='M', periods=12).month_name()\n",
    "    # Create Date\n",
    "    filesizes['Date'] = pd.to_datetime(filesizes[['Year', 'Month', 'Day']])\n",
    "    # Set Month\n",
    "    filesizes['Month'] = pd.Categorical(filesizes['Date'].dt.month_name(), categories=month_names, ordered=True)\n",
    "    # Set Month to be an ordered categorical with predefined levels \n",
    "    filesizes['Month'] = pd.Categorical(filesizes['Month'], categories=month_names, ordered=True)\n",
    "    # Sort data based on Date and BytesLog2\n",
    "    filesizes.sort_values(['Date','BytesLog2'], inplace=True)\n",
    "    # Remove old columns\n",
    "    filesizes.drop(['MonthsTo2021','TotalMonths', 'Day'], axis=1, inplace=True)\n",
    "    return filesizes\n",
    "\n",
    "filesizes = load_filesizes('../data/filesizes_timestamps.txt')\n",
    "filesizes.head()"
   ]
  },
  {
   "cell_type": "markdown",
   "metadata": {},
   "source": [
    "### Simple groupings and summaries - Calculating new files per year"
   ]
  },
  {
   "cell_type": "markdown",
   "metadata": {},
   "source": [
    "[resample](https://pandas.pydata.org/pandas-docs/stable/reference/api/pandas.Series.resample.html#pandas.Series.resample)"
   ]
  },
  {
   "cell_type": "code",
   "execution_count": 5,
   "metadata": {},
   "outputs": [
    {
     "data": {
      "text/html": [
       "<div>\n",
       "<style scoped>\n",
       "    .dataframe tbody tr th:only-of-type {\n",
       "        vertical-align: middle;\n",
       "    }\n",
       "\n",
       "    .dataframe tbody tr th {\n",
       "        vertical-align: top;\n",
       "    }\n",
       "\n",
       "    .dataframe thead th {\n",
       "        text-align: right;\n",
       "    }\n",
       "</style>\n",
       "<table border=\"1\" class=\"dataframe\">\n",
       "  <thead>\n",
       "    <tr style=\"text-align: right;\">\n",
       "      <th></th>\n",
       "      <th>Year</th>\n",
       "      <th>Files</th>\n",
       "    </tr>\n",
       "  </thead>\n",
       "  <tbody>\n",
       "    <tr>\n",
       "      <th>287</th>\n",
       "      <td>2010.0</td>\n",
       "      <td>5</td>\n",
       "    </tr>\n",
       "    <tr>\n",
       "      <th>451</th>\n",
       "      <td>2010.0</td>\n",
       "      <td>3</td>\n",
       "    </tr>\n",
       "    <tr>\n",
       "      <th>627</th>\n",
       "      <td>2010.0</td>\n",
       "      <td>27</td>\n",
       "    </tr>\n",
       "    <tr>\n",
       "      <th>822</th>\n",
       "      <td>2010.0</td>\n",
       "      <td>136</td>\n",
       "    </tr>\n",
       "    <tr>\n",
       "      <th>1057</th>\n",
       "      <td>2010.0</td>\n",
       "      <td>208</td>\n",
       "    </tr>\n",
       "  </tbody>\n",
       "</table>\n",
       "</div>"
      ],
      "text/plain": [
       "        Year  Files\n",
       "287   2010.0      5\n",
       "451   2010.0      3\n",
       "627   2010.0     27\n",
       "822   2010.0    136\n",
       "1057  2010.0    208"
      ]
     },
     "execution_count": 5,
     "metadata": {},
     "output_type": "execute_result"
    }
   ],
   "source": [
    "# Drop rows with NaNs (invalid years)\n",
    "newfiles_relevant = filesizes.dropna(axis=0)\n",
    "# Pick relevant columns\n",
    "newfiles_relevant = newfiles_relevant.loc[:,['Year','Files']]\n",
    "newfiles_relevant.head()"
   ]
  },
  {
   "cell_type": "code",
   "execution_count": 6,
   "metadata": {},
   "outputs": [
    {
     "name": "stdout",
     "output_type": "stream",
     "text": [
      "(4698, 2)\n",
      "(11, 1)\n"
     ]
    },
    {
     "data": {
      "text/html": [
       "<div>\n",
       "<style scoped>\n",
       "    .dataframe tbody tr th:only-of-type {\n",
       "        vertical-align: middle;\n",
       "    }\n",
       "\n",
       "    .dataframe tbody tr th {\n",
       "        vertical-align: top;\n",
       "    }\n",
       "\n",
       "    .dataframe thead th {\n",
       "        text-align: right;\n",
       "    }\n",
       "</style>\n",
       "<table border=\"1\" class=\"dataframe\">\n",
       "  <thead>\n",
       "    <tr style=\"text-align: right;\">\n",
       "      <th></th>\n",
       "      <th>Files</th>\n",
       "    </tr>\n",
       "    <tr>\n",
       "      <th>Year</th>\n",
       "      <th></th>\n",
       "    </tr>\n",
       "  </thead>\n",
       "  <tbody>\n",
       "    <tr>\n",
       "      <th>2010.0</th>\n",
       "      <td>5590287</td>\n",
       "    </tr>\n",
       "    <tr>\n",
       "      <th>2011.0</th>\n",
       "      <td>13197038</td>\n",
       "    </tr>\n",
       "    <tr>\n",
       "      <th>2012.0</th>\n",
       "      <td>17099900</td>\n",
       "    </tr>\n",
       "    <tr>\n",
       "      <th>2013.0</th>\n",
       "      <td>14755151</td>\n",
       "    </tr>\n",
       "    <tr>\n",
       "      <th>2014.0</th>\n",
       "      <td>26329321</td>\n",
       "    </tr>\n",
       "  </tbody>\n",
       "</table>\n",
       "</div>"
      ],
      "text/plain": [
       "           Files\n",
       "Year            \n",
       "2010.0   5590287\n",
       "2011.0  13197038\n",
       "2012.0  17099900\n",
       "2013.0  14755151\n",
       "2014.0  26329321"
      ]
     },
     "execution_count": 6,
     "metadata": {},
     "output_type": "execute_result"
    }
   ],
   "source": [
    "print(newfiles_relevant.shape)\n",
    "\n",
    "newfiles_yearly_sum = newfiles_relevant.groupby('Year').agg('sum')\n",
    "\n",
    "print(newfiles_yearly_sum.shape)\n",
    "newfiles_yearly_sum.head()"
   ]
  },
  {
   "cell_type": "code",
   "execution_count": 7,
   "metadata": {},
   "outputs": [
    {
     "data": {
      "text/html": [
       "<div>\n",
       "<style scoped>\n",
       "    .dataframe tbody tr th:only-of-type {\n",
       "        vertical-align: middle;\n",
       "    }\n",
       "\n",
       "    .dataframe tbody tr th {\n",
       "        vertical-align: top;\n",
       "    }\n",
       "\n",
       "    .dataframe thead th {\n",
       "        text-align: right;\n",
       "    }\n",
       "</style>\n",
       "<table border=\"1\" class=\"dataframe\">\n",
       "  <thead>\n",
       "    <tr style=\"text-align: right;\">\n",
       "      <th></th>\n",
       "      <th>Year</th>\n",
       "      <th>Files</th>\n",
       "    </tr>\n",
       "  </thead>\n",
       "  <tbody>\n",
       "    <tr>\n",
       "      <th>0</th>\n",
       "      <td>2010.0</td>\n",
       "      <td>5590287</td>\n",
       "    </tr>\n",
       "    <tr>\n",
       "      <th>1</th>\n",
       "      <td>2011.0</td>\n",
       "      <td>13197038</td>\n",
       "    </tr>\n",
       "    <tr>\n",
       "      <th>2</th>\n",
       "      <td>2012.0</td>\n",
       "      <td>17099900</td>\n",
       "    </tr>\n",
       "    <tr>\n",
       "      <th>3</th>\n",
       "      <td>2013.0</td>\n",
       "      <td>14755151</td>\n",
       "    </tr>\n",
       "    <tr>\n",
       "      <th>4</th>\n",
       "      <td>2014.0</td>\n",
       "      <td>26329321</td>\n",
       "    </tr>\n",
       "  </tbody>\n",
       "</table>\n",
       "</div>"
      ],
      "text/plain": [
       "     Year     Files\n",
       "0  2010.0   5590287\n",
       "1  2011.0  13197038\n",
       "2  2012.0  17099900\n",
       "3  2013.0  14755151\n",
       "4  2014.0  26329321"
      ]
     },
     "execution_count": 7,
     "metadata": {},
     "output_type": "execute_result"
    }
   ],
   "source": [
    "newfiles_yearly_sum.reset_index(inplace=True)\n",
    "\n",
    "newfiles_yearly_sum.head()"
   ]
  },
  {
   "cell_type": "code",
   "execution_count": 8,
   "metadata": {},
   "outputs": [
    {
     "data": {
      "image/png": "[encoded data removed]",
      "text/plain": [
       "<Figure size 432x288 with 1 Axes>"
      ]
     },
     "metadata": {
      "needs_background": "light"
     },
     "output_type": "display_data"
    }
   ],
   "source": [
    "sb.barplot(x='Year', y='Files', data=newfiles_yearly_sum, ci=None)\n",
    "plt.savefig('newfiles_yearly_sum_python.svg')"
   ]
  },
  {
   "cell_type": "markdown",
   "metadata": {},
   "source": [
    "### Creating a function for many different summaries"
   ]
  },
  {
   "cell_type": "code",
   "execution_count": 4,
   "metadata": {},
   "outputs": [
    {
     "data": {
      "text/html": [
       "<div>\n",
       "<style scoped>\n",
       "    .dataframe tbody tr th:only-of-type {\n",
       "        vertical-align: middle;\n",
       "    }\n",
       "\n",
       "    .dataframe tbody tr th {\n",
       "        vertical-align: top;\n",
       "    }\n",
       "\n",
       "    .dataframe thead th {\n",
       "        text-align: right;\n",
       "    }\n",
       "</style>\n",
       "<table border=\"1\" class=\"dataframe\">\n",
       "  <thead>\n",
       "    <tr style=\"text-align: right;\">\n",
       "      <th></th>\n",
       "      <th>Year</th>\n",
       "      <th>Files</th>\n",
       "    </tr>\n",
       "  </thead>\n",
       "  <tbody>\n",
       "    <tr>\n",
       "      <th>0</th>\n",
       "      <td>2010.0</td>\n",
       "      <td>5590287</td>\n",
       "    </tr>\n",
       "    <tr>\n",
       "      <th>1</th>\n",
       "      <td>2011.0</td>\n",
       "      <td>13197038</td>\n",
       "    </tr>\n",
       "    <tr>\n",
       "      <th>2</th>\n",
       "      <td>2012.0</td>\n",
       "      <td>17099900</td>\n",
       "    </tr>\n",
       "    <tr>\n",
       "      <th>3</th>\n",
       "      <td>2013.0</td>\n",
       "      <td>14755151</td>\n",
       "    </tr>\n",
       "    <tr>\n",
       "      <th>4</th>\n",
       "      <td>2014.0</td>\n",
       "      <td>26329321</td>\n",
       "    </tr>\n",
       "  </tbody>\n",
       "</table>\n",
       "</div>"
      ],
      "text/plain": [
       "     Year     Files\n",
       "0  2010.0   5590287\n",
       "1  2011.0  13197038\n",
       "2  2012.0  17099900\n",
       "3  2013.0  14755151\n",
       "4  2014.0  26329321"
      ]
     },
     "execution_count": 4,
     "metadata": {},
     "output_type": "execute_result"
    }
   ],
   "source": [
    "def aggregate_filesize_data(data, groupings, targets, agg_function):\n",
    "    # Drop rows with NaNs (invalid years)\n",
    "    data_relevant = data.dropna(axis=0)\n",
    "    # Pick relevant columns\n",
    "    data_relevant = data_relevant.loc[:, groupings + targets]\n",
    "    # Change grouping to category for prettier plotting\n",
    "    data_relevant[groupings] = data_relevant[groupings].astype('category')\n",
    "\n",
    "    # Aggregate data\n",
    "    data_aggregated = data_relevant.groupby(groupings).agg(agg_function).reset_index()\n",
    "    return data_aggregated\n",
    "\n",
    "newfiles_yearly_sum = aggregate_filesize_data(filesizes, ['Year'], ['Files'], 'sum')\n",
    "newfiles_yearly_sum.head()"
   ]
  },
  {
   "cell_type": "code",
   "execution_count": 10,
   "metadata": {},
   "outputs": [
    {
     "name": "stdout",
     "output_type": "stream",
     "text": [
      "   Year     Files      SpaceUsage\n",
      "0  2010   5590287   2260716407068\n",
      "1  2011  13197038   7000732111463\n",
      "2  2012  17099900  15475575370580\n",
      "3  2013  14755151  15445375302767\n",
      "4  2014  26329321  42530364324322\n",
      "      Month     Files      SpaceUsage\n",
      "0   January  34921070  43131219269056\n",
      "1  February  35707864  71022501061692\n",
      "2     March  25494722  56516865081262\n",
      "3     April  31224476  75382094990077\n",
      "4       May  37816173  75338621861676\n"
     ]
    },
    {
     "data": {
      "image/png": "[encoded data removed]",
      "text/plain": [
       "<Figure size 576x1152 with 4 Axes>"
      ]
     },
     "metadata": {
      "needs_background": "light"
     },
     "output_type": "display_data"
    }
   ],
   "source": [
    "yearly_sum = aggregate_filesize_data(filesizes, ['Year'], ['Files', 'SpaceUsage'], 'sum')\n",
    "monthly_sum = aggregate_filesize_data(filesizes, ['Month'], ['Files', 'SpaceUsage'], 'sum')\n",
    "\n",
    "yearly_sum['Year'] = yearly_sum['Year'].astype(int).astype('category')\n",
    "\n",
    "print(yearly_sum.head())\n",
    "print(monthly_sum.head())\n",
    "\n",
    "fig, ((ax1, ax2, ax3, ax4))=plt.subplots(nrows=4, figsize=(8,16))\n",
    "sb.barplot(x='Year', y='Files', data=yearly_sum, ci=None, ax=ax1)\n",
    "sb.barplot(x='Year', y='SpaceUsage', data=yearly_sum, ci=None, ax=ax2)\n",
    "sb.barplot(x='Month', y='Files', data=monthly_sum, ci=None, ax=ax3)\n",
    "sb.barplot(x='Month', y='SpaceUsage', data=monthly_sum, ci=None, ax=ax4)\n",
    "plt.tight_layout()"
   ]
  },
  {
   "cell_type": "markdown",
   "metadata": {},
   "source": [
    "## Using bootstrapping/resampling methods for the calculation of statistical moments"
   ]
  },
  {
   "cell_type": "markdown",
   "metadata": {},
   "source": [
    "### Quick overview of bootstrapping"
   ]
  },
  {
   "cell_type": "code",
   "execution_count": 30,
   "metadata": {},
   "outputs": [
    {
     "data": {
      "text/html": [
       "<div>\n",
       "<style scoped>\n",
       "    .dataframe tbody tr th:only-of-type {\n",
       "        vertical-align: middle;\n",
       "    }\n",
       "\n",
       "    .dataframe tbody tr th {\n",
       "        vertical-align: top;\n",
       "    }\n",
       "\n",
       "    .dataframe thead th {\n",
       "        text-align: right;\n",
       "    }\n",
       "</style>\n",
       "<table border=\"1\" class=\"dataframe\">\n",
       "  <thead>\n",
       "    <tr style=\"text-align: right;\">\n",
       "      <th></th>\n",
       "      <th></th>\n",
       "      <th>Files</th>\n",
       "    </tr>\n",
       "    <tr>\n",
       "      <th>Year</th>\n",
       "      <th>BytesLog2</th>\n",
       "      <th></th>\n",
       "    </tr>\n",
       "  </thead>\n",
       "  <tbody>\n",
       "    <tr>\n",
       "      <th rowspan=\"5\" valign=\"top\">2010.0</th>\n",
       "      <th>0</th>\n",
       "      <td>124</td>\n",
       "    </tr>\n",
       "    <tr>\n",
       "      <th>1</th>\n",
       "      <td>1632</td>\n",
       "    </tr>\n",
       "    <tr>\n",
       "      <th>2</th>\n",
       "      <td>5626</td>\n",
       "    </tr>\n",
       "    <tr>\n",
       "      <th>3</th>\n",
       "      <td>26287</td>\n",
       "    </tr>\n",
       "    <tr>\n",
       "      <th>4</th>\n",
       "      <td>65074</td>\n",
       "    </tr>\n",
       "  </tbody>\n",
       "</table>\n",
       "</div>"
      ],
      "text/plain": [
       "                  Files\n",
       "Year   BytesLog2       \n",
       "2010.0 0            124\n",
       "       1           1632\n",
       "       2           5626\n",
       "       3          26287\n",
       "       4          65074"
      ]
     },
     "execution_count": 30,
     "metadata": {},
     "output_type": "execute_result"
    }
   ],
   "source": [
    "# Drop rows with NaNs (invalid years)\n",
    "newfiles_relevant2 = filesizes.dropna(axis=0)\n",
    "# Pick relevant columns\n",
    "newfiles_relevant2 = newfiles_relevant2.loc[:,['Year','BytesLog2','Files']]\n",
    "# Aggregate based on Year and BytesLog2\n",
    "newfiles_yearly_sum2 = newfiles_relevant2.groupby(['Year','BytesLog2']).agg('sum')\n",
    "\n",
    "newfiles_yearly_sum2.head()"
   ]
  },
  {
   "cell_type": "code",
   "execution_count": 174,
   "metadata": {},
   "outputs": [
    {
     "data": {
      "image/png": "[encoded data removed]",
      "text/plain": [
       "<Figure size 864x432 with 1 Axes>"
      ]
     },
     "metadata": {
      "needs_background": "light"
     },
     "output_type": "display_data"
    }
   ],
   "source": [
    "yearly_bytes_sum = aggregate_filesize_data(filesizes, ['Year','BytesLog2'], ['Files', 'SpaceUsage'], 'sum')\n",
    "\n",
    "bytes_2020 = yearly_bytes_sum[yearly_bytes_sum['Year'] == 2020]\n",
    "\n",
    "plt.figure(figsize=(12,6))\n",
    "sb.barplot(x='BytesLog2', y='Files', data=bytes_2020, ci=None)\n",
    "plt.title(2020)\n",
    "plt.tight_layout()\n",
    "plt.savefig('file-distribution-2020.svg')"
   ]
  },
  {
   "cell_type": "code",
   "execution_count": 179,
   "metadata": {},
   "outputs": [
    {
     "data": {
      "text/html": [
       "<div>\n",
       "<style scoped>\n",
       "    .dataframe tbody tr th:only-of-type {\n",
       "        vertical-align: middle;\n",
       "    }\n",
       "\n",
       "    .dataframe tbody tr th {\n",
       "        vertical-align: top;\n",
       "    }\n",
       "\n",
       "    .dataframe thead th {\n",
       "        text-align: right;\n",
       "    }\n",
       "</style>\n",
       "<table border=\"1\" class=\"dataframe\">\n",
       "  <thead>\n",
       "    <tr style=\"text-align: right;\">\n",
       "      <th></th>\n",
       "      <th>Year</th>\n",
       "      <th>BytesLog2</th>\n",
       "      <th>Files</th>\n",
       "      <th>SpaceUsage</th>\n",
       "    </tr>\n",
       "  </thead>\n",
       "  <tbody>\n",
       "    <tr>\n",
       "      <th>430</th>\n",
       "      <td>2020.0</td>\n",
       "      <td>0</td>\n",
       "      <td>16939.0</td>\n",
       "      <td>16939.0</td>\n",
       "    </tr>\n",
       "    <tr>\n",
       "      <th>431</th>\n",
       "      <td>2020.0</td>\n",
       "      <td>1</td>\n",
       "      <td>100476.0</td>\n",
       "      <td>200952.0</td>\n",
       "    </tr>\n",
       "    <tr>\n",
       "      <th>432</th>\n",
       "      <td>2020.0</td>\n",
       "      <td>2</td>\n",
       "      <td>76145.0</td>\n",
       "      <td>304580.0</td>\n",
       "    </tr>\n",
       "    <tr>\n",
       "      <th>433</th>\n",
       "      <td>2020.0</td>\n",
       "      <td>3</td>\n",
       "      <td>383462.0</td>\n",
       "      <td>3067696.0</td>\n",
       "    </tr>\n",
       "    <tr>\n",
       "      <th>434</th>\n",
       "      <td>2020.0</td>\n",
       "      <td>4</td>\n",
       "      <td>754432.0</td>\n",
       "      <td>12070912.0</td>\n",
       "    </tr>\n",
       "  </tbody>\n",
       "</table>\n",
       "</div>"
      ],
      "text/plain": [
       "       Year BytesLog2     Files  SpaceUsage\n",
       "430  2020.0         0   16939.0     16939.0\n",
       "431  2020.0         1  100476.0    200952.0\n",
       "432  2020.0         2   76145.0    304580.0\n",
       "433  2020.0         3  383462.0   3067696.0\n",
       "434  2020.0         4  754432.0  12070912.0"
      ]
     },
     "execution_count": 179,
     "metadata": {},
     "output_type": "execute_result"
    }
   ],
   "source": [
    "bytes_2020.head()"
   ]
  },
  {
   "cell_type": "code",
   "execution_count": 184,
   "metadata": {},
   "outputs": [
    {
     "name": "stdout",
     "output_type": "stream",
     "text": [
      "430    0\n",
      "431    1\n",
      "432    2\n",
      "433    3\n",
      "434    4\n",
      "Name: BytesLog2, dtype: int64\n",
      "430    0.000327\n",
      "431    0.001940\n",
      "432    0.001471\n",
      "433    0.007406\n",
      "434    0.014570\n",
      "Name: Files, dtype: float64\n"
     ]
    }
   ],
   "source": [
    "# Pick target data column and convert it to integer\n",
    "target_data = bytes_2020['BytesLog2'].copy().astype('int')\n",
    "# Pick weight data column\n",
    "weight_data = bytes_2020['Files'].copy()\n",
    "\n",
    "# IMPORTANT:\n",
    "#    There might be categories in BytesLog2 that do not contain any data.\n",
    "#    We'll have to fill zeros to those rows of Files.\n",
    "weight_data.fillna(0, inplace=True)\n",
    "\n",
    "# Normalize weight_data into probabilities\n",
    "weight_data = weight_data/weight_data.sum()\n",
    "\n",
    "print(target_data.head())\n",
    "print(weight_data.head())"
   ]
  },
  {
   "cell_type": "code",
   "execution_count": 273,
   "metadata": {},
   "outputs": [
    {
     "name": "stdout",
     "output_type": "stream",
     "text": [
      "Estimated sample mean: 13.437999999999999\n"
     ]
    }
   ],
   "source": [
    "# Create means vector\n",
    "means = np.zeros(10, dtype=np.float64)\n",
    "for i in range(10):\n",
    "    # Calculate resampled mean\n",
    "    means[i] = np.mean(np.random.choice(target_data, 100, replace=True, p=weight_data))\n",
    "means = pd.Series({'SampledMeans': means})\n",
    "print('Estimated sample mean:', means['SampledMeans'].mean())"
   ]
  },
  {
   "cell_type": "code",
   "execution_count": 274,
   "metadata": {},
   "outputs": [
    {
     "name": "stdout",
     "output_type": "stream",
     "text": [
      "SampledMeans    [12.78, 13.34, 13.64, 13.26, 13.09, 12.67, 13....\n",
      "dtype: object\n",
      "Estimated sample mean: 13.242120000000002\n"
     ]
    }
   ],
   "source": [
    "def get_bootstrapped_means(dataset, target_col, weight_col, n_means=1000):\n",
    "    # Pick relevant columns\n",
    "    df = dataset[[target_col, weight_col]].copy()\n",
    "    # Pick target data column\n",
    "    target_data = df[target_col]\n",
    "    # Pick weight data column\n",
    "    weight_data = df[weight_col]\n",
    "    # Fill zeros to those byte sizes that are not present in the Files-data\n",
    "    weight_data.fillna(0, inplace=True)\n",
    "    # Normalize weight_data into probabilities\n",
    "    weight_data = weight_data/weight_data.sum()\n",
    "    \n",
    "    # Create means vector\n",
    "    means = np.zeros(n_means, dtype=np.float64)\n",
    "    for i in range(n_means):\n",
    "        # Calculate resampled mean\n",
    "        means[i] = np.mean(np.random.choice(target_data, 100, replace=True, p=weight_data))\n",
    "\n",
    "    # Store results as a DataFrame\n",
    "    means = pd.Series({'SampledMeans': means})\n",
    "\n",
    "    return means\n",
    "\n",
    "bootstrapped_means = get_bootstrapped_means(bytes_2020, 'BytesLog2', 'Files', n_means=1000)\n",
    "print(bootstrapped_means.head())\n",
    "print('Estimated sample mean:', bootstrapped_means['SampledMeans'].mean())"
   ]
  },
  {
   "cell_type": "markdown",
   "metadata": {},
   "source": [
    "### Using nested dataframes to help with bootstrapping"
   ]
  },
  {
   "cell_type": "code",
   "execution_count": 281,
   "metadata": {},
   "outputs": [
    {
     "data": {
      "text/html": [
       "<div>\n",
       "<style scoped>\n",
       "    .dataframe tbody tr th:only-of-type {\n",
       "        vertical-align: middle;\n",
       "    }\n",
       "\n",
       "    .dataframe tbody tr th {\n",
       "        vertical-align: top;\n",
       "    }\n",
       "\n",
       "    .dataframe thead th {\n",
       "        text-align: right;\n",
       "    }\n",
       "</style>\n",
       "<table border=\"1\" class=\"dataframe\">\n",
       "  <thead>\n",
       "    <tr style=\"text-align: right;\">\n",
       "      <th></th>\n",
       "      <th>SampledMeans</th>\n",
       "    </tr>\n",
       "    <tr>\n",
       "      <th>Year</th>\n",
       "      <th></th>\n",
       "    </tr>\n",
       "  </thead>\n",
       "  <tbody>\n",
       "    <tr>\n",
       "      <th>2010.0</th>\n",
       "      <td>[12.9, 13.76, 13.73, 12.87, 12.34]</td>\n",
       "    </tr>\n",
       "    <tr>\n",
       "      <th>2011.0</th>\n",
       "      <td>[13.76, 14.19, 14.08, 14.21, 13.39]</td>\n",
       "    </tr>\n",
       "    <tr>\n",
       "      <th>2012.0</th>\n",
       "      <td>[11.51, 11.75, 11.27, 10.35, 11.0]</td>\n",
       "    </tr>\n",
       "    <tr>\n",
       "      <th>2013.0</th>\n",
       "      <td>[14.3, 13.37, 13.42, 13.88, 13.42]</td>\n",
       "    </tr>\n",
       "    <tr>\n",
       "      <th>2014.0</th>\n",
       "      <td>[14.09, 13.54, 14.13, 13.23, 13.53]</td>\n",
       "    </tr>\n",
       "  </tbody>\n",
       "</table>\n",
       "</div>"
      ],
      "text/plain": [
       "                               SampledMeans\n",
       "Year                                       \n",
       "2010.0   [12.9, 13.76, 13.73, 12.87, 12.34]\n",
       "2011.0  [13.76, 14.19, 14.08, 14.21, 13.39]\n",
       "2012.0   [11.51, 11.75, 11.27, 10.35, 11.0]\n",
       "2013.0   [14.3, 13.37, 13.42, 13.88, 13.42]\n",
       "2014.0  [14.09, 13.54, 14.13, 13.23, 13.53]"
      ]
     },
     "execution_count": 281,
     "metadata": {},
     "output_type": "execute_result"
    }
   ],
   "source": [
    "bootstrapped_means = yearly_bytes_sum.groupby('Year').apply(lambda x: get_bootstrapped_means(x, 'BytesLog2', 'Files', n_means=5))\n",
    "bootstrapped_means.head()"
   ]
  },
  {
   "cell_type": "code",
   "execution_count": 280,
   "metadata": {},
   "outputs": [
    {
     "data": {
      "text/html": [
       "<div>\n",
       "<style scoped>\n",
       "    .dataframe tbody tr th:only-of-type {\n",
       "        vertical-align: middle;\n",
       "    }\n",
       "\n",
       "    .dataframe tbody tr th {\n",
       "        vertical-align: top;\n",
       "    }\n",
       "\n",
       "    .dataframe thead th {\n",
       "        text-align: right;\n",
       "    }\n",
       "</style>\n",
       "<table border=\"1\" class=\"dataframe\">\n",
       "  <thead>\n",
       "    <tr style=\"text-align: right;\">\n",
       "      <th></th>\n",
       "      <th>SampledMeans</th>\n",
       "      <th>Mean</th>\n",
       "    </tr>\n",
       "    <tr>\n",
       "      <th>Year</th>\n",
       "      <th></th>\n",
       "      <th></th>\n",
       "    </tr>\n",
       "  </thead>\n",
       "  <tbody>\n",
       "    <tr>\n",
       "      <th>2010.0</th>\n",
       "      <td>[13.08, 13.14, 12.3, 13.29, 12.82]</td>\n",
       "      <td>12.926</td>\n",
       "    </tr>\n",
       "    <tr>\n",
       "      <th>2011.0</th>\n",
       "      <td>[13.87, 14.13, 13.94, 14.3, 14.14]</td>\n",
       "      <td>14.076</td>\n",
       "    </tr>\n",
       "    <tr>\n",
       "      <th>2012.0</th>\n",
       "      <td>[10.97, 11.49, 9.76, 11.31, 9.89]</td>\n",
       "      <td>10.684</td>\n",
       "    </tr>\n",
       "    <tr>\n",
       "      <th>2013.0</th>\n",
       "      <td>[13.01, 13.26, 13.71, 14.54, 13.2]</td>\n",
       "      <td>13.544</td>\n",
       "    </tr>\n",
       "    <tr>\n",
       "      <th>2014.0</th>\n",
       "      <td>[13.72, 14.14, 14.33, 14.09, 14.34]</td>\n",
       "      <td>14.124</td>\n",
       "    </tr>\n",
       "  </tbody>\n",
       "</table>\n",
       "</div>"
      ],
      "text/plain": [
       "                               SampledMeans    Mean\n",
       "Year                                               \n",
       "2010.0   [13.08, 13.14, 12.3, 13.29, 12.82]  12.926\n",
       "2011.0   [13.87, 14.13, 13.94, 14.3, 14.14]  14.076\n",
       "2012.0    [10.97, 11.49, 9.76, 11.31, 9.89]  10.684\n",
       "2013.0   [13.01, 13.26, 13.71, 14.54, 13.2]  13.544\n",
       "2014.0  [13.72, 14.14, 14.33, 14.09, 14.34]  14.124"
      ]
     },
     "execution_count": 280,
     "metadata": {},
     "output_type": "execute_result"
    }
   ],
   "source": [
    "bootstrapped_means['Mean'] = bootstrapped_means['SampledMeans'].apply(np.mean)\n",
    "bootstrapped_means.head()"
   ]
  },
  {
   "cell_type": "code",
   "execution_count": 194,
   "metadata": {},
   "outputs": [
    {
     "data": {
      "text/html": [
       "<div>\n",
       "<style scoped>\n",
       "    .dataframe tbody tr th:only-of-type {\n",
       "        vertical-align: middle;\n",
       "    }\n",
       "\n",
       "    .dataframe tbody tr th {\n",
       "        vertical-align: top;\n",
       "    }\n",
       "\n",
       "    .dataframe thead th {\n",
       "        text-align: right;\n",
       "    }\n",
       "</style>\n",
       "<table border=\"1\" class=\"dataframe\">\n",
       "  <thead>\n",
       "    <tr style=\"text-align: right;\">\n",
       "      <th></th>\n",
       "      <th>Year</th>\n",
       "      <th>SampledMeans</th>\n",
       "      <th>Mean</th>\n",
       "    </tr>\n",
       "  </thead>\n",
       "  <tbody>\n",
       "    <tr>\n",
       "      <th>0</th>\n",
       "      <td>2010.0</td>\n",
       "      <td>[13.35, 12.98, 13.44, 12.46, 12.65, 13.81, 12....</td>\n",
       "      <td>12.98118</td>\n",
       "    </tr>\n",
       "    <tr>\n",
       "      <th>1</th>\n",
       "      <td>2011.0</td>\n",
       "      <td>[13.86, 13.98, 13.91, 14.3, 14.28, 14.04, 14.4...</td>\n",
       "      <td>14.04189</td>\n",
       "    </tr>\n",
       "    <tr>\n",
       "      <th>2</th>\n",
       "      <td>2012.0</td>\n",
       "      <td>[10.17, 10.87, 10.6, 11.24, 10.98, 11.79, 9.95...</td>\n",
       "      <td>10.67544</td>\n",
       "    </tr>\n",
       "    <tr>\n",
       "      <th>3</th>\n",
       "      <td>2013.0</td>\n",
       "      <td>[13.53, 13.68, 12.81, 13.72, 13.09, 13.43, 13....</td>\n",
       "      <td>13.41218</td>\n",
       "    </tr>\n",
       "    <tr>\n",
       "      <th>4</th>\n",
       "      <td>2014.0</td>\n",
       "      <td>[14.05, 13.97, 13.79, 14.52, 14.05, 14.14, 14....</td>\n",
       "      <td>14.05093</td>\n",
       "    </tr>\n",
       "    <tr>\n",
       "      <th>5</th>\n",
       "      <td>2015.0</td>\n",
       "      <td>[11.07, 11.97, 12.18, 12.49, 10.93, 12.1, 11.4...</td>\n",
       "      <td>11.75813</td>\n",
       "    </tr>\n",
       "    <tr>\n",
       "      <th>6</th>\n",
       "      <td>2016.0</td>\n",
       "      <td>[13.59, 13.9, 13.56, 13.69, 13.98, 13.67, 13.7...</td>\n",
       "      <td>13.55840</td>\n",
       "    </tr>\n",
       "    <tr>\n",
       "      <th>7</th>\n",
       "      <td>2017.0</td>\n",
       "      <td>[11.75, 12.11, 12.54, 12.72, 12.13, 12.24, 12....</td>\n",
       "      <td>11.98268</td>\n",
       "    </tr>\n",
       "    <tr>\n",
       "      <th>8</th>\n",
       "      <td>2018.0</td>\n",
       "      <td>[13.5, 13.23, 13.45, 13.3, 13.23, 13.34, 13.11...</td>\n",
       "      <td>13.27604</td>\n",
       "    </tr>\n",
       "    <tr>\n",
       "      <th>9</th>\n",
       "      <td>2019.0</td>\n",
       "      <td>[13.06, 14.02, 13.75, 13.75, 13.57, 14.08, 13....</td>\n",
       "      <td>13.69974</td>\n",
       "    </tr>\n",
       "    <tr>\n",
       "      <th>10</th>\n",
       "      <td>2020.0</td>\n",
       "      <td>[13.87, 12.79, 13.95, 13.23, 13.16, 13.69, 12....</td>\n",
       "      <td>13.22919</td>\n",
       "    </tr>\n",
       "  </tbody>\n",
       "</table>\n",
       "</div>"
      ],
      "text/plain": [
       "      Year                                       SampledMeans      Mean\n",
       "0   2010.0  [13.35, 12.98, 13.44, 12.46, 12.65, 13.81, 12....  12.98118\n",
       "1   2011.0  [13.86, 13.98, 13.91, 14.3, 14.28, 14.04, 14.4...  14.04189\n",
       "2   2012.0  [10.17, 10.87, 10.6, 11.24, 10.98, 11.79, 9.95...  10.67544\n",
       "3   2013.0  [13.53, 13.68, 12.81, 13.72, 13.09, 13.43, 13....  13.41218\n",
       "4   2014.0  [14.05, 13.97, 13.79, 14.52, 14.05, 14.14, 14....  14.05093\n",
       "5   2015.0  [11.07, 11.97, 12.18, 12.49, 10.93, 12.1, 11.4...  11.75813\n",
       "6   2016.0  [13.59, 13.9, 13.56, 13.69, 13.98, 13.67, 13.7...  13.55840\n",
       "7   2017.0  [11.75, 12.11, 12.54, 12.72, 12.13, 12.24, 12....  11.98268\n",
       "8   2018.0  [13.5, 13.23, 13.45, 13.3, 13.23, 13.34, 13.11...  13.27604\n",
       "9   2019.0  [13.06, 14.02, 13.75, 13.75, 13.57, 14.08, 13....  13.69974\n",
       "10  2020.0  [13.87, 12.79, 13.95, 13.23, 13.16, 13.69, 12....  13.22919"
      ]
     },
     "execution_count": 194,
     "metadata": {},
     "output_type": "execute_result"
    }
   ],
   "source": [
    "def bootstrap_byteslog2_mean(dataset, group_variable, target_variable, n_means=1000):\n",
    "    \n",
    "    # Create dataframe for our means\n",
    "    means = pd.DataFrame({group_variable: list(dataset[group_variable].unique())})\n",
    "    # Get data from dataset based on our group variable\n",
    "    means['Data'] = means[group_variable].apply(lambda x: dataset.loc[dataset.loc[:,group_variable] == x])\n",
    "    # Get SampledMeans = get_bootstrapped_means(Data)\n",
    "    means['SampledMeans'] = means['Data'].apply(lambda data: get_bootstrapped_means(data, 'BytesLog2', target_variable, n_means=n_means))\n",
    "    # Get Mean = mean(SampledMeans)\n",
    "    means['Mean'] = means['SampledMeans'].apply(np.mean)\n",
    "    # Drop Data-column\n",
    "    means.drop('Data', axis=1, inplace=True)\n",
    "    return means\n",
    "\n",
    "bootstrapped_means = bootstrap_byteslog2_mean(yearly_bytes_sum, 'Year', 'Files', n_means=1000)\n",
    "bootstrapped_means"
   ]
  },
  {
   "cell_type": "code",
   "execution_count": 195,
   "metadata": {},
   "outputs": [],
   "source": [
    "bootstrapped_means_distribution = bootstrapped_means.explode('SampledMeans')"
   ]
  },
  {
   "cell_type": "code",
   "execution_count": 196,
   "metadata": {},
   "outputs": [
    {
     "data": {
      "image/png": "[encoded data removed]",
      "text/plain": [
       "<Figure size 1152x216 with 2 Axes>"
      ]
     },
     "metadata": {
      "needs_background": "light"
     },
     "output_type": "display_data"
    },
    {
     "data": {
      "image/png": "[encoded data removed]",
      "text/plain": [
       "<Figure size 1152x216 with 2 Axes>"
      ]
     },
     "metadata": {
      "needs_background": "light"
     },
     "output_type": "display_data"
    },
    {
     "data": {
      "image/png": "[encoded data removed]",
      "text/plain": [
       "<Figure size 1152x216 with 2 Axes>"
      ]
     },
     "metadata": {
      "needs_background": "light"
     },
     "output_type": "display_data"
    },
    {
     "data": {
      "image/png": "[encoded data removed]",
      "text/plain": [
       "<Figure size 1152x216 with 2 Axes>"
      ]
     },
     "metadata": {
      "needs_background": "light"
     },
     "output_type": "display_data"
    },
    {
     "data": {
      "image/png": "[encoded data removed]",
      "text/plain": [
       "<Figure size 1152x216 with 2 Axes>"
      ]
     },
     "metadata": {
      "needs_background": "light"
     },
     "output_type": "display_data"
    },
    {
     "data": {
      "image/png": "[encoded data removed]",
      "text/plain": [
       "<Figure size 1152x216 with 2 Axes>"
      ]
     },
     "metadata": {
      "needs_background": "light"
     },
     "output_type": "display_data"
    },
    {
     "data": {
      "image/png": "[encoded data removed]",
      "text/plain": [
       "<Figure size 1152x216 with 2 Axes>"
      ]
     },
     "metadata": {
      "needs_background": "light"
     },
     "output_type": "display_data"
    },
    {
     "data": {
      "image/png": "[encoded data removed]",
      "text/plain": [
       "<Figure size 1152x216 with 2 Axes>"
      ]
     },
     "metadata": {
      "needs_background": "light"
     },
     "output_type": "display_data"
    },
    {
     "data": {
      "image/png": "[encoded data removed]",
      "text/plain": [
       "<Figure size 1152x216 with 2 Axes>"
      ]
     },
     "metadata": {
      "needs_background": "light"
     },
     "output_type": "display_data"
    },
    {
     "data": {
      "image/png": "[encoded data removed]",
      "text/plain": [
       "<Figure size 1152x216 with 2 Axes>"
      ]
     },
     "metadata": {
      "needs_background": "light"
     },
     "output_type": "display_data"
    },
    {
     "data": {
      "image/png": "[encoded data removed]",
      "text/plain": [
       "<Figure size 1152x216 with 2 Axes>"
      ]
     },
     "metadata": {
      "needs_background": "light"
     },
     "output_type": "display_data"
    }
   ],
   "source": [
    "for (year, real_data), (year_sampled, bootstrapped_data) in zip(yearly_bytes_sum.groupby('Year'), bootstrapped_means_distribution.groupby('Year')):\n",
    "    figure, (ax1, ax2) = plt.subplots(1,2,figsize=(16,3))\n",
    "    sb.barplot(x='BytesLog2', y='Files', data=real_data, ci=None, ax=ax1)\n",
    "    sb.histplot(x='SampledMeans', binwidth=0.5, data=bootstrapped_data, ax=ax2)\n",
    "    plt.xlim(left=min(yearly_bytes_sum['BytesLog2']), right=max(yearly_bytes_sum['BytesLog2']))"
   ]
  },
  {
   "cell_type": "code",
   "execution_count": 90,
   "metadata": {},
   "outputs": [
    {
     "data": {
      "text/plain": [
       "<AxesSubplot:xlabel='SampledMeans', ylabel='Count'>"
      ]
     },
     "execution_count": 90,
     "metadata": {},
     "output_type": "execute_result"
    },
    {
     "data": {
      "image/png": "[encoded data removed]",
      "text/plain": [
       "<Figure size 432x288 with 1 Axes>"
      ]
     },
     "metadata": {
      "needs_background": "light"
     },
     "output_type": "display_data"
    }
   ],
   "source": []
  },
  {
   "cell_type": "code",
   "execution_count": null,
   "metadata": {},
   "outputs": [],
   "source": []
  },
  {
   "cell_type": "markdown",
   "metadata": {},
   "source": [
    "## Fitting functions to data"
   ]
  },
  {
   "cell_type": "code",
   "execution_count": 127,
   "metadata": {},
   "outputs": [
    {
     "data": {
      "text/html": [
       "<div>\n",
       "<style scoped>\n",
       "    .dataframe tbody tr th:only-of-type {\n",
       "        vertical-align: middle;\n",
       "    }\n",
       "\n",
       "    .dataframe tbody tr th {\n",
       "        vertical-align: top;\n",
       "    }\n",
       "\n",
       "    .dataframe thead th {\n",
       "        text-align: right;\n",
       "    }\n",
       "</style>\n",
       "<table border=\"1\" class=\"dataframe\">\n",
       "  <thead>\n",
       "    <tr style=\"text-align: right;\">\n",
       "      <th></th>\n",
       "      <th>Year</th>\n",
       "      <th>SpaceUsage</th>\n",
       "    </tr>\n",
       "  </thead>\n",
       "  <tbody>\n",
       "    <tr>\n",
       "      <th>0</th>\n",
       "      <td>2010.0</td>\n",
       "      <td>2260716407068</td>\n",
       "    </tr>\n",
       "    <tr>\n",
       "      <th>1</th>\n",
       "      <td>2011.0</td>\n",
       "      <td>9261448518531</td>\n",
       "    </tr>\n",
       "    <tr>\n",
       "      <th>2</th>\n",
       "      <td>2012.0</td>\n",
       "      <td>24737023889111</td>\n",
       "    </tr>\n",
       "    <tr>\n",
       "      <th>3</th>\n",
       "      <td>2013.0</td>\n",
       "      <td>40182399191878</td>\n",
       "    </tr>\n",
       "    <tr>\n",
       "      <th>4</th>\n",
       "      <td>2014.0</td>\n",
       "      <td>82712763516200</td>\n",
       "    </tr>\n",
       "    <tr>\n",
       "      <th>5</th>\n",
       "      <td>2015.0</td>\n",
       "      <td>113678139549675</td>\n",
       "    </tr>\n",
       "    <tr>\n",
       "      <th>6</th>\n",
       "      <td>2016.0</td>\n",
       "      <td>159336339085494</td>\n",
       "    </tr>\n",
       "    <tr>\n",
       "      <th>7</th>\n",
       "      <td>2017.0</td>\n",
       "      <td>255751151670398</td>\n",
       "    </tr>\n",
       "    <tr>\n",
       "      <th>8</th>\n",
       "      <td>2018.0</td>\n",
       "      <td>370654215378823</td>\n",
       "    </tr>\n",
       "    <tr>\n",
       "      <th>9</th>\n",
       "      <td>2019.0</td>\n",
       "      <td>535782769009105</td>\n",
       "    </tr>\n",
       "    <tr>\n",
       "      <th>10</th>\n",
       "      <td>2020.0</td>\n",
       "      <td>673398829413800</td>\n",
       "    </tr>\n",
       "  </tbody>\n",
       "</table>\n",
       "</div>"
      ],
      "text/plain": [
       "      Year       SpaceUsage\n",
       "0   2010.0    2260716407068\n",
       "1   2011.0    9261448518531\n",
       "2   2012.0   24737023889111\n",
       "3   2013.0   40182399191878\n",
       "4   2014.0   82712763516200\n",
       "5   2015.0  113678139549675\n",
       "6   2016.0  159336339085494\n",
       "7   2017.0  255751151670398\n",
       "8   2018.0  370654215378823\n",
       "9   2019.0  535782769009105\n",
       "10  2020.0  673398829413800"
      ]
     },
     "execution_count": 127,
     "metadata": {},
     "output_type": "execute_result"
    }
   ],
   "source": [
    "newusage_yearly_sum.copy().set_index('Year').cumsum().reset_index()"
   ]
  },
  {
   "cell_type": "code",
   "execution_count": 140,
   "metadata": {},
   "outputs": [
    {
     "name": "stdout",
     "output_type": "stream",
     "text": [
      "    Year      Files\n",
      "0   2010    5590287\n",
      "1   2011   18787325\n",
      "2   2012   35887225\n",
      "3   2013   50642376\n",
      "4   2014   76971697\n",
      "5   2015  101868028\n",
      "6   2016  145552296\n",
      "7   2017  232348395\n",
      "8   2018  297347858\n",
      "9   2019  365662280\n",
      "10  2020  417441864\n",
      "      Year       SpaceUsage\n",
      "0   2010.0    2260716407068\n",
      "1   2011.0    9261448518531\n",
      "2   2012.0   24737023889111\n",
      "3   2013.0   40182399191878\n",
      "4   2014.0   82712763516200\n",
      "5   2015.0  113678139549675\n",
      "6   2016.0  159336339085494\n",
      "7   2017.0  255751151670398\n",
      "8   2018.0  370654215378823\n",
      "9   2019.0  535782769009105\n",
      "10  2020.0  673398829413800\n"
     ]
    },
    {
     "data": {
      "text/plain": [
       "<AxesSubplot:xlabel='Year', ylabel='SpaceUsage'>"
      ]
     },
     "execution_count": 140,
     "metadata": {},
     "output_type": "execute_result"
    },
    {
     "data": {
      "image/png": "[encoded data removed]",
      "text/plain": [
       "<Figure size 576x1152 with 2 Axes>"
      ]
     },
     "metadata": {
      "needs_background": "light"
     },
     "output_type": "display_data"
    }
   ],
   "source": [
    "newfiles_yearly_cumsum = newfiles_yearly_sum.copy()\n",
    "newfiles_yearly_cumsum['Files'] = newfiles_yearly_cumsum['Files'].cumsum()\n",
    "print(newfiles_yearly_cumsum)\n",
    "newusage_yearly_cumsum = newusage_yearly_sum.copy()\n",
    "newusage_yearly_cumsum['SpaceUsage'] = newusage_yearly_cumsum['SpaceUsage'].cumsum()\n",
    "print(newusage_yearly_cumsum)\n",
    "\n",
    "fig, ((ax1, ax2))=plt.subplots(nrows=2, figsize=(8,16))\n",
    "sb.barplot(x='Year', y='Files', data=newfiles_yearly_cumsum, ci=None, ax=ax1)\n",
    "sb.barplot(x='Year', y='SpaceUsage', data=newusage_yearly_cumsum, ci=None, ax=ax2)"
   ]
  },
  {
   "cell_type": "markdown",
   "metadata": {},
   "source": [
    "[DataFrame.reset_index](https://pandas.pydata.org/pandas-docs/version/0.17/generated/pandas.DataFrame.reset_index.html)"
   ]
  },
  {
   "cell_type": "code",
   "execution_count": 154,
   "metadata": {},
   "outputs": [
    {
     "data": {
      "text/plain": [
       "<AxesSubplot:xlabel='Year', ylabel='Files'>"
      ]
     },
     "execution_count": 154,
     "metadata": {},
     "output_type": "execute_result"
    },
    {
     "data": {
      "image/png": "[encoded data removed]",
      "text/plain": [
       "<Figure size 432x288 with 1 Axes>"
      ]
     },
     "metadata": {
      "needs_background": "light"
     },
     "output_type": "display_data"
    }
   ],
   "source": [
    "filesizes_yearly_sum = filesizes_yearly[['Year','Files']].groupby('Year').sum().reset_index()\n",
    "sb.scatterplot(x='Year', y='Files', data=filesizes_yearly_sum)\n",
    "\n",
    "from sklearn import linear_model\n",
    "model = linear_model.LinearRegression()\n",
    "model.fit(filesizes_sum[['Year']],filesizes_sum['Files'])\n",
    "fitted_files = model.predict(filesizes_sum[['Year']])\n",
    "sb.lineplot(x=filesizes_sum['Year'], y=fitted_files, color='tomato')"
   ]
  },
  {
   "cell_type": "code",
   "execution_count": 21,
   "metadata": {},
   "outputs": [
    {
     "data": {
      "image/png": "[encoded data removed]",
      "text/plain": [
       "<Figure size 468x468 with 1 Axes>"
      ]
     },
     "metadata": {
      "needs_background": "light"
     },
     "output_type": "display_data"
    },
    {
     "data": {
      "image/png": "[encoded data removed]",
      "text/plain": [
       "<Figure size 468x468 with 1 Axes>"
      ]
     },
     "metadata": {
      "needs_background": "light"
     },
     "output_type": "display_data"
    },
    {
     "data": {
      "image/png": "[encoded data removed]",
      "text/plain": [
       "<Figure size 468x468 with 1 Axes>"
      ]
     },
     "metadata": {
      "needs_background": "light"
     },
     "output_type": "display_data"
    },
    {
     "data": {
      "image/png": "[encoded data removed]",
      "text/plain": [
       "<Figure size 468x468 with 1 Axes>"
      ]
     },
     "metadata": {
      "needs_background": "light"
     },
     "output_type": "display_data"
    },
    {
     "data": {
      "image/png": "[encoded data removed]",
      "text/plain": [
       "<Figure size 468x468 with 1 Axes>"
      ]
     },
     "metadata": {
      "needs_background": "light"
     },
     "output_type": "display_data"
    },
    {
     "data": {
      "image/png": "[encoded data removed]",
      "text/plain": [
       "<Figure size 468x468 with 1 Axes>"
      ]
     },
     "metadata": {
      "needs_background": "light"
     },
     "output_type": "display_data"
    },
    {
     "data": {
      "image/png": "[encoded data removed]",
      "text/plain": [
       "<Figure size 468x468 with 1 Axes>"
      ]
     },
     "metadata": {
      "needs_background": "light"
     },
     "output_type": "display_data"
    },
    {
     "data": {
      "image/png": "[encoded data removed]",
      "text/plain": [
       "<Figure size 468x468 with 1 Axes>"
      ]
     },
     "metadata": {
      "needs_background": "light"
     },
     "output_type": "display_data"
    },
    {
     "data": {
      "image/png": "[encoded data removed]",
      "text/plain": [
       "<Figure size 468x468 with 1 Axes>"
      ]
     },
     "metadata": {
      "needs_background": "light"
     },
     "output_type": "display_data"
    },
    {
     "data": {
      "image/png": "[encoded data removed]",
      "text/plain": [
       "<Figure size 468x468 with 1 Axes>"
      ]
     },
     "metadata": {
      "needs_background": "light"
     },
     "output_type": "display_data"
    },
    {
     "data": {
      "image/png": "[encoded data removed]",
      "text/plain": [
       "<Figure size 468x468 with 1 Axes>"
      ]
     },
     "metadata": {
      "needs_background": "light"
     },
     "output_type": "display_data"
    },
    {
     "data": {
      "image/png": "[encoded data removed]",
      "text/plain": [
       "<Figure size 468x468 with 1 Axes>"
      ]
     },
     "metadata": {
      "needs_background": "light"
     },
     "output_type": "display_data"
    }
   ],
   "source": [
    "for year, yearly_data in filesizes_yearly.groupby('year'):\n",
    "    filesizes_plot, filesizes_plot_ax = plt.subplots(figsize=(6.5, 6.5))\n",
    "    sb.barplot(x='bytes2', y='n', data=yearly_data)\n",
    "    plt.title(year)"
   ]
  },
  {
   "cell_type": "code",
   "execution_count": 22,
   "metadata": {},
   "outputs": [],
   "source": [
    "filesizes_2020 = filesizes_yearly.loc[filesizes_yearly['year'] == 2020,:]"
   ]
  },
  {
   "cell_type": "code",
   "execution_count": 23,
   "metadata": {},
   "outputs": [
    {
     "data": {
      "text/plain": [
       "392     0\n",
       "393     1\n",
       "394     2\n",
       "395     3\n",
       "396     4\n",
       "397     5\n",
       "398     6\n",
       "399     7\n",
       "400     8\n",
       "401     9\n",
       "402    10\n",
       "403    11\n",
       "404    12\n",
       "405    13\n",
       "406    14\n",
       "407    15\n",
       "408    16\n",
       "409    17\n",
       "410    18\n",
       "411    19\n",
       "412    20\n",
       "413    21\n",
       "414    22\n",
       "415    23\n",
       "416    24\n",
       "417    25\n",
       "418    26\n",
       "419    27\n",
       "420    28\n",
       "421    29\n",
       "422    30\n",
       "423    31\n",
       "424    32\n",
       "425    33\n",
       "426    34\n",
       "427    35\n",
       "428    36\n",
       "429    37\n",
       "430    38\n",
       "431    39\n",
       "432    40\n",
       "433    41\n",
       "Name: bytes2, dtype: category\n",
       "Categories (42, int64): [0, 1, 2, 3, ..., 38, 39, 40, 41]"
      ]
     },
     "execution_count": 23,
     "metadata": {},
     "output_type": "execute_result"
    }
   ],
   "source": [
    "bins = filesizes_2020['bytes2'].astype('category')\n",
    "bins"
   ]
  },
  {
   "cell_type": "code",
   "execution_count": 24,
   "metadata": {},
   "outputs": [
    {
     "data": {
      "text/plain": [
       "bytes2    12.82\n",
       "dtype: float64"
      ]
     },
     "execution_count": 24,
     "metadata": {},
     "output_type": "execute_result"
    }
   ],
   "source": [
    "def get_bootstrapped_mean(year):\n",
    "    df = filesizes_yearly.loc[filesizes_yearly['year'] == year,:]\n",
    "    dataset = df[['bytes2']].sample(100, replace=True, weights=df['n'])\n",
    "    return dataset.mean()\n",
    "\n",
    "get_bootstrapped_mean(2020)"
   ]
  },
  {
   "cell_type": "code",
   "execution_count": 10,
   "metadata": {},
   "outputs": [],
   "source": [
    "from numpy.random import choice\n",
    "\n",
    "def get_bootstrapped_mean2(year, n_means=10000):\n",
    "    df = filesizes_yearly.loc[filesizes_yearly['year'] == year,:]\n",
    "    bytes2 = df['bytes2']\n",
    "    n = df['n']/df['n'].sum()\n",
    "    means = np.zeros(n_means, dtype=np.float64)\n",
    "    for i in range(n_means):\n",
    "        means[i] = np.mean(choice(bytes2, 100, replace=True, p=n))\n",
    "    return means"
   ]
  },
  {
   "cell_type": "code",
   "execution_count": 26,
   "metadata": {},
   "outputs": [],
   "source": [
    "def get_bootstrapped_mean3(year, n_means=10000):\n",
    "    df = filesizes_yearly.loc[filesizes_yearly['year'] == year,:]\n",
    "    bytes2 = df[['bytes2']]\n",
    "    n = df['n']\n",
    "    means = np.zeros(n_means, dtype=np.float64)\n",
    "    for i in range(n_means):\n",
    "        means[i] = bytes2.sample(100, replace=True, weights=n).mean()\n",
    "    return means"
   ]
  },
  {
   "cell_type": "code",
   "execution_count": null,
   "metadata": {},
   "outputs": [],
   "source": [
    "%%timeit\n",
    "n_means = 10000\n",
    "means = np.zeros(n_means, dtype=np.float64)\n",
    "for i in range(n_means):\n",
    "    means[i] = get_bootstrapped_mean(2020)"
   ]
  },
  {
   "cell_type": "code",
   "execution_count": null,
   "metadata": {},
   "outputs": [],
   "source": [
    "%%timeit\n",
    "get_bootstrapped_mean2(2020)"
   ]
  },
  {
   "cell_type": "code",
   "execution_count": null,
   "metadata": {},
   "outputs": [],
   "source": [
    "%%timeit\n",
    "get_bootstrapped_mean3(2020)"
   ]
  },
  {
   "cell_type": "code",
   "execution_count": null,
   "metadata": {},
   "outputs": [],
   "source": [
    "get_bootstrapped_mean3(2020)"
   ]
  },
  {
   "cell_type": "code",
   "execution_count": null,
   "metadata": {},
   "outputs": [],
   "source": [
    "plt.hist(p, bins=bins)"
   ]
  },
  {
   "cell_type": "code",
   "execution_count": 27,
   "metadata": {},
   "outputs": [],
   "source": [
    "years = filesizes_yearly['year'].unique()\n",
    "bytes2 = filesizes_yearly['bytes2'].unique()"
   ]
  },
  {
   "cell_type": "code",
   "execution_count": 34,
   "metadata": {},
   "outputs": [],
   "source": [
    "filesizes_sampled = pd.DataFrame({'year':years})\n",
    "filesizes_sampled['sampled_means'] = filesizes_sampled.loc[:,'year'].apply(get_bootstrapped_mean2)"
   ]
  },
  {
   "cell_type": "code",
   "execution_count": 35,
   "metadata": {},
   "outputs": [],
   "source": [
    "filesizes_sampled = filesizes_sampled.explode('sampled_means')\n",
    "filesizes_sampled['sampled_means'] = filesizes_sampled['sampled_means'].astype(np.float64)"
   ]
  },
  {
   "cell_type": "code",
   "execution_count": 36,
   "metadata": {},
   "outputs": [
    {
     "data": {
      "text/plain": [
       "year               int64\n",
       "sampled_means    float64\n",
       "dtype: object"
      ]
     },
     "execution_count": 36,
     "metadata": {},
     "output_type": "execute_result"
    }
   ],
   "source": [
    "filesizes_sampled.dtypes"
   ]
  },
  {
   "cell_type": "code",
   "execution_count": 37,
   "metadata": {},
   "outputs": [
    {
     "data": {
      "text/plain": [
       "year\n",
       "2010    13.197945\n",
       "2011    14.133348\n",
       "2012    10.671955\n",
       "2013    13.412672\n",
       "2014    14.026149\n",
       "2015    11.728573\n",
       "2016    13.406113\n",
       "2017    12.136109\n",
       "2018    13.132024\n",
       "2019    13.730133\n",
       "2020    13.236934\n",
       "2021    10.956056\n",
       "Name: sampled_means, dtype: float64"
      ]
     },
     "execution_count": 37,
     "metadata": {},
     "output_type": "execute_result"
    }
   ],
   "source": [
    "filesizes_sampled.groupby('year')['sampled_means'].mean()"
   ]
  },
  {
   "cell_type": "code",
   "execution_count": null,
   "metadata": {},
   "outputs": [],
   "source": [
    "for year in years:\n",
    "    \n",
    "    sample_data = filesizes_sampled.loc[filesizes_sampled['year'] == year, ['sampled_means']]\n",
    "    bytes_data = filesizes_yearly.loc[filesizes_yearly['year'] == year, ['bytes2','n']]\n",
    "    \n",
    "    filesizes_plot, (filesizes_plot_ax1, filesizes_plot_ax2) = plt.subplots(nrows=2,figsize=(6.5, 6.5))\n",
    "    sb.barplot(x='bytes2', y='n', data=bytes_data, ax=filesizes_plot_ax1)\n",
    "    filesizes_plot_ax1.set_xticks(ticks=bytes2[::4])\n",
    "    filesizes_plot_ax1.set_xlim(left=bytes2[0], right=bytes2[-1])\n",
    "    sb.histplot(x='sampled_means', bins=10, data=sample_data, ax=filesizes_plot_ax2)\n",
    "    filesizes_plot_ax2.set_xticks(ticks=bytes2[::4])\n",
    "    filesizes_plot_ax2.set_xlim(left=bytes2[0], right=bytes2[-1])\n",
    "    plt.title(year)\n",
    "    plt.tight_layout()"
   ]
  },
  {
   "cell_type": "code",
   "execution_count": null,
   "metadata": {},
   "outputs": [],
   "source": [
    "import numpy as np"
   ]
  },
  {
   "cell_type": "code",
   "execution_count": null,
   "metadata": {},
   "outputs": [],
   "source": [
    "from itertools import product"
   ]
  },
  {
   "cell_type": "code",
   "execution_count": null,
   "metadata": {},
   "outputs": [],
   "source": [
    "samples = pd.DataFrame([ (x,y) for x,y in product(range(10000), years) ], columns=('sample', 'year'))"
   ]
  },
  {
   "cell_type": "code",
   "execution_count": null,
   "metadata": {},
   "outputs": [],
   "source": [
    "samples['mean_filesize'] = samples['year'].apply(get_bootstrapped_mean)"
   ]
  },
  {
   "cell_type": "code",
   "execution_count": null,
   "metadata": {},
   "outputs": [],
   "source": [
    "import numpy as np"
   ]
  },
  {
   "cell_type": "code",
   "execution_count": null,
   "metadata": {},
   "outputs": [],
   "source": [
    "samples['mean_filesize'] = np.vectorize(get_bootstrapped_mean)(samples['year'])"
   ]
  },
  {
   "cell_type": "code",
   "execution_count": null,
   "metadata": {},
   "outputs": [],
   "source": [
    "for year in years:\n",
    "    \n",
    "    sample_data = samples.loc[samples['year'] == year, ['mean']]\n",
    "    bytes_data = filesizes_yearly.loc[filesizes_yearly['year'] == year, ['bytes2','n']]\n",
    "    \n",
    "    filesizes_plot, (filesizes_plot_ax1, filesizes_plot_ax2) = plt.subplots(nrows=2,figsize=(6.5, 6.5))\n",
    "    sb.barplot(x='bytes2', y='n', data=bytes_data, ax=filesizes_plot_ax1)\n",
    "    filesizes_plot_ax1.set_xticks(ticks=bytes2[::4])\n",
    "    filesizes_plot_ax1.set_xlim(left=bytes2[0], right=bytes2[-1])\n",
    "    sb.histplot(x='mean_filesize', bins=10, data=sample_data, ax=filesizes_plot_ax2)\n",
    "    filesizes_plot_ax2.set_xticks(ticks=bytes2[::4])\n",
    "    filesizes_plot_ax2.set_xlim(left=bytes2[0], right=bytes2[-1])\n",
    "    plt.title(year)\n",
    "    plt.tight_layout()"
   ]
  },
  {
   "cell_type": "code",
   "execution_count": null,
   "metadata": {},
   "outputs": [],
   "source": [
    "samples['mean']"
   ]
  },
  {
   "cell_type": "code",
   "execution_count": null,
   "metadata": {},
   "outputs": [],
   "source": [
    "sb.barplot(x='bytes2', y='mean_filesize', data=filesizes_sampled2020)"
   ]
  },
  {
   "cell_type": "code",
   "execution_count": null,
   "metadata": {},
   "outputs": [],
   "source": []
  }
 ],
 "metadata": {
  "kernelspec": {
   "display_name": "Python 3",
   "language": "python",
   "name": "python3"
  },
  "language_info": {
   "codemirror_mode": {
    "name": "ipython",
    "version": 3
   },
   "file_extension": ".py",
   "mimetype": "text/x-python",
   "name": "python",
   "nbconvert_exporter": "python",
   "pygments_lexer": "ipython3",
   "version": "3.7.9"
  }
 },
 "nbformat": 4,
 "nbformat_minor": 4
}

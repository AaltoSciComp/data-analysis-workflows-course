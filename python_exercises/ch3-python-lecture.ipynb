{
 "cells": [
  {
   "cell_type": "markdown",
   "metadata": {},
   "source": [
    "# Chapter 3\n",
    "\n",
    "## Exercise 1"
   ]
  },
  {
   "cell_type": "code",
   "execution_count": 35,
   "metadata": {},
   "outputs": [],
   "source": [
    "import pandas as pd\n",
    "import numpy as np\n",
    "import matplotlib.pyplot as plt\n",
    "import seaborn as sb"
   ]
  },
  {
   "cell_type": "markdown",
   "metadata": {},
   "source": [
    "### Problem 1\n",
    "\n",
    "\n",
    "[read_table](https://pandas.pydata.org/pandas-docs/stable/reference/api/pandas.read_table.html)\n",
    "\n",
    "[Timedelta](https://pandas.pydata.org/pandas-docs/stable/user_guide/timedeltas.html)"
   ]
  },
  {
   "cell_type": "code",
   "execution_count": 100,
   "metadata": {},
   "outputs": [
    {
     "data": {
      "text/html": [
       "<div>\n",
       "<style scoped>\n",
       "    .dataframe tbody tr th:only-of-type {\n",
       "        vertical-align: middle;\n",
       "    }\n",
       "\n",
       "    .dataframe tbody tr th {\n",
       "        vertical-align: top;\n",
       "    }\n",
       "\n",
       "    .dataframe thead th {\n",
       "        text-align: right;\n",
       "    }\n",
       "</style>\n",
       "<table border=\"1\" class=\"dataframe\">\n",
       "  <thead>\n",
       "    <tr style=\"text-align: right;\">\n",
       "      <th></th>\n",
       "      <th>Bytes</th>\n",
       "      <th>Files</th>\n",
       "      <th>BytesLog2</th>\n",
       "      <th>SpaceUsage</th>\n",
       "      <th>Year</th>\n",
       "      <th>Month</th>\n",
       "      <th>Date</th>\n",
       "    </tr>\n",
       "  </thead>\n",
       "  <tbody>\n",
       "    <tr>\n",
       "      <th>287</th>\n",
       "      <td>1</td>\n",
       "      <td>5</td>\n",
       "      <td>0</td>\n",
       "      <td>5</td>\n",
       "      <td>2010.0</td>\n",
       "      <td>January</td>\n",
       "      <td>2010-01-01</td>\n",
       "    </tr>\n",
       "    <tr>\n",
       "      <th>451</th>\n",
       "      <td>2</td>\n",
       "      <td>3</td>\n",
       "      <td>1</td>\n",
       "      <td>6</td>\n",
       "      <td>2010.0</td>\n",
       "      <td>January</td>\n",
       "      <td>2010-01-01</td>\n",
       "    </tr>\n",
       "    <tr>\n",
       "      <th>627</th>\n",
       "      <td>4</td>\n",
       "      <td>27</td>\n",
       "      <td>2</td>\n",
       "      <td>108</td>\n",
       "      <td>2010.0</td>\n",
       "      <td>January</td>\n",
       "      <td>2010-01-01</td>\n",
       "    </tr>\n",
       "    <tr>\n",
       "      <th>822</th>\n",
       "      <td>8</td>\n",
       "      <td>136</td>\n",
       "      <td>3</td>\n",
       "      <td>1088</td>\n",
       "      <td>2010.0</td>\n",
       "      <td>January</td>\n",
       "      <td>2010-01-01</td>\n",
       "    </tr>\n",
       "    <tr>\n",
       "      <th>1057</th>\n",
       "      <td>16</td>\n",
       "      <td>208</td>\n",
       "      <td>4</td>\n",
       "      <td>3328</td>\n",
       "      <td>2010.0</td>\n",
       "      <td>January</td>\n",
       "      <td>2010-01-01</td>\n",
       "    </tr>\n",
       "  </tbody>\n",
       "</table>\n",
       "</div>"
      ],
      "text/plain": [
       "      Bytes  Files  BytesLog2  SpaceUsage    Year    Month       Date\n",
       "287       1      5          0           5  2010.0  January 2010-01-01\n",
       "451       2      3          1           6  2010.0  January 2010-01-01\n",
       "627       4     27          2         108  2010.0  January 2010-01-01\n",
       "822       8    136          3        1088  2010.0  January 2010-01-01\n",
       "1057     16    208          4        3328  2010.0  January 2010-01-01"
      ]
     },
     "execution_count": 100,
     "metadata": {},
     "output_type": "execute_result"
    }
   ],
   "source": [
    "def load_filesizes(filesizes_file):\n",
    "    filesizes = pd.read_table(filesizes_file, sep='\\s+', names=['Bytes','MonthsTo2021', 'Files'])\n",
    "    \n",
    "    # Remove empty files\n",
    "    filesizes = filesizes[filesizes.loc[:,'Bytes'] != 0]\n",
    "    # Create a column for log2 of bytes\n",
    "    filesizes['BytesLog2'] = np.log2(filesizes.loc[:, 'Bytes'])\n",
    "    filesizes.loc[:,'BytesLog2'] = filesizes.loc[:,'BytesLog2'].astype(np.int64)\n",
    "    # Determine total space S used by N files of size X during date D: S=N*X \n",
    "    filesizes['SpaceUsage'] = filesizes.loc[:,'Bytes']*filesizes.loc[:,'Files']\n",
    "    # Determine file year and month from the MonthsTo2021-column\n",
    "    filesizes['TotalMonths'] = 2021*12 - filesizes['MonthsTo2021'] - 1\n",
    "    filesizes['Year'] = filesizes['TotalMonths'] // 12\n",
    "    filesizes['Month'] = filesizes['TotalMonths'] % 12 + 1\n",
    "    filesizes['Day'] = 1\n",
    "    \n",
    "    # Set year for really old files and files with incorrect timestamps\n",
    "    invalid_years = (filesizes['Year'] < 2010) | (filesizes['Year'] > 2020)\n",
    "    filesizes.loc[invalid_years, ['Year','Month']] = np.NaN\n",
    "    \n",
    "    # Get month names for the correct ordering of Month categories\n",
    "    month_names = pd.date_range(start='2000-01', freq='M', periods=12).month_name()\n",
    "    # Create Date\n",
    "    filesizes['Date'] = pd.to_datetime(filesizes[['Year', 'Month', 'Day']])\n",
    "    # Set Month\n",
    "    filesizes['Month'] = pd.Categorical(filesizes['Date'].dt.month_name(), categories=month_names, ordered=True)\n",
    "    # Set Month to be an ordered categorical with predefined levels \n",
    "    filesizes['Month'] = pd.Categorical(filesizes['Month'], categories=month_names, ordered=True)\n",
    "    # Sort data based on Date and BytesLog2\n",
    "    filesizes.sort_values(['Date','BytesLog2'], inplace=True)\n",
    "    # Remove old columns\n",
    "    filesizes.drop(['MonthsTo2021','TotalMonths', 'Day'], axis=1, inplace=True)\n",
    "    return filesizes\n",
    "\n",
    "filesizes = load_filesizes('../data/filesizes_timestamps.txt')\n",
    "filesizes.head()"
   ]
  },
  {
   "cell_type": "markdown",
   "metadata": {},
   "source": [
    "[resample](https://pandas.pydata.org/pandas-docs/stable/reference/api/pandas.Series.resample.html#pandas.Series.resample)"
   ]
  },
  {
   "cell_type": "code",
   "execution_count": 38,
   "metadata": {},
   "outputs": [
    {
     "data": {
      "text/html": [
       "<div>\n",
       "<style scoped>\n",
       "    .dataframe tbody tr th:only-of-type {\n",
       "        vertical-align: middle;\n",
       "    }\n",
       "\n",
       "    .dataframe tbody tr th {\n",
       "        vertical-align: top;\n",
       "    }\n",
       "\n",
       "    .dataframe thead th {\n",
       "        text-align: right;\n",
       "    }\n",
       "</style>\n",
       "<table border=\"1\" class=\"dataframe\">\n",
       "  <thead>\n",
       "    <tr style=\"text-align: right;\">\n",
       "      <th></th>\n",
       "      <th>Year</th>\n",
       "      <th>BytesLog2</th>\n",
       "      <th>Files</th>\n",
       "    </tr>\n",
       "  </thead>\n",
       "  <tbody>\n",
       "    <tr>\n",
       "      <th>287</th>\n",
       "      <td>2010.0</td>\n",
       "      <td>0</td>\n",
       "      <td>5</td>\n",
       "    </tr>\n",
       "    <tr>\n",
       "      <th>451</th>\n",
       "      <td>2010.0</td>\n",
       "      <td>1</td>\n",
       "      <td>3</td>\n",
       "    </tr>\n",
       "    <tr>\n",
       "      <th>627</th>\n",
       "      <td>2010.0</td>\n",
       "      <td>2</td>\n",
       "      <td>27</td>\n",
       "    </tr>\n",
       "    <tr>\n",
       "      <th>822</th>\n",
       "      <td>2010.0</td>\n",
       "      <td>3</td>\n",
       "      <td>136</td>\n",
       "    </tr>\n",
       "    <tr>\n",
       "      <th>1057</th>\n",
       "      <td>2010.0</td>\n",
       "      <td>4</td>\n",
       "      <td>208</td>\n",
       "    </tr>\n",
       "  </tbody>\n",
       "</table>\n",
       "</div>"
      ],
      "text/plain": [
       "        Year  BytesLog2  Files\n",
       "287   2010.0          0      5\n",
       "451   2010.0          1      3\n",
       "627   2010.0          2     27\n",
       "822   2010.0          3    136\n",
       "1057  2010.0          4    208"
      ]
     },
     "execution_count": 38,
     "metadata": {},
     "output_type": "execute_result"
    }
   ],
   "source": [
    "# Drop rows with NaNs (invalid years)\n",
    "filesizes_relevant = filesizes.dropna(axis=0)\n",
    "# Pick relevant columns\n",
    "filesizes_relevant = filesizes_relevant.loc[:,['Year','BytesLog2','Files']]\n",
    "filesizes_relevant.head()"
   ]
  },
  {
   "cell_type": "code",
   "execution_count": 39,
   "metadata": {},
   "outputs": [
    {
     "name": "stdout",
     "output_type": "stream",
     "text": [
      "(4698, 2)\n",
      "(11, 1)\n"
     ]
    },
    {
     "data": {
      "text/html": [
       "<div>\n",
       "<style scoped>\n",
       "    .dataframe tbody tr th:only-of-type {\n",
       "        vertical-align: middle;\n",
       "    }\n",
       "\n",
       "    .dataframe tbody tr th {\n",
       "        vertical-align: top;\n",
       "    }\n",
       "\n",
       "    .dataframe thead th {\n",
       "        text-align: right;\n",
       "    }\n",
       "</style>\n",
       "<table border=\"1\" class=\"dataframe\">\n",
       "  <thead>\n",
       "    <tr style=\"text-align: right;\">\n",
       "      <th></th>\n",
       "      <th>Files</th>\n",
       "    </tr>\n",
       "    <tr>\n",
       "      <th>Year</th>\n",
       "      <th></th>\n",
       "    </tr>\n",
       "  </thead>\n",
       "  <tbody>\n",
       "    <tr>\n",
       "      <th>2010</th>\n",
       "      <td>5590287</td>\n",
       "    </tr>\n",
       "    <tr>\n",
       "      <th>2011</th>\n",
       "      <td>13197038</td>\n",
       "    </tr>\n",
       "    <tr>\n",
       "      <th>2012</th>\n",
       "      <td>17099900</td>\n",
       "    </tr>\n",
       "    <tr>\n",
       "      <th>2013</th>\n",
       "      <td>14755151</td>\n",
       "    </tr>\n",
       "    <tr>\n",
       "      <th>2014</th>\n",
       "      <td>26329321</td>\n",
       "    </tr>\n",
       "  </tbody>\n",
       "</table>\n",
       "</div>"
      ],
      "text/plain": [
       "         Files\n",
       "Year          \n",
       "2010   5590287\n",
       "2011  13197038\n",
       "2012  17099900\n",
       "2013  14755151\n",
       "2014  26329321"
      ]
     },
     "execution_count": 39,
     "metadata": {},
     "output_type": "execute_result"
    }
   ],
   "source": [
    "print(newfiles_relevant.shape)\n",
    "\n",
    "newfiles_yearly_sum = newfiles_relevant.groupby('Year').agg('sum')\n",
    "\n",
    "print(newfiles_yearly_sum.shape)\n",
    "newfiles_yearly_sum.head()"
   ]
  },
  {
   "cell_type": "code",
   "execution_count": 40,
   "metadata": {},
   "outputs": [
    {
     "data": {
      "text/html": [
       "<div>\n",
       "<style scoped>\n",
       "    .dataframe tbody tr th:only-of-type {\n",
       "        vertical-align: middle;\n",
       "    }\n",
       "\n",
       "    .dataframe tbody tr th {\n",
       "        vertical-align: top;\n",
       "    }\n",
       "\n",
       "    .dataframe thead th {\n",
       "        text-align: right;\n",
       "    }\n",
       "</style>\n",
       "<table border=\"1\" class=\"dataframe\">\n",
       "  <thead>\n",
       "    <tr style=\"text-align: right;\">\n",
       "      <th></th>\n",
       "      <th>Year</th>\n",
       "      <th>Files</th>\n",
       "    </tr>\n",
       "  </thead>\n",
       "  <tbody>\n",
       "    <tr>\n",
       "      <th>0</th>\n",
       "      <td>2010</td>\n",
       "      <td>5590287</td>\n",
       "    </tr>\n",
       "    <tr>\n",
       "      <th>1</th>\n",
       "      <td>2011</td>\n",
       "      <td>13197038</td>\n",
       "    </tr>\n",
       "    <tr>\n",
       "      <th>2</th>\n",
       "      <td>2012</td>\n",
       "      <td>17099900</td>\n",
       "    </tr>\n",
       "    <tr>\n",
       "      <th>3</th>\n",
       "      <td>2013</td>\n",
       "      <td>14755151</td>\n",
       "    </tr>\n",
       "    <tr>\n",
       "      <th>4</th>\n",
       "      <td>2014</td>\n",
       "      <td>26329321</td>\n",
       "    </tr>\n",
       "  </tbody>\n",
       "</table>\n",
       "</div>"
      ],
      "text/plain": [
       "   Year     Files\n",
       "0  2010   5590287\n",
       "1  2011  13197038\n",
       "2  2012  17099900\n",
       "3  2013  14755151\n",
       "4  2014  26329321"
      ]
     },
     "execution_count": 40,
     "metadata": {},
     "output_type": "execute_result"
    }
   ],
   "source": [
    "newfiles_yearly_sum = newfiles_yearly_sum.reset_index()\n",
    "\n",
    "newfiles_yearly_sum.head()"
   ]
  },
  {
   "cell_type": "code",
   "execution_count": 41,
   "metadata": {},
   "outputs": [
    {
     "data": {
      "image/png": "[encoded data removed]",
      "text/plain": [
       "<Figure size 432x288 with 1 Axes>"
      ]
     },
     "metadata": {
      "needs_background": "light"
     },
     "output_type": "display_data"
    }
   ],
   "source": [
    "sb.barplot(x='Year', y='Files', data=newfiles_yearly_sum, ci=None)\n",
    "plt.savefig('newfiles_yearly_sum_python.svg')"
   ]
  },
  {
   "cell_type": "code",
   "execution_count": 148,
   "metadata": {},
   "outputs": [
    {
     "data": {
      "text/html": [
       "<div>\n",
       "<style scoped>\n",
       "    .dataframe tbody tr th:only-of-type {\n",
       "        vertical-align: middle;\n",
       "    }\n",
       "\n",
       "    .dataframe tbody tr th {\n",
       "        vertical-align: top;\n",
       "    }\n",
       "\n",
       "    .dataframe thead th {\n",
       "        text-align: right;\n",
       "    }\n",
       "</style>\n",
       "<table border=\"1\" class=\"dataframe\">\n",
       "  <thead>\n",
       "    <tr style=\"text-align: right;\">\n",
       "      <th></th>\n",
       "      <th>Year</th>\n",
       "      <th>Files</th>\n",
       "    </tr>\n",
       "  </thead>\n",
       "  <tbody>\n",
       "    <tr>\n",
       "      <th>0</th>\n",
       "      <td>2010.0</td>\n",
       "      <td>5590287</td>\n",
       "    </tr>\n",
       "    <tr>\n",
       "      <th>1</th>\n",
       "      <td>2011.0</td>\n",
       "      <td>13197038</td>\n",
       "    </tr>\n",
       "    <tr>\n",
       "      <th>2</th>\n",
       "      <td>2012.0</td>\n",
       "      <td>17099900</td>\n",
       "    </tr>\n",
       "    <tr>\n",
       "      <th>3</th>\n",
       "      <td>2013.0</td>\n",
       "      <td>14755151</td>\n",
       "    </tr>\n",
       "    <tr>\n",
       "      <th>4</th>\n",
       "      <td>2014.0</td>\n",
       "      <td>26329321</td>\n",
       "    </tr>\n",
       "  </tbody>\n",
       "</table>\n",
       "</div>"
      ],
      "text/plain": [
       "     Year     Files\n",
       "0  2010.0   5590287\n",
       "1  2011.0  13197038\n",
       "2  2012.0  17099900\n",
       "3  2013.0  14755151\n",
       "4  2014.0  26329321"
      ]
     },
     "execution_count": 148,
     "metadata": {},
     "output_type": "execute_result"
    }
   ],
   "source": [
    "def aggregate_filesize_data(data, groupings, targets, agg_function):\n",
    "    # Drop rows with NaNs (invalid years)\n",
    "    data_relevant = data.dropna(axis=0)\n",
    "    # Pick relevant columns\n",
    "    data_relevant = data_relevant.loc[:, groupings + targets]\n",
    "    # Change grouping to category for prettier plotting\n",
    "    data_relevant[groupings] = data_relevant[groupings].astype('category')\n",
    "    # Aggregate data\n",
    "    data_aggregated = data_relevant.groupby(groupings).agg(agg_function).reset_index()\n",
    "    return data_aggregated\n",
    "\n",
    "newfiles_yearly_sum = aggregate_filesize_data(filesizes, ['Year'], ['Files'], 'sum')\n",
    "newfiles_yearly_sum.head()"
   ]
  },
  {
   "cell_type": "code",
   "execution_count": 161,
   "metadata": {},
   "outputs": [
    {
     "name": "stdout",
     "output_type": "stream",
     "text": [
      "   Year     Files      SpaceUsage\n",
      "0  2010   5590287   2260716407068\n",
      "1  2011  13197038   7000732111463\n",
      "2  2012  17099900  15475575370580\n",
      "3  2013  14755151  15445375302767\n",
      "4  2014  26329321  42530364324322\n",
      "      Month     Files      SpaceUsage\n",
      "0   January  34921070  43131219269056\n",
      "1  February  35707864  71022501061692\n",
      "2     March  25494722  56516865081262\n",
      "3     April  31224476  75382094990077\n",
      "4       May  37816173  75338621861676\n"
     ]
    },
    {
     "data": {
      "image/png": "[encoded data removed]",
      "text/plain": [
       "<Figure size 576x1152 with 4 Axes>"
      ]
     },
     "metadata": {
      "needs_background": "light"
     },
     "output_type": "display_data"
    }
   ],
   "source": [
    "yearly_sum = aggregate_filesize_data(filesizes, ['Year'], ['Files', 'SpaceUsage'], 'sum')\n",
    "monthly_sum = aggregate_filesize_data(filesizes, ['Month'], ['Files', 'SpaceUsage'], 'sum')\n",
    "\n",
    "yearly_sum['Year'] = yearly_sum['Year'].astype(int).astype('category')\n",
    "\n",
    "print(yearly_sum.head())\n",
    "print(monthly_sum.head())\n",
    "\n",
    "fig, ((ax1, ax2, ax3, ax4))=plt.subplots(nrows=4, figsize=(8,16))\n",
    "sb.barplot(x='Year', y='Files', data=yearly_sum, ci=None, ax=ax1)\n",
    "sb.barplot(x='Year', y='SpaceUsage', data=yearly_sum, ci=None, ax=ax2)\n",
    "sb.barplot(x='Month', y='Files', data=monthly_sum, ci=None, ax=ax3)\n",
    "sb.barplot(x='Month', y='SpaceUsage', data=monthly_sum, ci=None, ax=ax4)\n",
    "plt.tight_layout()"
   ]
  },
  {
   "cell_type": "code",
   "execution_count": 160,
   "metadata": {},
   "outputs": [
    {
     "data": {
      "image/png": "[encoded data removed]",
      "text/plain": [
       "<Figure size 576x1152 with 4 Axes>"
      ]
     },
     "metadata": {
      "needs_background": "light"
     },
     "output_type": "display_data"
    }
   ],
   "source": []
  },
  {
   "cell_type": "code",
   "execution_count": 149,
   "metadata": {},
   "outputs": [
    {
     "ename": "TypeError",
     "evalue": "can only concatenate list (not \"str\") to list",
     "output_type": "error",
     "traceback": [
      "\u001b[0;31m---------------------------------------------------------------------------\u001b[0m",
      "\u001b[0;31mTypeError\u001b[0m                                 Traceback (most recent call last)",
      "\u001b[0;32m<ipython-input-149-27c5ee23a5ce>\u001b[0m in \u001b[0;36m<module>\u001b[0;34m\u001b[0m\n\u001b[1;32m      5\u001b[0m \u001b[0mnewusage_yearly_sum\u001b[0m\u001b[0;34m[\u001b[0m\u001b[0;34m'Year'\u001b[0m\u001b[0;34m]\u001b[0m \u001b[0;34m=\u001b[0m \u001b[0mnewusage_yearly_sum\u001b[0m\u001b[0;34m[\u001b[0m\u001b[0;34m'Year'\u001b[0m\u001b[0;34m]\u001b[0m\u001b[0;34m.\u001b[0m\u001b[0mastype\u001b[0m\u001b[0;34m(\u001b[0m\u001b[0mint\u001b[0m\u001b[0;34m)\u001b[0m\u001b[0;34m.\u001b[0m\u001b[0mastype\u001b[0m\u001b[0;34m(\u001b[0m\u001b[0;34m'category'\u001b[0m\u001b[0;34m)\u001b[0m\u001b[0;34m\u001b[0m\u001b[0;34m\u001b[0m\u001b[0m\n\u001b[1;32m      6\u001b[0m \u001b[0;34m\u001b[0m\u001b[0m\n\u001b[0;32m----> 7\u001b[0;31m \u001b[0mnewfiles_monthly_sum\u001b[0m \u001b[0;34m=\u001b[0m \u001b[0maggregate_filesize_data\u001b[0m\u001b[0;34m(\u001b[0m\u001b[0mfilesizes\u001b[0m\u001b[0;34m,\u001b[0m \u001b[0;34m[\u001b[0m\u001b[0;34m'Month'\u001b[0m\u001b[0;34m]\u001b[0m\u001b[0;34m,\u001b[0m \u001b[0;34m'Files'\u001b[0m\u001b[0;34m,\u001b[0m \u001b[0;34m'sum'\u001b[0m\u001b[0;34m)\u001b[0m\u001b[0;34m\u001b[0m\u001b[0;34m\u001b[0m\u001b[0m\n\u001b[0m\u001b[1;32m      8\u001b[0m \u001b[0mnewusage_monthly_sum\u001b[0m \u001b[0;34m=\u001b[0m \u001b[0maggregate_filesize_data\u001b[0m\u001b[0;34m(\u001b[0m\u001b[0mfilesizes\u001b[0m\u001b[0;34m,\u001b[0m \u001b[0;34m[\u001b[0m\u001b[0;34m'Month'\u001b[0m\u001b[0;34m]\u001b[0m\u001b[0;34m,\u001b[0m \u001b[0;34m'SpaceUsage'\u001b[0m\u001b[0;34m,\u001b[0m \u001b[0;34m'sum'\u001b[0m\u001b[0;34m)\u001b[0m\u001b[0;34m\u001b[0m\u001b[0;34m\u001b[0m\u001b[0m\n\u001b[1;32m      9\u001b[0m \u001b[0;34m\u001b[0m\u001b[0m\n",
      "\u001b[0;32m<ipython-input-148-d34b2ea49567>\u001b[0m in \u001b[0;36maggregate_filesize_data\u001b[0;34m(data, groupings, targets, agg_function)\u001b[0m\n\u001b[1;32m      3\u001b[0m     \u001b[0mdata_relevant\u001b[0m \u001b[0;34m=\u001b[0m \u001b[0mdata\u001b[0m\u001b[0;34m.\u001b[0m\u001b[0mdropna\u001b[0m\u001b[0;34m(\u001b[0m\u001b[0maxis\u001b[0m\u001b[0;34m=\u001b[0m\u001b[0;36m0\u001b[0m\u001b[0;34m)\u001b[0m\u001b[0;34m\u001b[0m\u001b[0;34m\u001b[0m\u001b[0m\n\u001b[1;32m      4\u001b[0m     \u001b[0;31m# Pick relevant columns\u001b[0m\u001b[0;34m\u001b[0m\u001b[0;34m\u001b[0m\u001b[0;34m\u001b[0m\u001b[0m\n\u001b[0;32m----> 5\u001b[0;31m     \u001b[0mdata_relevant\u001b[0m \u001b[0;34m=\u001b[0m \u001b[0mdata_relevant\u001b[0m\u001b[0;34m.\u001b[0m\u001b[0mloc\u001b[0m\u001b[0;34m[\u001b[0m\u001b[0;34m:\u001b[0m\u001b[0;34m,\u001b[0m \u001b[0mgroupings\u001b[0m \u001b[0;34m+\u001b[0m \u001b[0mtargets\u001b[0m\u001b[0;34m]\u001b[0m\u001b[0;34m\u001b[0m\u001b[0;34m\u001b[0m\u001b[0m\n\u001b[0m\u001b[1;32m      6\u001b[0m     \u001b[0;31m# Change grouping to category for prettier plotting\u001b[0m\u001b[0;34m\u001b[0m\u001b[0;34m\u001b[0m\u001b[0;34m\u001b[0m\u001b[0m\n\u001b[1;32m      7\u001b[0m     \u001b[0mdata_relevant\u001b[0m\u001b[0;34m[\u001b[0m\u001b[0mgroupings\u001b[0m\u001b[0;34m]\u001b[0m \u001b[0;34m=\u001b[0m \u001b[0mdata_relevant\u001b[0m\u001b[0;34m[\u001b[0m\u001b[0mgroupings\u001b[0m\u001b[0;34m]\u001b[0m\u001b[0;34m.\u001b[0m\u001b[0mastype\u001b[0m\u001b[0;34m(\u001b[0m\u001b[0;34m'category'\u001b[0m\u001b[0;34m)\u001b[0m\u001b[0;34m\u001b[0m\u001b[0;34m\u001b[0m\u001b[0m\n",
      "\u001b[0;31mTypeError\u001b[0m: can only concatenate list (not \"str\") to list"
     ]
    }
   ],
   "source": [
    "newusage_yearly_sum = aggregate_filesize_data(filesizes, ['Year'], ['SpaceUsage'], 'sum')\n",
    "# Fix year names\n",
    "\n",
    "newfiles_monthly_sum = aggregate_filesize_data(filesizes, ['Month'], 'Files', 'sum')\n",
    "newusage_monthly_sum = aggregate_filesize_data(filesizes, ['Month'], 'SpaceUsage', 'sum')\n",
    "\n",
    "fig, ((ax1, ax2, ax3, ax4))=plt.subplots(nrows=4, figsize=(8,16))\n",
    "sb.barplot(x='Year', y='Files', data=newfiles_yearly_sum, ci=None, ax=ax1)\n",
    "sb.barplot(x='Year', y='SpaceUsage', data=newusage_yearly_sum, ci=None, ax=ax2)\n",
    "sb.barplot(x='Month', y='Files', data=newfiles_monthly_sum, ci=None, ax=ax3)\n",
    "sb.barplot(x='Month', y='SpaceUsage', data=newusage_monthly_sum, ci=None, ax=ax4)\n",
    "plt.tight_layout()"
   ]
  },
  {
   "cell_type": "code",
   "execution_count": 127,
   "metadata": {},
   "outputs": [
    {
     "data": {
      "text/html": [
       "<div>\n",
       "<style scoped>\n",
       "    .dataframe tbody tr th:only-of-type {\n",
       "        vertical-align: middle;\n",
       "    }\n",
       "\n",
       "    .dataframe tbody tr th {\n",
       "        vertical-align: top;\n",
       "    }\n",
       "\n",
       "    .dataframe thead th {\n",
       "        text-align: right;\n",
       "    }\n",
       "</style>\n",
       "<table border=\"1\" class=\"dataframe\">\n",
       "  <thead>\n",
       "    <tr style=\"text-align: right;\">\n",
       "      <th></th>\n",
       "      <th>Year</th>\n",
       "      <th>SpaceUsage</th>\n",
       "    </tr>\n",
       "  </thead>\n",
       "  <tbody>\n",
       "    <tr>\n",
       "      <th>0</th>\n",
       "      <td>2010.0</td>\n",
       "      <td>2260716407068</td>\n",
       "    </tr>\n",
       "    <tr>\n",
       "      <th>1</th>\n",
       "      <td>2011.0</td>\n",
       "      <td>9261448518531</td>\n",
       "    </tr>\n",
       "    <tr>\n",
       "      <th>2</th>\n",
       "      <td>2012.0</td>\n",
       "      <td>24737023889111</td>\n",
       "    </tr>\n",
       "    <tr>\n",
       "      <th>3</th>\n",
       "      <td>2013.0</td>\n",
       "      <td>40182399191878</td>\n",
       "    </tr>\n",
       "    <tr>\n",
       "      <th>4</th>\n",
       "      <td>2014.0</td>\n",
       "      <td>82712763516200</td>\n",
       "    </tr>\n",
       "    <tr>\n",
       "      <th>5</th>\n",
       "      <td>2015.0</td>\n",
       "      <td>113678139549675</td>\n",
       "    </tr>\n",
       "    <tr>\n",
       "      <th>6</th>\n",
       "      <td>2016.0</td>\n",
       "      <td>159336339085494</td>\n",
       "    </tr>\n",
       "    <tr>\n",
       "      <th>7</th>\n",
       "      <td>2017.0</td>\n",
       "      <td>255751151670398</td>\n",
       "    </tr>\n",
       "    <tr>\n",
       "      <th>8</th>\n",
       "      <td>2018.0</td>\n",
       "      <td>370654215378823</td>\n",
       "    </tr>\n",
       "    <tr>\n",
       "      <th>9</th>\n",
       "      <td>2019.0</td>\n",
       "      <td>535782769009105</td>\n",
       "    </tr>\n",
       "    <tr>\n",
       "      <th>10</th>\n",
       "      <td>2020.0</td>\n",
       "      <td>673398829413800</td>\n",
       "    </tr>\n",
       "  </tbody>\n",
       "</table>\n",
       "</div>"
      ],
      "text/plain": [
       "      Year       SpaceUsage\n",
       "0   2010.0    2260716407068\n",
       "1   2011.0    9261448518531\n",
       "2   2012.0   24737023889111\n",
       "3   2013.0   40182399191878\n",
       "4   2014.0   82712763516200\n",
       "5   2015.0  113678139549675\n",
       "6   2016.0  159336339085494\n",
       "7   2017.0  255751151670398\n",
       "8   2018.0  370654215378823\n",
       "9   2019.0  535782769009105\n",
       "10  2020.0  673398829413800"
      ]
     },
     "execution_count": 127,
     "metadata": {},
     "output_type": "execute_result"
    }
   ],
   "source": [
    "newusage_yearly_sum.copy().set_index('Year').cumsum().reset_index()"
   ]
  },
  {
   "cell_type": "code",
   "execution_count": 140,
   "metadata": {},
   "outputs": [
    {
     "name": "stdout",
     "output_type": "stream",
     "text": [
      "    Year      Files\n",
      "0   2010    5590287\n",
      "1   2011   18787325\n",
      "2   2012   35887225\n",
      "3   2013   50642376\n",
      "4   2014   76971697\n",
      "5   2015  101868028\n",
      "6   2016  145552296\n",
      "7   2017  232348395\n",
      "8   2018  297347858\n",
      "9   2019  365662280\n",
      "10  2020  417441864\n",
      "      Year       SpaceUsage\n",
      "0   2010.0    2260716407068\n",
      "1   2011.0    9261448518531\n",
      "2   2012.0   24737023889111\n",
      "3   2013.0   40182399191878\n",
      "4   2014.0   82712763516200\n",
      "5   2015.0  113678139549675\n",
      "6   2016.0  159336339085494\n",
      "7   2017.0  255751151670398\n",
      "8   2018.0  370654215378823\n",
      "9   2019.0  535782769009105\n",
      "10  2020.0  673398829413800\n"
     ]
    },
    {
     "data": {
      "text/plain": [
       "<AxesSubplot:xlabel='Year', ylabel='SpaceUsage'>"
      ]
     },
     "execution_count": 140,
     "metadata": {},
     "output_type": "execute_result"
    },
    {
     "data": {
      "image/png": "[encoded data removed]",
      "text/plain": [
       "<Figure size 576x1152 with 2 Axes>"
      ]
     },
     "metadata": {
      "needs_background": "light"
     },
     "output_type": "display_data"
    }
   ],
   "source": [
    "newfiles_yearly_cumsum = newfiles_yearly_sum.copy()\n",
    "newfiles_yearly_cumsum['Files'] = newfiles_yearly_cumsum['Files'].cumsum()\n",
    "print(newfiles_yearly_cumsum)\n",
    "newusage_yearly_cumsum = newusage_yearly_sum.copy()\n",
    "newusage_yearly_cumsum['SpaceUsage'] = newusage_yearly_cumsum['SpaceUsage'].cumsum()\n",
    "print(newusage_yearly_cumsum)\n",
    "\n",
    "fig, ((ax1, ax2))=plt.subplots(nrows=2, figsize=(8,16))\n",
    "sb.barplot(x='Year', y='Files', data=newfiles_yearly_cumsum, ci=None, ax=ax1)\n",
    "sb.barplot(x='Year', y='SpaceUsage', data=newusage_yearly_cumsum, ci=None, ax=ax2)"
   ]
  },
  {
   "cell_type": "code",
   "execution_count": null,
   "metadata": {},
   "outputs": [],
   "source": []
  },
  {
   "cell_type": "code",
   "execution_count": 191,
   "metadata": {},
   "outputs": [
    {
     "data": {
      "text/plain": [
       "<AxesSubplot:xlabel='Month', ylabel='Files'>"
      ]
     },
     "execution_count": 191,
     "metadata": {},
     "output_type": "execute_result"
    },
    {
     "data": {
      "image/png": "[encoded data removed]",
      "text/plain": [
       "<Figure size 432x288 with 1 Axes>"
      ]
     },
     "metadata": {
      "needs_background": "light"
     },
     "output_type": "display_data"
    }
   ],
   "source": [
    "filesizes_monthly = filesizes[['BytesLog2', 'Files']].dropna().groupby('BytesLog2').resample('M')['Files'].sum()\n",
    "filesizes_monthly = filesizes_monthly.reset_index()\n",
    "filesizes_monthly['Month'] = filesizes_monthly['Date'].dt.month_name()\n",
    "filesizes_monthly.head()\n",
    "\n",
    "filesizes_monthly_sum = filesizes_monthly[['Month','Files']].groupby('Month').sum().reset_index()\n",
    "sb.barplot(x='Month', y='Files', data=filesizes_monthly_sum)"
   ]
  },
  {
   "cell_type": "code",
   "execution_count": 158,
   "metadata": {},
   "outputs": [
    {
     "name": "stdout",
     "output_type": "stream",
     "text": [
      "                    Year     Files\n",
      "Month BytesLog2                   \n",
      "1.0   0.0        20154.0    8124.0\n",
      "      1.0        22165.0    7190.0\n",
      "      2.0        22165.0   19770.0\n",
      "      3.0        22165.0   55318.0\n",
      "      4.0        22165.0  146392.0\n"
     ]
    },
    {
     "data": {
      "text/html": [
       "<div>\n",
       "<style scoped>\n",
       "    .dataframe tbody tr th:only-of-type {\n",
       "        vertical-align: middle;\n",
       "    }\n",
       "\n",
       "    .dataframe tbody tr th {\n",
       "        vertical-align: top;\n",
       "    }\n",
       "\n",
       "    .dataframe thead th {\n",
       "        text-align: right;\n",
       "    }\n",
       "</style>\n",
       "<table border=\"1\" class=\"dataframe\">\n",
       "  <thead>\n",
       "    <tr style=\"text-align: right;\">\n",
       "      <th></th>\n",
       "      <th>Month</th>\n",
       "      <th>BytesLog2</th>\n",
       "      <th>Year</th>\n",
       "      <th>Files</th>\n",
       "    </tr>\n",
       "  </thead>\n",
       "  <tbody>\n",
       "    <tr>\n",
       "      <th>0</th>\n",
       "      <td>1.0</td>\n",
       "      <td>0.0</td>\n",
       "      <td>20154.0</td>\n",
       "      <td>8124.0</td>\n",
       "    </tr>\n",
       "    <tr>\n",
       "      <th>1</th>\n",
       "      <td>1.0</td>\n",
       "      <td>1.0</td>\n",
       "      <td>22165.0</td>\n",
       "      <td>7190.0</td>\n",
       "    </tr>\n",
       "    <tr>\n",
       "      <th>2</th>\n",
       "      <td>1.0</td>\n",
       "      <td>2.0</td>\n",
       "      <td>22165.0</td>\n",
       "      <td>19770.0</td>\n",
       "    </tr>\n",
       "    <tr>\n",
       "      <th>3</th>\n",
       "      <td>1.0</td>\n",
       "      <td>3.0</td>\n",
       "      <td>22165.0</td>\n",
       "      <td>55318.0</td>\n",
       "    </tr>\n",
       "    <tr>\n",
       "      <th>4</th>\n",
       "      <td>1.0</td>\n",
       "      <td>4.0</td>\n",
       "      <td>22165.0</td>\n",
       "      <td>146392.0</td>\n",
       "    </tr>\n",
       "  </tbody>\n",
       "</table>\n",
       "</div>"
      ],
      "text/plain": [
       "   Month  BytesLog2     Year     Files\n",
       "0    1.0        0.0  20154.0    8124.0\n",
       "1    1.0        1.0  22165.0    7190.0\n",
       "2    1.0        2.0  22165.0   19770.0\n",
       "3    1.0        3.0  22165.0   55318.0\n",
       "4    1.0        4.0  22165.0  146392.0"
      ]
     },
     "execution_count": 158,
     "metadata": {},
     "output_type": "execute_result"
    }
   ],
   "source": [
    "filesizes_monthly = filesizes_relevant.groupby(['Month','BytesLog2']).sum()\n",
    "print(filesizes_monthly.head())\n",
    "filesizes_monthly = filesizes_monthly.reset_index()\n",
    "filesizes_monthly.head()"
   ]
  },
  {
   "cell_type": "code",
   "execution_count": null,
   "metadata": {},
   "outputs": [],
   "source": []
  },
  {
   "cell_type": "code",
   "execution_count": 162,
   "metadata": {},
   "outputs": [
    {
     "data": {
      "text/plain": [
       "<AxesSubplot:xlabel='Month', ylabel='Files'>"
      ]
     },
     "execution_count": 162,
     "metadata": {},
     "output_type": "execute_result"
    },
    {
     "data": {
      "image/png": "[encoded data removed]",
      "text/plain": [
       "<Figure size 432x288 with 1 Axes>"
      ]
     },
     "metadata": {
      "needs_background": "light"
     },
     "output_type": "display_data"
    }
   ],
   "source": [
    "filesizes_monthly_sum = filesizes_monthly[['Month','Files']].groupby('Month').sum().reset_index()\n",
    "sb.barplot(x='Month', y='Files', data=filesizes_monthly_sum)"
   ]
  },
  {
   "cell_type": "code",
   "execution_count": 195,
   "metadata": {},
   "outputs": [
    {
     "data": {
      "text/html": [
       "<div>\n",
       "<style scoped>\n",
       "    .dataframe tbody tr th:only-of-type {\n",
       "        vertical-align: middle;\n",
       "    }\n",
       "\n",
       "    .dataframe tbody tr th {\n",
       "        vertical-align: top;\n",
       "    }\n",
       "\n",
       "    .dataframe thead th {\n",
       "        text-align: right;\n",
       "    }\n",
       "</style>\n",
       "<table border=\"1\" class=\"dataframe\">\n",
       "  <thead>\n",
       "    <tr style=\"text-align: right;\">\n",
       "      <th></th>\n",
       "      <th>index</th>\n",
       "      <th>Year</th>\n",
       "      <th>BytesLog2</th>\n",
       "      <th>Month</th>\n",
       "      <th>Files</th>\n",
       "    </tr>\n",
       "  </thead>\n",
       "  <tbody>\n",
       "    <tr>\n",
       "      <th>0</th>\n",
       "      <td>0</td>\n",
       "      <td>2010.0</td>\n",
       "      <td>0.0</td>\n",
       "      <td>62.0</td>\n",
       "      <td>124.0</td>\n",
       "    </tr>\n",
       "    <tr>\n",
       "      <th>1</th>\n",
       "      <td>1</td>\n",
       "      <td>2010.0</td>\n",
       "      <td>1.0</td>\n",
       "      <td>74.0</td>\n",
       "      <td>1632.0</td>\n",
       "    </tr>\n",
       "    <tr>\n",
       "      <th>2</th>\n",
       "      <td>2</td>\n",
       "      <td>2010.0</td>\n",
       "      <td>2.0</td>\n",
       "      <td>78.0</td>\n",
       "      <td>5626.0</td>\n",
       "    </tr>\n",
       "    <tr>\n",
       "      <th>3</th>\n",
       "      <td>3</td>\n",
       "      <td>2010.0</td>\n",
       "      <td>3.0</td>\n",
       "      <td>78.0</td>\n",
       "      <td>26287.0</td>\n",
       "    </tr>\n",
       "    <tr>\n",
       "      <th>4</th>\n",
       "      <td>4</td>\n",
       "      <td>2010.0</td>\n",
       "      <td>4.0</td>\n",
       "      <td>78.0</td>\n",
       "      <td>65074.0</td>\n",
       "    </tr>\n",
       "  </tbody>\n",
       "</table>\n",
       "</div>"
      ],
      "text/plain": [
       "   index    Year  BytesLog2  Month    Files\n",
       "0      0  2010.0        0.0   62.0    124.0\n",
       "1      1  2010.0        1.0   74.0   1632.0\n",
       "2      2  2010.0        2.0   78.0   5626.0\n",
       "3      3  2010.0        3.0   78.0  26287.0\n",
       "4      4  2010.0        4.0   78.0  65074.0"
      ]
     },
     "execution_count": 195,
     "metadata": {},
     "output_type": "execute_result"
    }
   ],
   "source": [
    "filesizes_yearly = filesizes_yearly.reset_index()\n",
    "filesizes_yearly.head()"
   ]
  },
  {
   "cell_type": "markdown",
   "metadata": {},
   "source": [
    "[DataFrame.reset_index](https://pandas.pydata.org/pandas-docs/version/0.17/generated/pandas.DataFrame.reset_index.html)"
   ]
  },
  {
   "cell_type": "code",
   "execution_count": 125,
   "metadata": {},
   "outputs": [
    {
     "data": {
      "text/html": [
       "<div>\n",
       "<style scoped>\n",
       "    .dataframe tbody tr th:only-of-type {\n",
       "        vertical-align: middle;\n",
       "    }\n",
       "\n",
       "    .dataframe tbody tr th {\n",
       "        vertical-align: top;\n",
       "    }\n",
       "\n",
       "    .dataframe thead th {\n",
       "        text-align: right;\n",
       "    }\n",
       "</style>\n",
       "<table border=\"1\" class=\"dataframe\">\n",
       "  <thead>\n",
       "    <tr style=\"text-align: right;\">\n",
       "      <th></th>\n",
       "      <th>Year</th>\n",
       "      <th>BytesLog2</th>\n",
       "      <th>Files</th>\n",
       "    </tr>\n",
       "  </thead>\n",
       "  <tbody>\n",
       "    <tr>\n",
       "      <th>0</th>\n",
       "      <td>2010.0</td>\n",
       "      <td>0.0</td>\n",
       "      <td>124.0</td>\n",
       "    </tr>\n",
       "    <tr>\n",
       "      <th>1</th>\n",
       "      <td>2010.0</td>\n",
       "      <td>1.0</td>\n",
       "      <td>1632.0</td>\n",
       "    </tr>\n",
       "    <tr>\n",
       "      <th>2</th>\n",
       "      <td>2010.0</td>\n",
       "      <td>2.0</td>\n",
       "      <td>5626.0</td>\n",
       "    </tr>\n",
       "    <tr>\n",
       "      <th>3</th>\n",
       "      <td>2010.0</td>\n",
       "      <td>3.0</td>\n",
       "      <td>26287.0</td>\n",
       "    </tr>\n",
       "    <tr>\n",
       "      <th>4</th>\n",
       "      <td>2010.0</td>\n",
       "      <td>4.0</td>\n",
       "      <td>65074.0</td>\n",
       "    </tr>\n",
       "    <tr>\n",
       "      <th>...</th>\n",
       "      <td>...</td>\n",
       "      <td>...</td>\n",
       "      <td>...</td>\n",
       "    </tr>\n",
       "    <tr>\n",
       "      <th>429</th>\n",
       "      <td>2020.0</td>\n",
       "      <td>37.0</td>\n",
       "      <td>23.0</td>\n",
       "    </tr>\n",
       "    <tr>\n",
       "      <th>430</th>\n",
       "      <td>2020.0</td>\n",
       "      <td>38.0</td>\n",
       "      <td>7.0</td>\n",
       "    </tr>\n",
       "    <tr>\n",
       "      <th>431</th>\n",
       "      <td>2020.0</td>\n",
       "      <td>39.0</td>\n",
       "      <td>5.0</td>\n",
       "    </tr>\n",
       "    <tr>\n",
       "      <th>432</th>\n",
       "      <td>2020.0</td>\n",
       "      <td>40.0</td>\n",
       "      <td>1.0</td>\n",
       "    </tr>\n",
       "    <tr>\n",
       "      <th>433</th>\n",
       "      <td>2020.0</td>\n",
       "      <td>41.0</td>\n",
       "      <td>1.0</td>\n",
       "    </tr>\n",
       "  </tbody>\n",
       "</table>\n",
       "<p>434 rows × 3 columns</p>\n",
       "</div>"
      ],
      "text/plain": [
       "       Year  BytesLog2    Files\n",
       "0    2010.0        0.0    124.0\n",
       "1    2010.0        1.0   1632.0\n",
       "2    2010.0        2.0   5626.0\n",
       "3    2010.0        3.0  26287.0\n",
       "4    2010.0        4.0  65074.0\n",
       "..      ...        ...      ...\n",
       "429  2020.0       37.0     23.0\n",
       "430  2020.0       38.0      7.0\n",
       "431  2020.0       39.0      5.0\n",
       "432  2020.0       40.0      1.0\n",
       "433  2020.0       41.0      1.0\n",
       "\n",
       "[434 rows x 3 columns]"
      ]
     },
     "execution_count": 125,
     "metadata": {},
     "output_type": "execute_result"
    }
   ],
   "source": [
    "filesizes_yearly"
   ]
  },
  {
   "cell_type": "code",
   "execution_count": 154,
   "metadata": {},
   "outputs": [
    {
     "data": {
      "text/plain": [
       "<AxesSubplot:xlabel='Year', ylabel='Files'>"
      ]
     },
     "execution_count": 154,
     "metadata": {},
     "output_type": "execute_result"
    },
    {
     "data": {
      "image/png": "[encoded data removed]",
      "text/plain": [
       "<Figure size 432x288 with 1 Axes>"
      ]
     },
     "metadata": {
      "needs_background": "light"
     },
     "output_type": "display_data"
    }
   ],
   "source": [
    "filesizes_yearly_sum = filesizes_yearly[['Year','Files']].groupby('Year').sum().reset_index()\n",
    "sb.scatterplot(x='Year', y='Files', data=filesizes_yearly_sum)\n",
    "\n",
    "from sklearn import linear_model\n",
    "model = linear_model.LinearRegression()\n",
    "model.fit(filesizes_sum[['Year']],filesizes_sum['Files'])\n",
    "fitted_files = model.predict(filesizes_sum[['Year']])\n",
    "sb.lineplot(x=filesizes_sum['Year'], y=fitted_files, color='tomato')"
   ]
  },
  {
   "cell_type": "code",
   "execution_count": 21,
   "metadata": {},
   "outputs": [
    {
     "data": {
      "image/png": "[encoded data removed]",
      "text/plain": [
       "<Figure size 468x468 with 1 Axes>"
      ]
     },
     "metadata": {
      "needs_background": "light"
     },
     "output_type": "display_data"
    },
    {
     "data": {
      "image/png": "[encoded data removed]",
      "text/plain": [
       "<Figure size 468x468 with 1 Axes>"
      ]
     },
     "metadata": {
      "needs_background": "light"
     },
     "output_type": "display_data"
    },
    {
     "data": {
      "image/png": "[encoded data removed]",
      "text/plain": [
       "<Figure size 468x468 with 1 Axes>"
      ]
     },
     "metadata": {
      "needs_background": "light"
     },
     "output_type": "display_data"
    },
    {
     "data": {
      "image/png": "[encoded data removed]",
      "text/plain": [
       "<Figure size 468x468 with 1 Axes>"
      ]
     },
     "metadata": {
      "needs_background": "light"
     },
     "output_type": "display_data"
    },
    {
     "data": {
      "image/png": "[encoded data removed]",
      "text/plain": [
       "<Figure size 468x468 with 1 Axes>"
      ]
     },
     "metadata": {
      "needs_background": "light"
     },
     "output_type": "display_data"
    },
    {
     "data": {
      "image/png": "[encoded data removed]",
      "text/plain": [
       "<Figure size 468x468 with 1 Axes>"
      ]
     },
     "metadata": {
      "needs_background": "light"
     },
     "output_type": "display_data"
    },
    {
     "data": {
      "image/png": "[encoded data removed]",
      "text/plain": [
       "<Figure size 468x468 with 1 Axes>"
      ]
     },
     "metadata": {
      "needs_background": "light"
     },
     "output_type": "display_data"
    },
    {
     "data": {
      "image/png": "[encoded data removed]",
      "text/plain": [
       "<Figure size 468x468 with 1 Axes>"
      ]
     },
     "metadata": {
      "needs_background": "light"
     },
     "output_type": "display_data"
    },
    {
     "data": {
      "image/png": "[encoded data removed]",
      "text/plain": [
       "<Figure size 468x468 with 1 Axes>"
      ]
     },
     "metadata": {
      "needs_background": "light"
     },
     "output_type": "display_data"
    },
    {
     "data": {
      "image/png": "[encoded data removed]",
      "text/plain": [
       "<Figure size 468x468 with 1 Axes>"
      ]
     },
     "metadata": {
      "needs_background": "light"
     },
     "output_type": "display_data"
    },
    {
     "data": {
      "image/png": "[encoded data removed]",
      "text/plain": [
       "<Figure size 468x468 with 1 Axes>"
      ]
     },
     "metadata": {
      "needs_background": "light"
     },
     "output_type": "display_data"
    },
    {
     "data": {
      "image/png": "[encoded data removed]",
      "text/plain": [
       "<Figure size 468x468 with 1 Axes>"
      ]
     },
     "metadata": {
      "needs_background": "light"
     },
     "output_type": "display_data"
    }
   ],
   "source": [
    "for year, yearly_data in filesizes_yearly.groupby('year'):\n",
    "    filesizes_plot, filesizes_plot_ax = plt.subplots(figsize=(6.5, 6.5))\n",
    "    sb.barplot(x='bytes2', y='n', data=yearly_data)\n",
    "    plt.title(year)"
   ]
  },
  {
   "cell_type": "code",
   "execution_count": 22,
   "metadata": {},
   "outputs": [],
   "source": [
    "filesizes_2020 = filesizes_yearly.loc[filesizes_yearly['year'] == 2020,:]"
   ]
  },
  {
   "cell_type": "code",
   "execution_count": 23,
   "metadata": {},
   "outputs": [
    {
     "data": {
      "text/plain": [
       "392     0\n",
       "393     1\n",
       "394     2\n",
       "395     3\n",
       "396     4\n",
       "397     5\n",
       "398     6\n",
       "399     7\n",
       "400     8\n",
       "401     9\n",
       "402    10\n",
       "403    11\n",
       "404    12\n",
       "405    13\n",
       "406    14\n",
       "407    15\n",
       "408    16\n",
       "409    17\n",
       "410    18\n",
       "411    19\n",
       "412    20\n",
       "413    21\n",
       "414    22\n",
       "415    23\n",
       "416    24\n",
       "417    25\n",
       "418    26\n",
       "419    27\n",
       "420    28\n",
       "421    29\n",
       "422    30\n",
       "423    31\n",
       "424    32\n",
       "425    33\n",
       "426    34\n",
       "427    35\n",
       "428    36\n",
       "429    37\n",
       "430    38\n",
       "431    39\n",
       "432    40\n",
       "433    41\n",
       "Name: bytes2, dtype: category\n",
       "Categories (42, int64): [0, 1, 2, 3, ..., 38, 39, 40, 41]"
      ]
     },
     "execution_count": 23,
     "metadata": {},
     "output_type": "execute_result"
    }
   ],
   "source": [
    "bins = filesizes_2020['bytes2'].astype('category')\n",
    "bins"
   ]
  },
  {
   "cell_type": "code",
   "execution_count": 24,
   "metadata": {},
   "outputs": [
    {
     "data": {
      "text/plain": [
       "bytes2    12.82\n",
       "dtype: float64"
      ]
     },
     "execution_count": 24,
     "metadata": {},
     "output_type": "execute_result"
    }
   ],
   "source": [
    "def get_bootstrapped_mean(year):\n",
    "    df = filesizes_yearly.loc[filesizes_yearly['year'] == year,:]\n",
    "    dataset = df[['bytes2']].sample(100, replace=True, weights=df['n'])\n",
    "    return dataset.mean()\n",
    "\n",
    "get_bootstrapped_mean(2020)"
   ]
  },
  {
   "cell_type": "code",
   "execution_count": 10,
   "metadata": {},
   "outputs": [],
   "source": [
    "from numpy.random import choice\n",
    "\n",
    "def get_bootstrapped_mean2(year, n_means=10000):\n",
    "    df = filesizes_yearly.loc[filesizes_yearly['year'] == year,:]\n",
    "    bytes2 = df['bytes2']\n",
    "    n = df['n']/df['n'].sum()\n",
    "    means = np.zeros(n_means, dtype=np.float64)\n",
    "    for i in range(n_means):\n",
    "        means[i] = np.mean(choice(bytes2, 100, replace=True, p=n))\n",
    "    return means"
   ]
  },
  {
   "cell_type": "code",
   "execution_count": 26,
   "metadata": {},
   "outputs": [],
   "source": [
    "def get_bootstrapped_mean3(year, n_means=10000):\n",
    "    df = filesizes_yearly.loc[filesizes_yearly['year'] == year,:]\n",
    "    bytes2 = df[['bytes2']]\n",
    "    n = df['n']\n",
    "    means = np.zeros(n_means, dtype=np.float64)\n",
    "    for i in range(n_means):\n",
    "        means[i] = bytes2.sample(100, replace=True, weights=n).mean()\n",
    "    return means"
   ]
  },
  {
   "cell_type": "code",
   "execution_count": null,
   "metadata": {},
   "outputs": [],
   "source": [
    "%%timeit\n",
    "n_means = 10000\n",
    "means = np.zeros(n_means, dtype=np.float64)\n",
    "for i in range(n_means):\n",
    "    means[i] = get_bootstrapped_mean(2020)"
   ]
  },
  {
   "cell_type": "code",
   "execution_count": null,
   "metadata": {},
   "outputs": [],
   "source": [
    "%%timeit\n",
    "get_bootstrapped_mean2(2020)"
   ]
  },
  {
   "cell_type": "code",
   "execution_count": null,
   "metadata": {},
   "outputs": [],
   "source": [
    "%%timeit\n",
    "get_bootstrapped_mean3(2020)"
   ]
  },
  {
   "cell_type": "code",
   "execution_count": null,
   "metadata": {},
   "outputs": [],
   "source": [
    "get_bootstrapped_mean3(2020)"
   ]
  },
  {
   "cell_type": "code",
   "execution_count": null,
   "metadata": {},
   "outputs": [],
   "source": [
    "plt.hist(p, bins=bins)"
   ]
  },
  {
   "cell_type": "code",
   "execution_count": 27,
   "metadata": {},
   "outputs": [],
   "source": [
    "years = filesizes_yearly['year'].unique()\n",
    "bytes2 = filesizes_yearly['bytes2'].unique()"
   ]
  },
  {
   "cell_type": "code",
   "execution_count": 34,
   "metadata": {},
   "outputs": [],
   "source": [
    "filesizes_sampled = pd.DataFrame({'year':years})\n",
    "filesizes_sampled['sampled_means'] = filesizes_sampled.loc[:,'year'].apply(get_bootstrapped_mean2)"
   ]
  },
  {
   "cell_type": "code",
   "execution_count": 35,
   "metadata": {},
   "outputs": [],
   "source": [
    "filesizes_sampled = filesizes_sampled.explode('sampled_means')\n",
    "filesizes_sampled['sampled_means'] = filesizes_sampled['sampled_means'].astype(np.float64)"
   ]
  },
  {
   "cell_type": "code",
   "execution_count": 36,
   "metadata": {},
   "outputs": [
    {
     "data": {
      "text/plain": [
       "year               int64\n",
       "sampled_means    float64\n",
       "dtype: object"
      ]
     },
     "execution_count": 36,
     "metadata": {},
     "output_type": "execute_result"
    }
   ],
   "source": [
    "filesizes_sampled.dtypes"
   ]
  },
  {
   "cell_type": "code",
   "execution_count": 37,
   "metadata": {},
   "outputs": [
    {
     "data": {
      "text/plain": [
       "year\n",
       "2010    13.197945\n",
       "2011    14.133348\n",
       "2012    10.671955\n",
       "2013    13.412672\n",
       "2014    14.026149\n",
       "2015    11.728573\n",
       "2016    13.406113\n",
       "2017    12.136109\n",
       "2018    13.132024\n",
       "2019    13.730133\n",
       "2020    13.236934\n",
       "2021    10.956056\n",
       "Name: sampled_means, dtype: float64"
      ]
     },
     "execution_count": 37,
     "metadata": {},
     "output_type": "execute_result"
    }
   ],
   "source": [
    "filesizes_sampled.groupby('year')['sampled_means'].mean()"
   ]
  },
  {
   "cell_type": "code",
   "execution_count": null,
   "metadata": {},
   "outputs": [],
   "source": [
    "for year in years:\n",
    "    \n",
    "    sample_data = filesizes_sampled.loc[filesizes_sampled['year'] == year, ['sampled_means']]\n",
    "    bytes_data = filesizes_yearly.loc[filesizes_yearly['year'] == year, ['bytes2','n']]\n",
    "    \n",
    "    filesizes_plot, (filesizes_plot_ax1, filesizes_plot_ax2) = plt.subplots(nrows=2,figsize=(6.5, 6.5))\n",
    "    sb.barplot(x='bytes2', y='n', data=bytes_data, ax=filesizes_plot_ax1)\n",
    "    filesizes_plot_ax1.set_xticks(ticks=bytes2[::4])\n",
    "    filesizes_plot_ax1.set_xlim(left=bytes2[0], right=bytes2[-1])\n",
    "    sb.histplot(x='sampled_means', bins=10, data=sample_data, ax=filesizes_plot_ax2)\n",
    "    filesizes_plot_ax2.set_xticks(ticks=bytes2[::4])\n",
    "    filesizes_plot_ax2.set_xlim(left=bytes2[0], right=bytes2[-1])\n",
    "    plt.title(year)\n",
    "    plt.tight_layout()"
   ]
  },
  {
   "cell_type": "code",
   "execution_count": null,
   "metadata": {},
   "outputs": [],
   "source": [
    "import numpy as np"
   ]
  },
  {
   "cell_type": "code",
   "execution_count": null,
   "metadata": {},
   "outputs": [],
   "source": [
    "from itertools import product"
   ]
  },
  {
   "cell_type": "code",
   "execution_count": null,
   "metadata": {},
   "outputs": [],
   "source": [
    "samples = pd.DataFrame([ (x,y) for x,y in product(range(10000), years) ], columns=('sample', 'year'))"
   ]
  },
  {
   "cell_type": "code",
   "execution_count": null,
   "metadata": {},
   "outputs": [],
   "source": [
    "samples['mean_filesize'] = samples['year'].apply(get_bootstrapped_mean)"
   ]
  },
  {
   "cell_type": "code",
   "execution_count": null,
   "metadata": {},
   "outputs": [],
   "source": [
    "import numpy as np"
   ]
  },
  {
   "cell_type": "code",
   "execution_count": null,
   "metadata": {},
   "outputs": [],
   "source": [
    "samples['mean_filesize'] = np.vectorize(get_bootstrapped_mean)(samples['year'])"
   ]
  },
  {
   "cell_type": "code",
   "execution_count": null,
   "metadata": {},
   "outputs": [],
   "source": [
    "for year in years:\n",
    "    \n",
    "    sample_data = samples.loc[samples['year'] == year, ['mean']]\n",
    "    bytes_data = filesizes_yearly.loc[filesizes_yearly['year'] == year, ['bytes2','n']]\n",
    "    \n",
    "    filesizes_plot, (filesizes_plot_ax1, filesizes_plot_ax2) = plt.subplots(nrows=2,figsize=(6.5, 6.5))\n",
    "    sb.barplot(x='bytes2', y='n', data=bytes_data, ax=filesizes_plot_ax1)\n",
    "    filesizes_plot_ax1.set_xticks(ticks=bytes2[::4])\n",
    "    filesizes_plot_ax1.set_xlim(left=bytes2[0], right=bytes2[-1])\n",
    "    sb.histplot(x='mean_filesize', bins=10, data=sample_data, ax=filesizes_plot_ax2)\n",
    "    filesizes_plot_ax2.set_xticks(ticks=bytes2[::4])\n",
    "    filesizes_plot_ax2.set_xlim(left=bytes2[0], right=bytes2[-1])\n",
    "    plt.title(year)\n",
    "    plt.tight_layout()"
   ]
  },
  {
   "cell_type": "code",
   "execution_count": null,
   "metadata": {},
   "outputs": [],
   "source": [
    "samples['mean']"
   ]
  },
  {
   "cell_type": "code",
   "execution_count": null,
   "metadata": {},
   "outputs": [],
   "source": [
    "sb.barplot(x='bytes2', y='mean_filesize', data=filesizes_sampled2020)"
   ]
  },
  {
   "cell_type": "code",
   "execution_count": null,
   "metadata": {},
   "outputs": [],
   "source": []
  }
 ],
 "metadata": {
  "kernelspec": {
   "display_name": "Python 3",
   "language": "python",
   "name": "python3"
  },
  "language_info": {
   "codemirror_mode": {
    "name": "ipython",
    "version": 3
   },
   "file_extension": ".py",
   "mimetype": "text/x-python",
   "name": "python",
   "nbconvert_exporter": "python",
   "pygments_lexer": "ipython3",
   "version": "3.7.9"
  }
 },
 "nbformat": 4,
 "nbformat_minor": 4
}

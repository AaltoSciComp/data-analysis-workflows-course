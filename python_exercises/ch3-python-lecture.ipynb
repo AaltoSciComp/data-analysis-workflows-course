{
 "cells": [
  {
   "cell_type": "markdown",
   "metadata": {},
   "source": [
    "# Chapter 3\n",
    "\n",
    "## Exercise 1"
   ]
  },
  {
   "cell_type": "code",
   "execution_count": 1,
   "metadata": {},
   "outputs": [],
   "source": [
    "import pandas as pd\n",
    "import numpy as np\n",
    "import matplotlib.pyplot as plt\n",
    "import seaborn as sb"
   ]
  },
  {
   "cell_type": "markdown",
   "metadata": {},
   "source": [
    "### Problem 1\n",
    "\n",
    "\n",
    "[read_table](https://pandas.pydata.org/pandas-docs/stable/reference/api/pandas.read_table.html)\n",
    "\n",
    "[Timedelta](https://pandas.pydata.org/pandas-docs/stable/user_guide/timedeltas.html)"
   ]
  },
  {
   "cell_type": "code",
   "execution_count": 2,
   "metadata": {},
   "outputs": [
    {
     "data": {
      "text/html": [
       "<div>\n",
       "<style scoped>\n",
       "    .dataframe tbody tr th:only-of-type {\n",
       "        vertical-align: middle;\n",
       "    }\n",
       "\n",
       "    .dataframe tbody tr th {\n",
       "        vertical-align: top;\n",
       "    }\n",
       "\n",
       "    .dataframe thead th {\n",
       "        text-align: right;\n",
       "    }\n",
       "</style>\n",
       "<table border=\"1\" class=\"dataframe\">\n",
       "  <thead>\n",
       "    <tr style=\"text-align: right;\">\n",
       "      <th></th>\n",
       "      <th>Bytes</th>\n",
       "      <th>Files</th>\n",
       "      <th>BytesLog2</th>\n",
       "      <th>SpaceUsage</th>\n",
       "      <th>Year</th>\n",
       "      <th>Month</th>\n",
       "      <th>Date</th>\n",
       "    </tr>\n",
       "  </thead>\n",
       "  <tbody>\n",
       "    <tr>\n",
       "      <th>287</th>\n",
       "      <td>1</td>\n",
       "      <td>5</td>\n",
       "      <td>0</td>\n",
       "      <td>5</td>\n",
       "      <td>2010.0</td>\n",
       "      <td>January</td>\n",
       "      <td>2010-01-01</td>\n",
       "    </tr>\n",
       "    <tr>\n",
       "      <th>451</th>\n",
       "      <td>2</td>\n",
       "      <td>3</td>\n",
       "      <td>1</td>\n",
       "      <td>6</td>\n",
       "      <td>2010.0</td>\n",
       "      <td>January</td>\n",
       "      <td>2010-01-01</td>\n",
       "    </tr>\n",
       "    <tr>\n",
       "      <th>627</th>\n",
       "      <td>4</td>\n",
       "      <td>27</td>\n",
       "      <td>2</td>\n",
       "      <td>108</td>\n",
       "      <td>2010.0</td>\n",
       "      <td>January</td>\n",
       "      <td>2010-01-01</td>\n",
       "    </tr>\n",
       "    <tr>\n",
       "      <th>822</th>\n",
       "      <td>8</td>\n",
       "      <td>136</td>\n",
       "      <td>3</td>\n",
       "      <td>1088</td>\n",
       "      <td>2010.0</td>\n",
       "      <td>January</td>\n",
       "      <td>2010-01-01</td>\n",
       "    </tr>\n",
       "    <tr>\n",
       "      <th>1057</th>\n",
       "      <td>16</td>\n",
       "      <td>208</td>\n",
       "      <td>4</td>\n",
       "      <td>3328</td>\n",
       "      <td>2010.0</td>\n",
       "      <td>January</td>\n",
       "      <td>2010-01-01</td>\n",
       "    </tr>\n",
       "  </tbody>\n",
       "</table>\n",
       "</div>"
      ],
      "text/plain": [
       "      Bytes  Files  BytesLog2  SpaceUsage    Year    Month       Date\n",
       "287       1      5          0           5  2010.0  January 2010-01-01\n",
       "451       2      3          1           6  2010.0  January 2010-01-01\n",
       "627       4     27          2         108  2010.0  January 2010-01-01\n",
       "822       8    136          3        1088  2010.0  January 2010-01-01\n",
       "1057     16    208          4        3328  2010.0  January 2010-01-01"
      ]
     },
     "execution_count": 2,
     "metadata": {},
     "output_type": "execute_result"
    }
   ],
   "source": [
    "def load_filesizes(filesizes_file):\n",
    "    filesizes = pd.read_table(filesizes_file, sep='\\s+', names=['Bytes','MonthsTo2021', 'Files'])\n",
    "    \n",
    "    # Remove empty files\n",
    "    filesizes = filesizes[filesizes.loc[:,'Bytes'] != 0]\n",
    "    # Create a column for log2 of bytes\n",
    "    filesizes['BytesLog2'] = np.log2(filesizes.loc[:, 'Bytes'])\n",
    "    filesizes.loc[:,'BytesLog2'] = filesizes.loc[:,'BytesLog2'].astype(np.int64)\n",
    "    # Determine total space S used by N files of size X during date D: S=N*X \n",
    "    filesizes['SpaceUsage'] = filesizes.loc[:,'Bytes']*filesizes.loc[:,'Files']\n",
    "    # Determine file year and month from the MonthsTo2021-column\n",
    "    filesizes['TotalMonths'] = 2021*12 - filesizes['MonthsTo2021'] - 1\n",
    "    filesizes['Year'] = filesizes['TotalMonths'] // 12\n",
    "    filesizes['Month'] = filesizes['TotalMonths'] % 12 + 1\n",
    "    filesizes['Day'] = 1\n",
    "    \n",
    "    # Set year for really old files and files with incorrect timestamps\n",
    "    invalid_years = (filesizes['Year'] < 2010) | (filesizes['Year'] > 2020)\n",
    "    filesizes.loc[invalid_years, ['Year','Month']] = np.NaN\n",
    "    \n",
    "    # Get month names for the correct ordering of Month categories\n",
    "    month_names = pd.date_range(start='2000-01', freq='M', periods=12).month_name()\n",
    "    # Create Date\n",
    "    filesizes['Date'] = pd.to_datetime(filesizes[['Year', 'Month', 'Day']])\n",
    "    # Set Month\n",
    "    filesizes['Month'] = pd.Categorical(filesizes['Date'].dt.month_name(), categories=month_names, ordered=True)\n",
    "    # Set Month to be an ordered categorical with predefined levels \n",
    "    filesizes['Month'] = pd.Categorical(filesizes['Month'], categories=month_names, ordered=True)\n",
    "    # Sort data based on Date and BytesLog2\n",
    "    filesizes.sort_values(['Date','BytesLog2'], inplace=True)\n",
    "    # Remove old columns\n",
    "    filesizes.drop(['MonthsTo2021','TotalMonths', 'Day'], axis=1, inplace=True)\n",
    "    return filesizes\n",
    "\n",
    "filesizes = load_filesizes('../data/filesizes_timestamps.txt')\n",
    "filesizes.head()"
   ]
  },
  {
   "cell_type": "markdown",
   "metadata": {},
   "source": [
    "[resample](https://pandas.pydata.org/pandas-docs/stable/reference/api/pandas.Series.resample.html#pandas.Series.resample)"
   ]
  },
  {
   "cell_type": "code",
   "execution_count": 5,
   "metadata": {},
   "outputs": [
    {
     "data": {
      "text/html": [
       "<div>\n",
       "<style scoped>\n",
       "    .dataframe tbody tr th:only-of-type {\n",
       "        vertical-align: middle;\n",
       "    }\n",
       "\n",
       "    .dataframe tbody tr th {\n",
       "        vertical-align: top;\n",
       "    }\n",
       "\n",
       "    .dataframe thead th {\n",
       "        text-align: right;\n",
       "    }\n",
       "</style>\n",
       "<table border=\"1\" class=\"dataframe\">\n",
       "  <thead>\n",
       "    <tr style=\"text-align: right;\">\n",
       "      <th></th>\n",
       "      <th>Year</th>\n",
       "      <th>Files</th>\n",
       "    </tr>\n",
       "  </thead>\n",
       "  <tbody>\n",
       "    <tr>\n",
       "      <th>287</th>\n",
       "      <td>2010.0</td>\n",
       "      <td>5</td>\n",
       "    </tr>\n",
       "    <tr>\n",
       "      <th>451</th>\n",
       "      <td>2010.0</td>\n",
       "      <td>3</td>\n",
       "    </tr>\n",
       "    <tr>\n",
       "      <th>627</th>\n",
       "      <td>2010.0</td>\n",
       "      <td>27</td>\n",
       "    </tr>\n",
       "    <tr>\n",
       "      <th>822</th>\n",
       "      <td>2010.0</td>\n",
       "      <td>136</td>\n",
       "    </tr>\n",
       "    <tr>\n",
       "      <th>1057</th>\n",
       "      <td>2010.0</td>\n",
       "      <td>208</td>\n",
       "    </tr>\n",
       "  </tbody>\n",
       "</table>\n",
       "</div>"
      ],
      "text/plain": [
       "        Year  Files\n",
       "287   2010.0      5\n",
       "451   2010.0      3\n",
       "627   2010.0     27\n",
       "822   2010.0    136\n",
       "1057  2010.0    208"
      ]
     },
     "execution_count": 5,
     "metadata": {},
     "output_type": "execute_result"
    }
   ],
   "source": [
    "# Drop rows with NaNs (invalid years)\n",
    "newfiles_relevant = filesizes.dropna(axis=0)\n",
    "# Pick relevant columns\n",
    "newfiles_relevant = newfiles_relevant.loc[:,['Year','Files']]\n",
    "newfiles_relevant.head()"
   ]
  },
  {
   "cell_type": "code",
   "execution_count": 6,
   "metadata": {},
   "outputs": [
    {
     "name": "stdout",
     "output_type": "stream",
     "text": [
      "(4698, 2)\n",
      "(11, 1)\n"
     ]
    },
    {
     "data": {
      "text/html": [
       "<div>\n",
       "<style scoped>\n",
       "    .dataframe tbody tr th:only-of-type {\n",
       "        vertical-align: middle;\n",
       "    }\n",
       "\n",
       "    .dataframe tbody tr th {\n",
       "        vertical-align: top;\n",
       "    }\n",
       "\n",
       "    .dataframe thead th {\n",
       "        text-align: right;\n",
       "    }\n",
       "</style>\n",
       "<table border=\"1\" class=\"dataframe\">\n",
       "  <thead>\n",
       "    <tr style=\"text-align: right;\">\n",
       "      <th></th>\n",
       "      <th>Files</th>\n",
       "    </tr>\n",
       "    <tr>\n",
       "      <th>Year</th>\n",
       "      <th></th>\n",
       "    </tr>\n",
       "  </thead>\n",
       "  <tbody>\n",
       "    <tr>\n",
       "      <th>2010.0</th>\n",
       "      <td>5590287</td>\n",
       "    </tr>\n",
       "    <tr>\n",
       "      <th>2011.0</th>\n",
       "      <td>13197038</td>\n",
       "    </tr>\n",
       "    <tr>\n",
       "      <th>2012.0</th>\n",
       "      <td>17099900</td>\n",
       "    </tr>\n",
       "    <tr>\n",
       "      <th>2013.0</th>\n",
       "      <td>14755151</td>\n",
       "    </tr>\n",
       "    <tr>\n",
       "      <th>2014.0</th>\n",
       "      <td>26329321</td>\n",
       "    </tr>\n",
       "  </tbody>\n",
       "</table>\n",
       "</div>"
      ],
      "text/plain": [
       "           Files\n",
       "Year            \n",
       "2010.0   5590287\n",
       "2011.0  13197038\n",
       "2012.0  17099900\n",
       "2013.0  14755151\n",
       "2014.0  26329321"
      ]
     },
     "execution_count": 6,
     "metadata": {},
     "output_type": "execute_result"
    }
   ],
   "source": [
    "print(newfiles_relevant.shape)\n",
    "\n",
    "newfiles_yearly_sum = newfiles_relevant.groupby('Year').agg('sum')\n",
    "\n",
    "print(newfiles_yearly_sum.shape)\n",
    "newfiles_yearly_sum.head()"
   ]
  },
  {
   "cell_type": "code",
   "execution_count": 7,
   "metadata": {},
   "outputs": [
    {
     "data": {
      "text/html": [
       "<div>\n",
       "<style scoped>\n",
       "    .dataframe tbody tr th:only-of-type {\n",
       "        vertical-align: middle;\n",
       "    }\n",
       "\n",
       "    .dataframe tbody tr th {\n",
       "        vertical-align: top;\n",
       "    }\n",
       "\n",
       "    .dataframe thead th {\n",
       "        text-align: right;\n",
       "    }\n",
       "</style>\n",
       "<table border=\"1\" class=\"dataframe\">\n",
       "  <thead>\n",
       "    <tr style=\"text-align: right;\">\n",
       "      <th></th>\n",
       "      <th>Year</th>\n",
       "      <th>Files</th>\n",
       "    </tr>\n",
       "  </thead>\n",
       "  <tbody>\n",
       "    <tr>\n",
       "      <th>0</th>\n",
       "      <td>2010.0</td>\n",
       "      <td>5590287</td>\n",
       "    </tr>\n",
       "    <tr>\n",
       "      <th>1</th>\n",
       "      <td>2011.0</td>\n",
       "      <td>13197038</td>\n",
       "    </tr>\n",
       "    <tr>\n",
       "      <th>2</th>\n",
       "      <td>2012.0</td>\n",
       "      <td>17099900</td>\n",
       "    </tr>\n",
       "    <tr>\n",
       "      <th>3</th>\n",
       "      <td>2013.0</td>\n",
       "      <td>14755151</td>\n",
       "    </tr>\n",
       "    <tr>\n",
       "      <th>4</th>\n",
       "      <td>2014.0</td>\n",
       "      <td>26329321</td>\n",
       "    </tr>\n",
       "  </tbody>\n",
       "</table>\n",
       "</div>"
      ],
      "text/plain": [
       "     Year     Files\n",
       "0  2010.0   5590287\n",
       "1  2011.0  13197038\n",
       "2  2012.0  17099900\n",
       "3  2013.0  14755151\n",
       "4  2014.0  26329321"
      ]
     },
     "execution_count": 7,
     "metadata": {},
     "output_type": "execute_result"
    }
   ],
   "source": [
    "newfiles_yearly_sum.reset_index(inplace=True)\n",
    "\n",
    "newfiles_yearly_sum.head()"
   ]
  },
  {
   "cell_type": "code",
   "execution_count": 8,
   "metadata": {},
   "outputs": [
    {
     "data": {
      "image/png": "[encoded data removed]",
      "text/plain": [
       "<Figure size 432x288 with 1 Axes>"
      ]
     },
     "metadata": {
      "needs_background": "light"
     },
     "output_type": "display_data"
    }
   ],
   "source": [
    "sb.barplot(x='Year', y='Files', data=newfiles_yearly_sum, ci=None)\n",
    "plt.savefig('newfiles_yearly_sum_python.svg')"
   ]
  },
  {
   "cell_type": "code",
   "execution_count": 4,
   "metadata": {},
   "outputs": [
    {
     "data": {
      "text/html": [
       "<div>\n",
       "<style scoped>\n",
       "    .dataframe tbody tr th:only-of-type {\n",
       "        vertical-align: middle;\n",
       "    }\n",
       "\n",
       "    .dataframe tbody tr th {\n",
       "        vertical-align: top;\n",
       "    }\n",
       "\n",
       "    .dataframe thead th {\n",
       "        text-align: right;\n",
       "    }\n",
       "</style>\n",
       "<table border=\"1\" class=\"dataframe\">\n",
       "  <thead>\n",
       "    <tr style=\"text-align: right;\">\n",
       "      <th></th>\n",
       "      <th>Year</th>\n",
       "      <th>Files</th>\n",
       "    </tr>\n",
       "  </thead>\n",
       "  <tbody>\n",
       "    <tr>\n",
       "      <th>0</th>\n",
       "      <td>2010.0</td>\n",
       "      <td>5590287</td>\n",
       "    </tr>\n",
       "    <tr>\n",
       "      <th>1</th>\n",
       "      <td>2011.0</td>\n",
       "      <td>13197038</td>\n",
       "    </tr>\n",
       "    <tr>\n",
       "      <th>2</th>\n",
       "      <td>2012.0</td>\n",
       "      <td>17099900</td>\n",
       "    </tr>\n",
       "    <tr>\n",
       "      <th>3</th>\n",
       "      <td>2013.0</td>\n",
       "      <td>14755151</td>\n",
       "    </tr>\n",
       "    <tr>\n",
       "      <th>4</th>\n",
       "      <td>2014.0</td>\n",
       "      <td>26329321</td>\n",
       "    </tr>\n",
       "  </tbody>\n",
       "</table>\n",
       "</div>"
      ],
      "text/plain": [
       "     Year     Files\n",
       "0  2010.0   5590287\n",
       "1  2011.0  13197038\n",
       "2  2012.0  17099900\n",
       "3  2013.0  14755151\n",
       "4  2014.0  26329321"
      ]
     },
     "execution_count": 4,
     "metadata": {},
     "output_type": "execute_result"
    }
   ],
   "source": [
    "def aggregate_filesize_data(data, groupings, targets, agg_function):\n",
    "    # Drop rows with NaNs (invalid years)\n",
    "    data_relevant = data.dropna(axis=0)\n",
    "    # Pick relevant columns\n",
    "    data_relevant = data_relevant.loc[:, groupings + targets]\n",
    "    # Change grouping to category for prettier plotting\n",
    "    data_relevant[groupings] = data_relevant[groupings].astype('category')\n",
    "\n",
    "    # Aggregate data\n",
    "    data_aggregated = data_relevant.groupby(groupings).agg(agg_function).reset_index()\n",
    "    return data_aggregated\n",
    "\n",
    "newfiles_yearly_sum = aggregate_filesize_data(filesizes, ['Year'], ['Files'], 'sum')\n",
    "newfiles_yearly_sum.head()"
   ]
  },
  {
   "cell_type": "code",
   "execution_count": 10,
   "metadata": {},
   "outputs": [
    {
     "name": "stdout",
     "output_type": "stream",
     "text": [
      "   Year     Files      SpaceUsage\n",
      "0  2010   5590287   2260716407068\n",
      "1  2011  13197038   7000732111463\n",
      "2  2012  17099900  15475575370580\n",
      "3  2013  14755151  15445375302767\n",
      "4  2014  26329321  42530364324322\n",
      "      Month     Files      SpaceUsage\n",
      "0   January  34921070  43131219269056\n",
      "1  February  35707864  71022501061692\n",
      "2     March  25494722  56516865081262\n",
      "3     April  31224476  75382094990077\n",
      "4       May  37816173  75338621861676\n"
     ]
    },
    {
     "data": {
      "image/png": "[encoded data removed]",
      "text/plain": [
       "<Figure size 576x1152 with 4 Axes>"
      ]
     },
     "metadata": {
      "needs_background": "light"
     },
     "output_type": "display_data"
    }
   ],
   "source": [
    "yearly_sum = aggregate_filesize_data(filesizes, ['Year'], ['Files', 'SpaceUsage'], 'sum')\n",
    "monthly_sum = aggregate_filesize_data(filesizes, ['Month'], ['Files', 'SpaceUsage'], 'sum')\n",
    "\n",
    "yearly_sum['Year'] = yearly_sum['Year'].astype(int).astype('category')\n",
    "\n",
    "print(yearly_sum.head())\n",
    "print(monthly_sum.head())\n",
    "\n",
    "fig, ((ax1, ax2, ax3, ax4))=plt.subplots(nrows=4, figsize=(8,16))\n",
    "sb.barplot(x='Year', y='Files', data=yearly_sum, ci=None, ax=ax1)\n",
    "sb.barplot(x='Year', y='SpaceUsage', data=yearly_sum, ci=None, ax=ax2)\n",
    "sb.barplot(x='Month', y='Files', data=monthly_sum, ci=None, ax=ax3)\n",
    "sb.barplot(x='Month', y='SpaceUsage', data=monthly_sum, ci=None, ax=ax4)\n",
    "plt.tight_layout()"
   ]
  },
  {
   "cell_type": "code",
   "execution_count": 30,
   "metadata": {},
   "outputs": [
    {
     "data": {
      "text/html": [
       "<div>\n",
       "<style scoped>\n",
       "    .dataframe tbody tr th:only-of-type {\n",
       "        vertical-align: middle;\n",
       "    }\n",
       "\n",
       "    .dataframe tbody tr th {\n",
       "        vertical-align: top;\n",
       "    }\n",
       "\n",
       "    .dataframe thead th {\n",
       "        text-align: right;\n",
       "    }\n",
       "</style>\n",
       "<table border=\"1\" class=\"dataframe\">\n",
       "  <thead>\n",
       "    <tr style=\"text-align: right;\">\n",
       "      <th></th>\n",
       "      <th></th>\n",
       "      <th>Files</th>\n",
       "    </tr>\n",
       "    <tr>\n",
       "      <th>Year</th>\n",
       "      <th>BytesLog2</th>\n",
       "      <th></th>\n",
       "    </tr>\n",
       "  </thead>\n",
       "  <tbody>\n",
       "    <tr>\n",
       "      <th rowspan=\"5\" valign=\"top\">2010.0</th>\n",
       "      <th>0</th>\n",
       "      <td>124</td>\n",
       "    </tr>\n",
       "    <tr>\n",
       "      <th>1</th>\n",
       "      <td>1632</td>\n",
       "    </tr>\n",
       "    <tr>\n",
       "      <th>2</th>\n",
       "      <td>5626</td>\n",
       "    </tr>\n",
       "    <tr>\n",
       "      <th>3</th>\n",
       "      <td>26287</td>\n",
       "    </tr>\n",
       "    <tr>\n",
       "      <th>4</th>\n",
       "      <td>65074</td>\n",
       "    </tr>\n",
       "  </tbody>\n",
       "</table>\n",
       "</div>"
      ],
      "text/plain": [
       "                  Files\n",
       "Year   BytesLog2       \n",
       "2010.0 0            124\n",
       "       1           1632\n",
       "       2           5626\n",
       "       3          26287\n",
       "       4          65074"
      ]
     },
     "execution_count": 30,
     "metadata": {},
     "output_type": "execute_result"
    }
   ],
   "source": [
    "# Drop rows with NaNs (invalid years)\n",
    "newfiles_relevant2 = filesizes.dropna(axis=0)\n",
    "# Pick relevant columns\n",
    "newfiles_relevant2 = newfiles_relevant2.loc[:,['Year','BytesLog2','Files']]\n",
    "# Aggregate based on Year and BytesLog2\n",
    "newfiles_yearly_sum2 = newfiles_relevant2.groupby(['Year','BytesLog2']).agg('sum')\n",
    "\n",
    "newfiles_yearly_sum2.head()"
   ]
  },
  {
   "cell_type": "markdown",
   "metadata": {},
   "source": [
    "## Using bootstrapping/resampling methods for the calculation of statistical moments"
   ]
  },
  {
   "cell_type": "markdown",
   "metadata": {},
   "source": [
    "### Quick overview of bootstrapping"
   ]
  },
  {
   "cell_type": "code",
   "execution_count": 5,
   "metadata": {},
   "outputs": [
    {
     "data": {
      "image/png": "[encoded data removed]",
      "text/plain": [
       "<Figure size 432x288 with 1 Axes>"
      ]
     },
     "metadata": {
      "needs_background": "light"
     },
     "output_type": "display_data"
    }
   ],
   "source": [
    "yearly_bytes_sum = aggregate_filesize_data(filesizes, ['Year','BytesLog2'], ['Files', 'SpaceUsage'], 'sum')\n",
    "\n",
    "bytes_2020 = yearly_bytes_sum[yearly_bytes_sum['Year'] == 2020]\n",
    "\n",
    "sb.barplot(x='BytesLog2', y='Files', data=bytes_2020, ci=None)\n",
    "plt.title(2020)\n",
    "plt.savefig('file-distribution-2020.svg')"
   ]
  },
  {
   "cell_type": "code",
   "execution_count": 125,
   "metadata": {},
   "outputs": [
    {
     "name": "stdout",
     "output_type": "stream",
     "text": [
      "430    0\n",
      "431    1\n",
      "432    2\n",
      "433    3\n",
      "434    4\n",
      "Name: BytesLog2, dtype: category\n",
      "Categories (43, int64): [0, 1, 2, 3, ..., 39, 40, 41, 42]\n",
      "430    0.000327\n",
      "431    0.001940\n",
      "432    0.001471\n",
      "433    0.007406\n",
      "434    0.014570\n",
      "Name: Files, dtype: float64\n"
     ]
    }
   ],
   "source": [
    "# Pick target data column\n",
    "target_data = bytes_2020['BytesLog2'].copy()\n",
    "# Pick weight data column\n",
    "weight_data = bytes_2020['Files'].copy()\n",
    "# Fill zeros to those byte sizes that are not present in the Files-data\n",
    "weight_data.fillna(0, inplace=True)\n",
    "# Normalize weight_data into probabilities\n",
    "weight_data = weight_data/weight_data.sum()\n",
    "print(target_data.head())\n",
    "print(weight_data.head())"
   ]
  },
  {
   "cell_type": "code",
   "execution_count": 126,
   "metadata": {},
   "outputs": [
    {
     "name": "stdout",
     "output_type": "stream",
     "text": [
      "[13.07 12.62 12.63 12.74 13.6  13.47 13.39 12.83 13.77 13.04 13.38 13.22\n",
      " 12.77 13.37 12.66 13.24 12.78 12.97 13.88 13.31 13.11 12.84 13.12 13.39\n",
      " 12.98 14.01 12.61 13.73 13.54 13.34 13.43 13.16 14.41 12.97 13.15 13.28\n",
      " 12.49 13.61 13.58 13.27 13.33 12.73 12.96 13.39 12.87 13.   13.31 12.36\n",
      " 14.44 12.74 14.01 13.39 13.16 12.63 12.14 13.04 13.31 13.71 13.08 12.66\n",
      " 12.19 13.37 13.09 13.12 13.06 13.2  13.99 13.34 13.16 13.27 13.23 13.33\n",
      " 12.76 13.29 13.67 13.35 12.97 13.14 13.56 13.68 13.19 12.62 12.81 13.15\n",
      " 13.14 13.35 13.29 12.56 13.88 13.38 13.04 13.09 12.94 13.54 13.58 13.68\n",
      " 13.08 12.44 13.38 13.11]\n",
      "Estimated sample mean: 13.190400000000002\n"
     ]
    }
   ],
   "source": [
    "# Create means vector\n",
    "means = np.zeros(100, dtype=np.float64)\n",
    "for i in range(100):\n",
    "    # Calculate resampled mean\n",
    "    means[i] = np.mean(np.random.choice(target_data, 100, replace=True, p=weight_data))\n",
    "print(means)\n",
    "print('Estimated sample mean:', np.mean(means))"
   ]
  },
  {
   "cell_type": "code",
   "execution_count": 162,
   "metadata": {},
   "outputs": [
    {
     "name": "stdout",
     "output_type": "stream",
     "text": [
      "       Year BytesLog2      Files    SpaceUsage\n",
      "430  2020.0         0    16939.0  1.693900e+04\n",
      "431  2020.0         1   100476.0  2.009520e+05\n",
      "432  2020.0         2    76145.0  3.045800e+05\n",
      "433  2020.0         3   383462.0  3.067696e+06\n",
      "434  2020.0         4   754432.0  1.207091e+07\n",
      "435  2020.0         5   809128.0  2.589210e+07\n",
      "436  2020.0         6   956019.0  6.118522e+07\n",
      "437  2020.0         7  1864362.0  2.386383e+08\n",
      "438  2020.0         8  1945303.0  4.979976e+08\n",
      "439  2020.0         9  2941379.0  1.505986e+09\n",
      "440  2020.0        10  3985798.0  4.081457e+09\n",
      "441  2020.0        11  4953480.0  1.014473e+10\n",
      "442  2020.0        12  5645644.0  2.312456e+10\n",
      "443  2020.0        13  4323811.0  3.542066e+10\n",
      "444  2020.0        14  3525298.0  5.775848e+10\n",
      "445  2020.0        15  3183998.0  1.043332e+11\n",
      "446  2020.0        16  3733379.0  2.446707e+11\n",
      "447  2020.0        17  3032472.0  3.974722e+11\n",
      "448  2020.0        18  3444498.0  9.029545e+11\n",
      "449  2020.0        19  2403114.0  1.259924e+12\n",
      "450  2020.0        20   972804.0  1.020059e+12\n",
      "451  2020.0        21  1162037.0  2.436968e+12\n",
      "452  2020.0        22   536918.0  2.251997e+12\n",
      "453  2020.0        23   307340.0  2.578155e+12\n",
      "454  2020.0        24   208105.0  3.491423e+12\n",
      "455  2020.0        25   153873.0  5.163121e+12\n",
      "456  2020.0        26   139961.0  9.392624e+12\n",
      "457  2020.0        27   128845.0  1.729328e+13\n",
      "458  2020.0        28    52687.0  1.414306e+13\n",
      "459  2020.0        29    12041.0  6.464463e+12\n",
      "460  2020.0        30    13224.0  1.419916e+13\n",
      "461  2020.0        31     8206.0  1.762225e+13\n",
      "462  2020.0        32     3764.0  1.616626e+13\n",
      "463  2020.0        33      352.0  3.023657e+12\n",
      "464  2020.0        34      131.0  2.250563e+12\n",
      "465  2020.0        35       71.0  2.439541e+12\n",
      "466  2020.0        36       51.0  3.504693e+12\n",
      "467  2020.0        37       23.0  3.161096e+12\n",
      "468  2020.0        38        7.0  1.924145e+12\n",
      "469  2020.0        39        5.0  2.748779e+12\n",
      "470  2020.0        40        1.0  1.099512e+12\n",
      "471  2020.0        41        1.0  2.199023e+12\n",
      "472  2020.0        42        NaN           NaN\n"
     ]
    },
    {
     "data": {
      "text/plain": [
       "array([12.67, 13.39, 14.15, 12.76, 13.63])"
      ]
     },
     "execution_count": 162,
     "metadata": {},
     "output_type": "execute_result"
    }
   ],
   "source": [
    "def get_bootstrapped_means(dataset, target_col, weight_col, n_means=1000):\n",
    "    print(dataset)\n",
    "    # Pick relevant columns\n",
    "    df = dataset[[target_col, weight_col]].copy()\n",
    "    # Pick target data column\n",
    "    target_data = df[target_col]\n",
    "    # Pick weight data column\n",
    "    weight_data = df[weight_col]\n",
    "    # Fill zeros to those byte sizes that are not present in the Files-data\n",
    "    weight_data.fillna(0, inplace=True)\n",
    "    # Normalize weight_data into probabilities\n",
    "    weight_data = weight_data/weight_data.sum()\n",
    "    \n",
    "    # Create means vector\n",
    "    means = np.zeros(n_means, dtype=np.float64)\n",
    "    for i in range(n_means):\n",
    "        # Calculate resampled mean\n",
    "        means[i] = np.mean(np.random.choice(target_data, 100, replace=True, p=weight_data))\n",
    "    return means\n",
    "\n",
    "get_bootstrapped_means(bytes_2020, 'BytesLog2', 'Files', n_means=5)"
   ]
  },
  {
   "cell_type": "markdown",
   "metadata": {},
   "source": [
    "### Using nested dataframes to help with bootstrapping"
   ]
  },
  {
   "cell_type": "code",
   "execution_count": 132,
   "metadata": {},
   "outputs": [
    {
     "data": {
      "text/html": [
       "<div>\n",
       "<style scoped>\n",
       "    .dataframe tbody tr th:only-of-type {\n",
       "        vertical-align: middle;\n",
       "    }\n",
       "\n",
       "    .dataframe tbody tr th {\n",
       "        vertical-align: top;\n",
       "    }\n",
       "\n",
       "    .dataframe thead th {\n",
       "        text-align: right;\n",
       "    }\n",
       "</style>\n",
       "<table border=\"1\" class=\"dataframe\">\n",
       "  <thead>\n",
       "    <tr style=\"text-align: right;\">\n",
       "      <th></th>\n",
       "      <th>Year</th>\n",
       "    </tr>\n",
       "  </thead>\n",
       "  <tbody>\n",
       "    <tr>\n",
       "      <th>0</th>\n",
       "      <td>2010</td>\n",
       "    </tr>\n",
       "    <tr>\n",
       "      <th>1</th>\n",
       "      <td>2011</td>\n",
       "    </tr>\n",
       "    <tr>\n",
       "      <th>2</th>\n",
       "      <td>2012</td>\n",
       "    </tr>\n",
       "    <tr>\n",
       "      <th>3</th>\n",
       "      <td>2013</td>\n",
       "    </tr>\n",
       "    <tr>\n",
       "      <th>4</th>\n",
       "      <td>2014</td>\n",
       "    </tr>\n",
       "  </tbody>\n",
       "</table>\n",
       "</div>"
      ],
      "text/plain": [
       "   Year\n",
       "0  2010\n",
       "1  2011\n",
       "2  2012\n",
       "3  2013\n",
       "4  2014"
      ]
     },
     "execution_count": 132,
     "metadata": {},
     "output_type": "execute_result"
    }
   ],
   "source": [
    "# Get years from our dataset for a new dataframe\n",
    "yearly_means = pd.DataFrame({'Year': list(yearly_bytes_sum['Year'].unique().astype(int))})\n",
    "yearly_means.head()"
   ]
  },
  {
   "cell_type": "code",
   "execution_count": 133,
   "metadata": {},
   "outputs": [
    {
     "data": {
      "text/html": [
       "<div>\n",
       "<style scoped>\n",
       "    .dataframe tbody tr th:only-of-type {\n",
       "        vertical-align: middle;\n",
       "    }\n",
       "\n",
       "    .dataframe tbody tr th {\n",
       "        vertical-align: top;\n",
       "    }\n",
       "\n",
       "    .dataframe thead th {\n",
       "        text-align: right;\n",
       "    }\n",
       "</style>\n",
       "<table border=\"1\" class=\"dataframe\">\n",
       "  <thead>\n",
       "    <tr style=\"text-align: right;\">\n",
       "      <th></th>\n",
       "      <th>Year</th>\n",
       "      <th>Data</th>\n",
       "    </tr>\n",
       "  </thead>\n",
       "  <tbody>\n",
       "    <tr>\n",
       "      <th>0</th>\n",
       "      <td>2010</td>\n",
       "      <td>Year BytesLog2      Files    SpaceUsage\n",
       "...</td>\n",
       "    </tr>\n",
       "    <tr>\n",
       "      <th>1</th>\n",
       "      <td>2011</td>\n",
       "      <td>Year BytesLog2      Files    SpaceUsage\n",
       "...</td>\n",
       "    </tr>\n",
       "    <tr>\n",
       "      <th>2</th>\n",
       "      <td>2012</td>\n",
       "      <td>Year BytesLog2      Files    SpaceUsage...</td>\n",
       "    </tr>\n",
       "    <tr>\n",
       "      <th>3</th>\n",
       "      <td>2013</td>\n",
       "      <td>Year BytesLog2      Files    SpaceUsage...</td>\n",
       "    </tr>\n",
       "    <tr>\n",
       "      <th>4</th>\n",
       "      <td>2014</td>\n",
       "      <td>Year BytesLog2      Files    SpaceUsage...</td>\n",
       "    </tr>\n",
       "    <tr>\n",
       "      <th>5</th>\n",
       "      <td>2015</td>\n",
       "      <td>Year BytesLog2      Files    SpaceUsage...</td>\n",
       "    </tr>\n",
       "    <tr>\n",
       "      <th>6</th>\n",
       "      <td>2016</td>\n",
       "      <td>Year BytesLog2      Files    SpaceUsage...</td>\n",
       "    </tr>\n",
       "    <tr>\n",
       "      <th>7</th>\n",
       "      <td>2017</td>\n",
       "      <td>Year BytesLog2      Files    SpaceUsage...</td>\n",
       "    </tr>\n",
       "    <tr>\n",
       "      <th>8</th>\n",
       "      <td>2018</td>\n",
       "      <td>Year BytesLog2      Files    SpaceUsage...</td>\n",
       "    </tr>\n",
       "    <tr>\n",
       "      <th>9</th>\n",
       "      <td>2019</td>\n",
       "      <td>Year BytesLog2      Files    SpaceUsage...</td>\n",
       "    </tr>\n",
       "    <tr>\n",
       "      <th>10</th>\n",
       "      <td>2020</td>\n",
       "      <td>Year BytesLog2      Files    SpaceUsage...</td>\n",
       "    </tr>\n",
       "  </tbody>\n",
       "</table>\n",
       "</div>"
      ],
      "text/plain": [
       "    Year                                               Data\n",
       "0   2010        Year BytesLog2      Files    SpaceUsage\n",
       "...\n",
       "1   2011        Year BytesLog2      Files    SpaceUsage\n",
       "...\n",
       "2   2012         Year BytesLog2      Files    SpaceUsage...\n",
       "3   2013         Year BytesLog2      Files    SpaceUsage...\n",
       "4   2014         Year BytesLog2      Files    SpaceUsage...\n",
       "5   2015         Year BytesLog2      Files    SpaceUsage...\n",
       "6   2016         Year BytesLog2      Files    SpaceUsage...\n",
       "7   2017         Year BytesLog2      Files    SpaceUsage...\n",
       "8   2018         Year BytesLog2      Files    SpaceUsage...\n",
       "9   2019         Year BytesLog2      Files    SpaceUsage...\n",
       "10  2020         Year BytesLog2      Files    SpaceUsage..."
      ]
     },
     "execution_count": 133,
     "metadata": {},
     "output_type": "execute_result"
    }
   ],
   "source": [
    "yearly_means['Data'] = yearly_means['Year'].apply(lambda year: yearly_bytes_sum.loc[yearly_bytes_sum['Year'] == year])\n",
    "yearly_means"
   ]
  },
  {
   "cell_type": "code",
   "execution_count": 134,
   "metadata": {},
   "outputs": [
    {
     "data": {
      "text/html": [
       "<div>\n",
       "<style scoped>\n",
       "    .dataframe tbody tr th:only-of-type {\n",
       "        vertical-align: middle;\n",
       "    }\n",
       "\n",
       "    .dataframe tbody tr th {\n",
       "        vertical-align: top;\n",
       "    }\n",
       "\n",
       "    .dataframe thead th {\n",
       "        text-align: right;\n",
       "    }\n",
       "</style>\n",
       "<table border=\"1\" class=\"dataframe\">\n",
       "  <thead>\n",
       "    <tr style=\"text-align: right;\">\n",
       "      <th></th>\n",
       "      <th>Year</th>\n",
       "      <th>Data</th>\n",
       "      <th>SampledMeans</th>\n",
       "    </tr>\n",
       "  </thead>\n",
       "  <tbody>\n",
       "    <tr>\n",
       "      <th>0</th>\n",
       "      <td>2010</td>\n",
       "      <td>Year BytesLog2      Files    SpaceUsage\n",
       "...</td>\n",
       "      <td>[13.41, 13.47, 12.58, 12.72, 12.83]</td>\n",
       "    </tr>\n",
       "    <tr>\n",
       "      <th>1</th>\n",
       "      <td>2011</td>\n",
       "      <td>Year BytesLog2      Files    SpaceUsage\n",
       "...</td>\n",
       "      <td>[14.14, 14.1, 13.71, 14.19, 14.0]</td>\n",
       "    </tr>\n",
       "    <tr>\n",
       "      <th>2</th>\n",
       "      <td>2012</td>\n",
       "      <td>Year BytesLog2      Files    SpaceUsage...</td>\n",
       "      <td>[11.22, 11.12, 9.92, 11.05, 11.05]</td>\n",
       "    </tr>\n",
       "    <tr>\n",
       "      <th>3</th>\n",
       "      <td>2013</td>\n",
       "      <td>Year BytesLog2      Files    SpaceUsage...</td>\n",
       "      <td>[13.83, 13.35, 13.32, 13.52, 13.29]</td>\n",
       "    </tr>\n",
       "    <tr>\n",
       "      <th>4</th>\n",
       "      <td>2014</td>\n",
       "      <td>Year BytesLog2      Files    SpaceUsage...</td>\n",
       "      <td>[14.46, 13.4, 13.82, 14.45, 14.49]</td>\n",
       "    </tr>\n",
       "    <tr>\n",
       "      <th>5</th>\n",
       "      <td>2015</td>\n",
       "      <td>Year BytesLog2      Files    SpaceUsage...</td>\n",
       "      <td>[12.25, 11.67, 11.61, 11.76, 11.41]</td>\n",
       "    </tr>\n",
       "    <tr>\n",
       "      <th>6</th>\n",
       "      <td>2016</td>\n",
       "      <td>Year BytesLog2      Files    SpaceUsage...</td>\n",
       "      <td>[14.07, 13.1, 13.49, 13.57, 13.48]</td>\n",
       "    </tr>\n",
       "    <tr>\n",
       "      <th>7</th>\n",
       "      <td>2017</td>\n",
       "      <td>Year BytesLog2      Files    SpaceUsage...</td>\n",
       "      <td>[12.31, 11.48, 12.05, 12.28, 11.9]</td>\n",
       "    </tr>\n",
       "    <tr>\n",
       "      <th>8</th>\n",
       "      <td>2018</td>\n",
       "      <td>Year BytesLog2      Files    SpaceUsage...</td>\n",
       "      <td>[13.15, 13.44, 13.52, 13.65, 13.16]</td>\n",
       "    </tr>\n",
       "    <tr>\n",
       "      <th>9</th>\n",
       "      <td>2019</td>\n",
       "      <td>Year BytesLog2      Files    SpaceUsage...</td>\n",
       "      <td>[14.26, 13.23, 14.07, 13.74, 13.27]</td>\n",
       "    </tr>\n",
       "    <tr>\n",
       "      <th>10</th>\n",
       "      <td>2020</td>\n",
       "      <td>Year BytesLog2      Files    SpaceUsage...</td>\n",
       "      <td>[13.57, 12.77, 13.89, 13.66, 13.02]</td>\n",
       "    </tr>\n",
       "  </tbody>\n",
       "</table>\n",
       "</div>"
      ],
      "text/plain": [
       "    Year                                               Data  \\\n",
       "0   2010        Year BytesLog2      Files    SpaceUsage\n",
       "...   \n",
       "1   2011        Year BytesLog2      Files    SpaceUsage\n",
       "...   \n",
       "2   2012         Year BytesLog2      Files    SpaceUsage...   \n",
       "3   2013         Year BytesLog2      Files    SpaceUsage...   \n",
       "4   2014         Year BytesLog2      Files    SpaceUsage...   \n",
       "5   2015         Year BytesLog2      Files    SpaceUsage...   \n",
       "6   2016         Year BytesLog2      Files    SpaceUsage...   \n",
       "7   2017         Year BytesLog2      Files    SpaceUsage...   \n",
       "8   2018         Year BytesLog2      Files    SpaceUsage...   \n",
       "9   2019         Year BytesLog2      Files    SpaceUsage...   \n",
       "10  2020         Year BytesLog2      Files    SpaceUsage...   \n",
       "\n",
       "                           SampledMeans  \n",
       "0   [13.41, 13.47, 12.58, 12.72, 12.83]  \n",
       "1     [14.14, 14.1, 13.71, 14.19, 14.0]  \n",
       "2    [11.22, 11.12, 9.92, 11.05, 11.05]  \n",
       "3   [13.83, 13.35, 13.32, 13.52, 13.29]  \n",
       "4    [14.46, 13.4, 13.82, 14.45, 14.49]  \n",
       "5   [12.25, 11.67, 11.61, 11.76, 11.41]  \n",
       "6    [14.07, 13.1, 13.49, 13.57, 13.48]  \n",
       "7    [12.31, 11.48, 12.05, 12.28, 11.9]  \n",
       "8   [13.15, 13.44, 13.52, 13.65, 13.16]  \n",
       "9   [14.26, 13.23, 14.07, 13.74, 13.27]  \n",
       "10  [13.57, 12.77, 13.89, 13.66, 13.02]  "
      ]
     },
     "execution_count": 134,
     "metadata": {},
     "output_type": "execute_result"
    }
   ],
   "source": [
    "yearly_means['SampledMeans'] = yearly_means['Data'].apply(lambda data: get_bootstrapped_means(data, 'BytesLog2', 'Files', n_means=5))\n",
    "yearly_means"
   ]
  },
  {
   "cell_type": "code",
   "execution_count": 135,
   "metadata": {},
   "outputs": [
    {
     "data": {
      "text/html": [
       "<div>\n",
       "<style scoped>\n",
       "    .dataframe tbody tr th:only-of-type {\n",
       "        vertical-align: middle;\n",
       "    }\n",
       "\n",
       "    .dataframe tbody tr th {\n",
       "        vertical-align: top;\n",
       "    }\n",
       "\n",
       "    .dataframe thead th {\n",
       "        text-align: right;\n",
       "    }\n",
       "</style>\n",
       "<table border=\"1\" class=\"dataframe\">\n",
       "  <thead>\n",
       "    <tr style=\"text-align: right;\">\n",
       "      <th></th>\n",
       "      <th>Year</th>\n",
       "      <th>Data</th>\n",
       "      <th>SampledMeans</th>\n",
       "      <th>Mean</th>\n",
       "    </tr>\n",
       "  </thead>\n",
       "  <tbody>\n",
       "    <tr>\n",
       "      <th>0</th>\n",
       "      <td>2010</td>\n",
       "      <td>Year BytesLog2      Files    SpaceUsage\n",
       "...</td>\n",
       "      <td>[13.41, 13.47, 12.58, 12.72, 12.83]</td>\n",
       "      <td>13.002</td>\n",
       "    </tr>\n",
       "    <tr>\n",
       "      <th>1</th>\n",
       "      <td>2011</td>\n",
       "      <td>Year BytesLog2      Files    SpaceUsage\n",
       "...</td>\n",
       "      <td>[14.14, 14.1, 13.71, 14.19, 14.0]</td>\n",
       "      <td>14.028</td>\n",
       "    </tr>\n",
       "    <tr>\n",
       "      <th>2</th>\n",
       "      <td>2012</td>\n",
       "      <td>Year BytesLog2      Files    SpaceUsage...</td>\n",
       "      <td>[11.22, 11.12, 9.92, 11.05, 11.05]</td>\n",
       "      <td>10.872</td>\n",
       "    </tr>\n",
       "    <tr>\n",
       "      <th>3</th>\n",
       "      <td>2013</td>\n",
       "      <td>Year BytesLog2      Files    SpaceUsage...</td>\n",
       "      <td>[13.83, 13.35, 13.32, 13.52, 13.29]</td>\n",
       "      <td>13.462</td>\n",
       "    </tr>\n",
       "    <tr>\n",
       "      <th>4</th>\n",
       "      <td>2014</td>\n",
       "      <td>Year BytesLog2      Files    SpaceUsage...</td>\n",
       "      <td>[14.46, 13.4, 13.82, 14.45, 14.49]</td>\n",
       "      <td>14.124</td>\n",
       "    </tr>\n",
       "    <tr>\n",
       "      <th>5</th>\n",
       "      <td>2015</td>\n",
       "      <td>Year BytesLog2      Files    SpaceUsage...</td>\n",
       "      <td>[12.25, 11.67, 11.61, 11.76, 11.41]</td>\n",
       "      <td>11.740</td>\n",
       "    </tr>\n",
       "    <tr>\n",
       "      <th>6</th>\n",
       "      <td>2016</td>\n",
       "      <td>Year BytesLog2      Files    SpaceUsage...</td>\n",
       "      <td>[14.07, 13.1, 13.49, 13.57, 13.48]</td>\n",
       "      <td>13.542</td>\n",
       "    </tr>\n",
       "    <tr>\n",
       "      <th>7</th>\n",
       "      <td>2017</td>\n",
       "      <td>Year BytesLog2      Files    SpaceUsage...</td>\n",
       "      <td>[12.31, 11.48, 12.05, 12.28, 11.9]</td>\n",
       "      <td>12.004</td>\n",
       "    </tr>\n",
       "    <tr>\n",
       "      <th>8</th>\n",
       "      <td>2018</td>\n",
       "      <td>Year BytesLog2      Files    SpaceUsage...</td>\n",
       "      <td>[13.15, 13.44, 13.52, 13.65, 13.16]</td>\n",
       "      <td>13.384</td>\n",
       "    </tr>\n",
       "    <tr>\n",
       "      <th>9</th>\n",
       "      <td>2019</td>\n",
       "      <td>Year BytesLog2      Files    SpaceUsage...</td>\n",
       "      <td>[14.26, 13.23, 14.07, 13.74, 13.27]</td>\n",
       "      <td>13.714</td>\n",
       "    </tr>\n",
       "    <tr>\n",
       "      <th>10</th>\n",
       "      <td>2020</td>\n",
       "      <td>Year BytesLog2      Files    SpaceUsage...</td>\n",
       "      <td>[13.57, 12.77, 13.89, 13.66, 13.02]</td>\n",
       "      <td>13.382</td>\n",
       "    </tr>\n",
       "  </tbody>\n",
       "</table>\n",
       "</div>"
      ],
      "text/plain": [
       "    Year                                               Data  \\\n",
       "0   2010        Year BytesLog2      Files    SpaceUsage\n",
       "...   \n",
       "1   2011        Year BytesLog2      Files    SpaceUsage\n",
       "...   \n",
       "2   2012         Year BytesLog2      Files    SpaceUsage...   \n",
       "3   2013         Year BytesLog2      Files    SpaceUsage...   \n",
       "4   2014         Year BytesLog2      Files    SpaceUsage...   \n",
       "5   2015         Year BytesLog2      Files    SpaceUsage...   \n",
       "6   2016         Year BytesLog2      Files    SpaceUsage...   \n",
       "7   2017         Year BytesLog2      Files    SpaceUsage...   \n",
       "8   2018         Year BytesLog2      Files    SpaceUsage...   \n",
       "9   2019         Year BytesLog2      Files    SpaceUsage...   \n",
       "10  2020         Year BytesLog2      Files    SpaceUsage...   \n",
       "\n",
       "                           SampledMeans    Mean  \n",
       "0   [13.41, 13.47, 12.58, 12.72, 12.83]  13.002  \n",
       "1     [14.14, 14.1, 13.71, 14.19, 14.0]  14.028  \n",
       "2    [11.22, 11.12, 9.92, 11.05, 11.05]  10.872  \n",
       "3   [13.83, 13.35, 13.32, 13.52, 13.29]  13.462  \n",
       "4    [14.46, 13.4, 13.82, 14.45, 14.49]  14.124  \n",
       "5   [12.25, 11.67, 11.61, 11.76, 11.41]  11.740  \n",
       "6    [14.07, 13.1, 13.49, 13.57, 13.48]  13.542  \n",
       "7    [12.31, 11.48, 12.05, 12.28, 11.9]  12.004  \n",
       "8   [13.15, 13.44, 13.52, 13.65, 13.16]  13.384  \n",
       "9   [14.26, 13.23, 14.07, 13.74, 13.27]  13.714  \n",
       "10  [13.57, 12.77, 13.89, 13.66, 13.02]  13.382  "
      ]
     },
     "execution_count": 135,
     "metadata": {},
     "output_type": "execute_result"
    }
   ],
   "source": [
    "yearly_means['Mean'] = yearly_means['SampledMeans'].apply(np.mean)\n",
    "yearly_means"
   ]
  },
  {
   "cell_type": "code",
   "execution_count": 140,
   "metadata": {},
   "outputs": [
    {
     "data": {
      "text/html": [
       "<div>\n",
       "<style scoped>\n",
       "    .dataframe tbody tr th:only-of-type {\n",
       "        vertical-align: middle;\n",
       "    }\n",
       "\n",
       "    .dataframe tbody tr th {\n",
       "        vertical-align: top;\n",
       "    }\n",
       "\n",
       "    .dataframe thead th {\n",
       "        text-align: right;\n",
       "    }\n",
       "</style>\n",
       "<table border=\"1\" class=\"dataframe\">\n",
       "  <thead>\n",
       "    <tr style=\"text-align: right;\">\n",
       "      <th></th>\n",
       "      <th>Year</th>\n",
       "      <th>SampledMeans</th>\n",
       "      <th>Mean</th>\n",
       "    </tr>\n",
       "  </thead>\n",
       "  <tbody>\n",
       "    <tr>\n",
       "      <th>0</th>\n",
       "      <td>2010.0</td>\n",
       "      <td>[12.85, 12.66, 12.92, 12.88, 12.65, 13.34, 13....</td>\n",
       "      <td>12.96515</td>\n",
       "    </tr>\n",
       "    <tr>\n",
       "      <th>1</th>\n",
       "      <td>2011.0</td>\n",
       "      <td>[14.29, 13.84, 13.98, 13.84, 14.43, 13.89, 14....</td>\n",
       "      <td>14.03942</td>\n",
       "    </tr>\n",
       "    <tr>\n",
       "      <th>2</th>\n",
       "      <td>2012.0</td>\n",
       "      <td>[11.12, 10.6, 10.42, 10.4, 10.61, 11.45, 10.15...</td>\n",
       "      <td>10.66921</td>\n",
       "    </tr>\n",
       "    <tr>\n",
       "      <th>3</th>\n",
       "      <td>2013.0</td>\n",
       "      <td>[13.01, 13.55, 13.71, 13.22, 13.36, 14.2, 13.7...</td>\n",
       "      <td>13.40722</td>\n",
       "    </tr>\n",
       "    <tr>\n",
       "      <th>4</th>\n",
       "      <td>2014.0</td>\n",
       "      <td>[14.64, 14.26, 13.97, 13.85, 13.5, 13.98, 14.1...</td>\n",
       "      <td>14.04376</td>\n",
       "    </tr>\n",
       "    <tr>\n",
       "      <th>5</th>\n",
       "      <td>2015.0</td>\n",
       "      <td>[10.83, 10.85, 12.33, 11.41, 11.89, 11.32, 11....</td>\n",
       "      <td>11.74823</td>\n",
       "    </tr>\n",
       "    <tr>\n",
       "      <th>6</th>\n",
       "      <td>2016.0</td>\n",
       "      <td>[13.52, 13.08, 13.22, 13.68, 13.05, 13.6, 14.5...</td>\n",
       "      <td>13.54251</td>\n",
       "    </tr>\n",
       "    <tr>\n",
       "      <th>7</th>\n",
       "      <td>2017.0</td>\n",
       "      <td>[12.89, 12.03, 12.25, 11.77, 11.53, 12.33, 11....</td>\n",
       "      <td>11.98101</td>\n",
       "    </tr>\n",
       "    <tr>\n",
       "      <th>8</th>\n",
       "      <td>2018.0</td>\n",
       "      <td>[13.83, 13.92, 13.57, 12.88, 13.39, 13.25, 13....</td>\n",
       "      <td>13.28216</td>\n",
       "    </tr>\n",
       "    <tr>\n",
       "      <th>9</th>\n",
       "      <td>2019.0</td>\n",
       "      <td>[14.05, 14.01, 13.92, 13.53, 13.8, 14.16, 13.0...</td>\n",
       "      <td>13.70798</td>\n",
       "    </tr>\n",
       "    <tr>\n",
       "      <th>10</th>\n",
       "      <td>2020.0</td>\n",
       "      <td>[13.12, 13.41, 12.84, 13.31, 13.04, 13.15, 13....</td>\n",
       "      <td>13.21589</td>\n",
       "    </tr>\n",
       "  </tbody>\n",
       "</table>\n",
       "</div>"
      ],
      "text/plain": [
       "      Year                                       SampledMeans      Mean\n",
       "0   2010.0  [12.85, 12.66, 12.92, 12.88, 12.65, 13.34, 13....  12.96515\n",
       "1   2011.0  [14.29, 13.84, 13.98, 13.84, 14.43, 13.89, 14....  14.03942\n",
       "2   2012.0  [11.12, 10.6, 10.42, 10.4, 10.61, 11.45, 10.15...  10.66921\n",
       "3   2013.0  [13.01, 13.55, 13.71, 13.22, 13.36, 14.2, 13.7...  13.40722\n",
       "4   2014.0  [14.64, 14.26, 13.97, 13.85, 13.5, 13.98, 14.1...  14.04376\n",
       "5   2015.0  [10.83, 10.85, 12.33, 11.41, 11.89, 11.32, 11....  11.74823\n",
       "6   2016.0  [13.52, 13.08, 13.22, 13.68, 13.05, 13.6, 14.5...  13.54251\n",
       "7   2017.0  [12.89, 12.03, 12.25, 11.77, 11.53, 12.33, 11....  11.98101\n",
       "8   2018.0  [13.83, 13.92, 13.57, 12.88, 13.39, 13.25, 13....  13.28216\n",
       "9   2019.0  [14.05, 14.01, 13.92, 13.53, 13.8, 14.16, 13.0...  13.70798\n",
       "10  2020.0  [13.12, 13.41, 12.84, 13.31, 13.04, 13.15, 13....  13.21589"
      ]
     },
     "execution_count": 140,
     "metadata": {},
     "output_type": "execute_result"
    }
   ],
   "source": [
    "def bootstrap_byteslog2_mean(dataset, group_variable, target_variable, n_means=1000):\n",
    "    \n",
    "    bootstrap_func = lambda data: get_bootstrapped_means(data, 'BytesLog2', target_variable, n_means=n_means)\n",
    "    \n",
    "    means = pd.DataFrame({group_variable: list(dataset[group_variable].unique())})\n",
    "    means['Data'] = means[group_variable].apply(lambda x: dataset.loc[dataset.loc[:,group_variable] == x])\n",
    "    means['SampledMeans'] = means['Data'].apply(bootstrap_func)\n",
    "    means['Mean'] = means['SampledMeans'].apply(np.mean)\n",
    "    means.drop('Data', axis=1, inplace=True)\n",
    "    return means\n",
    "\n",
    "bootstrapped_means = bootstrap_byteslog2_mean(yearly_bytes_sum, 'Year', 'Files', n_means=1000)\n",
    "bootstrapped_means"
   ]
  },
  {
   "cell_type": "code",
   "execution_count": 146,
   "metadata": {},
   "outputs": [
    {
     "data": {
      "image/png": "[encoded data removed]",
      "text/plain": [
       "<Figure size 1152x216 with 2 Axes>"
      ]
     },
     "metadata": {
      "needs_background": "light"
     },
     "output_type": "display_data"
    },
    {
     "data": {
      "image/png": "[encoded data removed]",
      "text/plain": [
       "<Figure size 1152x216 with 2 Axes>"
      ]
     },
     "metadata": {
      "needs_background": "light"
     },
     "output_type": "display_data"
    },
    {
     "data": {
      "image/png": "[encoded data removed]",
      "text/plain": [
       "<Figure size 1152x216 with 2 Axes>"
      ]
     },
     "metadata": {
      "needs_background": "light"
     },
     "output_type": "display_data"
    },
    {
     "data": {
      "image/png": "[encoded data removed]",
      "text/plain": [
       "<Figure size 1152x216 with 2 Axes>"
      ]
     },
     "metadata": {
      "needs_background": "light"
     },
     "output_type": "display_data"
    },
    {
     "data": {
      "image/png": "[encoded data removed]",
      "text/plain": [
       "<Figure size 1152x216 with 2 Axes>"
      ]
     },
     "metadata": {
      "needs_background": "light"
     },
     "output_type": "display_data"
    },
    {
     "data": {
      "image/png": "[encoded data removed]",
      "text/plain": [
       "<Figure size 1152x216 with 2 Axes>"
      ]
     },
     "metadata": {
      "needs_background": "light"
     },
     "output_type": "display_data"
    },
    {
     "data": {
      "image/png": "[encoded data removed]",
      "text/plain": [
       "<Figure size 1152x216 with 2 Axes>"
      ]
     },
     "metadata": {
      "needs_background": "light"
     },
     "output_type": "display_data"
    },
    {
     "data": {
      "image/png": "[encoded data removed]",
      "text/plain": [
       "<Figure size 1152x216 with 2 Axes>"
      ]
     },
     "metadata": {
      "needs_background": "light"
     },
     "output_type": "display_data"
    },
    {
     "data": {
      "image/png": "[encoded data removed]",
      "text/plain": [
       "<Figure size 1152x216 with 2 Axes>"
      ]
     },
     "metadata": {
      "needs_background": "light"
     },
     "output_type": "display_data"
    },
    {
     "data": {
      "image/png": "[encoded data removed]",
      "text/plain": [
       "<Figure size 1152x216 with 2 Axes>"
      ]
     },
     "metadata": {
      "needs_background": "light"
     },
     "output_type": "display_data"
    },
    {
     "data": {
      "image/png": "[encoded data removed]",
      "text/plain": [
       "<Figure size 1152x216 with 2 Axes>"
      ]
     },
     "metadata": {
      "needs_background": "light"
     },
     "output_type": "display_data"
    }
   ],
   "source": [
    "bootstrapped_means_exploded = bootstrapped_means.explode('SampledMeans')\n",
    "for (year, real_data), (year_sampled, bootstrapped_data) in zip(yearly_bytes_sum.groupby('Year'), bootstrapped_means_exploded.groupby('Year')):\n",
    "    figure, (ax1, ax2) = plt.subplots(1,2,figsize=(16,3))\n",
    "    sb.barplot(x='BytesLog2', y='Files', data=real_data, ci=None, ax=ax1)\n",
    "    sb.histplot(x='SampledMeans', binwidth=0.5, data=bootstrapped_data, ax=ax2)\n",
    "    plt.xlim(left=min(yearly_bytes_sum['BytesLog2']), right=max(yearly_bytes_sum['BytesLog2']))"
   ]
  },
  {
   "cell_type": "code",
   "execution_count": 90,
   "metadata": {},
   "outputs": [
    {
     "data": {
      "text/plain": [
       "<AxesSubplot:xlabel='SampledMeans', ylabel='Count'>"
      ]
     },
     "execution_count": 90,
     "metadata": {},
     "output_type": "execute_result"
    },
    {
     "data": {
      "image/png": "[encoded data removed]",
      "text/plain": [
       "<Figure size 432x288 with 1 Axes>"
      ]
     },
     "metadata": {
      "needs_background": "light"
     },
     "output_type": "display_data"
    }
   ],
   "source": []
  },
  {
   "cell_type": "code",
   "execution_count": null,
   "metadata": {},
   "outputs": [],
   "source": []
  },
  {
   "cell_type": "markdown",
   "metadata": {},
   "source": [
    "## Fitting functions to data"
   ]
  },
  {
   "cell_type": "code",
   "execution_count": 127,
   "metadata": {},
   "outputs": [
    {
     "data": {
      "text/html": [
       "<div>\n",
       "<style scoped>\n",
       "    .dataframe tbody tr th:only-of-type {\n",
       "        vertical-align: middle;\n",
       "    }\n",
       "\n",
       "    .dataframe tbody tr th {\n",
       "        vertical-align: top;\n",
       "    }\n",
       "\n",
       "    .dataframe thead th {\n",
       "        text-align: right;\n",
       "    }\n",
       "</style>\n",
       "<table border=\"1\" class=\"dataframe\">\n",
       "  <thead>\n",
       "    <tr style=\"text-align: right;\">\n",
       "      <th></th>\n",
       "      <th>Year</th>\n",
       "      <th>SpaceUsage</th>\n",
       "    </tr>\n",
       "  </thead>\n",
       "  <tbody>\n",
       "    <tr>\n",
       "      <th>0</th>\n",
       "      <td>2010.0</td>\n",
       "      <td>2260716407068</td>\n",
       "    </tr>\n",
       "    <tr>\n",
       "      <th>1</th>\n",
       "      <td>2011.0</td>\n",
       "      <td>9261448518531</td>\n",
       "    </tr>\n",
       "    <tr>\n",
       "      <th>2</th>\n",
       "      <td>2012.0</td>\n",
       "      <td>24737023889111</td>\n",
       "    </tr>\n",
       "    <tr>\n",
       "      <th>3</th>\n",
       "      <td>2013.0</td>\n",
       "      <td>40182399191878</td>\n",
       "    </tr>\n",
       "    <tr>\n",
       "      <th>4</th>\n",
       "      <td>2014.0</td>\n",
       "      <td>82712763516200</td>\n",
       "    </tr>\n",
       "    <tr>\n",
       "      <th>5</th>\n",
       "      <td>2015.0</td>\n",
       "      <td>113678139549675</td>\n",
       "    </tr>\n",
       "    <tr>\n",
       "      <th>6</th>\n",
       "      <td>2016.0</td>\n",
       "      <td>159336339085494</td>\n",
       "    </tr>\n",
       "    <tr>\n",
       "      <th>7</th>\n",
       "      <td>2017.0</td>\n",
       "      <td>255751151670398</td>\n",
       "    </tr>\n",
       "    <tr>\n",
       "      <th>8</th>\n",
       "      <td>2018.0</td>\n",
       "      <td>370654215378823</td>\n",
       "    </tr>\n",
       "    <tr>\n",
       "      <th>9</th>\n",
       "      <td>2019.0</td>\n",
       "      <td>535782769009105</td>\n",
       "    </tr>\n",
       "    <tr>\n",
       "      <th>10</th>\n",
       "      <td>2020.0</td>\n",
       "      <td>673398829413800</td>\n",
       "    </tr>\n",
       "  </tbody>\n",
       "</table>\n",
       "</div>"
      ],
      "text/plain": [
       "      Year       SpaceUsage\n",
       "0   2010.0    2260716407068\n",
       "1   2011.0    9261448518531\n",
       "2   2012.0   24737023889111\n",
       "3   2013.0   40182399191878\n",
       "4   2014.0   82712763516200\n",
       "5   2015.0  113678139549675\n",
       "6   2016.0  159336339085494\n",
       "7   2017.0  255751151670398\n",
       "8   2018.0  370654215378823\n",
       "9   2019.0  535782769009105\n",
       "10  2020.0  673398829413800"
      ]
     },
     "execution_count": 127,
     "metadata": {},
     "output_type": "execute_result"
    }
   ],
   "source": [
    "newusage_yearly_sum.copy().set_index('Year').cumsum().reset_index()"
   ]
  },
  {
   "cell_type": "code",
   "execution_count": 140,
   "metadata": {},
   "outputs": [
    {
     "name": "stdout",
     "output_type": "stream",
     "text": [
      "    Year      Files\n",
      "0   2010    5590287\n",
      "1   2011   18787325\n",
      "2   2012   35887225\n",
      "3   2013   50642376\n",
      "4   2014   76971697\n",
      "5   2015  101868028\n",
      "6   2016  145552296\n",
      "7   2017  232348395\n",
      "8   2018  297347858\n",
      "9   2019  365662280\n",
      "10  2020  417441864\n",
      "      Year       SpaceUsage\n",
      "0   2010.0    2260716407068\n",
      "1   2011.0    9261448518531\n",
      "2   2012.0   24737023889111\n",
      "3   2013.0   40182399191878\n",
      "4   2014.0   82712763516200\n",
      "5   2015.0  113678139549675\n",
      "6   2016.0  159336339085494\n",
      "7   2017.0  255751151670398\n",
      "8   2018.0  370654215378823\n",
      "9   2019.0  535782769009105\n",
      "10  2020.0  673398829413800\n"
     ]
    },
    {
     "data": {
      "text/plain": [
       "<AxesSubplot:xlabel='Year', ylabel='SpaceUsage'>"
      ]
     },
     "execution_count": 140,
     "metadata": {},
     "output_type": "execute_result"
    },
    {
     "data": {
      "image/png": "[encoded data removed]",
      "text/plain": [
       "<Figure size 576x1152 with 2 Axes>"
      ]
     },
     "metadata": {
      "needs_background": "light"
     },
     "output_type": "display_data"
    }
   ],
   "source": [
    "newfiles_yearly_cumsum = newfiles_yearly_sum.copy()\n",
    "newfiles_yearly_cumsum['Files'] = newfiles_yearly_cumsum['Files'].cumsum()\n",
    "print(newfiles_yearly_cumsum)\n",
    "newusage_yearly_cumsum = newusage_yearly_sum.copy()\n",
    "newusage_yearly_cumsum['SpaceUsage'] = newusage_yearly_cumsum['SpaceUsage'].cumsum()\n",
    "print(newusage_yearly_cumsum)\n",
    "\n",
    "fig, ((ax1, ax2))=plt.subplots(nrows=2, figsize=(8,16))\n",
    "sb.barplot(x='Year', y='Files', data=newfiles_yearly_cumsum, ci=None, ax=ax1)\n",
    "sb.barplot(x='Year', y='SpaceUsage', data=newusage_yearly_cumsum, ci=None, ax=ax2)"
   ]
  },
  {
   "cell_type": "markdown",
   "metadata": {},
   "source": [
    "[DataFrame.reset_index](https://pandas.pydata.org/pandas-docs/version/0.17/generated/pandas.DataFrame.reset_index.html)"
   ]
  },
  {
   "cell_type": "code",
   "execution_count": 154,
   "metadata": {},
   "outputs": [
    {
     "data": {
      "text/plain": [
       "<AxesSubplot:xlabel='Year', ylabel='Files'>"
      ]
     },
     "execution_count": 154,
     "metadata": {},
     "output_type": "execute_result"
    },
    {
     "data": {
      "image/png": "[encoded data removed]",
      "text/plain": [
       "<Figure size 432x288 with 1 Axes>"
      ]
     },
     "metadata": {
      "needs_background": "light"
     },
     "output_type": "display_data"
    }
   ],
   "source": [
    "filesizes_yearly_sum = filesizes_yearly[['Year','Files']].groupby('Year').sum().reset_index()\n",
    "sb.scatterplot(x='Year', y='Files', data=filesizes_yearly_sum)\n",
    "\n",
    "from sklearn import linear_model\n",
    "model = linear_model.LinearRegression()\n",
    "model.fit(filesizes_sum[['Year']],filesizes_sum['Files'])\n",
    "fitted_files = model.predict(filesizes_sum[['Year']])\n",
    "sb.lineplot(x=filesizes_sum['Year'], y=fitted_files, color='tomato')"
   ]
  },
  {
   "cell_type": "code",
   "execution_count": 21,
   "metadata": {},
   "outputs": [
    {
     "data": {
      "image/png": "[encoded data removed]",
      "text/plain": [
       "<Figure size 468x468 with 1 Axes>"
      ]
     },
     "metadata": {
      "needs_background": "light"
     },
     "output_type": "display_data"
    },
    {
     "data": {
      "image/png": "[encoded data removed]",
      "text/plain": [
       "<Figure size 468x468 with 1 Axes>"
      ]
     },
     "metadata": {
      "needs_background": "light"
     },
     "output_type": "display_data"
    },
    {
     "data": {
      "image/png": "[encoded data removed]",
      "text/plain": [
       "<Figure size 468x468 with 1 Axes>"
      ]
     },
     "metadata": {
      "needs_background": "light"
     },
     "output_type": "display_data"
    },
    {
     "data": {
      "image/png": "[encoded data removed]",
      "text/plain": [
       "<Figure size 468x468 with 1 Axes>"
      ]
     },
     "metadata": {
      "needs_background": "light"
     },
     "output_type": "display_data"
    },
    {
     "data": {
      "image/png": "[encoded data removed]",
      "text/plain": [
       "<Figure size 468x468 with 1 Axes>"
      ]
     },
     "metadata": {
      "needs_background": "light"
     },
     "output_type": "display_data"
    },
    {
     "data": {
      "image/png": "[encoded data removed]",
      "text/plain": [
       "<Figure size 468x468 with 1 Axes>"
      ]
     },
     "metadata": {
      "needs_background": "light"
     },
     "output_type": "display_data"
    },
    {
     "data": {
      "image/png": "[encoded data removed]",
      "text/plain": [
       "<Figure size 468x468 with 1 Axes>"
      ]
     },
     "metadata": {
      "needs_background": "light"
     },
     "output_type": "display_data"
    },
    {
     "data": {
      "image/png": "[encoded data removed]",
      "text/plain": [
       "<Figure size 468x468 with 1 Axes>"
      ]
     },
     "metadata": {
      "needs_background": "light"
     },
     "output_type": "display_data"
    },
    {
     "data": {
      "image/png": "[encoded data removed]",
      "text/plain": [
       "<Figure size 468x468 with 1 Axes>"
      ]
     },
     "metadata": {
      "needs_background": "light"
     },
     "output_type": "display_data"
    },
    {
     "data": {
      "image/png": "[encoded data removed]",
      "text/plain": [
       "<Figure size 468x468 with 1 Axes>"
      ]
     },
     "metadata": {
      "needs_background": "light"
     },
     "output_type": "display_data"
    },
    {
     "data": {
      "image/png": "[encoded data removed]",
      "text/plain": [
       "<Figure size 468x468 with 1 Axes>"
      ]
     },
     "metadata": {
      "needs_background": "light"
     },
     "output_type": "display_data"
    },
    {
     "data": {
      "image/png": "[encoded data removed]",
      "text/plain": [
       "<Figure size 468x468 with 1 Axes>"
      ]
     },
     "metadata": {
      "needs_background": "light"
     },
     "output_type": "display_data"
    }
   ],
   "source": [
    "for year, yearly_data in filesizes_yearly.groupby('year'):\n",
    "    filesizes_plot, filesizes_plot_ax = plt.subplots(figsize=(6.5, 6.5))\n",
    "    sb.barplot(x='bytes2', y='n', data=yearly_data)\n",
    "    plt.title(year)"
   ]
  },
  {
   "cell_type": "code",
   "execution_count": 22,
   "metadata": {},
   "outputs": [],
   "source": [
    "filesizes_2020 = filesizes_yearly.loc[filesizes_yearly['year'] == 2020,:]"
   ]
  },
  {
   "cell_type": "code",
   "execution_count": 23,
   "metadata": {},
   "outputs": [
    {
     "data": {
      "text/plain": [
       "392     0\n",
       "393     1\n",
       "394     2\n",
       "395     3\n",
       "396     4\n",
       "397     5\n",
       "398     6\n",
       "399     7\n",
       "400     8\n",
       "401     9\n",
       "402    10\n",
       "403    11\n",
       "404    12\n",
       "405    13\n",
       "406    14\n",
       "407    15\n",
       "408    16\n",
       "409    17\n",
       "410    18\n",
       "411    19\n",
       "412    20\n",
       "413    21\n",
       "414    22\n",
       "415    23\n",
       "416    24\n",
       "417    25\n",
       "418    26\n",
       "419    27\n",
       "420    28\n",
       "421    29\n",
       "422    30\n",
       "423    31\n",
       "424    32\n",
       "425    33\n",
       "426    34\n",
       "427    35\n",
       "428    36\n",
       "429    37\n",
       "430    38\n",
       "431    39\n",
       "432    40\n",
       "433    41\n",
       "Name: bytes2, dtype: category\n",
       "Categories (42, int64): [0, 1, 2, 3, ..., 38, 39, 40, 41]"
      ]
     },
     "execution_count": 23,
     "metadata": {},
     "output_type": "execute_result"
    }
   ],
   "source": [
    "bins = filesizes_2020['bytes2'].astype('category')\n",
    "bins"
   ]
  },
  {
   "cell_type": "code",
   "execution_count": 24,
   "metadata": {},
   "outputs": [
    {
     "data": {
      "text/plain": [
       "bytes2    12.82\n",
       "dtype: float64"
      ]
     },
     "execution_count": 24,
     "metadata": {},
     "output_type": "execute_result"
    }
   ],
   "source": [
    "def get_bootstrapped_mean(year):\n",
    "    df = filesizes_yearly.loc[filesizes_yearly['year'] == year,:]\n",
    "    dataset = df[['bytes2']].sample(100, replace=True, weights=df['n'])\n",
    "    return dataset.mean()\n",
    "\n",
    "get_bootstrapped_mean(2020)"
   ]
  },
  {
   "cell_type": "code",
   "execution_count": 10,
   "metadata": {},
   "outputs": [],
   "source": [
    "from numpy.random import choice\n",
    "\n",
    "def get_bootstrapped_mean2(year, n_means=10000):\n",
    "    df = filesizes_yearly.loc[filesizes_yearly['year'] == year,:]\n",
    "    bytes2 = df['bytes2']\n",
    "    n = df['n']/df['n'].sum()\n",
    "    means = np.zeros(n_means, dtype=np.float64)\n",
    "    for i in range(n_means):\n",
    "        means[i] = np.mean(choice(bytes2, 100, replace=True, p=n))\n",
    "    return means"
   ]
  },
  {
   "cell_type": "code",
   "execution_count": 26,
   "metadata": {},
   "outputs": [],
   "source": [
    "def get_bootstrapped_mean3(year, n_means=10000):\n",
    "    df = filesizes_yearly.loc[filesizes_yearly['year'] == year,:]\n",
    "    bytes2 = df[['bytes2']]\n",
    "    n = df['n']\n",
    "    means = np.zeros(n_means, dtype=np.float64)\n",
    "    for i in range(n_means):\n",
    "        means[i] = bytes2.sample(100, replace=True, weights=n).mean()\n",
    "    return means"
   ]
  },
  {
   "cell_type": "code",
   "execution_count": null,
   "metadata": {},
   "outputs": [],
   "source": [
    "%%timeit\n",
    "n_means = 10000\n",
    "means = np.zeros(n_means, dtype=np.float64)\n",
    "for i in range(n_means):\n",
    "    means[i] = get_bootstrapped_mean(2020)"
   ]
  },
  {
   "cell_type": "code",
   "execution_count": null,
   "metadata": {},
   "outputs": [],
   "source": [
    "%%timeit\n",
    "get_bootstrapped_mean2(2020)"
   ]
  },
  {
   "cell_type": "code",
   "execution_count": null,
   "metadata": {},
   "outputs": [],
   "source": [
    "%%timeit\n",
    "get_bootstrapped_mean3(2020)"
   ]
  },
  {
   "cell_type": "code",
   "execution_count": null,
   "metadata": {},
   "outputs": [],
   "source": [
    "get_bootstrapped_mean3(2020)"
   ]
  },
  {
   "cell_type": "code",
   "execution_count": null,
   "metadata": {},
   "outputs": [],
   "source": [
    "plt.hist(p, bins=bins)"
   ]
  },
  {
   "cell_type": "code",
   "execution_count": 27,
   "metadata": {},
   "outputs": [],
   "source": [
    "years = filesizes_yearly['year'].unique()\n",
    "bytes2 = filesizes_yearly['bytes2'].unique()"
   ]
  },
  {
   "cell_type": "code",
   "execution_count": 34,
   "metadata": {},
   "outputs": [],
   "source": [
    "filesizes_sampled = pd.DataFrame({'year':years})\n",
    "filesizes_sampled['sampled_means'] = filesizes_sampled.loc[:,'year'].apply(get_bootstrapped_mean2)"
   ]
  },
  {
   "cell_type": "code",
   "execution_count": 35,
   "metadata": {},
   "outputs": [],
   "source": [
    "filesizes_sampled = filesizes_sampled.explode('sampled_means')\n",
    "filesizes_sampled['sampled_means'] = filesizes_sampled['sampled_means'].astype(np.float64)"
   ]
  },
  {
   "cell_type": "code",
   "execution_count": 36,
   "metadata": {},
   "outputs": [
    {
     "data": {
      "text/plain": [
       "year               int64\n",
       "sampled_means    float64\n",
       "dtype: object"
      ]
     },
     "execution_count": 36,
     "metadata": {},
     "output_type": "execute_result"
    }
   ],
   "source": [
    "filesizes_sampled.dtypes"
   ]
  },
  {
   "cell_type": "code",
   "execution_count": 37,
   "metadata": {},
   "outputs": [
    {
     "data": {
      "text/plain": [
       "year\n",
       "2010    13.197945\n",
       "2011    14.133348\n",
       "2012    10.671955\n",
       "2013    13.412672\n",
       "2014    14.026149\n",
       "2015    11.728573\n",
       "2016    13.406113\n",
       "2017    12.136109\n",
       "2018    13.132024\n",
       "2019    13.730133\n",
       "2020    13.236934\n",
       "2021    10.956056\n",
       "Name: sampled_means, dtype: float64"
      ]
     },
     "execution_count": 37,
     "metadata": {},
     "output_type": "execute_result"
    }
   ],
   "source": [
    "filesizes_sampled.groupby('year')['sampled_means'].mean()"
   ]
  },
  {
   "cell_type": "code",
   "execution_count": null,
   "metadata": {},
   "outputs": [],
   "source": [
    "for year in years:\n",
    "    \n",
    "    sample_data = filesizes_sampled.loc[filesizes_sampled['year'] == year, ['sampled_means']]\n",
    "    bytes_data = filesizes_yearly.loc[filesizes_yearly['year'] == year, ['bytes2','n']]\n",
    "    \n",
    "    filesizes_plot, (filesizes_plot_ax1, filesizes_plot_ax2) = plt.subplots(nrows=2,figsize=(6.5, 6.5))\n",
    "    sb.barplot(x='bytes2', y='n', data=bytes_data, ax=filesizes_plot_ax1)\n",
    "    filesizes_plot_ax1.set_xticks(ticks=bytes2[::4])\n",
    "    filesizes_plot_ax1.set_xlim(left=bytes2[0], right=bytes2[-1])\n",
    "    sb.histplot(x='sampled_means', bins=10, data=sample_data, ax=filesizes_plot_ax2)\n",
    "    filesizes_plot_ax2.set_xticks(ticks=bytes2[::4])\n",
    "    filesizes_plot_ax2.set_xlim(left=bytes2[0], right=bytes2[-1])\n",
    "    plt.title(year)\n",
    "    plt.tight_layout()"
   ]
  },
  {
   "cell_type": "code",
   "execution_count": null,
   "metadata": {},
   "outputs": [],
   "source": [
    "import numpy as np"
   ]
  },
  {
   "cell_type": "code",
   "execution_count": null,
   "metadata": {},
   "outputs": [],
   "source": [
    "from itertools import product"
   ]
  },
  {
   "cell_type": "code",
   "execution_count": null,
   "metadata": {},
   "outputs": [],
   "source": [
    "samples = pd.DataFrame([ (x,y) for x,y in product(range(10000), years) ], columns=('sample', 'year'))"
   ]
  },
  {
   "cell_type": "code",
   "execution_count": null,
   "metadata": {},
   "outputs": [],
   "source": [
    "samples['mean_filesize'] = samples['year'].apply(get_bootstrapped_mean)"
   ]
  },
  {
   "cell_type": "code",
   "execution_count": null,
   "metadata": {},
   "outputs": [],
   "source": [
    "import numpy as np"
   ]
  },
  {
   "cell_type": "code",
   "execution_count": null,
   "metadata": {},
   "outputs": [],
   "source": [
    "samples['mean_filesize'] = np.vectorize(get_bootstrapped_mean)(samples['year'])"
   ]
  },
  {
   "cell_type": "code",
   "execution_count": null,
   "metadata": {},
   "outputs": [],
   "source": [
    "for year in years:\n",
    "    \n",
    "    sample_data = samples.loc[samples['year'] == year, ['mean']]\n",
    "    bytes_data = filesizes_yearly.loc[filesizes_yearly['year'] == year, ['bytes2','n']]\n",
    "    \n",
    "    filesizes_plot, (filesizes_plot_ax1, filesizes_plot_ax2) = plt.subplots(nrows=2,figsize=(6.5, 6.5))\n",
    "    sb.barplot(x='bytes2', y='n', data=bytes_data, ax=filesizes_plot_ax1)\n",
    "    filesizes_plot_ax1.set_xticks(ticks=bytes2[::4])\n",
    "    filesizes_plot_ax1.set_xlim(left=bytes2[0], right=bytes2[-1])\n",
    "    sb.histplot(x='mean_filesize', bins=10, data=sample_data, ax=filesizes_plot_ax2)\n",
    "    filesizes_plot_ax2.set_xticks(ticks=bytes2[::4])\n",
    "    filesizes_plot_ax2.set_xlim(left=bytes2[0], right=bytes2[-1])\n",
    "    plt.title(year)\n",
    "    plt.tight_layout()"
   ]
  },
  {
   "cell_type": "code",
   "execution_count": null,
   "metadata": {},
   "outputs": [],
   "source": [
    "samples['mean']"
   ]
  },
  {
   "cell_type": "code",
   "execution_count": null,
   "metadata": {},
   "outputs": [],
   "source": [
    "sb.barplot(x='bytes2', y='mean_filesize', data=filesizes_sampled2020)"
   ]
  },
  {
   "cell_type": "code",
   "execution_count": null,
   "metadata": {},
   "outputs": [],
   "source": []
  }
 ],
 "metadata": {
  "kernelspec": {
   "display_name": "Python 3",
   "language": "python",
   "name": "python3"
  },
  "language_info": {
   "codemirror_mode": {
    "name": "ipython",
    "version": 3
   },
   "file_extension": ".py",
   "mimetype": "text/x-python",
   "name": "python",
   "nbconvert_exporter": "python",
   "pygments_lexer": "ipython3",
   "version": "3.7.9"
  }
 },
 "nbformat": 4,
 "nbformat_minor": 4
}

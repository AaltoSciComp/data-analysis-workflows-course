{
 "cells": [
  {
   "cell_type": "markdown",
   "metadata": {},
   "source": [
    "# Chapter 1 \n",
    "\n",
    "## Exercise 1\n",
    "\n",
    "This simple data analysis pipeline uses a [decision tree](https://en.wikipedia.org/wiki/Decision_tree_learning) model to classify flowers from the famous [iris dataset](https://archive.ics.uci.edu/ml/datasets/iris).\n",
    "\n",
    "Questions:\n",
    "\n",
    "1. Look through the example pipeline. Mark which cells belong to which categories in this categorization:\n",
    "    - Data preparation and loading\n",
    "    - Modeling\n",
    "    - Evaluation\n",
    "    - Presentation\n",
    "2. Try to determine the pieces of the code that are **unique** to this specific dataset. Discuss how you would generalize this pipeline to other datasets."
   ]
  },
  {
   "cell_type": "markdown",
   "metadata": {},
   "source": [
    "## Solutions for exercise 1\n",
    "\n",
    "1. - Data preparation and loading: Cells 1, 2, 3 and 4\n",
    "   - Modeling: Cells 1 and 5\n",
    "   - Evaluation: Cells 1, 6 and 7\n",
    "   - Presentation: Cells 1, 5 and 8\n",
    "2. The naming of the variables throughout the dataset is unique to `iris`-dataset, but it would be possible to change these to generic names.\n",
    "\n",
    "   Likewise the target feature and plotted features could be generalized to take these from variables. Thus the only unique part is the cell where the data is loaded: Cell 2 "
   ]
  },
  {
   "cell_type": "markdown",
   "metadata": {},
   "source": [
    "## Solutions in detail"
   ]
  },
  {
   "cell_type": "markdown",
   "metadata": {},
   "source": [
    "This cell contains something from all categories:\n",
    "- `pandas`, `numpy.random.RandomState` and `sklearn.model_selection.train_test_split` are data preparation and loading\n",
    "- `sklearn.tree.DecisionTreeClassifier` is modeling\n",
    "- `sklearn.metrics.accuracy_score` and `sklearn.metrics.confusion_matrix` are evaluation\n",
    "- `matplotlib.pyplot`, `seaborn` and `sklearn.tree.export_text` are presentation"
   ]
  },
  {
   "cell_type": "code",
   "execution_count": 1,
   "metadata": {},
   "outputs": [],
   "source": [
    "# Cell 1\n",
    "import pandas as pd\n",
    "import matplotlib.pyplot as plt\n",
    "import seaborn as sb\n",
    "from numpy.random import RandomState\n",
    "from sklearn.model_selection import train_test_split\n",
    "from sklearn.tree import DecisionTreeClassifier, export_text\n",
    "from sklearn.metrics import accuracy_score, confusion_matrix"
   ]
  },
  {
   "cell_type": "markdown",
   "metadata": {},
   "source": [
    "This cell is completely dedicated to data loading. Iris dataset is loaded and `Species`-field is converted into a categorical variable. Index will be stored as a variable to verify that sampling worked (more on this later)."
   ]
  },
  {
   "cell_type": "code",
   "execution_count": 2,
   "metadata": {},
   "outputs": [
    {
     "name": "stdout",
     "output_type": "stream",
     "text": [
      "   Sepal.Length  Sepal.Width  Petal.Length  Petal.Width Species  id\n",
      "0           5.1          3.5           1.4          0.2  setosa   0\n",
      "1           4.9          3.0           1.4          0.2  setosa   1\n",
      "2           4.7          3.2           1.3          0.2  setosa   2\n",
      "3           4.6          3.1           1.5          0.2  setosa   3\n",
      "4           5.0          3.6           1.4          0.2  setosa   4\n"
     ]
    }
   ],
   "source": [
    "# Cell 2\n",
    "iris = pd.read_csv('../data/iris.data', names=['Sepal.Length', 'Sepal.Width', 'Petal.Length', 'Petal.Width', 'Species'])\n",
    "iris['Species'] = iris['Species'].map(lambda x: x.replace('Iris-','')).astype('category')\n",
    "iris['id'] = iris.index\n",
    "print(iris.head())"
   ]
  },
  {
   "cell_type": "markdown",
   "metadata": {},
   "source": [
    "This cell is again related to data preparation. The rows in the iris dataset are shuffled with the sample function. This is verified by seeing that the new index differs from the old index. Old index is removed as it would ruin the learning process (decision tree would learn to use the index).\n",
    "\n",
    "This step is unnecessary in the grand scheme of things as the [train_test_split](https://scikit-learn.org/stable/modules/generated/sklearn.model_selection.train_test_split.html)-function actually shuffles the rows, but it highlights how sampling would be accomplished and is a useful step to minimize risk of learning by index.\n",
    "\n",
    "Random state in initialized manually to enable reproducibility."
   ]
  },
  {
   "cell_type": "code",
   "execution_count": 3,
   "metadata": {},
   "outputs": [
    {
     "name": "stdout",
     "output_type": "stream",
     "text": [
      "   Sepal.Length  Sepal.Width  Petal.Length  Petal.Width     Species   id\n",
      "0           6.1          2.8           4.7          1.2  versicolor   73\n",
      "1           5.7          3.8           1.7          0.3      setosa   18\n",
      "2           7.7          2.6           6.9          2.3   virginica  118\n",
      "3           6.0          2.9           4.5          1.5  versicolor   78\n",
      "4           6.8          2.8           4.8          1.4  versicolor   76\n",
      "   Sepal.Length  Sepal.Width  Petal.Length  Petal.Width     Species\n",
      "0           6.1          2.8           4.7          1.2  versicolor\n",
      "1           5.7          3.8           1.7          0.3      setosa\n",
      "2           7.7          2.6           6.9          2.3   virginica\n",
      "3           6.0          2.9           4.5          1.5  versicolor\n",
      "4           6.8          2.8           4.8          1.4  versicolor\n"
     ]
    }
   ],
   "source": [
    "# Cell 3\n",
    "random_state = RandomState(seed=42)\n",
    "iris = iris.sample(frac=1, random_state=random_state).reset_index(drop=True)\n",
    "print(iris.head())\n",
    "iris = iris.drop('id', axis=1)\n",
    "print(iris.head())"
   ]
  },
  {
   "cell_type": "markdown",
   "metadata": {},
   "source": [
    "This step is still data preparation, but it is very close to the modeling part. The dataset is split into training and test sets with 4 to 1 ratio.\n",
    "\n",
    "Random state is provided to enable reproducibility.\n",
    "\n",
    "Number of different species in train and test splits are counted to verify that the both splits have similar species proportions."
   ]
  },
  {
   "cell_type": "code",
   "execution_count": 4,
   "metadata": {},
   "outputs": [
    {
     "name": "stdout",
     "output_type": "stream",
     "text": [
      "Species\n",
      "setosa        40\n",
      "versicolor    39\n",
      "virginica     41\n",
      "dtype: int64\n",
      "Species\n",
      "setosa        10\n",
      "versicolor    11\n",
      "virginica      9\n",
      "dtype: int64\n"
     ]
    }
   ],
   "source": [
    "# Cell 4\n",
    "train_split, test_split = train_test_split(iris, train_size=0.8, random_state=random_state)\n",
    "print(train_split.groupby('Species').size())\n",
    "print(test_split.groupby('Species').size())"
   ]
  },
  {
   "cell_type": "markdown",
   "metadata": {},
   "source": [
    "This cell is the modeling part. Training data and target data are obtained from training split. A decision tree model is fitted into the data.\n",
    "\n",
    "The printing of the fitted model is more related to presentation than modeling, but one could also consider it part of the modeling process."
   ]
  },
  {
   "cell_type": "code",
   "execution_count": 5,
   "metadata": {},
   "outputs": [
    {
     "name": "stdout",
     "output_type": "stream",
     "text": [
      "|--- Petal.Width <= 0.80\n",
      "|   |--- class: setosa\n",
      "|--- Petal.Width >  0.80\n",
      "|   |--- Petal.Width <= 1.70\n",
      "|   |   |--- Petal.Length <= 4.95\n",
      "|   |   |   |--- class: versicolor\n",
      "|   |   |--- Petal.Length >  4.95\n",
      "|   |   |   |--- Petal.Width <= 1.55\n",
      "|   |   |   |   |--- class: virginica\n",
      "|   |   |   |--- Petal.Width >  1.55\n",
      "|   |   |   |   |--- Sepal.Length <= 6.60\n",
      "|   |   |   |   |   |--- class: versicolor\n",
      "|   |   |   |   |--- Sepal.Length >  6.60\n",
      "|   |   |   |   |   |--- class: virginica\n",
      "|   |--- Petal.Width >  1.70\n",
      "|   |   |--- Petal.Length <= 4.85\n",
      "|   |   |   |--- Sepal.Length <= 5.95\n",
      "|   |   |   |   |--- class: versicolor\n",
      "|   |   |   |--- Sepal.Length >  5.95\n",
      "|   |   |   |   |--- class: virginica\n",
      "|   |   |--- Petal.Length >  4.85\n",
      "|   |   |   |--- class: virginica\n",
      "\n"
     ]
    }
   ],
   "source": [
    "# Cell 5\n",
    "tree = DecisionTreeClassifier(random_state=random_state)\n",
    "train_data = train_split.drop('Species', axis=1)\n",
    "train_target = train_split['Species']\n",
    "fitted_tree = tree.fit(train_data, train_target)\n",
    "print(export_text(fitted_tree, feature_names=list(train_data.columns)))"
   ]
  },
  {
   "cell_type": "markdown",
   "metadata": {},
   "source": [
    "This cell is related to the evaluation process.\n",
    "\n",
    "Predictions are made based on test split and the successful predictions are recorded for future use."
   ]
  },
  {
   "cell_type": "code",
   "execution_count": 6,
   "metadata": {},
   "outputs": [],
   "source": [
    "# Cell 6\n",
    "test_data = test_split.drop('Species', axis=1)\n",
    "test_target = test_split['Species']\n",
    "result_data = test_split.copy()\n",
    "result_data['PredictedValue'] = fitted_tree.predict(test_data)\n",
    "result_data['Prediction'] = result_data.apply(lambda x: x['Species'].capitalize() if x['Species'] == x['PredictedValue'] else 'Classification failure', axis=1)"
   ]
  },
  {
   "cell_type": "markdown",
   "metadata": {},
   "source": [
    "This cell is also related to the evaluation process.\n",
    "\n",
    "There are various metrics that can be used to evaluate model success. Here we are checking [the confusion matrix](https://en.wikipedia.org/wiki/Confusion_matrix) and [the accuracy](https://en.wikipedia.org/wiki/Accuracy_and_precision#In_binary_classification) of our decision tree model."
   ]
  },
  {
   "cell_type": "code",
   "execution_count": 7,
   "metadata": {},
   "outputs": [
    {
     "data": {
      "text/plain": [
       "0.9333333333333333"
      ]
     },
     "execution_count": 7,
     "metadata": {},
     "output_type": "execute_result"
    }
   ],
   "source": [
    "# Cell 7\n",
    "confusion_matrix(result_data['PredictedValue'], result_data['Species'])\n",
    "accuracy_score(result_data['PredictedValue'], result_data['Species'])"
   ]
  },
  {
   "cell_type": "markdown",
   "metadata": {},
   "source": [
    "This cell does plots of the data so it is related to the presentation process.\n",
    "\n",
    "Here we create scatter plots of the `Petal`- and `Sepal`-dimensions along with the predicted species. Failures are plotted separately so that we can see why our classifier might have failed: the failures are situated along boundaries of Virginica and Versicolor."
   ]
  },
  {
   "cell_type": "code",
   "execution_count": 8,
   "metadata": {},
   "outputs": [
    {
     "data": {
      "text/plain": [
       "<AxesSubplot:xlabel='Petal.Width', ylabel='Petal.Length'>"
      ]
     },
     "execution_count": 8,
     "metadata": {},
     "output_type": "execute_result"
    },
    {
     "data": {
      "image/png": "[encoded data removed]",
      "text/plain": [
       "<Figure size 468x468 with 1 Axes>"
      ]
     },
     "metadata": {
      "needs_background": "light"
     },
     "output_type": "display_data"
    },
    {
     "data": {
      "image/png": "[encoded data removed]",
      "text/plain": [
       "<Figure size 468x468 with 1 Axes>"
      ]
     },
     "metadata": {
      "needs_background": "light"
     },
     "output_type": "display_data"
    }
   ],
   "source": [
    "# Cell 8\n",
    "petal_plot, petal_plot_ax = plt.subplots(figsize=(6.5, 6.5))\n",
    "sb.scatterplot(x='Petal.Width', y='Petal.Length', data=test_data, hue=result_data['Prediction'])\n",
    "petal_plot, petal_plot_ax = plt.subplots(figsize=(6.5, 6.5))\n",
    "sb.scatterplot(x='Petal.Width', y='Petal.Length', data=test_data, hue=result_data['Prediction'])"
   ]
  },
  {
   "cell_type": "code",
   "execution_count": null,
   "metadata": {},
   "outputs": [],
   "source": []
  }
 ],
 "metadata": {
  "kernelspec": {
   "display_name": "Python 3",
   "language": "python",
   "name": "python3"
  },
  "language_info": {
   "codemirror_mode": {
    "name": "ipython",
    "version": 3
   },
   "file_extension": ".py",
   "mimetype": "text/x-python",
   "name": "python",
   "nbconvert_exporter": "python",
   "pygments_lexer": "ipython3",
   "version": "3.8.5"
  }
 },
 "nbformat": 4,
 "nbformat_minor": 4
}

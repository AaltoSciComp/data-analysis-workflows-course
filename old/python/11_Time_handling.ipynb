{
 "cells": [
  {
   "cell_type": "markdown",
   "metadata": {},
   "source": [
    "# Time handling\n",
    "\n",
    "Last year in this course, people asked: \"how do you handle times?\"  That's a good question..."
   ]
  },
  {
   "cell_type": "markdown",
   "metadata": {},
   "source": [
    "## Exercise\n",
    "\n",
    "What is the ambiguity in these cases?\n",
    "\n",
    "1. Meet me for lunch at 12:00\n",
    "2. The meeting is at 14:00\n",
    "3. How many hours are between 01:00 and 06:00 (in the morning)\n",
    "4. When does the new year start?\n",
    "\n",
    "Local times are a *political* construction and subject to change.  They differ depending on where you are.  Human times are messy.  If you try to do things with human times, you can expect to be sad.\n",
    "\n",
    "But still, *actual* time advances at the same rate all over the world (excluding relativity).  There *is* a way to do this."
   ]
  },
  {
   "cell_type": "markdown",
   "metadata": {},
   "source": [
    "## What are timezones?\n",
    "\n",
    "A timezone specifies a certain *local time* at a certain location on earth.\n",
    "\n",
    "If you specify a timestamp such as 14:00 on 1 October 2019, it is **naive** if it does not include a timezone.  Dependon on where you are standing, you can experience this timestamp at different times.\n",
    "\n",
    "If it include a timezone, it is **aware**.  An aware timestamp exactly specifies a certain time across the whole world (but depending on where you are standing, your localtime may be different).\n",
    "\n",
    "**UTC** (coordinated universal time) is a certain timezone - the basis of all other timezones.\n",
    "\n",
    "Unix computers have a designated **localtime** timezone, which is used by default to display things.  This is in the `TZ` environment variable.\n",
    "\n",
    "The **tz database** (or zoneinfo) is a open source, comprehensive, updated catalog of all timezones across the whole planet since 1970.  It contains things like `EET`, `EEST`, but also geographic locations like `Europe/Helsinki` because the abbreviations can change. [Wikipedia](https://en.wikipedia.org/wiki/Tz_database) and [list of all zones](https://en.wikipedia.org/wiki/List_of_tz_database_time_zones)."
   ]
  },
  {
   "cell_type": "markdown",
   "metadata": {},
   "source": [
    "## unixtime\n",
    "\n",
    "Unixtime is zero at 00:00 on 1 January 1970, and increases at a rate of one per second.  This definition defines a single unique time everywhere in the world.  You can find unixtime with the `date +%s` command:"
   ]
  },
  {
   "cell_type": "code",
   "execution_count": 1,
   "metadata": {},
   "outputs": [
    {
     "name": "stdout",
     "output_type": "stream",
     "text": [
      "1570084871\n"
     ]
    }
   ],
   "source": [
    "!date +%s"
   ]
  },
  {
   "cell_type": "markdown",
   "metadata": {},
   "source": [
    "You can convert from unixtime to real (local) time using the date command again"
   ]
  },
  {
   "cell_type": "code",
   "execution_count": 2,
   "metadata": {},
   "outputs": [
    {
     "name": "stdout",
     "output_type": "stream",
     "text": [
      "Sat Feb 14 01:31:30 EET 2009\n"
     ]
    }
   ],
   "source": [
    "!date -d @1234567890"
   ]
  },
  {
   "cell_type": "markdown",
   "metadata": {},
   "source": [
    "There are functions which take (unixtime + timezone) and produce the timestamp (year, month, day, hour, minute, second).  And vice versa.\n",
    "\n"
   ]
  },
  {
   "cell_type": "markdown",
   "metadata": {},
   "source": [
    "Unix time has two main benefits:\n",
    "* Un-ambiguous: defines a single time\n",
    "* You can do math on the times and compute differences, add time, etc, and it just works."
   ]
  },
  {
   "cell_type": "markdown",
   "metadata": {},
   "source": [
    "## Recommendations\n",
    "\n",
    "When you have times, always store them in unixtime in numerical format.\n",
    "\n",
    "When you need a human time (e.g. \"what hour was this time\"), you use a function to compute that property *in a given timezone*.\n",
    "\n",
    "If you store the other time components, for example hour and minute, this is just for convenience and you should *not* assume that you can go back to the unixtime to do math.\n",
    "\n",
    "[Richard's python time reference](http://rkd.zgib.net/wiki/DebianNotes/PythonTime) is the only comprehensive cataloging of Python that he knows of."
   ]
  },
  {
   "cell_type": "markdown",
   "metadata": {},
   "source": [
    "## Exercises\n",
    "To do these, you have to search for the functions yourself."
   ]
  },
  {
   "cell_type": "markdown",
   "metadata": {},
   "source": [
    "### 1. Convert this unixtime to localtime in Helsinki"
   ]
  },
  {
   "cell_type": "code",
   "execution_count": 3,
   "metadata": {},
   "outputs": [],
   "source": [
    "ts = 1570078806"
   ]
  },
  {
   "cell_type": "markdown",
   "metadata": {},
   "source": [
    "### 2. Convert the same time to UTC "
   ]
  },
  {
   "cell_type": "code",
   "execution_count": null,
   "metadata": {},
   "outputs": [],
   "source": []
  },
  {
   "cell_type": "markdown",
   "metadata": {},
   "source": [
    "### Convert that unixtime to a pandas `Timestamp`\n",
    "You'll need to search the docs some..."
   ]
  },
  {
   "cell_type": "code",
   "execution_count": null,
   "metadata": {},
   "outputs": [],
   "source": []
  },
  {
   "cell_type": "markdown",
   "metadata": {},
   "source": [
    "## Localization and conversion\n",
    "\n",
    "If you are given a time like \"14:00 1 October 2019\", and you want to convert it to a different timezone, can you?  No, because there is no timezone already.  You have to **localize** it by applying a timezone, then you can convert."
   ]
  },
  {
   "cell_type": "code",
   "execution_count": 4,
   "metadata": {},
   "outputs": [
    {
     "data": {
      "text/plain": [
       "<DstTzInfo 'Asia/Tokyo' LMT+9:19:00 STD>"
      ]
     },
     "execution_count": 4,
     "metadata": {},
     "output_type": "execute_result"
    }
   ],
   "source": [
    "import pytz\n",
    "tz = pytz.timezone(\"Asia/Tokyo\")\n",
    "tz"
   ]
  },
  {
   "cell_type": "code",
   "execution_count": 5,
   "metadata": {},
   "outputs": [
    {
     "data": {
      "text/plain": [
       "Timestamp('2019-10-01 14:00:00')"
      ]
     },
     "execution_count": 5,
     "metadata": {},
     "output_type": "execute_result"
    }
   ],
   "source": [
    "# Make a timestamp from a real time.  We dont' know when this is...\n",
    "import pandas as pd\n",
    "import datetime\n",
    "dt = pd.Timestamp(datetime.datetime(2019, 10, 1, 14, 0))\n",
    "dt"
   ]
  },
  {
   "cell_type": "code",
   "execution_count": 6,
   "metadata": {},
   "outputs": [
    {
     "data": {
      "text/plain": [
       "1569938400.0"
      ]
     },
     "execution_count": 6,
     "metadata": {},
     "output_type": "execute_result"
    }
   ],
   "source": [
    "dt.timestamp()"
   ]
  },
  {
   "cell_type": "code",
   "execution_count": 7,
   "metadata": {},
   "outputs": [
    {
     "data": {
      "text/plain": [
       "Timestamp('2019-10-01 14:00:00+0900', tz='Asia/Tokyo')"
      ]
     },
     "execution_count": 7,
     "metadata": {},
     "output_type": "execute_result"
    }
   ],
   "source": [
    "# Localize it - interpert it as a certain timezone\n",
    "localized = dt.tz_localize(tz)\n",
    "localized"
   ]
  },
  {
   "cell_type": "code",
   "execution_count": 8,
   "metadata": {},
   "outputs": [
    {
     "data": {
      "text/plain": [
       "1569938400.0"
      ]
     },
     "execution_count": 8,
     "metadata": {},
     "output_type": "execute_result"
    }
   ],
   "source": [
    "dt.timestamp()"
   ]
  },
  {
   "cell_type": "code",
   "execution_count": 9,
   "metadata": {},
   "outputs": [
    {
     "data": {
      "text/plain": [
       "Timestamp('2019-10-01 08:00:00+0300', tz='Europe/Helsinki')"
      ]
     },
     "execution_count": 9,
     "metadata": {},
     "output_type": "execute_result"
    }
   ],
   "source": [
    "converted = localized.tz_convert(pytz.timezone('Europe/Helsinki'))\n",
    "converted"
   ]
  },
  {
   "cell_type": "markdown",
   "metadata": {},
   "source": [
    "And we notice it does the conversion... if we don't localize first, then this doesn't work."
   ]
  },
  {
   "cell_type": "markdown",
   "metadata": {},
   "source": [
    "## Exercises"
   ]
  },
  {
   "cell_type": "markdown",
   "metadata": {},
   "source": [
    "### 1. Convert this timestamp to a pandas timestamp in Europe/Helsinki and Asia/Tokyo"
   ]
  },
  {
   "cell_type": "code",
   "execution_count": 10,
   "metadata": {},
   "outputs": [],
   "source": [
    "ts = 1570078806"
   ]
  },
  {
   "cell_type": "code",
   "execution_count": null,
   "metadata": {},
   "outputs": [],
   "source": []
  },
  {
   "cell_type": "markdown",
   "metadata": {},
   "source": [
    "### Print the day of the year and hour of this unixtime"
   ]
  },
  {
   "cell_type": "code",
   "execution_count": null,
   "metadata": {},
   "outputs": [],
   "source": []
  },
  {
   "cell_type": "code",
   "execution_count": null,
   "metadata": {},
   "outputs": [],
   "source": []
  },
  {
   "cell_type": "markdown",
   "metadata": {},
   "source": [
    "## From the command line"
   ]
  },
  {
   "cell_type": "code",
   "execution_count": 11,
   "metadata": {},
   "outputs": [
    {
     "name": "stdout",
     "output_type": "stream",
     "text": [
      "Thu Oct  3 09:41:14 EEST 2019\n"
     ]
    }
   ],
   "source": [
    "!date"
   ]
  },
  {
   "cell_type": "code",
   "execution_count": 12,
   "metadata": {},
   "outputs": [
    {
     "name": "stdout",
     "output_type": "stream",
     "text": [
      "Thu Oct  3 15:00:00 EEST 2019\n"
     ]
    }
   ],
   "source": [
    "!date -d \"15:00\""
   ]
  },
  {
   "cell_type": "code",
   "execution_count": 13,
   "metadata": {},
   "outputs": [
    {
     "name": "stdout",
     "output_type": "stream",
     "text": [
      "Thu Oct 31 15:00:00 EET 2019\n"
     ]
    }
   ],
   "source": [
    "!date -d \"15:00 2019-10-31\""
   ]
  },
  {
   "cell_type": "code",
   "execution_count": 14,
   "metadata": {},
   "outputs": [
    {
     "name": "stdout",
     "output_type": "stream",
     "text": [
      "1572526800\n"
     ]
    }
   ],
   "source": [
    "!date -d \"15:00 2019-10-31\" +%s"
   ]
  },
  {
   "cell_type": "code",
   "execution_count": 15,
   "metadata": {},
   "outputs": [
    {
     "name": "stdout",
     "output_type": "stream",
     "text": [
      "Thu Oct 31 15:00:00 EET 2019\n"
     ]
    }
   ],
   "source": [
    "!date -d @1572526800"
   ]
  },
  {
   "cell_type": "code",
   "execution_count": 16,
   "metadata": {},
   "outputs": [
    {
     "name": "stdout",
     "output_type": "stream",
     "text": [
      "Thu Oct 31 09:00:00 EDT 2019\n"
     ]
    }
   ],
   "source": [
    "!TZ=America/New_York date -d @1572526800"
   ]
  },
  {
   "cell_type": "code",
   "execution_count": 17,
   "metadata": {},
   "outputs": [
    {
     "name": "stdout",
     "output_type": "stream",
     "text": [
      "Tue Oct  1 15:00:00 EEST 2019\n"
     ]
    }
   ],
   "source": [
    "!date -d '2019-10-01 14:00 CEST'"
   ]
  },
  {
   "cell_type": "markdown",
   "metadata": {},
   "source": [
    "## See also\n",
    "\n",
    "* Julian day - days since 1 January year 4713BCE, or Gregorian ordinal - days since 1 january year 1.   Useful if you need to do date, instead of time, arithmetic.\n",
    "* [Richard's python-time reference](http://rkd.zgib.net/wiki/DebianNotes/PythonTime)"
   ]
  }
 ],
 "metadata": {
  "kernelspec": {
   "display_name": "Python 3",
   "language": "python",
   "name": "python3"
  },
  "language_info": {
   "codemirror_mode": {
    "name": "ipython",
    "version": 3
   },
   "file_extension": ".py",
   "mimetype": "text/x-python",
   "name": "python",
   "nbconvert_exporter": "python",
   "pygments_lexer": "ipython3",
   "version": "3.7.3"
  }
 },
 "nbformat": 4,
 "nbformat_minor": 4
}

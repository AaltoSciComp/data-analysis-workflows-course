{
 "cells": [
  {
   "cell_type": "markdown",
   "metadata": {},
   "source": [
    "# Exercise time:\n",
    "\n",
    "1. Modify column specifications for FIFA World Cup match data [[1]](https://www.kaggle.com/abecklas/fifa-world-cup). Use `col_datetime` in `col_types` to get a good specification for column _DateTime_ [[col_datetime]](http://readr.tidyverse.org/reference/parse_datetime.html). Use `col_factor` to make columns _Round_, _Stadium_, _City_, _HomeTeam_ and _AwayTeam_ into factors.\n",
    "2. Store the resulting tibble as a feather.\n",
    "3. Store the resulting tibble into a SQLite database."
   ]
  },
  {
   "cell_type": "markdown",
   "metadata": {},
   "source": [
    "# Solutions:"
   ]
  },
  {
   "cell_type": "code",
   "execution_count": 1,
   "metadata": {},
   "outputs": [
    {
     "name": "stderr",
     "output_type": "stream",
     "text": [
      "── \u001b[1mAttaching packages\u001b[22m ─────────────────────────────────────── tidyverse 1.2.1 ──\n",
      "\n",
      "\u001b[32m✔\u001b[39m \u001b[34mggplot2\u001b[39m 3.2.0     \u001b[32m✔\u001b[39m \u001b[34mpurrr  \u001b[39m 0.3.2\n",
      "\u001b[32m✔\u001b[39m \u001b[34mtibble \u001b[39m 2.1.3     \u001b[32m✔\u001b[39m \u001b[34mdplyr  \u001b[39m 0.8.3\n",
      "\u001b[32m✔\u001b[39m \u001b[34mtidyr  \u001b[39m 0.8.3     \u001b[32m✔\u001b[39m \u001b[34mstringr\u001b[39m 1.4.0\n",
      "\u001b[32m✔\u001b[39m \u001b[34mreadr  \u001b[39m 1.3.1     \u001b[32m✔\u001b[39m \u001b[34mforcats\u001b[39m 0.4.0\n",
      "\n",
      "── \u001b[1mConflicts\u001b[22m ────────────────────────────────────────── tidyverse_conflicts() ──\n",
      "\u001b[31m✖\u001b[39m \u001b[34mdplyr\u001b[39m::\u001b[32mfilter()\u001b[39m masks \u001b[34mstats\u001b[39m::filter()\n",
      "\u001b[31m✖\u001b[39m \u001b[34mdplyr\u001b[39m::\u001b[32mlag()\u001b[39m    masks \u001b[34mstats\u001b[39m::lag()\n",
      "\n",
      "\n",
      "Attaching package: ‘dbplyr’\n",
      "\n",
      "\n",
      "The following objects are masked from ‘package:dplyr’:\n",
      "\n",
      "    ident, sql\n",
      "\n",
      "\n"
     ]
    }
   ],
   "source": [
    "library(tidyverse)\n",
    "library(feather, lib.loc='rlibs')\n",
    "library(DBI, lib.loc='rlibs')\n",
    "library(dbplyr, lib.loc='rlibs')"
   ]
  },
  {
   "cell_type": "markdown",
   "metadata": {},
   "source": [
    "## 1."
   ]
  },
  {
   "cell_type": "code",
   "execution_count": 2,
   "metadata": {},
   "outputs": [
    {
     "name": "stdout",
     "output_type": "stream",
     "text": [
      "Classes ‘spec_tbl_df’, ‘tbl_df’, ‘tbl’ and 'data.frame':\t4572 obs. of  10 variables:\n",
      " $ Year       : num  1930 1930 1930 1930 1930 1930 1930 1930 1930 1930 ...\n",
      " $ DateTime   : POSIXct, format: \"1930-07-13 15:00:00\" \"1930-07-13 15:00:00\" ...\n",
      " $ Round      : Factor w/ 23 levels \"Group 1\",\"Group 4\",..: 1 2 3 4 1 1 3 2 4 1 ...\n",
      " $ Stadium    : Factor w/ 181 levels \"Pocitos\",\"Parque Central\",..: 1 2 2 1 2 2 2 2 3 3 ...\n",
      " $ City       : Factor w/ 151 levels \"Montevideo\",\"Turin\",..: 1 1 1 1 1 1 1 1 1 1 ...\n",
      " $ HomeTeam   : Factor w/ 77 levels \"France\",\"USA\",..: 1 2 3 4 5 6 3 2 7 6 ...\n",
      " $ HomeGoals  : num  4 3 2 3 1 3 4 3 1 1 ...\n",
      " $ AwayGoals  : num  1 0 1 1 0 0 0 0 0 0 ...\n",
      " $ AwayTeam   : Factor w/ 82 levels \"Mexico\",\"Belgium\",..: 1 2 3 4 5 1 6 7 4 5 ...\n",
      " $ Observation: chr  NA NA NA NA ...\n",
      " - attr(*, \"spec\")=\n",
      "  .. cols(\n",
      "  ..   Year = \u001b[32mcol_double()\u001b[39m,\n",
      "  ..   DateTime = \u001b[34mcol_datetime(format = \"%d%.%b%+%Y%+%R\")\u001b[39m,\n",
      "  ..   Round = \u001b[31mcol_factor(levels = NULL, ordered = FALSE, include_na = FALSE)\u001b[39m,\n",
      "  ..   Stadium = \u001b[31mcol_factor(levels = NULL, ordered = FALSE, include_na = FALSE)\u001b[39m,\n",
      "  ..   City = \u001b[31mcol_factor(levels = NULL, ordered = FALSE, include_na = FALSE)\u001b[39m,\n",
      "  ..   HomeTeam = \u001b[31mcol_factor(levels = NULL, ordered = FALSE, include_na = FALSE)\u001b[39m,\n",
      "  ..   HomeGoals = \u001b[32mcol_double()\u001b[39m,\n",
      "  ..   AwayGoals = \u001b[32mcol_double()\u001b[39m,\n",
      "  ..   AwayTeam = \u001b[31mcol_factor(levels = NULL, ordered = FALSE, include_na = FALSE)\u001b[39m,\n",
      "  ..   Observation = \u001b[31mcol_character()\u001b[39m\n",
      "  .. )\n"
     ]
    }
   ],
   "source": [
    "fifa_matches <- read_csv(\"/m/jhnas/jupyter/shareddata/python-r-data-analysis/fifa/WorldCupMatches.csv\",\n",
    "                         col_types=cols(\n",
    "                             DateTime=col_datetime('%d%.%b%+%Y%+%R'),\n",
    "                             Round=col_factor(levels=NULL),\n",
    "                             Stadium=col_factor(levels=NULL),\n",
    "                             City=col_factor(levels=NULL),\n",
    "                             HomeTeam=col_factor(levels=NULL),\n",
    "                             AwayTeam=col_factor(levels=NULL)\n",
    "                         )\n",
    "                )\n",
    "\n",
    "str(fifa_matches)"
   ]
  },
  {
   "cell_type": "markdown",
   "metadata": {},
   "source": [
    "## 2."
   ]
  },
  {
   "cell_type": "code",
   "execution_count": 3,
   "metadata": {},
   "outputs": [],
   "source": [
    "write_feather(fifa_matches,'fifa_matches.feather')"
   ]
  },
  {
   "cell_type": "markdown",
   "metadata": {},
   "source": [
    "## 3."
   ]
  },
  {
   "cell_type": "code",
   "execution_count": 4,
   "metadata": {},
   "outputs": [],
   "source": [
    "con <- DBI::dbConnect(RSQLite::SQLite(), dbname = \"fifa.sqlite\")\n",
    "copy_to(con, fifa_matches, overwrite=TRUE, temporary=FALSE)\n",
    "dbDisconnect(con)"
   ]
  },
  {
   "cell_type": "code",
   "execution_count": 5,
   "metadata": {},
   "outputs": [
    {
     "data": {
      "text/plain": [
       "\u001b[90m# Source:   table<fifa_matches> [?? x 10]\u001b[39m\n",
       "\u001b[90m# Database: sqlite 3.22.0\n",
       "#   [/notebooks/python-r-data-analysis-course-dev/r/fifa.sqlite]\u001b[39m\n",
       "    Year DateTime Round Stadium City  HomeTeam HomeGoals AwayGoals AwayTeam\n",
       "   \u001b[3m\u001b[90m<dbl>\u001b[39m\u001b[23m    \u001b[3m\u001b[90m<dbl>\u001b[39m\u001b[23m \u001b[3m\u001b[90m<chr>\u001b[39m\u001b[23m \u001b[3m\u001b[90m<chr>\u001b[39m\u001b[23m   \u001b[3m\u001b[90m<chr>\u001b[39m\u001b[23m \u001b[3m\u001b[90m<chr>\u001b[39m\u001b[23m        \u001b[3m\u001b[90m<dbl>\u001b[39m\u001b[23m     \u001b[3m\u001b[90m<dbl>\u001b[39m\u001b[23m \u001b[3m\u001b[90m<chr>\u001b[39m\u001b[23m   \n",
       "\u001b[90m 1\u001b[39m  \u001b[4m1\u001b[24m930  -\u001b[31m1\u001b[39m\u001b[31m.\u001b[39m\u001b[31m25\u001b[39m\u001b[90me\u001b[39m9 Grou… Pocitos Mont… France           4         1 Mexico  \n",
       "\u001b[90m 2\u001b[39m  \u001b[4m1\u001b[24m930  -\u001b[31m1\u001b[39m\u001b[31m.\u001b[39m\u001b[31m25\u001b[39m\u001b[90me\u001b[39m9 Grou… Parque… Mont… USA              3         0 Belgium \n",
       "\u001b[90m 3\u001b[39m  \u001b[4m1\u001b[24m930  -\u001b[31m1\u001b[39m\u001b[31m.\u001b[39m\u001b[31m25\u001b[39m\u001b[90me\u001b[39m9 Grou… Parque… Mont… Yugosla…         2         1 Brazil  \n",
       "\u001b[90m 4\u001b[39m  \u001b[4m1\u001b[24m930  -\u001b[31m1\u001b[39m\u001b[31m.\u001b[39m\u001b[31m25\u001b[39m\u001b[90me\u001b[39m9 Grou… Pocitos Mont… Romania          3         1 Peru    \n",
       "\u001b[90m 5\u001b[39m  \u001b[4m1\u001b[24m930  -\u001b[31m1\u001b[39m\u001b[31m.\u001b[39m\u001b[31m25\u001b[39m\u001b[90me\u001b[39m9 Grou… Parque… Mont… Argenti…         1         0 France  \n",
       "\u001b[90m 6\u001b[39m  \u001b[4m1\u001b[24m930  -\u001b[31m1\u001b[39m\u001b[31m.\u001b[39m\u001b[31m25\u001b[39m\u001b[90me\u001b[39m9 Grou… Parque… Mont… Chile            3         0 Mexico  \n",
       "\u001b[90m 7\u001b[39m  \u001b[4m1\u001b[24m930  -\u001b[31m1\u001b[39m\u001b[31m.\u001b[39m\u001b[31m25\u001b[39m\u001b[90me\u001b[39m9 Grou… Parque… Mont… Yugosla…         4         0 Bolivia \n",
       "\u001b[90m 8\u001b[39m  \u001b[4m1\u001b[24m930  -\u001b[31m1\u001b[39m\u001b[31m.\u001b[39m\u001b[31m25\u001b[39m\u001b[90me\u001b[39m9 Grou… Parque… Mont… USA              3         0 Paraguay\n",
       "\u001b[90m 9\u001b[39m  \u001b[4m1\u001b[24m930  -\u001b[31m1\u001b[39m\u001b[31m.\u001b[39m\u001b[31m25\u001b[39m\u001b[90me\u001b[39m9 Grou… Estadi… Mont… Uruguay          1         0 Peru    \n",
       "\u001b[90m10\u001b[39m  \u001b[4m1\u001b[24m930  -\u001b[31m1\u001b[39m\u001b[31m.\u001b[39m\u001b[31m25\u001b[39m\u001b[90me\u001b[39m9 Grou… Estadi… Mont… Chile            1         0 France  \n",
       "\u001b[90m# … with more rows, and 1 more variable: Observation \u001b[3m\u001b[90m<chr>\u001b[90m\u001b[23m\u001b[39m"
      ]
     },
     "metadata": {},
     "output_type": "display_data"
    }
   ],
   "source": [
    "con <- DBI::dbConnect(RSQLite::SQLite(), dbname = \"fifa.sqlite\")\n",
    "tbl(con, 'fifa_matches')\n",
    "dbDisconnect(con)"
   ]
  }
 ],
 "metadata": {
  "kernelspec": {
   "display_name": "R",
   "language": "R",
   "name": "ir"
  },
  "language_info": {
   "codemirror_mode": "r",
   "file_extension": ".r",
   "mimetype": "text/x-r-source",
   "name": "R",
   "pygments_lexer": "r",
   "version": "3.4.4"
  }
 },
 "nbformat": 4,
 "nbformat_minor": 4
}

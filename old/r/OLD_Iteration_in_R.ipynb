{
 "cells": [
  {
   "cell_type": "markdown",
   "metadata": {},
   "source": [
    "# Iteration in R\n",
    "\n",
    "## Apply structures\n",
    "\n",
    "### apply vs. for\n",
    "\n",
    "There is a popular belief that for-loops are slow in R. This is not true, but using them improperly can lead to complicated code with a risk of a bad implementation. `apply`-functions are usually recommended as they fit better into R's procedural programming paradigm.\n",
    "\n",
    "As an example lets try get a sum each row of a random `data.frame` with four columns:"
   ]
  },
  {
   "cell_type": "code",
   "execution_count": 7,
   "metadata": {},
   "outputs": [],
   "source": [
    "nrows = 100\n",
    "data <- data.frame(\n",
    "    var1=rnorm(nrows),\n",
    "    var2=rnorm(nrows),\n",
    "    var3=rnorm(nrows),\n",
    "    var4=rnorm(nrows)\n",
    "    )"
   ]
  },
  {
   "cell_type": "markdown",
   "metadata": {},
   "source": [
    "Lets create a simple function `rowSums_forloop` that initializes a result vector `rowsum` and in a for-loop goes through the rows of the input `data.frame` and stores the sum of row `i` to the `rowsum[i]`:"
   ]
  },
  {
   "cell_type": "code",
   "execution_count": 8,
   "metadata": {},
   "outputs": [
    {
     "data": {
      "text/html": [
       "<ol class=list-inline>\n",
       "\t<li>4.35771809766685</li>\n",
       "\t<li>-0.229350943578416</li>\n",
       "\t<li>-3.68443420956428</li>\n",
       "\t<li>-0.886606597115056</li>\n",
       "\t<li>-0.928551934181227</li>\n",
       "\t<li>1.44543066911216</li>\n",
       "</ol>\n"
      ],
      "text/latex": [
       "\\begin{enumerate*}\n",
       "\\item 4.35771809766685\n",
       "\\item -0.229350943578416\n",
       "\\item -3.68443420956428\n",
       "\\item -0.886606597115056\n",
       "\\item -0.928551934181227\n",
       "\\item 1.44543066911216\n",
       "\\end{enumerate*}\n"
      ],
      "text/markdown": [
       "1. 4.35771809766685\n",
       "2. -0.229350943578416\n",
       "3. -3.68443420956428\n",
       "4. -0.886606597115056\n",
       "5. -0.928551934181227\n",
       "6. 1.44543066911216\n",
       "\n",
       "\n"
      ],
      "text/plain": [
       "[1]  4.3577181 -0.2293509 -3.6844342 -0.8866066 -0.9285519  1.4454307"
      ]
     },
     "metadata": {},
     "output_type": "display_data"
    },
    {
     "data": {
      "text/html": [
       "TRUE"
      ],
      "text/latex": [
       "TRUE"
      ],
      "text/markdown": [
       "TRUE"
      ],
      "text/plain": [
       "[1] TRUE"
      ]
     },
     "metadata": {},
     "output_type": "display_data"
    },
    {
     "data": {
      "text/html": [
       "TRUE"
      ],
      "text/latex": [
       "TRUE"
      ],
      "text/markdown": [
       "TRUE"
      ],
      "text/plain": [
       "[1] TRUE"
      ]
     },
     "metadata": {},
     "output_type": "display_data"
    }
   ],
   "source": [
    "library(pryr)\n",
    "\n",
    "rowSums_forloop_rows <- function (dataframe) {\n",
    "    # Sums up each row in a for-loop with row-major order\n",
    "    # \n",
    "    # Args:\n",
    "    #   dataframe: data.frame to sum over\n",
    "    #\n",
    "    # Returns:\n",
    "    #   rowsum: Vector containing sum of each row\n",
    "    \n",
    "    # Generate the vector rowsum and initalize its size\n",
    "    rowsum <- vector('double',nrow(dataframe))\n",
    "    \n",
    "    # Not like this:\n",
    "    # Generate the vector rowsum, but do not initialize its size\n",
    "    # rowsum <- c()\n",
    "    for (i in 1:nrow(dataframe)) {\n",
    "        for (j in 1:ncol(dataframe)) {\n",
    "\n",
    "        # Check memory address of rowsum to verify that it does not change\n",
    "        # print(address(rowsum))\n",
    "        \n",
    "        # For each row and column add the value to rowsum[i]\n",
    "        rowsum[i] <- rowsum[i] + dataframe[i,j]\n",
    "        }\n",
    "    }\n",
    "    return(rowsum)\n",
    "}\n",
    "\n",
    "rowSums_forloop_cols <- function (dataframe) {\n",
    "    # Sums up each row in a for-loop with column-major order\n",
    "    # \n",
    "    # Args:\n",
    "    #   dataframe: data.frame to sum over\n",
    "    #\n",
    "    # Returns:\n",
    "    #   rowsum: Vector containing sum of each row\n",
    "    \n",
    "    # Generate the vector rowsum and initalize its size\n",
    "    rowsum <- vector('double',nrow(dataframe))\n",
    "    \n",
    "    for (j in 1:ncol(dataframe)) {\n",
    "        for (i in 1:nrow(dataframe)) {\n",
    "        \n",
    "            # For each column and row add the value to rowsum\n",
    "            rowsum[i] <- rowsum[i] + dataframe[i,j]\n",
    "        }\n",
    "    }\n",
    "    return(rowsum)\n",
    "}\n",
    "\n",
    "rowSums_forloop_colnames <- function (dataframe) {\n",
    "    # Sums up each row with one column at the time in a for-loop\n",
    "    # \n",
    "    # Args:\n",
    "    #   dataframe: data.frame to sum over\n",
    "    #\n",
    "    # Returns:\n",
    "    #   rowsum: Vector containing sum of each row\n",
    "    \n",
    "    # Generate the vector rowsum and initalize its size\n",
    "    rowsum <- vector('double',nrow(dataframe))\n",
    "    \n",
    "    for (col in colnames(dataframe)) {\n",
    "        # For each column add the values to rowsum\n",
    "        rowsum <- rowsum + dataframe[,col]\n",
    "    }\n",
    "    return(rowsum)\n",
    "}\n",
    "\n",
    "\n",
    "rowsum_forloop_rows <- rowSums_forloop_rows(data)\n",
    "rowsum_forloop_cols <- rowSums_forloop_cols(data)\n",
    "rowsum_forloop_colnames <- rowSums_forloop_colnames(data)\n",
    "\n",
    "head(rowsum_forloop_rows)\n",
    "# Check that results match\n",
    "all.equal(rowsum_forloop_rows,rowsum_forloop_cols)\n",
    "all.equal(rowsum_forloop_rows,rowsum_forloop_colnames)"
   ]
  },
  {
   "cell_type": "markdown",
   "metadata": {},
   "source": [
    "One of the previous examples utilizes R's vectorized nature properly while others are a really bad implementation. Can you spot which one is the good one?\n",
    "\n",
    "Vectorized in this context means that if were going to use the same function `FUN` on each row (column) one at a time, we can just initialize the function once and run the data through it one row (column) at a time. Time is saved as `FUN` can re-used for each iteration of the loop. \n",
    "\n",
    "To utilize the vectorized nature of R objects one usually uses `apply`-style functions.\n",
    "\n",
    "The basic `apply`-function has a simple syntax (see: [[1]](https://www.rdocumentation.org/packages/base/versions/3.4.3/topics/apply)):\n",
    "\n",
    "```r\n",
    "apply(X, MARGIN, FUN)\n",
    "```\n",
    "\n",
    "Here `X` is a data array (vector, matrix, data.frame); `MARGIN` is a integer/vector that determines whether to apply the function on rows (`1`), columns(`2`) or both (`c(1,2)`); and `FUN` is the function to apply.\n",
    "\n",
    "Dimensions of the result depend on the dimensions of the original data, the direction of application and the output shape of `FUN`. In this case we want to apply the `sum` function to each row. `sum` returns a single number as a result, so the result size is a vector with `nrows`."
   ]
  },
  {
   "cell_type": "code",
   "execution_count": 9,
   "metadata": {},
   "outputs": [
    {
     "data": {
      "text/html": [
       "TRUE"
      ],
      "text/latex": [
       "TRUE"
      ],
      "text/markdown": [
       "TRUE"
      ],
      "text/plain": [
       "[1] TRUE"
      ]
     },
     "metadata": {},
     "output_type": "display_data"
    }
   ],
   "source": [
    "rowSums_apply <- function(dataframe) {\n",
    "    # Sums up each row with an apply-function call\n",
    "    # \n",
    "    # Args:\n",
    "    #   dataframe: data.frame to sum over\n",
    "    #\n",
    "    # Returns:\n",
    "    #   rowsum: Vector containing sum of each row\n",
    "    # \n",
    "    \n",
    "    # Apply sum-function to each row of dataframe and return the result\n",
    "    rowsum <- apply(dataframe,1,sum)\n",
    "    return(rowsum)\n",
    "}\n",
    "rowsum_apply <- rowSums_apply(data)\n",
    "\n",
    "# Check that results match\n",
    "all.equal(rowsum_forloop_cols,rowsum_apply)"
   ]
  },
  {
   "cell_type": "markdown",
   "metadata": {},
   "source": [
    "Of course a language like R has an internal function for calculating the sum of columns for each row. This function is `rowSums`."
   ]
  },
  {
   "cell_type": "code",
   "execution_count": 10,
   "metadata": {},
   "outputs": [
    {
     "data": {
      "text/html": [
       "TRUE"
      ],
      "text/latex": [
       "TRUE"
      ],
      "text/markdown": [
       "TRUE"
      ],
      "text/plain": [
       "[1] TRUE"
      ]
     },
     "metadata": {},
     "output_type": "display_data"
    }
   ],
   "source": [
    "rowsum_baser <- rowSums(data)\n",
    "\n",
    "# Check that results match\n",
    "all.equal(rowsum_apply, rowsum_baser)\n"
   ]
  },
  {
   "cell_type": "markdown",
   "metadata": {},
   "source": [
    "Now that we have five implementations of the same function we can use `microbenchmark`-library to make them compete against each other. `microbenchmark`-function can be used to run a function call in order to generate statistics of the function runtime. By default it runs the code 100 times."
   ]
  },
  {
   "cell_type": "code",
   "execution_count": 11,
   "metadata": {},
   "outputs": [
    {
     "name": "stdout",
     "output_type": "stream",
     "text": [
      "Unit: microseconds\n",
      "                           expr    min      lq      mean   median       uq\n",
      "     rowSums_forloop_rows(data) 4375.1 9525.45 10878.433 10428.15 12590.00\n",
      "     rowSums_forloop_cols(data) 4081.6 8936.55 10880.931  9810.20 11602.10\n",
      " rowSums_forloop_colnames(data)   35.3   48.75    70.483    56.25    65.40\n",
      "            rowSums_apply(data)  164.0  228.05   761.330   256.00   327.65\n",
      "                  rowSums(data)   34.5   50.75   152.847    85.95   103.25\n",
      "     max neval\n",
      " 18564.1   100\n",
      " 82727.0   100\n",
      "   949.3   100\n",
      "  5867.7   100\n",
      "  4746.7   100\n"
     ]
    }
   ],
   "source": [
    "library(microbenchmark)\n",
    "\n",
    "print(microbenchmark(\n",
    "    rowSums_forloop_rows(data),\n",
    "    rowSums_forloop_cols(data),\n",
    "    rowSums_forloop_colnames(data),\n",
    "    rowSums_apply(data),\n",
    "    rowSums(data)\n",
    "))"
   ]
  },
  {
   "cell_type": "markdown",
   "metadata": {},
   "source": [
    "As is apparent from the runtimes the bad for-loop implementations were the ones that went through the data one element at a time while the one that added one column at a time to the sum was even better than the `apply`-function.\n",
    "\n",
    "As a conclusion: The main reason to use `apply`-functions is *convenience* and efficiency through *minimizing risks*. With `apply`-functions you save code as you don't need to keep check of indices.\n",
    "\n",
    "However do remember that `apply`-functions are meant to be used in cases where you can split input into independent chunks."
   ]
  },
  {
   "cell_type": "markdown",
   "metadata": {},
   "source": [
    "## Other *apply-functions\n",
    "\n",
    "### lapply\n",
    "\n",
    "`lapply` is similar to `apply` but it always operates on columns and it returns a list as its output. Call for this function is\n",
    "\n",
    "`lapply(X, FUN)`\n",
    "\n",
    "### sapply\n",
    "\n",
    "`sapply`  is similar to `apply` but it always operates on columns and always simplifies to result to the most simple data type available. Call for this function is\n",
    "\n",
    "`lapply(X, FUN)`\n",
    "\n",
    "### vapply\n",
    "\n",
    "`vapply`  is similar to `apply` but it always operates on columns and verifies that each call of `FUN` has the type and size of a vector given in `FUN.VALUE`. Call for this function is\n",
    "\n",
    "`lapply(X, FUN, FUN.VALUE)`\n",
    "\n",
    "### mapply\n",
    "\n",
    "`mapply` or multivariate apply can be used to take one argument from one array, second from second, etc. and call a function `FUN` with these arguments. Call for this function is\n",
    "\n",
    "`mapply(FUN, ...)`\n",
    "\n",
    "where `...` are arrays given as positional arguments."
   ]
  },
  {
   "cell_type": "code",
   "execution_count": 12,
   "metadata": {},
   "outputs": [
    {
     "name": "stdout",
     "output_type": "stream",
     "text": [
      "[1] \"apply:\"\n",
      " Named num [1:4] 0.0985 -0.0667 0.0337 -0.152\n",
      " - attr(*, \"names\")= chr [1:4] \"var1\" \"var2\" \"var3\" \"var4\"\n",
      "[1] \"lapply:\"\n",
      "List of 4\n",
      " $ var1: num 0.0985\n",
      " $ var2: num -0.0667\n",
      " $ var3: num 0.0337\n",
      " $ var4: num -0.152\n",
      "[1] \"sapply:\"\n",
      " Named num [1:4] 0.0985 -0.0667 0.0337 -0.152\n",
      " - attr(*, \"names\")= chr [1:4] \"var1\" \"var2\" \"var3\" \"var4\"\n",
      "[1] \"vapply:\"\n",
      " Named cplx [1:4] 0.0985+0i -0.0667+0i 0.0337+0i ...\n",
      " - attr(*, \"names\")= chr [1:4] \"var1\" \"var2\" \"var3\" \"var4\"\n",
      "[1] \"mapply:\"\n",
      " num [1:100] 4.358 -0.229 -3.684 -0.887 -0.929 ...\n"
     ]
    },
    {
     "data": {
      "text/html": [
       "TRUE"
      ],
      "text/latex": [
       "TRUE"
      ],
      "text/markdown": [
       "TRUE"
      ],
      "text/plain": [
       "[1] TRUE"
      ]
     },
     "metadata": {},
     "output_type": "display_data"
    }
   ],
   "source": [
    "# Calculate mean of each column\n",
    "\n",
    "apply_result <- apply(data,2,mean)\n",
    "print('apply:')\n",
    "str(apply_result)\n",
    "\n",
    "lapply_result <- lapply(data,mean)\n",
    "print('lapply:')\n",
    "str(lapply_result)\n",
    "\n",
    "sapply_result <- sapply(data,mean)\n",
    "print('sapply:')\n",
    "str(sapply_result)\n",
    "\n",
    "vapply_result <- vapply(data,mean,complex(1))\n",
    "print('vapply:')\n",
    "str(vapply_result)\n",
    "\n",
    "# Calculate sum for each row like in the previous example\n",
    "\n",
    "mapply_result <- mapply(sum,data$var1,data$var2,data$var3,data$var4)\n",
    "print('mapply:')\n",
    "str(mapply_result)\n",
    "all.equal(mapply_result,rowsum_baser)"
   ]
  },
  {
   "cell_type": "code",
   "execution_count": null,
   "metadata": {},
   "outputs": [],
   "source": []
  }
 ],
 "metadata": {
  "kernelspec": {
   "display_name": "R",
   "language": "R",
   "name": "ir"
  },
  "language_info": {
   "codemirror_mode": "r",
   "file_extension": ".r",
   "mimetype": "text/x-r-source",
   "name": "R",
   "pygments_lexer": "r",
   "version": "3.4.4"
  }
 },
 "nbformat": 4,
 "nbformat_minor": 4
}

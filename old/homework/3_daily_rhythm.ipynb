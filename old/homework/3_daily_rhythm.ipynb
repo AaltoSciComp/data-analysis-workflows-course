{
 "cells": [
  {
   "cell_type": "markdown",
   "metadata": {},
   "source": [
    "# Daily rhythm analysis\n",
    "In the file `data/bash_prompt_counts`, you find a list of times (unixtime) containing all of the times a person has used a `bash` prompt.  Study this data and make some visualizations based on it.  The timezone was `America/New_York`.\n",
    "\n",
    "* Read the data into pandas and find the correct time zones.  Hint: the first timestamp is 20:34 in the local time.  Verify you got the conversion correct.\n",
    "* Create new dataframe columns based on `hour` and `yearmonth` (=`YYYY-MM`)\n",
    "* Create a pivot table with (`hour`, `yearmonth`) as the new rows and columns.  The values should be the number of prompts on each day. (hint: `df.groupby`  with `as_index=False` and `df.pivot`).\n",
    "* Create a heatmap using `seaborn` which shows hours of the day on the vertical axis and Year-Month on the horizontal axis.  This should show how the time-of-day of the person's activity changes as years go by.  (hint: Seaborn example gallery)\n",
    "* Give an evaluation of the data.  Is the person who created this normal?  The timezone changed sometime during the data.  Can you find it?"
   ]
  }
 ],
 "metadata": {
  "kernelspec": {
   "display_name": "Python 3",
   "language": "python",
   "name": "python3"
  },
  "language_info": {
   "codemirror_mode": {
    "name": "ipython",
    "version": 3
   },
   "file_extension": ".py",
   "mimetype": "text/x-python",
   "name": "python",
   "nbconvert_exporter": "python",
   "pygments_lexer": "ipython3",
   "version": "3.6.5"
  },
  "toc": {
   "nav_menu": {},
   "number_sections": true,
   "sideBar": true,
   "skip_h1_title": false,
   "title_cell": "Table of Contents",
   "title_sidebar": "Contents",
   "toc_cell": false,
   "toc_position": {},
   "toc_section_display": true,
   "toc_window_display": false
  },
  "varInspector": {
   "cols": {
    "lenName": 16,
    "lenType": 16,
    "lenVar": 40
   },
   "kernels_config": {
    "python": {
     "delete_cmd_postfix": "",
     "delete_cmd_prefix": "del ",
     "library": "var_list.py",
     "varRefreshCmd": "print(var_dic_list())"
    },
    "r": {
     "delete_cmd_postfix": ") ",
     "delete_cmd_prefix": "rm(",
     "library": "var_list.r",
     "varRefreshCmd": "cat(var_dic_list()) "
    }
   },
   "types_to_exclude": [
    "module",
    "function",
    "builtin_function_or_method",
    "instance",
    "_Feature"
   ],
   "window_display": false
  }
 },
 "nbformat": 4,
 "nbformat_minor": 2
}

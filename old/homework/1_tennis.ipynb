{
 "cells": [
  {
   "cell_type": "markdown",
   "metadata": {},
   "source": [
    "# Top tennis rankings\n",
    "\n",
    "Download ATP tennis rankings data from [this repository](https://github.com/JeffSackmann/tennis_atp). Using the data do the following:\n",
    "\n",
    "- Read in `atp_rankings_*.csv`-files and combine them into a single dataset.\n",
    "- Add player information from `atp_players.csv` into the dataset.\n",
    "- APT rating is published weekly. Calculate how many weeks all world number ones have spent at the top and when was the last time they held the spot. Sort results based on number of weeks at the top. Results should be similar (but not identical) to [this list](https://en.wikipedia.org/wiki/List_of_ATP_number_1_ranked_singles_tennis_players#By_player).\n",
    "- ATP ranking points system was modifed in 01-01-2009. Plot time vs. ranking points in top 10 since that change. Example plot shown below.\n",
    "- Calculate who was number one with the highest point lead compared to the second one. When was this lead attained?"
   ]
  },
  {
   "cell_type": "markdown",
   "metadata": {},
   "source": [
    "![](Top10points_since2009.png)"
   ]
  }
 ],
 "metadata": {
  "kernelspec": {
   "display_name": "Python 3",
   "language": "python",
   "name": "python3"
  },
  "language_info": {
   "codemirror_mode": {
    "name": "ipython",
    "version": 3
   },
   "file_extension": ".py",
   "mimetype": "text/x-python",
   "name": "python",
   "nbconvert_exporter": "python",
   "pygments_lexer": "ipython3",
   "version": "3.6.5"
  },
  "toc": {
   "nav_menu": {},
   "number_sections": true,
   "sideBar": true,
   "skip_h1_title": false,
   "title_cell": "Table of Contents",
   "title_sidebar": "Contents",
   "toc_cell": false,
   "toc_position": {},
   "toc_section_display": true,
   "toc_window_display": false
  },
  "varInspector": {
   "cols": {
    "lenName": 16,
    "lenType": 16,
    "lenVar": 40
   },
   "kernels_config": {
    "python": {
     "delete_cmd_postfix": "",
     "delete_cmd_prefix": "del ",
     "library": "var_list.py",
     "varRefreshCmd": "print(var_dic_list())"
    },
    "r": {
     "delete_cmd_postfix": ") ",
     "delete_cmd_prefix": "rm(",
     "library": "var_list.r",
     "varRefreshCmd": "cat(var_dic_list()) "
    }
   },
   "types_to_exclude": [
    "module",
    "function",
    "builtin_function_or_method",
    "instance",
    "_Feature"
   ],
   "window_display": false
  }
 },
 "nbformat": 4,
 "nbformat_minor": 2
}

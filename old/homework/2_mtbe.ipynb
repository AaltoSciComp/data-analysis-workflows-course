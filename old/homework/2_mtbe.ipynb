{
 "cells": [
  {
   "cell_type": "markdown",
   "metadata": {},
   "source": [
    "# MTBE exercise\n",
    "\n",
    "On 7.4 a railcar loaded with the liquid chemical MTBE derailed in Mäntyharju, and subsequently 35 tonnes of MTBE leaked out into the environment. The main use of MTBE is as a gasoline additive, in order to boost the octane rating and as an oxygenate. Large-scale use of MTBE as a gasoline additive started with the phaseout of tetra-ethyl-lead (TEL), which previously was used as an octane booster.\n",
    "\n",
    "The nasty thing with MTBE is not that it's per se dramatically more toxic than other gasoline components, but rather that when spilled into the ground, compared to other gasoline components, it a) biodegrades slower b) travels faster and further underground c) even at very low concentrations, gives a nasty smell and taste to water.\n",
    "\n",
    "As an aside, the phaseout of leaded gasoline was a big public health victories. First, lead is a potent neurotoxin, where lead exposure particularly in childhood leads to permantently lower IQ and more aggressive/impulsive behavior. Secondly, lead poisons the kind of catalytic converter used in gasoline vehicles, and thus the phaseout of leaded gasoline allowed the introduction of catalytic converters, which dramatically reduced various nasty pollutants causing respiratory issues, smog etc.\n",
    "\n",
    "If one wants to avoid the drawbacks of MTBE, potential alternatives (with their own issues, of course!) are e.g. alcohols, aromatics, or high-octane alkylates.\n",
    "\n",
    "While this particular railcar had apparently arrived from Russia and was on its way to a harbor to be exported, lets investigate the usage of MTBE in Finland. For this we can use the UN International Energy Statistics dataset available e.g. at https://www.kaggle.com/unitednations/international-energy-statistics/ . If you don't want to register at Kaggle just to get the dataset, you can also find it at `triton:/scratch/scip/python-r-data-analysis-course/data/international-energy-statistics.zip`. The dataset includes a PDF which describes the various categories in the actual CSV data file, you will probably need to refer to that one to make sense of the dataset.\n",
    "\n",
    "1. Plot the consumption of MTBE in Finland as a function of the year. (For this exercise, assume that all the usage in the catogory to which it belongs is MTBE).\n",
    "\n",
    "2. If there are large changes in the consumption, can you explain what caused it? (E.g. wikipedia might help.) Can you add some more plots which might explain this hypothetical change in the data?\n",
    "\n",
    "3. Do the same, but for worldwide data."
   ]
  }
 ],
 "metadata": {
  "kernelspec": {
   "display_name": "Python 3",
   "language": "python",
   "name": "python3"
  },
  "language_info": {
   "codemirror_mode": {
    "name": "ipython",
    "version": 3
   },
   "file_extension": ".py",
   "mimetype": "text/x-python",
   "name": "python",
   "nbconvert_exporter": "python",
   "pygments_lexer": "ipython3",
   "version": "3.6.5"
  }
 },
 "nbformat": 4,
 "nbformat_minor": 2
}

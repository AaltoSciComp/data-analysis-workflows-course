{
 "cells": [
  {
   "cell_type": "markdown",
   "metadata": {},
   "source": [
    "# Chapter 1 \n",
    "\n",
    "## Exercise 1\n",
    "\n",
    "This simple data analysis pipeline uses a [decision tree](https://en.wikipedia.org/wiki/Decision_tree_learning) model to classify flowers from the famous [iris dataset](https://archive.ics.uci.edu/ml/datasets/iris).\n",
    "\n",
    "Questions:\n",
    "\n",
    "1. Look through the example pipeline. Mark which cells belong to which categories in this categorization:\n",
    "    - Data preparation and loading\n",
    "    - Modeling\n",
    "    - Evaluation\n",
    "    - Presentation\n",
    "2. Try to determine the pieces of the code that are **unique** to this specific dataset. Discuss how you would generalize this pipeline to other datasets."
   ]
  },
  {
   "cell_type": "markdown",
   "metadata": {},
   "source": [
    "## Solutions for exercise 1\n",
    "\n",
    "1. - Data preparation and loading: Cells 1, 2, 3 and 4\n",
    "   - Modeling: Cells 1 and 5\n",
    "   - Evaluation: Cells 1, 6 and 7\n",
    "   - Presentation: Cells 1, 5 and 8\n",
    "2. The naming of the variables throughout the dataset is unique to `iris`-dataset, but it would be possible to change these to generic names.\n",
    "\n",
    "   Likewise the target feature and plotted features could be generalized to take these from variables. Thus the only unique part is the cell where the data is loaded: Cell 2 "
   ]
  },
  {
   "cell_type": "markdown",
   "metadata": {},
   "source": [
    "## Solutions in detail"
   ]
  },
  {
   "cell_type": "markdown",
   "metadata": {},
   "source": [
    "This cell contains something from all categories:\n",
    "- [tidyverse](https://www.tidyverse.org/) is used throughout the pipeline as it provides the `tibble`-structure, functions to manipulate it and various other libraries.\n",
    "- [modelr](https://modelr.tidyverse.org/) is required for [resample_partition](https://modelr.tidyverse.org/reference/resample_partition.html), so in this case it is related to data loading.\n",
    "- [rpart](https://cran.r-project.org/web/packages/rpart/rpart.pdf) is required for the function [rpart](https://www.rdocumentation.org/packages/rpart/versions/4.1-15/topics/rpart), which creates decision trees, so it is related to modeling.\n",
    "- [caret](https://topepo.github.io/caret/) is required for the [confusionMatrix](https://www.rdocumentation.org/packages/caret/versions/6.0-86/topics/confusionMatrix)-function, so it is related to evaluation.\n",
    "- [stringr](https://stringr.tidyverse.org/) is used in the presentation part to improve plot labels via [str_to_title](https://stringr.tidyverse.org/reference/case.html)."
   ]
  },
  {
   "cell_type": "code",
   "execution_count": 1,
   "metadata": {},
   "outputs": [
    {
     "name": "stderr",
     "output_type": "stream",
     "text": [
      "Registered S3 methods overwritten by 'ggplot2':\n",
      "  method         from \n",
      "  [.quosures     rlang\n",
      "  c.quosures     rlang\n",
      "  print.quosures rlang\n",
      "Registered S3 method overwritten by 'rvest':\n",
      "  method            from\n",
      "  read_xml.response xml2\n",
      "── Attaching packages ─────────────────────────────────────── tidyverse 1.2.1 ──\n",
      "✔ ggplot2 3.1.1       ✔ purrr   0.3.2  \n",
      "✔ tibble  2.1.1       ✔ dplyr   0.8.0.1\n",
      "✔ tidyr   0.8.3       ✔ stringr 1.4.0  \n",
      "✔ readr   1.3.1       ✔ forcats 0.4.0  \n",
      "── Conflicts ────────────────────────────────────────── tidyverse_conflicts() ──\n",
      "✖ dplyr::filter() masks stats::filter()\n",
      "✖ dplyr::lag()    masks stats::lag()\n",
      "Loading required package: lattice\n",
      "\n",
      "Attaching package: ‘caret’\n",
      "\n",
      "The following object is masked from ‘package:purrr’:\n",
      "\n",
      "    lift\n",
      "\n"
     ]
    }
   ],
   "source": [
    "# Cell 1\n",
    "library(tidyverse)\n",
    "library(modelr)\n",
    "library(rpart)\n",
    "library(caret)\n",
    "library(stringr)"
   ]
  },
  {
   "cell_type": "markdown",
   "metadata": {},
   "source": [
    "This cell is completely dedicated to data loading. Iris dataset is loaded and `Species`-field is converted into a categorical variable. Index will be stored as a variable to verify that sampling worked (more on this later)."
   ]
  },
  {
   "cell_type": "code",
   "execution_count": 2,
   "metadata": {},
   "outputs": [
    {
     "name": "stderr",
     "output_type": "stream",
     "text": [
      "Parsed with column specification:\n",
      "cols(\n",
      "  Sepal.Length = col_double(),\n",
      "  Sepal.Width = col_double(),\n",
      "  Petal.Length = col_double(),\n",
      "  Petal.Width = col_double(),\n",
      "  Species = col_character()\n",
      ")\n"
     ]
    },
    {
     "name": "stdout",
     "output_type": "stream",
     "text": [
      "# A tibble: 150 x 6\n",
      "      id Sepal.Length Sepal.Width Petal.Length Petal.Width Species\n",
      "   <int>        <dbl>       <dbl>        <dbl>       <dbl> <fct>  \n",
      " 1     1          5.1         3.5          1.4         0.2 setosa \n",
      " 2     2          4.9         3            1.4         0.2 setosa \n",
      " 3     3          4.7         3.2          1.3         0.2 setosa \n",
      " 4     4          4.6         3.1          1.5         0.2 setosa \n",
      " 5     5          5           3.6          1.4         0.2 setosa \n",
      " 6     6          5.4         3.9          1.7         0.4 setosa \n",
      " 7     7          4.6         3.4          1.4         0.3 setosa \n",
      " 8     8          5           3.4          1.5         0.2 setosa \n",
      " 9     9          4.4         2.9          1.4         0.2 setosa \n",
      "10    10          4.9         3.1          1.5         0.1 setosa \n",
      "# … with 140 more rows\n"
     ]
    }
   ],
   "source": [
    "# Cell 2\n",
    "iris <- read_csv('../data/iris.data', col_names=c('Sepal.Length', 'Sepal.Width', 'Petal.Length', 'Petal.Width', 'Species')) %>%\n",
    "    rowid_to_column('id') %>%\n",
    "    mutate(Species=str_remove(Species, 'Iris-')) %>%\n",
    "    mutate(Species=as.factor(Species))\n",
    "print(iris)"
   ]
  },
  {
   "cell_type": "markdown",
   "metadata": {},
   "source": [
    "This cell is again related to data preparation. The rows in the iris dataset are shuffled with the sample function. This is verified by seeing that the new index differs from the old index. Old index is removed as it would ruin the learning process (decision tree would learn to use the index).\n",
    "\n",
    "This step is unnecessary in the grand scheme of things as the [resample_partition](https://modelr.tidyverse.org/reference/resample_partition.html)-function picks rows randomly. It does not shuffle them, but it does not matter for rpart. However, it highlights how row shuffling would be accomplished and is a useful step to minimize risk of learning by index.\n",
    "\n",
    "Random number generator seed in initialized manually to enable reproducibility."
   ]
  },
  {
   "cell_type": "code",
   "execution_count": 3,
   "metadata": {},
   "outputs": [
    {
     "data": {
      "text/html": [
       "<table>\n",
       "<thead><tr><th scope=col>id</th><th scope=col>Sepal.Length</th><th scope=col>Sepal.Width</th><th scope=col>Petal.Length</th><th scope=col>Petal.Width</th><th scope=col>Species</th></tr></thead>\n",
       "<tbody>\n",
       "\t<tr><td> 49       </td><td>5.3       </td><td>3.7       </td><td>1.5       </td><td>0.2       </td><td>setosa    </td></tr>\n",
       "\t<tr><td> 65       </td><td>5.6       </td><td>2.9       </td><td>3.6       </td><td>1.3       </td><td>versicolor</td></tr>\n",
       "\t<tr><td> 74       </td><td>6.1       </td><td>2.8       </td><td>4.7       </td><td>1.2       </td><td>versicolor</td></tr>\n",
       "\t<tr><td>146       </td><td>6.7       </td><td>3.0       </td><td>5.2       </td><td>2.3       </td><td>virginica </td></tr>\n",
       "\t<tr><td>122       </td><td>5.6       </td><td>2.8       </td><td>4.9       </td><td>2.0       </td><td>virginica </td></tr>\n",
       "\t<tr><td>150       </td><td>5.9       </td><td>3.0       </td><td>5.1       </td><td>1.8       </td><td>virginica </td></tr>\n",
       "</tbody>\n",
       "</table>\n"
      ],
      "text/latex": [
       "\\begin{tabular}{r|llllll}\n",
       " id & Sepal.Length & Sepal.Width & Petal.Length & Petal.Width & Species\\\\\n",
       "\\hline\n",
       "\t  49        & 5.3        & 3.7        & 1.5        & 0.2        & setosa    \\\\\n",
       "\t  65        & 5.6        & 2.9        & 3.6        & 1.3        & versicolor\\\\\n",
       "\t  74        & 6.1        & 2.8        & 4.7        & 1.2        & versicolor\\\\\n",
       "\t 146        & 6.7        & 3.0        & 5.2        & 2.3        & virginica \\\\\n",
       "\t 122        & 5.6        & 2.8        & 4.9        & 2.0        & virginica \\\\\n",
       "\t 150        & 5.9        & 3.0        & 5.1        & 1.8        & virginica \\\\\n",
       "\\end{tabular}\n"
      ],
      "text/markdown": [
       "\n",
       "| id | Sepal.Length | Sepal.Width | Petal.Length | Petal.Width | Species |\n",
       "|---|---|---|---|---|---|\n",
       "|  49        | 5.3        | 3.7        | 1.5        | 0.2        | setosa     |\n",
       "|  65        | 5.6        | 2.9        | 3.6        | 1.3        | versicolor |\n",
       "|  74        | 6.1        | 2.8        | 4.7        | 1.2        | versicolor |\n",
       "| 146        | 6.7        | 3.0        | 5.2        | 2.3        | virginica  |\n",
       "| 122        | 5.6        | 2.8        | 4.9        | 2.0        | virginica  |\n",
       "| 150        | 5.9        | 3.0        | 5.1        | 1.8        | virginica  |\n",
       "\n"
      ],
      "text/plain": [
       "  id  Sepal.Length Sepal.Width Petal.Length Petal.Width Species   \n",
       "1  49 5.3          3.7         1.5          0.2         setosa    \n",
       "2  65 5.6          2.9         3.6          1.3         versicolor\n",
       "3  74 6.1          2.8         4.7          1.2         versicolor\n",
       "4 146 6.7          3.0         5.2          2.3         virginica \n",
       "5 122 5.6          2.8         4.9          2.0         virginica \n",
       "6 150 5.9          3.0         5.1          1.8         virginica "
      ]
     },
     "metadata": {},
     "output_type": "display_data"
    },
    {
     "data": {
      "text/html": [
       "<table>\n",
       "<thead><tr><th scope=col>Sepal.Length</th><th scope=col>Sepal.Width</th><th scope=col>Petal.Length</th><th scope=col>Petal.Width</th><th scope=col>Species</th></tr></thead>\n",
       "<tbody>\n",
       "\t<tr><td>5.3       </td><td>3.7       </td><td>1.5       </td><td>0.2       </td><td>setosa    </td></tr>\n",
       "\t<tr><td>5.6       </td><td>2.9       </td><td>3.6       </td><td>1.3       </td><td>versicolor</td></tr>\n",
       "\t<tr><td>6.1       </td><td>2.8       </td><td>4.7       </td><td>1.2       </td><td>versicolor</td></tr>\n",
       "\t<tr><td>6.7       </td><td>3.0       </td><td>5.2       </td><td>2.3       </td><td>virginica </td></tr>\n",
       "\t<tr><td>5.6       </td><td>2.8       </td><td>4.9       </td><td>2.0       </td><td>virginica </td></tr>\n",
       "\t<tr><td>5.9       </td><td>3.0       </td><td>5.1       </td><td>1.8       </td><td>virginica </td></tr>\n",
       "</tbody>\n",
       "</table>\n"
      ],
      "text/latex": [
       "\\begin{tabular}{r|lllll}\n",
       " Sepal.Length & Sepal.Width & Petal.Length & Petal.Width & Species\\\\\n",
       "\\hline\n",
       "\t 5.3        & 3.7        & 1.5        & 0.2        & setosa    \\\\\n",
       "\t 5.6        & 2.9        & 3.6        & 1.3        & versicolor\\\\\n",
       "\t 6.1        & 2.8        & 4.7        & 1.2        & versicolor\\\\\n",
       "\t 6.7        & 3.0        & 5.2        & 2.3        & virginica \\\\\n",
       "\t 5.6        & 2.8        & 4.9        & 2.0        & virginica \\\\\n",
       "\t 5.9        & 3.0        & 5.1        & 1.8        & virginica \\\\\n",
       "\\end{tabular}\n"
      ],
      "text/markdown": [
       "\n",
       "| Sepal.Length | Sepal.Width | Petal.Length | Petal.Width | Species |\n",
       "|---|---|---|---|---|\n",
       "| 5.3        | 3.7        | 1.5        | 0.2        | setosa     |\n",
       "| 5.6        | 2.9        | 3.6        | 1.3        | versicolor |\n",
       "| 6.1        | 2.8        | 4.7        | 1.2        | versicolor |\n",
       "| 6.7        | 3.0        | 5.2        | 2.3        | virginica  |\n",
       "| 5.6        | 2.8        | 4.9        | 2.0        | virginica  |\n",
       "| 5.9        | 3.0        | 5.1        | 1.8        | virginica  |\n",
       "\n"
      ],
      "text/plain": [
       "  Sepal.Length Sepal.Width Petal.Length Petal.Width Species   \n",
       "1 5.3          3.7         1.5          0.2         setosa    \n",
       "2 5.6          2.9         3.6          1.3         versicolor\n",
       "3 6.1          2.8         4.7          1.2         versicolor\n",
       "4 6.7          3.0         5.2          2.3         virginica \n",
       "5 5.6          2.8         4.9          2.0         virginica \n",
       "6 5.9          3.0         5.1          1.8         virginica "
      ]
     },
     "metadata": {},
     "output_type": "display_data"
    }
   ],
   "source": [
    "# Cell 3\n",
    "set.seed(42)\n",
    "sample_ix <- sample(nrow(iris))\n",
    "iris <- iris[sample_ix,]\n",
    "head(iris)\n",
    "iris <- select(iris, -id)\n",
    "head(iris)"
   ]
  },
  {
   "cell_type": "markdown",
   "metadata": {},
   "source": [
    "This step is still data preparation, but it is very close to the modeling part. The dataset is split into training and test sets with 4 to 1 ratio.\n",
    "\n",
    "Number of different species in train and test splits are counted to verify that the both splits have similar species proportions."
   ]
  },
  {
   "cell_type": "code",
   "execution_count": 4,
   "metadata": {},
   "outputs": [
    {
     "data": {
      "text/html": [
       "<table>\n",
       "<thead><tr><th scope=col>Species</th><th scope=col>n</th></tr></thead>\n",
       "<tbody>\n",
       "\t<tr><td>setosa    </td><td>38        </td></tr>\n",
       "\t<tr><td>versicolor</td><td>40        </td></tr>\n",
       "\t<tr><td>virginica </td><td>41        </td></tr>\n",
       "</tbody>\n",
       "</table>\n"
      ],
      "text/latex": [
       "\\begin{tabular}{r|ll}\n",
       " Species & n\\\\\n",
       "\\hline\n",
       "\t setosa     & 38        \\\\\n",
       "\t versicolor & 40        \\\\\n",
       "\t virginica  & 41        \\\\\n",
       "\\end{tabular}\n"
      ],
      "text/markdown": [
       "\n",
       "| Species | n |\n",
       "|---|---|\n",
       "| setosa     | 38         |\n",
       "| versicolor | 40         |\n",
       "| virginica  | 41         |\n",
       "\n"
      ],
      "text/plain": [
       "  Species    n \n",
       "1 setosa     38\n",
       "2 versicolor 40\n",
       "3 virginica  41"
      ]
     },
     "metadata": {},
     "output_type": "display_data"
    },
    {
     "data": {
      "text/html": [
       "<table>\n",
       "<thead><tr><th scope=col>Species</th><th scope=col>n</th></tr></thead>\n",
       "<tbody>\n",
       "\t<tr><td>setosa    </td><td>12        </td></tr>\n",
       "\t<tr><td>versicolor</td><td>10        </td></tr>\n",
       "\t<tr><td>virginica </td><td> 9        </td></tr>\n",
       "</tbody>\n",
       "</table>\n"
      ],
      "text/latex": [
       "\\begin{tabular}{r|ll}\n",
       " Species & n\\\\\n",
       "\\hline\n",
       "\t setosa     & 12        \\\\\n",
       "\t versicolor & 10        \\\\\n",
       "\t virginica  &  9        \\\\\n",
       "\\end{tabular}\n"
      ],
      "text/markdown": [
       "\n",
       "| Species | n |\n",
       "|---|---|\n",
       "| setosa     | 12         |\n",
       "| versicolor | 10         |\n",
       "| virginica  |  9         |\n",
       "\n"
      ],
      "text/plain": [
       "  Species    n \n",
       "1 setosa     12\n",
       "2 versicolor 10\n",
       "3 virginica   9"
      ]
     },
     "metadata": {},
     "output_type": "display_data"
    }
   ],
   "source": [
    "# Cell 4\n",
    "iris_split <- iris %>%\n",
    "    resample_partition(c(train=0.8, test=0.2))\n",
    "\n",
    "iris_split$train %>%\n",
    "    as_tibble() %>%\n",
    "    group_by(Species) %>%\n",
    "    tally()\n",
    "\n",
    "iris_split$test %>%\n",
    "    as_tibble() %>%\n",
    "    group_by(Species) %>%\n",
    "    tally()"
   ]
  },
  {
   "cell_type": "markdown",
   "metadata": {},
   "source": [
    "This cell is the modeling part. A decision tree model is fitted into the training data.\n",
    "\n",
    "The printing of the fitted model is more related to presentation than modeling, but one could also consider it part of the modeling process."
   ]
  },
  {
   "cell_type": "code",
   "execution_count": 5,
   "metadata": {},
   "outputs": [
    {
     "data": {
      "text/plain": [
       "n= 119 \n",
       "\n",
       "node), split, n, loss, yval, (yprob)\n",
       "      * denotes terminal node\n",
       "\n",
       "1) root 119 78 virginica (0.31932773 0.33613445 0.34453782)  \n",
       "  2) Petal.Length< 2.45 38  0 setosa (1.00000000 0.00000000 0.00000000) *\n",
       "  3) Petal.Length>=2.45 81 40 virginica (0.00000000 0.49382716 0.50617284)  \n",
       "    6) Petal.Width< 1.75 43  4 versicolor (0.00000000 0.90697674 0.09302326) *\n",
       "    7) Petal.Width>=1.75 38  1 virginica (0.00000000 0.02631579 0.97368421) *"
      ]
     },
     "metadata": {},
     "output_type": "display_data"
    }
   ],
   "source": [
    "# Cell 5\n",
    "fitted_tree <- iris_split$train %>%\n",
    "    as_tibble() %>%\n",
    "    rpart(Species ~ ., data=., method='class')\n",
    "fitted_tree"
   ]
  },
  {
   "cell_type": "markdown",
   "metadata": {},
   "source": [
    "This cell is related to the evaluation process.\n",
    "\n",
    "Predictions are made based on test split and the successful predictions are recorded for future use. "
   ]
  },
  {
   "cell_type": "code",
   "execution_count": 6,
   "metadata": {},
   "outputs": [],
   "source": [
    "# Cell 6\n",
    "iris_precicted <- iris_split$test %>%\n",
    "    as_tibble() %>%\n",
    "    mutate(PredictedSpecies = predict(fitted_tree, newdata=., type='class')) %>%\n",
    "    mutate(Prediction=ifelse(Species == PredictedSpecies, str_to_title(as.character(Species)), 'Classification failure'))"
   ]
  },
  {
   "cell_type": "markdown",
   "metadata": {},
   "source": [
    "This cell is also related to the evaluation process.\n",
    "\n",
    "There are various metrics that can be used to evaluate model success. Here we are checking [the confusion matrix](https://en.wikipedia.org/wiki/Confusion_matrix) and [the accuracy](https://en.wikipedia.org/wiki/Accuracy_and_precision#In_binary_classification) of our decision tree model.\n",
    "\n",
    "The function [confusionMatrix](https://www.rdocumentation.org/packages/caret/versions/6.0-86/topics/confusionMatrix) provides these quantities along with other metrics. "
   ]
  },
  {
   "cell_type": "code",
   "execution_count": 7,
   "metadata": {},
   "outputs": [
    {
     "data": {
      "text/plain": [
       "Confusion Matrix and Statistics\n",
       "\n",
       "            Reference\n",
       "Prediction   setosa versicolor virginica\n",
       "  setosa         12          0         0\n",
       "  versicolor      0         10         0\n",
       "  virginica       0          1         8\n",
       "\n",
       "Overall Statistics\n",
       "                                         \n",
       "               Accuracy : 0.9677         \n",
       "                 95% CI : (0.833, 0.9992)\n",
       "    No Information Rate : 0.3871         \n",
       "    P-Value [Acc > NIR] : 8.358e-12      \n",
       "                                         \n",
       "                  Kappa : 0.9512         \n",
       "                                         \n",
       " Mcnemar's Test P-Value : NA             \n",
       "\n",
       "Statistics by Class:\n",
       "\n",
       "                     Class: setosa Class: versicolor Class: virginica\n",
       "Sensitivity                 1.0000            0.9091           1.0000\n",
       "Specificity                 1.0000            1.0000           0.9565\n",
       "Pos Pred Value              1.0000            1.0000           0.8889\n",
       "Neg Pred Value              1.0000            0.9524           1.0000\n",
       "Prevalence                  0.3871            0.3548           0.2581\n",
       "Detection Rate              0.3871            0.3226           0.2581\n",
       "Detection Prevalence        0.3871            0.3226           0.2903\n",
       "Balanced Accuracy           1.0000            0.9545           0.9783"
      ]
     },
     "metadata": {},
     "output_type": "display_data"
    }
   ],
   "source": [
    "# Cell 7\n",
    "confusionMatrix(iris_precicted$Species, iris_precicted$PredictedSpecies)"
   ]
  },
  {
   "cell_type": "markdown",
   "metadata": {},
   "source": [
    "This cell does plots of the data so it is related to the presentation process.\n",
    "\n",
    "Here we create scatter plots of the `Petal`- and `Sepal`-dimensions along with the predicted species. Failures are plotted separately so that we can see why our classifier might have failed: the failures are situated along boundaries of Virginica and Versicolor."
   ]
  },
  {
   "cell_type": "code",
   "execution_count": 8,
   "metadata": {},
   "outputs": [
    {
     "data": {
      "image/png": "[encoded data removed]",
      "text/plain": [
       "plot without title"
      ]
     },
     "metadata": {},
     "output_type": "display_data"
    },
    {
     "data": {
      "image/png": "[encoded data removed]",
      "text/plain": [
       "plot without title"
      ]
     },
     "metadata": {},
     "output_type": "display_data"
    }
   ],
   "source": [
    "# Cell 8\n",
    "options(repr.plot.width=13, repr.plot.height=7)\n",
    "ggplot(data=iris_precicted, aes(x=Petal.Width, y=Petal.Length, color=Prediction)) +\n",
    "    geom_point()\n",
    "\n",
    "ggplot(data=iris_precicted, aes(x=Sepal.Width, y=Sepal.Length, color=Prediction)) +\n",
    "    geom_point()"
   ]
  },
  {
   "cell_type": "code",
   "execution_count": null,
   "metadata": {},
   "outputs": [],
   "source": []
  }
 ],
 "metadata": {
  "kernelspec": {
   "display_name": "R",
   "language": "R",
   "name": "ir"
  },
  "language_info": {
   "codemirror_mode": "r",
   "file_extension": ".r",
   "mimetype": "text/x-r-source",
   "name": "R",
   "pygments_lexer": "r",
   "version": "3.6.1"
  }
 },
 "nbformat": 4,
 "nbformat_minor": 4
}

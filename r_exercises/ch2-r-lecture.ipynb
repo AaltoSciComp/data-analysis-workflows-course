{
 "cells": [
  {
   "cell_type": "markdown",
   "metadata": {},
   "source": [
    "# Chapter 2\n",
    "\n",
    "This notebook contains the commands that are shown in the lectures."
   ]
  },
  {
   "cell_type": "code",
   "execution_count": 1,
   "metadata": {},
   "outputs": [
    {
     "name": "stderr",
     "output_type": "stream",
     "text": [
      "Registered S3 methods overwritten by 'ggplot2':\n",
      "  method         from \n",
      "  [.quosures     rlang\n",
      "  c.quosures     rlang\n",
      "  print.quosures rlang\n",
      "Registered S3 method overwritten by 'rvest':\n",
      "  method            from\n",
      "  read_xml.response xml2\n",
      "── Attaching packages ─────────────────────────────────────── tidyverse 1.2.1 ──\n",
      "✔ ggplot2 3.1.1       ✔ purrr   0.3.2  \n",
      "✔ tibble  2.1.1       ✔ dplyr   0.8.0.1\n",
      "✔ tidyr   0.8.3       ✔ stringr 1.4.0  \n",
      "✔ readr   1.3.1       ✔ forcats 0.4.0  \n",
      "── Conflicts ────────────────────────────────────────── tidyverse_conflicts() ──\n",
      "✖ dplyr::filter() masks stats::filter()\n",
      "✖ dplyr::lag()    masks stats::lag()\n",
      "\n",
      "Attaching package: ‘lubridate’\n",
      "\n",
      "The following object is masked from ‘package:base’:\n",
      "\n",
      "    date\n",
      "\n"
     ]
    }
   ],
   "source": [
    "library(tidyverse)\n",
    "library(lubridate)"
   ]
  },
  {
   "cell_type": "code",
   "execution_count": 2,
   "metadata": {},
   "outputs": [
    {
     "name": "stderr",
     "output_type": "stream",
     "text": [
      "Warning message:\n",
      "“package ‘arrow’ was built under R version 3.6.3”\n",
      "Attaching package: ‘arrow’\n",
      "\n",
      "The following object is masked from ‘package:utils’:\n",
      "\n",
      "    timestamp\n",
      "\n"
     ]
    }
   ],
   "source": [
    "# Comment this out if you haven't installed arrow yet\n",
    "library(arrow)"
   ]
  },
  {
   "cell_type": "markdown",
   "metadata": {},
   "source": [
    "# Simple data operations\n",
    "\n",
    "## Loading data from CSVs\n",
    "\n",
    "[read_csv](https://readr.tidyverse.org/reference/read_delim.html)"
   ]
  },
  {
   "cell_type": "code",
   "execution_count": 3,
   "metadata": {},
   "outputs": [
    {
     "name": "stderr",
     "output_type": "stream",
     "text": [
      "Parsed with column specification:\n",
      "cols(\n",
      "  player_id = col_double(),\n",
      "  first_name = col_character(),\n",
      "  last_name = col_character(),\n",
      "  hand = col_character(),\n",
      "  birth_date = col_double(),\n",
      "  country_code = col_character()\n",
      ")\n"
     ]
    },
    {
     "data": {
      "text/html": [
       "<table>\n",
       "<thead><tr><th scope=col>player_id</th><th scope=col>first_name</th><th scope=col>last_name</th><th scope=col>hand</th><th scope=col>birth_date</th><th scope=col>country_code</th></tr></thead>\n",
       "<tbody>\n",
       "\t<tr><td>100001        </td><td>Gardnar       </td><td>Mulloy        </td><td>R             </td><td>19131122      </td><td>USA           </td></tr>\n",
       "\t<tr><td>100002        </td><td>Pancho        </td><td>Segura        </td><td>R             </td><td>19210620      </td><td>ECU           </td></tr>\n",
       "\t<tr><td>100003        </td><td>Frank         </td><td>Sedgman       </td><td>R             </td><td>19271002      </td><td>AUS           </td></tr>\n",
       "\t<tr><td>100004        </td><td>Giuseppe      </td><td>Merlo         </td><td>R             </td><td>19271011      </td><td>ITA           </td></tr>\n",
       "\t<tr><td>100005        </td><td>Richard Pancho</td><td>Gonzales      </td><td>R             </td><td>19280509      </td><td>USA           </td></tr>\n",
       "\t<tr><td>100006        </td><td>Grant         </td><td>Golden        </td><td>R             </td><td>19290821      </td><td>USA           </td></tr>\n",
       "</tbody>\n",
       "</table>\n"
      ],
      "text/latex": [
       "\\begin{tabular}{r|llllll}\n",
       " player\\_id & first\\_name & last\\_name & hand & birth\\_date & country\\_code\\\\\n",
       "\\hline\n",
       "\t 100001         & Gardnar        & Mulloy         & R              & 19131122       & USA           \\\\\n",
       "\t 100002         & Pancho         & Segura         & R              & 19210620       & ECU           \\\\\n",
       "\t 100003         & Frank          & Sedgman        & R              & 19271002       & AUS           \\\\\n",
       "\t 100004         & Giuseppe       & Merlo          & R              & 19271011       & ITA           \\\\\n",
       "\t 100005         & Richard Pancho & Gonzales       & R              & 19280509       & USA           \\\\\n",
       "\t 100006         & Grant          & Golden         & R              & 19290821       & USA           \\\\\n",
       "\\end{tabular}\n"
      ],
      "text/markdown": [
       "\n",
       "| player_id | first_name | last_name | hand | birth_date | country_code |\n",
       "|---|---|---|---|---|---|\n",
       "| 100001         | Gardnar        | Mulloy         | R              | 19131122       | USA            |\n",
       "| 100002         | Pancho         | Segura         | R              | 19210620       | ECU            |\n",
       "| 100003         | Frank          | Sedgman        | R              | 19271002       | AUS            |\n",
       "| 100004         | Giuseppe       | Merlo          | R              | 19271011       | ITA            |\n",
       "| 100005         | Richard Pancho | Gonzales       | R              | 19280509       | USA            |\n",
       "| 100006         | Grant          | Golden         | R              | 19290821       | USA            |\n",
       "\n"
      ],
      "text/plain": [
       "  player_id first_name     last_name hand birth_date country_code\n",
       "1 100001    Gardnar        Mulloy    R    19131122   USA         \n",
       "2 100002    Pancho         Segura    R    19210620   ECU         \n",
       "3 100003    Frank          Sedgman   R    19271002   AUS         \n",
       "4 100004    Giuseppe       Merlo     R    19271011   ITA         \n",
       "5 100005    Richard Pancho Gonzales  R    19280509   USA         \n",
       "6 100006    Grant          Golden    R    19290821   USA         "
      ]
     },
     "metadata": {},
     "output_type": "display_data"
    }
   ],
   "source": [
    "atp_players <- read_csv('../data/atp_players.csv', col_names=c('player_id', 'first_name', 'last_name', 'hand', 'birth_date', 'country_code'))\n",
    "head(atp_players)"
   ]
  },
  {
   "cell_type": "code",
   "execution_count": 4,
   "metadata": {},
   "outputs": [
    {
     "name": "stdout",
     "output_type": "stream",
     "text": [
      "Classes ‘spec_tbl_df’, ‘tbl_df’, ‘tbl’ and 'data.frame':\t54938 obs. of  6 variables:\n",
      " $ player_id   : num  1e+05 1e+05 1e+05 1e+05 1e+05 ...\n",
      " $ first_name  : chr  \"Gardnar\" \"Pancho\" \"Frank\" \"Giuseppe\" ...\n",
      " $ last_name   : chr  \"Mulloy\" \"Segura\" \"Sedgman\" \"Merlo\" ...\n",
      " $ hand        : chr  \"R\" \"R\" \"R\" \"R\" ...\n",
      " $ birth_date  : num  19131122 19210620 19271002 19271011 19280509 ...\n",
      " $ country_code: chr  \"USA\" \"ECU\" \"AUS\" \"ITA\" ...\n",
      " - attr(*, \"spec\")=\n",
      "  .. cols(\n",
      "  ..   player_id = col_double(),\n",
      "  ..   first_name = col_character(),\n",
      "  ..   last_name = col_character(),\n",
      "  ..   hand = col_character(),\n",
      "  ..   birth_date = col_double(),\n",
      "  ..   country_code = col_character()\n",
      "  .. )\n"
     ]
    }
   ],
   "source": [
    "str(atp_players)"
   ]
  },
  {
   "cell_type": "code",
   "execution_count": 5,
   "metadata": {},
   "outputs": [
    {
     "data": {
      "text/html": [
       "<table>\n",
       "<thead><tr><th scope=col>player_id</th><th scope=col>first_name</th><th scope=col>last_name</th><th scope=col>hand</th><th scope=col>birth_date</th><th scope=col>country_code</th></tr></thead>\n",
       "<tbody>\n",
       "\t<tr><td>100001        </td><td>Gardnar       </td><td>Mulloy        </td><td>R             </td><td>19131122      </td><td>USA           </td></tr>\n",
       "\t<tr><td>100002        </td><td>Pancho        </td><td>Segura        </td><td>R             </td><td>19210620      </td><td>ECU           </td></tr>\n",
       "\t<tr><td>100003        </td><td>Frank         </td><td>Sedgman       </td><td>R             </td><td>19271002      </td><td>AUS           </td></tr>\n",
       "\t<tr><td>100004        </td><td>Giuseppe      </td><td>Merlo         </td><td>R             </td><td>19271011      </td><td>ITA           </td></tr>\n",
       "\t<tr><td>100005        </td><td>Richard Pancho</td><td>Gonzales      </td><td>R             </td><td>19280509      </td><td>USA           </td></tr>\n",
       "\t<tr><td>100006        </td><td>Grant         </td><td>Golden        </td><td>R             </td><td>19290821      </td><td>USA           </td></tr>\n",
       "</tbody>\n",
       "</table>\n"
      ],
      "text/latex": [
       "\\begin{tabular}{r|llllll}\n",
       " player\\_id & first\\_name & last\\_name & hand & birth\\_date & country\\_code\\\\\n",
       "\\hline\n",
       "\t 100001         & Gardnar        & Mulloy         & R              & 19131122       & USA           \\\\\n",
       "\t 100002         & Pancho         & Segura         & R              & 19210620       & ECU           \\\\\n",
       "\t 100003         & Frank          & Sedgman        & R              & 19271002       & AUS           \\\\\n",
       "\t 100004         & Giuseppe       & Merlo          & R              & 19271011       & ITA           \\\\\n",
       "\t 100005         & Richard Pancho & Gonzales       & R              & 19280509       & USA           \\\\\n",
       "\t 100006         & Grant          & Golden         & R              & 19290821       & USA           \\\\\n",
       "\\end{tabular}\n"
      ],
      "text/markdown": [
       "\n",
       "| player_id | first_name | last_name | hand | birth_date | country_code |\n",
       "|---|---|---|---|---|---|\n",
       "| 100001         | Gardnar        | Mulloy         | R              | 19131122       | USA            |\n",
       "| 100002         | Pancho         | Segura         | R              | 19210620       | ECU            |\n",
       "| 100003         | Frank          | Sedgman        | R              | 19271002       | AUS            |\n",
       "| 100004         | Giuseppe       | Merlo          | R              | 19271011       | ITA            |\n",
       "| 100005         | Richard Pancho | Gonzales       | R              | 19280509       | USA            |\n",
       "| 100006         | Grant          | Golden         | R              | 19290821       | USA            |\n",
       "\n"
      ],
      "text/plain": [
       "  player_id first_name     last_name hand birth_date country_code\n",
       "1 100001    Gardnar        Mulloy    R    19131122   USA         \n",
       "2 100002    Pancho         Segura    R    19210620   ECU         \n",
       "3 100003    Frank          Sedgman   R    19271002   AUS         \n",
       "4 100004    Giuseppe       Merlo     R    19271011   ITA         \n",
       "5 100005    Richard Pancho Gonzales  R    19280509   USA         \n",
       "6 100006    Grant          Golden    R    19290821   USA         "
      ]
     },
     "metadata": {},
     "output_type": "display_data"
    }
   ],
   "source": [
    "head(atp_players)"
   ]
  },
  {
   "cell_type": "markdown",
   "metadata": {},
   "source": [
    "## Creating and removing columns\n",
    "\n",
    "\n",
    "[Tidyverse mutate](https://dplyr.tidyverse.org/reference/mutate.html)\n",
    "\n",
    "[Lubridate parse_date_time](https://lubridate.tidyverse.org/reference/parse_date_time.html)"
   ]
  },
  {
   "cell_type": "code",
   "execution_count": 6,
   "metadata": {},
   "outputs": [
    {
     "name": "stderr",
     "output_type": "stream",
     "text": [
      "Warning message:\n",
      "“All formats failed to parse. No formats found.”"
     ]
    },
    {
     "name": "stdout",
     "output_type": "stream",
     "text": [
      "Classes ‘spec_tbl_df’, ‘tbl_df’, ‘tbl’ and 'data.frame':\t54938 obs. of  6 variables:\n",
      " $ player_id   : num  1e+05 1e+05 1e+05 1e+05 1e+05 ...\n",
      " $ first_name  : chr  \"Gardnar\" \"Pancho\" \"Frank\" \"Giuseppe\" ...\n",
      " $ last_name   : chr  \"Mulloy\" \"Segura\" \"Sedgman\" \"Merlo\" ...\n",
      " $ hand        : chr  \"R\" \"R\" \"R\" \"R\" ...\n",
      " $ birth_date  : POSIXct, format: NA NA ...\n",
      " $ country_code: chr  \"USA\" \"ECU\" \"AUS\" \"ITA\" ...\n"
     ]
    }
   ],
   "source": [
    "atp_players <- atp_players %>%\n",
    "    mutate(birth_date=parse_date_time(birth_date, order='%a %Y%m%d'))\n",
    "str(atp_players)"
   ]
  },
  {
   "cell_type": "markdown",
   "metadata": {},
   "source": [
    "[unite](https://tidyr.tidyverse.org/reference/unite.html)"
   ]
  },
  {
   "cell_type": "code",
   "execution_count": 7,
   "metadata": {},
   "outputs": [
    {
     "data": {
      "text/html": [
       "<table>\n",
       "<thead><tr><th scope=col>player_id</th><th scope=col>name</th><th scope=col>first_name</th><th scope=col>last_name</th><th scope=col>hand</th><th scope=col>birth_date</th><th scope=col>country_code</th></tr></thead>\n",
       "<tbody>\n",
       "\t<tr><td>100001                  </td><td>Mulloy, Gardnar         </td><td>Gardnar                 </td><td>Mulloy                  </td><td>R                       </td><td>NA                      </td><td>USA                     </td></tr>\n",
       "\t<tr><td>100002                  </td><td>Segura, Pancho          </td><td>Pancho                  </td><td>Segura                  </td><td>R                       </td><td>NA                      </td><td>ECU                     </td></tr>\n",
       "\t<tr><td>100003                  </td><td>Sedgman, Frank          </td><td>Frank                   </td><td>Sedgman                 </td><td>R                       </td><td>NA                      </td><td>AUS                     </td></tr>\n",
       "\t<tr><td>100004                  </td><td>Merlo, Giuseppe         </td><td>Giuseppe                </td><td>Merlo                   </td><td>R                       </td><td>NA                      </td><td>ITA                     </td></tr>\n",
       "\t<tr><td>100005                  </td><td>Gonzales, Richard Pancho</td><td>Richard Pancho          </td><td>Gonzales                </td><td>R                       </td><td>NA                      </td><td>USA                     </td></tr>\n",
       "\t<tr><td>100006                  </td><td>Golden, Grant           </td><td>Grant                   </td><td>Golden                  </td><td>R                       </td><td>NA                      </td><td>USA                     </td></tr>\n",
       "</tbody>\n",
       "</table>\n"
      ],
      "text/latex": [
       "\\begin{tabular}{r|lllllll}\n",
       " player\\_id & name & first\\_name & last\\_name & hand & birth\\_date & country\\_code\\\\\n",
       "\\hline\n",
       "\t 100001                   & Mulloy, Gardnar          & Gardnar                  & Mulloy                   & R                        & NA                       & USA                     \\\\\n",
       "\t 100002                   & Segura, Pancho           & Pancho                   & Segura                   & R                        & NA                       & ECU                     \\\\\n",
       "\t 100003                   & Sedgman, Frank           & Frank                    & Sedgman                  & R                        & NA                       & AUS                     \\\\\n",
       "\t 100004                   & Merlo, Giuseppe          & Giuseppe                 & Merlo                    & R                        & NA                       & ITA                     \\\\\n",
       "\t 100005                   & Gonzales, Richard Pancho & Richard Pancho           & Gonzales                 & R                        & NA                       & USA                     \\\\\n",
       "\t 100006                   & Golden, Grant            & Grant                    & Golden                   & R                        & NA                       & USA                     \\\\\n",
       "\\end{tabular}\n"
      ],
      "text/markdown": [
       "\n",
       "| player_id | name | first_name | last_name | hand | birth_date | country_code |\n",
       "|---|---|---|---|---|---|---|\n",
       "| 100001                   | Mulloy, Gardnar          | Gardnar                  | Mulloy                   | R                        | NA                       | USA                      |\n",
       "| 100002                   | Segura, Pancho           | Pancho                   | Segura                   | R                        | NA                       | ECU                      |\n",
       "| 100003                   | Sedgman, Frank           | Frank                    | Sedgman                  | R                        | NA                       | AUS                      |\n",
       "| 100004                   | Merlo, Giuseppe          | Giuseppe                 | Merlo                    | R                        | NA                       | ITA                      |\n",
       "| 100005                   | Gonzales, Richard Pancho | Richard Pancho           | Gonzales                 | R                        | NA                       | USA                      |\n",
       "| 100006                   | Golden, Grant            | Grant                    | Golden                   | R                        | NA                       | USA                      |\n",
       "\n"
      ],
      "text/plain": [
       "  player_id name                     first_name     last_name hand birth_date\n",
       "1 100001    Mulloy, Gardnar          Gardnar        Mulloy    R    <NA>      \n",
       "2 100002    Segura, Pancho           Pancho         Segura    R    <NA>      \n",
       "3 100003    Sedgman, Frank           Frank          Sedgman   R    <NA>      \n",
       "4 100004    Merlo, Giuseppe          Giuseppe       Merlo     R    <NA>      \n",
       "5 100005    Gonzales, Richard Pancho Richard Pancho Gonzales  R    <NA>      \n",
       "6 100006    Golden, Grant            Grant          Golden    R    <NA>      \n",
       "  country_code\n",
       "1 USA         \n",
       "2 ECU         \n",
       "3 AUS         \n",
       "4 ITA         \n",
       "5 USA         \n",
       "6 USA         "
      ]
     },
     "metadata": {},
     "output_type": "display_data"
    }
   ],
   "source": [
    "atp_players <- atp_players %>%\n",
    "    unite(name, last_name, first_name, sep=', ', remove=FALSE)\n",
    "\n",
    "head(atp_players)"
   ]
  },
  {
   "cell_type": "markdown",
   "metadata": {},
   "source": [
    "[select](https://dplyr.tidyverse.org/reference/select.html)"
   ]
  },
  {
   "cell_type": "code",
   "execution_count": 8,
   "metadata": {},
   "outputs": [
    {
     "name": "stdout",
     "output_type": "stream",
     "text": [
      "Classes ‘tbl_df’, ‘tbl’ and 'data.frame':\t54938 obs. of  5 variables:\n",
      " $ player_id   : num  1e+05 1e+05 1e+05 1e+05 1e+05 ...\n",
      " $ name        : chr  \"Mulloy, Gardnar\" \"Segura, Pancho\" \"Sedgman, Frank\" \"Merlo, Giuseppe\" ...\n",
      " $ hand        : chr  \"R\" \"R\" \"R\" \"R\" ...\n",
      " $ birth_date  : POSIXct, format: NA NA ...\n",
      " $ country_code: chr  \"USA\" \"ECU\" \"AUS\" \"ITA\" ...\n"
     ]
    }
   ],
   "source": [
    "atp_players <- atp_players %>%\n",
    "    select(-first_name, -last_name)\n",
    "\n",
    "str(atp_players)"
   ]
  },
  {
   "cell_type": "markdown",
   "metadata": {},
   "source": [
    "## Turning input processing tasks into functions"
   ]
  },
  {
   "cell_type": "code",
   "execution_count": 9,
   "metadata": {},
   "outputs": [
    {
     "name": "stderr",
     "output_type": "stream",
     "text": [
      "Warning message:\n",
      "“ 125 failed to parse.”"
     ]
    },
    {
     "data": {
      "text/html": [
       "<table>\n",
       "<thead><tr><th scope=col>player_id</th><th scope=col>name</th><th scope=col>hand</th><th scope=col>birth_date</th><th scope=col>country_code</th></tr></thead>\n",
       "<tbody>\n",
       "\t<tr><td>100001                  </td><td>Mulloy, Gardnar         </td><td>R                       </td><td>1913-11-22              </td><td>USA                     </td></tr>\n",
       "\t<tr><td>100002                  </td><td>Segura, Pancho          </td><td>R                       </td><td>1921-06-20              </td><td>ECU                     </td></tr>\n",
       "\t<tr><td>100003                  </td><td>Sedgman, Frank          </td><td>R                       </td><td>1927-10-02              </td><td>AUS                     </td></tr>\n",
       "\t<tr><td>100004                  </td><td>Merlo, Giuseppe         </td><td>R                       </td><td>1927-10-11              </td><td>ITA                     </td></tr>\n",
       "\t<tr><td>100005                  </td><td>Gonzales, Richard Pancho</td><td>R                       </td><td>1928-05-09              </td><td>USA                     </td></tr>\n",
       "\t<tr><td>100006                  </td><td>Golden, Grant           </td><td>R                       </td><td>1929-08-21              </td><td>USA                     </td></tr>\n",
       "</tbody>\n",
       "</table>\n"
      ],
      "text/latex": [
       "\\begin{tabular}{r|lllll}\n",
       " player\\_id & name & hand & birth\\_date & country\\_code\\\\\n",
       "\\hline\n",
       "\t 100001                   & Mulloy, Gardnar          & R                        & 1913-11-22               & USA                     \\\\\n",
       "\t 100002                   & Segura, Pancho           & R                        & 1921-06-20               & ECU                     \\\\\n",
       "\t 100003                   & Sedgman, Frank           & R                        & 1927-10-02               & AUS                     \\\\\n",
       "\t 100004                   & Merlo, Giuseppe          & R                        & 1927-10-11               & ITA                     \\\\\n",
       "\t 100005                   & Gonzales, Richard Pancho & R                        & 1928-05-09               & USA                     \\\\\n",
       "\t 100006                   & Golden, Grant            & R                        & 1929-08-21               & USA                     \\\\\n",
       "\\end{tabular}\n"
      ],
      "text/markdown": [
       "\n",
       "| player_id | name | hand | birth_date | country_code |\n",
       "|---|---|---|---|---|\n",
       "| 100001                   | Mulloy, Gardnar          | R                        | 1913-11-22               | USA                      |\n",
       "| 100002                   | Segura, Pancho           | R                        | 1921-06-20               | ECU                      |\n",
       "| 100003                   | Sedgman, Frank           | R                        | 1927-10-02               | AUS                      |\n",
       "| 100004                   | Merlo, Giuseppe          | R                        | 1927-10-11               | ITA                      |\n",
       "| 100005                   | Gonzales, Richard Pancho | R                        | 1928-05-09               | USA                      |\n",
       "| 100006                   | Golden, Grant            | R                        | 1929-08-21               | USA                      |\n",
       "\n"
      ],
      "text/plain": [
       "  player_id name                     hand birth_date country_code\n",
       "1 100001    Mulloy, Gardnar          R    1913-11-22 USA         \n",
       "2 100002    Segura, Pancho           R    1921-06-20 ECU         \n",
       "3 100003    Sedgman, Frank           R    1927-10-02 AUS         \n",
       "4 100004    Merlo, Giuseppe          R    1927-10-11 ITA         \n",
       "5 100005    Gonzales, Richard Pancho R    1928-05-09 USA         \n",
       "6 100006    Golden, Grant            R    1929-08-21 USA         "
      ]
     },
     "metadata": {},
     "output_type": "display_data"
    }
   ],
   "source": [
    "load_atp_players <- function(atp_players_file){\n",
    "    atp_players <- read_csv(atp_players_file, col_names=c('player_id', 'first_name', 'last_name', 'hand', 'birth_date', 'country_code'), col_types=cols()) %>%\n",
    "        mutate(birth_date=parse_date_time(birth_date, order='%Y%m%d')) %>%\n",
    "        unite(name, last_name, first_name, sep=', ', remove=TRUE)\n",
    "    return(atp_players)\n",
    "}\n",
    "\n",
    "atp_players <- load_atp_players('../data/atp_players.csv')\n",
    "head(atp_players)"
   ]
  },
  {
   "cell_type": "markdown",
   "metadata": {},
   "source": [
    "## Categorical data format"
   ]
  },
  {
   "cell_type": "markdown",
   "metadata": {},
   "source": [
    "[mutate_at](https://dplyr.tidyverse.org/reference/mutate_all.html)"
   ]
  },
  {
   "cell_type": "code",
   "execution_count": 10,
   "metadata": {},
   "outputs": [
    {
     "data": {
      "text/plain": [
       "439776 bytes"
      ]
     },
     "metadata": {},
     "output_type": "display_data"
    },
    {
     "data": {
      "text/plain": [
       "220440 bytes"
      ]
     },
     "metadata": {},
     "output_type": "display_data"
    },
    {
     "name": "stdout",
     "output_type": "stream",
     "text": [
      "[1] \"A\" \"L\" \"R\" \"U\"\n",
      "Classes ‘tbl_df’, ‘tbl’ and 'data.frame':\t54938 obs. of  5 variables:\n",
      " $ player_id   : num  1e+05 1e+05 1e+05 1e+05 1e+05 ...\n",
      " $ name        : chr  \"Mulloy, Gardnar\" \"Segura, Pancho\" \"Sedgman, Frank\" \"Merlo, Giuseppe\" ...\n",
      " $ hand        : Factor w/ 4 levels \"A\",\"L\",\"R\",\"U\": 3 3 3 3 3 3 2 3 3 3 ...\n",
      " $ birth_date  : POSIXct, format: \"1913-11-22\" \"1921-06-20\" ...\n",
      " $ country_code: Factor w/ 210 levels \"AFG\",\"AHO\",\"ALB\",..: 200 62 13 97 200 200 160 58 88 43 ...\n"
     ]
    }
   ],
   "source": [
    "object.size(atp_players[['hand']])\n",
    "atp_players_categorized <- atp_players %>%\n",
    "    mutate_at(c('country_code', 'hand'), as.factor)\n",
    "object.size(atp_players_categorized[['hand']])\n",
    "print(levels(atp_players_categorized[['hand']]))\n",
    "str(atp_players_categorized)"
   ]
  },
  {
   "cell_type": "code",
   "execution_count": 11,
   "metadata": {},
   "outputs": [
    {
     "name": "stdout",
     "output_type": "stream",
     "text": [
      "Classes ‘tbl_df’, ‘tbl’ and 'data.frame':\t54938 obs. of  5 variables:\n",
      " $ player_id   : num  1e+05 1e+05 1e+05 1e+05 1e+05 ...\n",
      " $ name        : chr  \"Mulloy, Gardnar\" \"Segura, Pancho\" \"Sedgman, Frank\" \"Merlo, Giuseppe\" ...\n",
      " $ hand        : chr  \"R\" \"R\" \"R\" \"R\" ...\n",
      " $ birth_date  : POSIXct, format: \"1913-11-22\" \"1921-06-20\" ...\n",
      " $ country_code: chr  \"USA\" \"ECU\" \"AUS\" \"ITA\" ...\n",
      "Classes ‘tbl_df’, ‘tbl’ and 'data.frame':\t54938 obs. of  5 variables:\n",
      " $ player_id   : num  1e+05 1e+05 1e+05 1e+05 1e+05 ...\n",
      " $ name        : chr  \"Mulloy, Gardnar\" \"Segura, Pancho\" \"Sedgman, Frank\" \"Merlo, Giuseppe\" ...\n",
      " $ hand        : Factor w/ 4 levels \"A\",\"L\",\"R\",\"U\": 3 3 3 3 3 3 2 3 3 3 ...\n",
      " $ birth_date  : POSIXct, format: \"1913-11-22\" \"1921-06-20\" ...\n",
      " $ country_code: Factor w/ 210 levels \"AFG\",\"AHO\",\"ALB\",..: 200 62 13 97 200 200 160 58 88 43 ...\n"
     ]
    }
   ],
   "source": [
    "categorize_players <- function(players) {\n",
    "    players <- players %>%\n",
    "        mutate_at(c('country_code', 'hand'), as.factor)\n",
    "    return(players)\n",
    "}\n",
    "str(atp_players)\n",
    "atp_players <- categorize_players(atp_players)\n",
    "str(atp_players)"
   ]
  },
  {
   "cell_type": "markdown",
   "metadata": {},
   "source": [
    "## Joining datasets together\n",
    "\n",
    "[parse_date_time](https://lubridate.tidyverse.org/reference/parse_date_time.html)"
   ]
  },
  {
   "cell_type": "code",
   "execution_count": 12,
   "metadata": {},
   "outputs": [
    {
     "data": {
      "text/html": [
       "<table>\n",
       "<thead><tr><th scope=col>ranking_date</th><th scope=col>rank</th><th scope=col>player</th><th scope=col>points</th></tr></thead>\n",
       "<tbody>\n",
       "\t<tr><td>2000-01-10</td><td>1         </td><td>101736    </td><td>4135      </td></tr>\n",
       "\t<tr><td>2000-01-10</td><td>2         </td><td>102338    </td><td>2915      </td></tr>\n",
       "\t<tr><td>2000-01-10</td><td>3         </td><td>101948    </td><td>2419      </td></tr>\n",
       "\t<tr><td>2000-01-10</td><td>4         </td><td>103017    </td><td>2184      </td></tr>\n",
       "\t<tr><td>2000-01-10</td><td>5         </td><td>102856    </td><td>2169      </td></tr>\n",
       "\t<tr><td>2000-01-10</td><td>6         </td><td>102358    </td><td>2107      </td></tr>\n",
       "</tbody>\n",
       "</table>\n"
      ],
      "text/latex": [
       "\\begin{tabular}{r|llll}\n",
       " ranking\\_date & rank & player & points\\\\\n",
       "\\hline\n",
       "\t 2000-01-10 & 1          & 101736     & 4135      \\\\\n",
       "\t 2000-01-10 & 2          & 102338     & 2915      \\\\\n",
       "\t 2000-01-10 & 3          & 101948     & 2419      \\\\\n",
       "\t 2000-01-10 & 4          & 103017     & 2184      \\\\\n",
       "\t 2000-01-10 & 5          & 102856     & 2169      \\\\\n",
       "\t 2000-01-10 & 6          & 102358     & 2107      \\\\\n",
       "\\end{tabular}\n"
      ],
      "text/markdown": [
       "\n",
       "| ranking_date | rank | player | points |\n",
       "|---|---|---|---|\n",
       "| 2000-01-10 | 1          | 101736     | 4135       |\n",
       "| 2000-01-10 | 2          | 102338     | 2915       |\n",
       "| 2000-01-10 | 3          | 101948     | 2419       |\n",
       "| 2000-01-10 | 4          | 103017     | 2184       |\n",
       "| 2000-01-10 | 5          | 102856     | 2169       |\n",
       "| 2000-01-10 | 6          | 102358     | 2107       |\n",
       "\n"
      ],
      "text/plain": [
       "  ranking_date rank player points\n",
       "1 2000-01-10   1    101736 4135  \n",
       "2 2000-01-10   2    102338 2915  \n",
       "3 2000-01-10   3    101948 2419  \n",
       "4 2000-01-10   4    103017 2184  \n",
       "5 2000-01-10   5    102856 2169  \n",
       "6 2000-01-10   6    102358 2107  "
      ]
     },
     "metadata": {},
     "output_type": "display_data"
    },
    {
     "data": {
      "text/html": [
       "<table>\n",
       "<thead><tr><th scope=col>ranking_date</th><th scope=col>rank</th><th scope=col>player</th><th scope=col>points</th></tr></thead>\n",
       "<tbody>\n",
       "\t<tr><td>2010-01-04</td><td>1         </td><td>103819    </td><td>10550     </td></tr>\n",
       "\t<tr><td>2010-01-04</td><td>2         </td><td>104745    </td><td> 9205     </td></tr>\n",
       "\t<tr><td>2010-01-04</td><td>3         </td><td>104925    </td><td> 8310     </td></tr>\n",
       "\t<tr><td>2010-01-04</td><td>4         </td><td>104918    </td><td> 7030     </td></tr>\n",
       "\t<tr><td>2010-01-04</td><td>5         </td><td>105223    </td><td> 6785     </td></tr>\n",
       "\t<tr><td>2010-01-04</td><td>6         </td><td>103786    </td><td> 4930     </td></tr>\n",
       "</tbody>\n",
       "</table>\n"
      ],
      "text/latex": [
       "\\begin{tabular}{r|llll}\n",
       " ranking\\_date & rank & player & points\\\\\n",
       "\\hline\n",
       "\t 2010-01-04 & 1          & 103819     & 10550     \\\\\n",
       "\t 2010-01-04 & 2          & 104745     &  9205     \\\\\n",
       "\t 2010-01-04 & 3          & 104925     &  8310     \\\\\n",
       "\t 2010-01-04 & 4          & 104918     &  7030     \\\\\n",
       "\t 2010-01-04 & 5          & 105223     &  6785     \\\\\n",
       "\t 2010-01-04 & 6          & 103786     &  4930     \\\\\n",
       "\\end{tabular}\n"
      ],
      "text/markdown": [
       "\n",
       "| ranking_date | rank | player | points |\n",
       "|---|---|---|---|\n",
       "| 2010-01-04 | 1          | 103819     | 10550      |\n",
       "| 2010-01-04 | 2          | 104745     |  9205      |\n",
       "| 2010-01-04 | 3          | 104925     |  8310      |\n",
       "| 2010-01-04 | 4          | 104918     |  7030      |\n",
       "| 2010-01-04 | 5          | 105223     |  6785      |\n",
       "| 2010-01-04 | 6          | 103786     |  4930      |\n",
       "\n"
      ],
      "text/plain": [
       "  ranking_date rank player points\n",
       "1 2010-01-04   1    103819 10550 \n",
       "2 2010-01-04   2    104745  9205 \n",
       "3 2010-01-04   3    104925  8310 \n",
       "4 2010-01-04   4    104918  7030 \n",
       "5 2010-01-04   5    105223  6785 \n",
       "6 2010-01-04   6    103786  4930 "
      ]
     },
     "metadata": {},
     "output_type": "display_data"
    }
   ],
   "source": [
    "load_atp_rankings <- function(atp_rankings_file){\n",
    "    atp_rankings <- read_csv(atp_rankings_file, col_types=cols()) %>%\n",
    "        mutate(ranking_date=parse_date_time(ranking_date, order='%Y%m%d'))\n",
    "    return(atp_rankings)\n",
    "}\n",
    "\n",
    "atp_rankings00 <- load_atp_rankings('../data/atp_rankings_00s.csv')\n",
    "atp_rankings10 <- load_atp_rankings('../data/atp_rankings_10s.csv')\n",
    "\n",
    "head(atp_rankings00)\n",
    "head(atp_rankings10)"
   ]
  },
  {
   "cell_type": "markdown",
   "metadata": {},
   "source": [
    "[bind_rows](https://dplyr.tidyverse.org/reference/bind.html)"
   ]
  },
  {
   "cell_type": "code",
   "execution_count": 13,
   "metadata": {},
   "outputs": [
    {
     "name": "stdout",
     "output_type": "stream",
     "text": [
      "[1] 920907\n",
      "[1] 916296\n",
      "[1] 1837203\n",
      "# A tibble: 6 x 4\n",
      "  ranking_date         rank player points\n",
      "  <dttm>              <dbl>  <dbl>  <dbl>\n",
      "1 2000-01-10 00:00:00     1 101736   4135\n",
      "2 2000-01-10 00:00:00     2 102338   2915\n",
      "3 2000-01-10 00:00:00     3 101948   2419\n",
      "4 2000-01-10 00:00:00     4 103017   2184\n",
      "5 2000-01-10 00:00:00     5 102856   2169\n",
      "6 2000-01-10 00:00:00     6 102358   2107\n"
     ]
    }
   ],
   "source": [
    "print(nrow(atp_rankings00))\n",
    "print(nrow(atp_rankings10))\n",
    "atp_rankings <- bind_rows(atp_rankings00, atp_rankings10)\n",
    "print(nrow(atp_rankings))\n",
    "print(head(atp_rankings))"
   ]
  },
  {
   "cell_type": "markdown",
   "metadata": {},
   "source": [
    "[rename](https://dplyr.tidyverse.org/reference/rename.html)"
   ]
  },
  {
   "cell_type": "code",
   "execution_count": 14,
   "metadata": {},
   "outputs": [
    {
     "data": {
      "text/html": [
       "<table>\n",
       "<thead><tr><th scope=col>ranking_date</th><th scope=col>rank</th><th scope=col>player_id</th><th scope=col>points</th></tr></thead>\n",
       "<tbody>\n",
       "\t<tr><td>2000-01-10</td><td>1         </td><td>101736    </td><td>4135      </td></tr>\n",
       "\t<tr><td>2000-01-10</td><td>2         </td><td>102338    </td><td>2915      </td></tr>\n",
       "\t<tr><td>2000-01-10</td><td>3         </td><td>101948    </td><td>2419      </td></tr>\n",
       "\t<tr><td>2000-01-10</td><td>4         </td><td>103017    </td><td>2184      </td></tr>\n",
       "\t<tr><td>2000-01-10</td><td>5         </td><td>102856    </td><td>2169      </td></tr>\n",
       "\t<tr><td>2000-01-10</td><td>6         </td><td>102358    </td><td>2107      </td></tr>\n",
       "</tbody>\n",
       "</table>\n"
      ],
      "text/latex": [
       "\\begin{tabular}{r|llll}\n",
       " ranking\\_date & rank & player\\_id & points\\\\\n",
       "\\hline\n",
       "\t 2000-01-10 & 1          & 101736     & 4135      \\\\\n",
       "\t 2000-01-10 & 2          & 102338     & 2915      \\\\\n",
       "\t 2000-01-10 & 3          & 101948     & 2419      \\\\\n",
       "\t 2000-01-10 & 4          & 103017     & 2184      \\\\\n",
       "\t 2000-01-10 & 5          & 102856     & 2169      \\\\\n",
       "\t 2000-01-10 & 6          & 102358     & 2107      \\\\\n",
       "\\end{tabular}\n"
      ],
      "text/markdown": [
       "\n",
       "| ranking_date | rank | player_id | points |\n",
       "|---|---|---|---|\n",
       "| 2000-01-10 | 1          | 101736     | 4135       |\n",
       "| 2000-01-10 | 2          | 102338     | 2915       |\n",
       "| 2000-01-10 | 3          | 101948     | 2419       |\n",
       "| 2000-01-10 | 4          | 103017     | 2184       |\n",
       "| 2000-01-10 | 5          | 102856     | 2169       |\n",
       "| 2000-01-10 | 6          | 102358     | 2107       |\n",
       "\n"
      ],
      "text/plain": [
       "  ranking_date rank player_id points\n",
       "1 2000-01-10   1    101736    4135  \n",
       "2 2000-01-10   2    102338    2915  \n",
       "3 2000-01-10   3    101948    2419  \n",
       "4 2000-01-10   4    103017    2184  \n",
       "5 2000-01-10   5    102856    2169  \n",
       "6 2000-01-10   6    102358    2107  "
      ]
     },
     "metadata": {},
     "output_type": "display_data"
    }
   ],
   "source": [
    "atp_rankings <- atp_rankings %>%\n",
    "    rename(player_id=player)\n",
    "head(atp_rankings)"
   ]
  },
  {
   "cell_type": "code",
   "execution_count": 15,
   "metadata": {},
   "outputs": [
    {
     "name": "stdout",
     "output_type": "stream",
     "text": [
      "[1] 1837203\n"
     ]
    },
    {
     "data": {
      "text/html": [
       "<table>\n",
       "<thead><tr><th scope=col>ranking_date</th><th scope=col>rank</th><th scope=col>player_id</th><th scope=col>points</th></tr></thead>\n",
       "<tbody>\n",
       "\t<tr><td>2000-01-10</td><td>1         </td><td>101736    </td><td>4135      </td></tr>\n",
       "\t<tr><td>2000-01-10</td><td>2         </td><td>102338    </td><td>2915      </td></tr>\n",
       "\t<tr><td>2000-01-10</td><td>3         </td><td>101948    </td><td>2419      </td></tr>\n",
       "\t<tr><td>2000-01-10</td><td>4         </td><td>103017    </td><td>2184      </td></tr>\n",
       "\t<tr><td>2000-01-10</td><td>5         </td><td>102856    </td><td>2169      </td></tr>\n",
       "\t<tr><td>2000-01-10</td><td>6         </td><td>102358    </td><td>2107      </td></tr>\n",
       "</tbody>\n",
       "</table>\n"
      ],
      "text/latex": [
       "\\begin{tabular}{r|llll}\n",
       " ranking\\_date & rank & player\\_id & points\\\\\n",
       "\\hline\n",
       "\t 2000-01-10 & 1          & 101736     & 4135      \\\\\n",
       "\t 2000-01-10 & 2          & 102338     & 2915      \\\\\n",
       "\t 2000-01-10 & 3          & 101948     & 2419      \\\\\n",
       "\t 2000-01-10 & 4          & 103017     & 2184      \\\\\n",
       "\t 2000-01-10 & 5          & 102856     & 2169      \\\\\n",
       "\t 2000-01-10 & 6          & 102358     & 2107      \\\\\n",
       "\\end{tabular}\n"
      ],
      "text/markdown": [
       "\n",
       "| ranking_date | rank | player_id | points |\n",
       "|---|---|---|---|\n",
       "| 2000-01-10 | 1          | 101736     | 4135       |\n",
       "| 2000-01-10 | 2          | 102338     | 2915       |\n",
       "| 2000-01-10 | 3          | 101948     | 2419       |\n",
       "| 2000-01-10 | 4          | 103017     | 2184       |\n",
       "| 2000-01-10 | 5          | 102856     | 2169       |\n",
       "| 2000-01-10 | 6          | 102358     | 2107       |\n",
       "\n"
      ],
      "text/plain": [
       "  ranking_date rank player_id points\n",
       "1 2000-01-10   1    101736    4135  \n",
       "2 2000-01-10   2    102338    2915  \n",
       "3 2000-01-10   3    101948    2419  \n",
       "4 2000-01-10   4    103017    2184  \n",
       "5 2000-01-10   5    102856    2169  \n",
       "6 2000-01-10   6    102358    2107  "
      ]
     },
     "metadata": {},
     "output_type": "display_data"
    }
   ],
   "source": [
    "load_multiple_atp_rankings <- function(atp_rankings_files){\n",
    "    datasets <- list()\n",
    "    for (atp_ranking_file in atp_rankings_files) {\n",
    "        dataset <- load_atp_rankings(atp_ranking_file)\n",
    "        datasets <- append(datasets, list(dataset))\n",
    "    }\n",
    "    atp_rankings <- bind_rows(datasets) %>%\n",
    "        rename(player_id=player)\n",
    "    return(atp_rankings)\n",
    "}\n",
    "\n",
    "atp_rankings <- load_multiple_atp_rankings(c('../data/atp_rankings_00s.csv','../data/atp_rankings_10s.csv'))\n",
    "print(nrow(atp_rankings))\n",
    "head(atp_rankings)"
   ]
  },
  {
   "cell_type": "markdown",
   "metadata": {},
   "source": [
    "[left_join](https://dplyr.tidyverse.org/reference/join.html)"
   ]
  },
  {
   "cell_type": "code",
   "execution_count": 16,
   "metadata": {},
   "outputs": [
    {
     "name": "stdout",
     "output_type": "stream",
     "text": [
      "Classes ‘spec_tbl_df’, ‘tbl_df’, ‘tbl’ and 'data.frame':\t1837203 obs. of  8 variables:\n",
      " $ ranking_date: POSIXct, format: \"2000-01-10\" \"2000-01-10\" ...\n",
      " $ rank        : num  1 2 3 4 5 6 7 8 9 10 ...\n",
      " $ player_id   : num  101736 102338 101948 103017 102856 ...\n",
      " $ points      : num  4135 2915 2419 2184 2169 ...\n",
      " $ name        : chr  \"Agassi, Andre\" \"Kafelnikov, Yevgeny\" \"Sampras, Pete\" \"Kiefer, Nicolas\" ...\n",
      " $ hand        : Factor w/ 4 levels \"A\",\"L\",\"R\",\"U\": 3 3 3 3 3 3 3 3 2 3 ...\n",
      " $ birth_date  : POSIXct, format: \"1970-04-29\" \"1974-02-18\" ...\n",
      " $ country_code: Factor w/ 210 levels \"AFG\",\"AHO\",\"ALB\",..: 200 161 200 76 28 179 62 200 43 137 ...\n"
     ]
    },
    {
     "data": {
      "text/html": [
       "<table>\n",
       "<thead><tr><th scope=col>ranking_date</th><th scope=col>rank</th><th scope=col>player_id</th><th scope=col>points</th><th scope=col>name</th><th scope=col>hand</th><th scope=col>birth_date</th><th scope=col>country_code</th></tr></thead>\n",
       "<tbody>\n",
       "\t<tr><td>2000-01-10         </td><td>1                  </td><td>101736             </td><td>4135               </td><td>Agassi, Andre      </td><td>R                  </td><td>1970-04-29         </td><td>USA                </td></tr>\n",
       "\t<tr><td>2000-01-10         </td><td>2                  </td><td>102338             </td><td>2915               </td><td>Kafelnikov, Yevgeny</td><td>R                  </td><td>1974-02-18         </td><td>RUS                </td></tr>\n",
       "\t<tr><td>2000-01-10         </td><td>3                  </td><td>101948             </td><td>2419               </td><td>Sampras, Pete      </td><td>R                  </td><td>1971-08-12         </td><td>USA                </td></tr>\n",
       "\t<tr><td>2000-01-10         </td><td>4                  </td><td>103017             </td><td>2184               </td><td>Kiefer, Nicolas    </td><td>R                  </td><td>1977-07-05         </td><td>GER                </td></tr>\n",
       "\t<tr><td>2000-01-10         </td><td>5                  </td><td>102856             </td><td>2169               </td><td>Kuerten, Gustavo   </td><td>R                  </td><td>1976-09-10         </td><td>BRA                </td></tr>\n",
       "\t<tr><td>2000-01-10         </td><td>6                  </td><td>102358             </td><td>2107               </td><td>Enqvist, Thomas    </td><td>R                  </td><td>1974-03-13         </td><td>SWE                </td></tr>\n",
       "</tbody>\n",
       "</table>\n"
      ],
      "text/latex": [
       "\\begin{tabular}{r|llllllll}\n",
       " ranking\\_date & rank & player\\_id & points & name & hand & birth\\_date & country\\_code\\\\\n",
       "\\hline\n",
       "\t 2000-01-10          & 1                   & 101736              & 4135                & Agassi, Andre       & R                   & 1970-04-29          & USA                \\\\\n",
       "\t 2000-01-10          & 2                   & 102338              & 2915                & Kafelnikov, Yevgeny & R                   & 1974-02-18          & RUS                \\\\\n",
       "\t 2000-01-10          & 3                   & 101948              & 2419                & Sampras, Pete       & R                   & 1971-08-12          & USA                \\\\\n",
       "\t 2000-01-10          & 4                   & 103017              & 2184                & Kiefer, Nicolas     & R                   & 1977-07-05          & GER                \\\\\n",
       "\t 2000-01-10          & 5                   & 102856              & 2169                & Kuerten, Gustavo    & R                   & 1976-09-10          & BRA                \\\\\n",
       "\t 2000-01-10          & 6                   & 102358              & 2107                & Enqvist, Thomas     & R                   & 1974-03-13          & SWE                \\\\\n",
       "\\end{tabular}\n"
      ],
      "text/markdown": [
       "\n",
       "| ranking_date | rank | player_id | points | name | hand | birth_date | country_code |\n",
       "|---|---|---|---|---|---|---|---|\n",
       "| 2000-01-10          | 1                   | 101736              | 4135                | Agassi, Andre       | R                   | 1970-04-29          | USA                 |\n",
       "| 2000-01-10          | 2                   | 102338              | 2915                | Kafelnikov, Yevgeny | R                   | 1974-02-18          | RUS                 |\n",
       "| 2000-01-10          | 3                   | 101948              | 2419                | Sampras, Pete       | R                   | 1971-08-12          | USA                 |\n",
       "| 2000-01-10          | 4                   | 103017              | 2184                | Kiefer, Nicolas     | R                   | 1977-07-05          | GER                 |\n",
       "| 2000-01-10          | 5                   | 102856              | 2169                | Kuerten, Gustavo    | R                   | 1976-09-10          | BRA                 |\n",
       "| 2000-01-10          | 6                   | 102358              | 2107                | Enqvist, Thomas     | R                   | 1974-03-13          | SWE                 |\n",
       "\n"
      ],
      "text/plain": [
       "  ranking_date rank player_id points name                hand birth_date\n",
       "1 2000-01-10   1    101736    4135   Agassi, Andre       R    1970-04-29\n",
       "2 2000-01-10   2    102338    2915   Kafelnikov, Yevgeny R    1974-02-18\n",
       "3 2000-01-10   3    101948    2419   Sampras, Pete       R    1971-08-12\n",
       "4 2000-01-10   4    103017    2184   Kiefer, Nicolas     R    1977-07-05\n",
       "5 2000-01-10   5    102856    2169   Kuerten, Gustavo    R    1976-09-10\n",
       "6 2000-01-10   6    102358    2107   Enqvist, Thomas     R    1974-03-13\n",
       "  country_code\n",
       "1 USA         \n",
       "2 RUS         \n",
       "3 USA         \n",
       "4 GER         \n",
       "5 BRA         \n",
       "6 SWE         "
      ]
     },
     "metadata": {},
     "output_type": "display_data"
    }
   ],
   "source": [
    "atp_data <- atp_rankings %>%\n",
    "    left_join(atp_players, by='player_id')\n",
    "str(atp_data)\n",
    "head(atp_data)"
   ]
  },
  {
   "cell_type": "markdown",
   "metadata": {},
   "source": [
    "## Demonstrating ATP dataset: Longest reign at rank 1"
   ]
  },
  {
   "cell_type": "markdown",
   "metadata": {},
   "source": [
    "[filter](https://dplyr.tidyverse.org/reference/filter.html)"
   ]
  },
  {
   "cell_type": "code",
   "execution_count": 17,
   "metadata": {},
   "outputs": [
    {
     "data": {
      "text/html": [
       "<table>\n",
       "<thead><tr><th scope=col>ranking_date</th><th scope=col>rank</th><th scope=col>player_id</th><th scope=col>points</th><th scope=col>name</th><th scope=col>hand</th><th scope=col>birth_date</th><th scope=col>country_code</th></tr></thead>\n",
       "<tbody>\n",
       "\t<tr><td>2000-01-10   </td><td>1            </td><td>101736       </td><td>4135         </td><td>Agassi, Andre</td><td>R            </td><td>1970-04-29   </td><td>USA          </td></tr>\n",
       "\t<tr><td>2000-01-17   </td><td>1            </td><td>101736       </td><td>4135         </td><td>Agassi, Andre</td><td>R            </td><td>1970-04-29   </td><td>USA          </td></tr>\n",
       "\t<tr><td>2000-01-24   </td><td>1            </td><td>101736       </td><td>4135         </td><td>Agassi, Andre</td><td>R            </td><td>1970-04-29   </td><td>USA          </td></tr>\n",
       "\t<tr><td>2000-01-31   </td><td>1            </td><td>101736       </td><td>5045         </td><td>Agassi, Andre</td><td>R            </td><td>1970-04-29   </td><td>USA          </td></tr>\n",
       "\t<tr><td>2000-02-07   </td><td>1            </td><td>101736       </td><td>5045         </td><td>Agassi, Andre</td><td>R            </td><td>1970-04-29   </td><td>USA          </td></tr>\n",
       "\t<tr><td>2000-02-14   </td><td>1            </td><td>101736       </td><td>5045         </td><td>Agassi, Andre</td><td>R            </td><td>1970-04-29   </td><td>USA          </td></tr>\n",
       "</tbody>\n",
       "</table>\n"
      ],
      "text/latex": [
       "\\begin{tabular}{r|llllllll}\n",
       " ranking\\_date & rank & player\\_id & points & name & hand & birth\\_date & country\\_code\\\\\n",
       "\\hline\n",
       "\t 2000-01-10    & 1             & 101736        & 4135          & Agassi, Andre & R             & 1970-04-29    & USA          \\\\\n",
       "\t 2000-01-17    & 1             & 101736        & 4135          & Agassi, Andre & R             & 1970-04-29    & USA          \\\\\n",
       "\t 2000-01-24    & 1             & 101736        & 4135          & Agassi, Andre & R             & 1970-04-29    & USA          \\\\\n",
       "\t 2000-01-31    & 1             & 101736        & 5045          & Agassi, Andre & R             & 1970-04-29    & USA          \\\\\n",
       "\t 2000-02-07    & 1             & 101736        & 5045          & Agassi, Andre & R             & 1970-04-29    & USA          \\\\\n",
       "\t 2000-02-14    & 1             & 101736        & 5045          & Agassi, Andre & R             & 1970-04-29    & USA          \\\\\n",
       "\\end{tabular}\n"
      ],
      "text/markdown": [
       "\n",
       "| ranking_date | rank | player_id | points | name | hand | birth_date | country_code |\n",
       "|---|---|---|---|---|---|---|---|\n",
       "| 2000-01-10    | 1             | 101736        | 4135          | Agassi, Andre | R             | 1970-04-29    | USA           |\n",
       "| 2000-01-17    | 1             | 101736        | 4135          | Agassi, Andre | R             | 1970-04-29    | USA           |\n",
       "| 2000-01-24    | 1             | 101736        | 4135          | Agassi, Andre | R             | 1970-04-29    | USA           |\n",
       "| 2000-01-31    | 1             | 101736        | 5045          | Agassi, Andre | R             | 1970-04-29    | USA           |\n",
       "| 2000-02-07    | 1             | 101736        | 5045          | Agassi, Andre | R             | 1970-04-29    | USA           |\n",
       "| 2000-02-14    | 1             | 101736        | 5045          | Agassi, Andre | R             | 1970-04-29    | USA           |\n",
       "\n"
      ],
      "text/plain": [
       "  ranking_date rank player_id points name          hand birth_date country_code\n",
       "1 2000-01-10   1    101736    4135   Agassi, Andre R    1970-04-29 USA         \n",
       "2 2000-01-17   1    101736    4135   Agassi, Andre R    1970-04-29 USA         \n",
       "3 2000-01-24   1    101736    4135   Agassi, Andre R    1970-04-29 USA         \n",
       "4 2000-01-31   1    101736    5045   Agassi, Andre R    1970-04-29 USA         \n",
       "5 2000-02-07   1    101736    5045   Agassi, Andre R    1970-04-29 USA         \n",
       "6 2000-02-14   1    101736    5045   Agassi, Andre R    1970-04-29 USA         "
      ]
     },
     "metadata": {},
     "output_type": "display_data"
    }
   ],
   "source": [
    "atp_top1 <- atp_data %>%\n",
    "    filter(rank == 1)\n",
    "\n",
    "# or\n",
    "\n",
    "atp_top1 <- atp_data[atp_data['rank'] == 1,]\n",
    "\n",
    "head(atp_top1)"
   ]
  },
  {
   "cell_type": "markdown",
   "metadata": {},
   "source": [
    "[lag](https://dplyr.tidyverse.org/reference/lead-lag.html)"
   ]
  },
  {
   "cell_type": "code",
   "execution_count": 18,
   "metadata": {},
   "outputs": [
    {
     "data": {
      "text/html": [
       "<table>\n",
       "<thead><tr><th scope=col>ranking_date</th><th scope=col>rank</th><th scope=col>player_id</th><th scope=col>points</th><th scope=col>name</th><th scope=col>hand</th><th scope=col>birth_date</th><th scope=col>country_code</th><th scope=col>previous_top</th></tr></thead>\n",
       "<tbody>\n",
       "\t<tr><td>2000-01-10   </td><td>1            </td><td>101736       </td><td>4135         </td><td>Agassi, Andre</td><td>R            </td><td>1970-04-29   </td><td>USA          </td><td>    NA       </td></tr>\n",
       "\t<tr><td>2000-01-17   </td><td>1            </td><td>101736       </td><td>4135         </td><td>Agassi, Andre</td><td>R            </td><td>1970-04-29   </td><td>USA          </td><td>101736       </td></tr>\n",
       "\t<tr><td>2000-01-24   </td><td>1            </td><td>101736       </td><td>4135         </td><td>Agassi, Andre</td><td>R            </td><td>1970-04-29   </td><td>USA          </td><td>101736       </td></tr>\n",
       "\t<tr><td>2000-01-31   </td><td>1            </td><td>101736       </td><td>5045         </td><td>Agassi, Andre</td><td>R            </td><td>1970-04-29   </td><td>USA          </td><td>101736       </td></tr>\n",
       "\t<tr><td>2000-02-07   </td><td>1            </td><td>101736       </td><td>5045         </td><td>Agassi, Andre</td><td>R            </td><td>1970-04-29   </td><td>USA          </td><td>101736       </td></tr>\n",
       "\t<tr><td>2000-02-14   </td><td>1            </td><td>101736       </td><td>5045         </td><td>Agassi, Andre</td><td>R            </td><td>1970-04-29   </td><td>USA          </td><td>101736       </td></tr>\n",
       "</tbody>\n",
       "</table>\n"
      ],
      "text/latex": [
       "\\begin{tabular}{r|lllllllll}\n",
       " ranking\\_date & rank & player\\_id & points & name & hand & birth\\_date & country\\_code & previous\\_top\\\\\n",
       "\\hline\n",
       "\t 2000-01-10    & 1             & 101736        & 4135          & Agassi, Andre & R             & 1970-04-29    & USA           &     NA       \\\\\n",
       "\t 2000-01-17    & 1             & 101736        & 4135          & Agassi, Andre & R             & 1970-04-29    & USA           & 101736       \\\\\n",
       "\t 2000-01-24    & 1             & 101736        & 4135          & Agassi, Andre & R             & 1970-04-29    & USA           & 101736       \\\\\n",
       "\t 2000-01-31    & 1             & 101736        & 5045          & Agassi, Andre & R             & 1970-04-29    & USA           & 101736       \\\\\n",
       "\t 2000-02-07    & 1             & 101736        & 5045          & Agassi, Andre & R             & 1970-04-29    & USA           & 101736       \\\\\n",
       "\t 2000-02-14    & 1             & 101736        & 5045          & Agassi, Andre & R             & 1970-04-29    & USA           & 101736       \\\\\n",
       "\\end{tabular}\n"
      ],
      "text/markdown": [
       "\n",
       "| ranking_date | rank | player_id | points | name | hand | birth_date | country_code | previous_top |\n",
       "|---|---|---|---|---|---|---|---|---|\n",
       "| 2000-01-10    | 1             | 101736        | 4135          | Agassi, Andre | R             | 1970-04-29    | USA           |     NA        |\n",
       "| 2000-01-17    | 1             | 101736        | 4135          | Agassi, Andre | R             | 1970-04-29    | USA           | 101736        |\n",
       "| 2000-01-24    | 1             | 101736        | 4135          | Agassi, Andre | R             | 1970-04-29    | USA           | 101736        |\n",
       "| 2000-01-31    | 1             | 101736        | 5045          | Agassi, Andre | R             | 1970-04-29    | USA           | 101736        |\n",
       "| 2000-02-07    | 1             | 101736        | 5045          | Agassi, Andre | R             | 1970-04-29    | USA           | 101736        |\n",
       "| 2000-02-14    | 1             | 101736        | 5045          | Agassi, Andre | R             | 1970-04-29    | USA           | 101736        |\n",
       "\n"
      ],
      "text/plain": [
       "  ranking_date rank player_id points name          hand birth_date country_code\n",
       "1 2000-01-10   1    101736    4135   Agassi, Andre R    1970-04-29 USA         \n",
       "2 2000-01-17   1    101736    4135   Agassi, Andre R    1970-04-29 USA         \n",
       "3 2000-01-24   1    101736    4135   Agassi, Andre R    1970-04-29 USA         \n",
       "4 2000-01-31   1    101736    5045   Agassi, Andre R    1970-04-29 USA         \n",
       "5 2000-02-07   1    101736    5045   Agassi, Andre R    1970-04-29 USA         \n",
       "6 2000-02-14   1    101736    5045   Agassi, Andre R    1970-04-29 USA         \n",
       "  previous_top\n",
       "1     NA      \n",
       "2 101736      \n",
       "3 101736      \n",
       "4 101736      \n",
       "5 101736      \n",
       "6 101736      "
      ]
     },
     "metadata": {},
     "output_type": "display_data"
    }
   ],
   "source": [
    "atp_top1 <- atp_top1 %>%\n",
    "    mutate(previous_top=lag(player_id))\n",
    "\n",
    "head(atp_top1)"
   ]
  },
  {
   "cell_type": "code",
   "execution_count": 19,
   "metadata": {},
   "outputs": [
    {
     "data": {
      "text/html": [
       "<table>\n",
       "<thead><tr><th scope=col>ranking_date</th><th scope=col>rank</th><th scope=col>player_id</th><th scope=col>points</th><th scope=col>name</th><th scope=col>hand</th><th scope=col>birth_date</th><th scope=col>country_code</th><th scope=col>previous_top</th></tr></thead>\n",
       "<tbody>\n",
       "\t<tr><td>2000-09-11      </td><td>1               </td><td>101948          </td><td>3739            </td><td>Sampras, Pete   </td><td>R               </td><td>1971-08-12      </td><td>USA             </td><td>101736          </td></tr>\n",
       "\t<tr><td>2000-11-20      </td><td>1               </td><td>103498          </td><td>3920            </td><td>Safin, Marat    </td><td>R               </td><td>1980-01-27      </td><td>RUS             </td><td>101948          </td></tr>\n",
       "\t<tr><td>2000-12-04      </td><td>1               </td><td>102856          </td><td>4195            </td><td>Kuerten, Gustavo</td><td>R               </td><td>1976-09-10      </td><td>BRA             </td><td>103498          </td></tr>\n",
       "\t<tr><td>2001-01-29      </td><td>1               </td><td>103498          </td><td>4265            </td><td>Safin, Marat    </td><td>R               </td><td>1980-01-27      </td><td>RUS             </td><td>102856          </td></tr>\n",
       "\t<tr><td>2001-02-26      </td><td>1               </td><td>102856          </td><td>4365            </td><td>Kuerten, Gustavo</td><td>R               </td><td>1976-09-10      </td><td>BRA             </td><td>103498          </td></tr>\n",
       "\t<tr><td>2001-04-02      </td><td>1               </td><td>103498          </td><td>4270            </td><td>Safin, Marat    </td><td>R               </td><td>1980-01-27      </td><td>RUS             </td><td>102856          </td></tr>\n",
       "</tbody>\n",
       "</table>\n"
      ],
      "text/latex": [
       "\\begin{tabular}{r|lllllllll}\n",
       " ranking\\_date & rank & player\\_id & points & name & hand & birth\\_date & country\\_code & previous\\_top\\\\\n",
       "\\hline\n",
       "\t 2000-09-11       & 1                & 101948           & 3739             & Sampras, Pete    & R                & 1971-08-12       & USA              & 101736          \\\\\n",
       "\t 2000-11-20       & 1                & 103498           & 3920             & Safin, Marat     & R                & 1980-01-27       & RUS              & 101948          \\\\\n",
       "\t 2000-12-04       & 1                & 102856           & 4195             & Kuerten, Gustavo & R                & 1976-09-10       & BRA              & 103498          \\\\\n",
       "\t 2001-01-29       & 1                & 103498           & 4265             & Safin, Marat     & R                & 1980-01-27       & RUS              & 102856          \\\\\n",
       "\t 2001-02-26       & 1                & 102856           & 4365             & Kuerten, Gustavo & R                & 1976-09-10       & BRA              & 103498          \\\\\n",
       "\t 2001-04-02       & 1                & 103498           & 4270             & Safin, Marat     & R                & 1980-01-27       & RUS              & 102856          \\\\\n",
       "\\end{tabular}\n"
      ],
      "text/markdown": [
       "\n",
       "| ranking_date | rank | player_id | points | name | hand | birth_date | country_code | previous_top |\n",
       "|---|---|---|---|---|---|---|---|---|\n",
       "| 2000-09-11       | 1                | 101948           | 3739             | Sampras, Pete    | R                | 1971-08-12       | USA              | 101736           |\n",
       "| 2000-11-20       | 1                | 103498           | 3920             | Safin, Marat     | R                | 1980-01-27       | RUS              | 101948           |\n",
       "| 2000-12-04       | 1                | 102856           | 4195             | Kuerten, Gustavo | R                | 1976-09-10       | BRA              | 103498           |\n",
       "| 2001-01-29       | 1                | 103498           | 4265             | Safin, Marat     | R                | 1980-01-27       | RUS              | 102856           |\n",
       "| 2001-02-26       | 1                | 102856           | 4365             | Kuerten, Gustavo | R                | 1976-09-10       | BRA              | 103498           |\n",
       "| 2001-04-02       | 1                | 103498           | 4270             | Safin, Marat     | R                | 1980-01-27       | RUS              | 102856           |\n",
       "\n"
      ],
      "text/plain": [
       "  ranking_date rank player_id points name             hand birth_date\n",
       "1 2000-09-11   1    101948    3739   Sampras, Pete    R    1971-08-12\n",
       "2 2000-11-20   1    103498    3920   Safin, Marat     R    1980-01-27\n",
       "3 2000-12-04   1    102856    4195   Kuerten, Gustavo R    1976-09-10\n",
       "4 2001-01-29   1    103498    4265   Safin, Marat     R    1980-01-27\n",
       "5 2001-02-26   1    102856    4365   Kuerten, Gustavo R    1976-09-10\n",
       "6 2001-04-02   1    103498    4270   Safin, Marat     R    1980-01-27\n",
       "  country_code previous_top\n",
       "1 USA          101736      \n",
       "2 RUS          101948      \n",
       "3 BRA          103498      \n",
       "4 RUS          102856      \n",
       "5 BRA          103498      \n",
       "6 RUS          102856      "
      ]
     },
     "metadata": {},
     "output_type": "display_data"
    }
   ],
   "source": [
    "# Better when we want to drop rows\n",
    "atp_top1_reigns <- atp_top1 %>%\n",
    "    filter(player_id != previous_top)\n",
    "\n",
    "# Logical indexing is more useful when we want to edit certain rows\n",
    "atp_top1_reigns <- drop_na(atp_top1[atp_top1['player_id'] != atp_top1['previous_top'],])\n",
    "head(atp_top1_reigns)"
   ]
  },
  {
   "cell_type": "markdown",
   "metadata": {},
   "source": [
    "[lead](https://dplyr.tidyverse.org/reference/lead-lag.html)\n",
    "\n",
    "[difftime](https://www.rdocumentation.org/packages/base/versions/3.6.2/topics/difftime)"
   ]
  },
  {
   "cell_type": "code",
   "execution_count": 20,
   "metadata": {},
   "outputs": [
    {
     "data": {
      "text/html": [
       "<table>\n",
       "<thead><tr><th scope=col>ranking_date</th><th scope=col>rank</th><th scope=col>player_id</th><th scope=col>points</th><th scope=col>name</th><th scope=col>hand</th><th scope=col>birth_date</th><th scope=col>country_code</th><th scope=col>previous_top</th><th scope=col>reign_length</th></tr></thead>\n",
       "<tbody>\n",
       "\t<tr><td>2000-09-11      </td><td>1               </td><td>101948          </td><td>3739            </td><td>Sampras, Pete   </td><td>R               </td><td>1971-08-12      </td><td>USA             </td><td>101736          </td><td>70 days         </td></tr>\n",
       "\t<tr><td>2000-11-20      </td><td>1               </td><td>103498          </td><td>3920            </td><td>Safin, Marat    </td><td>R               </td><td>1980-01-27      </td><td>RUS             </td><td>101948          </td><td>14 days         </td></tr>\n",
       "\t<tr><td>2000-12-04      </td><td>1               </td><td>102856          </td><td>4195            </td><td>Kuerten, Gustavo</td><td>R               </td><td>1976-09-10      </td><td>BRA             </td><td>103498          </td><td>56 days         </td></tr>\n",
       "\t<tr><td>2001-01-29      </td><td>1               </td><td>103498          </td><td>4265            </td><td>Safin, Marat    </td><td>R               </td><td>1980-01-27      </td><td>RUS             </td><td>102856          </td><td>28 days         </td></tr>\n",
       "\t<tr><td>2001-02-26      </td><td>1               </td><td>102856          </td><td>4365            </td><td>Kuerten, Gustavo</td><td>R               </td><td>1976-09-10      </td><td>BRA             </td><td>103498          </td><td>35 days         </td></tr>\n",
       "\t<tr><td>2001-04-02      </td><td>1               </td><td>103498          </td><td>4270            </td><td>Safin, Marat    </td><td>R               </td><td>1980-01-27      </td><td>RUS             </td><td>102856          </td><td>21 days         </td></tr>\n",
       "</tbody>\n",
       "</table>\n"
      ],
      "text/latex": [
       "\\begin{tabular}{r|llllllllll}\n",
       " ranking\\_date & rank & player\\_id & points & name & hand & birth\\_date & country\\_code & previous\\_top & reign\\_length\\\\\n",
       "\\hline\n",
       "\t 2000-09-11       & 1                & 101948           & 3739             & Sampras, Pete    & R                & 1971-08-12       & USA              & 101736           & 70 days         \\\\\n",
       "\t 2000-11-20       & 1                & 103498           & 3920             & Safin, Marat     & R                & 1980-01-27       & RUS              & 101948           & 14 days         \\\\\n",
       "\t 2000-12-04       & 1                & 102856           & 4195             & Kuerten, Gustavo & R                & 1976-09-10       & BRA              & 103498           & 56 days         \\\\\n",
       "\t 2001-01-29       & 1                & 103498           & 4265             & Safin, Marat     & R                & 1980-01-27       & RUS              & 102856           & 28 days         \\\\\n",
       "\t 2001-02-26       & 1                & 102856           & 4365             & Kuerten, Gustavo & R                & 1976-09-10       & BRA              & 103498           & 35 days         \\\\\n",
       "\t 2001-04-02       & 1                & 103498           & 4270             & Safin, Marat     & R                & 1980-01-27       & RUS              & 102856           & 21 days         \\\\\n",
       "\\end{tabular}\n"
      ],
      "text/markdown": [
       "\n",
       "| ranking_date | rank | player_id | points | name | hand | birth_date | country_code | previous_top | reign_length |\n",
       "|---|---|---|---|---|---|---|---|---|---|\n",
       "| 2000-09-11       | 1                | 101948           | 3739             | Sampras, Pete    | R                | 1971-08-12       | USA              | 101736           | 70 days          |\n",
       "| 2000-11-20       | 1                | 103498           | 3920             | Safin, Marat     | R                | 1980-01-27       | RUS              | 101948           | 14 days          |\n",
       "| 2000-12-04       | 1                | 102856           | 4195             | Kuerten, Gustavo | R                | 1976-09-10       | BRA              | 103498           | 56 days          |\n",
       "| 2001-01-29       | 1                | 103498           | 4265             | Safin, Marat     | R                | 1980-01-27       | RUS              | 102856           | 28 days          |\n",
       "| 2001-02-26       | 1                | 102856           | 4365             | Kuerten, Gustavo | R                | 1976-09-10       | BRA              | 103498           | 35 days          |\n",
       "| 2001-04-02       | 1                | 103498           | 4270             | Safin, Marat     | R                | 1980-01-27       | RUS              | 102856           | 21 days          |\n",
       "\n"
      ],
      "text/plain": [
       "  ranking_date rank player_id points name             hand birth_date\n",
       "1 2000-09-11   1    101948    3739   Sampras, Pete    R    1971-08-12\n",
       "2 2000-11-20   1    103498    3920   Safin, Marat     R    1980-01-27\n",
       "3 2000-12-04   1    102856    4195   Kuerten, Gustavo R    1976-09-10\n",
       "4 2001-01-29   1    103498    4265   Safin, Marat     R    1980-01-27\n",
       "5 2001-02-26   1    102856    4365   Kuerten, Gustavo R    1976-09-10\n",
       "6 2001-04-02   1    103498    4270   Safin, Marat     R    1980-01-27\n",
       "  country_code previous_top reign_length\n",
       "1 USA          101736       70 days     \n",
       "2 RUS          101948       14 days     \n",
       "3 BRA          103498       56 days     \n",
       "4 RUS          102856       28 days     \n",
       "5 BRA          103498       35 days     \n",
       "6 RUS          102856       21 days     "
      ]
     },
     "metadata": {},
     "output_type": "display_data"
    }
   ],
   "source": [
    "atp_top1_reigns <- atp_top1_reigns %>%\n",
    "    mutate(reign_length=difftime(lead(ranking_date), ranking_date))\n",
    "head(atp_top1_reigns)"
   ]
  },
  {
   "cell_type": "markdown",
   "metadata": {},
   "source": [
    "[top_n](https://dplyr.tidyverse.org/reference/top_n.html)\n",
    "\n",
    "[arrange](https://dplyr.tidyverse.org/reference/arrange.html)\n",
    "\n",
    "[desc](https://dplyr.tidyverse.org/reference/desc.html)"
   ]
  },
  {
   "cell_type": "code",
   "execution_count": 21,
   "metadata": {},
   "outputs": [
    {
     "data": {
      "text/html": [
       "<table>\n",
       "<thead><tr><th scope=col>ranking_date</th><th scope=col>rank</th><th scope=col>player_id</th><th scope=col>points</th><th scope=col>name</th><th scope=col>hand</th><th scope=col>birth_date</th><th scope=col>country_code</th><th scope=col>previous_top</th><th scope=col>reign_length</th></tr></thead>\n",
       "<tbody>\n",
       "\t<tr><td>2004-02-02     </td><td>1              </td><td>103819         </td><td> 5225          </td><td>Federer, Roger </td><td>R              </td><td>1981-08-08     </td><td>SUI            </td><td>104053         </td><td>1659 days      </td></tr>\n",
       "\t<tr><td>2014-07-07     </td><td>1              </td><td>104925         </td><td>13130          </td><td>Djokovic, Novak</td><td>R              </td><td>1987-05-22     </td><td>SRB            </td><td>104745         </td><td> 854 days      </td></tr>\n",
       "\t<tr><td>2001-11-19     </td><td>1              </td><td>103720         </td><td> 4365          </td><td>Hewitt, Lleyton</td><td>R              </td><td>1981-02-24     </td><td>AUS            </td><td>102856         </td><td> 525 days      </td></tr>\n",
       "\t<tr><td>2010-06-07     </td><td>1              </td><td>104745         </td><td> 8700          </td><td>Nadal, Rafael  </td><td>L              </td><td>1986-06-03     </td><td>ESP            </td><td>103819         </td><td> 392 days      </td></tr>\n",
       "\t<tr><td>2011-07-04     </td><td>1              </td><td>104925         </td><td>13285          </td><td>Djokovic, Novak</td><td>R              </td><td>1987-05-22     </td><td>SRB            </td><td>104745         </td><td> 371 days      </td></tr>\n",
       "</tbody>\n",
       "</table>\n"
      ],
      "text/latex": [
       "\\begin{tabular}{r|llllllllll}\n",
       " ranking\\_date & rank & player\\_id & points & name & hand & birth\\_date & country\\_code & previous\\_top & reign\\_length\\\\\n",
       "\\hline\n",
       "\t 2004-02-02      & 1               & 103819          &  5225           & Federer, Roger  & R               & 1981-08-08      & SUI             & 104053          & 1659 days      \\\\\n",
       "\t 2014-07-07      & 1               & 104925          & 13130           & Djokovic, Novak & R               & 1987-05-22      & SRB             & 104745          &  854 days      \\\\\n",
       "\t 2001-11-19      & 1               & 103720          &  4365           & Hewitt, Lleyton & R               & 1981-02-24      & AUS             & 102856          &  525 days      \\\\\n",
       "\t 2010-06-07      & 1               & 104745          &  8700           & Nadal, Rafael   & L               & 1986-06-03      & ESP             & 103819          &  392 days      \\\\\n",
       "\t 2011-07-04      & 1               & 104925          & 13285           & Djokovic, Novak & R               & 1987-05-22      & SRB             & 104745          &  371 days      \\\\\n",
       "\\end{tabular}\n"
      ],
      "text/markdown": [
       "\n",
       "| ranking_date | rank | player_id | points | name | hand | birth_date | country_code | previous_top | reign_length |\n",
       "|---|---|---|---|---|---|---|---|---|---|\n",
       "| 2004-02-02      | 1               | 103819          |  5225           | Federer, Roger  | R               | 1981-08-08      | SUI             | 104053          | 1659 days       |\n",
       "| 2014-07-07      | 1               | 104925          | 13130           | Djokovic, Novak | R               | 1987-05-22      | SRB             | 104745          |  854 days       |\n",
       "| 2001-11-19      | 1               | 103720          |  4365           | Hewitt, Lleyton | R               | 1981-02-24      | AUS             | 102856          |  525 days       |\n",
       "| 2010-06-07      | 1               | 104745          |  8700           | Nadal, Rafael   | L               | 1986-06-03      | ESP             | 103819          |  392 days       |\n",
       "| 2011-07-04      | 1               | 104925          | 13285           | Djokovic, Novak | R               | 1987-05-22      | SRB             | 104745          |  371 days       |\n",
       "\n"
      ],
      "text/plain": [
       "  ranking_date rank player_id points name            hand birth_date\n",
       "1 2004-02-02   1    103819     5225  Federer, Roger  R    1981-08-08\n",
       "2 2014-07-07   1    104925    13130  Djokovic, Novak R    1987-05-22\n",
       "3 2001-11-19   1    103720     4365  Hewitt, Lleyton R    1981-02-24\n",
       "4 2010-06-07   1    104745     8700  Nadal, Rafael   L    1986-06-03\n",
       "5 2011-07-04   1    104925    13285  Djokovic, Novak R    1987-05-22\n",
       "  country_code previous_top reign_length\n",
       "1 SUI          104053       1659 days   \n",
       "2 SRB          104745        854 days   \n",
       "3 AUS          102856        525 days   \n",
       "4 ESP          103819        392 days   \n",
       "5 SRB          104745        371 days   "
      ]
     },
     "metadata": {},
     "output_type": "display_data"
    }
   ],
   "source": [
    "atp_top1_reigns %>%\n",
    "    top_n(5, reign_length) %>%\n",
    "    arrange(desc(reign_length))"
   ]
  },
  {
   "cell_type": "markdown",
   "metadata": {},
   "source": [
    "# Using binary data formats to improve your pipeline\n",
    "\n",
    "## CSVs and challenges with them"
   ]
  },
  {
   "cell_type": "code",
   "execution_count": 22,
   "metadata": {},
   "outputs": [
    {
     "name": "stderr",
     "output_type": "stream",
     "text": [
      "Parsed with column specification:\n",
      "cols(\n",
      "  ranking_date = col_datetime(format = \"\"),\n",
      "  rank = col_double(),\n",
      "  player_id = col_double(),\n",
      "  points = col_double(),\n",
      "  name = col_character(),\n",
      "  hand = col_character(),\n",
      "  birth_date = col_datetime(format = \"\"),\n",
      "  country_code = col_character()\n",
      ")\n"
     ]
    },
    {
     "data": {
      "text/html": [
       "<table>\n",
       "<thead><tr><th scope=col>ranking_date</th><th scope=col>rank</th><th scope=col>player_id</th><th scope=col>points</th><th scope=col>name</th><th scope=col>hand</th><th scope=col>birth_date</th><th scope=col>country_code</th></tr></thead>\n",
       "<tbody>\n",
       "\t<tr><td>2000-01-10         </td><td>1                  </td><td>101736             </td><td>4135               </td><td>Agassi, Andre      </td><td>R                  </td><td>1970-04-29         </td><td>USA                </td></tr>\n",
       "\t<tr><td>2000-01-10         </td><td>2                  </td><td>102338             </td><td>2915               </td><td>Kafelnikov, Yevgeny</td><td>R                  </td><td>1974-02-18         </td><td>RUS                </td></tr>\n",
       "\t<tr><td>2000-01-10         </td><td>3                  </td><td>101948             </td><td>2419               </td><td>Sampras, Pete      </td><td>R                  </td><td>1971-08-12         </td><td>USA                </td></tr>\n",
       "\t<tr><td>2000-01-10         </td><td>4                  </td><td>103017             </td><td>2184               </td><td>Kiefer, Nicolas    </td><td>R                  </td><td>1977-07-05         </td><td>GER                </td></tr>\n",
       "\t<tr><td>2000-01-10         </td><td>5                  </td><td>102856             </td><td>2169               </td><td>Kuerten, Gustavo   </td><td>R                  </td><td>1976-09-10         </td><td>BRA                </td></tr>\n",
       "\t<tr><td>2000-01-10         </td><td>6                  </td><td>102358             </td><td>2107               </td><td>Enqvist, Thomas    </td><td>R                  </td><td>1974-03-13         </td><td>SWE                </td></tr>\n",
       "</tbody>\n",
       "</table>\n"
      ],
      "text/latex": [
       "\\begin{tabular}{r|llllllll}\n",
       " ranking\\_date & rank & player\\_id & points & name & hand & birth\\_date & country\\_code\\\\\n",
       "\\hline\n",
       "\t 2000-01-10          & 1                   & 101736              & 4135                & Agassi, Andre       & R                   & 1970-04-29          & USA                \\\\\n",
       "\t 2000-01-10          & 2                   & 102338              & 2915                & Kafelnikov, Yevgeny & R                   & 1974-02-18          & RUS                \\\\\n",
       "\t 2000-01-10          & 3                   & 101948              & 2419                & Sampras, Pete       & R                   & 1971-08-12          & USA                \\\\\n",
       "\t 2000-01-10          & 4                   & 103017              & 2184                & Kiefer, Nicolas     & R                   & 1977-07-05          & GER                \\\\\n",
       "\t 2000-01-10          & 5                   & 102856              & 2169                & Kuerten, Gustavo    & R                   & 1976-09-10          & BRA                \\\\\n",
       "\t 2000-01-10          & 6                   & 102358              & 2107                & Enqvist, Thomas     & R                   & 1974-03-13          & SWE                \\\\\n",
       "\\end{tabular}\n"
      ],
      "text/markdown": [
       "\n",
       "| ranking_date | rank | player_id | points | name | hand | birth_date | country_code |\n",
       "|---|---|---|---|---|---|---|---|\n",
       "| 2000-01-10          | 1                   | 101736              | 4135                | Agassi, Andre       | R                   | 1970-04-29          | USA                 |\n",
       "| 2000-01-10          | 2                   | 102338              | 2915                | Kafelnikov, Yevgeny | R                   | 1974-02-18          | RUS                 |\n",
       "| 2000-01-10          | 3                   | 101948              | 2419                | Sampras, Pete       | R                   | 1971-08-12          | USA                 |\n",
       "| 2000-01-10          | 4                   | 103017              | 2184                | Kiefer, Nicolas     | R                   | 1977-07-05          | GER                 |\n",
       "| 2000-01-10          | 5                   | 102856              | 2169                | Kuerten, Gustavo    | R                   | 1976-09-10          | BRA                 |\n",
       "| 2000-01-10          | 6                   | 102358              | 2107                | Enqvist, Thomas     | R                   | 1974-03-13          | SWE                 |\n",
       "\n"
      ],
      "text/plain": [
       "  ranking_date rank player_id points name                hand birth_date\n",
       "1 2000-01-10   1    101736    4135   Agassi, Andre       R    1970-04-29\n",
       "2 2000-01-10   2    102338    2915   Kafelnikov, Yevgeny R    1974-02-18\n",
       "3 2000-01-10   3    101948    2419   Sampras, Pete       R    1971-08-12\n",
       "4 2000-01-10   4    103017    2184   Kiefer, Nicolas     R    1977-07-05\n",
       "5 2000-01-10   5    102856    2169   Kuerten, Gustavo    R    1976-09-10\n",
       "6 2000-01-10   6    102358    2107   Enqvist, Thomas     R    1974-03-13\n",
       "  country_code\n",
       "1 USA         \n",
       "2 RUS         \n",
       "3 USA         \n",
       "4 GER         \n",
       "5 BRA         \n",
       "6 SWE         "
      ]
     },
     "metadata": {},
     "output_type": "display_data"
    }
   ],
   "source": [
    "write_csv(atp_data, '../data/atp_data_r.csv')\n",
    "head(read_csv('../data/atp_data_r.csv'))"
   ]
  },
  {
   "cell_type": "markdown",
   "metadata": {},
   "source": [
    "## Serialized objects"
   ]
  },
  {
   "cell_type": "code",
   "execution_count": 23,
   "metadata": {},
   "outputs": [],
   "source": [
    "save(atp_data, file='../data/atp_data.Rdata')\n",
    "rm(atp_data)"
   ]
  },
  {
   "cell_type": "code",
   "execution_count": 24,
   "metadata": {},
   "outputs": [
    {
     "data": {
      "text/html": [
       "<table>\n",
       "<thead><tr><th scope=col>ranking_date</th><th scope=col>rank</th><th scope=col>player_id</th><th scope=col>points</th><th scope=col>name</th><th scope=col>hand</th><th scope=col>birth_date</th><th scope=col>country_code</th></tr></thead>\n",
       "<tbody>\n",
       "\t<tr><td>2000-01-10         </td><td>1                  </td><td>101736             </td><td>4135               </td><td>Agassi, Andre      </td><td>R                  </td><td>1970-04-29         </td><td>USA                </td></tr>\n",
       "\t<tr><td>2000-01-10         </td><td>2                  </td><td>102338             </td><td>2915               </td><td>Kafelnikov, Yevgeny</td><td>R                  </td><td>1974-02-18         </td><td>RUS                </td></tr>\n",
       "\t<tr><td>2000-01-10         </td><td>3                  </td><td>101948             </td><td>2419               </td><td>Sampras, Pete      </td><td>R                  </td><td>1971-08-12         </td><td>USA                </td></tr>\n",
       "\t<tr><td>2000-01-10         </td><td>4                  </td><td>103017             </td><td>2184               </td><td>Kiefer, Nicolas    </td><td>R                  </td><td>1977-07-05         </td><td>GER                </td></tr>\n",
       "\t<tr><td>2000-01-10         </td><td>5                  </td><td>102856             </td><td>2169               </td><td>Kuerten, Gustavo   </td><td>R                  </td><td>1976-09-10         </td><td>BRA                </td></tr>\n",
       "\t<tr><td>2000-01-10         </td><td>6                  </td><td>102358             </td><td>2107               </td><td>Enqvist, Thomas    </td><td>R                  </td><td>1974-03-13         </td><td>SWE                </td></tr>\n",
       "</tbody>\n",
       "</table>\n"
      ],
      "text/latex": [
       "\\begin{tabular}{r|llllllll}\n",
       " ranking\\_date & rank & player\\_id & points & name & hand & birth\\_date & country\\_code\\\\\n",
       "\\hline\n",
       "\t 2000-01-10          & 1                   & 101736              & 4135                & Agassi, Andre       & R                   & 1970-04-29          & USA                \\\\\n",
       "\t 2000-01-10          & 2                   & 102338              & 2915                & Kafelnikov, Yevgeny & R                   & 1974-02-18          & RUS                \\\\\n",
       "\t 2000-01-10          & 3                   & 101948              & 2419                & Sampras, Pete       & R                   & 1971-08-12          & USA                \\\\\n",
       "\t 2000-01-10          & 4                   & 103017              & 2184                & Kiefer, Nicolas     & R                   & 1977-07-05          & GER                \\\\\n",
       "\t 2000-01-10          & 5                   & 102856              & 2169                & Kuerten, Gustavo    & R                   & 1976-09-10          & BRA                \\\\\n",
       "\t 2000-01-10          & 6                   & 102358              & 2107                & Enqvist, Thomas     & R                   & 1974-03-13          & SWE                \\\\\n",
       "\\end{tabular}\n"
      ],
      "text/markdown": [
       "\n",
       "| ranking_date | rank | player_id | points | name | hand | birth_date | country_code |\n",
       "|---|---|---|---|---|---|---|---|\n",
       "| 2000-01-10          | 1                   | 101736              | 4135                | Agassi, Andre       | R                   | 1970-04-29          | USA                 |\n",
       "| 2000-01-10          | 2                   | 102338              | 2915                | Kafelnikov, Yevgeny | R                   | 1974-02-18          | RUS                 |\n",
       "| 2000-01-10          | 3                   | 101948              | 2419                | Sampras, Pete       | R                   | 1971-08-12          | USA                 |\n",
       "| 2000-01-10          | 4                   | 103017              | 2184                | Kiefer, Nicolas     | R                   | 1977-07-05          | GER                 |\n",
       "| 2000-01-10          | 5                   | 102856              | 2169                | Kuerten, Gustavo    | R                   | 1976-09-10          | BRA                 |\n",
       "| 2000-01-10          | 6                   | 102358              | 2107                | Enqvist, Thomas     | R                   | 1974-03-13          | SWE                 |\n",
       "\n"
      ],
      "text/plain": [
       "  ranking_date rank player_id points name                hand birth_date\n",
       "1 2000-01-10   1    101736    4135   Agassi, Andre       R    1970-04-29\n",
       "2 2000-01-10   2    102338    2915   Kafelnikov, Yevgeny R    1974-02-18\n",
       "3 2000-01-10   3    101948    2419   Sampras, Pete       R    1971-08-12\n",
       "4 2000-01-10   4    103017    2184   Kiefer, Nicolas     R    1977-07-05\n",
       "5 2000-01-10   5    102856    2169   Kuerten, Gustavo    R    1976-09-10\n",
       "6 2000-01-10   6    102358    2107   Enqvist, Thomas     R    1974-03-13\n",
       "  country_code\n",
       "1 USA         \n",
       "2 RUS         \n",
       "3 USA         \n",
       "4 GER         \n",
       "5 BRA         \n",
       "6 SWE         "
      ]
     },
     "metadata": {},
     "output_type": "display_data"
    }
   ],
   "source": [
    "load('../data/atp_data.Rdata')\n",
    "head(atp_data)"
   ]
  },
  {
   "cell_type": "markdown",
   "metadata": {},
   "source": [
    "## Feather"
   ]
  },
  {
   "cell_type": "code",
   "execution_count": 25,
   "metadata": {},
   "outputs": [
    {
     "data": {
      "text/html": [
       "<table>\n",
       "<thead><tr><th scope=col>ranking_date</th><th scope=col>rank</th><th scope=col>player_id</th><th scope=col>points</th><th scope=col>name</th><th scope=col>hand</th><th scope=col>birth_date</th><th scope=col>country_code</th></tr></thead>\n",
       "<tbody>\n",
       "\t<tr><td>2000-01-10         </td><td>1                  </td><td>101736             </td><td>4135               </td><td>Agassi, Andre      </td><td>R                  </td><td>1970-04-29         </td><td>USA                </td></tr>\n",
       "\t<tr><td>2000-01-10         </td><td>2                  </td><td>102338             </td><td>2915               </td><td>Kafelnikov, Yevgeny</td><td>R                  </td><td>1974-02-18         </td><td>RUS                </td></tr>\n",
       "\t<tr><td>2000-01-10         </td><td>3                  </td><td>101948             </td><td>2419               </td><td>Sampras, Pete      </td><td>R                  </td><td>1971-08-12         </td><td>USA                </td></tr>\n",
       "\t<tr><td>2000-01-10         </td><td>4                  </td><td>103017             </td><td>2184               </td><td>Kiefer, Nicolas    </td><td>R                  </td><td>1977-07-05         </td><td>GER                </td></tr>\n",
       "\t<tr><td>2000-01-10         </td><td>5                  </td><td>102856             </td><td>2169               </td><td>Kuerten, Gustavo   </td><td>R                  </td><td>1976-09-10         </td><td>BRA                </td></tr>\n",
       "\t<tr><td>2000-01-10         </td><td>6                  </td><td>102358             </td><td>2107               </td><td>Enqvist, Thomas    </td><td>R                  </td><td>1974-03-13         </td><td>SWE                </td></tr>\n",
       "</tbody>\n",
       "</table>\n"
      ],
      "text/latex": [
       "\\begin{tabular}{r|llllllll}\n",
       " ranking\\_date & rank & player\\_id & points & name & hand & birth\\_date & country\\_code\\\\\n",
       "\\hline\n",
       "\t 2000-01-10          & 1                   & 101736              & 4135                & Agassi, Andre       & R                   & 1970-04-29          & USA                \\\\\n",
       "\t 2000-01-10          & 2                   & 102338              & 2915                & Kafelnikov, Yevgeny & R                   & 1974-02-18          & RUS                \\\\\n",
       "\t 2000-01-10          & 3                   & 101948              & 2419                & Sampras, Pete       & R                   & 1971-08-12          & USA                \\\\\n",
       "\t 2000-01-10          & 4                   & 103017              & 2184                & Kiefer, Nicolas     & R                   & 1977-07-05          & GER                \\\\\n",
       "\t 2000-01-10          & 5                   & 102856              & 2169                & Kuerten, Gustavo    & R                   & 1976-09-10          & BRA                \\\\\n",
       "\t 2000-01-10          & 6                   & 102358              & 2107                & Enqvist, Thomas     & R                   & 1974-03-13          & SWE                \\\\\n",
       "\\end{tabular}\n"
      ],
      "text/markdown": [
       "\n",
       "| ranking_date | rank | player_id | points | name | hand | birth_date | country_code |\n",
       "|---|---|---|---|---|---|---|---|\n",
       "| 2000-01-10          | 1                   | 101736              | 4135                | Agassi, Andre       | R                   | 1970-04-29          | USA                 |\n",
       "| 2000-01-10          | 2                   | 102338              | 2915                | Kafelnikov, Yevgeny | R                   | 1974-02-18          | RUS                 |\n",
       "| 2000-01-10          | 3                   | 101948              | 2419                | Sampras, Pete       | R                   | 1971-08-12          | USA                 |\n",
       "| 2000-01-10          | 4                   | 103017              | 2184                | Kiefer, Nicolas     | R                   | 1977-07-05          | GER                 |\n",
       "| 2000-01-10          | 5                   | 102856              | 2169                | Kuerten, Gustavo    | R                   | 1976-09-10          | BRA                 |\n",
       "| 2000-01-10          | 6                   | 102358              | 2107                | Enqvist, Thomas     | R                   | 1974-03-13          | SWE                 |\n",
       "\n"
      ],
      "text/plain": [
       "  ranking_date rank player_id points name                hand birth_date\n",
       "1 2000-01-10   1    101736    4135   Agassi, Andre       R    1970-04-29\n",
       "2 2000-01-10   2    102338    2915   Kafelnikov, Yevgeny R    1974-02-18\n",
       "3 2000-01-10   3    101948    2419   Sampras, Pete       R    1971-08-12\n",
       "4 2000-01-10   4    103017    2184   Kiefer, Nicolas     R    1977-07-05\n",
       "5 2000-01-10   5    102856    2169   Kuerten, Gustavo    R    1976-09-10\n",
       "6 2000-01-10   6    102358    2107   Enqvist, Thomas     R    1974-03-13\n",
       "  country_code\n",
       "1 USA         \n",
       "2 RUS         \n",
       "3 USA         \n",
       "4 GER         \n",
       "5 BRA         \n",
       "6 SWE         "
      ]
     },
     "metadata": {},
     "output_type": "display_data"
    }
   ],
   "source": [
    "write_feather(atp_data ,'../data/atp_data_r.feather')\n",
    "head(read_feather('../data/atp_data_r.feather'))"
   ]
  },
  {
   "cell_type": "markdown",
   "metadata": {},
   "source": [
    "## Parquet"
   ]
  },
  {
   "cell_type": "code",
   "execution_count": 26,
   "metadata": {},
   "outputs": [
    {
     "data": {
      "text/html": [
       "<table>\n",
       "<thead><tr><th scope=col>ranking_date</th><th scope=col>rank</th><th scope=col>player_id</th><th scope=col>points</th><th scope=col>name</th><th scope=col>hand</th><th scope=col>birth_date</th><th scope=col>country_code</th></tr></thead>\n",
       "<tbody>\n",
       "\t<tr><td>2000-01-10         </td><td>1                  </td><td>101736             </td><td>4135               </td><td>Agassi, Andre      </td><td>R                  </td><td>1970-04-29         </td><td>USA                </td></tr>\n",
       "\t<tr><td>2000-01-10         </td><td>2                  </td><td>102338             </td><td>2915               </td><td>Kafelnikov, Yevgeny</td><td>R                  </td><td>1974-02-18         </td><td>RUS                </td></tr>\n",
       "\t<tr><td>2000-01-10         </td><td>3                  </td><td>101948             </td><td>2419               </td><td>Sampras, Pete      </td><td>R                  </td><td>1971-08-12         </td><td>USA                </td></tr>\n",
       "\t<tr><td>2000-01-10         </td><td>4                  </td><td>103017             </td><td>2184               </td><td>Kiefer, Nicolas    </td><td>R                  </td><td>1977-07-05         </td><td>GER                </td></tr>\n",
       "\t<tr><td>2000-01-10         </td><td>5                  </td><td>102856             </td><td>2169               </td><td>Kuerten, Gustavo   </td><td>R                  </td><td>1976-09-10         </td><td>BRA                </td></tr>\n",
       "\t<tr><td>2000-01-10         </td><td>6                  </td><td>102358             </td><td>2107               </td><td>Enqvist, Thomas    </td><td>R                  </td><td>1974-03-13         </td><td>SWE                </td></tr>\n",
       "</tbody>\n",
       "</table>\n"
      ],
      "text/latex": [
       "\\begin{tabular}{r|llllllll}\n",
       " ranking\\_date & rank & player\\_id & points & name & hand & birth\\_date & country\\_code\\\\\n",
       "\\hline\n",
       "\t 2000-01-10          & 1                   & 101736              & 4135                & Agassi, Andre       & R                   & 1970-04-29          & USA                \\\\\n",
       "\t 2000-01-10          & 2                   & 102338              & 2915                & Kafelnikov, Yevgeny & R                   & 1974-02-18          & RUS                \\\\\n",
       "\t 2000-01-10          & 3                   & 101948              & 2419                & Sampras, Pete       & R                   & 1971-08-12          & USA                \\\\\n",
       "\t 2000-01-10          & 4                   & 103017              & 2184                & Kiefer, Nicolas     & R                   & 1977-07-05          & GER                \\\\\n",
       "\t 2000-01-10          & 5                   & 102856              & 2169                & Kuerten, Gustavo    & R                   & 1976-09-10          & BRA                \\\\\n",
       "\t 2000-01-10          & 6                   & 102358              & 2107                & Enqvist, Thomas     & R                   & 1974-03-13          & SWE                \\\\\n",
       "\\end{tabular}\n"
      ],
      "text/markdown": [
       "\n",
       "| ranking_date | rank | player_id | points | name | hand | birth_date | country_code |\n",
       "|---|---|---|---|---|---|---|---|\n",
       "| 2000-01-10          | 1                   | 101736              | 4135                | Agassi, Andre       | R                   | 1970-04-29          | USA                 |\n",
       "| 2000-01-10          | 2                   | 102338              | 2915                | Kafelnikov, Yevgeny | R                   | 1974-02-18          | RUS                 |\n",
       "| 2000-01-10          | 3                   | 101948              | 2419                | Sampras, Pete       | R                   | 1971-08-12          | USA                 |\n",
       "| 2000-01-10          | 4                   | 103017              | 2184                | Kiefer, Nicolas     | R                   | 1977-07-05          | GER                 |\n",
       "| 2000-01-10          | 5                   | 102856              | 2169                | Kuerten, Gustavo    | R                   | 1976-09-10          | BRA                 |\n",
       "| 2000-01-10          | 6                   | 102358              | 2107                | Enqvist, Thomas     | R                   | 1974-03-13          | SWE                 |\n",
       "\n"
      ],
      "text/plain": [
       "  ranking_date rank player_id points name                hand birth_date\n",
       "1 2000-01-10   1    101736    4135   Agassi, Andre       R    1970-04-29\n",
       "2 2000-01-10   2    102338    2915   Kafelnikov, Yevgeny R    1974-02-18\n",
       "3 2000-01-10   3    101948    2419   Sampras, Pete       R    1971-08-12\n",
       "4 2000-01-10   4    103017    2184   Kiefer, Nicolas     R    1977-07-05\n",
       "5 2000-01-10   5    102856    2169   Kuerten, Gustavo    R    1976-09-10\n",
       "6 2000-01-10   6    102358    2107   Enqvist, Thomas     R    1974-03-13\n",
       "  country_code\n",
       "1 USA         \n",
       "2 RUS         \n",
       "3 USA         \n",
       "4 GER         \n",
       "5 BRA         \n",
       "6 SWE         "
      ]
     },
     "metadata": {},
     "output_type": "display_data"
    }
   ],
   "source": [
    "library(arrow)\n",
    "write_parquet(atp_data ,'../data/atp_data_r.parquet')\n",
    "head(read_parquet('../data/atp_data_r.parquet'))"
   ]
  },
  {
   "cell_type": "markdown",
   "metadata": {},
   "source": [
    "## HDF5"
   ]
  },
  {
   "cell_type": "code",
   "execution_count": 27,
   "metadata": {},
   "outputs": [
    {
     "name": "stderr",
     "output_type": "stream",
     "text": [
      "Warning message:\n",
      "“package ‘hdf5r’ was built under R version 3.6.3”\n",
      "Attaching package: ‘hdf5r’\n",
      "\n",
      "The following object is masked from ‘package:purrr’:\n",
      "\n",
      "    flatten_df\n",
      "\n",
      "Warning message in ds$write_low_level(robj):\n",
      "“During conversion, the following issues occured: H5T_CONV_EXCEPT_RANGE_LOW”"
     ]
    },
    {
     "name": "stdout",
     "output_type": "stream",
     "text": [
      "Class: H5Group\n",
      "Filename: /u/59/tuomiss1/unix/dataanalysis/data-analysis-workflows-course/data/atp_data_r.h5\n",
      "Group: /atp_data\n",
      "Listing:\n",
      "         name    obj_type dataset.dims dataset.type_class\n",
      "   birth_date H5I_DATASET      1837203          H5T_FLOAT\n",
      " country_code H5I_DATASET      1837203           H5T_ENUM\n",
      "         hand H5I_DATASET      1837203           H5T_ENUM\n",
      "         name H5I_DATASET      1837203         H5T_STRING\n",
      "    player_id H5I_DATASET      1837203          H5T_FLOAT\n",
      "       points H5I_DATASET      1837203          H5T_FLOAT\n",
      "         rank H5I_DATASET      1837203          H5T_FLOAT\n",
      " ranking_date H5I_DATASET      1837203          H5T_FLOAT\n",
      "Class: H5File\n",
      "Filename: /u/59/tuomiss1/unix/dataanalysis/data-analysis-workflows-course/data/atp_data_r.h5\n",
      "Access type: H5F_ACC_RDWR\n",
      "Listing:\n",
      "     name  obj_type dataset.dims dataset.type_class\n",
      " atp_data H5I_GROUP         <NA>               <NA>\n"
     ]
    }
   ],
   "source": [
    "library(hdf5r)\n",
    "h5_file <- H5File$new('../data/atp_data_r.h5', mode = 'w')\n",
    "h5_group <- h5_file$create_group('atp_data')\n",
    "for (column in colnames(atp_data)) {\n",
    "    h5_group[[column]] <- atp_data[[column]]\n",
    "}\n",
    "print(h5_group)\n",
    "print(h5_file)\n",
    "\n",
    "h5_file$close_all()"
   ]
  },
  {
   "cell_type": "markdown",
   "metadata": {},
   "source": [
    "## Other data formats"
   ]
  },
  {
   "cell_type": "markdown",
   "metadata": {},
   "source": [
    "### Excel spreadsheets"
   ]
  },
  {
   "cell_type": "code",
   "execution_count": 28,
   "metadata": {},
   "outputs": [
    {
     "name": "stderr",
     "output_type": "stream",
     "text": [
      "New names:\n",
      "* data -> data...8\n",
      "* data -> data...10\n",
      "* data -> data...12\n",
      "* data -> data...14\n",
      "* data -> data...16\n",
      "* … and 6 more problems\n"
     ]
    },
    {
     "data": {
      "text/html": [
       "<table>\n",
       "<thead><tr><th scope=col>Year</th><th scope=col>ISO_Code</th><th scope=col>Countries</th><th scope=col>Economic Freedom Summary Index</th><th scope=col>Rank</th><th scope=col>Quartile</th><th scope=col>Government consumption</th><th scope=col>data...8</th><th scope=col>Transfers and subsidies</th><th scope=col>data...10</th><th scope=col>...</th><th scope=col>Conscription</th><th scope=col>Labor market regulations</th><th scope=col>Administrative requirements</th><th scope=col>Regulatory Burden</th><th scope=col>Starting a business</th><th scope=col>Impartial Public Administration</th><th scope=col>Licensing restrictions</th><th scope=col>Tax compliance</th><th scope=col>Business regulations</th><th scope=col>Regulation</th></tr></thead>\n",
       "<tbody>\n",
       "\t<tr><td>2018     </td><td>ALB      </td><td>Albania  </td><td>7.80     </td><td> 26      </td><td>1        </td><td>8.155882 </td><td>12.27000 </td><td>6.738420 </td><td>12.470000</td><td>...      </td><td>10       </td><td>6.717929 </td><td>5.651538 </td><td>6.666667 </td><td>9.742477 </td><td> 5.396   </td><td>5.621940 </td><td>7.175250 </td><td>6.708979 </td><td>7.721734 </td></tr>\n",
       "\t<tr><td>2018     </td><td>DZA      </td><td>Algeria  </td><td>4.97     </td><td>157      </td><td>4        </td><td>3.220588 </td><td>29.05000 </td><td>7.817129 </td><td> 8.511137</td><td>...      </td><td> 3       </td><td>5.645397 </td><td>4.215154 </td><td>2.444444 </td><td>9.305002 </td><td> 3.906   </td><td>8.771111 </td><td>7.029528 </td><td>5.945207 </td><td>5.563704 </td></tr>\n",
       "\t<tr><td>2018     </td><td>AGO      </td><td>Angola   </td><td>4.75     </td><td>159      </td><td>4        </td><td>7.698695 </td><td>13.82444 </td><td>9.623978 </td><td> 1.880000</td><td>...      </td><td> 0       </td><td>5.338186 </td><td>2.937894 </td><td>2.444444 </td><td>8.730805 </td><td> 5.044   </td><td>7.916416 </td><td>6.782923 </td><td>5.642747 </td><td>5.386200 </td></tr>\n",
       "\t<tr><td>2018     </td><td>ARG      </td><td>Argentina</td><td>5.78     </td><td>144      </td><td>4        </td><td>5.938235 </td><td>19.81000 </td><td>6.307902 </td><td>14.050000</td><td>...      </td><td>10       </td><td>5.119549 </td><td>2.714233 </td><td>6.666667 </td><td>9.579288 </td><td> 7.202   </td><td>5.726521 </td><td>6.508295 </td><td>6.399500 </td><td>5.757401 </td></tr>\n",
       "\t<tr><td>2018     </td><td>ARM      </td><td>Armenia  </td><td>7.92     </td><td> 18      </td><td>1        </td><td>7.717647 </td><td>13.76000 </td><td>7.711172 </td><td> 8.900000</td><td>...      </td><td> 0       </td><td>6.461113 </td><td>5.170406 </td><td>6.000000 </td><td>9.863530 </td><td> 6.298   </td><td>9.302574 </td><td>7.040738 </td><td>7.279208 </td><td>7.762321 </td></tr>\n",
       "\t<tr><td>2018     </td><td>AUS      </td><td>Australia</td><td>8.23     </td><td>  5      </td><td>1        </td><td>4.450000 </td><td>24.87000 </td><td>6.867958 </td><td>11.994595</td><td>...      </td><td>10       </td><td>7.803349 </td><td>3.981758 </td><td>8.888889 </td><td>9.928614 </td><td>10.000   </td><td>8.953087 </td><td>8.823021 </td><td>8.429228 </td><td>8.726281 </td></tr>\n",
       "</tbody>\n",
       "</table>\n"
      ],
      "text/latex": [
       "\\begin{tabular}{r|llllllllllllllllllllllllllllllllllllllllllllllllllllllllllllllllllllllll}\n",
       " Year & ISO\\_Code & Countries & Economic Freedom Summary Index & Rank & Quartile & Government consumption & data...8 & Transfers and subsidies & data...10 & ... & Conscription & Labor market regulations & Administrative requirements & Regulatory Burden & Starting a business & Impartial Public Administration & Licensing restrictions & Tax compliance & Business regulations & Regulation\\\\\n",
       "\\hline\n",
       "\t 2018      & ALB       & Albania   & 7.80      &  26       & 1         & 8.155882  & 12.27000  & 6.738420  & 12.470000 & ...       & 10        & 6.717929  & 5.651538  & 6.666667  & 9.742477  &  5.396    & 5.621940  & 7.175250  & 6.708979  & 7.721734 \\\\\n",
       "\t 2018      & DZA       & Algeria   & 4.97      & 157       & 4         & 3.220588  & 29.05000  & 7.817129  &  8.511137 & ...       &  3        & 5.645397  & 4.215154  & 2.444444  & 9.305002  &  3.906    & 8.771111  & 7.029528  & 5.945207  & 5.563704 \\\\\n",
       "\t 2018      & AGO       & Angola    & 4.75      & 159       & 4         & 7.698695  & 13.82444  & 9.623978  &  1.880000 & ...       &  0        & 5.338186  & 2.937894  & 2.444444  & 8.730805  &  5.044    & 7.916416  & 6.782923  & 5.642747  & 5.386200 \\\\\n",
       "\t 2018      & ARG       & Argentina & 5.78      & 144       & 4         & 5.938235  & 19.81000  & 6.307902  & 14.050000 & ...       & 10        & 5.119549  & 2.714233  & 6.666667  & 9.579288  &  7.202    & 5.726521  & 6.508295  & 6.399500  & 5.757401 \\\\\n",
       "\t 2018      & ARM       & Armenia   & 7.92      &  18       & 1         & 7.717647  & 13.76000  & 7.711172  &  8.900000 & ...       &  0        & 6.461113  & 5.170406  & 6.000000  & 9.863530  &  6.298    & 9.302574  & 7.040738  & 7.279208  & 7.762321 \\\\\n",
       "\t 2018      & AUS       & Australia & 8.23      &   5       & 1         & 4.450000  & 24.87000  & 6.867958  & 11.994595 & ...       & 10        & 7.803349  & 3.981758  & 8.888889  & 9.928614  & 10.000    & 8.953087  & 8.823021  & 8.429228  & 8.726281 \\\\\n",
       "\\end{tabular}\n"
      ],
      "text/markdown": [
       "\n",
       "| Year | ISO_Code | Countries | Economic Freedom Summary Index | Rank | Quartile | Government consumption | data...8 | Transfers and subsidies | data...10 | ... | Conscription | Labor market regulations | Administrative requirements | Regulatory Burden | Starting a business | Impartial Public Administration | Licensing restrictions | Tax compliance | Business regulations | Regulation |\n",
       "|---|---|---|---|---|---|---|---|---|---|---|---|---|---|---|---|---|---|---|---|---|\n",
       "| 2018      | ALB       | Albania   | 7.80      |  26       | 1         | 8.155882  | 12.27000  | 6.738420  | 12.470000 | ...       | 10        | 6.717929  | 5.651538  | 6.666667  | 9.742477  |  5.396    | 5.621940  | 7.175250  | 6.708979  | 7.721734  |\n",
       "| 2018      | DZA       | Algeria   | 4.97      | 157       | 4         | 3.220588  | 29.05000  | 7.817129  |  8.511137 | ...       |  3        | 5.645397  | 4.215154  | 2.444444  | 9.305002  |  3.906    | 8.771111  | 7.029528  | 5.945207  | 5.563704  |\n",
       "| 2018      | AGO       | Angola    | 4.75      | 159       | 4         | 7.698695  | 13.82444  | 9.623978  |  1.880000 | ...       |  0        | 5.338186  | 2.937894  | 2.444444  | 8.730805  |  5.044    | 7.916416  | 6.782923  | 5.642747  | 5.386200  |\n",
       "| 2018      | ARG       | Argentina | 5.78      | 144       | 4         | 5.938235  | 19.81000  | 6.307902  | 14.050000 | ...       | 10        | 5.119549  | 2.714233  | 6.666667  | 9.579288  |  7.202    | 5.726521  | 6.508295  | 6.399500  | 5.757401  |\n",
       "| 2018      | ARM       | Armenia   | 7.92      |  18       | 1         | 7.717647  | 13.76000  | 7.711172  |  8.900000 | ...       |  0        | 6.461113  | 5.170406  | 6.000000  | 9.863530  |  6.298    | 9.302574  | 7.040738  | 7.279208  | 7.762321  |\n",
       "| 2018      | AUS       | Australia | 8.23      |   5       | 1         | 4.450000  | 24.87000  | 6.867958  | 11.994595 | ...       | 10        | 7.803349  | 3.981758  | 8.888889  | 9.928614  | 10.000    | 8.953087  | 8.823021  | 8.429228  | 8.726281  |\n",
       "\n"
      ],
      "text/plain": [
       "  Year ISO_Code Countries Economic Freedom Summary Index Rank Quartile\n",
       "1 2018 ALB      Albania   7.80                            26  1       \n",
       "2 2018 DZA      Algeria   4.97                           157  4       \n",
       "3 2018 AGO      Angola    4.75                           159  4       \n",
       "4 2018 ARG      Argentina 5.78                           144  4       \n",
       "5 2018 ARM      Armenia   7.92                            18  1       \n",
       "6 2018 AUS      Australia 8.23                             5  1       \n",
       "  Government consumption data...8 Transfers and subsidies data...10 ...\n",
       "1 8.155882               12.27000 6.738420                12.470000 ...\n",
       "2 3.220588               29.05000 7.817129                 8.511137 ...\n",
       "3 7.698695               13.82444 9.623978                 1.880000 ...\n",
       "4 5.938235               19.81000 6.307902                14.050000 ...\n",
       "5 7.717647               13.76000 7.711172                 8.900000 ...\n",
       "6 4.450000               24.87000 6.867958                11.994595 ...\n",
       "  Conscription Labor market regulations Administrative requirements\n",
       "1 10           6.717929                 5.651538                   \n",
       "2  3           5.645397                 4.215154                   \n",
       "3  0           5.338186                 2.937894                   \n",
       "4 10           5.119549                 2.714233                   \n",
       "5  0           6.461113                 5.170406                   \n",
       "6 10           7.803349                 3.981758                   \n",
       "  Regulatory Burden Starting a business Impartial Public Administration\n",
       "1 6.666667          9.742477             5.396                         \n",
       "2 2.444444          9.305002             3.906                         \n",
       "3 2.444444          8.730805             5.044                         \n",
       "4 6.666667          9.579288             7.202                         \n",
       "5 6.000000          9.863530             6.298                         \n",
       "6 8.888889          9.928614            10.000                         \n",
       "  Licensing restrictions Tax compliance Business regulations Regulation\n",
       "1 5.621940               7.175250       6.708979             7.721734  \n",
       "2 8.771111               7.029528       5.945207             5.563704  \n",
       "3 7.916416               6.782923       5.642747             5.386200  \n",
       "4 5.726521               6.508295       6.399500             5.757401  \n",
       "5 9.302574               7.040738       7.279208             7.762321  \n",
       "6 8.953087               8.823021       8.429228             8.726281  "
      ]
     },
     "metadata": {},
     "output_type": "display_data"
    }
   ],
   "source": [
    "library(readxl)\n",
    "efw <- read_excel('../data/efw.xlsx', col_names=TRUE, range='B5:BU4055')\n",
    "head(efw)"
   ]
  },
  {
   "cell_type": "markdown",
   "metadata": {},
   "source": [
    "### SQL databases"
   ]
  },
  {
   "cell_type": "code",
   "execution_count": 29,
   "metadata": {},
   "outputs": [
    {
     "name": "stdout",
     "output_type": "stream",
     "text": [
      "# Source:   table<atp_players> [?? x 5]\n",
      "# Database: sqlite 3.22.0\n",
      "#   [/u/59/tuomiss1/unix/dataanalysis/data-analysis-workflows-course/data/atp_players_r.sqlite]\n",
      "   player_id name                     hand   birth_date country_code\n",
      "       <dbl> <chr>                    <chr>       <dbl> <chr>       \n",
      " 1    100001 Mulloy, Gardnar          R     -1770681600 USA         \n",
      " 2    100002 Segura, Pancho           R     -1531612800 ECU         \n",
      " 3    100003 Sedgman, Frank           R     -1333324800 AUS         \n",
      " 4    100004 Merlo, Giuseppe          R     -1332547200 ITA         \n",
      " 5    100005 Gonzales, Richard Pancho R     -1314316800 USA         \n",
      " 6    100006 Golden, Grant            R     -1273795200 USA         \n",
      " 7    100007 Segal, Abe               L     -1236816000 RSA         \n",
      " 8    100008 Nielsen, Kurt            R     -1234483200 DEN         \n",
      " 9    100009 Gulyas, Istvan           R     -1206057600 HUN         \n",
      "10    100010 Ayala, Luis              R     -1176681600 CHI         \n",
      "# … with more rows\n"
     ]
    }
   ],
   "source": [
    "library(DBI)\n",
    "con <- DBI::dbConnect(RSQLite::SQLite(), dbname = \"../data/atp_players_r.sqlite\")\n",
    "copy_to(con, atp_players, overwrite=TRUE, temporary=FALSE)\n",
    "dbDisconnect(con)\n",
    "\n",
    "con <- DBI::dbConnect(RSQLite::SQLite(), dbname = \"../data/atp_players_r.sqlite\")\n",
    "print(tbl(con,'atp_players'))\n",
    "dbDisconnect(con)"
   ]
  },
  {
   "cell_type": "code",
   "execution_count": null,
   "metadata": {},
   "outputs": [],
   "source": []
  }
 ],
 "metadata": {
  "kernelspec": {
   "display_name": "R",
   "language": "R",
   "name": "ir"
  },
  "language_info": {
   "codemirror_mode": "r",
   "file_extension": ".r",
   "mimetype": "text/x-r-source",
   "name": "R",
   "pygments_lexer": "r",
   "version": "3.6.1"
  }
 },
 "nbformat": 4,
 "nbformat_minor": 4
}

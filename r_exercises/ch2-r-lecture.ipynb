{
 "cells": [
  {
   "cell_type": "markdown",
   "metadata": {},
   "source": [
    "# Chapter 2\n",
    "\n",
    "This notebook contains the commands that are shown in the lectures."
   ]
  },
  {
   "cell_type": "code",
   "execution_count": 43,
   "metadata": {},
   "outputs": [],
   "source": [
    "library(tidyverse)"
   ]
  },
  {
   "cell_type": "code",
   "execution_count": 84,
   "metadata": {},
   "outputs": [
    {
     "name": "stderr",
     "output_type": "stream",
     "text": [
      "Parsed with column specification:\n",
      "cols(\n",
      "  player_id = col_double(),\n",
      "  first_name = col_character(),\n",
      "  last_name = col_character(),\n",
      "  hand = col_character(),\n",
      "  birth_date = col_double(),\n",
      "  country_code = col_character()\n",
      ")\n"
     ]
    },
    {
     "data": {
      "text/html": [
       "<table>\n",
       "<thead><tr><th scope=col>player_id</th><th scope=col>first_name</th><th scope=col>last_name</th><th scope=col>hand</th><th scope=col>birth_date</th><th scope=col>country_code</th></tr></thead>\n",
       "<tbody>\n",
       "\t<tr><td>100001        </td><td>Gardnar       </td><td>Mulloy        </td><td>R             </td><td>19131122      </td><td>USA           </td></tr>\n",
       "\t<tr><td>100002        </td><td>Pancho        </td><td>Segura        </td><td>R             </td><td>19210620      </td><td>ECU           </td></tr>\n",
       "\t<tr><td>100003        </td><td>Frank         </td><td>Sedgman       </td><td>R             </td><td>19271002      </td><td>AUS           </td></tr>\n",
       "\t<tr><td>100004        </td><td>Giuseppe      </td><td>Merlo         </td><td>R             </td><td>19271011      </td><td>ITA           </td></tr>\n",
       "\t<tr><td>100005        </td><td>Richard Pancho</td><td>Gonzales      </td><td>R             </td><td>19280509      </td><td>USA           </td></tr>\n",
       "\t<tr><td>100006        </td><td>Grant         </td><td>Golden        </td><td>R             </td><td>19290821      </td><td>USA           </td></tr>\n",
       "</tbody>\n",
       "</table>\n"
      ],
      "text/latex": [
       "\\begin{tabular}{r|llllll}\n",
       " player\\_id & first\\_name & last\\_name & hand & birth\\_date & country\\_code\\\\\n",
       "\\hline\n",
       "\t 100001         & Gardnar        & Mulloy         & R              & 19131122       & USA           \\\\\n",
       "\t 100002         & Pancho         & Segura         & R              & 19210620       & ECU           \\\\\n",
       "\t 100003         & Frank          & Sedgman        & R              & 19271002       & AUS           \\\\\n",
       "\t 100004         & Giuseppe       & Merlo          & R              & 19271011       & ITA           \\\\\n",
       "\t 100005         & Richard Pancho & Gonzales       & R              & 19280509       & USA           \\\\\n",
       "\t 100006         & Grant          & Golden         & R              & 19290821       & USA           \\\\\n",
       "\\end{tabular}\n"
      ],
      "text/markdown": [
       "\n",
       "| player_id | first_name | last_name | hand | birth_date | country_code |\n",
       "|---|---|---|---|---|---|\n",
       "| 100001         | Gardnar        | Mulloy         | R              | 19131122       | USA            |\n",
       "| 100002         | Pancho         | Segura         | R              | 19210620       | ECU            |\n",
       "| 100003         | Frank          | Sedgman        | R              | 19271002       | AUS            |\n",
       "| 100004         | Giuseppe       | Merlo          | R              | 19271011       | ITA            |\n",
       "| 100005         | Richard Pancho | Gonzales       | R              | 19280509       | USA            |\n",
       "| 100006         | Grant          | Golden         | R              | 19290821       | USA            |\n",
       "\n"
      ],
      "text/plain": [
       "  player_id first_name     last_name hand birth_date country_code\n",
       "1 100001    Gardnar        Mulloy    R    19131122   USA         \n",
       "2 100002    Pancho         Segura    R    19210620   ECU         \n",
       "3 100003    Frank          Sedgman   R    19271002   AUS         \n",
       "4 100004    Giuseppe       Merlo     R    19271011   ITA         \n",
       "5 100005    Richard Pancho Gonzales  R    19280509   USA         \n",
       "6 100006    Grant          Golden    R    19290821   USA         "
      ]
     },
     "metadata": {},
     "output_type": "display_data"
    }
   ],
   "source": [
    "atp_players <- read_csv('../data/atp_players.csv', col_names=c('player_id', 'first_name', 'last_name', 'hand', 'birth_date', 'country_code'))\n",
    "head(atp_players)"
   ]
  },
  {
   "cell_type": "code",
   "execution_count": 85,
   "metadata": {},
   "outputs": [
    {
     "name": "stdout",
     "output_type": "stream",
     "text": [
      "Classes ‘spec_tbl_df’, ‘tbl_df’, ‘tbl’ and 'data.frame':\t54938 obs. of  6 variables:\n",
      " $ player_id   : num  1e+05 1e+05 1e+05 1e+05 1e+05 ...\n",
      " $ first_name  : chr  \"Gardnar\" \"Pancho\" \"Frank\" \"Giuseppe\" ...\n",
      " $ last_name   : chr  \"Mulloy\" \"Segura\" \"Sedgman\" \"Merlo\" ...\n",
      " $ hand        : chr  \"R\" \"R\" \"R\" \"R\" ...\n",
      " $ birth_date  : num  19131122 19210620 19271002 19271011 19280509 ...\n",
      " $ country_code: chr  \"USA\" \"ECU\" \"AUS\" \"ITA\" ...\n",
      " - attr(*, \"spec\")=\n",
      "  .. cols(\n",
      "  ..   player_id = col_double(),\n",
      "  ..   first_name = col_character(),\n",
      "  ..   last_name = col_character(),\n",
      "  ..   hand = col_character(),\n",
      "  ..   birth_date = col_double(),\n",
      "  ..   country_code = col_character()\n",
      "  .. )\n"
     ]
    }
   ],
   "source": [
    "str(atp_players)"
   ]
  },
  {
   "cell_type": "code",
   "execution_count": 86,
   "metadata": {},
   "outputs": [
    {
     "data": {
      "text/html": [
       "<table>\n",
       "<thead><tr><th scope=col>player_id</th><th scope=col>first_name</th><th scope=col>last_name</th><th scope=col>hand</th><th scope=col>birth_date</th><th scope=col>country_code</th></tr></thead>\n",
       "<tbody>\n",
       "\t<tr><td>100001        </td><td>Gardnar       </td><td>Mulloy        </td><td>R             </td><td>19131122      </td><td>USA           </td></tr>\n",
       "\t<tr><td>100002        </td><td>Pancho        </td><td>Segura        </td><td>R             </td><td>19210620      </td><td>ECU           </td></tr>\n",
       "\t<tr><td>100003        </td><td>Frank         </td><td>Sedgman       </td><td>R             </td><td>19271002      </td><td>AUS           </td></tr>\n",
       "\t<tr><td>100004        </td><td>Giuseppe      </td><td>Merlo         </td><td>R             </td><td>19271011      </td><td>ITA           </td></tr>\n",
       "\t<tr><td>100005        </td><td>Richard Pancho</td><td>Gonzales      </td><td>R             </td><td>19280509      </td><td>USA           </td></tr>\n",
       "\t<tr><td>100006        </td><td>Grant         </td><td>Golden        </td><td>R             </td><td>19290821      </td><td>USA           </td></tr>\n",
       "</tbody>\n",
       "</table>\n"
      ],
      "text/latex": [
       "\\begin{tabular}{r|llllll}\n",
       " player\\_id & first\\_name & last\\_name & hand & birth\\_date & country\\_code\\\\\n",
       "\\hline\n",
       "\t 100001         & Gardnar        & Mulloy         & R              & 19131122       & USA           \\\\\n",
       "\t 100002         & Pancho         & Segura         & R              & 19210620       & ECU           \\\\\n",
       "\t 100003         & Frank          & Sedgman        & R              & 19271002       & AUS           \\\\\n",
       "\t 100004         & Giuseppe       & Merlo          & R              & 19271011       & ITA           \\\\\n",
       "\t 100005         & Richard Pancho & Gonzales       & R              & 19280509       & USA           \\\\\n",
       "\t 100006         & Grant          & Golden         & R              & 19290821       & USA           \\\\\n",
       "\\end{tabular}\n"
      ],
      "text/markdown": [
       "\n",
       "| player_id | first_name | last_name | hand | birth_date | country_code |\n",
       "|---|---|---|---|---|---|\n",
       "| 100001         | Gardnar        | Mulloy         | R              | 19131122       | USA            |\n",
       "| 100002         | Pancho         | Segura         | R              | 19210620       | ECU            |\n",
       "| 100003         | Frank          | Sedgman        | R              | 19271002       | AUS            |\n",
       "| 100004         | Giuseppe       | Merlo          | R              | 19271011       | ITA            |\n",
       "| 100005         | Richard Pancho | Gonzales       | R              | 19280509       | USA            |\n",
       "| 100006         | Grant          | Golden         | R              | 19290821       | USA            |\n",
       "\n"
      ],
      "text/plain": [
       "  player_id first_name     last_name hand birth_date country_code\n",
       "1 100001    Gardnar        Mulloy    R    19131122   USA         \n",
       "2 100002    Pancho         Segura    R    19210620   ECU         \n",
       "3 100003    Frank          Sedgman   R    19271002   AUS         \n",
       "4 100004    Giuseppe       Merlo     R    19271011   ITA         \n",
       "5 100005    Richard Pancho Gonzales  R    19280509   USA         \n",
       "6 100006    Grant          Golden    R    19290821   USA         "
      ]
     },
     "metadata": {},
     "output_type": "display_data"
    }
   ],
   "source": [
    "head(atp_players)"
   ]
  },
  {
   "cell_type": "code",
   "execution_count": 83,
   "metadata": {},
   "outputs": [
    {
     "name": "stderr",
     "output_type": "stream",
     "text": [
      "Warning message:\n",
      "“ 125 failed to parse.”"
     ]
    },
    {
     "name": "stdout",
     "output_type": "stream",
     "text": [
      "Classes ‘spec_tbl_df’, ‘tbl_df’, ‘tbl’ and 'data.frame':\t54938 obs. of  6 variables:\n",
      " $ player_id   : num  1e+05 1e+05 1e+05 1e+05 1e+05 ...\n",
      " $ first_name  : chr  \"Gardnar\" \"Pancho\" \"Frank\" \"Giuseppe\" ...\n",
      " $ last_name   : chr  \"Mulloy\" \"Segura\" \"Sedgman\" \"Merlo\" ...\n",
      " $ hand        : chr  \"R\" \"R\" \"R\" \"R\" ...\n",
      " $ birth_date  : POSIXct, format: \"1913-11-22\" \"1921-06-20\" ...\n",
      " $ country_code: chr  \"USA\" \"ECU\" \"AUS\" \"ITA\" ...\n"
     ]
    }
   ],
   "source": [
    "library(lubridate)\n",
    "atp_players <- atp_players %>%\n",
    "    mutate(birth_date=parse_date_time(birth_date, order='%Y%m%d'))\n",
    "str(atp_players)"
   ]
  },
  {
   "cell_type": "code",
   "execution_count": 67,
   "metadata": {},
   "outputs": [
    {
     "data": {
      "text/html": [
       "<table>\n",
       "<thead><tr><th scope=col>player_id</th><th scope=col>name</th><th scope=col>first_name</th><th scope=col>last_name</th><th scope=col>hand</th><th scope=col>birth_date</th><th scope=col>country_code</th></tr></thead>\n",
       "<tbody>\n",
       "\t<tr><td>100001                  </td><td>Mulloy, Gardnar         </td><td>Gardnar                 </td><td>Mulloy                  </td><td>R                       </td><td>19131122                </td><td>USA                     </td></tr>\n",
       "\t<tr><td>100002                  </td><td>Segura, Pancho          </td><td>Pancho                  </td><td>Segura                  </td><td>R                       </td><td>19210620                </td><td>ECU                     </td></tr>\n",
       "\t<tr><td>100003                  </td><td>Sedgman, Frank          </td><td>Frank                   </td><td>Sedgman                 </td><td>R                       </td><td>19271002                </td><td>AUS                     </td></tr>\n",
       "\t<tr><td>100004                  </td><td>Merlo, Giuseppe         </td><td>Giuseppe                </td><td>Merlo                   </td><td>R                       </td><td>19271011                </td><td>ITA                     </td></tr>\n",
       "\t<tr><td>100005                  </td><td>Gonzales, Richard Pancho</td><td>Richard Pancho          </td><td>Gonzales                </td><td>R                       </td><td>19280509                </td><td>USA                     </td></tr>\n",
       "\t<tr><td>100006                  </td><td>Golden, Grant           </td><td>Grant                   </td><td>Golden                  </td><td>R                       </td><td>19290821                </td><td>USA                     </td></tr>\n",
       "</tbody>\n",
       "</table>\n"
      ],
      "text/latex": [
       "\\begin{tabular}{r|lllllll}\n",
       " player\\_id & name & first\\_name & last\\_name & hand & birth\\_date & country\\_code\\\\\n",
       "\\hline\n",
       "\t 100001                   & Mulloy, Gardnar          & Gardnar                  & Mulloy                   & R                        & 19131122                 & USA                     \\\\\n",
       "\t 100002                   & Segura, Pancho           & Pancho                   & Segura                   & R                        & 19210620                 & ECU                     \\\\\n",
       "\t 100003                   & Sedgman, Frank           & Frank                    & Sedgman                  & R                        & 19271002                 & AUS                     \\\\\n",
       "\t 100004                   & Merlo, Giuseppe          & Giuseppe                 & Merlo                    & R                        & 19271011                 & ITA                     \\\\\n",
       "\t 100005                   & Gonzales, Richard Pancho & Richard Pancho           & Gonzales                 & R                        & 19280509                 & USA                     \\\\\n",
       "\t 100006                   & Golden, Grant            & Grant                    & Golden                   & R                        & 19290821                 & USA                     \\\\\n",
       "\\end{tabular}\n"
      ],
      "text/markdown": [
       "\n",
       "| player_id | name | first_name | last_name | hand | birth_date | country_code |\n",
       "|---|---|---|---|---|---|---|\n",
       "| 100001                   | Mulloy, Gardnar          | Gardnar                  | Mulloy                   | R                        | 19131122                 | USA                      |\n",
       "| 100002                   | Segura, Pancho           | Pancho                   | Segura                   | R                        | 19210620                 | ECU                      |\n",
       "| 100003                   | Sedgman, Frank           | Frank                    | Sedgman                  | R                        | 19271002                 | AUS                      |\n",
       "| 100004                   | Merlo, Giuseppe          | Giuseppe                 | Merlo                    | R                        | 19271011                 | ITA                      |\n",
       "| 100005                   | Gonzales, Richard Pancho | Richard Pancho           | Gonzales                 | R                        | 19280509                 | USA                      |\n",
       "| 100006                   | Golden, Grant            | Grant                    | Golden                   | R                        | 19290821                 | USA                      |\n",
       "\n"
      ],
      "text/plain": [
       "  player_id name                     first_name     last_name hand birth_date\n",
       "1 100001    Mulloy, Gardnar          Gardnar        Mulloy    R    19131122  \n",
       "2 100002    Segura, Pancho           Pancho         Segura    R    19210620  \n",
       "3 100003    Sedgman, Frank           Frank          Sedgman   R    19271002  \n",
       "4 100004    Merlo, Giuseppe          Giuseppe       Merlo     R    19271011  \n",
       "5 100005    Gonzales, Richard Pancho Richard Pancho Gonzales  R    19280509  \n",
       "6 100006    Golden, Grant            Grant          Golden    R    19290821  \n",
       "  country_code\n",
       "1 USA         \n",
       "2 ECU         \n",
       "3 AUS         \n",
       "4 ITA         \n",
       "5 USA         \n",
       "6 USA         "
      ]
     },
     "metadata": {},
     "output_type": "display_data"
    }
   ],
   "source": [
    "atp_players <- atp_players %>%\n",
    "    unite(name, last_name, first_name, sep=', ', remove=FALSE)\n",
    "\n",
    "head(atp_players)"
   ]
  },
  {
   "cell_type": "code",
   "execution_count": 68,
   "metadata": {},
   "outputs": [
    {
     "name": "stdout",
     "output_type": "stream",
     "text": [
      "Classes ‘tbl_df’, ‘tbl’ and 'data.frame':\t54938 obs. of  5 variables:\n",
      " $ player_id   : num  1e+05 1e+05 1e+05 1e+05 1e+05 ...\n",
      " $ name        : chr  \"Mulloy, Gardnar\" \"Segura, Pancho\" \"Sedgman, Frank\" \"Merlo, Giuseppe\" ...\n",
      " $ hand        : chr  \"R\" \"R\" \"R\" \"R\" ...\n",
      " $ birth_date  : num  19131122 19210620 19271002 19271011 19280509 ...\n",
      " $ country_code: chr  \"USA\" \"ECU\" \"AUS\" \"ITA\" ...\n"
     ]
    }
   ],
   "source": [
    "atp_players <- atp_players %>%\n",
    "    select(-first_name, -last_name)\n",
    "\n",
    "str(atp_players)"
   ]
  },
  {
   "cell_type": "code",
   "execution_count": 72,
   "metadata": {},
   "outputs": [
    {
     "data": {
      "text/plain": [
       "220440 bytes"
      ]
     },
     "metadata": {},
     "output_type": "display_data"
    },
    {
     "data": {
      "text/plain": [
       "220440 bytes"
      ]
     },
     "metadata": {},
     "output_type": "display_data"
    },
    {
     "name": "stdout",
     "output_type": "stream",
     "text": [
      "[1] \"A\" \"L\" \"R\" \"U\"\n",
      "Classes ‘tbl_df’, ‘tbl’ and 'data.frame':\t54938 obs. of  5 variables:\n",
      " $ player_id   : num  1e+05 1e+05 1e+05 1e+05 1e+05 ...\n",
      " $ name        : chr  \"Mulloy, Gardnar\" \"Segura, Pancho\" \"Sedgman, Frank\" \"Merlo, Giuseppe\" ...\n",
      " $ hand        : Factor w/ 4 levels \"A\",\"L\",\"R\",\"U\": 3 3 3 3 3 3 2 3 3 3 ...\n",
      " $ birth_date  : num  19131122 19210620 19271002 19271011 19280509 ...\n",
      " $ country_code: Factor w/ 210 levels \"AFG\",\"AHO\",\"ALB\",..: 200 62 13 97 200 200 160 58 88 43 ...\n"
     ]
    }
   ],
   "source": [
    "object.size(atp_players[['hand']])\n",
    "atp_players <- atp_players %>%\n",
    "    mutate_at(c('country_code', 'hand'), as.factor)\n",
    "object.size(atp_players[['hand']])\n",
    "print(levels(atp_players[['hand']]))\n",
    "str(atp_players)"
   ]
  },
  {
   "cell_type": "code",
   "execution_count": 33,
   "metadata": {},
   "outputs": [
    {
     "ename": "ERROR",
     "evalue": "Error in parse(text = x, srcfile = src): <text>:1:18: unexpected '['\n1: atp_players.loc[,[\n                     ^\n",
     "output_type": "error",
     "traceback": [
      "Error in parse(text = x, srcfile = src): <text>:1:18: unexpected '['\n1: atp_players.loc[,[\n                     ^\nTraceback:\n"
     ]
    }
   ],
   "source": [
    "atp_players.loc[,['country_code']]"
   ]
  },
  {
   "cell_type": "code",
   "execution_count": 3,
   "metadata": {},
   "outputs": [
    {
     "name": "stderr",
     "output_type": "stream",
     "text": [
      "Parsed with column specification:\n",
      "cols(\n",
      "  Sepal.Length = col_double(),\n",
      "  Sepal.Width = col_double(),\n",
      "  Petal.Length = col_double(),\n",
      "  Petal.Width = col_double(),\n",
      "  Species = col_character()\n",
      ")\n"
     ]
    }
   ],
   "source": [
    "iris <- read_csv('../data/iris.data', col_names=c('Sepal.Length', 'Sepal.Width', 'Petal.Length', 'Petal.Width', 'Species'))"
   ]
  },
  {
   "cell_type": "code",
   "execution_count": 11,
   "metadata": {},
   "outputs": [
    {
     "name": "stdout",
     "output_type": "stream",
     "text": [
      "# A tibble: 150 x 5\n",
      "   Sepal.Length Sepal.Width Petal.Length Petal.Width Species    \n",
      "          <dbl>       <dbl>        <dbl>       <dbl> <chr>      \n",
      " 1          5.1         3.5          1.4         0.2 Iris-setosa\n",
      " 2          4.9         3            1.4         0.2 Iris-setosa\n",
      " 3          4.7         3.2          1.3         0.2 Iris-setosa\n",
      " 4          4.6         3.1          1.5         0.2 Iris-setosa\n",
      " 5          5           3.6          1.4         0.2 Iris-setosa\n",
      " 6          5.4         3.9          1.7         0.4 Iris-setosa\n",
      " 7          4.6         3.4          1.4         0.3 Iris-setosa\n",
      " 8          5           3.4          1.5         0.2 Iris-setosa\n",
      " 9          4.4         2.9          1.4         0.2 Iris-setosa\n",
      "10          4.9         3.1          1.5         0.1 Iris-setosa\n",
      "# … with 140 more rows\n"
     ]
    }
   ],
   "source": [
    "print(iris)"
   ]
  },
  {
   "cell_type": "code",
   "execution_count": 58,
   "metadata": {},
   "outputs": [
    {
     "name": "stderr",
     "output_type": "stream",
     "text": [
      "Parsed with column specification:\n",
      "cols(\n",
      "  .default = col_double(),\n",
      "  X2 = col_character()\n",
      ")\n",
      "See spec(...) for full column specifications.\n"
     ]
    }
   ],
   "source": [
    "wdbc_data <- read_csv('../data/wdbc.data', col_names=FALSE)"
   ]
  },
  {
   "cell_type": "code",
   "execution_count": 23,
   "metadata": {},
   "outputs": [
    {
     "name": "stderr",
     "output_type": "stream",
     "text": [
      "New names:\n",
      "* data -> data...8\n",
      "* data -> data...10\n",
      "* data -> data...12\n",
      "* data -> data...14\n",
      "* data -> data...16\n",
      "* … and 6 more problems\n"
     ]
    },
    {
     "data": {
      "text/html": [
       "<table>\n",
       "<thead><tr><th scope=col>row</th><th scope=col>col</th><th scope=col>expected</th><th scope=col>actual</th></tr></thead>\n",
       "<tbody>\n",
       "</tbody>\n",
       "</table>\n"
      ],
      "text/latex": [
       "\\begin{tabular}{r|llll}\n",
       " row & col & expected & actual\\\\\n",
       "\\hline\n",
       "\\end{tabular}\n"
      ],
      "text/markdown": [
       "\n",
       "| row | col | expected | actual |\n",
       "|---|---|---|---|\n",
       "\n"
      ],
      "text/plain": [
       "     row col expected actual"
      ]
     },
     "metadata": {},
     "output_type": "display_data"
    }
   ],
   "source": [
    "\n",
    "library(readxl)\n",
    "efw <- read_excel('../data/efw.xlsx', col_names=TRUE, range='B5:BU4055')\n",
    "problems(efw)"
   ]
  },
  {
   "cell_type": "code",
   "execution_count": 37,
   "metadata": {},
   "outputs": [],
   "source": []
  },
  {
   "cell_type": "code",
   "execution_count": 79,
   "metadata": {},
   "outputs": [
    {
     "name": "stdout",
     "output_type": "stream",
     "text": [
      "Class: H5Group\n",
      "Filename: /u/59/tuomiss1/unix/dataanalysis/data-analysis-workflows-course/data/datacollection.h5\n",
      "Group: /iris\n",
      "Listing:\n",
      "         name    obj_type dataset.dims dataset.type_class\n",
      " Petal.Length H5I_DATASET          150          H5T_FLOAT\n",
      "  Petal.Width H5I_DATASET          150          H5T_FLOAT\n",
      " Sepal.Length H5I_DATASET          150          H5T_FLOAT\n",
      "  Sepal.Width H5I_DATASET          150          H5T_FLOAT\n",
      "      Species H5I_DATASET          150         H5T_STRING\n",
      "Class: H5Group\n",
      "Filename: /u/59/tuomiss1/unix/dataanalysis/data-analysis-workflows-course/data/datacollection.h5\n",
      "Group: /wdbc\n",
      "Listing:\n",
      " name    obj_type dataset.dims dataset.type_class\n",
      "   X1 H5I_DATASET          569          H5T_FLOAT\n",
      "  X10 H5I_DATASET          569          H5T_FLOAT\n",
      "  X11 H5I_DATASET          569          H5T_FLOAT\n",
      "  X12 H5I_DATASET          569          H5T_FLOAT\n",
      "  X13 H5I_DATASET          569          H5T_FLOAT\n",
      "  X14 H5I_DATASET          569          H5T_FLOAT\n",
      "  X15 H5I_DATASET          569          H5T_FLOAT\n",
      "  X16 H5I_DATASET          569          H5T_FLOAT\n",
      "  X17 H5I_DATASET          569          H5T_FLOAT\n",
      "  X18 H5I_DATASET          569          H5T_FLOAT\n",
      "< Printed 10, out of 32>\n",
      "Class: H5File\n",
      "Filename: /u/59/tuomiss1/unix/dataanalysis/data-analysis-workflows-course/data/datacollection.h5\n",
      "Access type: H5F_ACC_RDWR\n",
      "Listing:\n",
      " name  obj_type dataset.dims dataset.type_class\n",
      " iris H5I_GROUP         <NA>               <NA>\n",
      " wdbc H5I_GROUP         <NA>               <NA>\n"
     ]
    }
   ],
   "source": [
    "library(hdf5r)\n",
    "datafile_h5 <- H5File$new('../data/datacollection_r.h5', mode = 'w')\n",
    "datasets_list = list('iris'=iris, 'wdbc'=wdbc_data)\n",
    "for (dataset_name in names(datasets_list)) {\n",
    "    dataset <- datasets_list[[dataset_name]]\n",
    "    datagroup_h5 <- datafile_h5$create_group(dataset_name) \n",
    "    for (column in colnames(dataset)) {\n",
    "        datagroup_h5[[column]] <- dataset[[column]]\n",
    "    }\n",
    "    print(datagroup_h5)\n",
    "}\n",
    "print(datafile_h5)\n",
    "\n",
    "datafile_h5$close_all()"
   ]
  },
  {
   "cell_type": "code",
   "execution_count": 80,
   "metadata": {},
   "outputs": [
    {
     "name": "stdout",
     "output_type": "stream",
     "text": [
      "# Source:   table<iris> [?? x 5]\n",
      "# Database: sqlite 3.22.0\n",
      "#   [/u/59/tuomiss1/unix/dataanalysis/data-analysis-workflows-course/data/iris_r.sqlite]\n",
      "   Sepal.Length Sepal.Width Petal.Length Petal.Width Species    \n",
      "          <dbl>       <dbl>        <dbl>       <dbl> <chr>      \n",
      " 1          5.1         3.5          1.4         0.2 Iris-setosa\n",
      " 2          4.9         3            1.4         0.2 Iris-setosa\n",
      " 3          4.7         3.2          1.3         0.2 Iris-setosa\n",
      " 4          4.6         3.1          1.5         0.2 Iris-setosa\n",
      " 5          5           3.6          1.4         0.2 Iris-setosa\n",
      " 6          5.4         3.9          1.7         0.4 Iris-setosa\n",
      " 7          4.6         3.4          1.4         0.3 Iris-setosa\n",
      " 8          5           3.4          1.5         0.2 Iris-setosa\n",
      " 9          4.4         2.9          1.4         0.2 Iris-setosa\n",
      "10          4.9         3.1          1.5         0.1 Iris-setosa\n",
      "# … with more rows\n"
     ]
    }
   ],
   "source": [
    "library(DBI)\n",
    "con <- DBI::dbConnect(RSQLite::SQLite(), dbname = \"../data/iris_r.sqlite\")\n",
    "copy_to(con, iris, overwrite=TRUE, temporary=FALSE)\n",
    "dbDisconnect(con)\n",
    "\n",
    "con <- DBI::dbConnect(RSQLite::SQLite(), dbname = \"../data/iris_r.sqlite\")\n",
    "print(tbl(con,'iris'))\n",
    "dbDisconnect(con)"
   ]
  },
  {
   "cell_type": "code",
   "execution_count": 72,
   "metadata": {},
   "outputs": [
    {
     "data": {
      "text/html": [
       "<table>\n",
       "<thead><tr><th scope=col>Sepal.Length</th><th scope=col>Sepal.Width</th><th scope=col>Petal.Length</th><th scope=col>Petal.Width</th><th scope=col>Species</th></tr></thead>\n",
       "<tbody>\n",
       "\t<tr><td>5.1        </td><td>3.5        </td><td>1.4        </td><td>0.2        </td><td>Iris-setosa</td></tr>\n",
       "\t<tr><td>4.9        </td><td>3.0        </td><td>1.4        </td><td>0.2        </td><td>Iris-setosa</td></tr>\n",
       "\t<tr><td>4.7        </td><td>3.2        </td><td>1.3        </td><td>0.2        </td><td>Iris-setosa</td></tr>\n",
       "\t<tr><td>4.6        </td><td>3.1        </td><td>1.5        </td><td>0.2        </td><td>Iris-setosa</td></tr>\n",
       "\t<tr><td>5.0        </td><td>3.6        </td><td>1.4        </td><td>0.2        </td><td>Iris-setosa</td></tr>\n",
       "\t<tr><td>5.4        </td><td>3.9        </td><td>1.7        </td><td>0.4        </td><td>Iris-setosa</td></tr>\n",
       "\t<tr><td>4.6        </td><td>3.4        </td><td>1.4        </td><td>0.3        </td><td>Iris-setosa</td></tr>\n",
       "\t<tr><td>5.0        </td><td>3.4        </td><td>1.5        </td><td>0.2        </td><td>Iris-setosa</td></tr>\n",
       "\t<tr><td>4.4        </td><td>2.9        </td><td>1.4        </td><td>0.2        </td><td>Iris-setosa</td></tr>\n",
       "\t<tr><td>4.9        </td><td>3.1        </td><td>1.5        </td><td>0.1        </td><td>Iris-setosa</td></tr>\n",
       "\t<tr><td>5.4        </td><td>3.7        </td><td>1.5        </td><td>0.2        </td><td>Iris-setosa</td></tr>\n",
       "\t<tr><td>4.8        </td><td>3.4        </td><td>1.6        </td><td>0.2        </td><td>Iris-setosa</td></tr>\n",
       "\t<tr><td>4.8        </td><td>3.0        </td><td>1.4        </td><td>0.1        </td><td>Iris-setosa</td></tr>\n",
       "\t<tr><td>4.3        </td><td>3.0        </td><td>1.1        </td><td>0.1        </td><td>Iris-setosa</td></tr>\n",
       "\t<tr><td>5.8        </td><td>4.0        </td><td>1.2        </td><td>0.2        </td><td>Iris-setosa</td></tr>\n",
       "\t<tr><td>5.7        </td><td>4.4        </td><td>1.5        </td><td>0.4        </td><td>Iris-setosa</td></tr>\n",
       "\t<tr><td>5.4        </td><td>3.9        </td><td>1.3        </td><td>0.4        </td><td>Iris-setosa</td></tr>\n",
       "\t<tr><td>5.1        </td><td>3.5        </td><td>1.4        </td><td>0.3        </td><td>Iris-setosa</td></tr>\n",
       "\t<tr><td>5.7        </td><td>3.8        </td><td>1.7        </td><td>0.3        </td><td>Iris-setosa</td></tr>\n",
       "\t<tr><td>5.1        </td><td>3.8        </td><td>1.5        </td><td>0.3        </td><td>Iris-setosa</td></tr>\n",
       "\t<tr><td>5.4        </td><td>3.4        </td><td>1.7        </td><td>0.2        </td><td>Iris-setosa</td></tr>\n",
       "\t<tr><td>5.1        </td><td>3.7        </td><td>1.5        </td><td>0.4        </td><td>Iris-setosa</td></tr>\n",
       "\t<tr><td>4.6        </td><td>3.6        </td><td>1.0        </td><td>0.2        </td><td>Iris-setosa</td></tr>\n",
       "\t<tr><td>5.1        </td><td>3.3        </td><td>1.7        </td><td>0.5        </td><td>Iris-setosa</td></tr>\n",
       "\t<tr><td>4.8        </td><td>3.4        </td><td>1.9        </td><td>0.2        </td><td>Iris-setosa</td></tr>\n",
       "\t<tr><td>5.0        </td><td>3.0        </td><td>1.6        </td><td>0.2        </td><td>Iris-setosa</td></tr>\n",
       "\t<tr><td>5.0        </td><td>3.4        </td><td>1.6        </td><td>0.4        </td><td>Iris-setosa</td></tr>\n",
       "\t<tr><td>5.2        </td><td>3.5        </td><td>1.5        </td><td>0.2        </td><td>Iris-setosa</td></tr>\n",
       "\t<tr><td>5.2        </td><td>3.4        </td><td>1.4        </td><td>0.2        </td><td>Iris-setosa</td></tr>\n",
       "\t<tr><td>4.7        </td><td>3.2        </td><td>1.6        </td><td>0.2        </td><td>Iris-setosa</td></tr>\n",
       "\t<tr><td>...</td><td>...</td><td>...</td><td>...</td><td>...</td></tr>\n",
       "\t<tr><td>6.9           </td><td>3.2           </td><td>5.7           </td><td>2.3           </td><td>Iris-virginica</td></tr>\n",
       "\t<tr><td>5.6           </td><td>2.8           </td><td>4.9           </td><td>2.0           </td><td>Iris-virginica</td></tr>\n",
       "\t<tr><td>7.7           </td><td>2.8           </td><td>6.7           </td><td>2.0           </td><td>Iris-virginica</td></tr>\n",
       "\t<tr><td>6.3           </td><td>2.7           </td><td>4.9           </td><td>1.8           </td><td>Iris-virginica</td></tr>\n",
       "\t<tr><td>6.7           </td><td>3.3           </td><td>5.7           </td><td>2.1           </td><td>Iris-virginica</td></tr>\n",
       "\t<tr><td>7.2           </td><td>3.2           </td><td>6.0           </td><td>1.8           </td><td>Iris-virginica</td></tr>\n",
       "\t<tr><td>6.2           </td><td>2.8           </td><td>4.8           </td><td>1.8           </td><td>Iris-virginica</td></tr>\n",
       "\t<tr><td>6.1           </td><td>3.0           </td><td>4.9           </td><td>1.8           </td><td>Iris-virginica</td></tr>\n",
       "\t<tr><td>6.4           </td><td>2.8           </td><td>5.6           </td><td>2.1           </td><td>Iris-virginica</td></tr>\n",
       "\t<tr><td>7.2           </td><td>3.0           </td><td>5.8           </td><td>1.6           </td><td>Iris-virginica</td></tr>\n",
       "\t<tr><td>7.4           </td><td>2.8           </td><td>6.1           </td><td>1.9           </td><td>Iris-virginica</td></tr>\n",
       "\t<tr><td>7.9           </td><td>3.8           </td><td>6.4           </td><td>2.0           </td><td>Iris-virginica</td></tr>\n",
       "\t<tr><td>6.4           </td><td>2.8           </td><td>5.6           </td><td>2.2           </td><td>Iris-virginica</td></tr>\n",
       "\t<tr><td>6.3           </td><td>2.8           </td><td>5.1           </td><td>1.5           </td><td>Iris-virginica</td></tr>\n",
       "\t<tr><td>6.1           </td><td>2.6           </td><td>5.6           </td><td>1.4           </td><td>Iris-virginica</td></tr>\n",
       "\t<tr><td>7.7           </td><td>3.0           </td><td>6.1           </td><td>2.3           </td><td>Iris-virginica</td></tr>\n",
       "\t<tr><td>6.3           </td><td>3.4           </td><td>5.6           </td><td>2.4           </td><td>Iris-virginica</td></tr>\n",
       "\t<tr><td>6.4           </td><td>3.1           </td><td>5.5           </td><td>1.8           </td><td>Iris-virginica</td></tr>\n",
       "\t<tr><td>6.0           </td><td>3.0           </td><td>4.8           </td><td>1.8           </td><td>Iris-virginica</td></tr>\n",
       "\t<tr><td>6.9           </td><td>3.1           </td><td>5.4           </td><td>2.1           </td><td>Iris-virginica</td></tr>\n",
       "\t<tr><td>6.7           </td><td>3.1           </td><td>5.6           </td><td>2.4           </td><td>Iris-virginica</td></tr>\n",
       "\t<tr><td>6.9           </td><td>3.1           </td><td>5.1           </td><td>2.3           </td><td>Iris-virginica</td></tr>\n",
       "\t<tr><td>5.8           </td><td>2.7           </td><td>5.1           </td><td>1.9           </td><td>Iris-virginica</td></tr>\n",
       "\t<tr><td>6.8           </td><td>3.2           </td><td>5.9           </td><td>2.3           </td><td>Iris-virginica</td></tr>\n",
       "\t<tr><td>6.7           </td><td>3.3           </td><td>5.7           </td><td>2.5           </td><td>Iris-virginica</td></tr>\n",
       "\t<tr><td>6.7           </td><td>3.0           </td><td>5.2           </td><td>2.3           </td><td>Iris-virginica</td></tr>\n",
       "\t<tr><td>6.3           </td><td>2.5           </td><td>5.0           </td><td>1.9           </td><td>Iris-virginica</td></tr>\n",
       "\t<tr><td>6.5           </td><td>3.0           </td><td>5.2           </td><td>2.0           </td><td>Iris-virginica</td></tr>\n",
       "\t<tr><td>6.2           </td><td>3.4           </td><td>5.4           </td><td>2.3           </td><td>Iris-virginica</td></tr>\n",
       "\t<tr><td>5.9           </td><td>3.0           </td><td>5.1           </td><td>1.8           </td><td>Iris-virginica</td></tr>\n",
       "</tbody>\n",
       "</table>\n"
      ],
      "text/latex": [
       "\\begin{tabular}{r|lllll}\n",
       " Sepal.Length & Sepal.Width & Petal.Length & Petal.Width & Species\\\\\n",
       "\\hline\n",
       "\t 5.1         & 3.5         & 1.4         & 0.2         & Iris-setosa\\\\\n",
       "\t 4.9         & 3.0         & 1.4         & 0.2         & Iris-setosa\\\\\n",
       "\t 4.7         & 3.2         & 1.3         & 0.2         & Iris-setosa\\\\\n",
       "\t 4.6         & 3.1         & 1.5         & 0.2         & Iris-setosa\\\\\n",
       "\t 5.0         & 3.6         & 1.4         & 0.2         & Iris-setosa\\\\\n",
       "\t 5.4         & 3.9         & 1.7         & 0.4         & Iris-setosa\\\\\n",
       "\t 4.6         & 3.4         & 1.4         & 0.3         & Iris-setosa\\\\\n",
       "\t 5.0         & 3.4         & 1.5         & 0.2         & Iris-setosa\\\\\n",
       "\t 4.4         & 2.9         & 1.4         & 0.2         & Iris-setosa\\\\\n",
       "\t 4.9         & 3.1         & 1.5         & 0.1         & Iris-setosa\\\\\n",
       "\t 5.4         & 3.7         & 1.5         & 0.2         & Iris-setosa\\\\\n",
       "\t 4.8         & 3.4         & 1.6         & 0.2         & Iris-setosa\\\\\n",
       "\t 4.8         & 3.0         & 1.4         & 0.1         & Iris-setosa\\\\\n",
       "\t 4.3         & 3.0         & 1.1         & 0.1         & Iris-setosa\\\\\n",
       "\t 5.8         & 4.0         & 1.2         & 0.2         & Iris-setosa\\\\\n",
       "\t 5.7         & 4.4         & 1.5         & 0.4         & Iris-setosa\\\\\n",
       "\t 5.4         & 3.9         & 1.3         & 0.4         & Iris-setosa\\\\\n",
       "\t 5.1         & 3.5         & 1.4         & 0.3         & Iris-setosa\\\\\n",
       "\t 5.7         & 3.8         & 1.7         & 0.3         & Iris-setosa\\\\\n",
       "\t 5.1         & 3.8         & 1.5         & 0.3         & Iris-setosa\\\\\n",
       "\t 5.4         & 3.4         & 1.7         & 0.2         & Iris-setosa\\\\\n",
       "\t 5.1         & 3.7         & 1.5         & 0.4         & Iris-setosa\\\\\n",
       "\t 4.6         & 3.6         & 1.0         & 0.2         & Iris-setosa\\\\\n",
       "\t 5.1         & 3.3         & 1.7         & 0.5         & Iris-setosa\\\\\n",
       "\t 4.8         & 3.4         & 1.9         & 0.2         & Iris-setosa\\\\\n",
       "\t 5.0         & 3.0         & 1.6         & 0.2         & Iris-setosa\\\\\n",
       "\t 5.0         & 3.4         & 1.6         & 0.4         & Iris-setosa\\\\\n",
       "\t 5.2         & 3.5         & 1.5         & 0.2         & Iris-setosa\\\\\n",
       "\t 5.2         & 3.4         & 1.4         & 0.2         & Iris-setosa\\\\\n",
       "\t 4.7         & 3.2         & 1.6         & 0.2         & Iris-setosa\\\\\n",
       "\t ... & ... & ... & ... & ...\\\\\n",
       "\t 6.9            & 3.2            & 5.7            & 2.3            & Iris-virginica\\\\\n",
       "\t 5.6            & 2.8            & 4.9            & 2.0            & Iris-virginica\\\\\n",
       "\t 7.7            & 2.8            & 6.7            & 2.0            & Iris-virginica\\\\\n",
       "\t 6.3            & 2.7            & 4.9            & 1.8            & Iris-virginica\\\\\n",
       "\t 6.7            & 3.3            & 5.7            & 2.1            & Iris-virginica\\\\\n",
       "\t 7.2            & 3.2            & 6.0            & 1.8            & Iris-virginica\\\\\n",
       "\t 6.2            & 2.8            & 4.8            & 1.8            & Iris-virginica\\\\\n",
       "\t 6.1            & 3.0            & 4.9            & 1.8            & Iris-virginica\\\\\n",
       "\t 6.4            & 2.8            & 5.6            & 2.1            & Iris-virginica\\\\\n",
       "\t 7.2            & 3.0            & 5.8            & 1.6            & Iris-virginica\\\\\n",
       "\t 7.4            & 2.8            & 6.1            & 1.9            & Iris-virginica\\\\\n",
       "\t 7.9            & 3.8            & 6.4            & 2.0            & Iris-virginica\\\\\n",
       "\t 6.4            & 2.8            & 5.6            & 2.2            & Iris-virginica\\\\\n",
       "\t 6.3            & 2.8            & 5.1            & 1.5            & Iris-virginica\\\\\n",
       "\t 6.1            & 2.6            & 5.6            & 1.4            & Iris-virginica\\\\\n",
       "\t 7.7            & 3.0            & 6.1            & 2.3            & Iris-virginica\\\\\n",
       "\t 6.3            & 3.4            & 5.6            & 2.4            & Iris-virginica\\\\\n",
       "\t 6.4            & 3.1            & 5.5            & 1.8            & Iris-virginica\\\\\n",
       "\t 6.0            & 3.0            & 4.8            & 1.8            & Iris-virginica\\\\\n",
       "\t 6.9            & 3.1            & 5.4            & 2.1            & Iris-virginica\\\\\n",
       "\t 6.7            & 3.1            & 5.6            & 2.4            & Iris-virginica\\\\\n",
       "\t 6.9            & 3.1            & 5.1            & 2.3            & Iris-virginica\\\\\n",
       "\t 5.8            & 2.7            & 5.1            & 1.9            & Iris-virginica\\\\\n",
       "\t 6.8            & 3.2            & 5.9            & 2.3            & Iris-virginica\\\\\n",
       "\t 6.7            & 3.3            & 5.7            & 2.5            & Iris-virginica\\\\\n",
       "\t 6.7            & 3.0            & 5.2            & 2.3            & Iris-virginica\\\\\n",
       "\t 6.3            & 2.5            & 5.0            & 1.9            & Iris-virginica\\\\\n",
       "\t 6.5            & 3.0            & 5.2            & 2.0            & Iris-virginica\\\\\n",
       "\t 6.2            & 3.4            & 5.4            & 2.3            & Iris-virginica\\\\\n",
       "\t 5.9            & 3.0            & 5.1            & 1.8            & Iris-virginica\\\\\n",
       "\\end{tabular}\n"
      ],
      "text/markdown": [
       "\n",
       "| Sepal.Length | Sepal.Width | Petal.Length | Petal.Width | Species |\n",
       "|---|---|---|---|---|\n",
       "| 5.1         | 3.5         | 1.4         | 0.2         | Iris-setosa |\n",
       "| 4.9         | 3.0         | 1.4         | 0.2         | Iris-setosa |\n",
       "| 4.7         | 3.2         | 1.3         | 0.2         | Iris-setosa |\n",
       "| 4.6         | 3.1         | 1.5         | 0.2         | Iris-setosa |\n",
       "| 5.0         | 3.6         | 1.4         | 0.2         | Iris-setosa |\n",
       "| 5.4         | 3.9         | 1.7         | 0.4         | Iris-setosa |\n",
       "| 4.6         | 3.4         | 1.4         | 0.3         | Iris-setosa |\n",
       "| 5.0         | 3.4         | 1.5         | 0.2         | Iris-setosa |\n",
       "| 4.4         | 2.9         | 1.4         | 0.2         | Iris-setosa |\n",
       "| 4.9         | 3.1         | 1.5         | 0.1         | Iris-setosa |\n",
       "| 5.4         | 3.7         | 1.5         | 0.2         | Iris-setosa |\n",
       "| 4.8         | 3.4         | 1.6         | 0.2         | Iris-setosa |\n",
       "| 4.8         | 3.0         | 1.4         | 0.1         | Iris-setosa |\n",
       "| 4.3         | 3.0         | 1.1         | 0.1         | Iris-setosa |\n",
       "| 5.8         | 4.0         | 1.2         | 0.2         | Iris-setosa |\n",
       "| 5.7         | 4.4         | 1.5         | 0.4         | Iris-setosa |\n",
       "| 5.4         | 3.9         | 1.3         | 0.4         | Iris-setosa |\n",
       "| 5.1         | 3.5         | 1.4         | 0.3         | Iris-setosa |\n",
       "| 5.7         | 3.8         | 1.7         | 0.3         | Iris-setosa |\n",
       "| 5.1         | 3.8         | 1.5         | 0.3         | Iris-setosa |\n",
       "| 5.4         | 3.4         | 1.7         | 0.2         | Iris-setosa |\n",
       "| 5.1         | 3.7         | 1.5         | 0.4         | Iris-setosa |\n",
       "| 4.6         | 3.6         | 1.0         | 0.2         | Iris-setosa |\n",
       "| 5.1         | 3.3         | 1.7         | 0.5         | Iris-setosa |\n",
       "| 4.8         | 3.4         | 1.9         | 0.2         | Iris-setosa |\n",
       "| 5.0         | 3.0         | 1.6         | 0.2         | Iris-setosa |\n",
       "| 5.0         | 3.4         | 1.6         | 0.4         | Iris-setosa |\n",
       "| 5.2         | 3.5         | 1.5         | 0.2         | Iris-setosa |\n",
       "| 5.2         | 3.4         | 1.4         | 0.2         | Iris-setosa |\n",
       "| 4.7         | 3.2         | 1.6         | 0.2         | Iris-setosa |\n",
       "| ... | ... | ... | ... | ... |\n",
       "| 6.9            | 3.2            | 5.7            | 2.3            | Iris-virginica |\n",
       "| 5.6            | 2.8            | 4.9            | 2.0            | Iris-virginica |\n",
       "| 7.7            | 2.8            | 6.7            | 2.0            | Iris-virginica |\n",
       "| 6.3            | 2.7            | 4.9            | 1.8            | Iris-virginica |\n",
       "| 6.7            | 3.3            | 5.7            | 2.1            | Iris-virginica |\n",
       "| 7.2            | 3.2            | 6.0            | 1.8            | Iris-virginica |\n",
       "| 6.2            | 2.8            | 4.8            | 1.8            | Iris-virginica |\n",
       "| 6.1            | 3.0            | 4.9            | 1.8            | Iris-virginica |\n",
       "| 6.4            | 2.8            | 5.6            | 2.1            | Iris-virginica |\n",
       "| 7.2            | 3.0            | 5.8            | 1.6            | Iris-virginica |\n",
       "| 7.4            | 2.8            | 6.1            | 1.9            | Iris-virginica |\n",
       "| 7.9            | 3.8            | 6.4            | 2.0            | Iris-virginica |\n",
       "| 6.4            | 2.8            | 5.6            | 2.2            | Iris-virginica |\n",
       "| 6.3            | 2.8            | 5.1            | 1.5            | Iris-virginica |\n",
       "| 6.1            | 2.6            | 5.6            | 1.4            | Iris-virginica |\n",
       "| 7.7            | 3.0            | 6.1            | 2.3            | Iris-virginica |\n",
       "| 6.3            | 3.4            | 5.6            | 2.4            | Iris-virginica |\n",
       "| 6.4            | 3.1            | 5.5            | 1.8            | Iris-virginica |\n",
       "| 6.0            | 3.0            | 4.8            | 1.8            | Iris-virginica |\n",
       "| 6.9            | 3.1            | 5.4            | 2.1            | Iris-virginica |\n",
       "| 6.7            | 3.1            | 5.6            | 2.4            | Iris-virginica |\n",
       "| 6.9            | 3.1            | 5.1            | 2.3            | Iris-virginica |\n",
       "| 5.8            | 2.7            | 5.1            | 1.9            | Iris-virginica |\n",
       "| 6.8            | 3.2            | 5.9            | 2.3            | Iris-virginica |\n",
       "| 6.7            | 3.3            | 5.7            | 2.5            | Iris-virginica |\n",
       "| 6.7            | 3.0            | 5.2            | 2.3            | Iris-virginica |\n",
       "| 6.3            | 2.5            | 5.0            | 1.9            | Iris-virginica |\n",
       "| 6.5            | 3.0            | 5.2            | 2.0            | Iris-virginica |\n",
       "| 6.2            | 3.4            | 5.4            | 2.3            | Iris-virginica |\n",
       "| 5.9            | 3.0            | 5.1            | 1.8            | Iris-virginica |\n",
       "\n"
      ],
      "text/plain": [
       "    Sepal.Length Sepal.Width Petal.Length Petal.Width Species       \n",
       "1   5.1          3.5         1.4          0.2         Iris-setosa   \n",
       "2   4.9          3.0         1.4          0.2         Iris-setosa   \n",
       "3   4.7          3.2         1.3          0.2         Iris-setosa   \n",
       "4   4.6          3.1         1.5          0.2         Iris-setosa   \n",
       "5   5.0          3.6         1.4          0.2         Iris-setosa   \n",
       "6   5.4          3.9         1.7          0.4         Iris-setosa   \n",
       "7   4.6          3.4         1.4          0.3         Iris-setosa   \n",
       "8   5.0          3.4         1.5          0.2         Iris-setosa   \n",
       "9   4.4          2.9         1.4          0.2         Iris-setosa   \n",
       "10  4.9          3.1         1.5          0.1         Iris-setosa   \n",
       "11  5.4          3.7         1.5          0.2         Iris-setosa   \n",
       "12  4.8          3.4         1.6          0.2         Iris-setosa   \n",
       "13  4.8          3.0         1.4          0.1         Iris-setosa   \n",
       "14  4.3          3.0         1.1          0.1         Iris-setosa   \n",
       "15  5.8          4.0         1.2          0.2         Iris-setosa   \n",
       "16  5.7          4.4         1.5          0.4         Iris-setosa   \n",
       "17  5.4          3.9         1.3          0.4         Iris-setosa   \n",
       "18  5.1          3.5         1.4          0.3         Iris-setosa   \n",
       "19  5.7          3.8         1.7          0.3         Iris-setosa   \n",
       "20  5.1          3.8         1.5          0.3         Iris-setosa   \n",
       "21  5.4          3.4         1.7          0.2         Iris-setosa   \n",
       "22  5.1          3.7         1.5          0.4         Iris-setosa   \n",
       "23  4.6          3.6         1.0          0.2         Iris-setosa   \n",
       "24  5.1          3.3         1.7          0.5         Iris-setosa   \n",
       "25  4.8          3.4         1.9          0.2         Iris-setosa   \n",
       "26  5.0          3.0         1.6          0.2         Iris-setosa   \n",
       "27  5.0          3.4         1.6          0.4         Iris-setosa   \n",
       "28  5.2          3.5         1.5          0.2         Iris-setosa   \n",
       "29  5.2          3.4         1.4          0.2         Iris-setosa   \n",
       "30  4.7          3.2         1.6          0.2         Iris-setosa   \n",
       "... ...          ...         ...          ...         ...           \n",
       "121 6.9          3.2         5.7          2.3         Iris-virginica\n",
       "122 5.6          2.8         4.9          2.0         Iris-virginica\n",
       "123 7.7          2.8         6.7          2.0         Iris-virginica\n",
       "124 6.3          2.7         4.9          1.8         Iris-virginica\n",
       "125 6.7          3.3         5.7          2.1         Iris-virginica\n",
       "126 7.2          3.2         6.0          1.8         Iris-virginica\n",
       "127 6.2          2.8         4.8          1.8         Iris-virginica\n",
       "128 6.1          3.0         4.9          1.8         Iris-virginica\n",
       "129 6.4          2.8         5.6          2.1         Iris-virginica\n",
       "130 7.2          3.0         5.8          1.6         Iris-virginica\n",
       "131 7.4          2.8         6.1          1.9         Iris-virginica\n",
       "132 7.9          3.8         6.4          2.0         Iris-virginica\n",
       "133 6.4          2.8         5.6          2.2         Iris-virginica\n",
       "134 6.3          2.8         5.1          1.5         Iris-virginica\n",
       "135 6.1          2.6         5.6          1.4         Iris-virginica\n",
       "136 7.7          3.0         6.1          2.3         Iris-virginica\n",
       "137 6.3          3.4         5.6          2.4         Iris-virginica\n",
       "138 6.4          3.1         5.5          1.8         Iris-virginica\n",
       "139 6.0          3.0         4.8          1.8         Iris-virginica\n",
       "140 6.9          3.1         5.4          2.1         Iris-virginica\n",
       "141 6.7          3.1         5.6          2.4         Iris-virginica\n",
       "142 6.9          3.1         5.1          2.3         Iris-virginica\n",
       "143 5.8          2.7         5.1          1.9         Iris-virginica\n",
       "144 6.8          3.2         5.9          2.3         Iris-virginica\n",
       "145 6.7          3.3         5.7          2.5         Iris-virginica\n",
       "146 6.7          3.0         5.2          2.3         Iris-virginica\n",
       "147 6.3          2.5         5.0          1.9         Iris-virginica\n",
       "148 6.5          3.0         5.2          2.0         Iris-virginica\n",
       "149 6.2          3.4         5.4          2.3         Iris-virginica\n",
       "150 5.9          3.0         5.1          1.8         Iris-virginica"
      ]
     },
     "metadata": {},
     "output_type": "display_data"
    }
   ],
   "source": [
    "library(feather)\n",
    "write_feather(iris,'../data/iris.feather')\n",
    "\n",
    "read_feather('../data/iris.feather')"
   ]
  },
  {
   "cell_type": "code",
   "execution_count": 77,
   "metadata": {},
   "outputs": [
    {
     "ename": "ERROR",
     "evalue": "Error in library(pryr): there is no package called ‘pryr’\n",
     "output_type": "error",
     "traceback": [
      "Error in library(pryr): there is no package called ‘pryr’\nTraceback:\n",
      "1. library(pryr)"
     ]
    }
   ],
   "source": [
    "library(pryr)"
   ]
  },
  {
   "cell_type": "code",
   "execution_count": 78,
   "metadata": {},
   "outputs": [
    {
     "name": "stderr",
     "output_type": "stream",
     "text": [
      "\n",
      "Attaching package: ‘lubridate’\n",
      "\n",
      "The following object is masked from ‘package:base’:\n",
      "\n",
      "    date\n",
      "\n"
     ]
    }
   ],
   "source": [
    "library(lubridate)"
   ]
  },
  {
   "cell_type": "code",
   "execution_count": null,
   "metadata": {},
   "outputs": [],
   "source": []
  }
 ],
 "metadata": {
  "kernelspec": {
   "display_name": "R",
   "language": "R",
   "name": "ir"
  },
  "language_info": {
   "codemirror_mode": "r",
   "file_extension": ".r",
   "mimetype": "text/x-r-source",
   "name": "R",
   "pygments_lexer": "r",
   "version": "3.6.1"
  }
 },
 "nbformat": 4,
 "nbformat_minor": 4
}

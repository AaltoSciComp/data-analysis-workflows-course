{
 "cells": [
  {
   "cell_type": "markdown",
   "metadata": {},
   "source": [
    "# Chapter 2\n",
    "\n",
    "## Exercise 1\n",
    "\n",
    "In this exercise we'll create input parsing functions that parse datasets of [Premier League results](https://github.com/footballcsv/england)."
   ]
  },
  {
   "cell_type": "code",
   "execution_count": 1,
   "metadata": {},
   "outputs": [
    {
     "name": "stderr",
     "output_type": "stream",
     "text": [
      "Registered S3 methods overwritten by 'ggplot2':\n",
      "  method         from \n",
      "  [.quosures     rlang\n",
      "  c.quosures     rlang\n",
      "  print.quosures rlang\n",
      "Registered S3 method overwritten by 'rvest':\n",
      "  method            from\n",
      "  read_xml.response xml2\n",
      "── Attaching packages ─────────────────────────────────────── tidyverse 1.2.1 ──\n",
      "✔ ggplot2 3.1.1       ✔ purrr   0.3.2  \n",
      "✔ tibble  2.1.1       ✔ dplyr   0.8.0.1\n",
      "✔ tidyr   0.8.3       ✔ stringr 1.4.0  \n",
      "✔ readr   1.3.1       ✔ forcats 0.4.0  \n",
      "── Conflicts ────────────────────────────────────────── tidyverse_conflicts() ──\n",
      "✖ dplyr::filter() masks stats::filter()\n",
      "✖ dplyr::lag()    masks stats::lag()\n",
      "\n",
      "Attaching package: ‘lubridate’\n",
      "\n",
      "The following object is masked from ‘package:base’:\n",
      "\n",
      "    date\n",
      "\n"
     ]
    }
   ],
   "source": [
    "library(tidyverse)\n",
    "library(lubridate)"
   ]
  },
  {
   "cell_type": "markdown",
   "metadata": {},
   "source": [
    "## Problem 1\n",
    "\n",
    "- Look at the one of the `./data/england-master/XXXXs/XXXX-XX/eng.1.csv`-datasets.\n",
    "- Determine whether the data is in a tidy format.\n",
    "- If not, how would you modify the data format?\n",
    "\n",
    "You can use the markdown cell below to keep notes."
   ]
  },
  {
   "cell_type": "markdown",
   "metadata": {},
   "source": [
    "## Solution to problem 1\n",
    "\n",
    "Solution is given in the preamble to problem 3."
   ]
  },
  {
   "cell_type": "markdown",
   "metadata": {},
   "source": [
    "## Problem 2\n",
    "\n",
    "Create a function `load_matches` that does the following:\n",
    "\n",
    "- It takes a single csv file from the `../data/england-master/XXXXs/XXXX-XX/eng.1.csv`-datasets.\n",
    "- It reads the csv.\n",
    "- It converts Date into a proper POSIXct time object.\n",
    "- It determines the season of the dataset and stores it into column `Season`. E.g. data files in 2019-20 have season 2019.\n",
    "- It returns the dataset.\n",
    "\n",
    "Hint: [year](https://lubridate.tidyverse.org/reference/year.html), [min](https://www.rdocumentation.org/packages/base/versions/3.6.2/topics/Extremes) and [parse_date_time](https://lubridate.tidyverse.org/reference/parse_date_time.html) might be of interest. If you have problems with day/month name parsing, do set `locale='C'` as an argument."
   ]
  },
  {
   "cell_type": "code",
   "execution_count": 2,
   "metadata": {},
   "outputs": [],
   "source": [
    "load_matches <- function(datafile) {\n",
    "    matches <- read_csv(datafile, col_types=cols()) %>%\n",
    "        mutate(Date=parse_date_time(Date, order='%a %b %d %Y', locale='C')) %>%\n",
    "        mutate(Season=min(year(Date)))\n",
    "    return(matches)\n",
    "}"
   ]
  },
  {
   "cell_type": "code",
   "execution_count": 3,
   "metadata": {},
   "outputs": [
    {
     "data": {
      "text/html": [
       "<table>\n",
       "<thead><tr><th scope=col>Round</th><th scope=col>Date</th><th scope=col>Team 1</th><th scope=col>FT</th><th scope=col>Team 2</th><th scope=col>Season</th></tr></thead>\n",
       "<tbody>\n",
       "\t<tr><td>1                        </td><td>2019-08-09               </td><td>Liverpool FC             </td><td>4-1                      </td><td>Norwich City FC          </td><td>2019                     </td></tr>\n",
       "\t<tr><td>1                        </td><td>2019-08-10               </td><td>West Ham United FC       </td><td>0-5                      </td><td>Manchester City FC       </td><td>2019                     </td></tr>\n",
       "\t<tr><td>1                        </td><td>2019-08-10               </td><td>Burnley FC               </td><td>3-0                      </td><td>Southampton FC           </td><td>2019                     </td></tr>\n",
       "\t<tr><td>1                        </td><td>2019-08-10               </td><td>AFC Bournemouth          </td><td>1-1                      </td><td>Sheffield United FC      </td><td>2019                     </td></tr>\n",
       "\t<tr><td>1                        </td><td>2019-08-10               </td><td>Crystal Palace FC        </td><td>0-0                      </td><td>Everton FC               </td><td>2019                     </td></tr>\n",
       "\t<tr><td>1                                                         </td><td>2019-08-10                                                </td><td><span style=white-space:pre-wrap>Watford FC        </span></td><td>0-3                                                       </td><td>Brighton &amp; Hove Albion FC                             </td><td>2019                                                      </td></tr>\n",
       "</tbody>\n",
       "</table>\n"
      ],
      "text/latex": [
       "\\begin{tabular}{r|llllll}\n",
       " Round & Date & Team 1 & FT & Team 2 & Season\\\\\n",
       "\\hline\n",
       "\t 1                         & 2019-08-09                & Liverpool FC              & 4-1                       & Norwich City FC           & 2019                     \\\\\n",
       "\t 1                         & 2019-08-10                & West Ham United FC        & 0-5                       & Manchester City FC        & 2019                     \\\\\n",
       "\t 1                         & 2019-08-10                & Burnley FC                & 3-0                       & Southampton FC            & 2019                     \\\\\n",
       "\t 1                         & 2019-08-10                & AFC Bournemouth           & 1-1                       & Sheffield United FC       & 2019                     \\\\\n",
       "\t 1                         & 2019-08-10                & Crystal Palace FC         & 0-0                       & Everton FC                & 2019                     \\\\\n",
       "\t 1                           & 2019-08-10                  & Watford FC                  & 0-3                         & Brighton \\& Hove Albion FC & 2019                       \\\\\n",
       "\\end{tabular}\n"
      ],
      "text/markdown": [
       "\n",
       "| Round | Date | Team 1 | FT | Team 2 | Season |\n",
       "|---|---|---|---|---|---|\n",
       "| 1                         | 2019-08-09                | Liverpool FC              | 4-1                       | Norwich City FC           | 2019                      |\n",
       "| 1                         | 2019-08-10                | West Ham United FC        | 0-5                       | Manchester City FC        | 2019                      |\n",
       "| 1                         | 2019-08-10                | Burnley FC                | 3-0                       | Southampton FC            | 2019                      |\n",
       "| 1                         | 2019-08-10                | AFC Bournemouth           | 1-1                       | Sheffield United FC       | 2019                      |\n",
       "| 1                         | 2019-08-10                | Crystal Palace FC         | 0-0                       | Everton FC                | 2019                      |\n",
       "| 1                         | 2019-08-10                | Watford FC                | 0-3                       | Brighton & Hove Albion FC | 2019                      |\n",
       "\n"
      ],
      "text/plain": [
       "  Round Date       Team 1             FT  Team 2                    Season\n",
       "1 1     2019-08-09 Liverpool FC       4-1 Norwich City FC           2019  \n",
       "2 1     2019-08-10 West Ham United FC 0-5 Manchester City FC        2019  \n",
       "3 1     2019-08-10 Burnley FC         3-0 Southampton FC            2019  \n",
       "4 1     2019-08-10 AFC Bournemouth    1-1 Sheffield United FC       2019  \n",
       "5 1     2019-08-10 Crystal Palace FC  0-0 Everton FC                2019  \n",
       "6 1     2019-08-10 Watford FC         0-3 Brighton & Hove Albion FC 2019  "
      ]
     },
     "metadata": {},
     "output_type": "display_data"
    }
   ],
   "source": [
    "matches_19 = load_matches('../data/england-master/2010s/2019-20/eng.1.csv')\n",
    "head(matches_19)"
   ]
  },
  {
   "cell_type": "markdown",
   "metadata": {},
   "source": [
    "## Preamble for problem 3\n",
    "\n",
    "We want to convert our data into a tidy format with the following columns:\n",
    "\n",
    "- `Round` - same as initial data\n",
    "- `Date` - same as initial data\n",
    "- `Team` - new column that tells which team is in question\n",
    "- `Opponent` - new column that tells who was the opponent for the `Team`\n",
    "- `Season` - same as initial data\n",
    "- `ScoredGoals` - new column that tells how many goals the `Team` scored\n",
    "- `AllowedGoals` - new column that tells how many goals the `Team` allowed\n",
    "- `Side` - new column that tells whether the `Team` played on the `Home`-side or on the `Away`-side.\n",
    "- `Result` - new column that tells the result from values `Win`, `Loss` or `Draw`\n",
    "- `Points` - new column that lists the amount of league points the team received from the game (3 for `Win`, 1 for `Draw`, 0 for `Loss`)\n",
    "\n",
    "The output of this formatting function should look something like this:\n",
    "\n",
    "|Round|Date|Team|Opponent|Season|ScoredGoals|AllowedGoals|Side|Result|Points|\n",
    "|-|-|-|-|-|-|-|-|-|-|\n",
    "|1|2019-08-09|Liverpool FC|Norwich City FC|2019|4|1|Home|Win|3|\n",
    "|1|2019-08-10|West Ham United FC|Manchester City FC|2019|0|5|Home|Loss|0|\n",
    "\n",
    "Do note that in this tidy format we have doubled the amount of rows: the original format had two results, one win and one loss, encoded into the column `FT`.\n",
    "\n",
    "In our new format we have two differents states: one from both perspectives. This allows us to calculate e.g. `Points`, which are allocated in an asymmetric fashion (if the match wasn't a draw).\n",
    "\n",
    "## Problem 3\n",
    "\n",
    "Let's create a function `format_matches`, which takes a single DataFrame created by `load_matches` and converts the data into our desired data format:\n",
    "\n",
    "- Use [separate](https://tidyr.tidyverse.org/reference/separate.html) to extract `HomeGoals` and `AwayGoals` from the `FT`-column. Convert these columns into integers.\n",
    "- Drop unneeded `FT`-column.\n",
    "- Create two copies of the initial dataset: one from the away perspective and one from the home team perspective.\n",
    "- For home side:\n",
    "    - Set `Side` to `Home`.\n",
    "    - Rename `Team 1` to `Team`, `Team 2` to `Opponent`, `Homegoals` to `ScoredGoals` and `AwayGoals` to `AllowedGoals`.\n",
    "    - Set `Result` to `Win` if home team one, `Draw`, if match was a draw and `Loss` if away team won.\n",
    "- For away side:\n",
    "    - Set `Side` to `Away`.\n",
    "    - Rename `Team 1` to `Opponent`, `Team 2` to `Team`, `Homegoals` to `AllowedGoals` and `AwayGoals` to `ScoredGoals`.\n",
    "    - Set `Result` to `Loss` if home team one, `Draw`, if match was a draw and `Win` if away team won.\n",
    "- Concatenate both home- and away-datasets together to get all matches.\n",
    "- Create column `Points` and fill it based on the `Result`-column. 3 points for a `Win`, 1 point for a `Draw` and 0 points for a `Loss`.\n",
    "\n",
    "Hint: You can use [logical indexing](https://bookdown.org/ndphillips/YaRrr/logical-indexing.html) to test which team won based on `HomeGoals` and `AwayGoals`."
   ]
  },
  {
   "cell_type": "code",
   "execution_count": 4,
   "metadata": {},
   "outputs": [],
   "source": [
    "format_matches <- function(matches) {\n",
    "    matches <- matches %>%\n",
    "        separate('FT', c('HomeGoals','AwayGoals')) %>%\n",
    "        mutate(\n",
    "            HomeGoals=as.numeric(HomeGoals),\n",
    "            AwayGoals=as.numeric(AwayGoals),\n",
    "        )\n",
    "    home_wins <- matches['HomeGoals'] > matches['AwayGoals']\n",
    "    draws <- matches['HomeGoals'] == matches['AwayGoals']\n",
    "    away_wins <- !(home_wins|draws)\n",
    "    \n",
    "    home_matches <- matches %>%\n",
    "        mutate(Side='Home') %>%\n",
    "        rename(Team='Team 1', Opponent='Team 2', ScoredGoals=HomeGoals, AllowedGoals=AwayGoals)\n",
    "    home_matches[home_wins, 'Result'] <- 'Win'\n",
    "    home_matches[draws, 'Result'] <- 'Draw'\n",
    "    home_matches[away_wins, 'Result'] <- 'Loss'\n",
    "\n",
    "    away_matches <- matches %>%\n",
    "        mutate(Side='Away') %>%\n",
    "        rename(Team='Team 2', Opponent='Team 1', ScoredGoals=AwayGoals, AllowedGoals=HomeGoals)\n",
    "    away_matches[home_wins, 'Result'] <- 'Loss'\n",
    "    away_matches[draws, 'Result'] <- 'Draw'\n",
    "    away_matches[away_wins, 'Result'] <- 'Win'\n",
    "    \n",
    "    all_matches <- bind_rows(home_matches, away_matches)\n",
    "    \n",
    "    all_matches['Points'] <- 0\n",
    "    all_matches[all_matches['Result'] == 'Win', 'Points'] <- 3\n",
    "    all_matches[all_matches['Result'] == 'Draw', 'Points'] <- 1\n",
    "    return(all_matches)\n",
    "    \n",
    "}"
   ]
  },
  {
   "cell_type": "code",
   "execution_count": 5,
   "metadata": {},
   "outputs": [
    {
     "data": {
      "text/html": [
       "<table>\n",
       "<thead><tr><th scope=col>Round</th><th scope=col>Date</th><th scope=col>Team</th><th scope=col>ScoredGoals</th><th scope=col>AllowedGoals</th><th scope=col>Opponent</th><th scope=col>Season</th><th scope=col>Side</th><th scope=col>Result</th><th scope=col>Points</th></tr></thead>\n",
       "<tbody>\n",
       "\t<tr><td>1                        </td><td>2019-08-09               </td><td>Liverpool FC             </td><td>4                        </td><td>1                        </td><td>Norwich City FC          </td><td>2019                     </td><td>Home                     </td><td>Win                      </td><td>3                        </td></tr>\n",
       "\t<tr><td>1                        </td><td>2019-08-10               </td><td>West Ham United FC       </td><td>0                        </td><td>5                        </td><td>Manchester City FC       </td><td>2019                     </td><td>Home                     </td><td>Loss                     </td><td>0                        </td></tr>\n",
       "\t<tr><td>1                        </td><td>2019-08-10               </td><td>Burnley FC               </td><td>3                        </td><td>0                        </td><td>Southampton FC           </td><td>2019                     </td><td>Home                     </td><td>Win                      </td><td>3                        </td></tr>\n",
       "\t<tr><td>1                        </td><td>2019-08-10               </td><td>AFC Bournemouth          </td><td>1                        </td><td>1                        </td><td>Sheffield United FC      </td><td>2019                     </td><td>Home                     </td><td>Draw                     </td><td>1                        </td></tr>\n",
       "\t<tr><td>1                        </td><td>2019-08-10               </td><td>Crystal Palace FC        </td><td>0                        </td><td>0                        </td><td>Everton FC               </td><td>2019                     </td><td>Home                     </td><td>Draw                     </td><td>1                        </td></tr>\n",
       "\t<tr><td>1                                                         </td><td>2019-08-10                                                </td><td><span style=white-space:pre-wrap>Watford FC        </span></td><td>0                                                         </td><td>3                                                         </td><td>Brighton &amp; Hove Albion FC                             </td><td>2019                                                      </td><td>Home                                                      </td><td>Loss                                                      </td><td>0                                                         </td></tr>\n",
       "</tbody>\n",
       "</table>\n"
      ],
      "text/latex": [
       "\\begin{tabular}{r|llllllllll}\n",
       " Round & Date & Team & ScoredGoals & AllowedGoals & Opponent & Season & Side & Result & Points\\\\\n",
       "\\hline\n",
       "\t 1                         & 2019-08-09                & Liverpool FC              & 4                         & 1                         & Norwich City FC           & 2019                      & Home                      & Win                       & 3                        \\\\\n",
       "\t 1                         & 2019-08-10                & West Ham United FC        & 0                         & 5                         & Manchester City FC        & 2019                      & Home                      & Loss                      & 0                        \\\\\n",
       "\t 1                         & 2019-08-10                & Burnley FC                & 3                         & 0                         & Southampton FC            & 2019                      & Home                      & Win                       & 3                        \\\\\n",
       "\t 1                         & 2019-08-10                & AFC Bournemouth           & 1                         & 1                         & Sheffield United FC       & 2019                      & Home                      & Draw                      & 1                        \\\\\n",
       "\t 1                         & 2019-08-10                & Crystal Palace FC         & 0                         & 0                         & Everton FC                & 2019                      & Home                      & Draw                      & 1                        \\\\\n",
       "\t 1                           & 2019-08-10                  & Watford FC                  & 0                           & 3                           & Brighton \\& Hove Albion FC & 2019                        & Home                        & Loss                        & 0                          \\\\\n",
       "\\end{tabular}\n"
      ],
      "text/markdown": [
       "\n",
       "| Round | Date | Team | ScoredGoals | AllowedGoals | Opponent | Season | Side | Result | Points |\n",
       "|---|---|---|---|---|---|---|---|---|---|\n",
       "| 1                         | 2019-08-09                | Liverpool FC              | 4                         | 1                         | Norwich City FC           | 2019                      | Home                      | Win                       | 3                         |\n",
       "| 1                         | 2019-08-10                | West Ham United FC        | 0                         | 5                         | Manchester City FC        | 2019                      | Home                      | Loss                      | 0                         |\n",
       "| 1                         | 2019-08-10                | Burnley FC                | 3                         | 0                         | Southampton FC            | 2019                      | Home                      | Win                       | 3                         |\n",
       "| 1                         | 2019-08-10                | AFC Bournemouth           | 1                         | 1                         | Sheffield United FC       | 2019                      | Home                      | Draw                      | 1                         |\n",
       "| 1                         | 2019-08-10                | Crystal Palace FC         | 0                         | 0                         | Everton FC                | 2019                      | Home                      | Draw                      | 1                         |\n",
       "| 1                         | 2019-08-10                | Watford FC                | 0                         | 3                         | Brighton & Hove Albion FC | 2019                      | Home                      | Loss                      | 0                         |\n",
       "\n"
      ],
      "text/plain": [
       "  Round Date       Team               ScoredGoals AllowedGoals\n",
       "1 1     2019-08-09 Liverpool FC       4           1           \n",
       "2 1     2019-08-10 West Ham United FC 0           5           \n",
       "3 1     2019-08-10 Burnley FC         3           0           \n",
       "4 1     2019-08-10 AFC Bournemouth    1           1           \n",
       "5 1     2019-08-10 Crystal Palace FC  0           0           \n",
       "6 1     2019-08-10 Watford FC         0           3           \n",
       "  Opponent                  Season Side Result Points\n",
       "1 Norwich City FC           2019   Home Win    3     \n",
       "2 Manchester City FC        2019   Home Loss   0     \n",
       "3 Southampton FC            2019   Home Win    3     \n",
       "4 Sheffield United FC       2019   Home Draw   1     \n",
       "5 Everton FC                2019   Home Draw   1     \n",
       "6 Brighton & Hove Albion FC 2019   Home Loss   0     "
      ]
     },
     "metadata": {},
     "output_type": "display_data"
    }
   ],
   "source": [
    "matches_19 <- format_matches(matches_19)\n",
    "head(matches_19)"
   ]
  },
  {
   "cell_type": "markdown",
   "metadata": {},
   "source": [
    "## Problem 4\n",
    "\n",
    "- Create a function `clean_matches`, which converts `Team`-, `Opponent`- and `Result`-categories from a dataset produced by our `format_matches` into categorical datatype.\n",
    "- Think why this step needs to be a separate function. Why couldn't these steps be part of the `format_matches`-function?"
   ]
  },
  {
   "cell_type": "code",
   "execution_count": 6,
   "metadata": {},
   "outputs": [],
   "source": [
    "clean_matches <- function(matches) {\n",
    "    matches <- matches %>%\n",
    "        mutate_at(c('Team','Opponent','Result'), as.factor)\n",
    "    return(matches)\n",
    "}"
   ]
  },
  {
   "cell_type": "code",
   "execution_count": 7,
   "metadata": {},
   "outputs": [
    {
     "name": "stdout",
     "output_type": "stream",
     "text": [
      "Classes ‘tbl_df’, ‘tbl’ and 'data.frame':\t760 obs. of  10 variables:\n",
      " $ Round       : num  1 1 1 1 1 1 1 1 1 1 ...\n",
      " $ Date        : POSIXct, format: \"2019-08-09\" \"2019-08-10\" ...\n",
      " $ Team        : Factor w/ 20 levels \"AFC Bournemouth\",..: 10 19 5 1 7 18 17 9 13 12 ...\n",
      " $ ScoredGoals : num  4 0 3 1 0 0 3 0 0 4 ...\n",
      " $ AllowedGoals: num  1 5 0 1 0 3 1 0 1 0 ...\n",
      " $ Opponent    : Factor w/ 20 levels \"AFC Bournemouth\",..: 14 11 16 15 8 4 3 20 2 6 ...\n",
      " $ Season      : num  2019 2019 2019 2019 2019 ...\n",
      " $ Side        : chr  \"Home\" \"Home\" \"Home\" \"Home\" ...\n",
      " $ Result      : Factor w/ 3 levels \"Draw\",\"Loss\",..: 3 2 3 1 1 2 3 1 2 3 ...\n",
      " $ Points      : num  3 0 3 1 1 0 3 1 0 3 ...\n"
     ]
    }
   ],
   "source": [
    "matches_19 = clean_matches(matches_19)\n",
    "str(matches_19)"
   ]
  },
  {
   "cell_type": "markdown",
   "metadata": {},
   "source": [
    "## Problem 5\n",
    "\n",
    "Create a function `read_matches` which, given the directory `../data/england-master/` and a list of seasons, does the following:\n",
    "\n",
    "- Iterates over the given seasons\n",
    "- Determines the correct data file based on season\n",
    "- Loads the data using `load_matches` and formats the data using `format_matches`\n",
    "- Concatenates different datasets together\n",
    "- Runs `clean_matches` on the combined dataset\n",
    "- Returns cleaned dataset with multiple seasons\n",
    "\n",
    "Hint: [Lists](https://www.rdocumentation.org/packages/base/versions/3.6.2/topics/list), [append](https://www.rdocumentation.org/packages/base/versions/3.6.2/topics/append), [String formatting](https://www.gastonsanchez.com/r4strings/c-style-formatting.html) with [sprintf](https://www.rdocumentation.org/packages/base/versions/3.6.2/topics/sprintf), [paste](https://www.rdocumentation.org/packages/base/versions/3.6.2/topics/paste) and [floor](https://stat.ethz.ch/R-manual/R-patched/library/base/html/Round.html) might be of interest."
   ]
  },
  {
   "cell_type": "code",
   "execution_count": 8,
   "metadata": {},
   "outputs": [],
   "source": [
    "read_matches <- function(matchfolder, seasons){\n",
    "    datasets = list()\n",
    "    for (season in seasons) {\n",
    "        decadestr <- sprintf('%d0s',floor(season/10))\n",
    "        seasonstr <- sprintf('%d-%02d', season, floor(as.numeric(substr(as.character(season),2,4))+1)%%100)\n",
    "        datapath <- paste(matchfolder, decadestr, seasonstr,'eng.1.csv', sep='/')\n",
    "        dataset <- format_matches(load_matches(datapath))\n",
    "        datasets <- append(datasets, list(dataset))\n",
    "    }\n",
    "    match_data <- clean_matches(bind_rows(datasets))\n",
    "    return(match_data)\n",
    "}"
   ]
  },
  {
   "cell_type": "code",
   "execution_count": 9,
   "metadata": {},
   "outputs": [
    {
     "data": {
      "text/html": [
       "<table>\n",
       "<thead><tr><th scope=col>Round</th><th scope=col>Date</th><th scope=col>Team</th><th scope=col>ScoredGoals</th><th scope=col>AllowedGoals</th><th scope=col>Opponent</th><th scope=col>Season</th><th scope=col>Side</th><th scope=col>Result</th><th scope=col>Points</th></tr></thead>\n",
       "<tbody>\n",
       "\t<tr><td>1                   </td><td>1992-08-15          </td><td>Arsenal FC          </td><td>2                   </td><td>4                   </td><td>Norwich City FC     </td><td>1992                </td><td>Home                </td><td>Loss                </td><td>0                   </td></tr>\n",
       "\t<tr><td>1                   </td><td>1992-08-15          </td><td>Leeds United FC     </td><td>2                   </td><td>1                   </td><td>Wimbledon FC        </td><td>1992                </td><td>Home                </td><td>Win                 </td><td>3                   </td></tr>\n",
       "\t<tr><td>1                   </td><td>1992-08-15          </td><td>Coventry City FC    </td><td>2                   </td><td>1                   </td><td>Middlesbrough FC    </td><td>1992                </td><td>Home                </td><td>Win                 </td><td>3                   </td></tr>\n",
       "\t<tr><td>1                   </td><td>1992-08-15          </td><td>Ipswich Town FC     </td><td>1                   </td><td>1                   </td><td>Aston Villa FC      </td><td>1992                </td><td>Home                </td><td>Draw                </td><td>1                   </td></tr>\n",
       "\t<tr><td>1                   </td><td>1992-08-15          </td><td>Crystal Palace FC   </td><td>3                   </td><td>3                   </td><td>Blackburn Rovers FC </td><td>1992                </td><td>Home                </td><td>Draw                </td><td>1                   </td></tr>\n",
       "\t<tr><td>1                   </td><td>1992-08-15          </td><td>Southampton FC      </td><td>0                   </td><td>0                   </td><td>Tottenham Hotspur FC</td><td>1992                </td><td>Home                </td><td>Draw                </td><td>1                   </td></tr>\n",
       "</tbody>\n",
       "</table>\n"
      ],
      "text/latex": [
       "\\begin{tabular}{r|llllllllll}\n",
       " Round & Date & Team & ScoredGoals & AllowedGoals & Opponent & Season & Side & Result & Points\\\\\n",
       "\\hline\n",
       "\t 1                    & 1992-08-15           & Arsenal FC           & 2                    & 4                    & Norwich City FC      & 1992                 & Home                 & Loss                 & 0                   \\\\\n",
       "\t 1                    & 1992-08-15           & Leeds United FC      & 2                    & 1                    & Wimbledon FC         & 1992                 & Home                 & Win                  & 3                   \\\\\n",
       "\t 1                    & 1992-08-15           & Coventry City FC     & 2                    & 1                    & Middlesbrough FC     & 1992                 & Home                 & Win                  & 3                   \\\\\n",
       "\t 1                    & 1992-08-15           & Ipswich Town FC      & 1                    & 1                    & Aston Villa FC       & 1992                 & Home                 & Draw                 & 1                   \\\\\n",
       "\t 1                    & 1992-08-15           & Crystal Palace FC    & 3                    & 3                    & Blackburn Rovers FC  & 1992                 & Home                 & Draw                 & 1                   \\\\\n",
       "\t 1                    & 1992-08-15           & Southampton FC       & 0                    & 0                    & Tottenham Hotspur FC & 1992                 & Home                 & Draw                 & 1                   \\\\\n",
       "\\end{tabular}\n"
      ],
      "text/markdown": [
       "\n",
       "| Round | Date | Team | ScoredGoals | AllowedGoals | Opponent | Season | Side | Result | Points |\n",
       "|---|---|---|---|---|---|---|---|---|---|\n",
       "| 1                    | 1992-08-15           | Arsenal FC           | 2                    | 4                    | Norwich City FC      | 1992                 | Home                 | Loss                 | 0                    |\n",
       "| 1                    | 1992-08-15           | Leeds United FC      | 2                    | 1                    | Wimbledon FC         | 1992                 | Home                 | Win                  | 3                    |\n",
       "| 1                    | 1992-08-15           | Coventry City FC     | 2                    | 1                    | Middlesbrough FC     | 1992                 | Home                 | Win                  | 3                    |\n",
       "| 1                    | 1992-08-15           | Ipswich Town FC      | 1                    | 1                    | Aston Villa FC       | 1992                 | Home                 | Draw                 | 1                    |\n",
       "| 1                    | 1992-08-15           | Crystal Palace FC    | 3                    | 3                    | Blackburn Rovers FC  | 1992                 | Home                 | Draw                 | 1                    |\n",
       "| 1                    | 1992-08-15           | Southampton FC       | 0                    | 0                    | Tottenham Hotspur FC | 1992                 | Home                 | Draw                 | 1                    |\n",
       "\n"
      ],
      "text/plain": [
       "  Round Date       Team              ScoredGoals AllowedGoals\n",
       "1 1     1992-08-15 Arsenal FC        2           4           \n",
       "2 1     1992-08-15 Leeds United FC   2           1           \n",
       "3 1     1992-08-15 Coventry City FC  2           1           \n",
       "4 1     1992-08-15 Ipswich Town FC   1           1           \n",
       "5 1     1992-08-15 Crystal Palace FC 3           3           \n",
       "6 1     1992-08-15 Southampton FC    0           0           \n",
       "  Opponent             Season Side Result Points\n",
       "1 Norwich City FC      1992   Home Loss   0     \n",
       "2 Wimbledon FC         1992   Home Win    3     \n",
       "3 Middlesbrough FC     1992   Home Win    3     \n",
       "4 Aston Villa FC       1992   Home Draw   1     \n",
       "5 Blackburn Rovers FC  1992   Home Draw   1     \n",
       "6 Tottenham Hotspur FC 1992   Home Draw   1     "
      ]
     },
     "metadata": {},
     "output_type": "display_data"
    }
   ],
   "source": [
    "matches_all <- read_matches('../data/england-master/', seq(1992,2019))\n",
    "head(matches_all)"
   ]
  },
  {
   "cell_type": "markdown",
   "metadata": {},
   "source": [
    "## Demonstration of our new data format\n",
    "\n",
    "### Checking home side advantage\n",
    "\n",
    "**Requirement**: Problems 1 and 2 need to be completed for the dataset\n",
    "\n",
    "Let's use our new datasets to check whether the home side has an advantage compared to the away side. This phenomenon [has been recognized](https://www.researchgate.net/publication/14465849_Factors_associated_with_home_advantage_in_English_and_Scottish_Soccer_matches) for years. Let's see if our data shows the same phenomena.\n",
    "\n",
    "For this let's use a [binomial test](https://www.rdocumentation.org/packages/mosaic/versions/1.8.2/topics/binom.test) to check whether our wins and draws come from a fair binomial distribution (wins and losses as likely)."
   ]
  },
  {
   "cell_type": "code",
   "execution_count": 10,
   "metadata": {},
   "outputs": [],
   "source": [
    "home_advantage <- function(matches) {\n",
    "    home_team_stats <- matches %>%\n",
    "        filter(Side == 'Home') %>%\n",
    "        group_by(Result) %>%\n",
    "        summarize(n=n())\n",
    "    \n",
    "    wins = home_team_stats %>%\n",
    "        filter(Result == 'Win') %>%\n",
    "        select(n) %>%\n",
    "        as.numeric()\n",
    "    losses = home_team_stats %>%\n",
    "        filter(Result == 'Loss') %>%\n",
    "        select(n) %>%\n",
    "        as.numeric()\n",
    "\n",
    "    return(binom.test(c(wins,losses)))\n",
    "}"
   ]
  },
  {
   "cell_type": "code",
   "execution_count": 11,
   "metadata": {},
   "outputs": [
    {
     "data": {
      "text/plain": [
       "\n",
       "\tExact binomial test\n",
       "\n",
       "data:  c(wins, losses)\n",
       "number of successes = 172, number of trials = 288, p-value = 0.001154\n",
       "alternative hypothesis: true probability of success is not equal to 0.5\n",
       "95 percent confidence interval:\n",
       " 0.5380811 0.6543414\n",
       "sample estimates:\n",
       "probability of success \n",
       "             0.5972222 \n"
      ]
     },
     "metadata": {},
     "output_type": "display_data"
    },
    {
     "data": {
      "text/plain": [
       "\n",
       "\tExact binomial test\n",
       "\n",
       "data:  c(wins, losses)\n",
       "number of successes = 5028, number of trials = 8047, p-value < 2.2e-16\n",
       "alternative hypothesis: true probability of success is not equal to 0.5\n",
       "95 percent confidence interval:\n",
       " 0.6141448 0.6354230\n",
       "sample estimates:\n",
       "probability of success \n",
       "             0.6248291 \n"
      ]
     },
     "metadata": {},
     "output_type": "display_data"
    }
   ],
   "source": [
    "home_advantage(matches_19)\n",
    "home_advantage(matches_all)"
   ]
  },
  {
   "cell_type": "markdown",
   "metadata": {},
   "source": [
    "### Checking Premier League winners\n",
    "\n",
    "**Requirement**: Problems 1 and 2 need to be completed for the dataset\n",
    "\n",
    "Let's use our new datasets to check which teams won seasons by checking which team got the most points on each season.\n",
    "\n",
    "We can then compare teams with the most points to this [list of Premier League champions](https://en.wikipedia.org/wiki/List_of_English_football_champions#Premier_League_(1992%E2%80%93present)) and see that the lists match."
   ]
  },
  {
   "cell_type": "code",
   "execution_count": 12,
   "metadata": {},
   "outputs": [],
   "source": [
    "season_winners <- function(matches) {\n",
    "    team_standings <- matches %>%\n",
    "        select(Season, Team, Points) %>%\n",
    "        group_by(Season, Team) %>%\n",
    "        summarize(Points=sum(Points))\n",
    "    top_teams <- team_standings %>%\n",
    "        top_n(1, Points)\n",
    "    return(top_teams)\n",
    "}"
   ]
  },
  {
   "cell_type": "code",
   "execution_count": 13,
   "metadata": {},
   "outputs": [
    {
     "data": {
      "text/html": [
       "<table>\n",
       "<thead><tr><th scope=col>Season</th><th scope=col>Team</th><th scope=col>Points</th></tr></thead>\n",
       "<tbody>\n",
       "\t<tr><td>1992                </td><td>Manchester United FC</td><td> 84                 </td></tr>\n",
       "\t<tr><td>1993                </td><td>Manchester United FC</td><td> 92                 </td></tr>\n",
       "\t<tr><td>1994                </td><td>Blackburn Rovers FC </td><td> 89                 </td></tr>\n",
       "\t<tr><td>1995                </td><td>Manchester United FC</td><td> 82                 </td></tr>\n",
       "\t<tr><td>1996                </td><td>Manchester United FC</td><td> 75                 </td></tr>\n",
       "\t<tr><td>1997                </td><td>Arsenal FC          </td><td> 78                 </td></tr>\n",
       "\t<tr><td>1998                </td><td>Manchester United FC</td><td> 79                 </td></tr>\n",
       "\t<tr><td>1999                </td><td>Manchester United FC</td><td> 91                 </td></tr>\n",
       "\t<tr><td>2000                </td><td>Manchester United FC</td><td> 80                 </td></tr>\n",
       "\t<tr><td>2001                </td><td>Arsenal FC          </td><td> 87                 </td></tr>\n",
       "\t<tr><td>2002                </td><td>Manchester United FC</td><td> 83                 </td></tr>\n",
       "\t<tr><td>2003                </td><td>Arsenal FC          </td><td> 90                 </td></tr>\n",
       "\t<tr><td>2004                </td><td>Chelsea FC          </td><td> 95                 </td></tr>\n",
       "\t<tr><td>2005                </td><td>Chelsea FC          </td><td> 91                 </td></tr>\n",
       "\t<tr><td>2006                </td><td>Manchester United FC</td><td> 89                 </td></tr>\n",
       "\t<tr><td>2007                </td><td>Manchester United FC</td><td> 87                 </td></tr>\n",
       "\t<tr><td>2008                </td><td>Manchester United FC</td><td> 90                 </td></tr>\n",
       "\t<tr><td>2009                </td><td>Chelsea FC          </td><td> 86                 </td></tr>\n",
       "\t<tr><td>2010                </td><td>Manchester United FC</td><td> 80                 </td></tr>\n",
       "\t<tr><td>2011                </td><td>Manchester City FC  </td><td> 89                 </td></tr>\n",
       "\t<tr><td>2011                </td><td>Manchester United FC</td><td> 89                 </td></tr>\n",
       "\t<tr><td>2012                </td><td>Manchester United FC</td><td> 89                 </td></tr>\n",
       "\t<tr><td>2013                </td><td>Manchester City FC  </td><td> 86                 </td></tr>\n",
       "\t<tr><td>2014                </td><td>Chelsea FC          </td><td> 87                 </td></tr>\n",
       "\t<tr><td>2015                </td><td>Leicester City FC   </td><td> 81                 </td></tr>\n",
       "\t<tr><td>2016                </td><td>Chelsea FC          </td><td> 93                 </td></tr>\n",
       "\t<tr><td>2017                </td><td>Manchester City FC  </td><td>100                 </td></tr>\n",
       "\t<tr><td>2018                </td><td>Manchester City FC  </td><td> 98                 </td></tr>\n",
       "\t<tr><td>2019                </td><td>Liverpool FC        </td><td> 99                 </td></tr>\n",
       "</tbody>\n",
       "</table>\n"
      ],
      "text/latex": [
       "\\begin{tabular}{r|lll}\n",
       " Season & Team & Points\\\\\n",
       "\\hline\n",
       "\t 1992                 & Manchester United FC &  84                 \\\\\n",
       "\t 1993                 & Manchester United FC &  92                 \\\\\n",
       "\t 1994                 & Blackburn Rovers FC  &  89                 \\\\\n",
       "\t 1995                 & Manchester United FC &  82                 \\\\\n",
       "\t 1996                 & Manchester United FC &  75                 \\\\\n",
       "\t 1997                 & Arsenal FC           &  78                 \\\\\n",
       "\t 1998                 & Manchester United FC &  79                 \\\\\n",
       "\t 1999                 & Manchester United FC &  91                 \\\\\n",
       "\t 2000                 & Manchester United FC &  80                 \\\\\n",
       "\t 2001                 & Arsenal FC           &  87                 \\\\\n",
       "\t 2002                 & Manchester United FC &  83                 \\\\\n",
       "\t 2003                 & Arsenal FC           &  90                 \\\\\n",
       "\t 2004                 & Chelsea FC           &  95                 \\\\\n",
       "\t 2005                 & Chelsea FC           &  91                 \\\\\n",
       "\t 2006                 & Manchester United FC &  89                 \\\\\n",
       "\t 2007                 & Manchester United FC &  87                 \\\\\n",
       "\t 2008                 & Manchester United FC &  90                 \\\\\n",
       "\t 2009                 & Chelsea FC           &  86                 \\\\\n",
       "\t 2010                 & Manchester United FC &  80                 \\\\\n",
       "\t 2011                 & Manchester City FC   &  89                 \\\\\n",
       "\t 2011                 & Manchester United FC &  89                 \\\\\n",
       "\t 2012                 & Manchester United FC &  89                 \\\\\n",
       "\t 2013                 & Manchester City FC   &  86                 \\\\\n",
       "\t 2014                 & Chelsea FC           &  87                 \\\\\n",
       "\t 2015                 & Leicester City FC    &  81                 \\\\\n",
       "\t 2016                 & Chelsea FC           &  93                 \\\\\n",
       "\t 2017                 & Manchester City FC   & 100                 \\\\\n",
       "\t 2018                 & Manchester City FC   &  98                 \\\\\n",
       "\t 2019                 & Liverpool FC         &  99                 \\\\\n",
       "\\end{tabular}\n"
      ],
      "text/markdown": [
       "\n",
       "| Season | Team | Points |\n",
       "|---|---|---|\n",
       "| 1992                 | Manchester United FC |  84                  |\n",
       "| 1993                 | Manchester United FC |  92                  |\n",
       "| 1994                 | Blackburn Rovers FC  |  89                  |\n",
       "| 1995                 | Manchester United FC |  82                  |\n",
       "| 1996                 | Manchester United FC |  75                  |\n",
       "| 1997                 | Arsenal FC           |  78                  |\n",
       "| 1998                 | Manchester United FC |  79                  |\n",
       "| 1999                 | Manchester United FC |  91                  |\n",
       "| 2000                 | Manchester United FC |  80                  |\n",
       "| 2001                 | Arsenal FC           |  87                  |\n",
       "| 2002                 | Manchester United FC |  83                  |\n",
       "| 2003                 | Arsenal FC           |  90                  |\n",
       "| 2004                 | Chelsea FC           |  95                  |\n",
       "| 2005                 | Chelsea FC           |  91                  |\n",
       "| 2006                 | Manchester United FC |  89                  |\n",
       "| 2007                 | Manchester United FC |  87                  |\n",
       "| 2008                 | Manchester United FC |  90                  |\n",
       "| 2009                 | Chelsea FC           |  86                  |\n",
       "| 2010                 | Manchester United FC |  80                  |\n",
       "| 2011                 | Manchester City FC   |  89                  |\n",
       "| 2011                 | Manchester United FC |  89                  |\n",
       "| 2012                 | Manchester United FC |  89                  |\n",
       "| 2013                 | Manchester City FC   |  86                  |\n",
       "| 2014                 | Chelsea FC           |  87                  |\n",
       "| 2015                 | Leicester City FC    |  81                  |\n",
       "| 2016                 | Chelsea FC           |  93                  |\n",
       "| 2017                 | Manchester City FC   | 100                  |\n",
       "| 2018                 | Manchester City FC   |  98                  |\n",
       "| 2019                 | Liverpool FC         |  99                  |\n",
       "\n"
      ],
      "text/plain": [
       "   Season Team                 Points\n",
       "1  1992   Manchester United FC  84   \n",
       "2  1993   Manchester United FC  92   \n",
       "3  1994   Blackburn Rovers FC   89   \n",
       "4  1995   Manchester United FC  82   \n",
       "5  1996   Manchester United FC  75   \n",
       "6  1997   Arsenal FC            78   \n",
       "7  1998   Manchester United FC  79   \n",
       "8  1999   Manchester United FC  91   \n",
       "9  2000   Manchester United FC  80   \n",
       "10 2001   Arsenal FC            87   \n",
       "11 2002   Manchester United FC  83   \n",
       "12 2003   Arsenal FC            90   \n",
       "13 2004   Chelsea FC            95   \n",
       "14 2005   Chelsea FC            91   \n",
       "15 2006   Manchester United FC  89   \n",
       "16 2007   Manchester United FC  87   \n",
       "17 2008   Manchester United FC  90   \n",
       "18 2009   Chelsea FC            86   \n",
       "19 2010   Manchester United FC  80   \n",
       "20 2011   Manchester City FC    89   \n",
       "21 2011   Manchester United FC  89   \n",
       "22 2012   Manchester United FC  89   \n",
       "23 2013   Manchester City FC    86   \n",
       "24 2014   Chelsea FC            87   \n",
       "25 2015   Leicester City FC     81   \n",
       "26 2016   Chelsea FC            93   \n",
       "27 2017   Manchester City FC   100   \n",
       "28 2018   Manchester City FC    98   \n",
       "29 2019   Liverpool FC          99   "
      ]
     },
     "metadata": {},
     "output_type": "display_data"
    }
   ],
   "source": [
    "season_winners(matches_all)"
   ]
  },
  {
   "cell_type": "code",
   "execution_count": null,
   "metadata": {},
   "outputs": [],
   "source": []
  },
  {
   "cell_type": "code",
   "execution_count": null,
   "metadata": {},
   "outputs": [],
   "source": []
  }
 ],
 "metadata": {
  "kernelspec": {
   "display_name": "R",
   "language": "R",
   "name": "ir"
  },
  "language_info": {
   "codemirror_mode": "r",
   "file_extension": ".r",
   "mimetype": "text/x-r-source",
   "name": "R",
   "pygments_lexer": "r",
   "version": "3.6.1"
  }
 },
 "nbformat": 4,
 "nbformat_minor": 4
}

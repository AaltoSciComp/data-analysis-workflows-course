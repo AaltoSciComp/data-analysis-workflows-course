{
 "cells": [
  {
   "cell_type": "markdown",
   "metadata": {},
   "source": [
    "# Chapter 3\n",
    "\n",
    "This notebook contains the exercises for lecture 3."
   ]
  },
  {
   "cell_type": "code",
   "execution_count": null,
   "metadata": {},
   "outputs": [],
   "source": [
    "library(tidyverse)\n",
    "library(broom)\n",
    "library(modelr)"
   ]
  },
  {
   "cell_type": "markdown",
   "metadata": {},
   "source": [
    "## Problem 1\n",
    "\n",
    "Let's consider our iris-dataset from the first day. Do the following:\n",
    "\n",
    "1. Group the data based on species.\n",
    "2. Calculate mean and variance for all other columns (`Sepal.Length`, `Sepal.Width`, `Petal.Length`, `Petal.Width`) based on this grouping.\n",
    "3. Store these values into `iris_stats`-dataframe.\n",
    "4. Try to get the data back into the following tidy format (`Species` (e.g. `setosa`), `Statistic` (e.g. `mean`), `Feature` (e.g. `Sepal.Length`) and `mean` and `var` for the columns.\n",
    "\n",
    "\n",
    "| |Species| \tFeature| \tmean \t|var|\n",
    "|-|-|-|-|-|\n",
    "|0| \tsetosa \t|Petal.Length \t|1.464 \t|0.030106|\n",
    "|1| \tsetosa \t|Petal.Width \t|0.244 \t|0.011494|\n",
    "|2| \tsetosa \t|Sepal.Length \t|5.006 \t|0.124249|\n",
    "|3| \tsetosa \t|Sepal.Width \t|3.418 \t|0.145180|\n",
    "|4| \tversicolor \t|Petal.Length \t|4.260 \t|0.220816|\n",
    "|5| \tversicolor \t|Petal.Width \t|1.326 \t|0.039106|\n",
    "|6| \tversicolor \t|Sepal.Length \t|5.936 \t|0.266433|\n",
    "|7| \tversicolor \t|Sepal.Width \t|2.770 \t|0.098469|\n",
    "|8| \tvirginica \t|Petal.Length \t|5.552 \t|0.304588|\n",
    "|9| \tvirginica \t|Petal.Width \t|2.026 \t|0.075433|\n",
    "|10| \tvirginica \t|Sepal.Length \t|6.588 \t|0.404343|\n",
    "|11| \tvirginica \t|Sepal.Width \t|2.974 \t|0.104004|\n",
    "\n",
    "Bonus:\n",
    "\n",
    "- Create a function that does these operations for **all** similar datasets (all columns are used for calculations). You can try it on the `wdbc` dataset given below (group by 'Diagnosis').\n",
    "\n",
    "Relevant API pages:\n",
    "\n",
    "- [summarise_all](https://dplyr.tidyverse.org/reference/summarise_all.html)\n",
    "- [pivot_longer](https://tidyr.tidyverse.org/reference/pivot_longer.html) (newer versions of Tidyverse)\n",
    "- [gather](https://tidyr.tidyverse.org/reference/gather.html)\n",
    "- [separate](https://tidyr.tidyverse.org/reference/separate.html)\n",
    "- [str_replace](https://www.rdocumentation.org/packages/stringr/versions/1.4.0/topics/str_replace)\n",
    "- [spread](https://tidyr.tidyverse.org/reference/spread.html)"
   ]
  },
  {
   "cell_type": "code",
   "execution_count": null,
   "metadata": {},
   "outputs": [],
   "source": [
    "load_iris <- function(iris_data_file) {\n",
    "    iris_data <- read_csv(iris_data_file, col_names=c('Sepal.Length', 'Sepal.Width', 'Petal.Length', 'Petal.Width', 'Species')) %>%\n",
    "        mutate(Species=str_remove(Species, 'Iris-')) %>%\n",
    "        mutate(Species=as.factor(Species))\n",
    "    return(iris_data)\n",
    "}\n",
    "\n",
    "iris_data <- load_iris('../data/iris.data')\n",
    "\n",
    "load_wdbc <- function(wdbc_data_file) {\n",
    "    wdbc_data <- read_csv(wdbc_data_file, col_names=FALSE) %>%\n",
    "        select(-X1) %>%\n",
    "        mutate(X2=as.factor(X2)) %>%\n",
    "        rename(Diagosis=X2)\n",
    "    return(wdbc_data)\n",
    "}\n",
    "\n",
    "wdbc <- load_wdbc('../data/wdbc.data')"
   ]
  },
  {
   "cell_type": "code",
   "execution_count": null,
   "metadata": {},
   "outputs": [],
   "source": []
  },
  {
   "cell_type": "markdown",
   "metadata": {},
   "source": [
    "## Problem 2\n",
    "\n",
    "1. Calculate correlation between:\n",
    "\n",
    " - `Sepal.Length` and `Sepal.Width`\n",
    " - `Petal.Length` and `Petal.Width`\n",
    "\n",
    "   Do you think that there is a linear relation between these variables?\n",
    "\n",
    "2. Do a linear plot between:\n",
    "\n",
    " - `Sepal.Length` and `Sepal.Width`\n",
    " - `Petal.Length` and `Petal.Width`\n",
    "\n",
    "   Print coefficients,\n",
    "\n",
    "3. Plot both datasets as separate scatterplots and plot linear fits on top of them.\n",
    "\n",
    "Relevant API pages:\n",
    "\n",
    "- [cor](https://www.rdocumentation.org/packages/stats/versions/3.6.2/topics/cor)"
   ]
  },
  {
   "cell_type": "code",
   "execution_count": null,
   "metadata": {},
   "outputs": [],
   "source": []
  },
  {
   "cell_type": "markdown",
   "metadata": {},
   "source": [
    "## Problem 3\n",
    "\n",
    "Use whatever means to calculate separate linear plots between\n",
    "\n",
    " - `Sepal.Length` and `Sepal.Width`\n",
    " - `Petal.Length` and `Petal.Width`\n",
    " \n",
    "for all groups. Plot them in the same graph with different colors."
   ]
  },
  {
   "cell_type": "code",
   "execution_count": null,
   "metadata": {},
   "outputs": [],
   "source": []
  }
 ],
 "metadata": {
  "kernelspec": {
   "display_name": "R",
   "language": "R",
   "name": "ir"
  },
  "language_info": {
   "codemirror_mode": "r",
   "file_extension": ".r",
   "mimetype": "text/x-r-source",
   "name": "R",
   "pygments_lexer": "r",
   "version": "3.6.1"
  }
 },
 "nbformat": 4,
 "nbformat_minor": 4
}

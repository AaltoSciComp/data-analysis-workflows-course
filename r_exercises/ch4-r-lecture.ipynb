{
 "cells": [
  {
   "cell_type": "markdown",
   "metadata": {},
   "source": [
    "# Chapter 4\n",
    "\n",
    "This notebook contains the commands that are shown in the lecture 3."
   ]
  },
  {
   "cell_type": "code",
   "execution_count": 1,
   "metadata": {},
   "outputs": [
    {
     "name": "stderr",
     "output_type": "stream",
     "text": [
      "Registered S3 methods overwritten by 'ggplot2':\n",
      "  method         from \n",
      "  [.quosures     rlang\n",
      "  c.quosures     rlang\n",
      "  print.quosures rlang\n",
      "Registered S3 method overwritten by 'rvest':\n",
      "  method            from\n",
      "  read_xml.response xml2\n",
      "── Attaching packages ─────────────────────────────────────── tidyverse 1.2.1 ──\n",
      "✔ ggplot2 3.1.1       ✔ purrr   0.3.2  \n",
      "✔ tibble  2.1.1       ✔ dplyr   0.8.0.1\n",
      "✔ tidyr   0.8.3       ✔ stringr 1.4.0  \n",
      "✔ readr   1.3.1       ✔ forcats 0.4.0  \n",
      "── Conflicts ────────────────────────────────────────── tidyverse_conflicts() ──\n",
      "✖ dplyr::filter() masks stats::filter()\n",
      "✖ dplyr::lag()    masks stats::lag()\n",
      "\n",
      "Attaching package: ‘lubridate’\n",
      "\n",
      "The following object is masked from ‘package:base’:\n",
      "\n",
      "    date\n",
      "\n"
     ]
    }
   ],
   "source": [
    "library(tidyverse)\n",
    "library(lubridate)"
   ]
  },
  {
   "cell_type": "markdown",
   "metadata": {},
   "source": [
    "## Different resources involved in data analysis pipelines\n",
    "\n",
    "### Processors as a resource"
   ]
  },
  {
   "cell_type": "code",
   "execution_count": 2,
   "metadata": {},
   "outputs": [
    {
     "name": "stdout",
     "output_type": "stream",
     "text": [
      "Time taken:\n",
      "\n",
      "For loop: 0.61\n",
      "Vectorized operation: 0.028\n",
      "\n",
      "Speedup: 21.83"
     ]
    }
   ],
   "source": [
    "n_zeros <- 10000\n",
    "ntimes <- 1000\n",
    "\n",
    "z <- numeric(n_zeros)\n",
    "\n",
    "time_for_1 <- Sys.time()\n",
    "for (t in seq(ntimes)) {\n",
    "    for (i in seq(1,n_zeros)) {\n",
    "        z[i] <- z[i] + 1\n",
    "    }\n",
    "}\n",
    "time_for_2 <- Sys.time()\n",
    "\n",
    "time_for <- time_for_2 - time_for_1\n",
    "\n",
    "z <- numeric(n_zeros)\n",
    "\n",
    "time_vec_1 <- Sys.time()\n",
    "for (t in seq(ntimes)) {\n",
    "    z <- z + 1\n",
    "}\n",
    "time_vec_2 <- Sys.time()\n",
    "\n",
    "time_vec <- time_vec_2 - time_vec_1\n",
    "\n",
    "cat(sprintf(\"Time taken:\\n\\nFor loop: %.2g\\nVectorized operation: %.2g\\n\\nSpeedup: %.2f\", time_for, time_vec, time_for/as.double(time_vec, unit='secs')))"
   ]
  },
  {
   "cell_type": "markdown",
   "metadata": {},
   "source": [
    "### RAM as a resource\n",
    "\n",
    "Bootstrapping pipeline from chapter 3."
   ]
  },
  {
   "cell_type": "code",
   "execution_count": 3,
   "metadata": {},
   "outputs": [],
   "source": [
    "load_filesizes <- function(filesizes_file){\n",
    "    filesizes <- read_table2(filesizes_file, col_names=c('Bytes','MonthsTo2021', 'Files'), col_types=cols())\n",
    "    \n",
    "    filesizes <- filesizes %>%\n",
    "        # Remove empty files\n",
    "        filter(Bytes != 0) %>%\n",
    "        # Create a column for log2 of bytes\n",
    "        mutate(BytesLog2 = log2(Bytes)) %>%\n",
    "        # Determine total space S used by N files of size X during date D: S=N*X \n",
    "        mutate(SpaceUsage = Bytes*Files) %>%\n",
    "        # Determine file year and month from the MonthsTo2021-column\n",
    "        mutate(\n",
    "            TotalMonths = 2021*12 - MonthsTo2021 - 1,\n",
    "            Year = TotalMonths %/% 12,\n",
    "            Month = TotalMonths %% 12 +1,\n",
    "            Day = 1\n",
    "        )\n",
    "\n",
    "     # Set year for really old files and files with incorrect timestamps\n",
    "    invalid_years = c((filesizes['Year'] < 2010) | (filesizes['Year'] > 2020))\n",
    "    filesizes[invalid_years, c('Year','Month')] <- NaN\n",
    "    \n",
    "    # Get month names for the correct ordering of Month categories\n",
    "    month_names <- month(seq(1,12), label=TRUE, locale='C')\n",
    "    filesizes <- filesizes %>%\n",
    "        mutate(\n",
    "            # Create Date and get the name for the month\n",
    "            Date = make_datetime(Year, Month, Day),\n",
    "            # Set Month \n",
    "            Month=month(Month, label=TRUE, locale='C'),\n",
    "            # Set Month to be an ordered categorical with predefined levels \n",
    "            Month=factor(Month, ordered=TRUE, levels=month_names))\n",
    "    filesizes <- filesizes %>%\n",
    "        # Sort data based on Date and BytesLog2\n",
    "        arrange(Date, BytesLog2) %>%\n",
    "        # Remove old columns\n",
    "        select(-MonthsTo2021,-TotalMonths,-Day)\n",
    "    return(filesizes)\n",
    "}\n",
    "\n",
    "aggregate_filesize_data <- function(data, grouping, target, agg_function) {\n",
    "    data_relevant <- data %>%\n",
    "        # Drop rows with NaNs (invalid years)\n",
    "        drop_na() %>%\n",
    "        # Pick relevant columns\n",
    "        select_at(vars(c(grouping, target))) %>%\n",
    "        # Change grouping to category for prettier plotting\n",
    "        mutate_at(vars(grouping), as.factor)\n",
    "\n",
    "    # Aggregate data\n",
    "    data_aggregated <- data_relevant %>%\n",
    "        group_by_at((grouping)) %>%\n",
    "        summarize_at(vars(target), agg_function) %>%\n",
    "        ungroup()\n",
    "\n",
    "    return(data_aggregated)\n",
    "}\n",
    "\n",
    "get_bootstrapped_means <- function(dataset, target_col, weight_col, n_means=1000) {\n",
    "    # Pick relevant columns\n",
    "    # Pick target data column and convert it to integer\n",
    "    target_data <- as.numeric(as.character(dataset[[target_col]]))\n",
    "    # Pick weight data column\n",
    "    weight_data <- dataset[[weight_col]]\n",
    "    weight_data <- weight_data/sum(weight_data)\n",
    "\n",
    "    # Create means vector\n",
    "    means <- numeric(n_means)\n",
    "    for (i in seq(n_means)) {\n",
    "        # Calculate resampled mean\n",
    "        means[[i]] <- mean(sample(target_data, 100, replace=TRUE, prob=weight_data))\n",
    "    }\n",
    "    return(means)\n",
    "}\n",
    "\n",
    "bootstrap_byteslog2_mean <- function(dataset, group_variable, target_variable, n_means=1000) {\n",
    "    \n",
    "    bootstrapping_function <- function(x) get_bootstrapped_means(x, 'BytesLog2', target_variable, n_means=n_means)\n",
    "    \n",
    "    bootstrapped_means <- dataset %>%\n",
    "        group_by_at(vars(group_variable)) %>%\n",
    "        nest() %>%\n",
    "        mutate(\n",
    "            SampledMeans=map(data, bootstrapping_function),\n",
    "            Mean=map(SampledMeans, mean)\n",
    "        ) %>%\n",
    "        select(-data)\n",
    "    \n",
    "    return(bootstrapped_means)\n",
    "}"
   ]
  },
  {
   "cell_type": "code",
   "execution_count": 36,
   "metadata": {},
   "outputs": [
    {
     "data": {
      "text/html": [
       "<table>\n",
       "<thead><tr><th scope=col>Year</th><th scope=col>Mean</th></tr></thead>\n",
       "<tbody>\n",
       "\t<tr><td>2010   </td><td>13.0364</td></tr>\n",
       "\t<tr><td>2011   </td><td>14.0331</td></tr>\n",
       "\t<tr><td>2012   </td><td>10.7298</td></tr>\n",
       "\t<tr><td>2013   </td><td>13.3426</td></tr>\n",
       "\t<tr><td>2014   </td><td>13.9998</td></tr>\n",
       "\t<tr><td>2015   </td><td>11.7389</td></tr>\n",
       "</tbody>\n",
       "</table>\n"
      ],
      "text/latex": [
       "\\begin{tabular}{r|ll}\n",
       " Year & Mean\\\\\n",
       "\\hline\n",
       "\t 2010    & 13.0364\\\\\n",
       "\t 2011    & 14.0331\\\\\n",
       "\t 2012    & 10.7298\\\\\n",
       "\t 2013    & 13.3426\\\\\n",
       "\t 2014    & 13.9998\\\\\n",
       "\t 2015    & 11.7389\\\\\n",
       "\\end{tabular}\n"
      ],
      "text/markdown": [
       "\n",
       "| Year | Mean |\n",
       "|---|---|\n",
       "| 2010    | 13.0364 |\n",
       "| 2011    | 14.0331 |\n",
       "| 2012    | 10.7298 |\n",
       "| 2013    | 13.3426 |\n",
       "| 2014    | 13.9998 |\n",
       "| 2015    | 11.7389 |\n",
       "\n"
      ],
      "text/plain": [
       "  Year Mean   \n",
       "1 2010 13.0364\n",
       "2 2011 14.0331\n",
       "3 2012 10.7298\n",
       "4 2013 13.3426\n",
       "5 2014 13.9998\n",
       "6 2015 11.7389"
      ]
     },
     "metadata": {},
     "output_type": "display_data"
    }
   ],
   "source": [
    "chapter3_pipeline <- function(n_means=10000) {\n",
    "\n",
    "    filesizes <- load_filesizes('../data/filesizes_timestamps.txt')\n",
    "\n",
    "    yearly_bytes_sum <- aggregate_filesize_data(filesizes, c('Year','BytesLog2'), c('Files', 'SpaceUsage'), sum)\n",
    "\n",
    "    bootstrapped_yearly_means <- yearly_bytes_sum %>%\n",
    "        bootstrap_byteslog2_mean('Year', 'Files', n_means=n_means) %>%\n",
    "        select(Year, Mean)\n",
    "\n",
    "    return(bootstrapped_yearly_means)\n",
    "}\n",
    "\n",
    "head(chapter3_pipeline(n_means=100))"
   ]
  },
  {
   "cell_type": "code",
   "execution_count": 5,
   "metadata": {},
   "outputs": [
    {
     "name": "stdout",
     "output_type": "stream",
     "text": [
      "[1] \"filesizes:\"\n",
      "[1] \"column:        Bytes size: 70384\"\n",
      "[1] \"column:        Files size: 70384\"\n",
      "[1] \"column:    BytesLog2 size: 70392\"\n",
      "[1] \"column:   SpaceUsage size: 70392\"\n",
      "[1] \"column:         Year size: 70384\"\n",
      "[1] \"column:        Month size: 36872\"\n",
      "[1] \"column:         Date size: 70896\"\n",
      "[1] \"yearly_bytes_sum:\"\n",
      "[1] \"column:         Year size: 3728\"\n",
      "[1] \"column:    BytesLog2 size: 5744\"\n",
      "[1] \"column:        Files size: 4336\"\n",
      "[1] \"column:   SpaceUsage size: 4344\"\n",
      "\n",
      "Original data: 455320 bytes\n",
      "Summarized data: 15920 bytes\n",
      "\n",
      "Reduction ratio: 28.60\n"
     ]
    }
   ],
   "source": [
    "filesizes <- load_filesizes('../data/filesizes_timestamps.txt')\n",
    "yearly_bytes_sum <- aggregate_filesize_data(filesizes, c('Year','BytesLog2'), c('Files', 'SpaceUsage'), sum)\n",
    "\n",
    "print_column_sizes <- function(dataset) {\n",
    "    map(colnames(dataset), function(x) print(sprintf('column: %12s size: %d', x, object.size(dataset[x]))))\n",
    "    invisible(NULL)\n",
    "}\n",
    "\n",
    "print('filesizes:')\n",
    "print_column_sizes(filesizes)\n",
    "\n",
    "print('yearly_bytes_sum:')\n",
    "print_column_sizes(yearly_bytes_sum)\n",
    "\n",
    "filesizes_size <- object.size(filesizes)\n",
    "summarized_size <- object.size(yearly_bytes_sum)\n",
    "\n",
    "cat(sprintf(\"\n",
    "Original data: %d bytes\n",
    "Summarized data: %d bytes\n",
    "\n",
    "Reduction ratio: %.2f\n",
    "\", filesizes_size, summarized_size, filesizes_size/summarized_size))\n"
   ]
  },
  {
   "cell_type": "code",
   "execution_count": 6,
   "metadata": {},
   "outputs": [
    {
     "name": "stdout",
     "output_type": "stream",
     "text": [
      "8048 bytes\n"
     ]
    },
    {
     "ename": "ERROR",
     "evalue": "Error in structure(.Call(C_objectSize, x), class = \"object_size\"): object 'memory_scope_variable' not found\n",
     "output_type": "error",
     "traceback": [
      "Error in structure(.Call(C_objectSize, x), class = \"object_size\"): object 'memory_scope_variable' not found\nTraceback:\n",
      "1. print(object.size(memory_scope_variable))",
      "2. object.size(memory_scope_variable)",
      "3. structure(.Call(C_objectSize, x), class = \"object_size\")"
     ]
    }
   ],
   "source": [
    "memory_scope_test <- function(){\n",
    "    memory_scope_variable = runif(1000)\n",
    "    print(object.size(memory_scope_variable))\n",
    "}\n",
    "memory_scope_test()\n",
    "print(object.size(memory_scope_variable))"
   ]
  },
  {
   "cell_type": "code",
   "execution_count": 7,
   "metadata": {},
   "outputs": [
    {
     "name": "stderr",
     "output_type": "stream",
     "text": [
      "Registered S3 method overwritten by 'pryr':\n",
      "  method      from\n",
      "  print.bytes Rcpp\n",
      "\n",
      "Attaching package: ‘pryr’\n",
      "\n",
      "The following objects are masked from ‘package:purrr’:\n",
      "\n",
      "    compose, partial\n",
      "\n"
     ]
    },
    {
     "name": "stdout",
     "output_type": "stream",
     "text": [
      "62.3 MB\n",
      "[1] \"No garbage collection done.\"\n",
      "278 MB\n"
     ]
    },
    {
     "data": {
      "text/html": [
       "1.00000037252903"
      ],
      "text/latex": [
       "1.00000037252903"
      ],
      "text/markdown": [
       "1.00000037252903"
      ],
      "text/plain": [
       "[1] 1"
      ]
     },
     "metadata": {},
     "output_type": "display_data"
    },
    {
     "name": "stdout",
     "output_type": "stream",
     "text": [
      "62.5 MB\n",
      "          used (Mb) gc trigger  (Mb) max used  (Mb)\n",
      "Ncells  883676 47.2    1748677  93.4  1218704  65.1\n",
      "Vcells 1627736 12.5   37149069 283.5 46638798 355.9\n",
      "207 MB\n"
     ]
    },
    {
     "data": {
      "text/html": [
       "1.00000003934838"
      ],
      "text/latex": [
       "1.00000003934838"
      ],
      "text/markdown": [
       "1.00000003934838"
      ],
      "text/plain": [
       "[1] 1"
      ]
     },
     "metadata": {},
     "output_type": "display_data"
    }
   ],
   "source": [
    "library(pryr)\n",
    "\n",
    "memtest_nocollect <- function(n=1000) {\n",
    "\n",
    "    print(mem_used())\n",
    "    \n",
    "    A <- runif(n*n)\n",
    "    A_mean <- mean(A)\n",
    "    \n",
    "    print('No garbage collection done.')\n",
    "    Sys.sleep(5)\n",
    "\n",
    "    B <- matrix(runif(n*n), ncol=n)\n",
    "    B <- B %*% t(B)\n",
    "    B_inv <- solve(B)\n",
    "\n",
    "    print(mem_used())\n",
    "\n",
    "    return(max(B %*% B_inv))\n",
    "}\n",
    "\n",
    "memtest_collect <- function(n=1000){\n",
    "\n",
    "    print(mem_used())\n",
    "\n",
    "    A <- runif(n*n)\n",
    "    A_mean <- mean(A)\n",
    "\n",
    "    rm(A)\n",
    "    print(gc())\n",
    "    Sys.sleep(5)\n",
    "\n",
    "    B <- matrix(runif(n*n), ncol=n)\n",
    "    B <- B %*% t(B)\n",
    "    B_inv <- solve(B)\n",
    "\n",
    "    print(mem_used())\n",
    "    \n",
    "    return(max(B %*% B_inv))\n",
    "}\n",
    "\n",
    "memtest_nocollect(3000)\n",
    "memtest_collect(3000)"
   ]
  },
  {
   "cell_type": "markdown",
   "metadata": {},
   "source": [
    "## Parallelization strategies\n",
    "### Using internal parallelization provided by libraries"
   ]
  },
  {
   "cell_type": "code",
   "execution_count": 11,
   "metadata": {},
   "outputs": [
    {
     "name": "stdout",
     "output_type": "stream",
     "text": [
      "\n",
      "Time taken:\n",
      "\n",
      "1 thread: 4.49\n",
      "4 threads: 1.75\n",
      "\n",
      "Speedup: 2.56"
     ]
    }
   ],
   "source": [
    "cat(\"\n",
    "A <- matrix(runif(4000*4000), ncol=4000)\n",
    "A <- A %*% t(A)\n",
    "\n",
    "time_1 <- Sys.time()\n",
    "A_inv <- solve(A)\n",
    "time_2 <- Sys.time()\n",
    "print(as.double(time_2 - time_1))\n",
    "\", file=\"omp_test.R\")\n",
    "\n",
    "Sys.setenv(OMP_NUM_THREADS=\"1\")\n",
    "output <- system('Rscript omp_test.R', intern=TRUE)\n",
    "time_1thread <- as.numeric(str_extract(output, '\\\\d.\\\\d+'))\n",
    "\n",
    "Sys.setenv(OMP_NUM_THREADS=\"4\")\n",
    "output <- system('Rscript omp_test.R', intern=TRUE)\n",
    "time_4thread <- as.numeric(str_extract(output, '\\\\d.\\\\d+'))\n",
    "\n",
    "cat(sprintf(\"\n",
    "Time taken:\n",
    "\n",
    "1 thread: %.2f\n",
    "4 threads: %.2f\n",
    "\n",
    "Speedup: %.2f\", time_1thread, time_4thread, time_1thread/time_4thread))"
   ]
  },
  {
   "cell_type": "code",
   "execution_count": null,
   "metadata": {},
   "outputs": [],
   "source": []
  },
  {
   "cell_type": "code",
   "execution_count": 80,
   "metadata": {},
   "outputs": [
    {
     "name": "stdout",
     "output_type": "stream",
     "text": [
      "# A tibble: 6 x 1\n",
      "      x\n",
      "  <int>\n",
      "1     1\n",
      "2     2\n",
      "3     3\n",
      "4     4\n",
      "5     5\n",
      "6     6\n",
      "Observations: 100\n",
      "Variables: 2\n",
      "$ x <int> 1, 2, 3, 4, 5, 6, 7, 8, 9, 10, 11, 12, 13, 14, 15, 16, 17, 18, 19, …\n",
      "$ y <int> 1, 4, 9, 16, 25, 36, 49, 64, 81, 100, 121, 144, 169, 196, 225, 256,…\n"
     ]
    }
   ],
   "source": [
    "library(furrr)\n",
    "\n",
    "x_squared <- function(x) {\n",
    "    return(x*x)\n",
    "}\n",
    "\n",
    "data <- tibble(x=seq(100))\n",
    "\n",
    "print(head(data))\n",
    "\n",
    "# Set up our parallel pool\n",
    "plan(multisession, workers = 4)\n",
    "\n",
    "data <- data %>%\n",
    "    # Run parallel map (future_map) from furrr\n",
    "    mutate(y=future_map(x, x_squared)) %>%\n",
    "    # Turn resulting list into a vector of integers\n",
    "    mutate(y=flatten_int(y))\n",
    "\n",
    "glimpse(data)"
   ]
  },
  {
   "cell_type": "code",
   "execution_count": 83,
   "metadata": {},
   "outputs": [
    {
     "name": "stdout",
     "output_type": "stream",
     "text": [
      "[1] \"Original pipeline: 11.92\"\n"
     ]
    },
    {
     "data": {
      "text/html": [
       "<table>\n",
       "<thead><tr><th scope=col>Year</th><th scope=col>Mean</th></tr></thead>\n",
       "<tbody>\n",
       "\t<tr><td>2010    </td><td>12.97936</td></tr>\n",
       "\t<tr><td>2011    </td><td>14.04265</td></tr>\n",
       "\t<tr><td>2012    </td><td>10.66918</td></tr>\n",
       "\t<tr><td>2013    </td><td>13.41251</td></tr>\n",
       "\t<tr><td>2014    </td><td>14.03964</td></tr>\n",
       "\t<tr><td>2015    </td><td>11.74544</td></tr>\n",
       "\t<tr><td>2016    </td><td>13.54507</td></tr>\n",
       "\t<tr><td>2017    </td><td>11.97751</td></tr>\n",
       "\t<tr><td>2018    </td><td>13.27919</td></tr>\n",
       "\t<tr><td>2019    </td><td>13.69971</td></tr>\n",
       "\t<tr><td>2020    </td><td>13.22932</td></tr>\n",
       "</tbody>\n",
       "</table>\n"
      ],
      "text/latex": [
       "\\begin{tabular}{r|ll}\n",
       " Year & Mean\\\\\n",
       "\\hline\n",
       "\t 2010     & 12.97936\\\\\n",
       "\t 2011     & 14.04265\\\\\n",
       "\t 2012     & 10.66918\\\\\n",
       "\t 2013     & 13.41251\\\\\n",
       "\t 2014     & 14.03964\\\\\n",
       "\t 2015     & 11.74544\\\\\n",
       "\t 2016     & 13.54507\\\\\n",
       "\t 2017     & 11.97751\\\\\n",
       "\t 2018     & 13.27919\\\\\n",
       "\t 2019     & 13.69971\\\\\n",
       "\t 2020     & 13.22932\\\\\n",
       "\\end{tabular}\n"
      ],
      "text/markdown": [
       "\n",
       "| Year | Mean |\n",
       "|---|---|\n",
       "| 2010     | 12.97936 |\n",
       "| 2011     | 14.04265 |\n",
       "| 2012     | 10.66918 |\n",
       "| 2013     | 13.41251 |\n",
       "| 2014     | 14.03964 |\n",
       "| 2015     | 11.74544 |\n",
       "| 2016     | 13.54507 |\n",
       "| 2017     | 11.97751 |\n",
       "| 2018     | 13.27919 |\n",
       "| 2019     | 13.69971 |\n",
       "| 2020     | 13.22932 |\n",
       "\n"
      ],
      "text/plain": [
       "   Year Mean    \n",
       "1  2010 12.97936\n",
       "2  2011 14.04265\n",
       "3  2012 10.66918\n",
       "4  2013 13.41251\n",
       "5  2014 14.03964\n",
       "6  2015 11.74544\n",
       "7  2016 13.54507\n",
       "8  2017 11.97751\n",
       "9  2018 13.27919\n",
       "10 2019 13.69971\n",
       "11 2020 13.22932"
      ]
     },
     "metadata": {},
     "output_type": "display_data"
    },
    {
     "name": "stdout",
     "output_type": "stream",
     "text": [
      "[1] \"Time taken by 1 workers: 12.42 Speedup was: 0.96\"\n",
      "[1] \"Maximum difference between calculated means: 0.003174\"\n",
      "[1] \"Time taken by 2 workers: 7.49 Speedup was: 1.59\"\n",
      "[1] \"Maximum difference between calculated means: 0.005813\"\n",
      "[1] \"Time taken by 3 workers: 6.04 Speedup was: 1.97\"\n",
      "[1] \"Maximum difference between calculated means: 0.005813\"\n",
      "[1] \"Time taken by 4 workers: 5.47 Speedup was: 2.18\"\n",
      "[1] \"Maximum difference between calculated means: 0.005813\"\n"
     ]
    }
   ],
   "source": [
    "chapter3_pipeline_parallel <- function(n_means=10000, n_workers=1) {\n",
    "\n",
    "    filesizes <- load_filesizes('../data/filesizes_timestamps.txt')\n",
    "\n",
    "    yearly_bytes_sum <- aggregate_filesize_data(filesizes, c('Year','BytesLog2'), c('Files', 'SpaceUsage'), sum)\n",
    "\n",
    "    bootstrapping_function <- function(x) get_bootstrapped_means(x, 'BytesLog2', 'Files', n_means=n_means)\n",
    "    \n",
    "    # Actual parallel part\n",
    "\n",
    "    # Initialize a parallel pool with n_workers workers\n",
    "    plan(multisession, workers = n_workers)    \n",
    "    \n",
    "    bootstrapped_yearly_means <- yearly_bytes_sum %>%\n",
    "        group_by(Year) %>%\n",
    "        nest() %>%\n",
    "        mutate(\n",
    "            # Map a function to each dataset. Output is a list of numeric vectors.\n",
    "            SampledMeans=future_map(data, bootstrapping_function, .options=furrr_options(seed=TRUE)),\n",
    "            Mean=future_map(SampledMeans, mean),\n",
    "        ) %>%\n",
    "        select(-data) %>%\n",
    "        select(Year, Mean)\n",
    "    \n",
    "    return(bootstrapped_yearly_means)\n",
    "}\n",
    "\n",
    "# Measure performance and verify results \n",
    "time1 <- Sys.time()\n",
    "means_orig <- chapter3_pipeline(n_means=100000) %>%\n",
    "    mutate(Mean=flatten_dbl(Mean))\n",
    "means_orig_means <- flatten_dbl(means_orig)\n",
    "time2 <- Sys.time()\n",
    "\n",
    "orig_time <- time2-time1\n",
    "\n",
    "print(sprintf('Original pipeline: %.2f',orig_time))\n",
    "head(means_orig, 20)\n",
    "\n",
    "for (n_workers in seq(1,4)) {\n",
    "    time1 <- Sys.time()\n",
    "    means <- chapter3_pipeline_parallel(n_means=100000, n_workers=n_workers) %>%\n",
    "        mutate(Mean=flatten_dbl(Mean))\n",
    "    time2 <- Sys.time()\n",
    "    print(sprintf('Time taken by %d workers: %.2f Speedup was: %.2f', n_workers, time2 - time1, orig_time/as.double(time2-time1)))\n",
    "    print(sprintf('Maximum difference between calculated means: %f', max(abs(means['Mean']-means_orig['Mean']))))\n",
    "}"
   ]
  },
  {
   "cell_type": "code",
   "execution_count": 10,
   "metadata": {},
   "outputs": [
    {
     "name": "stdout",
     "output_type": "stream",
     "text": [
      "Observations: 11\n",
      "Variables: 2\n",
      "$ Year <fct> 2010, 2011, 2012, 2013, 2014, 2015, 2016, 2017, 2018, 2019, 2020\n",
      "$ Mean <list> [12.97623, 14.04605, 10.67142, 13.41688, 14.04602, 11.74686, 13…\n"
     ]
    },
    {
     "data": {
      "text/html": [
       "<strong>$by.self</strong> = <table>\n",
       "<thead><tr><th></th><th scope=col>self.time</th><th scope=col>self.pct</th><th scope=col>total.time</th><th scope=col>total.pct</th><th scope=col>mem.total</th></tr></thead>\n",
       "<tbody>\n",
       "\t<tr><th scope=row>\"sample.int\"</th><td>0.62 </td><td>40.79</td><td>0.64 </td><td>42.11</td><td>345.4</td></tr>\n",
       "\t<tr><th scope=row>\"mean\"</th><td>0.40 </td><td>26.32</td><td>1.38 </td><td>90.79</td><td>791.4</td></tr>\n",
       "\t<tr><th scope=row>\"sample\"</th><td>0.22 </td><td>14.47</td><td>0.86 </td><td>56.58</td><td>484.3</td></tr>\n",
       "\t<tr><th scope=row>\"mean.default\"</th><td>0.10 </td><td> 6.58</td><td>0.12 </td><td> 7.89</td><td> 79.9</td></tr>\n",
       "\t<tr><th scope=row>\"length\"</th><td>0.06 </td><td> 3.95</td><td>0.06 </td><td> 3.95</td><td> 34.1</td></tr>\n",
       "\t<tr><th scope=row>\"factor\"</th><td>0.04 </td><td> 2.63</td><td>0.04 </td><td> 2.63</td><td>  4.7</td></tr>\n",
       "\t<tr><th scope=row>\"get_bootstrapped_means\"</th><td>0.02 </td><td> 1.32</td><td>1.40 </td><td>92.11</td><td>791.4</td></tr>\n",
       "\t<tr><th scope=row>\"lazyLoadDBfetch\"</th><td>0.02 </td><td> 1.32</td><td>0.02 </td><td> 1.32</td><td>  2.8</td></tr>\n",
       "\t<tr><th scope=row>\"names\"</th><td>0.02 </td><td> 1.32</td><td>0.02 </td><td> 1.32</td><td>  2.2</td></tr>\n",
       "\t<tr><th scope=row>\"parent.env\"</th><td>0.02 </td><td> 1.32</td><td>0.02 </td><td> 1.32</td><td>  2.3</td></tr>\n",
       "</tbody>\n",
       "</table>\n"
      ],
      "text/latex": [
       "\\textbf{\\$by.self} = \\begin{tabular}{r|lllll}\n",
       "  & self.time & self.pct & total.time & total.pct & mem.total\\\\\n",
       "\\hline\n",
       "\t\"sample.int\" & 0.62  & 40.79 & 0.64  & 42.11 & 345.4\\\\\n",
       "\t\"mean\" & 0.40  & 26.32 & 1.38  & 90.79 & 791.4\\\\\n",
       "\t\"sample\" & 0.22  & 14.47 & 0.86  & 56.58 & 484.3\\\\\n",
       "\t\"mean.default\" & 0.10  &  6.58 & 0.12  &  7.89 &  79.9\\\\\n",
       "\t\"length\" & 0.06  &  3.95 & 0.06  &  3.95 &  34.1\\\\\n",
       "\t\"factor\" & 0.04  &  2.63 & 0.04  &  2.63 &   4.7\\\\\n",
       "\t\"get\\_bootstrapped\\_means\" & 0.02  &  1.32 & 1.40  & 92.11 & 791.4\\\\\n",
       "\t\"lazyLoadDBfetch\" & 0.02  &  1.32 & 0.02  &  1.32 &   2.8\\\\\n",
       "\t\"names\" & 0.02  &  1.32 & 0.02  &  1.32 &   2.2\\\\\n",
       "\t\"parent.env\" & 0.02  &  1.32 & 0.02  &  1.32 &   2.3\\\\\n",
       "\\end{tabular}\n"
      ],
      "text/markdown": [
       "**$by.self** = \n",
       "| <!--/--> | self.time | self.pct | total.time | total.pct | mem.total |\n",
       "|---|---|---|---|---|---|\n",
       "| \"sample.int\" | 0.62  | 40.79 | 0.64  | 42.11 | 345.4 |\n",
       "| \"mean\" | 0.40  | 26.32 | 1.38  | 90.79 | 791.4 |\n",
       "| \"sample\" | 0.22  | 14.47 | 0.86  | 56.58 | 484.3 |\n",
       "| \"mean.default\" | 0.10  |  6.58 | 0.12  |  7.89 |  79.9 |\n",
       "| \"length\" | 0.06  |  3.95 | 0.06  |  3.95 |  34.1 |\n",
       "| \"factor\" | 0.04  |  2.63 | 0.04  |  2.63 |   4.7 |\n",
       "| \"get_bootstrapped_means\" | 0.02  |  1.32 | 1.40  | 92.11 | 791.4 |\n",
       "| \"lazyLoadDBfetch\" | 0.02  |  1.32 | 0.02  |  1.32 |   2.8 |\n",
       "| \"names\" | 0.02  |  1.32 | 0.02  |  1.32 |   2.2 |\n",
       "| \"parent.env\" | 0.02  |  1.32 | 0.02  |  1.32 |   2.3 |\n",
       "\n"
      ],
      "text/plain": [
       "$by.self\n",
       "                         self.time self.pct total.time total.pct mem.total\n",
       "\"sample.int\"                  0.62    40.79       0.64     42.11     345.4\n",
       "\"mean\"                        0.40    26.32       1.38     90.79     791.4\n",
       "\"sample\"                      0.22    14.47       0.86     56.58     484.3\n",
       "\"mean.default\"                0.10     6.58       0.12      7.89      79.9\n",
       "\"length\"                      0.06     3.95       0.06      3.95      34.1\n",
       "\"factor\"                      0.04     2.63       0.04      2.63       4.7\n",
       "\"get_bootstrapped_means\"      0.02     1.32       1.40     92.11     791.4\n",
       "\"lazyLoadDBfetch\"             0.02     1.32       0.02      1.32       2.8\n",
       "\"names\"                       0.02     1.32       0.02      1.32       2.2\n",
       "\"parent.env\"                  0.02     1.32       0.02      1.32       2.3\n"
      ]
     },
     "metadata": {},
     "output_type": "display_data"
    }
   ],
   "source": [
    "# Initiate profiler\n",
    "profile_tempfile <- tempfile()\n",
    "Rprof(profile_tempfile, memory.profiling=TRUE)\n",
    "\n",
    "# Run the pipeline\n",
    "glimpse(chapter3_pipeline(10000))\n",
    "\n",
    "# Stop profiling\n",
    "Rprof()\n",
    "\n",
    "# Print top 20 function calls by cumulative time\n",
    "summaryRprof(profile_tempfile, memory='both')['by.self']\n",
    "\n",
    "# Remove profiling file\n",
    "unlink(profile_tempfile)"
   ]
  },
  {
   "cell_type": "code",
   "execution_count": null,
   "metadata": {},
   "outputs": [],
   "source": []
  }
 ],
 "metadata": {
  "kernelspec": {
   "display_name": "R",
   "language": "R",
   "name": "ir"
  },
  "language_info": {
   "codemirror_mode": "r",
   "file_extension": ".r",
   "mimetype": "text/x-r-source",
   "name": "R",
   "pygments_lexer": "r",
   "version": "3.6.1"
  }
 },
 "nbformat": 4,
 "nbformat_minor": 4
}

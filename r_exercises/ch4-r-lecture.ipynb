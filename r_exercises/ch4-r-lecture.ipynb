{
 "cells": [
  {
   "cell_type": "markdown",
   "metadata": {},
   "source": [
    "# Chapter 4\n",
    "\n",
    "This notebook contains the commands that are shown in the lecture 3."
   ]
  },
  {
   "cell_type": "code",
   "execution_count": 2,
   "metadata": {},
   "outputs": [],
   "source": [
    "library(tidyverse)\n",
    "library(lubridate)"
   ]
  },
  {
   "cell_type": "code",
   "execution_count": 3,
   "metadata": {},
   "outputs": [],
   "source": [
    "load_filesizes <- function(filesizes_file){\n",
    "    filesizes <- read_table2(filesizes_file, col_names=c('Bytes','MonthsTo2021', 'Files'))\n",
    "    \n",
    "    filesizes <- filesizes %>%\n",
    "        # Remove empty files\n",
    "        filter(Bytes != 0) %>%\n",
    "        # Create a column for log2 of bytes\n",
    "        mutate(BytesLog2 = log2(Bytes)) %>%\n",
    "        # Determine total space S used by N files of size X during date D: S=N*X \n",
    "        mutate(SpaceUsage = Bytes*Files) %>%\n",
    "        # Determine file year and month from the MonthsTo2021-column\n",
    "        mutate(\n",
    "            TotalMonths = 2021*12 - MonthsTo2021 - 1,\n",
    "            Year = TotalMonths %/% 12,\n",
    "            Month = TotalMonths %% 12 +1,\n",
    "            Day = 1\n",
    "        )\n",
    "\n",
    "     # Set year for really old files and files with incorrect timestamps\n",
    "    invalid_years = c((filesizes['Year'] < 2010) | (filesizes['Year'] > 2020))\n",
    "    filesizes[invalid_years, c('Year','Month')] <- NaN\n",
    "    \n",
    "    # Get month names for the correct ordering of Month categories\n",
    "    month_names <- month(seq(1,12), label=TRUE, locale='C')\n",
    "    filesizes <- filesizes %>%\n",
    "        mutate(\n",
    "            # Create Date and get the name for the month\n",
    "            Date = make_datetime(Year, Month, Day),\n",
    "            # Set Month \n",
    "            Month=month(Month, label=TRUE, locale='C'),\n",
    "            # Set Month to be an ordered categorical with predefined levels \n",
    "            Month=factor(Month, ordered=TRUE, levels=month_names))\n",
    "    filesizes <- filesizes %>%\n",
    "        # Sort data based on Date and BytesLog2\n",
    "        arrange(Date, BytesLog2) %>%\n",
    "        # Remove old columns\n",
    "        select(-MonthsTo2021,-TotalMonths,-Day)\n",
    "    return(filesizes)\n",
    "}\n",
    "\n",
    "aggregate_filesize_data <- function(data, grouping, target, agg_function) {\n",
    "    data_relevant <- data %>%\n",
    "        # Drop rows with NaNs (invalid years)\n",
    "        drop_na() %>%\n",
    "        # Pick relevant columns\n",
    "        select_at(vars(c(grouping, target))) %>%\n",
    "        # Change grouping to category for prettier plotting\n",
    "        mutate_at(vars(grouping), as.factor)\n",
    "\n",
    "    # Aggregate data\n",
    "    data_aggregated <- data_relevant %>%\n",
    "        group_by_at((grouping)) %>%\n",
    "        summarize_at(vars(target), agg_function) %>%\n",
    "        ungroup()\n",
    "\n",
    "    return(data_aggregated)\n",
    "}\n",
    "\n",
    "get_bootstrapped_means <- function(dataset, target_col, weight_col, n_means=1000) {\n",
    "    # Pick relevant columns\n",
    "    # Pick target data column and convert it to integer\n",
    "    target_data <- as.numeric(as.character(dataset[[target_col]]))\n",
    "    # Pick weight data column\n",
    "    weight_data <- dataset[[weight_col]]\n",
    "    weight_data <- weight_data/sum(weight_data)\n",
    "\n",
    "    # Create means vector\n",
    "    means <- numeric(n_means)\n",
    "    for (i in seq(n_means)) {\n",
    "        # Calculate resampled mean\n",
    "        means[[i]] <- mean(sample(target_data, 100, replace=TRUE, prob=weight_data))\n",
    "    }\n",
    "    return(means)\n",
    "}\n",
    "\n",
    "bootstrap_byteslog2_mean <- function(dataset, group_variable, target_variable, n_means=1000) {\n",
    "    \n",
    "    bootstrapping_function <- function(x) get_bootstrapped_means(x, 'BytesLog2', target_variable, n_means=n_means)\n",
    "    \n",
    "    bootstrapped_means <- dataset %>%\n",
    "        group_by_at(vars(group_variable)) %>%\n",
    "        nest() %>%\n",
    "        mutate(\n",
    "            SampledMeans=map(data, bootstrapping_function),\n",
    "            Mean=map(SampledMeans, mean)\n",
    "        ) %>%\n",
    "        select(-data)\n",
    "    \n",
    "    return(bootstrapped_means)\n",
    "}"
   ]
  },
  {
   "cell_type": "code",
   "execution_count": 7,
   "metadata": {},
   "outputs": [],
   "source": [
    "\n",
    "chapter3_pipeline <- function(n_means=10000) {\n",
    "\n",
    "    filesizes <- load_filesizes('../data/filesizes_timestamps.txt')\n",
    "\n",
    "    yearly_bytes_sum <- aggregate_filesize_data(filesizes, c('Year','BytesLog2'), c('Files', 'SpaceUsage'), sum)\n",
    "\n",
    "    bootstrapped_yearly_means <- yearly_bytes_sum %>%\n",
    "        bootstrap_byteslog2_mean('Year', 'Files', n_means=n_means) %>%\n",
    "        select(Year, Mean)\n",
    "\n",
    "    return(bootstrapped_yearly_means)\n",
    "}\n",
    "\n"
   ]
  },
  {
   "cell_type": "code",
   "execution_count": 14,
   "metadata": {},
   "outputs": [
    {
     "name": "stderr",
     "output_type": "stream",
     "text": [
      "Parsed with column specification:\n",
      "cols(\n",
      "  Bytes = col_double(),\n",
      "  MonthsTo2021 = col_double(),\n",
      "  Files = col_double()\n",
      ")\n"
     ]
    },
    {
     "name": "stdout",
     "output_type": "stream",
     "text": [
      "Observations: 11\n",
      "Variables: 2\n",
      "$ Year <fct> 2010, 2011, 2012, 2013, 2014, 2015, 2016, 2017, 2018, 2019, 2020\n",
      "$ Mean <list> [12.97627, 14.0465, 10.6741, 13.406, 14.04326, 11.75316, 13.545…\n"
     ]
    },
    {
     "data": {
      "text/html": [
       "<strong>$by.self</strong> = <table>\n",
       "<thead><tr><th></th><th scope=col>self.time</th><th scope=col>self.pct</th><th scope=col>total.time</th><th scope=col>total.pct</th><th scope=col>mem.total</th></tr></thead>\n",
       "<tbody>\n",
       "\t<tr><th scope=row>\"sample.int\"</th><td>0.48 </td><td>39.34</td><td>0.52 </td><td>42.62</td><td>352.5</td></tr>\n",
       "\t<tr><th scope=row>\"mean\"</th><td>0.34 </td><td>27.87</td><td>1.10 </td><td>90.16</td><td>741.4</td></tr>\n",
       "\t<tr><th scope=row>\"mean.default\"</th><td>0.14 </td><td>11.48</td><td>0.14 </td><td>11.48</td><td>108.3</td></tr>\n",
       "\t<tr><th scope=row>\"sample\"</th><td>0.10 </td><td> 8.20</td><td>0.62 </td><td>50.82</td><td>434.5</td></tr>\n",
       "\t<tr><th scope=row>\"get_bootstrapped_means\"</th><td>0.04 </td><td> 3.28</td><td>1.14 </td><td>93.44</td><td>773.8</td></tr>\n",
       "\t<tr><th scope=row>\"(\"</th><td>0.02 </td><td> 1.64</td><td>0.02 </td><td> 1.64</td><td> 18.0</td></tr>\n",
       "\t<tr><th scope=row>\"factor\"</th><td>0.02 </td><td> 1.64</td><td>0.02 </td><td> 1.64</td><td>  0.0</td></tr>\n",
       "\t<tr><th scope=row>\"gzfile\"</th><td>0.02 </td><td> 1.64</td><td>0.02 </td><td> 1.64</td><td> 15.1</td></tr>\n",
       "\t<tr><th scope=row>\"is_formulaish\"</th><td>0.02 </td><td> 1.64</td><td>0.02 </td><td> 1.64</td><td>  0.0</td></tr>\n",
       "\t<tr><th scope=row>\"length\"</th><td>0.02 </td><td> 1.64</td><td>0.02 </td><td> 1.64</td><td>  0.0</td></tr>\n",
       "\t<tr><th scope=row>\"unique\"</th><td>0.02 </td><td> 1.64</td><td>0.02 </td><td> 1.64</td><td>  2.6</td></tr>\n",
       "</tbody>\n",
       "</table>\n"
      ],
      "text/latex": [
       "\\textbf{\\$by.self} = \\begin{tabular}{r|lllll}\n",
       "  & self.time & self.pct & total.time & total.pct & mem.total\\\\\n",
       "\\hline\n",
       "\t\"sample.int\" & 0.48  & 39.34 & 0.52  & 42.62 & 352.5\\\\\n",
       "\t\"mean\" & 0.34  & 27.87 & 1.10  & 90.16 & 741.4\\\\\n",
       "\t\"mean.default\" & 0.14  & 11.48 & 0.14  & 11.48 & 108.3\\\\\n",
       "\t\"sample\" & 0.10  &  8.20 & 0.62  & 50.82 & 434.5\\\\\n",
       "\t\"get\\_bootstrapped\\_means\" & 0.04  &  3.28 & 1.14  & 93.44 & 773.8\\\\\n",
       "\t\"(\" & 0.02  &  1.64 & 0.02  &  1.64 &  18.0\\\\\n",
       "\t\"factor\" & 0.02  &  1.64 & 0.02  &  1.64 &   0.0\\\\\n",
       "\t\"gzfile\" & 0.02  &  1.64 & 0.02  &  1.64 &  15.1\\\\\n",
       "\t\"is\\_formulaish\" & 0.02  &  1.64 & 0.02  &  1.64 &   0.0\\\\\n",
       "\t\"length\" & 0.02  &  1.64 & 0.02  &  1.64 &   0.0\\\\\n",
       "\t\"unique\" & 0.02  &  1.64 & 0.02  &  1.64 &   2.6\\\\\n",
       "\\end{tabular}\n"
      ],
      "text/markdown": [
       "**$by.self** = \n",
       "| <!--/--> | self.time | self.pct | total.time | total.pct | mem.total |\n",
       "|---|---|---|---|---|---|\n",
       "| \"sample.int\" | 0.48  | 39.34 | 0.52  | 42.62 | 352.5 |\n",
       "| \"mean\" | 0.34  | 27.87 | 1.10  | 90.16 | 741.4 |\n",
       "| \"mean.default\" | 0.14  | 11.48 | 0.14  | 11.48 | 108.3 |\n",
       "| \"sample\" | 0.10  |  8.20 | 0.62  | 50.82 | 434.5 |\n",
       "| \"get_bootstrapped_means\" | 0.04  |  3.28 | 1.14  | 93.44 | 773.8 |\n",
       "| \"(\" | 0.02  |  1.64 | 0.02  |  1.64 |  18.0 |\n",
       "| \"factor\" | 0.02  |  1.64 | 0.02  |  1.64 |   0.0 |\n",
       "| \"gzfile\" | 0.02  |  1.64 | 0.02  |  1.64 |  15.1 |\n",
       "| \"is_formulaish\" | 0.02  |  1.64 | 0.02  |  1.64 |   0.0 |\n",
       "| \"length\" | 0.02  |  1.64 | 0.02  |  1.64 |   0.0 |\n",
       "| \"unique\" | 0.02  |  1.64 | 0.02  |  1.64 |   2.6 |\n",
       "\n"
      ],
      "text/plain": [
       "$by.self\n",
       "                         self.time self.pct total.time total.pct mem.total\n",
       "\"sample.int\"                  0.48    39.34       0.52     42.62     352.5\n",
       "\"mean\"                        0.34    27.87       1.10     90.16     741.4\n",
       "\"mean.default\"                0.14    11.48       0.14     11.48     108.3\n",
       "\"sample\"                      0.10     8.20       0.62     50.82     434.5\n",
       "\"get_bootstrapped_means\"      0.04     3.28       1.14     93.44     773.8\n",
       "\"(\"                           0.02     1.64       0.02      1.64      18.0\n",
       "\"factor\"                      0.02     1.64       0.02      1.64       0.0\n",
       "\"gzfile\"                      0.02     1.64       0.02      1.64      15.1\n",
       "\"is_formulaish\"               0.02     1.64       0.02      1.64       0.0\n",
       "\"length\"                      0.02     1.64       0.02      1.64       0.0\n",
       "\"unique\"                      0.02     1.64       0.02      1.64       2.6\n"
      ]
     },
     "metadata": {},
     "output_type": "display_data"
    }
   ],
   "source": [
    "# Initiate profiler\n",
    "profile_tempfile <- tempfile()\n",
    "Rprof(profile_tempfile, memory.profiling=TRUE)\n",
    "\n",
    "# Run the pipeline\n",
    "glimpse(chapter3_pipeline(10000))\n",
    "\n",
    "# Stop profiling\n",
    "Rprof()\n",
    "\n",
    "# Print top 20 function calls by cumulative time\n",
    "summaryRprof(profile_tempfile, memory='both')['by.self']\n",
    "\n",
    "# Remove profiling file\n",
    "unlink(profile_tempfile)"
   ]
  },
  {
   "cell_type": "code",
   "execution_count": 72,
   "metadata": {},
   "outputs": [
    {
     "name": "stdout",
     "output_type": "stream",
     "text": [
      "Time taken:\n",
      "\n",
      "1 thread: 4.58\n",
      "4 threads: 1.85\n",
      "\n",
      "Speedup: 2.48"
     ]
    }
   ],
   "source": [
    "cat(\"\n",
    "A <- matrix(runif(4000*4000), ncol=4000)\n",
    "A <- A %*% t(A)\n",
    "\n",
    "time_1 = Sys.time()\n",
    "A_inv <- solve(A)\n",
    "time_2 = Sys.time()\n",
    "print(as.double(time_2 - time_1))\n",
    "\", file=\"omp_test.R\")\n",
    "\n",
    "Sys.setenv(OMP_NUM_THREADS=\"1\")\n",
    "output <- system('Rscript omp_test.R', intern=TRUE)\n",
    "time_1thread <- as.numeric(str_extract(output, '\\\\d.\\\\d+'))\n",
    "\n",
    "Sys.setenv(OMP_NUM_THREADS=\"4\")\n",
    "output <- system('Rscript omp_test.R', intern=TRUE)\n",
    "time_4thread <- as.numeric(str_extract(output, '\\\\d.\\\\d+'))\n",
    "\n",
    "cat(sprintf(\"Time taken:\\n\\n1 thread: %.2f\\n4 threads: %.2f\\n\\nSpeedup: %.2f\", time_1thread, time_4thread, time_1thread/time_4thread))"
   ]
  },
  {
   "cell_type": "code",
   "execution_count": null,
   "metadata": {},
   "outputs": [],
   "source": []
  }
 ],
 "metadata": {
  "kernelspec": {
   "display_name": "R",
   "language": "R",
   "name": "ir"
  },
  "language_info": {
   "codemirror_mode": "r",
   "file_extension": ".r",
   "mimetype": "text/x-r-source",
   "name": "R",
   "pygments_lexer": "r",
   "version": "3.6.1"
  }
 },
 "nbformat": 4,
 "nbformat_minor": 4
}

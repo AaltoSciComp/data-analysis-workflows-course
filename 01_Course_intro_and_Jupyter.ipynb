{
 "cells": [
  {
   "cell_type": "markdown",
   "metadata": {},
   "source": [
    "# Introduction\n",
    "## Goals\n",
    "By the end of this course, you should be able to\n",
    "- Do basic data analysis using R or Python/Pandas, with a special emphasis on\n",
    "  - triton, or other similar HPC cluster environments\n",
    "  - workflows, I/O strategies etc. that work on HPC clusters.\n",
    "\n",
    "What this course is NOT:\n",
    "- A basic course in programming. We don't expect you to have prior knowledge of R or Python, but some programming experience is required.\n",
    "- A basic course in statistics / machine learning. As part of the course we'll do some simple stuff, but we expect that you either understand the statistics from before or learn it on your own.\n",
    "\n",
    "Topics that we're going to cover\n",
    "- The dataframe data structure, and how it relates to other common data structures.\n",
    "- Working with dataframes. Indexing, etc.\n",
    "- Visualizing your results."
   ]
  },
  {
   "cell_type": "markdown",
   "metadata": {},
   "source": [
    "# Course practicalities\n",
    "* Six sessions, three on R and three on Python.  Content is mostly the same, so come to the parts you would like (or both)\n",
    "* Goal is hands-on work with the help of lots of examples - not just lectures with separate exercises"
   ]
  },
  {
   "cell_type": "markdown",
   "metadata": {},
   "source": [
    "# Jupyter\n",
    "* Jupyter (https://jupyter.org) is a web-based \"notebook\": lets you intersperse code and writing together in an interactive format... like this:"
   ]
  },
  {
   "cell_type": "code",
   "execution_count": 2,
   "metadata": {},
   "outputs": [
    {
     "data": {
      "text/plain": [
       "55"
      ]
     },
     "execution_count": 2,
     "metadata": {},
     "output_type": "execute_result"
    }
   ],
   "source": [
    "sum(range(0,11))"
   ]
  },
  {
   "cell_type": "markdown",
   "metadata": {},
   "source": [
    "* Jupyter has become more and more popular these days, as exploration and interactivity is more important than raw computing power\n",
    "* Jupyter has limitations: in a shared environment, not good for HPC work"
   ]
  },
  {
   "cell_type": "markdown",
   "metadata": {},
   "source": [
    "# jupyter.triton.aalto.fi\n",
    "* This is an instance of JupyterHub, which is a multi-user server that provides access to Triton data storage directly\n",
    "* It is not for computationally or memory intensive work\n",
    "* The service is new and still evolving - we will have to see how it comes out."
   ]
  },
  {
   "cell_type": "markdown",
   "metadata": {},
   "source": [
    "# Using JupyterHub in this course\n",
    "* Go to jupyter.triton.aalto.fi and log on with your Aalto credential\n",
    "* Don't use one of the memory-intensive server types: 2G for 10h is plenty for this course.\n",
    "* Go to `work/`, which is your $WRKDIR.  Make some sort of folder to keep your stuff in.\n",
    "* ..."
   ]
  },
  {
   "cell_type": "markdown",
   "metadata": {},
   "source": [
    "# Using notebooks"
   ]
  },
  {
   "cell_type": "markdown",
   "metadata": {},
   "source": [
    "# What's in a notebook?\n",
    "* Web UI\n",
    "    * This is what you see here,  Some fancy web application\n",
    "* Kernel (code) running in background\n",
    "    * Jupyter isn't just Python: there are different languages.  These all run on the server, as you.\n",
    "    * They are normal Python (etc) processes.\n",
    "    * Science-IT can install and manage them for you.\n",
    "* Saved file: just JSON data, can visualize without running.\n",
    "    * Github, for example, renders things automatically.\n",
    "* Lots of different extensions, etc.  Science-IT manages all of these for you."
   ]
  },
  {
   "cell_type": "markdown",
   "metadata": {},
   "source": [
    "# Shortcuts and tips\n",
    "* To be efficient, you really should learn just a few keyboard shortcuts.  Check the help menu for more.\n",
    "* There is command mode and edit mode\n",
    "    * ENTER: switch to edit mode\n",
    "    * ESC: switch to command mode to use arrow keys to navigate\n",
    "* Edit mode:\n",
    "    * Control-ENTER: run cell, keep editing current one.\n",
    "    * Shift-ENTER: run cell, new cell below\n",
    "* Command mode:\n",
    "    * \"a\": insert cell above\n",
    "    * \"b\": insert cell below\n",
    "    * \"m\": change cell type to markdown (\"y\" back to code)\n",
    "    * SPACE: scroll down (Shift-SPACE: up)\n",
    "    \n",
    "\n"
   ]
  },
  {
   "cell_type": "code",
   "execution_count": null,
   "metadata": {},
   "outputs": [],
   "source": []
  }
 ],
 "metadata": {
  "kernelspec": {
   "display_name": "Python 3/anaconda3/latest",
   "language": "python",
   "name": "python3"
  },
  "language_info": {
   "codemirror_mode": {
    "name": "ipython",
    "version": 3
   },
   "file_extension": ".py",
   "mimetype": "text/x-python",
   "name": "python",
   "nbconvert_exporter": "python",
   "pygments_lexer": "ipython3",
   "version": "3.6.4"
  },
  "varInspector": {
   "cols": {
    "lenName": 16,
    "lenType": 16,
    "lenVar": 40
   },
   "kernels_config": {
    "python": {
     "delete_cmd_postfix": "",
     "delete_cmd_prefix": "del ",
     "library": "var_list.py",
     "varRefreshCmd": "print(var_dic_list())"
    },
    "r": {
     "delete_cmd_postfix": ") ",
     "delete_cmd_prefix": "rm(",
     "library": "var_list.r",
     "varRefreshCmd": "cat(var_dic_list()) "
    }
   },
   "types_to_exclude": [
    "module",
    "function",
    "builtin_function_or_method",
    "instance",
    "_Feature"
   ],
   "window_display": false
  }
 },
 "nbformat": 4,
 "nbformat_minor": 2
}

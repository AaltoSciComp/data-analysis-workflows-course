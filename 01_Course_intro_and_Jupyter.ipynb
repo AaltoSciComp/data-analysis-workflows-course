{
 "cells": [
  {
   "cell_type": "markdown",
   "metadata": {},
   "source": [
    "# Introduction\n",
    "## Goals\n",
    "By the end of this course, you should be able to\n",
    "- Do basic data analysis using R or Python/Pandas, with a special emphasis on\n",
    "  - The practical side of things you might not learn in academic courses\n",
    "  - Triton, or other similar HPC cluster environments\n",
    "  - workflows and strategies that work in research\n",
    "\n",
    "What this course is NOT:\n",
    "- A basic course in programming. We don't expect you to have prior knowledge of R or Python, but some programming experience is required.\n",
    "- A basic course in statistics / machine learning. As part of the course we'll do some simple stuff, but we expect that you either understand the statistics from before or learn it on your own.\n",
    "\n",
    "Topics that we're going to cover\n",
    "- The dataframe data structure, and how it relates to other common data structures.\n",
    "- Input/output and I/O optimization\n",
    "- Working with dataframes. Indexing, etc.\n",
    "- Visualizing your results.\n",
    "- Profiling and optimizing\n",
    "- Debugging\n"
   ]
  },
  {
   "cell_type": "markdown",
   "metadata": {},
   "source": [
    "# Course practicalities\n",
    "* Six sessions, three on R and three on Python.  Content is mostly the same, so come to the parts you would like (or both)\n",
    "* Goal is hands-on work with the help of lots of examples - not just lectures with separate exercises"
   ]
  },
  {
   "cell_type": "markdown",
   "metadata": {},
   "source": [
    "# Jupyter\n",
    "* Jupyter (https://jupyter.org) is a web-based \"notebook\": lets you intersperse code and writing together in an interactive format... like this:"
   ]
  },
  {
   "cell_type": "code",
   "execution_count": 1,
   "metadata": {
    "ExecuteTime": {
     "end_time": "2018-04-08T21:43:16.732830Z",
     "start_time": "2018-04-08T21:43:16.723956Z"
    }
   },
   "outputs": [
    {
     "data": {
      "text/plain": [
       "55"
      ]
     },
     "execution_count": 1,
     "metadata": {},
     "output_type": "execute_result"
    }
   ],
   "source": [
    "sum(range(0,11))"
   ]
  },
  {
   "cell_type": "markdown",
   "metadata": {},
   "source": [
    "... or even put plots and stuff inline:"
   ]
  },
  {
   "cell_type": "code",
   "execution_count": 2,
   "metadata": {
    "ExecuteTime": {
     "end_time": "2018-04-08T21:43:17.453493Z",
     "start_time": "2018-04-08T21:43:16.739644Z"
    }
   },
   "outputs": [
    {
     "data": {
      "text/plain": [
       "<matplotlib.collections.PathCollection at 0x2ae744798668>"
      ]
     },
     "execution_count": 2,
     "metadata": {},
     "output_type": "execute_result"
    },
    {
     "data": {
      "image/png": "[encoded data removed]",
      "text/plain": [
       "<Figure size 432x288 with 1 Axes>"
      ]
     },
     "metadata": {},
     "output_type": "display_data"
    }
   ],
   "source": [
    "%matplotlib inline\n",
    "import numpy, pylab\n",
    "pylab.scatter(numpy.random.rand(15), numpy.random.rand(15))"
   ]
  },
  {
   "cell_type": "markdown",
   "metadata": {},
   "source": [
    "# Why?\n",
    "* You might traditionally have code separate from output.  You understand each individually - not good for understanding.\n",
    "* Interleaving code and outputs tells a whole story\n",
    "* The Python philosophy is that you read your code more often than you write - Jupyter supports that.\n",
    "* Jupyter has become more and more popular these days, as exploration and interactivity is more important than raw computing power\n",
    "\n",
    "## Why not?\n",
    "* Notebooks not scriptable - you run it manually.  Not easy to apply notebook code to new data without manual work.\n",
    "* Not an efficient use of HPC resources for CPU/memory heavy analysis analysis.\n",
    "* They don't replace good libraries and modular code.  Should use these.\n",
    "\n",
    "## Our recommendations\n",
    "* Use Jupyter for exploration and light analysis\n",
    "* We *don't* think that Jupyter is the solution for everything, but it *does* make teaching this course easier.\n",
    "* If your way of working is IPython console and you never run stuff from the command line, they will suit you well.\n",
    "* Use normal HPC techniques (summer kickstart course) to do computationally and memory heavy analysis using Triton.  Then use Jupyter to browse results\n",
    "\n",
    "Jupyterlab will change things a *lot* for the better.  (and it is installed on Triton, too)\n",
    "\n"
   ]
  },
  {
   "cell_type": "markdown",
   "metadata": {},
   "source": [
    "# jupyter.triton.aalto.fi\n",
    "* jupyter.triton.aalto.fi is an instance of JupyterHub, which is a multi-user server that provides access to Triton data storage directly.  So, you don't need to run Jupyter yourself, but it is always available for you\n",
    "* It is not for computationally or memory intensive work - because it makes a reservation for your CPU and memory use.\n",
    "* The service is new and still evolving - we will have to see how it comes out.  Let us know what you need"
   ]
  },
  {
   "cell_type": "markdown",
   "metadata": {},
   "source": [
    "# Exercises 1: Using JupyterHub in this course\n",
    "* Go to https://jupyter.triton.aalto.fi and log on with your Aalto credential\n",
    "  * From **Aalto networks**: `eduroam` or `aalto` from an Aalto-managed computer.\n",
    "* Don't use one of the memory-intensive server types: 2G for 10h is plenty for this course.\n",
    "* Go to `work/`, which is your $WRKDIR.  Make some sort of folder to keep your stuff in.  You will be adding this to git later on.\n",
    "* Create a new notebook with type `Python3/anaconda3/latest`\n",
    "* Take the User Interface tour:  Help -> User Interface Tour\n",
    "* Try playing around some"
   ]
  },
  {
   "cell_type": "markdown",
   "metadata": {},
   "source": [
    "# Using notebooks\n",
    "\n",
    "See demo [02_Jupyter_demo_pi.ipynb](02_Jupyter_demo_pi.ipynb)"
   ]
  },
  {
   "cell_type": "markdown",
   "metadata": {},
   "source": [
    "## What's in a notebook?\n",
    "* Web UI\n",
    "    * This is what you see here,  Some fancy web application\n",
    "* Kernel (code) running in background\n",
    "    * Jupyter isn't just Python: there are different languages.  These all run on the server, as you.\n",
    "    * They are normal Python (etc) processes.\n",
    "    * Science-IT can install and manage them for you.\n",
    "* Saved file: just JSON data, can visualize without running.\n",
    "    * Github, for example, renders things automatically.\n",
    "* JupyterHub: login and running on Triton.\n",
    "* Lots of different extensions, etc.  Science-IT manages all of these for you."
   ]
  },
  {
   "cell_type": "markdown",
   "metadata": {
    "ExecuteTime": {
     "end_time": "2018-04-08T21:41:34.627672Z",
     "start_time": "2018-04-08T21:41:34.623688Z"
    }
   },
   "source": [
    "## Other important tips\n"
   ]
  },
  {
   "cell_type": "markdown",
   "metadata": {},
   "source": [
    "## Shortcuts and tips\n",
    "* To be efficient, you really should learn just a few keyboard shortcuts.  Check the help menu for more.\n",
    "* There is command mode and edit mode\n",
    "    * ENTER: switch to edit mode\n",
    "    * ESC: switch to command mode to use arrow keys to navigate\n",
    "* Edit mode:\n",
    "    * Control-ENTER: run cell, keep editing current one.\n",
    "    * Shift-ENTER: run cell, select cell below\n",
    "* Command mode:\n",
    "    * Arrow keys: navigate cells\n",
    "    * \"a\": insert cell above\n",
    "    * \"b\": insert cell below\n",
    "    * \"m\": change cell type to markdown (\"y\" back to code)\n",
    "    * SPACE: scroll down (Shift-SPACE: up)\n",
    "* Cell magics (kernel dependent)\n",
    "    * `%%timeit`, `%time`, `%autoreload`\n",
    "    * "
   ]
  },
  {
   "cell_type": "markdown",
   "metadata": {},
   "source": [
    "# JupyterLab\n",
    "* Next generation of notebooks: compatible, can do both\n",
    "* Change `/tree` or `/notebooks` to `/lab` in your URL!"
   ]
  },
  {
   "cell_type": "code",
   "execution_count": null,
   "metadata": {},
   "outputs": [],
   "source": []
  }
 ],
 "metadata": {
  "kernelspec": {
   "display_name": "Python 3/anaconda3/latest",
   "language": "python",
   "name": "python3"
  },
  "language_info": {
   "codemirror_mode": {
    "name": "ipython",
    "version": 3
   },
   "file_extension": ".py",
   "mimetype": "text/x-python",
   "name": "python",
   "nbconvert_exporter": "python",
   "pygments_lexer": "ipython3",
   "version": "3.6.5"
  },
  "toc": {
   "nav_menu": {},
   "number_sections": true,
   "sideBar": true,
   "skip_h1_title": false,
   "title_cell": "Table of Contents",
   "title_sidebar": "Contents",
   "toc_cell": false,
   "toc_position": {},
   "toc_section_display": true,
   "toc_window_display": false
  },
  "varInspector": {
   "cols": {
    "lenName": 16,
    "lenType": 16,
    "lenVar": 40
   },
   "kernels_config": {
    "python": {
     "delete_cmd_postfix": "",
     "delete_cmd_prefix": "del ",
     "library": "var_list.py",
     "varRefreshCmd": "print(var_dic_list())"
    },
    "r": {
     "delete_cmd_postfix": ") ",
     "delete_cmd_prefix": "rm(",
     "library": "var_list.r",
     "varRefreshCmd": "cat(var_dic_list()) "
    }
   },
   "types_to_exclude": [
    "module",
    "function",
    "builtin_function_or_method",
    "instance",
    "_Feature"
   ],
   "window_display": false
  }
 },
 "nbformat": 4,
 "nbformat_minor": 2
}

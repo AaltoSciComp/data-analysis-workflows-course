{
 "cells": [
  {
   "cell_type": "markdown",
   "metadata": {},
   "source": [
    "# Last voyage of El Faro\n",
    "\n",
    "On October 1, 2015, the cargo ship El Faro was lost with all hands en route from Jacksonville, Florida to San Juan, Puerto Rico. Lets investigate this a little. As this was a US-flagged ship, and it happened relatively recently, there was a thorough investigation by the National Transportation Safety Board (NTSB), and quite a lot of data is publicly available.\n",
    "\n",
    "Official investigation web site: https://www.ntsb.gov/investigations/Pages/2015_elfaro_jax.aspx\n",
    "\n",
    "The track of the ship can be found on the investigation web site under the \"Docket\" link which has a list of documents related to the investigation. Unfortunately you cannot download the tracks in CSV or XLSX format, but the KMZ format works.\n",
    "\n",
    "Full accident report at https://www.ntsb.gov/investigations/AccidentReports/Reports/MAR1701.pdf\n",
    "\n",
    "The other dramatis personae in this story is the hurricane Joaquin. For this we can use the track from http://flhurricane.com/cyclone/stormhistory.php?p=1&year=2015&storm=11 . See also the report at https://www.nhc.noaa.gov/data/tcr/AL112015_Joaquin.pdf .\n",
    "\n",
    "Note the different encodings for dates and longitudes/latitudes in the two datasets!\n",
    "\n",
    "As this is not a course in maritime navigation or geography, to keep it simple you can assume that the earth is flat, and that the coordinates represents points on a uniform square grid. Thus, to calculate distances between two coordinates, you can just use Pythagoras theorem. For those of you not familiar with maritime navigation, distances are usually in units of Nautical Miles (NM), where a NM is a minute of latitude. Thus a difference of one degree of latitude corresponds to 60 NM. For longitudes this does not apply, as the distance between adjacent longitudes becomes shorter as the lines converge towards the poles. But as mentioned, you don't need to worry about that for this exercise (if you want to do a more proper calculation, go ahead, though!).\n",
    "\n",
    "1. Create a dataframe for El Faro with timestamp, longitude, and latitude. **Hint**: The KMZ format is a ZIP archive of an XML format file. If you don't want to install a library specifically to handle KML, you can use the builtin XML parser in python or R. In this case, if you choose to use so-called XPath queries the ones you'll need for this assignment are `./Document/Folder[name=\"VDR Points\"]/Placemark/TimeStamp/` and `./Document/Folder[name=\"VDR Points\"]/Placemark/Point/coordinates` . There are certainly other ways to dig out the data you need from the file, so you are not forced to use XPath if you don't want to.\n",
    "2. Create a plot with the tracks of El Faro and hurricane Joaquin. \n",
    "3. Create a plot of the distance between El Faro and Joaquin as a function of time. Note that as the timestamps of the two datasets are not identical, you must interpolate the coordinates so that you have the coordinates for both the ship and the storm for each point in time you intend to plot.\n",
    "4. Can you spot some outliers in the data? If so, why did they occur? What does this analysis tell about the cause for the ship foundering?"
   ]
  }
 ],
 "metadata": {
  "kernelspec": {
   "display_name": "Python 3",
   "language": "python",
   "name": "python3"
  },
  "language_info": {
   "codemirror_mode": {
    "name": "ipython",
    "version": 3
   },
   "file_extension": ".py",
   "mimetype": "text/x-python",
   "name": "python",
   "nbconvert_exporter": "python",
   "pygments_lexer": "ipython3",
   "version": "3.6.5"
  }
 },
 "nbformat": 4,
 "nbformat_minor": 2
}
